{
 "cells": [
  {
   "cell_type": "markdown",
   "metadata": {},
   "source": [
    "# Исследование надёжности заёмщиков\n",
    "\n",
    "Заказчик — кредитный отдел банка. Нужно разобраться, влияет ли семейное положение и количество детей клиента на факт погашения кредита в срок. Входные данные от банка — статистика о платёжеспособности клиентов.\n",
    "\n",
    "Результаты исследования будут учтены при построении модели **кредитного скоринга** — специальной системы, которая оценивает способность потенциального заёмщика вернуть кредит банку."
   ]
  },
  {
   "cell_type": "markdown",
   "metadata": {},
   "source": [
    "## Шаг 1. Откройте файл с данными и изучите общую информацию"
   ]
  },
  {
   "cell_type": "markdown",
   "metadata": {},
   "source": [
    "Импортируем библиотеку pandas и сохраним данные в переменной `df`"
   ]
  },
  {
   "cell_type": "code",
   "execution_count": 1,
   "metadata": {},
   "outputs": [],
   "source": [
    "import pandas as pd # импорт библиотеки pandas \n",
    "\n",
    "df = pd.read_csv('/datasets/data.csv') # чтение файла с данными и сохраbнение в df"
   ]
  },
  {
   "cell_type": "markdown",
   "metadata": {},
   "source": [
    "Выведем общую информацию о данных:"
   ]
  },
  {
   "cell_type": "code",
   "execution_count": 2,
   "metadata": {},
   "outputs": [
    {
     "name": "stdout",
     "output_type": "stream",
     "text": [
      "<class 'pandas.core.frame.DataFrame'>\n",
      "RangeIndex: 21525 entries, 0 to 21524\n",
      "Data columns (total 12 columns):\n",
      " #   Column            Non-Null Count  Dtype  \n",
      "---  ------            --------------  -----  \n",
      " 0   children          21525 non-null  int64  \n",
      " 1   days_employed     19351 non-null  float64\n",
      " 2   dob_years         21525 non-null  int64  \n",
      " 3   education         21525 non-null  object \n",
      " 4   education_id      21525 non-null  int64  \n",
      " 5   family_status     21525 non-null  object \n",
      " 6   family_status_id  21525 non-null  int64  \n",
      " 7   gender            21525 non-null  object \n",
      " 8   income_type       21525 non-null  object \n",
      " 9   debt              21525 non-null  int64  \n",
      " 10  total_income      19351 non-null  float64\n",
      " 11  purpose           21525 non-null  object \n",
      "dtypes: float64(2), int64(5), object(5)\n",
      "memory usage: 2.0+ MB\n"
     ]
    }
   ],
   "source": [
    "df.info()"
   ]
  },
  {
   "cell_type": "markdown",
   "metadata": {},
   "source": [
    "Согласно исходным данным, в таблице содержатся следующие названия столбцов:\n",
    "\n",
    "* `children` — количество детей в семье\n",
    "* `days_employed` — общий трудовой стаж в днях\n",
    "* `dob_years` — возраст клиента в годах\n",
    "* `education` — уровень образования клиента\n",
    "* `education_id` — идентификатор уровня образования\n",
    "* `family_status` — семейное положение\n",
    "* `family_status_id` — идентификатор семейного положения\n",
    "* `gender` — пол клиента\n",
    "* `income_type` — тип занятости\n",
    "* `debt` — имел ли задолженность по возврату кредитов\n",
    "* `total_income` — ежемесячный доход\n",
    "* `purpose` — цель получения кредита\n",
    "\n",
    "В названии столбцов нет нарушений общего стиля, все названия понятны и просты."
   ]
  },
  {
   "cell_type": "markdown",
   "metadata": {},
   "source": [
    "Выведем первые 10 значений таблицы\\: "
   ]
  },
  {
   "cell_type": "code",
   "execution_count": 3,
   "metadata": {},
   "outputs": [
    {
     "data": {
      "text/html": [
       "<div>\n",
       "<style scoped>\n",
       "    .dataframe tbody tr th:only-of-type {\n",
       "        vertical-align: middle;\n",
       "    }\n",
       "\n",
       "    .dataframe tbody tr th {\n",
       "        vertical-align: top;\n",
       "    }\n",
       "\n",
       "    .dataframe thead th {\n",
       "        text-align: right;\n",
       "    }\n",
       "</style>\n",
       "<table border=\"1\" class=\"dataframe\">\n",
       "  <thead>\n",
       "    <tr style=\"text-align: right;\">\n",
       "      <th></th>\n",
       "      <th>children</th>\n",
       "      <th>days_employed</th>\n",
       "      <th>dob_years</th>\n",
       "      <th>education</th>\n",
       "      <th>education_id</th>\n",
       "      <th>family_status</th>\n",
       "      <th>family_status_id</th>\n",
       "      <th>gender</th>\n",
       "      <th>income_type</th>\n",
       "      <th>debt</th>\n",
       "      <th>total_income</th>\n",
       "      <th>purpose</th>\n",
       "    </tr>\n",
       "  </thead>\n",
       "  <tbody>\n",
       "    <tr>\n",
       "      <th>0</th>\n",
       "      <td>1</td>\n",
       "      <td>-8437.673028</td>\n",
       "      <td>42</td>\n",
       "      <td>высшее</td>\n",
       "      <td>0</td>\n",
       "      <td>женат / замужем</td>\n",
       "      <td>0</td>\n",
       "      <td>F</td>\n",
       "      <td>сотрудник</td>\n",
       "      <td>0</td>\n",
       "      <td>253875.639453</td>\n",
       "      <td>покупка жилья</td>\n",
       "    </tr>\n",
       "    <tr>\n",
       "      <th>1</th>\n",
       "      <td>1</td>\n",
       "      <td>-4024.803754</td>\n",
       "      <td>36</td>\n",
       "      <td>среднее</td>\n",
       "      <td>1</td>\n",
       "      <td>женат / замужем</td>\n",
       "      <td>0</td>\n",
       "      <td>F</td>\n",
       "      <td>сотрудник</td>\n",
       "      <td>0</td>\n",
       "      <td>112080.014102</td>\n",
       "      <td>приобретение автомобиля</td>\n",
       "    </tr>\n",
       "    <tr>\n",
       "      <th>2</th>\n",
       "      <td>0</td>\n",
       "      <td>-5623.422610</td>\n",
       "      <td>33</td>\n",
       "      <td>Среднее</td>\n",
       "      <td>1</td>\n",
       "      <td>женат / замужем</td>\n",
       "      <td>0</td>\n",
       "      <td>M</td>\n",
       "      <td>сотрудник</td>\n",
       "      <td>0</td>\n",
       "      <td>145885.952297</td>\n",
       "      <td>покупка жилья</td>\n",
       "    </tr>\n",
       "    <tr>\n",
       "      <th>3</th>\n",
       "      <td>3</td>\n",
       "      <td>-4124.747207</td>\n",
       "      <td>32</td>\n",
       "      <td>среднее</td>\n",
       "      <td>1</td>\n",
       "      <td>женат / замужем</td>\n",
       "      <td>0</td>\n",
       "      <td>M</td>\n",
       "      <td>сотрудник</td>\n",
       "      <td>0</td>\n",
       "      <td>267628.550329</td>\n",
       "      <td>дополнительное образование</td>\n",
       "    </tr>\n",
       "    <tr>\n",
       "      <th>4</th>\n",
       "      <td>0</td>\n",
       "      <td>340266.072047</td>\n",
       "      <td>53</td>\n",
       "      <td>среднее</td>\n",
       "      <td>1</td>\n",
       "      <td>гражданский брак</td>\n",
       "      <td>1</td>\n",
       "      <td>F</td>\n",
       "      <td>пенсионер</td>\n",
       "      <td>0</td>\n",
       "      <td>158616.077870</td>\n",
       "      <td>сыграть свадьбу</td>\n",
       "    </tr>\n",
       "    <tr>\n",
       "      <th>5</th>\n",
       "      <td>0</td>\n",
       "      <td>-926.185831</td>\n",
       "      <td>27</td>\n",
       "      <td>высшее</td>\n",
       "      <td>0</td>\n",
       "      <td>гражданский брак</td>\n",
       "      <td>1</td>\n",
       "      <td>M</td>\n",
       "      <td>компаньон</td>\n",
       "      <td>0</td>\n",
       "      <td>255763.565419</td>\n",
       "      <td>покупка жилья</td>\n",
       "    </tr>\n",
       "    <tr>\n",
       "      <th>6</th>\n",
       "      <td>0</td>\n",
       "      <td>-2879.202052</td>\n",
       "      <td>43</td>\n",
       "      <td>высшее</td>\n",
       "      <td>0</td>\n",
       "      <td>женат / замужем</td>\n",
       "      <td>0</td>\n",
       "      <td>F</td>\n",
       "      <td>компаньон</td>\n",
       "      <td>0</td>\n",
       "      <td>240525.971920</td>\n",
       "      <td>операции с жильем</td>\n",
       "    </tr>\n",
       "    <tr>\n",
       "      <th>7</th>\n",
       "      <td>0</td>\n",
       "      <td>-152.779569</td>\n",
       "      <td>50</td>\n",
       "      <td>СРЕДНЕЕ</td>\n",
       "      <td>1</td>\n",
       "      <td>женат / замужем</td>\n",
       "      <td>0</td>\n",
       "      <td>M</td>\n",
       "      <td>сотрудник</td>\n",
       "      <td>0</td>\n",
       "      <td>135823.934197</td>\n",
       "      <td>образование</td>\n",
       "    </tr>\n",
       "    <tr>\n",
       "      <th>8</th>\n",
       "      <td>2</td>\n",
       "      <td>-6929.865299</td>\n",
       "      <td>35</td>\n",
       "      <td>ВЫСШЕЕ</td>\n",
       "      <td>0</td>\n",
       "      <td>гражданский брак</td>\n",
       "      <td>1</td>\n",
       "      <td>F</td>\n",
       "      <td>сотрудник</td>\n",
       "      <td>0</td>\n",
       "      <td>95856.832424</td>\n",
       "      <td>на проведение свадьбы</td>\n",
       "    </tr>\n",
       "    <tr>\n",
       "      <th>9</th>\n",
       "      <td>0</td>\n",
       "      <td>-2188.756445</td>\n",
       "      <td>41</td>\n",
       "      <td>среднее</td>\n",
       "      <td>1</td>\n",
       "      <td>женат / замужем</td>\n",
       "      <td>0</td>\n",
       "      <td>M</td>\n",
       "      <td>сотрудник</td>\n",
       "      <td>0</td>\n",
       "      <td>144425.938277</td>\n",
       "      <td>покупка жилья для семьи</td>\n",
       "    </tr>\n",
       "  </tbody>\n",
       "</table>\n",
       "</div>"
      ],
      "text/plain": [
       "   children  days_employed  dob_years education  education_id  \\\n",
       "0         1   -8437.673028         42    высшее             0   \n",
       "1         1   -4024.803754         36   среднее             1   \n",
       "2         0   -5623.422610         33   Среднее             1   \n",
       "3         3   -4124.747207         32   среднее             1   \n",
       "4         0  340266.072047         53   среднее             1   \n",
       "5         0    -926.185831         27    высшее             0   \n",
       "6         0   -2879.202052         43    высшее             0   \n",
       "7         0    -152.779569         50   СРЕДНЕЕ             1   \n",
       "8         2   -6929.865299         35    ВЫСШЕЕ             0   \n",
       "9         0   -2188.756445         41   среднее             1   \n",
       "\n",
       "      family_status  family_status_id gender income_type  debt   total_income  \\\n",
       "0   женат / замужем                 0      F   сотрудник     0  253875.639453   \n",
       "1   женат / замужем                 0      F   сотрудник     0  112080.014102   \n",
       "2   женат / замужем                 0      M   сотрудник     0  145885.952297   \n",
       "3   женат / замужем                 0      M   сотрудник     0  267628.550329   \n",
       "4  гражданский брак                 1      F   пенсионер     0  158616.077870   \n",
       "5  гражданский брак                 1      M   компаньон     0  255763.565419   \n",
       "6   женат / замужем                 0      F   компаньон     0  240525.971920   \n",
       "7   женат / замужем                 0      M   сотрудник     0  135823.934197   \n",
       "8  гражданский брак                 1      F   сотрудник     0   95856.832424   \n",
       "9   женат / замужем                 0      M   сотрудник     0  144425.938277   \n",
       "\n",
       "                      purpose  \n",
       "0               покупка жилья  \n",
       "1     приобретение автомобиля  \n",
       "2               покупка жилья  \n",
       "3  дополнительное образование  \n",
       "4             сыграть свадьбу  \n",
       "5               покупка жилья  \n",
       "6           операции с жильем  \n",
       "7                 образование  \n",
       "8       на проведение свадьбы  \n",
       "9     покупка жилья для семьи  "
      ]
     },
     "execution_count": 3,
     "metadata": {},
     "output_type": "execute_result"
    }
   ],
   "source": [
    "df.head(10)"
   ]
  },
  {
   "cell_type": "markdown",
   "metadata": {},
   "source": [
    "**Вывод**"
   ]
  },
  {
   "cell_type": "markdown",
   "metadata": {},
   "source": [
    "В каждой строке содержится информация о каждом заёмщике. \n",
    "\n",
    "В первых строках видно, что некоторые данные содержат значения с верхним регистром и отрицательные значения. А так же значения, которые являются возможными артефактами: например в столбце о количестве дней стажа - `340266.072047`.\n",
    "\n",
    "В столбце `education` есть одинаковые значения, но с разным регистром, что нужно исправить.\n",
    "\n",
    "Каждое значение столбца `education` соответствует уникальному значению в столбце `education_id`, так же как и в столбцах `family_status` и `family_status_id`.\n",
    "\n",
    "В столбцах `days_employed` и `total_income` таблицы содержатся пропуски, которые, возможно, связаны между собой. "
   ]
  },
  {
   "cell_type": "markdown",
   "metadata": {},
   "source": [
    "## Шаг 2. Предобработка данных"
   ]
  },
  {
   "cell_type": "markdown",
   "metadata": {},
   "source": [
    "### Обработка пропусков"
   ]
  },
  {
   "cell_type": "markdown",
   "metadata": {},
   "source": [
    "Выявим количество пропусков в таблице и выведем те строки, в которых пропущены значения."
   ]
  },
  {
   "cell_type": "code",
   "execution_count": 4,
   "metadata": {},
   "outputs": [
    {
     "data": {
      "text/plain": [
       "children               0\n",
       "days_employed       2174\n",
       "dob_years              0\n",
       "education              0\n",
       "education_id           0\n",
       "family_status          0\n",
       "family_status_id       0\n",
       "gender                 0\n",
       "income_type            0\n",
       "debt                   0\n",
       "total_income        2174\n",
       "purpose                0\n",
       "dtype: int64"
      ]
     },
     "execution_count": 4,
     "metadata": {},
     "output_type": "execute_result"
    }
   ],
   "source": [
    "df.isna().sum() # вывод количества пропусков"
   ]
  },
  {
   "cell_type": "code",
   "execution_count": 5,
   "metadata": {
    "scrolled": true
   },
   "outputs": [
    {
     "data": {
      "text/html": [
       "<div>\n",
       "<style scoped>\n",
       "    .dataframe tbody tr th:only-of-type {\n",
       "        vertical-align: middle;\n",
       "    }\n",
       "\n",
       "    .dataframe tbody tr th {\n",
       "        vertical-align: top;\n",
       "    }\n",
       "\n",
       "    .dataframe thead th {\n",
       "        text-align: right;\n",
       "    }\n",
       "</style>\n",
       "<table border=\"1\" class=\"dataframe\">\n",
       "  <thead>\n",
       "    <tr style=\"text-align: right;\">\n",
       "      <th></th>\n",
       "      <th>children</th>\n",
       "      <th>days_employed</th>\n",
       "      <th>dob_years</th>\n",
       "      <th>education</th>\n",
       "      <th>education_id</th>\n",
       "      <th>family_status</th>\n",
       "      <th>family_status_id</th>\n",
       "      <th>gender</th>\n",
       "      <th>income_type</th>\n",
       "      <th>debt</th>\n",
       "      <th>total_income</th>\n",
       "      <th>purpose</th>\n",
       "    </tr>\n",
       "  </thead>\n",
       "  <tbody>\n",
       "    <tr>\n",
       "      <th>12</th>\n",
       "      <td>0</td>\n",
       "      <td>NaN</td>\n",
       "      <td>65</td>\n",
       "      <td>среднее</td>\n",
       "      <td>1</td>\n",
       "      <td>гражданский брак</td>\n",
       "      <td>1</td>\n",
       "      <td>M</td>\n",
       "      <td>пенсионер</td>\n",
       "      <td>0</td>\n",
       "      <td>NaN</td>\n",
       "      <td>сыграть свадьбу</td>\n",
       "    </tr>\n",
       "    <tr>\n",
       "      <th>26</th>\n",
       "      <td>0</td>\n",
       "      <td>NaN</td>\n",
       "      <td>41</td>\n",
       "      <td>среднее</td>\n",
       "      <td>1</td>\n",
       "      <td>женат / замужем</td>\n",
       "      <td>0</td>\n",
       "      <td>M</td>\n",
       "      <td>госслужащий</td>\n",
       "      <td>0</td>\n",
       "      <td>NaN</td>\n",
       "      <td>образование</td>\n",
       "    </tr>\n",
       "    <tr>\n",
       "      <th>29</th>\n",
       "      <td>0</td>\n",
       "      <td>NaN</td>\n",
       "      <td>63</td>\n",
       "      <td>среднее</td>\n",
       "      <td>1</td>\n",
       "      <td>Не женат / не замужем</td>\n",
       "      <td>4</td>\n",
       "      <td>F</td>\n",
       "      <td>пенсионер</td>\n",
       "      <td>0</td>\n",
       "      <td>NaN</td>\n",
       "      <td>строительство жилой недвижимости</td>\n",
       "    </tr>\n",
       "    <tr>\n",
       "      <th>41</th>\n",
       "      <td>0</td>\n",
       "      <td>NaN</td>\n",
       "      <td>50</td>\n",
       "      <td>среднее</td>\n",
       "      <td>1</td>\n",
       "      <td>женат / замужем</td>\n",
       "      <td>0</td>\n",
       "      <td>F</td>\n",
       "      <td>госслужащий</td>\n",
       "      <td>0</td>\n",
       "      <td>NaN</td>\n",
       "      <td>сделка с подержанным автомобилем</td>\n",
       "    </tr>\n",
       "    <tr>\n",
       "      <th>55</th>\n",
       "      <td>0</td>\n",
       "      <td>NaN</td>\n",
       "      <td>54</td>\n",
       "      <td>среднее</td>\n",
       "      <td>1</td>\n",
       "      <td>гражданский брак</td>\n",
       "      <td>1</td>\n",
       "      <td>F</td>\n",
       "      <td>пенсионер</td>\n",
       "      <td>1</td>\n",
       "      <td>NaN</td>\n",
       "      <td>сыграть свадьбу</td>\n",
       "    </tr>\n",
       "    <tr>\n",
       "      <th>65</th>\n",
       "      <td>0</td>\n",
       "      <td>NaN</td>\n",
       "      <td>21</td>\n",
       "      <td>среднее</td>\n",
       "      <td>1</td>\n",
       "      <td>Не женат / не замужем</td>\n",
       "      <td>4</td>\n",
       "      <td>M</td>\n",
       "      <td>компаньон</td>\n",
       "      <td>0</td>\n",
       "      <td>NaN</td>\n",
       "      <td>операции с коммерческой недвижимостью</td>\n",
       "    </tr>\n",
       "    <tr>\n",
       "      <th>67</th>\n",
       "      <td>0</td>\n",
       "      <td>NaN</td>\n",
       "      <td>52</td>\n",
       "      <td>высшее</td>\n",
       "      <td>0</td>\n",
       "      <td>женат / замужем</td>\n",
       "      <td>0</td>\n",
       "      <td>F</td>\n",
       "      <td>пенсионер</td>\n",
       "      <td>0</td>\n",
       "      <td>NaN</td>\n",
       "      <td>покупка жилья для семьи</td>\n",
       "    </tr>\n",
       "    <tr>\n",
       "      <th>72</th>\n",
       "      <td>1</td>\n",
       "      <td>NaN</td>\n",
       "      <td>32</td>\n",
       "      <td>высшее</td>\n",
       "      <td>0</td>\n",
       "      <td>женат / замужем</td>\n",
       "      <td>0</td>\n",
       "      <td>M</td>\n",
       "      <td>госслужащий</td>\n",
       "      <td>0</td>\n",
       "      <td>NaN</td>\n",
       "      <td>операции с коммерческой недвижимостью</td>\n",
       "    </tr>\n",
       "    <tr>\n",
       "      <th>82</th>\n",
       "      <td>2</td>\n",
       "      <td>NaN</td>\n",
       "      <td>50</td>\n",
       "      <td>высшее</td>\n",
       "      <td>0</td>\n",
       "      <td>женат / замужем</td>\n",
       "      <td>0</td>\n",
       "      <td>F</td>\n",
       "      <td>сотрудник</td>\n",
       "      <td>0</td>\n",
       "      <td>NaN</td>\n",
       "      <td>жилье</td>\n",
       "    </tr>\n",
       "    <tr>\n",
       "      <th>83</th>\n",
       "      <td>0</td>\n",
       "      <td>NaN</td>\n",
       "      <td>52</td>\n",
       "      <td>среднее</td>\n",
       "      <td>1</td>\n",
       "      <td>женат / замужем</td>\n",
       "      <td>0</td>\n",
       "      <td>M</td>\n",
       "      <td>сотрудник</td>\n",
       "      <td>0</td>\n",
       "      <td>NaN</td>\n",
       "      <td>жилье</td>\n",
       "    </tr>\n",
       "  </tbody>\n",
       "</table>\n",
       "</div>"
      ],
      "text/plain": [
       "    children  days_employed  dob_years education  education_id  \\\n",
       "12         0            NaN         65   среднее             1   \n",
       "26         0            NaN         41   среднее             1   \n",
       "29         0            NaN         63   среднее             1   \n",
       "41         0            NaN         50   среднее             1   \n",
       "55         0            NaN         54   среднее             1   \n",
       "65         0            NaN         21   среднее             1   \n",
       "67         0            NaN         52    высшее             0   \n",
       "72         1            NaN         32    высшее             0   \n",
       "82         2            NaN         50    высшее             0   \n",
       "83         0            NaN         52   среднее             1   \n",
       "\n",
       "            family_status  family_status_id gender  income_type  debt  \\\n",
       "12       гражданский брак                 1      M    пенсионер     0   \n",
       "26        женат / замужем                 0      M  госслужащий     0   \n",
       "29  Не женат / не замужем                 4      F    пенсионер     0   \n",
       "41        женат / замужем                 0      F  госслужащий     0   \n",
       "55       гражданский брак                 1      F    пенсионер     1   \n",
       "65  Не женат / не замужем                 4      M    компаньон     0   \n",
       "67        женат / замужем                 0      F    пенсионер     0   \n",
       "72        женат / замужем                 0      M  госслужащий     0   \n",
       "82        женат / замужем                 0      F    сотрудник     0   \n",
       "83        женат / замужем                 0      M    сотрудник     0   \n",
       "\n",
       "    total_income                                purpose  \n",
       "12           NaN                        сыграть свадьбу  \n",
       "26           NaN                            образование  \n",
       "29           NaN       строительство жилой недвижимости  \n",
       "41           NaN       сделка с подержанным автомобилем  \n",
       "55           NaN                        сыграть свадьбу  \n",
       "65           NaN  операции с коммерческой недвижимостью  \n",
       "67           NaN                покупка жилья для семьи  \n",
       "72           NaN  операции с коммерческой недвижимостью  \n",
       "82           NaN                                  жилье  \n",
       "83           NaN                                  жилье  "
      ]
     },
     "execution_count": 5,
     "metadata": {},
     "output_type": "execute_result"
    }
   ],
   "source": [
    "df[df['days_employed'].isna()].head(10) # вывод строк, в которых есть пропуски"
   ]
  },
  {
   "cell_type": "markdown",
   "metadata": {},
   "source": [
    "Видно, что пропущенные значения в столбцах `days_employed` и `total_income` связаны между собой, но не связаны с остальными значениями других строк. Возможно, что заёмщик не указывал свой рабочий стаж и ежемесячный доход.\n",
    "\n",
    "В изначальной задаче нет цели, чтобы проанализировать влияние трудового стажа и дохода на факт погащения кредита в срок, но эти строки данных необходимы в дальнейшем. Соответсвенно есть несколько решений:\n",
    "\n",
    "* заполнить пропущенние значения в таблице нулями и продолжить обработку данных.\n",
    "* заполнить значения в столбце `days_employed` средним значением по всему столбцу и в столбце `total_income` - медианным значением.\n",
    "* заполнить значения в столбцах, как указано выше, но с учетом типа занятости в столбце `income_type` и образованием.\n",
    "\n",
    "Строки с значением 0 могут повлиять на исследование, а замена на средние и медианные значения по всему столбцу, могут исказить исследования, поэтому воспользуемся третьим вариантом."
   ]
  },
  {
   "cell_type": "markdown",
   "metadata": {},
   "source": [
    "Выявим значения в столбце `total_income` по типу занятости `income_type` медианным значением:"
   ]
  },
  {
   "cell_type": "code",
   "execution_count": 6,
   "metadata": {},
   "outputs": [],
   "source": [
    "df['total_income'] = df['total_income']\\\n",
    "                    .fillna(df.groupby(['income_type', 'education_id'])\\\n",
    "                    ['total_income'].transform('median'))"
   ]
  },
  {
   "cell_type": "markdown",
   "metadata": {},
   "source": [
    "Прежде, чем заполнять данные в столбце `days_employed` необходимо выявить артефакты и как они взаимосвязаны между собой."
   ]
  },
  {
   "cell_type": "markdown",
   "metadata": {},
   "source": [
    "По некоторым строкам столбца видно, что отрицательные значения связаны с столбцом `income_type`, то есть с занятостью заёмщика.\n",
    "\n",
    "Проверим гипотезу:"
   ]
  },
  {
   "cell_type": "code",
   "execution_count": 7,
   "metadata": {},
   "outputs": [
    {
     "data": {
      "text/plain": [
       "array(['сотрудник', 'компаньон', 'госслужащий', 'студент',\n",
       "       'предприниматель', 'в декрете'], dtype=object)"
      ]
     },
     "execution_count": 7,
     "metadata": {},
     "output_type": "execute_result"
    }
   ],
   "source": [
    "df[df['days_employed'] <= 0]['income_type'].unique() # выводим уникальные значения столбца при отрицаьтельных значениях"
   ]
  },
  {
   "cell_type": "code",
   "execution_count": 8,
   "metadata": {},
   "outputs": [
    {
     "data": {
      "text/plain": [
       "array(['пенсионер', 'безработный'], dtype=object)"
      ]
     },
     "execution_count": 8,
     "metadata": {},
     "output_type": "execute_result"
    }
   ],
   "source": [
    "df[df['days_employed'] >= 0]['income_type'].unique() # выводим уникальные значения столбца при положительных значениях"
   ]
  },
  {
   "cell_type": "markdown",
   "metadata": {},
   "source": [
    "Гипотеза подтвердилась, соотвественно, необходимо обработать данные в столбце и заменить отрицательные значения на положительные.\n",
    "\n",
    "Заменим отрицательные значения на положительные, умножив их на -1:"
   ]
  },
  {
   "cell_type": "code",
   "execution_count": 9,
   "metadata": {},
   "outputs": [
    {
     "data": {
      "text/html": [
       "<div>\n",
       "<style scoped>\n",
       "    .dataframe tbody tr th:only-of-type {\n",
       "        vertical-align: middle;\n",
       "    }\n",
       "\n",
       "    .dataframe tbody tr th {\n",
       "        vertical-align: top;\n",
       "    }\n",
       "\n",
       "    .dataframe thead th {\n",
       "        text-align: right;\n",
       "    }\n",
       "</style>\n",
       "<table border=\"1\" class=\"dataframe\">\n",
       "  <thead>\n",
       "    <tr style=\"text-align: right;\">\n",
       "      <th></th>\n",
       "      <th>children</th>\n",
       "      <th>days_employed</th>\n",
       "      <th>dob_years</th>\n",
       "      <th>education</th>\n",
       "      <th>education_id</th>\n",
       "      <th>family_status</th>\n",
       "      <th>family_status_id</th>\n",
       "      <th>gender</th>\n",
       "      <th>income_type</th>\n",
       "      <th>debt</th>\n",
       "      <th>total_income</th>\n",
       "      <th>purpose</th>\n",
       "    </tr>\n",
       "  </thead>\n",
       "  <tbody>\n",
       "    <tr>\n",
       "      <th>0</th>\n",
       "      <td>1</td>\n",
       "      <td>8437.673028</td>\n",
       "      <td>42</td>\n",
       "      <td>высшее</td>\n",
       "      <td>0</td>\n",
       "      <td>женат / замужем</td>\n",
       "      <td>0</td>\n",
       "      <td>F</td>\n",
       "      <td>сотрудник</td>\n",
       "      <td>0</td>\n",
       "      <td>253875.639453</td>\n",
       "      <td>покупка жилья</td>\n",
       "    </tr>\n",
       "    <tr>\n",
       "      <th>1</th>\n",
       "      <td>1</td>\n",
       "      <td>4024.803754</td>\n",
       "      <td>36</td>\n",
       "      <td>среднее</td>\n",
       "      <td>1</td>\n",
       "      <td>женат / замужем</td>\n",
       "      <td>0</td>\n",
       "      <td>F</td>\n",
       "      <td>сотрудник</td>\n",
       "      <td>0</td>\n",
       "      <td>112080.014102</td>\n",
       "      <td>приобретение автомобиля</td>\n",
       "    </tr>\n",
       "    <tr>\n",
       "      <th>2</th>\n",
       "      <td>0</td>\n",
       "      <td>5623.422610</td>\n",
       "      <td>33</td>\n",
       "      <td>Среднее</td>\n",
       "      <td>1</td>\n",
       "      <td>женат / замужем</td>\n",
       "      <td>0</td>\n",
       "      <td>M</td>\n",
       "      <td>сотрудник</td>\n",
       "      <td>0</td>\n",
       "      <td>145885.952297</td>\n",
       "      <td>покупка жилья</td>\n",
       "    </tr>\n",
       "    <tr>\n",
       "      <th>3</th>\n",
       "      <td>3</td>\n",
       "      <td>4124.747207</td>\n",
       "      <td>32</td>\n",
       "      <td>среднее</td>\n",
       "      <td>1</td>\n",
       "      <td>женат / замужем</td>\n",
       "      <td>0</td>\n",
       "      <td>M</td>\n",
       "      <td>сотрудник</td>\n",
       "      <td>0</td>\n",
       "      <td>267628.550329</td>\n",
       "      <td>дополнительное образование</td>\n",
       "    </tr>\n",
       "    <tr>\n",
       "      <th>4</th>\n",
       "      <td>0</td>\n",
       "      <td>340266.072047</td>\n",
       "      <td>53</td>\n",
       "      <td>среднее</td>\n",
       "      <td>1</td>\n",
       "      <td>гражданский брак</td>\n",
       "      <td>1</td>\n",
       "      <td>F</td>\n",
       "      <td>пенсионер</td>\n",
       "      <td>0</td>\n",
       "      <td>158616.077870</td>\n",
       "      <td>сыграть свадьбу</td>\n",
       "    </tr>\n",
       "    <tr>\n",
       "      <th>...</th>\n",
       "      <td>...</td>\n",
       "      <td>...</td>\n",
       "      <td>...</td>\n",
       "      <td>...</td>\n",
       "      <td>...</td>\n",
       "      <td>...</td>\n",
       "      <td>...</td>\n",
       "      <td>...</td>\n",
       "      <td>...</td>\n",
       "      <td>...</td>\n",
       "      <td>...</td>\n",
       "      <td>...</td>\n",
       "    </tr>\n",
       "    <tr>\n",
       "      <th>21520</th>\n",
       "      <td>1</td>\n",
       "      <td>4529.316663</td>\n",
       "      <td>43</td>\n",
       "      <td>среднее</td>\n",
       "      <td>1</td>\n",
       "      <td>гражданский брак</td>\n",
       "      <td>1</td>\n",
       "      <td>F</td>\n",
       "      <td>компаньон</td>\n",
       "      <td>0</td>\n",
       "      <td>224791.862382</td>\n",
       "      <td>операции с жильем</td>\n",
       "    </tr>\n",
       "    <tr>\n",
       "      <th>21521</th>\n",
       "      <td>0</td>\n",
       "      <td>343937.404131</td>\n",
       "      <td>67</td>\n",
       "      <td>среднее</td>\n",
       "      <td>1</td>\n",
       "      <td>женат / замужем</td>\n",
       "      <td>0</td>\n",
       "      <td>F</td>\n",
       "      <td>пенсионер</td>\n",
       "      <td>0</td>\n",
       "      <td>155999.806512</td>\n",
       "      <td>сделка с автомобилем</td>\n",
       "    </tr>\n",
       "    <tr>\n",
       "      <th>21522</th>\n",
       "      <td>1</td>\n",
       "      <td>2113.346888</td>\n",
       "      <td>38</td>\n",
       "      <td>среднее</td>\n",
       "      <td>1</td>\n",
       "      <td>гражданский брак</td>\n",
       "      <td>1</td>\n",
       "      <td>M</td>\n",
       "      <td>сотрудник</td>\n",
       "      <td>1</td>\n",
       "      <td>89672.561153</td>\n",
       "      <td>недвижимость</td>\n",
       "    </tr>\n",
       "    <tr>\n",
       "      <th>21523</th>\n",
       "      <td>3</td>\n",
       "      <td>3112.481705</td>\n",
       "      <td>38</td>\n",
       "      <td>среднее</td>\n",
       "      <td>1</td>\n",
       "      <td>женат / замужем</td>\n",
       "      <td>0</td>\n",
       "      <td>M</td>\n",
       "      <td>сотрудник</td>\n",
       "      <td>1</td>\n",
       "      <td>244093.050500</td>\n",
       "      <td>на покупку своего автомобиля</td>\n",
       "    </tr>\n",
       "    <tr>\n",
       "      <th>21524</th>\n",
       "      <td>2</td>\n",
       "      <td>1984.507589</td>\n",
       "      <td>40</td>\n",
       "      <td>среднее</td>\n",
       "      <td>1</td>\n",
       "      <td>женат / замужем</td>\n",
       "      <td>0</td>\n",
       "      <td>F</td>\n",
       "      <td>сотрудник</td>\n",
       "      <td>0</td>\n",
       "      <td>82047.418899</td>\n",
       "      <td>на покупку автомобиля</td>\n",
       "    </tr>\n",
       "  </tbody>\n",
       "</table>\n",
       "<p>19351 rows × 12 columns</p>\n",
       "</div>"
      ],
      "text/plain": [
       "       children  days_employed  dob_years education  education_id  \\\n",
       "0             1    8437.673028         42    высшее             0   \n",
       "1             1    4024.803754         36   среднее             1   \n",
       "2             0    5623.422610         33   Среднее             1   \n",
       "3             3    4124.747207         32   среднее             1   \n",
       "4             0  340266.072047         53   среднее             1   \n",
       "...         ...            ...        ...       ...           ...   \n",
       "21520         1    4529.316663         43   среднее             1   \n",
       "21521         0  343937.404131         67   среднее             1   \n",
       "21522         1    2113.346888         38   среднее             1   \n",
       "21523         3    3112.481705         38   среднее             1   \n",
       "21524         2    1984.507589         40   среднее             1   \n",
       "\n",
       "          family_status  family_status_id gender income_type  debt  \\\n",
       "0       женат / замужем                 0      F   сотрудник     0   \n",
       "1       женат / замужем                 0      F   сотрудник     0   \n",
       "2       женат / замужем                 0      M   сотрудник     0   \n",
       "3       женат / замужем                 0      M   сотрудник     0   \n",
       "4      гражданский брак                 1      F   пенсионер     0   \n",
       "...                 ...               ...    ...         ...   ...   \n",
       "21520  гражданский брак                 1      F   компаньон     0   \n",
       "21521   женат / замужем                 0      F   пенсионер     0   \n",
       "21522  гражданский брак                 1      M   сотрудник     1   \n",
       "21523   женат / замужем                 0      M   сотрудник     1   \n",
       "21524   женат / замужем                 0      F   сотрудник     0   \n",
       "\n",
       "        total_income                       purpose  \n",
       "0      253875.639453                 покупка жилья  \n",
       "1      112080.014102       приобретение автомобиля  \n",
       "2      145885.952297                 покупка жилья  \n",
       "3      267628.550329    дополнительное образование  \n",
       "4      158616.077870               сыграть свадьбу  \n",
       "...              ...                           ...  \n",
       "21520  224791.862382             операции с жильем  \n",
       "21521  155999.806512          сделка с автомобилем  \n",
       "21522   89672.561153                  недвижимость  \n",
       "21523  244093.050500  на покупку своего автомобиля  \n",
       "21524   82047.418899         на покупку автомобиля  \n",
       "\n",
       "[19351 rows x 12 columns]"
      ]
     },
     "execution_count": 9,
     "metadata": {},
     "output_type": "execute_result"
    }
   ],
   "source": [
    "df['days_employed'] = df['days_employed'].apply(abs) # заменяем значения\n",
    "\n",
    "df[df['days_employed'] >= 0] # выведем информацию о таблице"
   ]
  },
  {
   "cell_type": "markdown",
   "metadata": {},
   "source": [
    "Отрицательных значений в таблице нет.\n",
    "\n",
    "Далее необходимо разобраться в значениях-артефактах.\n",
    "\n",
    "Вероятно, при указании занятости, значения в столбце стажа работы указывают на то, сколько дней человек пребывает в качестве этого типа занятости. Возможно, при заполнении стажа работы при занятости \"пенсионер\" и \"безработный\" запятая в значении была сдвинута или число было умножено на 100.\n",
    "\n",
    "Исправим данный артефакт в таблице, разделив эти значения на 100:"
   ]
  },
  {
   "cell_type": "code",
   "execution_count": 10,
   "metadata": {},
   "outputs": [],
   "source": [
    "def change_days(row): # создаём функцию для строки, которая делит значение в стаже на 100\n",
    "    days = row['days_employed']\n",
    "    income = row['income_type']\n",
    "    if income == 'безработный' or income == 'пенсионер':\n",
    "        days = days / 100\n",
    "    return days\n",
    "\n",
    "df['days_employed'] = df.apply(change_days, axis=1) # применяем функцию"
   ]
  },
  {
   "cell_type": "markdown",
   "metadata": {},
   "source": [
    "Артефакты в столбце откорректированы, теперь заполним пропущенные значения в стаже на среднее значение:"
   ]
  },
  {
   "cell_type": "code",
   "execution_count": 11,
   "metadata": {},
   "outputs": [],
   "source": [
    "days_employed_mean = df.groupby('income_type')['days_employed'].mean() #выделяем средние значения по типу занятости\n",
    "\n",
    "def fill_days(row): # создаем функцию по замене значений\n",
    "    if pd.isna(row['days_employed']):\n",
    "        return days_employed_mean.loc[row['income_type']]\n",
    "    return row['days_employed']\n",
    " \n",
    "df['days_employed'] = df.apply(fill_days, axis=1) # заполняем данные средним значением"
   ]
  },
  {
   "cell_type": "markdown",
   "metadata": {},
   "source": [
    "Проверим, остались ли в таблице пропуски:"
   ]
  },
  {
   "cell_type": "code",
   "execution_count": 12,
   "metadata": {},
   "outputs": [
    {
     "data": {
      "text/plain": [
       "children            0\n",
       "days_employed       0\n",
       "dob_years           0\n",
       "education           0\n",
       "education_id        0\n",
       "family_status       0\n",
       "family_status_id    0\n",
       "gender              0\n",
       "income_type         0\n",
       "debt                0\n",
       "total_income        0\n",
       "purpose             0\n",
       "dtype: int64"
      ]
     },
     "execution_count": 12,
     "metadata": {},
     "output_type": "execute_result"
    }
   ],
   "source": [
    "df.isna().sum()"
   ]
  },
  {
   "cell_type": "markdown",
   "metadata": {},
   "source": [
    "**Вывод**"
   ]
  },
  {
   "cell_type": "markdown",
   "metadata": {},
   "source": [
    "Пропуски в таблице заполнены, теперь можно двигаться дальше."
   ]
  },
  {
   "cell_type": "markdown",
   "metadata": {},
   "source": [
    "### Замена типа данных и исправление ошибок"
   ]
  },
  {
   "cell_type": "markdown",
   "metadata": {},
   "source": [
    "Для предотвращения возможных ошибок, необходимо изменить типы вещественных данных на целочисленные.\n",
    "\n",
    "Заменим вещественных на целочисленные в столбцах `days_employed` и `total_income`:"
   ]
  },
  {
   "cell_type": "code",
   "execution_count": 13,
   "metadata": {},
   "outputs": [],
   "source": [
    "# замена на целочисленные значения с помощью astype\n",
    "\n",
    "df['days_employed'] = df['days_employed'].astype(int)\n",
    "df['total_income'] = df['total_income'].astype(int)"
   ]
  },
  {
   "cell_type": "markdown",
   "metadata": {},
   "source": [
    "В столбце `education` есть значения, которые отличаются по регистру, исправим эту неточность:"
   ]
  },
  {
   "cell_type": "code",
   "execution_count": 14,
   "metadata": {},
   "outputs": [],
   "source": [
    "# замена регистра с помощью lower\n",
    "\n",
    "df['education'] = df['education'].str.lower() \n",
    "df['gender'] = df['gender'].str.lower()"
   ]
  },
  {
   "cell_type": "markdown",
   "metadata": {},
   "source": [
    "Значения в некоторых столбцах соотвестуют их уникальному идентификатору. Выделим отдельные словари для этих индентификаторов:"
   ]
  },
  {
   "cell_type": "code",
   "execution_count": 15,
   "metadata": {},
   "outputs": [
    {
     "data": {
      "text/html": [
       "<div>\n",
       "<style scoped>\n",
       "    .dataframe tbody tr th:only-of-type {\n",
       "        vertical-align: middle;\n",
       "    }\n",
       "\n",
       "    .dataframe tbody tr th {\n",
       "        vertical-align: top;\n",
       "    }\n",
       "\n",
       "    .dataframe thead th {\n",
       "        text-align: right;\n",
       "    }\n",
       "</style>\n",
       "<table border=\"1\" class=\"dataframe\">\n",
       "  <thead>\n",
       "    <tr style=\"text-align: right;\">\n",
       "      <th></th>\n",
       "      <th>family_status</th>\n",
       "      <th>family_status_id</th>\n",
       "    </tr>\n",
       "  </thead>\n",
       "  <tbody>\n",
       "    <tr>\n",
       "      <th>0</th>\n",
       "      <td>женат / замужем</td>\n",
       "      <td>0</td>\n",
       "    </tr>\n",
       "    <tr>\n",
       "      <th>1</th>\n",
       "      <td>гражданский брак</td>\n",
       "      <td>1</td>\n",
       "    </tr>\n",
       "    <tr>\n",
       "      <th>2</th>\n",
       "      <td>вдовец / вдова</td>\n",
       "      <td>2</td>\n",
       "    </tr>\n",
       "    <tr>\n",
       "      <th>3</th>\n",
       "      <td>в разводе</td>\n",
       "      <td>3</td>\n",
       "    </tr>\n",
       "    <tr>\n",
       "      <th>4</th>\n",
       "      <td>Не женат / не замужем</td>\n",
       "      <td>4</td>\n",
       "    </tr>\n",
       "  </tbody>\n",
       "</table>\n",
       "</div>"
      ],
      "text/plain": [
       "           family_status  family_status_id\n",
       "0        женат / замужем                 0\n",
       "1       гражданский брак                 1\n",
       "2         вдовец / вдова                 2\n",
       "3              в разводе                 3\n",
       "4  Не женат / не замужем                 4"
      ]
     },
     "execution_count": 15,
     "metadata": {},
     "output_type": "execute_result"
    }
   ],
   "source": [
    "family_status_dict = df[['family_status', 'family_status_id']] # создаем таблицу\n",
    "\n",
    "family_status_dict = family_status_dict.drop_duplicates().reset_index(drop=True) # удаляем дубликаты\n",
    "\n",
    "family_status_dict # выводим на экран"
   ]
  },
  {
   "cell_type": "code",
   "execution_count": 16,
   "metadata": {},
   "outputs": [
    {
     "data": {
      "text/html": [
       "<div>\n",
       "<style scoped>\n",
       "    .dataframe tbody tr th:only-of-type {\n",
       "        vertical-align: middle;\n",
       "    }\n",
       "\n",
       "    .dataframe tbody tr th {\n",
       "        vertical-align: top;\n",
       "    }\n",
       "\n",
       "    .dataframe thead th {\n",
       "        text-align: right;\n",
       "    }\n",
       "</style>\n",
       "<table border=\"1\" class=\"dataframe\">\n",
       "  <thead>\n",
       "    <tr style=\"text-align: right;\">\n",
       "      <th></th>\n",
       "      <th>education</th>\n",
       "      <th>education_id</th>\n",
       "    </tr>\n",
       "  </thead>\n",
       "  <tbody>\n",
       "    <tr>\n",
       "      <th>0</th>\n",
       "      <td>высшее</td>\n",
       "      <td>0</td>\n",
       "    </tr>\n",
       "    <tr>\n",
       "      <th>1</th>\n",
       "      <td>среднее</td>\n",
       "      <td>1</td>\n",
       "    </tr>\n",
       "    <tr>\n",
       "      <th>2</th>\n",
       "      <td>неоконченное высшее</td>\n",
       "      <td>2</td>\n",
       "    </tr>\n",
       "    <tr>\n",
       "      <th>3</th>\n",
       "      <td>начальное</td>\n",
       "      <td>3</td>\n",
       "    </tr>\n",
       "    <tr>\n",
       "      <th>4</th>\n",
       "      <td>ученая степень</td>\n",
       "      <td>4</td>\n",
       "    </tr>\n",
       "  </tbody>\n",
       "</table>\n",
       "</div>"
      ],
      "text/plain": [
       "             education  education_id\n",
       "0               высшее             0\n",
       "1              среднее             1\n",
       "2  неоконченное высшее             2\n",
       "3            начальное             3\n",
       "4       ученая степень             4"
      ]
     },
     "execution_count": 16,
     "metadata": {},
     "output_type": "execute_result"
    }
   ],
   "source": [
    "education_dict = df[['education', 'education_id']] # создаем таблицу\n",
    "\n",
    "education_dict = education_dict.drop_duplicates().reset_index(drop=True) # удаляем дубликаты\n",
    "\n",
    "education_dict # выводим на экран"
   ]
  },
  {
   "cell_type": "markdown",
   "metadata": {},
   "source": [
    "Выявим уникальные значения в столбцах, необходимые для дальнейшей обработки данных:\n",
    "\n",
    "Проверим уникальное количество детей:"
   ]
  },
  {
   "cell_type": "code",
   "execution_count": 17,
   "metadata": {},
   "outputs": [
    {
     "data": {
      "text/plain": [
       "array([ 1,  0,  3,  2, -1,  4, 20,  5])"
      ]
     },
     "execution_count": 17,
     "metadata": {},
     "output_type": "execute_result"
    }
   ],
   "source": [
    "df['children'].unique()"
   ]
  },
  {
   "cell_type": "markdown",
   "metadata": {},
   "source": [
    "В столбце `children` содержится аномальное значение - `20` детей и `-1`. \n",
    "При заполнении данного столбца были допущены ошибки. \n",
    "\n",
    "Заменим значения в столбце на положительные и уменьшим количество `20` на `2`:"
   ]
  },
  {
   "cell_type": "code",
   "execution_count": 18,
   "metadata": {},
   "outputs": [],
   "source": [
    "# замена с помощью replace\n",
    "\n",
    "df['children'] = df['children'].replace(20, 2)\n",
    "df['children'] = df['children'].replace(-1, 1)"
   ]
  },
  {
   "cell_type": "markdown",
   "metadata": {},
   "source": [
    "Проверим возраст:"
   ]
  },
  {
   "cell_type": "code",
   "execution_count": 19,
   "metadata": {},
   "outputs": [
    {
     "data": {
      "text/plain": [
       "array([42, 36, 33, 32, 53, 27, 43, 50, 35, 41, 40, 65, 54, 56, 26, 48, 24,\n",
       "       21, 57, 67, 28, 63, 62, 47, 34, 68, 25, 31, 30, 20, 49, 37, 45, 61,\n",
       "       64, 44, 52, 46, 23, 38, 39, 51,  0, 59, 29, 60, 55, 58, 71, 22, 73,\n",
       "       66, 69, 19, 72, 70, 74, 75])"
      ]
     },
     "execution_count": 19,
     "metadata": {},
     "output_type": "execute_result"
    }
   ],
   "source": [
    "df['dob_years'].unique()"
   ]
  },
  {
   "cell_type": "markdown",
   "metadata": {},
   "source": [
    "В данных есть значения `0`.\n",
    "\n",
    "Чтобы не исказить значения по возрасту, заменим возраст `0` на средние значения возраста по типу занятости `income_type`:"
   ]
  },
  {
   "cell_type": "code",
   "execution_count": 20,
   "metadata": {},
   "outputs": [],
   "source": [
    "dob_years_mean = df.groupby('income_type')['dob_years'].mean().astype(int) #выделяем средние значения по типу занятости\n",
    "\n",
    "def fill_age(row): # создаем функцию по замене значений\n",
    "    if row['dob_years'] == 0:\n",
    "        return dob_years_mean.loc[row['income_type']]\n",
    "    return row['dob_years']\n",
    " \n",
    "df['dob_years'] = df.apply(fill_age, axis=1) # заполняем данные средним значением"
   ]
  },
  {
   "cell_type": "markdown",
   "metadata": {},
   "source": [
    "**Вывод**"
   ]
  },
  {
   "cell_type": "markdown",
   "metadata": {},
   "source": [
    "Типы данных заменены на целочисленные, значения с разным регистром в категорийных данных исправлены.\n",
    "\n",
    "Выделены словари для идентификаторов в столбцах `education` и `family_status`:\n",
    "\n",
    "Для образования:\n",
    "* 0 - высшее\n",
    "* 1 - среднее\n",
    "* 2 - неоконченное высшее\n",
    "* 3 - начальное\n",
    "* 4 - ученая степень\n",
    "\n",
    "Для семейного статуса:\n",
    "* 0 - женат / замужем\n",
    "* 1 - гражданский брак\n",
    "* 2 - вдовец / вдова\n",
    "* 3 - в разводе\n",
    "* 4 - Не женат / не замужем\n",
    "\n",
    "Ошибки в столбцах исправлены и более не повлияют на результат."
   ]
  },
  {
   "cell_type": "markdown",
   "metadata": {},
   "source": [
    "### Обработка дубликатов"
   ]
  },
  {
   "cell_type": "markdown",
   "metadata": {},
   "source": [
    "Выявим количество дубликатов:"
   ]
  },
  {
   "cell_type": "code",
   "execution_count": 21,
   "metadata": {
    "scrolled": true
   },
   "outputs": [
    {
     "data": {
      "text/plain": [
       "71"
      ]
     },
     "execution_count": 21,
     "metadata": {},
     "output_type": "execute_result"
    }
   ],
   "source": [
    "df.duplicated().sum() # подсчет количества дубликатов"
   ]
  },
  {
   "cell_type": "markdown",
   "metadata": {},
   "source": [
    "В таблице содержится 71 дубликат.\n",
    "\n",
    "Исключим дупликаты в таблице, для дальнейшей обработки данных:"
   ]
  },
  {
   "cell_type": "code",
   "execution_count": 22,
   "metadata": {},
   "outputs": [],
   "source": [
    "df = df.drop_duplicates().reset_index(drop=True) # исключаем дубликаты"
   ]
  },
  {
   "cell_type": "markdown",
   "metadata": {},
   "source": [
    "Проверим количетсво дубликатов:"
   ]
  },
  {
   "cell_type": "code",
   "execution_count": 23,
   "metadata": {},
   "outputs": [
    {
     "data": {
      "text/plain": [
       "0"
      ]
     },
     "execution_count": 23,
     "metadata": {},
     "output_type": "execute_result"
    }
   ],
   "source": [
    "df.duplicated().sum() # подсчет количества дубликатов"
   ]
  },
  {
   "cell_type": "markdown",
   "metadata": {},
   "source": [
    "**Вывод**"
   ]
  },
  {
   "cell_type": "markdown",
   "metadata": {},
   "source": [
    "Дубликаты из таблицы исключены, можно двигаться дальше."
   ]
  },
  {
   "cell_type": "markdown",
   "metadata": {},
   "source": [
    "### Лемматизация"
   ]
  },
  {
   "cell_type": "markdown",
   "metadata": {},
   "source": [
    "Приведем слова в столбце `purpose` к его словарной форме **(лемме)** с помощью библиотеки `pymystem3`:"
   ]
  },
  {
   "cell_type": "code",
   "execution_count": 24,
   "metadata": {},
   "outputs": [],
   "source": [
    "from pymystem3 import Mystem # импортируем библиотеку\n",
    "\n",
    "m = Mystem() # привязка к переменной\n",
    "\n",
    "def do_lemma(text): # создаем функцию для лемматизации текста\n",
    "    lemma = m.lemmatize(text)\n",
    "    return lemma\n",
    "\n",
    "df['lemma_purpose'] = df['purpose'].apply(do_lemma) # лемматизируем текст и добавляем отдельный столбец с леммамии"
   ]
  },
  {
   "cell_type": "markdown",
   "metadata": {},
   "source": [
    "Выведем результат:"
   ]
  },
  {
   "cell_type": "code",
   "execution_count": 25,
   "metadata": {},
   "outputs": [
    {
     "data": {
      "text/plain": [
       "0                             [покупка,  , жилье, \\n]\n",
       "1                   [приобретение,  , автомобиль, \\n]\n",
       "2                             [покупка,  , жилье, \\n]\n",
       "3                [дополнительный,  , образование, \\n]\n",
       "4                           [сыграть,  , свадьба, \\n]\n",
       "                             ...                     \n",
       "21449                  [операция,  , с,  , жилье, \\n]\n",
       "21450               [сделка,  , с,  , автомобиль, \\n]\n",
       "21451                              [недвижимость, \\n]\n",
       "21452    [на,  , покупка,  , свой,  , автомобиль, \\n]\n",
       "21453             [на,  , покупка,  , автомобиль, \\n]\n",
       "Name: lemma_purpose, Length: 21454, dtype: object"
      ]
     },
     "execution_count": 25,
     "metadata": {},
     "output_type": "execute_result"
    }
   ],
   "source": [
    "df['lemma_purpose']"
   ]
  },
  {
   "cell_type": "markdown",
   "metadata": {},
   "source": [
    "**Вывод**"
   ]
  },
  {
   "cell_type": "markdown",
   "metadata": {},
   "source": [
    "Данные в столбце успешно лемматизированы. \n",
    "\n",
    "Новый столбец можно использовать для категоризации данных по цели получения кредита."
   ]
  },
  {
   "cell_type": "markdown",
   "metadata": {},
   "source": [
    "### Категоризация данных"
   ]
  },
  {
   "cell_type": "markdown",
   "metadata": {},
   "source": [
    "Для последующего анализа данных, категоризируем некоторые столбцы по их значениям и по цели нашего исследования:\n",
    "\n",
    "* по количеству детей (для значений более 3 выведем отдельную категорию)\n",
    "* по ежемесячному доходу\n",
    "* по цели кредита\n",
    "\n",
    "Семейное положение уже распределено по категориям, соотвественно, категоризация не требуется."
   ]
  },
  {
   "cell_type": "markdown",
   "metadata": {},
   "source": [
    "**Распределим по количеству детей.**\n",
    "\n",
    "Добавим новый столбец `children_cat` и введем категорию `более 3` для клиента с 3 и более детьми."
   ]
  },
  {
   "cell_type": "code",
   "execution_count": 26,
   "metadata": {},
   "outputs": [
    {
     "data": {
      "text/plain": [
       "0          14091\n",
       "1           4855\n",
       "2           2128\n",
       "более 3      380\n",
       "Name: children_cat, dtype: int64"
      ]
     },
     "execution_count": 26,
     "metadata": {},
     "output_type": "execute_result"
    }
   ],
   "source": [
    "def children_for_cat(children): # создаем функцию для возврата значения, если оно более 3\n",
    "    if children >=3:\n",
    "        return 'более 3'\n",
    "    else:\n",
    "        return children\n",
    "    \n",
    "df['children_cat'] = df['children'].apply(children_for_cat) # создаем новый столбец и вводим туда значения\n",
    "\n",
    "df['children_cat'].value_counts() # подсчитаем количество значений"
   ]
  },
  {
   "cell_type": "markdown",
   "metadata": {},
   "source": [
    "Данные по количеству детей теперь упрощены."
   ]
  },
  {
   "cell_type": "markdown",
   "metadata": {},
   "source": [
    "**Распределим по ежемесячному доходу.**\n",
    "\n",
    "Воспользуемся встроенной функцией `pandas` - `qcut`.\n",
    "\n",
    "`qcut` позволит разделить базовые данные на интервалы равного размера, что поможет в анализе.\n",
    "\n",
    "Разделим на 5 категорий:\n",
    "\n",
    "* низкий\n",
    "* ниже среднего\n",
    "* средний\n",
    "* выше среднего\n",
    "* высокий"
   ]
  },
  {
   "cell_type": "code",
   "execution_count": 27,
   "metadata": {},
   "outputs": [
    {
     "data": {
      "text/plain": [
       "низкий           4291\n",
       "ниже среднего    4291\n",
       "выше среднего    4291\n",
       "высокий          4291\n",
       "средний          4290\n",
       "Name: total_income_cat, dtype: int64"
      ]
     },
     "execution_count": 27,
     "metadata": {},
     "output_type": "execute_result"
    }
   ],
   "source": [
    "total_income_categ = ['низкий', 'ниже среднего', 'средний', 'выше среднего', 'высокий'] # список с категориями\n",
    "\n",
    "df['total_income_cat'] = pd.qcut(df['total_income'], # воспользуемся qcut для категоризации\n",
    "                                 q=5, \n",
    "                                 labels=total_income_categ)\n",
    "\n",
    "df['total_income_cat'].value_counts() # подсчитаем количество значений "
   ]
  },
  {
   "cell_type": "markdown",
   "metadata": {},
   "source": [
    "Данные по уровню дохода категоризированы по имеют равное количество, разделенное по категориям."
   ]
  },
  {
   "cell_type": "markdown",
   "metadata": {},
   "source": [
    "**Распределим по цели кредита.**\n",
    "\n",
    "Выведем на экран уникальные значения `purpose`"
   ]
  },
  {
   "cell_type": "code",
   "execution_count": 28,
   "metadata": {},
   "outputs": [
    {
     "data": {
      "text/plain": [
       "array(['покупка жилья', 'приобретение автомобиля',\n",
       "       'дополнительное образование', 'сыграть свадьбу',\n",
       "       'операции с жильем', 'образование', 'на проведение свадьбы',\n",
       "       'покупка жилья для семьи', 'покупка недвижимости',\n",
       "       'покупка коммерческой недвижимости', 'покупка жилой недвижимости',\n",
       "       'строительство собственной недвижимости', 'недвижимость',\n",
       "       'строительство недвижимости', 'на покупку подержанного автомобиля',\n",
       "       'на покупку своего автомобиля',\n",
       "       'операции с коммерческой недвижимостью',\n",
       "       'строительство жилой недвижимости', 'жилье',\n",
       "       'операции со своей недвижимостью', 'автомобили',\n",
       "       'заняться образованием', 'сделка с подержанным автомобилем',\n",
       "       'получение образования', 'автомобиль', 'свадьба',\n",
       "       'получение дополнительного образования', 'покупка своего жилья',\n",
       "       'операции с недвижимостью', 'получение высшего образования',\n",
       "       'свой автомобиль', 'сделка с автомобилем',\n",
       "       'профильное образование', 'высшее образование',\n",
       "       'покупка жилья для сдачи', 'на покупку автомобиля', 'ремонт жилью',\n",
       "       'заняться высшим образованием'], dtype=object)"
      ]
     },
     "execution_count": 28,
     "metadata": {},
     "output_type": "execute_result"
    }
   ],
   "source": [
    "df['purpose'].unique()"
   ]
  },
  {
   "cell_type": "markdown",
   "metadata": {},
   "source": [
    "Как видно из уникальных значений, можно разделить цель кредита по нескольким явным категориям:\n",
    "\n",
    "* операции с автомобилем\n",
    "* операции с недвижимостью\n",
    "* операции с жильем\n",
    "* свадьба\n",
    "* образование\n",
    "\n",
    "Возможно, операции с недвижимостью и операции с жильем можно объединить в общую категорию `недвижимость` и проверить, как влияет на статистику с разделением и без. Проверим гипотезу уже после разделения на 5 категорий.\n",
    "\n",
    "Воспользуемся ранее лемматизированными данными и распределим по категориям:"
   ]
  },
  {
   "cell_type": "code",
   "execution_count": 29,
   "metadata": {},
   "outputs": [],
   "source": [
    "purpose_list = ['автомобиль', 'жилье', 'свадьба', 'образование', 'недвижимость'] # список с категориями\n",
    "\n",
    "def purpose_short(purpose): # функция, которая возвращает название категории, если это слово содержится в списке лемм\n",
    "    for text_purpose in purpose:\n",
    "        for text_lemma in purpose_list:\n",
    "            if text_purpose == text_lemma:\n",
    "                return text_purpose\n",
    "            \n",
    "df['short_purpose'] = df['lemma_purpose'].apply(purpose_short) # создаем новый столбец с категориями"
   ]
  },
  {
   "cell_type": "markdown",
   "metadata": {},
   "source": [
    "**Вывод**"
   ]
  },
  {
   "cell_type": "markdown",
   "metadata": {},
   "source": [
    "Данные в таблице распредены по категориям, теперь можно приступить к анализу данных."
   ]
  },
  {
   "cell_type": "markdown",
   "metadata": {},
   "source": [
    "## Шаг 3. Ответьте на вопросы"
   ]
  },
  {
   "cell_type": "markdown",
   "metadata": {},
   "source": [
    "*Чтобы понять зависимость, необходимо получить процентное соотношение клиентов с фактом непогашенного кредита к общему числу, распределенное по категориям.*\n",
    "\n",
    "- Есть ли зависимость между наличием детей и возвратом кредита в срок?\n"
   ]
  },
  {
   "cell_type": "code",
   "execution_count": 30,
   "metadata": {},
   "outputs": [
    {
     "data": {
      "text/plain": [
       "2          9.492481\n",
       "1          9.165808\n",
       "более 3    8.157895\n",
       "0          7.543822\n",
       "Name: children_cat, dtype: float64"
      ]
     },
     "execution_count": 30,
     "metadata": {},
     "output_type": "execute_result"
    }
   ],
   "source": [
    "# найдем значения с непогашеным кредитом по категории и разделим на общее количетсво в этой категории\n",
    "\n",
    "(df[df['debt'] == 1]['children_cat'].value_counts() # количество с задолженностью по категориям\n",
    " / df['children_cat'].value_counts() # общее количество по категориям\n",
    " * 100).sort_values(ascending=False) # сортируем по убыванию"
   ]
  },
  {
   "cell_type": "markdown",
   "metadata": {},
   "source": [
    "**Вывод**"
   ]
  },
  {
   "cell_type": "markdown",
   "metadata": {},
   "source": [
    "У заёмщиков с 1 и 2 детьми большее процентное отношение, чем у бездетных.\n",
    "\n",
    "Бездетные заёмщики чаще возвращают кредит в срок."
   ]
  },
  {
   "cell_type": "markdown",
   "metadata": {},
   "source": [
    "- Есть ли зависимость между семейным положением и возвратом кредита в срок?"
   ]
  },
  {
   "cell_type": "code",
   "execution_count": 31,
   "metadata": {},
   "outputs": [
    {
     "data": {
      "text/plain": [
       "Не женат / не замужем    9.750890\n",
       "гражданский брак         9.347145\n",
       "женат / замужем          7.545182\n",
       "в разводе                7.112971\n",
       "вдовец / вдова           6.569343\n",
       "Name: family_status, dtype: float64"
      ]
     },
     "execution_count": 31,
     "metadata": {},
     "output_type": "execute_result"
    }
   ],
   "source": [
    "# найдем значения с непогашеным кредитом по категории и разделим на общее количетсво в этой категории\n",
    "\n",
    "(df[df['debt'] == 1]['family_status'].value_counts() # количество с задолженностью по категориям\n",
    " / df['family_status'].value_counts() # общее количество по категориям\n",
    " * 100).sort_values(ascending=False) # сортируем по убыванию"
   ]
  },
  {
   "cell_type": "markdown",
   "metadata": {},
   "source": [
    "**Вывод**"
   ]
  },
  {
   "cell_type": "markdown",
   "metadata": {},
   "source": [
    "Исходя из полученных данных, клиенты, состоящие в гражданском браке или не имеющие жену/мужа чаще не выплачивают кредит в срок, а вдовы/вдовцы - реже."
   ]
  },
  {
   "cell_type": "markdown",
   "metadata": {},
   "source": [
    "- Есть ли зависимость между уровнем дохода и возвратом кредита в срок?"
   ]
  },
  {
   "cell_type": "code",
   "execution_count": 32,
   "metadata": {},
   "outputs": [
    {
     "data": {
      "text/plain": [
       "средний          8.997669\n",
       "ниже среднего    8.366348\n",
       "выше среднего    8.203216\n",
       "низкий           8.016779\n",
       "высокий          6.991377\n",
       "Name: total_income_cat, dtype: float64"
      ]
     },
     "execution_count": 32,
     "metadata": {},
     "output_type": "execute_result"
    }
   ],
   "source": [
    "# найдем значения с непогашеным кредитом по категории и разделим на общее количетсво в этой категории\n",
    "\n",
    "(df[df['debt'] == 1]['total_income_cat'].value_counts() # количество с задолженностью по категориям\n",
    " / df['total_income_cat'].value_counts() # общее количество по категориям\n",
    " * 100).sort_values(ascending=False) # сортируем по убыванию"
   ]
  },
  {
   "cell_type": "markdown",
   "metadata": {},
   "source": [
    "**Вывод**"
   ]
  },
  {
   "cell_type": "markdown",
   "metadata": {},
   "source": [
    "Клиенты сразу по четырем категориям с доходом от низкого к выше среднему чаще не выплачивают кредит в срок, чем клиенты с высоким доходом.\n",
    "\n",
    "Все таки, уровень дохода влияет на выплату кредита в срок. "
   ]
  },
  {
   "cell_type": "markdown",
   "metadata": {},
   "source": [
    "- Как разные цели кредита влияют на его возврат в срок?"
   ]
  },
  {
   "cell_type": "code",
   "execution_count": 33,
   "metadata": {},
   "outputs": [
    {
     "data": {
      "text/plain": [
       "автомобиль      9.359034\n",
       "образование     9.220035\n",
       "свадьба         8.003442\n",
       "недвижимость    7.463392\n",
       "жилье           6.905830\n",
       "Name: short_purpose, dtype: float64"
      ]
     },
     "execution_count": 33,
     "metadata": {},
     "output_type": "execute_result"
    }
   ],
   "source": [
    "# найдем значения с непогашеным кредитом по категории и разделим на общее количетсво в этой категории\n",
    "\n",
    "(df[df['debt'] == 1]['short_purpose'].value_counts() # количество с задолженностью по категориям\n",
    " / df['short_purpose'].value_counts() # общее количество по категориям\n",
    " * 100).sort_values(ascending=False) # сортируем по убыванию"
   ]
  },
  {
   "cell_type": "markdown",
   "metadata": {},
   "source": [
    "Проверим ранее утвержденную гипотезу и переименуем значения с жильем в недвижимость:"
   ]
  },
  {
   "cell_type": "code",
   "execution_count": 34,
   "metadata": {},
   "outputs": [
    {
     "data": {
      "text/plain": [
       "автомобиль      9.359034\n",
       "образование     9.220035\n",
       "свадьба         8.003442\n",
       "недвижимость    7.233373\n",
       "Name: short_purpose, dtype: float64"
      ]
     },
     "execution_count": 34,
     "metadata": {},
     "output_type": "execute_result"
    }
   ],
   "source": [
    "df['short_purpose'] = df['short_purpose'].replace('жилье', 'недвижимость')\n",
    "\n",
    "(df[df['debt'] == 1]['short_purpose'].value_counts() # количество с задолженностью по категориям\n",
    " / df['short_purpose'].value_counts() # общее количество по категориям\n",
    " * 100).sort_values(ascending=False) # сортируем по убыванию"
   ]
  },
  {
   "cell_type": "markdown",
   "metadata": {},
   "source": [
    "**Вывод**"
   ]
  },
  {
   "cell_type": "markdown",
   "metadata": {},
   "source": [
    "Ранее выдвинутая гипотеза не сильно повлияла на исходный результат:\n",
    "\n",
    "По операциям с автомобилями и образованием, клиенты чаще не выплачивают в срок.\n",
    "\n",
    "По операциям с недвижимостью и жилем, наоборот, выплачивают чаще в срок."
   ]
  },
  {
   "cell_type": "markdown",
   "metadata": {},
   "source": [
    "- Есть ли зависимость между уровнем образования и возвратом кредита в срок?"
   ]
  },
  {
   "cell_type": "code",
   "execution_count": 35,
   "metadata": {},
   "outputs": [
    {
     "data": {
      "text/plain": [
       "начальное              10.992908\n",
       "неоконченное высшее     9.139785\n",
       "среднее                 8.990245\n",
       "высшее                  5.295238\n",
       "ученая степень               NaN\n",
       "Name: education, dtype: float64"
      ]
     },
     "execution_count": 35,
     "metadata": {},
     "output_type": "execute_result"
    }
   ],
   "source": [
    "# найдем значения с непогашеным кредитом по категории и разделим на общее количетсво в этой категории\n",
    "\n",
    "(df[df['debt'] == 1]['education'].value_counts() # количество с задолженностью по категориям\n",
    " / df['education'].value_counts() # общее количество по категориям\n",
    " * 100).sort_values(ascending=False) # сортируем по убыванию"
   ]
  },
  {
   "cell_type": "markdown",
   "metadata": {},
   "source": [
    "**Вывод**"
   ]
  },
  {
   "cell_type": "markdown",
   "metadata": {},
   "source": [
    "У людей с начальным образованием процентное соотношение выше 10, что ранее не было в значениях по другим категориям.\n",
    "\n",
    "И с высшим образованием самый низкий процент.\n",
    "\n",
    "*Что удивительно, у людей с ученой степенью нет задолженностей вовсе!* Но это лишь потому, что таких людей очень мало в выборке - всего 6."
   ]
  },
  {
   "cell_type": "markdown",
   "metadata": {},
   "source": [
    "## Шаг 4. Общий вывод"
   ]
  },
  {
   "cell_type": "markdown",
   "metadata": {},
   "source": [
    "**Проверены несколько гипотез и установлено:**\n",
    "\n",
    "* количество детей влияет на выплату кредита в срок, так бездетные заёмщики чаще возвращают кредит в срок.\n",
    "\n",
    "* семейный статус так же влияет на выплату кредита в срок: неженатые и незамужние чаще задерживают выплаты по кредиту, а вдовы и вдовцы - реже.\n",
    "\n",
    "* исходя из данных по уровню дохода - нет особых различий между категориями `низкий` и `выше среднего`, но с высокими доходами реже не выплачивают в срок.\n",
    "\n",
    "* если рассматривать по цели выдачи кредита - по операциям с автомобилями и образованием - чаще не выплачивают в срок.\n",
    "\n",
    "Но самый необычный результат получился по уровню образования:\n",
    "Клиенты с начальным образованием чаще не выплачивают в срок, а клиенты с высшим имеют самый низкий процент.\n",
    "\n",
    "*Возможно*, данные исследования могут быть не точными, так как значения не сильно различаются между собой и не превышают 10%.\n",
    "\n",
    "Чтобы более детально рассмотреть данные, необходимо рассматривать совокупность нескольных данных по нескольким столбцам и их отношение к невыплаченным в срок кредитам, так данные могут более детально отобразить ситуацию по невыплатам в срок.\n",
    "\n",
    "**Кредитный скоринг** может работать лучше, если рассматривать большую совокупность данных (по нескольким столбцам)."
   ]
  }
 ],
 "metadata": {
  "ExecuteTimeLog": [
   {
    "duration": 852,
    "start_time": "2021-12-05T11:00:49.097Z"
   },
   {
    "duration": 30,
    "start_time": "2021-12-05T11:07:06.030Z"
   },
   {
    "duration": 12,
    "start_time": "2021-12-05T11:14:25.853Z"
   },
   {
    "duration": 12,
    "start_time": "2021-12-05T11:18:10.942Z"
   },
   {
    "duration": 10,
    "start_time": "2021-12-05T11:18:19.967Z"
   },
   {
    "duration": 8,
    "start_time": "2021-12-05T11:18:50.555Z"
   },
   {
    "duration": 375,
    "start_time": "2021-12-05T11:19:11.927Z"
   },
   {
    "duration": 362,
    "start_time": "2021-12-05T11:19:24.073Z"
   },
   {
    "duration": 8,
    "start_time": "2021-12-05T11:19:28.342Z"
   },
   {
    "duration": 11,
    "start_time": "2021-12-05T11:19:48.900Z"
   },
   {
    "duration": 361,
    "start_time": "2021-12-05T11:20:02.949Z"
   },
   {
    "duration": 276,
    "start_time": "2021-12-05T11:20:05.779Z"
   },
   {
    "duration": 13,
    "start_time": "2021-12-05T11:20:15.224Z"
   },
   {
    "duration": -595,
    "start_time": "2021-12-05T11:20:39.807Z"
   },
   {
    "duration": 9,
    "start_time": "2021-12-05T11:20:50.709Z"
   },
   {
    "duration": 3575,
    "start_time": "2021-12-05T11:21:09.418Z"
   },
   {
    "duration": 3700,
    "start_time": "2021-12-05T11:21:34.367Z"
   },
   {
    "duration": 291,
    "start_time": "2021-12-05T11:21:44.141Z"
   },
   {
    "duration": 11,
    "start_time": "2021-12-05T11:21:52.878Z"
   },
   {
    "duration": 7,
    "start_time": "2021-12-05T11:22:57.093Z"
   },
   {
    "duration": 6,
    "start_time": "2021-12-05T11:23:03.016Z"
   },
   {
    "duration": 10,
    "start_time": "2021-12-05T11:23:05.870Z"
   },
   {
    "duration": 11,
    "start_time": "2021-12-05T11:24:14.657Z"
   },
   {
    "duration": 39,
    "start_time": "2021-12-05T11:26:00.731Z"
   },
   {
    "duration": 34,
    "start_time": "2021-12-05T11:26:18.330Z"
   },
   {
    "duration": 9,
    "start_time": "2021-12-05T11:26:52.776Z"
   },
   {
    "duration": 82,
    "start_time": "2021-12-05T11:27:04.323Z"
   },
   {
    "duration": 9,
    "start_time": "2021-12-05T11:27:08.290Z"
   },
   {
    "duration": 12,
    "start_time": "2021-12-05T11:27:15.429Z"
   },
   {
    "duration": 9,
    "start_time": "2021-12-05T11:27:22.982Z"
   },
   {
    "duration": 25,
    "start_time": "2021-12-05T11:29:37.592Z"
   },
   {
    "duration": 30,
    "start_time": "2021-12-05T11:29:51.221Z"
   },
   {
    "duration": 14,
    "start_time": "2021-12-05T11:30:06.008Z"
   },
   {
    "duration": 27,
    "start_time": "2021-12-05T11:31:04.737Z"
   },
   {
    "duration": 26,
    "start_time": "2021-12-05T11:31:17.189Z"
   },
   {
    "duration": 26,
    "start_time": "2021-12-05T11:31:25.920Z"
   },
   {
    "duration": 15,
    "start_time": "2021-12-05T11:33:21.623Z"
   },
   {
    "duration": 61,
    "start_time": "2021-12-05T11:35:11.477Z"
   },
   {
    "duration": 100,
    "start_time": "2021-12-05T11:35:37.465Z"
   },
   {
    "duration": 15,
    "start_time": "2021-12-05T11:35:46.394Z"
   },
   {
    "duration": 91,
    "start_time": "2021-12-05T11:36:12.891Z"
   },
   {
    "duration": 19,
    "start_time": "2021-12-05T11:36:18.123Z"
   },
   {
    "duration": 23,
    "start_time": "2021-12-05T11:47:54.892Z"
   },
   {
    "duration": 25,
    "start_time": "2021-12-05T11:48:10.540Z"
   },
   {
    "duration": 24,
    "start_time": "2021-12-05T11:48:14.068Z"
   },
   {
    "duration": 34,
    "start_time": "2021-12-05T11:49:27.863Z"
   },
   {
    "duration": 24,
    "start_time": "2021-12-05T11:49:40.187Z"
   },
   {
    "duration": 13,
    "start_time": "2021-12-05T11:52:53.986Z"
   },
   {
    "duration": 24,
    "start_time": "2021-12-05T11:54:02.918Z"
   },
   {
    "duration": 22,
    "start_time": "2021-12-05T11:56:44.784Z"
   },
   {
    "duration": 22,
    "start_time": "2021-12-05T11:56:49.598Z"
   },
   {
    "duration": 11,
    "start_time": "2021-12-05T11:58:24.920Z"
   },
   {
    "duration": 4,
    "start_time": "2021-12-05T12:19:53.004Z"
   },
   {
    "duration": 5,
    "start_time": "2021-12-05T12:20:00.924Z"
   },
   {
    "duration": 5,
    "start_time": "2021-12-05T12:20:21.214Z"
   },
   {
    "duration": 10,
    "start_time": "2021-12-05T12:20:43.204Z"
   },
   {
    "duration": 5,
    "start_time": "2021-12-05T12:20:48.539Z"
   },
   {
    "duration": 3704,
    "start_time": "2021-12-05T12:21:02.423Z"
   },
   {
    "duration": 3820,
    "start_time": "2021-12-05T12:21:12.192Z"
   },
   {
    "duration": 4228,
    "start_time": "2021-12-05T12:22:03.625Z"
   },
   {
    "duration": 3814,
    "start_time": "2021-12-05T12:22:27.054Z"
   },
   {
    "duration": 3966,
    "start_time": "2021-12-05T12:22:49.253Z"
   },
   {
    "duration": 801,
    "start_time": "2021-12-05T12:23:37.526Z"
   },
   {
    "duration": 18,
    "start_time": "2021-12-05T12:23:38.330Z"
   },
   {
    "duration": 36,
    "start_time": "2021-12-05T12:23:38.352Z"
   },
   {
    "duration": 13,
    "start_time": "2021-12-05T12:23:38.390Z"
   },
   {
    "duration": 23,
    "start_time": "2021-12-05T12:23:38.405Z"
   },
   {
    "duration": 38,
    "start_time": "2021-12-05T12:23:38.431Z"
   },
   {
    "duration": 13,
    "start_time": "2021-12-05T12:23:38.472Z"
   },
   {
    "duration": 9,
    "start_time": "2021-12-05T12:23:38.488Z"
   },
   {
    "duration": 31,
    "start_time": "2021-12-05T12:23:38.500Z"
   },
   {
    "duration": 6,
    "start_time": "2021-12-05T12:23:42.431Z"
   },
   {
    "duration": 10,
    "start_time": "2021-12-05T12:23:53.379Z"
   },
   {
    "duration": 9,
    "start_time": "2021-12-05T12:24:01.039Z"
   },
   {
    "duration": 6,
    "start_time": "2021-12-05T12:24:41.286Z"
   },
   {
    "duration": 40,
    "start_time": "2021-12-05T12:28:02.010Z"
   },
   {
    "duration": 26,
    "start_time": "2021-12-05T12:28:11.980Z"
   },
   {
    "duration": 27,
    "start_time": "2021-12-05T12:28:23.785Z"
   },
   {
    "duration": 24,
    "start_time": "2021-12-05T12:29:02.247Z"
   },
   {
    "duration": 29,
    "start_time": "2021-12-05T12:29:08.296Z"
   },
   {
    "duration": 37,
    "start_time": "2021-12-05T12:29:17.690Z"
   },
   {
    "duration": 818,
    "start_time": "2021-12-05T12:29:31.070Z"
   },
   {
    "duration": 39,
    "start_time": "2021-12-05T12:29:37.712Z"
   },
   {
    "duration": 42,
    "start_time": "2021-12-05T12:29:47.174Z"
   },
   {
    "duration": 347,
    "start_time": "2021-12-05T12:30:56.077Z"
   },
   {
    "duration": 13,
    "start_time": "2021-12-05T12:30:59.996Z"
   },
   {
    "duration": 11,
    "start_time": "2021-12-05T12:32:19.325Z"
   },
   {
    "duration": 11,
    "start_time": "2021-12-05T12:33:43.188Z"
   },
   {
    "duration": 10,
    "start_time": "2021-12-05T12:33:43.957Z"
   },
   {
    "duration": 3,
    "start_time": "2021-12-05T12:44:30.346Z"
   },
   {
    "duration": 14,
    "start_time": "2021-12-05T12:47:01.123Z"
   },
   {
    "duration": 1286,
    "start_time": "2021-12-05T12:47:02.774Z"
   },
   {
    "duration": 3,
    "start_time": "2021-12-05T12:47:23.370Z"
   },
   {
    "duration": 5,
    "start_time": "2021-12-05T12:47:39.574Z"
   },
   {
    "duration": 4,
    "start_time": "2021-12-05T12:47:55.692Z"
   },
   {
    "duration": 5,
    "start_time": "2021-12-05T12:47:58.993Z"
   },
   {
    "duration": 5,
    "start_time": "2021-12-05T12:48:17.139Z"
   },
   {
    "duration": 4,
    "start_time": "2021-12-05T12:48:22.561Z"
   },
   {
    "duration": 6,
    "start_time": "2021-12-05T12:48:29.152Z"
   },
   {
    "duration": 280,
    "start_time": "2021-12-05T12:48:55.573Z"
   },
   {
    "duration": 5,
    "start_time": "2021-12-05T12:49:02.278Z"
   },
   {
    "duration": 5,
    "start_time": "2021-12-05T12:49:21.041Z"
   },
   {
    "duration": 5,
    "start_time": "2021-12-05T12:49:48.549Z"
   },
   {
    "duration": 1219,
    "start_time": "2021-12-05T12:50:13.612Z"
   },
   {
    "duration": 26,
    "start_time": "2021-12-05T12:51:54.016Z"
   },
   {
    "duration": 29,
    "start_time": "2021-12-05T12:52:05.312Z"
   },
   {
    "duration": 34,
    "start_time": "2021-12-05T12:52:11.057Z"
   },
   {
    "duration": 297,
    "start_time": "2021-12-05T12:52:20.172Z"
   },
   {
    "duration": 923,
    "start_time": "2021-12-05T12:52:31.292Z"
   },
   {
    "duration": 15,
    "start_time": "2021-12-05T12:52:32.217Z"
   },
   {
    "duration": 39,
    "start_time": "2021-12-05T12:52:32.235Z"
   },
   {
    "duration": 19,
    "start_time": "2021-12-05T12:52:32.278Z"
   },
   {
    "duration": 32,
    "start_time": "2021-12-05T12:52:32.300Z"
   },
   {
    "duration": 6,
    "start_time": "2021-12-05T12:52:32.335Z"
   },
   {
    "duration": 38,
    "start_time": "2021-12-05T12:52:32.343Z"
   },
   {
    "duration": 9,
    "start_time": "2021-12-05T12:52:32.384Z"
   },
   {
    "duration": 119,
    "start_time": "2021-12-05T12:52:32.398Z"
   },
   {
    "duration": -462,
    "start_time": "2021-12-05T12:52:32.982Z"
   },
   {
    "duration": 578,
    "start_time": "2021-12-05T12:52:44.967Z"
   },
   {
    "duration": 460,
    "start_time": "2021-12-05T12:52:56.245Z"
   },
   {
    "duration": 451,
    "start_time": "2021-12-05T12:53:14.333Z"
   },
   {
    "duration": 471,
    "start_time": "2021-12-05T12:53:22.921Z"
   },
   {
    "duration": 370,
    "start_time": "2021-12-05T12:53:34.257Z"
   },
   {
    "duration": 281,
    "start_time": "2021-12-05T12:53:43.695Z"
   },
   {
    "duration": 505,
    "start_time": "2021-12-05T12:54:26.077Z"
   },
   {
    "duration": 13,
    "start_time": "2021-12-05T12:54:47.677Z"
   },
   {
    "duration": 12,
    "start_time": "2021-12-05T12:54:49.685Z"
   },
   {
    "duration": 23,
    "start_time": "2021-12-05T12:55:12.169Z"
   },
   {
    "duration": 46,
    "start_time": "2021-12-05T12:55:15.607Z"
   },
   {
    "duration": 33,
    "start_time": "2021-12-05T13:00:39.508Z"
   },
   {
    "duration": 322,
    "start_time": "2021-12-05T13:01:06.266Z"
   },
   {
    "duration": 19,
    "start_time": "2021-12-05T13:01:21.126Z"
   },
   {
    "duration": 35,
    "start_time": "2021-12-05T13:01:43.729Z"
   },
   {
    "duration": 16,
    "start_time": "2021-12-05T13:02:20.204Z"
   },
   {
    "duration": 16,
    "start_time": "2021-12-05T13:04:33.215Z"
   },
   {
    "duration": 15,
    "start_time": "2021-12-05T13:05:38.261Z"
   },
   {
    "duration": 6,
    "start_time": "2021-12-05T13:06:55.984Z"
   },
   {
    "duration": 15,
    "start_time": "2021-12-05T13:07:02.424Z"
   },
   {
    "duration": 15,
    "start_time": "2021-12-05T13:08:16.793Z"
   },
   {
    "duration": 22,
    "start_time": "2021-12-05T13:09:25.036Z"
   },
   {
    "duration": 14,
    "start_time": "2021-12-05T13:12:34.361Z"
   },
   {
    "duration": 1515,
    "start_time": "2021-12-05T13:12:44.362Z"
   },
   {
    "duration": 14,
    "start_time": "2021-12-05T13:12:45.881Z"
   },
   {
    "duration": 20,
    "start_time": "2021-12-05T13:12:45.899Z"
   },
   {
    "duration": 13,
    "start_time": "2021-12-05T13:12:45.922Z"
   },
   {
    "duration": 22,
    "start_time": "2021-12-05T13:12:45.967Z"
   },
   {
    "duration": 6,
    "start_time": "2021-12-05T13:12:45.992Z"
   },
   {
    "duration": 13,
    "start_time": "2021-12-05T13:12:46.000Z"
   },
   {
    "duration": 8,
    "start_time": "2021-12-05T13:12:46.016Z"
   },
   {
    "duration": 83,
    "start_time": "2021-12-05T13:12:46.027Z"
   },
   {
    "duration": 14,
    "start_time": "2021-12-05T13:12:51.710Z"
   },
   {
    "duration": 14,
    "start_time": "2021-12-05T13:13:06.975Z"
   },
   {
    "duration": 65,
    "start_time": "2021-12-05T13:13:13.898Z"
   },
   {
    "duration": 17,
    "start_time": "2021-12-05T13:13:13.966Z"
   },
   {
    "duration": 21,
    "start_time": "2021-12-05T13:13:13.987Z"
   },
   {
    "duration": 14,
    "start_time": "2021-12-05T13:13:14.011Z"
   },
   {
    "duration": 59,
    "start_time": "2021-12-05T13:13:14.027Z"
   },
   {
    "duration": 25,
    "start_time": "2021-12-05T13:13:14.089Z"
   },
   {
    "duration": 12,
    "start_time": "2021-12-05T13:13:14.116Z"
   },
   {
    "duration": 15,
    "start_time": "2021-12-05T13:13:14.131Z"
   },
   {
    "duration": 62,
    "start_time": "2021-12-05T13:13:14.148Z"
   },
   {
    "duration": 13,
    "start_time": "2021-12-05T13:13:16.026Z"
   },
   {
    "duration": 22,
    "start_time": "2021-12-05T13:13:17.267Z"
   },
   {
    "duration": 25,
    "start_time": "2021-12-05T13:13:31.777Z"
   },
   {
    "duration": 18,
    "start_time": "2021-12-05T13:17:10.537Z"
   },
   {
    "duration": 16,
    "start_time": "2021-12-05T13:19:24.835Z"
   },
   {
    "duration": 66,
    "start_time": "2021-12-05T13:19:32.702Z"
   },
   {
    "duration": 14,
    "start_time": "2021-12-05T13:19:32.771Z"
   },
   {
    "duration": 20,
    "start_time": "2021-12-05T13:19:32.789Z"
   },
   {
    "duration": 14,
    "start_time": "2021-12-05T13:19:32.812Z"
   },
   {
    "duration": 49,
    "start_time": "2021-12-05T13:19:32.828Z"
   },
   {
    "duration": 7,
    "start_time": "2021-12-05T13:19:32.880Z"
   },
   {
    "duration": 14,
    "start_time": "2021-12-05T13:19:32.889Z"
   },
   {
    "duration": 10,
    "start_time": "2021-12-05T13:19:32.906Z"
   },
   {
    "duration": 93,
    "start_time": "2021-12-05T13:19:32.919Z"
   },
   {
    "duration": 10,
    "start_time": "2021-12-05T13:19:34.378Z"
   },
   {
    "duration": 5,
    "start_time": "2021-12-05T13:25:40.094Z"
   },
   {
    "duration": 633,
    "start_time": "2021-12-05T13:26:37.522Z"
   },
   {
    "duration": 679,
    "start_time": "2021-12-05T13:27:12.255Z"
   },
   {
    "duration": 674,
    "start_time": "2021-12-05T13:27:38.912Z"
   },
   {
    "duration": 761,
    "start_time": "2021-12-05T13:27:56.882Z"
   },
   {
    "duration": 66,
    "start_time": "2021-12-05T13:28:08.846Z"
   },
   {
    "duration": 14,
    "start_time": "2021-12-05T13:28:08.915Z"
   },
   {
    "duration": 19,
    "start_time": "2021-12-05T13:28:08.933Z"
   },
   {
    "duration": 16,
    "start_time": "2021-12-05T13:28:08.969Z"
   },
   {
    "duration": 30,
    "start_time": "2021-12-05T13:28:08.987Z"
   },
   {
    "duration": 5,
    "start_time": "2021-12-05T13:28:09.019Z"
   },
   {
    "duration": 41,
    "start_time": "2021-12-05T13:28:09.027Z"
   },
   {
    "duration": 8,
    "start_time": "2021-12-05T13:28:09.071Z"
   },
   {
    "duration": 50,
    "start_time": "2021-12-05T13:28:09.082Z"
   },
   {
    "duration": 659,
    "start_time": "2021-12-05T13:28:11.000Z"
   },
   {
    "duration": 65,
    "start_time": "2021-12-05T13:28:42.576Z"
   },
   {
    "duration": 16,
    "start_time": "2021-12-05T13:28:42.643Z"
   },
   {
    "duration": 22,
    "start_time": "2021-12-05T13:28:42.668Z"
   },
   {
    "duration": 14,
    "start_time": "2021-12-05T13:28:42.693Z"
   },
   {
    "duration": 23,
    "start_time": "2021-12-05T13:28:42.709Z"
   },
   {
    "duration": 9,
    "start_time": "2021-12-05T13:28:42.768Z"
   },
   {
    "duration": 12,
    "start_time": "2021-12-05T13:28:42.780Z"
   },
   {
    "duration": 9,
    "start_time": "2021-12-05T13:28:42.795Z"
   },
   {
    "duration": 79,
    "start_time": "2021-12-05T13:28:42.807Z"
   },
   {
    "duration": 687,
    "start_time": "2021-12-05T13:28:43.568Z"
   },
   {
    "duration": 73,
    "start_time": "2021-12-05T13:28:53.024Z"
   },
   {
    "duration": 15,
    "start_time": "2021-12-05T13:28:53.100Z"
   },
   {
    "duration": 20,
    "start_time": "2021-12-05T13:28:53.119Z"
   },
   {
    "duration": 33,
    "start_time": "2021-12-05T13:28:53.142Z"
   },
   {
    "duration": 23,
    "start_time": "2021-12-05T13:28:53.178Z"
   },
   {
    "duration": 6,
    "start_time": "2021-12-05T13:28:53.203Z"
   },
   {
    "duration": 55,
    "start_time": "2021-12-05T13:28:53.212Z"
   },
   {
    "duration": 11,
    "start_time": "2021-12-05T13:28:53.270Z"
   },
   {
    "duration": 99,
    "start_time": "2021-12-05T13:28:53.286Z"
   },
   {
    "duration": 665,
    "start_time": "2021-12-05T13:28:54.037Z"
   },
   {
    "duration": 6,
    "start_time": "2021-12-05T13:32:20.691Z"
   },
   {
    "duration": 6,
    "start_time": "2021-12-05T13:32:38.941Z"
   },
   {
    "duration": 65,
    "start_time": "2021-12-05T13:32:43.741Z"
   },
   {
    "duration": 20,
    "start_time": "2021-12-05T13:32:43.809Z"
   },
   {
    "duration": 35,
    "start_time": "2021-12-05T13:32:43.832Z"
   },
   {
    "duration": 22,
    "start_time": "2021-12-05T13:32:43.870Z"
   },
   {
    "duration": 22,
    "start_time": "2021-12-05T13:32:43.894Z"
   },
   {
    "duration": 9,
    "start_time": "2021-12-05T13:32:43.919Z"
   },
   {
    "duration": 40,
    "start_time": "2021-12-05T13:32:43.931Z"
   },
   {
    "duration": 16,
    "start_time": "2021-12-05T13:32:43.974Z"
   },
   {
    "duration": 75,
    "start_time": "2021-12-05T13:32:43.994Z"
   },
   {
    "duration": 653,
    "start_time": "2021-12-05T13:32:44.072Z"
   },
   {
    "duration": 6,
    "start_time": "2021-12-05T13:32:44.944Z"
   },
   {
    "duration": 17,
    "start_time": "2021-12-05T13:32:56.046Z"
   },
   {
    "duration": 24,
    "start_time": "2021-12-05T13:33:05.166Z"
   },
   {
    "duration": 7,
    "start_time": "2021-12-05T13:40:27.610Z"
   },
   {
    "duration": 270,
    "start_time": "2021-12-05T13:42:32.839Z"
   },
   {
    "duration": 16,
    "start_time": "2021-12-05T13:43:01.014Z"
   },
   {
    "duration": 23,
    "start_time": "2021-12-05T13:43:09.318Z"
   },
   {
    "duration": 3405,
    "start_time": "2021-12-05T13:44:54.768Z"
   },
   {
    "duration": 7,
    "start_time": "2021-12-05T13:45:50.382Z"
   },
   {
    "duration": 34,
    "start_time": "2021-12-05T13:46:19.572Z"
   },
   {
    "duration": 23,
    "start_time": "2021-12-05T13:46:33.712Z"
   },
   {
    "duration": 25,
    "start_time": "2021-12-05T13:46:36.979Z"
   },
   {
    "duration": 264,
    "start_time": "2021-12-05T13:46:51.620Z"
   },
   {
    "duration": 402,
    "start_time": "2021-12-05T13:46:56.801Z"
   },
   {
    "duration": 274,
    "start_time": "2021-12-05T13:47:23.094Z"
   },
   {
    "duration": 12,
    "start_time": "2021-12-05T13:48:05.801Z"
   },
   {
    "duration": 6954,
    "start_time": "2021-12-05T13:50:58.108Z"
   },
   {
    "duration": 7156,
    "start_time": "2021-12-05T13:51:28.353Z"
   },
   {
    "duration": 82,
    "start_time": "2021-12-05T13:51:42.878Z"
   },
   {
    "duration": 19,
    "start_time": "2021-12-05T13:51:42.963Z"
   },
   {
    "duration": 21,
    "start_time": "2021-12-05T13:51:42.986Z"
   },
   {
    "duration": 20,
    "start_time": "2021-12-05T13:51:43.010Z"
   },
   {
    "duration": 22,
    "start_time": "2021-12-05T13:51:43.068Z"
   },
   {
    "duration": 8,
    "start_time": "2021-12-05T13:51:43.093Z"
   },
   {
    "duration": 15,
    "start_time": "2021-12-05T13:51:43.104Z"
   },
   {
    "duration": 48,
    "start_time": "2021-12-05T13:51:43.124Z"
   },
   {
    "duration": 74,
    "start_time": "2021-12-05T13:51:43.175Z"
   },
   {
    "duration": 734,
    "start_time": "2021-12-05T13:51:43.269Z"
   },
   {
    "duration": 5,
    "start_time": "2021-12-05T13:51:44.005Z"
   },
   {
    "duration": 33,
    "start_time": "2021-12-05T13:51:44.012Z"
   },
   {
    "duration": 25,
    "start_time": "2021-12-05T13:51:44.047Z"
   },
   {
    "duration": 29,
    "start_time": "2021-12-05T13:51:44.075Z"
   },
   {
    "duration": 6489,
    "start_time": "2021-12-05T13:51:45.438Z"
   },
   {
    "duration": 7103,
    "start_time": "2021-12-05T13:52:00.619Z"
   },
   {
    "duration": 833,
    "start_time": "2021-12-05T13:56:13.650Z"
   },
   {
    "duration": 16,
    "start_time": "2021-12-05T13:56:14.486Z"
   },
   {
    "duration": 64,
    "start_time": "2021-12-05T13:56:14.506Z"
   },
   {
    "duration": 13,
    "start_time": "2021-12-05T13:56:14.573Z"
   },
   {
    "duration": 25,
    "start_time": "2021-12-05T13:56:14.588Z"
   },
   {
    "duration": 6,
    "start_time": "2021-12-05T13:56:14.615Z"
   },
   {
    "duration": 45,
    "start_time": "2021-12-05T13:56:14.624Z"
   },
   {
    "duration": 9,
    "start_time": "2021-12-05T13:56:14.673Z"
   },
   {
    "duration": 47,
    "start_time": "2021-12-05T13:56:14.684Z"
   },
   {
    "duration": 657,
    "start_time": "2021-12-05T13:56:14.734Z"
   },
   {
    "duration": 6,
    "start_time": "2021-12-05T13:56:15.394Z"
   },
   {
    "duration": 30,
    "start_time": "2021-12-05T13:56:15.402Z"
   },
   {
    "duration": 34,
    "start_time": "2021-12-05T13:56:15.434Z"
   },
   {
    "duration": 21,
    "start_time": "2021-12-05T13:56:15.471Z"
   },
   {
    "duration": 7000,
    "start_time": "2021-12-05T13:56:15.494Z"
   },
   {
    "duration": -387,
    "start_time": "2021-12-05T13:56:22.884Z"
   },
   {
    "duration": 775,
    "start_time": "2021-12-05T13:56:29.803Z"
   },
   {
    "duration": 288,
    "start_time": "2021-12-05T13:56:51.190Z"
   },
   {
    "duration": 285,
    "start_time": "2021-12-05T13:57:27.278Z"
   },
   {
    "duration": 8,
    "start_time": "2021-12-05T13:57:41.493Z"
   },
   {
    "duration": 7036,
    "start_time": "2021-12-05T13:57:58.843Z"
   },
   {
    "duration": 5000,
    "start_time": "2021-12-05T13:58:17.496Z"
   },
   {
    "duration": 5715,
    "start_time": "2021-12-05T13:58:28.945Z"
   },
   {
    "duration": 7,
    "start_time": "2021-12-05T13:58:41.161Z"
   },
   {
    "duration": 17,
    "start_time": "2021-12-05T14:00:01.358Z"
   },
   {
    "duration": 7,
    "start_time": "2021-12-05T14:00:18.570Z"
   },
   {
    "duration": 14,
    "start_time": "2021-12-05T14:00:23.263Z"
   },
   {
    "duration": 11,
    "start_time": "2021-12-05T14:00:38.789Z"
   },
   {
    "duration": 7,
    "start_time": "2021-12-05T14:00:54.459Z"
   },
   {
    "duration": 290,
    "start_time": "2021-12-05T14:01:03.232Z"
   },
   {
    "duration": 276,
    "start_time": "2021-12-05T14:01:06.767Z"
   },
   {
    "duration": 332,
    "start_time": "2021-12-05T14:01:14.847Z"
   },
   {
    "duration": 6,
    "start_time": "2021-12-05T14:01:23.408Z"
   },
   {
    "duration": 26,
    "start_time": "2021-12-05T14:01:32.165Z"
   },
   {
    "duration": 25,
    "start_time": "2021-12-05T14:01:57.236Z"
   },
   {
    "duration": 25,
    "start_time": "2021-12-05T14:02:05.432Z"
   },
   {
    "duration": 13,
    "start_time": "2021-12-05T14:06:30.474Z"
   },
   {
    "duration": 26,
    "start_time": "2021-12-05T14:07:37.772Z"
   },
   {
    "duration": 24,
    "start_time": "2021-12-05T14:07:44.540Z"
   },
   {
    "duration": 63,
    "start_time": "2021-12-05T14:07:49.975Z"
   },
   {
    "duration": 15,
    "start_time": "2021-12-05T14:07:50.040Z"
   },
   {
    "duration": 27,
    "start_time": "2021-12-05T14:07:50.058Z"
   },
   {
    "duration": 23,
    "start_time": "2021-12-05T14:07:50.088Z"
   },
   {
    "duration": 26,
    "start_time": "2021-12-05T14:07:50.114Z"
   },
   {
    "duration": 32,
    "start_time": "2021-12-05T14:07:50.143Z"
   },
   {
    "duration": 24,
    "start_time": "2021-12-05T14:07:50.178Z"
   },
   {
    "duration": 9,
    "start_time": "2021-12-05T14:07:50.205Z"
   },
   {
    "duration": 77,
    "start_time": "2021-12-05T14:07:50.218Z"
   },
   {
    "duration": 621,
    "start_time": "2021-12-05T14:07:50.297Z"
   },
   {
    "duration": 6,
    "start_time": "2021-12-05T14:07:50.920Z"
   },
   {
    "duration": 16,
    "start_time": "2021-12-05T14:07:50.928Z"
   },
   {
    "duration": 28,
    "start_time": "2021-12-05T14:07:52.175Z"
   },
   {
    "duration": 6,
    "start_time": "2021-12-05T14:12:09.728Z"
   },
   {
    "duration": 21,
    "start_time": "2021-12-05T14:12:16.349Z"
   },
   {
    "duration": 23,
    "start_time": "2021-12-05T14:12:28.451Z"
   },
   {
    "duration": 6,
    "start_time": "2021-12-05T14:24:34.360Z"
   },
   {
    "duration": 16,
    "start_time": "2021-12-05T14:24:54.625Z"
   },
   {
    "duration": 6847,
    "start_time": "2021-12-05T14:28:22.607Z"
   },
   {
    "duration": 7,
    "start_time": "2021-12-05T14:28:47.789Z"
   },
   {
    "duration": 266,
    "start_time": "2021-12-05T14:29:10.331Z"
   },
   {
    "duration": 12,
    "start_time": "2021-12-05T14:29:26.183Z"
   },
   {
    "duration": 12,
    "start_time": "2021-12-05T14:29:51.248Z"
   },
   {
    "duration": 18,
    "start_time": "2021-12-05T14:29:58.616Z"
   },
   {
    "duration": 17,
    "start_time": "2021-12-05T14:30:48.101Z"
   },
   {
    "duration": 17,
    "start_time": "2021-12-05T14:31:12.874Z"
   },
   {
    "duration": 26,
    "start_time": "2021-12-05T14:31:45.927Z"
   },
   {
    "duration": 325,
    "start_time": "2021-12-05T14:45:09.589Z"
   },
   {
    "duration": 29,
    "start_time": "2021-12-05T14:45:13.861Z"
   },
   {
    "duration": 24,
    "start_time": "2021-12-05T14:45:21.086Z"
   },
   {
    "duration": 910,
    "start_time": "2021-12-05T14:48:37.561Z"
   },
   {
    "duration": 22,
    "start_time": "2021-12-05T14:48:38.475Z"
   },
   {
    "duration": 38,
    "start_time": "2021-12-05T14:48:38.501Z"
   },
   {
    "duration": 13,
    "start_time": "2021-12-05T14:48:38.566Z"
   },
   {
    "duration": 31,
    "start_time": "2021-12-05T14:48:38.582Z"
   },
   {
    "duration": 7,
    "start_time": "2021-12-05T14:48:38.616Z"
   },
   {
    "duration": 44,
    "start_time": "2021-12-05T14:48:38.626Z"
   },
   {
    "duration": 11,
    "start_time": "2021-12-05T14:48:38.672Z"
   },
   {
    "duration": 80,
    "start_time": "2021-12-05T14:48:38.688Z"
   },
   {
    "duration": 657,
    "start_time": "2021-12-05T14:48:38.771Z"
   },
   {
    "duration": 6,
    "start_time": "2021-12-05T14:48:39.430Z"
   },
   {
    "duration": 33,
    "start_time": "2021-12-05T14:48:39.438Z"
   },
   {
    "duration": 6,
    "start_time": "2021-12-05T14:48:39.473Z"
   },
   {
    "duration": 28,
    "start_time": "2021-12-05T14:48:39.481Z"
   },
   {
    "duration": 18,
    "start_time": "2021-12-05T14:48:39.511Z"
   },
   {
    "duration": 43,
    "start_time": "2021-12-05T14:48:39.531Z"
   },
   {
    "duration": 24,
    "start_time": "2021-12-05T14:48:39.576Z"
   },
   {
    "duration": 25,
    "start_time": "2021-12-05T14:48:39.603Z"
   },
   {
    "duration": 56,
    "start_time": "2021-12-05T14:48:39.630Z"
   },
   {
    "duration": 32,
    "start_time": "2021-12-05T14:51:30.191Z"
   },
   {
    "duration": 6,
    "start_time": "2021-12-05T14:58:23.830Z"
   },
   {
    "duration": 7,
    "start_time": "2021-12-05T14:59:06.752Z"
   },
   {
    "duration": 7,
    "start_time": "2021-12-05T14:59:24.879Z"
   },
   {
    "duration": 30,
    "start_time": "2021-12-05T15:00:04.272Z"
   },
   {
    "duration": 10,
    "start_time": "2021-12-05T15:00:11.041Z"
   },
   {
    "duration": 400,
    "start_time": "2021-12-05T15:01:28.913Z"
   },
   {
    "duration": 6,
    "start_time": "2021-12-05T15:01:32.120Z"
   },
   {
    "duration": 6,
    "start_time": "2021-12-05T15:01:39.349Z"
   },
   {
    "duration": 6,
    "start_time": "2021-12-05T15:01:42.168Z"
   },
   {
    "duration": 6,
    "start_time": "2021-12-05T15:01:48.516Z"
   },
   {
    "duration": 31,
    "start_time": "2021-12-05T15:02:41.770Z"
   },
   {
    "duration": 85,
    "start_time": "2021-12-05T15:05:31.462Z"
   },
   {
    "duration": 7,
    "start_time": "2021-12-05T15:05:36.131Z"
   },
   {
    "duration": 7,
    "start_time": "2021-12-05T15:06:10.098Z"
   },
   {
    "duration": 35,
    "start_time": "2021-12-05T15:09:23.256Z"
   },
   {
    "duration": 22,
    "start_time": "2021-12-05T15:09:39.836Z"
   },
   {
    "duration": 25,
    "start_time": "2021-12-05T15:09:46.737Z"
   },
   {
    "duration": 47,
    "start_time": "2021-12-05T15:10:02.799Z"
   },
   {
    "duration": 8,
    "start_time": "2021-12-05T15:12:12.180Z"
   },
   {
    "duration": 10,
    "start_time": "2021-12-05T15:12:19.256Z"
   },
   {
    "duration": 12,
    "start_time": "2021-12-05T15:13:00.251Z"
   },
   {
    "duration": 6,
    "start_time": "2021-12-05T15:13:09.316Z"
   },
   {
    "duration": 8,
    "start_time": "2021-12-05T15:13:39.088Z"
   },
   {
    "duration": 782,
    "start_time": "2021-12-05T15:13:46.807Z"
   },
   {
    "duration": 16,
    "start_time": "2021-12-05T15:13:47.591Z"
   },
   {
    "duration": 34,
    "start_time": "2021-12-05T15:13:47.610Z"
   },
   {
    "duration": 29,
    "start_time": "2021-12-05T15:13:47.647Z"
   },
   {
    "duration": 26,
    "start_time": "2021-12-05T15:13:47.678Z"
   },
   {
    "duration": 6,
    "start_time": "2021-12-05T15:13:47.706Z"
   },
   {
    "duration": 19,
    "start_time": "2021-12-05T15:13:47.715Z"
   },
   {
    "duration": 11,
    "start_time": "2021-12-05T15:13:47.766Z"
   },
   {
    "duration": 60,
    "start_time": "2021-12-05T15:13:47.782Z"
   },
   {
    "duration": 678,
    "start_time": "2021-12-05T15:13:47.845Z"
   },
   {
    "duration": 6,
    "start_time": "2021-12-05T15:13:48.525Z"
   },
   {
    "duration": 24,
    "start_time": "2021-12-05T15:13:48.533Z"
   },
   {
    "duration": 14,
    "start_time": "2021-12-05T15:13:48.559Z"
   },
   {
    "duration": 44,
    "start_time": "2021-12-05T15:13:48.575Z"
   },
   {
    "duration": 23,
    "start_time": "2021-12-05T15:13:48.621Z"
   },
   {
    "duration": 26,
    "start_time": "2021-12-05T15:13:48.646Z"
   },
   {
    "duration": 6,
    "start_time": "2021-12-05T15:13:48.674Z"
   },
   {
    "duration": 45,
    "start_time": "2021-12-05T15:13:48.682Z"
   },
   {
    "duration": 6,
    "start_time": "2021-12-05T15:13:48.729Z"
   },
   {
    "duration": 10,
    "start_time": "2021-12-05T15:13:48.768Z"
   },
   {
    "duration": 23,
    "start_time": "2021-12-05T15:13:48.780Z"
   },
   {
    "duration": 35,
    "start_time": "2021-12-05T15:13:48.805Z"
   },
   {
    "duration": 31,
    "start_time": "2021-12-05T15:13:48.842Z"
   },
   {
    "duration": 20,
    "start_time": "2021-12-05T15:13:48.876Z"
   },
   {
    "duration": 13,
    "start_time": "2021-12-05T15:13:55.787Z"
   },
   {
    "duration": 870,
    "start_time": "2021-12-05T15:14:19.836Z"
   },
   {
    "duration": 15,
    "start_time": "2021-12-05T15:14:20.709Z"
   },
   {
    "duration": 47,
    "start_time": "2021-12-05T15:14:20.731Z"
   },
   {
    "duration": 14,
    "start_time": "2021-12-05T15:14:20.780Z"
   },
   {
    "duration": 22,
    "start_time": "2021-12-05T15:14:20.796Z"
   },
   {
    "duration": 6,
    "start_time": "2021-12-05T15:14:20.820Z"
   },
   {
    "duration": 13,
    "start_time": "2021-12-05T15:14:20.866Z"
   },
   {
    "duration": 9,
    "start_time": "2021-12-05T15:14:20.882Z"
   },
   {
    "duration": 80,
    "start_time": "2021-12-05T15:14:20.894Z"
   },
   {
    "duration": 633,
    "start_time": "2021-12-05T15:14:20.977Z"
   },
   {
    "duration": 5,
    "start_time": "2021-12-05T15:14:21.613Z"
   },
   {
    "duration": 23,
    "start_time": "2021-12-05T15:14:21.620Z"
   },
   {
    "duration": 23,
    "start_time": "2021-12-05T15:14:21.646Z"
   },
   {
    "duration": 26,
    "start_time": "2021-12-05T15:14:21.671Z"
   },
   {
    "duration": 23,
    "start_time": "2021-12-05T15:14:21.700Z"
   },
   {
    "duration": 43,
    "start_time": "2021-12-05T15:14:21.725Z"
   },
   {
    "duration": 5,
    "start_time": "2021-12-05T15:14:21.771Z"
   },
   {
    "duration": 61,
    "start_time": "2021-12-05T15:14:21.778Z"
   },
   {
    "duration": 6,
    "start_time": "2021-12-05T15:14:21.841Z"
   },
   {
    "duration": 25,
    "start_time": "2021-12-05T15:14:21.850Z"
   },
   {
    "duration": 10,
    "start_time": "2021-12-05T15:14:21.878Z"
   },
   {
    "duration": 26,
    "start_time": "2021-12-05T15:14:21.892Z"
   },
   {
    "duration": 56,
    "start_time": "2021-12-05T15:14:21.920Z"
   },
   {
    "duration": 19,
    "start_time": "2021-12-05T15:14:21.979Z"
   },
   {
    "duration": 874,
    "start_time": "2021-12-05T15:14:51.933Z"
   },
   {
    "duration": 15,
    "start_time": "2021-12-05T15:14:52.810Z"
   },
   {
    "duration": 47,
    "start_time": "2021-12-05T15:14:52.827Z"
   },
   {
    "duration": 12,
    "start_time": "2021-12-05T15:14:52.876Z"
   },
   {
    "duration": 21,
    "start_time": "2021-12-05T15:14:52.891Z"
   },
   {
    "duration": 6,
    "start_time": "2021-12-05T15:14:52.914Z"
   },
   {
    "duration": 47,
    "start_time": "2021-12-05T15:14:52.922Z"
   },
   {
    "duration": 10,
    "start_time": "2021-12-05T15:14:52.974Z"
   },
   {
    "duration": 81,
    "start_time": "2021-12-05T15:14:52.988Z"
   },
   {
    "duration": 643,
    "start_time": "2021-12-05T15:14:53.071Z"
   },
   {
    "duration": 5,
    "start_time": "2021-12-05T15:14:53.717Z"
   },
   {
    "duration": 18,
    "start_time": "2021-12-05T15:14:53.724Z"
   },
   {
    "duration": 25,
    "start_time": "2021-12-05T15:14:53.744Z"
   },
   {
    "duration": 28,
    "start_time": "2021-12-05T15:14:53.771Z"
   },
   {
    "duration": 18,
    "start_time": "2021-12-05T15:14:53.801Z"
   },
   {
    "duration": 16,
    "start_time": "2021-12-05T15:14:53.821Z"
   },
   {
    "duration": 6,
    "start_time": "2021-12-05T15:14:53.868Z"
   },
   {
    "duration": 45,
    "start_time": "2021-12-05T15:14:53.876Z"
   },
   {
    "duration": 6,
    "start_time": "2021-12-05T15:14:53.924Z"
   },
   {
    "duration": 45,
    "start_time": "2021-12-05T15:14:53.932Z"
   },
   {
    "duration": 8,
    "start_time": "2021-12-05T15:14:53.980Z"
   },
   {
    "duration": 26,
    "start_time": "2021-12-05T15:14:53.991Z"
   },
   {
    "duration": 60,
    "start_time": "2021-12-05T15:14:54.023Z"
   },
   {
    "duration": 22,
    "start_time": "2021-12-05T15:14:54.086Z"
   },
   {
    "duration": 10,
    "start_time": "2021-12-05T15:16:15.374Z"
   },
   {
    "duration": 7,
    "start_time": "2021-12-05T15:16:16.884Z"
   },
   {
    "duration": 11,
    "start_time": "2021-12-05T15:16:18.050Z"
   },
   {
    "duration": 818,
    "start_time": "2021-12-05T15:16:29.166Z"
   },
   {
    "duration": 16,
    "start_time": "2021-12-05T15:16:29.986Z"
   },
   {
    "duration": 33,
    "start_time": "2021-12-05T15:16:30.006Z"
   },
   {
    "duration": 34,
    "start_time": "2021-12-05T15:16:30.042Z"
   },
   {
    "duration": 25,
    "start_time": "2021-12-05T15:16:30.079Z"
   },
   {
    "duration": 6,
    "start_time": "2021-12-05T15:16:30.107Z"
   },
   {
    "duration": 19,
    "start_time": "2021-12-05T15:16:30.116Z"
   },
   {
    "duration": 39,
    "start_time": "2021-12-05T15:16:30.138Z"
   },
   {
    "duration": 63,
    "start_time": "2021-12-05T15:16:30.182Z"
   },
   {
    "duration": 647,
    "start_time": "2021-12-05T15:16:30.248Z"
   },
   {
    "duration": 5,
    "start_time": "2021-12-05T15:16:30.898Z"
   },
   {
    "duration": 24,
    "start_time": "2021-12-05T15:16:30.906Z"
   },
   {
    "duration": 7,
    "start_time": "2021-12-05T15:16:30.933Z"
   },
   {
    "duration": 45,
    "start_time": "2021-12-05T15:16:30.943Z"
   },
   {
    "duration": 18,
    "start_time": "2021-12-05T15:16:30.991Z"
   },
   {
    "duration": 17,
    "start_time": "2021-12-05T15:16:31.011Z"
   },
   {
    "duration": 39,
    "start_time": "2021-12-05T15:16:31.030Z"
   },
   {
    "duration": 12,
    "start_time": "2021-12-05T15:16:31.071Z"
   },
   {
    "duration": 14,
    "start_time": "2021-12-05T15:16:31.085Z"
   },
   {
    "duration": 21,
    "start_time": "2021-12-05T15:16:31.101Z"
   },
   {
    "duration": 7,
    "start_time": "2021-12-05T15:16:31.124Z"
   },
   {
    "duration": 52,
    "start_time": "2021-12-05T15:16:31.133Z"
   },
   {
    "duration": 26,
    "start_time": "2021-12-05T15:16:31.187Z"
   },
   {
    "duration": 51,
    "start_time": "2021-12-05T15:16:31.216Z"
   },
   {
    "duration": 65,
    "start_time": "2021-12-05T15:18:32.331Z"
   },
   {
    "duration": 70,
    "start_time": "2021-12-05T15:18:53.412Z"
   },
   {
    "duration": 71,
    "start_time": "2021-12-05T15:18:59.281Z"
   },
   {
    "duration": 65,
    "start_time": "2021-12-05T15:19:30.439Z"
   },
   {
    "duration": 7,
    "start_time": "2021-12-05T15:20:22.906Z"
   },
   {
    "duration": 6,
    "start_time": "2021-12-05T15:20:25.048Z"
   },
   {
    "duration": 11,
    "start_time": "2021-12-05T15:20:25.934Z"
   },
   {
    "duration": 877,
    "start_time": "2021-12-05T15:20:35.887Z"
   },
   {
    "duration": 16,
    "start_time": "2021-12-05T15:20:36.766Z"
   },
   {
    "duration": 29,
    "start_time": "2021-12-05T15:20:36.789Z"
   },
   {
    "duration": 23,
    "start_time": "2021-12-05T15:20:36.821Z"
   },
   {
    "duration": 24,
    "start_time": "2021-12-05T15:20:36.867Z"
   },
   {
    "duration": 6,
    "start_time": "2021-12-05T15:20:36.893Z"
   },
   {
    "duration": 15,
    "start_time": "2021-12-05T15:20:36.901Z"
   },
   {
    "duration": 8,
    "start_time": "2021-12-05T15:20:36.920Z"
   },
   {
    "duration": 81,
    "start_time": "2021-12-05T15:20:36.931Z"
   },
   {
    "duration": 747,
    "start_time": "2021-12-05T15:20:37.014Z"
   },
   {
    "duration": 6,
    "start_time": "2021-12-05T15:20:37.764Z"
   },
   {
    "duration": 19,
    "start_time": "2021-12-05T15:20:37.773Z"
   },
   {
    "duration": 16,
    "start_time": "2021-12-05T15:20:37.794Z"
   },
   {
    "duration": 36,
    "start_time": "2021-12-05T15:20:37.813Z"
   },
   {
    "duration": 30,
    "start_time": "2021-12-05T15:20:37.852Z"
   },
   {
    "duration": 18,
    "start_time": "2021-12-05T15:20:37.884Z"
   },
   {
    "duration": 7,
    "start_time": "2021-12-05T15:20:37.904Z"
   },
   {
    "duration": 9,
    "start_time": "2021-12-05T15:20:37.913Z"
   },
   {
    "duration": 46,
    "start_time": "2021-12-05T15:20:37.924Z"
   },
   {
    "duration": 18,
    "start_time": "2021-12-05T15:20:37.972Z"
   },
   {
    "duration": 21,
    "start_time": "2021-12-05T15:20:37.992Z"
   },
   {
    "duration": 40,
    "start_time": "2021-12-05T15:20:38.015Z"
   },
   {
    "duration": 27,
    "start_time": "2021-12-05T15:20:38.057Z"
   },
   {
    "duration": 25,
    "start_time": "2021-12-05T15:20:38.086Z"
   },
   {
    "duration": 9,
    "start_time": "2021-12-05T15:21:20.724Z"
   },
   {
    "duration": 10,
    "start_time": "2021-12-05T15:22:08.314Z"
   },
   {
    "duration": 7,
    "start_time": "2021-12-05T15:22:24.512Z"
   },
   {
    "duration": 6,
    "start_time": "2021-12-05T15:23:22.845Z"
   },
   {
    "duration": 824,
    "start_time": "2021-12-05T15:25:38.374Z"
   },
   {
    "duration": 17,
    "start_time": "2021-12-05T15:25:39.340Z"
   },
   {
    "duration": 32,
    "start_time": "2021-12-05T15:25:41.093Z"
   },
   {
    "duration": 13,
    "start_time": "2021-12-05T15:25:45.308Z"
   },
   {
    "duration": 24,
    "start_time": "2021-12-05T15:25:46.848Z"
   },
   {
    "duration": 8,
    "start_time": "2021-12-05T15:34:53.528Z"
   },
   {
    "duration": 11,
    "start_time": "2021-12-05T15:35:03.711Z"
   },
   {
    "duration": 1381,
    "start_time": "2021-12-05T15:35:59.934Z"
   },
   {
    "duration": 720,
    "start_time": "2021-12-05T15:36:10.500Z"
   },
   {
    "duration": 663,
    "start_time": "2021-12-05T15:38:53.848Z"
   },
   {
    "duration": 627,
    "start_time": "2021-12-05T15:40:31.443Z"
   },
   {
    "duration": 11,
    "start_time": "2021-12-05T15:40:40.709Z"
   },
   {
    "duration": 9,
    "start_time": "2021-12-05T15:40:41.565Z"
   },
   {
    "duration": 45,
    "start_time": "2021-12-05T15:40:44.082Z"
   },
   {
    "duration": 628,
    "start_time": "2021-12-05T15:40:50.641Z"
   },
   {
    "duration": 9,
    "start_time": "2021-12-05T15:41:09.508Z"
   },
   {
    "duration": 11,
    "start_time": "2021-12-05T15:41:44.330Z"
   },
   {
    "duration": 814,
    "start_time": "2021-12-05T15:42:34.737Z"
   },
   {
    "duration": 13,
    "start_time": "2021-12-05T15:42:36.956Z"
   },
   {
    "duration": 7,
    "start_time": "2021-12-05T15:42:43.347Z"
   },
   {
    "duration": 769,
    "start_time": "2021-12-05T15:43:17.144Z"
   },
   {
    "duration": 812,
    "start_time": "2021-12-05T15:43:32.699Z"
   },
   {
    "duration": 16,
    "start_time": "2021-12-05T15:43:33.514Z"
   },
   {
    "duration": 47,
    "start_time": "2021-12-05T15:43:33.534Z"
   },
   {
    "duration": 15,
    "start_time": "2021-12-05T15:43:33.585Z"
   },
   {
    "duration": 36,
    "start_time": "2021-12-05T15:43:33.603Z"
   },
   {
    "duration": 30,
    "start_time": "2021-12-05T15:43:33.642Z"
   },
   {
    "duration": 742,
    "start_time": "2021-12-05T15:43:33.675Z"
   },
   {
    "duration": 11,
    "start_time": "2021-12-05T15:43:34.419Z"
   },
   {
    "duration": 9,
    "start_time": "2021-12-05T15:43:34.433Z"
   },
   {
    "duration": 48,
    "start_time": "2021-12-05T15:43:34.468Z"
   },
   {
    "duration": 651,
    "start_time": "2021-12-05T15:43:34.518Z"
   },
   {
    "duration": 738,
    "start_time": "2021-12-05T15:43:35.171Z"
   },
   {
    "duration": 15,
    "start_time": "2021-12-05T15:43:39.052Z"
   },
   {
    "duration": 8,
    "start_time": "2021-12-05T15:44:06.865Z"
   },
   {
    "duration": 12,
    "start_time": "2021-12-05T15:44:44.240Z"
   },
   {
    "duration": 11,
    "start_time": "2021-12-05T15:44:47.800Z"
   },
   {
    "duration": 36,
    "start_time": "2021-12-05T15:44:54.014Z"
   },
   {
    "duration": 19,
    "start_time": "2021-12-05T15:45:05.796Z"
   },
   {
    "duration": 1031,
    "start_time": "2021-12-05T15:45:35.225Z"
   },
   {
    "duration": 16,
    "start_time": "2021-12-05T15:45:36.259Z"
   },
   {
    "duration": 34,
    "start_time": "2021-12-05T15:45:36.279Z"
   },
   {
    "duration": 14,
    "start_time": "2021-12-05T15:45:36.316Z"
   },
   {
    "duration": 53,
    "start_time": "2021-12-05T15:45:36.333Z"
   },
   {
    "duration": 8,
    "start_time": "2021-12-05T15:45:36.389Z"
   },
   {
    "duration": 743,
    "start_time": "2021-12-05T15:45:36.400Z"
   },
   {
    "duration": 22,
    "start_time": "2021-12-05T15:45:37.145Z"
   },
   {
    "duration": 9,
    "start_time": "2021-12-05T15:45:37.172Z"
   },
   {
    "duration": 46,
    "start_time": "2021-12-05T15:45:37.183Z"
   },
   {
    "duration": 627,
    "start_time": "2021-12-05T15:45:37.232Z"
   },
   {
    "duration": 738,
    "start_time": "2021-12-05T15:45:37.861Z"
   },
   {
    "duration": 13,
    "start_time": "2021-12-05T15:45:38.602Z"
   },
   {
    "duration": 5,
    "start_time": "2021-12-05T15:45:38.618Z"
   },
   {
    "duration": 53,
    "start_time": "2021-12-05T15:45:38.625Z"
   },
   {
    "duration": 19,
    "start_time": "2021-12-05T15:45:38.680Z"
   },
   {
    "duration": 18,
    "start_time": "2021-12-05T15:45:38.701Z"
   },
   {
    "duration": 6,
    "start_time": "2021-12-05T15:45:38.722Z"
   },
   {
    "duration": 6,
    "start_time": "2021-12-05T15:45:38.768Z"
   },
   {
    "duration": 8,
    "start_time": "2021-12-05T15:45:38.776Z"
   },
   {
    "duration": 6,
    "start_time": "2021-12-05T15:46:02.253Z"
   },
   {
    "duration": 6,
    "start_time": "2021-12-05T15:46:03.463Z"
   },
   {
    "duration": 7,
    "start_time": "2021-12-05T15:46:27.410Z"
   },
   {
    "duration": 422,
    "start_time": "2021-12-05T15:49:38.601Z"
   },
   {
    "duration": 707,
    "start_time": "2021-12-05T15:50:03.456Z"
   },
   {
    "duration": 8,
    "start_time": "2021-12-05T15:50:13.011Z"
   },
   {
    "duration": 1100,
    "start_time": "2021-12-05T15:50:52.043Z"
   },
   {
    "duration": 21,
    "start_time": "2021-12-05T15:50:53.146Z"
   },
   {
    "duration": 38,
    "start_time": "2021-12-05T15:50:53.171Z"
   },
   {
    "duration": 17,
    "start_time": "2021-12-05T15:50:53.213Z"
   },
   {
    "duration": 54,
    "start_time": "2021-12-05T15:50:53.233Z"
   },
   {
    "duration": 8,
    "start_time": "2021-12-05T15:50:53.290Z"
   },
   {
    "duration": 966,
    "start_time": "2021-12-05T15:50:53.301Z"
   },
   {
    "duration": 11,
    "start_time": "2021-12-05T15:50:54.269Z"
   },
   {
    "duration": 9,
    "start_time": "2021-12-05T15:50:54.284Z"
   },
   {
    "duration": 80,
    "start_time": "2021-12-05T15:50:54.296Z"
   },
   {
    "duration": 821,
    "start_time": "2021-12-05T15:50:54.379Z"
   },
   {
    "duration": 783,
    "start_time": "2021-12-05T15:50:55.203Z"
   },
   {
    "duration": 17,
    "start_time": "2021-12-05T15:50:55.989Z"
   },
   {
    "duration": 7,
    "start_time": "2021-12-05T15:50:56.009Z"
   },
   {
    "duration": 59,
    "start_time": "2021-12-05T15:50:56.020Z"
   },
   {
    "duration": 18,
    "start_time": "2021-12-05T15:50:56.081Z"
   },
   {
    "duration": 17,
    "start_time": "2021-12-05T15:50:56.102Z"
   },
   {
    "duration": 6,
    "start_time": "2021-12-05T15:50:56.121Z"
   },
   {
    "duration": 7,
    "start_time": "2021-12-05T15:50:56.168Z"
   },
   {
    "duration": 7,
    "start_time": "2021-12-05T15:50:56.177Z"
   },
   {
    "duration": 15,
    "start_time": "2021-12-05T15:51:03.473Z"
   },
   {
    "duration": 12,
    "start_time": "2021-12-05T15:51:20.221Z"
   },
   {
    "duration": 10,
    "start_time": "2021-12-05T15:51:41.239Z"
   },
   {
    "duration": 600,
    "start_time": "2021-12-05T15:51:46.557Z"
   },
   {
    "duration": 7,
    "start_time": "2021-12-05T15:51:47.610Z"
   },
   {
    "duration": 12,
    "start_time": "2021-12-05T15:52:28.995Z"
   },
   {
    "duration": 829,
    "start_time": "2021-12-05T15:52:39.945Z"
   },
   {
    "duration": 15,
    "start_time": "2021-12-05T15:52:40.776Z"
   },
   {
    "duration": 33,
    "start_time": "2021-12-05T15:52:40.794Z"
   },
   {
    "duration": 13,
    "start_time": "2021-12-05T15:52:40.830Z"
   },
   {
    "duration": 44,
    "start_time": "2021-12-05T15:52:40.845Z"
   },
   {
    "duration": 14,
    "start_time": "2021-12-05T15:52:40.892Z"
   },
   {
    "duration": 753,
    "start_time": "2021-12-05T15:52:40.908Z"
   },
   {
    "duration": 12,
    "start_time": "2021-12-05T15:52:41.667Z"
   },
   {
    "duration": 22,
    "start_time": "2021-12-05T15:52:41.685Z"
   },
   {
    "duration": 65,
    "start_time": "2021-12-05T15:52:41.711Z"
   },
   {
    "duration": 657,
    "start_time": "2021-12-05T15:52:41.780Z"
   },
   {
    "duration": 790,
    "start_time": "2021-12-05T15:52:42.440Z"
   },
   {
    "duration": 15,
    "start_time": "2021-12-05T15:52:43.233Z"
   },
   {
    "duration": 23,
    "start_time": "2021-12-05T15:52:43.250Z"
   },
   {
    "duration": 39,
    "start_time": "2021-12-05T15:52:43.275Z"
   },
   {
    "duration": 26,
    "start_time": "2021-12-05T15:52:43.317Z"
   },
   {
    "duration": 38,
    "start_time": "2021-12-05T15:52:43.345Z"
   },
   {
    "duration": 10,
    "start_time": "2021-12-05T15:52:43.386Z"
   },
   {
    "duration": 17,
    "start_time": "2021-12-05T15:52:43.399Z"
   },
   {
    "duration": 24,
    "start_time": "2021-12-05T15:52:43.419Z"
   },
   {
    "duration": 11,
    "start_time": "2021-12-05T15:52:44.861Z"
   },
   {
    "duration": 11,
    "start_time": "2021-12-05T15:52:59.711Z"
   },
   {
    "duration": 11,
    "start_time": "2021-12-05T15:53:08.276Z"
   },
   {
    "duration": 11,
    "start_time": "2021-12-05T15:53:23.028Z"
   },
   {
    "duration": 11,
    "start_time": "2021-12-05T15:53:32.600Z"
   },
   {
    "duration": 694,
    "start_time": "2021-12-05T15:53:34.219Z"
   },
   {
    "duration": 7,
    "start_time": "2021-12-05T15:53:35.478Z"
   },
   {
    "duration": 832,
    "start_time": "2021-12-05T15:53:49.044Z"
   },
   {
    "duration": 18,
    "start_time": "2021-12-05T15:53:49.879Z"
   },
   {
    "duration": 28,
    "start_time": "2021-12-05T15:53:49.900Z"
   },
   {
    "duration": 38,
    "start_time": "2021-12-05T15:53:49.931Z"
   },
   {
    "duration": 22,
    "start_time": "2021-12-05T15:53:49.971Z"
   },
   {
    "duration": 8,
    "start_time": "2021-12-05T15:53:49.995Z"
   },
   {
    "duration": 843,
    "start_time": "2021-12-05T15:53:50.005Z"
   },
   {
    "duration": 16,
    "start_time": "2021-12-05T15:53:50.852Z"
   },
   {
    "duration": 8,
    "start_time": "2021-12-05T15:53:50.871Z"
   },
   {
    "duration": 47,
    "start_time": "2021-12-05T15:53:50.881Z"
   },
   {
    "duration": 627,
    "start_time": "2021-12-05T15:53:50.930Z"
   },
   {
    "duration": 708,
    "start_time": "2021-12-05T15:53:51.559Z"
   },
   {
    "duration": 12,
    "start_time": "2021-12-05T15:53:52.269Z"
   },
   {
    "duration": 5,
    "start_time": "2021-12-05T15:53:52.284Z"
   },
   {
    "duration": 24,
    "start_time": "2021-12-05T15:53:52.292Z"
   },
   {
    "duration": 49,
    "start_time": "2021-12-05T15:53:52.319Z"
   },
   {
    "duration": 17,
    "start_time": "2021-12-05T15:53:52.371Z"
   },
   {
    "duration": 6,
    "start_time": "2021-12-05T15:53:52.390Z"
   },
   {
    "duration": 8,
    "start_time": "2021-12-05T15:53:52.398Z"
   },
   {
    "duration": 10,
    "start_time": "2021-12-05T15:53:52.408Z"
   },
   {
    "duration": 51,
    "start_time": "2021-12-05T15:53:52.420Z"
   },
   {
    "duration": 613,
    "start_time": "2021-12-05T15:53:52.473Z"
   },
   {
    "duration": 6,
    "start_time": "2021-12-05T15:53:53.090Z"
   },
   {
    "duration": 29,
    "start_time": "2021-12-05T15:53:53.099Z"
   },
   {
    "duration": 50,
    "start_time": "2021-12-05T15:53:53.130Z"
   },
   {
    "duration": 22,
    "start_time": "2021-12-05T15:53:53.182Z"
   },
   {
    "duration": 61,
    "start_time": "2021-12-05T15:55:08.383Z"
   },
   {
    "duration": 14,
    "start_time": "2021-12-05T15:55:08.447Z"
   },
   {
    "duration": 20,
    "start_time": "2021-12-05T15:55:08.469Z"
   },
   {
    "duration": 16,
    "start_time": "2021-12-05T15:55:08.492Z"
   },
   {
    "duration": 23,
    "start_time": "2021-12-05T15:55:08.511Z"
   },
   {
    "duration": 36,
    "start_time": "2021-12-05T15:55:08.537Z"
   },
   {
    "duration": 731,
    "start_time": "2021-12-05T15:55:08.576Z"
   },
   {
    "duration": 11,
    "start_time": "2021-12-05T15:55:09.310Z"
   },
   {
    "duration": 8,
    "start_time": "2021-12-05T15:55:09.323Z"
   },
   {
    "duration": 70,
    "start_time": "2021-12-05T15:55:09.333Z"
   },
   {
    "duration": 708,
    "start_time": "2021-12-05T15:55:09.406Z"
   },
   {
    "duration": 714,
    "start_time": "2021-12-05T15:55:10.116Z"
   },
   {
    "duration": 13,
    "start_time": "2021-12-05T15:55:10.832Z"
   },
   {
    "duration": 20,
    "start_time": "2021-12-05T15:55:10.847Z"
   },
   {
    "duration": 45,
    "start_time": "2021-12-05T15:55:10.869Z"
   },
   {
    "duration": 26,
    "start_time": "2021-12-05T15:55:10.916Z"
   },
   {
    "duration": 26,
    "start_time": "2021-12-05T15:55:10.944Z"
   },
   {
    "duration": 8,
    "start_time": "2021-12-05T15:55:10.972Z"
   },
   {
    "duration": 26,
    "start_time": "2021-12-05T15:55:10.982Z"
   },
   {
    "duration": 30,
    "start_time": "2021-12-05T15:55:11.010Z"
   },
   {
    "duration": 601,
    "start_time": "2021-12-05T15:55:11.835Z"
   },
   {
    "duration": 24,
    "start_time": "2021-12-05T15:55:31.480Z"
   },
   {
    "duration": 24,
    "start_time": "2021-12-05T15:55:32.385Z"
   },
   {
    "duration": 24,
    "start_time": "2021-12-05T15:55:33.102Z"
   },
   {
    "duration": 7,
    "start_time": "2021-12-05T15:57:13.940Z"
   },
   {
    "duration": 8,
    "start_time": "2021-12-05T16:01:09.897Z"
   },
   {
    "duration": 3,
    "start_time": "2021-12-05T16:59:28.370Z"
   },
   {
    "duration": 1964,
    "start_time": "2021-12-05T17:00:09.130Z"
   },
   {
    "duration": 271,
    "start_time": "2021-12-05T17:00:36.390Z"
   },
   {
    "duration": 826,
    "start_time": "2021-12-05T17:00:45.439Z"
   },
   {
    "duration": 286,
    "start_time": "2021-12-05T17:01:43.631Z"
   },
   {
    "duration": 4621,
    "start_time": "2021-12-05T17:10:25.509Z"
   },
   {
    "duration": 4806,
    "start_time": "2021-12-05T17:10:46.341Z"
   },
   {
    "duration": 5169,
    "start_time": "2021-12-05T17:11:13.595Z"
   },
   {
    "duration": 4607,
    "start_time": "2021-12-05T17:11:24.719Z"
   },
   {
    "duration": 8,
    "start_time": "2021-12-05T17:16:41.081Z"
   },
   {
    "duration": 6,
    "start_time": "2021-12-05T17:19:12.479Z"
   },
   {
    "duration": 5,
    "start_time": "2021-12-05T17:22:12.840Z"
   },
   {
    "duration": 4,
    "start_time": "2021-12-05T17:22:25.313Z"
   },
   {
    "duration": 280,
    "start_time": "2021-12-05T17:23:01.996Z"
   },
   {
    "duration": 295,
    "start_time": "2021-12-05T17:23:07.020Z"
   },
   {
    "duration": 6,
    "start_time": "2021-12-05T17:23:11.063Z"
   },
   {
    "duration": 464,
    "start_time": "2021-12-05T17:23:11.798Z"
   },
   {
    "duration": 456,
    "start_time": "2021-12-05T17:23:48.572Z"
   },
   {
    "duration": 445,
    "start_time": "2021-12-05T17:25:38.129Z"
   },
   {
    "duration": 8,
    "start_time": "2021-12-05T17:27:10.346Z"
   },
   {
    "duration": 6,
    "start_time": "2021-12-05T17:27:16.480Z"
   },
   {
    "duration": 6,
    "start_time": "2021-12-05T17:27:24.078Z"
   },
   {
    "duration": 6,
    "start_time": "2021-12-05T17:27:24.527Z"
   },
   {
    "duration": 455,
    "start_time": "2021-12-05T17:27:43.856Z"
   },
   {
    "duration": 7,
    "start_time": "2021-12-05T17:27:52.160Z"
   },
   {
    "duration": 6,
    "start_time": "2021-12-05T17:27:57.743Z"
   },
   {
    "duration": 6,
    "start_time": "2021-12-05T17:28:31.324Z"
   },
   {
    "duration": 6,
    "start_time": "2021-12-05T17:28:39.646Z"
   },
   {
    "duration": 7,
    "start_time": "2021-12-05T17:28:47.495Z"
   },
   {
    "duration": 4,
    "start_time": "2021-12-05T17:30:33.552Z"
   },
   {
    "duration": 4,
    "start_time": "2021-12-05T17:30:37.297Z"
   },
   {
    "duration": 6,
    "start_time": "2021-12-05T17:30:41.734Z"
   },
   {
    "duration": 5,
    "start_time": "2021-12-05T17:30:42.150Z"
   },
   {
    "duration": 6,
    "start_time": "2021-12-05T17:33:58.426Z"
   },
   {
    "duration": 7,
    "start_time": "2021-12-05T17:34:09.310Z"
   },
   {
    "duration": 3,
    "start_time": "2021-12-05T17:34:24.560Z"
   },
   {
    "duration": 6,
    "start_time": "2021-12-05T17:34:24.948Z"
   },
   {
    "duration": 1092,
    "start_time": "2021-12-05T17:35:29.448Z"
   },
   {
    "duration": 7,
    "start_time": "2021-12-05T17:35:38.104Z"
   },
   {
    "duration": 1050,
    "start_time": "2021-12-05T17:35:38.857Z"
   },
   {
    "duration": 3,
    "start_time": "2021-12-05T17:35:43.312Z"
   },
   {
    "duration": 6,
    "start_time": "2021-12-05T17:35:44.721Z"
   },
   {
    "duration": 1088,
    "start_time": "2021-12-05T17:35:45.407Z"
   },
   {
    "duration": 311,
    "start_time": "2021-12-05T17:36:53.908Z"
   },
   {
    "duration": 1084,
    "start_time": "2021-12-05T17:37:04.575Z"
   },
   {
    "duration": 1263,
    "start_time": "2021-12-05T17:38:56.508Z"
   },
   {
    "duration": 22,
    "start_time": "2021-12-05T17:39:08.352Z"
   },
   {
    "duration": 8,
    "start_time": "2021-12-05T17:39:41.985Z"
   },
   {
    "duration": 1106,
    "start_time": "2021-12-05T17:40:01.665Z"
   },
   {
    "duration": 290,
    "start_time": "2021-12-05T17:40:09.171Z"
   },
   {
    "duration": 409,
    "start_time": "2021-12-05T17:40:41.829Z"
   },
   {
    "duration": 7,
    "start_time": "2021-12-05T17:40:49.570Z"
   },
   {
    "duration": 367,
    "start_time": "2021-12-05T17:40:50.664Z"
   },
   {
    "duration": 50,
    "start_time": "2021-12-05T17:41:04.440Z"
   },
   {
    "duration": 43,
    "start_time": "2021-12-05T17:41:08.480Z"
   },
   {
    "duration": 7,
    "start_time": "2021-12-05T17:41:10.486Z"
   },
   {
    "duration": 41,
    "start_time": "2021-12-05T17:41:11.186Z"
   },
   {
    "duration": 11,
    "start_time": "2021-12-05T17:41:31.720Z"
   },
   {
    "duration": 9,
    "start_time": "2021-12-05T17:42:24.273Z"
   },
   {
    "duration": 486,
    "start_time": "2021-12-05T17:44:02.965Z"
   },
   {
    "duration": 4,
    "start_time": "2021-12-05T17:44:07.758Z"
   },
   {
    "duration": 6,
    "start_time": "2021-12-05T17:44:08.650Z"
   },
   {
    "duration": 40,
    "start_time": "2021-12-05T17:44:10.191Z"
   },
   {
    "duration": 7,
    "start_time": "2021-12-05T17:44:10.998Z"
   },
   {
    "duration": 7,
    "start_time": "2021-12-05T17:46:26.863Z"
   },
   {
    "duration": 6,
    "start_time": "2021-12-05T17:54:18.679Z"
   },
   {
    "duration": 11,
    "start_time": "2021-12-05T17:55:14.098Z"
   },
   {
    "duration": 31,
    "start_time": "2021-12-05T17:55:18.211Z"
   },
   {
    "duration": 8,
    "start_time": "2021-12-05T17:55:58.897Z"
   },
   {
    "duration": 30,
    "start_time": "2021-12-05T17:56:13.773Z"
   },
   {
    "duration": 32,
    "start_time": "2021-12-05T17:56:35.133Z"
   },
   {
    "duration": 8,
    "start_time": "2021-12-05T17:56:59.838Z"
   },
   {
    "duration": 7,
    "start_time": "2021-12-05T17:57:52.166Z"
   },
   {
    "duration": 13,
    "start_time": "2021-12-05T17:58:21.833Z"
   },
   {
    "duration": 10,
    "start_time": "2021-12-05T17:58:27.233Z"
   },
   {
    "duration": 8,
    "start_time": "2021-12-05T18:07:26.901Z"
   },
   {
    "duration": 269,
    "start_time": "2021-12-05T18:16:10.673Z"
   },
   {
    "duration": 16,
    "start_time": "2021-12-05T18:16:17.870Z"
   },
   {
    "duration": 14,
    "start_time": "2021-12-05T18:16:20.610Z"
   },
   {
    "duration": 16,
    "start_time": "2021-12-05T18:16:28.768Z"
   },
   {
    "duration": 18,
    "start_time": "2021-12-05T18:17:14.206Z"
   },
   {
    "duration": 24,
    "start_time": "2021-12-05T18:17:40.990Z"
   },
   {
    "duration": 60,
    "start_time": "2021-12-05T18:17:55.880Z"
   },
   {
    "duration": 45,
    "start_time": "2021-12-05T18:18:09.079Z"
   },
   {
    "duration": 24,
    "start_time": "2021-12-05T18:18:25.728Z"
   },
   {
    "duration": 20,
    "start_time": "2021-12-05T18:18:49.243Z"
   },
   {
    "duration": 35,
    "start_time": "2021-12-05T18:19:11.152Z"
   },
   {
    "duration": 42,
    "start_time": "2021-12-05T18:19:19.553Z"
   },
   {
    "duration": 45,
    "start_time": "2021-12-05T18:19:31.768Z"
   },
   {
    "duration": 37,
    "start_time": "2021-12-05T18:19:40.071Z"
   },
   {
    "duration": 285,
    "start_time": "2021-12-05T18:20:09.290Z"
   },
   {
    "duration": 29,
    "start_time": "2021-12-05T18:20:41.229Z"
   },
   {
    "duration": 31,
    "start_time": "2021-12-05T18:21:03.420Z"
   },
   {
    "duration": 28,
    "start_time": "2021-12-05T18:21:41.573Z"
   },
   {
    "duration": 30,
    "start_time": "2021-12-05T18:21:49.942Z"
   },
   {
    "duration": 28,
    "start_time": "2021-12-05T18:21:58.196Z"
   },
   {
    "duration": 28,
    "start_time": "2021-12-05T18:22:00.954Z"
   },
   {
    "duration": 29,
    "start_time": "2021-12-05T18:22:11.884Z"
   },
   {
    "duration": 331,
    "start_time": "2021-12-05T18:22:52.072Z"
   },
   {
    "duration": 61,
    "start_time": "2021-12-05T18:23:01.450Z"
   },
   {
    "duration": 15,
    "start_time": "2021-12-05T18:23:01.513Z"
   },
   {
    "duration": 51,
    "start_time": "2021-12-05T18:23:01.532Z"
   },
   {
    "duration": 21,
    "start_time": "2021-12-05T18:23:01.586Z"
   },
   {
    "duration": 33,
    "start_time": "2021-12-05T18:23:01.609Z"
   },
   {
    "duration": 19,
    "start_time": "2021-12-05T18:23:01.645Z"
   },
   {
    "duration": 709,
    "start_time": "2021-12-05T18:23:01.666Z"
   },
   {
    "duration": 12,
    "start_time": "2021-12-05T18:23:02.378Z"
   },
   {
    "duration": 9,
    "start_time": "2021-12-05T18:23:02.392Z"
   },
   {
    "duration": 77,
    "start_time": "2021-12-05T18:23:02.403Z"
   },
   {
    "duration": 616,
    "start_time": "2021-12-05T18:23:02.482Z"
   },
   {
    "duration": 735,
    "start_time": "2021-12-05T18:23:03.100Z"
   },
   {
    "duration": 12,
    "start_time": "2021-12-05T18:23:03.838Z"
   },
   {
    "duration": 25,
    "start_time": "2021-12-05T18:23:03.852Z"
   },
   {
    "duration": 28,
    "start_time": "2021-12-05T18:23:03.879Z"
   },
   {
    "duration": 27,
    "start_time": "2021-12-05T18:23:03.910Z"
   },
   {
    "duration": 30,
    "start_time": "2021-12-05T18:23:03.939Z"
   },
   {
    "duration": 6,
    "start_time": "2021-12-05T18:23:03.972Z"
   },
   {
    "duration": 6,
    "start_time": "2021-12-05T18:23:03.980Z"
   },
   {
    "duration": 8,
    "start_time": "2021-12-05T18:23:03.989Z"
   },
   {
    "duration": 640,
    "start_time": "2021-12-05T18:23:03.999Z"
   },
   {
    "duration": 38,
    "start_time": "2021-12-05T18:23:04.642Z"
   },
   {
    "duration": 25,
    "start_time": "2021-12-05T18:23:04.686Z"
   },
   {
    "duration": 23,
    "start_time": "2021-12-05T18:23:04.714Z"
   },
   {
    "duration": 4774,
    "start_time": "2021-12-05T18:23:04.739Z"
   },
   {
    "duration": 4,
    "start_time": "2021-12-05T18:23:09.516Z"
   },
   {
    "duration": 12,
    "start_time": "2021-12-05T18:23:09.522Z"
   },
   {
    "duration": 66,
    "start_time": "2021-12-05T18:23:09.537Z"
   },
   {
    "duration": 9,
    "start_time": "2021-12-05T18:23:09.605Z"
   },
   {
    "duration": 366,
    "start_time": "2021-12-05T18:23:12.236Z"
   },
   {
    "duration": 33,
    "start_time": "2021-12-05T18:23:30.018Z"
   },
   {
    "duration": 30,
    "start_time": "2021-12-05T18:23:36.469Z"
   },
   {
    "duration": 34,
    "start_time": "2021-12-05T18:24:28.551Z"
   },
   {
    "duration": 390,
    "start_time": "2021-12-05T18:25:44.241Z"
   },
   {
    "duration": 28,
    "start_time": "2021-12-05T18:26:00.530Z"
   },
   {
    "duration": 29,
    "start_time": "2021-12-05T18:26:33.390Z"
   },
   {
    "duration": 33,
    "start_time": "2021-12-05T18:34:40.636Z"
   },
   {
    "duration": 36,
    "start_time": "2021-12-05T18:35:57.724Z"
   },
   {
    "duration": 291,
    "start_time": "2021-12-05T18:40:55.387Z"
   },
   {
    "duration": 6,
    "start_time": "2021-12-05T18:41:05.019Z"
   },
   {
    "duration": 10,
    "start_time": "2021-12-05T18:41:15.806Z"
   },
   {
    "duration": 8,
    "start_time": "2021-12-05T18:41:27.842Z"
   },
   {
    "duration": 22,
    "start_time": "2021-12-05T18:41:39.268Z"
   },
   {
    "duration": 10,
    "start_time": "2021-12-05T18:41:48.623Z"
   },
   {
    "duration": 15,
    "start_time": "2021-12-05T18:42:18.670Z"
   },
   {
    "duration": 10,
    "start_time": "2021-12-05T18:42:21.907Z"
   },
   {
    "duration": 35,
    "start_time": "2021-12-05T18:42:57.279Z"
   },
   {
    "duration": 36,
    "start_time": "2021-12-05T18:43:07.960Z"
   },
   {
    "duration": 9,
    "start_time": "2021-12-05T18:43:33.121Z"
   },
   {
    "duration": 11,
    "start_time": "2021-12-05T18:43:38.554Z"
   },
   {
    "duration": 18,
    "start_time": "2021-12-05T18:44:01.297Z"
   },
   {
    "duration": 19,
    "start_time": "2021-12-05T18:45:28.775Z"
   },
   {
    "duration": 36,
    "start_time": "2021-12-05T18:47:36.241Z"
   },
   {
    "duration": 36,
    "start_time": "2021-12-05T18:47:48.107Z"
   },
   {
    "duration": 40,
    "start_time": "2021-12-05T18:48:06.923Z"
   },
   {
    "duration": 35,
    "start_time": "2021-12-05T18:48:34.916Z"
   },
   {
    "duration": 25,
    "start_time": "2021-12-05T18:50:57.474Z"
   },
   {
    "duration": 20,
    "start_time": "2021-12-05T18:51:06.770Z"
   },
   {
    "duration": 21,
    "start_time": "2021-12-05T18:51:14.550Z"
   },
   {
    "duration": 21,
    "start_time": "2021-12-05T18:51:39.354Z"
   },
   {
    "duration": 8,
    "start_time": "2021-12-05T18:55:44.664Z"
   },
   {
    "duration": 18,
    "start_time": "2021-12-05T18:56:00.253Z"
   },
   {
    "duration": 7,
    "start_time": "2021-12-05T18:56:20.040Z"
   },
   {
    "duration": 7,
    "start_time": "2021-12-05T18:56:26.844Z"
   },
   {
    "duration": 22,
    "start_time": "2021-12-05T18:57:36.428Z"
   },
   {
    "duration": 18,
    "start_time": "2021-12-05T18:57:43.126Z"
   },
   {
    "duration": 9,
    "start_time": "2021-12-05T18:57:44.688Z"
   },
   {
    "duration": 19,
    "start_time": "2021-12-05T18:58:06.205Z"
   },
   {
    "duration": 18,
    "start_time": "2021-12-05T18:58:16.752Z"
   },
   {
    "duration": 15,
    "start_time": "2021-12-05T18:58:34.061Z"
   },
   {
    "duration": 23,
    "start_time": "2021-12-05T18:58:42.733Z"
   },
   {
    "duration": 19,
    "start_time": "2021-12-05T18:58:48.924Z"
   },
   {
    "duration": 18,
    "start_time": "2021-12-05T18:59:44.828Z"
   },
   {
    "duration": 19,
    "start_time": "2021-12-05T18:59:52.813Z"
   },
   {
    "duration": 20,
    "start_time": "2021-12-05T18:59:59.095Z"
   },
   {
    "duration": 18,
    "start_time": "2021-12-05T19:00:41.963Z"
   },
   {
    "duration": 17,
    "start_time": "2021-12-05T19:00:46.412Z"
   },
   {
    "duration": 19,
    "start_time": "2021-12-05T19:00:55.466Z"
   },
   {
    "duration": 20,
    "start_time": "2021-12-05T19:01:57.704Z"
   },
   {
    "duration": 290,
    "start_time": "2021-12-05T19:03:02.716Z"
   },
   {
    "duration": 35,
    "start_time": "2021-12-05T19:03:07.482Z"
   },
   {
    "duration": 34,
    "start_time": "2021-12-05T19:03:12.594Z"
   },
   {
    "duration": 50,
    "start_time": "2021-12-05T19:03:45.038Z"
   },
   {
    "duration": 724,
    "start_time": "2021-12-05T19:04:04.706Z"
   },
   {
    "duration": 34,
    "start_time": "2021-12-05T19:04:33.453Z"
   },
   {
    "duration": 7,
    "start_time": "2021-12-05T19:05:27.783Z"
   },
   {
    "duration": 7024,
    "start_time": "2021-12-05T19:05:41.335Z"
   },
   {
    "duration": 10,
    "start_time": "2021-12-05T19:06:32.915Z"
   },
   {
    "duration": 944,
    "start_time": "2021-12-05T19:15:05.637Z"
   },
   {
    "duration": 15,
    "start_time": "2021-12-05T19:15:06.584Z"
   },
   {
    "duration": 29,
    "start_time": "2021-12-05T19:15:06.602Z"
   },
   {
    "duration": 34,
    "start_time": "2021-12-05T19:15:06.634Z"
   },
   {
    "duration": 22,
    "start_time": "2021-12-05T19:15:06.671Z"
   },
   {
    "duration": 10,
    "start_time": "2021-12-05T19:15:06.697Z"
   },
   {
    "duration": 758,
    "start_time": "2021-12-05T19:15:06.710Z"
   },
   {
    "duration": 13,
    "start_time": "2021-12-05T19:15:07.471Z"
   },
   {
    "duration": 10,
    "start_time": "2021-12-05T19:15:07.490Z"
   },
   {
    "duration": 80,
    "start_time": "2021-12-05T19:15:07.504Z"
   },
   {
    "duration": 715,
    "start_time": "2021-12-05T19:15:07.587Z"
   },
   {
    "duration": 716,
    "start_time": "2021-12-05T19:15:08.304Z"
   },
   {
    "duration": 16,
    "start_time": "2021-12-05T19:15:09.023Z"
   },
   {
    "duration": 25,
    "start_time": "2021-12-05T19:15:09.042Z"
   },
   {
    "duration": 45,
    "start_time": "2021-12-05T19:15:09.070Z"
   },
   {
    "duration": 19,
    "start_time": "2021-12-05T19:15:09.117Z"
   },
   {
    "duration": 32,
    "start_time": "2021-12-05T19:15:09.139Z"
   },
   {
    "duration": 11,
    "start_time": "2021-12-05T19:15:09.173Z"
   },
   {
    "duration": 23,
    "start_time": "2021-12-05T19:15:09.186Z"
   },
   {
    "duration": 18,
    "start_time": "2021-12-05T19:15:09.212Z"
   },
   {
    "duration": 611,
    "start_time": "2021-12-05T19:15:09.233Z"
   },
   {
    "duration": 27,
    "start_time": "2021-12-05T19:15:09.847Z"
   },
   {
    "duration": 25,
    "start_time": "2021-12-05T19:15:09.877Z"
   },
   {
    "duration": 23,
    "start_time": "2021-12-05T19:15:09.905Z"
   },
   {
    "duration": 4706,
    "start_time": "2021-12-05T19:15:09.930Z"
   },
   {
    "duration": 3,
    "start_time": "2021-12-05T19:15:14.639Z"
   },
   {
    "duration": 24,
    "start_time": "2021-12-05T19:15:14.647Z"
   },
   {
    "duration": 50,
    "start_time": "2021-12-05T19:15:14.673Z"
   },
   {
    "duration": 8,
    "start_time": "2021-12-05T19:15:14.725Z"
   },
   {
    "duration": 6982,
    "start_time": "2021-12-05T19:16:45.400Z"
   },
   {
    "duration": 23,
    "start_time": "2021-12-05T19:17:10.834Z"
   },
   {
    "duration": 18,
    "start_time": "2021-12-05T19:18:36.019Z"
   },
   {
    "duration": 18,
    "start_time": "2021-12-05T19:19:14.019Z"
   },
   {
    "duration": 34,
    "start_time": "2021-12-05T19:19:58.904Z"
   },
   {
    "duration": 24,
    "start_time": "2021-12-05T19:20:12.917Z"
   },
   {
    "duration": 24,
    "start_time": "2021-12-05T19:20:18.887Z"
   },
   {
    "duration": 20,
    "start_time": "2021-12-05T19:20:25.282Z"
   },
   {
    "duration": 22,
    "start_time": "2021-12-05T19:20:28.962Z"
   },
   {
    "duration": 22,
    "start_time": "2021-12-05T19:22:52.218Z"
   },
   {
    "duration": 31,
    "start_time": "2021-12-05T19:23:49.963Z"
   },
   {
    "duration": 827,
    "start_time": "2021-12-05T19:24:27.572Z"
   },
   {
    "duration": 15,
    "start_time": "2021-12-05T19:24:28.402Z"
   },
   {
    "duration": 51,
    "start_time": "2021-12-05T19:24:28.424Z"
   },
   {
    "duration": 13,
    "start_time": "2021-12-05T19:24:28.478Z"
   },
   {
    "duration": 22,
    "start_time": "2021-12-05T19:24:28.494Z"
   },
   {
    "duration": 7,
    "start_time": "2021-12-05T19:24:28.519Z"
   },
   {
    "duration": 785,
    "start_time": "2021-12-05T19:24:28.528Z"
   },
   {
    "duration": 11,
    "start_time": "2021-12-05T19:24:29.317Z"
   },
   {
    "duration": 9,
    "start_time": "2021-12-05T19:24:29.332Z"
   },
   {
    "duration": 45,
    "start_time": "2021-12-05T19:24:29.367Z"
   },
   {
    "duration": 637,
    "start_time": "2021-12-05T19:24:29.414Z"
   },
   {
    "duration": 731,
    "start_time": "2021-12-05T19:24:30.054Z"
   },
   {
    "duration": 12,
    "start_time": "2021-12-05T19:24:30.788Z"
   },
   {
    "duration": 18,
    "start_time": "2021-12-05T19:24:30.803Z"
   },
   {
    "duration": 38,
    "start_time": "2021-12-05T19:24:30.823Z"
   },
   {
    "duration": 18,
    "start_time": "2021-12-05T19:24:30.866Z"
   },
   {
    "duration": 17,
    "start_time": "2021-12-05T19:24:30.887Z"
   },
   {
    "duration": 11,
    "start_time": "2021-12-05T19:24:30.906Z"
   },
   {
    "duration": 10,
    "start_time": "2021-12-05T19:24:30.920Z"
   },
   {
    "duration": 37,
    "start_time": "2021-12-05T19:24:30.932Z"
   },
   {
    "duration": 642,
    "start_time": "2021-12-05T19:24:30.972Z"
   },
   {
    "duration": 24,
    "start_time": "2021-12-05T19:24:31.616Z"
   },
   {
    "duration": 43,
    "start_time": "2021-12-05T19:24:31.643Z"
   },
   {
    "duration": 22,
    "start_time": "2021-12-05T19:24:31.688Z"
   },
   {
    "duration": 4994,
    "start_time": "2021-12-05T19:24:31.713Z"
   },
   {
    "duration": 4,
    "start_time": "2021-12-05T19:24:36.712Z"
   },
   {
    "duration": 52,
    "start_time": "2021-12-05T19:24:36.720Z"
   },
   {
    "duration": 7,
    "start_time": "2021-12-05T19:24:36.775Z"
   },
   {
    "duration": 24,
    "start_time": "2021-12-05T19:24:36.784Z"
   },
   {
    "duration": 67,
    "start_time": "2021-12-05T19:24:36.811Z"
   },
   {
    "duration": 21,
    "start_time": "2021-12-05T19:24:36.881Z"
   },
   {
    "duration": 10,
    "start_time": "2021-12-05T19:24:36.905Z"
   },
   {
    "duration": 4,
    "start_time": "2021-12-05T19:33:43.823Z"
   },
   {
    "duration": 380,
    "start_time": "2021-12-05T19:34:15.230Z"
   },
   {
    "duration": 11,
    "start_time": "2021-12-05T19:34:27.503Z"
   },
   {
    "duration": 19,
    "start_time": "2021-12-05T19:34:40.242Z"
   },
   {
    "duration": 38,
    "start_time": "2021-12-05T19:35:13.860Z"
   },
   {
    "duration": 19,
    "start_time": "2021-12-05T19:36:39.222Z"
   },
   {
    "duration": 12,
    "start_time": "2021-12-05T19:37:43.232Z"
   },
   {
    "duration": 9,
    "start_time": "2021-12-05T19:38:06.999Z"
   },
   {
    "duration": 12,
    "start_time": "2021-12-05T19:38:17.961Z"
   },
   {
    "duration": 14,
    "start_time": "2021-12-05T19:39:26.339Z"
   },
   {
    "duration": 34,
    "start_time": "2021-12-05T19:40:32.523Z"
   },
   {
    "duration": 34,
    "start_time": "2021-12-05T19:40:38.883Z"
   },
   {
    "duration": 285,
    "start_time": "2021-12-05T19:41:41.753Z"
   },
   {
    "duration": 36,
    "start_time": "2021-12-05T19:41:46.365Z"
   },
   {
    "duration": 11,
    "start_time": "2021-12-05T19:42:41.843Z"
   },
   {
    "duration": 110,
    "start_time": "2021-12-05T19:46:10.469Z"
   },
   {
    "duration": 25,
    "start_time": "2021-12-05T19:46:17.272Z"
   },
   {
    "duration": 16,
    "start_time": "2021-12-05T19:46:30.655Z"
   },
   {
    "duration": 18,
    "start_time": "2021-12-05T19:47:30.434Z"
   },
   {
    "duration": 12,
    "start_time": "2021-12-05T19:47:47.779Z"
   },
   {
    "duration": 16,
    "start_time": "2021-12-05T19:47:59.601Z"
   },
   {
    "duration": 19,
    "start_time": "2021-12-05T19:48:15.101Z"
   },
   {
    "duration": 18,
    "start_time": "2021-12-05T19:51:01.256Z"
   },
   {
    "duration": 16,
    "start_time": "2021-12-05T19:51:10.003Z"
   },
   {
    "duration": 22,
    "start_time": "2021-12-05T19:51:15.909Z"
   },
   {
    "duration": 17,
    "start_time": "2021-12-05T19:51:18.890Z"
   },
   {
    "duration": 27,
    "start_time": "2021-12-05T19:52:08.427Z"
   },
   {
    "duration": 16,
    "start_time": "2021-12-05T19:53:14.859Z"
   },
   {
    "duration": 20,
    "start_time": "2021-12-05T19:53:34.435Z"
   },
   {
    "duration": 272,
    "start_time": "2021-12-05T19:53:50.503Z"
   },
   {
    "duration": 19,
    "start_time": "2021-12-05T19:54:07.647Z"
   },
   {
    "duration": 21,
    "start_time": "2021-12-05T19:54:19.907Z"
   },
   {
    "duration": 16,
    "start_time": "2021-12-05T19:54:32.881Z"
   },
   {
    "duration": 18,
    "start_time": "2021-12-05T19:54:40.996Z"
   },
   {
    "duration": 104,
    "start_time": "2021-12-05T19:56:03.229Z"
   },
   {
    "duration": 19,
    "start_time": "2021-12-05T19:56:08.725Z"
   },
   {
    "duration": 20,
    "start_time": "2021-12-05T19:56:21.498Z"
   },
   {
    "duration": 19,
    "start_time": "2021-12-05T19:56:33.190Z"
   },
   {
    "duration": 87,
    "start_time": "2021-12-05T19:56:40.228Z"
   },
   {
    "duration": 19,
    "start_time": "2021-12-05T19:56:45.567Z"
   },
   {
    "duration": 7143,
    "start_time": "2021-12-05T20:00:47.147Z"
   },
   {
    "duration": 792,
    "start_time": "2021-12-05T20:01:12.200Z"
   },
   {
    "duration": 16,
    "start_time": "2021-12-05T20:01:12.995Z"
   },
   {
    "duration": 31,
    "start_time": "2021-12-05T20:01:13.013Z"
   },
   {
    "duration": 32,
    "start_time": "2021-12-05T20:01:13.047Z"
   },
   {
    "duration": 21,
    "start_time": "2021-12-05T20:01:13.082Z"
   },
   {
    "duration": 9,
    "start_time": "2021-12-05T20:01:13.105Z"
   },
   {
    "duration": 751,
    "start_time": "2021-12-05T20:01:13.116Z"
   },
   {
    "duration": 11,
    "start_time": "2021-12-05T20:01:13.871Z"
   },
   {
    "duration": 9,
    "start_time": "2021-12-05T20:01:13.886Z"
   },
   {
    "duration": 76,
    "start_time": "2021-12-05T20:01:13.897Z"
   },
   {
    "duration": 616,
    "start_time": "2021-12-05T20:01:13.976Z"
   },
   {
    "duration": 747,
    "start_time": "2021-12-05T20:01:14.595Z"
   },
   {
    "duration": 22,
    "start_time": "2021-12-05T20:01:15.345Z"
   },
   {
    "duration": 7,
    "start_time": "2021-12-05T20:01:15.369Z"
   },
   {
    "duration": 26,
    "start_time": "2021-12-05T20:01:15.378Z"
   },
   {
    "duration": 19,
    "start_time": "2021-12-05T20:01:15.407Z"
   },
   {
    "duration": 47,
    "start_time": "2021-12-05T20:01:15.428Z"
   },
   {
    "duration": 6,
    "start_time": "2021-12-05T20:01:15.478Z"
   },
   {
    "duration": 7,
    "start_time": "2021-12-05T20:01:15.486Z"
   },
   {
    "duration": 9,
    "start_time": "2021-12-05T20:01:15.495Z"
   },
   {
    "duration": 632,
    "start_time": "2021-12-05T20:01:15.507Z"
   },
   {
    "duration": 33,
    "start_time": "2021-12-05T20:01:16.142Z"
   },
   {
    "duration": 27,
    "start_time": "2021-12-05T20:01:16.179Z"
   },
   {
    "duration": 25,
    "start_time": "2021-12-05T20:01:16.209Z"
   },
   {
    "duration": 4620,
    "start_time": "2021-12-05T20:01:17.960Z"
   },
   {
    "duration": 4672,
    "start_time": "2021-12-05T20:02:25.083Z"
   },
   {
    "duration": 2151,
    "start_time": "2021-12-05T20:02:43.975Z"
   },
   {
    "duration": 10,
    "start_time": "2021-12-05T20:03:12.066Z"
   },
   {
    "duration": 10,
    "start_time": "2021-12-05T20:03:42.210Z"
   },
   {
    "duration": 19,
    "start_time": "2021-12-05T20:14:09.915Z"
   },
   {
    "duration": 19,
    "start_time": "2021-12-05T20:21:06.422Z"
   },
   {
    "duration": 8,
    "start_time": "2021-12-05T20:23:11.203Z"
   },
   {
    "duration": 7,
    "start_time": "2021-12-05T20:23:23.149Z"
   },
   {
    "duration": 45,
    "start_time": "2021-12-05T20:29:49.706Z"
   },
   {
    "duration": 7,
    "start_time": "2021-12-05T20:29:51.060Z"
   },
   {
    "duration": 40,
    "start_time": "2021-12-05T20:32:04.525Z"
   },
   {
    "duration": 23,
    "start_time": "2021-12-05T20:32:18.714Z"
   },
   {
    "duration": 10,
    "start_time": "2021-12-05T20:32:23.782Z"
   },
   {
    "duration": 13,
    "start_time": "2021-12-05T20:32:26.828Z"
   },
   {
    "duration": 15,
    "start_time": "2021-12-05T20:32:31.414Z"
   },
   {
    "duration": 33,
    "start_time": "2021-12-05T20:32:34.697Z"
   },
   {
    "duration": 21,
    "start_time": "2021-12-05T20:32:45.083Z"
   },
   {
    "duration": 19,
    "start_time": "2021-12-05T20:32:47.458Z"
   },
   {
    "duration": 24,
    "start_time": "2021-12-05T20:32:48.809Z"
   },
   {
    "duration": 18,
    "start_time": "2021-12-05T20:32:50.139Z"
   },
   {
    "duration": 21,
    "start_time": "2021-12-05T20:32:51.099Z"
   },
   {
    "duration": 10,
    "start_time": "2021-12-05T20:35:12.023Z"
   },
   {
    "duration": 21,
    "start_time": "2021-12-05T20:35:19.708Z"
   },
   {
    "duration": 11,
    "start_time": "2021-12-05T20:35:33.188Z"
   },
   {
    "duration": 19,
    "start_time": "2021-12-05T20:35:34.093Z"
   },
   {
    "duration": 7,
    "start_time": "2021-12-05T20:35:42.262Z"
   },
   {
    "duration": 20,
    "start_time": "2021-12-05T20:35:43.150Z"
   },
   {
    "duration": 22,
    "start_time": "2021-12-05T20:43:27.934Z"
   },
   {
    "duration": 17,
    "start_time": "2021-12-05T20:44:47.492Z"
   },
   {
    "duration": 16,
    "start_time": "2021-12-05T20:46:06.369Z"
   },
   {
    "duration": 23,
    "start_time": "2021-12-05T20:46:48.641Z"
   },
   {
    "duration": 18,
    "start_time": "2021-12-05T20:47:18.817Z"
   },
   {
    "duration": 777,
    "start_time": "2021-12-05T20:48:33.909Z"
   },
   {
    "duration": 19,
    "start_time": "2021-12-05T20:48:34.690Z"
   },
   {
    "duration": 58,
    "start_time": "2021-12-05T20:48:34.717Z"
   },
   {
    "duration": 13,
    "start_time": "2021-12-05T20:48:34.778Z"
   },
   {
    "duration": 33,
    "start_time": "2021-12-05T20:48:34.793Z"
   },
   {
    "duration": 8,
    "start_time": "2021-12-05T20:48:34.829Z"
   },
   {
    "duration": 739,
    "start_time": "2021-12-05T20:48:34.868Z"
   },
   {
    "duration": 12,
    "start_time": "2021-12-05T20:48:35.611Z"
   },
   {
    "duration": 11,
    "start_time": "2021-12-05T20:48:35.625Z"
   },
   {
    "duration": 72,
    "start_time": "2021-12-05T20:48:35.639Z"
   },
   {
    "duration": 645,
    "start_time": "2021-12-05T20:48:35.713Z"
   },
   {
    "duration": 724,
    "start_time": "2021-12-05T20:48:36.361Z"
   },
   {
    "duration": 13,
    "start_time": "2021-12-05T20:48:37.087Z"
   },
   {
    "duration": 6,
    "start_time": "2021-12-05T20:48:37.102Z"
   },
   {
    "duration": 59,
    "start_time": "2021-12-05T20:48:37.111Z"
   },
   {
    "duration": 19,
    "start_time": "2021-12-05T20:48:37.172Z"
   },
   {
    "duration": 22,
    "start_time": "2021-12-05T20:48:37.194Z"
   },
   {
    "duration": 7,
    "start_time": "2021-12-05T20:48:37.219Z"
   },
   {
    "duration": 7,
    "start_time": "2021-12-05T20:48:37.267Z"
   },
   {
    "duration": 8,
    "start_time": "2021-12-05T20:48:37.277Z"
   },
   {
    "duration": 658,
    "start_time": "2021-12-05T20:48:37.288Z"
   },
   {
    "duration": 33,
    "start_time": "2021-12-05T20:48:37.953Z"
   },
   {
    "duration": 28,
    "start_time": "2021-12-05T20:48:37.990Z"
   },
   {
    "duration": 54,
    "start_time": "2021-12-05T20:48:38.021Z"
   },
   {
    "duration": 4857,
    "start_time": "2021-12-05T20:48:38.078Z"
   },
   {
    "duration": 10,
    "start_time": "2021-12-05T20:48:42.938Z"
   },
   {
    "duration": 31,
    "start_time": "2021-12-05T20:48:42.951Z"
   },
   {
    "duration": 22,
    "start_time": "2021-12-05T20:48:42.985Z"
   },
   {
    "duration": 7,
    "start_time": "2021-12-05T20:48:43.009Z"
   },
   {
    "duration": 81,
    "start_time": "2021-12-05T20:48:43.018Z"
   },
   {
    "duration": 7,
    "start_time": "2021-12-05T20:48:43.102Z"
   },
   {
    "duration": 37,
    "start_time": "2021-12-05T20:48:43.111Z"
   },
   {
    "duration": 31,
    "start_time": "2021-12-05T20:48:43.150Z"
   },
   {
    "duration": 24,
    "start_time": "2021-12-05T20:48:43.183Z"
   },
   {
    "duration": 18,
    "start_time": "2021-12-05T20:48:43.210Z"
   },
   {
    "duration": 55,
    "start_time": "2021-12-05T20:48:43.231Z"
   },
   {
    "duration": 860,
    "start_time": "2021-12-05T20:49:01.045Z"
   },
   {
    "duration": 22,
    "start_time": "2021-12-05T20:49:01.907Z"
   },
   {
    "duration": 46,
    "start_time": "2021-12-05T20:49:01.933Z"
   },
   {
    "duration": 41,
    "start_time": "2021-12-05T20:49:01.982Z"
   },
   {
    "duration": 41,
    "start_time": "2021-12-05T20:49:02.025Z"
   },
   {
    "duration": 22,
    "start_time": "2021-12-05T20:49:02.069Z"
   },
   {
    "duration": 726,
    "start_time": "2021-12-05T20:49:02.093Z"
   },
   {
    "duration": 12,
    "start_time": "2021-12-05T20:49:02.822Z"
   },
   {
    "duration": 31,
    "start_time": "2021-12-05T20:49:02.838Z"
   },
   {
    "duration": 48,
    "start_time": "2021-12-05T20:49:02.872Z"
   },
   {
    "duration": 715,
    "start_time": "2021-12-05T20:49:02.923Z"
   },
   {
    "duration": 739,
    "start_time": "2021-12-05T20:49:03.641Z"
   },
   {
    "duration": 15,
    "start_time": "2021-12-05T20:49:04.383Z"
   },
   {
    "duration": 7,
    "start_time": "2021-12-05T20:49:04.401Z"
   },
   {
    "duration": 60,
    "start_time": "2021-12-05T20:49:04.411Z"
   },
   {
    "duration": 21,
    "start_time": "2021-12-05T20:49:04.474Z"
   },
   {
    "duration": 19,
    "start_time": "2021-12-05T20:49:04.497Z"
   },
   {
    "duration": 8,
    "start_time": "2021-12-05T20:49:04.519Z"
   },
   {
    "duration": 8,
    "start_time": "2021-12-05T20:49:04.569Z"
   },
   {
    "duration": 6,
    "start_time": "2021-12-05T20:49:04.579Z"
   },
   {
    "duration": 662,
    "start_time": "2021-12-05T20:49:04.588Z"
   },
   {
    "duration": 28,
    "start_time": "2021-12-05T20:49:05.252Z"
   },
   {
    "duration": 27,
    "start_time": "2021-12-05T20:49:05.283Z"
   },
   {
    "duration": 25,
    "start_time": "2021-12-05T20:49:05.312Z"
   },
   {
    "duration": 4672,
    "start_time": "2021-12-05T20:49:05.368Z"
   },
   {
    "duration": 24,
    "start_time": "2021-12-05T20:49:10.043Z"
   },
   {
    "duration": 19,
    "start_time": "2021-12-05T20:49:10.076Z"
   },
   {
    "duration": 21,
    "start_time": "2021-12-05T20:49:10.099Z"
   },
   {
    "duration": 49,
    "start_time": "2021-12-05T20:49:10.122Z"
   },
   {
    "duration": 55,
    "start_time": "2021-12-05T20:49:10.175Z"
   },
   {
    "duration": 56,
    "start_time": "2021-12-05T20:49:10.232Z"
   },
   {
    "duration": 17,
    "start_time": "2021-12-05T20:49:10.291Z"
   },
   {
    "duration": 26,
    "start_time": "2021-12-05T20:49:10.310Z"
   },
   {
    "duration": 45,
    "start_time": "2021-12-05T20:49:10.339Z"
   },
   {
    "duration": 21,
    "start_time": "2021-12-05T20:49:10.387Z"
   },
   {
    "duration": 18,
    "start_time": "2021-12-05T21:02:27.170Z"
   },
   {
    "duration": 7,
    "start_time": "2021-12-05T21:02:34.096Z"
   },
   {
    "duration": 22,
    "start_time": "2021-12-05T21:03:36.053Z"
   },
   {
    "duration": 93,
    "start_time": "2021-12-05T21:05:17.907Z"
   },
   {
    "duration": 793,
    "start_time": "2021-12-05T21:06:01.216Z"
   },
   {
    "duration": 16,
    "start_time": "2021-12-05T21:06:02.012Z"
   },
   {
    "duration": 41,
    "start_time": "2021-12-05T21:06:02.032Z"
   },
   {
    "duration": 13,
    "start_time": "2021-12-05T21:06:02.075Z"
   },
   {
    "duration": 26,
    "start_time": "2021-12-05T21:06:02.091Z"
   },
   {
    "duration": 9,
    "start_time": "2021-12-05T21:06:02.119Z"
   },
   {
    "duration": 741,
    "start_time": "2021-12-05T21:06:02.130Z"
   },
   {
    "duration": 10,
    "start_time": "2021-12-05T21:06:02.874Z"
   },
   {
    "duration": 8,
    "start_time": "2021-12-05T21:06:02.888Z"
   },
   {
    "duration": 74,
    "start_time": "2021-12-05T21:06:02.899Z"
   },
   {
    "duration": 675,
    "start_time": "2021-12-05T21:06:02.975Z"
   },
   {
    "duration": 735,
    "start_time": "2021-12-05T21:06:03.653Z"
   },
   {
    "duration": 12,
    "start_time": "2021-12-05T21:06:04.390Z"
   },
   {
    "duration": 7,
    "start_time": "2021-12-05T21:06:04.404Z"
   },
   {
    "duration": 29,
    "start_time": "2021-12-05T21:06:04.413Z"
   },
   {
    "duration": 38,
    "start_time": "2021-12-05T21:06:04.445Z"
   },
   {
    "duration": 17,
    "start_time": "2021-12-05T21:06:04.486Z"
   },
   {
    "duration": 6,
    "start_time": "2021-12-05T21:06:04.505Z"
   },
   {
    "duration": 8,
    "start_time": "2021-12-05T21:06:04.513Z"
   },
   {
    "duration": 46,
    "start_time": "2021-12-05T21:06:04.524Z"
   },
   {
    "duration": 663,
    "start_time": "2021-12-05T21:06:04.573Z"
   },
   {
    "duration": 30,
    "start_time": "2021-12-05T21:06:05.238Z"
   },
   {
    "duration": 26,
    "start_time": "2021-12-05T21:06:05.271Z"
   },
   {
    "duration": 23,
    "start_time": "2021-12-05T21:06:05.299Z"
   },
   {
    "duration": 4707,
    "start_time": "2021-12-05T21:06:05.325Z"
   },
   {
    "duration": 11,
    "start_time": "2021-12-05T21:06:10.034Z"
   },
   {
    "duration": 20,
    "start_time": "2021-12-05T21:06:10.066Z"
   },
   {
    "duration": 22,
    "start_time": "2021-12-05T21:06:10.089Z"
   },
   {
    "duration": 8,
    "start_time": "2021-12-05T21:06:10.113Z"
   },
   {
    "duration": 79,
    "start_time": "2021-12-05T21:06:10.124Z"
   },
   {
    "duration": 41,
    "start_time": "2021-12-05T21:06:10.206Z"
   },
   {
    "duration": 32,
    "start_time": "2021-12-05T21:06:10.250Z"
   },
   {
    "duration": 33,
    "start_time": "2021-12-05T21:06:10.285Z"
   },
   {
    "duration": 59,
    "start_time": "2021-12-05T21:06:10.321Z"
   },
   {
    "duration": 24,
    "start_time": "2021-12-05T21:06:10.382Z"
   },
   {
    "duration": 26,
    "start_time": "2021-12-05T21:06:10.409Z"
   },
   {
    "duration": 776,
    "start_time": "2021-12-05T21:06:46.985Z"
   },
   {
    "duration": 15,
    "start_time": "2021-12-05T21:07:38.332Z"
   },
   {
    "duration": 418,
    "start_time": "2021-12-05T21:08:32.899Z"
   },
   {
    "duration": 19,
    "start_time": "2021-12-05T21:10:56.040Z"
   },
   {
    "duration": 19,
    "start_time": "2021-12-05T21:10:59.897Z"
   },
   {
    "duration": 783,
    "start_time": "2021-12-05T21:26:08.406Z"
   },
   {
    "duration": 16,
    "start_time": "2021-12-05T21:26:09.192Z"
   },
   {
    "duration": 30,
    "start_time": "2021-12-05T21:26:09.211Z"
   },
   {
    "duration": 33,
    "start_time": "2021-12-05T21:26:09.244Z"
   },
   {
    "duration": 23,
    "start_time": "2021-12-05T21:26:09.279Z"
   },
   {
    "duration": 10,
    "start_time": "2021-12-05T21:26:09.304Z"
   },
   {
    "duration": 793,
    "start_time": "2021-12-05T21:26:09.317Z"
   },
   {
    "duration": 11,
    "start_time": "2021-12-05T21:26:10.113Z"
   },
   {
    "duration": 8,
    "start_time": "2021-12-05T21:26:10.128Z"
   },
   {
    "duration": 72,
    "start_time": "2021-12-05T21:26:10.138Z"
   },
   {
    "duration": 649,
    "start_time": "2021-12-05T21:26:10.212Z"
   },
   {
    "duration": 840,
    "start_time": "2021-12-05T21:26:10.864Z"
   },
   {
    "duration": 12,
    "start_time": "2021-12-05T21:26:11.707Z"
   },
   {
    "duration": 7,
    "start_time": "2021-12-05T21:26:11.722Z"
   },
   {
    "duration": 56,
    "start_time": "2021-12-05T21:26:11.731Z"
   },
   {
    "duration": 39,
    "start_time": "2021-12-05T21:26:11.789Z"
   },
   {
    "duration": 21,
    "start_time": "2021-12-05T21:26:11.830Z"
   },
   {
    "duration": 16,
    "start_time": "2021-12-05T21:26:11.854Z"
   },
   {
    "duration": 19,
    "start_time": "2021-12-05T21:26:11.873Z"
   },
   {
    "duration": 15,
    "start_time": "2021-12-05T21:26:11.895Z"
   },
   {
    "duration": 650,
    "start_time": "2021-12-05T21:26:11.913Z"
   },
   {
    "duration": 24,
    "start_time": "2021-12-05T21:26:12.567Z"
   },
   {
    "duration": 28,
    "start_time": "2021-12-05T21:26:12.596Z"
   },
   {
    "duration": 57,
    "start_time": "2021-12-05T21:26:12.628Z"
   },
   {
    "duration": 5002,
    "start_time": "2021-12-05T21:26:12.687Z"
   },
   {
    "duration": 11,
    "start_time": "2021-12-05T21:26:17.691Z"
   },
   {
    "duration": 26,
    "start_time": "2021-12-05T21:26:17.704Z"
   },
   {
    "duration": 37,
    "start_time": "2021-12-05T21:26:17.733Z"
   },
   {
    "duration": 8,
    "start_time": "2021-12-05T21:26:17.773Z"
   },
   {
    "duration": 46,
    "start_time": "2021-12-05T21:26:17.785Z"
   },
   {
    "duration": 60,
    "start_time": "2021-12-05T21:26:17.834Z"
   },
   {
    "duration": 18,
    "start_time": "2021-12-05T21:26:17.897Z"
   },
   {
    "duration": 53,
    "start_time": "2021-12-05T21:26:17.917Z"
   },
   {
    "duration": 21,
    "start_time": "2021-12-05T21:26:17.973Z"
   },
   {
    "duration": 22,
    "start_time": "2021-12-05T21:26:17.997Z"
   },
   {
    "duration": 53,
    "start_time": "2021-12-05T21:26:18.022Z"
   },
   {
    "duration": 851,
    "start_time": "2021-12-05T21:28:51.014Z"
   },
   {
    "duration": 17,
    "start_time": "2021-12-05T21:28:51.867Z"
   },
   {
    "duration": 38,
    "start_time": "2021-12-05T21:28:51.888Z"
   },
   {
    "duration": 45,
    "start_time": "2021-12-05T21:28:51.928Z"
   },
   {
    "duration": 24,
    "start_time": "2021-12-05T21:28:51.975Z"
   },
   {
    "duration": 12,
    "start_time": "2021-12-05T21:28:52.001Z"
   },
   {
    "duration": 926,
    "start_time": "2021-12-05T21:28:52.016Z"
   },
   {
    "duration": 22,
    "start_time": "2021-12-05T21:28:52.946Z"
   },
   {
    "duration": 12,
    "start_time": "2021-12-05T21:28:52.972Z"
   },
   {
    "duration": 52,
    "start_time": "2021-12-05T21:28:52.986Z"
   },
   {
    "duration": 749,
    "start_time": "2021-12-05T21:28:53.068Z"
   },
   {
    "duration": 787,
    "start_time": "2021-12-05T21:28:53.820Z"
   },
   {
    "duration": 15,
    "start_time": "2021-12-05T21:28:54.609Z"
   },
   {
    "duration": 8,
    "start_time": "2021-12-05T21:28:54.627Z"
   },
   {
    "duration": 52,
    "start_time": "2021-12-05T21:28:54.638Z"
   },
   {
    "duration": 25,
    "start_time": "2021-12-05T21:28:54.692Z"
   },
   {
    "duration": 62,
    "start_time": "2021-12-05T21:28:54.720Z"
   },
   {
    "duration": 8,
    "start_time": "2021-12-05T21:28:54.785Z"
   },
   {
    "duration": 8,
    "start_time": "2021-12-05T21:28:54.796Z"
   },
   {
    "duration": 8,
    "start_time": "2021-12-05T21:28:54.806Z"
   },
   {
    "duration": 713,
    "start_time": "2021-12-05T21:28:54.817Z"
   },
   {
    "duration": 35,
    "start_time": "2021-12-05T21:28:55.533Z"
   },
   {
    "duration": 28,
    "start_time": "2021-12-05T21:28:55.573Z"
   },
   {
    "duration": 24,
    "start_time": "2021-12-05T21:28:55.604Z"
   },
   {
    "duration": 5779,
    "start_time": "2021-12-05T21:28:55.630Z"
   },
   {
    "duration": 14,
    "start_time": "2021-12-05T21:29:01.412Z"
   },
   {
    "duration": 45,
    "start_time": "2021-12-05T21:29:01.428Z"
   },
   {
    "duration": 56,
    "start_time": "2021-12-05T21:29:01.476Z"
   },
   {
    "duration": 28,
    "start_time": "2021-12-05T21:29:01.535Z"
   },
   {
    "duration": 65,
    "start_time": "2021-12-05T21:29:01.566Z"
   },
   {
    "duration": 37,
    "start_time": "2021-12-05T21:29:01.634Z"
   },
   {
    "duration": 18,
    "start_time": "2021-12-05T21:29:01.674Z"
   },
   {
    "duration": 47,
    "start_time": "2021-12-05T21:29:01.695Z"
   },
   {
    "duration": 47,
    "start_time": "2021-12-05T21:29:01.744Z"
   },
   {
    "duration": 32,
    "start_time": "2021-12-05T21:29:01.794Z"
   },
   {
    "duration": 44,
    "start_time": "2021-12-05T21:29:01.830Z"
   },
   {
    "duration": 22,
    "start_time": "2021-12-05T21:29:23.925Z"
   },
   {
    "duration": 63,
    "start_time": "2021-12-05T21:30:11.063Z"
   },
   {
    "duration": 860,
    "start_time": "2021-12-05T21:30:33.688Z"
   },
   {
    "duration": 16,
    "start_time": "2021-12-05T21:30:34.550Z"
   },
   {
    "duration": 31,
    "start_time": "2021-12-05T21:30:34.570Z"
   },
   {
    "duration": 15,
    "start_time": "2021-12-05T21:30:34.604Z"
   },
   {
    "duration": 60,
    "start_time": "2021-12-05T21:30:34.622Z"
   },
   {
    "duration": 7,
    "start_time": "2021-12-05T21:30:34.685Z"
   },
   {
    "duration": 806,
    "start_time": "2021-12-05T21:30:34.695Z"
   },
   {
    "duration": 11,
    "start_time": "2021-12-05T21:30:35.505Z"
   },
   {
    "duration": 11,
    "start_time": "2021-12-05T21:30:35.519Z"
   },
   {
    "duration": 78,
    "start_time": "2021-12-05T21:30:35.533Z"
   },
   {
    "duration": 700,
    "start_time": "2021-12-05T21:30:35.614Z"
   },
   {
    "duration": 832,
    "start_time": "2021-12-05T21:30:36.317Z"
   },
   {
    "duration": 19,
    "start_time": "2021-12-05T21:30:37.151Z"
   },
   {
    "duration": 6,
    "start_time": "2021-12-05T21:30:37.173Z"
   },
   {
    "duration": 32,
    "start_time": "2021-12-05T21:30:37.182Z"
   },
   {
    "duration": 54,
    "start_time": "2021-12-05T21:30:37.217Z"
   },
   {
    "duration": 20,
    "start_time": "2021-12-05T21:30:37.274Z"
   },
   {
    "duration": 6,
    "start_time": "2021-12-05T21:30:37.296Z"
   },
   {
    "duration": 12,
    "start_time": "2021-12-05T21:30:37.305Z"
   },
   {
    "duration": 47,
    "start_time": "2021-12-05T21:30:37.320Z"
   },
   {
    "duration": 663,
    "start_time": "2021-12-05T21:30:37.370Z"
   },
   {
    "duration": 34,
    "start_time": "2021-12-05T21:30:38.038Z"
   },
   {
    "duration": 29,
    "start_time": "2021-12-05T21:30:38.078Z"
   },
   {
    "duration": 25,
    "start_time": "2021-12-05T21:30:38.110Z"
   },
   {
    "duration": 5279,
    "start_time": "2021-12-05T21:30:38.138Z"
   },
   {
    "duration": 12,
    "start_time": "2021-12-05T21:30:43.420Z"
   },
   {
    "duration": 44,
    "start_time": "2021-12-05T21:30:43.434Z"
   },
   {
    "duration": 18,
    "start_time": "2021-12-05T21:30:43.481Z"
   },
   {
    "duration": 8,
    "start_time": "2021-12-05T21:30:43.502Z"
   },
   {
    "duration": 69,
    "start_time": "2021-12-05T21:30:43.513Z"
   },
   {
    "duration": 30,
    "start_time": "2021-12-05T21:30:43.584Z"
   },
   {
    "duration": 18,
    "start_time": "2021-12-05T21:30:43.616Z"
   },
   {
    "duration": 24,
    "start_time": "2021-12-05T21:30:43.667Z"
   },
   {
    "duration": 21,
    "start_time": "2021-12-05T21:30:43.694Z"
   },
   {
    "duration": 56,
    "start_time": "2021-12-05T21:30:43.717Z"
   },
   {
    "duration": 20,
    "start_time": "2021-12-05T21:30:43.776Z"
   },
   {
    "duration": 33,
    "start_time": "2021-12-05T21:31:30.816Z"
   },
   {
    "duration": 854,
    "start_time": "2021-12-05T21:31:39.721Z"
   },
   {
    "duration": 16,
    "start_time": "2021-12-05T21:31:40.577Z"
   },
   {
    "duration": 30,
    "start_time": "2021-12-05T21:31:40.596Z"
   },
   {
    "duration": 12,
    "start_time": "2021-12-05T21:31:40.629Z"
   },
   {
    "duration": 24,
    "start_time": "2021-12-05T21:31:40.669Z"
   },
   {
    "duration": 10,
    "start_time": "2021-12-05T21:31:40.696Z"
   },
   {
    "duration": 763,
    "start_time": "2021-12-05T21:31:40.709Z"
   },
   {
    "duration": 11,
    "start_time": "2021-12-05T21:31:41.475Z"
   },
   {
    "duration": 9,
    "start_time": "2021-12-05T21:31:41.489Z"
   },
   {
    "duration": 28,
    "start_time": "2021-12-05T21:31:41.500Z"
   },
   {
    "duration": 643,
    "start_time": "2021-12-05T21:31:41.530Z"
   },
   {
    "duration": 792,
    "start_time": "2021-12-05T21:31:42.175Z"
   },
   {
    "duration": 19,
    "start_time": "2021-12-05T21:31:42.971Z"
   },
   {
    "duration": 8,
    "start_time": "2021-12-05T21:31:42.993Z"
   },
   {
    "duration": 71,
    "start_time": "2021-12-05T21:31:43.003Z"
   },
   {
    "duration": 24,
    "start_time": "2021-12-05T21:31:43.077Z"
   },
   {
    "duration": 24,
    "start_time": "2021-12-05T21:31:43.104Z"
   },
   {
    "duration": 38,
    "start_time": "2021-12-05T21:31:43.131Z"
   },
   {
    "duration": 7,
    "start_time": "2021-12-05T21:31:43.172Z"
   },
   {
    "duration": 7,
    "start_time": "2021-12-05T21:31:43.182Z"
   },
   {
    "duration": 1048,
    "start_time": "2021-12-05T21:31:43.192Z"
   },
   {
    "duration": 45,
    "start_time": "2021-12-05T21:31:44.243Z"
   },
   {
    "duration": 36,
    "start_time": "2021-12-05T21:31:44.294Z"
   },
   {
    "duration": 57,
    "start_time": "2021-12-05T21:31:44.334Z"
   },
   {
    "duration": 5627,
    "start_time": "2021-12-05T21:31:44.394Z"
   },
   {
    "duration": 10,
    "start_time": "2021-12-05T21:31:50.024Z"
   },
   {
    "duration": 39,
    "start_time": "2021-12-05T21:31:50.037Z"
   },
   {
    "duration": 18,
    "start_time": "2021-12-05T21:31:50.079Z"
   },
   {
    "duration": 8,
    "start_time": "2021-12-05T21:31:50.099Z"
   },
   {
    "duration": 81,
    "start_time": "2021-12-05T21:31:50.110Z"
   },
   {
    "duration": 33,
    "start_time": "2021-12-05T21:31:50.194Z"
   },
   {
    "duration": 48,
    "start_time": "2021-12-05T21:31:50.230Z"
   },
   {
    "duration": 38,
    "start_time": "2021-12-05T21:31:50.281Z"
   },
   {
    "duration": 52,
    "start_time": "2021-12-05T21:31:50.322Z"
   },
   {
    "duration": 30,
    "start_time": "2021-12-05T21:31:50.377Z"
   },
   {
    "duration": 20,
    "start_time": "2021-12-05T21:31:50.409Z"
   },
   {
    "duration": 63,
    "start_time": "2021-12-05T21:32:02.652Z"
   },
   {
    "duration": 839,
    "start_time": "2021-12-05T21:32:10.939Z"
   },
   {
    "duration": 16,
    "start_time": "2021-12-05T21:32:11.780Z"
   },
   {
    "duration": 30,
    "start_time": "2021-12-05T21:32:11.799Z"
   },
   {
    "duration": 41,
    "start_time": "2021-12-05T21:32:11.832Z"
   },
   {
    "duration": 24,
    "start_time": "2021-12-05T21:32:11.876Z"
   },
   {
    "duration": 7,
    "start_time": "2021-12-05T21:32:11.902Z"
   },
   {
    "duration": 756,
    "start_time": "2021-12-05T21:32:11.912Z"
   },
   {
    "duration": 10,
    "start_time": "2021-12-05T21:32:12.671Z"
   },
   {
    "duration": 8,
    "start_time": "2021-12-05T21:32:12.686Z"
   },
   {
    "duration": 79,
    "start_time": "2021-12-05T21:32:12.697Z"
   },
   {
    "duration": 608,
    "start_time": "2021-12-05T21:32:12.778Z"
   },
   {
    "duration": 710,
    "start_time": "2021-12-05T21:32:13.389Z"
   },
   {
    "duration": 12,
    "start_time": "2021-12-05T21:32:14.101Z"
   },
   {
    "duration": 10,
    "start_time": "2021-12-05T21:32:14.115Z"
   },
   {
    "duration": 48,
    "start_time": "2021-12-05T21:32:14.127Z"
   },
   {
    "duration": 17,
    "start_time": "2021-12-05T21:32:14.178Z"
   },
   {
    "duration": 17,
    "start_time": "2021-12-05T21:32:14.197Z"
   },
   {
    "duration": 6,
    "start_time": "2021-12-05T21:32:14.216Z"
   },
   {
    "duration": 45,
    "start_time": "2021-12-05T21:32:14.225Z"
   },
   {
    "duration": 6,
    "start_time": "2021-12-05T21:32:14.272Z"
   },
   {
    "duration": 627,
    "start_time": "2021-12-05T21:32:14.281Z"
   },
   {
    "duration": 23,
    "start_time": "2021-12-05T21:32:14.911Z"
   },
   {
    "duration": 43,
    "start_time": "2021-12-05T21:32:14.936Z"
   },
   {
    "duration": 23,
    "start_time": "2021-12-05T21:32:14.982Z"
   },
   {
    "duration": 4730,
    "start_time": "2021-12-05T21:32:15.008Z"
   },
   {
    "duration": 25,
    "start_time": "2021-12-05T21:32:19.741Z"
   },
   {
    "duration": 20,
    "start_time": "2021-12-05T21:32:19.771Z"
   },
   {
    "duration": 19,
    "start_time": "2021-12-05T21:32:19.793Z"
   },
   {
    "duration": 8,
    "start_time": "2021-12-05T21:32:19.814Z"
   },
   {
    "duration": 79,
    "start_time": "2021-12-05T21:32:19.824Z"
   },
   {
    "duration": 28,
    "start_time": "2021-12-05T21:32:19.906Z"
   },
   {
    "duration": 38,
    "start_time": "2021-12-05T21:32:19.936Z"
   },
   {
    "duration": 29,
    "start_time": "2021-12-05T21:32:19.977Z"
   },
   {
    "duration": 22,
    "start_time": "2021-12-05T21:32:20.008Z"
   },
   {
    "duration": 58,
    "start_time": "2021-12-05T21:32:20.033Z"
   },
   {
    "duration": 22,
    "start_time": "2021-12-05T21:32:20.094Z"
   },
   {
    "duration": 880,
    "start_time": "2021-12-05T21:35:39.245Z"
   },
   {
    "duration": 19,
    "start_time": "2021-12-05T21:35:40.129Z"
   },
   {
    "duration": 60,
    "start_time": "2021-12-05T21:35:40.152Z"
   },
   {
    "duration": 20,
    "start_time": "2021-12-05T21:35:40.216Z"
   },
   {
    "duration": 55,
    "start_time": "2021-12-05T21:35:40.239Z"
   },
   {
    "duration": 19,
    "start_time": "2021-12-05T21:35:40.297Z"
   },
   {
    "duration": 848,
    "start_time": "2021-12-05T21:35:40.319Z"
   },
   {
    "duration": 12,
    "start_time": "2021-12-05T21:35:41.171Z"
   },
   {
    "duration": 22,
    "start_time": "2021-12-05T21:35:41.187Z"
   },
   {
    "duration": 79,
    "start_time": "2021-12-05T21:35:41.212Z"
   },
   {
    "duration": 721,
    "start_time": "2021-12-05T21:35:41.295Z"
   },
   {
    "duration": 950,
    "start_time": "2021-12-05T21:35:42.019Z"
   },
   {
    "duration": 20,
    "start_time": "2021-12-05T21:35:42.973Z"
   },
   {
    "duration": 7,
    "start_time": "2021-12-05T21:35:42.997Z"
   },
   {
    "duration": 63,
    "start_time": "2021-12-05T21:35:43.006Z"
   },
   {
    "duration": 19,
    "start_time": "2021-12-05T21:35:43.071Z"
   },
   {
    "duration": 18,
    "start_time": "2021-12-05T21:35:43.093Z"
   },
   {
    "duration": 9,
    "start_time": "2021-12-05T21:35:43.114Z"
   },
   {
    "duration": 8,
    "start_time": "2021-12-05T21:35:43.166Z"
   },
   {
    "duration": 7,
    "start_time": "2021-12-05T21:35:43.178Z"
   },
   {
    "duration": 1208,
    "start_time": "2021-12-05T21:35:43.188Z"
   },
   {
    "duration": 34,
    "start_time": "2021-12-05T21:35:44.399Z"
   },
   {
    "duration": 47,
    "start_time": "2021-12-05T21:35:44.438Z"
   },
   {
    "duration": 23,
    "start_time": "2021-12-05T21:35:44.488Z"
   },
   {
    "duration": 563,
    "start_time": "2021-12-06T17:04:51.545Z"
   },
   {
    "duration": 11,
    "start_time": "2021-12-06T17:04:52.110Z"
   },
   {
    "duration": 20,
    "start_time": "2021-12-06T17:04:52.123Z"
   },
   {
    "duration": 10,
    "start_time": "2021-12-06T17:04:52.145Z"
   },
   {
    "duration": 37,
    "start_time": "2021-12-06T17:04:52.156Z"
   },
   {
    "duration": 5,
    "start_time": "2021-12-06T17:04:52.195Z"
   },
   {
    "duration": 402,
    "start_time": "2021-12-06T17:04:52.201Z"
   },
   {
    "duration": 7,
    "start_time": "2021-12-06T17:04:52.606Z"
   },
   {
    "duration": 8,
    "start_time": "2021-12-06T17:04:52.615Z"
   },
   {
    "duration": 29,
    "start_time": "2021-12-06T17:04:52.625Z"
   },
   {
    "duration": 355,
    "start_time": "2021-12-06T17:04:52.656Z"
   },
   {
    "duration": 388,
    "start_time": "2021-12-06T17:04:53.012Z"
   },
   {
    "duration": 10,
    "start_time": "2021-12-06T17:04:53.402Z"
   },
   {
    "duration": 8,
    "start_time": "2021-12-06T17:04:53.413Z"
   },
   {
    "duration": 17,
    "start_time": "2021-12-06T17:04:53.423Z"
   },
   {
    "duration": 17,
    "start_time": "2021-12-06T17:04:53.441Z"
   },
   {
    "duration": 33,
    "start_time": "2021-12-06T17:04:53.459Z"
   },
   {
    "duration": 5,
    "start_time": "2021-12-06T17:04:53.494Z"
   },
   {
    "duration": 6,
    "start_time": "2021-12-06T17:04:53.501Z"
   },
   {
    "duration": 6,
    "start_time": "2021-12-06T17:04:53.509Z"
   },
   {
    "duration": 370,
    "start_time": "2021-12-06T17:04:53.517Z"
   },
   {
    "duration": 18,
    "start_time": "2021-12-06T17:04:53.889Z"
   },
   {
    "duration": 19,
    "start_time": "2021-12-06T17:04:53.911Z"
   },
   {
    "duration": 15,
    "start_time": "2021-12-06T17:04:53.932Z"
   },
   {
    "duration": 3654,
    "start_time": "2021-12-06T17:04:53.949Z"
   },
   {
    "duration": 7,
    "start_time": "2021-12-06T17:04:57.605Z"
   },
   {
    "duration": 13,
    "start_time": "2021-12-06T17:04:57.614Z"
   },
   {
    "duration": 14,
    "start_time": "2021-12-06T17:04:57.628Z"
   },
   {
    "duration": 7,
    "start_time": "2021-12-06T17:04:57.644Z"
   },
   {
    "duration": 53,
    "start_time": "2021-12-06T17:04:57.652Z"
   },
   {
    "duration": 19,
    "start_time": "2021-12-06T17:04:57.707Z"
   },
   {
    "duration": 10,
    "start_time": "2021-12-06T17:04:57.728Z"
   },
   {
    "duration": 25,
    "start_time": "2021-12-06T17:04:57.740Z"
   },
   {
    "duration": 32,
    "start_time": "2021-12-06T17:04:57.767Z"
   },
   {
    "duration": 15,
    "start_time": "2021-12-06T17:04:57.801Z"
   },
   {
    "duration": 15,
    "start_time": "2021-12-06T17:04:57.818Z"
   },
   {
    "duration": 18,
    "start_time": "2021-12-06T17:08:46.285Z"
   },
   {
    "duration": 9,
    "start_time": "2021-12-06T17:09:50.907Z"
   },
   {
    "duration": 9,
    "start_time": "2021-12-06T17:10:01.199Z"
   },
   {
    "duration": 8,
    "start_time": "2021-12-06T17:10:17.354Z"
   },
   {
    "duration": 54,
    "start_time": "2021-12-06T17:55:39.787Z"
   },
   {
    "duration": 589,
    "start_time": "2021-12-06T18:10:48.835Z"
   },
   {
    "duration": 11,
    "start_time": "2021-12-06T18:10:49.426Z"
   },
   {
    "duration": 18,
    "start_time": "2021-12-06T18:10:49.439Z"
   },
   {
    "duration": 10,
    "start_time": "2021-12-06T18:10:49.459Z"
   },
   {
    "duration": 29,
    "start_time": "2021-12-06T18:10:49.471Z"
   },
   {
    "duration": 5,
    "start_time": "2021-12-06T18:10:49.501Z"
   },
   {
    "duration": 6,
    "start_time": "2021-12-06T18:10:49.507Z"
   },
   {
    "duration": 14,
    "start_time": "2021-12-06T18:12:38.690Z"
   },
   {
    "duration": 30,
    "start_time": "2021-12-06T18:13:17.182Z"
   },
   {
    "duration": 30,
    "start_time": "2021-12-06T18:13:54.033Z"
   },
   {
    "duration": 13,
    "start_time": "2021-12-06T18:13:57.881Z"
   },
   {
    "duration": 372,
    "start_time": "2021-12-06T18:16:44.012Z"
   },
   {
    "duration": 8,
    "start_time": "2021-12-06T18:16:50.415Z"
   },
   {
    "duration": 5032,
    "start_time": "2021-12-06T18:16:52.535Z"
   },
   {
    "duration": 185,
    "start_time": "2021-12-06T18:17:15.475Z"
   },
   {
    "duration": 13,
    "start_time": "2021-12-06T18:17:21.116Z"
   },
   {
    "duration": 10,
    "start_time": "2021-12-06T18:17:27.371Z"
   },
   {
    "duration": 10,
    "start_time": "2021-12-06T18:17:36.234Z"
   },
   {
    "duration": 688,
    "start_time": "2021-12-06T18:20:42.927Z"
   },
   {
    "duration": 6098,
    "start_time": "2021-12-06T18:20:51.847Z"
   },
   {
    "duration": 13,
    "start_time": "2021-12-06T18:21:09.433Z"
   },
   {
    "duration": 13,
    "start_time": "2021-12-06T18:21:36.812Z"
   },
   {
    "duration": 5618,
    "start_time": "2021-12-06T18:21:53.858Z"
   },
   {
    "duration": 176,
    "start_time": "2021-12-06T18:23:04.060Z"
   },
   {
    "duration": 5391,
    "start_time": "2021-12-06T18:23:07.761Z"
   },
   {
    "duration": 4421,
    "start_time": "2021-12-06T18:23:22.601Z"
   },
   {
    "duration": 4438,
    "start_time": "2021-12-06T18:23:47.331Z"
   },
   {
    "duration": 4493,
    "start_time": "2021-12-06T18:24:16.013Z"
   },
   {
    "duration": 14,
    "start_time": "2021-12-06T18:24:31.181Z"
   },
   {
    "duration": 9,
    "start_time": "2021-12-06T18:24:57.853Z"
   },
   {
    "duration": 13,
    "start_time": "2021-12-06T18:25:16.627Z"
   },
   {
    "duration": 55,
    "start_time": "2021-12-06T18:26:54.379Z"
   },
   {
    "duration": 16,
    "start_time": "2021-12-06T18:27:02.720Z"
   },
   {
    "duration": 1203,
    "start_time": "2021-12-06T18:28:33.015Z"
   },
   {
    "duration": 170,
    "start_time": "2021-12-06T18:28:45.540Z"
   },
   {
    "duration": 170,
    "start_time": "2021-12-06T18:28:49.216Z"
   },
   {
    "duration": 28,
    "start_time": "2021-12-06T18:29:00.476Z"
   },
   {
    "duration": 16,
    "start_time": "2021-12-06T18:29:26.093Z"
   },
   {
    "duration": 13,
    "start_time": "2021-12-06T19:01:03.174Z"
   },
   {
    "duration": 5380,
    "start_time": "2021-12-06T19:02:17.617Z"
   },
   {
    "duration": 6,
    "start_time": "2021-12-06T19:05:33.505Z"
   },
   {
    "duration": 602,
    "start_time": "2021-12-06T19:07:08.910Z"
   },
   {
    "duration": 11,
    "start_time": "2021-12-06T19:07:09.514Z"
   },
   {
    "duration": 30,
    "start_time": "2021-12-06T19:07:09.527Z"
   },
   {
    "duration": 27,
    "start_time": "2021-12-06T19:07:09.558Z"
   },
   {
    "duration": 22,
    "start_time": "2021-12-06T19:07:09.586Z"
   },
   {
    "duration": 18,
    "start_time": "2021-12-06T19:07:09.610Z"
   },
   {
    "duration": 18,
    "start_time": "2021-12-06T19:07:09.630Z"
   },
   {
    "duration": 12,
    "start_time": "2021-12-06T19:07:11.754Z"
   },
   {
    "duration": 341,
    "start_time": "2021-12-06T19:07:15.152Z"
   },
   {
    "duration": 6,
    "start_time": "2021-12-06T19:07:17.185Z"
   },
   {
    "duration": 4452,
    "start_time": "2021-12-06T19:09:38.641Z"
   },
   {
    "duration": 19,
    "start_time": "2021-12-06T19:09:59.275Z"
   },
   {
    "duration": 18,
    "start_time": "2021-12-06T19:10:15.251Z"
   },
   {
    "duration": 17,
    "start_time": "2021-12-06T19:10:20.558Z"
   },
   {
    "duration": 13,
    "start_time": "2021-12-06T19:11:13.581Z"
   },
   {
    "duration": 12,
    "start_time": "2021-12-06T19:11:51.969Z"
   },
   {
    "duration": 7,
    "start_time": "2021-12-06T19:12:16.747Z"
   },
   {
    "duration": 13,
    "start_time": "2021-12-06T19:13:36.261Z"
   },
   {
    "duration": 8,
    "start_time": "2021-12-06T19:14:26.734Z"
   },
   {
    "duration": 11,
    "start_time": "2021-12-06T19:14:46.169Z"
   },
   {
    "duration": 9,
    "start_time": "2021-12-06T19:14:59.002Z"
   },
   {
    "duration": 10,
    "start_time": "2021-12-06T19:15:13.776Z"
   },
   {
    "duration": 13,
    "start_time": "2021-12-06T19:15:29.760Z"
   },
   {
    "duration": 9,
    "start_time": "2021-12-06T19:16:21.913Z"
   },
   {
    "duration": 10,
    "start_time": "2021-12-06T19:16:28.168Z"
   },
   {
    "duration": 19,
    "start_time": "2021-12-06T19:16:54.573Z"
   },
   {
    "duration": 9,
    "start_time": "2021-12-06T19:17:09.363Z"
   },
   {
    "duration": 14,
    "start_time": "2021-12-06T19:18:08.741Z"
   },
   {
    "duration": 14,
    "start_time": "2021-12-06T19:18:16.261Z"
   },
   {
    "duration": 10,
    "start_time": "2021-12-06T19:18:22.120Z"
   },
   {
    "duration": 9,
    "start_time": "2021-12-06T19:19:01.334Z"
   },
   {
    "duration": 13,
    "start_time": "2021-12-06T19:19:27.029Z"
   },
   {
    "duration": 9,
    "start_time": "2021-12-06T19:19:34.920Z"
   },
   {
    "duration": 13,
    "start_time": "2021-12-06T19:19:53.247Z"
   },
   {
    "duration": 9,
    "start_time": "2021-12-06T19:20:02.745Z"
   },
   {
    "duration": 15,
    "start_time": "2021-12-06T19:20:27.854Z"
   },
   {
    "duration": 10,
    "start_time": "2021-12-06T19:20:31.656Z"
   },
   {
    "duration": 8,
    "start_time": "2021-12-06T19:20:48.073Z"
   },
   {
    "duration": 606,
    "start_time": "2021-12-06T19:21:10.897Z"
   },
   {
    "duration": 11,
    "start_time": "2021-12-06T19:21:11.505Z"
   },
   {
    "duration": 19,
    "start_time": "2021-12-06T19:21:11.518Z"
   },
   {
    "duration": 9,
    "start_time": "2021-12-06T19:21:11.539Z"
   },
   {
    "duration": 45,
    "start_time": "2021-12-06T19:21:11.550Z"
   },
   {
    "duration": 2,
    "start_time": "2021-12-06T19:21:11.597Z"
   },
   {
    "duration": 5,
    "start_time": "2021-12-06T19:21:11.601Z"
   },
   {
    "duration": 16,
    "start_time": "2021-12-06T19:21:11.607Z"
   },
   {
    "duration": 362,
    "start_time": "2021-12-06T19:21:11.626Z"
   },
   {
    "duration": 7,
    "start_time": "2021-12-06T19:21:11.992Z"
   },
   {
    "duration": 17,
    "start_time": "2021-12-06T19:21:12.001Z"
   },
   {
    "duration": 14,
    "start_time": "2021-12-06T19:21:12.019Z"
   },
   {
    "duration": 9,
    "start_time": "2021-12-06T19:21:14.805Z"
   },
   {
    "duration": 12,
    "start_time": "2021-12-06T19:21:28.102Z"
   },
   {
    "duration": 14,
    "start_time": "2021-12-06T19:21:45.085Z"
   },
   {
    "duration": 11,
    "start_time": "2021-12-06T19:21:49.747Z"
   },
   {
    "duration": 18,
    "start_time": "2021-12-06T19:22:08.868Z"
   },
   {
    "duration": 8,
    "start_time": "2021-12-06T19:22:17.658Z"
   },
   {
    "duration": 17,
    "start_time": "2021-12-06T19:22:23.161Z"
   },
   {
    "duration": 16,
    "start_time": "2021-12-06T19:23:23.702Z"
   },
   {
    "duration": 20,
    "start_time": "2021-12-06T19:23:24.758Z"
   },
   {
    "duration": 10,
    "start_time": "2021-12-06T19:23:27.289Z"
   },
   {
    "duration": 9,
    "start_time": "2021-12-06T19:23:48.753Z"
   },
   {
    "duration": 14,
    "start_time": "2021-12-06T19:23:53.282Z"
   },
   {
    "duration": 17,
    "start_time": "2021-12-06T19:24:00.125Z"
   },
   {
    "duration": 16,
    "start_time": "2021-12-06T19:24:14.222Z"
   },
   {
    "duration": 17,
    "start_time": "2021-12-06T19:24:17.927Z"
   },
   {
    "duration": 9,
    "start_time": "2021-12-06T19:24:22.347Z"
   },
   {
    "duration": 5967,
    "start_time": "2021-12-06T19:24:43.656Z"
   },
   {
    "duration": 177,
    "start_time": "2021-12-06T19:26:43.655Z"
   },
   {
    "duration": 8,
    "start_time": "2021-12-06T19:26:55.612Z"
   },
   {
    "duration": 7,
    "start_time": "2021-12-06T19:26:59.053Z"
   },
   {
    "duration": 10,
    "start_time": "2021-12-06T19:27:05.081Z"
   },
   {
    "duration": 4545,
    "start_time": "2021-12-06T19:27:14.381Z"
   },
   {
    "duration": 59,
    "start_time": "2021-12-06T19:27:26.920Z"
   },
   {
    "duration": 5,
    "start_time": "2021-12-06T19:27:30.539Z"
   },
   {
    "duration": 9,
    "start_time": "2021-12-06T19:27:52.465Z"
   },
   {
    "duration": 9,
    "start_time": "2021-12-06T19:28:03.021Z"
   },
   {
    "duration": 4401,
    "start_time": "2021-12-06T19:28:14.691Z"
   },
   {
    "duration": 4279,
    "start_time": "2021-12-06T19:28:35.661Z"
   },
   {
    "duration": 58,
    "start_time": "2021-12-06T19:28:40.897Z"
   },
   {
    "duration": 5,
    "start_time": "2021-12-06T19:28:43.512Z"
   },
   {
    "duration": 4625,
    "start_time": "2021-12-06T19:28:50.073Z"
   },
   {
    "duration": 5586,
    "start_time": "2021-12-06T19:30:15.283Z"
   },
   {
    "duration": 9,
    "start_time": "2021-12-06T19:30:52.785Z"
   },
   {
    "duration": 7,
    "start_time": "2021-12-06T19:31:04.804Z"
   },
   {
    "duration": 179,
    "start_time": "2021-12-06T19:31:35.821Z"
   },
   {
    "duration": 61,
    "start_time": "2021-12-06T19:31:43.385Z"
   },
   {
    "duration": 5,
    "start_time": "2021-12-06T19:31:55.805Z"
   },
   {
    "duration": 8,
    "start_time": "2021-12-06T19:33:07.043Z"
   },
   {
    "duration": 183,
    "start_time": "2021-12-06T19:34:05.328Z"
   },
   {
    "duration": 167,
    "start_time": "2021-12-06T19:34:40.340Z"
   },
   {
    "duration": 191,
    "start_time": "2021-12-06T19:35:05.783Z"
   },
   {
    "duration": 173,
    "start_time": "2021-12-06T19:35:15.410Z"
   },
   {
    "duration": 168,
    "start_time": "2021-12-06T19:35:21.894Z"
   },
   {
    "duration": 189,
    "start_time": "2021-12-06T19:35:31.203Z"
   },
   {
    "duration": 184,
    "start_time": "2021-12-06T19:35:36.526Z"
   },
   {
    "duration": 9,
    "start_time": "2021-12-06T19:35:59.032Z"
   },
   {
    "duration": 9,
    "start_time": "2021-12-06T19:36:15.431Z"
   },
   {
    "duration": 8,
    "start_time": "2021-12-06T19:36:21.596Z"
   },
   {
    "duration": 9,
    "start_time": "2021-12-06T19:36:26.189Z"
   },
   {
    "duration": 6,
    "start_time": "2021-12-06T19:37:56.848Z"
   },
   {
    "duration": 262,
    "start_time": "2021-12-06T19:38:13.585Z"
   },
   {
    "duration": 5,
    "start_time": "2021-12-06T19:38:22.125Z"
   },
   {
    "duration": 3395,
    "start_time": "2021-12-06T19:38:54.349Z"
   },
   {
    "duration": 5257,
    "start_time": "2021-12-06T19:39:10.010Z"
   },
   {
    "duration": 3261,
    "start_time": "2021-12-06T19:39:22.703Z"
   },
   {
    "duration": 4177,
    "start_time": "2021-12-06T19:39:44.756Z"
   },
   {
    "duration": 6,
    "start_time": "2021-12-06T19:40:53.275Z"
   },
   {
    "duration": 15,
    "start_time": "2021-12-06T19:45:02.113Z"
   },
   {
    "duration": 23,
    "start_time": "2021-12-06T19:45:08.755Z"
   },
   {
    "duration": 12,
    "start_time": "2021-12-06T19:46:37.375Z"
   },
   {
    "duration": 18,
    "start_time": "2021-12-06T20:00:14.484Z"
   },
   {
    "duration": 14,
    "start_time": "2021-12-06T20:00:28.113Z"
   },
   {
    "duration": 4388,
    "start_time": "2021-12-06T20:00:52.794Z"
   },
   {
    "duration": 4678,
    "start_time": "2021-12-06T20:01:14.054Z"
   },
   {
    "duration": 14,
    "start_time": "2021-12-06T20:01:20.422Z"
   },
   {
    "duration": 199,
    "start_time": "2021-12-06T20:01:27.663Z"
   },
   {
    "duration": 12,
    "start_time": "2021-12-06T20:01:33.930Z"
   },
   {
    "duration": 16,
    "start_time": "2021-12-06T20:01:39.551Z"
   },
   {
    "duration": 185,
    "start_time": "2021-12-06T20:01:47.682Z"
   },
   {
    "duration": 11,
    "start_time": "2021-12-06T20:01:54.576Z"
   },
   {
    "duration": 15,
    "start_time": "2021-12-06T20:01:57.967Z"
   },
   {
    "duration": 26,
    "start_time": "2021-12-06T20:02:22.329Z"
   },
   {
    "duration": 19,
    "start_time": "2021-12-06T20:02:26.673Z"
   },
   {
    "duration": 10,
    "start_time": "2021-12-06T20:02:35.227Z"
   },
   {
    "duration": 16,
    "start_time": "2021-12-06T20:02:39.153Z"
   },
   {
    "duration": 9,
    "start_time": "2021-12-06T20:02:40.664Z"
   },
   {
    "duration": 5,
    "start_time": "2021-12-06T20:05:59.756Z"
   },
   {
    "duration": 4,
    "start_time": "2021-12-06T20:06:10.825Z"
   },
   {
    "duration": 5515,
    "start_time": "2021-12-06T20:08:56.409Z"
   },
   {
    "duration": 7,
    "start_time": "2021-12-06T20:10:01.269Z"
   },
   {
    "duration": 27,
    "start_time": "2021-12-06T20:10:33.270Z"
   },
   {
    "duration": 174,
    "start_time": "2021-12-06T20:11:28.694Z"
   },
   {
    "duration": 336,
    "start_time": "2021-12-06T20:11:55.504Z"
   },
   {
    "duration": 8,
    "start_time": "2021-12-06T20:12:01.298Z"
   },
   {
    "duration": 6,
    "start_time": "2021-12-06T20:12:08.857Z"
   },
   {
    "duration": 6,
    "start_time": "2021-12-06T20:12:13.488Z"
   },
   {
    "duration": 9,
    "start_time": "2021-12-06T20:12:18.447Z"
   },
   {
    "duration": 6,
    "start_time": "2021-12-06T20:12:50.123Z"
   },
   {
    "duration": 8,
    "start_time": "2021-12-06T20:12:58.364Z"
   },
   {
    "duration": 7,
    "start_time": "2021-12-06T20:13:11.275Z"
   },
   {
    "duration": 26,
    "start_time": "2021-12-06T20:13:15.458Z"
   },
   {
    "duration": 187,
    "start_time": "2021-12-06T20:13:20.472Z"
   },
   {
    "duration": 199,
    "start_time": "2021-12-06T20:13:29.771Z"
   },
   {
    "duration": 7,
    "start_time": "2021-12-06T20:13:45.202Z"
   },
   {
    "duration": 7,
    "start_time": "2021-12-06T20:13:59.150Z"
   },
   {
    "duration": 8,
    "start_time": "2021-12-06T20:14:01.861Z"
   },
   {
    "duration": 865,
    "start_time": "2021-12-06T20:14:49.514Z"
   },
   {
    "duration": 4,
    "start_time": "2021-12-06T20:15:42.112Z"
   },
   {
    "duration": 3,
    "start_time": "2021-12-06T20:15:55.120Z"
   },
   {
    "duration": 375,
    "start_time": "2021-12-06T20:15:56.733Z"
   },
   {
    "duration": 16,
    "start_time": "2021-12-06T20:16:13.472Z"
   },
   {
    "duration": 4,
    "start_time": "2021-12-06T20:16:14.897Z"
   },
   {
    "duration": 357,
    "start_time": "2021-12-06T20:16:16.593Z"
   },
   {
    "duration": 11,
    "start_time": "2021-12-06T20:16:34.236Z"
   },
   {
    "duration": 4,
    "start_time": "2021-12-06T20:16:40.433Z"
   },
   {
    "duration": 695,
    "start_time": "2021-12-06T20:17:08.659Z"
   },
   {
    "duration": 1154,
    "start_time": "2021-12-06T20:17:16.892Z"
   },
   {
    "duration": 2413,
    "start_time": "2021-12-06T20:18:23.575Z"
   },
   {
    "duration": 3,
    "start_time": "2021-12-06T20:18:38.048Z"
   },
   {
    "duration": 2414,
    "start_time": "2021-12-06T20:18:39.662Z"
   },
   {
    "duration": 4,
    "start_time": "2021-12-06T20:19:01.472Z"
   },
   {
    "duration": 2408,
    "start_time": "2021-12-06T20:19:02.919Z"
   },
   {
    "duration": 4,
    "start_time": "2021-12-06T20:23:14.577Z"
   },
   {
    "duration": 2630,
    "start_time": "2021-12-06T20:23:16.996Z"
   },
   {
    "duration": 14,
    "start_time": "2021-12-06T20:34:14.111Z"
   },
   {
    "duration": 660,
    "start_time": "2021-12-06T20:36:35.811Z"
   },
   {
    "duration": 11,
    "start_time": "2021-12-06T20:36:36.472Z"
   },
   {
    "duration": 22,
    "start_time": "2021-12-06T20:36:36.485Z"
   },
   {
    "duration": 10,
    "start_time": "2021-12-06T20:36:36.509Z"
   },
   {
    "duration": 14,
    "start_time": "2021-12-06T20:36:36.521Z"
   },
   {
    "duration": 4,
    "start_time": "2021-12-06T20:36:36.537Z"
   },
   {
    "duration": 4,
    "start_time": "2021-12-06T20:36:36.543Z"
   },
   {
    "duration": 15,
    "start_time": "2021-12-06T20:36:36.549Z"
   },
   {
    "duration": 15,
    "start_time": "2021-12-06T20:36:43.289Z"
   },
   {
    "duration": 62,
    "start_time": "2021-12-06T20:36:46.209Z"
   },
   {
    "duration": 3,
    "start_time": "2021-12-06T20:37:34.178Z"
   },
   {
    "duration": 2703,
    "start_time": "2021-12-06T20:37:36.244Z"
   },
   {
    "duration": 11,
    "start_time": "2021-12-06T20:38:34.304Z"
   },
   {
    "duration": 12,
    "start_time": "2021-12-06T20:38:40.123Z"
   },
   {
    "duration": 4814,
    "start_time": "2021-12-06T20:38:49.837Z"
   },
   {
    "duration": 12,
    "start_time": "2021-12-06T20:38:55.396Z"
   },
   {
    "duration": 342,
    "start_time": "2021-12-06T20:39:11.899Z"
   },
   {
    "duration": 10,
    "start_time": "2021-12-06T20:39:17.508Z"
   },
   {
    "duration": 12,
    "start_time": "2021-12-06T20:39:26.390Z"
   },
   {
    "duration": 3,
    "start_time": "2021-12-06T20:40:12.592Z"
   },
   {
    "duration": 418,
    "start_time": "2021-12-06T20:40:14.237Z"
   },
   {
    "duration": 1361,
    "start_time": "2021-12-06T20:40:43.417Z"
   },
   {
    "duration": 1215,
    "start_time": "2021-12-06T20:40:50.167Z"
   },
   {
    "duration": 924,
    "start_time": "2021-12-06T20:40:58.167Z"
   },
   {
    "duration": 2500,
    "start_time": "2021-12-06T20:41:07.670Z"
   },
   {
    "duration": 4,
    "start_time": "2021-12-06T20:41:37.705Z"
   },
   {
    "duration": 2717,
    "start_time": "2021-12-06T20:41:39.429Z"
   },
   {
    "duration": 59,
    "start_time": "2021-12-06T20:44:08.247Z"
   },
   {
    "duration": 57,
    "start_time": "2021-12-06T20:44:19.446Z"
   },
   {
    "duration": 10,
    "start_time": "2021-12-06T20:44:37.548Z"
   },
   {
    "duration": 11,
    "start_time": "2021-12-06T20:44:47.980Z"
   },
   {
    "duration": 278,
    "start_time": "2021-12-06T20:45:04.731Z"
   },
   {
    "duration": 14,
    "start_time": "2021-12-06T20:45:27.060Z"
   },
   {
    "duration": 8,
    "start_time": "2021-12-06T20:45:51.791Z"
   },
   {
    "duration": 181,
    "start_time": "2021-12-06T20:46:58.709Z"
   },
   {
    "duration": 8,
    "start_time": "2021-12-06T20:47:07.654Z"
   },
   {
    "duration": 9,
    "start_time": "2021-12-06T20:47:17.707Z"
   },
   {
    "duration": 190,
    "start_time": "2021-12-06T20:47:26.004Z"
   },
   {
    "duration": 5495,
    "start_time": "2021-12-06T20:47:37.986Z"
   },
   {
    "duration": 3209,
    "start_time": "2021-12-06T20:47:47.479Z"
   },
   {
    "duration": 10,
    "start_time": "2021-12-06T20:48:21.999Z"
   },
   {
    "duration": 15,
    "start_time": "2021-12-06T20:49:20.492Z"
   },
   {
    "duration": 14,
    "start_time": "2021-12-06T20:49:22.976Z"
   },
   {
    "duration": 14,
    "start_time": "2021-12-06T20:50:08.222Z"
   },
   {
    "duration": 26,
    "start_time": "2021-12-06T20:50:45.528Z"
   },
   {
    "duration": 12,
    "start_time": "2021-12-06T20:51:42.128Z"
   },
   {
    "duration": 9,
    "start_time": "2021-12-06T20:51:59.681Z"
   },
   {
    "duration": 3,
    "start_time": "2021-12-06T20:52:32.256Z"
   },
   {
    "duration": 897,
    "start_time": "2021-12-06T21:03:21.746Z"
   },
   {
    "duration": 54,
    "start_time": "2021-12-06T21:03:22.932Z"
   },
   {
    "duration": 54,
    "start_time": "2021-12-06T21:04:03.436Z"
   },
   {
    "duration": 62,
    "start_time": "2021-12-06T21:05:06.322Z"
   },
   {
    "duration": 568,
    "start_time": "2021-12-06T21:08:55.033Z"
   },
   {
    "duration": 11,
    "start_time": "2021-12-06T21:08:55.603Z"
   },
   {
    "duration": 19,
    "start_time": "2021-12-06T21:08:55.616Z"
   },
   {
    "duration": 10,
    "start_time": "2021-12-06T21:08:55.637Z"
   },
   {
    "duration": 43,
    "start_time": "2021-12-06T21:08:55.649Z"
   },
   {
    "duration": 2,
    "start_time": "2021-12-06T21:08:55.694Z"
   },
   {
    "duration": 5,
    "start_time": "2021-12-06T21:08:55.697Z"
   },
   {
    "duration": 14,
    "start_time": "2021-12-06T21:09:00.019Z"
   },
   {
    "duration": 15,
    "start_time": "2021-12-06T21:09:14.744Z"
   },
   {
    "duration": 805,
    "start_time": "2021-12-07T14:02:30.908Z"
   },
   {
    "duration": 14,
    "start_time": "2021-12-07T14:02:31.716Z"
   },
   {
    "duration": 29,
    "start_time": "2021-12-07T14:02:31.733Z"
   },
   {
    "duration": 11,
    "start_time": "2021-12-07T14:02:31.765Z"
   },
   {
    "duration": 55,
    "start_time": "2021-12-07T14:02:31.779Z"
   },
   {
    "duration": 3,
    "start_time": "2021-12-07T14:02:31.837Z"
   },
   {
    "duration": 13,
    "start_time": "2021-12-07T14:02:31.842Z"
   },
   {
    "duration": 17,
    "start_time": "2021-12-07T14:02:31.857Z"
   },
   {
    "duration": 47,
    "start_time": "2021-12-07T14:02:31.877Z"
   },
   {
    "duration": 4,
    "start_time": "2021-12-07T14:02:31.927Z"
   },
   {
    "duration": 8,
    "start_time": "2021-12-07T14:02:31.933Z"
   },
   {
    "duration": 48,
    "start_time": "2021-12-07T14:02:49.666Z"
   },
   {
    "duration": 53,
    "start_time": "2021-12-07T14:03:13.080Z"
   },
   {
    "duration": 28,
    "start_time": "2021-12-07T14:03:30.566Z"
   },
   {
    "duration": 6,
    "start_time": "2021-12-07T14:03:38.864Z"
   },
   {
    "duration": 5,
    "start_time": "2021-12-07T14:03:47.515Z"
   },
   {
    "duration": 7124,
    "start_time": "2021-12-07T14:13:32.484Z"
   },
   {
    "duration": 2267,
    "start_time": "2021-12-07T14:18:39.802Z"
   },
   {
    "duration": 469,
    "start_time": "2021-12-07T14:18:46.749Z"
   },
   {
    "duration": 971,
    "start_time": "2022-07-20T06:31:11.176Z"
   },
   {
    "duration": 29,
    "start_time": "2022-07-20T06:31:13.307Z"
   },
   {
    "duration": 30,
    "start_time": "2022-07-20T06:31:15.332Z"
   },
   {
    "duration": 15,
    "start_time": "2022-07-20T06:31:23.203Z"
   },
   {
    "duration": 20,
    "start_time": "2022-07-20T06:31:24.902Z"
   },
   {
    "duration": 101,
    "start_time": "2022-07-20T10:35:06.014Z"
   },
   {
    "duration": 22,
    "start_time": "2022-07-20T10:35:06.118Z"
   },
   {
    "duration": 28,
    "start_time": "2022-07-20T10:35:06.142Z"
   },
   {
    "duration": 48,
    "start_time": "2022-07-20T10:35:06.172Z"
   },
   {
    "duration": 23,
    "start_time": "2022-07-20T10:35:06.222Z"
   },
   {
    "duration": 11,
    "start_time": "2022-07-20T10:39:27.682Z"
   },
   {
    "duration": 10,
    "start_time": "2022-07-20T10:39:32.421Z"
   },
   {
    "duration": 7,
    "start_time": "2022-07-20T10:44:35.714Z"
   },
   {
    "duration": 497,
    "start_time": "2022-07-20T10:44:54.131Z"
   },
   {
    "duration": 18,
    "start_time": "2022-07-20T10:44:55.219Z"
   },
   {
    "duration": 21,
    "start_time": "2022-07-20T10:44:56.778Z"
   },
   {
    "duration": 13,
    "start_time": "2022-07-20T10:44:58.778Z"
   },
   {
    "duration": 15,
    "start_time": "2022-07-20T10:45:00.554Z"
   },
   {
    "duration": 9,
    "start_time": "2022-07-20T10:45:03.908Z"
   },
   {
    "duration": 10,
    "start_time": "2022-07-20T10:45:07.459Z"
   },
   {
    "duration": 70,
    "start_time": "2022-07-20T10:52:27.126Z"
   },
   {
    "duration": 20,
    "start_time": "2022-07-20T10:52:27.197Z"
   },
   {
    "duration": 19,
    "start_time": "2022-07-20T10:52:27.219Z"
   },
   {
    "duration": 36,
    "start_time": "2022-07-20T10:52:27.242Z"
   },
   {
    "duration": 24,
    "start_time": "2022-07-20T10:52:27.280Z"
   },
   {
    "duration": 8,
    "start_time": "2022-07-20T10:55:52.576Z"
   },
   {
    "duration": 10,
    "start_time": "2022-07-20T10:55:54.805Z"
   },
   {
    "duration": 82,
    "start_time": "2022-07-20T10:56:32.409Z"
   },
   {
    "duration": 14,
    "start_time": "2022-07-20T10:56:32.493Z"
   },
   {
    "duration": 12,
    "start_time": "2022-07-20T10:56:32.509Z"
   },
   {
    "duration": 14,
    "start_time": "2022-07-20T10:56:32.523Z"
   },
   {
    "duration": 25,
    "start_time": "2022-07-20T10:56:32.538Z"
   },
   {
    "duration": 7,
    "start_time": "2022-07-20T10:56:52.902Z"
   },
   {
    "duration": 9,
    "start_time": "2022-07-20T10:57:24.376Z"
   },
   {
    "duration": 11,
    "start_time": "2022-07-20T10:57:26.947Z"
   },
   {
    "duration": 68,
    "start_time": "2022-07-20T10:57:55.488Z"
   },
   {
    "duration": 24,
    "start_time": "2022-07-20T10:57:55.558Z"
   },
   {
    "duration": 13,
    "start_time": "2022-07-20T10:57:55.584Z"
   },
   {
    "duration": 11,
    "start_time": "2022-07-20T10:57:55.599Z"
   },
   {
    "duration": 13,
    "start_time": "2022-07-20T10:57:55.612Z"
   },
   {
    "duration": 9,
    "start_time": "2022-07-20T10:57:56.693Z"
   },
   {
    "duration": 14,
    "start_time": "2022-07-20T10:57:58.419Z"
   },
   {
    "duration": 39,
    "start_time": "2022-07-20T10:59:30.481Z"
   },
   {
    "duration": 19,
    "start_time": "2022-07-20T10:59:32.953Z"
   },
   {
    "duration": 4,
    "start_time": "2022-07-20T10:59:35.689Z"
   },
   {
    "duration": 3,
    "start_time": "2022-07-20T10:59:37.298Z"
   },
   {
    "duration": 3321,
    "start_time": "2022-07-20T11:12:05.208Z"
   },
   {
    "duration": 3284,
    "start_time": "2022-07-20T11:12:12.525Z"
   },
   {
    "duration": 3148,
    "start_time": "2022-07-20T11:12:20.149Z"
   },
   {
    "duration": 88,
    "start_time": "2022-07-20T11:12:59.224Z"
   },
   {
    "duration": 15,
    "start_time": "2022-07-20T11:12:59.314Z"
   },
   {
    "duration": 13,
    "start_time": "2022-07-20T11:12:59.331Z"
   },
   {
    "duration": 24,
    "start_time": "2022-07-20T11:12:59.346Z"
   },
   {
    "duration": 30,
    "start_time": "2022-07-20T11:12:59.373Z"
   },
   {
    "duration": 15,
    "start_time": "2022-07-20T11:12:59.404Z"
   },
   {
    "duration": 14,
    "start_time": "2022-07-20T11:12:59.421Z"
   },
   {
    "duration": 7,
    "start_time": "2022-07-20T11:13:03.107Z"
   },
   {
    "duration": 27,
    "start_time": "2022-07-20T11:13:23.282Z"
   },
   {
    "duration": 15,
    "start_time": "2022-07-20T11:13:39.002Z"
   },
   {
    "duration": 31,
    "start_time": "2022-07-20T11:13:45.939Z"
   },
   {
    "duration": 189,
    "start_time": "2022-07-20T11:13:59.642Z"
   },
   {
    "duration": 228,
    "start_time": "2022-07-20T11:14:00.947Z"
   },
   {
    "duration": 12,
    "start_time": "2022-07-20T11:14:02.243Z"
   },
   {
    "duration": 5,
    "start_time": "2022-07-20T11:14:04.322Z"
   },
   {
    "duration": 24,
    "start_time": "2022-07-20T11:14:05.450Z"
   },
   {
    "duration": 15,
    "start_time": "2022-07-20T11:14:06.858Z"
   },
   {
    "duration": 13,
    "start_time": "2022-07-20T11:14:08.426Z"
   },
   {
    "duration": 5,
    "start_time": "2022-07-20T11:14:10.185Z"
   },
   {
    "duration": 6,
    "start_time": "2022-07-20T11:14:11.610Z"
   },
   {
    "duration": 4,
    "start_time": "2022-07-20T11:14:12.801Z"
   },
   {
    "duration": 493,
    "start_time": "2022-07-20T11:14:17.016Z"
   },
   {
    "duration": 26,
    "start_time": "2022-07-20T11:14:17.511Z"
   },
   {
    "duration": 34,
    "start_time": "2022-07-20T11:14:17.539Z"
   },
   {
    "duration": 11,
    "start_time": "2022-07-20T11:14:17.575Z"
   },
   {
    "duration": 24,
    "start_time": "2022-07-20T11:14:17.587Z"
   },
   {
    "duration": 31,
    "start_time": "2022-07-20T11:14:17.613Z"
   },
   {
    "duration": 32,
    "start_time": "2022-07-20T11:14:17.646Z"
   },
   {
    "duration": 19,
    "start_time": "2022-07-20T11:14:17.680Z"
   },
   {
    "duration": 43,
    "start_time": "2022-07-20T11:14:17.701Z"
   },
   {
    "duration": 229,
    "start_time": "2022-07-20T11:14:17.747Z"
   },
   {
    "duration": 238,
    "start_time": "2022-07-20T11:14:17.978Z"
   },
   {
    "duration": 11,
    "start_time": "2022-07-20T11:14:18.218Z"
   },
   {
    "duration": 7,
    "start_time": "2022-07-20T11:14:18.231Z"
   },
   {
    "duration": 45,
    "start_time": "2022-07-20T11:14:18.240Z"
   },
   {
    "duration": 13,
    "start_time": "2022-07-20T11:14:18.287Z"
   },
   {
    "duration": 14,
    "start_time": "2022-07-20T11:14:18.302Z"
   },
   {
    "duration": 3,
    "start_time": "2022-07-20T11:14:18.318Z"
   },
   {
    "duration": 10,
    "start_time": "2022-07-20T11:14:18.323Z"
   },
   {
    "duration": 37,
    "start_time": "2022-07-20T11:14:18.334Z"
   },
   {
    "duration": 198,
    "start_time": "2022-07-20T11:14:18.376Z"
   },
   {
    "duration": 17,
    "start_time": "2022-07-20T11:14:18.576Z"
   },
   {
    "duration": 27,
    "start_time": "2022-07-20T11:14:18.594Z"
   },
   {
    "duration": 41,
    "start_time": "2022-07-20T11:14:18.624Z"
   },
   {
    "duration": 3766,
    "start_time": "2022-07-20T11:14:18.667Z"
   },
   {
    "duration": 8,
    "start_time": "2022-07-20T11:14:22.435Z"
   },
   {
    "duration": 32,
    "start_time": "2022-07-20T11:14:22.445Z"
   },
   {
    "duration": 13,
    "start_time": "2022-07-20T11:14:22.479Z"
   },
   {
    "duration": 6,
    "start_time": "2022-07-20T11:14:22.495Z"
   },
   {
    "duration": 24,
    "start_time": "2022-07-20T11:14:22.502Z"
   },
   {
    "duration": 51,
    "start_time": "2022-07-20T11:14:22.527Z"
   },
   {
    "duration": 12,
    "start_time": "2022-07-20T11:14:22.580Z"
   },
   {
    "duration": 10,
    "start_time": "2022-07-20T11:14:22.594Z"
   },
   {
    "duration": 14,
    "start_time": "2022-07-20T11:14:22.605Z"
   },
   {
    "duration": 43,
    "start_time": "2022-07-20T11:14:22.620Z"
   },
   {
    "duration": 16,
    "start_time": "2022-07-20T11:14:22.665Z"
   },
   {
    "duration": 29,
    "start_time": "2022-07-20T11:14:22.683Z"
   },
   {
    "duration": 507,
    "start_time": "2022-07-20T11:19:17.735Z"
   },
   {
    "duration": 15,
    "start_time": "2022-07-20T11:19:18.244Z"
   },
   {
    "duration": 47,
    "start_time": "2022-07-20T11:19:18.261Z"
   },
   {
    "duration": 13,
    "start_time": "2022-07-20T11:19:18.310Z"
   },
   {
    "duration": 30,
    "start_time": "2022-07-20T11:19:18.324Z"
   },
   {
    "duration": 9,
    "start_time": "2022-07-20T11:19:18.355Z"
   },
   {
    "duration": 33,
    "start_time": "2022-07-20T11:19:18.366Z"
   },
   {
    "duration": 20,
    "start_time": "2022-07-20T11:19:18.400Z"
   },
   {
    "duration": 35,
    "start_time": "2022-07-20T11:19:18.421Z"
   },
   {
    "duration": 217,
    "start_time": "2022-07-20T11:19:18.459Z"
   },
   {
    "duration": 229,
    "start_time": "2022-07-20T11:19:18.690Z"
   },
   {
    "duration": 11,
    "start_time": "2022-07-20T11:19:18.921Z"
   },
   {
    "duration": 10,
    "start_time": "2022-07-20T11:19:18.933Z"
   },
   {
    "duration": 40,
    "start_time": "2022-07-20T11:19:18.945Z"
   },
   {
    "duration": 16,
    "start_time": "2022-07-20T11:19:18.988Z"
   },
   {
    "duration": 14,
    "start_time": "2022-07-20T11:19:19.005Z"
   },
   {
    "duration": 8,
    "start_time": "2022-07-20T11:19:19.020Z"
   },
   {
    "duration": 15,
    "start_time": "2022-07-20T11:19:19.029Z"
   },
   {
    "duration": 14,
    "start_time": "2022-07-20T11:19:19.045Z"
   },
   {
    "duration": 261,
    "start_time": "2022-07-20T11:19:19.062Z"
   },
   {
    "duration": 19,
    "start_time": "2022-07-20T11:19:19.324Z"
   },
   {
    "duration": 45,
    "start_time": "2022-07-20T11:19:19.344Z"
   },
   {
    "duration": 19,
    "start_time": "2022-07-20T11:19:19.391Z"
   },
   {
    "duration": 3586,
    "start_time": "2022-07-20T11:19:19.412Z"
   },
   {
    "duration": 7,
    "start_time": "2022-07-20T11:19:23.000Z"
   },
   {
    "duration": 25,
    "start_time": "2022-07-20T11:19:23.008Z"
   },
   {
    "duration": 59,
    "start_time": "2022-07-20T11:19:23.035Z"
   },
   {
    "duration": 28,
    "start_time": "2022-07-20T11:19:23.097Z"
   },
   {
    "duration": 63,
    "start_time": "2022-07-20T11:19:23.127Z"
   },
   {
    "duration": 21,
    "start_time": "2022-07-20T11:19:23.192Z"
   },
   {
    "duration": 22,
    "start_time": "2022-07-20T11:19:23.215Z"
   },
   {
    "duration": 54,
    "start_time": "2022-07-20T11:19:23.238Z"
   },
   {
    "duration": 15,
    "start_time": "2022-07-20T11:19:23.294Z"
   },
   {
    "duration": 41,
    "start_time": "2022-07-20T11:19:23.311Z"
   },
   {
    "duration": 33,
    "start_time": "2022-07-20T11:19:23.353Z"
   }
  ],
  "kernelspec": {
   "display_name": "Python 3 (ipykernel)",
   "language": "python",
   "name": "python3"
  },
  "language_info": {
   "codemirror_mode": {
    "name": "ipython",
    "version": 3
   },
   "file_extension": ".py",
   "mimetype": "text/x-python",
   "name": "python",
   "nbconvert_exporter": "python",
   "pygments_lexer": "ipython3",
   "version": "3.9.13"
  },
  "toc": {
   "base_numbering": 1,
   "nav_menu": {},
   "number_sections": true,
   "sideBar": true,
   "skip_h1_title": true,
   "title_cell": "Table of Contents",
   "title_sidebar": "Contents",
   "toc_cell": false,
   "toc_position": {
    "height": "calc(100% - 180px)",
    "left": "10px",
    "top": "150px",
    "width": "240px"
   },
   "toc_section_display": true,
   "toc_window_display": true
  }
 },
 "nbformat": 4,
 "nbformat_minor": 4
}
