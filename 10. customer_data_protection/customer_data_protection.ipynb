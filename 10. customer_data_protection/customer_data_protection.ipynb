{
 "cells": [
  {
   "cell_type": "markdown",
   "metadata": {},
   "source": [
    "<h1> Комментарий ревьюера </h1>\n",
    "\n",
    "Привет, Илья!\n",
    "Меня зовут Виктория Ильина, и я буду проверять твой проект. Предлагаю общаться на \"ты\", но если тебе будет не комфортно, обязательно сообщи и мы перейдем на \"вы\". \n",
    "\n",
    "Моя основная цель - не указать на совершённые тобой ошибки, а поделиться своим опытом и помочь тебе стать специалистом по Data Science. Ты уже проделал большую работу над проектом, но давай сделаем его ещё лучше. Ниже ты найдёшь мои комментарии - пожалуйста, не перемещай, не изменяй и не удаляй их. Я буду использовать различные цвета, чтобы было легче воспринимать мои комментарии:\n",
    "\n",
    "<div class=\"alert alert-block alert-danger\">\n",
    "<b>Комментарий ревьюера❌:</b> Так выделены самые важные замечания. Без их отработки проект не будет принят.\n",
    "</div>\n",
    "\n",
    "<div class=\"alert alert-block alert-warning\">\n",
    "<b>Комментарий ревьюера🤔:</b> Так выделены небольшие замечания. Одно-два таких замечания в проекте допустимы, но если их будет больше - тебе будет необходимо внести исправления. Однако, если перед нами стоит цель не просто сдать проект и забыть, а приобрести новые знания и успешно применять их в будущем, я бы всё-таки рекомендовала тебе прорабатывать эти недочёты.\n",
    "</div>\n",
    "    \n",
    "<div class=\"alert alert-block alert-success\">\n",
    "<b>Комментарий ревьюера👍:</b> Так я выделю все остальные комментарии.\n",
    "</div>\n",
    "    \n",
    "Давай работать над проектом в диалоге: если ты что-то меняешь в проекте или отвечаешь на мои комментарии - пиши об этом. Мне будет легче отследить изменения, если ты выделишь свои комментарии:\n",
    "\n",
    "<div class=\"alert alert-block alert-info\">\n",
    "<b>Комментарий студента:</b> Например, вот так.\n",
    "</div>\n",
    "\n",
    "Давай посмотрим, что получилось!"
   ]
  },
  {
   "cell_type": "markdown",
   "metadata": {},
   "source": [
    "<div class=\"alert alert-block alert-info\"><b>Привет, меня зовут Илья, свои комментарии, я буду оставлять так.</b>\n",
    "   "
   ]
  },
  {
   "cell_type": "markdown",
   "metadata": {
    "toc": true
   },
   "source": [
    "<h1>Содержание<span class=\"tocSkip\"></span></h1>\n",
    "<div class=\"toc\"><ul class=\"toc-item\"><li><span><a href=\"#Загрузка-данных\" data-toc-modified-id=\"Загрузка-данных-1\"><span class=\"toc-item-num\">1&nbsp;&nbsp;</span>Загрузка данных</a></span></li><li><span><a href=\"#Умножение-матриц\" data-toc-modified-id=\"Умножение-матриц-2\"><span class=\"toc-item-num\">2&nbsp;&nbsp;</span>Умножение матриц</a></span></li><li><span><a href=\"#Алгоритм-преобразования\" data-toc-modified-id=\"Алгоритм-преобразования-3\"><span class=\"toc-item-num\">3&nbsp;&nbsp;</span>Алгоритм преобразования</a></span></li><li><span><a href=\"#Проверка-алгоритма\" data-toc-modified-id=\"Проверка-алгоритма-4\"><span class=\"toc-item-num\">4&nbsp;&nbsp;</span>Проверка алгоритма</a></span></li><li><span><a href=\"#Итоговый-вывод\" data-toc-modified-id=\"Итоговый-вывод-5\"><span class=\"toc-item-num\">5&nbsp;&nbsp;</span>Итоговый вывод</a></span></li><li><span><a href=\"#Чек-лист-проверки\" data-toc-modified-id=\"Чек-лист-проверки-6\"><span class=\"toc-item-num\">6&nbsp;&nbsp;</span>Чек-лист проверки</a></span></li></ul></div>"
   ]
  },
  {
   "cell_type": "markdown",
   "metadata": {},
   "source": [
    "# Защита персональных данных клиентов"
   ]
  },
  {
   "cell_type": "markdown",
   "metadata": {},
   "source": [
    "Вам нужно защитить данные клиентов страховой компании «Хоть потоп». Разработайте такой метод преобразования данных, чтобы по ним было сложно восстановить персональную информацию. Обоснуйте корректность его работы.\n",
    "\n",
    "Нужно защитить данные, чтобы при преобразовании качество моделей машинного обучения не ухудшилось. Подбирать наилучшую модель не требуется."
   ]
  },
  {
   "cell_type": "code",
   "execution_count": 15,
   "metadata": {},
   "outputs": [],
   "source": [
    "import pandas as pd\n",
    "import numpy as np \n",
    "\n",
    "from sklearn.metrics import r2_score\n",
    "from sklearn.model_selection import train_test_split\n",
    "from sklearn.linear_model import LinearRegression\n",
    "from sklearn.preprocessing import MinMaxScaler\n",
    "random = 555\n",
    "\n",
    "pd.set_option('display.max_columns', None)\n",
    "\n",
    "import warnings\n",
    "warnings.simplefilter(action='ignore', category=FutureWarning)"
   ]
  },
  {
   "cell_type": "markdown",
   "metadata": {},
   "source": [
    "## Загрузка данных"
   ]
  },
  {
   "cell_type": "code",
   "execution_count": 16,
   "metadata": {},
   "outputs": [],
   "source": [
    "data = pd.read_csv('/datasets/insurance.csv')"
   ]
  },
  {
   "cell_type": "code",
   "execution_count": 17,
   "metadata": {},
   "outputs": [
    {
     "name": "stdout",
     "output_type": "stream",
     "text": [
      "<class 'pandas.core.frame.DataFrame'>\n",
      "RangeIndex: 5000 entries, 0 to 4999\n",
      "Data columns (total 5 columns):\n",
      " #   Column             Non-Null Count  Dtype  \n",
      "---  ------             --------------  -----  \n",
      " 0   Пол                5000 non-null   int64  \n",
      " 1   Возраст            5000 non-null   float64\n",
      " 2   Зарплата           5000 non-null   float64\n",
      " 3   Члены семьи        5000 non-null   int64  \n",
      " 4   Страховые выплаты  5000 non-null   int64  \n",
      "dtypes: float64(2), int64(3)\n",
      "memory usage: 195.4 KB\n"
     ]
    }
   ],
   "source": [
    "data.info()"
   ]
  },
  {
   "cell_type": "code",
   "execution_count": 18,
   "metadata": {},
   "outputs": [
    {
     "data": {
      "text/html": [
       "<div>\n",
       "<style scoped>\n",
       "    .dataframe tbody tr th:only-of-type {\n",
       "        vertical-align: middle;\n",
       "    }\n",
       "\n",
       "    .dataframe tbody tr th {\n",
       "        vertical-align: top;\n",
       "    }\n",
       "\n",
       "    .dataframe thead th {\n",
       "        text-align: right;\n",
       "    }\n",
       "</style>\n",
       "<table border=\"1\" class=\"dataframe\">\n",
       "  <thead>\n",
       "    <tr style=\"text-align: right;\">\n",
       "      <th></th>\n",
       "      <th>Пол</th>\n",
       "      <th>Возраст</th>\n",
       "      <th>Зарплата</th>\n",
       "      <th>Члены семьи</th>\n",
       "      <th>Страховые выплаты</th>\n",
       "    </tr>\n",
       "  </thead>\n",
       "  <tbody>\n",
       "    <tr>\n",
       "      <th>0</th>\n",
       "      <td>1</td>\n",
       "      <td>41.0</td>\n",
       "      <td>49600.0</td>\n",
       "      <td>1</td>\n",
       "      <td>0</td>\n",
       "    </tr>\n",
       "    <tr>\n",
       "      <th>1</th>\n",
       "      <td>0</td>\n",
       "      <td>46.0</td>\n",
       "      <td>38000.0</td>\n",
       "      <td>1</td>\n",
       "      <td>1</td>\n",
       "    </tr>\n",
       "    <tr>\n",
       "      <th>2</th>\n",
       "      <td>0</td>\n",
       "      <td>29.0</td>\n",
       "      <td>21000.0</td>\n",
       "      <td>0</td>\n",
       "      <td>0</td>\n",
       "    </tr>\n",
       "    <tr>\n",
       "      <th>3</th>\n",
       "      <td>0</td>\n",
       "      <td>21.0</td>\n",
       "      <td>41700.0</td>\n",
       "      <td>2</td>\n",
       "      <td>0</td>\n",
       "    </tr>\n",
       "    <tr>\n",
       "      <th>4</th>\n",
       "      <td>1</td>\n",
       "      <td>28.0</td>\n",
       "      <td>26100.0</td>\n",
       "      <td>0</td>\n",
       "      <td>0</td>\n",
       "    </tr>\n",
       "  </tbody>\n",
       "</table>\n",
       "</div>"
      ],
      "text/plain": [
       "   Пол  Возраст  Зарплата  Члены семьи  Страховые выплаты\n",
       "0    1     41.0   49600.0            1                  0\n",
       "1    0     46.0   38000.0            1                  1\n",
       "2    0     29.0   21000.0            0                  0\n",
       "3    0     21.0   41700.0            2                  0\n",
       "4    1     28.0   26100.0            0                  0"
      ]
     },
     "execution_count": 18,
     "metadata": {},
     "output_type": "execute_result"
    }
   ],
   "source": [
    "data.head(5)"
   ]
  },
  {
   "cell_type": "markdown",
   "metadata": {},
   "source": [
    "Описание данных\n",
    "\n",
    "Признаки: пол, возраст и зарплата застрахованного, количество членов его семьи.\n",
    "\n",
    "Целевой признак: количество страховых выплат клиенту за последние 5 лет."
   ]
  },
  {
   "cell_type": "code",
   "execution_count": 19,
   "metadata": {},
   "outputs": [
    {
     "data": {
      "text/html": [
       "<div>\n",
       "<style scoped>\n",
       "    .dataframe tbody tr th:only-of-type {\n",
       "        vertical-align: middle;\n",
       "    }\n",
       "\n",
       "    .dataframe tbody tr th {\n",
       "        vertical-align: top;\n",
       "    }\n",
       "\n",
       "    .dataframe thead th {\n",
       "        text-align: right;\n",
       "    }\n",
       "</style>\n",
       "<table border=\"1\" class=\"dataframe\">\n",
       "  <thead>\n",
       "    <tr style=\"text-align: right;\">\n",
       "      <th></th>\n",
       "      <th>Пол</th>\n",
       "      <th>Возраст</th>\n",
       "      <th>Зарплата</th>\n",
       "      <th>Члены семьи</th>\n",
       "      <th>Страховые выплаты</th>\n",
       "    </tr>\n",
       "  </thead>\n",
       "  <tbody>\n",
       "    <tr>\n",
       "      <th>count</th>\n",
       "      <td>5000.000000</td>\n",
       "      <td>5000.000000</td>\n",
       "      <td>5000.000000</td>\n",
       "      <td>5000.000000</td>\n",
       "      <td>5000.000000</td>\n",
       "    </tr>\n",
       "    <tr>\n",
       "      <th>mean</th>\n",
       "      <td>0.499000</td>\n",
       "      <td>30.952800</td>\n",
       "      <td>39916.360000</td>\n",
       "      <td>1.194200</td>\n",
       "      <td>0.148000</td>\n",
       "    </tr>\n",
       "    <tr>\n",
       "      <th>std</th>\n",
       "      <td>0.500049</td>\n",
       "      <td>8.440807</td>\n",
       "      <td>9900.083569</td>\n",
       "      <td>1.091387</td>\n",
       "      <td>0.463183</td>\n",
       "    </tr>\n",
       "    <tr>\n",
       "      <th>min</th>\n",
       "      <td>0.000000</td>\n",
       "      <td>18.000000</td>\n",
       "      <td>5300.000000</td>\n",
       "      <td>0.000000</td>\n",
       "      <td>0.000000</td>\n",
       "    </tr>\n",
       "    <tr>\n",
       "      <th>25%</th>\n",
       "      <td>0.000000</td>\n",
       "      <td>24.000000</td>\n",
       "      <td>33300.000000</td>\n",
       "      <td>0.000000</td>\n",
       "      <td>0.000000</td>\n",
       "    </tr>\n",
       "    <tr>\n",
       "      <th>50%</th>\n",
       "      <td>0.000000</td>\n",
       "      <td>30.000000</td>\n",
       "      <td>40200.000000</td>\n",
       "      <td>1.000000</td>\n",
       "      <td>0.000000</td>\n",
       "    </tr>\n",
       "    <tr>\n",
       "      <th>75%</th>\n",
       "      <td>1.000000</td>\n",
       "      <td>37.000000</td>\n",
       "      <td>46600.000000</td>\n",
       "      <td>2.000000</td>\n",
       "      <td>0.000000</td>\n",
       "    </tr>\n",
       "    <tr>\n",
       "      <th>max</th>\n",
       "      <td>1.000000</td>\n",
       "      <td>65.000000</td>\n",
       "      <td>79000.000000</td>\n",
       "      <td>6.000000</td>\n",
       "      <td>5.000000</td>\n",
       "    </tr>\n",
       "  </tbody>\n",
       "</table>\n",
       "</div>"
      ],
      "text/plain": [
       "               Пол      Возраст      Зарплата  Члены семьи  Страховые выплаты\n",
       "count  5000.000000  5000.000000   5000.000000  5000.000000        5000.000000\n",
       "mean      0.499000    30.952800  39916.360000     1.194200           0.148000\n",
       "std       0.500049     8.440807   9900.083569     1.091387           0.463183\n",
       "min       0.000000    18.000000   5300.000000     0.000000           0.000000\n",
       "25%       0.000000    24.000000  33300.000000     0.000000           0.000000\n",
       "50%       0.000000    30.000000  40200.000000     1.000000           0.000000\n",
       "75%       1.000000    37.000000  46600.000000     2.000000           0.000000\n",
       "max       1.000000    65.000000  79000.000000     6.000000           5.000000"
      ]
     },
     "execution_count": 19,
     "metadata": {},
     "output_type": "execute_result"
    }
   ],
   "source": [
    "data.describe(include='all')"
   ]
  },
  {
   "cell_type": "code",
   "execution_count": 20,
   "metadata": {},
   "outputs": [
    {
     "data": {
      "text/plain": [
       "(5000, 5)"
      ]
     },
     "execution_count": 20,
     "metadata": {},
     "output_type": "execute_result"
    }
   ],
   "source": [
    "data.shape"
   ]
  },
  {
   "cell_type": "code",
   "execution_count": 21,
   "metadata": {},
   "outputs": [
    {
     "data": {
      "text/plain": [
       "Пол                  0\n",
       "Возраст              0\n",
       "Зарплата             0\n",
       "Члены семьи          0\n",
       "Страховые выплаты    0\n",
       "dtype: int64"
      ]
     },
     "execution_count": 21,
     "metadata": {},
     "output_type": "execute_result"
    }
   ],
   "source": [
    "data.isna().sum()"
   ]
  },
  {
   "cell_type": "markdown",
   "metadata": {},
   "source": [
    "пропусков нет"
   ]
  },
  {
   "cell_type": "code",
   "execution_count": 22,
   "metadata": {},
   "outputs": [
    {
     "name": "stdout",
     "output_type": "stream",
     "text": [
      "<class 'pandas.core.frame.DataFrame'>\n",
      "RangeIndex: 5000 entries, 0 to 4999\n",
      "Data columns (total 5 columns):\n",
      " #   Column             Non-Null Count  Dtype\n",
      "---  ------             --------------  -----\n",
      " 0   Пол                5000 non-null   int64\n",
      " 1   Возраст            5000 non-null   int64\n",
      " 2   Зарплата           5000 non-null   int64\n",
      " 3   Члены семьи        5000 non-null   int64\n",
      " 4   Страховые выплаты  5000 non-null   int64\n",
      "dtypes: int64(5)\n",
      "memory usage: 195.4 KB\n"
     ]
    }
   ],
   "source": [
    "data['Возраст'] = data['Возраст'].astype('int')\n",
    "data['Зарплата'] = data['Зарплата'].astype('int')\n",
    "data.info()"
   ]
  },
  {
   "cell_type": "markdown",
   "metadata": {},
   "source": [
    "Разобьем на признаки"
   ]
  },
  {
   "cell_type": "code",
   "execution_count": 23,
   "metadata": {},
   "outputs": [],
   "source": [
    "features = data.drop(columns='Страховые выплаты')\n",
    "target = data['Страховые выплаты']"
   ]
  },
  {
   "cell_type": "markdown",
   "metadata": {},
   "source": [
    "Вывод:\n",
    "Данные не имеют аномалий,\n",
    "размер таблицы: 5000 строк Х 5 столбцов, пропущенные значения отсутствуют,проведено масштабирование признаков."
   ]
  },
  {
   "cell_type": "markdown",
   "metadata": {},
   "source": [
    "<div class=\"alert alert-block alert-success\">\n",
    "<b>Комментарий ревьюера V.2👍:</b> Хорошо, продолжаем\n",
    "</div>"
   ]
  },
  {
   "cell_type": "markdown",
   "metadata": {},
   "source": [
    "## Умножение матриц"
   ]
  },
  {
   "cell_type": "markdown",
   "metadata": {},
   "source": [
    "В этом задании вы можете записывать формулы в *Jupyter Notebook.*\n",
    "\n",
    "Чтобы записать формулу внутри текста, окружите её символами доллара \\\\$; если снаружи —  двойными символами \\\\$\\\\$. Эти формулы записываются на языке вёрстки *LaTeX.* \n",
    "\n",
    "Для примера мы записали формулы линейной регрессии. Можете их скопировать и отредактировать, чтобы решить задачу.\n",
    "\n",
    "Работать в *LaTeX* необязательно."
   ]
  },
  {
   "cell_type": "markdown",
   "metadata": {},
   "source": [
    "Обозначения:\n",
    "\n",
    "- $X$ — матрица признаков (нулевой столбец состоит из единиц)\n",
    "\n",
    "- $y$ — вектор целевого признака\n",
    "\n",
    "- $P$ — матрица, на которую умножаются признаки\n",
    "\n",
    "- $w$ — вектор весов линейной регрессии (нулевой элемент равен сдвигу)"
   ]
  },
  {
   "cell_type": "markdown",
   "metadata": {},
   "source": [
    "Предсказания:\n",
    "\n",
    "$$\n",
    "a = Xw\n",
    "$$\n",
    "\n",
    "Задача обучения:\n",
    "\n",
    "$$\n",
    "w = \\arg\\min_w MSE(Xw, y)\n",
    "$$\n",
    "\n",
    "Формула обучения:\n",
    "\n",
    "$$\n",
    "w = (X^T X)^{-1} X^T y\n",
    "$$"
   ]
  },
  {
   "cell_type": "markdown",
   "metadata": {},
   "source": [
    "Признаки умножают на обратимую матрицу. Изменится ли качество линейной регрессии?"
   ]
  },
  {
   "cell_type": "markdown",
   "metadata": {},
   "source": [
    "**Ответ:** не изменится.\n",
    "\n",
    "**Обоснование:**\n"
   ]
  },
  {
   "cell_type": "markdown",
   "metadata": {},
   "source": [
    "Воспользуемся следующими свойствами матриц<br>\n",
    "    1. $XX^{-1} = E$, <br>\n",
    "    2. $(XP)^{-1} = P^{-1}X^{-1}$<br>\n",
    "    3. $(XP)^T = P^TX^T$<br>\n",
    "    4. $(XP)C = X(PC)$<br>\n",
    "       \n",
    "Где свойства 1,2 верны только для обратимых матриц, а свойства 3, 4 всегда верны."
   ]
  },
  {
   "cell_type": "markdown",
   "metadata": {},
   "source": [
    "Преобразуем формулу для обучения с помощью свойств матриц:"
   ]
  },
  {
   "cell_type": "markdown",
   "metadata": {},
   "source": [
    "Пусть w' - искомый вектор весов для искомой матрицы признаков X'. <br>\n",
    "Где X' = Х произведение исходной матрицы на обратимую P. <br> X' = X * P"
   ]
  },
  {
   "cell_type": "markdown",
   "metadata": {},
   "source": [
    "Подставим X' в w' формулу обучения."
   ]
  },
  {
   "cell_type": "markdown",
   "metadata": {},
   "source": [
    "$$w' = ((XP)^T XP)^{-1} (XP)^T y$$"
   ]
  },
  {
   "cell_type": "markdown",
   "metadata": {},
   "source": [
    "Возьмем $X^T X$ в скобки и раскроем внешние скобки:\n",
    "$w' = P^{-1}(X^T X)^{-1}(P^T)^{-1} P^TX^T y$"
   ]
  },
  {
   "cell_type": "markdown",
   "metadata": {},
   "source": [
    "Матрица P по условию обратима, следовательно, произведение $(P^T)^{-1} P^T$ равно единичной матрице E :"
   ]
  },
  {
   "cell_type": "markdown",
   "metadata": {},
   "source": [
    "Сократим уравнение:<br>\n",
    "$$w' = P^{-1}(X^T X)^{-1}X^T y$$"
   ]
  },
  {
   "cell_type": "markdown",
   "metadata": {},
   "source": [
    "Подставим формулу обучения w в искомую w' $$\n",
    "w = (X^T X)^{-1} X^T y\n",
    "$$"
   ]
  },
  {
   "cell_type": "markdown",
   "metadata": {},
   "source": [
    "Получается:<br>\n",
    "    $$w' = P^{-1}w$$"
   ]
  },
  {
   "cell_type": "markdown",
   "metadata": {},
   "source": [
    "Подставим в предсказания перемноженные матрицы :\n",
    "$$a' = XPw'$$\n"
   ]
  },
  {
   "cell_type": "markdown",
   "metadata": {},
   "source": [
    "Образуется единичная матрица:\n",
    "$$a' = XPP^{-1}w$$"
   ]
  },
  {
   "cell_type": "markdown",
   "metadata": {},
   "source": [
    "$$a = Xw$$"
   ]
  },
  {
   "cell_type": "markdown",
   "metadata": {},
   "source": [
    "$$a' = Xw$$"
   ]
  },
  {
   "cell_type": "markdown",
   "metadata": {},
   "source": [
    "Следовательно:\n",
    "    $$a = a'$$"
   ]
  },
  {
   "cell_type": "markdown",
   "metadata": {},
   "source": [
    "<div class=\"alert alert-block alert-success\">\n",
    "<b>Комментарий ревьюера V.2👍:</b> Теперь верно =)\n",
    "</div>"
   ]
  },
  {
   "cell_type": "markdown",
   "metadata": {},
   "source": [
    "## Алгоритм преобразования"
   ]
  },
  {
   "cell_type": "markdown",
   "metadata": {},
   "source": [
    "Воспользуемся следующим алгоритмом:<br>\n",
    "    1. Выделим признайки, найдем целевой признак. <br>\n",
    "    2. Сгенерируем случайную обратимую матрицу P для матрицы признаков F. <br>\n",
    "    3. Преобразуем признаки, умножив их на матрицу P.<br>\n",
    "    4. чтобы можно было разшифровать признаки сохраним полученную обратную матрицу. <br>\n",
    "    5. Вычислить метрики обученной модели на исходных признаках и на признаках умноженных на матрицу P.<br>\n",
    "    5. Сравнить метрики между собой. Если метрики не отличаются - задача выполнена, то есть преобразование не ухудшает качество модели<br>"
   ]
  },
  {
   "cell_type": "markdown",
   "metadata": {},
   "source": [
    "<div class=\"alert alert-block alert-success\">\n",
    "<b>Комментарий ревьюера V.2👍:</b> Верно =)\n",
    "</div>"
   ]
  },
  {
   "cell_type": "markdown",
   "metadata": {},
   "source": [
    "## Проверка алгоритма"
   ]
  },
  {
   "cell_type": "markdown",
   "metadata": {},
   "source": [
    "Разделим данные на обучающие и тестовые."
   ]
  },
  {
   "cell_type": "code",
   "execution_count": 25,
   "metadata": {},
   "outputs": [],
   "source": [
    "def crypto_matrix(features_for_crypt):\n",
    "    try:\n",
    "        crypt_key = np.array(np.random.normal(size=(features_for_crypt.shape[1], features_for_crypt.shape[1])))\n",
    "        np.linalg.inv(crypt_key)\n",
    "        return np.array(features_for_crypt).dot(crypt_key), crypt_key\n",
    "    except np.linalg.LinAlgError: crypto_matrix(features_for_crypt=features_for_crypt)"
   ]
  },
  {
   "cell_type": "markdown",
   "metadata": {},
   "source": [
    "Шифрование учебных/валидационных признаков"
   ]
  },
  {
   "cell_type": "code",
   "execution_count": 26,
   "metadata": {},
   "outputs": [
    {
     "name": "stdout",
     "output_type": "stream",
     "text": [
      "Размер зашифрованных признаков: (5000, 4)\n"
     ]
    },
    {
     "data": {
      "text/plain": [
       "array([[1.        , 0.4893617 , 0.60108548, 0.16666667],\n",
       "       [0.        , 0.59574468, 0.44369064, 0.16666667],\n",
       "       [0.        , 0.23404255, 0.21302578, 0.        ],\n",
       "       ...,\n",
       "       [0.        , 0.04255319, 0.3880597 , 0.33333333],\n",
       "       [1.        , 0.08510638, 0.37177748, 0.5       ],\n",
       "       [1.        , 0.21276596, 0.47896879, 0.16666667]])"
      ]
     },
     "execution_count": 26,
     "metadata": {},
     "output_type": "execute_result"
    }
   ],
   "source": [
    "features_crypt, crypt_key = crypto_matrix(features_for_crypt=scale_features)\n",
    "print(f'Размер зашифрованных признаков: {features_crypt.shape}')\n",
    "scale_features"
   ]
  },
  {
   "cell_type": "markdown",
   "metadata": {},
   "source": [
    "Выделение учебных/валидационных незашифрованных наборов"
   ]
  },
  {
   "cell_type": "code",
   "execution_count": 28,
   "metadata": {},
   "outputs": [
    {
     "name": "stdout",
     "output_type": "stream",
     "text": [
      "Размер нешифрованных тренировочных признаков:(3750, 4)\n",
      "Размер тренировочных ответов:(3750,)\n",
      "Размер нешифрованных валидационных признаков:(1250, 4)\n",
      "Размер валидационных ответов:(1250,)\n"
     ]
    }
   ],
   "source": [
    "features_train, features_valid, target_train, target_valid = train_test_split(scale_features,\n",
    "                                                                              target,\n",
    "                                                                              test_size=0.25,\n",
    "                                                                              random_state=random,\n",
    "                                                                              shuffle=True)\n",
    "print(f'Размер нешифрованных тренировочных признаков:{features_train.shape}')\n",
    "print(f'Размер тренировочных ответов:{target_train.shape}')\n",
    "print(f'Размер нешифрованных валидационных признаков:{features_valid.shape}')\n",
    "print(f'Размер валидационных ответов:{target_valid.shape}')"
   ]
  },
  {
   "cell_type": "markdown",
   "metadata": {},
   "source": [
    "Выделение учебных/валидационных зашифрованных наборов"
   ]
  },
  {
   "cell_type": "code",
   "execution_count": 30,
   "metadata": {},
   "outputs": [
    {
     "name": "stdout",
     "output_type": "stream",
     "text": [
      "Размер шифрованных тренировочных признаков:(3750, 4)\n",
      "Размер тренировочных ответов:(3750,)\n",
      "Размер шифрованных валидационных признаков:(1250, 4)\n",
      "Размер валидационных ответов:(1250,)\n"
     ]
    }
   ],
   "source": [
    "crypt_features_train, crypt_features_valid, target_train, target_valid = train_test_split(features_crypt,\n",
    "                                                                                          target,\n",
    "                                                                                          test_size=0.25,\n",
    "                                                                                          random_state=random,\n",
    "                                                                                          shuffle=True)\n",
    "print(f'Размер шифрованных тренировочных признаков:{crypt_features_train.shape}')\n",
    "print(f'Размер тренировочных ответов:{target_train.shape}')\n",
    "print(f'Размер шифрованных валидационных признаков:{crypt_features_valid.shape}')\n",
    "print(f'Размер валидационных ответов:{target_valid.shape}')"
   ]
  },
  {
   "cell_type": "markdown",
   "metadata": {},
   "source": [
    "Функция вычисления R2-score модели"
   ]
  },
  {
   "cell_type": "code",
   "execution_count": 35,
   "metadata": {},
   "outputs": [],
   "source": [
    "def model_score(features_train, target_train, features_valid, target_valid):\n",
    "    clf = LinearRegression()\n",
    "    clf.fit(X=features_train,\n",
    "            y=target_train)\n",
    "    return clf.score(X=features_valid,\n",
    "                     y=target_valid)"
   ]
  },
  {
   "cell_type": "markdown",
   "metadata": {},
   "source": [
    "Вычисление метрики R2-score для нешифрованных данных"
   ]
  },
  {
   "cell_type": "code",
   "execution_count": 36,
   "metadata": {},
   "outputs": [
    {
     "data": {
      "text/html": [
       "<div>\n",
       "<style scoped>\n",
       "    .dataframe tbody tr th:only-of-type {\n",
       "        vertical-align: middle;\n",
       "    }\n",
       "\n",
       "    .dataframe tbody tr th {\n",
       "        vertical-align: top;\n",
       "    }\n",
       "\n",
       "    .dataframe thead th {\n",
       "        text-align: right;\n",
       "    }\n",
       "</style>\n",
       "<table border=\"1\" class=\"dataframe\">\n",
       "  <thead>\n",
       "    <tr style=\"text-align: right;\">\n",
       "      <th></th>\n",
       "      <th>Тип данных</th>\n",
       "      <th>R2-score</th>\n",
       "    </tr>\n",
       "  </thead>\n",
       "  <tbody>\n",
       "    <tr>\n",
       "      <th>0</th>\n",
       "      <td>нешифрованные данные</td>\n",
       "      <td>0.436774</td>\n",
       "    </tr>\n",
       "  </tbody>\n",
       "</table>\n",
       "</div>"
      ],
      "text/plain": [
       "             Тип данных  R2-score\n",
       "0  нешифрованные данные  0.436774"
      ]
     },
     "execution_count": 36,
     "metadata": {},
     "output_type": "execute_result"
    }
   ],
   "source": [
    "nocrypt_score = model_score(features_train=features_train,\n",
    "                            target_train=target_train,\n",
    "                            features_valid=features_valid,\n",
    "                            target_valid=target_valid)\n",
    "\n",
    "df_algorithm_result = pd.DataFrame({'Тип данных' : 'нешифрованные данные',\n",
    "                                    'R2-score'   : nocrypt_score}, index=[0])\n",
    "df_algorithm_result"
   ]
  },
  {
   "cell_type": "markdown",
   "metadata": {},
   "source": [
    "Вычисление метрики R2-score для шифрованных данных"
   ]
  },
  {
   "cell_type": "code",
   "execution_count": 37,
   "metadata": {},
   "outputs": [
    {
     "data": {
      "text/html": [
       "<div>\n",
       "<style scoped>\n",
       "    .dataframe tbody tr th:only-of-type {\n",
       "        vertical-align: middle;\n",
       "    }\n",
       "\n",
       "    .dataframe tbody tr th {\n",
       "        vertical-align: top;\n",
       "    }\n",
       "\n",
       "    .dataframe thead th {\n",
       "        text-align: right;\n",
       "    }\n",
       "</style>\n",
       "<table border=\"1\" class=\"dataframe\">\n",
       "  <thead>\n",
       "    <tr style=\"text-align: right;\">\n",
       "      <th></th>\n",
       "      <th>Тип данных</th>\n",
       "      <th>R2-score</th>\n",
       "    </tr>\n",
       "  </thead>\n",
       "  <tbody>\n",
       "    <tr>\n",
       "      <th>0</th>\n",
       "      <td>нешифрованные данные</td>\n",
       "      <td>0.436774</td>\n",
       "    </tr>\n",
       "    <tr>\n",
       "      <th>1</th>\n",
       "      <td>шифрованные данные</td>\n",
       "      <td>0.436774</td>\n",
       "    </tr>\n",
       "  </tbody>\n",
       "</table>\n",
       "</div>"
      ],
      "text/plain": [
       "             Тип данных  R2-score\n",
       "0  нешифрованные данные  0.436774\n",
       "1    шифрованные данные  0.436774"
      ]
     },
     "execution_count": 37,
     "metadata": {},
     "output_type": "execute_result"
    }
   ],
   "source": [
    "crypt_score = model_score(features_train=crypt_features_train,\n",
    "                          target_train=target_train,\n",
    "                          features_valid=crypt_features_valid,\n",
    "                          target_valid=target_valid)\n",
    "\n",
    "df_algorithm_result = df_algorithm_result.append({'Тип данных' : 'шифрованные данные',\n",
    "                                                  'R2-score'   : crypt_score}, ignore_index=True).reset_index(drop=True)\n",
    "df_algorithm_result"
   ]
  },
  {
   "cell_type": "markdown",
   "metadata": {},
   "source": [
    "**Вывод**: <br>\n",
    "R2-score на шифрованных и нефрованных данных совпадают."
   ]
  },
  {
   "cell_type": "markdown",
   "metadata": {},
   "source": [
    "<div class=\"alert alert-block alert-success\">\n",
    "<b>Комментарий ревьюера👍:</b> Верно, таким образом в случае домножения матрицы признаков на случайную обратимую матрицу можно обеспечить защиту данных, не особо потеряв в качестве модели. (Можно увидеть незначительное отличие в районе 13го знака после запятой вызванное особенностью преобразования матриц и чисел с плавающей точкой, это норма https://docs-python.ru/tutorial/operatsii-chislami-python/problemy-chisel-plavajuschej-zapjatoj/)\n",
    "</div>"
   ]
  },
  {
   "cell_type": "markdown",
   "metadata": {},
   "source": [
    "## Итоговый вывод\n",
    "В ходе работы было проделано:\n",
    "\n",
    "Загружены и изучены данные.\n",
    "Качество линейной регресии не изменилось от использования исодной матрици и исходной матрицы умноженную на обратимую.\n",
    "Создан алгоритм преобразования данных.\n",
    "Исследован алгоритм преобразования данных и проверена метрика R2 для данных без преобразования и с ним.\n",
    "По результатам работы использования матричных операций можно увидеть, что данные очень просто зашифровать от распознования, имея правильную матрицу."
   ]
  },
  {
   "cell_type": "markdown",
   "metadata": {},
   "source": [
    "## Чек-лист проверки"
   ]
  },
  {
   "cell_type": "markdown",
   "metadata": {},
   "source": [
    "Поставьте 'x' в выполненных пунктах. Далее нажмите Shift+Enter."
   ]
  },
  {
   "cell_type": "markdown",
   "metadata": {},
   "source": [
    "- [x]  Jupyter Notebook открыт\n",
    "- [ ]  Весь код выполняется без ошибок\n",
    "- [ ]  Ячейки с кодом расположены в порядке исполнения\n",
    "- [ ]  Выполнен шаг 1: данные загружены\n",
    "- [ ]  Выполнен шаг 2: получен ответ на вопрос об умножении матриц\n",
    "    - [ ]  Указан правильный вариант ответа\n",
    "    - [ ]  Вариант обоснован\n",
    "- [ ]  Выполнен шаг 3: предложен алгоритм преобразования\n",
    "    - [ ]  Алгоритм описан\n",
    "    - [ ]  Алгоритм обоснован\n",
    "- [ ]  Выполнен шаг 4: алгоритм проверен\n",
    "    - [ ]  Алгоритм реализован\n",
    "    - [ ]  Проведено сравнение качества моделей до и после преобразования"
   ]
  },
  {
   "cell_type": "markdown",
   "metadata": {},
   "source": [
    "<div class=\"alert alert-block alert-success\">\n",
    "<b>Комментарий ревьюера V.2👍:</b> Дополнительные материалы:\n",
    "\n",
    "Обзоры по применению криптографии в машинном обучении: https://arxiv.org/pdf/1902.04109.pdf, https://www.researchgate.net/publication/342746786_Some_Applications_of_Machine_Learning_in_Cryptography\n",
    "\n",
    "Небольшой обзор на Шифр Хилла: https://habr.com/ru/post/595281/\n",
    "    \n",
    "Ещё пара статей на эту тему:\n",
    "    \n",
    "-\thttps://medium.com/intuit-engineering/machine-learning-on-encrypted-data-no-longer-a-fantasy-58e37e9f31d7\n",
    "-\thttps://towardsdatascience.com/cryptography-crash-course-for-the-intimidated-892b7889528a\n",
    "-\thttps://towardsdatascience.com/homomorphic-encryption-machine-learning-new-business-models-2ba6a4f185d\n",
    "\n",
    "   \n",
    "Примеры использования линейной алгебры в машинном обучении:\n",
    "https://machinelearningmastery.com/examples-of-linear-algebra-in-machine-learning/\n",
    "    \n",
    "Для чего нужна математика в машинном обучении?\n",
    "https://proglib.io/p/dlya-chego-nuzhen-matematicheskiy-analiz-v-mashinnom-obuchenii-2021-02-15\n",
    "\n",
    "Большая статья по векторам:\n",
    "https://neptune.ai/blog/understanding-vectors-from-a-machine-learning-perspective  \n",
    "\n",
    "Можно ещё дополнительно посмотреть лекции от МФТИ https://www.youtube.com/playlist?list=PLk4h7dmY2eYHHTyfLyrl7HmP-H3mMAW08\n",
    "    \n",
    "Классная серия роликов по линейной алгебре на английском (можно включить автоматические русские субтитры): https://www.youtube.com/playlist?list=PLRDl2inPrWQW1QSWhBU0ki-jq_uElkh2a\n",
    "\n",
    "\n",
    "Удачи в будущих проектах и работе, всё обязательно получится!\n",
    "</div>"
   ]
  },
  {
   "cell_type": "code",
   "execution_count": null,
   "metadata": {},
   "outputs": [],
   "source": []
  }
 ],
 "metadata": {
  "ExecuteTimeLog": [
   {
    "duration": 72,
    "start_time": "2023-02-24T09:25:45.314Z"
   },
   {
    "duration": 48,
    "start_time": "2023-02-24T09:26:29.438Z"
   },
   {
    "duration": 1153,
    "start_time": "2023-02-24T09:27:27.334Z"
   },
   {
    "duration": 3,
    "start_time": "2023-02-24T09:27:45.031Z"
   },
   {
    "duration": 111,
    "start_time": "2023-02-24T09:27:45.853Z"
   },
   {
    "duration": 100,
    "start_time": "2023-02-24T09:28:12.911Z"
   },
   {
    "duration": 12,
    "start_time": "2023-02-24T09:28:14.899Z"
   },
   {
    "duration": 16,
    "start_time": "2023-02-24T09:28:15.279Z"
   },
   {
    "duration": 23,
    "start_time": "2023-02-24T09:28:44.394Z"
   },
   {
    "duration": 13,
    "start_time": "2023-02-24T09:29:00.191Z"
   },
   {
    "duration": 12,
    "start_time": "2023-02-24T09:29:06.467Z"
   },
   {
    "duration": 8,
    "start_time": "2023-02-24T09:29:14.571Z"
   },
   {
    "duration": 10,
    "start_time": "2023-02-24T09:29:27.375Z"
   },
   {
    "duration": 3,
    "start_time": "2023-02-24T09:30:46.331Z"
   },
   {
    "duration": 12,
    "start_time": "2023-02-24T09:31:08.344Z"
   },
   {
    "duration": 21,
    "start_time": "2023-02-24T09:31:16.871Z"
   },
   {
    "duration": 4,
    "start_time": "2023-02-24T09:31:27.448Z"
   },
   {
    "duration": 9,
    "start_time": "2023-02-24T09:31:34.807Z"
   },
   {
    "duration": 7,
    "start_time": "2023-02-24T09:31:39.540Z"
   },
   {
    "duration": 4,
    "start_time": "2023-02-24T09:45:34.711Z"
   },
   {
    "duration": 16,
    "start_time": "2023-02-24T09:45:45.596Z"
   },
   {
    "duration": 15,
    "start_time": "2023-02-24T09:45:56.884Z"
   },
   {
    "duration": 18,
    "start_time": "2023-02-24T09:46:40.979Z"
   },
   {
    "duration": 69,
    "start_time": "2023-02-24T09:54:04.725Z"
   },
   {
    "duration": 5,
    "start_time": "2023-02-24T09:54:15.141Z"
   },
   {
    "duration": 5,
    "start_time": "2023-02-24T09:59:24.714Z"
   },
   {
    "duration": 7,
    "start_time": "2023-02-24T09:59:43.166Z"
   },
   {
    "duration": 49,
    "start_time": "2023-02-24T12:48:24.347Z"
   },
   {
    "duration": 51,
    "start_time": "2023-02-24T13:12:16.106Z"
   },
   {
    "duration": 50,
    "start_time": "2023-02-24T13:48:16.847Z"
   },
   {
    "duration": 53,
    "start_time": "2023-02-24T14:01:36.561Z"
   },
   {
    "duration": 52,
    "start_time": "2023-02-24T14:17:22.687Z"
   },
   {
    "duration": 71,
    "start_time": "2023-02-24T14:22:16.675Z"
   },
   {
    "duration": 11,
    "start_time": "2023-02-24T14:23:47.931Z"
   },
   {
    "duration": 54,
    "start_time": "2023-02-24T14:45:18.285Z"
   },
   {
    "duration": 54,
    "start_time": "2023-02-24T14:45:34.733Z"
   },
   {
    "duration": 54,
    "start_time": "2023-02-24T14:48:25.794Z"
   },
   {
    "duration": 3,
    "start_time": "2023-02-24T14:56:12.160Z"
   },
   {
    "duration": 41,
    "start_time": "2023-02-24T14:56:28.696Z"
   },
   {
    "duration": 6,
    "start_time": "2023-02-24T14:56:33.836Z"
   },
   {
    "duration": 6,
    "start_time": "2023-02-24T14:57:06.160Z"
   },
   {
    "duration": 1357,
    "start_time": "2023-02-24T14:57:11.476Z"
   },
   {
    "duration": 90,
    "start_time": "2023-02-24T14:57:12.835Z"
   },
   {
    "duration": 12,
    "start_time": "2023-02-24T14:57:12.927Z"
   },
   {
    "duration": 21,
    "start_time": "2023-02-24T14:57:12.942Z"
   },
   {
    "duration": 22,
    "start_time": "2023-02-24T14:57:12.965Z"
   },
   {
    "duration": 4,
    "start_time": "2023-02-24T14:57:12.988Z"
   },
   {
    "duration": 28,
    "start_time": "2023-02-24T14:57:12.994Z"
   },
   {
    "duration": 13,
    "start_time": "2023-02-24T14:57:13.248Z"
   },
   {
    "duration": 5,
    "start_time": "2023-02-24T14:57:13.585Z"
   },
   {
    "duration": 7,
    "start_time": "2023-02-24T14:57:13.949Z"
   },
   {
    "duration": 4,
    "start_time": "2023-02-24T14:57:17.884Z"
   },
   {
    "duration": 8,
    "start_time": "2023-02-24T14:57:18.264Z"
   },
   {
    "duration": 7,
    "start_time": "2023-02-24T14:58:07.596Z"
   },
   {
    "duration": 5,
    "start_time": "2023-02-24T14:58:27.585Z"
   },
   {
    "duration": 6,
    "start_time": "2023-02-24T14:58:50.401Z"
   },
   {
    "duration": 7,
    "start_time": "2023-02-24T14:59:05.436Z"
   },
   {
    "duration": 59,
    "start_time": "2023-02-24T14:59:12.844Z"
   },
   {
    "duration": 3,
    "start_time": "2023-02-24T14:59:22.461Z"
   },
   {
    "duration": 3,
    "start_time": "2023-02-24T14:59:32.525Z"
   },
   {
    "duration": 41,
    "start_time": "2023-02-24T14:59:32.933Z"
   },
   {
    "duration": 4,
    "start_time": "2023-02-24T14:59:34.452Z"
   },
   {
    "duration": 12,
    "start_time": "2023-02-24T14:59:46.779Z"
   },
   {
    "duration": 13,
    "start_time": "2023-02-24T15:00:03.789Z"
   },
   {
    "duration": 49,
    "start_time": "2023-02-24T15:00:15.168Z"
   },
   {
    "duration": 46,
    "start_time": "2023-02-24T15:04:17.006Z"
   },
   {
    "duration": 3,
    "start_time": "2023-03-05T21:00:00.986Z"
   },
   {
    "duration": 75,
    "start_time": "2023-03-05T21:51:54.062Z"
   },
   {
    "duration": 84,
    "start_time": "2023-03-05T21:57:30.372Z"
   },
   {
    "duration": 77,
    "start_time": "2023-03-05T22:05:18.253Z"
   },
   {
    "duration": 82,
    "start_time": "2023-03-05T22:05:29.495Z"
   },
   {
    "duration": 81,
    "start_time": "2023-03-05T22:05:42.440Z"
   },
   {
    "duration": 74,
    "start_time": "2023-03-05T22:14:39.513Z"
   },
   {
    "duration": 82,
    "start_time": "2023-03-05T22:17:09.989Z"
   },
   {
    "duration": 90,
    "start_time": "2023-03-05T22:18:07.648Z"
   },
   {
    "duration": 78,
    "start_time": "2023-03-05T22:23:45.739Z"
   }
  ],
  "kernelspec": {
   "display_name": "Python 3 (ipykernel)",
   "language": "python",
   "name": "python3"
  },
  "language_info": {
   "codemirror_mode": {
    "name": "ipython",
    "version": 3
   },
   "file_extension": ".py",
   "mimetype": "text/x-python",
   "name": "python",
   "nbconvert_exporter": "python",
   "pygments_lexer": "ipython3",
   "version": "3.9.5"
  },
  "toc": {
   "base_numbering": 1,
   "nav_menu": {},
   "number_sections": true,
   "sideBar": true,
   "skip_h1_title": true,
   "title_cell": "Содержание",
   "title_sidebar": "Contents",
   "toc_cell": true,
   "toc_position": {},
   "toc_section_display": true,
   "toc_window_display": true
  }
 },
 "nbformat": 4,
 "nbformat_minor": 2
}
