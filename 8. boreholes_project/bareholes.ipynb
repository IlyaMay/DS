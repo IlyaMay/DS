{
 "cells": [
  {
   "cell_type": "markdown",
   "metadata": {},
   "source": [
    "Илья, привет! Меня зовут Ирина Литвинова. Сегодня я проверю твой проект.<br>\n",
    "<br> Ты можешь обращаться ко мне на \"ты\"😏 Надеюсь, ты не будешь против, если и я буду обращаться к тебе на \"ты\". Но если для тебя это неприемлeмо, дай знать, пожалуйста) <br>\n",
    "<br> Мне очень важна твоя реакция на мои комментарии, особенно <font color='red'>красные</font>. Можешь реагировать, например, так ('исправлено', ...)<br>\n",
    "<br> Ты можешь реагировать на мои комментарии своими, выделяя их цветами и наиболее понравившимся тебе способом оформления, но явно  отличающимся от моих комментариев. <br>\n",
    "Это нужно, чтобы не создавалась путаница😉<br>\n",
    "Например, так:<br>\n",
    "    \n",
    "<div class=\"alert alert-block alert-info\"><b>Комментарий студента</b>\n",
    "    \n",
    "<b>Изменения:</b> Были внесены следующие изменения ...<br></div> \n",
    "\n",
    "\n",
    "<br> Пожалуйста, не удаляй мои комментарии, так как они повышают качество повторного ревью и делают его быстрее)<br>\n",
    "<br> Увидев у тебя неточность, в первый раз я лишь укажу на ее наличие и дам тебе возможность самостоятельно найти и исправить ее. На реальной работе твой руководитель будет поступать также, и я пытаюсь подготовить тебя именно к работе. Но если ты пока не справишься с такой задачей - при следующей проверке я дам более точную подсказку!🤓<br>\n",
    "\n",
    "Для твоего удобства мои комментарии будут в <font color='green'>зеленой</font>, <font color='orange'>желтой</font> или <font color='red'>красной</font> рамках:<br>\n",
    "<br>\n",
    "\n",
    "<div class=\"alert alert-block alert-danger\"><b>Комментарий ревьюера</b>\n",
    "    \n",
    "<b>Ошибка:</b><br>\n",
    "Если требуются исправления. Работа не может быть принята с красными комментариями.<br></div>\n",
    "\n",
    "<div class=\"alert alert-block alert-warning\"><b>Комментарий ревьюера</b>\n",
    "    \n",
    "<b>Совет:</b><br>\n",
    "Если можно немного улучшить.<br></div>\n",
    "\n",
    "<div class=\"alert alert-block alert-success\"><b>Комментарий ревьюера</b>\n",
    "    \n",
    "<b>Успех:</b><br>\n",
    "Если все сделано отлично.<br></div>   "
   ]
  },
  {
   "cell_type": "markdown",
   "metadata": {},
   "source": [
    "<a id='h22'></a>\n",
    "## Выбор локации для скважины"
   ]
  },
  {
   "cell_type": "markdown",
   "metadata": {},
   "source": [
    "Допустим, вы работаете в добывающей компании «ГлавРосГосНефть». Нужно решить, где бурить новую скважину.\n",
    "\n",
    "Вам предоставлены пробы нефти в трёх регионах: в каждом 10 000 месторождений, где измерили качество нефти и объём её запасов. Постройте модель машинного обучения, которая поможет определить регион, где добыча принесёт наибольшую прибыль. Проанализируйте возможную прибыль и риски техникой *Bootstrap.*\n",
    "\n",
    "Шаги для выбора локации:\n",
    "\n",
    "- В избранном регионе ищут месторождения, для каждого определяют значения признаков;\n",
    "- Строят модель и оценивают объём запасов;\n",
    "- Выбирают месторождения с самым высокими оценками значений. Количество месторождений зависит от бюджета компании и стоимости разработки одной скважины;\n",
    "- Прибыль равна суммарной прибыли отобранных месторождений."
   ]
  },
  {
   "cell_type": "markdown",
   "metadata": {},
   "source": [
    "<h1>Содержание (кликабельное):</h1>\n",
    "\n",
    "<a href='#h22'>1. Название проекта</a><br>\n",
    "<a href='#h2'>2. Загрузка и подготовка данных</a><br>\n",
    "&nbsp;&nbsp;&nbsp;<a href='#h31'>2.1 Вывод по шагу 2</a><br>\n",
    "<a href='#h3'>3. Обучение и проверка модели</a><br>\n",
    "&nbsp;&nbsp;&nbsp;<a href='#h32'>3.1 Вывод по шагу 3</a><br>\n",
    "<a href='#h41'>4. Подготовка к расчёту прибыли</a><br>\n",
    "&nbsp;&nbsp;&nbsp;<a href='#h4'>4.1 Вывод по шагу 4</a><br>\n",
    "<a href='#h5'>5. Расчёт прибыли и рисков</a><br>\n",
    "&nbsp;&nbsp;&nbsp;<a href='#h51'>5.1 Вывод по шагу 5</a><br>\n",
    "<a href='#h6'>6. Общий вывод</a><br>"
   ]
  },
  {
   "cell_type": "markdown",
   "metadata": {},
   "source": [
    "<div class=\"alert alert-block alert-success\"><b>Комментарий ревьюера</b>\n",
    "    \n",
    "<b>Успех:</b><br>\n",
    "👍 Есть введение в проект и оглавление. Отлично!<br>\n",
    "\n",
    "</div> "
   ]
  },
  {
   "cell_type": "markdown",
   "metadata": {},
   "source": [
    "<a id='h2'></a>\n",
    "## Загрузка и подготовка данных"
   ]
  },
  {
   "cell_type": "code",
   "execution_count": 1,
   "metadata": {},
   "outputs": [
    {
     "name": "stdout",
     "output_type": "stream",
     "text": [
      "Collecting scikit-learn==1.1.3\n",
      "  Downloading scikit_learn-1.1.3-cp39-cp39-manylinux_2_17_x86_64.manylinux2014_x86_64.whl (30.8 MB)\n",
      "\u001b[K     |████████████████████████████████| 30.8 MB 50 kB/s  eta 0:00:01\n",
      "\u001b[?25hRequirement already satisfied: numpy>=1.17.3 in /opt/conda/lib/python3.9/site-packages (from scikit-learn==1.1.3) (1.21.1)\n",
      "Requirement already satisfied: joblib>=1.0.0 in /opt/conda/lib/python3.9/site-packages (from scikit-learn==1.1.3) (1.1.0)\n",
      "Requirement already satisfied: threadpoolctl>=2.0.0 in /opt/conda/lib/python3.9/site-packages (from scikit-learn==1.1.3) (3.1.0)\n",
      "Requirement already satisfied: scipy>=1.3.2 in /opt/conda/lib/python3.9/site-packages (from scikit-learn==1.1.3) (1.9.1)\n",
      "Installing collected packages: scikit-learn\n",
      "  Attempting uninstall: scikit-learn\n",
      "    Found existing installation: scikit-learn 0.24.1\n",
      "    Uninstalling scikit-learn-0.24.1:\n",
      "      Successfully uninstalled scikit-learn-0.24.1\n",
      "Successfully installed scikit-learn-1.1.3\n"
     ]
    }
   ],
   "source": [
    "!pip install scikit-learn==1.1.3"
   ]
  },
  {
   "cell_type": "code",
   "execution_count": 2,
   "metadata": {},
   "outputs": [],
   "source": [
    "import matplotlib.pyplot as plt\n",
    "import numpy as np\n",
    "import pandas as pd\n",
    "from sklearn.preprocessing import (\n",
    "    OneHotEncoder,\n",
    "    OrdinalEncoder,\n",
    "    StandardScaler)\n",
    "\n",
    "from sklearn.model_selection import train_test_split\n",
    "from sklearn.linear_model import LinearRegression\n",
    "from sklearn.metrics import (\n",
    "    accuracy_score, \n",
    "    confusion_matrix, \n",
    "    f1_score, \n",
    "    mean_squared_error, \n",
    "    roc_auc_score,\n",
    "    precision_score,\n",
    "    recall_score,\n",
    "    roc_curve\n",
    ")\n",
    "\n",
    "import warnings\n",
    "warnings.filterwarnings(\"ignore\")\n",
    "\n",
    "state = 55555"
   ]
  },
  {
   "cell_type": "markdown",
   "metadata": {},
   "source": [
    "<div class=\"alert alert-block alert-success\"><b>Комментарий ревьюера </b>\n",
    "    \n",
    "<b>Успех:</b><br>\n",
    "👍 Здорово, что импортируешь необходимые библиотеки в начале проекта. Так сразу понятно какие используются библиотеки и можно легко настроить свое окружение при необходимости. Только лучше оставлять библиотеки, которые используются в проекте.\n",
    "</div> "
   ]
  },
  {
   "cell_type": "markdown",
   "metadata": {},
   "source": [
    "Каждый регион загрузим в отдельный датафрейм"
   ]
  },
  {
   "cell_type": "code",
   "execution_count": 3,
   "metadata": {},
   "outputs": [
    {
     "data": {
      "text/html": [
       "<div>\n",
       "<style scoped>\n",
       "    .dataframe tbody tr th:only-of-type {\n",
       "        vertical-align: middle;\n",
       "    }\n",
       "\n",
       "    .dataframe tbody tr th {\n",
       "        vertical-align: top;\n",
       "    }\n",
       "\n",
       "    .dataframe thead th {\n",
       "        text-align: right;\n",
       "    }\n",
       "</style>\n",
       "<table border=\"1\" class=\"dataframe\">\n",
       "  <thead>\n",
       "    <tr style=\"text-align: right;\">\n",
       "      <th></th>\n",
       "      <th>id</th>\n",
       "      <th>f0</th>\n",
       "      <th>f1</th>\n",
       "      <th>f2</th>\n",
       "      <th>product</th>\n",
       "    </tr>\n",
       "  </thead>\n",
       "  <tbody>\n",
       "    <tr>\n",
       "      <th>count</th>\n",
       "      <td>100000</td>\n",
       "      <td>100000.000000</td>\n",
       "      <td>100000.000000</td>\n",
       "      <td>100000.000000</td>\n",
       "      <td>100000.000000</td>\n",
       "    </tr>\n",
       "    <tr>\n",
       "      <th>unique</th>\n",
       "      <td>99990</td>\n",
       "      <td>NaN</td>\n",
       "      <td>NaN</td>\n",
       "      <td>NaN</td>\n",
       "      <td>NaN</td>\n",
       "    </tr>\n",
       "    <tr>\n",
       "      <th>top</th>\n",
       "      <td>bxg6G</td>\n",
       "      <td>NaN</td>\n",
       "      <td>NaN</td>\n",
       "      <td>NaN</td>\n",
       "      <td>NaN</td>\n",
       "    </tr>\n",
       "    <tr>\n",
       "      <th>freq</th>\n",
       "      <td>2</td>\n",
       "      <td>NaN</td>\n",
       "      <td>NaN</td>\n",
       "      <td>NaN</td>\n",
       "      <td>NaN</td>\n",
       "    </tr>\n",
       "    <tr>\n",
       "      <th>mean</th>\n",
       "      <td>NaN</td>\n",
       "      <td>0.500419</td>\n",
       "      <td>0.250143</td>\n",
       "      <td>2.502647</td>\n",
       "      <td>92.500000</td>\n",
       "    </tr>\n",
       "    <tr>\n",
       "      <th>std</th>\n",
       "      <td>NaN</td>\n",
       "      <td>0.871832</td>\n",
       "      <td>0.504433</td>\n",
       "      <td>3.248248</td>\n",
       "      <td>44.288691</td>\n",
       "    </tr>\n",
       "    <tr>\n",
       "      <th>min</th>\n",
       "      <td>NaN</td>\n",
       "      <td>-1.408605</td>\n",
       "      <td>-0.848218</td>\n",
       "      <td>-12.088328</td>\n",
       "      <td>0.000000</td>\n",
       "    </tr>\n",
       "    <tr>\n",
       "      <th>25%</th>\n",
       "      <td>NaN</td>\n",
       "      <td>-0.072580</td>\n",
       "      <td>-0.200881</td>\n",
       "      <td>0.287748</td>\n",
       "      <td>56.497507</td>\n",
       "    </tr>\n",
       "    <tr>\n",
       "      <th>50%</th>\n",
       "      <td>NaN</td>\n",
       "      <td>0.502360</td>\n",
       "      <td>0.250252</td>\n",
       "      <td>2.515969</td>\n",
       "      <td>91.849972</td>\n",
       "    </tr>\n",
       "    <tr>\n",
       "      <th>75%</th>\n",
       "      <td>NaN</td>\n",
       "      <td>1.073581</td>\n",
       "      <td>0.700646</td>\n",
       "      <td>4.715088</td>\n",
       "      <td>128.564089</td>\n",
       "    </tr>\n",
       "    <tr>\n",
       "      <th>max</th>\n",
       "      <td>NaN</td>\n",
       "      <td>2.362331</td>\n",
       "      <td>1.343769</td>\n",
       "      <td>16.003790</td>\n",
       "      <td>185.364347</td>\n",
       "    </tr>\n",
       "  </tbody>\n",
       "</table>\n",
       "</div>"
      ],
      "text/plain": [
       "            id             f0             f1             f2        product\n",
       "count   100000  100000.000000  100000.000000  100000.000000  100000.000000\n",
       "unique   99990            NaN            NaN            NaN            NaN\n",
       "top      bxg6G            NaN            NaN            NaN            NaN\n",
       "freq         2            NaN            NaN            NaN            NaN\n",
       "mean       NaN       0.500419       0.250143       2.502647      92.500000\n",
       "std        NaN       0.871832       0.504433       3.248248      44.288691\n",
       "min        NaN      -1.408605      -0.848218     -12.088328       0.000000\n",
       "25%        NaN      -0.072580      -0.200881       0.287748      56.497507\n",
       "50%        NaN       0.502360       0.250252       2.515969      91.849972\n",
       "75%        NaN       1.073581       0.700646       4.715088     128.564089\n",
       "max        NaN       2.362331       1.343769      16.003790     185.364347"
      ]
     },
     "execution_count": 3,
     "metadata": {},
     "output_type": "execute_result"
    }
   ],
   "source": [
    "geo_0 = pd.read_csv('/datasets/geo_data_0.csv')\n",
    "geo_0.describe(include='all')"
   ]
  },
  {
   "cell_type": "code",
   "execution_count": 4,
   "metadata": {},
   "outputs": [
    {
     "data": {
      "text/plain": [
       "id         0\n",
       "f0         0\n",
       "f1         0\n",
       "f2         0\n",
       "product    0\n",
       "dtype: int64"
      ]
     },
     "execution_count": 4,
     "metadata": {},
     "output_type": "execute_result"
    }
   ],
   "source": [
    "geo_0.isna().sum()"
   ]
  },
  {
   "cell_type": "code",
   "execution_count": 5,
   "metadata": {},
   "outputs": [
    {
     "data": {
      "text/plain": [
       "0"
      ]
     },
     "execution_count": 5,
     "metadata": {},
     "output_type": "execute_result"
    }
   ],
   "source": [
    "geo_0.duplicated().sum()"
   ]
  },
  {
   "cell_type": "code",
   "execution_count": 6,
   "metadata": {},
   "outputs": [
    {
     "data": {
      "text/html": [
       "<div>\n",
       "<style scoped>\n",
       "    .dataframe tbody tr th:only-of-type {\n",
       "        vertical-align: middle;\n",
       "    }\n",
       "\n",
       "    .dataframe tbody tr th {\n",
       "        vertical-align: top;\n",
       "    }\n",
       "\n",
       "    .dataframe thead th {\n",
       "        text-align: right;\n",
       "    }\n",
       "</style>\n",
       "<table border=\"1\" class=\"dataframe\">\n",
       "  <thead>\n",
       "    <tr style=\"text-align: right;\">\n",
       "      <th></th>\n",
       "      <th>id</th>\n",
       "      <th>f0</th>\n",
       "      <th>f1</th>\n",
       "      <th>f2</th>\n",
       "      <th>product</th>\n",
       "    </tr>\n",
       "  </thead>\n",
       "  <tbody>\n",
       "    <tr>\n",
       "      <th>count</th>\n",
       "      <td>100000</td>\n",
       "      <td>100000.000000</td>\n",
       "      <td>100000.000000</td>\n",
       "      <td>100000.000000</td>\n",
       "      <td>100000.000000</td>\n",
       "    </tr>\n",
       "    <tr>\n",
       "      <th>unique</th>\n",
       "      <td>99996</td>\n",
       "      <td>NaN</td>\n",
       "      <td>NaN</td>\n",
       "      <td>NaN</td>\n",
       "      <td>NaN</td>\n",
       "    </tr>\n",
       "    <tr>\n",
       "      <th>top</th>\n",
       "      <td>wt4Uk</td>\n",
       "      <td>NaN</td>\n",
       "      <td>NaN</td>\n",
       "      <td>NaN</td>\n",
       "      <td>NaN</td>\n",
       "    </tr>\n",
       "    <tr>\n",
       "      <th>freq</th>\n",
       "      <td>2</td>\n",
       "      <td>NaN</td>\n",
       "      <td>NaN</td>\n",
       "      <td>NaN</td>\n",
       "      <td>NaN</td>\n",
       "    </tr>\n",
       "    <tr>\n",
       "      <th>mean</th>\n",
       "      <td>NaN</td>\n",
       "      <td>1.141296</td>\n",
       "      <td>-4.796579</td>\n",
       "      <td>2.494541</td>\n",
       "      <td>68.825000</td>\n",
       "    </tr>\n",
       "    <tr>\n",
       "      <th>std</th>\n",
       "      <td>NaN</td>\n",
       "      <td>8.965932</td>\n",
       "      <td>5.119872</td>\n",
       "      <td>1.703572</td>\n",
       "      <td>45.944423</td>\n",
       "    </tr>\n",
       "    <tr>\n",
       "      <th>min</th>\n",
       "      <td>NaN</td>\n",
       "      <td>-31.609576</td>\n",
       "      <td>-26.358598</td>\n",
       "      <td>-0.018144</td>\n",
       "      <td>0.000000</td>\n",
       "    </tr>\n",
       "    <tr>\n",
       "      <th>25%</th>\n",
       "      <td>NaN</td>\n",
       "      <td>-6.298551</td>\n",
       "      <td>-8.267985</td>\n",
       "      <td>1.000021</td>\n",
       "      <td>26.953261</td>\n",
       "    </tr>\n",
       "    <tr>\n",
       "      <th>50%</th>\n",
       "      <td>NaN</td>\n",
       "      <td>1.153055</td>\n",
       "      <td>-4.813172</td>\n",
       "      <td>2.011479</td>\n",
       "      <td>57.085625</td>\n",
       "    </tr>\n",
       "    <tr>\n",
       "      <th>75%</th>\n",
       "      <td>NaN</td>\n",
       "      <td>8.621015</td>\n",
       "      <td>-1.332816</td>\n",
       "      <td>3.999904</td>\n",
       "      <td>107.813044</td>\n",
       "    </tr>\n",
       "    <tr>\n",
       "      <th>max</th>\n",
       "      <td>NaN</td>\n",
       "      <td>29.421755</td>\n",
       "      <td>18.734063</td>\n",
       "      <td>5.019721</td>\n",
       "      <td>137.945408</td>\n",
       "    </tr>\n",
       "  </tbody>\n",
       "</table>\n",
       "</div>"
      ],
      "text/plain": [
       "            id             f0             f1             f2        product\n",
       "count   100000  100000.000000  100000.000000  100000.000000  100000.000000\n",
       "unique   99996            NaN            NaN            NaN            NaN\n",
       "top      wt4Uk            NaN            NaN            NaN            NaN\n",
       "freq         2            NaN            NaN            NaN            NaN\n",
       "mean       NaN       1.141296      -4.796579       2.494541      68.825000\n",
       "std        NaN       8.965932       5.119872       1.703572      45.944423\n",
       "min        NaN     -31.609576     -26.358598      -0.018144       0.000000\n",
       "25%        NaN      -6.298551      -8.267985       1.000021      26.953261\n",
       "50%        NaN       1.153055      -4.813172       2.011479      57.085625\n",
       "75%        NaN       8.621015      -1.332816       3.999904     107.813044\n",
       "max        NaN      29.421755      18.734063       5.019721     137.945408"
      ]
     },
     "execution_count": 6,
     "metadata": {},
     "output_type": "execute_result"
    }
   ],
   "source": [
    "geo_1 = pd.read_csv('/datasets/geo_data_1.csv')\n",
    "geo_1.describe(include='all')"
   ]
  },
  {
   "cell_type": "code",
   "execution_count": 7,
   "metadata": {},
   "outputs": [
    {
     "data": {
      "text/plain": [
       "id         0\n",
       "f0         0\n",
       "f1         0\n",
       "f2         0\n",
       "product    0\n",
       "dtype: int64"
      ]
     },
     "execution_count": 7,
     "metadata": {},
     "output_type": "execute_result"
    }
   ],
   "source": [
    "geo_1.isna().sum()"
   ]
  },
  {
   "cell_type": "code",
   "execution_count": 8,
   "metadata": {},
   "outputs": [
    {
     "data": {
      "text/plain": [
       "0"
      ]
     },
     "execution_count": 8,
     "metadata": {},
     "output_type": "execute_result"
    }
   ],
   "source": [
    "geo_1.duplicated().sum()"
   ]
  },
  {
   "cell_type": "code",
   "execution_count": 9,
   "metadata": {},
   "outputs": [
    {
     "data": {
      "text/html": [
       "<div>\n",
       "<style scoped>\n",
       "    .dataframe tbody tr th:only-of-type {\n",
       "        vertical-align: middle;\n",
       "    }\n",
       "\n",
       "    .dataframe tbody tr th {\n",
       "        vertical-align: top;\n",
       "    }\n",
       "\n",
       "    .dataframe thead th {\n",
       "        text-align: right;\n",
       "    }\n",
       "</style>\n",
       "<table border=\"1\" class=\"dataframe\">\n",
       "  <thead>\n",
       "    <tr style=\"text-align: right;\">\n",
       "      <th></th>\n",
       "      <th>id</th>\n",
       "      <th>f0</th>\n",
       "      <th>f1</th>\n",
       "      <th>f2</th>\n",
       "      <th>product</th>\n",
       "    </tr>\n",
       "  </thead>\n",
       "  <tbody>\n",
       "    <tr>\n",
       "      <th>count</th>\n",
       "      <td>100000</td>\n",
       "      <td>100000.000000</td>\n",
       "      <td>100000.000000</td>\n",
       "      <td>100000.000000</td>\n",
       "      <td>100000.000000</td>\n",
       "    </tr>\n",
       "    <tr>\n",
       "      <th>unique</th>\n",
       "      <td>99996</td>\n",
       "      <td>NaN</td>\n",
       "      <td>NaN</td>\n",
       "      <td>NaN</td>\n",
       "      <td>NaN</td>\n",
       "    </tr>\n",
       "    <tr>\n",
       "      <th>top</th>\n",
       "      <td>xCHr8</td>\n",
       "      <td>NaN</td>\n",
       "      <td>NaN</td>\n",
       "      <td>NaN</td>\n",
       "      <td>NaN</td>\n",
       "    </tr>\n",
       "    <tr>\n",
       "      <th>freq</th>\n",
       "      <td>2</td>\n",
       "      <td>NaN</td>\n",
       "      <td>NaN</td>\n",
       "      <td>NaN</td>\n",
       "      <td>NaN</td>\n",
       "    </tr>\n",
       "    <tr>\n",
       "      <th>mean</th>\n",
       "      <td>NaN</td>\n",
       "      <td>0.002023</td>\n",
       "      <td>-0.002081</td>\n",
       "      <td>2.495128</td>\n",
       "      <td>95.000000</td>\n",
       "    </tr>\n",
       "    <tr>\n",
       "      <th>std</th>\n",
       "      <td>NaN</td>\n",
       "      <td>1.732045</td>\n",
       "      <td>1.730417</td>\n",
       "      <td>3.473445</td>\n",
       "      <td>44.749921</td>\n",
       "    </tr>\n",
       "    <tr>\n",
       "      <th>min</th>\n",
       "      <td>NaN</td>\n",
       "      <td>-8.760004</td>\n",
       "      <td>-7.084020</td>\n",
       "      <td>-11.970335</td>\n",
       "      <td>0.000000</td>\n",
       "    </tr>\n",
       "    <tr>\n",
       "      <th>25%</th>\n",
       "      <td>NaN</td>\n",
       "      <td>-1.162288</td>\n",
       "      <td>-1.174820</td>\n",
       "      <td>0.130359</td>\n",
       "      <td>59.450441</td>\n",
       "    </tr>\n",
       "    <tr>\n",
       "      <th>50%</th>\n",
       "      <td>NaN</td>\n",
       "      <td>0.009424</td>\n",
       "      <td>-0.009482</td>\n",
       "      <td>2.484236</td>\n",
       "      <td>94.925613</td>\n",
       "    </tr>\n",
       "    <tr>\n",
       "      <th>75%</th>\n",
       "      <td>NaN</td>\n",
       "      <td>1.158535</td>\n",
       "      <td>1.163678</td>\n",
       "      <td>4.858794</td>\n",
       "      <td>130.595027</td>\n",
       "    </tr>\n",
       "    <tr>\n",
       "      <th>max</th>\n",
       "      <td>NaN</td>\n",
       "      <td>7.238262</td>\n",
       "      <td>7.844801</td>\n",
       "      <td>16.739402</td>\n",
       "      <td>190.029838</td>\n",
       "    </tr>\n",
       "  </tbody>\n",
       "</table>\n",
       "</div>"
      ],
      "text/plain": [
       "            id             f0             f1             f2        product\n",
       "count   100000  100000.000000  100000.000000  100000.000000  100000.000000\n",
       "unique   99996            NaN            NaN            NaN            NaN\n",
       "top      xCHr8            NaN            NaN            NaN            NaN\n",
       "freq         2            NaN            NaN            NaN            NaN\n",
       "mean       NaN       0.002023      -0.002081       2.495128      95.000000\n",
       "std        NaN       1.732045       1.730417       3.473445      44.749921\n",
       "min        NaN      -8.760004      -7.084020     -11.970335       0.000000\n",
       "25%        NaN      -1.162288      -1.174820       0.130359      59.450441\n",
       "50%        NaN       0.009424      -0.009482       2.484236      94.925613\n",
       "75%        NaN       1.158535       1.163678       4.858794     130.595027\n",
       "max        NaN       7.238262       7.844801      16.739402     190.029838"
      ]
     },
     "execution_count": 9,
     "metadata": {},
     "output_type": "execute_result"
    }
   ],
   "source": [
    "geo_2 = pd.read_csv('/datasets/geo_data_2.csv')\n",
    "geo_2.describe(include='all')"
   ]
  },
  {
   "cell_type": "code",
   "execution_count": 10,
   "metadata": {},
   "outputs": [
    {
     "data": {
      "text/plain": [
       "id         0\n",
       "f0         0\n",
       "f1         0\n",
       "f2         0\n",
       "product    0\n",
       "dtype: int64"
      ]
     },
     "execution_count": 10,
     "metadata": {},
     "output_type": "execute_result"
    }
   ],
   "source": [
    "geo_2.isna().sum()"
   ]
  },
  {
   "cell_type": "code",
   "execution_count": 11,
   "metadata": {},
   "outputs": [
    {
     "data": {
      "text/html": [
       "<div>\n",
       "<style scoped>\n",
       "    .dataframe tbody tr th:only-of-type {\n",
       "        vertical-align: middle;\n",
       "    }\n",
       "\n",
       "    .dataframe tbody tr th {\n",
       "        vertical-align: top;\n",
       "    }\n",
       "\n",
       "    .dataframe thead th {\n",
       "        text-align: right;\n",
       "    }\n",
       "</style>\n",
       "<table border=\"1\" class=\"dataframe\">\n",
       "  <thead>\n",
       "    <tr style=\"text-align: right;\">\n",
       "      <th></th>\n",
       "      <th>id</th>\n",
       "      <th>f0</th>\n",
       "      <th>f1</th>\n",
       "      <th>f2</th>\n",
       "      <th>product</th>\n",
       "    </tr>\n",
       "  </thead>\n",
       "  <tbody>\n",
       "    <tr>\n",
       "      <th>0</th>\n",
       "      <td>fwXo0</td>\n",
       "      <td>-1.146987</td>\n",
       "      <td>0.963328</td>\n",
       "      <td>-0.828965</td>\n",
       "      <td>27.758673</td>\n",
       "    </tr>\n",
       "    <tr>\n",
       "      <th>1</th>\n",
       "      <td>WJtFt</td>\n",
       "      <td>0.262778</td>\n",
       "      <td>0.269839</td>\n",
       "      <td>-2.530187</td>\n",
       "      <td>56.069697</td>\n",
       "    </tr>\n",
       "    <tr>\n",
       "      <th>2</th>\n",
       "      <td>ovLUW</td>\n",
       "      <td>0.194587</td>\n",
       "      <td>0.289035</td>\n",
       "      <td>-5.586433</td>\n",
       "      <td>62.871910</td>\n",
       "    </tr>\n",
       "    <tr>\n",
       "      <th>3</th>\n",
       "      <td>q6cA6</td>\n",
       "      <td>2.236060</td>\n",
       "      <td>-0.553760</td>\n",
       "      <td>0.930038</td>\n",
       "      <td>114.572842</td>\n",
       "    </tr>\n",
       "    <tr>\n",
       "      <th>4</th>\n",
       "      <td>WPMUX</td>\n",
       "      <td>-0.515993</td>\n",
       "      <td>1.716266</td>\n",
       "      <td>5.899011</td>\n",
       "      <td>149.600746</td>\n",
       "    </tr>\n",
       "    <tr>\n",
       "      <th>...</th>\n",
       "      <td>...</td>\n",
       "      <td>...</td>\n",
       "      <td>...</td>\n",
       "      <td>...</td>\n",
       "      <td>...</td>\n",
       "    </tr>\n",
       "    <tr>\n",
       "      <th>99995</th>\n",
       "      <td>4GxBu</td>\n",
       "      <td>-1.777037</td>\n",
       "      <td>1.125220</td>\n",
       "      <td>6.263374</td>\n",
       "      <td>172.327046</td>\n",
       "    </tr>\n",
       "    <tr>\n",
       "      <th>99996</th>\n",
       "      <td>YKFjq</td>\n",
       "      <td>-1.261523</td>\n",
       "      <td>-0.894828</td>\n",
       "      <td>2.524545</td>\n",
       "      <td>138.748846</td>\n",
       "    </tr>\n",
       "    <tr>\n",
       "      <th>99997</th>\n",
       "      <td>tKPY3</td>\n",
       "      <td>-1.199934</td>\n",
       "      <td>-2.957637</td>\n",
       "      <td>5.219411</td>\n",
       "      <td>157.080080</td>\n",
       "    </tr>\n",
       "    <tr>\n",
       "      <th>99998</th>\n",
       "      <td>nmxp2</td>\n",
       "      <td>-2.419896</td>\n",
       "      <td>2.417221</td>\n",
       "      <td>-5.548444</td>\n",
       "      <td>51.795253</td>\n",
       "    </tr>\n",
       "    <tr>\n",
       "      <th>99999</th>\n",
       "      <td>V9kWn</td>\n",
       "      <td>-2.551421</td>\n",
       "      <td>-2.025625</td>\n",
       "      <td>6.090891</td>\n",
       "      <td>102.775767</td>\n",
       "    </tr>\n",
       "  </tbody>\n",
       "</table>\n",
       "<p>100000 rows × 5 columns</p>\n",
       "</div>"
      ],
      "text/plain": [
       "          id        f0        f1        f2     product\n",
       "0      fwXo0 -1.146987  0.963328 -0.828965   27.758673\n",
       "1      WJtFt  0.262778  0.269839 -2.530187   56.069697\n",
       "2      ovLUW  0.194587  0.289035 -5.586433   62.871910\n",
       "3      q6cA6  2.236060 -0.553760  0.930038  114.572842\n",
       "4      WPMUX -0.515993  1.716266  5.899011  149.600746\n",
       "...      ...       ...       ...       ...         ...\n",
       "99995  4GxBu -1.777037  1.125220  6.263374  172.327046\n",
       "99996  YKFjq -1.261523 -0.894828  2.524545  138.748846\n",
       "99997  tKPY3 -1.199934 -2.957637  5.219411  157.080080\n",
       "99998  nmxp2 -2.419896  2.417221 -5.548444   51.795253\n",
       "99999  V9kWn -2.551421 -2.025625  6.090891  102.775767\n",
       "\n",
       "[100000 rows x 5 columns]"
      ]
     },
     "execution_count": 11,
     "metadata": {},
     "output_type": "execute_result"
    }
   ],
   "source": [
    "geo_2"
   ]
  },
  {
   "cell_type": "markdown",
   "metadata": {},
   "source": [
    "<div class=\"alert alert-block alert-warning\"><b>Комментарий ревьюера</b>\n",
    "    \n",
    "<b>Совет:</b><br>\n",
    "Нежелательно выводить весь датасет, достаточно несколько строк. Т.к. в случае большого объема данных, может увеличиваться время на обработку. Если хочешь посмотреть размер, можно воспользоваться `shape`. \n",
    "</div>"
   ]
  },
  {
   "cell_type": "markdown",
   "metadata": {},
   "source": [
    "Посмотрим на столбец ID"
   ]
  },
  {
   "cell_type": "code",
   "execution_count": 12,
   "metadata": {},
   "outputs": [
    {
     "data": {
      "text/plain": [
       "bxg6G    2\n",
       "AGS9W    2\n",
       "74z30    2\n",
       "fiKDv    2\n",
       "A5aEY    2\n",
       "        ..\n",
       "s9RxW    1\n",
       "RvZkL    1\n",
       "NmFE7    1\n",
       "9pMTP    1\n",
       "LirZ2    1\n",
       "Name: id, Length: 99990, dtype: int64"
      ]
     },
     "execution_count": 12,
     "metadata": {},
     "output_type": "execute_result"
    }
   ],
   "source": [
    "geo_0['id'].value_counts()"
   ]
  },
  {
   "cell_type": "code",
   "execution_count": 13,
   "metadata": {},
   "outputs": [
    {
     "data": {
      "text/plain": [
       "wt4Uk    2\n",
       "5ltQ6    2\n",
       "LHZR0    2\n",
       "bfPNe    2\n",
       "ztitl    1\n",
       "        ..\n",
       "DrI5o    1\n",
       "nCUT7    1\n",
       "b2KEk    1\n",
       "WbnfY    1\n",
       "ytln6    1\n",
       "Name: id, Length: 99996, dtype: int64"
      ]
     },
     "execution_count": 13,
     "metadata": {},
     "output_type": "execute_result"
    }
   ],
   "source": [
    "geo_1['id'].value_counts()"
   ]
  },
  {
   "cell_type": "code",
   "execution_count": 14,
   "metadata": {},
   "outputs": [
    {
     "data": {
      "text/plain": [
       "xCHr8    2\n",
       "VF7Jo    2\n",
       "KUPhW    2\n",
       "Vcm5J    2\n",
       "FJoxU    1\n",
       "        ..\n",
       "KgPW0    1\n",
       "LC7Ey    1\n",
       "Ue0E9    1\n",
       "0u8C0    1\n",
       "XcamQ    1\n",
       "Name: id, Length: 99996, dtype: int64"
      ]
     },
     "execution_count": 14,
     "metadata": {},
     "output_type": "execute_result"
    }
   ],
   "source": [
    "geo_2['id'].value_counts()"
   ]
  },
  {
   "cell_type": "markdown",
   "metadata": {},
   "source": [
    "<div class=\"alert alert-block alert-success\"><b>Комментарий ревьюера </b>\n",
    "    \n",
    "<b>Успех:</b><br>\n",
    "👍 Хорошо, что проверяешь дубликаты по `id`. Так как нам не ясна природа таких дубликатов, то их можно как удалить, так и оставить. Но о таких фактах всегда надо сообщать коллегам.\n",
    "</div> "
   ]
  },
  {
   "cell_type": "code",
   "execution_count": 15,
   "metadata": {},
   "outputs": [
    {
     "data": {
      "text/plain": [
       "0"
      ]
     },
     "execution_count": 15,
     "metadata": {},
     "output_type": "execute_result"
    }
   ],
   "source": [
    "geo_2.duplicated().sum()"
   ]
  },
  {
   "cell_type": "code",
   "execution_count": 16,
   "metadata": {},
   "outputs": [
    {
     "data": {
      "text/html": [
       "<div>\n",
       "<style scoped>\n",
       "    .dataframe tbody tr th:only-of-type {\n",
       "        vertical-align: middle;\n",
       "    }\n",
       "\n",
       "    .dataframe tbody tr th {\n",
       "        vertical-align: top;\n",
       "    }\n",
       "\n",
       "    .dataframe thead th {\n",
       "        text-align: right;\n",
       "    }\n",
       "</style>\n",
       "<table border=\"1\" class=\"dataframe\">\n",
       "  <thead>\n",
       "    <tr style=\"text-align: right;\">\n",
       "      <th></th>\n",
       "      <th>id</th>\n",
       "      <th>f0</th>\n",
       "      <th>f1</th>\n",
       "      <th>f2</th>\n",
       "      <th>product</th>\n",
       "    </tr>\n",
       "  </thead>\n",
       "  <tbody>\n",
       "    <tr>\n",
       "      <th>28039</th>\n",
       "      <td>xCHr8</td>\n",
       "      <td>1.633027</td>\n",
       "      <td>0.368135</td>\n",
       "      <td>-2.378367</td>\n",
       "      <td>6.120525</td>\n",
       "    </tr>\n",
       "    <tr>\n",
       "      <th>43233</th>\n",
       "      <td>xCHr8</td>\n",
       "      <td>-0.847066</td>\n",
       "      <td>2.101796</td>\n",
       "      <td>5.597130</td>\n",
       "      <td>184.388641</td>\n",
       "    </tr>\n",
       "  </tbody>\n",
       "</table>\n",
       "</div>"
      ],
      "text/plain": [
       "          id        f0        f1        f2     product\n",
       "28039  xCHr8  1.633027  0.368135 -2.378367    6.120525\n",
       "43233  xCHr8 -0.847066  2.101796  5.597130  184.388641"
      ]
     },
     "execution_count": 16,
     "metadata": {},
     "output_type": "execute_result"
    }
   ],
   "source": [
    "geo_2.loc[geo_2['id'] == 'xCHr8']"
   ]
  },
  {
   "cell_type": "markdown",
   "metadata": {},
   "source": [
    "В данных отсутсвуют пропуски и дубликаты. Удалим столбец id. Он не несет значимости для модели."
   ]
  },
  {
   "cell_type": "code",
   "execution_count": 17,
   "metadata": {},
   "outputs": [],
   "source": [
    "geo_0 = geo_0.drop(['id'], axis=1)\n",
    "geo_1 = geo_1.drop(['id'], axis=1)\n",
    "geo_2 = geo_2.drop(['id'], axis=1)"
   ]
  },
  {
   "cell_type": "markdown",
   "metadata": {},
   "source": [
    "<div class=\"alert alert-block alert-success\"><b>Комментарий ревьюера </b>\n",
    "    \n",
    "<b>Успех:</b><br>\n",
    "👍 `id`  - уникальный идентификатор скважины, он не является признаком, поэтому его действительно лучше удалить. \n",
    "</div> "
   ]
  },
  {
   "cell_type": "markdown",
   "metadata": {},
   "source": [
    "Рассчитайте достаточный объём сырья для безубыточной разработки новой скважины. Сравните полученный объём сырья со средним запасом в каждом регионе. "
   ]
  },
  {
   "cell_type": "markdown",
   "metadata": {},
   "source": [
    "Наверное можно сразу подсчать среднее по региону и удалить те ячейчеки,где product == 0."
   ]
  },
  {
   "cell_type": "markdown",
   "metadata": {},
   "source": [
    "Наши модели можно было бы обучить быстрее, но как это скажется на проекте я не знаю, поэтоу оставлю без изменения."
   ]
  },
  {
   "cell_type": "markdown",
   "metadata": {},
   "source": [
    "Вопрос почему в product == 0, тут или не указали данные или там просто нету сырья."
   ]
  },
  {
   "cell_type": "markdown",
   "metadata": {},
   "source": [
    "<div class=\"alert alert-block alert-success\"><b>Комментарий ревьюера </b><br>\n",
    "    \n",
    "В реальном проекте причины могут быть разные, это надо уточнять у заказчика. \n",
    "</div> "
   ]
  },
  {
   "cell_type": "code",
   "execution_count": 18,
   "metadata": {},
   "outputs": [
    {
     "name": "stdout",
     "output_type": "stream",
     "text": [
      "Средний запас продукта в 1 регионе 92.50000000000001\n",
      "Средний запас продукта в 2 регионе 68.82500000000002\n",
      "Средний запас продукта в 3 регионе 95.00000000000004\n"
     ]
    }
   ],
   "source": [
    "## средний запас продукта по регионам.\n",
    "geo_0_mean = geo_0['product'].mean()\n",
    "print('Средний запас продукта в 1 регионе', geo_0_mean)\n",
    "geo_1_mean = geo_1['product'].mean()\n",
    "print('Средний запас продукта в 2 регионе', geo_1_mean)\n",
    "geo_2_mean = geo_2['product'].mean()\n",
    "print('Средний запас продукта в 3 регионе', geo_2_mean)\n"
   ]
  },
  {
   "cell_type": "code",
   "execution_count": 19,
   "metadata": {},
   "outputs": [],
   "source": [
    "## Разобьем на выборки \n",
    "## первый регион\n",
    "target_g0 = geo_0['product']\n",
    "features_g0 = geo_0.drop('product', axis=1)\n",
    "\n",
    "features_train_0, features_valid_0, target_train_0, target_valid_0 = train_test_split(features_g0, target_g0, test_size=0.25,  random_state=state) \n",
    "\n",
    "## второй регион\n",
    "target_g1 = geo_1['product']\n",
    "features_g1 = geo_1.drop('product', axis=1)\n",
    "\n",
    "features_train_1, features_valid_1, target_train_1, target_valid_1 = train_test_split(features_g1, target_g1, test_size=0.25,  random_state=state) \n",
    "## Третий регион\n",
    "target_g2 = geo_2['product']\n",
    "features_g2 = geo_2.drop('product', axis=1)\n",
    "\n",
    "features_train_2, features_valid_2, target_train_2, target_valid_2 = train_test_split(features_g2, target_g2, test_size=0.25,  random_state=state) \n"
   ]
  },
  {
   "cell_type": "markdown",
   "metadata": {},
   "source": [
    "<div class=\"alert alert-block alert-success\"><b>Комментарий ревьюера </b>\n",
    "    \n",
    "<b>Успех:</b><br>\n",
    "👍 Данные разделены на обучающую и валидационную выборку корректно - 75:25.<br>\n",
    "Будет надежнее, если после разбиения проверять доли)    \n",
    "</div>"
   ]
  },
  {
   "cell_type": "code",
   "execution_count": 20,
   "metadata": {},
   "outputs": [
    {
     "name": "stdout",
     "output_type": "stream",
     "text": [
      "(100000, 3)\n",
      "(100000, 3)\n",
      "(100000, 3)\n"
     ]
    }
   ],
   "source": [
    "print(features_g0.shape)\n",
    "print(features_g1.shape)\n",
    "print(features_g2.shape)"
   ]
  },
  {
   "cell_type": "code",
   "execution_count": 21,
   "metadata": {},
   "outputs": [
    {
     "data": {
      "text/plain": [
       "Index(['f0', 'f1', 'f2'], dtype='object')"
      ]
     },
     "execution_count": 21,
     "metadata": {},
     "output_type": "execute_result"
    }
   ],
   "source": [
    "features_g2.columns"
   ]
  },
  {
   "cell_type": "markdown",
   "metadata": {},
   "source": [
    "Приведем все признаки к одному масштабу."
   ]
  },
  {
   "cell_type": "code",
   "execution_count": 22,
   "metadata": {},
   "outputs": [],
   "source": [
    "def f_scaler(train, valid):\n",
    "    numeric = ['f0', 'f1', 'f2']\n",
    "    scaler = StandardScaler()\n",
    "    scaler.fit(train[numeric])\n",
    "    train[numeric] = scaler.transform(train[numeric])\n",
    "    valid[numeric] = scaler.transform(valid[numeric])\n",
    "    return train, valid"
   ]
  },
  {
   "cell_type": "code",
   "execution_count": 23,
   "metadata": {},
   "outputs": [],
   "source": [
    "#первый регион\n",
    "features_train_0,features_valid_0 = f_scaler(features_train_0,features_valid_0)"
   ]
  },
  {
   "cell_type": "code",
   "execution_count": 24,
   "metadata": {},
   "outputs": [],
   "source": [
    "#второй регион\n",
    "features_train_1,features_valid_1 = f_scaler(features_train_1,features_valid_1)"
   ]
  },
  {
   "cell_type": "code",
   "execution_count": 25,
   "metadata": {},
   "outputs": [],
   "source": [
    "#третий регион\n",
    "features_train_2,features_valid_2 = f_scaler(features_train_2,features_valid_2)"
   ]
  },
  {
   "cell_type": "markdown",
   "metadata": {},
   "source": [
    "<div class=\"alert alert-block alert-success\"><b>Комментарий ревьюера</b><br>\n",
    "    \n",
    "Очень хорошо, что уделяешь внимание масштабированию, т.к. это влияет на способность модели делать точные прогнозы.  <br>\n",
    "Оставлю пару советов:<br>    \n",
    "* `StandardScaler` подходит для нормально распределенных данных, в противном случае - `MinMaxScaler`. Здесь статья, которая подробно объясняет разницу [MinMaxScaler() и StandardScaler()](https://vitalflux.com/minmaxscaler-standardscaler-python-examples/)  \n",
    "* Для `трейна` можно использовать сразу `fit_transform()`. Она объединяет функции: `fit()` и `transform()`.    \n",
    "</div>  "
   ]
  },
  {
   "cell_type": "markdown",
   "metadata": {},
   "source": [
    "<a id='h31'></a>\n",
    "### Вывод по шагу 1.<br>\n",
    "Данные готовы к обучению. Определены : Признаки для модели:f0,f1,f2.Целевой признак: product.<br>\n",
    "Удален фиктивный признак 'id'. Данные проверены на пропуски и дубликаты, которых в наших данных нету. \n"
   ]
  },
  {
   "cell_type": "markdown",
   "metadata": {},
   "source": [
    "<div class=\"alert alert-block alert-warning\"><b>Комментарий ревьюера</b>\n",
    "    \n",
    "<b>Совет:</b><br>\n",
    "Илья,    \n",
    "* Чтобы лучше узнать данные, можно посмотреть распределение признаков и целевой переменной для каждого региона, т.е. построить гистограмму.    \n",
    "* Еще важно уделять внимание мультиколлинеарности признаков в линейных моделях.<br>\n",
    "Мультиколлинеарность — явление, при котором наблюдается сильная корреляция между признаками, что может негативно отразиться на модели.<br>\n",
    "\n",
    "Рекомендую посмотреть отрывок из курса Статистики - [\"Корреляция и регрессия\".](https://stepik.org/lesson/8086/step/1?unit=1365) <br>\n",
    "Для удобной визуализации можно использовать - [\"Тепловая карта корреляции\".](https://www.delftstack.com/ru/howto/seaborn/correlation-heatplot-seaborn-python/) <br>\n",
    "</div>"
   ]
  },
  {
   "cell_type": "markdown",
   "metadata": {},
   "source": [
    "<a id='h3'></a>\n",
    "## Обучение и проверка модели"
   ]
  },
  {
   "cell_type": "code",
   "execution_count": 26,
   "metadata": {},
   "outputs": [],
   "source": [
    "#обучим модели"
   ]
  },
  {
   "cell_type": "code",
   "execution_count": 27,
   "metadata": {},
   "outputs": [
    {
     "name": "stdout",
     "output_type": "stream",
     "text": [
      "Средний текущий запас сырья 92.50000000000001\n",
      "Средний предсказанный запас сырья 92.29980563364998\n",
      "RMSE-0  37.572787216783894\n"
     ]
    }
   ],
   "source": [
    "#первый регион\n",
    "model_0 = LinearRegression()\n",
    "model_0.fit(features_train_0, target_train_0)\n",
    "predicted_target_0 = model_0.predict(features_valid_0)\n",
    "\n",
    "geo_pm0 = geo_0['product'].mean()\n",
    "geo_pred_target_m0 = predicted_target_0.mean()\n",
    "RMSE_0 = mean_squared_error(target_valid_0, predicted_target_0)**0.5\n",
    "print('Средний текущий запас сырья', geo_pm0)\n",
    "print('Средний предсказанный запас сырья', geo_pred_target_m0)\n",
    "print('RMSE-0 ', RMSE_0)"
   ]
  },
  {
   "cell_type": "code",
   "execution_count": 28,
   "metadata": {},
   "outputs": [
    {
     "name": "stdout",
     "output_type": "stream",
     "text": [
      "Средний текущий запас сырья 68.82500000000002\n",
      "Средний предсказанный запас сырья 68.65786052898808\n",
      "RMSE-1  0.8926018653538472\n"
     ]
    }
   ],
   "source": [
    "#Второй регион\n",
    "model_1 = LinearRegression()\n",
    "model_1.fit(features_train_1, target_train_1)\n",
    "predicted_target_1 = model_1.predict(features_valid_1)\n",
    "\n",
    "geo_pm1 = geo_1['product'].mean()\n",
    "geo_pred_target_m1 = predicted_target_1.mean()\n",
    "RMSE_1 = mean_squared_error(target_valid_1, predicted_target_1)**0.5\n",
    "print('Средний текущий запас сырья', geo_pm1)\n",
    "print('Средний предсказанный запас сырья', geo_pred_target_m1)\n",
    "print('RMSE-1 ', RMSE_1)\n"
   ]
  },
  {
   "cell_type": "code",
   "execution_count": 29,
   "metadata": {},
   "outputs": [
    {
     "name": "stdout",
     "output_type": "stream",
     "text": [
      "Средний текущий запас сырья 95.00000000000004\n",
      "Средний предсказанный запас сырья 95.04059153913464\n",
      "RMSE-2  40.02536281319398\n"
     ]
    }
   ],
   "source": [
    "#Третий регион\n",
    "model_2 = LinearRegression()\n",
    "model_2.fit(features_train_2, target_train_2)\n",
    "predicted_target_2 = model_2.predict(features_valid_2)\n",
    "\n",
    "geo_pm2 = geo_2['product'].mean()\n",
    "geo_pred_target_m2 = predicted_target_2.mean()\n",
    "RMSE_2 = mean_squared_error(target_valid_2, predicted_target_2)**0.5\n",
    "print('Средний текущий запас сырья', geo_pm2)\n",
    "print('Средний предсказанный запас сырья', geo_pred_target_m2)\n",
    "print('RMSE-2 ', RMSE_2)"
   ]
  },
  {
   "cell_type": "markdown",
   "metadata": {},
   "source": [
    "<div class=\"alert alert-block alert-warning\"><b>Комментарий ревьюера</b>\n",
    "    \n",
    "<b>Совет:</b><br>\n",
    "Для каждого региона действия повторяются, в таких случаях удобно использовать функцию. Это позволит не писать один и тот же код несколько раз и избегать ошибок. В случае необходимых изменений, достаточно поправить функцию, а не вносить правки несколько раз. \n",
    "</div>"
   ]
  },
  {
   "cell_type": "markdown",
   "metadata": {},
   "source": [
    "<a id='h32'></a>\n",
    "### Вывод по шагу 3: \n",
    "\n",
    "\n",
    "Лучший параметр RMSE показывает модель во 2 регионе, а наибольший средний запас сырья в 3 регионе."
   ]
  },
  {
   "cell_type": "markdown",
   "metadata": {},
   "source": [
    "<div class=\"alert alert-block alert-success\"><b>Комментарий ревьюера</b>\n",
    "    \n",
    "<b>Успех:</b><br>\n",
    "    👍 Молодец, что обращаешь внимание на размер ошибки, в двух других регионах она катастрофически большая - почти 40% от  среднего запаса. Если ошибка (RMSE) меньше, значит прогноз точнее и модель лучше обучилась. Если посмотреть корреляцию между признаками и целевой переменной, можно понять почему в одном из регионов ошибка минимальная. Высокий коэффициент корреляции `f2` и целевой переменной говорит о сильной прямой линейной зависимости.\n",
    "    \n",
    "</div>  "
   ]
  },
  {
   "cell_type": "markdown",
   "metadata": {},
   "source": [
    "<a id='h4'></a>\n",
    "## Подготовка к расчёту прибыли"
   ]
  },
  {
   "cell_type": "markdown",
   "metadata": {},
   "source": [
    "При разведке региона исследуют 500 точек, из которых с помощью машинного обучения выбирают 200 лучших для разработки.\n",
    "Бюджет на разработку скважин в регионе — 10 млрд рублей.При нынешних ценах один баррель сырья приносит 450 рублей дохода. Доход с каждой единицы продукта составляет 450 тыс. рублей, поскольку объём указан в тысячах баррелей."
   ]
  },
  {
   "cell_type": "code",
   "execution_count": 30,
   "metadata": {},
   "outputs": [],
   "source": [
    "extraction_points = 500\n",
    "extraction_best_point = 200\n",
    "budget = 10000000000 / 1000000\n",
    "income_1_bar = 450000 / 1000000\n",
    "product_income = 450000 #for 1000 bar \n",
    "loss_probability = 0.025"
   ]
  },
  {
   "cell_type": "markdown",
   "metadata": {},
   "source": [
    "<div class=\"alert alert-block alert-warning\"><b>Комментарий ревьюера</b>\n",
    "    \n",
    "<b>Совет:</b><br>\n",
    "* Согласно руководству по написанию кода на Python [PEP-8](https://pythonworld.ru/osnovy/pep-8-rukovodstvo-po-napisaniyu-koda-na-python.html#section-29) названия констант принято задавать заглавными буквами, например, `BUDGET`. А еще важно объявлять их в начале проекта после импортов, затем загрузка данных. Так проще будет их найти и изменить, если возникнет такая необходимость.\n",
    "* Для записи больших чисел и более удобного чтения, чтобы не запутаться в нулях, можно использовать такую запись: `10_000_000_000` или `10e9`, что означает 10 * 10**9.    \n",
    "</div>"
   ]
  },
  {
   "cell_type": "code",
   "execution_count": 31,
   "metadata": {},
   "outputs": [
    {
     "name": "stdout",
     "output_type": "stream",
     "text": [
      "Точка безубыточности 0.00011111111111111112\n"
     ]
    }
   ],
   "source": [
    "#Объём сырья для безубыточной разработки новой скважины:\n",
    "break_even_point = budget / extraction_best_point / product_income\n",
    "print('Точка безубыточности', break_even_point)"
   ]
  },
  {
   "cell_type": "markdown",
   "metadata": {},
   "source": [
    "<div class=\"alert alert-block alert-warning\"><b>Комментарий ревьюера</b>\n",
    "    \n",
    "<b>Совет:</b><br>\n",
    "`budget` у тебя выражен в млн, а `product_income` - нет. Корректнее делить на `income_1_bar`, кот-й выражен в млн.\n",
    "</div>"
   ]
  },
  {
   "cell_type": "code",
   "execution_count": 32,
   "metadata": {},
   "outputs": [
    {
     "name": "stdout",
     "output_type": "stream",
     "text": [
      "Средний объем запасов в 0-м регионе:  92.50000000000001\n",
      "Средний объем запасов в 1-м регионе:  68.82500000000002\n",
      "Средний объем запасов в 2-м регионе:  95.00000000000004\n"
     ]
    }
   ],
   "source": [
    "print('Средний объем запасов в 0-м регионе: ',geo_0['product'].mean())\n",
    "print('Средний объем запасов в 1-м регионе: ', geo_1['product'].mean())\n",
    "print('Средний объем запасов в 2-м регионе: ', geo_2['product'].mean())"
   ]
  },
  {
   "cell_type": "markdown",
   "metadata": {},
   "source": [
    "<a id='h41'></a>\n",
    "### Вывод по шагу 4:"
   ]
  },
  {
   "cell_type": "markdown",
   "metadata": {},
   "source": [
    "Средний обьем запасов в каждом из регионов в 1 регионе - 92.5, во втором - 68.82, в третьем регионе - 95.0, ниже точки безубыточности равной 111.111."
   ]
  },
  {
   "cell_type": "markdown",
   "metadata": {},
   "source": [
    "<div class=\"alert alert-block alert-success\"><b>Комментарий ревьюера </b><br>\n",
    "    \n",
    "Верно. В каждом регионе средний объем сырья меньше достаточного объёма для безубыточности, поэтому точность прогноза имеет большое значение и без модели нам не обойтись. <br>   \n",
    "\n",
    "Есть 25 000 точек, из которых в результате надо выбрать 200. В результате,  среди этих скважин могут быть скважины с достаточным и недостаточным запасом сырья. <br>\n",
    "    \n",
    "Имеено техника \"Bootstrap\" опираясь на предсказания позволяет оценить риск убытков при случайным отборе 500 точек. 1000 раз отбирая случайным образом точки, считаем какой % случаев принесет убытки. \n",
    "    \n",
    "   \n",
    "</div>"
   ]
  },
  {
   "cell_type": "markdown",
   "metadata": {},
   "source": [
    "<a id='h5'></a>\n",
    "## Расчёт прибыли и рисков "
   ]
  },
  {
   "cell_type": "code",
   "execution_count": 33,
   "metadata": {},
   "outputs": [],
   "source": [
    "# создаём функцию для подсчета прибыли\n",
    "def profit(target, pred, count, budget):\n",
    "    bore_sort = pred.sort_values(ascending=False)\n",
    "    picked= target[bore_sort.index][:count] \n",
    "    reven = income_1_bar * picked.sum() \n",
    "    profit = reven - budget \n",
    "    return profit"
   ]
  },
  {
   "cell_type": "markdown",
   "metadata": {},
   "source": [
    "<div class=\"alert alert-block alert-success\"><b>Комментарий ревьюера </b>\n",
    "    \n",
    "<b>Успех:</b><br>\n",
    "👍 Функция прибыли в порядке.\n",
    "</div>"
   ]
  },
  {
   "cell_type": "code",
   "execution_count": 34,
   "metadata": {},
   "outputs": [],
   "source": [
    "def check_region(target, predictions):\n",
    "    predictions = pd.Series(predictions)\n",
    "    values = []\n",
    "    state = np.random.RandomState(12345)\n",
    "    for i in range(1000):\n",
    "        target_subsample = target.reset_index(drop=True).sample(n=extraction_points, replace=True, random_state=state)\n",
    "        pred_subsample = predictions[target_subsample.index]\n",
    "        value = profit(target_subsample, pred_subsample, extraction_best_point, budget)\n",
    "        values.append(value)\n",
    "\n",
    "    # считаем количество убытков\n",
    "    values = pd.Series(values)\n",
    "    risk = (values < 0).mean()\n",
    "\n",
    "    # считаем доверительный интервал\n",
    "    lower = values.quantile(0.025)\n",
    "    upper = values.quantile(0.975)\n",
    "\n",
    "    # выводим результат\n",
    "    print('Средняя прибыль в регионе:', round(values.mean(), 2), 'млн. руб')\n",
    "    print(f'95% доверительный интервал: ({lower}, {upper})')\n",
    "    print('Риск убытков: {:.1%}'.format((values < 0).mean()))\n",
    "\n",
    "    # сравниваем с необходимым риском\n",
    "    if (risk * 100) <= 2.5:\n",
    "          print('Риск убытков меньше необходимого значения. Регион можно выбрать для разработки.')\n",
    "    else:\n",
    "          print('Риск убытков больше необходимого значения.')      "
   ]
  },
  {
   "cell_type": "markdown",
   "metadata": {},
   "source": [
    "<div class=\"alert alert-block alert-success\"><b>Комментарий ревьюера</b>\n",
    "    \n",
    "<b>Успех:</b><br>\n",
    "    👍 Отлично, что при семплировании данных устанавливаешь `replace = True`, это необходимо чтобы наблюдение в выборку попало несколько раз, что позволяет добиться независимости при каждом выборе, иначе вероятность достать элемент из выборки будет с каждым разом увеличиваться. Чем больше размер подвыборки, тем выраженнее будет зависимость, поэтому без возврата не удастся получить разнообразные варианты, а подвыборку бОльшего размера вообще не получить.\n",
    "\n",
    "Почему именно так. Вспомним, что выборка - это некоторое представление о генеральной совокупности, ее часть. Значит, что где-то в регионе существуют и другие потенциальные точки добычи нефти, о которых мы можем не знать, но они являются частью этой генеральной совокупности. В этом случае повторяющиеся наблюдения можно считать разными точками добычи из всей генеральной совокупности с близкими характеристиками.\n",
    "    \n",
    "</div>  "
   ]
  },
  {
   "cell_type": "code",
   "execution_count": 35,
   "metadata": {},
   "outputs": [
    {
     "name": "stdout",
     "output_type": "stream",
     "text": [
      "Средняя прибыль в регионе: 514.26 млн. руб\n",
      "95% доверительный интервал: (-16.041709134708928, 1055.7298739531043)\n",
      "Риск убытков: 3.2%\n",
      "Риск убытков больше необходимого значения.\n"
     ]
    }
   ],
   "source": [
    "check_region(target_valid_0, predicted_target_0)\n"
   ]
  },
  {
   "cell_type": "code",
   "execution_count": 36,
   "metadata": {},
   "outputs": [
    {
     "name": "stdout",
     "output_type": "stream",
     "text": [
      "Средняя прибыль в регионе: 489.94 млн. руб\n",
      "95% доверительный интервал: (82.35348420987361, 903.6774010184937)\n",
      "Риск убытков: 0.6%\n",
      "Риск убытков меньше необходимого значения. Регион можно выбрать для разработки.\n"
     ]
    }
   ],
   "source": [
    "raspred_1 = check_region(target_valid_1, predicted_target_1)\n",
    "raspred_1"
   ]
  },
  {
   "cell_type": "markdown",
   "metadata": {},
   "source": [
    "<div class=\"alert alert-block alert-success\"><b>Комментарий ревьюера </b><br>\n",
    "    \n",
    "\n",
    "Что такое  `quantile()` очень хорошо объясняет пример - 0.5-й квантиль, это, по сути, медиана, т.е. функция `quantile(0.5)` должна вернуть такое значение, которое меньше ровно половины элементов массива.<br>  \n",
    "`quantile(0.025)` находит такое значение прибыли,  меньше которого только 2,5% элементов. И если это значение прибыли положительное, значит и риск меньше 2,5%. <br>\n",
    "Выбирая наугад 1000 раз 500 случайных скважин и отбирая из них 200 лучших, убыток получаем менее, чем в 2,5% случаев.  \n",
    "    \n",
    "   \n",
    "</div>"
   ]
  },
  {
   "cell_type": "code",
   "execution_count": 37,
   "metadata": {},
   "outputs": [
    {
     "name": "stdout",
     "output_type": "stream",
     "text": [
      "Средняя прибыль в регионе: 416.02 млн. руб\n",
      "95% доверительный интервал: (-159.79631679365286, 978.7860422714596)\n",
      "Риск убытков: 8.7%\n",
      "Риск убытков больше необходимого значения.\n"
     ]
    }
   ],
   "source": [
    "raspred_2 = check_region(target_valid_2, predicted_target_2)"
   ]
  },
  {
   "cell_type": "markdown",
   "metadata": {},
   "source": [
    "<a id='h51'></a>\n",
    "### Вывод по шагу 5: "
   ]
  },
  {
   "cell_type": "markdown",
   "metadata": {},
   "source": [
    "\n",
    "Из первого региона можно получать наибольшую прибыль, но Риск убытков: 3.2%, что не соответствует условию задачи меньше 2.5%.\n",
    "Хоть второй регион и является наименьшим по количеству запасов, но и Среднеквадратичная ошибка RMSE в этом регионе наименьшая 0.89, вычисленный риск убытков в этом регионе 0.6%. \n",
    "И именно этот регион и предлагается для разработки на основании проведенного исследования"
   ]
  },
  {
   "cell_type": "markdown",
   "metadata": {},
   "source": [
    "<div class=\"alert alert-block alert-success\"><b>Комментарий ревьюера</b>\n",
    "    \n",
    "<b>Успех:</b><br>\n",
    "    👍 Все расчеты правильные и регион выбран абсолютно верно. В этом регионе минимальный % риска, т.к. модель предсказывает хорошо (ошибка минимальная). А при выборе 200 лучших скважин мы опираемся на предсказания, поэтому ничего удивительного  -  регион победил!)\n",
    "    \n",
    "</div>  "
   ]
  },
  {
   "cell_type": "markdown",
   "metadata": {},
   "source": [
    "<a id='h6'></a>\n",
    "## Общий вывод."
   ]
  },
  {
   "cell_type": "markdown",
   "metadata": {},
   "source": [
    "В данном проекте мы изучили содержимое таблиц. Убедились в отсутствии пропусков и дубликатов, избавились от фиктивных признаков. <br>\n",
    "Разделили данные каждого региона на обучающую и валидационную выборки (в соотношении 75:25), а также на признаки и целевой признак. Привели признаки к единому масштабу для данных каждого региона. <br>\n",
    "Рассчитали Средний предсказанный запас сырья и Среднеквадратичная ошибку для каждого региона. <br>\n",
    "И также точку безубыточности<br>\n",
    "Расчёт прибыль и риски для каждого региона. <br>\n",
    "Определили, что второй регион можно выбрать для разработки так как он соответствует условию по рискам меньше 2.5%"
   ]
  },
  {
   "cell_type": "markdown",
   "metadata": {},
   "source": [
    "<div style=\"background: #cceeaa; padding: 5px; border: 1px solid green; border-radius: 5px;\">\n",
    "<font color='green'> \n",
    "    <b><u>Общий вывод по проекту</u></b>\n",
    "<font color='green'><br> \n",
    "\n",
    "\n",
    "Илья, приложено много усилий, ты - молодец! Крепкий проект! Критичных ошибок нет. Есть несколько важных моментов, которые я отметила и которые можно было бы улучшить, подсказки ты найдешь в моих комментариях. \n",
    "\n",
    "**Что мне особенно понравилось в твоей работе:**:\n",
    " \n",
    "* Хорошее знакомство с данными.\n",
    "* Рассчитан средний запас предсказанного сырья и размер ошибки для каждого региона.\n",
    "* Рассчитан достаточный объём сырья для безубыточной разработки новой скважины.    \n",
    "* Написана функция для расчёта прибыли.   \n",
    "* Рассчитаны риски, прибыль и доверительный интервал для каждого региона.   \n",
    "* Есть выводы в каждом блоке.    \n",
    "* Код логичный и понятный. \n",
    "* Проект полностью соответствует плану!<br>\n",
    "\n",
    "Очень рекомендую посмотреть видео от Глеба Михайлова!)<br>\n",
    "**[Линейная Регрессия для Дата Саентиста](https://www.youtube.com/watch?v=QZJ94igWVxQ&t=19s)**     <br> \n",
    "    \n",
    "**[Вот здесь есть отличное объяснение с примером по мультиколлинеарности.](https://habr.com/ru/company/akbarsdigital/blog/592493/)** <br>\n",
    "    \n",
    "**[И здесь интересная статься - коротко о мультиколлинеарности и что с этим делать.](https://medium.com/analytics-vidhya/removing-multi-collinearity-for-linear-and-logistic-regression-f1fa744f3666)** <br>   \n",
    "   \n",
    "**[Если интересна статистика, можно посмотреть короткие видео-лекции Карпова на степике](https://stepik.org/lesson/8095/step/1?unit=1371)**    <br>\n",
    "    \n",
    "\n",
    "😊Буду рада, если смогла быть тебе полезной!)<br> \n",
    "А я, в свою очередь, с удовольствием принимаю проект!<br> \n",
    "**И желаю тебе удачи в дальнейшей учебе!**😉"
   ]
  },
  {
   "cell_type": "code",
   "execution_count": null,
   "metadata": {},
   "outputs": [],
   "source": []
  },
  {
   "cell_type": "markdown",
   "metadata": {},
   "source": [
    "## Чек-лист готовности проекта"
   ]
  },
  {
   "cell_type": "markdown",
   "metadata": {},
   "source": [
    "Поставьте 'x' в выполненных пунктах. Далее нажмите Shift+Enter."
   ]
  },
  {
   "cell_type": "markdown",
   "metadata": {},
   "source": [
    "- [x]  Jupyter Notebook открыт\n",
    "- []  Весь код выполняется без ошибок\n",
    "- []  Ячейки с кодом расположены в порядке исполнения\n",
    "- []  Выполнен шаг 1: данные подготовлены\n",
    "- [ ]  Выполнен шаг 2: модели обучены и проверены\n",
    "    - [ ]  Данные корректно разбиты на обучающую и валидационную выборки\n",
    "    - [ ]  Модели обучены, предсказания сделаны\n",
    "    - [ ]  Предсказания и правильные ответы на валидационной выборке сохранены\n",
    "    - [ ]  На экране напечатаны результаты\n",
    "    - [ ]  Сделаны выводы\n",
    "- [ ]  Выполнен шаг 3: проведена подготовка к расчёту прибыли\n",
    "    - [ ]  Для всех ключевых значений созданы константы Python\n",
    "    - [ ]  Посчитано минимальное среднее количество продукта в месторождениях региона, достаточное для разработки\n",
    "    - [ ]  По предыдущему пункту сделаны выводы\n",
    "    - [ ]  Написана функция расчёта прибыли\n",
    "- [ ]  Выполнен шаг 4: посчитаны риски и прибыль\n",
    "    - [ ]  Проведена процедура *Bootstrap*\n",
    "    - [ ]  Все параметры бутстрепа соответствуют условию\n",
    "    - [ ]  Найдены все нужные величины\n",
    "    - [ ]  Предложен регион для разработки месторождения\n",
    "    - [ ]  Выбор региона обоснован"
   ]
  },
  {
   "cell_type": "code",
   "execution_count": null,
   "metadata": {},
   "outputs": [],
   "source": []
  },
  {
   "cell_type": "code",
   "execution_count": null,
   "metadata": {},
   "outputs": [],
   "source": []
  }
 ],
 "metadata": {
  "ExecuteTimeLog": [
   {
    "duration": 8032,
    "start_time": "2023-01-25T10:05:26.169Z"
   },
   {
    "duration": 1528,
    "start_time": "2023-01-25T10:05:35.095Z"
   },
   {
    "duration": 14,
    "start_time": "2023-01-25T10:05:49.954Z"
   },
   {
    "duration": 4,
    "start_time": "2023-01-25T10:06:05.706Z"
   },
   {
    "duration": 5,
    "start_time": "2023-01-25T10:06:29.807Z"
   },
   {
    "duration": 537,
    "start_time": "2023-01-25T10:08:08.010Z"
   },
   {
    "duration": 205,
    "start_time": "2023-01-25T10:08:08.549Z"
   },
   {
    "duration": 200,
    "start_time": "2023-01-25T10:08:08.889Z"
   },
   {
    "duration": 11,
    "start_time": "2023-01-25T10:09:47.692Z"
   },
   {
    "duration": 10,
    "start_time": "2023-01-25T10:10:03.175Z"
   },
   {
    "duration": 10,
    "start_time": "2023-01-25T10:10:13.074Z"
   },
   {
    "duration": 18,
    "start_time": "2023-01-25T10:10:40.117Z"
   },
   {
    "duration": 144,
    "start_time": "2023-01-25T10:11:11.014Z"
   },
   {
    "duration": 162,
    "start_time": "2023-01-25T10:11:24.735Z"
   },
   {
    "duration": 237,
    "start_time": "2023-01-25T10:11:55.870Z"
   },
   {
    "duration": 142,
    "start_time": "2023-01-25T10:12:13.726Z"
   },
   {
    "duration": 250,
    "start_time": "2023-01-25T10:12:33.305Z"
   },
   {
    "duration": 10,
    "start_time": "2023-01-25T10:12:33.656Z"
   },
   {
    "duration": 210,
    "start_time": "2023-01-25T10:12:34.185Z"
   },
   {
    "duration": 10,
    "start_time": "2023-01-25T10:13:59.185Z"
   },
   {
    "duration": 10,
    "start_time": "2023-01-25T10:14:14.764Z"
   },
   {
    "duration": 5,
    "start_time": "2023-01-25T10:14:51.397Z"
   },
   {
    "duration": 18,
    "start_time": "2023-01-25T10:15:54.875Z"
   },
   {
    "duration": 889,
    "start_time": "2023-01-25T10:16:02.921Z"
   },
   {
    "duration": 21,
    "start_time": "2023-01-25T10:16:13.594Z"
   },
   {
    "duration": 21,
    "start_time": "2023-01-25T10:16:16.595Z"
   },
   {
    "duration": 61,
    "start_time": "2023-01-25T10:16:43.405Z"
   },
   {
    "duration": 49,
    "start_time": "2023-01-25T10:17:47.414Z"
   },
   {
    "duration": 42,
    "start_time": "2023-01-25T10:18:02.662Z"
   },
   {
    "duration": 41,
    "start_time": "2023-01-25T10:18:14.121Z"
   },
   {
    "duration": 51,
    "start_time": "2023-01-25T10:24:35.546Z"
   },
   {
    "duration": 8,
    "start_time": "2023-01-25T10:26:07.675Z"
   },
   {
    "duration": 7,
    "start_time": "2023-01-25T10:26:21.966Z"
   },
   {
    "duration": 2192,
    "start_time": "2023-01-25T10:26:28.121Z"
   },
   {
    "duration": 1222,
    "start_time": "2023-01-25T10:26:30.315Z"
   },
   {
    "duration": 254,
    "start_time": "2023-01-25T10:26:32.882Z"
   },
   {
    "duration": 11,
    "start_time": "2023-01-25T10:26:33.876Z"
   },
   {
    "duration": 46,
    "start_time": "2023-01-25T10:26:34.162Z"
   },
   {
    "duration": 221,
    "start_time": "2023-01-25T10:26:34.348Z"
   },
   {
    "duration": 10,
    "start_time": "2023-01-25T10:26:34.571Z"
   },
   {
    "duration": 44,
    "start_time": "2023-01-25T10:26:34.690Z"
   },
   {
    "duration": 225,
    "start_time": "2023-01-25T10:26:34.864Z"
   },
   {
    "duration": 10,
    "start_time": "2023-01-25T10:26:35.090Z"
   },
   {
    "duration": 14,
    "start_time": "2023-01-25T10:26:35.219Z"
   },
   {
    "duration": 88,
    "start_time": "2023-01-25T10:26:35.407Z"
   },
   {
    "duration": 72,
    "start_time": "2023-01-25T10:26:35.574Z"
   },
   {
    "duration": 53,
    "start_time": "2023-01-25T10:26:35.763Z"
   },
   {
    "duration": 60,
    "start_time": "2023-01-25T10:27:07.702Z"
   },
   {
    "duration": 63,
    "start_time": "2023-01-25T10:27:10.525Z"
   },
   {
    "duration": 74,
    "start_time": "2023-01-25T10:28:02.668Z"
   },
   {
    "duration": 71,
    "start_time": "2023-01-25T10:28:26.191Z"
   },
   {
    "duration": 100,
    "start_time": "2023-01-25T10:28:35.336Z"
   },
   {
    "duration": 12,
    "start_time": "2023-01-25T10:28:42.353Z"
   },
   {
    "duration": 9,
    "start_time": "2023-01-25T10:28:50.114Z"
   },
   {
    "duration": 9,
    "start_time": "2023-01-25T10:29:12.084Z"
   },
   {
    "duration": 16,
    "start_time": "2023-01-25T10:29:19.045Z"
   },
   {
    "duration": 15,
    "start_time": "2023-01-25T10:29:41.095Z"
   },
   {
    "duration": 9,
    "start_time": "2023-01-25T10:31:38.989Z"
   },
   {
    "duration": 17,
    "start_time": "2023-01-25T10:32:00.911Z"
   },
   {
    "duration": 94,
    "start_time": "2023-01-25T10:34:28.057Z"
   },
   {
    "duration": 93,
    "start_time": "2023-01-25T10:37:36.063Z"
   },
   {
    "duration": 4,
    "start_time": "2023-01-25T10:39:57.944Z"
   },
   {
    "duration": 7,
    "start_time": "2023-01-25T10:41:11.351Z"
   },
   {
    "duration": 9,
    "start_time": "2023-01-25T10:43:10.085Z"
   },
   {
    "duration": 78,
    "start_time": "2023-01-25T10:44:04.321Z"
   },
   {
    "duration": 40,
    "start_time": "2023-01-25T11:03:42.975Z"
   },
   {
    "duration": 4,
    "start_time": "2023-01-25T11:04:02.913Z"
   },
   {
    "duration": 4,
    "start_time": "2023-01-25T11:04:26.078Z"
   },
   {
    "duration": 4,
    "start_time": "2023-01-25T11:04:26.473Z"
   },
   {
    "duration": 34,
    "start_time": "2023-01-25T11:10:28.942Z"
   },
   {
    "duration": 4,
    "start_time": "2023-01-25T11:10:29.417Z"
   },
   {
    "duration": 4,
    "start_time": "2023-01-25T11:10:29.971Z"
   },
   {
    "duration": 4,
    "start_time": "2023-01-25T11:10:30.379Z"
   },
   {
    "duration": 44,
    "start_time": "2023-01-25T12:45:57.948Z"
   },
   {
    "duration": 4,
    "start_time": "2023-01-25T12:45:58.941Z"
   },
   {
    "duration": 4,
    "start_time": "2023-01-25T12:45:59.383Z"
   },
   {
    "duration": 4,
    "start_time": "2023-01-25T12:45:59.840Z"
   },
   {
    "duration": 11,
    "start_time": "2023-01-25T12:46:14.593Z"
   },
   {
    "duration": 9,
    "start_time": "2023-01-25T12:49:14.446Z"
   },
   {
    "duration": 4,
    "start_time": "2023-01-25T12:49:23.387Z"
   },
   {
    "duration": 239,
    "start_time": "2023-01-25T12:49:24.844Z"
   },
   {
    "duration": 26,
    "start_time": "2023-01-25T12:49:31.648Z"
   },
   {
    "duration": 2,
    "start_time": "2023-01-25T12:50:27.278Z"
   },
   {
    "duration": 18,
    "start_time": "2023-01-25T12:50:27.712Z"
   },
   {
    "duration": 11,
    "start_time": "2023-01-25T12:51:04.024Z"
   },
   {
    "duration": 23,
    "start_time": "2023-01-25T12:52:15.979Z"
   },
   {
    "duration": 19,
    "start_time": "2023-01-25T12:58:55.644Z"
   },
   {
    "duration": 19,
    "start_time": "2023-01-25T12:59:46.401Z"
   },
   {
    "duration": 5,
    "start_time": "2023-01-25T13:23:32.257Z"
   },
   {
    "duration": 5,
    "start_time": "2023-01-25T13:24:31.811Z"
   },
   {
    "duration": 6,
    "start_time": "2023-01-25T13:24:59.393Z"
   },
   {
    "duration": 4,
    "start_time": "2023-01-25T13:26:48.635Z"
   },
   {
    "duration": 3,
    "start_time": "2023-01-25T13:26:51.226Z"
   },
   {
    "duration": 6,
    "start_time": "2023-01-25T13:27:05.651Z"
   },
   {
    "duration": 76,
    "start_time": "2023-01-25T13:27:24.981Z"
   },
   {
    "duration": 5,
    "start_time": "2023-01-25T13:27:25.391Z"
   },
   {
    "duration": 4,
    "start_time": "2023-01-25T13:27:30.348Z"
   },
   {
    "duration": 26,
    "start_time": "2023-01-25T13:27:31.307Z"
   },
   {
    "duration": 4,
    "start_time": "2023-01-25T13:27:44.985Z"
   },
   {
    "duration": 5,
    "start_time": "2023-01-25T13:28:29.287Z"
   },
   {
    "duration": 38,
    "start_time": "2023-01-25T13:28:30.215Z"
   },
   {
    "duration": 4,
    "start_time": "2023-01-25T13:28:39.003Z"
   },
   {
    "duration": 5,
    "start_time": "2023-01-25T13:33:27.121Z"
   },
   {
    "duration": 5,
    "start_time": "2023-01-25T13:34:04.452Z"
   },
   {
    "duration": 5,
    "start_time": "2023-01-25T13:34:11.719Z"
   },
   {
    "duration": 4,
    "start_time": "2023-01-25T13:39:14.183Z"
   },
   {
    "duration": 6,
    "start_time": "2023-01-25T13:39:46.304Z"
   },
   {
    "duration": 5,
    "start_time": "2023-01-25T13:40:29.451Z"
   },
   {
    "duration": 3,
    "start_time": "2023-01-25T13:40:45.524Z"
   },
   {
    "duration": 5,
    "start_time": "2023-01-25T13:40:58.405Z"
   },
   {
    "duration": 6,
    "start_time": "2023-01-25T13:41:09.693Z"
   },
   {
    "duration": 4,
    "start_time": "2023-01-25T13:41:47.904Z"
   },
   {
    "duration": 5,
    "start_time": "2023-01-25T13:42:00.051Z"
   },
   {
    "duration": 56,
    "start_time": "2023-01-28T18:00:16.188Z"
   },
   {
    "duration": 6514,
    "start_time": "2023-01-28T18:00:20.292Z"
   },
   {
    "duration": 1297,
    "start_time": "2023-01-28T18:00:26.808Z"
   },
   {
    "duration": 487,
    "start_time": "2023-01-28T18:00:28.107Z"
   },
   {
    "duration": 10,
    "start_time": "2023-01-28T18:00:28.596Z"
   },
   {
    "duration": 48,
    "start_time": "2023-01-28T18:00:28.607Z"
   },
   {
    "duration": 651,
    "start_time": "2023-01-28T18:00:28.656Z"
   },
   {
    "duration": 9,
    "start_time": "2023-01-28T18:00:29.309Z"
   },
   {
    "duration": 53,
    "start_time": "2023-01-28T18:00:29.319Z"
   },
   {
    "duration": 638,
    "start_time": "2023-01-28T18:00:29.373Z"
   },
   {
    "duration": 12,
    "start_time": "2023-01-28T18:00:30.014Z"
   },
   {
    "duration": 23,
    "start_time": "2023-01-28T18:00:30.028Z"
   },
   {
    "duration": 64,
    "start_time": "2023-01-28T18:00:30.052Z"
   },
   {
    "duration": 69,
    "start_time": "2023-01-28T18:00:30.118Z"
   },
   {
    "duration": 73,
    "start_time": "2023-01-28T18:00:30.189Z"
   },
   {
    "duration": 47,
    "start_time": "2023-01-28T18:00:30.264Z"
   },
   {
    "duration": 15,
    "start_time": "2023-01-28T18:00:30.313Z"
   },
   {
    "duration": 43,
    "start_time": "2023-01-28T18:00:30.329Z"
   },
   {
    "duration": 9,
    "start_time": "2023-01-28T18:00:36.257Z"
   },
   {
    "duration": 37,
    "start_time": "2023-01-28T18:00:37.465Z"
   },
   {
    "duration": 4,
    "start_time": "2023-01-28T18:00:40.221Z"
   },
   {
    "duration": 9,
    "start_time": "2023-01-28T18:00:40.533Z"
   },
   {
    "duration": 4,
    "start_time": "2023-01-28T18:04:11.969Z"
   },
   {
    "duration": 47,
    "start_time": "2023-01-28T18:05:28.225Z"
   },
   {
    "duration": 5,
    "start_time": "2023-01-28T18:05:36.117Z"
   },
   {
    "duration": 4,
    "start_time": "2023-01-28T18:05:41.777Z"
   },
   {
    "duration": 16,
    "start_time": "2023-01-28T18:06:33.438Z"
   },
   {
    "duration": 10,
    "start_time": "2023-01-28T18:07:30.238Z"
   },
   {
    "duration": 9,
    "start_time": "2023-01-28T18:07:35.470Z"
   },
   {
    "duration": 10,
    "start_time": "2023-01-28T18:08:05.107Z"
   },
   {
    "duration": 10,
    "start_time": "2023-01-28T18:08:31.266Z"
   },
   {
    "duration": 14,
    "start_time": "2023-01-28T18:08:33.554Z"
   },
   {
    "duration": 14,
    "start_time": "2023-01-28T18:08:36.195Z"
   },
   {
    "duration": 91,
    "start_time": "2023-01-28T18:09:50.466Z"
   },
   {
    "duration": 16,
    "start_time": "2023-01-28T18:12:52.789Z"
   },
   {
    "duration": 2,
    "start_time": "2023-01-28T18:13:10.985Z"
   },
   {
    "duration": 15,
    "start_time": "2023-01-28T18:13:30.744Z"
   },
   {
    "duration": 13,
    "start_time": "2023-01-28T18:13:41.266Z"
   },
   {
    "duration": 3,
    "start_time": "2023-01-28T18:21:31.361Z"
   },
   {
    "duration": 3,
    "start_time": "2023-01-28T18:21:36.581Z"
   },
   {
    "duration": 8,
    "start_time": "2023-01-28T18:38:17.604Z"
   },
   {
    "duration": 10,
    "start_time": "2023-01-28T18:39:05.973Z"
   },
   {
    "duration": 3,
    "start_time": "2023-01-28T18:39:09.085Z"
   },
   {
    "duration": 48,
    "start_time": "2023-01-28T18:39:09.509Z"
   },
   {
    "duration": 3,
    "start_time": "2023-01-28T18:40:13.133Z"
   },
   {
    "duration": 90,
    "start_time": "2023-01-28T18:40:16.160Z"
   },
   {
    "duration": 3,
    "start_time": "2023-01-28T18:41:05.037Z"
   },
   {
    "duration": 237,
    "start_time": "2023-01-28T18:41:05.313Z"
   },
   {
    "duration": 25,
    "start_time": "2023-01-28T18:41:50.169Z"
   },
   {
    "duration": 114,
    "start_time": "2023-01-28T18:42:13.137Z"
   },
   {
    "duration": 25,
    "start_time": "2023-01-28T18:42:28.505Z"
   },
   {
    "duration": 5,
    "start_time": "2023-01-28T18:42:36.537Z"
   },
   {
    "duration": 32,
    "start_time": "2023-01-28T18:52:20.247Z"
   },
   {
    "duration": 27,
    "start_time": "2023-01-28T18:54:53.116Z"
   },
   {
    "duration": 4,
    "start_time": "2023-01-28T18:56:08.816Z"
   },
   {
    "duration": 27,
    "start_time": "2023-01-28T18:56:13.516Z"
   },
   {
    "duration": 25,
    "start_time": "2023-01-28T18:56:45.053Z"
   },
   {
    "duration": 135,
    "start_time": "2023-01-28T18:56:52.121Z"
   },
   {
    "duration": 66,
    "start_time": "2023-01-28T18:56:57.384Z"
   },
   {
    "duration": 26,
    "start_time": "2023-01-28T18:57:35.373Z"
   },
   {
    "duration": 25,
    "start_time": "2023-01-28T18:57:40.569Z"
   },
   {
    "duration": 63,
    "start_time": "2023-01-28T19:03:06.235Z"
   },
   {
    "duration": 54,
    "start_time": "2023-01-28T19:04:09.398Z"
   },
   {
    "duration": 4,
    "start_time": "2023-01-28T19:40:43.429Z"
   },
   {
    "duration": 5,
    "start_time": "2023-01-28T19:44:52.579Z"
   },
   {
    "duration": 49,
    "start_time": "2023-01-28T19:45:49.703Z"
   },
   {
    "duration": 4,
    "start_time": "2023-01-28T19:45:58.479Z"
   },
   {
    "duration": 6,
    "start_time": "2023-01-28T19:49:18.686Z"
   },
   {
    "duration": 2,
    "start_time": "2023-01-28T19:49:35.384Z"
   },
   {
    "duration": 49,
    "start_time": "2023-01-28T19:51:46.868Z"
   },
   {
    "duration": 4,
    "start_time": "2023-01-28T20:00:00.807Z"
   },
   {
    "duration": 6,
    "start_time": "2023-01-28T20:03:34.643Z"
   },
   {
    "duration": 15,
    "start_time": "2023-01-28T20:08:18.610Z"
   },
   {
    "duration": 6,
    "start_time": "2023-01-28T20:08:49.128Z"
   },
   {
    "duration": 16,
    "start_time": "2023-01-28T20:08:51.064Z"
   },
   {
    "duration": 7,
    "start_time": "2023-01-28T20:10:47.829Z"
   },
   {
    "duration": 17,
    "start_time": "2023-01-28T20:10:48.264Z"
   },
   {
    "duration": 3,
    "start_time": "2023-01-28T20:11:24.569Z"
   },
   {
    "duration": 6,
    "start_time": "2023-01-28T20:11:24.933Z"
   },
   {
    "duration": 18,
    "start_time": "2023-01-28T20:11:26.037Z"
   },
   {
    "duration": 3,
    "start_time": "2023-01-28T20:14:29.953Z"
   },
   {
    "duration": 3,
    "start_time": "2023-01-28T20:14:30.210Z"
   },
   {
    "duration": 6,
    "start_time": "2023-01-28T20:14:30.632Z"
   },
   {
    "duration": 3,
    "start_time": "2023-01-28T20:14:31.949Z"
   },
   {
    "duration": 5,
    "start_time": "2023-01-28T20:14:32.309Z"
   },
   {
    "duration": 16,
    "start_time": "2023-01-28T20:14:32.892Z"
   },
   {
    "duration": 21,
    "start_time": "2023-01-28T20:14:33.393Z"
   },
   {
    "duration": 3,
    "start_time": "2023-01-28T20:14:50.733Z"
   },
   {
    "duration": 6,
    "start_time": "2023-01-28T20:14:50.929Z"
   },
   {
    "duration": 1403,
    "start_time": "2023-01-28T20:14:52.281Z"
   },
   {
    "duration": 1389,
    "start_time": "2023-01-28T20:14:53.696Z"
   },
   {
    "duration": 1437,
    "start_time": "2023-01-28T20:14:55.329Z"
   },
   {
    "duration": 3,
    "start_time": "2023-01-28T20:15:47.418Z"
   },
   {
    "duration": 3,
    "start_time": "2023-01-28T20:15:47.906Z"
   },
   {
    "duration": 7,
    "start_time": "2023-01-28T20:15:48.301Z"
   },
   {
    "duration": 4,
    "start_time": "2023-01-28T20:15:49.801Z"
   },
   {
    "duration": 6,
    "start_time": "2023-01-28T20:15:50.106Z"
   },
   {
    "duration": 1414,
    "start_time": "2023-01-28T20:15:50.638Z"
   },
   {
    "duration": 1409,
    "start_time": "2023-01-28T20:15:52.054Z"
   },
   {
    "duration": 1410,
    "start_time": "2023-01-28T20:15:53.464Z"
   },
   {
    "duration": 3,
    "start_time": "2023-01-28T20:16:52.650Z"
   },
   {
    "duration": 4,
    "start_time": "2023-01-28T20:16:52.949Z"
   },
   {
    "duration": 7,
    "start_time": "2023-01-28T20:16:53.365Z"
   },
   {
    "duration": 3,
    "start_time": "2023-01-28T20:16:55.042Z"
   },
   {
    "duration": 5,
    "start_time": "2023-01-28T20:16:55.262Z"
   },
   {
    "duration": 1460,
    "start_time": "2023-01-28T20:16:55.630Z"
   },
   {
    "duration": 1441,
    "start_time": "2023-01-28T20:16:57.091Z"
   },
   {
    "duration": 1397,
    "start_time": "2023-01-28T20:16:58.535Z"
   },
   {
    "duration": 5,
    "start_time": "2023-01-28T20:19:45.282Z"
   },
   {
    "duration": 10,
    "start_time": "2023-01-28T20:19:45.474Z"
   },
   {
    "duration": 19,
    "start_time": "2023-01-28T20:20:13.530Z"
   },
   {
    "duration": 5,
    "start_time": "2023-01-28T20:20:25.894Z"
   },
   {
    "duration": 19,
    "start_time": "2023-01-28T20:20:26.212Z"
   },
   {
    "duration": 1398,
    "start_time": "2023-01-28T20:21:54.067Z"
   },
   {
    "duration": 1459,
    "start_time": "2023-01-28T20:21:55.467Z"
   },
   {
    "duration": 9,
    "start_time": "2023-01-28T20:21:56.928Z"
   },
   {
    "duration": 1372,
    "start_time": "2023-01-28T20:22:03.855Z"
   },
   {
    "duration": 15,
    "start_time": "2023-01-28T20:22:17.703Z"
   },
   {
    "duration": 1388,
    "start_time": "2023-01-28T20:24:52.011Z"
   },
   {
    "duration": 1437,
    "start_time": "2023-01-28T20:24:53.401Z"
   },
   {
    "duration": 1462,
    "start_time": "2023-01-28T20:24:54.839Z"
   },
   {
    "duration": 6,
    "start_time": "2023-01-28T20:24:56.304Z"
   },
   {
    "duration": 28,
    "start_time": "2023-01-28T20:24:56.312Z"
   },
   {
    "duration": 1406,
    "start_time": "2023-01-28T20:25:27.959Z"
   },
   {
    "duration": 1504,
    "start_time": "2023-01-28T20:25:29.367Z"
   },
   {
    "duration": 1451,
    "start_time": "2023-01-28T20:25:30.873Z"
   },
   {
    "duration": 7,
    "start_time": "2023-01-28T20:25:36.324Z"
   },
   {
    "duration": 1390,
    "start_time": "2023-01-28T20:25:36.636Z"
   },
   {
    "duration": 1424,
    "start_time": "2023-01-28T20:25:38.029Z"
   },
   {
    "duration": 1539,
    "start_time": "2023-01-28T20:25:39.455Z"
   },
   {
    "duration": 7,
    "start_time": "2023-01-28T20:28:19.771Z"
   },
   {
    "duration": 1442,
    "start_time": "2023-01-28T20:28:20.007Z"
   },
   {
    "duration": 1391,
    "start_time": "2023-01-28T20:28:21.451Z"
   },
   {
    "duration": 1503,
    "start_time": "2023-01-28T20:28:22.843Z"
   },
   {
    "duration": 43,
    "start_time": "2023-01-28T20:29:25.998Z"
   },
   {
    "duration": 2,
    "start_time": "2023-01-28T20:33:36.556Z"
   },
   {
    "duration": 55,
    "start_time": "2023-01-28T20:36:11.243Z"
   },
   {
    "duration": 43,
    "start_time": "2023-01-28T20:42:14.364Z"
   },
   {
    "duration": 57,
    "start_time": "2023-01-28T20:42:22.627Z"
   },
   {
    "duration": 48,
    "start_time": "2023-01-28T20:42:41.045Z"
   },
   {
    "duration": 2056,
    "start_time": "2023-01-28T20:48:47.105Z"
   },
   {
    "duration": 3,
    "start_time": "2023-01-28T20:53:41.458Z"
   },
   {
    "duration": 5,
    "start_time": "2023-01-28T20:53:41.723Z"
   },
   {
    "duration": 1464,
    "start_time": "2023-01-28T20:53:42.394Z"
   },
   {
    "duration": 2102,
    "start_time": "2023-01-28T20:56:38.447Z"
   },
   {
    "duration": 2110,
    "start_time": "2023-01-28T20:57:00.852Z"
   },
   {
    "duration": 4,
    "start_time": "2023-01-28T20:57:02.965Z"
   },
   {
    "duration": 232,
    "start_time": "2023-01-28T20:57:02.971Z"
   },
   {
    "duration": 9,
    "start_time": "2023-01-28T20:57:03.205Z"
   },
   {
    "duration": 57,
    "start_time": "2023-01-28T20:57:03.216Z"
   },
   {
    "duration": 219,
    "start_time": "2023-01-28T20:57:03.274Z"
   },
   {
    "duration": 12,
    "start_time": "2023-01-28T20:57:03.495Z"
   },
   {
    "duration": 72,
    "start_time": "2023-01-28T20:57:03.509Z"
   },
   {
    "duration": 194,
    "start_time": "2023-01-28T20:57:03.583Z"
   },
   {
    "duration": 10,
    "start_time": "2023-01-28T20:57:03.779Z"
   },
   {
    "duration": 17,
    "start_time": "2023-01-28T20:57:03.791Z"
   },
   {
    "duration": 82,
    "start_time": "2023-01-28T20:57:03.810Z"
   },
   {
    "duration": 60,
    "start_time": "2023-01-28T20:57:03.894Z"
   },
   {
    "duration": 53,
    "start_time": "2023-01-28T20:57:03.956Z"
   },
   {
    "duration": 57,
    "start_time": "2023-01-28T20:57:04.010Z"
   },
   {
    "duration": 13,
    "start_time": "2023-01-28T20:57:04.070Z"
   },
   {
    "duration": 9,
    "start_time": "2023-01-28T20:57:04.150Z"
   },
   {
    "duration": 7,
    "start_time": "2023-01-28T20:57:05.210Z"
   },
   {
    "duration": 43,
    "start_time": "2023-01-28T20:57:05.381Z"
   },
   {
    "duration": 4,
    "start_time": "2023-01-28T20:57:05.742Z"
   },
   {
    "duration": 5,
    "start_time": "2023-01-28T20:57:05.923Z"
   },
   {
    "duration": 4,
    "start_time": "2023-01-28T20:57:06.273Z"
   },
   {
    "duration": 18,
    "start_time": "2023-01-28T20:57:06.463Z"
   },
   {
    "duration": 13,
    "start_time": "2023-01-28T20:57:06.657Z"
   },
   {
    "duration": 14,
    "start_time": "2023-01-28T20:57:06.832Z"
   },
   {
    "duration": 2,
    "start_time": "2023-01-28T20:57:07.365Z"
   },
   {
    "duration": 210,
    "start_time": "2023-01-28T20:57:07.540Z"
   },
   {
    "duration": 20,
    "start_time": "2023-01-28T20:57:07.753Z"
   },
   {
    "duration": 20,
    "start_time": "2023-01-28T20:57:07.949Z"
   },
   {
    "duration": 2,
    "start_time": "2023-01-28T20:57:08.628Z"
   },
   {
    "duration": 4,
    "start_time": "2023-01-28T20:57:08.802Z"
   },
   {
    "duration": 6,
    "start_time": "2023-01-28T20:57:09.013Z"
   },
   {
    "duration": 4,
    "start_time": "2023-01-28T20:57:09.875Z"
   },
   {
    "duration": 6,
    "start_time": "2023-01-28T20:57:10.054Z"
   },
   {
    "duration": 1379,
    "start_time": "2023-01-28T20:57:10.239Z"
   },
   {
    "duration": 1396,
    "start_time": "2023-01-28T20:57:11.620Z"
   },
   {
    "duration": 1505,
    "start_time": "2023-01-28T20:57:13.017Z"
   },
   {
    "duration": 10,
    "start_time": "2023-01-28T21:20:04.048Z"
   },
   {
    "duration": 7320,
    "start_time": "2023-01-29T07:10:11.965Z"
   },
   {
    "duration": 1336,
    "start_time": "2023-01-29T07:10:19.287Z"
   },
   {
    "duration": 667,
    "start_time": "2023-01-29T07:10:20.625Z"
   },
   {
    "duration": 9,
    "start_time": "2023-01-29T07:10:21.295Z"
   },
   {
    "duration": 70,
    "start_time": "2023-01-29T07:10:21.305Z"
   },
   {
    "duration": 276,
    "start_time": "2023-01-29T07:10:21.377Z"
   },
   {
    "duration": 9,
    "start_time": "2023-01-29T07:10:21.655Z"
   },
   {
    "duration": 56,
    "start_time": "2023-01-29T07:10:21.665Z"
   },
   {
    "duration": 305,
    "start_time": "2023-01-29T07:10:21.723Z"
   },
   {
    "duration": 9,
    "start_time": "2023-01-29T07:10:22.031Z"
   },
   {
    "duration": 21,
    "start_time": "2023-01-29T07:10:22.041Z"
   },
   {
    "duration": 94,
    "start_time": "2023-01-29T07:10:22.064Z"
   },
   {
    "duration": 63,
    "start_time": "2023-01-29T07:10:22.160Z"
   },
   {
    "duration": 72,
    "start_time": "2023-01-29T07:10:22.225Z"
   },
   {
    "duration": 60,
    "start_time": "2023-01-29T07:10:22.299Z"
   },
   {
    "duration": 13,
    "start_time": "2023-01-29T07:10:22.361Z"
   },
   {
    "duration": 14,
    "start_time": "2023-01-29T07:10:22.376Z"
   },
   {
    "duration": 23,
    "start_time": "2023-01-29T07:10:22.392Z"
   },
   {
    "duration": 50,
    "start_time": "2023-01-29T07:10:22.417Z"
   },
   {
    "duration": 6,
    "start_time": "2023-01-29T07:10:22.469Z"
   },
   {
    "duration": 12,
    "start_time": "2023-01-29T07:10:22.477Z"
   },
   {
    "duration": 6,
    "start_time": "2023-01-29T07:10:22.490Z"
   },
   {
    "duration": 24,
    "start_time": "2023-01-29T07:10:22.497Z"
   },
   {
    "duration": 21,
    "start_time": "2023-01-29T07:10:22.523Z"
   },
   {
    "duration": 14,
    "start_time": "2023-01-29T07:10:22.546Z"
   },
   {
    "duration": 4,
    "start_time": "2023-01-29T07:10:22.561Z"
   },
   {
    "duration": 147,
    "start_time": "2023-01-29T07:10:22.566Z"
   },
   {
    "duration": 112,
    "start_time": "2023-01-29T07:10:22.720Z"
   },
   {
    "duration": 28,
    "start_time": "2023-01-29T07:10:22.911Z"
   },
   {
    "duration": 1789,
    "start_time": "2023-01-29T07:10:22.941Z"
   },
   {
    "duration": 116,
    "start_time": "2023-01-29T07:10:24.731Z"
   },
   {
    "duration": 18,
    "start_time": "2023-01-29T07:10:24.850Z"
   },
   {
    "duration": 4,
    "start_time": "2023-01-29T07:10:24.870Z"
   },
   {
    "duration": 23,
    "start_time": "2023-01-29T07:10:24.876Z"
   },
   {
    "duration": 1372,
    "start_time": "2023-01-29T07:10:24.901Z"
   },
   {
    "duration": 1413,
    "start_time": "2023-01-29T07:10:26.275Z"
   },
   {
    "duration": 1272,
    "start_time": "2023-01-29T07:10:27.690Z"
   }
  ],
  "kernelspec": {
   "display_name": "Python 3 (ipykernel)",
   "language": "python",
   "name": "python3"
  },
  "language_info": {
   "codemirror_mode": {
    "name": "ipython",
    "version": 3
   },
   "file_extension": ".py",
   "mimetype": "text/x-python",
   "name": "python",
   "nbconvert_exporter": "python",
   "pygments_lexer": "ipython3",
   "version": "3.9.5"
  },
  "toc": {
   "base_numbering": 1,
   "nav_menu": {},
   "number_sections": true,
   "sideBar": true,
   "skip_h1_title": true,
   "title_cell": "Table of Contents",
   "title_sidebar": "Contents",
   "toc_cell": false,
   "toc_position": {},
   "toc_section_display": true,
   "toc_window_display": true
  }
 },
 "nbformat": 4,
 "nbformat_minor": 2
}
