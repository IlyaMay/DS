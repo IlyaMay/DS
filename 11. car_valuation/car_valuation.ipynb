{
 "cells": [
  {
   "cell_type": "markdown",
   "metadata": {},
   "source": [
    "<a id='h0'></a>\n",
    "# Определение стоимости автомобилей"
   ]
  },
  {
   "cell_type": "markdown",
   "metadata": {},
   "source": [
    "Сервис по продаже автомобилей с пробегом «Не бит, не крашен» разрабатывает приложение для привлечения новых клиентов. В нём можно быстро узнать рыночную стоимость своего автомобиля. В вашем распоряжении исторические данные: технические характеристики, комплектации и цены автомобилей. Вам нужно построить модель для определения стоимости. \n",
    "\n",
    "Заказчику важны:\n",
    "\n",
    "- качество предсказания;\n",
    "- скорость предсказания;\n",
    "- время обучения."
   ]
  },
  {
   "cell_type": "markdown",
   "metadata": {},
   "source": [
    "<b>Признаки:</b>\n",
    "\n",
    "DateCrawled — дата скачивания анкеты из базы <br>\n",
    "VehicleType — тип автомобильного кузова <br>\n",
    "RegistrationYear — год регистрации автомобиля<br>\n",
    "Gearbox — тип коробки передач <br>\n",
    "Power — мощность (л. с.)<br>\n",
    "Model — модель автомобиля<br>\n",
    "Kilometer — пробег (км)<br>\n",
    "RegistrationMonth — месяц регистрации автомобиля<br>\n",
    "FuelType — тип топлива<br>\n",
    "Brand — марка автомобиля<br>\n",
    "Repaired — была машина в ремонте или нет<br>\n",
    "DateCreated — дата создания анкеты<br>\n",
    "NumberOfPictures — количество фотографий автомобиля<br>\n",
    "PostalCode — почтовый индекс владельца анкеты (пользователя)<br>\n",
    "LastSeen — дата последней активности пользователя<br>\n",
    "\n",
    "<b>Целевой признак:</b>\n",
    "\n",
    "Price — цена (евро)<br>"
   ]
  },
  {
   "cell_type": "markdown",
   "metadata": {},
   "source": [
    "<h1>Содержание (кликабельное):</h1>\n",
    "    \n",
    "<a href='#h0'>Название прокта</a><br>\n",
    "<a href='#h1'>1. Подготовка данных</a><br>\n",
    "&nbsp;&nbsp;&nbsp;<a href='#h11'>1.1 Вывод</a><br>\n",
    "<a href='#h2'>2. Обучение моделей</a><br>\n",
    "&nbsp;&nbsp;&nbsp;<a href='#h21'>2.1 Вывод</a><br>\n",
    "<a href='#h3'>3. Анализ моделей</a><br>\n",
    "&nbsp;&nbsp;&nbsp;<a href='#h31'>3.1 Вывод</a><br>\n",
    "<a href='#h4'>4 Общий вывод</a><br>\n",
    "<a href='#h5'>5 Чек-лист проверки</a><br>"
   ]
  },
  {
   "cell_type": "markdown",
   "metadata": {},
   "source": [
    "Импорт библиотек"
   ]
  },
  {
   "cell_type": "code",
   "execution_count": 1,
   "metadata": {},
   "outputs": [],
   "source": [
    "import pandas as pd\n",
    "import numpy as np\n",
    "import re \n",
    "import matplotlib.pyplot as plt\n",
    "import seaborn as sns \n",
    "from sklearn.model_selection import train_test_split\n",
    "from sklearn.preprocessing import OrdinalEncoder\n",
    "from sklearn.preprocessing import StandardScaler\n",
    "from sklearn.linear_model import LinearRegression\n",
    "from sklearn.metrics import mean_squared_error\n",
    "from sklearn.tree import DecisionTreeRegressor\n",
    "from sklearn.model_selection import GridSearchCV\n",
    "from sklearn.model_selection import RandomizedSearchCV\n",
    "from catboost import CatBoostRegressor\n",
    "import lightgbm as lgb\n",
    "from sklearn.preprocessing import (\n",
    "    OneHotEncoder,\n",
    "    OrdinalEncoder,\n",
    "    StandardScaler\n",
    ")\n",
    "from sklearn.model_selection import cross_val_score\n",
    "from time import time\n",
    "\n",
    "pd.set_option('display.max_columns', None)\n",
    "\n",
    "state = 55555\n",
    "\n",
    "import warnings\n",
    "warnings.simplefilter(action='ignore', category=FutureWarning)"
   ]
  },
  {
   "cell_type": "code",
   "execution_count": 2,
   "metadata": {},
   "outputs": [
    {
     "name": "stdout",
     "output_type": "stream",
     "text": [
      "Collecting scikit-learn==1.1.3\n",
      "  Downloading scikit_learn-1.1.3-cp39-cp39-manylinux_2_17_x86_64.manylinux2014_x86_64.whl (30.8 MB)\n",
      "\u001b[K     |████████████████████████████████| 30.8 MB 49 kB/s  eta 0:00:01\n",
      "\u001b[?25hRequirement already satisfied: joblib>=1.0.0 in /opt/conda/lib/python3.9/site-packages (from scikit-learn==1.1.3) (1.1.0)\n",
      "Requirement already satisfied: numpy>=1.17.3 in /opt/conda/lib/python3.9/site-packages (from scikit-learn==1.1.3) (1.21.1)\n",
      "Requirement already satisfied: threadpoolctl>=2.0.0 in /opt/conda/lib/python3.9/site-packages (from scikit-learn==1.1.3) (3.1.0)\n",
      "Requirement already satisfied: scipy>=1.3.2 in /opt/conda/lib/python3.9/site-packages (from scikit-learn==1.1.3) (1.9.1)\n",
      "Installing collected packages: scikit-learn\n",
      "  Attempting uninstall: scikit-learn\n",
      "    Found existing installation: scikit-learn 0.24.1\n",
      "    Uninstalling scikit-learn-0.24.1:\n",
      "      Successfully uninstalled scikit-learn-0.24.1\n",
      "Successfully installed scikit-learn-1.1.3\n"
     ]
    }
   ],
   "source": [
    "!pip install scikit-learn==1.1.3 "
   ]
  },
  {
   "cell_type": "markdown",
   "metadata": {},
   "source": [
    "<a id='h1'></a>\n",
    "## Подготовка данных"
   ]
  },
  {
   "cell_type": "code",
   "execution_count": 3,
   "metadata": {},
   "outputs": [],
   "source": [
    "data = pd.read_csv('/datasets/autos.csv')"
   ]
  },
  {
   "cell_type": "code",
   "execution_count": 4,
   "metadata": {},
   "outputs": [],
   "source": [
    "data2 = pd.read_csv('/datasets/autos.csv')"
   ]
  },
  {
   "cell_type": "code",
   "execution_count": 5,
   "metadata": {},
   "outputs": [
    {
     "data": {
      "text/plain": [
       "'2016-04-07 14:36:58'"
      ]
     },
     "execution_count": 5,
     "metadata": {},
     "output_type": "execute_result"
    }
   ],
   "source": [
    "data2['DateCrawled'].max()"
   ]
  },
  {
   "cell_type": "code",
   "execution_count": 6,
   "metadata": {},
   "outputs": [
    {
     "data": {
      "text/html": [
       "<div>\n",
       "<style scoped>\n",
       "    .dataframe tbody tr th:only-of-type {\n",
       "        vertical-align: middle;\n",
       "    }\n",
       "\n",
       "    .dataframe tbody tr th {\n",
       "        vertical-align: top;\n",
       "    }\n",
       "\n",
       "    .dataframe thead th {\n",
       "        text-align: right;\n",
       "    }\n",
       "</style>\n",
       "<table border=\"1\" class=\"dataframe\">\n",
       "  <thead>\n",
       "    <tr style=\"text-align: right;\">\n",
       "      <th></th>\n",
       "      <th>DateCrawled</th>\n",
       "      <th>Price</th>\n",
       "      <th>VehicleType</th>\n",
       "      <th>RegistrationYear</th>\n",
       "      <th>Gearbox</th>\n",
       "      <th>Power</th>\n",
       "      <th>Model</th>\n",
       "      <th>Kilometer</th>\n",
       "      <th>RegistrationMonth</th>\n",
       "      <th>FuelType</th>\n",
       "      <th>Brand</th>\n",
       "      <th>Repaired</th>\n",
       "      <th>DateCreated</th>\n",
       "      <th>NumberOfPictures</th>\n",
       "      <th>PostalCode</th>\n",
       "      <th>LastSeen</th>\n",
       "    </tr>\n",
       "  </thead>\n",
       "  <tbody>\n",
       "    <tr>\n",
       "      <th>0</th>\n",
       "      <td>2016-03-24 11:52:17</td>\n",
       "      <td>480</td>\n",
       "      <td>NaN</td>\n",
       "      <td>1993</td>\n",
       "      <td>manual</td>\n",
       "      <td>0</td>\n",
       "      <td>golf</td>\n",
       "      <td>150000</td>\n",
       "      <td>0</td>\n",
       "      <td>petrol</td>\n",
       "      <td>volkswagen</td>\n",
       "      <td>NaN</td>\n",
       "      <td>2016-03-24 00:00:00</td>\n",
       "      <td>0</td>\n",
       "      <td>70435</td>\n",
       "      <td>2016-04-07 03:16:57</td>\n",
       "    </tr>\n",
       "    <tr>\n",
       "      <th>1</th>\n",
       "      <td>2016-03-24 10:58:45</td>\n",
       "      <td>18300</td>\n",
       "      <td>coupe</td>\n",
       "      <td>2011</td>\n",
       "      <td>manual</td>\n",
       "      <td>190</td>\n",
       "      <td>NaN</td>\n",
       "      <td>125000</td>\n",
       "      <td>5</td>\n",
       "      <td>gasoline</td>\n",
       "      <td>audi</td>\n",
       "      <td>yes</td>\n",
       "      <td>2016-03-24 00:00:00</td>\n",
       "      <td>0</td>\n",
       "      <td>66954</td>\n",
       "      <td>2016-04-07 01:46:50</td>\n",
       "    </tr>\n",
       "    <tr>\n",
       "      <th>2</th>\n",
       "      <td>2016-03-14 12:52:21</td>\n",
       "      <td>9800</td>\n",
       "      <td>suv</td>\n",
       "      <td>2004</td>\n",
       "      <td>auto</td>\n",
       "      <td>163</td>\n",
       "      <td>grand</td>\n",
       "      <td>125000</td>\n",
       "      <td>8</td>\n",
       "      <td>gasoline</td>\n",
       "      <td>jeep</td>\n",
       "      <td>NaN</td>\n",
       "      <td>2016-03-14 00:00:00</td>\n",
       "      <td>0</td>\n",
       "      <td>90480</td>\n",
       "      <td>2016-04-05 12:47:46</td>\n",
       "    </tr>\n",
       "    <tr>\n",
       "      <th>3</th>\n",
       "      <td>2016-03-17 16:54:04</td>\n",
       "      <td>1500</td>\n",
       "      <td>small</td>\n",
       "      <td>2001</td>\n",
       "      <td>manual</td>\n",
       "      <td>75</td>\n",
       "      <td>golf</td>\n",
       "      <td>150000</td>\n",
       "      <td>6</td>\n",
       "      <td>petrol</td>\n",
       "      <td>volkswagen</td>\n",
       "      <td>no</td>\n",
       "      <td>2016-03-17 00:00:00</td>\n",
       "      <td>0</td>\n",
       "      <td>91074</td>\n",
       "      <td>2016-03-17 17:40:17</td>\n",
       "    </tr>\n",
       "    <tr>\n",
       "      <th>4</th>\n",
       "      <td>2016-03-31 17:25:20</td>\n",
       "      <td>3600</td>\n",
       "      <td>small</td>\n",
       "      <td>2008</td>\n",
       "      <td>manual</td>\n",
       "      <td>69</td>\n",
       "      <td>fabia</td>\n",
       "      <td>90000</td>\n",
       "      <td>7</td>\n",
       "      <td>gasoline</td>\n",
       "      <td>skoda</td>\n",
       "      <td>no</td>\n",
       "      <td>2016-03-31 00:00:00</td>\n",
       "      <td>0</td>\n",
       "      <td>60437</td>\n",
       "      <td>2016-04-06 10:17:21</td>\n",
       "    </tr>\n",
       "    <tr>\n",
       "      <th>5</th>\n",
       "      <td>2016-04-04 17:36:23</td>\n",
       "      <td>650</td>\n",
       "      <td>sedan</td>\n",
       "      <td>1995</td>\n",
       "      <td>manual</td>\n",
       "      <td>102</td>\n",
       "      <td>3er</td>\n",
       "      <td>150000</td>\n",
       "      <td>10</td>\n",
       "      <td>petrol</td>\n",
       "      <td>bmw</td>\n",
       "      <td>yes</td>\n",
       "      <td>2016-04-04 00:00:00</td>\n",
       "      <td>0</td>\n",
       "      <td>33775</td>\n",
       "      <td>2016-04-06 19:17:07</td>\n",
       "    </tr>\n",
       "    <tr>\n",
       "      <th>6</th>\n",
       "      <td>2016-04-01 20:48:51</td>\n",
       "      <td>2200</td>\n",
       "      <td>convertible</td>\n",
       "      <td>2004</td>\n",
       "      <td>manual</td>\n",
       "      <td>109</td>\n",
       "      <td>2_reihe</td>\n",
       "      <td>150000</td>\n",
       "      <td>8</td>\n",
       "      <td>petrol</td>\n",
       "      <td>peugeot</td>\n",
       "      <td>no</td>\n",
       "      <td>2016-04-01 00:00:00</td>\n",
       "      <td>0</td>\n",
       "      <td>67112</td>\n",
       "      <td>2016-04-05 18:18:39</td>\n",
       "    </tr>\n",
       "    <tr>\n",
       "      <th>7</th>\n",
       "      <td>2016-03-21 18:54:38</td>\n",
       "      <td>0</td>\n",
       "      <td>sedan</td>\n",
       "      <td>1980</td>\n",
       "      <td>manual</td>\n",
       "      <td>50</td>\n",
       "      <td>other</td>\n",
       "      <td>40000</td>\n",
       "      <td>7</td>\n",
       "      <td>petrol</td>\n",
       "      <td>volkswagen</td>\n",
       "      <td>no</td>\n",
       "      <td>2016-03-21 00:00:00</td>\n",
       "      <td>0</td>\n",
       "      <td>19348</td>\n",
       "      <td>2016-03-25 16:47:58</td>\n",
       "    </tr>\n",
       "    <tr>\n",
       "      <th>8</th>\n",
       "      <td>2016-04-04 23:42:13</td>\n",
       "      <td>14500</td>\n",
       "      <td>bus</td>\n",
       "      <td>2014</td>\n",
       "      <td>manual</td>\n",
       "      <td>125</td>\n",
       "      <td>c_max</td>\n",
       "      <td>30000</td>\n",
       "      <td>8</td>\n",
       "      <td>petrol</td>\n",
       "      <td>ford</td>\n",
       "      <td>NaN</td>\n",
       "      <td>2016-04-04 00:00:00</td>\n",
       "      <td>0</td>\n",
       "      <td>94505</td>\n",
       "      <td>2016-04-04 23:42:13</td>\n",
       "    </tr>\n",
       "    <tr>\n",
       "      <th>9</th>\n",
       "      <td>2016-03-17 10:53:50</td>\n",
       "      <td>999</td>\n",
       "      <td>small</td>\n",
       "      <td>1998</td>\n",
       "      <td>manual</td>\n",
       "      <td>101</td>\n",
       "      <td>golf</td>\n",
       "      <td>150000</td>\n",
       "      <td>0</td>\n",
       "      <td>NaN</td>\n",
       "      <td>volkswagen</td>\n",
       "      <td>NaN</td>\n",
       "      <td>2016-03-17 00:00:00</td>\n",
       "      <td>0</td>\n",
       "      <td>27472</td>\n",
       "      <td>2016-03-31 17:17:06</td>\n",
       "    </tr>\n",
       "  </tbody>\n",
       "</table>\n",
       "</div>"
      ],
      "text/plain": [
       "           DateCrawled  Price  VehicleType  RegistrationYear Gearbox  Power  \\\n",
       "0  2016-03-24 11:52:17    480          NaN              1993  manual      0   \n",
       "1  2016-03-24 10:58:45  18300        coupe              2011  manual    190   \n",
       "2  2016-03-14 12:52:21   9800          suv              2004    auto    163   \n",
       "3  2016-03-17 16:54:04   1500        small              2001  manual     75   \n",
       "4  2016-03-31 17:25:20   3600        small              2008  manual     69   \n",
       "5  2016-04-04 17:36:23    650        sedan              1995  manual    102   \n",
       "6  2016-04-01 20:48:51   2200  convertible              2004  manual    109   \n",
       "7  2016-03-21 18:54:38      0        sedan              1980  manual     50   \n",
       "8  2016-04-04 23:42:13  14500          bus              2014  manual    125   \n",
       "9  2016-03-17 10:53:50    999        small              1998  manual    101   \n",
       "\n",
       "     Model  Kilometer  RegistrationMonth  FuelType       Brand Repaired  \\\n",
       "0     golf     150000                  0    petrol  volkswagen      NaN   \n",
       "1      NaN     125000                  5  gasoline        audi      yes   \n",
       "2    grand     125000                  8  gasoline        jeep      NaN   \n",
       "3     golf     150000                  6    petrol  volkswagen       no   \n",
       "4    fabia      90000                  7  gasoline       skoda       no   \n",
       "5      3er     150000                 10    petrol         bmw      yes   \n",
       "6  2_reihe     150000                  8    petrol     peugeot       no   \n",
       "7    other      40000                  7    petrol  volkswagen       no   \n",
       "8    c_max      30000                  8    petrol        ford      NaN   \n",
       "9     golf     150000                  0       NaN  volkswagen      NaN   \n",
       "\n",
       "           DateCreated  NumberOfPictures  PostalCode             LastSeen  \n",
       "0  2016-03-24 00:00:00                 0       70435  2016-04-07 03:16:57  \n",
       "1  2016-03-24 00:00:00                 0       66954  2016-04-07 01:46:50  \n",
       "2  2016-03-14 00:00:00                 0       90480  2016-04-05 12:47:46  \n",
       "3  2016-03-17 00:00:00                 0       91074  2016-03-17 17:40:17  \n",
       "4  2016-03-31 00:00:00                 0       60437  2016-04-06 10:17:21  \n",
       "5  2016-04-04 00:00:00                 0       33775  2016-04-06 19:17:07  \n",
       "6  2016-04-01 00:00:00                 0       67112  2016-04-05 18:18:39  \n",
       "7  2016-03-21 00:00:00                 0       19348  2016-03-25 16:47:58  \n",
       "8  2016-04-04 00:00:00                 0       94505  2016-04-04 23:42:13  \n",
       "9  2016-03-17 00:00:00                 0       27472  2016-03-31 17:17:06  "
      ]
     },
     "execution_count": 6,
     "metadata": {},
     "output_type": "execute_result"
    }
   ],
   "source": [
    "data.head(10)"
   ]
  },
  {
   "cell_type": "code",
   "execution_count": 7,
   "metadata": {},
   "outputs": [
    {
     "data": {
      "text/plain": [
       "(354369, 16)"
      ]
     },
     "execution_count": 7,
     "metadata": {},
     "output_type": "execute_result"
    }
   ],
   "source": [
    "data.shape"
   ]
  },
  {
   "cell_type": "code",
   "execution_count": 8,
   "metadata": {},
   "outputs": [
    {
     "name": "stdout",
     "output_type": "stream",
     "text": [
      "<class 'pandas.core.frame.DataFrame'>\n",
      "RangeIndex: 354369 entries, 0 to 354368\n",
      "Data columns (total 16 columns):\n",
      " #   Column             Non-Null Count   Dtype \n",
      "---  ------             --------------   ----- \n",
      " 0   DateCrawled        354369 non-null  object\n",
      " 1   Price              354369 non-null  int64 \n",
      " 2   VehicleType        316879 non-null  object\n",
      " 3   RegistrationYear   354369 non-null  int64 \n",
      " 4   Gearbox            334536 non-null  object\n",
      " 5   Power              354369 non-null  int64 \n",
      " 6   Model              334664 non-null  object\n",
      " 7   Kilometer          354369 non-null  int64 \n",
      " 8   RegistrationMonth  354369 non-null  int64 \n",
      " 9   FuelType           321474 non-null  object\n",
      " 10  Brand              354369 non-null  object\n",
      " 11  Repaired           283215 non-null  object\n",
      " 12  DateCreated        354369 non-null  object\n",
      " 13  NumberOfPictures   354369 non-null  int64 \n",
      " 14  PostalCode         354369 non-null  int64 \n",
      " 15  LastSeen           354369 non-null  object\n",
      "dtypes: int64(7), object(9)\n",
      "memory usage: 43.3+ MB\n"
     ]
    }
   ],
   "source": [
    "data.info()"
   ]
  },
  {
   "cell_type": "code",
   "execution_count": 9,
   "metadata": {},
   "outputs": [
    {
     "data": {
      "text/html": [
       "<div>\n",
       "<style scoped>\n",
       "    .dataframe tbody tr th:only-of-type {\n",
       "        vertical-align: middle;\n",
       "    }\n",
       "\n",
       "    .dataframe tbody tr th {\n",
       "        vertical-align: top;\n",
       "    }\n",
       "\n",
       "    .dataframe thead th {\n",
       "        text-align: right;\n",
       "    }\n",
       "</style>\n",
       "<table border=\"1\" class=\"dataframe\">\n",
       "  <thead>\n",
       "    <tr style=\"text-align: right;\">\n",
       "      <th></th>\n",
       "      <th>DateCrawled</th>\n",
       "      <th>Price</th>\n",
       "      <th>VehicleType</th>\n",
       "      <th>RegistrationYear</th>\n",
       "      <th>Gearbox</th>\n",
       "      <th>Power</th>\n",
       "      <th>Model</th>\n",
       "      <th>Kilometer</th>\n",
       "      <th>RegistrationMonth</th>\n",
       "      <th>FuelType</th>\n",
       "      <th>Brand</th>\n",
       "      <th>Repaired</th>\n",
       "      <th>DateCreated</th>\n",
       "      <th>NumberOfPictures</th>\n",
       "      <th>PostalCode</th>\n",
       "      <th>LastSeen</th>\n",
       "    </tr>\n",
       "  </thead>\n",
       "  <tbody>\n",
       "    <tr>\n",
       "      <th>count</th>\n",
       "      <td>354369</td>\n",
       "      <td>354369.000000</td>\n",
       "      <td>316879</td>\n",
       "      <td>354369.000000</td>\n",
       "      <td>334536</td>\n",
       "      <td>354369.000000</td>\n",
       "      <td>334664</td>\n",
       "      <td>354369.000000</td>\n",
       "      <td>354369.000000</td>\n",
       "      <td>321474</td>\n",
       "      <td>354369</td>\n",
       "      <td>283215</td>\n",
       "      <td>354369</td>\n",
       "      <td>354369.0</td>\n",
       "      <td>354369.000000</td>\n",
       "      <td>354369</td>\n",
       "    </tr>\n",
       "    <tr>\n",
       "      <th>unique</th>\n",
       "      <td>271174</td>\n",
       "      <td>NaN</td>\n",
       "      <td>8</td>\n",
       "      <td>NaN</td>\n",
       "      <td>2</td>\n",
       "      <td>NaN</td>\n",
       "      <td>250</td>\n",
       "      <td>NaN</td>\n",
       "      <td>NaN</td>\n",
       "      <td>7</td>\n",
       "      <td>40</td>\n",
       "      <td>2</td>\n",
       "      <td>109</td>\n",
       "      <td>NaN</td>\n",
       "      <td>NaN</td>\n",
       "      <td>179150</td>\n",
       "    </tr>\n",
       "    <tr>\n",
       "      <th>top</th>\n",
       "      <td>2016-03-24 14:49:47</td>\n",
       "      <td>NaN</td>\n",
       "      <td>sedan</td>\n",
       "      <td>NaN</td>\n",
       "      <td>manual</td>\n",
       "      <td>NaN</td>\n",
       "      <td>golf</td>\n",
       "      <td>NaN</td>\n",
       "      <td>NaN</td>\n",
       "      <td>petrol</td>\n",
       "      <td>volkswagen</td>\n",
       "      <td>no</td>\n",
       "      <td>2016-04-03 00:00:00</td>\n",
       "      <td>NaN</td>\n",
       "      <td>NaN</td>\n",
       "      <td>2016-04-06 13:45:54</td>\n",
       "    </tr>\n",
       "    <tr>\n",
       "      <th>freq</th>\n",
       "      <td>7</td>\n",
       "      <td>NaN</td>\n",
       "      <td>91457</td>\n",
       "      <td>NaN</td>\n",
       "      <td>268251</td>\n",
       "      <td>NaN</td>\n",
       "      <td>29232</td>\n",
       "      <td>NaN</td>\n",
       "      <td>NaN</td>\n",
       "      <td>216352</td>\n",
       "      <td>77013</td>\n",
       "      <td>247161</td>\n",
       "      <td>13719</td>\n",
       "      <td>NaN</td>\n",
       "      <td>NaN</td>\n",
       "      <td>17</td>\n",
       "    </tr>\n",
       "    <tr>\n",
       "      <th>mean</th>\n",
       "      <td>NaN</td>\n",
       "      <td>4416.656776</td>\n",
       "      <td>NaN</td>\n",
       "      <td>2004.234448</td>\n",
       "      <td>NaN</td>\n",
       "      <td>110.094337</td>\n",
       "      <td>NaN</td>\n",
       "      <td>128211.172535</td>\n",
       "      <td>5.714645</td>\n",
       "      <td>NaN</td>\n",
       "      <td>NaN</td>\n",
       "      <td>NaN</td>\n",
       "      <td>NaN</td>\n",
       "      <td>0.0</td>\n",
       "      <td>50508.689087</td>\n",
       "      <td>NaN</td>\n",
       "    </tr>\n",
       "    <tr>\n",
       "      <th>std</th>\n",
       "      <td>NaN</td>\n",
       "      <td>4514.158514</td>\n",
       "      <td>NaN</td>\n",
       "      <td>90.227958</td>\n",
       "      <td>NaN</td>\n",
       "      <td>189.850405</td>\n",
       "      <td>NaN</td>\n",
       "      <td>37905.341530</td>\n",
       "      <td>3.726421</td>\n",
       "      <td>NaN</td>\n",
       "      <td>NaN</td>\n",
       "      <td>NaN</td>\n",
       "      <td>NaN</td>\n",
       "      <td>0.0</td>\n",
       "      <td>25783.096248</td>\n",
       "      <td>NaN</td>\n",
       "    </tr>\n",
       "    <tr>\n",
       "      <th>min</th>\n",
       "      <td>NaN</td>\n",
       "      <td>0.000000</td>\n",
       "      <td>NaN</td>\n",
       "      <td>1000.000000</td>\n",
       "      <td>NaN</td>\n",
       "      <td>0.000000</td>\n",
       "      <td>NaN</td>\n",
       "      <td>5000.000000</td>\n",
       "      <td>0.000000</td>\n",
       "      <td>NaN</td>\n",
       "      <td>NaN</td>\n",
       "      <td>NaN</td>\n",
       "      <td>NaN</td>\n",
       "      <td>0.0</td>\n",
       "      <td>1067.000000</td>\n",
       "      <td>NaN</td>\n",
       "    </tr>\n",
       "    <tr>\n",
       "      <th>25%</th>\n",
       "      <td>NaN</td>\n",
       "      <td>1050.000000</td>\n",
       "      <td>NaN</td>\n",
       "      <td>1999.000000</td>\n",
       "      <td>NaN</td>\n",
       "      <td>69.000000</td>\n",
       "      <td>NaN</td>\n",
       "      <td>125000.000000</td>\n",
       "      <td>3.000000</td>\n",
       "      <td>NaN</td>\n",
       "      <td>NaN</td>\n",
       "      <td>NaN</td>\n",
       "      <td>NaN</td>\n",
       "      <td>0.0</td>\n",
       "      <td>30165.000000</td>\n",
       "      <td>NaN</td>\n",
       "    </tr>\n",
       "    <tr>\n",
       "      <th>50%</th>\n",
       "      <td>NaN</td>\n",
       "      <td>2700.000000</td>\n",
       "      <td>NaN</td>\n",
       "      <td>2003.000000</td>\n",
       "      <td>NaN</td>\n",
       "      <td>105.000000</td>\n",
       "      <td>NaN</td>\n",
       "      <td>150000.000000</td>\n",
       "      <td>6.000000</td>\n",
       "      <td>NaN</td>\n",
       "      <td>NaN</td>\n",
       "      <td>NaN</td>\n",
       "      <td>NaN</td>\n",
       "      <td>0.0</td>\n",
       "      <td>49413.000000</td>\n",
       "      <td>NaN</td>\n",
       "    </tr>\n",
       "    <tr>\n",
       "      <th>75%</th>\n",
       "      <td>NaN</td>\n",
       "      <td>6400.000000</td>\n",
       "      <td>NaN</td>\n",
       "      <td>2008.000000</td>\n",
       "      <td>NaN</td>\n",
       "      <td>143.000000</td>\n",
       "      <td>NaN</td>\n",
       "      <td>150000.000000</td>\n",
       "      <td>9.000000</td>\n",
       "      <td>NaN</td>\n",
       "      <td>NaN</td>\n",
       "      <td>NaN</td>\n",
       "      <td>NaN</td>\n",
       "      <td>0.0</td>\n",
       "      <td>71083.000000</td>\n",
       "      <td>NaN</td>\n",
       "    </tr>\n",
       "    <tr>\n",
       "      <th>max</th>\n",
       "      <td>NaN</td>\n",
       "      <td>20000.000000</td>\n",
       "      <td>NaN</td>\n",
       "      <td>9999.000000</td>\n",
       "      <td>NaN</td>\n",
       "      <td>20000.000000</td>\n",
       "      <td>NaN</td>\n",
       "      <td>150000.000000</td>\n",
       "      <td>12.000000</td>\n",
       "      <td>NaN</td>\n",
       "      <td>NaN</td>\n",
       "      <td>NaN</td>\n",
       "      <td>NaN</td>\n",
       "      <td>0.0</td>\n",
       "      <td>99998.000000</td>\n",
       "      <td>NaN</td>\n",
       "    </tr>\n",
       "  </tbody>\n",
       "</table>\n",
       "</div>"
      ],
      "text/plain": [
       "                DateCrawled          Price VehicleType  RegistrationYear  \\\n",
       "count                354369  354369.000000      316879     354369.000000   \n",
       "unique               271174            NaN           8               NaN   \n",
       "top     2016-03-24 14:49:47            NaN       sedan               NaN   \n",
       "freq                      7            NaN       91457               NaN   \n",
       "mean                    NaN    4416.656776         NaN       2004.234448   \n",
       "std                     NaN    4514.158514         NaN         90.227958   \n",
       "min                     NaN       0.000000         NaN       1000.000000   \n",
       "25%                     NaN    1050.000000         NaN       1999.000000   \n",
       "50%                     NaN    2700.000000         NaN       2003.000000   \n",
       "75%                     NaN    6400.000000         NaN       2008.000000   \n",
       "max                     NaN   20000.000000         NaN       9999.000000   \n",
       "\n",
       "       Gearbox          Power   Model      Kilometer  RegistrationMonth  \\\n",
       "count   334536  354369.000000  334664  354369.000000      354369.000000   \n",
       "unique       2            NaN     250            NaN                NaN   \n",
       "top     manual            NaN    golf            NaN                NaN   \n",
       "freq    268251            NaN   29232            NaN                NaN   \n",
       "mean       NaN     110.094337     NaN  128211.172535           5.714645   \n",
       "std        NaN     189.850405     NaN   37905.341530           3.726421   \n",
       "min        NaN       0.000000     NaN    5000.000000           0.000000   \n",
       "25%        NaN      69.000000     NaN  125000.000000           3.000000   \n",
       "50%        NaN     105.000000     NaN  150000.000000           6.000000   \n",
       "75%        NaN     143.000000     NaN  150000.000000           9.000000   \n",
       "max        NaN   20000.000000     NaN  150000.000000          12.000000   \n",
       "\n",
       "       FuelType       Brand Repaired          DateCreated  NumberOfPictures  \\\n",
       "count    321474      354369   283215               354369          354369.0   \n",
       "unique        7          40        2                  109               NaN   \n",
       "top      petrol  volkswagen       no  2016-04-03 00:00:00               NaN   \n",
       "freq     216352       77013   247161                13719               NaN   \n",
       "mean        NaN         NaN      NaN                  NaN               0.0   \n",
       "std         NaN         NaN      NaN                  NaN               0.0   \n",
       "min         NaN         NaN      NaN                  NaN               0.0   \n",
       "25%         NaN         NaN      NaN                  NaN               0.0   \n",
       "50%         NaN         NaN      NaN                  NaN               0.0   \n",
       "75%         NaN         NaN      NaN                  NaN               0.0   \n",
       "max         NaN         NaN      NaN                  NaN               0.0   \n",
       "\n",
       "           PostalCode             LastSeen  \n",
       "count   354369.000000               354369  \n",
       "unique            NaN               179150  \n",
       "top               NaN  2016-04-06 13:45:54  \n",
       "freq              NaN                   17  \n",
       "mean     50508.689087                  NaN  \n",
       "std      25783.096248                  NaN  \n",
       "min       1067.000000                  NaN  \n",
       "25%      30165.000000                  NaN  \n",
       "50%      49413.000000                  NaN  \n",
       "75%      71083.000000                  NaN  \n",
       "max      99998.000000                  NaN  "
      ]
     },
     "execution_count": 9,
     "metadata": {},
     "output_type": "execute_result"
    }
   ],
   "source": [
    "data.describe(include='all')"
   ]
  },
  {
   "cell_type": "code",
   "execution_count": 10,
   "metadata": {},
   "outputs": [
    {
     "data": {
      "text/plain": [
       "<bound method IndexOpsMixin.tolist of Index(['DateCrawled', 'Price', 'VehicleType', 'RegistrationYear', 'Gearbox',\n",
       "       'Power', 'Model', 'Kilometer', 'RegistrationMonth', 'FuelType', 'Brand',\n",
       "       'Repaired', 'DateCreated', 'NumberOfPictures', 'PostalCode',\n",
       "       'LastSeen'],\n",
       "      dtype='object')>"
      ]
     },
     "execution_count": 10,
     "metadata": {},
     "output_type": "execute_result"
    }
   ],
   "source": [
    "data.columns.to_list"
   ]
  },
  {
   "cell_type": "markdown",
   "metadata": {},
   "source": [
    "Переименнуем столбцы"
   ]
  },
  {
   "cell_type": "code",
   "execution_count": 11,
   "metadata": {},
   "outputs": [],
   "source": [
    "data.columns = [re.sub(r'(?<!^)(?=[A-Z])', '_', i).lower() for i in data.columns]"
   ]
  },
  {
   "cell_type": "code",
   "execution_count": 12,
   "metadata": {},
   "outputs": [
    {
     "data": {
      "text/plain": [
       "Index(['date_crawled', 'price', 'vehicle_type', 'registration_year', 'gearbox',\n",
       "       'power', 'model', 'kilometer', 'registration_month', 'fuel_type',\n",
       "       'brand', 'repaired', 'date_created', 'number_of_pictures',\n",
       "       'postal_code', 'last_seen'],\n",
       "      dtype='object')"
      ]
     },
     "execution_count": 12,
     "metadata": {},
     "output_type": "execute_result"
    }
   ],
   "source": [
    "data.columns"
   ]
  },
  {
   "cell_type": "code",
   "execution_count": 13,
   "metadata": {},
   "outputs": [
    {
     "data": {
      "text/plain": [
       "4"
      ]
     },
     "execution_count": 13,
     "metadata": {},
     "output_type": "execute_result"
    }
   ],
   "source": [
    "data.duplicated().sum()"
   ]
  },
  {
   "cell_type": "code",
   "execution_count": 14,
   "metadata": {},
   "outputs": [
    {
     "data": {
      "text/plain": [
       "0    354369\n",
       "Name: number_of_pictures, dtype: int64"
      ]
     },
     "execution_count": 14,
     "metadata": {},
     "output_type": "execute_result"
    }
   ],
   "source": [
    "data['number_of_pictures'].value_counts()"
   ]
  },
  {
   "cell_type": "markdown",
   "metadata": {},
   "source": [
    "Удалим столбцы которые не будут использоватся в анализе, т.е те столбцы в которых хранится информация о действиях пользователя"
   ]
  },
  {
   "cell_type": "code",
   "execution_count": 15,
   "metadata": {},
   "outputs": [],
   "source": [
    "data.drop(['date_crawled', 'date_created', \n",
    "         'number_of_pictures', 'postal_code', 'last_seen','registration_month'], axis=1, inplace=True)"
   ]
  },
  {
   "cell_type": "markdown",
   "metadata": {},
   "source": [
    "Проверим на дубликаты"
   ]
  },
  {
   "cell_type": "code",
   "execution_count": 16,
   "metadata": {},
   "outputs": [
    {
     "data": {
      "text/plain": [
       "45040"
      ]
     },
     "execution_count": 16,
     "metadata": {},
     "output_type": "execute_result"
    }
   ],
   "source": [
    "data.duplicated().sum()"
   ]
  },
  {
   "cell_type": "markdown",
   "metadata": {},
   "source": [
    "появилось большое количество дубликатов пока не будем их трогать"
   ]
  },
  {
   "cell_type": "markdown",
   "metadata": {},
   "source": [
    "Посмотрим как заполнены данные."
   ]
  },
  {
   "cell_type": "code",
   "execution_count": 17,
   "metadata": {},
   "outputs": [
    {
     "data": {
      "text/plain": [
       "price                    0\n",
       "vehicle_type         37490\n",
       "registration_year        0\n",
       "gearbox              19833\n",
       "power                    0\n",
       "model                19705\n",
       "kilometer                0\n",
       "fuel_type            32895\n",
       "brand                    0\n",
       "repaired             71154\n",
       "dtype: int64"
      ]
     },
     "execution_count": 17,
     "metadata": {},
     "output_type": "execute_result"
    }
   ],
   "source": [
    "data.isnull().sum()"
   ]
  },
  {
   "cell_type": "markdown",
   "metadata": {},
   "source": [
    "Рассмотрим подробнее"
   ]
  },
  {
   "cell_type": "code",
   "execution_count": 18,
   "metadata": {},
   "outputs": [
    {
     "data": {
      "text/plain": [
       "array([nan, 'coupe', 'suv', 'small', 'sedan', 'convertible', 'bus',\n",
       "       'wagon', 'other'], dtype=object)"
      ]
     },
     "execution_count": 18,
     "metadata": {},
     "output_type": "execute_result"
    }
   ],
   "source": [
    "data['vehicle_type'].unique()"
   ]
  },
  {
   "cell_type": "code",
   "execution_count": 19,
   "metadata": {},
   "outputs": [
    {
     "data": {
      "text/plain": [
       "sedan          91457\n",
       "small          79831\n",
       "wagon          65166\n",
       "bus            28775\n",
       "convertible    20203\n",
       "coupe          16163\n",
       "suv            11996\n",
       "other           3288\n",
       "Name: vehicle_type, dtype: int64"
      ]
     },
     "execution_count": 19,
     "metadata": {},
     "output_type": "execute_result"
    }
   ],
   "source": [
    "data['vehicle_type'].value_counts()"
   ]
  },
  {
   "cell_type": "markdown",
   "metadata": {},
   "source": [
    "Заменим пропуски значением other"
   ]
  },
  {
   "cell_type": "code",
   "execution_count": 20,
   "metadata": {},
   "outputs": [],
   "source": [
    "data['vehicle_type'] = data['vehicle_type'].fillna('other')"
   ]
  },
  {
   "cell_type": "code",
   "execution_count": 21,
   "metadata": {},
   "outputs": [
    {
     "data": {
      "text/plain": [
       "price                    0\n",
       "vehicle_type             0\n",
       "registration_year        0\n",
       "gearbox              19833\n",
       "power                    0\n",
       "model                19705\n",
       "kilometer                0\n",
       "fuel_type            32895\n",
       "brand                    0\n",
       "repaired             71154\n",
       "dtype: int64"
      ]
     },
     "execution_count": 21,
     "metadata": {},
     "output_type": "execute_result"
    }
   ],
   "source": [
    "data.isnull().sum()"
   ]
  },
  {
   "cell_type": "code",
   "execution_count": 22,
   "metadata": {},
   "outputs": [
    {
     "data": {
      "text/plain": [
       "manual    268251\n",
       "auto       66285\n",
       "Name: gearbox, dtype: int64"
      ]
     },
     "execution_count": 22,
     "metadata": {},
     "output_type": "execute_result"
    }
   ],
   "source": [
    "data['gearbox'].value_counts()"
   ]
  },
  {
   "cell_type": "markdown",
   "metadata": {},
   "source": [
    "Заполним пропуски"
   ]
  },
  {
   "cell_type": "code",
   "execution_count": 23,
   "metadata": {},
   "outputs": [
    {
     "data": {
      "text/plain": [
       "array(['golf', nan, 'grand', 'fabia', '3er', '2_reihe', 'other', 'c_max',\n",
       "       '3_reihe', 'passat', 'navara', 'ka', 'polo', 'twingo', 'a_klasse',\n",
       "       'scirocco', '5er', 'meriva', 'arosa', 'c4', 'civic', 'transporter',\n",
       "       'punto', 'e_klasse', 'clio', 'kadett', 'kangoo', 'corsa', 'one',\n",
       "       'fortwo', '1er', 'b_klasse', 'signum', 'astra', 'a8', 'jetta',\n",
       "       'fiesta', 'c_klasse', 'micra', 'vito', 'sprinter', '156', 'escort',\n",
       "       'forester', 'xc_reihe', 'scenic', 'a4', 'a1', 'insignia', 'combo',\n",
       "       'focus', 'tt', 'a6', 'jazz', 'omega', 'slk', '7er', '80', '147',\n",
       "       '100', 'z_reihe', 'sportage', 'sorento', 'v40', 'ibiza', 'mustang',\n",
       "       'eos', 'touran', 'getz', 'a3', 'almera', 'megane', 'lupo', 'r19',\n",
       "       'zafira', 'caddy', 'mondeo', 'cordoba', 'colt', 'impreza',\n",
       "       'vectra', 'berlingo', 'tiguan', 'i_reihe', 'espace', 'sharan',\n",
       "       '6_reihe', 'panda', 'up', 'seicento', 'ceed', '5_reihe', 'yeti',\n",
       "       'octavia', 'mii', 'rx_reihe', '6er', 'modus', 'fox', 'matiz',\n",
       "       'beetle', 'c1', 'rio', 'touareg', 'logan', 'spider', 'cuore',\n",
       "       's_max', 'a2', 'galaxy', 'c3', 'viano', 's_klasse', '1_reihe',\n",
       "       'avensis', 'roomster', 'sl', 'kaefer', 'santa', 'cooper', 'leon',\n",
       "       '4_reihe', 'a5', '500', 'laguna', 'ptcruiser', 'clk', 'primera',\n",
       "       'x_reihe', 'exeo', '159', 'transit', 'juke', 'qashqai', 'carisma',\n",
       "       'accord', 'corolla', 'lanos', 'phaeton', 'verso', 'swift', 'rav',\n",
       "       'picanto', 'boxster', 'kalos', 'superb', 'stilo', 'alhambra',\n",
       "       'mx_reihe', 'roadster', 'ypsilon', 'cayenne', 'galant', 'justy',\n",
       "       '90', 'sirion', 'crossfire', 'agila', 'duster', 'cr_reihe', 'v50',\n",
       "       'c_reihe', 'v_klasse', 'm_klasse', 'yaris', 'c5', 'aygo', 'cc',\n",
       "       'carnival', 'fusion', '911', 'bora', 'forfour', 'm_reihe', 'cl',\n",
       "       'tigra', '300c', 'spark', 'v70', 'kuga', 'x_type', 'ducato',\n",
       "       's_type', 'x_trail', 'toledo', 'altea', 'voyager', 'calibra',\n",
       "       'bravo', 'antara', 'tucson', 'citigo', 'jimny', 'wrangler',\n",
       "       'lybra', 'q7', 'lancer', 'captiva', 'c2', 'discovery',\n",
       "       'freelander', 'sandero', 'note', '900', 'cherokee', 'clubman',\n",
       "       'samara', 'defender', '601', 'cx_reihe', 'legacy', 'pajero',\n",
       "       'auris', 'niva', 's60', 'nubira', 'vivaro', 'g_klasse', 'lodgy',\n",
       "       '850', 'range_rover', 'q3', 'serie_2', 'glk', 'charade', 'croma',\n",
       "       'outlander', 'doblo', 'musa', 'move', '9000', 'v60', '145', 'aveo',\n",
       "       '200', 'b_max', 'range_rover_sport', 'terios', 'rangerover', 'q5',\n",
       "       'range_rover_evoque', 'materia', 'delta', 'gl', 'kalina', 'amarok',\n",
       "       'elefantino', 'i3', 'kappa', 'serie_3', 'serie_1'], dtype=object)"
      ]
     },
     "execution_count": 23,
     "metadata": {},
     "output_type": "execute_result"
    }
   ],
   "source": [
    "data['model'].unique()"
   ]
  },
  {
   "cell_type": "code",
   "execution_count": 24,
   "metadata": {},
   "outputs": [
    {
     "data": {
      "text/html": [
       "<div>\n",
       "<style scoped>\n",
       "    .dataframe tbody tr th:only-of-type {\n",
       "        vertical-align: middle;\n",
       "    }\n",
       "\n",
       "    .dataframe tbody tr th {\n",
       "        vertical-align: top;\n",
       "    }\n",
       "\n",
       "    .dataframe thead th {\n",
       "        text-align: right;\n",
       "    }\n",
       "</style>\n",
       "<table border=\"1\" class=\"dataframe\">\n",
       "  <thead>\n",
       "    <tr style=\"text-align: right;\">\n",
       "      <th></th>\n",
       "      <th>price</th>\n",
       "      <th>vehicle_type</th>\n",
       "      <th>registration_year</th>\n",
       "      <th>gearbox</th>\n",
       "      <th>power</th>\n",
       "      <th>model</th>\n",
       "      <th>kilometer</th>\n",
       "      <th>fuel_type</th>\n",
       "      <th>brand</th>\n",
       "      <th>repaired</th>\n",
       "    </tr>\n",
       "  </thead>\n",
       "  <tbody>\n",
       "    <tr>\n",
       "      <th>27949</th>\n",
       "      <td>1050</td>\n",
       "      <td>small</td>\n",
       "      <td>1998</td>\n",
       "      <td>manual</td>\n",
       "      <td>103</td>\n",
       "      <td>rangerover</td>\n",
       "      <td>150000</td>\n",
       "      <td>petrol</td>\n",
       "      <td>rover</td>\n",
       "      <td>NaN</td>\n",
       "    </tr>\n",
       "    <tr>\n",
       "      <th>117409</th>\n",
       "      <td>16900</td>\n",
       "      <td>other</td>\n",
       "      <td>2007</td>\n",
       "      <td>auto</td>\n",
       "      <td>190</td>\n",
       "      <td>rangerover</td>\n",
       "      <td>150000</td>\n",
       "      <td>gasoline</td>\n",
       "      <td>rover</td>\n",
       "      <td>no</td>\n",
       "    </tr>\n",
       "    <tr>\n",
       "      <th>169654</th>\n",
       "      <td>2500</td>\n",
       "      <td>suv</td>\n",
       "      <td>1996</td>\n",
       "      <td>manual</td>\n",
       "      <td>0</td>\n",
       "      <td>rangerover</td>\n",
       "      <td>150000</td>\n",
       "      <td>gasoline</td>\n",
       "      <td>rover</td>\n",
       "      <td>no</td>\n",
       "    </tr>\n",
       "    <tr>\n",
       "      <th>279463</th>\n",
       "      <td>3300</td>\n",
       "      <td>other</td>\n",
       "      <td>2017</td>\n",
       "      <td>manual</td>\n",
       "      <td>135</td>\n",
       "      <td>rangerover</td>\n",
       "      <td>150000</td>\n",
       "      <td>gasoline</td>\n",
       "      <td>rover</td>\n",
       "      <td>no</td>\n",
       "    </tr>\n",
       "  </tbody>\n",
       "</table>\n",
       "</div>"
      ],
      "text/plain": [
       "        price vehicle_type  registration_year gearbox  power       model  \\\n",
       "27949    1050        small               1998  manual    103  rangerover   \n",
       "117409  16900        other               2007    auto    190  rangerover   \n",
       "169654   2500          suv               1996  manual      0  rangerover   \n",
       "279463   3300        other               2017  manual    135  rangerover   \n",
       "\n",
       "        kilometer fuel_type  brand repaired  \n",
       "27949      150000    petrol  rover      NaN  \n",
       "117409     150000  gasoline  rover       no  \n",
       "169654     150000  gasoline  rover       no  \n",
       "279463     150000  gasoline  rover       no  "
      ]
     },
     "execution_count": 24,
     "metadata": {},
     "output_type": "execute_result"
    }
   ],
   "source": [
    "data.loc[(data['model'] == 'rangerover')]"
   ]
  },
  {
   "cell_type": "code",
   "execution_count": 25,
   "metadata": {},
   "outputs": [],
   "source": [
    "data.loc[(data['model'] == 'rangerover'), \n",
    "       'model'] = 'range_rover'"
   ]
  },
  {
   "cell_type": "code",
   "execution_count": 26,
   "metadata": {},
   "outputs": [],
   "source": [
    "data['model'] = data['model'].fillna('other')"
   ]
  },
  {
   "cell_type": "code",
   "execution_count": 27,
   "metadata": {},
   "outputs": [
    {
     "data": {
      "text/plain": [
       "price                    0\n",
       "vehicle_type             0\n",
       "registration_year        0\n",
       "gearbox              19833\n",
       "power                    0\n",
       "model                    0\n",
       "kilometer                0\n",
       "fuel_type            32895\n",
       "brand                    0\n",
       "repaired             71154\n",
       "dtype: int64"
      ]
     },
     "execution_count": 27,
     "metadata": {},
     "output_type": "execute_result"
    }
   ],
   "source": [
    "data.isnull().sum()"
   ]
  },
  {
   "cell_type": "markdown",
   "metadata": {},
   "source": [
    "Будем считать, что машина машина не попадала в аварию если это поле не указанно"
   ]
  },
  {
   "cell_type": "code",
   "execution_count": 28,
   "metadata": {},
   "outputs": [],
   "source": [
    "data['repaired'] = data['repaired'].fillna('no')"
   ]
  },
  {
   "cell_type": "code",
   "execution_count": 29,
   "metadata": {},
   "outputs": [
    {
     "data": {
      "text/plain": [
       "no     318315\n",
       "yes     36054\n",
       "Name: repaired, dtype: int64"
      ]
     },
     "execution_count": 29,
     "metadata": {},
     "output_type": "execute_result"
    }
   ],
   "source": [
    "data['repaired'].value_counts()"
   ]
  },
  {
   "cell_type": "code",
   "execution_count": 30,
   "metadata": {},
   "outputs": [
    {
     "data": {
      "text/plain": [
       "price                    0\n",
       "vehicle_type             0\n",
       "registration_year        0\n",
       "gearbox              19833\n",
       "power                    0\n",
       "model                    0\n",
       "kilometer                0\n",
       "fuel_type            32895\n",
       "brand                    0\n",
       "repaired                 0\n",
       "dtype: int64"
      ]
     },
     "execution_count": 30,
     "metadata": {},
     "output_type": "execute_result"
    }
   ],
   "source": [
    "data.isnull().sum()"
   ]
  },
  {
   "cell_type": "code",
   "execution_count": 31,
   "metadata": {},
   "outputs": [
    {
     "data": {
      "text/html": [
       "<div>\n",
       "<style scoped>\n",
       "    .dataframe tbody tr th:only-of-type {\n",
       "        vertical-align: middle;\n",
       "    }\n",
       "\n",
       "    .dataframe tbody tr th {\n",
       "        vertical-align: top;\n",
       "    }\n",
       "\n",
       "    .dataframe thead th {\n",
       "        text-align: right;\n",
       "    }\n",
       "</style>\n",
       "<table border=\"1\" class=\"dataframe\">\n",
       "  <thead>\n",
       "    <tr style=\"text-align: right;\">\n",
       "      <th></th>\n",
       "      <th>price</th>\n",
       "      <th>vehicle_type</th>\n",
       "      <th>registration_year</th>\n",
       "      <th>gearbox</th>\n",
       "      <th>power</th>\n",
       "      <th>model</th>\n",
       "      <th>kilometer</th>\n",
       "      <th>fuel_type</th>\n",
       "      <th>brand</th>\n",
       "      <th>repaired</th>\n",
       "    </tr>\n",
       "  </thead>\n",
       "  <tbody>\n",
       "    <tr>\n",
       "      <th>count</th>\n",
       "      <td>354369.000000</td>\n",
       "      <td>354369</td>\n",
       "      <td>354369.000000</td>\n",
       "      <td>334536</td>\n",
       "      <td>354369.000000</td>\n",
       "      <td>354369</td>\n",
       "      <td>354369.000000</td>\n",
       "      <td>321474</td>\n",
       "      <td>354369</td>\n",
       "      <td>354369</td>\n",
       "    </tr>\n",
       "    <tr>\n",
       "      <th>unique</th>\n",
       "      <td>NaN</td>\n",
       "      <td>8</td>\n",
       "      <td>NaN</td>\n",
       "      <td>2</td>\n",
       "      <td>NaN</td>\n",
       "      <td>249</td>\n",
       "      <td>NaN</td>\n",
       "      <td>7</td>\n",
       "      <td>40</td>\n",
       "      <td>2</td>\n",
       "    </tr>\n",
       "    <tr>\n",
       "      <th>top</th>\n",
       "      <td>NaN</td>\n",
       "      <td>sedan</td>\n",
       "      <td>NaN</td>\n",
       "      <td>manual</td>\n",
       "      <td>NaN</td>\n",
       "      <td>other</td>\n",
       "      <td>NaN</td>\n",
       "      <td>petrol</td>\n",
       "      <td>volkswagen</td>\n",
       "      <td>no</td>\n",
       "    </tr>\n",
       "    <tr>\n",
       "      <th>freq</th>\n",
       "      <td>NaN</td>\n",
       "      <td>91457</td>\n",
       "      <td>NaN</td>\n",
       "      <td>268251</td>\n",
       "      <td>NaN</td>\n",
       "      <td>44126</td>\n",
       "      <td>NaN</td>\n",
       "      <td>216352</td>\n",
       "      <td>77013</td>\n",
       "      <td>318315</td>\n",
       "    </tr>\n",
       "    <tr>\n",
       "      <th>mean</th>\n",
       "      <td>4416.656776</td>\n",
       "      <td>NaN</td>\n",
       "      <td>2004.234448</td>\n",
       "      <td>NaN</td>\n",
       "      <td>110.094337</td>\n",
       "      <td>NaN</td>\n",
       "      <td>128211.172535</td>\n",
       "      <td>NaN</td>\n",
       "      <td>NaN</td>\n",
       "      <td>NaN</td>\n",
       "    </tr>\n",
       "    <tr>\n",
       "      <th>std</th>\n",
       "      <td>4514.158514</td>\n",
       "      <td>NaN</td>\n",
       "      <td>90.227958</td>\n",
       "      <td>NaN</td>\n",
       "      <td>189.850405</td>\n",
       "      <td>NaN</td>\n",
       "      <td>37905.341530</td>\n",
       "      <td>NaN</td>\n",
       "      <td>NaN</td>\n",
       "      <td>NaN</td>\n",
       "    </tr>\n",
       "    <tr>\n",
       "      <th>min</th>\n",
       "      <td>0.000000</td>\n",
       "      <td>NaN</td>\n",
       "      <td>1000.000000</td>\n",
       "      <td>NaN</td>\n",
       "      <td>0.000000</td>\n",
       "      <td>NaN</td>\n",
       "      <td>5000.000000</td>\n",
       "      <td>NaN</td>\n",
       "      <td>NaN</td>\n",
       "      <td>NaN</td>\n",
       "    </tr>\n",
       "    <tr>\n",
       "      <th>25%</th>\n",
       "      <td>1050.000000</td>\n",
       "      <td>NaN</td>\n",
       "      <td>1999.000000</td>\n",
       "      <td>NaN</td>\n",
       "      <td>69.000000</td>\n",
       "      <td>NaN</td>\n",
       "      <td>125000.000000</td>\n",
       "      <td>NaN</td>\n",
       "      <td>NaN</td>\n",
       "      <td>NaN</td>\n",
       "    </tr>\n",
       "    <tr>\n",
       "      <th>50%</th>\n",
       "      <td>2700.000000</td>\n",
       "      <td>NaN</td>\n",
       "      <td>2003.000000</td>\n",
       "      <td>NaN</td>\n",
       "      <td>105.000000</td>\n",
       "      <td>NaN</td>\n",
       "      <td>150000.000000</td>\n",
       "      <td>NaN</td>\n",
       "      <td>NaN</td>\n",
       "      <td>NaN</td>\n",
       "    </tr>\n",
       "    <tr>\n",
       "      <th>75%</th>\n",
       "      <td>6400.000000</td>\n",
       "      <td>NaN</td>\n",
       "      <td>2008.000000</td>\n",
       "      <td>NaN</td>\n",
       "      <td>143.000000</td>\n",
       "      <td>NaN</td>\n",
       "      <td>150000.000000</td>\n",
       "      <td>NaN</td>\n",
       "      <td>NaN</td>\n",
       "      <td>NaN</td>\n",
       "    </tr>\n",
       "    <tr>\n",
       "      <th>max</th>\n",
       "      <td>20000.000000</td>\n",
       "      <td>NaN</td>\n",
       "      <td>9999.000000</td>\n",
       "      <td>NaN</td>\n",
       "      <td>20000.000000</td>\n",
       "      <td>NaN</td>\n",
       "      <td>150000.000000</td>\n",
       "      <td>NaN</td>\n",
       "      <td>NaN</td>\n",
       "      <td>NaN</td>\n",
       "    </tr>\n",
       "  </tbody>\n",
       "</table>\n",
       "</div>"
      ],
      "text/plain": [
       "                price vehicle_type  registration_year gearbox          power  \\\n",
       "count   354369.000000       354369      354369.000000  334536  354369.000000   \n",
       "unique            NaN            8                NaN       2            NaN   \n",
       "top               NaN        sedan                NaN  manual            NaN   \n",
       "freq              NaN        91457                NaN  268251            NaN   \n",
       "mean      4416.656776          NaN        2004.234448     NaN     110.094337   \n",
       "std       4514.158514          NaN          90.227958     NaN     189.850405   \n",
       "min          0.000000          NaN        1000.000000     NaN       0.000000   \n",
       "25%       1050.000000          NaN        1999.000000     NaN      69.000000   \n",
       "50%       2700.000000          NaN        2003.000000     NaN     105.000000   \n",
       "75%       6400.000000          NaN        2008.000000     NaN     143.000000   \n",
       "max      20000.000000          NaN        9999.000000     NaN   20000.000000   \n",
       "\n",
       "         model      kilometer fuel_type       brand repaired  \n",
       "count   354369  354369.000000    321474      354369   354369  \n",
       "unique     249            NaN         7          40        2  \n",
       "top      other            NaN    petrol  volkswagen       no  \n",
       "freq     44126            NaN    216352       77013   318315  \n",
       "mean       NaN  128211.172535       NaN         NaN      NaN  \n",
       "std        NaN   37905.341530       NaN         NaN      NaN  \n",
       "min        NaN    5000.000000       NaN         NaN      NaN  \n",
       "25%        NaN  125000.000000       NaN         NaN      NaN  \n",
       "50%        NaN  150000.000000       NaN         NaN      NaN  \n",
       "75%        NaN  150000.000000       NaN         NaN      NaN  \n",
       "max        NaN  150000.000000       NaN         NaN      NaN  "
      ]
     },
     "execution_count": 31,
     "metadata": {},
     "output_type": "execute_result"
    }
   ],
   "source": [
    "data.describe(include='all')"
   ]
  },
  {
   "cell_type": "code",
   "execution_count": 32,
   "metadata": {},
   "outputs": [
    {
     "data": {
      "text/plain": [
       "Index(['price', 'vehicle_type', 'registration_year', 'gearbox', 'power',\n",
       "       'model', 'kilometer', 'fuel_type', 'brand', 'repaired'],\n",
       "      dtype='object')"
      ]
     },
     "execution_count": 32,
     "metadata": {},
     "output_type": "execute_result"
    }
   ],
   "source": [
    "data.columns"
   ]
  },
  {
   "cell_type": "code",
   "execution_count": 33,
   "metadata": {
    "scrolled": true
   },
   "outputs": [
    {
     "name": "stdout",
     "output_type": "stream",
     "text": [
      "<class 'pandas.core.frame.DataFrame'>\n",
      "RangeIndex: 354369 entries, 0 to 354368\n",
      "Data columns (total 10 columns):\n",
      " #   Column             Non-Null Count   Dtype \n",
      "---  ------             --------------   ----- \n",
      " 0   price              354369 non-null  int64 \n",
      " 1   vehicle_type       354369 non-null  object\n",
      " 2   registration_year  354369 non-null  int64 \n",
      " 3   gearbox            334536 non-null  object\n",
      " 4   power              354369 non-null  int64 \n",
      " 5   model              354369 non-null  object\n",
      " 6   kilometer          354369 non-null  int64 \n",
      " 7   fuel_type          321474 non-null  object\n",
      " 8   brand              354369 non-null  object\n",
      " 9   repaired           354369 non-null  object\n",
      "dtypes: int64(4), object(6)\n",
      "memory usage: 27.0+ MB\n"
     ]
    }
   ],
   "source": [
    "data.info()"
   ]
  },
  {
   "cell_type": "markdown",
   "metadata": {},
   "source": [
    "Удалим выбросы"
   ]
  },
  {
   "cell_type": "code",
   "execution_count": 34,
   "metadata": {},
   "outputs": [],
   "source": [
    "def plot(df, x, x_label, y_label, title, bins):\n",
    "    sum_val[metric].plot(\n",
    "            title = 'Сравнение распределения размеров гранул сырья на обучающей и тестовой выборках для {}'.format(metric),\n",
    "            kind='hist', \n",
    "            bins=100, \n",
    "            grid=True, \n",
    "            figsize=(15, 6),\n",
    "            alpha=0.5,\n",
    "            label=label,\n",
    "        ).set(xlabel='Сумма долей компонентов', ylabel = 'Частота')\n",
    "    plt.show()\n",
    "    \n",
    "    plt.figure(figsize=(12, 8))\n",
    "    sns.boxplot(data=df, x=x)\n",
    "    plt.title(title)\n",
    "    plt.xlabel(x_label)\n",
    "    plt.show()"
   ]
  },
  {
   "cell_type": "code",
   "execution_count": 35,
   "metadata": {},
   "outputs": [
    {
     "data": {
      "image/png": "[encoded data removed]",
      "text/plain": [
       "<Figure size 1080x432 with 1 Axes>"
      ]
     },
     "metadata": {
      "needs_background": "light"
     },
     "output_type": "display_data"
    }
   ],
   "source": [
    "data['price'].plot(\n",
    "            title = 'Распределение цены на автомобили',\n",
    "            kind='hist', \n",
    "            bins=100, \n",
    "            grid=True, \n",
    "            figsize=(15, 6),\n",
    "            alpha=0.5,\n",
    "        ).set(xlabel='Цена', ylabel = 'Кол-во')\n",
    "plt.show()\n",
    "    "
   ]
  },
  {
   "cell_type": "code",
   "execution_count": 36,
   "metadata": {},
   "outputs": [
    {
     "data": {
      "text/plain": [
       "<AxesSubplot:>"
      ]
     },
     "execution_count": 36,
     "metadata": {},
     "output_type": "execute_result"
    },
    {
     "data": {
      "image/png": "[encoded data removed]",
      "text/plain": [
       "<Figure size 720x360 with 1 Axes>"
      ]
     },
     "metadata": {
      "needs_background": "light"
     },
     "output_type": "display_data"
    }
   ],
   "source": [
    "data['price'].plot(kind='box', figsize=(10, 5))"
   ]
  },
  {
   "cell_type": "markdown",
   "metadata": {},
   "source": [
    "Выделим квантили 5% и 95%."
   ]
  },
  {
   "cell_type": "code",
   "execution_count": 37,
   "metadata": {
    "scrolled": true
   },
   "outputs": [
    {
     "data": {
      "text/plain": [
       "0.05      200.0\n",
       "0.95    14600.0\n",
       "Name: price, dtype: float64"
      ]
     },
     "execution_count": 37,
     "metadata": {},
     "output_type": "execute_result"
    }
   ],
   "source": [
    "data['price'].quantile([.05, 0.95])"
   ]
  },
  {
   "cell_type": "code",
   "execution_count": 38,
   "metadata": {},
   "outputs": [
    {
     "data": {
      "text/plain": [
       "17462"
      ]
     },
     "execution_count": 38,
     "metadata": {},
     "output_type": "execute_result"
    }
   ],
   "source": [
    "data.loc[data['price'] < 200 ].shape[0]"
   ]
  },
  {
   "cell_type": "code",
   "execution_count": 39,
   "metadata": {},
   "outputs": [
    {
     "data": {
      "text/html": [
       "<div>\n",
       "<style scoped>\n",
       "    .dataframe tbody tr th:only-of-type {\n",
       "        vertical-align: middle;\n",
       "    }\n",
       "\n",
       "    .dataframe tbody tr th {\n",
       "        vertical-align: top;\n",
       "    }\n",
       "\n",
       "    .dataframe thead th {\n",
       "        text-align: right;\n",
       "    }\n",
       "</style>\n",
       "<table border=\"1\" class=\"dataframe\">\n",
       "  <thead>\n",
       "    <tr style=\"text-align: right;\">\n",
       "      <th></th>\n",
       "      <th>price</th>\n",
       "      <th>vehicle_type</th>\n",
       "      <th>registration_year</th>\n",
       "      <th>gearbox</th>\n",
       "      <th>power</th>\n",
       "      <th>model</th>\n",
       "      <th>kilometer</th>\n",
       "      <th>fuel_type</th>\n",
       "      <th>brand</th>\n",
       "      <th>repaired</th>\n",
       "    </tr>\n",
       "  </thead>\n",
       "  <tbody>\n",
       "    <tr>\n",
       "      <th>172</th>\n",
       "      <td>19750</td>\n",
       "      <td>convertible</td>\n",
       "      <td>2006</td>\n",
       "      <td>manual</td>\n",
       "      <td>305</td>\n",
       "      <td>mustang</td>\n",
       "      <td>50000</td>\n",
       "      <td>petrol</td>\n",
       "      <td>ford</td>\n",
       "      <td>no</td>\n",
       "    </tr>\n",
       "    <tr>\n",
       "      <th>484</th>\n",
       "      <td>19900</td>\n",
       "      <td>bus</td>\n",
       "      <td>2009</td>\n",
       "      <td>manual</td>\n",
       "      <td>150</td>\n",
       "      <td>viano</td>\n",
       "      <td>90000</td>\n",
       "      <td>gasoline</td>\n",
       "      <td>mercedes_benz</td>\n",
       "      <td>no</td>\n",
       "    </tr>\n",
       "    <tr>\n",
       "      <th>1360</th>\n",
       "      <td>19850</td>\n",
       "      <td>sedan</td>\n",
       "      <td>2013</td>\n",
       "      <td>auto</td>\n",
       "      <td>150</td>\n",
       "      <td>golf</td>\n",
       "      <td>60000</td>\n",
       "      <td>gasoline</td>\n",
       "      <td>volkswagen</td>\n",
       "      <td>no</td>\n",
       "    </tr>\n",
       "    <tr>\n",
       "      <th>1515</th>\n",
       "      <td>20000</td>\n",
       "      <td>sedan</td>\n",
       "      <td>2010</td>\n",
       "      <td>auto</td>\n",
       "      <td>239</td>\n",
       "      <td>a6</td>\n",
       "      <td>150000</td>\n",
       "      <td>gasoline</td>\n",
       "      <td>audi</td>\n",
       "      <td>no</td>\n",
       "    </tr>\n",
       "    <tr>\n",
       "      <th>1586</th>\n",
       "      <td>20000</td>\n",
       "      <td>sedan</td>\n",
       "      <td>2014</td>\n",
       "      <td>auto</td>\n",
       "      <td>184</td>\n",
       "      <td>leon</td>\n",
       "      <td>40000</td>\n",
       "      <td>gasoline</td>\n",
       "      <td>seat</td>\n",
       "      <td>no</td>\n",
       "    </tr>\n",
       "    <tr>\n",
       "      <th>...</th>\n",
       "      <td>...</td>\n",
       "      <td>...</td>\n",
       "      <td>...</td>\n",
       "      <td>...</td>\n",
       "      <td>...</td>\n",
       "      <td>...</td>\n",
       "      <td>...</td>\n",
       "      <td>...</td>\n",
       "      <td>...</td>\n",
       "      <td>...</td>\n",
       "    </tr>\n",
       "    <tr>\n",
       "      <th>353193</th>\n",
       "      <td>19500</td>\n",
       "      <td>bus</td>\n",
       "      <td>1970</td>\n",
       "      <td>auto</td>\n",
       "      <td>69</td>\n",
       "      <td>transporter</td>\n",
       "      <td>30000</td>\n",
       "      <td>petrol</td>\n",
       "      <td>volkswagen</td>\n",
       "      <td>no</td>\n",
       "    </tr>\n",
       "    <tr>\n",
       "      <th>353590</th>\n",
       "      <td>19950</td>\n",
       "      <td>wagon</td>\n",
       "      <td>2009</td>\n",
       "      <td>manual</td>\n",
       "      <td>265</td>\n",
       "      <td>other</td>\n",
       "      <td>125000</td>\n",
       "      <td>petrol</td>\n",
       "      <td>audi</td>\n",
       "      <td>no</td>\n",
       "    </tr>\n",
       "    <tr>\n",
       "      <th>354045</th>\n",
       "      <td>20000</td>\n",
       "      <td>coupe</td>\n",
       "      <td>2006</td>\n",
       "      <td>auto</td>\n",
       "      <td>476</td>\n",
       "      <td>other</td>\n",
       "      <td>125000</td>\n",
       "      <td>petrol</td>\n",
       "      <td>mercedes_benz</td>\n",
       "      <td>no</td>\n",
       "    </tr>\n",
       "    <tr>\n",
       "      <th>354178</th>\n",
       "      <td>19990</td>\n",
       "      <td>small</td>\n",
       "      <td>2014</td>\n",
       "      <td>auto</td>\n",
       "      <td>185</td>\n",
       "      <td>a1</td>\n",
       "      <td>10000</td>\n",
       "      <td>petrol</td>\n",
       "      <td>audi</td>\n",
       "      <td>no</td>\n",
       "    </tr>\n",
       "    <tr>\n",
       "      <th>354319</th>\n",
       "      <td>19800</td>\n",
       "      <td>sedan</td>\n",
       "      <td>2011</td>\n",
       "      <td>manual</td>\n",
       "      <td>170</td>\n",
       "      <td>1er</td>\n",
       "      <td>80000</td>\n",
       "      <td>petrol</td>\n",
       "      <td>bmw</td>\n",
       "      <td>no</td>\n",
       "    </tr>\n",
       "  </tbody>\n",
       "</table>\n",
       "<p>2436 rows × 10 columns</p>\n",
       "</div>"
      ],
      "text/plain": [
       "        price vehicle_type  registration_year gearbox  power        model  \\\n",
       "172     19750  convertible               2006  manual    305      mustang   \n",
       "484     19900          bus               2009  manual    150        viano   \n",
       "1360    19850        sedan               2013    auto    150         golf   \n",
       "1515    20000        sedan               2010    auto    239           a6   \n",
       "1586    20000        sedan               2014    auto    184         leon   \n",
       "...       ...          ...                ...     ...    ...          ...   \n",
       "353193  19500          bus               1970    auto     69  transporter   \n",
       "353590  19950        wagon               2009  manual    265        other   \n",
       "354045  20000        coupe               2006    auto    476        other   \n",
       "354178  19990        small               2014    auto    185           a1   \n",
       "354319  19800        sedan               2011  manual    170          1er   \n",
       "\n",
       "        kilometer fuel_type          brand repaired  \n",
       "172         50000    petrol           ford       no  \n",
       "484         90000  gasoline  mercedes_benz       no  \n",
       "1360        60000  gasoline     volkswagen       no  \n",
       "1515       150000  gasoline           audi       no  \n",
       "1586        40000  gasoline           seat       no  \n",
       "...           ...       ...            ...      ...  \n",
       "353193      30000    petrol     volkswagen       no  \n",
       "353590     125000    petrol           audi       no  \n",
       "354045     125000    petrol  mercedes_benz       no  \n",
       "354178      10000    petrol           audi       no  \n",
       "354319      80000    petrol            bmw       no  \n",
       "\n",
       "[2436 rows x 10 columns]"
      ]
     },
     "execution_count": 39,
     "metadata": {},
     "output_type": "execute_result"
    }
   ],
   "source": [
    "data.loc[data['price']> 19000]"
   ]
  },
  {
   "cell_type": "markdown",
   "metadata": {},
   "source": [
    "Удалим только машины у которых цена меньше 200. По графику видно большое количество выбросов после 7500."
   ]
  },
  {
   "cell_type": "code",
   "execution_count": 40,
   "metadata": {},
   "outputs": [],
   "source": [
    "data = data.drop(data.query('price <= 200').index).reset_index(drop=True)"
   ]
  },
  {
   "cell_type": "code",
   "execution_count": 41,
   "metadata": {},
   "outputs": [
    {
     "data": {
      "text/plain": [
       "price                    0\n",
       "vehicle_type             0\n",
       "registration_year        0\n",
       "gearbox              15274\n",
       "power                    0\n",
       "model                    0\n",
       "kilometer                0\n",
       "fuel_type            26761\n",
       "brand                    0\n",
       "repaired                 0\n",
       "dtype: int64"
      ]
     },
     "execution_count": 41,
     "metadata": {},
     "output_type": "execute_result"
    }
   ],
   "source": [
    "data.isna().sum()"
   ]
  },
  {
   "cell_type": "code",
   "execution_count": 42,
   "metadata": {},
   "outputs": [
    {
     "data": {
      "text/plain": [
       "334921"
      ]
     },
     "execution_count": 42,
     "metadata": {},
     "output_type": "execute_result"
    }
   ],
   "source": [
    "data.shape[0]"
   ]
  },
  {
   "cell_type": "code",
   "execution_count": 43,
   "metadata": {},
   "outputs": [
    {
     "data": {
      "text/plain": [
       "array(['other', 'coupe', 'suv', 'small', 'sedan', 'convertible', 'bus',\n",
       "       'wagon'], dtype=object)"
      ]
     },
     "execution_count": 43,
     "metadata": {},
     "output_type": "execute_result"
    }
   ],
   "source": [
    "data['vehicle_type'].unique()"
   ]
  },
  {
   "cell_type": "code",
   "execution_count": 44,
   "metadata": {},
   "outputs": [
    {
     "data": {
      "image/png": "[encoded data removed]",
      "text/plain": [
       "<Figure size 1080x360 with 1 Axes>"
      ]
     },
     "metadata": {
      "needs_background": "light"
     },
     "output_type": "display_data"
    }
   ],
   "source": [
    "plt.figure(figsize=(15,5))\n",
    "data['vehicle_type'].value_counts().plot.bar()\n",
    "plt.title(f'Распределение столбца vehicle_type')\n",
    "plt.show()"
   ]
  },
  {
   "cell_type": "code",
   "execution_count": 45,
   "metadata": {},
   "outputs": [
    {
     "data": {
      "image/png": "[encoded data removed]",
      "text/plain": [
       "<Figure size 1080x360 with 1 Axes>"
      ]
     },
     "metadata": {
      "needs_background": "light"
     },
     "output_type": "display_data"
    }
   ],
   "source": [
    "plt.figure(figsize=(15,5))\n",
    "data['gearbox'].value_counts().plot.bar()\n",
    "plt.title(f'Распределение столбца vehicle_type')\n",
    "plt.show()"
   ]
  },
  {
   "cell_type": "code",
   "execution_count": 46,
   "metadata": {},
   "outputs": [
    {
     "data": {
      "image/png": "[encoded data removed]",
      "text/plain": [
       "<Figure size 1080x504 with 1 Axes>"
      ]
     },
     "metadata": {
      "needs_background": "light"
     },
     "output_type": "display_data"
    }
   ],
   "source": [
    "plt.figure(figsize=(15,7))\n",
    "plt.ylim(0,200)\n",
    "data['registration_year'].hist(bins=75,)\n",
    "plt.title('Распределение анкет по годам', fontsize='x-large')\n",
    "plt.xlabel('Год регистрации авто', fontsize='x-large')\n",
    "plt.show()"
   ]
  },
  {
   "cell_type": "code",
   "execution_count": 47,
   "metadata": {},
   "outputs": [
    {
     "data": {
      "text/plain": [
       "<AxesSubplot:>"
      ]
     },
     "execution_count": 47,
     "metadata": {},
     "output_type": "execute_result"
    },
    {
     "data": {
      "image/png": "[encoded data removed]",
      "text/plain": [
       "<Figure size 720x360 with 1 Axes>"
      ]
     },
     "metadata": {
      "needs_background": "light"
     },
     "output_type": "display_data"
    }
   ],
   "source": [
    "data['registration_year'].plot(kind='box', figsize=(10, 5))"
   ]
  },
  {
   "cell_type": "code",
   "execution_count": 48,
   "metadata": {},
   "outputs": [
    {
     "data": {
      "image/png": "[encoded data removed]",
      "text/plain": [
       "<Figure size 1080x360 with 1 Axes>"
      ]
     },
     "metadata": {
      "needs_background": "light"
     },
     "output_type": "display_data"
    }
   ],
   "source": [
    "plt.figure(figsize=(15,5))\n",
    "data['registration_year'].value_counts().plot.bar()\n",
    "plt.title(f'Распределение столбца registration_year')\n",
    "plt.show()\n"
   ]
  },
  {
   "cell_type": "code",
   "execution_count": 49,
   "metadata": {},
   "outputs": [
    {
     "data": {
      "text/plain": [
       "9999"
      ]
     },
     "execution_count": 49,
     "metadata": {},
     "output_type": "execute_result"
    }
   ],
   "source": [
    "data['registration_year'].max()"
   ]
  },
  {
   "cell_type": "markdown",
   "metadata": {},
   "source": [
    "уберем все года регистрации больше текушего года."
   ]
  },
  {
   "cell_type": "code",
   "execution_count": 50,
   "metadata": {},
   "outputs": [],
   "source": [
    "data = data.drop(data.query('registration_year > 2023').index).reset_index(drop=True)"
   ]
  },
  {
   "cell_type": "code",
   "execution_count": 51,
   "metadata": {},
   "outputs": [
    {
     "data": {
      "text/plain": [
       "0.05    1993.0\n",
       "0.95    2016.0\n",
       "Name: registration_year, dtype: float64"
      ]
     },
     "execution_count": 51,
     "metadata": {},
     "output_type": "execute_result"
    }
   ],
   "source": [
    "data['registration_year'].quantile([.05, 0.95])"
   ]
  },
  {
   "cell_type": "code",
   "execution_count": 52,
   "metadata": {},
   "outputs": [
    {
     "data": {
      "text/plain": [
       "0         1993\n",
       "1         2011\n",
       "2         2004\n",
       "3         2001\n",
       "4         2008\n",
       "          ... \n",
       "334853    2000\n",
       "334854    2005\n",
       "334855    2000\n",
       "334856    1996\n",
       "334857    2002\n",
       "Name: registration_year, Length: 334858, dtype: int64"
      ]
     },
     "execution_count": 52,
     "metadata": {},
     "output_type": "execute_result"
    }
   ],
   "source": [
    "data['registration_year']"
   ]
  },
  {
   "cell_type": "code",
   "execution_count": null,
   "metadata": {},
   "outputs": [],
   "source": []
  },
  {
   "cell_type": "markdown",
   "metadata": {},
   "source": [
    "Ну и так же уберем авто год регистрации которых меньше 1990 г."
   ]
  },
  {
   "cell_type": "code",
   "execution_count": 53,
   "metadata": {},
   "outputs": [
    {
     "data": {
      "text/plain": [
       "'2016-04-07 14:36:58'"
      ]
     },
     "execution_count": 53,
     "metadata": {},
     "output_type": "execute_result"
    }
   ],
   "source": [
    "data2['DateCrawled'].max()"
   ]
  },
  {
   "cell_type": "code",
   "execution_count": 54,
   "metadata": {},
   "outputs": [
    {
     "data": {
      "text/plain": [
       "9999"
      ]
     },
     "execution_count": 54,
     "metadata": {},
     "output_type": "execute_result"
    }
   ],
   "source": [
    "data2['RegistrationYear'].max()"
   ]
  },
  {
   "cell_type": "markdown",
   "metadata": {},
   "source": [
    "тогда:"
   ]
  },
  {
   "cell_type": "code",
   "execution_count": 55,
   "metadata": {},
   "outputs": [
    {
     "data": {
      "text/html": [
       "<div>\n",
       "<style scoped>\n",
       "    .dataframe tbody tr th:only-of-type {\n",
       "        vertical-align: middle;\n",
       "    }\n",
       "\n",
       "    .dataframe tbody tr th {\n",
       "        vertical-align: top;\n",
       "    }\n",
       "\n",
       "    .dataframe thead th {\n",
       "        text-align: right;\n",
       "    }\n",
       "</style>\n",
       "<table border=\"1\" class=\"dataframe\">\n",
       "  <thead>\n",
       "    <tr style=\"text-align: right;\">\n",
       "      <th></th>\n",
       "      <th>RegistrationMonth</th>\n",
       "      <th>RegistrationYear</th>\n",
       "    </tr>\n",
       "  </thead>\n",
       "  <tbody>\n",
       "    <tr>\n",
       "      <th>0</th>\n",
       "      <td>0</td>\n",
       "      <td>1993</td>\n",
       "    </tr>\n",
       "    <tr>\n",
       "      <th>1</th>\n",
       "      <td>5</td>\n",
       "      <td>2011</td>\n",
       "    </tr>\n",
       "    <tr>\n",
       "      <th>2</th>\n",
       "      <td>8</td>\n",
       "      <td>2004</td>\n",
       "    </tr>\n",
       "    <tr>\n",
       "      <th>3</th>\n",
       "      <td>6</td>\n",
       "      <td>2001</td>\n",
       "    </tr>\n",
       "    <tr>\n",
       "      <th>4</th>\n",
       "      <td>7</td>\n",
       "      <td>2008</td>\n",
       "    </tr>\n",
       "    <tr>\n",
       "      <th>...</th>\n",
       "      <td>...</td>\n",
       "      <td>...</td>\n",
       "    </tr>\n",
       "    <tr>\n",
       "      <th>354364</th>\n",
       "      <td>7</td>\n",
       "      <td>2005</td>\n",
       "    </tr>\n",
       "    <tr>\n",
       "      <th>354365</th>\n",
       "      <td>1</td>\n",
       "      <td>2005</td>\n",
       "    </tr>\n",
       "    <tr>\n",
       "      <th>354366</th>\n",
       "      <td>3</td>\n",
       "      <td>2000</td>\n",
       "    </tr>\n",
       "    <tr>\n",
       "      <th>354367</th>\n",
       "      <td>3</td>\n",
       "      <td>1996</td>\n",
       "    </tr>\n",
       "    <tr>\n",
       "      <th>354368</th>\n",
       "      <td>6</td>\n",
       "      <td>2002</td>\n",
       "    </tr>\n",
       "  </tbody>\n",
       "</table>\n",
       "<p>354369 rows × 2 columns</p>\n",
       "</div>"
      ],
      "text/plain": [
       "        RegistrationMonth  RegistrationYear\n",
       "0                       0              1993\n",
       "1                       5              2011\n",
       "2                       8              2004\n",
       "3                       6              2001\n",
       "4                       7              2008\n",
       "...                   ...               ...\n",
       "354364                  7              2005\n",
       "354365                  1              2005\n",
       "354366                  3              2000\n",
       "354367                  3              1996\n",
       "354368                  6              2002\n",
       "\n",
       "[354369 rows x 2 columns]"
      ]
     },
     "execution_count": 55,
     "metadata": {},
     "output_type": "execute_result"
    }
   ],
   "source": [
    "data2[['RegistrationMonth','RegistrationYear']]"
   ]
  },
  {
   "cell_type": "code",
   "execution_count": 56,
   "metadata": {},
   "outputs": [
    {
     "data": {
      "text/plain": [
       "0"
      ]
     },
     "execution_count": 56,
     "metadata": {},
     "output_type": "execute_result"
    }
   ],
   "source": [
    "data2['RegistrationMonth'].min() "
   ]
  },
  {
   "cell_type": "code",
   "execution_count": 57,
   "metadata": {},
   "outputs": [
    {
     "data": {
      "text/plain": [
       "12"
      ]
     },
     "execution_count": 57,
     "metadata": {},
     "output_type": "execute_result"
    }
   ],
   "source": [
    "data2['RegistrationMonth'].max()"
   ]
  },
  {
   "cell_type": "code",
   "execution_count": 58,
   "metadata": {},
   "outputs": [
    {
     "data": {
      "text/plain": [
       "0     37352\n",
       "3     34373\n",
       "6     31508\n",
       "4     29270\n",
       "5     29153\n",
       "7     27213\n",
       "10    26099\n",
       "12    24289\n",
       "11    24186\n",
       "9     23813\n",
       "1     23219\n",
       "8     22627\n",
       "2     21267\n",
       "Name: RegistrationMonth, dtype: int64"
      ]
     },
     "execution_count": 58,
     "metadata": {},
     "output_type": "execute_result"
    }
   ],
   "source": [
    "data2['RegistrationMonth'].value_counts()"
   ]
  },
  {
   "cell_type": "code",
   "execution_count": 59,
   "metadata": {},
   "outputs": [
    {
     "data": {
      "text/plain": [
       "array([ 0,  5,  8,  6,  7, 10, 12, 11,  2,  3,  1,  4,  9])"
      ]
     },
     "execution_count": 59,
     "metadata": {},
     "output_type": "execute_result"
    }
   ],
   "source": [
    "data2['RegistrationMonth'].unique()"
   ]
  },
  {
   "cell_type": "code",
   "execution_count": 60,
   "metadata": {},
   "outputs": [],
   "source": [
    "data['RegistrationMonth'] = data2['RegistrationMonth'] "
   ]
  },
  {
   "cell_type": "code",
   "execution_count": 61,
   "metadata": {},
   "outputs": [
    {
     "data": {
      "text/html": [
       "<div>\n",
       "<style scoped>\n",
       "    .dataframe tbody tr th:only-of-type {\n",
       "        vertical-align: middle;\n",
       "    }\n",
       "\n",
       "    .dataframe tbody tr th {\n",
       "        vertical-align: top;\n",
       "    }\n",
       "\n",
       "    .dataframe thead th {\n",
       "        text-align: right;\n",
       "    }\n",
       "</style>\n",
       "<table border=\"1\" class=\"dataframe\">\n",
       "  <thead>\n",
       "    <tr style=\"text-align: right;\">\n",
       "      <th></th>\n",
       "      <th>price</th>\n",
       "      <th>vehicle_type</th>\n",
       "      <th>registration_year</th>\n",
       "      <th>gearbox</th>\n",
       "      <th>power</th>\n",
       "      <th>model</th>\n",
       "      <th>kilometer</th>\n",
       "      <th>fuel_type</th>\n",
       "      <th>brand</th>\n",
       "      <th>repaired</th>\n",
       "      <th>RegistrationMonth</th>\n",
       "    </tr>\n",
       "  </thead>\n",
       "  <tbody>\n",
       "    <tr>\n",
       "      <th>0</th>\n",
       "      <td>480</td>\n",
       "      <td>other</td>\n",
       "      <td>1993</td>\n",
       "      <td>manual</td>\n",
       "      <td>0</td>\n",
       "      <td>golf</td>\n",
       "      <td>150000</td>\n",
       "      <td>petrol</td>\n",
       "      <td>volkswagen</td>\n",
       "      <td>no</td>\n",
       "      <td>0</td>\n",
       "    </tr>\n",
       "    <tr>\n",
       "      <th>1</th>\n",
       "      <td>18300</td>\n",
       "      <td>coupe</td>\n",
       "      <td>2011</td>\n",
       "      <td>manual</td>\n",
       "      <td>190</td>\n",
       "      <td>other</td>\n",
       "      <td>125000</td>\n",
       "      <td>gasoline</td>\n",
       "      <td>audi</td>\n",
       "      <td>yes</td>\n",
       "      <td>5</td>\n",
       "    </tr>\n",
       "    <tr>\n",
       "      <th>2</th>\n",
       "      <td>9800</td>\n",
       "      <td>suv</td>\n",
       "      <td>2004</td>\n",
       "      <td>auto</td>\n",
       "      <td>163</td>\n",
       "      <td>grand</td>\n",
       "      <td>125000</td>\n",
       "      <td>gasoline</td>\n",
       "      <td>jeep</td>\n",
       "      <td>no</td>\n",
       "      <td>8</td>\n",
       "    </tr>\n",
       "    <tr>\n",
       "      <th>3</th>\n",
       "      <td>1500</td>\n",
       "      <td>small</td>\n",
       "      <td>2001</td>\n",
       "      <td>manual</td>\n",
       "      <td>75</td>\n",
       "      <td>golf</td>\n",
       "      <td>150000</td>\n",
       "      <td>petrol</td>\n",
       "      <td>volkswagen</td>\n",
       "      <td>no</td>\n",
       "      <td>6</td>\n",
       "    </tr>\n",
       "    <tr>\n",
       "      <th>4</th>\n",
       "      <td>3600</td>\n",
       "      <td>small</td>\n",
       "      <td>2008</td>\n",
       "      <td>manual</td>\n",
       "      <td>69</td>\n",
       "      <td>fabia</td>\n",
       "      <td>90000</td>\n",
       "      <td>gasoline</td>\n",
       "      <td>skoda</td>\n",
       "      <td>no</td>\n",
       "      <td>7</td>\n",
       "    </tr>\n",
       "    <tr>\n",
       "      <th>...</th>\n",
       "      <td>...</td>\n",
       "      <td>...</td>\n",
       "      <td>...</td>\n",
       "      <td>...</td>\n",
       "      <td>...</td>\n",
       "      <td>...</td>\n",
       "      <td>...</td>\n",
       "      <td>...</td>\n",
       "      <td>...</td>\n",
       "      <td>...</td>\n",
       "      <td>...</td>\n",
       "    </tr>\n",
       "    <tr>\n",
       "      <th>334853</th>\n",
       "      <td>1150</td>\n",
       "      <td>bus</td>\n",
       "      <td>2000</td>\n",
       "      <td>manual</td>\n",
       "      <td>0</td>\n",
       "      <td>zafira</td>\n",
       "      <td>150000</td>\n",
       "      <td>petrol</td>\n",
       "      <td>opel</td>\n",
       "      <td>no</td>\n",
       "      <td>10</td>\n",
       "    </tr>\n",
       "    <tr>\n",
       "      <th>334854</th>\n",
       "      <td>2200</td>\n",
       "      <td>other</td>\n",
       "      <td>2005</td>\n",
       "      <td>NaN</td>\n",
       "      <td>0</td>\n",
       "      <td>other</td>\n",
       "      <td>20000</td>\n",
       "      <td>NaN</td>\n",
       "      <td>sonstige_autos</td>\n",
       "      <td>no</td>\n",
       "      <td>3</td>\n",
       "    </tr>\n",
       "    <tr>\n",
       "      <th>334855</th>\n",
       "      <td>1199</td>\n",
       "      <td>convertible</td>\n",
       "      <td>2000</td>\n",
       "      <td>auto</td>\n",
       "      <td>101</td>\n",
       "      <td>fortwo</td>\n",
       "      <td>125000</td>\n",
       "      <td>petrol</td>\n",
       "      <td>smart</td>\n",
       "      <td>no</td>\n",
       "      <td>7</td>\n",
       "    </tr>\n",
       "    <tr>\n",
       "      <th>334856</th>\n",
       "      <td>9200</td>\n",
       "      <td>bus</td>\n",
       "      <td>1996</td>\n",
       "      <td>manual</td>\n",
       "      <td>102</td>\n",
       "      <td>transporter</td>\n",
       "      <td>150000</td>\n",
       "      <td>gasoline</td>\n",
       "      <td>volkswagen</td>\n",
       "      <td>no</td>\n",
       "      <td>7</td>\n",
       "    </tr>\n",
       "    <tr>\n",
       "      <th>334857</th>\n",
       "      <td>3400</td>\n",
       "      <td>wagon</td>\n",
       "      <td>2002</td>\n",
       "      <td>manual</td>\n",
       "      <td>100</td>\n",
       "      <td>golf</td>\n",
       "      <td>150000</td>\n",
       "      <td>gasoline</td>\n",
       "      <td>volkswagen</td>\n",
       "      <td>no</td>\n",
       "      <td>8</td>\n",
       "    </tr>\n",
       "  </tbody>\n",
       "</table>\n",
       "<p>334858 rows × 11 columns</p>\n",
       "</div>"
      ],
      "text/plain": [
       "        price vehicle_type  registration_year gearbox  power        model  \\\n",
       "0         480        other               1993  manual      0         golf   \n",
       "1       18300        coupe               2011  manual    190        other   \n",
       "2        9800          suv               2004    auto    163        grand   \n",
       "3        1500        small               2001  manual     75         golf   \n",
       "4        3600        small               2008  manual     69        fabia   \n",
       "...       ...          ...                ...     ...    ...          ...   \n",
       "334853   1150          bus               2000  manual      0       zafira   \n",
       "334854   2200        other               2005     NaN      0        other   \n",
       "334855   1199  convertible               2000    auto    101       fortwo   \n",
       "334856   9200          bus               1996  manual    102  transporter   \n",
       "334857   3400        wagon               2002  manual    100         golf   \n",
       "\n",
       "        kilometer fuel_type           brand repaired  RegistrationMonth  \n",
       "0          150000    petrol      volkswagen       no                  0  \n",
       "1          125000  gasoline            audi      yes                  5  \n",
       "2          125000  gasoline            jeep       no                  8  \n",
       "3          150000    petrol      volkswagen       no                  6  \n",
       "4           90000  gasoline           skoda       no                  7  \n",
       "...           ...       ...             ...      ...                ...  \n",
       "334853     150000    petrol            opel       no                 10  \n",
       "334854      20000       NaN  sonstige_autos       no                  3  \n",
       "334855     125000    petrol           smart       no                  7  \n",
       "334856     150000  gasoline      volkswagen       no                  7  \n",
       "334857     150000  gasoline      volkswagen       no                  8  \n",
       "\n",
       "[334858 rows x 11 columns]"
      ]
     },
     "execution_count": 61,
     "metadata": {},
     "output_type": "execute_result"
    }
   ],
   "source": [
    "data"
   ]
  },
  {
   "cell_type": "markdown",
   "metadata": {},
   "source": [
    "Удали строки превышаюшие максимальную дату выгрузи анкеты,"
   ]
  },
  {
   "cell_type": "code",
   "execution_count": 62,
   "metadata": {},
   "outputs": [],
   "source": [
    "data = data.drop(data.query('registration_year <= 1990').index).reset_index(drop=True)"
   ]
  },
  {
   "cell_type": "code",
   "execution_count": 64,
   "metadata": {},
   "outputs": [],
   "source": [
    "data = data.drop(data.query('registration_year > 2017').index).reset_index(drop=True)"
   ]
  },
  {
   "cell_type": "code",
   "execution_count": 65,
   "metadata": {},
   "outputs": [
    {
     "name": "stdout",
     "output_type": "stream",
     "text": [
      "<class 'pandas.core.frame.DataFrame'>\n",
      "RangeIndex: 320244 entries, 0 to 320243\n",
      "Data columns (total 11 columns):\n",
      " #   Column             Non-Null Count   Dtype \n",
      "---  ------             --------------   ----- \n",
      " 0   price              320244 non-null  int64 \n",
      " 1   vehicle_type       320244 non-null  object\n",
      " 2   registration_year  320244 non-null  int64 \n",
      " 3   gearbox            306754 non-null  object\n",
      " 4   power              320244 non-null  int64 \n",
      " 5   model              320244 non-null  object\n",
      " 6   kilometer          320244 non-null  int64 \n",
      " 7   fuel_type          296607 non-null  object\n",
      " 8   brand              320244 non-null  object\n",
      " 9   repaired           320244 non-null  object\n",
      " 10  RegistrationMonth  320244 non-null  int64 \n",
      "dtypes: int64(5), object(6)\n",
      "memory usage: 26.9+ MB\n"
     ]
    }
   ],
   "source": [
    "data.info()"
   ]
  },
  {
   "cell_type": "code",
   "execution_count": 66,
   "metadata": {},
   "outputs": [],
   "source": [
    "data.drop(['RegistrationMonth'], axis=1, inplace=True)"
   ]
  },
  {
   "cell_type": "code",
   "execution_count": 67,
   "metadata": {},
   "outputs": [
    {
     "data": {
      "image/png": "[encoded data removed]",
      "text/plain": [
       "<Figure size 1080x360 with 1 Axes>"
      ]
     },
     "metadata": {
      "needs_background": "light"
     },
     "output_type": "display_data"
    }
   ],
   "source": [
    "plt.figure(figsize=(15,5))\n",
    "data['registration_year'].value_counts().plot.bar()\n",
    "plt.title(f'Распределение столбца registration_year')\n",
    "plt.show()"
   ]
  },
  {
   "cell_type": "code",
   "execution_count": 68,
   "metadata": {},
   "outputs": [
    {
     "data": {
      "image/png": "[encoded data removed]",
      "text/plain": [
       "<Figure size 1080x432 with 1 Axes>"
      ]
     },
     "metadata": {
      "needs_background": "light"
     },
     "output_type": "display_data"
    }
   ],
   "source": [
    "data['power'].plot(\n",
    "            title = 'Распределение мощности',\n",
    "            kind='hist', \n",
    "            bins=1000, \n",
    "            grid=True, \n",
    "            figsize=(15, 6),\n",
    "            alpha=0.5,\n",
    "        ).set(xlabel='power', ylabel = 'Кол-во')\n",
    "plt.xlim(0,300)\n",
    "plt.ylim(0,111111)\n",
    "plt.show()"
   ]
  },
  {
   "cell_type": "code",
   "execution_count": 69,
   "metadata": {},
   "outputs": [
    {
     "data": {
      "image/png": "[encoded data removed]",
      "text/plain": [
       "<Figure size 1080x360 with 1 Axes>"
      ]
     },
     "metadata": {
      "needs_background": "light"
     },
     "output_type": "display_data"
    }
   ],
   "source": [
    "plt.figure(figsize=(15,5))\n",
    "data['power'].value_counts().plot.bar()\n",
    "plt.title(f'Распределение столбца power')\n",
    "plt.show()"
   ]
  },
  {
   "cell_type": "code",
   "execution_count": 70,
   "metadata": {},
   "outputs": [
    {
     "data": {
      "text/plain": [
       "<AxesSubplot:>"
      ]
     },
     "execution_count": 70,
     "metadata": {},
     "output_type": "execute_result"
    },
    {
     "data": {
      "image/png": "[encoded data removed]",
      "text/plain": [
       "<Figure size 720x360 with 1 Axes>"
      ]
     },
     "metadata": {
      "needs_background": "light"
     },
     "output_type": "display_data"
    }
   ],
   "source": [
    "data['power'].plot(kind='box', figsize=(10, 5))"
   ]
  },
  {
   "cell_type": "code",
   "execution_count": 71,
   "metadata": {},
   "outputs": [
    {
     "data": {
      "text/plain": [
       "<AxesSubplot:>"
      ]
     },
     "execution_count": 71,
     "metadata": {},
     "output_type": "execute_result"
    },
    {
     "data": {
      "image/png": "[encoded data removed]",
      "text/plain": [
       "<Figure size 720x360 with 1 Axes>"
      ]
     },
     "metadata": {
      "needs_background": "light"
     },
     "output_type": "display_data"
    }
   ],
   "source": [
    "data['power'].plot(kind='box', figsize=(10, 5))"
   ]
  },
  {
   "cell_type": "markdown",
   "metadata": {},
   "source": [
    "kilometer "
   ]
  },
  {
   "cell_type": "code",
   "execution_count": 72,
   "metadata": {},
   "outputs": [
    {
     "data": {
      "image/png": "[encoded data removed]",
      "text/plain": [
       "<Figure size 1080x360 with 1 Axes>"
      ]
     },
     "metadata": {
      "needs_background": "light"
     },
     "output_type": "display_data"
    }
   ],
   "source": [
    "plt.figure(figsize=(15,5))\n",
    "data['kilometer'].value_counts().plot.bar()\n",
    "plt.title(f'Распределение столбца пробег (км)')\n",
    "plt.show()"
   ]
  },
  {
   "cell_type": "code",
   "execution_count": 73,
   "metadata": {},
   "outputs": [
    {
     "data": {
      "text/plain": [
       "<AxesSubplot:>"
      ]
     },
     "execution_count": 73,
     "metadata": {},
     "output_type": "execute_result"
    },
    {
     "data": {
      "image/png": "[encoded data removed]",
      "text/plain": [
       "<Figure size 720x360 with 1 Axes>"
      ]
     },
     "metadata": {
      "needs_background": "light"
     },
     "output_type": "display_data"
    }
   ],
   "source": [
    "data['kilometer'].plot(kind='box', figsize=(10, 5))"
   ]
  },
  {
   "cell_type": "code",
   "execution_count": 74,
   "metadata": {},
   "outputs": [
    {
     "data": {
      "text/plain": [
       "0.05     40000.0\n",
       "0.95    150000.0\n",
       "Name: kilometer, dtype: float64"
      ]
     },
     "execution_count": 74,
     "metadata": {},
     "output_type": "execute_result"
    }
   ],
   "source": [
    "data['kilometer'].quantile([.05, 0.95])"
   ]
  },
  {
   "cell_type": "markdown",
   "metadata": {},
   "source": [
    "Машины могут быть с новыми двигателями или почти новые поэтому минимальный пробег трогать не будем"
   ]
  },
  {
   "cell_type": "code",
   "execution_count": 75,
   "metadata": {},
   "outputs": [
    {
     "data": {
      "text/plain": [
       "<AxesSubplot:>"
      ]
     },
     "execution_count": 75,
     "metadata": {},
     "output_type": "execute_result"
    },
    {
     "data": {
      "image/png": "[encoded data removed]",
      "text/plain": [
       "<Figure size 720x360 with 1 Axes>"
      ]
     },
     "metadata": {
      "needs_background": "light"
     },
     "output_type": "display_data"
    }
   ],
   "source": [
    "data['kilometer'].plot(kind='box', figsize=(10, 5))"
   ]
  },
  {
   "cell_type": "code",
   "execution_count": 76,
   "metadata": {},
   "outputs": [
    {
     "data": {
      "text/html": [
       "<div>\n",
       "<style scoped>\n",
       "    .dataframe tbody tr th:only-of-type {\n",
       "        vertical-align: middle;\n",
       "    }\n",
       "\n",
       "    .dataframe tbody tr th {\n",
       "        vertical-align: top;\n",
       "    }\n",
       "\n",
       "    .dataframe thead th {\n",
       "        text-align: right;\n",
       "    }\n",
       "</style>\n",
       "<table border=\"1\" class=\"dataframe\">\n",
       "  <thead>\n",
       "    <tr style=\"text-align: right;\">\n",
       "      <th></th>\n",
       "      <th>price</th>\n",
       "      <th>vehicle_type</th>\n",
       "      <th>registration_year</th>\n",
       "      <th>gearbox</th>\n",
       "      <th>power</th>\n",
       "      <th>model</th>\n",
       "      <th>kilometer</th>\n",
       "      <th>fuel_type</th>\n",
       "      <th>brand</th>\n",
       "      <th>repaired</th>\n",
       "    </tr>\n",
       "  </thead>\n",
       "  <tbody>\n",
       "    <tr>\n",
       "      <th>0</th>\n",
       "      <td>480</td>\n",
       "      <td>other</td>\n",
       "      <td>1993</td>\n",
       "      <td>manual</td>\n",
       "      <td>0</td>\n",
       "      <td>golf</td>\n",
       "      <td>150000</td>\n",
       "      <td>petrol</td>\n",
       "      <td>volkswagen</td>\n",
       "      <td>no</td>\n",
       "    </tr>\n",
       "    <tr>\n",
       "      <th>3</th>\n",
       "      <td>1500</td>\n",
       "      <td>small</td>\n",
       "      <td>2001</td>\n",
       "      <td>manual</td>\n",
       "      <td>75</td>\n",
       "      <td>golf</td>\n",
       "      <td>150000</td>\n",
       "      <td>petrol</td>\n",
       "      <td>volkswagen</td>\n",
       "      <td>no</td>\n",
       "    </tr>\n",
       "    <tr>\n",
       "      <th>5</th>\n",
       "      <td>650</td>\n",
       "      <td>sedan</td>\n",
       "      <td>1995</td>\n",
       "      <td>manual</td>\n",
       "      <td>102</td>\n",
       "      <td>3er</td>\n",
       "      <td>150000</td>\n",
       "      <td>petrol</td>\n",
       "      <td>bmw</td>\n",
       "      <td>yes</td>\n",
       "    </tr>\n",
       "    <tr>\n",
       "      <th>6</th>\n",
       "      <td>2200</td>\n",
       "      <td>convertible</td>\n",
       "      <td>2004</td>\n",
       "      <td>manual</td>\n",
       "      <td>109</td>\n",
       "      <td>2_reihe</td>\n",
       "      <td>150000</td>\n",
       "      <td>petrol</td>\n",
       "      <td>peugeot</td>\n",
       "      <td>no</td>\n",
       "    </tr>\n",
       "    <tr>\n",
       "      <th>8</th>\n",
       "      <td>999</td>\n",
       "      <td>small</td>\n",
       "      <td>1998</td>\n",
       "      <td>manual</td>\n",
       "      <td>101</td>\n",
       "      <td>golf</td>\n",
       "      <td>150000</td>\n",
       "      <td>NaN</td>\n",
       "      <td>volkswagen</td>\n",
       "      <td>no</td>\n",
       "    </tr>\n",
       "    <tr>\n",
       "      <th>...</th>\n",
       "      <td>...</td>\n",
       "      <td>...</td>\n",
       "      <td>...</td>\n",
       "      <td>...</td>\n",
       "      <td>...</td>\n",
       "      <td>...</td>\n",
       "      <td>...</td>\n",
       "      <td>...</td>\n",
       "      <td>...</td>\n",
       "      <td>...</td>\n",
       "    </tr>\n",
       "    <tr>\n",
       "      <th>320237</th>\n",
       "      <td>5250</td>\n",
       "      <td>other</td>\n",
       "      <td>2016</td>\n",
       "      <td>auto</td>\n",
       "      <td>150</td>\n",
       "      <td>159</td>\n",
       "      <td>150000</td>\n",
       "      <td>NaN</td>\n",
       "      <td>alfa_romeo</td>\n",
       "      <td>no</td>\n",
       "    </tr>\n",
       "    <tr>\n",
       "      <th>320238</th>\n",
       "      <td>3200</td>\n",
       "      <td>sedan</td>\n",
       "      <td>2004</td>\n",
       "      <td>manual</td>\n",
       "      <td>225</td>\n",
       "      <td>leon</td>\n",
       "      <td>150000</td>\n",
       "      <td>petrol</td>\n",
       "      <td>seat</td>\n",
       "      <td>yes</td>\n",
       "    </tr>\n",
       "    <tr>\n",
       "      <th>320239</th>\n",
       "      <td>1150</td>\n",
       "      <td>bus</td>\n",
       "      <td>2000</td>\n",
       "      <td>manual</td>\n",
       "      <td>0</td>\n",
       "      <td>zafira</td>\n",
       "      <td>150000</td>\n",
       "      <td>petrol</td>\n",
       "      <td>opel</td>\n",
       "      <td>no</td>\n",
       "    </tr>\n",
       "    <tr>\n",
       "      <th>320242</th>\n",
       "      <td>9200</td>\n",
       "      <td>bus</td>\n",
       "      <td>1996</td>\n",
       "      <td>manual</td>\n",
       "      <td>102</td>\n",
       "      <td>transporter</td>\n",
       "      <td>150000</td>\n",
       "      <td>gasoline</td>\n",
       "      <td>volkswagen</td>\n",
       "      <td>no</td>\n",
       "    </tr>\n",
       "    <tr>\n",
       "      <th>320243</th>\n",
       "      <td>3400</td>\n",
       "      <td>wagon</td>\n",
       "      <td>2002</td>\n",
       "      <td>manual</td>\n",
       "      <td>100</td>\n",
       "      <td>golf</td>\n",
       "      <td>150000</td>\n",
       "      <td>gasoline</td>\n",
       "      <td>volkswagen</td>\n",
       "      <td>no</td>\n",
       "    </tr>\n",
       "  </tbody>\n",
       "</table>\n",
       "<p>215799 rows × 10 columns</p>\n",
       "</div>"
      ],
      "text/plain": [
       "        price vehicle_type  registration_year gearbox  power        model  \\\n",
       "0         480        other               1993  manual      0         golf   \n",
       "3        1500        small               2001  manual     75         golf   \n",
       "5         650        sedan               1995  manual    102          3er   \n",
       "6        2200  convertible               2004  manual    109      2_reihe   \n",
       "8         999        small               1998  manual    101         golf   \n",
       "...       ...          ...                ...     ...    ...          ...   \n",
       "320237   5250        other               2016    auto    150          159   \n",
       "320238   3200        sedan               2004  manual    225         leon   \n",
       "320239   1150          bus               2000  manual      0       zafira   \n",
       "320242   9200          bus               1996  manual    102  transporter   \n",
       "320243   3400        wagon               2002  manual    100         golf   \n",
       "\n",
       "        kilometer fuel_type       brand repaired  \n",
       "0          150000    petrol  volkswagen       no  \n",
       "3          150000    petrol  volkswagen       no  \n",
       "5          150000    petrol         bmw      yes  \n",
       "6          150000    petrol     peugeot       no  \n",
       "8          150000       NaN  volkswagen       no  \n",
       "...           ...       ...         ...      ...  \n",
       "320237     150000       NaN  alfa_romeo       no  \n",
       "320238     150000    petrol        seat      yes  \n",
       "320239     150000    petrol        opel       no  \n",
       "320242     150000  gasoline  volkswagen       no  \n",
       "320243     150000  gasoline  volkswagen       no  \n",
       "\n",
       "[215799 rows x 10 columns]"
      ]
     },
     "execution_count": 76,
     "metadata": {},
     "output_type": "execute_result"
    }
   ],
   "source": [
    "data.query('kilometer > 140000')"
   ]
  },
  {
   "cell_type": "markdown",
   "metadata": {},
   "source": [
    "У большинства авто пробег 150000 км"
   ]
  },
  {
   "cell_type": "code",
   "execution_count": 77,
   "metadata": {},
   "outputs": [
    {
     "data": {
      "image/png": "[encoded data removed]",
      "text/plain": [
       "<Figure size 1080x360 with 1 Axes>"
      ]
     },
     "metadata": {
      "needs_background": "light"
     },
     "output_type": "display_data"
    }
   ],
   "source": [
    "plt.figure(figsize=(15,5))\n",
    "data['fuel_type'].value_counts().plot.bar()\n",
    "plt.title(f'Распределение столбца тип топлива')\n",
    "plt.show()"
   ]
  },
  {
   "cell_type": "code",
   "execution_count": 78,
   "metadata": {},
   "outputs": [
    {
     "data": {
      "text/plain": [
       "petrol      195476\n",
       "gasoline     95209\n",
       "lpg           4993\n",
       "cng            535\n",
       "hybrid         224\n",
       "other           87\n",
       "electric        83\n",
       "Name: fuel_type, dtype: int64"
      ]
     },
     "execution_count": 78,
     "metadata": {},
     "output_type": "execute_result"
    }
   ],
   "source": [
    "data['fuel_type'].value_counts()"
   ]
  },
  {
   "cell_type": "code",
   "execution_count": 79,
   "metadata": {},
   "outputs": [
    {
     "data": {
      "image/png": "[encoded data removed]",
      "text/plain": [
       "<Figure size 1080x360 with 1 Axes>"
      ]
     },
     "metadata": {
      "needs_background": "light"
     },
     "output_type": "display_data"
    }
   ],
   "source": [
    "plt.figure(figsize=(15,5))\n",
    "data['brand'].value_counts().plot.bar()\n",
    "plt.title(f'Распределение столбца тип топлива')\n",
    "plt.show()"
   ]
  },
  {
   "cell_type": "code",
   "execution_count": 80,
   "metadata": {},
   "outputs": [
    {
     "data": {
      "text/plain": [
       "volkswagen        68805\n",
       "opel              35705\n",
       "bmw               34212\n",
       "mercedes_benz     28988\n",
       "audi              27456\n",
       "ford              22425\n",
       "renault           16191\n",
       "peugeot           10355\n",
       "fiat               8482\n",
       "seat               6420\n",
       "skoda              5321\n",
       "mazda              5210\n",
       "smart              5085\n",
       "citroen            4669\n",
       "nissan             4525\n",
       "toyota             4397\n",
       "hyundai            3447\n",
       "mini               3082\n",
       "volvo              2927\n",
       "mitsubishi         2754\n",
       "honda              2567\n",
       "kia                2355\n",
       "suzuki             2073\n",
       "alfa_romeo         2056\n",
       "sonstige_autos     1730\n",
       "chevrolet          1467\n",
       "chrysler           1281\n",
       "dacia               875\n",
       "daihatsu            691\n",
       "subaru              681\n",
       "jeep                584\n",
       "porsche             524\n",
       "daewoo              496\n",
       "land_rover          484\n",
       "saab                476\n",
       "jaguar              437\n",
       "rover               421\n",
       "lancia              392\n",
       "lada                169\n",
       "trabant              29\n",
       "Name: brand, dtype: int64"
      ]
     },
     "execution_count": 80,
     "metadata": {},
     "output_type": "execute_result"
    }
   ],
   "source": [
    "data['brand'].value_counts()"
   ]
  },
  {
   "cell_type": "code",
   "execution_count": 81,
   "metadata": {},
   "outputs": [
    {
     "data": {
      "image/png": "[encoded data removed]",
      "text/plain": [
       "<Figure size 1080x360 with 1 Axes>"
      ]
     },
     "metadata": {
      "needs_background": "light"
     },
     "output_type": "display_data"
    }
   ],
   "source": [
    "plt.figure(figsize=(15,5))\n",
    "data['repaired'].value_counts().plot.bar()\n",
    "plt.show()"
   ]
  },
  {
   "cell_type": "code",
   "execution_count": 82,
   "metadata": {},
   "outputs": [
    {
     "data": {
      "text/plain": [
       "price                    0\n",
       "vehicle_type             0\n",
       "registration_year        0\n",
       "gearbox              13490\n",
       "power                    0\n",
       "model                    0\n",
       "kilometer                0\n",
       "fuel_type            23637\n",
       "brand                    0\n",
       "repaired                 0\n",
       "dtype: int64"
      ]
     },
     "execution_count": 82,
     "metadata": {},
     "output_type": "execute_result"
    }
   ],
   "source": [
    "data.isna().sum()"
   ]
  },
  {
   "cell_type": "code",
   "execution_count": 83,
   "metadata": {},
   "outputs": [],
   "source": [
    "data['gearbox'] = data['gearbox'].fillna('other') "
   ]
  },
  {
   "cell_type": "code",
   "execution_count": 84,
   "metadata": {},
   "outputs": [],
   "source": [
    "data['fuel_type'] = data['fuel_type'].fillna('FT') "
   ]
  },
  {
   "cell_type": "code",
   "execution_count": 85,
   "metadata": {},
   "outputs": [
    {
     "data": {
      "text/plain": [
       "48348"
      ]
     },
     "execution_count": 85,
     "metadata": {},
     "output_type": "execute_result"
    }
   ],
   "source": [
    "data.duplicated().sum()"
   ]
  },
  {
   "cell_type": "code",
   "execution_count": 86,
   "metadata": {},
   "outputs": [],
   "source": [
    "data.drop_duplicates(inplace=True)"
   ]
  },
  {
   "cell_type": "code",
   "execution_count": 87,
   "metadata": {},
   "outputs": [
    {
     "data": {
      "text/plain": [
       "0"
      ]
     },
     "execution_count": 87,
     "metadata": {},
     "output_type": "execute_result"
    }
   ],
   "source": [
    "data.duplicated().sum()"
   ]
  },
  {
   "cell_type": "markdown",
   "metadata": {},
   "source": [
    "Дубликаты удалены"
   ]
  },
  {
   "cell_type": "markdown",
   "metadata": {},
   "source": [
    "Построим корреляцию параметров:"
   ]
  },
  {
   "cell_type": "markdown",
   "metadata": {},
   "source": [
    "Наблюдается довольно корреляция между стоимостью автомобиля и годом регистрации, а также его мощностью и годом. регистрации"
   ]
  },
  {
   "cell_type": "code",
   "execution_count": 88,
   "metadata": {},
   "outputs": [
    {
     "data": {
      "image/png": "[encoded data removed]",
      "text/plain": [
       "<Figure size 1080x360 with 2 Axes>"
      ]
     },
     "metadata": {
      "needs_background": "light"
     },
     "output_type": "display_data"
    }
   ],
   "source": [
    "plt.figure(figsize=(15, 5))\n",
    "plt.title('Матрица корреляций зависимости')\n",
    "sns.heatmap(data.corr(), annot = True,cmap='RdYlGn')\n",
    "plt.show()"
   ]
  },
  {
   "cell_type": "markdown",
   "metadata": {},
   "source": [
    "<a id='h11'></a>\n",
    "### Вывод: \n",
    "Ознакомились с данными <br>\n",
    "Удалены аномальные и пропущенные значения.<br>\n",
    "Отобраны небходимые столбцы для обучения модели.<br>\n",
    "Заполнены пропуски в столбцах и удалены некорректные значения.<br>\n",
    "Наблюдается довольно корреляция между стоимостью автомобиля и годом регистрации, а также его мощностью и годом. регистрации.<br>"
   ]
  },
  {
   "cell_type": "markdown",
   "metadata": {},
   "source": [
    "<a id='h2'></a>\n",
    "## Обучение моделей"
   ]
  },
  {
   "cell_type": "markdown",
   "metadata": {},
   "source": [
    "Подготовка моделей\n",
    "\n",
    "Разделим данные на обучающую и тестовую выборки"
   ]
  },
  {
   "cell_type": "code",
   "execution_count": 89,
   "metadata": {},
   "outputs": [],
   "source": [
    "features = data.drop(['price'], axis=1)\n",
    "target = data['price']\n",
    "\n",
    "features_train, features_valid, target_train, target_valid = (train_test_split(features, target, test_size=0.4,random_state=state))\n",
    "\n",
    "features_test, features_valid, target_test, target_valid  = train_test_split(features_valid, target_valid, test_size=0.5,  random_state=state) "
   ]
  },
  {
   "cell_type": "code",
   "execution_count": 90,
   "metadata": {},
   "outputs": [
    {
     "name": "stdout",
     "output_type": "stream",
     "text": [
      "(163137, 9)\n",
      "(54380, 9)\n",
      "(54379, 9)\n",
      "(163137,)\n",
      "(54380,)\n",
      "(54379,)\n"
     ]
    }
   ],
   "source": [
    "print(features_train.shape)\n",
    "print(features_valid.shape)\n",
    "print(features_test.shape)\n",
    "print(target_train.shape)\n",
    "print(target_valid.shape)\n",
    "print(target_test.shape)"
   ]
  },
  {
   "cell_type": "code",
   "execution_count": 91,
   "metadata": {},
   "outputs": [
    {
     "name": "stdout",
     "output_type": "stream",
     "text": [
      "['vehicle_type', 'gearbox', 'model', 'fuel_type', 'brand', 'repaired']\n"
     ]
    }
   ],
   "source": [
    "cat_features = features_train.select_dtypes(include='object').columns.to_list()\n",
    "signs = cat_features\n",
    "print(cat_features)"
   ]
  },
  {
   "cell_type": "code",
   "execution_count": 92,
   "metadata": {},
   "outputs": [
    {
     "data": {
      "text/html": [
       "<div>\n",
       "<style scoped>\n",
       "    .dataframe tbody tr th:only-of-type {\n",
       "        vertical-align: middle;\n",
       "    }\n",
       "\n",
       "    .dataframe tbody tr th {\n",
       "        vertical-align: top;\n",
       "    }\n",
       "\n",
       "    .dataframe thead th {\n",
       "        text-align: right;\n",
       "    }\n",
       "</style>\n",
       "<table border=\"1\" class=\"dataframe\">\n",
       "  <thead>\n",
       "    <tr style=\"text-align: right;\">\n",
       "      <th></th>\n",
       "      <th>vehicle_type</th>\n",
       "      <th>registration_year</th>\n",
       "      <th>gearbox</th>\n",
       "      <th>power</th>\n",
       "      <th>model</th>\n",
       "      <th>kilometer</th>\n",
       "      <th>fuel_type</th>\n",
       "      <th>brand</th>\n",
       "      <th>repaired</th>\n",
       "    </tr>\n",
       "  </thead>\n",
       "  <tbody>\n",
       "    <tr>\n",
       "      <th>147522</th>\n",
       "      <td>small</td>\n",
       "      <td>2001</td>\n",
       "      <td>manual</td>\n",
       "      <td>75</td>\n",
       "      <td>twingo</td>\n",
       "      <td>150000</td>\n",
       "      <td>FT</td>\n",
       "      <td>renault</td>\n",
       "      <td>no</td>\n",
       "    </tr>\n",
       "    <tr>\n",
       "      <th>308332</th>\n",
       "      <td>other</td>\n",
       "      <td>2017</td>\n",
       "      <td>manual</td>\n",
       "      <td>100</td>\n",
       "      <td>meriva</td>\n",
       "      <td>150000</td>\n",
       "      <td>petrol</td>\n",
       "      <td>opel</td>\n",
       "      <td>no</td>\n",
       "    </tr>\n",
       "    <tr>\n",
       "      <th>204664</th>\n",
       "      <td>sedan</td>\n",
       "      <td>1998</td>\n",
       "      <td>manual</td>\n",
       "      <td>215</td>\n",
       "      <td>passat</td>\n",
       "      <td>150000</td>\n",
       "      <td>petrol</td>\n",
       "      <td>volkswagen</td>\n",
       "      <td>no</td>\n",
       "    </tr>\n",
       "    <tr>\n",
       "      <th>71650</th>\n",
       "      <td>sedan</td>\n",
       "      <td>2000</td>\n",
       "      <td>auto</td>\n",
       "      <td>101</td>\n",
       "      <td>golf</td>\n",
       "      <td>150000</td>\n",
       "      <td>petrol</td>\n",
       "      <td>volkswagen</td>\n",
       "      <td>no</td>\n",
       "    </tr>\n",
       "    <tr>\n",
       "      <th>68506</th>\n",
       "      <td>sedan</td>\n",
       "      <td>1997</td>\n",
       "      <td>manual</td>\n",
       "      <td>170</td>\n",
       "      <td>other</td>\n",
       "      <td>150000</td>\n",
       "      <td>FT</td>\n",
       "      <td>bmw</td>\n",
       "      <td>no</td>\n",
       "    </tr>\n",
       "  </tbody>\n",
       "</table>\n",
       "</div>"
      ],
      "text/plain": [
       "       vehicle_type  registration_year gearbox  power   model  kilometer  \\\n",
       "147522        small               2001  manual     75  twingo     150000   \n",
       "308332        other               2017  manual    100  meriva     150000   \n",
       "204664        sedan               1998  manual    215  passat     150000   \n",
       "71650         sedan               2000    auto    101    golf     150000   \n",
       "68506         sedan               1997  manual    170   other     150000   \n",
       "\n",
       "       fuel_type       brand repaired  \n",
       "147522        FT     renault       no  \n",
       "308332    petrol        opel       no  \n",
       "204664    petrol  volkswagen       no  \n",
       "71650     petrol  volkswagen       no  \n",
       "68506         FT         bmw       no  "
      ]
     },
     "execution_count": 92,
     "metadata": {},
     "output_type": "execute_result"
    }
   ],
   "source": [
    "features_train.head()"
   ]
  },
  {
   "cell_type": "code",
   "execution_count": 93,
   "metadata": {},
   "outputs": [
    {
     "data": {
      "text/plain": [
       "['registration_year', 'power', 'kilometer']"
      ]
     },
     "execution_count": 93,
     "metadata": {},
     "output_type": "execute_result"
    }
   ],
   "source": [
    "num_features = features_train.select_dtypes(exclude='object').columns.to_list()\n",
    "num_features"
   ]
  },
  {
   "cell_type": "code",
   "execution_count": 94,
   "metadata": {},
   "outputs": [
    {
     "name": "stderr",
     "output_type": "stream",
     "text": [
      "/tmp/ipykernel_48/2393655571.py:4: SettingWithCopyWarning: \n",
      "A value is trying to be set on a copy of a slice from a DataFrame.\n",
      "Try using .loc[row_indexer,col_indexer] = value instead\n",
      "\n",
      "See the caveats in the documentation: https://pandas.pydata.org/pandas-docs/stable/user_guide/indexing.html#returning-a-view-versus-a-copy\n",
      "  features_train[num_features] = scaler.transform(features_train[num_features])\n",
      "/opt/conda/lib/python3.9/site-packages/pandas/core/indexing.py:1738: SettingWithCopyWarning: \n",
      "A value is trying to be set on a copy of a slice from a DataFrame.\n",
      "Try using .loc[row_indexer,col_indexer] = value instead\n",
      "\n",
      "See the caveats in the documentation: https://pandas.pydata.org/pandas-docs/stable/user_guide/indexing.html#returning-a-view-versus-a-copy\n",
      "  self._setitem_single_column(loc, value[:, i].tolist(), pi)\n"
     ]
    }
   ],
   "source": [
    "scaler = StandardScaler()\n",
    "scaler.fit(features_train[num_features])\n",
    "\n",
    "features_train[num_features] = scaler.transform(features_train[num_features])\n",
    "features_valid[num_features] = scaler.transform(features_valid[num_features])\n",
    "features_test[num_features] = scaler.transform(features_test[num_features])"
   ]
  },
  {
   "cell_type": "markdown",
   "metadata": {},
   "source": [
    "Для методов, которым нужны численные признаки проведем кодирование"
   ]
  },
  {
   "cell_type": "code",
   "execution_count": 95,
   "metadata": {},
   "outputs": [
    {
     "data": {
      "text/plain": [
       "Index(['vehicle_type', 'gearbox', 'model', 'fuel_type', 'brand', 'repaired'], dtype='object')"
      ]
     },
     "execution_count": 95,
     "metadata": {},
     "output_type": "execute_result"
    }
   ],
   "source": [
    "features.select_dtypes('object').columns"
   ]
  },
  {
   "cell_type": "code",
   "execution_count": 96,
   "metadata": {},
   "outputs": [],
   "source": [
    "onehotencoder = OneHotEncoder(drop='first', sparse=False).fit(features[cat_features])\n",
    "feature_names = onehotencoder.get_feature_names(cat_features)\n",
    "\n",
    "features_train_ohe = pd.concat([features_train[num_features],  \n",
    "                                pd.DataFrame(onehotencoder.transform(features_train[cat_features]),\n",
    "                                             columns=feature_names, \n",
    "                                             index=features_train.index)], \n",
    "                               axis=1)"
   ]
  },
  {
   "cell_type": "code",
   "execution_count": 97,
   "metadata": {},
   "outputs": [],
   "source": [
    "features_valid_ohe = pd.concat([features_valid[num_features],  \n",
    "                                pd.DataFrame(onehotencoder.transform(features_valid[cat_features]),\n",
    "                                             columns=feature_names, \n",
    "                                             index=features_valid.index)], \n",
    "                               axis=1)\n",
    "\n",
    "features_test_ohe = pd.concat([features_valid[num_features],  \n",
    "                                pd.DataFrame(onehotencoder.transform(features_test[cat_features]),\n",
    "                                             columns=feature_names, \n",
    "                                             index=features_test.index)], \n",
    "                               axis=1)"
   ]
  },
  {
   "cell_type": "markdown",
   "metadata": {},
   "source": [
    "Для моделей, основанных на деревьях решений, будем использовать порядковое кодирование (OrdinalEncoder)"
   ]
  },
  {
   "cell_type": "code",
   "execution_count": 98,
   "metadata": {},
   "outputs": [],
   "source": [
    "features_train_oe = features_train.copy()\n",
    "features_valid_oe = features_valid.copy()\n",
    "features_test_oe = features_test.copy()"
   ]
  },
  {
   "cell_type": "code",
   "execution_count": 99,
   "metadata": {},
   "outputs": [],
   "source": [
    "ordinalencoder = OrdinalEncoder(dtype=int).fit(features[cat_features])"
   ]
  },
  {
   "cell_type": "code",
   "execution_count": 100,
   "metadata": {},
   "outputs": [],
   "source": [
    "features_train_oe[cat_features] = ordinalencoder.transform(features_train[cat_features])\n",
    "features_valid_oe[cat_features] = ordinalencoder.transform(features_valid[cat_features])\n",
    "features_test_oe[cat_features] = ordinalencoder.transform(features_test[cat_features])"
   ]
  },
  {
   "cell_type": "markdown",
   "metadata": {},
   "source": [
    "Линейная регрессия"
   ]
  },
  {
   "cell_type": "code",
   "execution_count": 101,
   "metadata": {},
   "outputs": [
    {
     "name": "stdout",
     "output_type": "stream",
     "text": [
      "Время обучения 19.12 секунд\n",
      "Модель предсказывает за 0.40 секунд\n",
      "RMSE = 2615.4684936322183\n"
     ]
    }
   ],
   "source": [
    "lr = LinearRegression()\n",
    "\n",
    "start = time()\n",
    "\n",
    "lr.fit(features_train_ohe, target_train)\n",
    "time_to_fit_lr = time() - start\n",
    "print('Время обучения %.2f секунд' %time_to_fit_lr)\n",
    "\n",
    "start = time()\n",
    "predicted = lr.predict(features_valid_ohe)\n",
    "time_to_predict_lr = time() - start\n",
    "print('Модель предсказывает за %.2f секунд' %time_to_predict_lr)\n",
    "\n",
    "rmse_lr = mean_squared_error(target_valid, predicted, squared=False)\n",
    "print('RMSE =', rmse_lr)"
   ]
  },
  {
   "cell_type": "markdown",
   "metadata": {},
   "source": [
    "Древо решений"
   ]
  },
  {
   "cell_type": "code",
   "execution_count": 102,
   "metadata": {},
   "outputs": [],
   "source": [
    "param = {\"max_depth\": list(range(4,30,2)),\n",
    "                 \"min_samples_leaf\": list(range(10, 80,10)),\n",
    "                 \"max_leaf_nodes\": list(range(10, 80,10)),\n",
    "                 }\n"
   ]
  },
  {
   "cell_type": "markdown",
   "metadata": {},
   "source": [
    "Подбор параметров"
   ]
  },
  {
   "cell_type": "code",
   "execution_count": 103,
   "metadata": {},
   "outputs": [
    {
     "name": "stdout",
     "output_type": "stream",
     "text": [
      "Лучшие параметры: {'min_samples_leaf': 50, 'max_leaf_nodes': 70, 'max_depth': 28}\n"
     ]
    }
   ],
   "source": [
    "DTS = DecisionTreeRegressor() \n",
    "model_dts = RandomizedSearchCV(estimator=DTS,\n",
    "                                      param_distributions= param,  scoring='neg_mean_absolute_error', random_state=state, n_jobs=-1)\n",
    "\n",
    "\n",
    "model_dts.fit(features_train_oe, target_train)\n",
    "\n",
    "model_dts.predict(features_valid_oe)\n",
    "    \n",
    "print('Лучшие параметры:', model_dts.best_params_)"
   ]
  },
  {
   "cell_type": "code",
   "execution_count": 104,
   "metadata": {},
   "outputs": [
    {
     "name": "stdout",
     "output_type": "stream",
     "text": [
      "Время обучения 0.23 секунд\n",
      "Модель предсказывает за 0.01 секунд\n",
      "RMSE = 2203.508705061181\n"
     ]
    }
   ],
   "source": [
    "model_dts = DecisionTreeRegressor(min_samples_split=50, min_samples_leaf = 50, max_leaf_nodes = 87, max_depth = 28, random_state=state)\n",
    "\n",
    "start = time()\n",
    "model_dts.fit(features_train_oe, target_train)\n",
    "time_to_fit_dts = time() - start\n",
    "print('Время обучения %.2f секунд' %time_to_fit_dts)\n",
    "\n",
    "start = time()\n",
    "predicted = model_dts.predict(features_valid_oe)\n",
    "time_to_predict_dts = time() - start\n",
    "print('Модель предсказывает за %.2f секунд' %time_to_predict_dts)\n",
    "\n",
    "rmse_dts = mean_squared_error(target_valid, predicted, squared=False)\n",
    "print('RMSE =', rmse_dts)"
   ]
  },
  {
   "cell_type": "code",
   "execution_count": 105,
   "metadata": {},
   "outputs": [],
   "source": [
    "cat_columns = ['vehicle_type', 'gearbox', 'vehicle_type', 'model', 'fuel_type', 'brand', 'repaired']"
   ]
  },
  {
   "cell_type": "markdown",
   "metadata": {},
   "source": [
    "CatBoost"
   ]
  },
  {
   "cell_type": "code",
   "execution_count": 106,
   "metadata": {
    "scrolled": true
   },
   "outputs": [
    {
     "name": "stdout",
     "output_type": "stream",
     "text": [
      "Learning rate set to 0.091572\n",
      "0:\tlearn: 4313.4855935\ttotal: 246ms\tremaining: 4m 6s\n",
      "1:\tlearn: 4065.5322620\ttotal: 447ms\tremaining: 3m 43s\n",
      "2:\tlearn: 3841.5378955\ttotal: 653ms\tremaining: 3m 36s\n",
      "3:\tlearn: 3645.6990537\ttotal: 804ms\tremaining: 3m 20s\n",
      "4:\tlearn: 3465.0894905\ttotal: 961ms\tremaining: 3m 11s\n",
      "5:\tlearn: 3307.5630489\ttotal: 1.14s\tremaining: 3m 8s\n",
      "6:\tlearn: 3166.3785385\ttotal: 1.35s\tremaining: 3m 11s\n",
      "7:\tlearn: 3034.5478194\ttotal: 1.52s\tremaining: 3m 8s\n",
      "8:\tlearn: 2915.9124814\ttotal: 1.7s\tremaining: 3m 6s\n",
      "9:\tlearn: 2817.0311783\ttotal: 1.86s\tremaining: 3m 4s\n",
      "10:\tlearn: 2725.4541421\ttotal: 2.02s\tremaining: 3m 1s\n",
      "11:\tlearn: 2646.7273396\ttotal: 2.18s\tremaining: 2m 59s\n",
      "12:\tlearn: 2572.4811590\ttotal: 2.37s\tremaining: 2m 59s\n",
      "13:\tlearn: 2501.1962127\ttotal: 2.54s\tremaining: 2m 59s\n",
      "14:\tlearn: 2440.0231220\ttotal: 2.7s\tremaining: 2m 57s\n",
      "15:\tlearn: 2383.8235333\ttotal: 2.84s\tremaining: 2m 54s\n",
      "16:\tlearn: 2332.6144903\ttotal: 2.98s\tremaining: 2m 52s\n",
      "17:\tlearn: 2289.2392587\ttotal: 3.14s\tremaining: 2m 51s\n",
      "18:\tlearn: 2248.5090952\ttotal: 3.31s\tremaining: 2m 51s\n",
      "19:\tlearn: 2212.5145015\ttotal: 3.52s\tremaining: 2m 52s\n",
      "20:\tlearn: 2180.1653906\ttotal: 3.7s\tremaining: 2m 52s\n",
      "21:\tlearn: 2152.4601608\ttotal: 3.88s\tremaining: 2m 52s\n",
      "22:\tlearn: 2126.4711041\ttotal: 4.03s\tremaining: 2m 51s\n",
      "23:\tlearn: 2099.9945705\ttotal: 4.17s\tremaining: 2m 49s\n",
      "24:\tlearn: 2074.7357448\ttotal: 4.33s\tremaining: 2m 48s\n",
      "25:\tlearn: 2051.5394058\ttotal: 4.43s\tremaining: 2m 46s\n",
      "26:\tlearn: 2034.5513861\ttotal: 4.55s\tremaining: 2m 43s\n",
      "27:\tlearn: 2018.1358330\ttotal: 4.66s\tremaining: 2m 41s\n",
      "28:\tlearn: 2002.5154257\ttotal: 4.8s\tremaining: 2m 40s\n",
      "29:\tlearn: 1988.7575194\ttotal: 4.95s\tremaining: 2m 40s\n",
      "30:\tlearn: 1976.4555488\ttotal: 5.07s\tremaining: 2m 38s\n",
      "31:\tlearn: 1967.0257051\ttotal: 5.21s\tremaining: 2m 37s\n",
      "32:\tlearn: 1956.1015443\ttotal: 5.36s\tremaining: 2m 37s\n",
      "33:\tlearn: 1947.3327581\ttotal: 5.5s\tremaining: 2m 36s\n",
      "34:\tlearn: 1938.6177842\ttotal: 5.59s\tremaining: 2m 34s\n",
      "35:\tlearn: 1929.2074855\ttotal: 5.72s\tremaining: 2m 33s\n",
      "36:\tlearn: 1921.5004288\ttotal: 5.85s\tremaining: 2m 32s\n",
      "37:\tlearn: 1915.0486564\ttotal: 5.96s\tremaining: 2m 31s\n",
      "38:\tlearn: 1908.5029125\ttotal: 6.1s\tremaining: 2m 30s\n",
      "39:\tlearn: 1901.7157778\ttotal: 6.19s\tremaining: 2m 28s\n",
      "40:\tlearn: 1896.1241686\ttotal: 6.31s\tremaining: 2m 27s\n",
      "41:\tlearn: 1890.7141778\ttotal: 6.44s\tremaining: 2m 26s\n",
      "42:\tlearn: 1885.8968673\ttotal: 6.57s\tremaining: 2m 26s\n",
      "43:\tlearn: 1880.4496481\ttotal: 6.66s\tremaining: 2m 24s\n",
      "44:\tlearn: 1876.7328125\ttotal: 6.79s\tremaining: 2m 24s\n",
      "45:\tlearn: 1871.0457323\ttotal: 6.9s\tremaining: 2m 23s\n",
      "46:\tlearn: 1867.3862062\ttotal: 7.05s\tremaining: 2m 23s\n",
      "47:\tlearn: 1864.1427558\ttotal: 7.2s\tremaining: 2m 22s\n",
      "48:\tlearn: 1858.9912154\ttotal: 7.31s\tremaining: 2m 21s\n",
      "49:\tlearn: 1855.4403196\ttotal: 7.42s\tremaining: 2m 20s\n",
      "50:\tlearn: 1851.4561504\ttotal: 7.58s\tremaining: 2m 21s\n",
      "51:\tlearn: 1848.2552480\ttotal: 7.7s\tremaining: 2m 20s\n",
      "52:\tlearn: 1845.7450319\ttotal: 7.85s\tremaining: 2m 20s\n",
      "53:\tlearn: 1840.8058356\ttotal: 7.99s\tremaining: 2m 19s\n",
      "54:\tlearn: 1838.0560014\ttotal: 8.12s\tremaining: 2m 19s\n",
      "55:\tlearn: 1835.2276769\ttotal: 8.29s\tremaining: 2m 19s\n",
      "56:\tlearn: 1832.0689618\ttotal: 8.43s\tremaining: 2m 19s\n",
      "57:\tlearn: 1828.5676463\ttotal: 8.58s\tremaining: 2m 19s\n",
      "58:\tlearn: 1825.0877313\ttotal: 8.68s\tremaining: 2m 18s\n",
      "59:\tlearn: 1822.4220391\ttotal: 8.84s\tremaining: 2m 18s\n",
      "60:\tlearn: 1818.8040388\ttotal: 8.97s\tremaining: 2m 18s\n",
      "61:\tlearn: 1815.1304891\ttotal: 9.12s\tremaining: 2m 18s\n",
      "62:\tlearn: 1812.3149277\ttotal: 9.25s\tremaining: 2m 17s\n",
      "63:\tlearn: 1810.4301873\ttotal: 9.37s\tremaining: 2m 17s\n",
      "64:\tlearn: 1808.1752914\ttotal: 9.52s\tremaining: 2m 16s\n",
      "65:\tlearn: 1804.6714082\ttotal: 9.64s\tremaining: 2m 16s\n",
      "66:\tlearn: 1801.8325590\ttotal: 9.73s\tremaining: 2m 15s\n",
      "67:\tlearn: 1799.8124068\ttotal: 9.87s\tremaining: 2m 15s\n",
      "68:\tlearn: 1797.4039930\ttotal: 9.99s\tremaining: 2m 14s\n",
      "69:\tlearn: 1794.9591328\ttotal: 10.1s\tremaining: 2m 14s\n",
      "70:\tlearn: 1793.1066765\ttotal: 10.2s\tremaining: 2m 13s\n",
      "71:\tlearn: 1791.5759094\ttotal: 10.4s\tremaining: 2m 13s\n",
      "72:\tlearn: 1789.2298541\ttotal: 10.5s\tremaining: 2m 13s\n",
      "73:\tlearn: 1788.0105162\ttotal: 10.7s\tremaining: 2m 13s\n",
      "74:\tlearn: 1785.6581147\ttotal: 10.8s\tremaining: 2m 13s\n",
      "75:\tlearn: 1784.0398958\ttotal: 11s\tremaining: 2m 13s\n",
      "76:\tlearn: 1781.4772728\ttotal: 11.1s\tremaining: 2m 13s\n",
      "77:\tlearn: 1779.8607011\ttotal: 11.3s\tremaining: 2m 13s\n",
      "78:\tlearn: 1777.8925188\ttotal: 11.4s\tremaining: 2m 13s\n",
      "79:\tlearn: 1775.1643968\ttotal: 11.6s\tremaining: 2m 13s\n",
      "80:\tlearn: 1773.0697242\ttotal: 11.7s\tremaining: 2m 12s\n",
      "81:\tlearn: 1770.6362067\ttotal: 11.8s\tremaining: 2m 12s\n",
      "82:\tlearn: 1768.9458974\ttotal: 11.9s\tremaining: 2m 11s\n",
      "83:\tlearn: 1767.4724021\ttotal: 12s\tremaining: 2m 11s\n",
      "84:\tlearn: 1765.4583839\ttotal: 12.2s\tremaining: 2m 11s\n",
      "85:\tlearn: 1762.9303872\ttotal: 12.4s\tremaining: 2m 11s\n",
      "86:\tlearn: 1761.1098807\ttotal: 12.6s\tremaining: 2m 11s\n",
      "87:\tlearn: 1759.2538618\ttotal: 12.7s\tremaining: 2m 11s\n",
      "88:\tlearn: 1757.0707048\ttotal: 12.8s\tremaining: 2m 11s\n",
      "89:\tlearn: 1755.6690538\ttotal: 13s\tremaining: 2m 10s\n",
      "90:\tlearn: 1753.8859559\ttotal: 13.1s\tremaining: 2m 10s\n",
      "91:\tlearn: 1752.6895469\ttotal: 13.2s\tremaining: 2m 10s\n",
      "92:\tlearn: 1751.5967357\ttotal: 13.4s\tremaining: 2m 10s\n",
      "93:\tlearn: 1750.1967127\ttotal: 13.6s\tremaining: 2m 10s\n",
      "94:\tlearn: 1748.6293918\ttotal: 13.8s\tremaining: 2m 11s\n",
      "95:\tlearn: 1747.5001837\ttotal: 13.9s\tremaining: 2m 11s\n",
      "96:\tlearn: 1746.2811525\ttotal: 14.1s\tremaining: 2m 10s\n",
      "97:\tlearn: 1744.6552572\ttotal: 14.2s\tremaining: 2m 10s\n",
      "98:\tlearn: 1743.5355621\ttotal: 14.3s\tremaining: 2m 10s\n",
      "99:\tlearn: 1741.7617339\ttotal: 14.5s\tremaining: 2m 10s\n",
      "100:\tlearn: 1740.6271294\ttotal: 14.6s\tremaining: 2m 10s\n",
      "101:\tlearn: 1739.2102953\ttotal: 14.8s\tremaining: 2m 10s\n",
      "102:\tlearn: 1738.0463132\ttotal: 14.9s\tremaining: 2m 9s\n",
      "103:\tlearn: 1736.7936662\ttotal: 15s\tremaining: 2m 9s\n",
      "104:\tlearn: 1735.9130443\ttotal: 15.1s\tremaining: 2m 9s\n",
      "105:\tlearn: 1734.1243080\ttotal: 15.2s\tremaining: 2m 8s\n",
      "106:\tlearn: 1733.1265746\ttotal: 15.4s\tremaining: 2m 8s\n",
      "107:\tlearn: 1731.6944837\ttotal: 15.5s\tremaining: 2m 8s\n",
      "108:\tlearn: 1730.1117797\ttotal: 15.7s\tremaining: 2m 8s\n",
      "109:\tlearn: 1728.9205667\ttotal: 15.8s\tremaining: 2m 8s\n",
      "110:\tlearn: 1728.1780162\ttotal: 16s\tremaining: 2m 8s\n",
      "111:\tlearn: 1727.4606220\ttotal: 16.1s\tremaining: 2m 7s\n",
      "112:\tlearn: 1726.1751816\ttotal: 16.3s\tremaining: 2m 7s\n",
      "113:\tlearn: 1725.2381454\ttotal: 16.4s\tremaining: 2m 7s\n",
      "114:\tlearn: 1723.8651611\ttotal: 16.6s\tremaining: 2m 7s\n",
      "115:\tlearn: 1722.7597088\ttotal: 16.8s\tremaining: 2m 7s\n",
      "116:\tlearn: 1721.5461550\ttotal: 16.9s\tremaining: 2m 7s\n",
      "117:\tlearn: 1720.5278509\ttotal: 17s\tremaining: 2m 7s\n",
      "118:\tlearn: 1719.8492210\ttotal: 17.2s\tremaining: 2m 7s\n",
      "119:\tlearn: 1719.1220308\ttotal: 17.3s\tremaining: 2m 6s\n",
      "120:\tlearn: 1718.2642760\ttotal: 17.4s\tremaining: 2m 6s\n",
      "121:\tlearn: 1717.2170542\ttotal: 17.6s\tremaining: 2m 6s\n",
      "122:\tlearn: 1715.7908335\ttotal: 17.7s\tremaining: 2m 6s\n",
      "123:\tlearn: 1714.8006943\ttotal: 17.8s\tremaining: 2m 5s\n",
      "124:\tlearn: 1713.6884576\ttotal: 17.9s\tremaining: 2m 5s\n",
      "125:\tlearn: 1713.1173186\ttotal: 18.1s\tremaining: 2m 5s\n",
      "126:\tlearn: 1712.4564428\ttotal: 18.1s\tremaining: 2m 4s\n",
      "127:\tlearn: 1711.7236419\ttotal: 18.3s\tremaining: 2m 4s\n",
      "128:\tlearn: 1710.6348725\ttotal: 18.5s\tremaining: 2m 4s\n",
      "129:\tlearn: 1709.6985911\ttotal: 18.6s\tremaining: 2m 4s\n",
      "130:\tlearn: 1708.1286485\ttotal: 18.8s\tremaining: 2m 4s\n",
      "131:\tlearn: 1707.2778355\ttotal: 19s\tremaining: 2m 4s\n",
      "132:\tlearn: 1706.3108188\ttotal: 19.1s\tremaining: 2m 4s\n",
      "133:\tlearn: 1705.1729965\ttotal: 19.3s\tremaining: 2m 4s\n",
      "134:\tlearn: 1704.8003161\ttotal: 19.4s\tremaining: 2m 4s\n",
      "135:\tlearn: 1704.0656199\ttotal: 19.5s\tremaining: 2m 4s\n",
      "136:\tlearn: 1703.6694066\ttotal: 19.7s\tremaining: 2m 3s\n",
      "137:\tlearn: 1703.3099449\ttotal: 19.8s\tremaining: 2m 3s\n",
      "138:\tlearn: 1702.4408725\ttotal: 20s\tremaining: 2m 3s\n",
      "139:\tlearn: 1701.6557549\ttotal: 20.1s\tremaining: 2m 3s\n",
      "140:\tlearn: 1700.6415080\ttotal: 20.3s\tremaining: 2m 3s\n",
      "141:\tlearn: 1699.9317343\ttotal: 20.4s\tremaining: 2m 3s\n",
      "142:\tlearn: 1698.4477279\ttotal: 20.6s\tremaining: 2m 3s\n",
      "143:\tlearn: 1697.6259226\ttotal: 20.7s\tremaining: 2m 3s\n",
      "144:\tlearn: 1696.8686408\ttotal: 20.9s\tremaining: 2m 3s\n",
      "145:\tlearn: 1696.2459229\ttotal: 21s\tremaining: 2m 2s\n",
      "146:\tlearn: 1695.4180710\ttotal: 21.1s\tremaining: 2m 2s\n",
      "147:\tlearn: 1694.1033597\ttotal: 21.3s\tremaining: 2m 2s\n",
      "148:\tlearn: 1693.1949921\ttotal: 21.4s\tremaining: 2m 2s\n",
      "149:\tlearn: 1692.7933988\ttotal: 21.6s\tremaining: 2m 2s\n",
      "150:\tlearn: 1692.0832517\ttotal: 21.7s\tremaining: 2m 2s\n",
      "151:\tlearn: 1691.0076349\ttotal: 21.9s\tremaining: 2m 1s\n",
      "152:\tlearn: 1690.3012810\ttotal: 22s\tremaining: 2m 1s\n",
      "153:\tlearn: 1689.4461313\ttotal: 22.2s\tremaining: 2m 1s\n",
      "154:\tlearn: 1688.9523309\ttotal: 22.3s\tremaining: 2m 1s\n",
      "155:\tlearn: 1688.4423201\ttotal: 22.5s\tremaining: 2m 1s\n",
      "156:\tlearn: 1687.3208958\ttotal: 22.6s\tremaining: 2m 1s\n",
      "157:\tlearn: 1686.6424497\ttotal: 22.7s\tremaining: 2m 1s\n",
      "158:\tlearn: 1685.6537258\ttotal: 22.9s\tremaining: 2m 1s\n",
      "159:\tlearn: 1685.0342910\ttotal: 23s\tremaining: 2m\n",
      "160:\tlearn: 1683.9105861\ttotal: 23.2s\tremaining: 2m\n",
      "161:\tlearn: 1683.2162220\ttotal: 23.4s\tremaining: 2m\n",
      "162:\tlearn: 1682.8711261\ttotal: 23.6s\tremaining: 2m 1s\n",
      "163:\tlearn: 1682.4799180\ttotal: 23.8s\tremaining: 2m 1s\n",
      "164:\tlearn: 1681.8410011\ttotal: 23.9s\tremaining: 2m\n",
      "165:\tlearn: 1680.7015612\ttotal: 24s\tremaining: 2m\n",
      "166:\tlearn: 1680.1560022\ttotal: 24.1s\tremaining: 2m\n",
      "167:\tlearn: 1679.6245958\ttotal: 24.3s\tremaining: 2m\n",
      "168:\tlearn: 1678.8847352\ttotal: 24.4s\tremaining: 2m\n",
      "169:\tlearn: 1678.2208996\ttotal: 24.6s\tremaining: 1m 59s\n",
      "170:\tlearn: 1677.4013965\ttotal: 24.7s\tremaining: 1m 59s\n",
      "171:\tlearn: 1676.9925600\ttotal: 24.8s\tremaining: 1m 59s\n",
      "172:\tlearn: 1676.0921498\ttotal: 24.9s\tremaining: 1m 59s\n",
      "173:\tlearn: 1675.3071212\ttotal: 25.1s\tremaining: 1m 59s\n",
      "174:\tlearn: 1674.7075280\ttotal: 25.2s\tremaining: 1m 58s\n",
      "175:\tlearn: 1674.2748854\ttotal: 25.4s\tremaining: 1m 58s\n",
      "176:\tlearn: 1673.8568435\ttotal: 25.6s\tremaining: 1m 58s\n",
      "177:\tlearn: 1673.2279029\ttotal: 25.7s\tremaining: 1m 58s\n",
      "178:\tlearn: 1672.5316775\ttotal: 25.9s\tremaining: 1m 58s\n",
      "179:\tlearn: 1672.0241535\ttotal: 26s\tremaining: 1m 58s\n",
      "180:\tlearn: 1671.1964911\ttotal: 26.1s\tremaining: 1m 58s\n",
      "181:\tlearn: 1670.6223107\ttotal: 26.2s\tremaining: 1m 57s\n",
      "182:\tlearn: 1670.2181206\ttotal: 26.3s\tremaining: 1m 57s\n",
      "183:\tlearn: 1669.8273067\ttotal: 26.5s\tremaining: 1m 57s\n",
      "184:\tlearn: 1668.9099931\ttotal: 26.7s\tremaining: 1m 57s\n",
      "185:\tlearn: 1668.2863186\ttotal: 26.8s\tremaining: 1m 57s\n",
      "186:\tlearn: 1667.9674801\ttotal: 27s\tremaining: 1m 57s\n",
      "187:\tlearn: 1667.5802503\ttotal: 27.1s\tremaining: 1m 57s\n",
      "188:\tlearn: 1667.1512450\ttotal: 27.3s\tremaining: 1m 57s\n",
      "189:\tlearn: 1666.5853248\ttotal: 27.4s\tremaining: 1m 56s\n",
      "190:\tlearn: 1665.6847304\ttotal: 27.6s\tremaining: 1m 56s\n",
      "191:\tlearn: 1665.0335973\ttotal: 27.7s\tremaining: 1m 56s\n",
      "192:\tlearn: 1664.5386349\ttotal: 27.9s\tremaining: 1m 56s\n",
      "193:\tlearn: 1664.2067099\ttotal: 28s\tremaining: 1m 56s\n",
      "194:\tlearn: 1663.5939916\ttotal: 28.2s\tremaining: 1m 56s\n",
      "195:\tlearn: 1663.0434354\ttotal: 28.3s\tremaining: 1m 56s\n",
      "196:\tlearn: 1662.7397022\ttotal: 28.4s\tremaining: 1m 55s\n",
      "197:\tlearn: 1662.0688915\ttotal: 28.6s\tremaining: 1m 55s\n",
      "198:\tlearn: 1661.6958446\ttotal: 28.7s\tremaining: 1m 55s\n",
      "199:\tlearn: 1661.1344321\ttotal: 28.9s\tremaining: 1m 55s\n",
      "200:\tlearn: 1660.8961829\ttotal: 29s\tremaining: 1m 55s\n",
      "201:\tlearn: 1660.4482243\ttotal: 29.2s\tremaining: 1m 55s\n",
      "202:\tlearn: 1659.9934973\ttotal: 29.3s\tremaining: 1m 55s\n",
      "203:\tlearn: 1659.5849402\ttotal: 29.5s\tremaining: 1m 55s\n",
      "204:\tlearn: 1658.9351545\ttotal: 29.6s\tremaining: 1m 54s\n",
      "205:\tlearn: 1658.2427121\ttotal: 29.7s\tremaining: 1m 54s\n",
      "206:\tlearn: 1657.8031798\ttotal: 29.9s\tremaining: 1m 54s\n",
      "207:\tlearn: 1657.3540883\ttotal: 30s\tremaining: 1m 54s\n",
      "208:\tlearn: 1656.8570982\ttotal: 30.1s\tremaining: 1m 54s\n",
      "209:\tlearn: 1656.5105438\ttotal: 30.3s\tremaining: 1m 53s\n",
      "210:\tlearn: 1655.9028046\ttotal: 30.4s\tremaining: 1m 53s\n",
      "211:\tlearn: 1655.4825245\ttotal: 30.5s\tremaining: 1m 53s\n",
      "212:\tlearn: 1654.9801970\ttotal: 30.6s\tremaining: 1m 53s\n",
      "213:\tlearn: 1654.2283915\ttotal: 30.7s\tremaining: 1m 52s\n",
      "214:\tlearn: 1653.4465337\ttotal: 30.9s\tremaining: 1m 52s\n",
      "215:\tlearn: 1652.9224700\ttotal: 31s\tremaining: 1m 52s\n",
      "216:\tlearn: 1652.5301735\ttotal: 31.2s\tremaining: 1m 52s\n",
      "217:\tlearn: 1652.2856368\ttotal: 31.3s\tremaining: 1m 52s\n",
      "218:\tlearn: 1651.8557859\ttotal: 31.4s\tremaining: 1m 52s\n",
      "219:\tlearn: 1651.3422159\ttotal: 31.6s\tremaining: 1m 52s\n",
      "220:\tlearn: 1650.9322667\ttotal: 31.7s\tremaining: 1m 51s\n",
      "221:\tlearn: 1650.5245910\ttotal: 31.8s\tremaining: 1m 51s\n",
      "222:\tlearn: 1650.1186500\ttotal: 32s\tremaining: 1m 51s\n",
      "223:\tlearn: 1649.5482089\ttotal: 32.1s\tremaining: 1m 51s\n",
      "224:\tlearn: 1649.1078948\ttotal: 32.2s\tremaining: 1m 50s\n",
      "225:\tlearn: 1648.6654503\ttotal: 32.4s\tremaining: 1m 50s\n",
      "226:\tlearn: 1647.9755324\ttotal: 32.5s\tremaining: 1m 50s\n",
      "227:\tlearn: 1647.2885456\ttotal: 32.7s\tremaining: 1m 50s\n",
      "228:\tlearn: 1646.8111611\ttotal: 32.8s\tremaining: 1m 50s\n",
      "229:\tlearn: 1646.5297912\ttotal: 33s\tremaining: 1m 50s\n",
      "230:\tlearn: 1646.1954077\ttotal: 33.2s\tremaining: 1m 50s\n",
      "231:\tlearn: 1645.8118931\ttotal: 33.4s\tremaining: 1m 50s\n",
      "232:\tlearn: 1645.5555732\ttotal: 33.6s\tremaining: 1m 50s\n",
      "233:\tlearn: 1645.3073005\ttotal: 33.7s\tremaining: 1m 50s\n",
      "234:\tlearn: 1644.8424265\ttotal: 33.9s\tremaining: 1m 50s\n",
      "235:\tlearn: 1644.5212247\ttotal: 34s\tremaining: 1m 50s\n",
      "236:\tlearn: 1643.8869487\ttotal: 34.2s\tremaining: 1m 50s\n",
      "237:\tlearn: 1643.3953539\ttotal: 34.3s\tremaining: 1m 49s\n",
      "238:\tlearn: 1643.0910898\ttotal: 34.5s\tremaining: 1m 49s\n",
      "239:\tlearn: 1642.7289041\ttotal: 34.6s\tremaining: 1m 49s\n",
      "240:\tlearn: 1642.2786945\ttotal: 34.8s\tremaining: 1m 49s\n",
      "241:\tlearn: 1642.1131361\ttotal: 34.9s\tremaining: 1m 49s\n",
      "242:\tlearn: 1641.7338522\ttotal: 35s\tremaining: 1m 49s\n",
      "243:\tlearn: 1641.3053936\ttotal: 35.2s\tremaining: 1m 48s\n",
      "244:\tlearn: 1640.8700925\ttotal: 35.3s\tremaining: 1m 48s\n",
      "245:\tlearn: 1640.6122854\ttotal: 35.5s\tremaining: 1m 48s\n",
      "246:\tlearn: 1640.1423888\ttotal: 35.6s\tremaining: 1m 48s\n",
      "247:\tlearn: 1639.7406253\ttotal: 35.8s\tremaining: 1m 48s\n",
      "248:\tlearn: 1639.4440152\ttotal: 35.9s\tremaining: 1m 48s\n",
      "249:\tlearn: 1639.0842582\ttotal: 36s\tremaining: 1m 48s\n",
      "250:\tlearn: 1638.7128773\ttotal: 36.2s\tremaining: 1m 48s\n",
      "251:\tlearn: 1638.2182433\ttotal: 36.3s\tremaining: 1m 47s\n",
      "252:\tlearn: 1638.0056075\ttotal: 36.4s\tremaining: 1m 47s\n",
      "253:\tlearn: 1637.8040381\ttotal: 36.6s\tremaining: 1m 47s\n",
      "254:\tlearn: 1637.3100383\ttotal: 36.7s\tremaining: 1m 47s\n",
      "255:\tlearn: 1636.9132941\ttotal: 36.8s\tremaining: 1m 46s\n",
      "256:\tlearn: 1636.5826810\ttotal: 36.9s\tremaining: 1m 46s\n",
      "257:\tlearn: 1636.1530699\ttotal: 37s\tremaining: 1m 46s\n",
      "258:\tlearn: 1635.8655308\ttotal: 37.2s\tremaining: 1m 46s\n",
      "259:\tlearn: 1635.3251734\ttotal: 37.3s\tremaining: 1m 46s\n",
      "260:\tlearn: 1635.1877665\ttotal: 37.4s\tremaining: 1m 45s\n",
      "261:\tlearn: 1634.8578703\ttotal: 37.6s\tremaining: 1m 45s\n",
      "262:\tlearn: 1634.4697177\ttotal: 37.7s\tremaining: 1m 45s\n",
      "263:\tlearn: 1634.2201828\ttotal: 37.8s\tremaining: 1m 45s\n",
      "264:\tlearn: 1633.9248885\ttotal: 37.9s\tremaining: 1m 45s\n",
      "265:\tlearn: 1633.5544710\ttotal: 38.1s\tremaining: 1m 45s\n",
      "266:\tlearn: 1633.3041923\ttotal: 38.2s\tremaining: 1m 44s\n",
      "267:\tlearn: 1632.7770336\ttotal: 38.3s\tremaining: 1m 44s\n",
      "268:\tlearn: 1632.5737070\ttotal: 38.4s\tremaining: 1m 44s\n",
      "269:\tlearn: 1632.3202061\ttotal: 38.6s\tremaining: 1m 44s\n",
      "270:\tlearn: 1632.1075316\ttotal: 38.7s\tremaining: 1m 44s\n",
      "271:\tlearn: 1631.8233096\ttotal: 38.9s\tremaining: 1m 44s\n",
      "272:\tlearn: 1631.4296826\ttotal: 39.1s\tremaining: 1m 44s\n",
      "273:\tlearn: 1631.0238223\ttotal: 39.2s\tremaining: 1m 43s\n",
      "274:\tlearn: 1630.7209187\ttotal: 39.4s\tremaining: 1m 43s\n",
      "275:\tlearn: 1630.4179953\ttotal: 39.5s\tremaining: 1m 43s\n",
      "276:\tlearn: 1630.1622072\ttotal: 39.6s\tremaining: 1m 43s\n",
      "277:\tlearn: 1629.6130571\ttotal: 39.8s\tremaining: 1m 43s\n",
      "278:\tlearn: 1629.4455175\ttotal: 39.9s\tremaining: 1m 43s\n",
      "279:\tlearn: 1629.1090000\ttotal: 40.1s\tremaining: 1m 43s\n",
      "280:\tlearn: 1628.7229922\ttotal: 40.2s\tremaining: 1m 42s\n",
      "281:\tlearn: 1628.4555991\ttotal: 40.4s\tremaining: 1m 42s\n",
      "282:\tlearn: 1628.2597627\ttotal: 40.5s\tremaining: 1m 42s\n",
      "283:\tlearn: 1628.0327578\ttotal: 40.7s\tremaining: 1m 42s\n",
      "284:\tlearn: 1627.8474217\ttotal: 40.8s\tremaining: 1m 42s\n",
      "285:\tlearn: 1627.7305788\ttotal: 40.9s\tremaining: 1m 42s\n",
      "286:\tlearn: 1627.3748803\ttotal: 41s\tremaining: 1m 41s\n",
      "287:\tlearn: 1627.1482525\ttotal: 41.2s\tremaining: 1m 41s\n",
      "288:\tlearn: 1626.7443295\ttotal: 41.3s\tremaining: 1m 41s\n",
      "289:\tlearn: 1626.5389613\ttotal: 41.4s\tremaining: 1m 41s\n",
      "290:\tlearn: 1626.1467828\ttotal: 41.5s\tremaining: 1m 41s\n",
      "291:\tlearn: 1625.9407811\ttotal: 41.7s\tremaining: 1m 41s\n",
      "292:\tlearn: 1625.5663818\ttotal: 41.8s\tremaining: 1m 40s\n",
      "293:\tlearn: 1625.4281046\ttotal: 42s\tremaining: 1m 40s\n",
      "294:\tlearn: 1625.0925182\ttotal: 42.1s\tremaining: 1m 40s\n",
      "295:\tlearn: 1624.6471881\ttotal: 42.2s\tremaining: 1m 40s\n",
      "296:\tlearn: 1624.4451928\ttotal: 42.4s\tremaining: 1m 40s\n",
      "297:\tlearn: 1624.3460959\ttotal: 42.5s\tremaining: 1m 40s\n",
      "298:\tlearn: 1624.1104394\ttotal: 42.7s\tremaining: 1m 40s\n",
      "299:\tlearn: 1623.9056570\ttotal: 42.8s\tremaining: 1m 39s\n",
      "300:\tlearn: 1623.6647935\ttotal: 43s\tremaining: 1m 39s\n",
      "301:\tlearn: 1623.4312733\ttotal: 43.1s\tremaining: 1m 39s\n",
      "302:\tlearn: 1623.0980347\ttotal: 43.4s\tremaining: 1m 39s\n",
      "303:\tlearn: 1622.6315184\ttotal: 43.5s\tremaining: 1m 39s\n",
      "304:\tlearn: 1622.2673621\ttotal: 43.7s\tremaining: 1m 39s\n",
      "305:\tlearn: 1621.9265881\ttotal: 43.8s\tremaining: 1m 39s\n",
      "306:\tlearn: 1621.5131127\ttotal: 44s\tremaining: 1m 39s\n",
      "307:\tlearn: 1621.1955082\ttotal: 44.1s\tremaining: 1m 39s\n",
      "308:\tlearn: 1620.8720592\ttotal: 44.3s\tremaining: 1m 38s\n",
      "309:\tlearn: 1620.7335413\ttotal: 44.4s\tremaining: 1m 38s\n",
      "310:\tlearn: 1620.5998646\ttotal: 44.5s\tremaining: 1m 38s\n",
      "311:\tlearn: 1620.3051025\ttotal: 44.6s\tremaining: 1m 38s\n",
      "312:\tlearn: 1619.8230216\ttotal: 44.7s\tremaining: 1m 38s\n",
      "313:\tlearn: 1619.5938889\ttotal: 44.9s\tremaining: 1m 38s\n",
      "314:\tlearn: 1619.2141911\ttotal: 45s\tremaining: 1m 37s\n",
      "315:\tlearn: 1618.7586711\ttotal: 45.2s\tremaining: 1m 37s\n",
      "316:\tlearn: 1618.4620039\ttotal: 45.3s\tremaining: 1m 37s\n",
      "317:\tlearn: 1618.1168269\ttotal: 45.4s\tremaining: 1m 37s\n",
      "318:\tlearn: 1617.9636113\ttotal: 45.5s\tremaining: 1m 37s\n",
      "319:\tlearn: 1617.5844825\ttotal: 45.7s\tremaining: 1m 37s\n",
      "320:\tlearn: 1617.3026956\ttotal: 45.8s\tremaining: 1m 36s\n",
      "321:\tlearn: 1617.2146265\ttotal: 45.9s\tremaining: 1m 36s\n",
      "322:\tlearn: 1616.9831727\ttotal: 46.1s\tremaining: 1m 36s\n",
      "323:\tlearn: 1616.8714472\ttotal: 46.2s\tremaining: 1m 36s\n",
      "324:\tlearn: 1616.7429172\ttotal: 46.3s\tremaining: 1m 36s\n",
      "325:\tlearn: 1616.5014796\ttotal: 46.5s\tremaining: 1m 36s\n",
      "326:\tlearn: 1616.1864681\ttotal: 46.6s\tremaining: 1m 35s\n",
      "327:\tlearn: 1616.1123234\ttotal: 46.8s\tremaining: 1m 35s\n",
      "328:\tlearn: 1615.9839040\ttotal: 46.9s\tremaining: 1m 35s\n",
      "329:\tlearn: 1615.8191973\ttotal: 47s\tremaining: 1m 35s\n",
      "330:\tlearn: 1615.7113538\ttotal: 47.1s\tremaining: 1m 35s\n",
      "331:\tlearn: 1615.5176012\ttotal: 47.3s\tremaining: 1m 35s\n",
      "332:\tlearn: 1615.4531015\ttotal: 47.4s\tremaining: 1m 34s\n",
      "333:\tlearn: 1615.0328334\ttotal: 47.5s\tremaining: 1m 34s\n",
      "334:\tlearn: 1614.7668754\ttotal: 47.7s\tremaining: 1m 34s\n",
      "335:\tlearn: 1614.5952947\ttotal: 47.8s\tremaining: 1m 34s\n",
      "336:\tlearn: 1614.3199505\ttotal: 48s\tremaining: 1m 34s\n",
      "337:\tlearn: 1614.2082598\ttotal: 48.1s\tremaining: 1m 34s\n",
      "338:\tlearn: 1614.0415341\ttotal: 48.2s\tremaining: 1m 34s\n",
      "339:\tlearn: 1613.8058733\ttotal: 48.4s\tremaining: 1m 33s\n",
      "340:\tlearn: 1613.4783025\ttotal: 48.5s\tremaining: 1m 33s\n",
      "341:\tlearn: 1613.2541832\ttotal: 48.7s\tremaining: 1m 33s\n",
      "342:\tlearn: 1612.8455528\ttotal: 48.8s\tremaining: 1m 33s\n",
      "343:\tlearn: 1612.5442784\ttotal: 49s\tremaining: 1m 33s\n",
      "344:\tlearn: 1612.3666947\ttotal: 49s\tremaining: 1m 33s\n",
      "345:\tlearn: 1611.9947211\ttotal: 49.1s\tremaining: 1m 32s\n",
      "346:\tlearn: 1611.7401648\ttotal: 49.3s\tremaining: 1m 32s\n",
      "347:\tlearn: 1611.6156446\ttotal: 49.4s\tremaining: 1m 32s\n",
      "348:\tlearn: 1611.3294616\ttotal: 49.6s\tremaining: 1m 32s\n",
      "349:\tlearn: 1611.0054289\ttotal: 49.7s\tremaining: 1m 32s\n",
      "350:\tlearn: 1610.7395356\ttotal: 49.8s\tremaining: 1m 32s\n",
      "351:\tlearn: 1610.4489120\ttotal: 50s\tremaining: 1m 31s\n",
      "352:\tlearn: 1610.2080563\ttotal: 50.1s\tremaining: 1m 31s\n",
      "353:\tlearn: 1610.0424438\ttotal: 50.3s\tremaining: 1m 31s\n",
      "354:\tlearn: 1609.8789069\ttotal: 50.4s\tremaining: 1m 31s\n",
      "355:\tlearn: 1609.5709244\ttotal: 50.5s\tremaining: 1m 31s\n",
      "356:\tlearn: 1609.4727434\ttotal: 50.6s\tremaining: 1m 31s\n",
      "357:\tlearn: 1609.2994048\ttotal: 50.8s\tremaining: 1m 31s\n",
      "358:\tlearn: 1608.8861031\ttotal: 50.9s\tremaining: 1m 30s\n",
      "359:\tlearn: 1608.6332975\ttotal: 51.1s\tremaining: 1m 30s\n",
      "360:\tlearn: 1608.4867234\ttotal: 51.2s\tremaining: 1m 30s\n",
      "361:\tlearn: 1608.1958787\ttotal: 51.3s\tremaining: 1m 30s\n",
      "362:\tlearn: 1607.6999812\ttotal: 51.4s\tremaining: 1m 30s\n",
      "363:\tlearn: 1607.3270563\ttotal: 51.6s\tremaining: 1m 30s\n",
      "364:\tlearn: 1607.0743387\ttotal: 51.7s\tremaining: 1m 29s\n",
      "365:\tlearn: 1606.7954300\ttotal: 51.8s\tremaining: 1m 29s\n",
      "366:\tlearn: 1606.5357294\ttotal: 51.9s\tremaining: 1m 29s\n",
      "367:\tlearn: 1606.4264674\ttotal: 52.1s\tremaining: 1m 29s\n",
      "368:\tlearn: 1606.1759384\ttotal: 52.2s\tremaining: 1m 29s\n",
      "369:\tlearn: 1605.8539709\ttotal: 52.4s\tremaining: 1m 29s\n",
      "370:\tlearn: 1605.6896163\ttotal: 52.5s\tremaining: 1m 29s\n",
      "371:\tlearn: 1605.5311261\ttotal: 52.6s\tremaining: 1m 28s\n",
      "372:\tlearn: 1605.4767907\ttotal: 52.8s\tremaining: 1m 28s\n",
      "373:\tlearn: 1605.3528090\ttotal: 52.9s\tremaining: 1m 28s\n",
      "374:\tlearn: 1605.0966444\ttotal: 53.1s\tremaining: 1m 28s\n",
      "375:\tlearn: 1604.9279577\ttotal: 53.2s\tremaining: 1m 28s\n",
      "376:\tlearn: 1604.7635004\ttotal: 53.4s\tremaining: 1m 28s\n",
      "377:\tlearn: 1604.5421878\ttotal: 53.6s\tremaining: 1m 28s\n",
      "378:\tlearn: 1604.1849064\ttotal: 53.7s\tremaining: 1m 28s\n",
      "379:\tlearn: 1604.0403277\ttotal: 53.9s\tremaining: 1m 27s\n",
      "380:\tlearn: 1603.7885744\ttotal: 54.1s\tremaining: 1m 27s\n",
      "381:\tlearn: 1603.4178405\ttotal: 54.2s\tremaining: 1m 27s\n",
      "382:\tlearn: 1603.0818602\ttotal: 54.4s\tremaining: 1m 27s\n",
      "383:\tlearn: 1602.7555348\ttotal: 54.6s\tremaining: 1m 27s\n",
      "384:\tlearn: 1602.5536769\ttotal: 54.7s\tremaining: 1m 27s\n",
      "385:\tlearn: 1602.1451369\ttotal: 54.9s\tremaining: 1m 27s\n",
      "386:\tlearn: 1601.8787080\ttotal: 55s\tremaining: 1m 27s\n",
      "387:\tlearn: 1601.5264951\ttotal: 55.2s\tremaining: 1m 27s\n",
      "388:\tlearn: 1601.3108666\ttotal: 55.3s\tremaining: 1m 26s\n",
      "389:\tlearn: 1601.1980489\ttotal: 55.4s\tremaining: 1m 26s\n",
      "390:\tlearn: 1600.8366095\ttotal: 55.6s\tremaining: 1m 26s\n",
      "391:\tlearn: 1600.7854471\ttotal: 55.7s\tremaining: 1m 26s\n",
      "392:\tlearn: 1600.6028970\ttotal: 55.9s\tremaining: 1m 26s\n",
      "393:\tlearn: 1600.3680350\ttotal: 56s\tremaining: 1m 26s\n",
      "394:\tlearn: 1600.2433989\ttotal: 56.1s\tremaining: 1m 25s\n",
      "395:\tlearn: 1600.1121225\ttotal: 56.2s\tremaining: 1m 25s\n",
      "396:\tlearn: 1599.9318298\ttotal: 56.4s\tremaining: 1m 25s\n",
      "397:\tlearn: 1599.8987007\ttotal: 56.5s\tremaining: 1m 25s\n",
      "398:\tlearn: 1599.7330384\ttotal: 56.6s\tremaining: 1m 25s\n",
      "399:\tlearn: 1599.6512075\ttotal: 56.7s\tremaining: 1m 25s\n",
      "400:\tlearn: 1599.3334167\ttotal: 56.9s\tremaining: 1m 24s\n",
      "401:\tlearn: 1599.2029440\ttotal: 57s\tremaining: 1m 24s\n",
      "402:\tlearn: 1598.9891315\ttotal: 57.2s\tremaining: 1m 24s\n",
      "403:\tlearn: 1598.6967843\ttotal: 57.3s\tremaining: 1m 24s\n",
      "404:\tlearn: 1598.6413916\ttotal: 57.5s\tremaining: 1m 24s\n",
      "405:\tlearn: 1598.5323946\ttotal: 57.6s\tremaining: 1m 24s\n",
      "406:\tlearn: 1598.2949112\ttotal: 57.7s\tremaining: 1m 24s\n",
      "407:\tlearn: 1598.0657068\ttotal: 57.9s\tremaining: 1m 23s\n",
      "408:\tlearn: 1597.9227074\ttotal: 58s\tremaining: 1m 23s\n",
      "409:\tlearn: 1597.7000354\ttotal: 58.1s\tremaining: 1m 23s\n",
      "410:\tlearn: 1597.2199803\ttotal: 58.3s\tremaining: 1m 23s\n",
      "411:\tlearn: 1597.0127217\ttotal: 58.4s\tremaining: 1m 23s\n",
      "412:\tlearn: 1596.9127197\ttotal: 58.5s\tremaining: 1m 23s\n",
      "413:\tlearn: 1596.6618217\ttotal: 58.7s\tremaining: 1m 23s\n",
      "414:\tlearn: 1596.5387027\ttotal: 58.8s\tremaining: 1m 22s\n",
      "415:\tlearn: 1596.3636875\ttotal: 58.9s\tremaining: 1m 22s\n",
      "416:\tlearn: 1596.0981759\ttotal: 59.1s\tremaining: 1m 22s\n",
      "417:\tlearn: 1595.9933723\ttotal: 59.2s\tremaining: 1m 22s\n",
      "418:\tlearn: 1595.8849463\ttotal: 59.3s\tremaining: 1m 22s\n",
      "419:\tlearn: 1595.7798695\ttotal: 59.5s\tremaining: 1m 22s\n",
      "420:\tlearn: 1595.6261780\ttotal: 59.6s\tremaining: 1m 22s\n",
      "421:\tlearn: 1595.3734708\ttotal: 59.7s\tremaining: 1m 21s\n",
      "422:\tlearn: 1595.2108869\ttotal: 59.9s\tremaining: 1m 21s\n",
      "423:\tlearn: 1595.1217674\ttotal: 1m\tremaining: 1m 21s\n",
      "424:\tlearn: 1594.9552977\ttotal: 1m\tremaining: 1m 21s\n",
      "425:\tlearn: 1594.7670905\ttotal: 1m\tremaining: 1m 21s\n",
      "426:\tlearn: 1594.5679045\ttotal: 1m\tremaining: 1m 21s\n",
      "427:\tlearn: 1594.2990478\ttotal: 1m\tremaining: 1m 21s\n",
      "428:\tlearn: 1594.1928826\ttotal: 1m\tremaining: 1m 20s\n",
      "429:\tlearn: 1593.9218185\ttotal: 1m\tremaining: 1m 20s\n",
      "430:\tlearn: 1593.6947204\ttotal: 1m\tremaining: 1m 20s\n",
      "431:\tlearn: 1593.6515618\ttotal: 1m 1s\tremaining: 1m 20s\n",
      "432:\tlearn: 1593.3788880\ttotal: 1m 1s\tremaining: 1m 20s\n",
      "433:\tlearn: 1593.2858883\ttotal: 1m 1s\tremaining: 1m 20s\n",
      "434:\tlearn: 1593.1247365\ttotal: 1m 1s\tremaining: 1m 19s\n",
      "435:\tlearn: 1592.9269496\ttotal: 1m 1s\tremaining: 1m 19s\n",
      "436:\tlearn: 1592.7269534\ttotal: 1m 1s\tremaining: 1m 19s\n",
      "437:\tlearn: 1592.5424469\ttotal: 1m 1s\tremaining: 1m 19s\n",
      "438:\tlearn: 1592.3033798\ttotal: 1m 1s\tremaining: 1m 19s\n",
      "439:\tlearn: 1592.1761071\ttotal: 1m 2s\tremaining: 1m 19s\n",
      "440:\tlearn: 1592.0456435\ttotal: 1m 2s\tremaining: 1m 18s\n",
      "441:\tlearn: 1591.7822450\ttotal: 1m 2s\tremaining: 1m 18s\n",
      "442:\tlearn: 1591.6229802\ttotal: 1m 2s\tremaining: 1m 18s\n",
      "443:\tlearn: 1591.5126763\ttotal: 1m 2s\tremaining: 1m 18s\n",
      "444:\tlearn: 1591.4327730\ttotal: 1m 2s\tremaining: 1m 18s\n",
      "445:\tlearn: 1591.2977597\ttotal: 1m 2s\tremaining: 1m 18s\n",
      "446:\tlearn: 1591.0993965\ttotal: 1m 3s\tremaining: 1m 17s\n",
      "447:\tlearn: 1590.9492643\ttotal: 1m 3s\tremaining: 1m 17s\n",
      "448:\tlearn: 1590.7787799\ttotal: 1m 3s\tremaining: 1m 17s\n",
      "449:\tlearn: 1590.6899383\ttotal: 1m 3s\tremaining: 1m 17s\n",
      "450:\tlearn: 1590.5254563\ttotal: 1m 3s\tremaining: 1m 17s\n",
      "451:\tlearn: 1590.3615395\ttotal: 1m 3s\tremaining: 1m 17s\n",
      "452:\tlearn: 1590.1796091\ttotal: 1m 3s\tremaining: 1m 17s\n",
      "453:\tlearn: 1590.0001372\ttotal: 1m 4s\tremaining: 1m 17s\n",
      "454:\tlearn: 1589.9149729\ttotal: 1m 4s\tremaining: 1m 17s\n",
      "455:\tlearn: 1589.7642004\ttotal: 1m 4s\tremaining: 1m 16s\n",
      "456:\tlearn: 1589.6077435\ttotal: 1m 4s\tremaining: 1m 16s\n",
      "457:\tlearn: 1589.4100517\ttotal: 1m 4s\tremaining: 1m 16s\n",
      "458:\tlearn: 1589.3518255\ttotal: 1m 4s\tremaining: 1m 16s\n",
      "459:\tlearn: 1589.0413643\ttotal: 1m 5s\tremaining: 1m 16s\n",
      "460:\tlearn: 1588.9939301\ttotal: 1m 5s\tremaining: 1m 16s\n",
      "461:\tlearn: 1588.7998666\ttotal: 1m 5s\tremaining: 1m 16s\n",
      "462:\tlearn: 1588.7490045\ttotal: 1m 5s\tremaining: 1m 15s\n",
      "463:\tlearn: 1588.6458062\ttotal: 1m 5s\tremaining: 1m 15s\n",
      "464:\tlearn: 1588.5116939\ttotal: 1m 5s\tremaining: 1m 15s\n",
      "465:\tlearn: 1588.2565721\ttotal: 1m 5s\tremaining: 1m 15s\n",
      "466:\tlearn: 1588.1338846\ttotal: 1m 6s\tremaining: 1m 15s\n",
      "467:\tlearn: 1588.0969771\ttotal: 1m 6s\tremaining: 1m 15s\n",
      "468:\tlearn: 1587.8145600\ttotal: 1m 6s\tremaining: 1m 15s\n",
      "469:\tlearn: 1587.5398080\ttotal: 1m 6s\tremaining: 1m 14s\n",
      "470:\tlearn: 1587.0561733\ttotal: 1m 6s\tremaining: 1m 14s\n",
      "471:\tlearn: 1586.8966559\ttotal: 1m 6s\tremaining: 1m 14s\n",
      "472:\tlearn: 1586.6357173\ttotal: 1m 6s\tremaining: 1m 14s\n",
      "473:\tlearn: 1586.4100768\ttotal: 1m 7s\tremaining: 1m 14s\n",
      "474:\tlearn: 1586.3048564\ttotal: 1m 7s\tremaining: 1m 14s\n",
      "475:\tlearn: 1586.1899039\ttotal: 1m 7s\tremaining: 1m 14s\n",
      "476:\tlearn: 1585.9993603\ttotal: 1m 7s\tremaining: 1m 13s\n",
      "477:\tlearn: 1585.8594062\ttotal: 1m 7s\tremaining: 1m 13s\n",
      "478:\tlearn: 1585.6900632\ttotal: 1m 7s\tremaining: 1m 13s\n",
      "479:\tlearn: 1585.5331443\ttotal: 1m 7s\tremaining: 1m 13s\n",
      "480:\tlearn: 1585.3396519\ttotal: 1m 8s\tremaining: 1m 13s\n",
      "481:\tlearn: 1585.2027694\ttotal: 1m 8s\tremaining: 1m 13s\n",
      "482:\tlearn: 1585.0152588\ttotal: 1m 8s\tremaining: 1m 13s\n",
      "483:\tlearn: 1584.8379405\ttotal: 1m 8s\tremaining: 1m 12s\n",
      "484:\tlearn: 1584.6027439\ttotal: 1m 8s\tremaining: 1m 12s\n",
      "485:\tlearn: 1584.5409327\ttotal: 1m 8s\tremaining: 1m 12s\n",
      "486:\tlearn: 1584.5259371\ttotal: 1m 8s\tremaining: 1m 12s\n",
      "487:\tlearn: 1584.3232985\ttotal: 1m 9s\tremaining: 1m 12s\n",
      "488:\tlearn: 1584.2112153\ttotal: 1m 9s\tremaining: 1m 12s\n",
      "489:\tlearn: 1584.0205465\ttotal: 1m 9s\tremaining: 1m 12s\n",
      "490:\tlearn: 1583.6907118\ttotal: 1m 9s\tremaining: 1m 12s\n",
      "491:\tlearn: 1583.6211793\ttotal: 1m 9s\tremaining: 1m 11s\n",
      "492:\tlearn: 1583.5461954\ttotal: 1m 9s\tremaining: 1m 11s\n",
      "493:\tlearn: 1583.2099638\ttotal: 1m 9s\tremaining: 1m 11s\n",
      "494:\tlearn: 1583.0693387\ttotal: 1m 10s\tremaining: 1m 11s\n",
      "495:\tlearn: 1582.9332748\ttotal: 1m 10s\tremaining: 1m 11s\n",
      "496:\tlearn: 1582.8449052\ttotal: 1m 10s\tremaining: 1m 11s\n",
      "497:\tlearn: 1582.7505276\ttotal: 1m 10s\tremaining: 1m 10s\n",
      "498:\tlearn: 1582.5966935\ttotal: 1m 10s\tremaining: 1m 10s\n",
      "499:\tlearn: 1582.4225674\ttotal: 1m 10s\tremaining: 1m 10s\n",
      "500:\tlearn: 1582.4075038\ttotal: 1m 10s\tremaining: 1m 10s\n",
      "501:\tlearn: 1582.3135108\ttotal: 1m 10s\tremaining: 1m 10s\n",
      "502:\tlearn: 1582.2149625\ttotal: 1m 11s\tremaining: 1m 10s\n",
      "503:\tlearn: 1581.9786484\ttotal: 1m 11s\tremaining: 1m 10s\n",
      "504:\tlearn: 1581.7594434\ttotal: 1m 11s\tremaining: 1m 9s\n",
      "505:\tlearn: 1581.6064613\ttotal: 1m 11s\tremaining: 1m 9s\n",
      "506:\tlearn: 1581.5574338\ttotal: 1m 11s\tremaining: 1m 9s\n",
      "507:\tlearn: 1581.2350598\ttotal: 1m 11s\tremaining: 1m 9s\n",
      "508:\tlearn: 1581.1411443\ttotal: 1m 11s\tremaining: 1m 9s\n",
      "509:\tlearn: 1581.0009904\ttotal: 1m 11s\tremaining: 1m 9s\n",
      "510:\tlearn: 1580.8144958\ttotal: 1m 12s\tremaining: 1m 8s\n",
      "511:\tlearn: 1580.6821011\ttotal: 1m 12s\tremaining: 1m 8s\n",
      "512:\tlearn: 1580.4624926\ttotal: 1m 12s\tremaining: 1m 8s\n",
      "513:\tlearn: 1580.2329941\ttotal: 1m 12s\tremaining: 1m 8s\n",
      "514:\tlearn: 1580.0649170\ttotal: 1m 12s\tremaining: 1m 8s\n",
      "515:\tlearn: 1579.8831539\ttotal: 1m 12s\tremaining: 1m 8s\n",
      "516:\tlearn: 1579.7477927\ttotal: 1m 12s\tremaining: 1m 8s\n",
      "517:\tlearn: 1579.5516344\ttotal: 1m 13s\tremaining: 1m 7s\n",
      "518:\tlearn: 1579.3280917\ttotal: 1m 13s\tremaining: 1m 7s\n",
      "519:\tlearn: 1579.2006190\ttotal: 1m 13s\tremaining: 1m 7s\n",
      "520:\tlearn: 1579.1619850\ttotal: 1m 13s\tremaining: 1m 7s\n",
      "521:\tlearn: 1578.9460639\ttotal: 1m 13s\tremaining: 1m 7s\n",
      "522:\tlearn: 1578.6937366\ttotal: 1m 13s\tremaining: 1m 7s\n",
      "523:\tlearn: 1578.6803728\ttotal: 1m 14s\tremaining: 1m 7s\n",
      "524:\tlearn: 1578.5003987\ttotal: 1m 14s\tremaining: 1m 7s\n",
      "525:\tlearn: 1578.3181613\ttotal: 1m 14s\tremaining: 1m 7s\n",
      "526:\tlearn: 1578.1234665\ttotal: 1m 14s\tremaining: 1m 6s\n",
      "527:\tlearn: 1578.0322795\ttotal: 1m 14s\tremaining: 1m 6s\n",
      "528:\tlearn: 1577.9070543\ttotal: 1m 14s\tremaining: 1m 6s\n",
      "529:\tlearn: 1577.8673586\ttotal: 1m 14s\tremaining: 1m 6s\n",
      "530:\tlearn: 1577.7089418\ttotal: 1m 15s\tremaining: 1m 6s\n",
      "531:\tlearn: 1577.4757586\ttotal: 1m 15s\tremaining: 1m 6s\n",
      "532:\tlearn: 1577.3041514\ttotal: 1m 15s\tremaining: 1m 6s\n",
      "533:\tlearn: 1577.1369895\ttotal: 1m 15s\tremaining: 1m 5s\n",
      "534:\tlearn: 1577.0020324\ttotal: 1m 15s\tremaining: 1m 5s\n",
      "535:\tlearn: 1576.8029577\ttotal: 1m 15s\tremaining: 1m 5s\n",
      "536:\tlearn: 1576.6435602\ttotal: 1m 15s\tremaining: 1m 5s\n",
      "537:\tlearn: 1576.3863579\ttotal: 1m 16s\tremaining: 1m 5s\n",
      "538:\tlearn: 1576.2581340\ttotal: 1m 16s\tremaining: 1m 5s\n",
      "539:\tlearn: 1576.1721170\ttotal: 1m 16s\tremaining: 1m 5s\n",
      "540:\tlearn: 1576.1598020\ttotal: 1m 16s\tremaining: 1m 4s\n",
      "541:\tlearn: 1576.0172197\ttotal: 1m 16s\tremaining: 1m 4s\n",
      "542:\tlearn: 1575.8028087\ttotal: 1m 16s\tremaining: 1m 4s\n",
      "543:\tlearn: 1575.6016830\ttotal: 1m 16s\tremaining: 1m 4s\n",
      "544:\tlearn: 1575.3341838\ttotal: 1m 17s\tremaining: 1m 4s\n",
      "545:\tlearn: 1575.1332434\ttotal: 1m 17s\tremaining: 1m 4s\n",
      "546:\tlearn: 1574.9826671\ttotal: 1m 17s\tremaining: 1m 4s\n",
      "547:\tlearn: 1574.8759888\ttotal: 1m 17s\tremaining: 1m 3s\n",
      "548:\tlearn: 1574.7289158\ttotal: 1m 17s\tremaining: 1m 3s\n",
      "549:\tlearn: 1574.5947439\ttotal: 1m 17s\tremaining: 1m 3s\n",
      "550:\tlearn: 1574.4645149\ttotal: 1m 17s\tremaining: 1m 3s\n",
      "551:\tlearn: 1574.3216349\ttotal: 1m 18s\tremaining: 1m 3s\n",
      "552:\tlearn: 1574.3138545\ttotal: 1m 18s\tremaining: 1m 3s\n",
      "553:\tlearn: 1574.3028228\ttotal: 1m 18s\tremaining: 1m 3s\n",
      "554:\tlearn: 1574.1141038\ttotal: 1m 18s\tremaining: 1m 2s\n",
      "555:\tlearn: 1573.9240243\ttotal: 1m 18s\tremaining: 1m 2s\n",
      "556:\tlearn: 1573.7882622\ttotal: 1m 18s\tremaining: 1m 2s\n",
      "557:\tlearn: 1573.6029976\ttotal: 1m 18s\tremaining: 1m 2s\n",
      "558:\tlearn: 1573.4722093\ttotal: 1m 19s\tremaining: 1m 2s\n",
      "559:\tlearn: 1573.4006905\ttotal: 1m 19s\tremaining: 1m 2s\n",
      "560:\tlearn: 1573.0885203\ttotal: 1m 19s\tremaining: 1m 2s\n",
      "561:\tlearn: 1573.0585054\ttotal: 1m 19s\tremaining: 1m 1s\n",
      "562:\tlearn: 1572.9408395\ttotal: 1m 19s\tremaining: 1m 1s\n",
      "563:\tlearn: 1572.8746213\ttotal: 1m 19s\tremaining: 1m 1s\n",
      "564:\tlearn: 1572.7086032\ttotal: 1m 19s\tremaining: 1m 1s\n",
      "565:\tlearn: 1572.6132087\ttotal: 1m 19s\tremaining: 1m 1s\n",
      "566:\tlearn: 1572.5309593\ttotal: 1m 20s\tremaining: 1m 1s\n",
      "567:\tlearn: 1572.4713735\ttotal: 1m 20s\tremaining: 1m 1s\n",
      "568:\tlearn: 1572.2521989\ttotal: 1m 20s\tremaining: 1m\n",
      "569:\tlearn: 1572.0914910\ttotal: 1m 20s\tremaining: 1m\n",
      "570:\tlearn: 1571.9812331\ttotal: 1m 20s\tremaining: 1m\n",
      "571:\tlearn: 1571.8216601\ttotal: 1m 20s\tremaining: 1m\n",
      "572:\tlearn: 1571.7558199\ttotal: 1m 20s\tremaining: 1m\n",
      "573:\tlearn: 1571.7131400\ttotal: 1m 21s\tremaining: 1m\n",
      "574:\tlearn: 1571.5530416\ttotal: 1m 21s\tremaining: 1m\n",
      "575:\tlearn: 1571.3588200\ttotal: 1m 21s\tremaining: 59.9s\n",
      "576:\tlearn: 1571.1580994\ttotal: 1m 21s\tremaining: 59.8s\n",
      "577:\tlearn: 1571.0882340\ttotal: 1m 21s\tremaining: 59.7s\n",
      "578:\tlearn: 1571.0124454\ttotal: 1m 21s\tremaining: 59.5s\n",
      "579:\tlearn: 1570.8206193\ttotal: 1m 22s\tremaining: 59.4s\n",
      "580:\tlearn: 1570.6792795\ttotal: 1m 22s\tremaining: 59.3s\n",
      "581:\tlearn: 1570.5557001\ttotal: 1m 22s\tremaining: 59.1s\n",
      "582:\tlearn: 1570.4747086\ttotal: 1m 22s\tremaining: 59s\n",
      "583:\tlearn: 1570.3010855\ttotal: 1m 22s\tremaining: 58.8s\n",
      "584:\tlearn: 1570.1573429\ttotal: 1m 22s\tremaining: 58.7s\n",
      "585:\tlearn: 1570.1322066\ttotal: 1m 22s\tremaining: 58.5s\n",
      "586:\tlearn: 1570.0369224\ttotal: 1m 23s\tremaining: 58.4s\n",
      "587:\tlearn: 1569.9336476\ttotal: 1m 23s\tremaining: 58.3s\n",
      "588:\tlearn: 1569.8272504\ttotal: 1m 23s\tremaining: 58.1s\n",
      "589:\tlearn: 1569.7583269\ttotal: 1m 23s\tremaining: 58s\n",
      "590:\tlearn: 1569.4948499\ttotal: 1m 23s\tremaining: 57.9s\n",
      "591:\tlearn: 1569.4406789\ttotal: 1m 23s\tremaining: 57.7s\n",
      "592:\tlearn: 1569.4040560\ttotal: 1m 23s\tremaining: 57.5s\n",
      "593:\tlearn: 1569.3556510\ttotal: 1m 23s\tremaining: 57.4s\n",
      "594:\tlearn: 1569.2424009\ttotal: 1m 24s\tremaining: 57.2s\n",
      "595:\tlearn: 1569.1559007\ttotal: 1m 24s\tremaining: 57.1s\n",
      "596:\tlearn: 1569.1214904\ttotal: 1m 24s\tremaining: 56.9s\n",
      "597:\tlearn: 1568.8134006\ttotal: 1m 24s\tremaining: 56.8s\n",
      "598:\tlearn: 1568.7297540\ttotal: 1m 24s\tremaining: 56.6s\n",
      "599:\tlearn: 1568.4771099\ttotal: 1m 24s\tremaining: 56.5s\n",
      "600:\tlearn: 1568.4035029\ttotal: 1m 24s\tremaining: 56.3s\n",
      "601:\tlearn: 1568.2316908\ttotal: 1m 25s\tremaining: 56.2s\n",
      "602:\tlearn: 1568.1955597\ttotal: 1m 25s\tremaining: 56.1s\n",
      "603:\tlearn: 1568.0812927\ttotal: 1m 25s\tremaining: 55.9s\n",
      "604:\tlearn: 1567.9501309\ttotal: 1m 25s\tremaining: 55.8s\n",
      "605:\tlearn: 1567.7021819\ttotal: 1m 25s\tremaining: 55.6s\n",
      "606:\tlearn: 1567.5933611\ttotal: 1m 25s\tremaining: 55.4s\n",
      "607:\tlearn: 1567.4515173\ttotal: 1m 25s\tremaining: 55.3s\n",
      "608:\tlearn: 1567.1354444\ttotal: 1m 25s\tremaining: 55.2s\n",
      "609:\tlearn: 1566.9593792\ttotal: 1m 26s\tremaining: 55s\n",
      "610:\tlearn: 1566.8145941\ttotal: 1m 26s\tremaining: 54.9s\n",
      "611:\tlearn: 1566.7715675\ttotal: 1m 26s\tremaining: 54.7s\n",
      "612:\tlearn: 1566.7432700\ttotal: 1m 26s\tremaining: 54.6s\n",
      "613:\tlearn: 1566.5708044\ttotal: 1m 26s\tremaining: 54.5s\n",
      "614:\tlearn: 1566.4067038\ttotal: 1m 26s\tremaining: 54.3s\n",
      "615:\tlearn: 1566.2750704\ttotal: 1m 26s\tremaining: 54.2s\n",
      "616:\tlearn: 1566.2181124\ttotal: 1m 27s\tremaining: 54s\n",
      "617:\tlearn: 1566.0514801\ttotal: 1m 27s\tremaining: 53.9s\n",
      "618:\tlearn: 1566.0048305\ttotal: 1m 27s\tremaining: 53.8s\n",
      "619:\tlearn: 1565.8108936\ttotal: 1m 27s\tremaining: 53.6s\n",
      "620:\tlearn: 1565.7411339\ttotal: 1m 27s\tremaining: 53.5s\n",
      "621:\tlearn: 1565.6012536\ttotal: 1m 27s\tremaining: 53.3s\n",
      "622:\tlearn: 1565.4504648\ttotal: 1m 27s\tremaining: 53.2s\n",
      "623:\tlearn: 1565.3258610\ttotal: 1m 28s\tremaining: 53.1s\n",
      "624:\tlearn: 1565.2245136\ttotal: 1m 28s\tremaining: 52.9s\n",
      "625:\tlearn: 1565.1670561\ttotal: 1m 28s\tremaining: 52.8s\n",
      "626:\tlearn: 1564.9609047\ttotal: 1m 28s\tremaining: 52.6s\n",
      "627:\tlearn: 1564.8537830\ttotal: 1m 28s\tremaining: 52.5s\n",
      "628:\tlearn: 1564.7497290\ttotal: 1m 28s\tremaining: 52.3s\n",
      "629:\tlearn: 1564.5967409\ttotal: 1m 28s\tremaining: 52.2s\n",
      "630:\tlearn: 1564.5777613\ttotal: 1m 29s\tremaining: 52s\n",
      "631:\tlearn: 1564.5369605\ttotal: 1m 29s\tremaining: 51.9s\n",
      "632:\tlearn: 1564.3167976\ttotal: 1m 29s\tremaining: 51.8s\n",
      "633:\tlearn: 1564.1954092\ttotal: 1m 29s\tremaining: 51.6s\n",
      "634:\tlearn: 1564.0533221\ttotal: 1m 29s\tremaining: 51.5s\n",
      "635:\tlearn: 1564.0184060\ttotal: 1m 29s\tremaining: 51.4s\n",
      "636:\tlearn: 1563.9434998\ttotal: 1m 29s\tremaining: 51.2s\n",
      "637:\tlearn: 1563.8352125\ttotal: 1m 30s\tremaining: 51.1s\n",
      "638:\tlearn: 1563.7364334\ttotal: 1m 30s\tremaining: 51s\n",
      "639:\tlearn: 1563.6159513\ttotal: 1m 30s\tremaining: 50.8s\n",
      "640:\tlearn: 1563.4904707\ttotal: 1m 30s\tremaining: 50.7s\n",
      "641:\tlearn: 1563.3760575\ttotal: 1m 30s\tremaining: 50.5s\n",
      "642:\tlearn: 1563.2718803\ttotal: 1m 30s\tremaining: 50.4s\n",
      "643:\tlearn: 1563.1466469\ttotal: 1m 30s\tremaining: 50.2s\n",
      "644:\tlearn: 1563.0435004\ttotal: 1m 31s\tremaining: 50.1s\n",
      "645:\tlearn: 1563.0112615\ttotal: 1m 31s\tremaining: 50s\n",
      "646:\tlearn: 1562.8957034\ttotal: 1m 31s\tremaining: 49.8s\n",
      "647:\tlearn: 1562.8299866\ttotal: 1m 31s\tremaining: 49.7s\n",
      "648:\tlearn: 1562.7270399\ttotal: 1m 31s\tremaining: 49.5s\n",
      "649:\tlearn: 1562.6713384\ttotal: 1m 31s\tremaining: 49.4s\n",
      "650:\tlearn: 1562.6490944\ttotal: 1m 31s\tremaining: 49.3s\n",
      "651:\tlearn: 1562.5273795\ttotal: 1m 32s\tremaining: 49.2s\n",
      "652:\tlearn: 1562.3980942\ttotal: 1m 32s\tremaining: 49s\n",
      "653:\tlearn: 1562.2634640\ttotal: 1m 32s\tremaining: 48.9s\n",
      "654:\tlearn: 1562.1283351\ttotal: 1m 32s\tremaining: 48.7s\n",
      "655:\tlearn: 1561.9877155\ttotal: 1m 32s\tremaining: 48.6s\n",
      "656:\tlearn: 1561.8096563\ttotal: 1m 32s\tremaining: 48.5s\n",
      "657:\tlearn: 1561.7416332\ttotal: 1m 33s\tremaining: 48.4s\n",
      "658:\tlearn: 1561.6183684\ttotal: 1m 33s\tremaining: 48.2s\n",
      "659:\tlearn: 1561.3146390\ttotal: 1m 33s\tremaining: 48.1s\n",
      "660:\tlearn: 1561.2473073\ttotal: 1m 33s\tremaining: 47.9s\n",
      "661:\tlearn: 1561.1972987\ttotal: 1m 33s\tremaining: 47.8s\n",
      "662:\tlearn: 1561.0568274\ttotal: 1m 33s\tremaining: 47.7s\n",
      "663:\tlearn: 1560.8428608\ttotal: 1m 33s\tremaining: 47.6s\n",
      "664:\tlearn: 1560.6791262\ttotal: 1m 34s\tremaining: 47.4s\n",
      "665:\tlearn: 1560.5705484\ttotal: 1m 34s\tremaining: 47.3s\n",
      "666:\tlearn: 1560.4881783\ttotal: 1m 34s\tremaining: 47.1s\n",
      "667:\tlearn: 1560.4362065\ttotal: 1m 34s\tremaining: 46.9s\n",
      "668:\tlearn: 1560.3347116\ttotal: 1m 34s\tremaining: 46.8s\n",
      "669:\tlearn: 1560.2652215\ttotal: 1m 34s\tremaining: 46.6s\n",
      "670:\tlearn: 1560.0741136\ttotal: 1m 34s\tremaining: 46.5s\n",
      "671:\tlearn: 1559.8730558\ttotal: 1m 34s\tremaining: 46.4s\n",
      "672:\tlearn: 1559.7940186\ttotal: 1m 35s\tremaining: 46.2s\n",
      "673:\tlearn: 1559.7590560\ttotal: 1m 35s\tremaining: 46.1s\n",
      "674:\tlearn: 1559.6897351\ttotal: 1m 35s\tremaining: 45.9s\n",
      "675:\tlearn: 1559.5269393\ttotal: 1m 35s\tremaining: 45.8s\n",
      "676:\tlearn: 1559.4733535\ttotal: 1m 35s\tremaining: 45.7s\n",
      "677:\tlearn: 1559.4680234\ttotal: 1m 35s\tremaining: 45.5s\n",
      "678:\tlearn: 1559.2920223\ttotal: 1m 35s\tremaining: 45.3s\n",
      "679:\tlearn: 1559.2232808\ttotal: 1m 36s\tremaining: 45.2s\n",
      "680:\tlearn: 1559.0886018\ttotal: 1m 36s\tremaining: 45.1s\n",
      "681:\tlearn: 1558.9419347\ttotal: 1m 36s\tremaining: 45s\n",
      "682:\tlearn: 1558.8501256\ttotal: 1m 36s\tremaining: 44.8s\n",
      "683:\tlearn: 1558.6523802\ttotal: 1m 36s\tremaining: 44.7s\n",
      "684:\tlearn: 1558.4934735\ttotal: 1m 36s\tremaining: 44.5s\n",
      "685:\tlearn: 1558.4398701\ttotal: 1m 36s\tremaining: 44.4s\n",
      "686:\tlearn: 1558.2714316\ttotal: 1m 37s\tremaining: 44.2s\n",
      "687:\tlearn: 1558.1806653\ttotal: 1m 37s\tremaining: 44.1s\n",
      "688:\tlearn: 1558.0690891\ttotal: 1m 37s\tremaining: 44s\n",
      "689:\tlearn: 1558.0111277\ttotal: 1m 37s\tremaining: 43.8s\n",
      "690:\tlearn: 1557.7497251\ttotal: 1m 37s\tremaining: 43.7s\n",
      "691:\tlearn: 1557.6711762\ttotal: 1m 37s\tremaining: 43.5s\n",
      "692:\tlearn: 1557.4395684\ttotal: 1m 37s\tremaining: 43.4s\n",
      "693:\tlearn: 1557.2104468\ttotal: 1m 38s\tremaining: 43.3s\n",
      "694:\tlearn: 1557.1490590\ttotal: 1m 38s\tremaining: 43.1s\n",
      "695:\tlearn: 1557.0362706\ttotal: 1m 38s\tremaining: 43s\n",
      "696:\tlearn: 1556.9328361\ttotal: 1m 38s\tremaining: 42.8s\n",
      "697:\tlearn: 1556.8550473\ttotal: 1m 38s\tremaining: 42.7s\n",
      "698:\tlearn: 1556.6983811\ttotal: 1m 38s\tremaining: 42.6s\n",
      "699:\tlearn: 1556.6545952\ttotal: 1m 38s\tremaining: 42.4s\n",
      "700:\tlearn: 1556.5794481\ttotal: 1m 39s\tremaining: 42.3s\n",
      "701:\tlearn: 1556.4134407\ttotal: 1m 39s\tremaining: 42.1s\n",
      "702:\tlearn: 1556.3105758\ttotal: 1m 39s\tremaining: 42s\n",
      "703:\tlearn: 1556.2041320\ttotal: 1m 39s\tremaining: 41.9s\n",
      "704:\tlearn: 1556.1374885\ttotal: 1m 39s\tremaining: 41.7s\n",
      "705:\tlearn: 1556.0748502\ttotal: 1m 39s\tremaining: 41.6s\n",
      "706:\tlearn: 1555.9327055\ttotal: 1m 40s\tremaining: 41.5s\n",
      "707:\tlearn: 1555.8723940\ttotal: 1m 40s\tremaining: 41.3s\n",
      "708:\tlearn: 1555.8068218\ttotal: 1m 40s\tremaining: 41.2s\n",
      "709:\tlearn: 1555.6692236\ttotal: 1m 40s\tremaining: 41s\n",
      "710:\tlearn: 1555.6557863\ttotal: 1m 40s\tremaining: 40.8s\n",
      "711:\tlearn: 1555.5531958\ttotal: 1m 40s\tremaining: 40.7s\n",
      "712:\tlearn: 1555.4502694\ttotal: 1m 40s\tremaining: 40.6s\n",
      "713:\tlearn: 1555.4302101\ttotal: 1m 40s\tremaining: 40.4s\n",
      "714:\tlearn: 1555.3333691\ttotal: 1m 41s\tremaining: 40.3s\n",
      "715:\tlearn: 1555.2369904\ttotal: 1m 41s\tremaining: 40.1s\n",
      "716:\tlearn: 1555.1837364\ttotal: 1m 41s\tremaining: 40s\n",
      "717:\tlearn: 1555.0637546\ttotal: 1m 41s\tremaining: 39.8s\n",
      "718:\tlearn: 1554.9194033\ttotal: 1m 41s\tremaining: 39.7s\n",
      "719:\tlearn: 1554.8236903\ttotal: 1m 41s\tremaining: 39.5s\n",
      "720:\tlearn: 1554.7789970\ttotal: 1m 41s\tremaining: 39.4s\n",
      "721:\tlearn: 1554.7479488\ttotal: 1m 41s\tremaining: 39.2s\n",
      "722:\tlearn: 1554.6810737\ttotal: 1m 42s\tremaining: 39.1s\n",
      "723:\tlearn: 1554.5551078\ttotal: 1m 42s\tremaining: 39s\n",
      "724:\tlearn: 1554.4830155\ttotal: 1m 42s\tremaining: 38.8s\n",
      "725:\tlearn: 1554.4460039\ttotal: 1m 42s\tremaining: 38.7s\n",
      "726:\tlearn: 1554.3603982\ttotal: 1m 42s\tremaining: 38.5s\n",
      "727:\tlearn: 1554.2423432\ttotal: 1m 42s\tremaining: 38.4s\n",
      "728:\tlearn: 1554.1934782\ttotal: 1m 42s\tremaining: 38.3s\n",
      "729:\tlearn: 1554.1903584\ttotal: 1m 43s\tremaining: 38.1s\n",
      "730:\tlearn: 1554.0837146\ttotal: 1m 43s\tremaining: 38s\n",
      "731:\tlearn: 1554.0605990\ttotal: 1m 43s\tremaining: 37.8s\n",
      "732:\tlearn: 1554.0159315\ttotal: 1m 43s\tremaining: 37.7s\n",
      "733:\tlearn: 1553.8144216\ttotal: 1m 43s\tremaining: 37.5s\n",
      "734:\tlearn: 1553.7068688\ttotal: 1m 43s\tremaining: 37.4s\n",
      "735:\tlearn: 1553.6681185\ttotal: 1m 43s\tremaining: 37.2s\n",
      "736:\tlearn: 1553.6140806\ttotal: 1m 43s\tremaining: 37.1s\n",
      "737:\tlearn: 1553.5781537\ttotal: 1m 44s\tremaining: 37s\n",
      "738:\tlearn: 1553.4328511\ttotal: 1m 44s\tremaining: 36.8s\n",
      "739:\tlearn: 1553.3985158\ttotal: 1m 44s\tremaining: 36.6s\n",
      "740:\tlearn: 1553.3159131\ttotal: 1m 44s\tremaining: 36.5s\n",
      "741:\tlearn: 1553.1923576\ttotal: 1m 44s\tremaining: 36.3s\n",
      "742:\tlearn: 1553.0753096\ttotal: 1m 44s\tremaining: 36.2s\n",
      "743:\tlearn: 1553.0239964\ttotal: 1m 44s\tremaining: 36.1s\n",
      "744:\tlearn: 1552.9699846\ttotal: 1m 44s\tremaining: 35.9s\n",
      "745:\tlearn: 1552.7591081\ttotal: 1m 45s\tremaining: 35.8s\n",
      "746:\tlearn: 1552.5951684\ttotal: 1m 45s\tremaining: 35.6s\n",
      "747:\tlearn: 1552.5395023\ttotal: 1m 45s\tremaining: 35.5s\n",
      "748:\tlearn: 1552.4234453\ttotal: 1m 45s\tremaining: 35.3s\n",
      "749:\tlearn: 1552.3771572\ttotal: 1m 45s\tremaining: 35.2s\n",
      "750:\tlearn: 1552.3540391\ttotal: 1m 45s\tremaining: 35.1s\n",
      "751:\tlearn: 1552.2402396\ttotal: 1m 45s\tremaining: 34.9s\n",
      "752:\tlearn: 1552.1208736\ttotal: 1m 46s\tremaining: 34.8s\n",
      "753:\tlearn: 1552.0464177\ttotal: 1m 46s\tremaining: 34.6s\n",
      "754:\tlearn: 1551.9173967\ttotal: 1m 46s\tremaining: 34.5s\n",
      "755:\tlearn: 1551.7679906\ttotal: 1m 46s\tremaining: 34.4s\n",
      "756:\tlearn: 1551.7230239\ttotal: 1m 46s\tremaining: 34.2s\n",
      "757:\tlearn: 1551.6886309\ttotal: 1m 46s\tremaining: 34.1s\n",
      "758:\tlearn: 1551.6784059\ttotal: 1m 46s\tremaining: 33.9s\n",
      "759:\tlearn: 1551.6152642\ttotal: 1m 47s\tremaining: 33.8s\n",
      "760:\tlearn: 1551.5538343\ttotal: 1m 47s\tremaining: 33.7s\n",
      "761:\tlearn: 1551.4672098\ttotal: 1m 47s\tremaining: 33.5s\n",
      "762:\tlearn: 1551.4019986\ttotal: 1m 47s\tremaining: 33.4s\n",
      "763:\tlearn: 1551.3603108\ttotal: 1m 47s\tremaining: 33.2s\n",
      "764:\tlearn: 1551.2560818\ttotal: 1m 47s\tremaining: 33.1s\n",
      "765:\tlearn: 1551.1956635\ttotal: 1m 47s\tremaining: 32.9s\n",
      "766:\tlearn: 1551.0202036\ttotal: 1m 48s\tremaining: 32.8s\n",
      "767:\tlearn: 1550.9509034\ttotal: 1m 48s\tremaining: 32.7s\n",
      "768:\tlearn: 1550.9016663\ttotal: 1m 48s\tremaining: 32.5s\n",
      "769:\tlearn: 1550.8119510\ttotal: 1m 48s\tremaining: 32.4s\n",
      "770:\tlearn: 1550.7512658\ttotal: 1m 48s\tremaining: 32.2s\n",
      "771:\tlearn: 1550.5723565\ttotal: 1m 48s\tremaining: 32.1s\n",
      "772:\tlearn: 1550.3610433\ttotal: 1m 48s\tremaining: 31.9s\n",
      "773:\tlearn: 1550.3175042\ttotal: 1m 48s\tremaining: 31.8s\n",
      "774:\tlearn: 1550.1707343\ttotal: 1m 49s\tremaining: 31.7s\n",
      "775:\tlearn: 1550.0594783\ttotal: 1m 49s\tremaining: 31.5s\n",
      "776:\tlearn: 1549.9870834\ttotal: 1m 49s\tremaining: 31.4s\n",
      "777:\tlearn: 1549.8947919\ttotal: 1m 49s\tremaining: 31.3s\n",
      "778:\tlearn: 1549.7775379\ttotal: 1m 49s\tremaining: 31.1s\n",
      "779:\tlearn: 1549.6067097\ttotal: 1m 49s\tremaining: 31s\n",
      "780:\tlearn: 1549.4337863\ttotal: 1m 50s\tremaining: 30.9s\n",
      "781:\tlearn: 1549.3798765\ttotal: 1m 50s\tremaining: 30.7s\n",
      "782:\tlearn: 1549.2141109\ttotal: 1m 50s\tremaining: 30.6s\n",
      "783:\tlearn: 1549.0930165\ttotal: 1m 50s\tremaining: 30.5s\n",
      "784:\tlearn: 1549.0272404\ttotal: 1m 50s\tremaining: 30.3s\n",
      "785:\tlearn: 1548.9101151\ttotal: 1m 50s\tremaining: 30.2s\n",
      "786:\tlearn: 1548.7837858\ttotal: 1m 51s\tremaining: 30.1s\n",
      "787:\tlearn: 1548.6196783\ttotal: 1m 51s\tremaining: 29.9s\n",
      "788:\tlearn: 1548.5963245\ttotal: 1m 51s\tremaining: 29.8s\n",
      "789:\tlearn: 1548.5178527\ttotal: 1m 51s\tremaining: 29.6s\n",
      "790:\tlearn: 1548.4381270\ttotal: 1m 51s\tremaining: 29.5s\n",
      "791:\tlearn: 1548.3959229\ttotal: 1m 51s\tremaining: 29.4s\n",
      "792:\tlearn: 1548.1748503\ttotal: 1m 51s\tremaining: 29.2s\n",
      "793:\tlearn: 1548.1076300\ttotal: 1m 52s\tremaining: 29.1s\n",
      "794:\tlearn: 1548.0129461\ttotal: 1m 52s\tremaining: 28.9s\n",
      "795:\tlearn: 1547.8933984\ttotal: 1m 52s\tremaining: 28.8s\n",
      "796:\tlearn: 1547.8376784\ttotal: 1m 52s\tremaining: 28.7s\n",
      "797:\tlearn: 1547.7656124\ttotal: 1m 52s\tremaining: 28.5s\n",
      "798:\tlearn: 1547.7078748\ttotal: 1m 52s\tremaining: 28.4s\n",
      "799:\tlearn: 1547.6287456\ttotal: 1m 52s\tremaining: 28.2s\n",
      "800:\tlearn: 1547.5858344\ttotal: 1m 53s\tremaining: 28.1s\n",
      "801:\tlearn: 1547.4160388\ttotal: 1m 53s\tremaining: 27.9s\n",
      "802:\tlearn: 1547.2904055\ttotal: 1m 53s\tremaining: 27.8s\n",
      "803:\tlearn: 1547.1383970\ttotal: 1m 53s\tremaining: 27.7s\n",
      "804:\tlearn: 1547.0180696\ttotal: 1m 53s\tremaining: 27.5s\n",
      "805:\tlearn: 1546.9097620\ttotal: 1m 53s\tremaining: 27.4s\n",
      "806:\tlearn: 1546.8795555\ttotal: 1m 53s\tremaining: 27.2s\n",
      "807:\tlearn: 1546.8466586\ttotal: 1m 53s\tremaining: 27.1s\n",
      "808:\tlearn: 1546.7544872\ttotal: 1m 54s\tremaining: 26.9s\n",
      "809:\tlearn: 1546.6383946\ttotal: 1m 54s\tremaining: 26.8s\n",
      "810:\tlearn: 1546.6256328\ttotal: 1m 54s\tremaining: 26.7s\n",
      "811:\tlearn: 1546.5720413\ttotal: 1m 54s\tremaining: 26.5s\n",
      "812:\tlearn: 1546.5138900\ttotal: 1m 54s\tremaining: 26.4s\n",
      "813:\tlearn: 1546.3198663\ttotal: 1m 54s\tremaining: 26.2s\n",
      "814:\tlearn: 1546.1797649\ttotal: 1m 54s\tremaining: 26.1s\n",
      "815:\tlearn: 1546.0738589\ttotal: 1m 54s\tremaining: 25.9s\n",
      "816:\tlearn: 1545.9243378\ttotal: 1m 55s\tremaining: 25.8s\n",
      "817:\tlearn: 1545.8688725\ttotal: 1m 55s\tremaining: 25.7s\n",
      "818:\tlearn: 1545.8298176\ttotal: 1m 55s\tremaining: 25.6s\n",
      "819:\tlearn: 1545.7643540\ttotal: 1m 55s\tremaining: 25.4s\n",
      "820:\tlearn: 1545.6563535\ttotal: 1m 55s\tremaining: 25.3s\n",
      "821:\tlearn: 1545.5500077\ttotal: 1m 55s\tremaining: 25.1s\n",
      "822:\tlearn: 1545.4312951\ttotal: 1m 56s\tremaining: 25s\n",
      "823:\tlearn: 1545.3642162\ttotal: 1m 56s\tremaining: 24.9s\n",
      "824:\tlearn: 1545.3115990\ttotal: 1m 56s\tremaining: 24.8s\n",
      "825:\tlearn: 1545.2466539\ttotal: 1m 57s\tremaining: 24.7s\n",
      "826:\tlearn: 1545.2274293\ttotal: 1m 57s\tremaining: 24.6s\n",
      "827:\tlearn: 1545.1414755\ttotal: 1m 57s\tremaining: 24.5s\n",
      "828:\tlearn: 1545.0688100\ttotal: 1m 58s\tremaining: 24.4s\n",
      "829:\tlearn: 1545.0073665\ttotal: 1m 58s\tremaining: 24.2s\n",
      "830:\tlearn: 1544.9901022\ttotal: 1m 58s\tremaining: 24.1s\n",
      "831:\tlearn: 1544.9598449\ttotal: 1m 58s\tremaining: 23.9s\n",
      "832:\tlearn: 1544.8898552\ttotal: 1m 58s\tremaining: 23.8s\n",
      "833:\tlearn: 1544.8465945\ttotal: 1m 59s\tremaining: 23.7s\n",
      "834:\tlearn: 1544.8057995\ttotal: 1m 59s\tremaining: 23.6s\n",
      "835:\tlearn: 1544.7019053\ttotal: 1m 59s\tremaining: 23.4s\n",
      "836:\tlearn: 1544.5980659\ttotal: 1m 59s\tremaining: 23.3s\n",
      "837:\tlearn: 1544.5725075\ttotal: 1m 59s\tremaining: 23.1s\n",
      "838:\tlearn: 1544.4664257\ttotal: 1m 59s\tremaining: 23s\n",
      "839:\tlearn: 1544.3041755\ttotal: 1m 59s\tremaining: 22.8s\n",
      "840:\tlearn: 1544.2743967\ttotal: 2m\tremaining: 22.7s\n",
      "841:\tlearn: 1544.1331592\ttotal: 2m\tremaining: 22.5s\n",
      "842:\tlearn: 1544.0371027\ttotal: 2m\tremaining: 22.4s\n",
      "843:\tlearn: 1544.0023151\ttotal: 2m\tremaining: 22.3s\n",
      "844:\tlearn: 1543.9602158\ttotal: 2m\tremaining: 22.1s\n",
      "845:\tlearn: 1543.8560229\ttotal: 2m\tremaining: 22s\n",
      "846:\tlearn: 1543.7531088\ttotal: 2m\tremaining: 21.8s\n",
      "847:\tlearn: 1543.6559070\ttotal: 2m 1s\tremaining: 21.7s\n",
      "848:\tlearn: 1543.4000885\ttotal: 2m 1s\tremaining: 21.6s\n",
      "849:\tlearn: 1543.3018882\ttotal: 2m 1s\tremaining: 21.4s\n",
      "850:\tlearn: 1543.2593884\ttotal: 2m 1s\tremaining: 21.3s\n",
      "851:\tlearn: 1543.1237966\ttotal: 2m 1s\tremaining: 21.1s\n",
      "852:\tlearn: 1542.9807336\ttotal: 2m 1s\tremaining: 21s\n",
      "853:\tlearn: 1542.8812993\ttotal: 2m 1s\tremaining: 20.8s\n",
      "854:\tlearn: 1542.7967768\ttotal: 2m 2s\tremaining: 20.7s\n",
      "855:\tlearn: 1542.7651398\ttotal: 2m 2s\tremaining: 20.5s\n",
      "856:\tlearn: 1542.5813628\ttotal: 2m 2s\tremaining: 20.4s\n",
      "857:\tlearn: 1542.5395630\ttotal: 2m 2s\tremaining: 20.2s\n",
      "858:\tlearn: 1542.4667722\ttotal: 2m 2s\tremaining: 20.1s\n",
      "859:\tlearn: 1542.3593574\ttotal: 2m 2s\tremaining: 20s\n",
      "860:\tlearn: 1542.3199210\ttotal: 2m 2s\tremaining: 19.8s\n",
      "861:\tlearn: 1542.2622415\ttotal: 2m 2s\tremaining: 19.7s\n",
      "862:\tlearn: 1542.1942200\ttotal: 2m 3s\tremaining: 19.5s\n",
      "863:\tlearn: 1542.0967265\ttotal: 2m 3s\tremaining: 19.4s\n",
      "864:\tlearn: 1541.9948438\ttotal: 2m 3s\tremaining: 19.2s\n",
      "865:\tlearn: 1541.9623222\ttotal: 2m 3s\tremaining: 19.1s\n",
      "866:\tlearn: 1541.8425755\ttotal: 2m 3s\tremaining: 19s\n",
      "867:\tlearn: 1541.7029939\ttotal: 2m 3s\tremaining: 18.8s\n",
      "868:\tlearn: 1541.6739004\ttotal: 2m 3s\tremaining: 18.7s\n",
      "869:\tlearn: 1541.5464242\ttotal: 2m 3s\tremaining: 18.5s\n",
      "870:\tlearn: 1541.4912457\ttotal: 2m 4s\tremaining: 18.4s\n",
      "871:\tlearn: 1541.4023408\ttotal: 2m 4s\tremaining: 18.2s\n",
      "872:\tlearn: 1541.2998912\ttotal: 2m 4s\tremaining: 18.1s\n",
      "873:\tlearn: 1541.1884648\ttotal: 2m 4s\tremaining: 18s\n",
      "874:\tlearn: 1541.0228960\ttotal: 2m 4s\tremaining: 17.8s\n",
      "875:\tlearn: 1540.9995535\ttotal: 2m 4s\tremaining: 17.7s\n",
      "876:\tlearn: 1540.8511169\ttotal: 2m 4s\tremaining: 17.5s\n",
      "877:\tlearn: 1540.7491643\ttotal: 2m 5s\tremaining: 17.4s\n",
      "878:\tlearn: 1540.6139440\ttotal: 2m 5s\tremaining: 17.2s\n",
      "879:\tlearn: 1540.5610032\ttotal: 2m 5s\tremaining: 17.1s\n",
      "880:\tlearn: 1540.5226030\ttotal: 2m 5s\tremaining: 17s\n",
      "881:\tlearn: 1540.3756916\ttotal: 2m 5s\tremaining: 16.8s\n",
      "882:\tlearn: 1540.2625552\ttotal: 2m 5s\tremaining: 16.7s\n",
      "883:\tlearn: 1540.2369718\ttotal: 2m 5s\tremaining: 16.5s\n",
      "884:\tlearn: 1540.1444313\ttotal: 2m 6s\tremaining: 16.4s\n",
      "885:\tlearn: 1540.0682006\ttotal: 2m 6s\tremaining: 16.2s\n",
      "886:\tlearn: 1539.9787948\ttotal: 2m 6s\tremaining: 16.1s\n",
      "887:\tlearn: 1539.9132828\ttotal: 2m 6s\tremaining: 16s\n",
      "888:\tlearn: 1539.8708452\ttotal: 2m 6s\tremaining: 15.8s\n",
      "889:\tlearn: 1539.7878897\ttotal: 2m 6s\tremaining: 15.7s\n",
      "890:\tlearn: 1539.6490628\ttotal: 2m 6s\tremaining: 15.5s\n",
      "891:\tlearn: 1539.6280727\ttotal: 2m 7s\tremaining: 15.4s\n",
      "892:\tlearn: 1539.5750599\ttotal: 2m 7s\tremaining: 15.2s\n",
      "893:\tlearn: 1539.5023487\ttotal: 2m 7s\tremaining: 15.1s\n",
      "894:\tlearn: 1539.3972774\ttotal: 2m 7s\tremaining: 14.9s\n",
      "895:\tlearn: 1539.3426410\ttotal: 2m 7s\tremaining: 14.8s\n",
      "896:\tlearn: 1539.2345679\ttotal: 2m 7s\tremaining: 14.7s\n",
      "897:\tlearn: 1539.1476353\ttotal: 2m 7s\tremaining: 14.5s\n",
      "898:\tlearn: 1539.0514501\ttotal: 2m 7s\tremaining: 14.4s\n",
      "899:\tlearn: 1539.0337653\ttotal: 2m 8s\tremaining: 14.2s\n",
      "900:\tlearn: 1538.8855133\ttotal: 2m 8s\tremaining: 14.1s\n",
      "901:\tlearn: 1538.7905203\ttotal: 2m 8s\tremaining: 13.9s\n",
      "902:\tlearn: 1538.6834066\ttotal: 2m 8s\tremaining: 13.8s\n",
      "903:\tlearn: 1538.5950627\ttotal: 2m 8s\tremaining: 13.7s\n",
      "904:\tlearn: 1538.5565523\ttotal: 2m 8s\tremaining: 13.5s\n",
      "905:\tlearn: 1538.4967168\ttotal: 2m 8s\tremaining: 13.4s\n",
      "906:\tlearn: 1538.3438913\ttotal: 2m 9s\tremaining: 13.2s\n",
      "907:\tlearn: 1538.2653721\ttotal: 2m 9s\tremaining: 13.1s\n",
      "908:\tlearn: 1538.1161018\ttotal: 2m 9s\tremaining: 12.9s\n",
      "909:\tlearn: 1537.9724369\ttotal: 2m 9s\tremaining: 12.8s\n",
      "910:\tlearn: 1537.9199336\ttotal: 2m 9s\tremaining: 12.7s\n",
      "911:\tlearn: 1537.8011301\ttotal: 2m 9s\tremaining: 12.5s\n",
      "912:\tlearn: 1537.7749576\ttotal: 2m 9s\tremaining: 12.4s\n",
      "913:\tlearn: 1537.7394598\ttotal: 2m 9s\tremaining: 12.2s\n",
      "914:\tlearn: 1537.7077128\ttotal: 2m 10s\tremaining: 12.1s\n",
      "915:\tlearn: 1537.6586327\ttotal: 2m 10s\tremaining: 11.9s\n",
      "916:\tlearn: 1537.5555556\ttotal: 2m 10s\tremaining: 11.8s\n",
      "917:\tlearn: 1537.3237830\ttotal: 2m 10s\tremaining: 11.7s\n",
      "918:\tlearn: 1537.2294737\ttotal: 2m 10s\tremaining: 11.5s\n",
      "919:\tlearn: 1537.1028554\ttotal: 2m 10s\tremaining: 11.4s\n",
      "920:\tlearn: 1536.9759673\ttotal: 2m 11s\tremaining: 11.3s\n",
      "921:\tlearn: 1536.7762422\ttotal: 2m 11s\tremaining: 11.1s\n",
      "922:\tlearn: 1536.6988480\ttotal: 2m 11s\tremaining: 11s\n",
      "923:\tlearn: 1536.5775892\ttotal: 2m 11s\tremaining: 10.8s\n",
      "924:\tlearn: 1536.5314785\ttotal: 2m 12s\tremaining: 10.7s\n",
      "925:\tlearn: 1536.4849232\ttotal: 2m 12s\tremaining: 10.6s\n",
      "926:\tlearn: 1536.3996445\ttotal: 2m 12s\tremaining: 10.4s\n",
      "927:\tlearn: 1536.2829110\ttotal: 2m 12s\tremaining: 10.3s\n",
      "928:\tlearn: 1536.1924326\ttotal: 2m 12s\tremaining: 10.1s\n",
      "929:\tlearn: 1536.1569425\ttotal: 2m 12s\tremaining: 9.99s\n",
      "930:\tlearn: 1536.1063048\ttotal: 2m 12s\tremaining: 9.85s\n",
      "931:\tlearn: 1536.0045827\ttotal: 2m 13s\tremaining: 9.71s\n",
      "932:\tlearn: 1535.9075588\ttotal: 2m 13s\tremaining: 9.57s\n",
      "933:\tlearn: 1535.7701058\ttotal: 2m 13s\tremaining: 9.42s\n",
      "934:\tlearn: 1535.6851718\ttotal: 2m 13s\tremaining: 9.28s\n",
      "935:\tlearn: 1535.6143260\ttotal: 2m 13s\tremaining: 9.13s\n",
      "936:\tlearn: 1535.5503864\ttotal: 2m 13s\tremaining: 8.99s\n",
      "937:\tlearn: 1535.4847011\ttotal: 2m 13s\tremaining: 8.85s\n",
      "938:\tlearn: 1535.4307454\ttotal: 2m 13s\tremaining: 8.7s\n",
      "939:\tlearn: 1535.2997514\ttotal: 2m 14s\tremaining: 8.56s\n",
      "940:\tlearn: 1535.2217993\ttotal: 2m 14s\tremaining: 8.41s\n",
      "941:\tlearn: 1535.1961568\ttotal: 2m 14s\tremaining: 8.27s\n",
      "942:\tlearn: 1535.1831518\ttotal: 2m 14s\tremaining: 8.13s\n",
      "943:\tlearn: 1535.1618416\ttotal: 2m 14s\tremaining: 7.98s\n",
      "944:\tlearn: 1535.0235458\ttotal: 2m 14s\tremaining: 7.84s\n",
      "945:\tlearn: 1534.9300387\ttotal: 2m 14s\tremaining: 7.7s\n",
      "946:\tlearn: 1534.8725663\ttotal: 2m 14s\tremaining: 7.55s\n",
      "947:\tlearn: 1534.8627244\ttotal: 2m 15s\tremaining: 7.41s\n",
      "948:\tlearn: 1534.7817830\ttotal: 2m 15s\tremaining: 7.27s\n",
      "949:\tlearn: 1534.7635536\ttotal: 2m 15s\tremaining: 7.13s\n",
      "950:\tlearn: 1534.5842069\ttotal: 2m 15s\tremaining: 6.98s\n",
      "951:\tlearn: 1534.4898311\ttotal: 2m 15s\tremaining: 6.84s\n",
      "952:\tlearn: 1534.4628471\ttotal: 2m 15s\tremaining: 6.7s\n",
      "953:\tlearn: 1534.3923674\ttotal: 2m 15s\tremaining: 6.55s\n",
      "954:\tlearn: 1534.3835426\ttotal: 2m 16s\tremaining: 6.41s\n",
      "955:\tlearn: 1534.2447098\ttotal: 2m 16s\tremaining: 6.27s\n",
      "956:\tlearn: 1534.1332716\ttotal: 2m 16s\tremaining: 6.13s\n",
      "957:\tlearn: 1534.0289197\ttotal: 2m 16s\tremaining: 5.98s\n",
      "958:\tlearn: 1533.9439992\ttotal: 2m 16s\tremaining: 5.84s\n",
      "959:\tlearn: 1533.8579199\ttotal: 2m 16s\tremaining: 5.7s\n",
      "960:\tlearn: 1533.8105366\ttotal: 2m 16s\tremaining: 5.56s\n",
      "961:\tlearn: 1533.6533593\ttotal: 2m 17s\tremaining: 5.41s\n",
      "962:\tlearn: 1533.6455510\ttotal: 2m 17s\tremaining: 5.27s\n",
      "963:\tlearn: 1533.5683620\ttotal: 2m 17s\tremaining: 5.13s\n",
      "964:\tlearn: 1533.4944639\ttotal: 2m 17s\tremaining: 4.98s\n",
      "965:\tlearn: 1533.4174072\ttotal: 2m 17s\tremaining: 4.84s\n",
      "966:\tlearn: 1533.2259638\ttotal: 2m 17s\tremaining: 4.7s\n",
      "967:\tlearn: 1533.1905644\ttotal: 2m 17s\tremaining: 4.55s\n",
      "968:\tlearn: 1533.1260157\ttotal: 2m 17s\tremaining: 4.41s\n",
      "969:\tlearn: 1533.0099048\ttotal: 2m 18s\tremaining: 4.27s\n",
      "970:\tlearn: 1532.9173457\ttotal: 2m 18s\tremaining: 4.13s\n",
      "971:\tlearn: 1532.8700173\ttotal: 2m 18s\tremaining: 3.98s\n",
      "972:\tlearn: 1532.7524500\ttotal: 2m 18s\tremaining: 3.84s\n",
      "973:\tlearn: 1532.6481759\ttotal: 2m 18s\tremaining: 3.7s\n",
      "974:\tlearn: 1532.5759332\ttotal: 2m 18s\tremaining: 3.56s\n",
      "975:\tlearn: 1532.4493043\ttotal: 2m 18s\tremaining: 3.41s\n",
      "976:\tlearn: 1532.4076009\ttotal: 2m 18s\tremaining: 3.27s\n",
      "977:\tlearn: 1532.3213875\ttotal: 2m 19s\tremaining: 3.13s\n",
      "978:\tlearn: 1532.2932011\ttotal: 2m 19s\tremaining: 2.99s\n",
      "979:\tlearn: 1532.1974165\ttotal: 2m 19s\tremaining: 2.84s\n",
      "980:\tlearn: 1532.1531555\ttotal: 2m 19s\tremaining: 2.7s\n",
      "981:\tlearn: 1532.0460452\ttotal: 2m 19s\tremaining: 2.56s\n",
      "982:\tlearn: 1531.9665491\ttotal: 2m 19s\tremaining: 2.42s\n",
      "983:\tlearn: 1531.9502227\ttotal: 2m 19s\tremaining: 2.27s\n",
      "984:\tlearn: 1531.8109928\ttotal: 2m 20s\tremaining: 2.13s\n",
      "985:\tlearn: 1531.7858979\ttotal: 2m 20s\tremaining: 1.99s\n",
      "986:\tlearn: 1531.7001008\ttotal: 2m 20s\tremaining: 1.85s\n",
      "987:\tlearn: 1531.6269799\ttotal: 2m 20s\tremaining: 1.71s\n",
      "988:\tlearn: 1531.4262174\ttotal: 2m 20s\tremaining: 1.56s\n",
      "989:\tlearn: 1531.3662175\ttotal: 2m 20s\tremaining: 1.42s\n",
      "990:\tlearn: 1531.2447119\ttotal: 2m 20s\tremaining: 1.28s\n",
      "991:\tlearn: 1531.1710786\ttotal: 2m 21s\tremaining: 1.14s\n",
      "992:\tlearn: 1531.0628428\ttotal: 2m 21s\tremaining: 995ms\n",
      "993:\tlearn: 1530.9493492\ttotal: 2m 21s\tremaining: 853ms\n",
      "994:\tlearn: 1530.9248428\ttotal: 2m 21s\tremaining: 711ms\n",
      "995:\tlearn: 1530.8738041\ttotal: 2m 21s\tremaining: 569ms\n",
      "996:\tlearn: 1530.8006085\ttotal: 2m 21s\tremaining: 427ms\n",
      "997:\tlearn: 1530.7692398\ttotal: 2m 21s\tremaining: 284ms\n",
      "998:\tlearn: 1530.5510158\ttotal: 2m 21s\tremaining: 142ms\n",
      "999:\tlearn: 1530.5034815\ttotal: 2m 22s\tremaining: 0us\n",
      "Время обучения 144.54 секунд\n",
      "Модель предсказывает за 0.42 секунд\n",
      "RMSE = 1597.1389481696722\n"
     ]
    }
   ],
   "source": [
    "model_cat = CatBoostRegressor(cat_features=cat_columns)\n",
    "\n",
    "start = time()\n",
    "model_cat.fit(features_train, target_train)\n",
    "time_to_fit_cat = time() - start\n",
    "print('Время обучения %.2f секунд' %time_to_fit_cat)\n",
    "\n",
    "start = time()\n",
    "predicted = model_cat.predict(features_valid)\n",
    "time_to_predict_cat = time() - start\n",
    "print('Модель предсказывает за %.2f секунд' %time_to_predict_cat)\n",
    "\n",
    "rmse_cat = mean_squared_error(target_valid, predicted, squared=False)\n",
    "print('RMSE =', rmse_cat)"
   ]
  },
  {
   "cell_type": "code",
   "execution_count": 107,
   "metadata": {},
   "outputs": [
    {
     "name": "stderr",
     "output_type": "stream",
     "text": [
      "/opt/conda/lib/python3.9/site-packages/pandas/core/frame.py:3191: SettingWithCopyWarning: \n",
      "A value is trying to be set on a copy of a slice from a DataFrame.\n",
      "Try using .loc[row_indexer,col_indexer] = value instead\n",
      "\n",
      "See the caveats in the documentation: https://pandas.pydata.org/pandas-docs/stable/user_guide/indexing.html#returning-a-view-versus-a-copy\n",
      "  self[k1] = value[k2]\n"
     ]
    }
   ],
   "source": [
    "cat_feature_names = features_train.select_dtypes(\"object\").columns\n",
    "features_train[cat_feature_names] = features_train[cat_feature_names].astype(\"category\")\n",
    "\n",
    "cat_feature_names2 = features_valid.select_dtypes(\"object\").columns\n",
    "features_valid[cat_feature_names2] = features_valid[cat_feature_names2].astype(\"category\")\n",
    "\n",
    "cat_feature_names3 = features_test.select_dtypes(\"object\").columns\n",
    "features_test[cat_feature_names3] = features_test[cat_feature_names3].astype(\"category\")"
   ]
  },
  {
   "cell_type": "code",
   "execution_count": 108,
   "metadata": {},
   "outputs": [
    {
     "name": "stdout",
     "output_type": "stream",
     "text": [
      "Время обучения 4.24 секунд\n",
      "Модель предсказывает за 0.61 секунд\n",
      "RMSE = 1618.7255936974088\n"
     ]
    }
   ],
   "source": [
    "model_LGBM = lgb.LGBMRegressor()\n",
    "\n",
    "start = time()\n",
    "fit = model_LGBM.fit(features_train, target_train)\n",
    "time_to_fit_LGBM = time() - start\n",
    "print('Время обучения %.2f секунд' %time_to_fit_LGBM)\n",
    "\n",
    "start = time()\n",
    "predicted = model_LGBM.predict(features_valid)\n",
    "time_to_predict_LGBM = time() - start\n",
    "print('Модель предсказывает за %.2f секунд' %time_to_predict_LGBM)\n",
    "\n",
    "rmse_LGBM = mean_squared_error(target_valid, predicted , squared=False)\n",
    "print('RMSE =', rmse_LGBM)"
   ]
  },
  {
   "cell_type": "code",
   "execution_count": 109,
   "metadata": {},
   "outputs": [
    {
     "data": {
      "text/html": [
       "<div>\n",
       "<style scoped>\n",
       "    .dataframe tbody tr th:only-of-type {\n",
       "        vertical-align: middle;\n",
       "    }\n",
       "\n",
       "    .dataframe tbody tr th {\n",
       "        vertical-align: top;\n",
       "    }\n",
       "\n",
       "    .dataframe thead th {\n",
       "        text-align: right;\n",
       "    }\n",
       "</style>\n",
       "<table border=\"1\" class=\"dataframe\">\n",
       "  <thead>\n",
       "    <tr style=\"text-align: right;\">\n",
       "      <th></th>\n",
       "      <th>Время обучения сек.</th>\n",
       "      <th>Модель предсказывает за сек</th>\n",
       "      <th>RMSE</th>\n",
       "    </tr>\n",
       "  </thead>\n",
       "  <tbody>\n",
       "    <tr>\n",
       "      <th>LinearRegression</th>\n",
       "      <td>19.115554</td>\n",
       "      <td>0.396247</td>\n",
       "      <td>2615.468494</td>\n",
       "    </tr>\n",
       "    <tr>\n",
       "      <th>DecisionTreeRegressor</th>\n",
       "      <td>0.232378</td>\n",
       "      <td>0.006207</td>\n",
       "      <td>2203.508705</td>\n",
       "    </tr>\n",
       "    <tr>\n",
       "      <th>CatBoostRegressor</th>\n",
       "      <td>144.544464</td>\n",
       "      <td>0.417346</td>\n",
       "      <td>1597.138948</td>\n",
       "    </tr>\n",
       "    <tr>\n",
       "      <th>LGBMRegressor</th>\n",
       "      <td>4.236874</td>\n",
       "      <td>0.609512</td>\n",
       "      <td>1618.725594</td>\n",
       "    </tr>\n",
       "  </tbody>\n",
       "</table>\n",
       "</div>"
      ],
      "text/plain": [
       "                       Время обучения сек.  Модель предсказывает за сек  \\\n",
       "LinearRegression                 19.115554                     0.396247   \n",
       "DecisionTreeRegressor             0.232378                     0.006207   \n",
       "CatBoostRegressor               144.544464                     0.417346   \n",
       "LGBMRegressor                     4.236874                     0.609512   \n",
       "\n",
       "                              RMSE  \n",
       "LinearRegression       2615.468494  \n",
       "DecisionTreeRegressor  2203.508705  \n",
       "CatBoostRegressor      1597.138948  \n",
       "LGBMRegressor          1618.725594  "
      ]
     },
     "execution_count": 109,
     "metadata": {},
     "output_type": "execute_result"
    }
   ],
   "source": [
    "index = ['LinearRegression', 'DecisionTreeRegressor', 'CatBoostRegressor', 'LGBMRegressor']\n",
    "\n",
    "result_data = [\n",
    "    {'Время обучения сек.' :time_to_fit_lr, 'Модель предсказывает за сек': time_to_predict_lr, 'RMSE':rmse_lr},\n",
    "    {'Время обучения сек.' :time_to_fit_dts, 'Модель предсказывает за сек': time_to_predict_dts, 'RMSE':rmse_dts},\n",
    "    {'Время обучения сек.' :time_to_fit_cat, 'Модель предсказывает за сек': time_to_predict_cat, 'RMSE':rmse_cat},\n",
    "    {'Время обучения сек.' :time_to_fit_LGBM, 'Модель предсказывает за сек': time_to_predict_LGBM, 'RMSE': rmse_LGBM},\n",
    "]\n",
    "\n",
    "result_table = pd.DataFrame(result_data, index=index)\n",
    "result_table"
   ]
  },
  {
   "cell_type": "markdown",
   "metadata": {},
   "source": [
    "<a id='h21'></a>\n",
    "### Вывод\n",
    "Были изучены 4 модели, время их выполнения и результат rmse"
   ]
  },
  {
   "cell_type": "markdown",
   "metadata": {},
   "source": [
    "Самая быстро обучаемае модель DecisionTreeRegressor, модель с наибыстрейшими показаниями DecisionTreeRegressor 0.005617 сек.\n",
    "Возьмем модели LGBMRegressor для финального теста."
   ]
  },
  {
   "cell_type": "markdown",
   "metadata": {},
   "source": [
    "<a id='h3'></a>\n",
    "## Анализ моделей"
   ]
  },
  {
   "cell_type": "markdown",
   "metadata": {},
   "source": [
    "Критерии, которые важны заказчику:\n",
    "качество предсказания;\n",
    "время обучения модели;\n",
    "время предсказания модели."
   ]
  },
  {
   "cell_type": "markdown",
   "metadata": {},
   "source": [
    "По результатам сравнения моделей у DecisionTreeRegressor наилучшая скорость предсказания, и время обучения, и третье по значению RMSE равное '2203'\n",
    "Лучшая модель по результам RMSE CatBoostRegressor '1597', но у нее самое долгое время обучния, \t\n",
    "LGBMRegressor имеет почти такой же результат RMSE, равный 1618, но время обучения и время предсказания значительно лучше, чем у CatBoostRegressor, по этим показателя эта модельна втором месте среди моделей.\n"
   ]
  },
  {
   "cell_type": "markdown",
   "metadata": {},
   "source": [
    "Критерии, которые важны заказчику:<br>\n",
    "качество предсказания;<br>\n",
    "время обучения модели;<br>\n",
    "время предсказания модели.<br>"
   ]
  },
  {
   "cell_type": "markdown",
   "metadata": {},
   "source": [
    "Так как заказчику в первую очередь важно качество предсказания, то я выберу модель у которой RMSE наименьшая.\n",
    "так время пресказания у моделей меньше секунды,а Время обучения сек. не сильная разница между ними, потому будем тестировать эту модель"
   ]
  },
  {
   "cell_type": "markdown",
   "metadata": {},
   "source": [
    "Проверим модель на тестовой выборке:"
   ]
  },
  {
   "cell_type": "code",
   "execution_count": 110,
   "metadata": {},
   "outputs": [
    {
     "name": "stdout",
     "output_type": "stream",
     "text": [
      "Время обучения 4.47 секунд\n",
      "Модель предсказывает за 0.60 секунд\n",
      "RMSE = 1626.297764771382\n"
     ]
    }
   ],
   "source": [
    "model_LGBM = lgb.LGBMRegressor()\n",
    "\n",
    "start = time()\n",
    "fit = model_LGBM.fit(features_train, target_train)\n",
    "time_to_fit_LGBM = time() - start\n",
    "print('Время обучения %.2f секунд' %time_to_fit_LGBM)\n",
    "\n",
    "start = time()\n",
    "predicted = model_LGBM.predict(features_test)\n",
    "time_to_predict_LGBM = time() - start\n",
    "print('Модель предсказывает за %.2f секунд' %time_to_predict_LGBM)\n",
    "\n",
    "rmse_LGBM = mean_squared_error(target_test, predicted , squared=False)\n",
    "print('RMSE =', rmse_LGBM)"
   ]
  },
  {
   "cell_type": "markdown",
   "metadata": {},
   "source": [
    "<a id='h31'></a>\n",
    "### Вывод"
   ]
  },
  {
   "cell_type": "markdown",
   "metadata": {},
   "source": [
    "Мы достигли требуемого значения RMSE на тестовой выборке для нашей выбраной модели LGBMRegressor меньше 2500."
   ]
  },
  {
   "cell_type": "markdown",
   "metadata": {},
   "source": [
    "<a id='h4'></a>\n",
    "## Итоговый вывод"
   ]
  },
  {
   "cell_type": "markdown",
   "metadata": {},
   "source": [
    "В ходе работы было выполнено:<br>\n",
    "1.Загружены данные и проведена предобработка.<br>\n",
    "2.Были изучены 4 регрессионных модели, время их выполнения и реузльтат rmse моделей, время их выполнения и результат rmse <br>\n",
    "3.Выполнено сравнение моделей <br>\n",
    "4.Была выбрана лучшая модель LGBMRegressor"
   ]
  },
  {
   "cell_type": "markdown",
   "metadata": {},
   "source": [
    "LGBMRegressor поможет сделать точные предсказания и довольно быстрые предсказания"
   ]
  }
 ],
 "metadata": {
  "ExecuteTimeLog": [
   {
    "duration": 72,
    "start_time": "2023-03-06T18:01:25.614Z"
   },
   {
    "duration": 815,
    "start_time": "2023-03-06T18:10:56.169Z"
   },
   {
    "duration": 1061,
    "start_time": "2023-03-06T18:10:56.992Z"
   },
   {
    "duration": 26,
    "start_time": "2023-03-06T18:10:59.861Z"
   },
   {
    "duration": 19,
    "start_time": "2023-03-06T18:11:33.619Z"
   },
   {
    "duration": 24,
    "start_time": "2023-03-06T18:11:49.873Z"
   },
   {
    "duration": 16,
    "start_time": "2023-03-06T18:12:17.531Z"
   },
   {
    "duration": 4,
    "start_time": "2023-03-06T18:13:24.228Z"
   },
   {
    "duration": 116,
    "start_time": "2023-03-06T18:13:24.695Z"
   },
   {
    "duration": 935,
    "start_time": "2023-03-06T18:13:25.309Z"
   },
   {
    "duration": 50,
    "start_time": "2023-03-06T18:16:22.555Z"
   },
   {
    "duration": 485,
    "start_time": "2023-03-06T18:16:25.640Z"
   },
   {
    "duration": 95,
    "start_time": "2023-03-06T18:16:36.794Z"
   },
   {
    "duration": 80,
    "start_time": "2023-03-06T18:16:58.249Z"
   },
   {
    "duration": 558,
    "start_time": "2023-03-06T18:17:16.622Z"
   },
   {
    "duration": 512,
    "start_time": "2023-03-06T18:17:17.182Z"
   },
   {
    "duration": 8,
    "start_time": "2023-03-06T18:17:54.775Z"
   },
   {
    "duration": 111,
    "start_time": "2023-03-06T18:18:06.095Z"
   },
   {
    "duration": 4,
    "start_time": "2023-03-06T18:23:41.160Z"
   },
   {
    "duration": 4,
    "start_time": "2023-03-06T18:23:51.922Z"
   },
   {
    "duration": 48,
    "start_time": "2023-03-06T18:24:14.458Z"
   },
   {
    "duration": 16,
    "start_time": "2023-03-06T18:24:34.248Z"
   },
   {
    "duration": 3,
    "start_time": "2023-03-06T18:25:09.734Z"
   },
   {
    "duration": 4,
    "start_time": "2023-03-06T18:25:14.376Z"
   },
   {
    "duration": 4,
    "start_time": "2023-03-06T18:25:24.650Z"
   },
   {
    "duration": 585,
    "start_time": "2023-03-06T18:30:48.995Z"
   },
   {
    "duration": 23,
    "start_time": "2023-03-06T18:31:10.266Z"
   },
   {
    "duration": 6,
    "start_time": "2023-03-06T18:31:18.333Z"
   },
   {
    "duration": 6,
    "start_time": "2023-03-06T18:31:45.711Z"
   },
   {
    "duration": 29,
    "start_time": "2023-03-06T18:31:58.897Z"
   },
   {
    "duration": 29,
    "start_time": "2023-03-06T18:32:11.619Z"
   },
   {
    "duration": 9,
    "start_time": "2023-03-06T18:32:17.470Z"
   },
   {
    "duration": 33,
    "start_time": "2023-03-06T18:33:20.608Z"
   },
   {
    "duration": 8,
    "start_time": "2023-03-06T18:36:42.464Z"
   },
   {
    "duration": 27,
    "start_time": "2023-03-06T18:37:33.825Z"
   },
   {
    "duration": 186,
    "start_time": "2023-03-06T18:37:36.020Z"
   },
   {
    "duration": 190,
    "start_time": "2023-03-06T18:37:55.298Z"
   },
   {
    "duration": 187,
    "start_time": "2023-03-06T18:38:17.270Z"
   },
   {
    "duration": 71,
    "start_time": "2023-03-06T18:38:29.102Z"
   },
   {
    "duration": 3,
    "start_time": "2023-03-06T18:39:43.733Z"
   },
   {
    "duration": 799,
    "start_time": "2023-03-06T18:39:44.318Z"
   },
   {
    "duration": 17,
    "start_time": "2023-03-06T18:39:45.119Z"
   },
   {
    "duration": 6,
    "start_time": "2023-03-06T18:39:45.138Z"
   },
   {
    "duration": 118,
    "start_time": "2023-03-06T18:39:45.414Z"
   },
   {
    "duration": 938,
    "start_time": "2023-03-06T18:39:45.614Z"
   },
   {
    "duration": 5,
    "start_time": "2023-03-06T18:39:46.554Z"
   },
   {
    "duration": 5,
    "start_time": "2023-03-06T18:39:46.561Z"
   },
   {
    "duration": 4,
    "start_time": "2023-03-06T18:39:46.572Z"
   },
   {
    "duration": 8,
    "start_time": "2023-03-06T18:39:47.458Z"
   },
   {
    "duration": 19,
    "start_time": "2023-03-06T18:39:52.514Z"
   },
   {
    "duration": 173,
    "start_time": "2023-03-06T18:39:53.969Z"
   },
   {
    "duration": 3,
    "start_time": "2023-03-06T18:40:16.267Z"
   },
   {
    "duration": 804,
    "start_time": "2023-03-06T18:40:16.914Z"
   },
   {
    "duration": 14,
    "start_time": "2023-03-06T18:40:17.720Z"
   },
   {
    "duration": 6,
    "start_time": "2023-03-06T18:40:17.736Z"
   },
   {
    "duration": 142,
    "start_time": "2023-03-06T18:40:18.516Z"
   },
   {
    "duration": 878,
    "start_time": "2023-03-06T18:40:21.518Z"
   },
   {
    "duration": 4,
    "start_time": "2023-03-06T18:40:24.413Z"
   },
   {
    "duration": 5,
    "start_time": "2023-03-06T18:40:25.718Z"
   },
   {
    "duration": 5,
    "start_time": "2023-03-06T18:40:26.413Z"
   },
   {
    "duration": 417,
    "start_time": "2023-03-06T18:40:27.114Z"
   },
   {
    "duration": 113,
    "start_time": "2023-03-06T18:41:53.969Z"
   },
   {
    "duration": 5,
    "start_time": "2023-03-06T18:43:23.222Z"
   },
   {
    "duration": 32,
    "start_time": "2023-03-06T18:43:35.294Z"
   },
   {
    "duration": 29,
    "start_time": "2023-03-06T18:44:00.040Z"
   },
   {
    "duration": 46,
    "start_time": "2023-03-06T18:44:06.060Z"
   },
   {
    "duration": 19,
    "start_time": "2023-03-06T18:44:12.360Z"
   },
   {
    "duration": 29,
    "start_time": "2023-03-06T18:44:13.574Z"
   },
   {
    "duration": 81,
    "start_time": "2023-03-06T18:47:31.668Z"
   },
   {
    "duration": 20,
    "start_time": "2023-03-06T18:47:59.706Z"
   },
   {
    "duration": 111,
    "start_time": "2023-03-06T18:48:14.762Z"
   },
   {
    "duration": 19,
    "start_time": "2023-03-06T18:48:24.899Z"
   },
   {
    "duration": 17,
    "start_time": "2023-03-06T18:48:35.853Z"
   },
   {
    "duration": 106,
    "start_time": "2023-03-06T18:48:38.905Z"
   },
   {
    "duration": 6,
    "start_time": "2023-03-06T18:48:53.317Z"
   },
   {
    "duration": 30,
    "start_time": "2023-03-06T18:49:16.834Z"
   },
   {
    "duration": 17,
    "start_time": "2023-03-06T18:54:04.606Z"
   },
   {
    "duration": 167,
    "start_time": "2023-03-06T18:54:05.409Z"
   },
   {
    "duration": 71,
    "start_time": "2023-03-06T18:54:10.303Z"
   },
   {
    "duration": 21,
    "start_time": "2023-03-06T18:54:16.206Z"
   },
   {
    "duration": 30,
    "start_time": "2023-03-06T18:54:17.276Z"
   },
   {
    "duration": 17,
    "start_time": "2023-03-06T18:54:22.070Z"
   },
   {
    "duration": 70,
    "start_time": "2023-03-06T18:54:22.515Z"
   },
   {
    "duration": 30,
    "start_time": "2023-03-06T18:54:26.100Z"
   },
   {
    "duration": 28,
    "start_time": "2023-03-06T18:54:28.324Z"
   },
   {
    "duration": 9,
    "start_time": "2023-03-06T18:55:29.552Z"
   },
   {
    "duration": 21,
    "start_time": "2023-03-06T18:55:36.308Z"
   },
   {
    "duration": 53,
    "start_time": "2023-03-06T18:59:57.173Z"
   },
   {
    "duration": 3,
    "start_time": "2023-03-06T19:00:00.976Z"
   },
   {
    "duration": 32,
    "start_time": "2023-03-06T19:00:14.529Z"
   },
   {
    "duration": 23,
    "start_time": "2023-03-06T19:00:21.700Z"
   },
   {
    "duration": 23,
    "start_time": "2023-03-06T19:00:28.024Z"
   },
   {
    "duration": 18,
    "start_time": "2023-03-06T19:01:10.310Z"
   },
   {
    "duration": 69,
    "start_time": "2023-03-06T19:01:19.904Z"
   },
   {
    "duration": 30,
    "start_time": "2023-03-06T19:01:51.273Z"
   },
   {
    "duration": 19,
    "start_time": "2023-03-06T19:06:49.852Z"
   },
   {
    "duration": 6,
    "start_time": "2023-03-06T19:07:58.318Z"
   },
   {
    "duration": 21,
    "start_time": "2023-03-06T19:08:13.413Z"
   },
   {
    "duration": 5,
    "start_time": "2023-03-06T19:08:14.218Z"
   },
   {
    "duration": 31,
    "start_time": "2023-03-06T19:08:45.012Z"
   },
   {
    "duration": 19,
    "start_time": "2023-03-06T19:09:10.216Z"
   },
   {
    "duration": 31,
    "start_time": "2023-03-06T19:09:10.457Z"
   },
   {
    "duration": 730,
    "start_time": "2023-03-06T19:09:26.575Z"
   },
   {
    "duration": 15,
    "start_time": "2023-03-06T19:09:27.307Z"
   },
   {
    "duration": 4,
    "start_time": "2023-03-06T19:09:28.005Z"
   },
   {
    "duration": 147,
    "start_time": "2023-03-06T19:09:28.275Z"
   },
   {
    "duration": 895,
    "start_time": "2023-03-06T19:09:28.468Z"
   },
   {
    "duration": 4,
    "start_time": "2023-03-06T19:09:29.365Z"
   },
   {
    "duration": 8,
    "start_time": "2023-03-06T19:09:29.370Z"
   },
   {
    "duration": 7,
    "start_time": "2023-03-06T19:09:29.380Z"
   },
   {
    "duration": 445,
    "start_time": "2023-03-06T19:09:29.401Z"
   },
   {
    "duration": 7,
    "start_time": "2023-03-06T19:09:29.848Z"
   },
   {
    "duration": 18,
    "start_time": "2023-03-06T19:09:29.950Z"
   },
   {
    "duration": 160,
    "start_time": "2023-03-06T19:09:30.316Z"
   },
   {
    "duration": 71,
    "start_time": "2023-03-06T19:09:30.877Z"
   },
   {
    "duration": 20,
    "start_time": "2023-03-06T19:09:31.244Z"
   },
   {
    "duration": 31,
    "start_time": "2023-03-06T19:09:31.433Z"
   },
   {
    "duration": 755,
    "start_time": "2023-03-06T19:09:56.868Z"
   },
   {
    "duration": 28,
    "start_time": "2023-03-06T19:10:03.823Z"
   },
   {
    "duration": 4,
    "start_time": "2023-03-06T19:10:23.877Z"
   },
   {
    "duration": 815,
    "start_time": "2023-03-06T19:10:24.234Z"
   },
   {
    "duration": 16,
    "start_time": "2023-03-06T19:10:25.051Z"
   },
   {
    "duration": 7,
    "start_time": "2023-03-06T19:10:25.069Z"
   },
   {
    "duration": 135,
    "start_time": "2023-03-06T19:10:25.078Z"
   },
   {
    "duration": 889,
    "start_time": "2023-03-06T19:10:25.215Z"
   },
   {
    "duration": 4,
    "start_time": "2023-03-06T19:10:26.106Z"
   },
   {
    "duration": 7,
    "start_time": "2023-03-06T19:10:26.112Z"
   },
   {
    "duration": 9,
    "start_time": "2023-03-06T19:10:26.121Z"
   },
   {
    "duration": 445,
    "start_time": "2023-03-06T19:10:26.132Z"
   },
   {
    "duration": 6,
    "start_time": "2023-03-06T19:10:26.580Z"
   },
   {
    "duration": 25,
    "start_time": "2023-03-06T19:10:26.588Z"
   },
   {
    "duration": 159,
    "start_time": "2023-03-06T19:10:27.458Z"
   },
   {
    "duration": 70,
    "start_time": "2023-03-06T19:10:29.927Z"
   },
   {
    "duration": 21,
    "start_time": "2023-03-06T19:10:30.647Z"
   },
   {
    "duration": 32,
    "start_time": "2023-03-06T19:10:32.072Z"
   },
   {
    "duration": 21,
    "start_time": "2023-03-06T19:10:32.816Z"
   },
   {
    "duration": 71,
    "start_time": "2023-03-06T19:10:33.033Z"
   },
   {
    "duration": 30,
    "start_time": "2023-03-06T19:10:33.354Z"
   },
   {
    "duration": 19,
    "start_time": "2023-03-06T19:10:33.731Z"
   },
   {
    "duration": 22,
    "start_time": "2023-03-06T19:10:34.579Z"
   },
   {
    "duration": 27,
    "start_time": "2023-03-06T19:10:34.808Z"
   },
   {
    "duration": 23,
    "start_time": "2023-03-06T19:10:35.050Z"
   },
   {
    "duration": 22,
    "start_time": "2023-03-06T19:10:35.846Z"
   },
   {
    "duration": 71,
    "start_time": "2023-03-06T19:11:21.808Z"
   },
   {
    "duration": 32,
    "start_time": "2023-03-06T19:11:22.104Z"
   },
   {
    "duration": 18,
    "start_time": "2023-03-06T19:11:24.134Z"
   },
   {
    "duration": 20,
    "start_time": "2023-03-06T19:11:24.420Z"
   },
   {
    "duration": 28,
    "start_time": "2023-03-06T19:11:24.967Z"
   },
   {
    "duration": 20,
    "start_time": "2023-03-06T19:12:07.022Z"
   },
   {
    "duration": 30,
    "start_time": "2023-03-06T19:12:07.421Z"
   },
   {
    "duration": 935,
    "start_time": "2023-03-12T17:36:55.630Z"
   },
   {
    "duration": 1494,
    "start_time": "2023-03-12T17:36:56.567Z"
   },
   {
    "duration": 35,
    "start_time": "2023-03-12T17:36:58.063Z"
   },
   {
    "duration": 5,
    "start_time": "2023-03-12T17:36:58.101Z"
   },
   {
    "duration": 178,
    "start_time": "2023-03-12T17:36:58.108Z"
   },
   {
    "duration": 1054,
    "start_time": "2023-03-12T17:36:58.289Z"
   },
   {
    "duration": 9,
    "start_time": "2023-03-12T17:36:59.344Z"
   },
   {
    "duration": 18,
    "start_time": "2023-03-12T17:36:59.355Z"
   },
   {
    "duration": 6,
    "start_time": "2023-03-12T17:36:59.375Z"
   },
   {
    "duration": 534,
    "start_time": "2023-03-12T17:36:59.383Z"
   },
   {
    "duration": 14,
    "start_time": "2023-03-12T17:36:59.918Z"
   },
   {
    "duration": 28,
    "start_time": "2023-03-12T17:36:59.939Z"
   },
   {
    "duration": 251,
    "start_time": "2023-03-12T17:36:59.969Z"
   },
   {
    "duration": 121,
    "start_time": "2023-03-12T17:37:00.222Z"
   },
   {
    "duration": 44,
    "start_time": "2023-03-12T17:37:05.326Z"
   },
   {
    "duration": 34,
    "start_time": "2023-03-12T17:37:05.558Z"
   },
   {
    "duration": 26,
    "start_time": "2023-03-12T17:37:07.958Z"
   },
   {
    "duration": 124,
    "start_time": "2023-03-12T17:37:08.159Z"
   },
   {
    "duration": 34,
    "start_time": "2023-03-12T17:37:08.358Z"
   },
   {
    "duration": 106,
    "start_time": "2023-03-12T17:37:12.429Z"
   },
   {
    "duration": 53,
    "start_time": "2023-03-12T17:37:12.803Z"
   },
   {
    "duration": 25,
    "start_time": "2023-03-12T17:37:13.797Z"
   },
   {
    "duration": 22,
    "start_time": "2023-03-12T17:37:15.002Z"
   },
   {
    "duration": 35,
    "start_time": "2023-03-12T17:37:15.508Z"
   },
   {
    "duration": 26,
    "start_time": "2023-03-12T17:37:15.803Z"
   },
   {
    "duration": 29,
    "start_time": "2023-03-12T17:37:16.095Z"
   },
   {
    "duration": 105,
    "start_time": "2023-03-12T17:37:16.259Z"
   },
   {
    "duration": 57,
    "start_time": "2023-03-12T17:37:16.420Z"
   },
   {
    "duration": 29,
    "start_time": "2023-03-12T17:37:16.605Z"
   },
   {
    "duration": 27,
    "start_time": "2023-03-12T17:37:16.994Z"
   },
   {
    "duration": 52,
    "start_time": "2023-03-12T17:37:17.142Z"
   },
   {
    "duration": 108,
    "start_time": "2023-03-12T17:37:21.489Z"
   },
   {
    "duration": 424,
    "start_time": "2023-03-12T17:59:56.697Z"
   },
   {
    "duration": 4,
    "start_time": "2023-03-12T18:01:15.001Z"
   },
   {
    "duration": 98,
    "start_time": "2023-03-12T18:01:31.117Z"
   },
   {
    "duration": 892,
    "start_time": "2023-03-12T18:02:02.884Z"
   },
   {
    "duration": 5,
    "start_time": "2023-03-12T18:02:25.252Z"
   },
   {
    "duration": 3,
    "start_time": "2023-03-12T18:02:25.724Z"
   },
   {
    "duration": 904,
    "start_time": "2023-03-12T18:02:26.382Z"
   },
   {
    "duration": 33,
    "start_time": "2023-03-12T18:02:34.678Z"
   },
   {
    "duration": 15054,
    "start_time": "2023-03-12T18:02:46.647Z"
   },
   {
    "duration": 14468,
    "start_time": "2023-03-12T18:04:38.494Z"
   },
   {
    "duration": 371,
    "start_time": "2023-03-12T18:04:54.844Z"
   },
   {
    "duration": 23,
    "start_time": "2023-03-12T18:05:34.020Z"
   },
   {
    "duration": 100,
    "start_time": "2023-03-12T18:05:53.535Z"
   },
   {
    "duration": 1759,
    "start_time": "2023-03-12T18:07:21.093Z"
   },
   {
    "duration": 69,
    "start_time": "2023-03-12T18:09:51.786Z"
   },
   {
    "duration": 58,
    "start_time": "2023-03-12T18:15:26.398Z"
   },
   {
    "duration": 45,
    "start_time": "2023-03-12T18:15:33.786Z"
   },
   {
    "duration": 55,
    "start_time": "2023-03-12T18:15:40.143Z"
   },
   {
    "duration": 10,
    "start_time": "2023-03-12T18:17:06.944Z"
   },
   {
    "duration": 332,
    "start_time": "2023-03-12T18:17:13.845Z"
   },
   {
    "duration": 51,
    "start_time": "2023-03-12T18:17:53.128Z"
   },
   {
    "duration": 49,
    "start_time": "2023-03-12T18:18:00.645Z"
   },
   {
    "duration": 115,
    "start_time": "2023-03-12T18:18:57.841Z"
   },
   {
    "duration": 9,
    "start_time": "2023-03-12T18:19:20.594Z"
   },
   {
    "duration": 9,
    "start_time": "2023-03-12T18:19:45.482Z"
   },
   {
    "duration": 11,
    "start_time": "2023-03-12T18:19:56.682Z"
   },
   {
    "duration": 10,
    "start_time": "2023-03-12T18:20:08.107Z"
   },
   {
    "duration": 5,
    "start_time": "2023-03-12T18:20:14.479Z"
   },
   {
    "duration": 2047,
    "start_time": "2023-03-12T18:20:15.577Z"
   },
   {
    "duration": 153,
    "start_time": "2023-03-12T18:21:17.946Z"
   },
   {
    "duration": 13,
    "start_time": "2023-03-12T18:21:51.406Z"
   },
   {
    "duration": 130,
    "start_time": "2023-03-12T18:22:36.480Z"
   },
   {
    "duration": 8,
    "start_time": "2023-03-12T18:23:59.582Z"
   },
   {
    "duration": 520,
    "start_time": "2023-03-12T18:24:11.323Z"
   },
   {
    "duration": 420,
    "start_time": "2023-03-12T18:24:12.574Z"
   },
   {
    "duration": 400,
    "start_time": "2023-03-12T18:24:49.358Z"
   },
   {
    "duration": 153,
    "start_time": "2023-03-12T18:25:07.582Z"
   },
   {
    "duration": 139,
    "start_time": "2023-03-12T18:25:15.882Z"
   },
   {
    "duration": 158,
    "start_time": "2023-03-12T18:25:46.740Z"
   },
   {
    "duration": 227,
    "start_time": "2023-03-12T18:25:52.247Z"
   },
   {
    "duration": 141,
    "start_time": "2023-03-12T18:26:16.379Z"
   },
   {
    "duration": 174,
    "start_time": "2023-03-12T18:26:40.484Z"
   },
   {
    "duration": 10,
    "start_time": "2023-03-12T18:26:52.646Z"
   },
   {
    "duration": 10,
    "start_time": "2023-03-12T18:27:25.983Z"
   },
   {
    "duration": 700,
    "start_time": "2023-03-12T18:27:50.274Z"
   },
   {
    "duration": 0,
    "start_time": "2023-03-12T18:29:18.970Z"
   },
   {
    "duration": 1884,
    "start_time": "2023-03-12T18:29:21.580Z"
   },
   {
    "duration": 150,
    "start_time": "2023-03-12T18:30:00.649Z"
   },
   {
    "duration": 12,
    "start_time": "2023-03-12T18:35:51.978Z"
   },
   {
    "duration": 22,
    "start_time": "2023-03-12T18:38:58.466Z"
   },
   {
    "duration": 20,
    "start_time": "2023-03-12T18:39:08.701Z"
   },
   {
    "duration": 15,
    "start_time": "2023-03-12T18:39:20.884Z"
   },
   {
    "duration": 11,
    "start_time": "2023-03-12T18:39:32.553Z"
   },
   {
    "duration": 6,
    "start_time": "2023-03-12T18:39:47.239Z"
   },
   {
    "duration": 11,
    "start_time": "2023-03-12T18:40:05.675Z"
   },
   {
    "duration": 21,
    "start_time": "2023-03-12T18:40:25.126Z"
   },
   {
    "duration": 10,
    "start_time": "2023-03-12T18:40:34.998Z"
   },
   {
    "duration": 12,
    "start_time": "2023-03-12T18:40:36.302Z"
   },
   {
    "duration": 10,
    "start_time": "2023-03-12T18:40:48.576Z"
   },
   {
    "duration": 17,
    "start_time": "2023-03-12T18:41:16.730Z"
   },
   {
    "duration": 9,
    "start_time": "2023-03-12T18:41:23.071Z"
   },
   {
    "duration": 47,
    "start_time": "2023-03-12T18:42:29.954Z"
   },
   {
    "duration": 10,
    "start_time": "2023-03-12T18:45:34.596Z"
   },
   {
    "duration": 13,
    "start_time": "2023-03-12T18:46:35.864Z"
   },
   {
    "duration": 7,
    "start_time": "2023-03-12T18:47:02.693Z"
   },
   {
    "duration": 8,
    "start_time": "2023-03-12T18:47:40.766Z"
   },
   {
    "duration": 4,
    "start_time": "2023-03-12T18:47:51.571Z"
   },
   {
    "duration": 31,
    "start_time": "2023-03-12T18:49:09.596Z"
   },
   {
    "duration": 73,
    "start_time": "2023-03-12T18:49:27.529Z"
   },
   {
    "duration": 60,
    "start_time": "2023-03-12T18:49:42.996Z"
   },
   {
    "duration": 4,
    "start_time": "2023-03-12T18:49:53.643Z"
   },
   {
    "duration": 4,
    "start_time": "2023-03-12T18:55:22.647Z"
   },
   {
    "duration": 19,
    "start_time": "2023-03-12T18:55:41.694Z"
   },
   {
    "duration": 14,
    "start_time": "2023-03-12T18:56:02.551Z"
   },
   {
    "duration": 203,
    "start_time": "2023-03-12T18:56:51.589Z"
   },
   {
    "duration": 203,
    "start_time": "2023-03-12T18:57:04.408Z"
   },
   {
    "duration": 197,
    "start_time": "2023-03-12T18:57:10.919Z"
   },
   {
    "duration": 193,
    "start_time": "2023-03-12T18:57:22.709Z"
   },
   {
    "duration": 9,
    "start_time": "2023-03-12T18:58:33.383Z"
   },
   {
    "duration": 4,
    "start_time": "2023-03-12T18:58:38.947Z"
   },
   {
    "duration": 178,
    "start_time": "2023-03-12T18:59:04.043Z"
   },
   {
    "duration": 318,
    "start_time": "2023-03-12T19:00:10.002Z"
   },
   {
    "duration": 1787,
    "start_time": "2023-03-12T19:00:25.852Z"
   },
   {
    "duration": 265,
    "start_time": "2023-03-12T19:01:28.507Z"
   },
   {
    "duration": 232,
    "start_time": "2023-03-12T19:02:14.610Z"
   },
   {
    "duration": 1697,
    "start_time": "2023-03-12T19:02:47.710Z"
   },
   {
    "duration": 237,
    "start_time": "2023-03-12T19:04:18.419Z"
   },
   {
    "duration": 55,
    "start_time": "2023-03-12T19:06:10.588Z"
   },
   {
    "duration": 1253,
    "start_time": "2023-03-12T19:06:18.400Z"
   },
   {
    "duration": 12,
    "start_time": "2023-03-12T19:07:07.577Z"
   },
   {
    "duration": 46,
    "start_time": "2023-03-12T19:08:42.225Z"
   },
   {
    "duration": 64,
    "start_time": "2023-03-12T19:09:07.876Z"
   },
   {
    "duration": 270,
    "start_time": "2023-03-12T19:09:19.316Z"
   },
   {
    "duration": 234,
    "start_time": "2023-03-12T19:09:31.143Z"
   },
   {
    "duration": 20,
    "start_time": "2023-03-12T19:10:05.984Z"
   },
   {
    "duration": 11,
    "start_time": "2023-03-12T19:10:14.125Z"
   },
   {
    "duration": 10,
    "start_time": "2023-03-12T19:10:17.949Z"
   },
   {
    "duration": 16,
    "start_time": "2023-03-12T19:10:22.636Z"
   },
   {
    "duration": 11,
    "start_time": "2023-03-12T19:11:32.395Z"
   },
   {
    "duration": 4,
    "start_time": "2023-03-12T19:11:43.423Z"
   },
   {
    "duration": 310,
    "start_time": "2023-03-12T19:12:12.345Z"
   },
   {
    "duration": 7436,
    "start_time": "2023-03-12T19:12:37.978Z"
   },
   {
    "duration": 10,
    "start_time": "2023-03-12T19:13:24.812Z"
   },
   {
    "duration": 59,
    "start_time": "2023-03-12T19:14:03.498Z"
   },
   {
    "duration": 53,
    "start_time": "2023-03-12T19:14:29.402Z"
   },
   {
    "duration": 66,
    "start_time": "2023-03-12T19:14:35.302Z"
   },
   {
    "duration": 46,
    "start_time": "2023-03-12T19:14:48.680Z"
   },
   {
    "duration": 330,
    "start_time": "2023-03-12T19:14:54.587Z"
   },
   {
    "duration": 320,
    "start_time": "2023-03-12T19:15:03.306Z"
   },
   {
    "duration": 311,
    "start_time": "2023-03-12T19:15:14.097Z"
   },
   {
    "duration": 305,
    "start_time": "2023-03-12T19:15:26.246Z"
   },
   {
    "duration": 318,
    "start_time": "2023-03-12T19:15:41.990Z"
   },
   {
    "duration": 148,
    "start_time": "2023-03-12T19:16:22.103Z"
   },
   {
    "duration": 127,
    "start_time": "2023-03-12T19:17:13.869Z"
   },
   {
    "duration": 1364,
    "start_time": "2023-03-12T19:17:38.523Z"
   },
   {
    "duration": 1389,
    "start_time": "2023-03-12T19:17:57.199Z"
   },
   {
    "duration": 1461,
    "start_time": "2023-03-12T19:18:10.690Z"
   },
   {
    "duration": 10,
    "start_time": "2023-03-12T19:21:04.584Z"
   },
   {
    "duration": 14,
    "start_time": "2023-03-12T19:21:12.919Z"
   },
   {
    "duration": 10,
    "start_time": "2023-03-12T19:21:19.502Z"
   },
   {
    "duration": 84,
    "start_time": "2023-03-12T19:26:12.438Z"
   },
   {
    "duration": 106,
    "start_time": "2023-03-12T19:26:19.724Z"
   },
   {
    "duration": 45,
    "start_time": "2023-03-12T19:27:17.030Z"
   },
   {
    "duration": 18,
    "start_time": "2023-03-12T19:27:21.910Z"
   },
   {
    "duration": 8,
    "start_time": "2023-03-12T19:29:51.320Z"
   },
   {
    "duration": 5,
    "start_time": "2023-03-12T19:30:02.878Z"
   },
   {
    "duration": 8,
    "start_time": "2023-03-12T19:31:05.878Z"
   },
   {
    "duration": 107,
    "start_time": "2023-03-12T19:31:06.382Z"
   },
   {
    "duration": 13,
    "start_time": "2023-03-12T19:31:11.320Z"
   },
   {
    "duration": 646,
    "start_time": "2023-03-12T19:31:33.599Z"
   },
   {
    "duration": 819,
    "start_time": "2023-03-12T19:31:34.247Z"
   },
   {
    "duration": 18,
    "start_time": "2023-03-12T19:31:35.068Z"
   },
   {
    "duration": 7,
    "start_time": "2023-03-12T19:31:35.087Z"
   },
   {
    "duration": 141,
    "start_time": "2023-03-12T19:31:35.096Z"
   },
   {
    "duration": 841,
    "start_time": "2023-03-12T19:31:35.238Z"
   },
   {
    "duration": 3,
    "start_time": "2023-03-12T19:31:36.081Z"
   },
   {
    "duration": 6,
    "start_time": "2023-03-12T19:31:36.086Z"
   },
   {
    "duration": 7,
    "start_time": "2023-03-12T19:31:36.094Z"
   },
   {
    "duration": 475,
    "start_time": "2023-03-12T19:31:36.102Z"
   },
   {
    "duration": 7,
    "start_time": "2023-03-12T19:31:36.579Z"
   },
   {
    "duration": 27,
    "start_time": "2023-03-12T19:31:36.588Z"
   },
   {
    "duration": 241,
    "start_time": "2023-03-12T19:31:36.630Z"
   },
   {
    "duration": 84,
    "start_time": "2023-03-12T19:31:36.874Z"
   },
   {
    "duration": 28,
    "start_time": "2023-03-12T19:31:36.959Z"
   },
   {
    "duration": 53,
    "start_time": "2023-03-12T19:31:36.988Z"
   },
   {
    "duration": 19,
    "start_time": "2023-03-12T19:31:37.043Z"
   },
   {
    "duration": 93,
    "start_time": "2023-03-12T19:31:37.064Z"
   },
   {
    "duration": 31,
    "start_time": "2023-03-12T19:31:37.159Z"
   },
   {
    "duration": 23,
    "start_time": "2023-03-12T19:31:37.191Z"
   },
   {
    "duration": 36,
    "start_time": "2023-03-12T19:31:37.215Z"
   },
   {
    "duration": 33,
    "start_time": "2023-03-12T19:31:37.252Z"
   },
   {
    "duration": 21,
    "start_time": "2023-03-12T19:31:37.287Z"
   },
   {
    "duration": 29,
    "start_time": "2023-03-12T19:31:37.310Z"
   },
   {
    "duration": 98,
    "start_time": "2023-03-12T19:31:37.341Z"
   },
   {
    "duration": 32,
    "start_time": "2023-03-12T19:31:37.441Z"
   },
   {
    "duration": 20,
    "start_time": "2023-03-12T19:31:37.474Z"
   },
   {
    "duration": 36,
    "start_time": "2023-03-12T19:31:37.496Z"
   },
   {
    "duration": 30,
    "start_time": "2023-03-12T19:31:37.534Z"
   },
   {
    "duration": 94,
    "start_time": "2023-03-12T19:31:37.565Z"
   },
   {
    "duration": 305,
    "start_time": "2023-03-12T19:31:37.660Z"
   },
   {
    "duration": 4,
    "start_time": "2023-03-12T19:31:37.967Z"
   },
   {
    "duration": 103,
    "start_time": "2023-03-12T19:31:37.972Z"
   },
   {
    "duration": 5,
    "start_time": "2023-03-12T19:31:38.076Z"
   },
   {
    "duration": 339,
    "start_time": "2023-03-12T19:31:38.082Z"
   },
   {
    "duration": 147,
    "start_time": "2023-03-12T19:31:38.423Z"
   },
   {
    "duration": 38,
    "start_time": "2023-03-12T19:31:38.571Z"
   },
   {
    "duration": 0,
    "start_time": "2023-03-12T19:31:38.611Z"
   },
   {
    "duration": 0,
    "start_time": "2023-03-12T19:31:38.613Z"
   },
   {
    "duration": 0,
    "start_time": "2023-03-12T19:31:38.614Z"
   },
   {
    "duration": 0,
    "start_time": "2023-03-12T19:31:38.615Z"
   },
   {
    "duration": 0,
    "start_time": "2023-03-12T19:31:38.616Z"
   },
   {
    "duration": 0,
    "start_time": "2023-03-12T19:31:38.617Z"
   },
   {
    "duration": 0,
    "start_time": "2023-03-12T19:31:38.618Z"
   },
   {
    "duration": 0,
    "start_time": "2023-03-12T19:31:38.619Z"
   },
   {
    "duration": 0,
    "start_time": "2023-03-12T19:31:38.620Z"
   },
   {
    "duration": 0,
    "start_time": "2023-03-12T19:31:38.621Z"
   },
   {
    "duration": 0,
    "start_time": "2023-03-12T19:31:38.622Z"
   },
   {
    "duration": 0,
    "start_time": "2023-03-12T19:31:38.623Z"
   },
   {
    "duration": 0,
    "start_time": "2023-03-12T19:31:38.624Z"
   },
   {
    "duration": 0,
    "start_time": "2023-03-12T19:31:38.625Z"
   },
   {
    "duration": 0,
    "start_time": "2023-03-12T19:31:38.626Z"
   },
   {
    "duration": 0,
    "start_time": "2023-03-12T19:31:38.630Z"
   },
   {
    "duration": 0,
    "start_time": "2023-03-12T19:31:38.631Z"
   },
   {
    "duration": 0,
    "start_time": "2023-03-12T19:31:38.632Z"
   },
   {
    "duration": 0,
    "start_time": "2023-03-12T19:31:38.634Z"
   },
   {
    "duration": 0,
    "start_time": "2023-03-12T19:31:38.635Z"
   },
   {
    "duration": 0,
    "start_time": "2023-03-12T19:31:38.636Z"
   },
   {
    "duration": 0,
    "start_time": "2023-03-12T19:31:38.636Z"
   },
   {
    "duration": 0,
    "start_time": "2023-03-12T19:31:38.638Z"
   },
   {
    "duration": 0,
    "start_time": "2023-03-12T19:31:38.639Z"
   },
   {
    "duration": 0,
    "start_time": "2023-03-12T19:31:38.640Z"
   },
   {
    "duration": 0,
    "start_time": "2023-03-12T19:31:38.641Z"
   },
   {
    "duration": 0,
    "start_time": "2023-03-12T19:31:38.642Z"
   },
   {
    "duration": 14,
    "start_time": "2023-03-12T19:32:47.679Z"
   },
   {
    "duration": 11,
    "start_time": "2023-03-12T19:32:47.847Z"
   },
   {
    "duration": 12,
    "start_time": "2023-03-12T19:32:48.022Z"
   },
   {
    "duration": 10,
    "start_time": "2023-03-12T19:32:48.188Z"
   },
   {
    "duration": 19,
    "start_time": "2023-03-12T19:32:48.515Z"
   },
   {
    "duration": 88,
    "start_time": "2023-03-12T19:32:48.684Z"
   },
   {
    "duration": 4,
    "start_time": "2023-03-12T19:32:48.875Z"
   },
   {
    "duration": 19,
    "start_time": "2023-03-12T19:32:49.016Z"
   },
   {
    "duration": 174,
    "start_time": "2023-03-12T19:32:49.204Z"
   },
   {
    "duration": 191,
    "start_time": "2023-03-12T19:32:49.381Z"
   },
   {
    "duration": 231,
    "start_time": "2023-03-12T19:32:49.573Z"
   },
   {
    "duration": 124,
    "start_time": "2023-03-12T19:32:49.806Z"
   },
   {
    "duration": 1574,
    "start_time": "2023-03-12T19:32:49.932Z"
   },
   {
    "duration": 74,
    "start_time": "2023-03-12T19:32:51.508Z"
   },
   {
    "duration": 0,
    "start_time": "2023-03-12T19:32:51.583Z"
   },
   {
    "duration": 0,
    "start_time": "2023-03-12T19:32:51.584Z"
   },
   {
    "duration": 0,
    "start_time": "2023-03-12T19:32:51.586Z"
   },
   {
    "duration": 0,
    "start_time": "2023-03-12T19:32:51.587Z"
   },
   {
    "duration": 1,
    "start_time": "2023-03-12T19:32:51.587Z"
   },
   {
    "duration": 69,
    "start_time": "2023-03-12T19:32:59.186Z"
   },
   {
    "duration": 11,
    "start_time": "2023-03-12T19:32:59.616Z"
   },
   {
    "duration": 68,
    "start_time": "2023-03-12T19:33:00.401Z"
   },
   {
    "duration": 228,
    "start_time": "2023-03-12T19:33:00.671Z"
   },
   {
    "duration": 16,
    "start_time": "2023-03-12T19:33:02.122Z"
   },
   {
    "duration": 8,
    "start_time": "2023-03-12T19:33:02.387Z"
   },
   {
    "duration": 11,
    "start_time": "2023-03-12T19:33:02.779Z"
   },
   {
    "duration": 13,
    "start_time": "2023-03-12T19:33:06.707Z"
   },
   {
    "duration": 1414,
    "start_time": "2023-03-12T19:33:07.195Z"
   },
   {
    "duration": 7714,
    "start_time": "2023-03-12T19:33:08.612Z"
   },
   {
    "duration": 151,
    "start_time": "2023-03-12T19:33:16.328Z"
   },
   {
    "duration": 94,
    "start_time": "2023-03-12T19:33:16.482Z"
   },
   {
    "duration": 138,
    "start_time": "2023-03-12T19:33:16.579Z"
   },
   {
    "duration": 22,
    "start_time": "2023-03-12T19:34:02.480Z"
   },
   {
    "duration": 9,
    "start_time": "2023-03-12T19:34:20.833Z"
   },
   {
    "duration": 3206,
    "start_time": "2023-03-12T19:35:09.340Z"
   },
   {
    "duration": 33,
    "start_time": "2023-03-12T19:35:47.997Z"
   },
   {
    "duration": 8,
    "start_time": "2023-03-12T19:36:00.311Z"
   },
   {
    "duration": 31,
    "start_time": "2023-03-12T19:36:05.416Z"
   },
   {
    "duration": 46,
    "start_time": "2023-03-12T19:36:58.149Z"
   },
   {
    "duration": 74,
    "start_time": "2023-03-12T19:37:15.597Z"
   },
   {
    "duration": 46,
    "start_time": "2023-03-12T19:38:15.050Z"
   },
   {
    "duration": 66,
    "start_time": "2023-03-12T19:38:19.701Z"
   },
   {
    "duration": 30,
    "start_time": "2023-03-12T19:38:32.776Z"
   },
   {
    "duration": 9,
    "start_time": "2023-03-12T19:39:22.779Z"
   },
   {
    "duration": 17,
    "start_time": "2023-03-12T19:39:48.283Z"
   },
   {
    "duration": 31,
    "start_time": "2023-03-12T19:40:13.667Z"
   },
   {
    "duration": 11,
    "start_time": "2023-03-12T19:40:30.226Z"
   },
   {
    "duration": 4,
    "start_time": "2023-03-12T19:40:42.188Z"
   },
   {
    "duration": 29,
    "start_time": "2023-03-12T19:41:36.276Z"
   },
   {
    "duration": 8,
    "start_time": "2023-03-12T19:42:33.613Z"
   },
   {
    "duration": 294,
    "start_time": "2023-03-12T19:43:32.878Z"
   },
   {
    "duration": 184,
    "start_time": "2023-03-12T19:43:45.615Z"
   },
   {
    "duration": 268,
    "start_time": "2023-03-12T19:43:50.388Z"
   },
   {
    "duration": 214,
    "start_time": "2023-03-12T19:44:16.682Z"
   },
   {
    "duration": 158,
    "start_time": "2023-03-12T19:44:52.786Z"
   },
   {
    "duration": 9,
    "start_time": "2023-03-12T19:45:13.515Z"
   },
   {
    "duration": 56,
    "start_time": "2023-03-12T19:46:16.198Z"
   },
   {
    "duration": 40,
    "start_time": "2023-03-12T19:46:20.845Z"
   },
   {
    "duration": 213,
    "start_time": "2023-03-12T19:46:29.843Z"
   },
   {
    "duration": 11,
    "start_time": "2023-03-12T19:46:46.943Z"
   },
   {
    "duration": 27,
    "start_time": "2023-03-12T19:46:55.898Z"
   },
   {
    "duration": 30,
    "start_time": "2023-03-12T19:47:48.943Z"
   },
   {
    "duration": 55,
    "start_time": "2023-03-12T19:47:51.598Z"
   },
   {
    "duration": 188,
    "start_time": "2023-03-12T19:48:28.976Z"
   },
   {
    "duration": 40,
    "start_time": "2023-03-12T19:48:41.226Z"
   },
   {
    "duration": 173,
    "start_time": "2023-03-12T19:49:24.275Z"
   },
   {
    "duration": 155,
    "start_time": "2023-03-12T19:49:48.441Z"
   },
   {
    "duration": 351,
    "start_time": "2023-03-12T19:50:39.930Z"
   },
   {
    "duration": 29,
    "start_time": "2023-03-12T19:50:54.592Z"
   },
   {
    "duration": 132,
    "start_time": "2023-03-12T19:51:57.971Z"
   },
   {
    "duration": 124,
    "start_time": "2023-03-12T20:09:00.405Z"
   },
   {
    "duration": 517,
    "start_time": "2023-03-12T20:09:21.113Z"
   },
   {
    "duration": 141,
    "start_time": "2023-03-12T20:09:28.543Z"
   },
   {
    "duration": 409,
    "start_time": "2023-03-12T20:09:37.774Z"
   },
   {
    "duration": 410,
    "start_time": "2023-03-12T20:10:08.047Z"
   },
   {
    "duration": 14,
    "start_time": "2023-03-12T20:11:32.629Z"
   },
   {
    "duration": 14,
    "start_time": "2023-03-12T20:12:03.182Z"
   },
   {
    "duration": 363,
    "start_time": "2023-03-12T20:12:08.811Z"
   },
   {
    "duration": 15,
    "start_time": "2023-03-12T20:39:10.079Z"
   },
   {
    "duration": 27,
    "start_time": "2023-03-12T20:39:10.459Z"
   },
   {
    "duration": 1519,
    "start_time": "2023-03-13T16:24:33.178Z"
   },
   {
    "duration": 1454,
    "start_time": "2023-03-13T16:24:35.463Z"
   },
   {
    "duration": 22,
    "start_time": "2023-03-13T16:24:37.483Z"
   },
   {
    "duration": 5,
    "start_time": "2023-03-13T16:24:38.396Z"
   },
   {
    "duration": 190,
    "start_time": "2023-03-13T16:24:39.113Z"
   },
   {
    "duration": 1103,
    "start_time": "2023-03-13T16:24:43.696Z"
   },
   {
    "duration": 6,
    "start_time": "2023-03-13T16:24:44.804Z"
   },
   {
    "duration": 21,
    "start_time": "2023-03-13T16:24:58.291Z"
   },
   {
    "duration": 4,
    "start_time": "2023-03-13T16:24:58.713Z"
   },
   {
    "duration": 169,
    "start_time": "2023-03-13T16:25:01.024Z"
   },
   {
    "duration": 1123,
    "start_time": "2023-03-13T16:25:02.024Z"
   },
   {
    "duration": 4,
    "start_time": "2023-03-13T16:25:05.760Z"
   },
   {
    "duration": 4,
    "start_time": "2023-03-13T16:25:07.120Z"
   },
   {
    "duration": 5,
    "start_time": "2023-03-13T16:25:07.599Z"
   },
   {
    "duration": 571,
    "start_time": "2023-03-13T16:25:09.853Z"
   },
   {
    "duration": 12,
    "start_time": "2023-03-13T16:25:10.672Z"
   },
   {
    "duration": 42,
    "start_time": "2023-03-13T16:25:13.663Z"
   },
   {
    "duration": 238,
    "start_time": "2023-03-13T16:25:16.640Z"
   },
   {
    "duration": 301,
    "start_time": "2023-03-13T16:25:50.712Z"
   },
   {
    "duration": 111,
    "start_time": "2023-03-13T16:25:59.248Z"
   },
   {
    "duration": 23,
    "start_time": "2023-03-13T16:26:04.503Z"
   },
   {
    "duration": 49,
    "start_time": "2023-03-13T16:26:07.655Z"
   },
   {
    "duration": 112,
    "start_time": "2023-03-13T16:26:10.503Z"
   },
   {
    "duration": 40,
    "start_time": "2023-03-13T16:26:34.507Z"
   },
   {
    "duration": 29,
    "start_time": "2023-03-13T16:26:35.130Z"
   },
   {
    "duration": 32,
    "start_time": "2023-03-13T16:26:37.728Z"
   },
   {
    "duration": 35,
    "start_time": "2023-03-13T16:26:38.265Z"
   },
   {
    "duration": 103,
    "start_time": "2023-03-13T16:26:43.763Z"
   },
   {
    "duration": 62,
    "start_time": "2023-03-13T16:26:44.416Z"
   },
   {
    "duration": 114,
    "start_time": "2023-03-13T16:26:57.848Z"
   },
   {
    "duration": 41,
    "start_time": "2023-03-13T16:27:10.671Z"
   },
   {
    "duration": 54,
    "start_time": "2023-03-13T16:27:11.288Z"
   },
   {
    "duration": 100,
    "start_time": "2023-03-13T16:27:12.304Z"
   },
   {
    "duration": 38,
    "start_time": "2023-03-13T16:27:31.097Z"
   },
   {
    "duration": 157,
    "start_time": "2023-03-13T16:27:31.639Z"
   },
   {
    "duration": 120,
    "start_time": "2023-03-13T16:27:37.600Z"
   },
   {
    "duration": 5,
    "start_time": "2023-03-13T16:27:38.624Z"
   },
   {
    "duration": 463,
    "start_time": "2023-03-13T16:27:39.081Z"
   },
   {
    "duration": 200,
    "start_time": "2023-03-13T16:27:39.546Z"
   },
   {
    "duration": 13,
    "start_time": "2023-03-13T16:27:40.143Z"
   },
   {
    "duration": 22,
    "start_time": "2023-03-13T16:27:40.473Z"
   },
   {
    "duration": 17,
    "start_time": "2023-03-13T16:27:40.775Z"
   },
   {
    "duration": 17,
    "start_time": "2023-03-13T16:27:40.990Z"
   },
   {
    "duration": 26,
    "start_time": "2023-03-13T16:27:42.719Z"
   },
   {
    "duration": 96,
    "start_time": "2023-03-13T16:27:42.897Z"
   },
   {
    "duration": 4,
    "start_time": "2023-03-13T16:27:43.058Z"
   },
   {
    "duration": 37,
    "start_time": "2023-03-13T16:27:44.768Z"
   },
   {
    "duration": 220,
    "start_time": "2023-03-13T16:27:45.043Z"
   },
   {
    "duration": 184,
    "start_time": "2023-03-13T16:27:45.265Z"
   },
   {
    "duration": 287,
    "start_time": "2023-03-13T16:27:45.451Z"
   },
   {
    "duration": 166,
    "start_time": "2023-03-13T16:27:46.936Z"
   },
   {
    "duration": 1980,
    "start_time": "2023-03-13T16:27:47.107Z"
   },
   {
    "duration": 74,
    "start_time": "2023-03-13T16:27:49.089Z"
   },
   {
    "duration": 28,
    "start_time": "2023-03-13T16:27:49.164Z"
   },
   {
    "duration": 86,
    "start_time": "2023-03-13T16:27:49.632Z"
   },
   {
    "duration": 338,
    "start_time": "2023-03-13T16:27:49.847Z"
   },
   {
    "duration": 23,
    "start_time": "2023-03-13T16:27:51.127Z"
   },
   {
    "duration": 12,
    "start_time": "2023-03-13T16:27:51.406Z"
   },
   {
    "duration": 1721,
    "start_time": "2023-03-13T16:27:51.695Z"
   },
   {
    "duration": 8693,
    "start_time": "2023-03-13T16:27:53.418Z"
   },
   {
    "duration": 152,
    "start_time": "2023-03-13T16:28:02.114Z"
   },
   {
    "duration": 78,
    "start_time": "2023-03-13T16:28:02.269Z"
   },
   {
    "duration": 173,
    "start_time": "2023-03-13T16:28:02.350Z"
   },
   {
    "duration": 137,
    "start_time": "2023-03-13T16:28:02.526Z"
   },
   {
    "duration": 0,
    "start_time": "2023-03-13T16:28:02.665Z"
   },
   {
    "duration": 0,
    "start_time": "2023-03-13T16:28:02.667Z"
   },
   {
    "duration": 0,
    "start_time": "2023-03-13T16:28:02.669Z"
   },
   {
    "duration": 0,
    "start_time": "2023-03-13T16:28:02.678Z"
   },
   {
    "duration": 0,
    "start_time": "2023-03-13T16:28:02.679Z"
   },
   {
    "duration": 0,
    "start_time": "2023-03-13T16:28:02.680Z"
   },
   {
    "duration": 0,
    "start_time": "2023-03-13T16:28:02.683Z"
   },
   {
    "duration": 0,
    "start_time": "2023-03-13T16:28:02.684Z"
   },
   {
    "duration": 0,
    "start_time": "2023-03-13T16:28:02.686Z"
   },
   {
    "duration": 0,
    "start_time": "2023-03-13T16:28:02.687Z"
   },
   {
    "duration": 0,
    "start_time": "2023-03-13T16:28:02.689Z"
   },
   {
    "duration": 0,
    "start_time": "2023-03-13T16:28:02.690Z"
   },
   {
    "duration": 0,
    "start_time": "2023-03-13T16:28:02.691Z"
   },
   {
    "duration": 0,
    "start_time": "2023-03-13T16:28:02.692Z"
   },
   {
    "duration": 478,
    "start_time": "2023-03-13T16:28:07.694Z"
   },
   {
    "duration": 156,
    "start_time": "2023-03-13T16:28:16.807Z"
   },
   {
    "duration": 28,
    "start_time": "2023-03-13T16:28:34.671Z"
   },
   {
    "duration": 25,
    "start_time": "2023-03-13T16:29:14.524Z"
   },
   {
    "duration": 49,
    "start_time": "2023-03-13T16:29:19.483Z"
   },
   {
    "duration": 29,
    "start_time": "2023-03-13T16:29:25.375Z"
   },
   {
    "duration": 45,
    "start_time": "2023-03-13T16:30:09.376Z"
   },
   {
    "duration": 34,
    "start_time": "2023-03-13T16:31:36.728Z"
   },
   {
    "duration": 51,
    "start_time": "2023-03-13T16:31:45.394Z"
   },
   {
    "duration": 31,
    "start_time": "2023-03-13T16:31:58.513Z"
   },
   {
    "duration": 52,
    "start_time": "2023-03-13T16:32:52.815Z"
   },
   {
    "duration": 50,
    "start_time": "2023-03-13T16:37:39.725Z"
   },
   {
    "duration": 8,
    "start_time": "2023-03-13T16:37:46.262Z"
   },
   {
    "duration": 3,
    "start_time": "2023-03-13T16:40:01.061Z"
   },
   {
    "duration": 20,
    "start_time": "2023-03-13T16:40:05.117Z"
   },
   {
    "duration": 19,
    "start_time": "2023-03-13T16:40:11.654Z"
   },
   {
    "duration": 41,
    "start_time": "2023-03-13T16:41:58.805Z"
   },
   {
    "duration": 17,
    "start_time": "2023-03-13T16:42:34.049Z"
   },
   {
    "duration": 39,
    "start_time": "2023-03-13T16:42:40.630Z"
   },
   {
    "duration": 21,
    "start_time": "2023-03-13T16:43:27.655Z"
   },
   {
    "duration": 46,
    "start_time": "2023-03-13T16:44:09.504Z"
   },
   {
    "duration": 25,
    "start_time": "2023-03-13T16:44:13.578Z"
   },
   {
    "duration": 29,
    "start_time": "2023-03-13T16:49:09.219Z"
   },
   {
    "duration": 53,
    "start_time": "2023-03-13T16:49:21.996Z"
   },
   {
    "duration": 42,
    "start_time": "2023-03-13T16:49:46.374Z"
   },
   {
    "duration": 48,
    "start_time": "2023-03-13T16:50:29.814Z"
   },
   {
    "duration": 44,
    "start_time": "2023-03-13T16:50:30.724Z"
   },
   {
    "duration": 23,
    "start_time": "2023-03-13T16:50:35.804Z"
   },
   {
    "duration": 17,
    "start_time": "2023-03-13T16:51:12.053Z"
   },
   {
    "duration": 25,
    "start_time": "2023-03-13T16:51:12.959Z"
   },
   {
    "duration": 5,
    "start_time": "2023-03-13T16:51:35.392Z"
   },
   {
    "duration": 22,
    "start_time": "2023-03-13T16:51:36.032Z"
   },
   {
    "duration": 7,
    "start_time": "2023-03-13T16:52:09.564Z"
   },
   {
    "duration": 30,
    "start_time": "2023-03-13T16:52:48.865Z"
   },
   {
    "duration": 5,
    "start_time": "2023-03-13T16:52:55.548Z"
   },
   {
    "duration": 1048,
    "start_time": "2023-03-13T16:52:56.347Z"
   },
   {
    "duration": 17,
    "start_time": "2023-03-13T16:52:57.397Z"
   },
   {
    "duration": 5,
    "start_time": "2023-03-13T16:52:57.668Z"
   },
   {
    "duration": 169,
    "start_time": "2023-03-13T16:52:58.370Z"
   },
   {
    "duration": 1093,
    "start_time": "2023-03-13T16:52:59.300Z"
   },
   {
    "duration": 12,
    "start_time": "2023-03-13T16:53:01.474Z"
   },
   {
    "duration": 3,
    "start_time": "2023-03-13T16:53:04.231Z"
   },
   {
    "duration": 7,
    "start_time": "2023-03-13T16:53:04.295Z"
   },
   {
    "duration": 546,
    "start_time": "2023-03-13T16:53:04.556Z"
   },
   {
    "duration": 8,
    "start_time": "2023-03-13T16:53:06.296Z"
   },
   {
    "duration": 17,
    "start_time": "2023-03-13T16:53:06.690Z"
   },
   {
    "duration": 228,
    "start_time": "2023-03-13T16:53:07.205Z"
   },
   {
    "duration": 95,
    "start_time": "2023-03-13T16:53:07.818Z"
   },
   {
    "duration": 22,
    "start_time": "2023-03-13T16:53:08.143Z"
   },
   {
    "duration": 44,
    "start_time": "2023-03-13T16:53:11.541Z"
   },
   {
    "duration": 34,
    "start_time": "2023-03-13T16:53:12.655Z"
   },
   {
    "duration": 103,
    "start_time": "2023-03-13T16:53:12.991Z"
   },
   {
    "duration": 49,
    "start_time": "2023-03-13T16:53:13.993Z"
   },
   {
    "duration": 20,
    "start_time": "2023-03-13T16:53:15.220Z"
   },
   {
    "duration": 69,
    "start_time": "2023-03-13T16:53:15.330Z"
   },
   {
    "duration": 33,
    "start_time": "2023-03-13T16:53:17.091Z"
   },
   {
    "duration": 21,
    "start_time": "2023-03-13T16:53:17.351Z"
   },
   {
    "duration": 25,
    "start_time": "2023-03-13T16:53:18.623Z"
   },
   {
    "duration": 107,
    "start_time": "2023-03-13T16:53:18.827Z"
   },
   {
    "duration": 27,
    "start_time": "2023-03-13T16:53:19.408Z"
   },
   {
    "duration": 23,
    "start_time": "2023-03-13T16:53:20.221Z"
   },
   {
    "duration": 112,
    "start_time": "2023-03-13T16:53:20.655Z"
   },
   {
    "duration": 36,
    "start_time": "2023-03-13T16:53:23.407Z"
   },
   {
    "duration": 22,
    "start_time": "2023-03-13T16:53:23.843Z"
   },
   {
    "duration": 23,
    "start_time": "2023-03-13T16:53:24.518Z"
   },
   {
    "duration": 52,
    "start_time": "2023-03-13T16:53:24.692Z"
   },
   {
    "duration": 113,
    "start_time": "2023-03-13T16:53:27.488Z"
   },
   {
    "duration": 404,
    "start_time": "2023-03-13T16:53:27.692Z"
   },
   {
    "duration": 5,
    "start_time": "2023-03-13T16:53:28.271Z"
   },
   {
    "duration": 120,
    "start_time": "2023-03-13T16:53:32.791Z"
   },
   {
    "duration": 3,
    "start_time": "2023-03-13T16:53:58.669Z"
   },
   {
    "duration": 967,
    "start_time": "2023-03-13T16:53:59.007Z"
   },
   {
    "duration": 20,
    "start_time": "2023-03-13T16:53:59.978Z"
   },
   {
    "duration": 30,
    "start_time": "2023-03-13T16:54:00.000Z"
   },
   {
    "duration": 191,
    "start_time": "2023-03-13T16:54:00.032Z"
   },
   {
    "duration": 1070,
    "start_time": "2023-03-13T16:54:00.408Z"
   },
   {
    "duration": 12,
    "start_time": "2023-03-13T16:54:01.482Z"
   },
   {
    "duration": 4,
    "start_time": "2023-03-13T16:54:01.728Z"
   },
   {
    "duration": 5,
    "start_time": "2023-03-13T16:54:03.809Z"
   },
   {
    "duration": 499,
    "start_time": "2023-03-13T16:54:04.048Z"
   },
   {
    "duration": 8,
    "start_time": "2023-03-13T16:54:04.550Z"
   },
   {
    "duration": 23,
    "start_time": "2023-03-13T16:54:04.871Z"
   },
   {
    "duration": 202,
    "start_time": "2023-03-13T16:54:07.254Z"
   },
   {
    "duration": 102,
    "start_time": "2023-03-13T16:54:07.768Z"
   },
   {
    "duration": 22,
    "start_time": "2023-03-13T16:54:10.607Z"
   },
   {
    "duration": 39,
    "start_time": "2023-03-13T16:54:12.816Z"
   },
   {
    "duration": 38,
    "start_time": "2023-03-13T16:54:13.877Z"
   },
   {
    "duration": 100,
    "start_time": "2023-03-13T16:54:14.971Z"
   },
   {
    "duration": 41,
    "start_time": "2023-03-13T16:54:15.251Z"
   },
   {
    "duration": 23,
    "start_time": "2023-03-13T16:54:18.773Z"
   },
   {
    "duration": 12,
    "start_time": "2023-03-13T16:54:45.196Z"
   },
   {
    "duration": 12,
    "start_time": "2023-03-13T16:54:57.516Z"
   },
   {
    "duration": 13,
    "start_time": "2023-03-13T16:55:01.308Z"
   },
   {
    "duration": 69,
    "start_time": "2023-03-13T16:55:02.157Z"
   },
   {
    "duration": 38,
    "start_time": "2023-03-13T16:55:03.787Z"
   },
   {
    "duration": 15,
    "start_time": "2023-03-13T16:55:06.093Z"
   },
   {
    "duration": 13,
    "start_time": "2023-03-13T16:56:24.236Z"
   },
   {
    "duration": 20,
    "start_time": "2023-03-13T16:56:26.997Z"
   },
   {
    "duration": 858,
    "start_time": "2023-03-13T16:56:52.496Z"
   },
   {
    "duration": 927,
    "start_time": "2023-03-13T16:57:03.194Z"
   },
   {
    "duration": 16,
    "start_time": "2023-03-13T16:57:04.123Z"
   },
   {
    "duration": 14,
    "start_time": "2023-03-13T16:57:04.141Z"
   },
   {
    "duration": 146,
    "start_time": "2023-03-13T16:57:04.550Z"
   },
   {
    "duration": 1043,
    "start_time": "2023-03-13T16:57:05.252Z"
   },
   {
    "duration": 5,
    "start_time": "2023-03-13T16:57:08.427Z"
   },
   {
    "duration": 4,
    "start_time": "2023-03-13T16:57:09.627Z"
   },
   {
    "duration": 5,
    "start_time": "2023-03-13T16:57:10.004Z"
   },
   {
    "duration": 505,
    "start_time": "2023-03-13T16:57:11.095Z"
   },
   {
    "duration": 9,
    "start_time": "2023-03-13T16:57:13.637Z"
   },
   {
    "duration": 16,
    "start_time": "2023-03-13T16:57:15.411Z"
   },
   {
    "duration": 195,
    "start_time": "2023-03-13T16:57:17.509Z"
   },
   {
    "duration": 120,
    "start_time": "2023-03-13T16:57:19.572Z"
   },
   {
    "duration": 23,
    "start_time": "2023-03-13T16:57:21.099Z"
   },
   {
    "duration": 37,
    "start_time": "2023-03-13T16:57:21.392Z"
   },
   {
    "duration": 22,
    "start_time": "2023-03-13T16:57:24.204Z"
   },
   {
    "duration": 114,
    "start_time": "2023-03-13T16:57:24.717Z"
   },
   {
    "duration": 36,
    "start_time": "2023-03-13T16:57:26.516Z"
   },
   {
    "duration": 15,
    "start_time": "2023-03-13T16:57:40.620Z"
   },
   {
    "duration": 3,
    "start_time": "2023-03-13T16:58:06.342Z"
   },
   {
    "duration": 10,
    "start_time": "2023-03-13T16:58:07.523Z"
   },
   {
    "duration": 14,
    "start_time": "2023-03-13T16:58:28.077Z"
   },
   {
    "duration": 13,
    "start_time": "2023-03-13T16:58:29.099Z"
   },
   {
    "duration": 66,
    "start_time": "2023-03-13T16:58:47.743Z"
   },
   {
    "duration": 18,
    "start_time": "2023-03-13T16:59:00.423Z"
   },
   {
    "duration": 43,
    "start_time": "2023-03-13T16:59:36.755Z"
   },
   {
    "duration": 6,
    "start_time": "2023-03-13T16:59:43.443Z"
   },
   {
    "duration": 14,
    "start_time": "2023-03-13T16:59:43.944Z"
   },
   {
    "duration": 13,
    "start_time": "2023-03-13T16:59:58.820Z"
   },
   {
    "duration": 15,
    "start_time": "2023-03-13T17:00:15.613Z"
   },
   {
    "duration": 32,
    "start_time": "2023-03-13T17:05:13.803Z"
   },
   {
    "duration": 11,
    "start_time": "2023-03-13T17:05:14.452Z"
   },
   {
    "duration": 78,
    "start_time": "2023-03-13T17:05:14.739Z"
   },
   {
    "duration": 66,
    "start_time": "2023-03-13T17:05:15.348Z"
   },
   {
    "duration": 19,
    "start_time": "2023-03-13T17:05:16.795Z"
   },
   {
    "duration": 9,
    "start_time": "2023-03-13T17:05:35.523Z"
   },
   {
    "duration": 92,
    "start_time": "2023-03-13T17:06:36.748Z"
   },
   {
    "duration": 11,
    "start_time": "2023-03-13T17:06:45.443Z"
   },
   {
    "duration": 13,
    "start_time": "2023-03-13T17:07:27.591Z"
   },
   {
    "duration": 4,
    "start_time": "2023-03-13T17:07:34.900Z"
   },
   {
    "duration": 899,
    "start_time": "2023-03-13T17:07:35.226Z"
   },
   {
    "duration": 16,
    "start_time": "2023-03-13T17:07:36.127Z"
   },
   {
    "duration": 6,
    "start_time": "2023-03-13T17:07:36.145Z"
   },
   {
    "duration": 175,
    "start_time": "2023-03-13T17:07:36.153Z"
   },
   {
    "duration": 1013,
    "start_time": "2023-03-13T17:07:36.330Z"
   },
   {
    "duration": 5,
    "start_time": "2023-03-13T17:07:37.344Z"
   },
   {
    "duration": 4,
    "start_time": "2023-03-13T17:07:43.693Z"
   },
   {
    "duration": 5,
    "start_time": "2023-03-13T17:07:43.846Z"
   },
   {
    "duration": 505,
    "start_time": "2023-03-13T17:07:44.229Z"
   },
   {
    "duration": 21,
    "start_time": "2023-03-13T17:07:44.736Z"
   },
   {
    "duration": 23,
    "start_time": "2023-03-13T17:07:45.392Z"
   },
   {
    "duration": 205,
    "start_time": "2023-03-13T17:07:48.208Z"
   },
   {
    "duration": 108,
    "start_time": "2023-03-13T17:07:49.454Z"
   },
   {
    "duration": 24,
    "start_time": "2023-03-13T17:07:52.303Z"
   },
   {
    "duration": 42,
    "start_time": "2023-03-13T17:07:52.620Z"
   },
   {
    "duration": 29,
    "start_time": "2023-03-13T17:07:53.471Z"
   },
   {
    "duration": 96,
    "start_time": "2023-03-13T17:07:54.038Z"
   },
   {
    "duration": 51,
    "start_time": "2023-03-13T17:07:56.843Z"
   },
   {
    "duration": 21,
    "start_time": "2023-03-13T17:07:58.410Z"
   },
   {
    "duration": 931,
    "start_time": "2023-03-13T17:08:05.577Z"
   },
   {
    "duration": 0,
    "start_time": "2023-03-13T17:08:06.511Z"
   },
   {
    "duration": 66,
    "start_time": "2023-03-13T17:08:23.945Z"
   },
   {
    "duration": 64,
    "start_time": "2023-03-13T17:08:28.651Z"
   },
   {
    "duration": 57,
    "start_time": "2023-03-13T17:08:43.315Z"
   },
   {
    "duration": 13,
    "start_time": "2023-03-13T17:09:01.322Z"
   },
   {
    "duration": 88,
    "start_time": "2023-03-13T17:09:17.827Z"
   },
   {
    "duration": 26,
    "start_time": "2023-03-13T17:09:23.071Z"
   },
   {
    "duration": 11,
    "start_time": "2023-03-13T17:09:29.638Z"
   },
   {
    "duration": 59,
    "start_time": "2023-03-13T17:10:14.639Z"
   },
   {
    "duration": 14,
    "start_time": "2023-03-13T17:10:23.226Z"
   },
   {
    "duration": 16,
    "start_time": "2023-03-13T17:12:15.230Z"
   },
   {
    "duration": 12,
    "start_time": "2023-03-13T17:12:54.699Z"
   },
   {
    "duration": 8,
    "start_time": "2023-03-13T17:13:22.956Z"
   },
   {
    "duration": 42,
    "start_time": "2023-03-13T17:14:41.799Z"
   },
   {
    "duration": 17,
    "start_time": "2023-03-13T17:14:47.471Z"
   },
   {
    "duration": 11,
    "start_time": "2023-03-13T17:16:44.690Z"
   },
   {
    "duration": 68,
    "start_time": "2023-03-13T17:17:44.442Z"
   },
   {
    "duration": 7,
    "start_time": "2023-03-13T17:17:50.937Z"
   },
   {
    "duration": 90,
    "start_time": "2023-03-13T17:18:08.657Z"
   },
   {
    "duration": 10,
    "start_time": "2023-03-13T17:19:01.819Z"
   },
   {
    "duration": 10,
    "start_time": "2023-03-13T17:19:05.546Z"
   },
   {
    "duration": 904,
    "start_time": "2023-03-13T17:30:26.327Z"
   },
   {
    "duration": 10,
    "start_time": "2023-03-13T17:32:07.022Z"
   },
   {
    "duration": 879,
    "start_time": "2023-03-13T17:32:15.585Z"
   },
   {
    "duration": 938,
    "start_time": "2023-03-13T17:32:30.554Z"
   },
   {
    "duration": 16,
    "start_time": "2023-03-13T17:32:31.497Z"
   },
   {
    "duration": 17,
    "start_time": "2023-03-13T17:32:36.474Z"
   },
   {
    "duration": 177,
    "start_time": "2023-03-13T17:32:36.687Z"
   },
   {
    "duration": 1067,
    "start_time": "2023-03-13T17:32:39.447Z"
   },
   {
    "duration": 4,
    "start_time": "2023-03-13T17:32:40.516Z"
   },
   {
    "duration": 6,
    "start_time": "2023-03-13T17:32:44.280Z"
   },
   {
    "duration": 6,
    "start_time": "2023-03-13T17:32:44.550Z"
   },
   {
    "duration": 454,
    "start_time": "2023-03-13T17:32:47.407Z"
   },
   {
    "duration": 8,
    "start_time": "2023-03-13T17:32:47.900Z"
   },
   {
    "duration": 21,
    "start_time": "2023-03-13T17:32:48.983Z"
   },
   {
    "duration": 214,
    "start_time": "2023-03-13T17:32:49.584Z"
   },
   {
    "duration": 112,
    "start_time": "2023-03-13T17:32:52.544Z"
   },
   {
    "duration": 32,
    "start_time": "2023-03-13T17:32:57.969Z"
   },
   {
    "duration": 40,
    "start_time": "2023-03-13T17:32:58.147Z"
   },
   {
    "duration": 26,
    "start_time": "2023-03-13T17:33:00.584Z"
   },
   {
    "duration": 99,
    "start_time": "2023-03-13T17:33:00.935Z"
   },
   {
    "duration": 791,
    "start_time": "2023-03-13T17:33:25.719Z"
   },
   {
    "duration": 852,
    "start_time": "2023-03-13T17:34:24.751Z"
   },
   {
    "duration": 35,
    "start_time": "2023-03-13T17:34:43.579Z"
   },
   {
    "duration": 98,
    "start_time": "2023-03-13T17:35:00.142Z"
   },
   {
    "duration": 393,
    "start_time": "2023-03-13T17:35:00.656Z"
   },
   {
    "duration": 5,
    "start_time": "2023-03-13T17:35:01.319Z"
   },
   {
    "duration": 4,
    "start_time": "2023-03-13T17:35:04.094Z"
   },
   {
    "duration": 5,
    "start_time": "2023-03-13T17:35:04.447Z"
   },
   {
    "duration": 224,
    "start_time": "2023-03-13T17:35:07.623Z"
   },
   {
    "duration": 1008,
    "start_time": "2023-03-13T17:35:07.849Z"
   },
   {
    "duration": 980,
    "start_time": "2023-03-13T17:35:22.413Z"
   },
   {
    "duration": 17,
    "start_time": "2023-03-13T17:35:23.396Z"
   },
   {
    "duration": 16,
    "start_time": "2023-03-13T17:35:23.415Z"
   },
   {
    "duration": 182,
    "start_time": "2023-03-13T17:35:23.433Z"
   },
   {
    "duration": 1066,
    "start_time": "2023-03-13T17:35:23.692Z"
   },
   {
    "duration": 4,
    "start_time": "2023-03-13T17:35:24.760Z"
   },
   {
    "duration": 4,
    "start_time": "2023-03-13T17:35:24.875Z"
   },
   {
    "duration": 4,
    "start_time": "2023-03-13T17:35:25.199Z"
   },
   {
    "duration": 479,
    "start_time": "2023-03-13T17:35:25.389Z"
   },
   {
    "duration": 22,
    "start_time": "2023-03-13T17:35:25.870Z"
   },
   {
    "duration": 17,
    "start_time": "2023-03-13T17:35:30.126Z"
   },
   {
    "duration": 14,
    "start_time": "2023-03-13T17:36:00.937Z"
   },
   {
    "duration": 86,
    "start_time": "2023-03-13T17:36:08.231Z"
   },
   {
    "duration": 19,
    "start_time": "2023-03-13T17:36:21.119Z"
   },
   {
    "duration": 89,
    "start_time": "2023-03-13T17:36:44.143Z"
   },
   {
    "duration": 23,
    "start_time": "2023-03-13T17:36:44.991Z"
   },
   {
    "duration": 94,
    "start_time": "2023-03-13T17:37:38.976Z"
   },
   {
    "duration": 7,
    "start_time": "2023-03-13T17:37:39.397Z"
   },
   {
    "duration": 172,
    "start_time": "2023-03-13T17:42:44.378Z"
   },
   {
    "duration": 30,
    "start_time": "2023-03-13T17:42:48.071Z"
   },
   {
    "duration": 15,
    "start_time": "2023-03-13T17:43:02.854Z"
   },
   {
    "duration": 25,
    "start_time": "2023-03-13T17:43:03.504Z"
   },
   {
    "duration": 31,
    "start_time": "2023-03-13T17:43:09.393Z"
   },
   {
    "duration": 21,
    "start_time": "2023-03-13T17:43:09.993Z"
   },
   {
    "duration": 43,
    "start_time": "2023-03-13T17:43:35.996Z"
   },
   {
    "duration": 32,
    "start_time": "2023-03-13T17:43:38.196Z"
   },
   {
    "duration": 38,
    "start_time": "2023-03-13T17:43:50.796Z"
   },
   {
    "duration": 20,
    "start_time": "2023-03-13T17:43:51.534Z"
   },
   {
    "duration": 65,
    "start_time": "2023-03-13T17:59:28.006Z"
   },
   {
    "duration": 311,
    "start_time": "2023-03-13T17:59:35.791Z"
   },
   {
    "duration": 31,
    "start_time": "2023-03-13T18:01:24.902Z"
   },
   {
    "duration": 58,
    "start_time": "2023-03-13T18:02:07.951Z"
   },
   {
    "duration": 22,
    "start_time": "2023-03-13T18:03:23.690Z"
   },
   {
    "duration": 88,
    "start_time": "2023-03-13T18:03:24.963Z"
   },
   {
    "duration": 24,
    "start_time": "2023-03-13T18:03:47.100Z"
   },
   {
    "duration": 5,
    "start_time": "2023-03-13T18:05:18.401Z"
   },
   {
    "duration": 4,
    "start_time": "2023-03-13T18:05:18.720Z"
   },
   {
    "duration": 5,
    "start_time": "2023-03-13T18:05:18.901Z"
   },
   {
    "duration": 210,
    "start_time": "2023-03-13T18:05:19.046Z"
   },
   {
    "duration": 1061,
    "start_time": "2023-03-13T18:05:19.259Z"
   },
   {
    "duration": 0,
    "start_time": "2023-03-13T18:05:20.323Z"
   },
   {
    "duration": 0,
    "start_time": "2023-03-13T18:05:20.324Z"
   },
   {
    "duration": 112,
    "start_time": "2023-03-13T18:05:20.444Z"
   },
   {
    "duration": 30,
    "start_time": "2023-03-13T18:05:20.804Z"
   },
   {
    "duration": 69,
    "start_time": "2023-03-13T18:05:20.991Z"
   },
   {
    "duration": 36,
    "start_time": "2023-03-13T18:05:21.501Z"
   },
   {
    "duration": 114,
    "start_time": "2023-03-13T18:05:21.703Z"
   },
   {
    "duration": 12,
    "start_time": "2023-03-13T18:05:21.902Z"
   },
   {
    "duration": 42,
    "start_time": "2023-03-13T18:05:22.252Z"
   },
   {
    "duration": 58,
    "start_time": "2023-03-13T18:05:22.448Z"
   },
   {
    "duration": 39,
    "start_time": "2023-03-13T18:05:22.631Z"
   },
   {
    "duration": 38,
    "start_time": "2023-03-13T18:05:22.821Z"
   },
   {
    "duration": 137,
    "start_time": "2023-03-13T18:05:23.015Z"
   },
   {
    "duration": 23,
    "start_time": "2023-03-13T18:05:23.524Z"
   },
   {
    "duration": 41,
    "start_time": "2023-03-13T18:05:23.709Z"
   },
   {
    "duration": 82,
    "start_time": "2023-03-13T18:05:23.907Z"
   },
   {
    "duration": 437,
    "start_time": "2023-03-13T18:05:24.098Z"
   },
   {
    "duration": 5,
    "start_time": "2023-03-13T18:05:24.537Z"
   },
   {
    "duration": 121,
    "start_time": "2023-03-13T18:05:24.544Z"
   },
   {
    "duration": 4,
    "start_time": "2023-03-13T18:05:26.550Z"
   },
   {
    "duration": 635,
    "start_time": "2023-03-13T18:05:26.709Z"
   },
   {
    "duration": 176,
    "start_time": "2023-03-13T18:05:27.346Z"
   },
   {
    "duration": 16,
    "start_time": "2023-03-13T18:05:27.525Z"
   },
   {
    "duration": 14,
    "start_time": "2023-03-13T18:05:27.544Z"
   },
   {
    "duration": 11,
    "start_time": "2023-03-13T18:05:27.919Z"
   },
   {
    "duration": 12,
    "start_time": "2023-03-13T18:05:28.294Z"
   },
   {
    "duration": 30,
    "start_time": "2023-03-13T18:05:28.608Z"
   },
   {
    "duration": 62,
    "start_time": "2023-03-13T18:05:28.935Z"
   },
   {
    "duration": 4,
    "start_time": "2023-03-13T18:05:29.096Z"
   },
   {
    "duration": 35,
    "start_time": "2023-03-13T18:05:29.293Z"
   },
   {
    "duration": 275,
    "start_time": "2023-03-13T18:05:30.843Z"
   },
   {
    "duration": 228,
    "start_time": "2023-03-13T18:05:31.121Z"
   },
   {
    "duration": 313,
    "start_time": "2023-03-13T18:05:31.351Z"
   },
   {
    "duration": 186,
    "start_time": "2023-03-13T18:05:31.666Z"
   },
   {
    "duration": 2142,
    "start_time": "2023-03-13T18:05:31.856Z"
   },
   {
    "duration": 43,
    "start_time": "2023-03-13T18:05:34.001Z"
   },
   {
    "duration": 32,
    "start_time": "2023-03-13T18:05:34.046Z"
   },
   {
    "duration": 58,
    "start_time": "2023-03-13T18:05:34.084Z"
   },
   {
    "duration": 475,
    "start_time": "2023-03-13T18:05:34.145Z"
   },
   {
    "duration": 18,
    "start_time": "2023-03-13T18:05:34.622Z"
   },
   {
    "duration": 17,
    "start_time": "2023-03-13T18:05:34.988Z"
   },
   {
    "duration": 1659,
    "start_time": "2023-03-13T18:05:36.406Z"
   },
   {
    "duration": 9175,
    "start_time": "2023-03-13T18:05:38.067Z"
   },
   {
    "duration": 162,
    "start_time": "2023-03-13T18:05:47.244Z"
   },
   {
    "duration": 48,
    "start_time": "2023-03-13T18:05:47.408Z"
   },
   {
    "duration": 160,
    "start_time": "2023-03-13T18:05:47.461Z"
   },
   {
    "duration": 3816,
    "start_time": "2023-03-13T18:05:47.623Z"
   },
   {
    "duration": 223,
    "start_time": "2023-03-13T18:05:51.441Z"
   },
   {
    "duration": 192,
    "start_time": "2023-03-13T18:05:51.666Z"
   },
   {
    "duration": 20,
    "start_time": "2023-03-13T18:05:51.860Z"
   },
   {
    "duration": 51,
    "start_time": "2023-03-13T18:05:51.889Z"
   },
   {
    "duration": 151,
    "start_time": "2023-03-13T18:05:51.942Z"
   },
   {
    "duration": 38,
    "start_time": "2023-03-13T18:05:52.095Z"
   },
   {
    "duration": 215,
    "start_time": "2023-03-13T18:05:52.135Z"
   },
   {
    "duration": 49,
    "start_time": "2023-03-13T18:05:52.351Z"
   },
   {
    "duration": 26,
    "start_time": "2023-03-13T18:05:52.403Z"
   },
   {
    "duration": 807,
    "start_time": "2023-03-13T18:05:53.592Z"
   },
   {
    "duration": 0,
    "start_time": "2023-03-13T18:05:54.401Z"
   },
   {
    "duration": 0,
    "start_time": "2023-03-13T18:05:54.404Z"
   },
   {
    "duration": 0,
    "start_time": "2023-03-13T18:05:54.406Z"
   },
   {
    "duration": 575,
    "start_time": "2023-03-13T18:06:05.787Z"
   },
   {
    "duration": 57,
    "start_time": "2023-03-13T18:06:06.365Z"
   },
   {
    "duration": 147,
    "start_time": "2023-03-13T18:06:06.540Z"
   },
   {
    "duration": 8,
    "start_time": "2023-03-13T18:06:27.696Z"
   },
   {
    "duration": 6,
    "start_time": "2023-03-13T18:06:34.716Z"
   },
   {
    "duration": 11,
    "start_time": "2023-03-13T18:07:06.386Z"
   },
   {
    "duration": 23,
    "start_time": "2023-03-13T18:07:43.235Z"
   },
   {
    "duration": 4,
    "start_time": "2023-03-13T18:09:15.933Z"
   },
   {
    "duration": 896,
    "start_time": "2023-03-13T18:09:16.252Z"
   },
   {
    "duration": 35,
    "start_time": "2023-03-13T18:09:17.150Z"
   },
   {
    "duration": 14,
    "start_time": "2023-03-13T18:09:17.191Z"
   },
   {
    "duration": 162,
    "start_time": "2023-03-13T18:09:17.208Z"
   },
   {
    "duration": 1167,
    "start_time": "2023-03-13T18:09:17.372Z"
   },
   {
    "duration": 5,
    "start_time": "2023-03-13T18:09:18.542Z"
   },
   {
    "duration": 15,
    "start_time": "2023-03-13T18:09:18.549Z"
   },
   {
    "duration": 43,
    "start_time": "2023-03-13T18:09:18.565Z"
   },
   {
    "duration": 580,
    "start_time": "2023-03-13T18:09:18.611Z"
   },
   {
    "duration": 12,
    "start_time": "2023-03-13T18:09:19.194Z"
   },
   {
    "duration": 28,
    "start_time": "2023-03-13T18:09:19.207Z"
   },
   {
    "duration": 213,
    "start_time": "2023-03-13T18:09:19.237Z"
   },
   {
    "duration": 109,
    "start_time": "2023-03-13T18:09:19.453Z"
   },
   {
    "duration": 40,
    "start_time": "2023-03-13T18:09:21.401Z"
   },
   {
    "duration": 65,
    "start_time": "2023-03-13T18:09:21.585Z"
   },
   {
    "duration": 27,
    "start_time": "2023-03-13T18:09:21.903Z"
   },
   {
    "duration": 170,
    "start_time": "2023-03-13T18:09:22.072Z"
   },
   {
    "duration": 61,
    "start_time": "2023-03-13T18:09:22.244Z"
   },
   {
    "duration": 33,
    "start_time": "2023-03-13T18:09:22.539Z"
   },
   {
    "duration": 72,
    "start_time": "2023-03-13T18:09:22.722Z"
   },
   {
    "duration": 42,
    "start_time": "2023-03-13T18:09:22.890Z"
   },
   {
    "duration": 21,
    "start_time": "2023-03-13T18:09:23.022Z"
   },
   {
    "duration": 112,
    "start_time": "2023-03-13T18:09:23.199Z"
   },
   {
    "duration": 24,
    "start_time": "2023-03-13T18:09:23.508Z"
   },
   {
    "duration": 46,
    "start_time": "2023-03-13T18:09:23.681Z"
   },
   {
    "duration": 103,
    "start_time": "2023-03-13T18:09:23.852Z"
   },
   {
    "duration": 398,
    "start_time": "2023-03-13T18:09:24.025Z"
   },
   {
    "duration": 6,
    "start_time": "2023-03-13T18:09:24.425Z"
   },
   {
    "duration": 123,
    "start_time": "2023-03-13T18:09:24.432Z"
   },
   {
    "duration": 8,
    "start_time": "2023-03-13T18:09:26.287Z"
   },
   {
    "duration": 386,
    "start_time": "2023-03-13T18:09:26.895Z"
   },
   {
    "duration": 199,
    "start_time": "2023-03-13T18:09:27.287Z"
   },
   {
    "duration": 14,
    "start_time": "2023-03-13T18:09:27.507Z"
   },
   {
    "duration": 15,
    "start_time": "2023-03-13T18:09:27.678Z"
   },
   {
    "duration": 10,
    "start_time": "2023-03-13T18:09:27.829Z"
   },
   {
    "duration": 14,
    "start_time": "2023-03-13T18:09:27.975Z"
   },
   {
    "duration": 27,
    "start_time": "2023-03-13T18:09:29.643Z"
   },
   {
    "duration": 74,
    "start_time": "2023-03-13T18:09:29.811Z"
   },
   {
    "duration": 6,
    "start_time": "2023-03-13T18:09:29.990Z"
   },
   {
    "duration": 35,
    "start_time": "2023-03-13T18:09:30.118Z"
   },
   {
    "duration": 235,
    "start_time": "2023-03-13T18:09:31.490Z"
   },
   {
    "duration": 188,
    "start_time": "2023-03-13T18:09:31.727Z"
   },
   {
    "duration": 345,
    "start_time": "2023-03-13T18:09:31.918Z"
   },
   {
    "duration": 138,
    "start_time": "2023-03-13T18:09:33.413Z"
   },
   {
    "duration": 2148,
    "start_time": "2023-03-13T18:09:33.588Z"
   },
   {
    "duration": 65,
    "start_time": "2023-03-13T18:09:35.739Z"
   },
   {
    "duration": 14,
    "start_time": "2023-03-13T18:09:35.807Z"
   },
   {
    "duration": 78,
    "start_time": "2023-03-13T18:09:35.823Z"
   },
   {
    "duration": 334,
    "start_time": "2023-03-13T18:09:35.903Z"
   },
   {
    "duration": 27,
    "start_time": "2023-03-13T18:09:36.670Z"
   },
   {
    "duration": 14,
    "start_time": "2023-03-13T18:09:37.628Z"
   },
   {
    "duration": 1846,
    "start_time": "2023-03-13T18:09:39.796Z"
   },
   {
    "duration": 9105,
    "start_time": "2023-03-13T18:09:41.645Z"
   },
   {
    "duration": 173,
    "start_time": "2023-03-13T18:09:50.752Z"
   },
   {
    "duration": 65,
    "start_time": "2023-03-13T18:09:50.927Z"
   },
   {
    "duration": 151,
    "start_time": "2023-03-13T18:09:50.994Z"
   },
   {
    "duration": 238,
    "start_time": "2023-03-13T18:09:51.147Z"
   },
   {
    "duration": 168,
    "start_time": "2023-03-13T18:09:51.387Z"
   },
   {
    "duration": 28,
    "start_time": "2023-03-13T18:09:51.557Z"
   },
   {
    "duration": 50,
    "start_time": "2023-03-13T18:09:51.597Z"
   },
   {
    "duration": 150,
    "start_time": "2023-03-13T18:09:51.650Z"
   },
   {
    "duration": 34,
    "start_time": "2023-03-13T18:09:51.804Z"
   },
   {
    "duration": 218,
    "start_time": "2023-03-13T18:09:51.840Z"
   },
   {
    "duration": 47,
    "start_time": "2023-03-13T18:09:52.060Z"
   },
   {
    "duration": 519,
    "start_time": "2023-03-13T18:09:52.628Z"
   },
   {
    "duration": 32,
    "start_time": "2023-03-13T18:09:55.251Z"
   },
   {
    "duration": 138,
    "start_time": "2023-03-13T18:09:58.014Z"
   },
   {
    "duration": 17,
    "start_time": "2023-03-13T18:10:01.039Z"
   },
   {
    "duration": 7,
    "start_time": "2023-03-13T18:10:24.388Z"
   },
   {
    "duration": 16,
    "start_time": "2023-03-13T18:10:29.375Z"
   },
   {
    "duration": 24,
    "start_time": "2023-03-13T18:10:43.099Z"
   },
   {
    "duration": 114,
    "start_time": "2023-03-13T18:10:43.579Z"
   },
   {
    "duration": 8,
    "start_time": "2023-03-13T18:10:46.516Z"
   },
   {
    "duration": 28,
    "start_time": "2023-03-13T18:10:49.598Z"
   },
   {
    "duration": 7,
    "start_time": "2023-03-13T18:11:24.628Z"
   },
   {
    "duration": 20,
    "start_time": "2023-03-13T18:11:47.828Z"
   },
   {
    "duration": 12,
    "start_time": "2023-03-13T18:12:38.116Z"
   },
   {
    "duration": 3,
    "start_time": "2023-03-13T18:13:01.000Z"
   },
   {
    "duration": 12,
    "start_time": "2023-03-13T18:13:01.596Z"
   },
   {
    "duration": 4,
    "start_time": "2023-03-13T18:13:23.547Z"
   },
   {
    "duration": 12,
    "start_time": "2023-03-13T18:13:30.050Z"
   },
   {
    "duration": 12,
    "start_time": "2023-03-13T18:14:08.004Z"
   },
   {
    "duration": 2,
    "start_time": "2023-03-13T18:15:19.404Z"
   },
   {
    "duration": 36,
    "start_time": "2023-03-13T18:15:19.931Z"
   },
   {
    "duration": 38,
    "start_time": "2023-03-13T18:15:34.695Z"
   },
   {
    "duration": 33,
    "start_time": "2023-03-13T18:15:57.116Z"
   },
   {
    "duration": 22,
    "start_time": "2023-03-13T18:16:06.714Z"
   },
   {
    "duration": 13,
    "start_time": "2023-03-13T18:17:01.931Z"
   },
   {
    "duration": 25,
    "start_time": "2023-03-13T18:17:56.304Z"
   },
   {
    "duration": 11,
    "start_time": "2023-03-13T18:19:13.092Z"
   },
   {
    "duration": 10,
    "start_time": "2023-03-13T18:19:17.701Z"
   },
   {
    "duration": 5,
    "start_time": "2023-03-13T18:19:37.043Z"
   },
   {
    "duration": 10,
    "start_time": "2023-03-13T18:23:57.312Z"
   },
   {
    "duration": 11,
    "start_time": "2023-03-13T18:24:10.486Z"
   },
   {
    "duration": 5,
    "start_time": "2023-03-13T18:24:14.201Z"
   },
   {
    "duration": 845,
    "start_time": "2023-03-13T18:24:34.428Z"
   },
   {
    "duration": 19,
    "start_time": "2023-03-13T18:24:53.707Z"
   },
   {
    "duration": 861,
    "start_time": "2023-03-13T18:25:32.130Z"
   },
   {
    "duration": 807,
    "start_time": "2023-03-13T18:25:48.545Z"
   },
   {
    "duration": 810,
    "start_time": "2023-03-13T18:26:17.892Z"
   },
   {
    "duration": 813,
    "start_time": "2023-03-13T18:26:44.696Z"
   },
   {
    "duration": 866,
    "start_time": "2023-03-13T18:27:29.784Z"
   },
   {
    "duration": 832,
    "start_time": "2023-03-13T18:27:49.880Z"
   },
   {
    "duration": 3,
    "start_time": "2023-03-13T18:28:24.613Z"
   },
   {
    "duration": 11,
    "start_time": "2023-03-13T18:28:36.954Z"
   },
   {
    "duration": 26,
    "start_time": "2023-03-13T18:28:42.282Z"
   },
   {
    "duration": 13,
    "start_time": "2023-03-13T18:30:44.994Z"
   },
   {
    "duration": 13,
    "start_time": "2023-03-13T18:31:02.387Z"
   },
   {
    "duration": 11,
    "start_time": "2023-03-13T18:31:21.612Z"
   },
   {
    "duration": 12,
    "start_time": "2023-03-13T18:31:27.848Z"
   },
   {
    "duration": 23,
    "start_time": "2023-03-13T18:31:37.705Z"
   },
   {
    "duration": 5,
    "start_time": "2023-03-13T18:32:01.104Z"
   },
   {
    "duration": 6,
    "start_time": "2023-03-13T18:34:02.414Z"
   },
   {
    "duration": 3,
    "start_time": "2023-03-13T18:34:47.644Z"
   },
   {
    "duration": 4,
    "start_time": "2023-03-13T18:35:03.419Z"
   },
   {
    "duration": 4,
    "start_time": "2023-03-13T18:35:20.468Z"
   },
   {
    "duration": 5,
    "start_time": "2023-03-13T18:35:41.040Z"
   },
   {
    "duration": 774,
    "start_time": "2023-03-13T18:37:36.768Z"
   },
   {
    "duration": 9,
    "start_time": "2023-03-13T18:40:51.512Z"
   },
   {
    "duration": 15,
    "start_time": "2023-03-13T18:43:31.694Z"
   },
   {
    "duration": 11,
    "start_time": "2023-03-13T18:44:05.223Z"
   },
   {
    "duration": 16,
    "start_time": "2023-03-13T18:45:29.719Z"
   },
   {
    "duration": 13,
    "start_time": "2023-03-13T18:45:55.750Z"
   },
   {
    "duration": 18,
    "start_time": "2023-03-13T18:46:21.900Z"
   },
   {
    "duration": 53,
    "start_time": "2023-03-13T18:46:58.393Z"
   },
   {
    "duration": 128,
    "start_time": "2023-03-13T18:47:19.526Z"
   },
   {
    "duration": 69,
    "start_time": "2023-03-13T18:48:39.198Z"
   },
   {
    "duration": 34,
    "start_time": "2023-03-13T18:52:12.807Z"
   },
   {
    "duration": 4,
    "start_time": "2023-03-13T18:52:18.253Z"
   },
   {
    "duration": 67,
    "start_time": "2023-03-13T18:53:46.269Z"
   },
   {
    "duration": 18,
    "start_time": "2023-03-13T18:55:20.436Z"
   },
   {
    "duration": 17,
    "start_time": "2023-03-13T18:55:20.992Z"
   },
   {
    "duration": 198,
    "start_time": "2023-03-13T18:55:22.271Z"
   },
   {
    "duration": 16,
    "start_time": "2023-03-13T18:55:42.229Z"
   },
   {
    "duration": 69,
    "start_time": "2023-03-13T18:57:34.956Z"
   },
   {
    "duration": 58,
    "start_time": "2023-03-13T18:58:30.702Z"
   },
   {
    "duration": 177,
    "start_time": "2023-03-13T19:00:36.893Z"
   },
   {
    "duration": 166,
    "start_time": "2023-03-13T19:00:54.820Z"
   },
   {
    "duration": 149,
    "start_time": "2023-03-13T19:01:43.323Z"
   },
   {
    "duration": 114,
    "start_time": "2023-03-13T19:02:09.939Z"
   },
   {
    "duration": 119,
    "start_time": "2023-03-13T19:02:10.739Z"
   },
   {
    "duration": 124,
    "start_time": "2023-03-13T19:02:11.603Z"
   },
   {
    "duration": 2,
    "start_time": "2023-03-13T19:03:17.401Z"
   },
   {
    "duration": 389,
    "start_time": "2023-03-13T19:05:59.967Z"
   },
   {
    "duration": 1401,
    "start_time": "2023-03-19T08:55:13.227Z"
   },
   {
    "duration": 2966,
    "start_time": "2023-03-19T08:55:14.631Z"
   },
   {
    "duration": 18,
    "start_time": "2023-03-19T08:55:17.599Z"
   },
   {
    "duration": 4,
    "start_time": "2023-03-19T08:55:17.620Z"
   },
   {
    "duration": 121,
    "start_time": "2023-03-19T08:55:17.625Z"
   },
   {
    "duration": 916,
    "start_time": "2023-03-19T08:55:17.748Z"
   },
   {
    "duration": 10,
    "start_time": "2023-03-19T08:55:18.666Z"
   },
   {
    "duration": 7,
    "start_time": "2023-03-19T08:55:18.677Z"
   },
   {
    "duration": 6,
    "start_time": "2023-03-19T08:55:18.685Z"
   },
   {
    "duration": 488,
    "start_time": "2023-03-19T08:55:18.694Z"
   },
   {
    "duration": 8,
    "start_time": "2023-03-19T08:55:19.184Z"
   },
   {
    "duration": 26,
    "start_time": "2023-03-19T08:55:19.193Z"
   },
   {
    "duration": 197,
    "start_time": "2023-03-19T08:55:19.221Z"
   },
   {
    "duration": 76,
    "start_time": "2023-03-19T08:55:19.420Z"
   },
   {
    "duration": 20,
    "start_time": "2023-03-19T08:55:19.498Z"
   },
   {
    "duration": 31,
    "start_time": "2023-03-19T08:55:19.519Z"
   },
   {
    "duration": 44,
    "start_time": "2023-03-19T08:55:19.552Z"
   },
   {
    "duration": 70,
    "start_time": "2023-03-19T08:55:19.597Z"
   },
   {
    "duration": 32,
    "start_time": "2023-03-19T08:55:19.675Z"
   },
   {
    "duration": 22,
    "start_time": "2023-03-19T08:55:19.708Z"
   },
   {
    "duration": 44,
    "start_time": "2023-03-19T08:55:19.732Z"
   },
   {
    "duration": 24,
    "start_time": "2023-03-19T08:55:19.778Z"
   },
   {
    "duration": 22,
    "start_time": "2023-03-19T08:55:19.804Z"
   },
   {
    "duration": 93,
    "start_time": "2023-03-19T08:55:19.828Z"
   },
   {
    "duration": 25,
    "start_time": "2023-03-19T08:55:19.923Z"
   },
   {
    "duration": 49,
    "start_time": "2023-03-19T08:55:19.950Z"
   },
   {
    "duration": 84,
    "start_time": "2023-03-19T08:55:20.001Z"
   },
   {
    "duration": 291,
    "start_time": "2023-03-19T08:55:20.091Z"
   },
   {
    "duration": 4,
    "start_time": "2023-03-19T08:55:20.384Z"
   },
   {
    "duration": 102,
    "start_time": "2023-03-19T08:55:20.390Z"
   },
   {
    "duration": 5,
    "start_time": "2023-03-19T08:55:20.494Z"
   },
   {
    "duration": 379,
    "start_time": "2023-03-19T08:55:20.500Z"
   },
   {
    "duration": 163,
    "start_time": "2023-03-19T08:55:20.881Z"
   },
   {
    "duration": 13,
    "start_time": "2023-03-19T08:55:21.046Z"
   },
   {
    "duration": 22,
    "start_time": "2023-03-19T08:55:21.061Z"
   },
   {
    "duration": 10,
    "start_time": "2023-03-19T08:55:21.084Z"
   },
   {
    "duration": 9,
    "start_time": "2023-03-19T08:55:21.095Z"
   },
   {
    "duration": 21,
    "start_time": "2023-03-19T08:55:21.106Z"
   },
   {
    "duration": 114,
    "start_time": "2023-03-19T08:55:21.129Z"
   },
   {
    "duration": 4,
    "start_time": "2023-03-19T08:55:21.245Z"
   },
   {
    "duration": 31,
    "start_time": "2023-03-19T08:55:21.251Z"
   },
   {
    "duration": 190,
    "start_time": "2023-03-19T08:55:21.284Z"
   },
   {
    "duration": 161,
    "start_time": "2023-03-19T08:55:21.476Z"
   },
   {
    "duration": 257,
    "start_time": "2023-03-19T08:55:21.638Z"
   },
   {
    "duration": 133,
    "start_time": "2023-03-19T08:55:21.897Z"
   },
   {
    "duration": 1679,
    "start_time": "2023-03-19T08:55:22.031Z"
   },
   {
    "duration": 74,
    "start_time": "2023-03-19T08:55:23.712Z"
   },
   {
    "duration": 12,
    "start_time": "2023-03-19T08:55:23.788Z"
   },
   {
    "duration": 74,
    "start_time": "2023-03-19T08:55:23.801Z"
   },
   {
    "duration": 319,
    "start_time": "2023-03-19T08:55:23.876Z"
   },
   {
    "duration": 19,
    "start_time": "2023-03-19T08:55:24.197Z"
   },
   {
    "duration": 12,
    "start_time": "2023-03-19T08:55:24.218Z"
   },
   {
    "duration": 1464,
    "start_time": "2023-03-19T08:55:24.232Z"
   },
   {
    "duration": 7629,
    "start_time": "2023-03-19T08:55:25.698Z"
   },
   {
    "duration": 158,
    "start_time": "2023-03-19T08:55:33.328Z"
   },
   {
    "duration": 60,
    "start_time": "2023-03-19T08:55:33.488Z"
   },
   {
    "duration": 157,
    "start_time": "2023-03-19T08:55:33.550Z"
   },
   {
    "duration": 3368,
    "start_time": "2023-03-19T08:55:33.709Z"
   },
   {
    "duration": 408,
    "start_time": "2023-03-19T08:55:37.079Z"
   },
   {
    "duration": 172,
    "start_time": "2023-03-19T08:55:37.489Z"
   },
   {
    "duration": 14,
    "start_time": "2023-03-19T08:55:37.663Z"
   },
   {
    "duration": 44,
    "start_time": "2023-03-19T08:55:37.679Z"
   },
   {
    "duration": 144,
    "start_time": "2023-03-19T08:55:37.725Z"
   },
   {
    "duration": 32,
    "start_time": "2023-03-19T08:55:37.874Z"
   },
   {
    "duration": 192,
    "start_time": "2023-03-19T08:55:37.908Z"
   },
   {
    "duration": 25,
    "start_time": "2023-03-19T08:55:38.102Z"
   },
   {
    "duration": 372,
    "start_time": "2023-03-19T08:55:38.129Z"
   },
   {
    "duration": 25,
    "start_time": "2023-03-19T08:55:38.503Z"
   },
   {
    "duration": 155,
    "start_time": "2023-03-19T08:55:38.529Z"
   },
   {
    "duration": 52,
    "start_time": "2023-03-19T08:55:38.685Z"
   },
   {
    "duration": 15,
    "start_time": "2023-03-19T08:55:38.738Z"
   },
   {
    "duration": 30,
    "start_time": "2023-03-19T08:55:38.755Z"
   },
   {
    "duration": 149,
    "start_time": "2023-03-19T08:55:38.787Z"
   },
   {
    "duration": 141,
    "start_time": "2023-03-19T08:55:38.937Z"
   },
   {
    "duration": 113,
    "start_time": "2023-03-19T08:55:39.080Z"
   },
   {
    "duration": 447,
    "start_time": "2023-03-19T08:55:39.194Z"
   },
   {
    "duration": 107,
    "start_time": "2023-03-19T08:57:56.291Z"
   },
   {
    "duration": 21,
    "start_time": "2023-03-19T08:58:25.342Z"
   },
   {
    "duration": 326,
    "start_time": "2023-03-19T08:58:34.618Z"
   },
   {
    "duration": 55,
    "start_time": "2023-03-19T08:58:39.694Z"
   },
   {
    "duration": 1728,
    "start_time": "2023-03-19T19:46:54.640Z"
   },
   {
    "duration": 1365,
    "start_time": "2023-03-19T19:46:56.370Z"
   },
   {
    "duration": 18,
    "start_time": "2023-03-19T19:46:57.737Z"
   },
   {
    "duration": 4,
    "start_time": "2023-03-19T19:46:57.756Z"
   },
   {
    "duration": 137,
    "start_time": "2023-03-19T19:46:57.762Z"
   },
   {
    "duration": 957,
    "start_time": "2023-03-19T19:46:57.909Z"
   },
   {
    "duration": 4,
    "start_time": "2023-03-19T19:46:58.867Z"
   },
   {
    "duration": 11,
    "start_time": "2023-03-19T19:46:58.873Z"
   },
   {
    "duration": 22,
    "start_time": "2023-03-19T19:46:58.892Z"
   },
   {
    "duration": 506,
    "start_time": "2023-03-19T19:46:58.916Z"
   },
   {
    "duration": 7,
    "start_time": "2023-03-19T19:46:59.424Z"
   },
   {
    "duration": 25,
    "start_time": "2023-03-19T19:46:59.432Z"
   },
   {
    "duration": 215,
    "start_time": "2023-03-19T19:46:59.459Z"
   },
   {
    "duration": 81,
    "start_time": "2023-03-19T19:46:59.676Z"
   },
   {
    "duration": 40,
    "start_time": "2023-03-19T19:46:59.759Z"
   },
   {
    "duration": 36,
    "start_time": "2023-03-19T19:46:59.801Z"
   },
   {
    "duration": 24,
    "start_time": "2023-03-19T19:46:59.839Z"
   },
   {
    "duration": 86,
    "start_time": "2023-03-19T19:46:59.865Z"
   },
   {
    "duration": 50,
    "start_time": "2023-03-19T19:46:59.953Z"
   },
   {
    "duration": 30,
    "start_time": "2023-03-19T19:47:00.009Z"
   },
   {
    "duration": 69,
    "start_time": "2023-03-19T19:47:00.041Z"
   },
   {
    "duration": 27,
    "start_time": "2023-03-19T19:47:00.112Z"
   },
   {
    "duration": 21,
    "start_time": "2023-03-19T19:47:00.141Z"
   },
   {
    "duration": 82,
    "start_time": "2023-03-19T19:47:00.164Z"
   },
   {
    "duration": 45,
    "start_time": "2023-03-19T19:47:00.248Z"
   },
   {
    "duration": 38,
    "start_time": "2023-03-19T19:47:00.298Z"
   },
   {
    "duration": 100,
    "start_time": "2023-03-19T19:47:00.338Z"
   },
   {
    "duration": 349,
    "start_time": "2023-03-19T19:47:00.444Z"
   },
   {
    "duration": 9,
    "start_time": "2023-03-19T19:47:00.795Z"
   },
   {
    "duration": 149,
    "start_time": "2023-03-19T19:47:00.806Z"
   },
   {
    "duration": 22,
    "start_time": "2023-03-19T19:47:00.957Z"
   },
   {
    "duration": 481,
    "start_time": "2023-03-19T19:47:00.988Z"
   },
   {
    "duration": 172,
    "start_time": "2023-03-19T19:47:01.471Z"
   },
   {
    "duration": 12,
    "start_time": "2023-03-19T19:47:01.645Z"
   },
   {
    "duration": 58,
    "start_time": "2023-03-19T19:47:01.659Z"
   },
   {
    "duration": 41,
    "start_time": "2023-03-19T19:47:01.718Z"
   },
   {
    "duration": 75,
    "start_time": "2023-03-19T19:47:01.761Z"
   },
   {
    "duration": 64,
    "start_time": "2023-03-19T19:47:01.837Z"
   },
   {
    "duration": 120,
    "start_time": "2023-03-19T19:47:01.905Z"
   },
   {
    "duration": 9,
    "start_time": "2023-03-19T19:47:02.027Z"
   },
   {
    "duration": 51,
    "start_time": "2023-03-19T19:47:02.038Z"
   },
   {
    "duration": 233,
    "start_time": "2023-03-19T19:47:02.094Z"
   },
   {
    "duration": 238,
    "start_time": "2023-03-19T19:47:02.329Z"
   },
   {
    "duration": 267,
    "start_time": "2023-03-19T19:47:02.569Z"
   },
   {
    "duration": 137,
    "start_time": "2023-03-19T19:47:02.838Z"
   },
   {
    "duration": 1828,
    "start_time": "2023-03-19T19:47:02.981Z"
   },
   {
    "duration": 79,
    "start_time": "2023-03-19T19:47:04.811Z"
   },
   {
    "duration": 17,
    "start_time": "2023-03-19T19:47:04.891Z"
   },
   {
    "duration": 87,
    "start_time": "2023-03-19T19:47:04.910Z"
   },
   {
    "duration": 313,
    "start_time": "2023-03-19T19:47:05.002Z"
   },
   {
    "duration": 16,
    "start_time": "2023-03-19T19:47:05.317Z"
   },
   {
    "duration": 10,
    "start_time": "2023-03-19T19:47:05.335Z"
   },
   {
    "duration": 1752,
    "start_time": "2023-03-19T19:47:05.347Z"
   },
   {
    "duration": 8449,
    "start_time": "2023-03-19T19:47:07.102Z"
   },
   {
    "duration": 176,
    "start_time": "2023-03-19T19:47:15.553Z"
   },
   {
    "duration": 88,
    "start_time": "2023-03-19T19:47:15.731Z"
   },
   {
    "duration": 192,
    "start_time": "2023-03-19T19:47:15.821Z"
   },
   {
    "duration": 3574,
    "start_time": "2023-03-19T19:47:16.015Z"
   },
   {
    "duration": 212,
    "start_time": "2023-03-19T19:47:19.590Z"
   },
   {
    "duration": 163,
    "start_time": "2023-03-19T19:47:19.806Z"
   },
   {
    "duration": 28,
    "start_time": "2023-03-19T19:47:19.970Z"
   },
   {
    "duration": 76,
    "start_time": "2023-03-19T19:47:20.002Z"
   },
   {
    "duration": 142,
    "start_time": "2023-03-19T19:47:20.080Z"
   },
   {
    "duration": 32,
    "start_time": "2023-03-19T19:47:20.223Z"
   },
   {
    "duration": 206,
    "start_time": "2023-03-19T19:47:20.257Z"
   },
   {
    "duration": 50,
    "start_time": "2023-03-19T19:47:20.466Z"
   },
   {
    "duration": 410,
    "start_time": "2023-03-19T19:47:20.521Z"
   },
   {
    "duration": 25,
    "start_time": "2023-03-19T19:47:20.933Z"
   },
   {
    "duration": 157,
    "start_time": "2023-03-19T19:47:20.959Z"
   },
   {
    "duration": 49,
    "start_time": "2023-03-19T19:47:21.118Z"
   },
   {
    "duration": 22,
    "start_time": "2023-03-19T19:47:21.181Z"
   },
   {
    "duration": 26,
    "start_time": "2023-03-19T19:47:21.205Z"
   },
   {
    "duration": 174,
    "start_time": "2023-03-19T19:47:21.232Z"
   },
   {
    "duration": 144,
    "start_time": "2023-03-19T19:47:21.408Z"
   },
   {
    "duration": 128,
    "start_time": "2023-03-19T19:47:21.554Z"
   },
   {
    "duration": 527,
    "start_time": "2023-03-19T19:47:21.689Z"
   },
   {
    "duration": 80,
    "start_time": "2023-03-19T19:47:22.219Z"
   },
   {
    "duration": 3,
    "start_time": "2023-03-19T20:03:54.438Z"
   },
   {
    "duration": 479,
    "start_time": "2023-03-19T20:04:01.122Z"
   },
   {
    "duration": 69,
    "start_time": "2023-03-19T20:07:47.835Z"
   },
   {
    "duration": 674,
    "start_time": "2023-03-19T20:07:48.878Z"
   },
   {
    "duration": 98,
    "start_time": "2023-03-19T20:07:52.464Z"
   },
   {
    "duration": 20,
    "start_time": "2023-03-19T20:08:46.706Z"
   },
   {
    "duration": 121,
    "start_time": "2023-03-19T20:10:50.717Z"
   },
   {
    "duration": 11,
    "start_time": "2023-03-19T20:14:23.807Z"
   },
   {
    "duration": 25,
    "start_time": "2023-03-19T20:16:51.642Z"
   },
   {
    "duration": 12,
    "start_time": "2023-03-19T20:16:59.853Z"
   },
   {
    "duration": 517,
    "start_time": "2023-03-19T20:17:07.022Z"
   },
   {
    "duration": 2119,
    "start_time": "2023-03-19T20:17:17.853Z"
   },
   {
    "duration": 801,
    "start_time": "2023-03-19T20:18:07.296Z"
   },
   {
    "duration": 74,
    "start_time": "2023-03-19T20:19:34.894Z"
   },
   {
    "duration": 55,
    "start_time": "2023-03-19T20:22:24.304Z"
   },
   {
    "duration": 37213,
    "start_time": "2023-03-19T20:22:34.222Z"
   },
   {
    "duration": 29125,
    "start_time": "2023-03-19T20:24:43.467Z"
   },
   {
    "duration": 9,
    "start_time": "2023-03-19T20:29:57.816Z"
   },
   {
    "duration": 614,
    "start_time": "2023-03-19T20:30:50.154Z"
   },
   {
    "duration": 8,
    "start_time": "2023-03-19T20:30:51.930Z"
   },
   {
    "duration": 848,
    "start_time": "2023-03-19T20:31:15.177Z"
   },
   {
    "duration": 1628,
    "start_time": "2023-03-19T20:33:26.137Z"
   },
   {
    "duration": 13621,
    "start_time": "2023-03-19T20:34:29.360Z"
   },
   {
    "duration": 4,
    "start_time": "2023-03-19T20:35:09.335Z"
   },
   {
    "duration": 13586,
    "start_time": "2023-03-19T20:35:15.623Z"
   },
   {
    "duration": 15478,
    "start_time": "2023-03-19T20:36:40.011Z"
   },
   {
    "duration": 1609,
    "start_time": "2023-03-19T20:38:55.770Z"
   },
   {
    "duration": 613,
    "start_time": "2023-03-19T20:40:16.997Z"
   },
   {
    "duration": 1715,
    "start_time": "2023-03-19T20:40:17.668Z"
   },
   {
    "duration": 1506,
    "start_time": "2023-03-19T20:40:19.384Z"
   },
   {
    "duration": 70,
    "start_time": "2023-03-19T20:40:20.892Z"
   },
   {
    "duration": 4,
    "start_time": "2023-03-19T20:40:56.196Z"
   },
   {
    "duration": 60,
    "start_time": "2023-03-19T20:41:02.793Z"
   },
   {
    "duration": 11660,
    "start_time": "2023-03-19T20:41:24.131Z"
   },
   {
    "duration": 10428,
    "start_time": "2023-03-19T20:42:24.556Z"
   },
   {
    "duration": 14596,
    "start_time": "2023-03-19T20:43:10.993Z"
   },
   {
    "duration": 5,
    "start_time": "2023-03-19T21:06:09.079Z"
   },
   {
    "duration": 47,
    "start_time": "2023-03-19T21:06:10.598Z"
   },
   {
    "duration": 30,
    "start_time": "2023-03-19T21:06:40.591Z"
   },
   {
    "duration": 5,
    "start_time": "2023-03-19T21:06:44.590Z"
   },
   {
    "duration": 69,
    "start_time": "2023-03-19T21:06:45.000Z"
   },
   {
    "duration": 4,
    "start_time": "2023-03-19T21:09:38.318Z"
   },
   {
    "duration": 53,
    "start_time": "2023-03-19T21:09:45.113Z"
   },
   {
    "duration": 60,
    "start_time": "2023-03-19T21:10:10.179Z"
   },
   {
    "duration": 15,
    "start_time": "2023-03-19T21:10:40.467Z"
   },
   {
    "duration": 0,
    "start_time": "2023-03-19T21:12:00.168Z"
   },
   {
    "duration": 224998,
    "start_time": "2023-03-19T21:12:05.687Z"
   },
   {
    "duration": 51,
    "start_time": "2023-03-19T21:20:38.316Z"
   },
   {
    "duration": 10,
    "start_time": "2023-03-19T21:20:46.683Z"
   },
   {
    "duration": 4,
    "start_time": "2023-03-19T21:21:56.395Z"
   },
   {
    "duration": 4,
    "start_time": "2023-03-19T21:22:01.772Z"
   },
   {
    "duration": 4,
    "start_time": "2023-03-19T21:25:34.370Z"
   },
   {
    "duration": 45083,
    "start_time": "2023-03-19T21:28:24.673Z"
   },
   {
    "duration": 88014,
    "start_time": "2023-03-19T21:29:20.269Z"
   },
   {
    "duration": 61,
    "start_time": "2023-03-19T21:30:49.367Z"
   },
   {
    "duration": 196223,
    "start_time": "2023-03-19T21:31:08.019Z"
   },
   {
    "duration": 4,
    "start_time": "2023-03-19T21:34:24.245Z"
   },
   {
    "duration": 89800,
    "start_time": "2023-03-19T21:34:26.401Z"
   },
   {
    "duration": 2,
    "start_time": "2023-03-19T21:35:56.203Z"
   },
   {
    "duration": 57,
    "start_time": "2023-03-19T21:36:06.080Z"
   },
   {
    "duration": 63,
    "start_time": "2023-03-19T21:36:49.399Z"
   },
   {
    "duration": 146545,
    "start_time": "2023-03-19T21:37:25.805Z"
   },
   {
    "duration": 63,
    "start_time": "2023-03-19T21:42:38.917Z"
   },
   {
    "duration": 3,
    "start_time": "2023-03-19T21:42:42.368Z"
   },
   {
    "duration": 128609,
    "start_time": "2023-03-19T21:42:43.110Z"
   },
   {
    "duration": 20,
    "start_time": "2023-03-19T21:45:01.286Z"
   },
   {
    "duration": 16,
    "start_time": "2023-03-19T21:50:29.975Z"
   },
   {
    "duration": 3,
    "start_time": "2023-03-19T21:50:30.697Z"
   },
   {
    "duration": 52,
    "start_time": "2023-03-19T21:52:22.522Z"
   },
   {
    "duration": 75,
    "start_time": "2023-03-19T21:55:27.181Z"
   },
   {
    "duration": 58,
    "start_time": "2023-03-19T21:57:14.702Z"
   },
   {
    "duration": 3,
    "start_time": "2023-03-19T21:57:18.331Z"
   },
   {
    "duration": 54,
    "start_time": "2023-03-19T21:57:19.588Z"
   },
   {
    "duration": 55,
    "start_time": "2023-03-19T21:58:28.764Z"
   },
   {
    "duration": 69,
    "start_time": "2023-03-19T21:58:46.358Z"
   },
   {
    "duration": 139,
    "start_time": "2023-03-19T22:01:46.286Z"
   },
   {
    "duration": 57,
    "start_time": "2023-03-19T22:02:06.315Z"
   },
   {
    "duration": 78,
    "start_time": "2023-03-19T22:02:12.064Z"
   },
   {
    "duration": 27,
    "start_time": "2023-03-19T22:02:43.861Z"
   },
   {
    "duration": 3,
    "start_time": "2023-03-19T22:03:03.058Z"
   },
   {
    "duration": 57,
    "start_time": "2023-03-19T22:03:03.463Z"
   },
   {
    "duration": 86,
    "start_time": "2023-03-19T22:03:12.695Z"
   },
   {
    "duration": 10,
    "start_time": "2023-03-19T22:04:52.605Z"
   },
   {
    "duration": 3,
    "start_time": "2023-03-19T22:04:59.477Z"
   },
   {
    "duration": 3,
    "start_time": "2023-03-19T22:05:00.256Z"
   },
   {
    "duration": 20191,
    "start_time": "2023-03-19T22:07:02.719Z"
   },
   {
    "duration": 145226,
    "start_time": "2023-03-19T22:08:02.173Z"
   },
   {
    "duration": 118,
    "start_time": "2023-03-19T22:14:32.918Z"
   },
   {
    "duration": 3,
    "start_time": "2023-03-19T22:15:19.532Z"
   },
   {
    "duration": 53,
    "start_time": "2023-03-19T22:17:16.356Z"
   },
   {
    "duration": 4,
    "start_time": "2023-03-19T22:17:21.045Z"
   },
   {
    "duration": 59,
    "start_time": "2023-03-19T22:17:21.464Z"
   },
   {
    "duration": 15802,
    "start_time": "2023-03-19T22:17:28.698Z"
   },
   {
    "duration": 51,
    "start_time": "2023-03-19T22:19:56.749Z"
   },
   {
    "duration": 68,
    "start_time": "2023-03-19T22:20:29.725Z"
   },
   {
    "duration": 145373,
    "start_time": "2023-03-19T22:22:49.551Z"
   },
   {
    "duration": 28,
    "start_time": "2023-03-19T22:25:47.932Z"
   },
   {
    "duration": 11,
    "start_time": "2023-03-19T22:26:08.814Z"
   },
   {
    "duration": 43,
    "start_time": "2023-03-19T22:26:18.653Z"
   },
   {
    "duration": 8,
    "start_time": "2023-03-19T22:26:29.070Z"
   },
   {
    "duration": 16,
    "start_time": "2023-03-19T22:26:35.932Z"
   },
   {
    "duration": 47,
    "start_time": "2023-03-19T22:26:54.496Z"
   },
   {
    "duration": 81,
    "start_time": "2023-03-19T22:27:17.724Z"
   },
   {
    "duration": 12,
    "start_time": "2023-03-19T22:31:25.934Z"
   },
   {
    "duration": 23,
    "start_time": "2023-03-19T22:31:56.806Z"
   },
   {
    "duration": 9,
    "start_time": "2023-03-19T22:32:02.246Z"
   },
   {
    "duration": 26795,
    "start_time": "2023-03-19T22:32:02.793Z"
   },
   {
    "duration": 22,
    "start_time": "2023-03-19T22:33:57.514Z"
   },
   {
    "duration": 5067,
    "start_time": "2023-03-19T22:33:59.920Z"
   },
   {
    "duration": 4913,
    "start_time": "2023-03-19T22:34:20.777Z"
   },
   {
    "duration": 1657,
    "start_time": "2023-03-20T18:16:22.427Z"
   },
   {
    "duration": 1474,
    "start_time": "2023-03-20T18:16:24.086Z"
   },
   {
    "duration": 23,
    "start_time": "2023-03-20T18:16:25.563Z"
   },
   {
    "duration": 45,
    "start_time": "2023-03-20T18:16:25.588Z"
   },
   {
    "duration": 246,
    "start_time": "2023-03-20T18:16:25.636Z"
   },
   {
    "duration": 1047,
    "start_time": "2023-03-20T18:16:25.883Z"
   },
   {
    "duration": 3,
    "start_time": "2023-03-20T18:16:26.932Z"
   },
   {
    "duration": 9,
    "start_time": "2023-03-20T18:16:26.937Z"
   },
   {
    "duration": 10,
    "start_time": "2023-03-20T18:16:26.947Z"
   },
   {
    "duration": 529,
    "start_time": "2023-03-20T18:16:26.974Z"
   },
   {
    "duration": 13,
    "start_time": "2023-03-20T18:16:27.506Z"
   },
   {
    "duration": 33,
    "start_time": "2023-03-20T18:16:27.521Z"
   },
   {
    "duration": 253,
    "start_time": "2023-03-20T18:16:27.556Z"
   },
   {
    "duration": 146,
    "start_time": "2023-03-20T18:16:27.811Z"
   },
   {
    "duration": 29,
    "start_time": "2023-03-20T18:16:27.959Z"
   },
   {
    "duration": 58,
    "start_time": "2023-03-20T18:16:27.993Z"
   },
   {
    "duration": 29,
    "start_time": "2023-03-20T18:16:28.053Z"
   },
   {
    "duration": 93,
    "start_time": "2023-03-20T18:16:28.083Z"
   },
   {
    "duration": 60,
    "start_time": "2023-03-20T18:16:28.177Z"
   },
   {
    "duration": 26,
    "start_time": "2023-03-20T18:16:28.239Z"
   },
   {
    "duration": 44,
    "start_time": "2023-03-20T18:16:28.273Z"
   },
   {
    "duration": 32,
    "start_time": "2023-03-20T18:16:28.319Z"
   },
   {
    "duration": 38,
    "start_time": "2023-03-20T18:16:28.353Z"
   },
   {
    "duration": 117,
    "start_time": "2023-03-20T18:16:28.398Z"
   },
   {
    "duration": 34,
    "start_time": "2023-03-20T18:16:28.519Z"
   },
   {
    "duration": 55,
    "start_time": "2023-03-20T18:16:28.555Z"
   },
   {
    "duration": 146,
    "start_time": "2023-03-20T18:16:28.612Z"
   },
   {
    "duration": 392,
    "start_time": "2023-03-20T18:16:28.762Z"
   },
   {
    "duration": 5,
    "start_time": "2023-03-20T18:16:29.156Z"
   },
   {
    "duration": 126,
    "start_time": "2023-03-20T18:16:29.162Z"
   },
   {
    "duration": 12,
    "start_time": "2023-03-20T18:16:29.298Z"
   },
   {
    "duration": 358,
    "start_time": "2023-03-20T18:16:29.311Z"
   },
   {
    "duration": 251,
    "start_time": "2023-03-20T18:16:29.670Z"
   },
   {
    "duration": 16,
    "start_time": "2023-03-20T18:16:29.923Z"
   },
   {
    "duration": 11,
    "start_time": "2023-03-20T18:16:29.940Z"
   },
   {
    "duration": 41,
    "start_time": "2023-03-20T18:16:29.953Z"
   },
   {
    "duration": 40,
    "start_time": "2023-03-20T18:16:29.998Z"
   },
   {
    "duration": 42,
    "start_time": "2023-03-20T18:16:30.040Z"
   },
   {
    "duration": 84,
    "start_time": "2023-03-20T18:16:30.084Z"
   },
   {
    "duration": 5,
    "start_time": "2023-03-20T18:16:30.170Z"
   },
   {
    "duration": 65,
    "start_time": "2023-03-20T18:16:30.183Z"
   },
   {
    "duration": 213,
    "start_time": "2023-03-20T18:16:30.250Z"
   },
   {
    "duration": 166,
    "start_time": "2023-03-20T18:16:30.465Z"
   },
   {
    "duration": 283,
    "start_time": "2023-03-20T18:16:30.633Z"
   },
   {
    "duration": 134,
    "start_time": "2023-03-20T18:16:30.918Z"
   },
   {
    "duration": 1839,
    "start_time": "2023-03-20T18:16:31.054Z"
   },
   {
    "duration": 67,
    "start_time": "2023-03-20T18:16:32.895Z"
   },
   {
    "duration": 12,
    "start_time": "2023-03-20T18:16:32.963Z"
   },
   {
    "duration": 67,
    "start_time": "2023-03-20T18:16:32.977Z"
   },
   {
    "duration": 396,
    "start_time": "2023-03-20T18:16:33.046Z"
   },
   {
    "duration": 16,
    "start_time": "2023-03-20T18:16:33.444Z"
   },
   {
    "duration": 57,
    "start_time": "2023-03-20T18:16:33.462Z"
   },
   {
    "duration": 1568,
    "start_time": "2023-03-20T18:16:33.521Z"
   },
   {
    "duration": 8505,
    "start_time": "2023-03-20T18:16:35.091Z"
   },
   {
    "duration": 152,
    "start_time": "2023-03-20T18:16:43.597Z"
   },
   {
    "duration": 65,
    "start_time": "2023-03-20T18:16:43.751Z"
   },
   {
    "duration": 155,
    "start_time": "2023-03-20T18:16:43.817Z"
   },
   {
    "duration": 3796,
    "start_time": "2023-03-20T18:16:43.973Z"
   },
   {
    "duration": 199,
    "start_time": "2023-03-20T18:16:47.772Z"
   },
   {
    "duration": 168,
    "start_time": "2023-03-20T18:16:47.973Z"
   },
   {
    "duration": 10,
    "start_time": "2023-03-20T18:16:48.142Z"
   },
   {
    "duration": 63,
    "start_time": "2023-03-20T18:16:48.155Z"
   },
   {
    "duration": 134,
    "start_time": "2023-03-20T18:16:48.219Z"
   },
   {
    "duration": 59,
    "start_time": "2023-03-20T18:16:48.355Z"
   },
   {
    "duration": 195,
    "start_time": "2023-03-20T18:16:48.417Z"
   },
   {
    "duration": 30,
    "start_time": "2023-03-20T18:16:48.615Z"
   },
   {
    "duration": 537,
    "start_time": "2023-03-20T18:16:48.647Z"
   },
   {
    "duration": 44,
    "start_time": "2023-03-20T18:16:49.190Z"
   },
   {
    "duration": 142,
    "start_time": "2023-03-20T18:16:49.236Z"
   },
   {
    "duration": 78,
    "start_time": "2023-03-20T18:16:49.386Z"
   },
   {
    "duration": 35,
    "start_time": "2023-03-20T18:16:49.466Z"
   },
   {
    "duration": 34,
    "start_time": "2023-03-20T18:16:49.507Z"
   },
   {
    "duration": 210,
    "start_time": "2023-03-20T18:16:49.543Z"
   },
   {
    "duration": 271,
    "start_time": "2023-03-20T18:16:49.755Z"
   },
   {
    "duration": 118,
    "start_time": "2023-03-20T18:16:50.028Z"
   },
   {
    "duration": 414,
    "start_time": "2023-03-20T18:16:50.148Z"
   },
   {
    "duration": 60,
    "start_time": "2023-03-20T18:16:50.564Z"
   },
   {
    "duration": 596,
    "start_time": "2023-03-20T18:16:50.626Z"
   },
   {
    "duration": 2144,
    "start_time": "2023-03-20T18:16:51.225Z"
   },
   {
    "duration": 1233,
    "start_time": "2023-03-20T18:16:53.371Z"
   },
   {
    "duration": 53983,
    "start_time": "2023-03-20T18:16:54.605Z"
   },
   {
    "duration": 75,
    "start_time": "2023-03-20T18:17:48.600Z"
   },
   {
    "duration": 122730,
    "start_time": "2023-03-20T18:17:48.677Z"
   },
   {
    "duration": 17,
    "start_time": "2023-03-20T18:19:51.410Z"
   },
   {
    "duration": 11,
    "start_time": "2023-03-20T18:19:51.429Z"
   },
   {
    "duration": 162995,
    "start_time": "2023-03-20T18:19:51.441Z"
   },
   {
    "duration": 155,
    "start_time": "2023-03-20T18:22:34.438Z"
   },
   {
    "duration": 369985,
    "start_time": "2023-03-20T18:22:34.595Z"
   },
   {
    "duration": 123952,
    "start_time": "2023-03-20T18:42:23.706Z"
   },
   {
    "duration": 27,
    "start_time": "2023-03-20T18:44:27.660Z"
   },
   {
    "duration": 77,
    "start_time": "2023-03-20T18:44:27.689Z"
   },
   {
    "duration": 175251,
    "start_time": "2023-03-20T18:44:27.768Z"
   },
   {
    "duration": 23,
    "start_time": "2023-03-20T18:47:23.021Z"
   },
   {
    "duration": 375051,
    "start_time": "2023-03-20T18:47:23.050Z"
   },
   {
    "duration": 13,
    "start_time": "2023-03-20T18:53:38.104Z"
   },
   {
    "duration": 12,
    "start_time": "2023-03-20T18:54:08.190Z"
   },
   {
    "duration": 13,
    "start_time": "2023-03-20T18:54:44.018Z"
   },
   {
    "duration": 77,
    "start_time": "2023-03-20T18:58:09.245Z"
   },
   {
    "duration": 45,
    "start_time": "2023-03-20T18:58:59.491Z"
   },
   {
    "duration": 127,
    "start_time": "2023-03-20T19:05:05.980Z"
   },
   {
    "duration": 80,
    "start_time": "2023-03-20T19:08:24.249Z"
   },
   {
    "duration": 46,
    "start_time": "2023-03-20T19:17:18.014Z"
   },
   {
    "duration": 1768,
    "start_time": "2023-03-23T19:28:04.887Z"
   },
   {
    "duration": 2985,
    "start_time": "2023-03-23T19:28:06.658Z"
   },
   {
    "duration": 19,
    "start_time": "2023-03-23T19:28:09.645Z"
   },
   {
    "duration": 9,
    "start_time": "2023-03-23T19:28:09.666Z"
   },
   {
    "duration": 158,
    "start_time": "2023-03-23T19:28:09.677Z"
   },
   {
    "duration": 1017,
    "start_time": "2023-03-23T19:28:09.837Z"
   },
   {
    "duration": 5,
    "start_time": "2023-03-23T19:28:10.856Z"
   },
   {
    "duration": 18,
    "start_time": "2023-03-23T19:28:10.862Z"
   },
   {
    "duration": 8,
    "start_time": "2023-03-23T19:28:10.882Z"
   },
   {
    "duration": 499,
    "start_time": "2023-03-23T19:28:10.892Z"
   },
   {
    "duration": 7,
    "start_time": "2023-03-23T19:28:11.393Z"
   },
   {
    "duration": 26,
    "start_time": "2023-03-23T19:28:11.655Z"
   },
   {
    "duration": 225,
    "start_time": "2023-03-23T19:28:12.590Z"
   },
   {
    "duration": 86,
    "start_time": "2023-03-23T19:28:13.111Z"
   },
   {
    "duration": 21,
    "start_time": "2023-03-23T19:28:13.431Z"
   },
   {
    "duration": 42,
    "start_time": "2023-03-23T19:28:14.946Z"
   },
   {
    "duration": 27,
    "start_time": "2023-03-23T19:28:15.275Z"
   },
   {
    "duration": 97,
    "start_time": "2023-03-23T19:28:15.428Z"
   },
   {
    "duration": 37,
    "start_time": "2023-03-23T19:28:15.595Z"
   },
   {
    "duration": 25,
    "start_time": "2023-03-23T19:28:17.271Z"
   },
   {
    "duration": 32,
    "start_time": "2023-03-23T19:28:17.527Z"
   },
   {
    "duration": 31,
    "start_time": "2023-03-23T19:28:17.791Z"
   },
   {
    "duration": 26,
    "start_time": "2023-03-23T19:28:18.062Z"
   },
   {
    "duration": 86,
    "start_time": "2023-03-23T19:28:19.553Z"
   },
   {
    "duration": 26,
    "start_time": "2023-03-23T19:28:19.859Z"
   },
   {
    "duration": 32,
    "start_time": "2023-03-23T19:28:21.190Z"
   },
   {
    "duration": 89,
    "start_time": "2023-03-23T19:28:21.343Z"
   },
   {
    "duration": 301,
    "start_time": "2023-03-23T19:28:23.168Z"
   },
   {
    "duration": 4,
    "start_time": "2023-03-23T19:28:23.471Z"
   },
   {
    "duration": 87,
    "start_time": "2023-03-23T19:28:23.639Z"
   },
   {
    "duration": 5,
    "start_time": "2023-03-23T19:28:27.494Z"
   },
   {
    "duration": 370,
    "start_time": "2023-03-23T19:28:27.776Z"
   },
   {
    "duration": 231,
    "start_time": "2023-03-23T19:28:29.603Z"
   },
   {
    "duration": 28,
    "start_time": "2023-03-23T19:29:01.295Z"
   },
   {
    "duration": 10,
    "start_time": "2023-03-23T19:29:09.847Z"
   },
   {
    "duration": 8,
    "start_time": "2023-03-23T19:29:14.466Z"
   },
   {
    "duration": 22,
    "start_time": "2023-03-23T19:29:22.750Z"
   },
   {
    "duration": 92,
    "start_time": "2023-03-23T19:30:51.007Z"
   },
   {
    "duration": 4,
    "start_time": "2023-03-23T19:30:51.671Z"
   },
   {
    "duration": 170,
    "start_time": "2023-03-23T19:31:17.741Z"
   },
   {
    "duration": 9,
    "start_time": "2023-03-23T19:31:22.079Z"
   },
   {
    "duration": 79,
    "start_time": "2023-03-23T19:31:29.495Z"
   },
   {
    "duration": 72,
    "start_time": "2023-03-23T19:32:13.296Z"
   },
   {
    "duration": 78,
    "start_time": "2023-03-23T19:32:27.551Z"
   },
   {
    "duration": 4,
    "start_time": "2023-03-23T19:32:27.754Z"
   },
   {
    "duration": 24,
    "start_time": "2023-03-23T19:32:28.148Z"
   },
   {
    "duration": 207,
    "start_time": "2023-03-23T19:32:28.483Z"
   },
   {
    "duration": 153,
    "start_time": "2023-03-23T19:32:28.943Z"
   },
   {
    "duration": 263,
    "start_time": "2023-03-23T19:32:29.915Z"
   },
   {
    "duration": 134,
    "start_time": "2023-03-23T19:32:31.407Z"
   },
   {
    "duration": 1785,
    "start_time": "2023-03-23T19:32:33.159Z"
   },
   {
    "duration": 6,
    "start_time": "2023-03-23T19:32:50.028Z"
   },
   {
    "duration": 4,
    "start_time": "2023-03-23T19:34:11.102Z"
   },
   {
    "duration": 886,
    "start_time": "2023-03-23T19:36:59.785Z"
   },
   {
    "duration": 32,
    "start_time": "2023-03-23T19:37:30.517Z"
   },
   {
    "duration": 29,
    "start_time": "2023-03-23T19:38:06.193Z"
   },
   {
    "duration": 1260,
    "start_time": "2023-03-23T19:38:30.377Z"
   },
   {
    "duration": 4,
    "start_time": "2023-03-23T19:38:58.490Z"
   },
   {
    "duration": 75,
    "start_time": "2023-03-23T19:40:39.090Z"
   },
   {
    "duration": 24,
    "start_time": "2023-03-23T19:42:57.450Z"
   },
   {
    "duration": 1118,
    "start_time": "2023-03-23T19:43:27.298Z"
   },
   {
    "duration": 12,
    "start_time": "2023-03-23T19:43:35.510Z"
   },
   {
    "duration": 17,
    "start_time": "2023-03-23T19:44:20.075Z"
   },
   {
    "duration": 15,
    "start_time": "2023-03-23T19:44:23.238Z"
   },
   {
    "duration": 17,
    "start_time": "2023-03-23T19:44:28.910Z"
   },
   {
    "duration": 11,
    "start_time": "2023-03-23T19:44:53.498Z"
   },
   {
    "duration": 4,
    "start_time": "2023-03-23T19:45:24.427Z"
   },
   {
    "duration": 5,
    "start_time": "2023-03-23T19:45:31.463Z"
   },
   {
    "duration": 101,
    "start_time": "2023-03-23T19:46:47.182Z"
   },
   {
    "duration": 1563,
    "start_time": "2023-03-23T19:47:08.143Z"
   },
   {
    "duration": 8,
    "start_time": "2023-03-23T19:47:28.611Z"
   },
   {
    "duration": 13,
    "start_time": "2023-03-23T19:47:49.859Z"
   },
   {
    "duration": 7,
    "start_time": "2023-03-23T19:47:56.857Z"
   },
   {
    "duration": 11,
    "start_time": "2023-03-23T19:48:07.888Z"
   },
   {
    "duration": 6,
    "start_time": "2023-03-23T19:48:20.178Z"
   },
   {
    "duration": 13,
    "start_time": "2023-03-23T19:52:17.853Z"
   },
   {
    "duration": 20,
    "start_time": "2023-03-23T19:52:21.564Z"
   },
   {
    "duration": 100,
    "start_time": "2023-03-23T19:55:00.345Z"
   },
   {
    "duration": 70,
    "start_time": "2023-03-23T19:55:11.695Z"
   },
   {
    "duration": 159,
    "start_time": "2023-03-23T19:55:38.334Z"
   },
   {
    "duration": 72,
    "start_time": "2023-03-23T19:55:57.933Z"
   },
   {
    "duration": 17,
    "start_time": "2023-03-23T19:56:00.742Z"
   },
   {
    "duration": 23,
    "start_time": "2023-03-23T19:56:36.953Z"
   },
   {
    "duration": 8,
    "start_time": "2023-03-23T19:57:26.510Z"
   },
   {
    "duration": 72,
    "start_time": "2023-03-23T19:58:25.387Z"
   },
   {
    "duration": 430,
    "start_time": "2023-03-23T19:58:48.042Z"
   },
   {
    "duration": 284,
    "start_time": "2023-03-23T19:59:41.822Z"
   },
   {
    "duration": 204,
    "start_time": "2023-03-23T20:00:27.063Z"
   },
   {
    "duration": 328,
    "start_time": "2023-03-23T20:00:40.892Z"
   },
   {
    "duration": 20,
    "start_time": "2023-03-23T20:00:58.119Z"
   },
   {
    "duration": 75,
    "start_time": "2023-03-23T20:01:31.607Z"
   },
   {
    "duration": 7,
    "start_time": "2023-03-23T20:01:39.843Z"
   },
   {
    "duration": 21,
    "start_time": "2023-03-23T20:01:41.551Z"
   },
   {
    "duration": 43,
    "start_time": "2023-03-23T20:01:52.690Z"
   },
   {
    "duration": 32,
    "start_time": "2023-03-23T20:02:25.092Z"
   },
   {
    "duration": 311,
    "start_time": "2023-03-23T20:02:30.591Z"
   },
   {
    "duration": 23,
    "start_time": "2023-03-23T20:03:12.691Z"
   },
   {
    "duration": 75,
    "start_time": "2023-03-23T20:03:54.795Z"
   },
   {
    "duration": 11,
    "start_time": "2023-03-23T20:04:02.203Z"
   },
   {
    "duration": 10,
    "start_time": "2023-03-23T20:04:11.619Z"
   },
   {
    "duration": 12,
    "start_time": "2023-03-23T20:04:14.296Z"
   },
   {
    "duration": 40,
    "start_time": "2023-03-23T20:04:24.455Z"
   },
   {
    "duration": 9,
    "start_time": "2023-03-23T20:06:41.944Z"
   },
   {
    "duration": 10,
    "start_time": "2023-03-23T20:07:18.548Z"
   },
   {
    "duration": 34,
    "start_time": "2023-03-23T20:07:22.555Z"
   },
   {
    "duration": 11,
    "start_time": "2023-03-23T20:09:28.924Z"
   },
   {
    "duration": 111,
    "start_time": "2023-03-23T20:10:00.452Z"
   },
   {
    "duration": 27,
    "start_time": "2023-03-23T20:10:05.617Z"
   },
   {
    "duration": 36,
    "start_time": "2023-03-23T20:11:00.665Z"
   },
   {
    "duration": 22,
    "start_time": "2023-03-23T20:11:02.503Z"
   },
   {
    "duration": 23,
    "start_time": "2023-03-23T20:11:15.860Z"
   },
   {
    "duration": 28,
    "start_time": "2023-03-23T20:11:31.974Z"
   },
   {
    "duration": 20,
    "start_time": "2023-03-23T20:11:32.764Z"
   },
   {
    "duration": 10,
    "start_time": "2023-03-23T20:13:11.625Z"
   },
   {
    "duration": 11,
    "start_time": "2023-03-23T20:13:16.140Z"
   },
   {
    "duration": 27,
    "start_time": "2023-03-23T20:14:41.828Z"
   },
   {
    "duration": 15,
    "start_time": "2023-03-23T20:15:24.597Z"
   },
   {
    "duration": 10,
    "start_time": "2023-03-23T20:15:44.722Z"
   },
   {
    "duration": 2,
    "start_time": "2023-03-23T20:15:55.206Z"
   },
   {
    "duration": 16,
    "start_time": "2023-03-23T20:15:55.458Z"
   },
   {
    "duration": 20,
    "start_time": "2023-03-23T20:16:37.266Z"
   },
   {
    "duration": 39,
    "start_time": "2023-03-23T20:16:46.890Z"
   },
   {
    "duration": 9,
    "start_time": "2023-03-23T20:16:47.849Z"
   },
   {
    "duration": 282,
    "start_time": "2023-03-23T20:16:51.534Z"
   },
   {
    "duration": 10,
    "start_time": "2023-03-23T20:16:53.724Z"
   },
   {
    "duration": 96,
    "start_time": "2023-03-23T20:22:06.795Z"
   },
   {
    "duration": 1633,
    "start_time": "2023-03-23T20:22:36.146Z"
   },
   {
    "duration": 6515,
    "start_time": "2023-03-23T20:22:37.788Z"
   },
   {
    "duration": 149,
    "start_time": "2023-03-23T20:22:44.304Z"
   },
   {
    "duration": 198,
    "start_time": "2023-03-23T20:23:46.632Z"
   },
   {
    "duration": 143,
    "start_time": "2023-03-23T20:25:28.408Z"
   },
   {
    "duration": 24,
    "start_time": "2023-03-23T20:25:30.860Z"
   },
   {
    "duration": 27,
    "start_time": "2023-03-23T20:25:40.559Z"
   },
   {
    "duration": 169,
    "start_time": "2023-03-23T20:25:45.104Z"
   },
   {
    "duration": 17,
    "start_time": "2023-03-23T20:25:45.398Z"
   },
   {
    "duration": 329,
    "start_time": "2023-03-23T20:25:45.920Z"
   },
   {
    "duration": 16,
    "start_time": "2023-03-23T20:25:46.499Z"
   },
   {
    "duration": 125,
    "start_time": "2023-03-23T20:25:47.095Z"
   },
   {
    "duration": 66,
    "start_time": "2023-03-23T20:25:55.792Z"
   },
   {
    "duration": 68,
    "start_time": "2023-03-23T20:25:57.696Z"
   },
   {
    "duration": 62,
    "start_time": "2023-03-23T20:25:58.379Z"
   },
   {
    "duration": 398,
    "start_time": "2023-03-23T20:26:00.498Z"
   },
   {
    "duration": 83,
    "start_time": "2023-03-23T20:26:38.418Z"
   },
   {
    "duration": 7399,
    "start_time": "2023-03-23T20:45:09.317Z"
   },
   {
    "duration": 37,
    "start_time": "2023-03-23T20:48:13.749Z"
   },
   {
    "duration": 10,
    "start_time": "2023-03-23T20:52:04.207Z"
   },
   {
    "duration": 12,
    "start_time": "2023-03-23T20:52:19.969Z"
   },
   {
    "duration": 131,
    "start_time": "2023-03-23T20:53:06.706Z"
   },
   {
    "duration": 32,
    "start_time": "2023-03-23T20:53:07.202Z"
   },
   {
    "duration": 10,
    "start_time": "2023-03-23T20:53:07.755Z"
   },
   {
    "duration": 10,
    "start_time": "2023-03-23T20:53:12.137Z"
   },
   {
    "duration": 66,
    "start_time": "2023-03-23T20:53:13.495Z"
   },
   {
    "duration": 75,
    "start_time": "2023-03-23T20:53:14.162Z"
   },
   {
    "duration": 65,
    "start_time": "2023-03-23T20:53:14.791Z"
   },
   {
    "duration": 33,
    "start_time": "2023-03-23T20:53:17.162Z"
   },
   {
    "duration": 30,
    "start_time": "2023-03-23T20:53:20.938Z"
   },
   {
    "duration": 8,
    "start_time": "2023-03-23T20:53:21.434Z"
   },
   {
    "duration": 10,
    "start_time": "2023-03-23T20:53:22.235Z"
   },
   {
    "duration": 19,
    "start_time": "2023-03-23T20:58:16.110Z"
   },
   {
    "duration": 7,
    "start_time": "2023-03-23T20:58:25.307Z"
   },
   {
    "duration": 29,
    "start_time": "2023-03-23T20:58:57.195Z"
   },
   {
    "duration": 20,
    "start_time": "2023-03-23T20:59:01.405Z"
   },
   {
    "duration": 18,
    "start_time": "2023-03-23T20:59:55.407Z"
   },
   {
    "duration": 8,
    "start_time": "2023-03-23T21:00:08.874Z"
   },
   {
    "duration": 41,
    "start_time": "2023-03-23T21:00:31.695Z"
   },
   {
    "duration": 39,
    "start_time": "2023-03-23T21:01:34.841Z"
   },
   {
    "duration": 8,
    "start_time": "2023-03-23T21:01:37.432Z"
   },
   {
    "duration": 61,
    "start_time": "2023-03-23T21:01:38.609Z"
   },
   {
    "duration": 8,
    "start_time": "2023-03-23T21:01:49.349Z"
   },
   {
    "duration": 36,
    "start_time": "2023-03-23T21:01:55.328Z"
   },
   {
    "duration": 37,
    "start_time": "2023-03-23T21:02:09.312Z"
   },
   {
    "duration": 7,
    "start_time": "2023-03-23T21:02:09.749Z"
   },
   {
    "duration": 11,
    "start_time": "2023-03-23T21:02:10.331Z"
   },
   {
    "duration": 2,
    "start_time": "2023-03-23T21:02:15.703Z"
   },
   {
    "duration": 6,
    "start_time": "2023-03-23T21:02:16.095Z"
   },
   {
    "duration": 34,
    "start_time": "2023-03-23T21:02:16.817Z"
   },
   {
    "duration": 6,
    "start_time": "2023-03-23T21:02:17.400Z"
   },
   {
    "duration": 4,
    "start_time": "2023-03-23T21:02:37.125Z"
   },
   {
    "duration": 2,
    "start_time": "2023-03-23T21:02:37.294Z"
   },
   {
    "duration": 957,
    "start_time": "2023-03-23T21:02:37.818Z"
   },
   {
    "duration": 956,
    "start_time": "2023-03-23T21:02:38.778Z"
   },
   {
    "duration": 29,
    "start_time": "2023-03-23T21:02:39.736Z"
   },
   {
    "duration": 15,
    "start_time": "2023-03-23T21:02:39.767Z"
   },
   {
    "duration": 4,
    "start_time": "2023-03-23T21:02:39.790Z"
   },
   {
    "duration": 154,
    "start_time": "2023-03-23T21:02:39.795Z"
   },
   {
    "duration": 1034,
    "start_time": "2023-03-23T21:02:39.950Z"
   },
   {
    "duration": 6,
    "start_time": "2023-03-23T21:02:40.985Z"
   },
   {
    "duration": 4,
    "start_time": "2023-03-23T21:02:40.993Z"
   },
   {
    "duration": 8,
    "start_time": "2023-03-23T21:02:41.000Z"
   },
   {
    "duration": 498,
    "start_time": "2023-03-23T21:02:41.010Z"
   },
   {
    "duration": 8,
    "start_time": "2023-03-23T21:02:41.510Z"
   },
   {
    "duration": 18,
    "start_time": "2023-03-23T21:02:41.519Z"
   },
   {
    "duration": 224,
    "start_time": "2023-03-23T21:02:41.539Z"
   },
   {
    "duration": 90,
    "start_time": "2023-03-23T21:02:41.766Z"
   },
   {
    "duration": 22,
    "start_time": "2023-03-23T21:02:41.858Z"
   },
   {
    "duration": 34,
    "start_time": "2023-03-23T21:02:42.025Z"
   },
   {
    "duration": 20,
    "start_time": "2023-03-23T21:02:42.407Z"
   },
   {
    "duration": 89,
    "start_time": "2023-03-23T21:02:42.599Z"
   },
   {
    "duration": 34,
    "start_time": "2023-03-23T21:02:42.795Z"
   },
   {
    "duration": 23,
    "start_time": "2023-03-23T21:02:43.125Z"
   },
   {
    "duration": 30,
    "start_time": "2023-03-23T21:02:43.302Z"
   },
   {
    "duration": 22,
    "start_time": "2023-03-23T21:02:43.494Z"
   },
   {
    "duration": 19,
    "start_time": "2023-03-23T21:02:43.657Z"
   },
   {
    "duration": 82,
    "start_time": "2023-03-23T21:02:43.830Z"
   },
   {
    "duration": 21,
    "start_time": "2023-03-23T21:02:44.195Z"
   },
   {
    "duration": 34,
    "start_time": "2023-03-23T21:02:44.352Z"
   },
   {
    "duration": 82,
    "start_time": "2023-03-23T21:02:44.534Z"
   },
   {
    "duration": 339,
    "start_time": "2023-03-23T21:02:44.711Z"
   },
   {
    "duration": 4,
    "start_time": "2023-03-23T21:02:45.052Z"
   },
   {
    "duration": 89,
    "start_time": "2023-03-23T21:02:45.117Z"
   },
   {
    "duration": 4,
    "start_time": "2023-03-23T21:02:45.657Z"
   },
   {
    "duration": 529,
    "start_time": "2023-03-23T21:02:45.853Z"
   },
   {
    "duration": 161,
    "start_time": "2023-03-23T21:02:46.384Z"
   },
   {
    "duration": 12,
    "start_time": "2023-03-23T21:02:46.547Z"
   },
   {
    "duration": 25,
    "start_time": "2023-03-23T21:02:46.564Z"
   },
   {
    "duration": 19,
    "start_time": "2023-03-23T21:02:46.734Z"
   },
   {
    "duration": 94,
    "start_time": "2023-03-23T21:02:47.553Z"
   },
   {
    "duration": 84,
    "start_time": "2023-03-23T21:02:47.929Z"
   },
   {
    "duration": 4,
    "start_time": "2023-03-23T21:02:48.113Z"
   },
   {
    "duration": 20,
    "start_time": "2023-03-23T21:02:48.305Z"
   },
   {
    "duration": 193,
    "start_time": "2023-03-23T21:02:48.496Z"
   },
   {
    "duration": 160,
    "start_time": "2023-03-23T21:02:48.707Z"
   },
   {
    "duration": 288,
    "start_time": "2023-03-23T21:02:50.781Z"
   },
   {
    "duration": 118,
    "start_time": "2023-03-23T21:02:51.107Z"
   },
   {
    "duration": 1761,
    "start_time": "2023-03-23T21:02:51.541Z"
   },
   {
    "duration": 5,
    "start_time": "2023-03-23T21:02:53.304Z"
   },
   {
    "duration": 79,
    "start_time": "2023-03-23T21:02:53.310Z"
   },
   {
    "duration": 11,
    "start_time": "2023-03-23T21:02:53.600Z"
   },
   {
    "duration": 5,
    "start_time": "2023-03-23T21:02:55.503Z"
   },
   {
    "duration": 38,
    "start_time": "2023-03-23T21:02:57.414Z"
   },
   {
    "duration": 6,
    "start_time": "2023-03-23T21:02:57.608Z"
   },
   {
    "duration": 15,
    "start_time": "2023-03-23T21:02:58.195Z"
   },
   {
    "duration": 5,
    "start_time": "2023-03-23T21:02:58.349Z"
   },
   {
    "duration": 5,
    "start_time": "2023-03-23T21:02:58.603Z"
   },
   {
    "duration": 9,
    "start_time": "2023-03-23T21:02:58.761Z"
   },
   {
    "duration": 6,
    "start_time": "2023-03-23T21:02:58.945Z"
   },
   {
    "duration": 12,
    "start_time": "2023-03-23T21:02:59.338Z"
   },
   {
    "duration": 21,
    "start_time": "2023-03-23T21:02:59.549Z"
   },
   {
    "duration": 76,
    "start_time": "2023-03-23T21:02:59.912Z"
   },
   {
    "duration": 83,
    "start_time": "2023-03-23T21:03:00.105Z"
   },
   {
    "duration": 66,
    "start_time": "2023-03-23T21:03:00.296Z"
   },
   {
    "duration": 82,
    "start_time": "2023-03-23T21:03:00.491Z"
   },
   {
    "duration": 22,
    "start_time": "2023-03-23T21:03:00.662Z"
   },
   {
    "duration": 360,
    "start_time": "2023-03-23T21:03:01.041Z"
   },
   {
    "duration": 76,
    "start_time": "2023-03-23T21:03:05.528Z"
   },
   {
    "duration": 2,
    "start_time": "2023-03-23T21:03:20.141Z"
   },
   {
    "duration": 52,
    "start_time": "2023-03-23T21:03:20.641Z"
   },
   {
    "duration": 81,
    "start_time": "2023-03-23T21:03:20.991Z"
   },
   {
    "duration": 14,
    "start_time": "2023-03-23T21:03:21.437Z"
   },
   {
    "duration": 11,
    "start_time": "2023-03-23T21:03:31.132Z"
   },
   {
    "duration": 20,
    "start_time": "2023-03-23T21:03:31.633Z"
   },
   {
    "duration": 70,
    "start_time": "2023-03-23T21:03:33.403Z"
   },
   {
    "duration": 3,
    "start_time": "2023-03-23T21:03:34.133Z"
   },
   {
    "duration": 83,
    "start_time": "2023-03-23T21:03:34.718Z"
   },
   {
    "duration": 89,
    "start_time": "2023-03-23T21:03:35.121Z"
   },
   {
    "duration": 22,
    "start_time": "2023-03-23T21:03:35.965Z"
   },
   {
    "duration": 318,
    "start_time": "2023-03-23T21:03:37.399Z"
   },
   {
    "duration": 1598,
    "start_time": "2023-03-23T21:03:37.791Z"
   },
   {
    "duration": 8507,
    "start_time": "2023-03-23T21:03:39.391Z"
   },
   {
    "duration": 155,
    "start_time": "2023-03-23T21:03:47.900Z"
   },
   {
    "duration": 159,
    "start_time": "2023-03-23T21:03:48.058Z"
   },
   {
    "duration": 388,
    "start_time": "2023-03-23T21:03:48.219Z"
   },
   {
    "duration": 197,
    "start_time": "2023-03-23T21:03:48.609Z"
   },
   {
    "duration": 12,
    "start_time": "2023-03-23T21:03:48.808Z"
   },
   {
    "duration": 197,
    "start_time": "2023-03-23T21:03:48.822Z"
   },
   {
    "duration": 37,
    "start_time": "2023-03-23T21:03:49.022Z"
   },
   {
    "duration": 245,
    "start_time": "2023-03-23T21:03:49.061Z"
   },
   {
    "duration": 37,
    "start_time": "2023-03-23T21:03:49.308Z"
   },
   {
    "duration": 429,
    "start_time": "2023-03-23T21:03:49.347Z"
   },
   {
    "duration": 43,
    "start_time": "2023-03-23T21:03:49.778Z"
   },
   {
    "duration": 168,
    "start_time": "2023-03-23T21:03:49.823Z"
   },
   {
    "duration": 82,
    "start_time": "2023-03-23T21:03:49.993Z"
   },
   {
    "duration": 21,
    "start_time": "2023-03-23T21:03:50.090Z"
   },
   {
    "duration": 24,
    "start_time": "2023-03-23T21:03:50.114Z"
   },
   {
    "duration": 187,
    "start_time": "2023-03-23T21:03:50.140Z"
   },
   {
    "duration": 165,
    "start_time": "2023-03-23T21:03:50.329Z"
   },
   {
    "duration": 133,
    "start_time": "2023-03-23T21:03:50.495Z"
   },
   {
    "duration": 397,
    "start_time": "2023-03-23T21:03:55.303Z"
   },
   {
    "duration": 67,
    "start_time": "2023-03-23T21:04:03.413Z"
   },
   {
    "duration": 16,
    "start_time": "2023-03-23T21:04:05.932Z"
   },
   {
    "duration": 111,
    "start_time": "2023-03-23T21:04:26.495Z"
   },
   {
    "duration": 6,
    "start_time": "2023-03-23T21:04:34.034Z"
   },
   {
    "duration": 81,
    "start_time": "2023-03-23T21:04:47.648Z"
   },
   {
    "duration": 8,
    "start_time": "2023-03-23T21:04:48.648Z"
   },
   {
    "duration": 1398,
    "start_time": "2023-03-23T21:06:51.511Z"
   },
   {
    "duration": 3,
    "start_time": "2023-03-23T21:06:52.911Z"
   },
   {
    "duration": 919,
    "start_time": "2023-03-23T21:06:52.916Z"
   },
   {
    "duration": 892,
    "start_time": "2023-03-23T21:06:53.837Z"
   },
   {
    "duration": 30,
    "start_time": "2023-03-23T21:06:54.731Z"
   },
   {
    "duration": 28,
    "start_time": "2023-03-23T21:06:54.762Z"
   },
   {
    "duration": 5,
    "start_time": "2023-03-23T21:06:54.792Z"
   },
   {
    "duration": 151,
    "start_time": "2023-03-23T21:06:54.798Z"
   },
   {
    "duration": 1012,
    "start_time": "2023-03-23T21:06:54.952Z"
   },
   {
    "duration": 5,
    "start_time": "2023-03-23T21:06:55.968Z"
   },
   {
    "duration": 4,
    "start_time": "2023-03-23T21:06:55.989Z"
   },
   {
    "duration": 8,
    "start_time": "2023-03-23T21:06:55.995Z"
   },
   {
    "duration": 526,
    "start_time": "2023-03-23T21:06:56.005Z"
   },
   {
    "duration": 7,
    "start_time": "2023-03-23T21:06:56.532Z"
   },
   {
    "duration": 22,
    "start_time": "2023-03-23T21:06:56.541Z"
   },
   {
    "duration": 252,
    "start_time": "2023-03-23T21:06:56.564Z"
   },
   {
    "duration": 100,
    "start_time": "2023-03-23T21:06:56.818Z"
   },
   {
    "duration": 23,
    "start_time": "2023-03-23T21:06:56.919Z"
   },
   {
    "duration": 56,
    "start_time": "2023-03-23T21:06:56.943Z"
   },
   {
    "duration": 27,
    "start_time": "2023-03-23T21:06:57.001Z"
   },
   {
    "duration": 103,
    "start_time": "2023-03-23T21:06:57.030Z"
   },
   {
    "duration": 35,
    "start_time": "2023-03-23T21:06:57.135Z"
   },
   {
    "duration": 32,
    "start_time": "2023-03-23T21:06:57.188Z"
   },
   {
    "duration": 29,
    "start_time": "2023-03-23T21:06:57.222Z"
   },
   {
    "duration": 50,
    "start_time": "2023-03-23T21:06:57.253Z"
   },
   {
    "duration": 30,
    "start_time": "2023-03-23T21:06:57.305Z"
   },
   {
    "duration": 105,
    "start_time": "2023-03-23T21:06:57.337Z"
   },
   {
    "duration": 50,
    "start_time": "2023-03-23T21:06:57.448Z"
   },
   {
    "duration": 55,
    "start_time": "2023-03-23T21:06:57.503Z"
   },
   {
    "duration": 148,
    "start_time": "2023-03-23T21:06:57.561Z"
   },
   {
    "duration": 367,
    "start_time": "2023-03-23T21:06:57.711Z"
   },
   {
    "duration": 4,
    "start_time": "2023-03-23T21:06:58.080Z"
   },
   {
    "duration": 112,
    "start_time": "2023-03-23T21:06:58.085Z"
   },
   {
    "duration": 5,
    "start_time": "2023-03-23T21:06:58.199Z"
   },
   {
    "duration": 413,
    "start_time": "2023-03-23T21:06:58.206Z"
   },
   {
    "duration": 189,
    "start_time": "2023-03-23T21:06:58.622Z"
   },
   {
    "duration": 18,
    "start_time": "2023-03-23T21:06:58.813Z"
   },
   {
    "duration": 13,
    "start_time": "2023-03-23T21:06:58.833Z"
   },
   {
    "duration": 22,
    "start_time": "2023-03-23T21:06:58.888Z"
   },
   {
    "duration": 110,
    "start_time": "2023-03-23T21:06:58.913Z"
   },
   {
    "duration": 100,
    "start_time": "2023-03-23T21:06:59.025Z"
   },
   {
    "duration": 12,
    "start_time": "2023-03-23T21:06:59.128Z"
   },
   {
    "duration": 25,
    "start_time": "2023-03-23T21:06:59.142Z"
   },
   {
    "duration": 225,
    "start_time": "2023-03-23T21:06:59.169Z"
   },
   {
    "duration": 255,
    "start_time": "2023-03-23T21:06:59.396Z"
   },
   {
    "duration": 272,
    "start_time": "2023-03-23T21:06:59.653Z"
   },
   {
    "duration": 141,
    "start_time": "2023-03-23T21:06:59.926Z"
   },
   {
    "duration": 1870,
    "start_time": "2023-03-23T21:07:00.070Z"
   },
   {
    "duration": 4,
    "start_time": "2023-03-23T21:07:01.942Z"
   },
   {
    "duration": 89,
    "start_time": "2023-03-23T21:07:01.948Z"
   },
   {
    "duration": 13,
    "start_time": "2023-03-23T21:07:02.038Z"
   },
   {
    "duration": 6,
    "start_time": "2023-03-23T21:07:02.053Z"
   },
   {
    "duration": 51,
    "start_time": "2023-03-23T21:07:02.061Z"
   },
   {
    "duration": 27,
    "start_time": "2023-03-23T21:07:02.114Z"
   },
   {
    "duration": 35,
    "start_time": "2023-03-23T21:07:02.143Z"
   },
   {
    "duration": 6,
    "start_time": "2023-03-23T21:07:02.180Z"
   },
   {
    "duration": 19,
    "start_time": "2023-03-23T21:07:02.188Z"
   },
   {
    "duration": 12,
    "start_time": "2023-03-23T21:07:02.208Z"
   },
   {
    "duration": 6,
    "start_time": "2023-03-23T21:07:02.221Z"
   },
   {
    "duration": 10,
    "start_time": "2023-03-23T21:07:02.229Z"
   },
   {
    "duration": 19,
    "start_time": "2023-03-23T21:07:02.241Z"
   },
   {
    "duration": 110,
    "start_time": "2023-03-23T21:07:02.261Z"
   },
   {
    "duration": 2,
    "start_time": "2023-03-23T21:07:02.373Z"
   },
   {
    "duration": 84,
    "start_time": "2023-03-23T21:07:02.377Z"
   },
   {
    "duration": 101,
    "start_time": "2023-03-23T21:07:02.463Z"
   },
   {
    "duration": 37,
    "start_time": "2023-03-23T21:07:02.566Z"
   },
   {
    "duration": 308,
    "start_time": "2023-03-23T21:07:02.605Z"
   },
   {
    "duration": 1528,
    "start_time": "2023-03-23T21:07:02.915Z"
   },
   {
    "duration": 8508,
    "start_time": "2023-03-23T21:07:04.446Z"
   },
   {
    "duration": 152,
    "start_time": "2023-03-23T21:07:12.956Z"
   },
   {
    "duration": 150,
    "start_time": "2023-03-23T21:07:13.110Z"
   },
   {
    "duration": 174,
    "start_time": "2023-03-23T21:07:13.261Z"
   },
   {
    "duration": 183,
    "start_time": "2023-03-23T21:07:13.437Z"
   },
   {
    "duration": 11,
    "start_time": "2023-03-23T21:07:13.622Z"
   },
   {
    "duration": 337,
    "start_time": "2023-03-23T21:07:13.635Z"
   },
   {
    "duration": 36,
    "start_time": "2023-03-23T21:07:13.974Z"
   },
   {
    "duration": 197,
    "start_time": "2023-03-23T21:07:14.011Z"
   },
   {
    "duration": 30,
    "start_time": "2023-03-23T21:07:14.210Z"
   },
   {
    "duration": 391,
    "start_time": "2023-03-23T21:07:14.241Z"
   },
   {
    "duration": 40,
    "start_time": "2023-03-23T21:07:14.634Z"
   },
   {
    "duration": 178,
    "start_time": "2023-03-23T21:07:14.675Z"
   },
   {
    "duration": 86,
    "start_time": "2023-03-23T21:07:14.860Z"
   },
   {
    "duration": 19,
    "start_time": "2023-03-23T21:07:14.947Z"
   },
   {
    "duration": 36,
    "start_time": "2023-03-23T21:07:14.968Z"
   },
   {
    "duration": 201,
    "start_time": "2023-03-23T21:07:15.006Z"
   },
   {
    "duration": 199,
    "start_time": "2023-03-23T21:07:15.209Z"
   },
   {
    "duration": 142,
    "start_time": "2023-03-23T21:07:15.410Z"
   },
   {
    "duration": 411,
    "start_time": "2023-03-23T21:07:15.554Z"
   },
   {
    "duration": 81,
    "start_time": "2023-03-23T21:07:15.967Z"
   },
   {
    "duration": 19,
    "start_time": "2023-03-23T21:07:16.050Z"
   },
   {
    "duration": 25,
    "start_time": "2023-03-23T21:07:16.071Z"
   },
   {
    "duration": 5,
    "start_time": "2023-03-23T21:07:16.098Z"
   },
   {
    "duration": 91,
    "start_time": "2023-03-23T21:07:16.104Z"
   },
   {
    "duration": 8,
    "start_time": "2023-03-23T21:07:16.198Z"
   },
   {
    "duration": 134,
    "start_time": "2023-03-23T21:07:16.207Z"
   },
   {
    "duration": 0,
    "start_time": "2023-03-23T21:07:16.343Z"
   },
   {
    "duration": 0,
    "start_time": "2023-03-23T21:07:16.344Z"
   },
   {
    "duration": 0,
    "start_time": "2023-03-23T21:07:16.345Z"
   },
   {
    "duration": 0,
    "start_time": "2023-03-23T21:07:16.346Z"
   },
   {
    "duration": 0,
    "start_time": "2023-03-23T21:07:16.347Z"
   },
   {
    "duration": 0,
    "start_time": "2023-03-23T21:07:16.349Z"
   },
   {
    "duration": 0,
    "start_time": "2023-03-23T21:07:16.350Z"
   },
   {
    "duration": 0,
    "start_time": "2023-03-23T21:07:16.350Z"
   },
   {
    "duration": 0,
    "start_time": "2023-03-23T21:07:16.351Z"
   },
   {
    "duration": 0,
    "start_time": "2023-03-23T21:07:16.353Z"
   },
   {
    "duration": 0,
    "start_time": "2023-03-23T21:07:16.354Z"
   },
   {
    "duration": 0,
    "start_time": "2023-03-23T21:07:16.354Z"
   },
   {
    "duration": 0,
    "start_time": "2023-03-23T21:07:16.355Z"
   },
   {
    "duration": 0,
    "start_time": "2023-03-23T21:07:16.356Z"
   },
   {
    "duration": 0,
    "start_time": "2023-03-23T21:07:16.357Z"
   },
   {
    "duration": 0,
    "start_time": "2023-03-23T21:07:16.358Z"
   },
   {
    "duration": 0,
    "start_time": "2023-03-23T21:07:16.359Z"
   },
   {
    "duration": 0,
    "start_time": "2023-03-23T21:07:16.389Z"
   },
   {
    "duration": 0,
    "start_time": "2023-03-23T21:07:16.390Z"
   },
   {
    "duration": 0,
    "start_time": "2023-03-23T21:07:16.391Z"
   },
   {
    "duration": 0,
    "start_time": "2023-03-23T21:07:16.392Z"
   },
   {
    "duration": 0,
    "start_time": "2023-03-23T21:07:16.393Z"
   },
   {
    "duration": 0,
    "start_time": "2023-03-23T21:07:16.394Z"
   },
   {
    "duration": 0,
    "start_time": "2023-03-23T21:07:16.395Z"
   },
   {
    "duration": 0,
    "start_time": "2023-03-23T21:07:16.396Z"
   },
   {
    "duration": 0,
    "start_time": "2023-03-23T21:07:16.397Z"
   },
   {
    "duration": 0,
    "start_time": "2023-03-23T21:07:16.398Z"
   },
   {
    "duration": 0,
    "start_time": "2023-03-23T21:07:16.399Z"
   },
   {
    "duration": 0,
    "start_time": "2023-03-23T21:07:16.400Z"
   },
   {
    "duration": 0,
    "start_time": "2023-03-23T21:07:16.401Z"
   },
   {
    "duration": 0,
    "start_time": "2023-03-23T21:07:16.402Z"
   },
   {
    "duration": 0,
    "start_time": "2023-03-23T21:07:16.403Z"
   },
   {
    "duration": 0,
    "start_time": "2023-03-23T21:07:16.404Z"
   },
   {
    "duration": 0,
    "start_time": "2023-03-23T21:07:16.405Z"
   },
   {
    "duration": 0,
    "start_time": "2023-03-23T21:07:16.406Z"
   },
   {
    "duration": 0,
    "start_time": "2023-03-23T21:07:16.407Z"
   },
   {
    "duration": 0,
    "start_time": "2023-03-23T21:07:16.408Z"
   },
   {
    "duration": 0,
    "start_time": "2023-03-23T21:07:16.409Z"
   },
   {
    "duration": 0,
    "start_time": "2023-03-23T21:07:16.411Z"
   },
   {
    "duration": 0,
    "start_time": "2023-03-23T21:07:16.412Z"
   },
   {
    "duration": 0,
    "start_time": "2023-03-23T21:07:16.413Z"
   },
   {
    "duration": 0,
    "start_time": "2023-03-23T21:07:16.415Z"
   },
   {
    "duration": 0,
    "start_time": "2023-03-23T21:07:16.417Z"
   },
   {
    "duration": 0,
    "start_time": "2023-03-23T21:07:16.418Z"
   },
   {
    "duration": 0,
    "start_time": "2023-03-23T21:07:16.419Z"
   },
   {
    "duration": 0,
    "start_time": "2023-03-23T21:07:16.421Z"
   },
   {
    "duration": 0,
    "start_time": "2023-03-23T21:07:16.422Z"
   },
   {
    "duration": 0,
    "start_time": "2023-03-23T21:07:16.423Z"
   },
   {
    "duration": 0,
    "start_time": "2023-03-23T21:07:16.424Z"
   },
   {
    "duration": 0,
    "start_time": "2023-03-23T21:07:16.425Z"
   },
   {
    "duration": 1,
    "start_time": "2023-03-23T21:07:16.491Z"
   },
   {
    "duration": 1,
    "start_time": "2023-03-23T21:07:16.494Z"
   },
   {
    "duration": 0,
    "start_time": "2023-03-23T21:07:16.495Z"
   },
   {
    "duration": 0,
    "start_time": "2023-03-23T21:07:16.497Z"
   },
   {
    "duration": 0,
    "start_time": "2023-03-23T21:07:16.498Z"
   },
   {
    "duration": 0,
    "start_time": "2023-03-23T21:07:16.500Z"
   },
   {
    "duration": 0,
    "start_time": "2023-03-23T21:07:16.502Z"
   },
   {
    "duration": 0,
    "start_time": "2023-03-23T21:07:16.503Z"
   },
   {
    "duration": 0,
    "start_time": "2023-03-23T21:07:16.505Z"
   },
   {
    "duration": 0,
    "start_time": "2023-03-23T21:07:16.507Z"
   },
   {
    "duration": 0,
    "start_time": "2023-03-23T21:07:16.508Z"
   },
   {
    "duration": 0,
    "start_time": "2023-03-23T21:07:16.510Z"
   },
   {
    "duration": 0,
    "start_time": "2023-03-23T21:07:16.511Z"
   },
   {
    "duration": 0,
    "start_time": "2023-03-23T21:07:16.513Z"
   },
   {
    "duration": 0,
    "start_time": "2023-03-23T21:07:16.515Z"
   },
   {
    "duration": 0,
    "start_time": "2023-03-23T21:07:16.516Z"
   },
   {
    "duration": 0,
    "start_time": "2023-03-23T21:07:16.518Z"
   },
   {
    "duration": 0,
    "start_time": "2023-03-23T21:07:16.520Z"
   },
   {
    "duration": 0,
    "start_time": "2023-03-23T21:07:16.521Z"
   },
   {
    "duration": 0,
    "start_time": "2023-03-23T21:07:16.522Z"
   },
   {
    "duration": 0,
    "start_time": "2023-03-23T21:07:16.524Z"
   },
   {
    "duration": 0,
    "start_time": "2023-03-23T21:07:16.525Z"
   },
   {
    "duration": 0,
    "start_time": "2023-03-23T21:07:16.526Z"
   },
   {
    "duration": 0,
    "start_time": "2023-03-23T21:07:16.527Z"
   },
   {
    "duration": 0,
    "start_time": "2023-03-23T21:07:16.590Z"
   },
   {
    "duration": 0,
    "start_time": "2023-03-23T21:07:16.592Z"
   },
   {
    "duration": 0,
    "start_time": "2023-03-23T21:07:16.594Z"
   },
   {
    "duration": 21,
    "start_time": "2023-03-23T21:07:16.600Z"
   },
   {
    "duration": 308,
    "start_time": "2023-03-23T21:07:17.226Z"
   },
   {
    "duration": 1529,
    "start_time": "2023-03-23T21:07:17.549Z"
   },
   {
    "duration": 8541,
    "start_time": "2023-03-23T21:07:19.080Z"
   },
   {
    "duration": 148,
    "start_time": "2023-03-23T21:07:27.623Z"
   },
   {
    "duration": 159,
    "start_time": "2023-03-23T21:07:27.774Z"
   },
   {
    "duration": 200,
    "start_time": "2023-03-23T21:07:27.935Z"
   },
   {
    "duration": 178,
    "start_time": "2023-03-23T21:07:28.137Z"
   },
   {
    "duration": 12,
    "start_time": "2023-03-23T21:07:28.317Z"
   },
   {
    "duration": 195,
    "start_time": "2023-03-23T21:07:28.332Z"
   },
   {
    "duration": 31,
    "start_time": "2023-03-23T21:07:28.531Z"
   },
   {
    "duration": 235,
    "start_time": "2023-03-23T21:07:28.565Z"
   },
   {
    "duration": 30,
    "start_time": "2023-03-23T21:07:28.802Z"
   },
   {
    "duration": 576,
    "start_time": "2023-03-23T21:07:28.834Z"
   },
   {
    "duration": 31,
    "start_time": "2023-03-23T21:07:29.412Z"
   },
   {
    "duration": 164,
    "start_time": "2023-03-23T21:07:29.445Z"
   },
   {
    "duration": 81,
    "start_time": "2023-03-23T21:07:29.611Z"
   },
   {
    "duration": 37,
    "start_time": "2023-03-23T21:07:29.694Z"
   },
   {
    "duration": 28,
    "start_time": "2023-03-23T21:07:29.733Z"
   },
   {
    "duration": 175,
    "start_time": "2023-03-23T21:07:29.763Z"
   },
   {
    "duration": 192,
    "start_time": "2023-03-23T21:07:29.939Z"
   },
   {
    "duration": 145,
    "start_time": "2023-03-23T21:07:30.134Z"
   },
   {
    "duration": 373,
    "start_time": "2023-03-23T21:07:30.280Z"
   },
   {
    "duration": 69,
    "start_time": "2023-03-23T21:07:32.991Z"
   },
   {
    "duration": 74,
    "start_time": "2023-03-23T21:07:40.715Z"
   },
   {
    "duration": 13,
    "start_time": "2023-03-23T21:07:41.203Z"
   },
   {
    "duration": 8,
    "start_time": "2023-03-23T21:07:58.022Z"
   },
   {
    "duration": 13,
    "start_time": "2023-03-23T21:08:04.411Z"
   },
   {
    "duration": 5,
    "start_time": "2023-03-23T21:08:31.103Z"
   },
   {
    "duration": 5712,
    "start_time": "2023-03-23T21:18:38.590Z"
   },
   {
    "duration": 91,
    "start_time": "2023-03-23T21:18:44.304Z"
   },
   {
    "duration": 4811,
    "start_time": "2023-03-23T21:18:44.400Z"
   },
   {
    "duration": 4874,
    "start_time": "2023-03-23T21:18:49.223Z"
   },
   {
    "duration": 201,
    "start_time": "2023-03-23T21:18:54.100Z"
   },
   {
    "duration": 191,
    "start_time": "2023-03-23T21:18:54.306Z"
   },
   {
    "duration": 89,
    "start_time": "2023-03-23T21:18:54.499Z"
   },
   {
    "duration": 1011,
    "start_time": "2023-03-23T21:18:54.590Z"
   },
   {
    "duration": 6113,
    "start_time": "2023-03-23T21:18:55.689Z"
   },
   {
    "duration": 85,
    "start_time": "2023-03-23T21:19:01.808Z"
   },
   {
    "duration": 6,
    "start_time": "2023-03-23T21:19:01.898Z"
   },
   {
    "duration": 92,
    "start_time": "2023-03-23T21:19:01.906Z"
   },
   {
    "duration": 3011,
    "start_time": "2023-03-23T21:19:02.001Z"
   },
   {
    "duration": 9,
    "start_time": "2023-03-23T21:19:05.092Z"
   },
   {
    "duration": 114,
    "start_time": "2023-03-23T21:19:05.106Z"
   },
   {
    "duration": 1299,
    "start_time": "2023-03-23T21:19:05.291Z"
   },
   {
    "duration": 696,
    "start_time": "2023-03-23T21:19:06.593Z"
   },
   {
    "duration": 205,
    "start_time": "2023-03-23T21:19:07.294Z"
   },
   {
    "duration": 212,
    "start_time": "2023-03-23T21:19:07.503Z"
   },
   {
    "duration": 178,
    "start_time": "2023-03-23T21:19:07.720Z"
   },
   {
    "duration": 696,
    "start_time": "2023-03-23T21:19:07.903Z"
   },
   {
    "duration": 409,
    "start_time": "2023-03-23T21:19:08.605Z"
   },
   {
    "duration": 273,
    "start_time": "2023-03-23T21:19:09.020Z"
   },
   {
    "duration": 307,
    "start_time": "2023-03-23T21:19:09.297Z"
   },
   {
    "duration": 189,
    "start_time": "2023-03-23T21:19:09.613Z"
   },
   {
    "duration": 195,
    "start_time": "2023-03-23T21:19:09.812Z"
   },
   {
    "duration": 596,
    "start_time": "2023-03-23T21:19:10.009Z"
   },
   {
    "duration": 172,
    "start_time": "2023-03-23T21:19:10.624Z"
   },
   {
    "duration": 288,
    "start_time": "2023-03-23T21:19:10.800Z"
   },
   {
    "duration": 14195,
    "start_time": "2023-03-23T21:19:11.095Z"
   },
   {
    "duration": 805,
    "start_time": "2023-03-23T21:19:30.490Z"
   },
   {
    "duration": 208,
    "start_time": "2023-03-23T21:19:31.388Z"
   },
   {
    "duration": 295,
    "start_time": "2023-03-23T21:19:31.600Z"
   },
   {
    "duration": 804,
    "start_time": "2023-03-23T21:19:31.897Z"
   },
   {
    "duration": 2510,
    "start_time": "2023-03-23T21:19:32.703Z"
   },
   {
    "duration": 78,
    "start_time": "2023-03-23T21:19:35.215Z"
   },
   {
    "duration": 1001,
    "start_time": "2023-03-23T21:19:35.300Z"
   },
   {
    "duration": 10,
    "start_time": "2023-03-23T21:19:36.393Z"
   },
   {
    "duration": 2903,
    "start_time": "2023-03-23T21:19:36.490Z"
   },
   {
    "duration": 1199,
    "start_time": "2023-03-23T21:19:39.399Z"
   },
   {
    "duration": 98,
    "start_time": "2023-03-23T21:19:40.600Z"
   },
   {
    "duration": 105,
    "start_time": "2023-03-23T21:19:40.789Z"
   },
   {
    "duration": 102,
    "start_time": "2023-03-23T21:19:40.898Z"
   },
   {
    "duration": 595,
    "start_time": "2023-03-23T21:19:41.094Z"
   },
   {
    "duration": 896,
    "start_time": "2023-03-23T21:19:41.697Z"
   },
   {
    "duration": 103,
    "start_time": "2023-03-23T21:19:42.596Z"
   },
   {
    "duration": 110,
    "start_time": "2023-03-23T21:19:42.790Z"
   },
   {
    "duration": 1290,
    "start_time": "2023-03-23T21:19:42.906Z"
   },
   {
    "duration": 1699,
    "start_time": "2023-03-23T21:19:44.205Z"
   },
   {
    "duration": 1904,
    "start_time": "2023-03-23T21:19:45.990Z"
   },
   {
    "duration": 1192,
    "start_time": "2023-03-23T21:19:47.903Z"
   },
   {
    "duration": 2015,
    "start_time": "2023-03-23T21:21:30.795Z"
   },
   {
    "duration": 86,
    "start_time": "2023-03-23T21:21:32.812Z"
   },
   {
    "duration": 687,
    "start_time": "2023-03-23T21:21:32.904Z"
   },
   {
    "duration": 97,
    "start_time": "2023-03-23T21:21:33.595Z"
   },
   {
    "duration": 7,
    "start_time": "2023-03-23T21:21:33.697Z"
   },
   {
    "duration": 291,
    "start_time": "2023-03-23T21:21:33.706Z"
   },
   {
    "duration": 97,
    "start_time": "2023-03-23T21:21:33.999Z"
   },
   {
    "duration": 102,
    "start_time": "2023-03-23T21:21:34.098Z"
   },
   {
    "duration": 8,
    "start_time": "2023-03-23T21:21:34.292Z"
   },
   {
    "duration": 7,
    "start_time": "2023-03-23T21:21:34.390Z"
   },
   {
    "duration": 10,
    "start_time": "2023-03-23T21:21:34.496Z"
   },
   {
    "duration": 9,
    "start_time": "2023-03-23T21:21:34.592Z"
   },
   {
    "duration": 97,
    "start_time": "2023-03-23T21:21:34.695Z"
   },
   {
    "duration": 200,
    "start_time": "2023-03-23T21:21:34.795Z"
   },
   {
    "duration": 602,
    "start_time": "2023-03-23T21:21:34.998Z"
   },
   {
    "duration": 4,
    "start_time": "2023-03-23T21:21:35.690Z"
   },
   {
    "duration": 820,
    "start_time": "2023-03-23T21:21:35.788Z"
   },
   {
    "duration": 794,
    "start_time": "2023-03-23T21:21:36.610Z"
   },
   {
    "duration": 199,
    "start_time": "2023-03-23T21:21:37.490Z"
   },
   {
    "duration": 2203,
    "start_time": "2023-03-23T21:21:37.692Z"
   },
   {
    "duration": 12599,
    "start_time": "2023-03-23T21:21:39.899Z"
   },
   {
    "duration": 58901,
    "start_time": "2023-03-23T21:21:52.502Z"
   },
   {
    "duration": 1092,
    "start_time": "2023-03-23T21:22:51.405Z"
   },
   {
    "duration": 908,
    "start_time": "2023-03-23T21:22:52.499Z"
   },
   {
    "duration": 1304,
    "start_time": "2023-03-23T21:22:53.491Z"
   },
   {
    "duration": 1212,
    "start_time": "2023-03-23T21:22:54.799Z"
   },
   {
    "duration": 96,
    "start_time": "2023-03-23T21:22:56.096Z"
   },
   {
    "duration": 1295,
    "start_time": "2023-03-23T21:22:56.194Z"
   },
   {
    "duration": 210,
    "start_time": "2023-03-23T21:22:57.494Z"
   },
   {
    "duration": 1493,
    "start_time": "2023-03-23T21:22:57.707Z"
   },
   {
    "duration": 388,
    "start_time": "2023-03-23T21:22:59.205Z"
   },
   {
    "duration": 4697,
    "start_time": "2023-03-23T21:22:59.595Z"
   },
   {
    "duration": 401,
    "start_time": "2023-03-23T21:23:04.295Z"
   },
   {
    "duration": 1199,
    "start_time": "2023-03-23T21:23:04.698Z"
   },
   {
    "duration": 790,
    "start_time": "2023-03-23T21:23:05.899Z"
   },
   {
    "duration": 105,
    "start_time": "2023-03-23T21:23:06.691Z"
   },
   {
    "duration": 290,
    "start_time": "2023-03-23T21:23:06.805Z"
   },
   {
    "duration": 1400,
    "start_time": "2023-03-23T21:23:07.097Z"
   },
   {
    "duration": 1296,
    "start_time": "2023-03-23T21:23:08.499Z"
   },
   {
    "duration": 1197,
    "start_time": "2023-03-23T21:23:09.797Z"
   },
   {
    "duration": 2206,
    "start_time": "2023-03-23T21:23:10.996Z"
   },
   {
    "duration": 585,
    "start_time": "2023-03-23T21:23:13.205Z"
   },
   {
    "duration": 192,
    "start_time": "2023-03-23T21:23:13.796Z"
   },
   {
    "duration": 94,
    "start_time": "2023-03-23T21:23:13.997Z"
   },
   {
    "duration": 100,
    "start_time": "2023-03-23T21:23:20.097Z"
   },
   {
    "duration": 97,
    "start_time": "2023-03-23T21:23:20.896Z"
   },
   {
    "duration": 85,
    "start_time": "2023-03-23T21:25:47.408Z"
   },
   {
    "duration": 1940,
    "start_time": "2023-03-23T21:26:11.182Z"
   },
   {
    "duration": 2386,
    "start_time": "2023-03-23T21:26:13.125Z"
   },
   {
    "duration": 3194,
    "start_time": "2023-03-23T21:26:15.513Z"
   },
   {
    "duration": 992,
    "start_time": "2023-03-23T21:26:18.714Z"
   },
   {
    "duration": 33,
    "start_time": "2023-03-23T21:26:19.708Z"
   },
   {
    "duration": 46,
    "start_time": "2023-03-23T21:26:19.743Z"
   },
   {
    "duration": 5,
    "start_time": "2023-03-23T21:26:19.791Z"
   },
   {
    "duration": 166,
    "start_time": "2023-03-23T21:26:19.798Z"
   },
   {
    "duration": 1055,
    "start_time": "2023-03-23T21:26:19.966Z"
   },
   {
    "duration": 5,
    "start_time": "2023-03-23T21:26:21.024Z"
   },
   {
    "duration": 27,
    "start_time": "2023-03-23T21:26:21.031Z"
   },
   {
    "duration": 18,
    "start_time": "2023-03-23T21:26:21.060Z"
   },
   {
    "duration": 526,
    "start_time": "2023-03-23T21:26:21.081Z"
   },
   {
    "duration": 7,
    "start_time": "2023-03-23T21:26:21.609Z"
   },
   {
    "duration": 30,
    "start_time": "2023-03-23T21:26:21.618Z"
   },
   {
    "duration": 229,
    "start_time": "2023-03-23T21:26:21.650Z"
   },
   {
    "duration": 129,
    "start_time": "2023-03-23T21:26:21.893Z"
   },
   {
    "duration": 22,
    "start_time": "2023-03-23T21:26:22.024Z"
   },
   {
    "duration": 76,
    "start_time": "2023-03-23T21:26:22.048Z"
   },
   {
    "duration": 34,
    "start_time": "2023-03-23T21:26:22.126Z"
   },
   {
    "duration": 96,
    "start_time": "2023-03-23T21:26:22.163Z"
   },
   {
    "duration": 62,
    "start_time": "2023-03-23T21:26:22.261Z"
   },
   {
    "duration": 45,
    "start_time": "2023-03-23T21:26:22.325Z"
   },
   {
    "duration": 35,
    "start_time": "2023-03-23T21:26:22.372Z"
   },
   {
    "duration": 38,
    "start_time": "2023-03-23T21:26:22.409Z"
   },
   {
    "duration": 43,
    "start_time": "2023-03-23T21:26:22.449Z"
   },
   {
    "duration": 113,
    "start_time": "2023-03-23T21:26:22.494Z"
   },
   {
    "duration": 27,
    "start_time": "2023-03-23T21:26:22.613Z"
   },
   {
    "duration": 61,
    "start_time": "2023-03-23T21:26:22.642Z"
   },
   {
    "duration": 119,
    "start_time": "2023-03-23T21:26:22.706Z"
   },
   {
    "duration": 366,
    "start_time": "2023-03-23T21:26:22.827Z"
   },
   {
    "duration": 5,
    "start_time": "2023-03-23T21:26:23.195Z"
   },
   {
    "duration": 114,
    "start_time": "2023-03-23T21:26:23.202Z"
   },
   {
    "duration": 5,
    "start_time": "2023-03-23T21:26:23.319Z"
   },
   {
    "duration": 421,
    "start_time": "2023-03-23T21:26:23.326Z"
   },
   {
    "duration": 180,
    "start_time": "2023-03-23T21:26:23.749Z"
   },
   {
    "duration": 13,
    "start_time": "2023-03-23T21:26:23.931Z"
   },
   {
    "duration": 18,
    "start_time": "2023-03-23T21:26:23.946Z"
   },
   {
    "duration": 51,
    "start_time": "2023-03-23T21:26:23.966Z"
   },
   {
    "duration": 115,
    "start_time": "2023-03-23T21:26:24.019Z"
   },
   {
    "duration": 86,
    "start_time": "2023-03-23T21:26:24.135Z"
   },
   {
    "duration": 4,
    "start_time": "2023-03-23T21:26:24.223Z"
   },
   {
    "duration": 72,
    "start_time": "2023-03-23T21:26:24.233Z"
   },
   {
    "duration": 256,
    "start_time": "2023-03-23T21:26:24.307Z"
   },
   {
    "duration": 275,
    "start_time": "2023-03-23T21:26:24.565Z"
   },
   {
    "duration": 301,
    "start_time": "2023-03-23T21:26:24.842Z"
   },
   {
    "duration": 150,
    "start_time": "2023-03-23T21:26:25.145Z"
   },
   {
    "duration": 1830,
    "start_time": "2023-03-23T21:26:25.297Z"
   },
   {
    "duration": 7,
    "start_time": "2023-03-23T21:26:27.129Z"
   },
   {
    "duration": 97,
    "start_time": "2023-03-23T21:26:27.139Z"
   },
   {
    "duration": 13,
    "start_time": "2023-03-23T21:26:27.237Z"
   },
   {
    "duration": 6,
    "start_time": "2023-03-23T21:26:27.252Z"
   },
   {
    "duration": 53,
    "start_time": "2023-03-23T21:26:27.259Z"
   },
   {
    "duration": 18,
    "start_time": "2023-03-23T21:26:27.314Z"
   },
   {
    "duration": 43,
    "start_time": "2023-03-23T21:26:27.334Z"
   },
   {
    "duration": 20,
    "start_time": "2023-03-23T21:26:27.380Z"
   },
   {
    "duration": 27,
    "start_time": "2023-03-23T21:26:27.403Z"
   },
   {
    "duration": 26,
    "start_time": "2023-03-23T21:26:27.432Z"
   },
   {
    "duration": 19,
    "start_time": "2023-03-23T21:26:27.462Z"
   },
   {
    "duration": 14,
    "start_time": "2023-03-23T21:26:27.539Z"
   },
   {
    "duration": 28,
    "start_time": "2023-03-23T21:26:27.704Z"
   },
   {
    "duration": 88,
    "start_time": "2023-03-23T21:26:28.056Z"
   },
   {
    "duration": 3,
    "start_time": "2023-03-23T21:26:28.236Z"
   },
   {
    "duration": 73,
    "start_time": "2023-03-23T21:26:28.428Z"
   },
   {
    "duration": 90,
    "start_time": "2023-03-23T21:26:28.634Z"
   },
   {
    "duration": 24,
    "start_time": "2023-03-23T21:26:28.830Z"
   },
   {
    "duration": 272,
    "start_time": "2023-03-23T21:26:29.239Z"
   },
   {
    "duration": 1630,
    "start_time": "2023-03-23T21:26:29.513Z"
   },
   {
    "duration": 9127,
    "start_time": "2023-03-23T21:26:31.146Z"
   },
   {
    "duration": 177,
    "start_time": "2023-03-23T21:26:40.275Z"
   },
   {
    "duration": 182,
    "start_time": "2023-03-23T21:26:40.455Z"
   },
   {
    "duration": 229,
    "start_time": "2023-03-23T21:26:40.639Z"
   },
   {
    "duration": 205,
    "start_time": "2023-03-23T21:26:40.870Z"
   },
   {
    "duration": 21,
    "start_time": "2023-03-23T21:26:41.077Z"
   },
   {
    "duration": 244,
    "start_time": "2023-03-23T21:26:41.100Z"
   },
   {
    "duration": 61,
    "start_time": "2023-03-23T21:26:41.347Z"
   },
   {
    "duration": 230,
    "start_time": "2023-03-23T21:26:41.412Z"
   },
   {
    "duration": 67,
    "start_time": "2023-03-23T21:26:41.644Z"
   },
   {
    "duration": 621,
    "start_time": "2023-03-23T21:26:41.714Z"
   },
   {
    "duration": 38,
    "start_time": "2023-03-23T21:26:42.337Z"
   },
   {
    "duration": 262,
    "start_time": "2023-03-23T21:26:42.391Z"
   },
   {
    "duration": 112,
    "start_time": "2023-03-23T21:26:42.655Z"
   },
   {
    "duration": 40,
    "start_time": "2023-03-23T21:26:42.770Z"
   },
   {
    "duration": 23,
    "start_time": "2023-03-23T21:26:42.812Z"
   },
   {
    "duration": 289,
    "start_time": "2023-03-23T21:26:42.838Z"
   },
   {
    "duration": 216,
    "start_time": "2023-03-23T21:26:43.129Z"
   },
   {
    "duration": 171,
    "start_time": "2023-03-23T21:26:43.347Z"
   },
   {
    "duration": 530,
    "start_time": "2023-03-23T21:26:43.519Z"
   },
   {
    "duration": 117,
    "start_time": "2023-03-23T21:26:44.051Z"
   },
   {
    "duration": 29,
    "start_time": "2023-03-23T21:26:44.170Z"
   },
   {
    "duration": 20,
    "start_time": "2023-03-23T21:26:44.201Z"
   },
   {
    "duration": 9,
    "start_time": "2023-03-23T21:26:44.225Z"
   },
   {
    "duration": 67871,
    "start_time": "2023-03-23T21:27:09.099Z"
   },
   {
    "duration": 24709,
    "start_time": "2023-03-23T21:29:12.544Z"
   },
   {
    "duration": 53,
    "start_time": "2023-03-23T21:38:13.719Z"
   },
   {
    "duration": 39,
    "start_time": "2023-03-23T21:39:13.973Z"
   },
   {
    "duration": 29084,
    "start_time": "2023-03-23T21:39:19.439Z"
   },
   {
    "duration": 16,
    "start_time": "2023-03-23T21:42:58.804Z"
   },
   {
    "duration": 14,
    "start_time": "2023-03-23T21:43:10.304Z"
   },
   {
    "duration": 6,
    "start_time": "2023-03-23T21:43:32.175Z"
   },
   {
    "duration": 7,
    "start_time": "2023-03-23T21:44:35.136Z"
   },
   {
    "duration": 18,
    "start_time": "2023-03-23T21:49:03.509Z"
   },
   {
    "duration": 66,
    "start_time": "2023-03-23T21:50:04.217Z"
   },
   {
    "duration": 5,
    "start_time": "2023-03-23T21:50:05.342Z"
   },
   {
    "duration": 10,
    "start_time": "2023-03-23T21:50:05.349Z"
   },
   {
    "duration": 19,
    "start_time": "2023-03-23T21:50:05.579Z"
   },
   {
    "duration": 13,
    "start_time": "2023-03-23T21:50:06.060Z"
   },
   {
    "duration": 8,
    "start_time": "2023-03-23T21:50:06.601Z"
   },
   {
    "duration": 1926,
    "start_time": "2023-03-23T21:51:05.833Z"
   },
   {
    "duration": 5,
    "start_time": "2023-03-23T21:51:13.332Z"
   },
   {
    "duration": 2207,
    "start_time": "2023-03-23T21:51:13.509Z"
   },
   {
    "duration": 3012,
    "start_time": "2023-03-23T21:51:15.718Z"
   },
   {
    "duration": 877,
    "start_time": "2023-03-23T21:51:18.732Z"
   },
   {
    "duration": 33,
    "start_time": "2023-03-23T21:51:19.611Z"
   },
   {
    "duration": 46,
    "start_time": "2023-03-23T21:51:19.646Z"
   },
   {
    "duration": 4,
    "start_time": "2023-03-23T21:51:19.694Z"
   },
   {
    "duration": 165,
    "start_time": "2023-03-23T21:51:19.700Z"
   },
   {
    "duration": 1004,
    "start_time": "2023-03-23T21:51:19.869Z"
   },
   {
    "duration": 5,
    "start_time": "2023-03-23T21:51:20.875Z"
   },
   {
    "duration": 8,
    "start_time": "2023-03-23T21:51:20.883Z"
   },
   {
    "duration": 21,
    "start_time": "2023-03-23T21:51:20.893Z"
   },
   {
    "duration": 528,
    "start_time": "2023-03-23T21:51:20.916Z"
   },
   {
    "duration": 8,
    "start_time": "2023-03-23T21:51:21.446Z"
   },
   {
    "duration": 41,
    "start_time": "2023-03-23T21:51:21.455Z"
   },
   {
    "duration": 202,
    "start_time": "2023-03-23T21:51:21.498Z"
   },
   {
    "duration": 90,
    "start_time": "2023-03-23T21:51:21.702Z"
   },
   {
    "duration": 23,
    "start_time": "2023-03-23T21:51:21.794Z"
   },
   {
    "duration": 38,
    "start_time": "2023-03-23T21:51:21.819Z"
   },
   {
    "duration": 26,
    "start_time": "2023-03-23T21:51:21.888Z"
   },
   {
    "duration": 111,
    "start_time": "2023-03-23T21:51:21.916Z"
   },
   {
    "duration": 35,
    "start_time": "2023-03-23T21:51:22.029Z"
   },
   {
    "duration": 40,
    "start_time": "2023-03-23T21:51:22.066Z"
   },
   {
    "duration": 31,
    "start_time": "2023-03-23T21:51:22.108Z"
   },
   {
    "duration": 24,
    "start_time": "2023-03-23T21:51:22.141Z"
   },
   {
    "duration": 20,
    "start_time": "2023-03-23T21:51:22.189Z"
   },
   {
    "duration": 98,
    "start_time": "2023-03-23T21:51:22.211Z"
   },
   {
    "duration": 35,
    "start_time": "2023-03-23T21:51:22.311Z"
   },
   {
    "duration": 55,
    "start_time": "2023-03-23T21:51:22.349Z"
   },
   {
    "duration": 98,
    "start_time": "2023-03-23T21:51:22.406Z"
   },
   {
    "duration": 351,
    "start_time": "2023-03-23T21:51:22.506Z"
   },
   {
    "duration": 4,
    "start_time": "2023-03-23T21:51:22.859Z"
   },
   {
    "duration": 111,
    "start_time": "2023-03-23T21:51:22.865Z"
   },
   {
    "duration": 14,
    "start_time": "2023-03-23T21:51:22.978Z"
   },
   {
    "duration": 377,
    "start_time": "2023-03-23T21:51:22.994Z"
   },
   {
    "duration": 189,
    "start_time": "2023-03-23T21:51:23.373Z"
   },
   {
    "duration": 32,
    "start_time": "2023-03-23T21:51:23.564Z"
   },
   {
    "duration": 13,
    "start_time": "2023-03-23T21:51:23.597Z"
   },
   {
    "duration": 22,
    "start_time": "2023-03-23T21:51:23.612Z"
   },
   {
    "duration": 81,
    "start_time": "2023-03-23T21:51:24.429Z"
   },
   {
    "duration": 82,
    "start_time": "2023-03-23T21:51:25.089Z"
   },
   {
    "duration": 4,
    "start_time": "2023-03-23T21:51:25.508Z"
   },
   {
    "duration": 33,
    "start_time": "2023-03-23T21:51:25.965Z"
   },
   {
    "duration": 182,
    "start_time": "2023-03-23T21:51:26.493Z"
   },
   {
    "duration": 231,
    "start_time": "2023-03-23T21:51:26.809Z"
   },
   {
    "duration": 315,
    "start_time": "2023-03-23T21:51:27.391Z"
   },
   {
    "duration": 126,
    "start_time": "2023-03-23T21:51:27.729Z"
   },
   {
    "duration": 1819,
    "start_time": "2023-03-23T21:51:27.973Z"
   },
   {
    "duration": 5,
    "start_time": "2023-03-23T21:51:29.794Z"
   },
   {
    "duration": 98,
    "start_time": "2023-03-23T21:51:29.800Z"
   },
   {
    "duration": 13,
    "start_time": "2023-03-23T21:51:29.900Z"
   },
   {
    "duration": 6,
    "start_time": "2023-03-23T21:51:29.915Z"
   },
   {
    "duration": 27,
    "start_time": "2023-03-23T21:51:30.501Z"
   },
   {
    "duration": 5,
    "start_time": "2023-03-23T21:51:30.685Z"
   },
   {
    "duration": 14,
    "start_time": "2023-03-23T21:51:31.373Z"
   },
   {
    "duration": 5,
    "start_time": "2023-03-23T21:51:31.641Z"
   },
   {
    "duration": 5,
    "start_time": "2023-03-23T21:51:31.881Z"
   },
   {
    "duration": 8,
    "start_time": "2023-03-23T21:51:32.269Z"
   },
   {
    "duration": 6,
    "start_time": "2023-03-23T21:51:32.465Z"
   },
   {
    "duration": 13,
    "start_time": "2023-03-23T21:51:32.852Z"
   },
   {
    "duration": 20,
    "start_time": "2023-03-23T21:51:33.033Z"
   },
   {
    "duration": 82,
    "start_time": "2023-03-23T21:51:33.401Z"
   },
   {
    "duration": 2,
    "start_time": "2023-03-23T21:51:33.601Z"
   },
   {
    "duration": 78,
    "start_time": "2023-03-23T21:51:33.793Z"
   },
   {
    "duration": 91,
    "start_time": "2023-03-23T21:51:34.000Z"
   },
   {
    "duration": 26,
    "start_time": "2023-03-23T21:51:34.205Z"
   },
   {
    "duration": 273,
    "start_time": "2023-03-23T21:51:34.607Z"
   },
   {
    "duration": 1505,
    "start_time": "2023-03-23T21:51:34.888Z"
   },
   {
    "duration": 8667,
    "start_time": "2023-03-23T21:51:36.395Z"
   },
   {
    "duration": 167,
    "start_time": "2023-03-23T21:51:45.065Z"
   },
   {
    "duration": 183,
    "start_time": "2023-03-23T21:51:45.236Z"
   },
   {
    "duration": 203,
    "start_time": "2023-03-23T21:51:45.420Z"
   },
   {
    "duration": 197,
    "start_time": "2023-03-23T21:51:45.625Z"
   },
   {
    "duration": 13,
    "start_time": "2023-03-23T21:51:45.824Z"
   },
   {
    "duration": 240,
    "start_time": "2023-03-23T21:51:45.839Z"
   },
   {
    "duration": 36,
    "start_time": "2023-03-23T21:51:46.088Z"
   },
   {
    "duration": 342,
    "start_time": "2023-03-23T21:51:46.125Z"
   },
   {
    "duration": 42,
    "start_time": "2023-03-23T21:51:46.469Z"
   },
   {
    "duration": 401,
    "start_time": "2023-03-23T21:51:46.513Z"
   },
   {
    "duration": 39,
    "start_time": "2023-03-23T21:51:46.916Z"
   },
   {
    "duration": 177,
    "start_time": "2023-03-23T21:51:46.957Z"
   },
   {
    "duration": 90,
    "start_time": "2023-03-23T21:51:47.136Z"
   },
   {
    "duration": 21,
    "start_time": "2023-03-23T21:51:47.227Z"
   },
   {
    "duration": 44,
    "start_time": "2023-03-23T21:51:47.251Z"
   },
   {
    "duration": 192,
    "start_time": "2023-03-23T21:51:47.296Z"
   },
   {
    "duration": 249,
    "start_time": "2023-03-23T21:51:47.490Z"
   },
   {
    "duration": 153,
    "start_time": "2023-03-23T21:51:47.741Z"
   },
   {
    "duration": 462,
    "start_time": "2023-03-23T21:51:47.896Z"
   },
   {
    "duration": 66,
    "start_time": "2023-03-23T21:52:20.937Z"
   },
   {
    "duration": 4,
    "start_time": "2023-03-23T21:52:21.469Z"
   },
   {
    "duration": 6,
    "start_time": "2023-03-23T21:52:30.009Z"
   },
   {
    "duration": 19,
    "start_time": "2023-03-23T21:52:30.585Z"
   },
   {
    "duration": 18,
    "start_time": "2023-03-23T21:52:31.097Z"
   },
   {
    "duration": 7,
    "start_time": "2023-03-23T21:52:36.917Z"
   },
   {
    "duration": 51,
    "start_time": "2023-03-23T21:52:59.558Z"
   },
   {
    "duration": 1739,
    "start_time": "2023-03-23T21:53:12.357Z"
   },
   {
    "duration": 2256,
    "start_time": "2023-03-23T21:53:14.098Z"
   },
   {
    "duration": 2996,
    "start_time": "2023-03-23T21:53:16.357Z"
   },
   {
    "duration": 882,
    "start_time": "2023-03-23T21:53:19.356Z"
   },
   {
    "duration": 31,
    "start_time": "2023-03-23T21:53:20.240Z"
   },
   {
    "duration": 32,
    "start_time": "2023-03-23T21:53:20.272Z"
   },
   {
    "duration": 5,
    "start_time": "2023-03-23T21:53:20.306Z"
   },
   {
    "duration": 168,
    "start_time": "2023-03-23T21:53:20.314Z"
   },
   {
    "duration": 952,
    "start_time": "2023-03-23T21:53:20.484Z"
   },
   {
    "duration": 5,
    "start_time": "2023-03-23T21:53:21.439Z"
   },
   {
    "duration": 5,
    "start_time": "2023-03-23T21:53:21.446Z"
   },
   {
    "duration": 8,
    "start_time": "2023-03-23T21:53:21.453Z"
   },
   {
    "duration": 489,
    "start_time": "2023-03-23T21:53:21.489Z"
   },
   {
    "duration": 12,
    "start_time": "2023-03-23T21:53:21.980Z"
   },
   {
    "duration": 31,
    "start_time": "2023-03-23T21:53:21.994Z"
   },
   {
    "duration": 230,
    "start_time": "2023-03-23T21:53:22.027Z"
   },
   {
    "duration": 96,
    "start_time": "2023-03-23T21:53:22.259Z"
   },
   {
    "duration": 40,
    "start_time": "2023-03-23T21:53:22.357Z"
   },
   {
    "duration": 38,
    "start_time": "2023-03-23T21:53:22.399Z"
   },
   {
    "duration": 22,
    "start_time": "2023-03-23T21:53:22.439Z"
   },
   {
    "duration": 98,
    "start_time": "2023-03-23T21:53:22.463Z"
   },
   {
    "duration": 47,
    "start_time": "2023-03-23T21:53:22.563Z"
   },
   {
    "duration": 35,
    "start_time": "2023-03-23T21:53:22.612Z"
   },
   {
    "duration": 55,
    "start_time": "2023-03-23T21:53:22.649Z"
   },
   {
    "duration": 27,
    "start_time": "2023-03-23T21:53:22.705Z"
   },
   {
    "duration": 23,
    "start_time": "2023-03-23T21:53:22.734Z"
   },
   {
    "duration": 114,
    "start_time": "2023-03-23T21:53:22.760Z"
   },
   {
    "duration": 28,
    "start_time": "2023-03-23T21:53:22.891Z"
   },
   {
    "duration": 38,
    "start_time": "2023-03-23T21:53:22.921Z"
   },
   {
    "duration": 80,
    "start_time": "2023-03-23T21:53:22.989Z"
   },
   {
    "duration": 324,
    "start_time": "2023-03-23T21:53:23.071Z"
   },
   {
    "duration": 3,
    "start_time": "2023-03-23T21:53:23.397Z"
   },
   {
    "duration": 101,
    "start_time": "2023-03-23T21:53:23.402Z"
   },
   {
    "duration": 5,
    "start_time": "2023-03-23T21:53:23.505Z"
   },
   {
    "duration": 352,
    "start_time": "2023-03-23T21:53:23.511Z"
   },
   {
    "duration": 182,
    "start_time": "2023-03-23T21:53:23.865Z"
   },
   {
    "duration": 12,
    "start_time": "2023-03-23T21:53:24.049Z"
   },
   {
    "duration": 32,
    "start_time": "2023-03-23T21:53:24.062Z"
   },
   {
    "duration": 29,
    "start_time": "2023-03-23T21:53:24.096Z"
   },
   {
    "duration": 111,
    "start_time": "2023-03-23T21:53:24.128Z"
   },
   {
    "duration": 83,
    "start_time": "2023-03-23T21:53:24.241Z"
   },
   {
    "duration": 7,
    "start_time": "2023-03-23T21:53:24.326Z"
   },
   {
    "duration": 28,
    "start_time": "2023-03-23T21:53:24.335Z"
   },
   {
    "duration": 185,
    "start_time": "2023-03-23T21:53:24.365Z"
   },
   {
    "duration": 248,
    "start_time": "2023-03-23T21:53:24.552Z"
   },
   {
    "duration": 289,
    "start_time": "2023-03-23T21:53:24.802Z"
   },
   {
    "duration": 148,
    "start_time": "2023-03-23T21:53:25.093Z"
   },
   {
    "duration": 1945,
    "start_time": "2023-03-23T21:53:25.244Z"
   },
   {
    "duration": 4,
    "start_time": "2023-03-23T21:53:27.191Z"
   },
   {
    "duration": 126,
    "start_time": "2023-03-23T21:53:27.197Z"
   },
   {
    "duration": 13,
    "start_time": "2023-03-23T21:53:27.325Z"
   },
   {
    "duration": 28,
    "start_time": "2023-03-23T21:53:27.340Z"
   },
   {
    "duration": 68,
    "start_time": "2023-03-23T21:53:27.371Z"
   },
   {
    "duration": 44,
    "start_time": "2023-03-23T21:53:27.441Z"
   },
   {
    "duration": 37,
    "start_time": "2023-03-23T21:53:27.487Z"
   },
   {
    "duration": 41,
    "start_time": "2023-03-23T21:53:27.526Z"
   },
   {
    "duration": 37,
    "start_time": "2023-03-23T21:53:27.569Z"
   },
   {
    "duration": 24,
    "start_time": "2023-03-23T21:53:27.615Z"
   },
   {
    "duration": 30,
    "start_time": "2023-03-23T21:53:27.641Z"
   },
   {
    "duration": 59,
    "start_time": "2023-03-23T21:53:27.673Z"
   },
   {
    "duration": 59,
    "start_time": "2023-03-23T21:53:27.734Z"
   },
   {
    "duration": 116,
    "start_time": "2023-03-23T21:53:27.795Z"
   },
   {
    "duration": 3,
    "start_time": "2023-03-23T21:53:27.913Z"
   },
   {
    "duration": 94,
    "start_time": "2023-03-23T21:53:27.917Z"
   },
   {
    "duration": 98,
    "start_time": "2023-03-23T21:53:28.014Z"
   },
   {
    "duration": 39,
    "start_time": "2023-03-23T21:53:28.114Z"
   },
   {
    "duration": 283,
    "start_time": "2023-03-23T21:53:28.155Z"
   },
   {
    "duration": 1559,
    "start_time": "2023-03-23T21:53:28.440Z"
   },
   {
    "duration": 8636,
    "start_time": "2023-03-23T21:53:30.001Z"
   },
   {
    "duration": 175,
    "start_time": "2023-03-23T21:53:38.640Z"
   },
   {
    "duration": 154,
    "start_time": "2023-03-23T21:53:38.817Z"
   },
   {
    "duration": 182,
    "start_time": "2023-03-23T21:53:38.972Z"
   },
   {
    "duration": 183,
    "start_time": "2023-03-23T21:53:39.156Z"
   },
   {
    "duration": 10,
    "start_time": "2023-03-23T21:53:39.341Z"
   },
   {
    "duration": 362,
    "start_time": "2023-03-23T21:53:39.354Z"
   },
   {
    "duration": 39,
    "start_time": "2023-03-23T21:53:39.718Z"
   },
   {
    "duration": 235,
    "start_time": "2023-03-23T21:53:39.759Z"
   },
   {
    "duration": 35,
    "start_time": "2023-03-23T21:53:39.996Z"
   },
   {
    "duration": 447,
    "start_time": "2023-03-23T21:53:40.033Z"
   },
   {
    "duration": 38,
    "start_time": "2023-03-23T21:53:40.490Z"
   },
   {
    "duration": 203,
    "start_time": "2023-03-23T21:53:40.530Z"
   },
   {
    "duration": 101,
    "start_time": "2023-03-23T21:53:40.740Z"
   },
   {
    "duration": 26,
    "start_time": "2023-03-23T21:53:40.843Z"
   },
   {
    "duration": 21,
    "start_time": "2023-03-23T21:53:40.889Z"
   },
   {
    "duration": 181,
    "start_time": "2023-03-23T21:53:40.912Z"
   },
   {
    "duration": 209,
    "start_time": "2023-03-23T21:53:41.095Z"
   },
   {
    "duration": 144,
    "start_time": "2023-03-23T21:53:41.306Z"
   },
   {
    "duration": 420,
    "start_time": "2023-03-23T21:53:41.452Z"
   },
   {
    "duration": 74,
    "start_time": "2023-03-23T21:53:41.874Z"
   },
   {
    "duration": 4,
    "start_time": "2023-03-23T21:53:41.950Z"
   },
   {
    "duration": 10,
    "start_time": "2023-03-23T21:53:41.955Z"
   },
   {
    "duration": 39,
    "start_time": "2023-03-23T21:53:41.966Z"
   },
   {
    "duration": 12,
    "start_time": "2023-03-23T21:53:42.007Z"
   },
   {
    "duration": 10,
    "start_time": "2023-03-23T21:53:42.021Z"
   },
   {
    "duration": 2787,
    "start_time": "2023-03-23T21:57:59.327Z"
   },
   {
    "duration": 3303,
    "start_time": "2023-03-23T21:58:02.117Z"
   },
   {
    "duration": 3336,
    "start_time": "2023-03-23T21:58:05.423Z"
   },
   {
    "duration": 920,
    "start_time": "2023-03-23T21:58:08.762Z"
   },
   {
    "duration": 54,
    "start_time": "2023-03-23T21:58:09.684Z"
   },
   {
    "duration": 20,
    "start_time": "2023-03-23T21:58:09.741Z"
   },
   {
    "duration": 24,
    "start_time": "2023-03-23T21:58:09.765Z"
   },
   {
    "duration": 144,
    "start_time": "2023-03-23T21:58:09.792Z"
   },
   {
    "duration": 1012,
    "start_time": "2023-03-23T21:58:09.938Z"
   },
   {
    "duration": 5,
    "start_time": "2023-03-23T21:58:10.953Z"
   },
   {
    "duration": 15,
    "start_time": "2023-03-23T21:58:10.960Z"
   },
   {
    "duration": 14,
    "start_time": "2023-03-23T21:58:10.977Z"
   },
   {
    "duration": 721,
    "start_time": "2023-03-23T21:58:10.994Z"
   },
   {
    "duration": 12,
    "start_time": "2023-03-23T21:58:11.717Z"
   },
   {
    "duration": 36,
    "start_time": "2023-03-23T21:58:11.732Z"
   },
   {
    "duration": 286,
    "start_time": "2023-03-23T21:58:11.771Z"
   },
   {
    "duration": 100,
    "start_time": "2023-03-23T21:58:12.059Z"
   },
   {
    "duration": 34,
    "start_time": "2023-03-23T21:58:12.161Z"
   },
   {
    "duration": 36,
    "start_time": "2023-03-23T21:58:12.197Z"
   },
   {
    "duration": 53,
    "start_time": "2023-03-23T21:58:12.236Z"
   },
   {
    "duration": 83,
    "start_time": "2023-03-23T21:58:12.291Z"
   },
   {
    "duration": 57,
    "start_time": "2023-03-23T21:58:12.376Z"
   },
   {
    "duration": 32,
    "start_time": "2023-03-23T21:58:12.435Z"
   },
   {
    "duration": 32,
    "start_time": "2023-03-23T21:58:12.469Z"
   },
   {
    "duration": 27,
    "start_time": "2023-03-23T21:58:12.503Z"
   },
   {
    "duration": 33,
    "start_time": "2023-03-23T21:58:12.532Z"
   },
   {
    "duration": 187,
    "start_time": "2023-03-23T21:58:12.567Z"
   },
   {
    "duration": 40,
    "start_time": "2023-03-23T21:58:12.759Z"
   },
   {
    "duration": 42,
    "start_time": "2023-03-23T21:58:12.801Z"
   },
   {
    "duration": 121,
    "start_time": "2023-03-23T21:58:12.845Z"
   },
   {
    "duration": 340,
    "start_time": "2023-03-23T21:58:12.969Z"
   },
   {
    "duration": 5,
    "start_time": "2023-03-23T21:58:13.312Z"
   },
   {
    "duration": 184,
    "start_time": "2023-03-23T21:58:13.319Z"
   },
   {
    "duration": 6,
    "start_time": "2023-03-23T21:58:13.505Z"
   },
   {
    "duration": 370,
    "start_time": "2023-03-23T21:58:13.512Z"
   },
   {
    "duration": 167,
    "start_time": "2023-03-23T21:58:13.884Z"
   },
   {
    "duration": 14,
    "start_time": "2023-03-23T21:58:14.052Z"
   },
   {
    "duration": 26,
    "start_time": "2023-03-23T21:58:14.067Z"
   },
   {
    "duration": 20,
    "start_time": "2023-03-23T21:58:14.095Z"
   },
   {
    "duration": 111,
    "start_time": "2023-03-23T21:58:14.117Z"
   },
   {
    "duration": 94,
    "start_time": "2023-03-23T21:58:14.230Z"
   },
   {
    "duration": 4,
    "start_time": "2023-03-23T21:58:14.326Z"
   },
   {
    "duration": 22,
    "start_time": "2023-03-23T21:58:14.332Z"
   },
   {
    "duration": 222,
    "start_time": "2023-03-23T21:58:14.356Z"
   },
   {
    "duration": 267,
    "start_time": "2023-03-23T21:58:14.580Z"
   },
   {
    "duration": 297,
    "start_time": "2023-03-23T21:58:14.850Z"
   },
   {
    "duration": 143,
    "start_time": "2023-03-23T21:58:15.149Z"
   },
   {
    "duration": 1879,
    "start_time": "2023-03-23T21:58:15.294Z"
   },
   {
    "duration": 13,
    "start_time": "2023-03-23T21:58:17.176Z"
   },
   {
    "duration": 72,
    "start_time": "2023-03-23T21:58:17.192Z"
   },
   {
    "duration": 32,
    "start_time": "2023-03-23T21:58:17.266Z"
   },
   {
    "duration": 5,
    "start_time": "2023-03-23T21:58:17.301Z"
   },
   {
    "duration": 41,
    "start_time": "2023-03-23T21:58:17.310Z"
   },
   {
    "duration": 10,
    "start_time": "2023-03-23T21:58:17.352Z"
   },
   {
    "duration": 42,
    "start_time": "2023-03-23T21:58:17.364Z"
   },
   {
    "duration": 7,
    "start_time": "2023-03-23T21:58:17.408Z"
   },
   {
    "duration": 7,
    "start_time": "2023-03-23T21:58:17.417Z"
   },
   {
    "duration": 11,
    "start_time": "2023-03-23T21:58:17.426Z"
   },
   {
    "duration": 51,
    "start_time": "2023-03-23T21:58:17.440Z"
   },
   {
    "duration": 15,
    "start_time": "2023-03-23T21:58:17.493Z"
   },
   {
    "duration": 25,
    "start_time": "2023-03-23T21:58:17.510Z"
   },
   {
    "duration": 129,
    "start_time": "2023-03-23T21:58:17.537Z"
   },
   {
    "duration": 3,
    "start_time": "2023-03-23T21:58:17.669Z"
   },
   {
    "duration": 94,
    "start_time": "2023-03-23T21:58:17.674Z"
   },
   {
    "duration": 90,
    "start_time": "2023-03-23T21:58:17.770Z"
   },
   {
    "duration": 38,
    "start_time": "2023-03-23T21:58:17.862Z"
   },
   {
    "duration": 368,
    "start_time": "2023-03-23T21:58:17.905Z"
   },
   {
    "duration": 1614,
    "start_time": "2023-03-23T21:58:18.276Z"
   },
   {
    "duration": 8930,
    "start_time": "2023-03-23T21:58:19.892Z"
   },
   {
    "duration": 209,
    "start_time": "2023-03-23T21:58:28.824Z"
   },
   {
    "duration": 193,
    "start_time": "2023-03-23T21:58:29.036Z"
   },
   {
    "duration": 188,
    "start_time": "2023-03-23T21:58:29.230Z"
   },
   {
    "duration": 193,
    "start_time": "2023-03-23T21:58:29.420Z"
   },
   {
    "duration": 12,
    "start_time": "2023-03-23T21:58:29.615Z"
   },
   {
    "duration": 195,
    "start_time": "2023-03-23T21:58:29.629Z"
   },
   {
    "duration": 41,
    "start_time": "2023-03-23T21:58:29.826Z"
   },
   {
    "duration": 213,
    "start_time": "2023-03-23T21:58:29.868Z"
   },
   {
    "duration": 36,
    "start_time": "2023-03-23T21:58:30.083Z"
   },
   {
    "duration": 625,
    "start_time": "2023-03-23T21:58:30.123Z"
   },
   {
    "duration": 44,
    "start_time": "2023-03-23T21:58:30.750Z"
   },
   {
    "duration": 169,
    "start_time": "2023-03-23T21:58:30.796Z"
   },
   {
    "duration": 111,
    "start_time": "2023-03-23T21:58:30.967Z"
   },
   {
    "duration": 27,
    "start_time": "2023-03-23T21:58:31.090Z"
   },
   {
    "duration": 39,
    "start_time": "2023-03-23T21:58:31.119Z"
   },
   {
    "duration": 188,
    "start_time": "2023-03-23T21:58:31.160Z"
   },
   {
    "duration": 270,
    "start_time": "2023-03-23T21:58:31.350Z"
   },
   {
    "duration": 162,
    "start_time": "2023-03-23T21:58:31.623Z"
   },
   {
    "duration": 480,
    "start_time": "2023-03-23T21:58:31.789Z"
   },
   {
    "duration": 144,
    "start_time": "2023-03-23T21:59:15.787Z"
   },
   {
    "duration": 12,
    "start_time": "2023-03-23T21:59:42.723Z"
   },
   {
    "duration": 12,
    "start_time": "2023-03-23T21:59:56.479Z"
   },
   {
    "duration": 75,
    "start_time": "2023-03-23T21:59:58.891Z"
   },
   {
    "duration": 4,
    "start_time": "2023-03-23T21:59:59.675Z"
   },
   {
    "duration": 25,
    "start_time": "2023-03-23T22:00:28.399Z"
   },
   {
    "duration": 16,
    "start_time": "2023-03-23T22:00:32.868Z"
   },
   {
    "duration": 10,
    "start_time": "2023-03-23T22:00:40.478Z"
   },
   {
    "duration": 135,
    "start_time": "2023-03-23T22:01:11.831Z"
   },
   {
    "duration": 13,
    "start_time": "2023-03-23T22:02:05.668Z"
   },
   {
    "duration": 18,
    "start_time": "2023-03-23T22:02:51.719Z"
   },
   {
    "duration": 13,
    "start_time": "2023-03-23T22:02:52.860Z"
   },
   {
    "duration": 7,
    "start_time": "2023-03-23T22:02:53.316Z"
   },
   {
    "duration": 116,
    "start_time": "2023-03-23T22:02:55.223Z"
   },
   {
    "duration": 16,
    "start_time": "2023-03-23T22:02:56.289Z"
   },
   {
    "duration": 4798,
    "start_time": "2023-03-23T22:02:57.272Z"
   },
   {
    "duration": 576,
    "start_time": "2023-03-23T22:03:09.028Z"
   },
   {
    "duration": 23,
    "start_time": "2023-03-23T22:03:50.848Z"
   },
   {
    "duration": 68,
    "start_time": "2023-03-23T22:03:51.228Z"
   },
   {
    "duration": 665,
    "start_time": "2023-03-23T22:03:51.840Z"
   },
   {
    "duration": 31002,
    "start_time": "2023-03-23T22:06:25.300Z"
   },
   {
    "duration": 71,
    "start_time": "2023-03-23T22:07:30.561Z"
   },
   {
    "duration": 27089,
    "start_time": "2023-03-23T22:08:23.200Z"
   },
   {
    "duration": 95,
    "start_time": "2023-03-23T22:11:14.538Z"
   },
   {
    "duration": 74,
    "start_time": "2023-03-23T22:12:20.395Z"
   },
   {
    "duration": 71,
    "start_time": "2023-03-23T22:12:59.127Z"
   },
   {
    "duration": 75,
    "start_time": "2023-03-23T22:13:55.418Z"
   },
   {
    "duration": 4,
    "start_time": "2023-03-23T22:14:54.882Z"
   },
   {
    "duration": 3,
    "start_time": "2023-03-23T22:15:41.331Z"
   },
   {
    "duration": 3,
    "start_time": "2023-03-23T22:17:29.335Z"
   },
   {
    "duration": 100,
    "start_time": "2023-03-23T22:17:32.991Z"
   },
   {
    "duration": 13647,
    "start_time": "2023-03-23T22:18:57.036Z"
   },
   {
    "duration": 13397,
    "start_time": "2023-03-23T22:19:28.896Z"
   },
   {
    "duration": 13458,
    "start_time": "2023-03-23T22:19:50.796Z"
   },
   {
    "duration": 28583,
    "start_time": "2023-03-23T22:25:00.319Z"
   },
   {
    "duration": 28714,
    "start_time": "2023-03-23T22:26:02.586Z"
   },
   {
    "duration": 30311,
    "start_time": "2023-03-23T22:27:11.278Z"
   },
   {
    "duration": 31926,
    "start_time": "2023-03-23T22:28:09.871Z"
   },
   {
    "duration": 14,
    "start_time": "2023-03-23T22:29:44.599Z"
   },
   {
    "duration": 3,
    "start_time": "2023-03-23T22:29:53.766Z"
   },
   {
    "duration": 202179,
    "start_time": "2023-03-23T22:29:55.500Z"
   },
   {
    "duration": 198270,
    "start_time": "2023-03-23T22:34:01.683Z"
   },
   {
    "duration": 200034,
    "start_time": "2023-03-23T22:39:12.897Z"
   },
   {
    "duration": 129,
    "start_time": "2023-03-23T22:43:39.974Z"
   },
   {
    "duration": 47,
    "start_time": "2023-03-23T22:44:22.715Z"
   },
   {
    "duration": 7369,
    "start_time": "2023-03-23T22:45:32.448Z"
   },
   {
    "duration": 9334,
    "start_time": "2023-03-23T22:54:40.578Z"
   },
   {
    "duration": 11,
    "start_time": "2023-03-23T23:06:22.350Z"
   },
   {
    "duration": 13,
    "start_time": "2023-03-23T23:07:08.551Z"
   },
   {
    "duration": 12,
    "start_time": "2023-03-23T23:07:34.280Z"
   },
   {
    "duration": 14,
    "start_time": "2023-03-23T23:07:46.636Z"
   },
   {
    "duration": 70,
    "start_time": "2023-03-23T23:08:26.490Z"
   },
   {
    "duration": 76,
    "start_time": "2023-03-23T23:08:29.599Z"
   },
   {
    "duration": 73,
    "start_time": "2023-03-23T23:08:34.306Z"
   },
   {
    "duration": 14,
    "start_time": "2023-03-23T23:08:59.870Z"
   },
   {
    "duration": 11,
    "start_time": "2023-03-23T23:09:21.414Z"
   },
   {
    "duration": 10,
    "start_time": "2023-03-23T23:09:33.594Z"
   },
   {
    "duration": 73,
    "start_time": "2023-03-23T23:12:05.179Z"
   },
   {
    "duration": 71,
    "start_time": "2023-03-23T23:16:42.177Z"
   },
   {
    "duration": 103,
    "start_time": "2023-03-23T23:20:52.425Z"
   },
   {
    "duration": 12,
    "start_time": "2023-03-23T23:21:03.506Z"
   },
   {
    "duration": 137,
    "start_time": "2023-03-23T23:21:56.466Z"
   },
   {
    "duration": 103,
    "start_time": "2023-03-23T23:22:07.934Z"
   },
   {
    "duration": 105,
    "start_time": "2023-03-23T23:22:11.949Z"
   },
   {
    "duration": 21,
    "start_time": "2023-03-23T23:27:09.095Z"
   },
   {
    "duration": 3,
    "start_time": "2023-03-23T23:27:12.999Z"
   },
   {
    "duration": 22,
    "start_time": "2023-03-23T23:27:13.403Z"
   },
   {
    "duration": 75,
    "start_time": "2023-03-23T23:27:39.479Z"
   },
   {
    "duration": 15,
    "start_time": "2023-03-23T23:27:39.899Z"
   },
   {
    "duration": 77,
    "start_time": "2023-03-23T23:28:16.911Z"
   },
   {
    "duration": 11,
    "start_time": "2023-03-23T23:28:31.802Z"
   },
   {
    "duration": 11,
    "start_time": "2023-03-23T23:28:40.731Z"
   },
   {
    "duration": 10,
    "start_time": "2023-03-23T23:28:46.539Z"
   },
   {
    "duration": 373,
    "start_time": "2023-03-23T23:29:58.094Z"
   },
   {
    "duration": 364,
    "start_time": "2023-03-23T23:30:59.527Z"
   },
   {
    "duration": 366,
    "start_time": "2023-03-23T23:31:26.143Z"
   },
   {
    "duration": 365,
    "start_time": "2023-03-23T23:31:32.931Z"
   },
   {
    "duration": 559,
    "start_time": "2023-03-23T23:32:06.755Z"
   },
   {
    "duration": 618,
    "start_time": "2023-03-23T23:32:15.619Z"
   },
   {
    "duration": 620,
    "start_time": "2023-03-23T23:32:25.655Z"
   },
   {
    "duration": 735,
    "start_time": "2023-03-23T23:32:32.835Z"
   },
   {
    "duration": 653,
    "start_time": "2023-03-23T23:32:38.703Z"
   },
   {
    "duration": 215,
    "start_time": "2023-03-23T23:32:56.098Z"
   },
   {
    "duration": 232,
    "start_time": "2023-03-23T23:33:01.634Z"
   },
   {
    "duration": 27,
    "start_time": "2023-03-23T23:33:06.815Z"
   },
   {
    "duration": 120,
    "start_time": "2023-03-23T23:33:13.587Z"
   },
   {
    "duration": 110,
    "start_time": "2023-03-23T23:33:20.649Z"
   },
   {
    "duration": 689,
    "start_time": "2023-03-23T23:33:27.000Z"
   },
   {
    "duration": 12,
    "start_time": "2023-03-23T23:34:01.367Z"
   },
   {
    "duration": 489,
    "start_time": "2023-03-23T23:34:09.435Z"
   },
   {
    "duration": 552,
    "start_time": "2023-03-23T23:34:14.375Z"
   },
   {
    "duration": 595,
    "start_time": "2023-03-23T23:34:18.243Z"
   },
   {
    "duration": 604,
    "start_time": "2023-03-23T23:34:23.922Z"
   },
   {
    "duration": 1314,
    "start_time": "2023-03-23T23:38:13.712Z"
   },
   {
    "duration": 2174,
    "start_time": "2023-03-23T23:38:15.029Z"
   },
   {
    "duration": 877,
    "start_time": "2023-03-23T23:38:17.206Z"
   },
   {
    "duration": 911,
    "start_time": "2023-03-23T23:38:18.088Z"
   },
   {
    "duration": 33,
    "start_time": "2023-03-23T23:38:19.002Z"
   },
   {
    "duration": 23,
    "start_time": "2023-03-23T23:38:19.037Z"
   },
   {
    "duration": 4,
    "start_time": "2023-03-23T23:38:19.061Z"
   },
   {
    "duration": 157,
    "start_time": "2023-03-23T23:38:19.067Z"
   },
   {
    "duration": 985,
    "start_time": "2023-03-23T23:38:19.226Z"
   },
   {
    "duration": 4,
    "start_time": "2023-03-23T23:38:20.213Z"
   },
   {
    "duration": 6,
    "start_time": "2023-03-23T23:38:20.219Z"
   },
   {
    "duration": 7,
    "start_time": "2023-03-23T23:38:20.226Z"
   },
   {
    "duration": 510,
    "start_time": "2023-03-23T23:38:20.234Z"
   },
   {
    "duration": 7,
    "start_time": "2023-03-23T23:38:20.747Z"
   },
   {
    "duration": 35,
    "start_time": "2023-03-23T23:38:20.756Z"
   },
   {
    "duration": 204,
    "start_time": "2023-03-23T23:38:20.793Z"
   },
   {
    "duration": 91,
    "start_time": "2023-03-23T23:38:20.999Z"
   },
   {
    "duration": 26,
    "start_time": "2023-03-23T23:38:21.092Z"
   },
   {
    "duration": 33,
    "start_time": "2023-03-23T23:38:21.119Z"
   },
   {
    "duration": 41,
    "start_time": "2023-03-23T23:38:21.154Z"
   },
   {
    "duration": 80,
    "start_time": "2023-03-23T23:38:21.197Z"
   },
   {
    "duration": 34,
    "start_time": "2023-03-23T23:38:21.289Z"
   },
   {
    "duration": 23,
    "start_time": "2023-03-23T23:38:21.324Z"
   },
   {
    "duration": 43,
    "start_time": "2023-03-23T23:38:21.349Z"
   },
   {
    "duration": 22,
    "start_time": "2023-03-23T23:38:21.394Z"
   },
   {
    "duration": 21,
    "start_time": "2023-03-23T23:38:21.418Z"
   },
   {
    "duration": 102,
    "start_time": "2023-03-23T23:38:21.441Z"
   },
   {
    "duration": 22,
    "start_time": "2023-03-23T23:38:21.545Z"
   },
   {
    "duration": 52,
    "start_time": "2023-03-23T23:38:21.569Z"
   },
   {
    "duration": 94,
    "start_time": "2023-03-23T23:38:21.622Z"
   },
   {
    "duration": 323,
    "start_time": "2023-03-23T23:38:21.718Z"
   },
   {
    "duration": 5,
    "start_time": "2023-03-23T23:38:22.042Z"
   },
   {
    "duration": 103,
    "start_time": "2023-03-23T23:38:22.048Z"
   },
   {
    "duration": 4,
    "start_time": "2023-03-23T23:38:22.153Z"
   },
   {
    "duration": 368,
    "start_time": "2023-03-23T23:38:22.159Z"
   },
   {
    "duration": 172,
    "start_time": "2023-03-23T23:38:22.528Z"
   },
   {
    "duration": 16,
    "start_time": "2023-03-23T23:38:22.702Z"
   },
   {
    "duration": 15,
    "start_time": "2023-03-23T23:38:22.721Z"
   },
   {
    "duration": 22,
    "start_time": "2023-03-23T23:38:22.738Z"
   },
   {
    "duration": 112,
    "start_time": "2023-03-23T23:38:22.761Z"
   },
   {
    "duration": 98,
    "start_time": "2023-03-23T23:38:22.891Z"
   },
   {
    "duration": 5,
    "start_time": "2023-03-23T23:38:22.991Z"
   },
   {
    "duration": 33,
    "start_time": "2023-03-23T23:38:22.998Z"
   },
   {
    "duration": 189,
    "start_time": "2023-03-23T23:38:23.033Z"
   },
   {
    "duration": 238,
    "start_time": "2023-03-23T23:38:23.224Z"
   },
   {
    "duration": 254,
    "start_time": "2023-03-23T23:38:23.465Z"
   },
   {
    "duration": 130,
    "start_time": "2023-03-23T23:38:23.720Z"
   },
   {
    "duration": 1691,
    "start_time": "2023-03-23T23:38:23.851Z"
   },
   {
    "duration": 4,
    "start_time": "2023-03-23T23:38:25.544Z"
   },
   {
    "duration": 82,
    "start_time": "2023-03-23T23:38:25.550Z"
   },
   {
    "duration": 12,
    "start_time": "2023-03-23T23:38:25.634Z"
   },
   {
    "duration": 6,
    "start_time": "2023-03-23T23:38:25.647Z"
   },
   {
    "duration": 46,
    "start_time": "2023-03-23T23:38:25.654Z"
   },
   {
    "duration": 4,
    "start_time": "2023-03-23T23:38:25.702Z"
   },
   {
    "duration": 13,
    "start_time": "2023-03-23T23:38:25.707Z"
   },
   {
    "duration": 12,
    "start_time": "2023-03-23T23:38:25.721Z"
   },
   {
    "duration": 9,
    "start_time": "2023-03-23T23:38:25.734Z"
   },
   {
    "duration": 8,
    "start_time": "2023-03-23T23:38:25.744Z"
   },
   {
    "duration": 6,
    "start_time": "2023-03-23T23:38:25.753Z"
   },
   {
    "duration": 40,
    "start_time": "2023-03-23T23:38:25.761Z"
   },
   {
    "duration": 24,
    "start_time": "2023-03-23T23:38:25.803Z"
   },
   {
    "duration": 98,
    "start_time": "2023-03-23T23:38:25.829Z"
   },
   {
    "duration": 2,
    "start_time": "2023-03-23T23:38:25.929Z"
   },
   {
    "duration": 89,
    "start_time": "2023-03-23T23:38:25.933Z"
   },
   {
    "duration": 89,
    "start_time": "2023-03-23T23:38:26.023Z"
   },
   {
    "duration": 23,
    "start_time": "2023-03-23T23:38:26.114Z"
   },
   {
    "duration": 268,
    "start_time": "2023-03-23T23:38:26.139Z"
   },
   {
    "duration": 1511,
    "start_time": "2023-03-23T23:38:26.408Z"
   },
   {
    "duration": 8060,
    "start_time": "2023-03-23T23:38:27.921Z"
   },
   {
    "duration": 150,
    "start_time": "2023-03-23T23:38:35.988Z"
   },
   {
    "duration": 149,
    "start_time": "2023-03-23T23:38:36.140Z"
   },
   {
    "duration": 180,
    "start_time": "2023-03-23T23:38:36.291Z"
   },
   {
    "duration": 182,
    "start_time": "2023-03-23T23:38:36.473Z"
   },
   {
    "duration": 11,
    "start_time": "2023-03-23T23:38:36.657Z"
   },
   {
    "duration": 361,
    "start_time": "2023-03-23T23:38:36.670Z"
   },
   {
    "duration": 39,
    "start_time": "2023-03-23T23:38:37.033Z"
   },
   {
    "duration": 220,
    "start_time": "2023-03-23T23:38:37.074Z"
   },
   {
    "duration": 40,
    "start_time": "2023-03-23T23:38:37.296Z"
   },
   {
    "duration": 420,
    "start_time": "2023-03-23T23:38:37.338Z"
   },
   {
    "duration": 38,
    "start_time": "2023-03-23T23:38:37.760Z"
   },
   {
    "duration": 166,
    "start_time": "2023-03-23T23:38:37.800Z"
   },
   {
    "duration": 85,
    "start_time": "2023-03-23T23:38:37.968Z"
   },
   {
    "duration": 19,
    "start_time": "2023-03-23T23:38:38.054Z"
   },
   {
    "duration": 32,
    "start_time": "2023-03-23T23:38:38.075Z"
   },
   {
    "duration": 188,
    "start_time": "2023-03-23T23:38:38.109Z"
   },
   {
    "duration": 198,
    "start_time": "2023-03-23T23:38:38.299Z"
   },
   {
    "duration": 159,
    "start_time": "2023-03-23T23:38:38.499Z"
   },
   {
    "duration": 427,
    "start_time": "2023-03-23T23:38:38.660Z"
   },
   {
    "duration": 71,
    "start_time": "2023-03-23T23:38:39.089Z"
   },
   {
    "duration": 4,
    "start_time": "2023-03-23T23:38:39.162Z"
   },
   {
    "duration": 184,
    "start_time": "2023-03-23T23:38:39.167Z"
   },
   {
    "duration": 0,
    "start_time": "2023-03-23T23:38:39.353Z"
   },
   {
    "duration": 0,
    "start_time": "2023-03-23T23:38:39.354Z"
   },
   {
    "duration": 0,
    "start_time": "2023-03-23T23:38:39.356Z"
   },
   {
    "duration": 0,
    "start_time": "2023-03-23T23:38:39.358Z"
   },
   {
    "duration": 0,
    "start_time": "2023-03-23T23:38:39.360Z"
   },
   {
    "duration": 0,
    "start_time": "2023-03-23T23:38:39.361Z"
   },
   {
    "duration": 0,
    "start_time": "2023-03-23T23:38:39.362Z"
   },
   {
    "duration": 0,
    "start_time": "2023-03-23T23:38:39.363Z"
   },
   {
    "duration": 0,
    "start_time": "2023-03-23T23:38:39.364Z"
   },
   {
    "duration": 0,
    "start_time": "2023-03-23T23:38:39.390Z"
   },
   {
    "duration": 0,
    "start_time": "2023-03-23T23:38:39.391Z"
   },
   {
    "duration": 0,
    "start_time": "2023-03-23T23:38:39.392Z"
   },
   {
    "duration": 0,
    "start_time": "2023-03-23T23:38:39.393Z"
   },
   {
    "duration": 0,
    "start_time": "2023-03-23T23:38:39.395Z"
   },
   {
    "duration": 0,
    "start_time": "2023-03-23T23:38:39.395Z"
   },
   {
    "duration": 0,
    "start_time": "2023-03-23T23:38:39.397Z"
   },
   {
    "duration": 0,
    "start_time": "2023-03-23T23:38:39.398Z"
   },
   {
    "duration": 0,
    "start_time": "2023-03-23T23:38:39.400Z"
   },
   {
    "duration": 19,
    "start_time": "2023-03-23T23:39:31.829Z"
   },
   {
    "duration": 14,
    "start_time": "2023-03-23T23:39:37.414Z"
   },
   {
    "duration": 12,
    "start_time": "2023-03-23T23:39:39.436Z"
   },
   {
    "duration": 8,
    "start_time": "2023-03-23T23:39:39.853Z"
   },
   {
    "duration": 145,
    "start_time": "2023-03-23T23:39:40.192Z"
   },
   {
    "duration": 23,
    "start_time": "2023-03-23T23:39:40.597Z"
   },
   {
    "duration": 3864,
    "start_time": "2023-03-23T23:39:40.786Z"
   },
   {
    "duration": 604,
    "start_time": "2023-03-23T23:39:44.652Z"
   },
   {
    "duration": 33,
    "start_time": "2023-03-23T23:39:45.258Z"
   },
   {
    "duration": 68,
    "start_time": "2023-03-23T23:39:45.294Z"
   },
   {
    "duration": 673,
    "start_time": "2023-03-23T23:39:45.364Z"
   },
   {
    "duration": 30057,
    "start_time": "2023-03-23T23:39:46.039Z"
   },
   {
    "duration": 0,
    "start_time": "2023-03-23T23:40:16.098Z"
   },
   {
    "duration": 0,
    "start_time": "2023-03-23T23:40:16.100Z"
   },
   {
    "duration": 0,
    "start_time": "2023-03-23T23:40:16.101Z"
   },
   {
    "duration": 0,
    "start_time": "2023-03-23T23:40:16.102Z"
   },
   {
    "duration": 0,
    "start_time": "2023-03-23T23:40:16.104Z"
   },
   {
    "duration": 0,
    "start_time": "2023-03-23T23:40:16.105Z"
   },
   {
    "duration": 22417,
    "start_time": "2023-03-23T23:40:54.180Z"
   },
   {
    "duration": 93,
    "start_time": "2023-03-23T23:41:16.599Z"
   },
   {
    "duration": 13090,
    "start_time": "2023-03-23T23:41:16.695Z"
   },
   {
    "duration": 4,
    "start_time": "2023-03-23T23:41:29.791Z"
   },
   {
    "duration": 179,
    "start_time": "2023-03-23T23:41:29.797Z"
   },
   {
    "duration": 160726,
    "start_time": "2023-03-23T23:41:29.977Z"
   },
   {
    "duration": 12,
    "start_time": "2023-03-23T23:44:10.705Z"
   },
   {
    "duration": 12,
    "start_time": "2023-03-23T23:44:28.783Z"
   },
   {
    "duration": 192170,
    "start_time": "2023-03-23T23:44:41.947Z"
   },
   {
    "duration": 10,
    "start_time": "2023-03-23T23:47:54.119Z"
   },
   {
    "duration": 3,
    "start_time": "2023-03-23T23:48:51.086Z"
   },
   {
    "duration": 10945,
    "start_time": "2023-03-23T23:49:07.646Z"
   },
   {
    "duration": 3,
    "start_time": "2023-03-23T23:49:56.514Z"
   },
   {
    "duration": 11453,
    "start_time": "2023-03-23T23:52:35.219Z"
   },
   {
    "duration": 4,
    "start_time": "2023-03-23T23:53:39.386Z"
   },
   {
    "duration": 12519,
    "start_time": "2023-03-23T23:53:40.247Z"
   },
   {
    "duration": 1704,
    "start_time": "2023-03-24T16:36:49.227Z"
   },
   {
    "duration": 6860,
    "start_time": "2023-03-24T16:36:50.934Z"
   },
   {
    "duration": 2892,
    "start_time": "2023-03-24T16:36:57.799Z"
   },
   {
    "duration": 873,
    "start_time": "2023-03-24T16:37:00.693Z"
   },
   {
    "duration": 34,
    "start_time": "2023-03-24T16:37:01.568Z"
   },
   {
    "duration": 206,
    "start_time": "2023-03-24T16:37:01.603Z"
   },
   {
    "duration": 41,
    "start_time": "2023-03-24T16:37:01.811Z"
   },
   {
    "duration": 187,
    "start_time": "2023-03-24T16:37:01.854Z"
   },
   {
    "duration": 953,
    "start_time": "2023-03-24T16:37:02.045Z"
   },
   {
    "duration": 5,
    "start_time": "2023-03-24T16:37:03.000Z"
   },
   {
    "duration": 12,
    "start_time": "2023-03-24T16:37:03.007Z"
   },
   {
    "duration": 20,
    "start_time": "2023-03-24T16:37:03.021Z"
   },
   {
    "duration": 475,
    "start_time": "2023-03-24T16:37:03.043Z"
   },
   {
    "duration": 8,
    "start_time": "2023-03-24T16:37:03.521Z"
   },
   {
    "duration": 16,
    "start_time": "2023-03-24T16:37:03.541Z"
   },
   {
    "duration": 214,
    "start_time": "2023-03-24T16:37:03.559Z"
   },
   {
    "duration": 88,
    "start_time": "2023-03-24T16:37:03.775Z"
   },
   {
    "duration": 21,
    "start_time": "2023-03-24T16:37:03.865Z"
   },
   {
    "duration": 55,
    "start_time": "2023-03-24T16:37:03.888Z"
   },
   {
    "duration": 30,
    "start_time": "2023-03-24T16:37:03.945Z"
   },
   {
    "duration": 86,
    "start_time": "2023-03-24T16:37:03.977Z"
   },
   {
    "duration": 36,
    "start_time": "2023-03-24T16:37:04.065Z"
   },
   {
    "duration": 39,
    "start_time": "2023-03-24T16:37:04.103Z"
   },
   {
    "duration": 41,
    "start_time": "2023-03-24T16:37:04.144Z"
   },
   {
    "duration": 25,
    "start_time": "2023-03-24T16:37:04.187Z"
   },
   {
    "duration": 32,
    "start_time": "2023-03-24T16:37:04.214Z"
   },
   {
    "duration": 92,
    "start_time": "2023-03-24T16:37:04.253Z"
   },
   {
    "duration": 25,
    "start_time": "2023-03-24T16:37:04.347Z"
   },
   {
    "duration": 34,
    "start_time": "2023-03-24T16:37:04.374Z"
   },
   {
    "duration": 101,
    "start_time": "2023-03-24T16:37:04.410Z"
   },
   {
    "duration": 327,
    "start_time": "2023-03-24T16:37:04.513Z"
   },
   {
    "duration": 4,
    "start_time": "2023-03-24T16:37:04.842Z"
   },
   {
    "duration": 99,
    "start_time": "2023-03-24T16:37:04.848Z"
   },
   {
    "duration": 5,
    "start_time": "2023-03-24T16:37:04.949Z"
   },
   {
    "duration": 403,
    "start_time": "2023-03-24T16:37:04.955Z"
   },
   {
    "duration": 249,
    "start_time": "2023-03-24T16:37:05.360Z"
   },
   {
    "duration": 13,
    "start_time": "2023-03-24T16:37:05.611Z"
   },
   {
    "duration": 22,
    "start_time": "2023-03-24T16:37:05.625Z"
   },
   {
    "duration": 21,
    "start_time": "2023-03-24T16:37:05.648Z"
   },
   {
    "duration": 98,
    "start_time": "2023-03-24T16:37:05.670Z"
   },
   {
    "duration": 96,
    "start_time": "2023-03-24T16:37:05.770Z"
   },
   {
    "duration": 6,
    "start_time": "2023-03-24T16:37:05.868Z"
   },
   {
    "duration": 26,
    "start_time": "2023-03-24T16:37:05.875Z"
   },
   {
    "duration": 220,
    "start_time": "2023-03-24T16:37:05.903Z"
   },
   {
    "duration": 165,
    "start_time": "2023-03-24T16:37:06.125Z"
   },
   {
    "duration": 262,
    "start_time": "2023-03-24T16:37:06.291Z"
   },
   {
    "duration": 132,
    "start_time": "2023-03-24T16:37:06.555Z"
   },
   {
    "duration": 1780,
    "start_time": "2023-03-24T16:37:06.688Z"
   },
   {
    "duration": 4,
    "start_time": "2023-03-24T16:37:08.470Z"
   },
   {
    "duration": 82,
    "start_time": "2023-03-24T16:37:08.476Z"
   },
   {
    "duration": 14,
    "start_time": "2023-03-24T16:37:08.560Z"
   },
   {
    "duration": 6,
    "start_time": "2023-03-24T16:37:08.576Z"
   },
   {
    "duration": 28,
    "start_time": "2023-03-24T16:37:08.584Z"
   },
   {
    "duration": 5,
    "start_time": "2023-03-24T16:37:08.641Z"
   },
   {
    "duration": 11,
    "start_time": "2023-03-24T16:37:08.648Z"
   },
   {
    "duration": 13,
    "start_time": "2023-03-24T16:37:08.661Z"
   },
   {
    "duration": 5,
    "start_time": "2023-03-24T16:37:08.676Z"
   },
   {
    "duration": 10,
    "start_time": "2023-03-24T16:37:08.683Z"
   },
   {
    "duration": 8,
    "start_time": "2023-03-24T16:37:08.695Z"
   },
   {
    "duration": 46,
    "start_time": "2023-03-24T16:37:08.705Z"
   },
   {
    "duration": 20,
    "start_time": "2023-03-24T16:37:08.753Z"
   },
   {
    "duration": 113,
    "start_time": "2023-03-24T16:37:08.775Z"
   },
   {
    "duration": 4,
    "start_time": "2023-03-24T16:37:08.890Z"
   },
   {
    "duration": 87,
    "start_time": "2023-03-24T16:37:08.896Z"
   },
   {
    "duration": 107,
    "start_time": "2023-03-24T16:37:08.986Z"
   },
   {
    "duration": 21,
    "start_time": "2023-03-24T16:37:09.094Z"
   },
   {
    "duration": 264,
    "start_time": "2023-03-24T16:37:09.117Z"
   },
   {
    "duration": 1453,
    "start_time": "2023-03-24T16:37:09.383Z"
   },
   {
    "duration": 8311,
    "start_time": "2023-03-24T16:37:10.840Z"
   },
   {
    "duration": 158,
    "start_time": "2023-03-24T16:37:19.153Z"
   },
   {
    "duration": 146,
    "start_time": "2023-03-24T16:37:19.313Z"
   },
   {
    "duration": 177,
    "start_time": "2023-03-24T16:37:19.461Z"
   },
   {
    "duration": 173,
    "start_time": "2023-03-24T16:37:19.639Z"
   },
   {
    "duration": 11,
    "start_time": "2023-03-24T16:37:19.814Z"
   },
   {
    "duration": 330,
    "start_time": "2023-03-24T16:37:19.826Z"
   },
   {
    "duration": 35,
    "start_time": "2023-03-24T16:37:20.158Z"
   },
   {
    "duration": 209,
    "start_time": "2023-03-24T16:37:20.195Z"
   },
   {
    "duration": 41,
    "start_time": "2023-03-24T16:37:20.406Z"
   },
   {
    "duration": 417,
    "start_time": "2023-03-24T16:37:20.448Z"
   },
   {
    "duration": 35,
    "start_time": "2023-03-24T16:37:20.867Z"
   },
   {
    "duration": 163,
    "start_time": "2023-03-24T16:37:20.909Z"
   },
   {
    "duration": 87,
    "start_time": "2023-03-24T16:37:21.075Z"
   },
   {
    "duration": 25,
    "start_time": "2023-03-24T16:37:21.164Z"
   },
   {
    "duration": 19,
    "start_time": "2023-03-24T16:37:21.191Z"
   },
   {
    "duration": 190,
    "start_time": "2023-03-24T16:37:21.212Z"
   },
   {
    "duration": 188,
    "start_time": "2023-03-24T16:37:21.404Z"
   },
   {
    "duration": 147,
    "start_time": "2023-03-24T16:37:21.594Z"
   },
   {
    "duration": 438,
    "start_time": "2023-03-24T16:37:21.743Z"
   },
   {
    "duration": 77,
    "start_time": "2023-03-24T16:37:22.183Z"
   },
   {
    "duration": 4,
    "start_time": "2023-03-24T16:37:22.262Z"
   },
   {
    "duration": 19,
    "start_time": "2023-03-24T16:37:22.268Z"
   },
   {
    "duration": 16,
    "start_time": "2023-03-24T16:37:22.289Z"
   },
   {
    "duration": 12,
    "start_time": "2023-03-24T16:37:22.306Z"
   },
   {
    "duration": 161,
    "start_time": "2023-03-24T16:37:22.319Z"
   },
   {
    "duration": 19,
    "start_time": "2023-03-24T16:37:22.482Z"
   },
   {
    "duration": 3282,
    "start_time": "2023-03-24T16:37:22.503Z"
   },
   {
    "duration": 552,
    "start_time": "2023-03-24T16:37:25.788Z"
   },
   {
    "duration": 22,
    "start_time": "2023-03-24T16:37:26.342Z"
   },
   {
    "duration": 114,
    "start_time": "2023-03-24T16:37:26.366Z"
   },
   {
    "duration": 723,
    "start_time": "2023-03-24T16:37:26.482Z"
   },
   {
    "duration": 19741,
    "start_time": "2023-03-24T16:37:27.207Z"
   },
   {
    "duration": 93,
    "start_time": "2023-03-24T16:37:46.950Z"
   },
   {
    "duration": 13037,
    "start_time": "2023-03-24T16:37:47.045Z"
   },
   {
    "duration": 4,
    "start_time": "2023-03-24T16:38:00.084Z"
   },
   {
    "duration": 199892,
    "start_time": "2023-03-24T16:38:00.090Z"
   },
   {
    "duration": 157,
    "start_time": "2023-03-24T16:41:19.985Z"
   },
   {
    "duration": 7411,
    "start_time": "2023-03-24T16:41:20.143Z"
   },
   {
    "duration": 11,
    "start_time": "2023-03-24T16:41:27.556Z"
   },
   {
    "duration": 4,
    "start_time": "2023-03-24T16:41:27.569Z"
   },
   {
    "duration": 12382,
    "start_time": "2023-03-24T16:41:27.575Z"
   },
   {
    "duration": 79,
    "start_time": "2023-03-24T16:41:39.961Z"
   },
   {
    "duration": 0,
    "start_time": "2023-03-24T16:41:40.042Z"
   },
   {
    "duration": 4,
    "start_time": "2023-03-24T16:51:40.759Z"
   },
   {
    "duration": 95277,
    "start_time": "2023-03-24T17:03:17.865Z"
   },
   {
    "duration": 20215,
    "start_time": "2023-03-24T17:07:10.910Z"
   },
   {
    "duration": 57384,
    "start_time": "2023-03-24T17:07:53.262Z"
   },
   {
    "duration": 59706,
    "start_time": "2023-03-24T17:11:56.239Z"
   },
   {
    "duration": 120,
    "start_time": "2023-03-24T17:14:42.232Z"
   },
   {
    "duration": 389,
    "start_time": "2023-03-24T17:14:48.304Z"
   },
   {
    "duration": 451,
    "start_time": "2023-03-24T17:17:08.913Z"
   },
   {
    "duration": 81467,
    "start_time": "2023-03-24T17:24:00.882Z"
   },
   {
    "duration": 70,
    "start_time": "2023-03-24T17:26:08.202Z"
   },
   {
    "duration": 17031,
    "start_time": "2023-03-24T17:26:58.327Z"
   },
   {
    "duration": 13504,
    "start_time": "2023-03-24T17:29:11.710Z"
   },
   {
    "duration": 1224,
    "start_time": "2023-03-24T17:30:43.551Z"
   },
   {
    "duration": 1715,
    "start_time": "2023-03-24T17:38:33.082Z"
   },
   {
    "duration": 1231,
    "start_time": "2023-03-24T17:38:55.293Z"
   },
   {
    "duration": 453,
    "start_time": "2023-03-24T17:40:12.549Z"
   },
   {
    "duration": 472,
    "start_time": "2023-03-24T17:41:02.282Z"
   },
   {
    "duration": 1323,
    "start_time": "2023-03-24T17:42:12.466Z"
   },
   {
    "duration": 66626,
    "start_time": "2023-03-24T17:44:13.246Z"
   },
   {
    "duration": 0,
    "start_time": "2023-03-24T17:45:19.874Z"
   },
   {
    "duration": 0,
    "start_time": "2023-03-24T17:45:19.876Z"
   },
   {
    "duration": 223807,
    "start_time": "2023-03-24T17:45:37.262Z"
   },
   {
    "duration": 2005,
    "start_time": "2023-03-24T17:50:02.468Z"
   },
   {
    "duration": 2319,
    "start_time": "2023-03-24T17:50:04.475Z"
   },
   {
    "duration": 2940,
    "start_time": "2023-03-24T17:50:06.797Z"
   },
   {
    "duration": 874,
    "start_time": "2023-03-24T17:50:09.739Z"
   },
   {
    "duration": 44,
    "start_time": "2023-03-24T17:50:10.614Z"
   },
   {
    "duration": 18,
    "start_time": "2023-03-24T17:50:10.660Z"
   },
   {
    "duration": 3,
    "start_time": "2023-03-24T17:50:10.680Z"
   },
   {
    "duration": 149,
    "start_time": "2023-03-24T17:50:10.685Z"
   },
   {
    "duration": 981,
    "start_time": "2023-03-24T17:50:10.840Z"
   },
   {
    "duration": 4,
    "start_time": "2023-03-24T17:50:11.824Z"
   },
   {
    "duration": 4,
    "start_time": "2023-03-24T17:50:11.841Z"
   },
   {
    "duration": 15,
    "start_time": "2023-03-24T17:50:11.847Z"
   },
   {
    "duration": 511,
    "start_time": "2023-03-24T17:50:11.863Z"
   },
   {
    "duration": 7,
    "start_time": "2023-03-24T17:50:12.376Z"
   },
   {
    "duration": 26,
    "start_time": "2023-03-24T17:50:12.385Z"
   },
   {
    "duration": 228,
    "start_time": "2023-03-24T17:50:12.413Z"
   },
   {
    "duration": 98,
    "start_time": "2023-03-24T17:50:12.643Z"
   },
   {
    "duration": 23,
    "start_time": "2023-03-24T17:50:12.743Z"
   },
   {
    "duration": 36,
    "start_time": "2023-03-24T17:50:12.768Z"
   },
   {
    "duration": 45,
    "start_time": "2023-03-24T17:50:12.805Z"
   },
   {
    "duration": 106,
    "start_time": "2023-03-24T17:50:12.853Z"
   },
   {
    "duration": 36,
    "start_time": "2023-03-24T17:50:12.961Z"
   },
   {
    "duration": 36,
    "start_time": "2023-03-24T17:50:12.999Z"
   },
   {
    "duration": 37,
    "start_time": "2023-03-24T17:50:13.037Z"
   },
   {
    "duration": 23,
    "start_time": "2023-03-24T17:50:13.075Z"
   },
   {
    "duration": 22,
    "start_time": "2023-03-24T17:50:13.100Z"
   },
   {
    "duration": 98,
    "start_time": "2023-03-24T17:50:13.124Z"
   },
   {
    "duration": 31,
    "start_time": "2023-03-24T17:50:13.226Z"
   },
   {
    "duration": 40,
    "start_time": "2023-03-24T17:50:13.259Z"
   },
   {
    "duration": 101,
    "start_time": "2023-03-24T17:50:13.301Z"
   },
   {
    "duration": 341,
    "start_time": "2023-03-24T17:50:13.404Z"
   },
   {
    "duration": 4,
    "start_time": "2023-03-24T17:50:13.747Z"
   },
   {
    "duration": 104,
    "start_time": "2023-03-24T17:50:13.753Z"
   },
   {
    "duration": 5,
    "start_time": "2023-03-24T17:50:13.858Z"
   },
   {
    "duration": 377,
    "start_time": "2023-03-24T17:50:13.864Z"
   },
   {
    "duration": 160,
    "start_time": "2023-03-24T17:50:14.243Z"
   },
   {
    "duration": 14,
    "start_time": "2023-03-24T17:50:14.404Z"
   },
   {
    "duration": 23,
    "start_time": "2023-03-24T17:50:14.419Z"
   },
   {
    "duration": 20,
    "start_time": "2023-03-24T17:50:14.444Z"
   },
   {
    "duration": 94,
    "start_time": "2023-03-24T17:50:14.465Z"
   },
   {
    "duration": 71,
    "start_time": "2023-03-24T17:50:14.561Z"
   },
   {
    "duration": 0,
    "start_time": "2023-03-24T17:50:14.636Z"
   },
   {
    "duration": 0,
    "start_time": "2023-03-24T17:50:14.637Z"
   },
   {
    "duration": 0,
    "start_time": "2023-03-24T17:50:14.639Z"
   },
   {
    "duration": 0,
    "start_time": "2023-03-24T17:50:14.641Z"
   },
   {
    "duration": 0,
    "start_time": "2023-03-24T17:50:14.642Z"
   },
   {
    "duration": 0,
    "start_time": "2023-03-24T17:50:14.644Z"
   },
   {
    "duration": 0,
    "start_time": "2023-03-24T17:50:14.645Z"
   },
   {
    "duration": 0,
    "start_time": "2023-03-24T17:50:14.647Z"
   },
   {
    "duration": 0,
    "start_time": "2023-03-24T17:50:14.649Z"
   },
   {
    "duration": 0,
    "start_time": "2023-03-24T17:50:14.650Z"
   },
   {
    "duration": 0,
    "start_time": "2023-03-24T17:50:14.651Z"
   },
   {
    "duration": 0,
    "start_time": "2023-03-24T17:50:14.652Z"
   },
   {
    "duration": 0,
    "start_time": "2023-03-24T17:50:14.653Z"
   },
   {
    "duration": 0,
    "start_time": "2023-03-24T17:50:14.654Z"
   },
   {
    "duration": 0,
    "start_time": "2023-03-24T17:50:14.655Z"
   },
   {
    "duration": 0,
    "start_time": "2023-03-24T17:50:14.656Z"
   },
   {
    "duration": 0,
    "start_time": "2023-03-24T17:50:14.657Z"
   },
   {
    "duration": 0,
    "start_time": "2023-03-24T17:50:14.659Z"
   },
   {
    "duration": 0,
    "start_time": "2023-03-24T17:50:14.660Z"
   },
   {
    "duration": 0,
    "start_time": "2023-03-24T17:50:14.661Z"
   },
   {
    "duration": 0,
    "start_time": "2023-03-24T17:50:14.662Z"
   },
   {
    "duration": 0,
    "start_time": "2023-03-24T17:50:14.663Z"
   },
   {
    "duration": 0,
    "start_time": "2023-03-24T17:50:14.664Z"
   },
   {
    "duration": 0,
    "start_time": "2023-03-24T17:50:14.665Z"
   },
   {
    "duration": 0,
    "start_time": "2023-03-24T17:50:14.667Z"
   },
   {
    "duration": 0,
    "start_time": "2023-03-24T17:50:14.668Z"
   },
   {
    "duration": 0,
    "start_time": "2023-03-24T17:50:14.669Z"
   },
   {
    "duration": 0,
    "start_time": "2023-03-24T17:50:14.670Z"
   },
   {
    "duration": 0,
    "start_time": "2023-03-24T17:50:14.671Z"
   },
   {
    "duration": 0,
    "start_time": "2023-03-24T17:50:14.672Z"
   },
   {
    "duration": 0,
    "start_time": "2023-03-24T17:50:14.674Z"
   },
   {
    "duration": 0,
    "start_time": "2023-03-24T17:50:14.740Z"
   },
   {
    "duration": 0,
    "start_time": "2023-03-24T17:50:14.742Z"
   },
   {
    "duration": 0,
    "start_time": "2023-03-24T17:50:14.743Z"
   },
   {
    "duration": 0,
    "start_time": "2023-03-24T17:50:14.745Z"
   },
   {
    "duration": 0,
    "start_time": "2023-03-24T17:50:14.746Z"
   },
   {
    "duration": 0,
    "start_time": "2023-03-24T17:50:14.747Z"
   },
   {
    "duration": 0,
    "start_time": "2023-03-24T17:50:14.748Z"
   },
   {
    "duration": 0,
    "start_time": "2023-03-24T17:50:14.749Z"
   },
   {
    "duration": 0,
    "start_time": "2023-03-24T17:50:14.750Z"
   },
   {
    "duration": 0,
    "start_time": "2023-03-24T17:50:14.751Z"
   },
   {
    "duration": 0,
    "start_time": "2023-03-24T17:50:14.752Z"
   },
   {
    "duration": 0,
    "start_time": "2023-03-24T17:50:14.753Z"
   },
   {
    "duration": 0,
    "start_time": "2023-03-24T17:50:14.754Z"
   },
   {
    "duration": 0,
    "start_time": "2023-03-24T17:50:14.755Z"
   },
   {
    "duration": 0,
    "start_time": "2023-03-24T17:50:14.756Z"
   },
   {
    "duration": 0,
    "start_time": "2023-03-24T17:50:14.757Z"
   },
   {
    "duration": 0,
    "start_time": "2023-03-24T17:50:14.758Z"
   },
   {
    "duration": 0,
    "start_time": "2023-03-24T17:50:14.759Z"
   },
   {
    "duration": 0,
    "start_time": "2023-03-24T17:50:14.760Z"
   },
   {
    "duration": 0,
    "start_time": "2023-03-24T17:50:14.761Z"
   },
   {
    "duration": 0,
    "start_time": "2023-03-24T17:50:14.762Z"
   },
   {
    "duration": 0,
    "start_time": "2023-03-24T17:50:14.763Z"
   },
   {
    "duration": 0,
    "start_time": "2023-03-24T17:50:14.764Z"
   },
   {
    "duration": 0,
    "start_time": "2023-03-24T17:50:14.765Z"
   },
   {
    "duration": 0,
    "start_time": "2023-03-24T17:50:14.766Z"
   },
   {
    "duration": 0,
    "start_time": "2023-03-24T17:50:14.768Z"
   },
   {
    "duration": 0,
    "start_time": "2023-03-24T17:50:14.769Z"
   },
   {
    "duration": 0,
    "start_time": "2023-03-24T17:50:14.770Z"
   },
   {
    "duration": 0,
    "start_time": "2023-03-24T17:50:14.771Z"
   },
   {
    "duration": 0,
    "start_time": "2023-03-24T17:50:14.773Z"
   },
   {
    "duration": 0,
    "start_time": "2023-03-24T17:50:14.774Z"
   },
   {
    "duration": 0,
    "start_time": "2023-03-24T17:50:14.775Z"
   },
   {
    "duration": 0,
    "start_time": "2023-03-24T17:50:14.776Z"
   },
   {
    "duration": 0,
    "start_time": "2023-03-24T17:50:14.777Z"
   },
   {
    "duration": 0,
    "start_time": "2023-03-24T17:50:14.841Z"
   },
   {
    "duration": 0,
    "start_time": "2023-03-24T17:50:14.842Z"
   },
   {
    "duration": 0,
    "start_time": "2023-03-24T17:50:14.843Z"
   },
   {
    "duration": 0,
    "start_time": "2023-03-24T17:50:14.844Z"
   },
   {
    "duration": 0,
    "start_time": "2023-03-24T17:50:14.845Z"
   },
   {
    "duration": 0,
    "start_time": "2023-03-24T17:50:14.846Z"
   },
   {
    "duration": 77,
    "start_time": "2023-03-24T17:52:26.949Z"
   },
   {
    "duration": 5,
    "start_time": "2023-03-24T17:52:27.196Z"
   },
   {
    "duration": 27,
    "start_time": "2023-03-24T17:52:27.369Z"
   },
   {
    "duration": 199,
    "start_time": "2023-03-24T17:52:27.532Z"
   },
   {
    "duration": 258,
    "start_time": "2023-03-24T17:52:28.062Z"
   },
   {
    "duration": 319,
    "start_time": "2023-03-24T17:52:28.956Z"
   },
   {
    "duration": 138,
    "start_time": "2023-03-24T17:52:29.277Z"
   },
   {
    "duration": 1931,
    "start_time": "2023-03-24T17:52:29.417Z"
   },
   {
    "duration": 10,
    "start_time": "2023-03-24T17:52:31.350Z"
   },
   {
    "duration": 102,
    "start_time": "2023-03-24T17:52:31.362Z"
   },
   {
    "duration": 13,
    "start_time": "2023-03-24T17:52:31.467Z"
   },
   {
    "duration": 17,
    "start_time": "2023-03-24T17:52:31.482Z"
   },
   {
    "duration": 52,
    "start_time": "2023-03-24T17:52:31.501Z"
   },
   {
    "duration": 19,
    "start_time": "2023-03-24T17:52:31.554Z"
   },
   {
    "duration": 11,
    "start_time": "2023-03-24T17:52:31.761Z"
   },
   {
    "duration": 17,
    "start_time": "2023-03-24T17:52:31.937Z"
   },
   {
    "duration": 5,
    "start_time": "2023-03-24T17:52:32.112Z"
   },
   {
    "duration": 9,
    "start_time": "2023-03-24T17:52:32.309Z"
   },
   {
    "duration": 7,
    "start_time": "2023-03-24T17:52:32.469Z"
   },
   {
    "duration": 12,
    "start_time": "2023-03-24T17:52:34.062Z"
   },
   {
    "duration": 24,
    "start_time": "2023-03-24T17:52:34.232Z"
   },
   {
    "duration": 90,
    "start_time": "2023-03-24T17:52:34.569Z"
   },
   {
    "duration": 3,
    "start_time": "2023-03-24T17:52:34.720Z"
   },
   {
    "duration": 77,
    "start_time": "2023-03-24T17:52:34.877Z"
   },
   {
    "duration": 90,
    "start_time": "2023-03-24T17:52:35.236Z"
   },
   {
    "duration": 24,
    "start_time": "2023-03-24T17:52:36.153Z"
   },
   {
    "duration": 277,
    "start_time": "2023-03-24T17:52:36.179Z"
   },
   {
    "duration": 1597,
    "start_time": "2023-03-24T17:52:36.458Z"
   },
   {
    "duration": 9003,
    "start_time": "2023-03-24T17:52:38.057Z"
   },
   {
    "duration": 168,
    "start_time": "2023-03-24T17:52:47.062Z"
   },
   {
    "duration": 167,
    "start_time": "2023-03-24T17:52:47.232Z"
   },
   {
    "duration": 198,
    "start_time": "2023-03-24T17:52:47.401Z"
   },
   {
    "duration": 194,
    "start_time": "2023-03-24T17:52:47.601Z"
   },
   {
    "duration": 12,
    "start_time": "2023-03-24T17:52:47.797Z"
   },
   {
    "duration": 196,
    "start_time": "2023-03-24T17:52:47.811Z"
   },
   {
    "duration": 48,
    "start_time": "2023-03-24T17:52:48.010Z"
   },
   {
    "duration": 392,
    "start_time": "2023-03-24T17:52:48.060Z"
   },
   {
    "duration": 33,
    "start_time": "2023-03-24T17:52:48.455Z"
   },
   {
    "duration": 432,
    "start_time": "2023-03-24T17:52:48.490Z"
   },
   {
    "duration": 58,
    "start_time": "2023-03-24T17:52:48.925Z"
   },
   {
    "duration": 194,
    "start_time": "2023-03-24T17:52:48.985Z"
   },
   {
    "duration": 103,
    "start_time": "2023-03-24T17:52:49.181Z"
   },
   {
    "duration": 20,
    "start_time": "2023-03-24T17:52:49.286Z"
   },
   {
    "duration": 45,
    "start_time": "2023-03-24T17:52:49.308Z"
   },
   {
    "duration": 183,
    "start_time": "2023-03-24T17:52:49.355Z"
   },
   {
    "duration": 215,
    "start_time": "2023-03-24T17:52:49.540Z"
   },
   {
    "duration": 151,
    "start_time": "2023-03-24T17:52:49.757Z"
   },
   {
    "duration": 448,
    "start_time": "2023-03-24T17:52:49.910Z"
   },
   {
    "duration": 70,
    "start_time": "2023-03-24T17:52:50.359Z"
   },
   {
    "duration": 20,
    "start_time": "2023-03-24T17:52:50.431Z"
   },
   {
    "duration": 20,
    "start_time": "2023-03-24T17:52:50.456Z"
   },
   {
    "duration": 14,
    "start_time": "2023-03-24T17:52:50.478Z"
   },
   {
    "duration": 20,
    "start_time": "2023-03-24T17:52:50.493Z"
   },
   {
    "duration": 163,
    "start_time": "2023-03-24T17:52:50.515Z"
   },
   {
    "duration": 22,
    "start_time": "2023-03-24T17:52:50.680Z"
   },
   {
    "duration": 3462,
    "start_time": "2023-03-24T17:52:50.704Z"
   },
   {
    "duration": 565,
    "start_time": "2023-03-24T17:52:54.169Z"
   },
   {
    "duration": 23,
    "start_time": "2023-03-24T17:52:57.314Z"
   },
   {
    "duration": 70,
    "start_time": "2023-03-24T17:52:57.869Z"
   },
   {
    "duration": 717,
    "start_time": "2023-03-24T17:53:14.983Z"
   },
   {
    "duration": 136532,
    "start_time": "2023-03-24T17:53:17.517Z"
   },
   {
    "duration": 106752,
    "start_time": "2023-03-24T17:57:38.394Z"
   },
   {
    "duration": 30914,
    "start_time": "2023-03-24T18:00:56.181Z"
   },
   {
    "duration": 0,
    "start_time": "2023-03-24T18:01:27.100Z"
   },
   {
    "duration": 0,
    "start_time": "2023-03-24T18:01:27.102Z"
   },
   {
    "duration": 0,
    "start_time": "2023-03-24T18:01:27.104Z"
   },
   {
    "duration": 0,
    "start_time": "2023-03-24T18:01:27.105Z"
   },
   {
    "duration": 0,
    "start_time": "2023-03-24T18:01:27.107Z"
   },
   {
    "duration": 0,
    "start_time": "2023-03-24T18:01:27.109Z"
   },
   {
    "duration": 72,
    "start_time": "2023-03-24T18:01:32.194Z"
   },
   {
    "duration": 5,
    "start_time": "2023-03-24T18:01:33.546Z"
   },
   {
    "duration": 23,
    "start_time": "2023-03-24T18:01:33.825Z"
   },
   {
    "duration": 12,
    "start_time": "2023-03-24T18:01:34.011Z"
   },
   {
    "duration": 8,
    "start_time": "2023-03-24T18:01:34.184Z"
   },
   {
    "duration": 160,
    "start_time": "2023-03-24T18:01:34.391Z"
   },
   {
    "duration": 29,
    "start_time": "2023-03-24T18:01:34.932Z"
   },
   {
    "duration": 3690,
    "start_time": "2023-03-24T18:01:35.163Z"
   },
   {
    "duration": 621,
    "start_time": "2023-03-24T18:01:38.860Z"
   },
   {
    "duration": 19,
    "start_time": "2023-03-24T18:01:39.483Z"
   },
   {
    "duration": 86,
    "start_time": "2023-03-24T18:01:39.505Z"
   },
   {
    "duration": 737,
    "start_time": "2023-03-24T18:01:39.594Z"
   },
   {
    "duration": 91416,
    "start_time": "2023-03-24T18:01:40.333Z"
   },
   {
    "duration": 4,
    "start_time": "2023-03-24T18:03:17.519Z"
   },
   {
    "duration": 0,
    "start_time": "2023-03-24T18:04:44.460Z"
   },
   {
    "duration": 0,
    "start_time": "2023-03-24T18:04:44.462Z"
   },
   {
    "duration": 103095,
    "start_time": "2023-03-24T18:08:37.256Z"
   },
   {
    "duration": 87,
    "start_time": "2023-03-24T18:10:20.357Z"
   },
   {
    "duration": 128093,
    "start_time": "2023-03-24T18:12:58.557Z"
   },
   {
    "duration": 7,
    "start_time": "2023-03-24T18:15:06.653Z"
   },
   {
    "duration": 147226,
    "start_time": "2023-03-24T18:16:22.435Z"
   },
   {
    "duration": 4,
    "start_time": "2023-03-24T18:19:13.202Z"
   },
   {
    "duration": 5,
    "start_time": "2023-03-24T18:19:18.289Z"
   },
   {
    "duration": 4,
    "start_time": "2023-03-24T18:19:48.957Z"
   },
   {
    "duration": 15057,
    "start_time": "2023-03-24T18:19:49.863Z"
   },
   {
    "duration": 1551,
    "start_time": "2023-03-24T18:20:04.922Z"
   },
   {
    "duration": 3,
    "start_time": "2023-03-24T18:21:56.987Z"
   },
   {
    "duration": 620096,
    "start_time": "2023-03-24T18:21:57.496Z"
   },
   {
    "duration": 0,
    "start_time": "2023-03-24T18:32:17.595Z"
   },
   {
    "duration": 0,
    "start_time": "2023-03-24T18:32:17.596Z"
   },
   {
    "duration": 0,
    "start_time": "2023-03-24T18:32:17.599Z"
   },
   {
    "duration": 291497,
    "start_time": "2023-03-24T18:32:23.697Z"
   },
   {
    "duration": 299411,
    "start_time": "2023-03-24T18:41:33.091Z"
   },
   {
    "duration": 217961,
    "start_time": "2023-03-24T18:46:32.779Z"
   },
   {
    "duration": 213233,
    "start_time": "2023-03-24T18:51:08.388Z"
   },
   {
    "duration": 211296,
    "start_time": "2023-03-24T18:56:42.836Z"
   },
   {
    "duration": 170,
    "start_time": "2023-03-24T19:00:31.058Z"
   },
   {
    "duration": 60886,
    "start_time": "2023-03-24T19:00:31.586Z"
   },
   {
    "duration": 4,
    "start_time": "2023-03-24T19:05:16.711Z"
   },
   {
    "duration": 13712,
    "start_time": "2023-03-24T19:05:17.558Z"
   },
   {
    "duration": 100,
    "start_time": "2023-03-24T19:06:44.152Z"
   },
   {
    "duration": 1557,
    "start_time": "2023-03-25T21:25:13.588Z"
   },
   {
    "duration": 9326,
    "start_time": "2023-03-25T21:25:15.147Z"
   },
   {
    "duration": 3001,
    "start_time": "2023-03-25T21:25:24.477Z"
   },
   {
    "duration": 677,
    "start_time": "2023-03-25T21:25:27.480Z"
   },
   {
    "duration": 24,
    "start_time": "2023-03-25T21:25:28.159Z"
   },
   {
    "duration": 14,
    "start_time": "2023-03-25T21:25:28.185Z"
   },
   {
    "duration": 3,
    "start_time": "2023-03-25T21:25:28.200Z"
   },
   {
    "duration": 111,
    "start_time": "2023-03-25T21:25:28.204Z"
   },
   {
    "duration": 703,
    "start_time": "2023-03-25T21:25:28.316Z"
   },
   {
    "duration": 3,
    "start_time": "2023-03-25T21:25:29.021Z"
   },
   {
    "duration": 6,
    "start_time": "2023-03-25T21:25:29.025Z"
   },
   {
    "duration": 5,
    "start_time": "2023-03-25T21:25:29.032Z"
   },
   {
    "duration": 433,
    "start_time": "2023-03-25T21:25:29.040Z"
   },
   {
    "duration": 6,
    "start_time": "2023-03-25T21:25:29.475Z"
   },
   {
    "duration": 20,
    "start_time": "2023-03-25T21:25:29.483Z"
   },
   {
    "duration": 176,
    "start_time": "2023-03-25T21:25:29.505Z"
   },
   {
    "duration": 68,
    "start_time": "2023-03-25T21:25:29.683Z"
   },
   {
    "duration": 37,
    "start_time": "2023-03-25T21:25:29.753Z"
   },
   {
    "duration": 32,
    "start_time": "2023-03-25T21:25:29.792Z"
   },
   {
    "duration": 15,
    "start_time": "2023-03-25T21:25:29.826Z"
   },
   {
    "duration": 73,
    "start_time": "2023-03-25T21:25:29.842Z"
   },
   {
    "duration": 25,
    "start_time": "2023-03-25T21:25:29.916Z"
   },
   {
    "duration": 29,
    "start_time": "2023-03-25T21:25:29.942Z"
   },
   {
    "duration": 23,
    "start_time": "2023-03-25T21:25:29.973Z"
   },
   {
    "duration": 19,
    "start_time": "2023-03-25T21:25:29.998Z"
   },
   {
    "duration": 19,
    "start_time": "2023-03-25T21:25:30.018Z"
   },
   {
    "duration": 76,
    "start_time": "2023-03-25T21:25:30.039Z"
   },
   {
    "duration": 43,
    "start_time": "2023-03-25T21:25:30.117Z"
   },
   {
    "duration": 33,
    "start_time": "2023-03-25T21:25:30.161Z"
   },
   {
    "duration": 111,
    "start_time": "2023-03-25T21:25:30.195Z"
   },
   {
    "duration": 244,
    "start_time": "2023-03-25T21:25:30.307Z"
   },
   {
    "duration": 3,
    "start_time": "2023-03-25T21:25:30.553Z"
   },
   {
    "duration": 91,
    "start_time": "2023-03-25T21:25:30.557Z"
   },
   {
    "duration": 16,
    "start_time": "2023-03-25T21:25:30.650Z"
   },
   {
    "duration": 330,
    "start_time": "2023-03-25T21:25:30.667Z"
   },
   {
    "duration": 209,
    "start_time": "2023-03-25T21:25:30.998Z"
   },
   {
    "duration": 12,
    "start_time": "2023-03-25T21:25:31.208Z"
   },
   {
    "duration": 30,
    "start_time": "2023-03-25T21:25:31.221Z"
   },
   {
    "duration": 19,
    "start_time": "2023-03-25T21:25:31.252Z"
   },
   {
    "duration": 71,
    "start_time": "2023-03-25T21:25:31.276Z"
   },
   {
    "duration": 60,
    "start_time": "2023-03-25T21:25:31.349Z"
   },
   {
    "duration": 13,
    "start_time": "2023-03-25T21:25:31.411Z"
   },
   {
    "duration": 39,
    "start_time": "2023-03-25T21:25:31.425Z"
   },
   {
    "duration": 158,
    "start_time": "2023-03-25T21:25:31.465Z"
   },
   {
    "duration": 120,
    "start_time": "2023-03-25T21:25:31.624Z"
   },
   {
    "duration": 228,
    "start_time": "2023-03-25T21:25:31.746Z"
   },
   {
    "duration": 123,
    "start_time": "2023-03-25T21:25:31.975Z"
   },
   {
    "duration": 1476,
    "start_time": "2023-03-25T21:25:32.100Z"
   },
   {
    "duration": 4,
    "start_time": "2023-03-25T21:25:33.578Z"
   },
   {
    "duration": 66,
    "start_time": "2023-03-25T21:25:33.584Z"
   },
   {
    "duration": 22,
    "start_time": "2023-03-25T21:25:33.651Z"
   },
   {
    "duration": 5,
    "start_time": "2023-03-25T21:25:33.674Z"
   },
   {
    "duration": 22,
    "start_time": "2023-03-25T21:25:33.681Z"
   },
   {
    "duration": 4,
    "start_time": "2023-03-25T21:25:33.705Z"
   },
   {
    "duration": 9,
    "start_time": "2023-03-25T21:25:33.710Z"
   },
   {
    "duration": 4,
    "start_time": "2023-03-25T21:25:33.721Z"
   },
   {
    "duration": 42,
    "start_time": "2023-03-25T21:25:33.727Z"
   },
   {
    "duration": 12,
    "start_time": "2023-03-25T21:25:33.771Z"
   },
   {
    "duration": 6,
    "start_time": "2023-03-25T21:25:33.785Z"
   },
   {
    "duration": 12,
    "start_time": "2023-03-25T21:25:33.793Z"
   },
   {
    "duration": 20,
    "start_time": "2023-03-25T21:25:33.807Z"
   },
   {
    "duration": 95,
    "start_time": "2023-03-25T21:25:33.828Z"
   },
   {
    "duration": 2,
    "start_time": "2023-03-25T21:25:33.925Z"
   },
   {
    "duration": 68,
    "start_time": "2023-03-25T21:25:33.929Z"
   },
   {
    "duration": 57,
    "start_time": "2023-03-25T21:25:33.999Z"
   },
   {
    "duration": 24,
    "start_time": "2023-03-25T21:25:34.057Z"
   },
   {
    "duration": 214,
    "start_time": "2023-03-25T21:25:34.083Z"
   },
   {
    "duration": 1277,
    "start_time": "2023-03-25T21:25:34.299Z"
   },
   {
    "duration": 7072,
    "start_time": "2023-03-25T21:25:35.578Z"
   },
   {
    "duration": 123,
    "start_time": "2023-03-25T21:25:42.652Z"
   },
   {
    "duration": 125,
    "start_time": "2023-03-25T21:25:42.776Z"
   },
   {
    "duration": 146,
    "start_time": "2023-03-25T21:25:42.902Z"
   },
   {
    "duration": 142,
    "start_time": "2023-03-25T21:25:43.050Z"
   },
   {
    "duration": 8,
    "start_time": "2023-03-25T21:25:43.194Z"
   },
   {
    "duration": 266,
    "start_time": "2023-03-25T21:25:43.203Z"
   },
   {
    "duration": 28,
    "start_time": "2023-03-25T21:25:43.471Z"
   },
   {
    "duration": 164,
    "start_time": "2023-03-25T21:25:43.500Z"
   },
   {
    "duration": 23,
    "start_time": "2023-03-25T21:25:43.668Z"
   },
   {
    "duration": 303,
    "start_time": "2023-03-25T21:25:43.692Z"
   },
   {
    "duration": 24,
    "start_time": "2023-03-25T21:25:43.996Z"
   },
   {
    "duration": 124,
    "start_time": "2023-03-25T21:25:44.022Z"
   },
   {
    "duration": 55,
    "start_time": "2023-03-25T21:25:44.148Z"
   },
   {
    "duration": 14,
    "start_time": "2023-03-25T21:25:44.205Z"
   },
   {
    "duration": 14,
    "start_time": "2023-03-25T21:25:44.220Z"
   },
   {
    "duration": 144,
    "start_time": "2023-03-25T21:25:44.235Z"
   },
   {
    "duration": 129,
    "start_time": "2023-03-25T21:25:44.380Z"
   },
   {
    "duration": 102,
    "start_time": "2023-03-25T21:25:44.510Z"
   },
   {
    "duration": 397,
    "start_time": "2023-03-25T21:25:44.613Z"
   },
   {
    "duration": 63,
    "start_time": "2023-03-25T21:25:45.011Z"
   },
   {
    "duration": 3,
    "start_time": "2023-03-25T21:25:45.076Z"
   },
   {
    "duration": 19,
    "start_time": "2023-03-25T21:25:45.080Z"
   },
   {
    "duration": 10,
    "start_time": "2023-03-25T21:25:45.100Z"
   },
   {
    "duration": 7,
    "start_time": "2023-03-25T21:25:45.111Z"
   },
   {
    "duration": 128,
    "start_time": "2023-03-25T21:25:45.119Z"
   },
   {
    "duration": 23,
    "start_time": "2023-03-25T21:25:45.248Z"
   },
   {
    "duration": 2515,
    "start_time": "2023-03-25T21:25:45.272Z"
   },
   {
    "duration": 580,
    "start_time": "2023-03-25T21:25:47.789Z"
   },
   {
    "duration": 16,
    "start_time": "2023-03-25T21:25:48.370Z"
   },
   {
    "duration": 68,
    "start_time": "2023-03-25T21:25:48.387Z"
   },
   {
    "duration": 557,
    "start_time": "2023-03-25T21:25:48.468Z"
   },
   {
    "duration": 16551,
    "start_time": "2023-03-25T21:25:49.026Z"
   },
   {
    "duration": 2,
    "start_time": "2023-03-25T21:26:05.670Z"
   },
   {
    "duration": 10002,
    "start_time": "2023-03-25T21:26:05.674Z"
   },
   {
    "duration": 294,
    "start_time": "2023-03-25T21:26:15.678Z"
   },
   {
    "duration": 2,
    "start_time": "2023-03-25T21:26:15.974Z"
   },
   {
    "duration": 161701,
    "start_time": "2023-03-25T21:26:15.977Z"
   },
   {
    "duration": 149,
    "start_time": "2023-03-25T21:28:57.680Z"
   },
   {
    "duration": 7360,
    "start_time": "2023-03-25T21:28:57.832Z"
   },
   {
    "duration": 76,
    "start_time": "2023-03-25T21:29:05.194Z"
   },
   {
    "duration": 3,
    "start_time": "2023-03-25T21:29:05.272Z"
   },
   {
    "duration": 9055,
    "start_time": "2023-03-25T21:29:05.277Z"
   },
   {
    "duration": 75,
    "start_time": "2023-03-25T21:34:45.261Z"
   },
   {
    "duration": 4,
    "start_time": "2023-03-25T21:34:46.353Z"
   },
   {
    "duration": 79,
    "start_time": "2023-03-25T21:35:30.972Z"
   },
   {
    "duration": 4,
    "start_time": "2023-03-25T21:35:31.328Z"
   },
   {
    "duration": 9,
    "start_time": "2023-03-25T21:35:31.817Z"
   },
   {
    "duration": 10,
    "start_time": "2023-03-25T21:35:32.265Z"
   },
   {
    "duration": 8,
    "start_time": "2023-03-25T21:35:32.599Z"
   },
   {
    "duration": 104,
    "start_time": "2023-03-25T21:35:33.278Z"
   },
   {
    "duration": 16,
    "start_time": "2023-03-25T21:35:34.634Z"
   },
   {
    "duration": 1768,
    "start_time": "2023-03-25T21:35:35.228Z"
   },
   {
    "duration": 102,
    "start_time": "2023-03-25T21:35:38.849Z"
   },
   {
    "duration": 1763,
    "start_time": "2023-03-25T21:36:22.761Z"
   },
   {
    "duration": 1223,
    "start_time": "2023-03-25T21:36:24.526Z"
   },
   {
    "duration": 1218,
    "start_time": "2023-03-25T21:36:46.750Z"
   },
   {
    "duration": 9,
    "start_time": "2023-03-25T21:36:49.065Z"
   },
   {
    "duration": 77,
    "start_time": "2023-03-25T21:36:51.734Z"
   },
   {
    "duration": 103,
    "start_time": "2023-03-25T21:41:48.888Z"
   },
   {
    "duration": 94,
    "start_time": "2023-03-25T21:42:35.387Z"
   },
   {
    "duration": 12715,
    "start_time": "2023-03-25T21:45:48.354Z"
   },
   {
    "duration": 129,
    "start_time": "2023-03-25T21:47:04.277Z"
   },
   {
    "duration": 42,
    "start_time": "2023-03-25T21:47:24.507Z"
   },
   {
    "duration": 1155,
    "start_time": "2023-03-25T21:47:47.351Z"
   },
   {
    "duration": 10,
    "start_time": "2023-03-25T21:47:50.243Z"
   },
   {
    "duration": 63,
    "start_time": "2023-03-25T21:47:50.727Z"
   },
   {
    "duration": 648,
    "start_time": "2023-03-25T21:47:52.159Z"
   },
   {
    "duration": 2,
    "start_time": "2023-03-25T21:48:06.252Z"
   },
   {
    "duration": 7251,
    "start_time": "2023-03-25T21:48:07.300Z"
   },
   {
    "duration": 6712,
    "start_time": "2023-03-25T21:48:51.547Z"
   },
   {
    "duration": 213,
    "start_time": "2023-03-25T21:49:40.764Z"
   },
   {
    "duration": 3,
    "start_time": "2023-03-25T21:50:01.376Z"
   },
   {
    "duration": 119945,
    "start_time": "2023-03-25T21:51:00.221Z"
   },
   {
    "duration": 99,
    "start_time": "2023-03-25T22:04:58.837Z"
   },
   {
    "duration": 42,
    "start_time": "2023-03-25T22:05:57.027Z"
   },
   {
    "duration": 39,
    "start_time": "2023-03-25T22:06:04.679Z"
   },
   {
    "duration": 198611,
    "start_time": "2023-03-25T22:06:38.766Z"
   },
   {
    "duration": 100856,
    "start_time": "2023-03-25T22:10:59.424Z"
   },
   {
    "duration": 96176,
    "start_time": "2023-03-25T22:15:33.596Z"
   },
   {
    "duration": 9962,
    "start_time": "2023-03-25T22:17:22.623Z"
   },
   {
    "duration": 4131,
    "start_time": "2023-03-25T22:18:27.058Z"
   },
   {
    "duration": 10,
    "start_time": "2023-03-25T22:19:00.518Z"
   },
   {
    "duration": 88,
    "start_time": "2023-03-25T22:23:12.704Z"
   },
   {
    "duration": 7126,
    "start_time": "2023-03-25T22:23:54.696Z"
   },
   {
    "duration": 4198,
    "start_time": "2023-03-25T22:24:23.572Z"
   },
   {
    "duration": 6329,
    "start_time": "2023-03-25T22:24:51.160Z"
   },
   {
    "duration": 6530,
    "start_time": "2023-03-25T22:26:30.748Z"
   },
   {
    "duration": 202,
    "start_time": "2023-03-25T22:26:45.500Z"
   },
   {
    "duration": 6608,
    "start_time": "2023-03-25T22:27:09.848Z"
   },
   {
    "duration": 196,
    "start_time": "2023-03-25T22:27:16.458Z"
   },
   {
    "duration": 6663,
    "start_time": "2023-03-25T22:27:44.575Z"
   },
   {
    "duration": 4,
    "start_time": "2023-03-25T22:28:18.043Z"
   },
   {
    "duration": 7460,
    "start_time": "2023-03-25T22:28:18.472Z"
   },
   {
    "duration": 203,
    "start_time": "2023-03-25T22:28:58.202Z"
   },
   {
    "duration": 7417,
    "start_time": "2023-03-25T22:29:42.063Z"
   },
   {
    "duration": 16,
    "start_time": "2023-03-25T22:30:59.251Z"
   },
   {
    "duration": 11,
    "start_time": "2023-03-25T22:31:22.511Z"
   },
   {
    "duration": 204,
    "start_time": "2023-03-25T22:31:37.256Z"
   },
   {
    "duration": 9,
    "start_time": "2023-03-25T22:31:39.919Z"
   },
   {
    "duration": 78,
    "start_time": "2023-03-26T22:04:49.782Z"
   },
   {
    "duration": 43,
    "start_time": "2023-03-26T22:09:10.124Z"
   },
   {
    "duration": 77,
    "start_time": "2023-03-26T22:11:32.768Z"
   },
   {
    "duration": 1733,
    "start_time": "2023-03-26T22:11:55.408Z"
   },
   {
    "duration": 9552,
    "start_time": "2023-03-26T22:11:57.143Z"
   },
   {
    "duration": 2879,
    "start_time": "2023-03-26T22:12:06.697Z"
   },
   {
    "duration": 904,
    "start_time": "2023-03-26T22:12:09.579Z"
   },
   {
    "duration": 40,
    "start_time": "2023-03-26T22:12:10.486Z"
   },
   {
    "duration": 29,
    "start_time": "2023-03-26T22:12:10.529Z"
   },
   {
    "duration": 6,
    "start_time": "2023-03-26T22:12:10.561Z"
   },
   {
    "duration": 190,
    "start_time": "2023-03-26T22:12:10.569Z"
   },
   {
    "duration": 903,
    "start_time": "2023-03-26T22:12:10.762Z"
   },
   {
    "duration": 5,
    "start_time": "2023-03-26T22:12:11.669Z"
   },
   {
    "duration": 4,
    "start_time": "2023-03-26T22:12:11.676Z"
   },
   {
    "duration": 8,
    "start_time": "2023-03-26T22:12:11.682Z"
   },
   {
    "duration": 496,
    "start_time": "2023-03-26T22:12:11.691Z"
   },
   {
    "duration": 7,
    "start_time": "2023-03-26T22:12:12.189Z"
   },
   {
    "duration": 37,
    "start_time": "2023-03-26T22:12:12.198Z"
   },
   {
    "duration": 188,
    "start_time": "2023-03-26T22:12:12.236Z"
   },
   {
    "duration": 82,
    "start_time": "2023-03-26T22:12:12.425Z"
   },
   {
    "duration": 42,
    "start_time": "2023-03-26T22:12:12.509Z"
   },
   {
    "duration": 32,
    "start_time": "2023-03-26T22:12:12.552Z"
   },
   {
    "duration": 37,
    "start_time": "2023-03-26T22:12:12.586Z"
   },
   {
    "duration": 71,
    "start_time": "2023-03-26T22:12:12.625Z"
   },
   {
    "duration": 51,
    "start_time": "2023-03-26T22:12:12.698Z"
   },
   {
    "duration": 26,
    "start_time": "2023-03-26T22:12:12.752Z"
   },
   {
    "duration": 45,
    "start_time": "2023-03-26T22:12:12.780Z"
   },
   {
    "duration": 22,
    "start_time": "2023-03-26T22:12:12.827Z"
   },
   {
    "duration": 17,
    "start_time": "2023-03-26T22:12:12.851Z"
   },
   {
    "duration": 88,
    "start_time": "2023-03-26T22:12:12.870Z"
   },
   {
    "duration": 31,
    "start_time": "2023-03-26T22:12:12.962Z"
   },
   {
    "duration": 33,
    "start_time": "2023-03-26T22:12:12.994Z"
   },
   {
    "duration": 109,
    "start_time": "2023-03-26T22:12:13.030Z"
   },
   {
    "duration": 301,
    "start_time": "2023-03-26T22:12:13.141Z"
   },
   {
    "duration": 4,
    "start_time": "2023-03-26T22:12:13.444Z"
   },
   {
    "duration": 92,
    "start_time": "2023-03-26T22:12:13.449Z"
   },
   {
    "duration": 6,
    "start_time": "2023-03-26T22:12:13.543Z"
   },
   {
    "duration": 396,
    "start_time": "2023-03-26T22:12:13.551Z"
   },
   {
    "duration": 280,
    "start_time": "2023-03-26T22:12:13.949Z"
   },
   {
    "duration": 16,
    "start_time": "2023-03-26T22:12:14.231Z"
   },
   {
    "duration": 1053,
    "start_time": "2023-03-26T22:12:14.249Z"
   },
   {
    "duration": 625,
    "start_time": "2023-03-26T22:12:15.303Z"
   },
   {
    "duration": 248,
    "start_time": "2023-03-26T22:12:15.930Z"
   },
   {
    "duration": 64,
    "start_time": "2023-03-26T22:12:16.180Z"
   },
   {
    "duration": 5,
    "start_time": "2023-03-26T22:12:16.246Z"
   },
   {
    "duration": 22,
    "start_time": "2023-03-26T22:12:16.253Z"
   },
   {
    "duration": 234,
    "start_time": "2023-03-26T22:12:16.279Z"
   },
   {
    "duration": 175,
    "start_time": "2023-03-26T22:12:16.516Z"
   },
   {
    "duration": 291,
    "start_time": "2023-03-26T22:12:16.693Z"
   },
   {
    "duration": 143,
    "start_time": "2023-03-26T22:12:16.986Z"
   },
   {
    "duration": 1757,
    "start_time": "2023-03-26T22:12:17.131Z"
   },
   {
    "duration": 4,
    "start_time": "2023-03-26T22:12:18.889Z"
   },
   {
    "duration": 79,
    "start_time": "2023-03-26T22:12:18.895Z"
   },
   {
    "duration": 12,
    "start_time": "2023-03-26T22:12:18.976Z"
   },
   {
    "duration": 5,
    "start_time": "2023-03-26T22:12:18.989Z"
   },
   {
    "duration": 40,
    "start_time": "2023-03-26T22:12:18.996Z"
   },
   {
    "duration": 5,
    "start_time": "2023-03-26T22:12:19.038Z"
   },
   {
    "duration": 10,
    "start_time": "2023-03-26T22:12:19.045Z"
   },
   {
    "duration": 9,
    "start_time": "2023-03-26T22:12:19.056Z"
   },
   {
    "duration": 4,
    "start_time": "2023-03-26T22:12:19.067Z"
   },
   {
    "duration": 29,
    "start_time": "2023-03-26T22:12:19.072Z"
   },
   {
    "duration": 21,
    "start_time": "2023-03-26T22:12:19.103Z"
   },
   {
    "duration": 11,
    "start_time": "2023-03-26T22:12:19.126Z"
   },
   {
    "duration": 19,
    "start_time": "2023-03-26T22:12:19.139Z"
   },
   {
    "duration": 91,
    "start_time": "2023-03-26T22:12:19.160Z"
   },
   {
    "duration": 2,
    "start_time": "2023-03-26T22:12:19.253Z"
   },
   {
    "duration": 80,
    "start_time": "2023-03-26T22:12:19.257Z"
   },
   {
    "duration": 68,
    "start_time": "2023-03-26T22:12:19.339Z"
   },
   {
    "duration": 32,
    "start_time": "2023-03-26T22:12:19.409Z"
   },
   {
    "duration": 266,
    "start_time": "2023-03-26T22:12:19.443Z"
   },
   {
    "duration": 1592,
    "start_time": "2023-03-26T22:12:19.711Z"
   },
   {
    "duration": 8278,
    "start_time": "2023-03-26T22:12:21.305Z"
   },
   {
    "duration": 153,
    "start_time": "2023-03-26T22:12:29.585Z"
   },
   {
    "duration": 153,
    "start_time": "2023-03-26T22:12:29.740Z"
   },
   {
    "duration": 186,
    "start_time": "2023-03-26T22:12:29.896Z"
   },
   {
    "duration": 195,
    "start_time": "2023-03-26T22:12:30.084Z"
   },
   {
    "duration": 13,
    "start_time": "2023-03-26T22:12:30.281Z"
   },
   {
    "duration": 421,
    "start_time": "2023-03-26T22:12:30.296Z"
   },
   {
    "duration": 41,
    "start_time": "2023-03-26T22:12:30.724Z"
   },
   {
    "duration": 208,
    "start_time": "2023-03-26T22:12:30.767Z"
   },
   {
    "duration": 29,
    "start_time": "2023-03-26T22:12:30.977Z"
   },
   {
    "duration": 433,
    "start_time": "2023-03-26T22:12:31.008Z"
   },
   {
    "duration": 32,
    "start_time": "2023-03-26T22:12:31.442Z"
   },
   {
    "duration": 163,
    "start_time": "2023-03-26T22:12:31.476Z"
   },
   {
    "duration": 60,
    "start_time": "2023-03-26T22:12:31.644Z"
   },
   {
    "duration": 29,
    "start_time": "2023-03-26T22:12:31.706Z"
   },
   {
    "duration": 18,
    "start_time": "2023-03-26T22:12:31.737Z"
   },
   {
    "duration": 167,
    "start_time": "2023-03-26T22:12:31.757Z"
   },
   {
    "duration": 159,
    "start_time": "2023-03-26T22:12:31.927Z"
   },
   {
    "duration": 126,
    "start_time": "2023-03-26T22:12:32.088Z"
   },
   {
    "duration": 386,
    "start_time": "2023-03-26T22:12:32.222Z"
   },
   {
    "duration": 100,
    "start_time": "2023-03-26T22:12:32.609Z"
   },
   {
    "duration": 12,
    "start_time": "2023-03-26T22:12:32.711Z"
   },
   {
    "duration": 16,
    "start_time": "2023-03-26T22:12:32.725Z"
   },
   {
    "duration": 12,
    "start_time": "2023-03-26T22:12:32.744Z"
   },
   {
    "duration": 7,
    "start_time": "2023-03-26T22:12:32.758Z"
   },
   {
    "duration": 146,
    "start_time": "2023-03-26T22:12:32.767Z"
   },
   {
    "duration": 21,
    "start_time": "2023-03-26T22:12:32.923Z"
   },
   {
    "duration": 2287,
    "start_time": "2023-03-26T22:12:32.946Z"
   },
   {
    "duration": 1300,
    "start_time": "2023-03-26T22:12:35.234Z"
   },
   {
    "duration": 9,
    "start_time": "2023-03-26T22:12:36.536Z"
   },
   {
    "duration": 90,
    "start_time": "2023-03-26T22:12:36.547Z"
   },
   {
    "duration": 670,
    "start_time": "2023-03-26T22:12:36.639Z"
   },
   {
    "duration": 19520,
    "start_time": "2023-03-26T22:12:37.311Z"
   },
   {
    "duration": 91,
    "start_time": "2023-03-26T22:12:56.833Z"
   },
   {
    "duration": 9078,
    "start_time": "2023-03-26T22:12:56.927Z"
   },
   {
    "duration": 245,
    "start_time": "2023-03-26T22:13:06.007Z"
   },
   {
    "duration": 3,
    "start_time": "2023-03-26T22:13:06.255Z"
   },
   {
    "duration": 144968,
    "start_time": "2023-03-26T22:13:06.259Z"
   },
   {
    "duration": 158,
    "start_time": "2023-03-26T22:15:31.229Z"
   },
   {
    "duration": 4853,
    "start_time": "2023-03-26T22:15:31.389Z"
   },
   {
    "duration": 11,
    "start_time": "2023-03-26T22:15:36.244Z"
   },
   {
    "duration": 5086,
    "start_time": "2023-03-26T22:15:36.256Z"
   }
  ],
  "kernelspec": {
   "display_name": "Python 3 (ipykernel)",
   "language": "python",
   "name": "python3"
  },
  "language_info": {
   "codemirror_mode": {
    "name": "ipython",
    "version": 3
   },
   "file_extension": ".py",
   "mimetype": "text/x-python",
   "name": "python",
   "nbconvert_exporter": "python",
   "pygments_lexer": "ipython3",
   "version": "3.9.5"
  },
  "toc": {
   "base_numbering": 1,
   "nav_menu": {
    "height": "172px",
    "width": "186px"
   },
   "number_sections": true,
   "sideBar": true,
   "skip_h1_title": true,
   "title_cell": "Table of Contents",
   "title_sidebar": "Contents",
   "toc_cell": false,
   "toc_position": {},
   "toc_section_display": true,
   "toc_window_display": false
  }
 },
 "nbformat": 4,
 "nbformat_minor": 2
}
