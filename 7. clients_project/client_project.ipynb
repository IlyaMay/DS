{
 "cells": [
  {
   "cell_type": "markdown",
   "metadata": {},
   "source": [
    "# Отток клиентов"
   ]
  },
  {
   "cell_type": "markdown",
   "metadata": {
    "toc": true
   },
   "source": [
    "<h1>Содержание<span class=\"tocSkip\"></span></h1>\n",
    "<div class=\"toc\"><ul class=\"toc-item\"><li><span><a href=\"#Подготовка-данных\" data-toc-modified-id=\"Подготовка-данных-1\"><span class=\"toc-item-num\">1&nbsp;&nbsp;</span>Подготовка данных</a></span></li><li><span><a href=\"#Исследование-задачи\" data-toc-modified-id=\"Исследование-задачи-2\"><span class=\"toc-item-num\">2&nbsp;&nbsp;</span>Исследование задачи</a></span></li><li><span><a href=\"#Борьба-с-дисбалансом\" data-toc-modified-id=\"Борьба-с-дисбалансом-3\"><span class=\"toc-item-num\">3&nbsp;&nbsp;</span>Борьба с дисбалансом</a></span></li><li><span><a href=\"#Тестирование-модели\" data-toc-modified-id=\"Тестирование-модели-4\"><span class=\"toc-item-num\">4&nbsp;&nbsp;</span>Тестирование модели</a></span></li><li><span><a href=\"#Вывод\" data-toc-modified-id=\"Вывод-5\"><span class=\"toc-item-num\">5&nbsp;&nbsp;</span>Вывод</a></span></li><li><span><a href=\"#Чек-лист-готовности-проекта\" data-toc-modified-id=\"Чек-лист-готовности-проекта-6\"><span class=\"toc-item-num\">6&nbsp;&nbsp;</span>Чек-лист готовности проекта</a></span></li></ul></div>"
   ]
  },
  {
   "cell_type": "markdown",
   "metadata": {},
   "source": [
    "<h2>Описание проекта<span class=\"tocSkip\"></span></h2>\n",
    "\n",
    "Из «Бета-Банка» стали уходить клиенты. Каждый месяц. Немного, но заметно. Банковские маркетологи посчитали: сохранять текущих клиентов дешевле, чем привлекать новых.\n",
    "\n",
    "Нужно спрогнозировать, уйдёт клиент из банка в ближайшее время или нет. Вам предоставлены исторические данные о поведении клиентов и расторжении договоров с банком. \n",
    "\n",
    "Постройте модель с предельно большим значением *F1*-меры. Чтобы сдать проект успешно, нужно довести метрику до 0.59. Проверьте *F1*-меру на тестовой выборке самостоятельно.\n",
    "\n",
    "Дополнительно измеряйте *AUC-ROC*, сравнивайте её значение с *F1*-мерой.\n",
    "\n",
    "\n",
    "<h2>Описание данных<span class=\"tocSkip\"></span></h2>\n",
    "\n",
    "<h3>Признаки<span class=\"tocSkip\"></span></h3>\n",
    "\n",
    "RowNumber — индекс строки в данных<br>\n",
    "CustomerId — уникальный идентификатор клиента<br>\n",
    "Surname — фамилия<br>\n",
    "CreditScore — кредитный рейтинг<br>\n",
    "Geography — страна проживания<br>\n",
    "Gender — пол<br>\n",
    "Age — возраст<br>\n",
    "Tenure — сколько лет человек является клиентом банка<br>\n",
    "Balance — баланс на счёте<br>\n",
    "NumOfProducts — количество продуктов банка, используемых клиентом<br>\n",
    "HasCrCard — наличие кредитной карты<br>\n",
    "IsActiveMember — активность клиента<br>\n",
    "EstimatedSalary — предполагаемая зарплата<br>\n",
    "<h3>Целевой признак<span class=\"tocSkip\"></span></h3>\n",
    "\n",
    "Exited — факт ухода клиента<br>"
   ]
  },
  {
   "cell_type": "markdown",
   "metadata": {},
   "source": [
    "<h2>Описание данных<span class=\"tocSkip\"></span></h2>\n",
    "\n",
    "<h3>Признаки<span class=\"tocSkip\"></span></h3>\n",
    "\n",
    "RowNumber — индекс строки в данных<br>\n",
    "CustomerId — уникальный идентификатор клиента<br>\n",
    "Surname — фамилия<br>\n",
    "CreditScore — кредитный рейтинг<br>\n",
    "Geography — страна проживания<br>\n",
    "Gender — пол<br>\n",
    "Age — возраст<br>\n",
    "Tenure — сколько лет человек является клиентом банка<br>\n",
    "Balance — баланс на счёте<br>\n",
    "NumOfProducts — количество продуктов банка, используемых клиентом<br>\n",
    "HasCrCard — наличие кредитной карты<br>\n",
    "IsActiveMember — активность клиента<br>\n",
    "EstimatedSalary — предполагаемая зарплата<br>\n",
    "<h3>Целевой признак<span class=\"tocSkip\"></span></h3>\n",
    "\n",
    "Exited — факт ухода клиента<br>"
   ]
  },
  {
   "cell_type": "markdown",
   "metadata": {},
   "source": [
    "## Подготовка данных"
   ]
  },
  {
   "cell_type": "code",
   "execution_count": 1,
   "metadata": {},
   "outputs": [
    {
     "name": "stdout",
     "output_type": "stream",
     "text": [
      "Requirement already satisfied: scikit-learn==1.1.3 in /opt/conda/lib/python3.9/site-packages (1.1.3)\n",
      "Requirement already satisfied: scipy>=1.3.2 in /opt/conda/lib/python3.9/site-packages (from scikit-learn==1.1.3) (1.9.1)\n",
      "Requirement already satisfied: numpy>=1.17.3 in /opt/conda/lib/python3.9/site-packages (from scikit-learn==1.1.3) (1.21.1)\n",
      "Requirement already satisfied: threadpoolctl>=2.0.0 in /opt/conda/lib/python3.9/site-packages (from scikit-learn==1.1.3) (3.1.0)\n",
      "Requirement already satisfied: joblib>=1.0.0 in /opt/conda/lib/python3.9/site-packages (from scikit-learn==1.1.3) (1.2.0)\n",
      "Requirement already satisfied: imblearn in /opt/conda/lib/python3.9/site-packages (0.0)\n",
      "Requirement already satisfied: imbalanced-learn in /opt/conda/lib/python3.9/site-packages (from imblearn) (0.10.1)\n",
      "Requirement already satisfied: scipy>=1.3.2 in /opt/conda/lib/python3.9/site-packages (from imbalanced-learn->imblearn) (1.9.1)\n",
      "Requirement already satisfied: numpy>=1.17.3 in /opt/conda/lib/python3.9/site-packages (from imbalanced-learn->imblearn) (1.21.1)\n",
      "Requirement already satisfied: joblib>=1.1.1 in /opt/conda/lib/python3.9/site-packages (from imbalanced-learn->imblearn) (1.2.0)\n",
      "Requirement already satisfied: scikit-learn>=1.0.2 in /opt/conda/lib/python3.9/site-packages (from imbalanced-learn->imblearn) (1.1.3)\n",
      "Requirement already satisfied: threadpoolctl>=2.0.0 in /opt/conda/lib/python3.9/site-packages (from imbalanced-learn->imblearn) (3.1.0)\n"
     ]
    }
   ],
   "source": [
    "# код ревьюера\n",
    "!pip install scikit-learn==1.1.3\n",
    "!pip install imblearn"
   ]
  },
  {
   "cell_type": "code",
   "execution_count": 45,
   "metadata": {},
   "outputs": [],
   "source": [
    "import matplotlib.pyplot as plt\n",
    "import numpy as np\n",
    "import pandas as pd\n",
    "from sklearn.preprocessing import (\n",
    "    OneHotEncoder,\n",
    "    OrdinalEncoder,\n",
    "    StandardScaler\n",
    ")\n",
    "from sklearn.model_selection import GridSearchCV \n",
    "from sklearn.model_selection import train_test_split\n",
    "from sklearn.linear_model import LogisticRegression\n",
    "from sklearn.tree import DecisionTreeClassifier\n",
    "from sklearn.ensemble import RandomForestRegressor\n",
    "from sklearn.ensemble import RandomForestClassifier\n",
    "from sklearn.metrics import (\n",
    "    accuracy_score, \n",
    "    confusion_matrix, \n",
    "    f1_score, \n",
    "    mean_squared_error, \n",
    "    roc_auc_score,\n",
    "    precision_score,\n",
    "    recall_score,\n",
    "    roc_curve\n",
    ")\n",
    "from sklearn.utils import shuffle\n",
    "from sklearn.dummy import DummyClassifier\n",
    "from imblearn.over_sampling import SMOTE\n",
    "from imblearn.under_sampling import RandomUnderSampler\n",
    "import warnings\n",
    "\n",
    "warnings.filterwarnings(\"ignore\")\n",
    "state = 55555\n",
    "#!pip install scikit-learn==1.1.3\n",
    "#!pip install imblearn\n"
   ]
  },
  {
   "cell_type": "code",
   "execution_count": 3,
   "metadata": {},
   "outputs": [],
   "source": [
    "data = pd.read_csv('/datasets/Churn.csv')\n",
    "pd.set_option('display.max_columns', None)"
   ]
  },
  {
   "cell_type": "code",
   "execution_count": 4,
   "metadata": {},
   "outputs": [
    {
     "data": {
      "text/html": [
       "<div>\n",
       "<style scoped>\n",
       "    .dataframe tbody tr th:only-of-type {\n",
       "        vertical-align: middle;\n",
       "    }\n",
       "\n",
       "    .dataframe tbody tr th {\n",
       "        vertical-align: top;\n",
       "    }\n",
       "\n",
       "    .dataframe thead th {\n",
       "        text-align: right;\n",
       "    }\n",
       "</style>\n",
       "<table border=\"1\" class=\"dataframe\">\n",
       "  <thead>\n",
       "    <tr style=\"text-align: right;\">\n",
       "      <th></th>\n",
       "      <th>RowNumber</th>\n",
       "      <th>CustomerId</th>\n",
       "      <th>Surname</th>\n",
       "      <th>CreditScore</th>\n",
       "      <th>Geography</th>\n",
       "      <th>Gender</th>\n",
       "      <th>Age</th>\n",
       "      <th>Tenure</th>\n",
       "      <th>Balance</th>\n",
       "      <th>NumOfProducts</th>\n",
       "      <th>HasCrCard</th>\n",
       "      <th>IsActiveMember</th>\n",
       "      <th>EstimatedSalary</th>\n",
       "      <th>Exited</th>\n",
       "    </tr>\n",
       "  </thead>\n",
       "  <tbody>\n",
       "    <tr>\n",
       "      <th>0</th>\n",
       "      <td>1</td>\n",
       "      <td>15634602</td>\n",
       "      <td>Hargrave</td>\n",
       "      <td>619</td>\n",
       "      <td>France</td>\n",
       "      <td>Female</td>\n",
       "      <td>42</td>\n",
       "      <td>2.0</td>\n",
       "      <td>0.00</td>\n",
       "      <td>1</td>\n",
       "      <td>1</td>\n",
       "      <td>1</td>\n",
       "      <td>101348.88</td>\n",
       "      <td>1</td>\n",
       "    </tr>\n",
       "    <tr>\n",
       "      <th>1</th>\n",
       "      <td>2</td>\n",
       "      <td>15647311</td>\n",
       "      <td>Hill</td>\n",
       "      <td>608</td>\n",
       "      <td>Spain</td>\n",
       "      <td>Female</td>\n",
       "      <td>41</td>\n",
       "      <td>1.0</td>\n",
       "      <td>83807.86</td>\n",
       "      <td>1</td>\n",
       "      <td>0</td>\n",
       "      <td>1</td>\n",
       "      <td>112542.58</td>\n",
       "      <td>0</td>\n",
       "    </tr>\n",
       "    <tr>\n",
       "      <th>2</th>\n",
       "      <td>3</td>\n",
       "      <td>15619304</td>\n",
       "      <td>Onio</td>\n",
       "      <td>502</td>\n",
       "      <td>France</td>\n",
       "      <td>Female</td>\n",
       "      <td>42</td>\n",
       "      <td>8.0</td>\n",
       "      <td>159660.80</td>\n",
       "      <td>3</td>\n",
       "      <td>1</td>\n",
       "      <td>0</td>\n",
       "      <td>113931.57</td>\n",
       "      <td>1</td>\n",
       "    </tr>\n",
       "    <tr>\n",
       "      <th>3</th>\n",
       "      <td>4</td>\n",
       "      <td>15701354</td>\n",
       "      <td>Boni</td>\n",
       "      <td>699</td>\n",
       "      <td>France</td>\n",
       "      <td>Female</td>\n",
       "      <td>39</td>\n",
       "      <td>1.0</td>\n",
       "      <td>0.00</td>\n",
       "      <td>2</td>\n",
       "      <td>0</td>\n",
       "      <td>0</td>\n",
       "      <td>93826.63</td>\n",
       "      <td>0</td>\n",
       "    </tr>\n",
       "    <tr>\n",
       "      <th>4</th>\n",
       "      <td>5</td>\n",
       "      <td>15737888</td>\n",
       "      <td>Mitchell</td>\n",
       "      <td>850</td>\n",
       "      <td>Spain</td>\n",
       "      <td>Female</td>\n",
       "      <td>43</td>\n",
       "      <td>2.0</td>\n",
       "      <td>125510.82</td>\n",
       "      <td>1</td>\n",
       "      <td>1</td>\n",
       "      <td>1</td>\n",
       "      <td>79084.10</td>\n",
       "      <td>0</td>\n",
       "    </tr>\n",
       "  </tbody>\n",
       "</table>\n",
       "</div>"
      ],
      "text/plain": [
       "   RowNumber  CustomerId   Surname  CreditScore Geography  Gender  Age  \\\n",
       "0          1    15634602  Hargrave          619    France  Female   42   \n",
       "1          2    15647311      Hill          608     Spain  Female   41   \n",
       "2          3    15619304      Onio          502    France  Female   42   \n",
       "3          4    15701354      Boni          699    France  Female   39   \n",
       "4          5    15737888  Mitchell          850     Spain  Female   43   \n",
       "\n",
       "   Tenure    Balance  NumOfProducts  HasCrCard  IsActiveMember  \\\n",
       "0     2.0       0.00              1          1               1   \n",
       "1     1.0   83807.86              1          0               1   \n",
       "2     8.0  159660.80              3          1               0   \n",
       "3     1.0       0.00              2          0               0   \n",
       "4     2.0  125510.82              1          1               1   \n",
       "\n",
       "   EstimatedSalary  Exited  \n",
       "0        101348.88       1  \n",
       "1        112542.58       0  \n",
       "2        113931.57       1  \n",
       "3         93826.63       0  \n",
       "4         79084.10       0  "
      ]
     },
     "execution_count": 4,
     "metadata": {},
     "output_type": "execute_result"
    }
   ],
   "source": [
    "data.head()"
   ]
  },
  {
   "cell_type": "code",
   "execution_count": 5,
   "metadata": {},
   "outputs": [
    {
     "name": "stdout",
     "output_type": "stream",
     "text": [
      "<class 'pandas.core.frame.DataFrame'>\n",
      "RangeIndex: 10000 entries, 0 to 9999\n",
      "Data columns (total 14 columns):\n",
      " #   Column           Non-Null Count  Dtype  \n",
      "---  ------           --------------  -----  \n",
      " 0   RowNumber        10000 non-null  int64  \n",
      " 1   CustomerId       10000 non-null  int64  \n",
      " 2   Surname          10000 non-null  object \n",
      " 3   CreditScore      10000 non-null  int64  \n",
      " 4   Geography        10000 non-null  object \n",
      " 5   Gender           10000 non-null  object \n",
      " 6   Age              10000 non-null  int64  \n",
      " 7   Tenure           9091 non-null   float64\n",
      " 8   Balance          10000 non-null  float64\n",
      " 9   NumOfProducts    10000 non-null  int64  \n",
      " 10  HasCrCard        10000 non-null  int64  \n",
      " 11  IsActiveMember   10000 non-null  int64  \n",
      " 12  EstimatedSalary  10000 non-null  float64\n",
      " 13  Exited           10000 non-null  int64  \n",
      "dtypes: float64(3), int64(8), object(3)\n",
      "memory usage: 1.1+ MB\n"
     ]
    }
   ],
   "source": [
    "data.info()"
   ]
  },
  {
   "cell_type": "code",
   "execution_count": 6,
   "metadata": {},
   "outputs": [
    {
     "data": {
      "text/html": [
       "<div>\n",
       "<style scoped>\n",
       "    .dataframe tbody tr th:only-of-type {\n",
       "        vertical-align: middle;\n",
       "    }\n",
       "\n",
       "    .dataframe tbody tr th {\n",
       "        vertical-align: top;\n",
       "    }\n",
       "\n",
       "    .dataframe thead th {\n",
       "        text-align: right;\n",
       "    }\n",
       "</style>\n",
       "<table border=\"1\" class=\"dataframe\">\n",
       "  <thead>\n",
       "    <tr style=\"text-align: right;\">\n",
       "      <th></th>\n",
       "      <th>RowNumber</th>\n",
       "      <th>CustomerId</th>\n",
       "      <th>CreditScore</th>\n",
       "      <th>Age</th>\n",
       "      <th>Tenure</th>\n",
       "      <th>Balance</th>\n",
       "      <th>NumOfProducts</th>\n",
       "      <th>HasCrCard</th>\n",
       "      <th>IsActiveMember</th>\n",
       "      <th>EstimatedSalary</th>\n",
       "      <th>Exited</th>\n",
       "    </tr>\n",
       "  </thead>\n",
       "  <tbody>\n",
       "    <tr>\n",
       "      <th>count</th>\n",
       "      <td>10000.00000</td>\n",
       "      <td>1.000000e+04</td>\n",
       "      <td>10000.000000</td>\n",
       "      <td>10000.000000</td>\n",
       "      <td>9091.000000</td>\n",
       "      <td>10000.000000</td>\n",
       "      <td>10000.000000</td>\n",
       "      <td>10000.00000</td>\n",
       "      <td>10000.000000</td>\n",
       "      <td>10000.000000</td>\n",
       "      <td>10000.000000</td>\n",
       "    </tr>\n",
       "    <tr>\n",
       "      <th>mean</th>\n",
       "      <td>5000.50000</td>\n",
       "      <td>1.569094e+07</td>\n",
       "      <td>650.528800</td>\n",
       "      <td>38.921800</td>\n",
       "      <td>4.997690</td>\n",
       "      <td>76485.889288</td>\n",
       "      <td>1.530200</td>\n",
       "      <td>0.70550</td>\n",
       "      <td>0.515100</td>\n",
       "      <td>100090.239881</td>\n",
       "      <td>0.203700</td>\n",
       "    </tr>\n",
       "    <tr>\n",
       "      <th>std</th>\n",
       "      <td>2886.89568</td>\n",
       "      <td>7.193619e+04</td>\n",
       "      <td>96.653299</td>\n",
       "      <td>10.487806</td>\n",
       "      <td>2.894723</td>\n",
       "      <td>62397.405202</td>\n",
       "      <td>0.581654</td>\n",
       "      <td>0.45584</td>\n",
       "      <td>0.499797</td>\n",
       "      <td>57510.492818</td>\n",
       "      <td>0.402769</td>\n",
       "    </tr>\n",
       "    <tr>\n",
       "      <th>min</th>\n",
       "      <td>1.00000</td>\n",
       "      <td>1.556570e+07</td>\n",
       "      <td>350.000000</td>\n",
       "      <td>18.000000</td>\n",
       "      <td>0.000000</td>\n",
       "      <td>0.000000</td>\n",
       "      <td>1.000000</td>\n",
       "      <td>0.00000</td>\n",
       "      <td>0.000000</td>\n",
       "      <td>11.580000</td>\n",
       "      <td>0.000000</td>\n",
       "    </tr>\n",
       "    <tr>\n",
       "      <th>25%</th>\n",
       "      <td>2500.75000</td>\n",
       "      <td>1.562853e+07</td>\n",
       "      <td>584.000000</td>\n",
       "      <td>32.000000</td>\n",
       "      <td>2.000000</td>\n",
       "      <td>0.000000</td>\n",
       "      <td>1.000000</td>\n",
       "      <td>0.00000</td>\n",
       "      <td>0.000000</td>\n",
       "      <td>51002.110000</td>\n",
       "      <td>0.000000</td>\n",
       "    </tr>\n",
       "    <tr>\n",
       "      <th>50%</th>\n",
       "      <td>5000.50000</td>\n",
       "      <td>1.569074e+07</td>\n",
       "      <td>652.000000</td>\n",
       "      <td>37.000000</td>\n",
       "      <td>5.000000</td>\n",
       "      <td>97198.540000</td>\n",
       "      <td>1.000000</td>\n",
       "      <td>1.00000</td>\n",
       "      <td>1.000000</td>\n",
       "      <td>100193.915000</td>\n",
       "      <td>0.000000</td>\n",
       "    </tr>\n",
       "    <tr>\n",
       "      <th>75%</th>\n",
       "      <td>7500.25000</td>\n",
       "      <td>1.575323e+07</td>\n",
       "      <td>718.000000</td>\n",
       "      <td>44.000000</td>\n",
       "      <td>7.000000</td>\n",
       "      <td>127644.240000</td>\n",
       "      <td>2.000000</td>\n",
       "      <td>1.00000</td>\n",
       "      <td>1.000000</td>\n",
       "      <td>149388.247500</td>\n",
       "      <td>0.000000</td>\n",
       "    </tr>\n",
       "    <tr>\n",
       "      <th>max</th>\n",
       "      <td>10000.00000</td>\n",
       "      <td>1.581569e+07</td>\n",
       "      <td>850.000000</td>\n",
       "      <td>92.000000</td>\n",
       "      <td>10.000000</td>\n",
       "      <td>250898.090000</td>\n",
       "      <td>4.000000</td>\n",
       "      <td>1.00000</td>\n",
       "      <td>1.000000</td>\n",
       "      <td>199992.480000</td>\n",
       "      <td>1.000000</td>\n",
       "    </tr>\n",
       "  </tbody>\n",
       "</table>\n",
       "</div>"
      ],
      "text/plain": [
       "         RowNumber    CustomerId   CreditScore           Age       Tenure  \\\n",
       "count  10000.00000  1.000000e+04  10000.000000  10000.000000  9091.000000   \n",
       "mean    5000.50000  1.569094e+07    650.528800     38.921800     4.997690   \n",
       "std     2886.89568  7.193619e+04     96.653299     10.487806     2.894723   \n",
       "min        1.00000  1.556570e+07    350.000000     18.000000     0.000000   \n",
       "25%     2500.75000  1.562853e+07    584.000000     32.000000     2.000000   \n",
       "50%     5000.50000  1.569074e+07    652.000000     37.000000     5.000000   \n",
       "75%     7500.25000  1.575323e+07    718.000000     44.000000     7.000000   \n",
       "max    10000.00000  1.581569e+07    850.000000     92.000000    10.000000   \n",
       "\n",
       "             Balance  NumOfProducts    HasCrCard  IsActiveMember  \\\n",
       "count   10000.000000   10000.000000  10000.00000    10000.000000   \n",
       "mean    76485.889288       1.530200      0.70550        0.515100   \n",
       "std     62397.405202       0.581654      0.45584        0.499797   \n",
       "min         0.000000       1.000000      0.00000        0.000000   \n",
       "25%         0.000000       1.000000      0.00000        0.000000   \n",
       "50%     97198.540000       1.000000      1.00000        1.000000   \n",
       "75%    127644.240000       2.000000      1.00000        1.000000   \n",
       "max    250898.090000       4.000000      1.00000        1.000000   \n",
       "\n",
       "       EstimatedSalary        Exited  \n",
       "count     10000.000000  10000.000000  \n",
       "mean     100090.239881      0.203700  \n",
       "std       57510.492818      0.402769  \n",
       "min          11.580000      0.000000  \n",
       "25%       51002.110000      0.000000  \n",
       "50%      100193.915000      0.000000  \n",
       "75%      149388.247500      0.000000  \n",
       "max      199992.480000      1.000000  "
      ]
     },
     "execution_count": 6,
     "metadata": {},
     "output_type": "execute_result"
    }
   ],
   "source": [
    "data.describe()"
   ]
  },
  {
   "cell_type": "code",
   "execution_count": 7,
   "metadata": {},
   "outputs": [
    {
     "data": {
      "text/html": [
       "<div>\n",
       "<style scoped>\n",
       "    .dataframe tbody tr th:only-of-type {\n",
       "        vertical-align: middle;\n",
       "    }\n",
       "\n",
       "    .dataframe tbody tr th {\n",
       "        vertical-align: top;\n",
       "    }\n",
       "\n",
       "    .dataframe thead th {\n",
       "        text-align: right;\n",
       "    }\n",
       "</style>\n",
       "<table border=\"1\" class=\"dataframe\">\n",
       "  <thead>\n",
       "    <tr style=\"text-align: right;\">\n",
       "      <th></th>\n",
       "      <th>RowNumber</th>\n",
       "      <th>CustomerId</th>\n",
       "      <th>Surname</th>\n",
       "      <th>CreditScore</th>\n",
       "      <th>Geography</th>\n",
       "      <th>Gender</th>\n",
       "      <th>Age</th>\n",
       "      <th>Tenure</th>\n",
       "      <th>Balance</th>\n",
       "      <th>NumOfProducts</th>\n",
       "      <th>HasCrCard</th>\n",
       "      <th>IsActiveMember</th>\n",
       "      <th>EstimatedSalary</th>\n",
       "      <th>Exited</th>\n",
       "    </tr>\n",
       "  </thead>\n",
       "  <tbody>\n",
       "    <tr>\n",
       "      <th>count</th>\n",
       "      <td>10000.00000</td>\n",
       "      <td>1.000000e+04</td>\n",
       "      <td>10000</td>\n",
       "      <td>10000.000000</td>\n",
       "      <td>10000</td>\n",
       "      <td>10000</td>\n",
       "      <td>10000.000000</td>\n",
       "      <td>9091.000000</td>\n",
       "      <td>10000.000000</td>\n",
       "      <td>10000.000000</td>\n",
       "      <td>10000.00000</td>\n",
       "      <td>10000.000000</td>\n",
       "      <td>10000.000000</td>\n",
       "      <td>10000.000000</td>\n",
       "    </tr>\n",
       "    <tr>\n",
       "      <th>unique</th>\n",
       "      <td>NaN</td>\n",
       "      <td>NaN</td>\n",
       "      <td>2932</td>\n",
       "      <td>NaN</td>\n",
       "      <td>3</td>\n",
       "      <td>2</td>\n",
       "      <td>NaN</td>\n",
       "      <td>NaN</td>\n",
       "      <td>NaN</td>\n",
       "      <td>NaN</td>\n",
       "      <td>NaN</td>\n",
       "      <td>NaN</td>\n",
       "      <td>NaN</td>\n",
       "      <td>NaN</td>\n",
       "    </tr>\n",
       "    <tr>\n",
       "      <th>top</th>\n",
       "      <td>NaN</td>\n",
       "      <td>NaN</td>\n",
       "      <td>Smith</td>\n",
       "      <td>NaN</td>\n",
       "      <td>France</td>\n",
       "      <td>Male</td>\n",
       "      <td>NaN</td>\n",
       "      <td>NaN</td>\n",
       "      <td>NaN</td>\n",
       "      <td>NaN</td>\n",
       "      <td>NaN</td>\n",
       "      <td>NaN</td>\n",
       "      <td>NaN</td>\n",
       "      <td>NaN</td>\n",
       "    </tr>\n",
       "    <tr>\n",
       "      <th>freq</th>\n",
       "      <td>NaN</td>\n",
       "      <td>NaN</td>\n",
       "      <td>32</td>\n",
       "      <td>NaN</td>\n",
       "      <td>5014</td>\n",
       "      <td>5457</td>\n",
       "      <td>NaN</td>\n",
       "      <td>NaN</td>\n",
       "      <td>NaN</td>\n",
       "      <td>NaN</td>\n",
       "      <td>NaN</td>\n",
       "      <td>NaN</td>\n",
       "      <td>NaN</td>\n",
       "      <td>NaN</td>\n",
       "    </tr>\n",
       "    <tr>\n",
       "      <th>mean</th>\n",
       "      <td>5000.50000</td>\n",
       "      <td>1.569094e+07</td>\n",
       "      <td>NaN</td>\n",
       "      <td>650.528800</td>\n",
       "      <td>NaN</td>\n",
       "      <td>NaN</td>\n",
       "      <td>38.921800</td>\n",
       "      <td>4.997690</td>\n",
       "      <td>76485.889288</td>\n",
       "      <td>1.530200</td>\n",
       "      <td>0.70550</td>\n",
       "      <td>0.515100</td>\n",
       "      <td>100090.239881</td>\n",
       "      <td>0.203700</td>\n",
       "    </tr>\n",
       "    <tr>\n",
       "      <th>std</th>\n",
       "      <td>2886.89568</td>\n",
       "      <td>7.193619e+04</td>\n",
       "      <td>NaN</td>\n",
       "      <td>96.653299</td>\n",
       "      <td>NaN</td>\n",
       "      <td>NaN</td>\n",
       "      <td>10.487806</td>\n",
       "      <td>2.894723</td>\n",
       "      <td>62397.405202</td>\n",
       "      <td>0.581654</td>\n",
       "      <td>0.45584</td>\n",
       "      <td>0.499797</td>\n",
       "      <td>57510.492818</td>\n",
       "      <td>0.402769</td>\n",
       "    </tr>\n",
       "    <tr>\n",
       "      <th>min</th>\n",
       "      <td>1.00000</td>\n",
       "      <td>1.556570e+07</td>\n",
       "      <td>NaN</td>\n",
       "      <td>350.000000</td>\n",
       "      <td>NaN</td>\n",
       "      <td>NaN</td>\n",
       "      <td>18.000000</td>\n",
       "      <td>0.000000</td>\n",
       "      <td>0.000000</td>\n",
       "      <td>1.000000</td>\n",
       "      <td>0.00000</td>\n",
       "      <td>0.000000</td>\n",
       "      <td>11.580000</td>\n",
       "      <td>0.000000</td>\n",
       "    </tr>\n",
       "    <tr>\n",
       "      <th>25%</th>\n",
       "      <td>2500.75000</td>\n",
       "      <td>1.562853e+07</td>\n",
       "      <td>NaN</td>\n",
       "      <td>584.000000</td>\n",
       "      <td>NaN</td>\n",
       "      <td>NaN</td>\n",
       "      <td>32.000000</td>\n",
       "      <td>2.000000</td>\n",
       "      <td>0.000000</td>\n",
       "      <td>1.000000</td>\n",
       "      <td>0.00000</td>\n",
       "      <td>0.000000</td>\n",
       "      <td>51002.110000</td>\n",
       "      <td>0.000000</td>\n",
       "    </tr>\n",
       "    <tr>\n",
       "      <th>50%</th>\n",
       "      <td>5000.50000</td>\n",
       "      <td>1.569074e+07</td>\n",
       "      <td>NaN</td>\n",
       "      <td>652.000000</td>\n",
       "      <td>NaN</td>\n",
       "      <td>NaN</td>\n",
       "      <td>37.000000</td>\n",
       "      <td>5.000000</td>\n",
       "      <td>97198.540000</td>\n",
       "      <td>1.000000</td>\n",
       "      <td>1.00000</td>\n",
       "      <td>1.000000</td>\n",
       "      <td>100193.915000</td>\n",
       "      <td>0.000000</td>\n",
       "    </tr>\n",
       "    <tr>\n",
       "      <th>75%</th>\n",
       "      <td>7500.25000</td>\n",
       "      <td>1.575323e+07</td>\n",
       "      <td>NaN</td>\n",
       "      <td>718.000000</td>\n",
       "      <td>NaN</td>\n",
       "      <td>NaN</td>\n",
       "      <td>44.000000</td>\n",
       "      <td>7.000000</td>\n",
       "      <td>127644.240000</td>\n",
       "      <td>2.000000</td>\n",
       "      <td>1.00000</td>\n",
       "      <td>1.000000</td>\n",
       "      <td>149388.247500</td>\n",
       "      <td>0.000000</td>\n",
       "    </tr>\n",
       "    <tr>\n",
       "      <th>max</th>\n",
       "      <td>10000.00000</td>\n",
       "      <td>1.581569e+07</td>\n",
       "      <td>NaN</td>\n",
       "      <td>850.000000</td>\n",
       "      <td>NaN</td>\n",
       "      <td>NaN</td>\n",
       "      <td>92.000000</td>\n",
       "      <td>10.000000</td>\n",
       "      <td>250898.090000</td>\n",
       "      <td>4.000000</td>\n",
       "      <td>1.00000</td>\n",
       "      <td>1.000000</td>\n",
       "      <td>199992.480000</td>\n",
       "      <td>1.000000</td>\n",
       "    </tr>\n",
       "  </tbody>\n",
       "</table>\n",
       "</div>"
      ],
      "text/plain": [
       "          RowNumber    CustomerId Surname   CreditScore Geography Gender  \\\n",
       "count   10000.00000  1.000000e+04   10000  10000.000000     10000  10000   \n",
       "unique          NaN           NaN    2932           NaN         3      2   \n",
       "top             NaN           NaN   Smith           NaN    France   Male   \n",
       "freq            NaN           NaN      32           NaN      5014   5457   \n",
       "mean     5000.50000  1.569094e+07     NaN    650.528800       NaN    NaN   \n",
       "std      2886.89568  7.193619e+04     NaN     96.653299       NaN    NaN   \n",
       "min         1.00000  1.556570e+07     NaN    350.000000       NaN    NaN   \n",
       "25%      2500.75000  1.562853e+07     NaN    584.000000       NaN    NaN   \n",
       "50%      5000.50000  1.569074e+07     NaN    652.000000       NaN    NaN   \n",
       "75%      7500.25000  1.575323e+07     NaN    718.000000       NaN    NaN   \n",
       "max     10000.00000  1.581569e+07     NaN    850.000000       NaN    NaN   \n",
       "\n",
       "                 Age       Tenure        Balance  NumOfProducts    HasCrCard  \\\n",
       "count   10000.000000  9091.000000   10000.000000   10000.000000  10000.00000   \n",
       "unique           NaN          NaN            NaN            NaN          NaN   \n",
       "top              NaN          NaN            NaN            NaN          NaN   \n",
       "freq             NaN          NaN            NaN            NaN          NaN   \n",
       "mean       38.921800     4.997690   76485.889288       1.530200      0.70550   \n",
       "std        10.487806     2.894723   62397.405202       0.581654      0.45584   \n",
       "min        18.000000     0.000000       0.000000       1.000000      0.00000   \n",
       "25%        32.000000     2.000000       0.000000       1.000000      0.00000   \n",
       "50%        37.000000     5.000000   97198.540000       1.000000      1.00000   \n",
       "75%        44.000000     7.000000  127644.240000       2.000000      1.00000   \n",
       "max        92.000000    10.000000  250898.090000       4.000000      1.00000   \n",
       "\n",
       "        IsActiveMember  EstimatedSalary        Exited  \n",
       "count     10000.000000     10000.000000  10000.000000  \n",
       "unique             NaN              NaN           NaN  \n",
       "top                NaN              NaN           NaN  \n",
       "freq               NaN              NaN           NaN  \n",
       "mean          0.515100    100090.239881      0.203700  \n",
       "std           0.499797     57510.492818      0.402769  \n",
       "min           0.000000        11.580000      0.000000  \n",
       "25%           0.000000     51002.110000      0.000000  \n",
       "50%           1.000000    100193.915000      0.000000  \n",
       "75%           1.000000    149388.247500      0.000000  \n",
       "max           1.000000    199992.480000      1.000000  "
      ]
     },
     "execution_count": 7,
     "metadata": {},
     "output_type": "execute_result"
    }
   ],
   "source": [
    "data.describe(include='all')"
   ]
  },
  {
   "cell_type": "markdown",
   "metadata": {},
   "source": [
    "Приведем к нижнему регистру"
   ]
  },
  {
   "cell_type": "code",
   "execution_count": 8,
   "metadata": {},
   "outputs": [],
   "source": [
    "def rename(name):\n",
    "  name = name.replace(name[0], name[0].lower())           \n",
    "  for i in range(len(name)):\n",
    "    if name[i].isupper():\n",
    "      index = name.find(name[i])\n",
    "      name = name.replace(name[i], name[i].lower())\n",
    "      name = name[:index] + '_' + name[index:]\n",
    "  return name\n",
    "\n",
    "for i in range(len(data.columns)):\n",
    "  x=data.columns[i]\n",
    "  x2=rename(x)\n",
    "  data = data.rename(columns={x:x2})"
   ]
  },
  {
   "cell_type": "code",
   "execution_count": 9,
   "metadata": {},
   "outputs": [
    {
     "data": {
      "text/plain": [
       "Index(['row_number', 'customer_id', 'surname', 'credit_score', 'geography',\n",
       "       'gender', 'age', 'tenure', 'balance', 'num_of_products', 'has_crcard',\n",
       "       'is_active_member', 'estimated_salary', 'exited'],\n",
       "      dtype='object')"
      ]
     },
     "execution_count": 9,
     "metadata": {},
     "output_type": "execute_result"
    }
   ],
   "source": [
    "data.columns"
   ]
  },
  {
   "cell_type": "markdown",
   "metadata": {},
   "source": [
    "По условию в задаче существуют следующие признаки признаки:\n",
    "\n",
    "RowNumber — индекс строки в данных <br>\n",
    "CustomerId — уникальный идентификатор клиента<br>\n",
    "Surname — фамилия"
   ]
  },
  {
   "cell_type": "markdown",
   "metadata": {},
   "source": [
    "Признак RowNumber дублирует нумератсую строк данных, никакой информативности данный признак не дает, <br>\n",
    "Признак CustomerId уникальный идентификатор клиента, он уникальный и никакой другой табличной зависимости или условий с данными не имеет для дальнейшего иследования он бесполезен<br>\n",
    "Признак CustomerId Surname, фамиилий клиентов не несут никой информация для иследований или обучения моделей<br>"
   ]
  },
  {
   "cell_type": "markdown",
   "metadata": {},
   "source": [
    "Удалим эти столбцы"
   ]
  },
  {
   "cell_type": "code",
   "execution_count": 10,
   "metadata": {},
   "outputs": [],
   "source": [
    "data.drop(columns=['row_number','customer_id','surname'],axis=1,inplace=True)"
   ]
  },
  {
   "cell_type": "code",
   "execution_count": 11,
   "metadata": {},
   "outputs": [
    {
     "data": {
      "text/plain": [
       "(10000, 11)"
      ]
     },
     "execution_count": 11,
     "metadata": {},
     "output_type": "execute_result"
    }
   ],
   "source": [
    "data.shape"
   ]
  },
  {
   "cell_type": "markdown",
   "metadata": {},
   "source": [
    "Проверим на дубликаты"
   ]
  },
  {
   "cell_type": "code",
   "execution_count": 12,
   "metadata": {},
   "outputs": [
    {
     "data": {
      "text/plain": [
       "0"
      ]
     },
     "execution_count": 12,
     "metadata": {},
     "output_type": "execute_result"
    }
   ],
   "source": [
    "data.duplicated().sum()"
   ]
  },
  {
   "cell_type": "markdown",
   "metadata": {},
   "source": [
    "при рассмотрении данный были замечены пропуски посмотрим сколько их"
   ]
  },
  {
   "cell_type": "code",
   "execution_count": 13,
   "metadata": {},
   "outputs": [
    {
     "data": {
      "text/plain": [
       "credit_score          0\n",
       "geography             0\n",
       "gender                0\n",
       "age                   0\n",
       "tenure              909\n",
       "balance               0\n",
       "num_of_products       0\n",
       "has_crcard            0\n",
       "is_active_member      0\n",
       "estimated_salary      0\n",
       "exited                0\n",
       "dtype: int64"
      ]
     },
     "execution_count": 13,
     "metadata": {},
     "output_type": "execute_result"
    }
   ],
   "source": [
    "data.isna().sum()"
   ]
  },
  {
   "cell_type": "markdown",
   "metadata": {},
   "source": [
    "Рассмотрим поближе"
   ]
  },
  {
   "cell_type": "code",
   "execution_count": 14,
   "metadata": {},
   "outputs": [
    {
     "data": {
      "text/plain": [
       "1.0     952\n",
       "2.0     950\n",
       "8.0     933\n",
       "3.0     928\n",
       "5.0     927\n",
       "7.0     925\n",
       "4.0     885\n",
       "9.0     882\n",
       "6.0     881\n",
       "10.0    446\n",
       "0.0     382\n",
       "Name: tenure, dtype: int64"
      ]
     },
     "execution_count": 14,
     "metadata": {},
     "output_type": "execute_result"
    }
   ],
   "source": [
    "data['tenure'].value_counts()"
   ]
  },
  {
   "cell_type": "markdown",
   "metadata": {},
   "source": [
    "так-как тут только целые значения можно поменять формат ячейки на Int"
   ]
  },
  {
   "cell_type": "code",
   "execution_count": 15,
   "metadata": {},
   "outputs": [
    {
     "data": {
      "text/plain": [
       "count    9091.000000\n",
       "mean        4.997690\n",
       "std         2.894723\n",
       "min         0.000000\n",
       "25%         2.000000\n",
       "50%         5.000000\n",
       "75%         7.000000\n",
       "max        10.000000\n",
       "Name: tenure, dtype: float64"
      ]
     },
     "execution_count": 15,
     "metadata": {},
     "output_type": "execute_result"
    }
   ],
   "source": [
    "data['tenure'].describe()"
   ]
  },
  {
   "cell_type": "code",
   "execution_count": 16,
   "metadata": {},
   "outputs": [
    {
     "data": {
      "text/html": [
       "<div>\n",
       "<style scoped>\n",
       "    .dataframe tbody tr th:only-of-type {\n",
       "        vertical-align: middle;\n",
       "    }\n",
       "\n",
       "    .dataframe tbody tr th {\n",
       "        vertical-align: top;\n",
       "    }\n",
       "\n",
       "    .dataframe thead th {\n",
       "        text-align: right;\n",
       "    }\n",
       "</style>\n",
       "<table border=\"1\" class=\"dataframe\">\n",
       "  <thead>\n",
       "    <tr style=\"text-align: right;\">\n",
       "      <th></th>\n",
       "      <th>credit_score</th>\n",
       "      <th>geography</th>\n",
       "      <th>gender</th>\n",
       "      <th>age</th>\n",
       "      <th>tenure</th>\n",
       "      <th>balance</th>\n",
       "      <th>num_of_products</th>\n",
       "      <th>has_crcard</th>\n",
       "      <th>is_active_member</th>\n",
       "      <th>estimated_salary</th>\n",
       "      <th>exited</th>\n",
       "    </tr>\n",
       "  </thead>\n",
       "  <tbody>\n",
       "    <tr>\n",
       "      <th>30</th>\n",
       "      <td>591</td>\n",
       "      <td>Spain</td>\n",
       "      <td>Female</td>\n",
       "      <td>39</td>\n",
       "      <td>NaN</td>\n",
       "      <td>0.00</td>\n",
       "      <td>3</td>\n",
       "      <td>1</td>\n",
       "      <td>0</td>\n",
       "      <td>140469.38</td>\n",
       "      <td>1</td>\n",
       "    </tr>\n",
       "    <tr>\n",
       "      <th>48</th>\n",
       "      <td>550</td>\n",
       "      <td>Germany</td>\n",
       "      <td>Male</td>\n",
       "      <td>38</td>\n",
       "      <td>NaN</td>\n",
       "      <td>103391.38</td>\n",
       "      <td>1</td>\n",
       "      <td>0</td>\n",
       "      <td>1</td>\n",
       "      <td>90878.13</td>\n",
       "      <td>0</td>\n",
       "    </tr>\n",
       "    <tr>\n",
       "      <th>51</th>\n",
       "      <td>585</td>\n",
       "      <td>Germany</td>\n",
       "      <td>Male</td>\n",
       "      <td>36</td>\n",
       "      <td>NaN</td>\n",
       "      <td>146050.97</td>\n",
       "      <td>2</td>\n",
       "      <td>0</td>\n",
       "      <td>0</td>\n",
       "      <td>86424.57</td>\n",
       "      <td>0</td>\n",
       "    </tr>\n",
       "    <tr>\n",
       "      <th>53</th>\n",
       "      <td>655</td>\n",
       "      <td>Germany</td>\n",
       "      <td>Male</td>\n",
       "      <td>41</td>\n",
       "      <td>NaN</td>\n",
       "      <td>125561.97</td>\n",
       "      <td>1</td>\n",
       "      <td>0</td>\n",
       "      <td>0</td>\n",
       "      <td>164040.94</td>\n",
       "      <td>1</td>\n",
       "    </tr>\n",
       "    <tr>\n",
       "      <th>60</th>\n",
       "      <td>742</td>\n",
       "      <td>Germany</td>\n",
       "      <td>Male</td>\n",
       "      <td>35</td>\n",
       "      <td>NaN</td>\n",
       "      <td>136857.00</td>\n",
       "      <td>1</td>\n",
       "      <td>0</td>\n",
       "      <td>0</td>\n",
       "      <td>84509.57</td>\n",
       "      <td>0</td>\n",
       "    </tr>\n",
       "    <tr>\n",
       "      <th>82</th>\n",
       "      <td>543</td>\n",
       "      <td>France</td>\n",
       "      <td>Female</td>\n",
       "      <td>36</td>\n",
       "      <td>NaN</td>\n",
       "      <td>0.00</td>\n",
       "      <td>2</td>\n",
       "      <td>0</td>\n",
       "      <td>0</td>\n",
       "      <td>26019.59</td>\n",
       "      <td>0</td>\n",
       "    </tr>\n",
       "    <tr>\n",
       "      <th>85</th>\n",
       "      <td>652</td>\n",
       "      <td>Spain</td>\n",
       "      <td>Female</td>\n",
       "      <td>75</td>\n",
       "      <td>NaN</td>\n",
       "      <td>0.00</td>\n",
       "      <td>2</td>\n",
       "      <td>1</td>\n",
       "      <td>1</td>\n",
       "      <td>114675.75</td>\n",
       "      <td>0</td>\n",
       "    </tr>\n",
       "    <tr>\n",
       "      <th>94</th>\n",
       "      <td>730</td>\n",
       "      <td>Spain</td>\n",
       "      <td>Male</td>\n",
       "      <td>42</td>\n",
       "      <td>NaN</td>\n",
       "      <td>0.00</td>\n",
       "      <td>2</td>\n",
       "      <td>0</td>\n",
       "      <td>1</td>\n",
       "      <td>85982.47</td>\n",
       "      <td>0</td>\n",
       "    </tr>\n",
       "    <tr>\n",
       "      <th>99</th>\n",
       "      <td>413</td>\n",
       "      <td>France</td>\n",
       "      <td>Male</td>\n",
       "      <td>34</td>\n",
       "      <td>NaN</td>\n",
       "      <td>0.00</td>\n",
       "      <td>2</td>\n",
       "      <td>0</td>\n",
       "      <td>0</td>\n",
       "      <td>6534.18</td>\n",
       "      <td>0</td>\n",
       "    </tr>\n",
       "    <tr>\n",
       "      <th>111</th>\n",
       "      <td>538</td>\n",
       "      <td>Germany</td>\n",
       "      <td>Male</td>\n",
       "      <td>39</td>\n",
       "      <td>NaN</td>\n",
       "      <td>108055.10</td>\n",
       "      <td>2</td>\n",
       "      <td>1</td>\n",
       "      <td>0</td>\n",
       "      <td>27231.26</td>\n",
       "      <td>0</td>\n",
       "    </tr>\n",
       "  </tbody>\n",
       "</table>\n",
       "</div>"
      ],
      "text/plain": [
       "     credit_score geography  gender  age  tenure    balance  num_of_products  \\\n",
       "30            591     Spain  Female   39     NaN       0.00                3   \n",
       "48            550   Germany    Male   38     NaN  103391.38                1   \n",
       "51            585   Germany    Male   36     NaN  146050.97                2   \n",
       "53            655   Germany    Male   41     NaN  125561.97                1   \n",
       "60            742   Germany    Male   35     NaN  136857.00                1   \n",
       "82            543    France  Female   36     NaN       0.00                2   \n",
       "85            652     Spain  Female   75     NaN       0.00                2   \n",
       "94            730     Spain    Male   42     NaN       0.00                2   \n",
       "99            413    France    Male   34     NaN       0.00                2   \n",
       "111           538   Germany    Male   39     NaN  108055.10                2   \n",
       "\n",
       "     has_crcard  is_active_member  estimated_salary  exited  \n",
       "30            1                 0         140469.38       1  \n",
       "48            0                 1          90878.13       0  \n",
       "51            0                 0          86424.57       0  \n",
       "53            0                 0         164040.94       1  \n",
       "60            0                 0          84509.57       0  \n",
       "82            0                 0          26019.59       0  \n",
       "85            1                 1         114675.75       0  \n",
       "94            0                 1          85982.47       0  \n",
       "99            0                 0           6534.18       0  \n",
       "111           1                 0          27231.26       0  "
      ]
     },
     "execution_count": 16,
     "metadata": {},
     "output_type": "execute_result"
    }
   ],
   "source": [
    "data.loc[data['tenure'].isna()].head(10)"
   ]
  },
  {
   "cell_type": "code",
   "execution_count": 17,
   "metadata": {},
   "outputs": [],
   "source": [
    "data['tenure'] = data['tenure'].fillna(data['tenure'].median())"
   ]
  },
  {
   "cell_type": "code",
   "execution_count": 18,
   "metadata": {},
   "outputs": [
    {
     "data": {
      "text/plain": [
       "credit_score        0\n",
       "geography           0\n",
       "gender              0\n",
       "age                 0\n",
       "tenure              0\n",
       "balance             0\n",
       "num_of_products     0\n",
       "has_crcard          0\n",
       "is_active_member    0\n",
       "estimated_salary    0\n",
       "exited              0\n",
       "dtype: int64"
      ]
     },
     "execution_count": 18,
     "metadata": {},
     "output_type": "execute_result"
    }
   ],
   "source": [
    "data.isna().sum()"
   ]
  },
  {
   "cell_type": "markdown",
   "metadata": {},
   "source": [
    "Также переведем к целовчисленому типу"
   ]
  },
  {
   "cell_type": "code",
   "execution_count": 19,
   "metadata": {},
   "outputs": [],
   "source": [
    "data['tenure'] = data['tenure'].astype('int')"
   ]
  },
  {
   "cell_type": "code",
   "execution_count": 20,
   "metadata": {},
   "outputs": [
    {
     "data": {
      "text/plain": [
       "(10000, 11)"
      ]
     },
     "execution_count": 20,
     "metadata": {},
     "output_type": "execute_result"
    }
   ],
   "source": [
    "data.shape"
   ]
  },
  {
   "cell_type": "code",
   "execution_count": 21,
   "metadata": {},
   "outputs": [
    {
     "data": {
      "text/html": [
       "<div>\n",
       "<style scoped>\n",
       "    .dataframe tbody tr th:only-of-type {\n",
       "        vertical-align: middle;\n",
       "    }\n",
       "\n",
       "    .dataframe tbody tr th {\n",
       "        vertical-align: top;\n",
       "    }\n",
       "\n",
       "    .dataframe thead th {\n",
       "        text-align: right;\n",
       "    }\n",
       "</style>\n",
       "<table border=\"1\" class=\"dataframe\">\n",
       "  <thead>\n",
       "    <tr style=\"text-align: right;\">\n",
       "      <th></th>\n",
       "      <th>credit_score</th>\n",
       "      <th>geography</th>\n",
       "      <th>gender</th>\n",
       "      <th>age</th>\n",
       "      <th>tenure</th>\n",
       "      <th>balance</th>\n",
       "      <th>num_of_products</th>\n",
       "      <th>has_crcard</th>\n",
       "      <th>is_active_member</th>\n",
       "      <th>estimated_salary</th>\n",
       "      <th>exited</th>\n",
       "    </tr>\n",
       "  </thead>\n",
       "  <tbody>\n",
       "    <tr>\n",
       "      <th>0</th>\n",
       "      <td>619</td>\n",
       "      <td>France</td>\n",
       "      <td>Female</td>\n",
       "      <td>42</td>\n",
       "      <td>2</td>\n",
       "      <td>0.00</td>\n",
       "      <td>1</td>\n",
       "      <td>1</td>\n",
       "      <td>1</td>\n",
       "      <td>101348.88</td>\n",
       "      <td>1</td>\n",
       "    </tr>\n",
       "    <tr>\n",
       "      <th>1</th>\n",
       "      <td>608</td>\n",
       "      <td>Spain</td>\n",
       "      <td>Female</td>\n",
       "      <td>41</td>\n",
       "      <td>1</td>\n",
       "      <td>83807.86</td>\n",
       "      <td>1</td>\n",
       "      <td>0</td>\n",
       "      <td>1</td>\n",
       "      <td>112542.58</td>\n",
       "      <td>0</td>\n",
       "    </tr>\n",
       "    <tr>\n",
       "      <th>2</th>\n",
       "      <td>502</td>\n",
       "      <td>France</td>\n",
       "      <td>Female</td>\n",
       "      <td>42</td>\n",
       "      <td>8</td>\n",
       "      <td>159660.80</td>\n",
       "      <td>3</td>\n",
       "      <td>1</td>\n",
       "      <td>0</td>\n",
       "      <td>113931.57</td>\n",
       "      <td>1</td>\n",
       "    </tr>\n",
       "    <tr>\n",
       "      <th>3</th>\n",
       "      <td>699</td>\n",
       "      <td>France</td>\n",
       "      <td>Female</td>\n",
       "      <td>39</td>\n",
       "      <td>1</td>\n",
       "      <td>0.00</td>\n",
       "      <td>2</td>\n",
       "      <td>0</td>\n",
       "      <td>0</td>\n",
       "      <td>93826.63</td>\n",
       "      <td>0</td>\n",
       "    </tr>\n",
       "    <tr>\n",
       "      <th>4</th>\n",
       "      <td>850</td>\n",
       "      <td>Spain</td>\n",
       "      <td>Female</td>\n",
       "      <td>43</td>\n",
       "      <td>2</td>\n",
       "      <td>125510.82</td>\n",
       "      <td>1</td>\n",
       "      <td>1</td>\n",
       "      <td>1</td>\n",
       "      <td>79084.10</td>\n",
       "      <td>0</td>\n",
       "    </tr>\n",
       "  </tbody>\n",
       "</table>\n",
       "</div>"
      ],
      "text/plain": [
       "   credit_score geography  gender  age  tenure    balance  num_of_products  \\\n",
       "0           619    France  Female   42       2       0.00                1   \n",
       "1           608     Spain  Female   41       1   83807.86                1   \n",
       "2           502    France  Female   42       8  159660.80                3   \n",
       "3           699    France  Female   39       1       0.00                2   \n",
       "4           850     Spain  Female   43       2  125510.82                1   \n",
       "\n",
       "   has_crcard  is_active_member  estimated_salary  exited  \n",
       "0           1                 1         101348.88       1  \n",
       "1           0                 1         112542.58       0  \n",
       "2           1                 0         113931.57       1  \n",
       "3           0                 0          93826.63       0  \n",
       "4           1                 1          79084.10       0  "
      ]
     },
     "execution_count": 21,
     "metadata": {},
     "output_type": "execute_result"
    }
   ],
   "source": [
    "data.head(5)"
   ]
  },
  {
   "cell_type": "code",
   "execution_count": 22,
   "metadata": {},
   "outputs": [
    {
     "data": {
      "text/plain": [
       "France     5014\n",
       "Germany    2509\n",
       "Spain      2477\n",
       "Name: geography, dtype: int64"
      ]
     },
     "execution_count": 22,
     "metadata": {},
     "output_type": "execute_result"
    }
   ],
   "source": [
    "data['geography'].value_counts()"
   ]
  },
  {
   "cell_type": "markdown",
   "metadata": {},
   "source": [
    "<b>Вывод:\n",
    "\n",
    "    Подготовили данные к исследованию.\n",
    "    Удалили пропуски, избежали ловушки фиктивных признаков, избавились от фиктивных признаков."
   ]
  },
  {
   "cell_type": "markdown",
   "metadata": {},
   "source": [
    "## Исследование задачи"
   ]
  },
  {
   "cell_type": "markdown",
   "metadata": {},
   "source": [
    "<b>Разбиение на выборки"
   ]
  },
  {
   "cell_type": "code",
   "execution_count": 48,
   "metadata": {},
   "outputs": [],
   "source": [
    "#OHE\n",
    "target = data['exited']\n",
    "features = data.drop('exited', axis=1)\n",
    "\n",
    "features_train, features_valid, target_train, target_valid = train_test_split(features, target, test_size=0.4,  random_state=state) \n",
    "\n",
    "features_test, features_valid, target_test, target_valid  = train_test_split(features_valid, target_valid, test_size=0.5,  random_state=state) "
   ]
  },
  {
   "cell_type": "markdown",
   "metadata": {},
   "source": [
    "Размеры выборок"
   ]
  },
  {
   "cell_type": "code",
   "execution_count": 49,
   "metadata": {},
   "outputs": [
    {
     "name": "stdout",
     "output_type": "stream",
     "text": [
      "Размеры обучающей выборки: 6000 6000\n",
      "Размеры валидной выборки: 2000 2000\n",
      "Размеры тестовой выборки: 2000 2000\n"
     ]
    }
   ],
   "source": [
    "print(\"Размеры обучающей выборки:\", len(features_train), len(target_train))\n",
    "print(\"Размеры валидной выборки:\", len(features_valid), len(target_valid))\n",
    "print(\"Размеры тестовой выборки:\", len(features_test), len(target_test))"
   ]
  },
  {
   "cell_type": "code",
   "execution_count": 50,
   "metadata": {},
   "outputs": [
    {
     "name": "stdout",
     "output_type": "stream",
     "text": [
      "['geography', 'gender']\n"
     ]
    }
   ],
   "source": [
    "ohe_features = features_train.select_dtypes(include='object').columns.to_list()\n",
    "signs = ohe_features\n",
    "print(ohe_features)"
   ]
  },
  {
   "cell_type": "code",
   "execution_count": 51,
   "metadata": {},
   "outputs": [
    {
     "data": {
      "text/html": [
       "<div>\n",
       "<style scoped>\n",
       "    .dataframe tbody tr th:only-of-type {\n",
       "        vertical-align: middle;\n",
       "    }\n",
       "\n",
       "    .dataframe tbody tr th {\n",
       "        vertical-align: top;\n",
       "    }\n",
       "\n",
       "    .dataframe thead th {\n",
       "        text-align: right;\n",
       "    }\n",
       "</style>\n",
       "<table border=\"1\" class=\"dataframe\">\n",
       "  <thead>\n",
       "    <tr style=\"text-align: right;\">\n",
       "      <th></th>\n",
       "      <th>credit_score</th>\n",
       "      <th>geography</th>\n",
       "      <th>gender</th>\n",
       "      <th>age</th>\n",
       "      <th>tenure</th>\n",
       "      <th>balance</th>\n",
       "      <th>num_of_products</th>\n",
       "      <th>has_crcard</th>\n",
       "      <th>is_active_member</th>\n",
       "      <th>estimated_salary</th>\n",
       "    </tr>\n",
       "  </thead>\n",
       "  <tbody>\n",
       "    <tr>\n",
       "      <th>2569</th>\n",
       "      <td>641</td>\n",
       "      <td>Germany</td>\n",
       "      <td>Female</td>\n",
       "      <td>40</td>\n",
       "      <td>2</td>\n",
       "      <td>110086.69</td>\n",
       "      <td>1</td>\n",
       "      <td>1</td>\n",
       "      <td>0</td>\n",
       "      <td>159773.14</td>\n",
       "    </tr>\n",
       "    <tr>\n",
       "      <th>5450</th>\n",
       "      <td>803</td>\n",
       "      <td>France</td>\n",
       "      <td>Male</td>\n",
       "      <td>33</td>\n",
       "      <td>6</td>\n",
       "      <td>0.00</td>\n",
       "      <td>2</td>\n",
       "      <td>1</td>\n",
       "      <td>0</td>\n",
       "      <td>115676.61</td>\n",
       "    </tr>\n",
       "    <tr>\n",
       "      <th>4485</th>\n",
       "      <td>751</td>\n",
       "      <td>Germany</td>\n",
       "      <td>Male</td>\n",
       "      <td>34</td>\n",
       "      <td>9</td>\n",
       "      <td>108513.25</td>\n",
       "      <td>2</td>\n",
       "      <td>1</td>\n",
       "      <td>1</td>\n",
       "      <td>27097.82</td>\n",
       "    </tr>\n",
       "    <tr>\n",
       "      <th>6214</th>\n",
       "      <td>458</td>\n",
       "      <td>Germany</td>\n",
       "      <td>Male</td>\n",
       "      <td>35</td>\n",
       "      <td>9</td>\n",
       "      <td>146780.52</td>\n",
       "      <td>2</td>\n",
       "      <td>1</td>\n",
       "      <td>1</td>\n",
       "      <td>3476.38</td>\n",
       "    </tr>\n",
       "    <tr>\n",
       "      <th>9912</th>\n",
       "      <td>701</td>\n",
       "      <td>Spain</td>\n",
       "      <td>Female</td>\n",
       "      <td>34</td>\n",
       "      <td>6</td>\n",
       "      <td>107980.37</td>\n",
       "      <td>1</td>\n",
       "      <td>1</td>\n",
       "      <td>1</td>\n",
       "      <td>119374.74</td>\n",
       "    </tr>\n",
       "  </tbody>\n",
       "</table>\n",
       "</div>"
      ],
      "text/plain": [
       "      credit_score geography  gender  age  tenure    balance  num_of_products  \\\n",
       "2569           641   Germany  Female   40       2  110086.69                1   \n",
       "5450           803    France    Male   33       6       0.00                2   \n",
       "4485           751   Germany    Male   34       9  108513.25                2   \n",
       "6214           458   Germany    Male   35       9  146780.52                2   \n",
       "9912           701     Spain  Female   34       6  107980.37                1   \n",
       "\n",
       "      has_crcard  is_active_member  estimated_salary  \n",
       "2569           1                 0         159773.14  \n",
       "5450           1                 0         115676.61  \n",
       "4485           1                 1          27097.82  \n",
       "6214           1                 1           3476.38  \n",
       "9912           1                 1         119374.74  "
      ]
     },
     "execution_count": 51,
     "metadata": {},
     "output_type": "execute_result"
    }
   ],
   "source": [
    "features_train.head()"
   ]
  },
  {
   "cell_type": "markdown",
   "metadata": {},
   "source": [
    "#обратим внимание, что 'is_active_member' и 'has_crcard' — категориальные бинарные признаки."
   ]
  },
  {
   "cell_type": "code",
   "execution_count": 52,
   "metadata": {},
   "outputs": [
    {
     "data": {
      "text/plain": [
       "array([1, 0])"
      ]
     },
     "execution_count": 52,
     "metadata": {},
     "output_type": "execute_result"
    }
   ],
   "source": [
    "data['is_active_member'].unique()"
   ]
  },
  {
   "cell_type": "code",
   "execution_count": 53,
   "metadata": {},
   "outputs": [
    {
     "data": {
      "text/plain": [
       "array([1, 0])"
      ]
     },
     "execution_count": 53,
     "metadata": {},
     "output_type": "execute_result"
    }
   ],
   "source": [
    "data['has_crcard'].unique()"
   ]
  },
  {
   "cell_type": "code",
   "execution_count": 54,
   "metadata": {},
   "outputs": [
    {
     "data": {
      "text/plain": [
       "['credit_score',\n",
       " 'age',\n",
       " 'tenure',\n",
       " 'balance',\n",
       " 'num_of_products',\n",
       " 'estimated_salary']"
      ]
     },
     "execution_count": 54,
     "metadata": {},
     "output_type": "execute_result"
    }
   ],
   "source": [
    "num_features = features_train.select_dtypes(exclude='object').columns.to_list()\n",
    "num_features.remove('has_crcard')\n",
    "num_features.remove('is_active_member')\n",
    "num_features"
   ]
  },
  {
   "cell_type": "code",
   "execution_count": 55,
   "metadata": {},
   "outputs": [
    {
     "name": "stdout",
     "output_type": "stream",
     "text": [
      "\n",
      "Количество уникальных значений признка \"geography\" \n",
      "в обеих выборках одинаковое: True\n",
      "\n",
      "\n",
      "Уникальные значения признка \"geography\" \n",
      "в обеих выборках одинаковые: True\n",
      "\n",
      "\n",
      "Только в тренировочной выборке есть значения: set()\n",
      "\n",
      "\n",
      "Только в тестовой выборке есть значения: set()\n",
      "\n"
     ]
    }
   ],
   "source": [
    "models_train = set(features_train['geography'].unique())\n",
    "models_test = set(features_valid['geography'].unique())\n",
    "num_models_train = len(models_train)\n",
    "num_models_test = len(models_test)\n",
    "print(f'''\n",
    "Количество уникальных значений признка \"geography\" \n",
    "в обеих выборках одинаковое: {num_models_train == num_models_test}\n",
    "''')\n",
    "print(f'''\n",
    "Уникальные значения признка \"geography\" \n",
    "в обеих выборках одинаковые: {models_train == models_test}\n",
    "''')\n",
    "print(f'''\n",
    "Только в тренировочной выборке есть значения: {models_train - models_test}\n",
    "''')\n",
    "print(f'''\n",
    "Только в тестовой выборке есть значения: {models_test - models_train}\n",
    "''')"
   ]
  },
  {
   "cell_type": "code",
   "execution_count": 56,
   "metadata": {},
   "outputs": [
    {
     "data": {
      "text/html": [
       "<div>\n",
       "<style scoped>\n",
       "    .dataframe tbody tr th:only-of-type {\n",
       "        vertical-align: middle;\n",
       "    }\n",
       "\n",
       "    .dataframe tbody tr th {\n",
       "        vertical-align: top;\n",
       "    }\n",
       "\n",
       "    .dataframe thead th {\n",
       "        text-align: right;\n",
       "    }\n",
       "</style>\n",
       "<table border=\"1\" class=\"dataframe\">\n",
       "  <thead>\n",
       "    <tr style=\"text-align: right;\">\n",
       "      <th></th>\n",
       "      <th>credit_score</th>\n",
       "      <th>age</th>\n",
       "      <th>tenure</th>\n",
       "      <th>balance</th>\n",
       "      <th>num_of_products</th>\n",
       "      <th>has_crcard</th>\n",
       "      <th>is_active_member</th>\n",
       "      <th>estimated_salary</th>\n",
       "      <th>geography_Germany</th>\n",
       "      <th>geography_Spain</th>\n",
       "      <th>gender_Male</th>\n",
       "    </tr>\n",
       "  </thead>\n",
       "  <tbody>\n",
       "    <tr>\n",
       "      <th>2569</th>\n",
       "      <td>-0.102710</td>\n",
       "      <td>0.097899</td>\n",
       "      <td>-1.098497</td>\n",
       "      <td>0.536042</td>\n",
       "      <td>-0.897394</td>\n",
       "      <td>1</td>\n",
       "      <td>0</td>\n",
       "      <td>1.035987</td>\n",
       "      <td>1.0</td>\n",
       "      <td>0.0</td>\n",
       "      <td>0.0</td>\n",
       "    </tr>\n",
       "    <tr>\n",
       "      <th>5450</th>\n",
       "      <td>1.578534</td>\n",
       "      <td>-0.567540</td>\n",
       "      <td>0.352862</td>\n",
       "      <td>-1.228183</td>\n",
       "      <td>0.799003</td>\n",
       "      <td>1</td>\n",
       "      <td>0</td>\n",
       "      <td>0.272952</td>\n",
       "      <td>0.0</td>\n",
       "      <td>0.0</td>\n",
       "      <td>1.0</td>\n",
       "    </tr>\n",
       "    <tr>\n",
       "      <th>4485</th>\n",
       "      <td>1.038876</td>\n",
       "      <td>-0.472477</td>\n",
       "      <td>1.441381</td>\n",
       "      <td>0.510826</td>\n",
       "      <td>0.799003</td>\n",
       "      <td>1</td>\n",
       "      <td>1</td>\n",
       "      <td>-1.259792</td>\n",
       "      <td>1.0</td>\n",
       "      <td>0.0</td>\n",
       "      <td>1.0</td>\n",
       "    </tr>\n",
       "    <tr>\n",
       "      <th>6214</th>\n",
       "      <td>-2.001893</td>\n",
       "      <td>-0.377415</td>\n",
       "      <td>1.441381</td>\n",
       "      <td>1.124089</td>\n",
       "      <td>0.799003</td>\n",
       "      <td>1</td>\n",
       "      <td>1</td>\n",
       "      <td>-1.668531</td>\n",
       "      <td>1.0</td>\n",
       "      <td>0.0</td>\n",
       "      <td>1.0</td>\n",
       "    </tr>\n",
       "    <tr>\n",
       "      <th>9912</th>\n",
       "      <td>0.519973</td>\n",
       "      <td>-0.472477</td>\n",
       "      <td>0.352862</td>\n",
       "      <td>0.502286</td>\n",
       "      <td>-0.897394</td>\n",
       "      <td>1</td>\n",
       "      <td>1</td>\n",
       "      <td>0.336943</td>\n",
       "      <td>0.0</td>\n",
       "      <td>1.0</td>\n",
       "      <td>0.0</td>\n",
       "    </tr>\n",
       "  </tbody>\n",
       "</table>\n",
       "</div>"
      ],
      "text/plain": [
       "      credit_score       age    tenure   balance  num_of_products  has_crcard  \\\n",
       "2569     -0.102710  0.097899 -1.098497  0.536042        -0.897394           1   \n",
       "5450      1.578534 -0.567540  0.352862 -1.228183         0.799003           1   \n",
       "4485      1.038876 -0.472477  1.441381  0.510826         0.799003           1   \n",
       "6214     -2.001893 -0.377415  1.441381  1.124089         0.799003           1   \n",
       "9912      0.519973 -0.472477  0.352862  0.502286        -0.897394           1   \n",
       "\n",
       "      is_active_member  estimated_salary  geography_Germany  geography_Spain  \\\n",
       "2569                 0          1.035987                1.0              0.0   \n",
       "5450                 0          0.272952                0.0              0.0   \n",
       "4485                 1         -1.259792                1.0              0.0   \n",
       "6214                 1         -1.668531                1.0              0.0   \n",
       "9912                 1          0.336943                0.0              1.0   \n",
       "\n",
       "      gender_Male  \n",
       "2569          0.0  \n",
       "5450          1.0  \n",
       "4485          1.0  \n",
       "6214          1.0  \n",
       "9912          0.0  "
      ]
     },
     "execution_count": 56,
     "metadata": {},
     "output_type": "execute_result"
    }
   ],
   "source": [
    "encoder_ohe = OneHotEncoder(drop='first', handle_unknown='ignore', sparse=False)\n",
    "encoder_ohe.fit(features_train[ohe_features])\n",
    "features_train[\n",
    "    encoder_ohe.get_feature_names_out()\n",
    "] = encoder_ohe.transform(features_train[ohe_features])\n",
    "\n",
    "features_train = features_train.drop(ohe_features, axis=1)\n",
    "scaler = StandardScaler()\n",
    "features_train[num_features] = scaler.fit_transform(features_train[num_features])\n",
    "\n",
    "# смотрим на результат\n",
    "features_train.head()"
   ]
  },
  {
   "cell_type": "code",
   "execution_count": 57,
   "metadata": {},
   "outputs": [
    {
     "data": {
      "text/html": [
       "<div>\n",
       "<style scoped>\n",
       "    .dataframe tbody tr th:only-of-type {\n",
       "        vertical-align: middle;\n",
       "    }\n",
       "\n",
       "    .dataframe tbody tr th {\n",
       "        vertical-align: top;\n",
       "    }\n",
       "\n",
       "    .dataframe thead th {\n",
       "        text-align: right;\n",
       "    }\n",
       "</style>\n",
       "<table border=\"1\" class=\"dataframe\">\n",
       "  <thead>\n",
       "    <tr style=\"text-align: right;\">\n",
       "      <th></th>\n",
       "      <th>credit_score</th>\n",
       "      <th>age</th>\n",
       "      <th>tenure</th>\n",
       "      <th>balance</th>\n",
       "      <th>num_of_products</th>\n",
       "      <th>has_crcard</th>\n",
       "      <th>is_active_member</th>\n",
       "      <th>estimated_salary</th>\n",
       "      <th>geography_Germany</th>\n",
       "      <th>geography_Spain</th>\n",
       "      <th>gender_Male</th>\n",
       "    </tr>\n",
       "  </thead>\n",
       "  <tbody>\n",
       "    <tr>\n",
       "      <th>2214</th>\n",
       "      <td>2.066303</td>\n",
       "      <td>-1.232979</td>\n",
       "      <td>-0.372818</td>\n",
       "      <td>-0.224794</td>\n",
       "      <td>0.799003</td>\n",
       "      <td>0</td>\n",
       "      <td>1</td>\n",
       "      <td>1.375001</td>\n",
       "      <td>0.0</td>\n",
       "      <td>0.0</td>\n",
       "      <td>0.0</td>\n",
       "    </tr>\n",
       "    <tr>\n",
       "      <th>1334</th>\n",
       "      <td>-1.680174</td>\n",
       "      <td>-1.042853</td>\n",
       "      <td>-1.461337</td>\n",
       "      <td>0.045241</td>\n",
       "      <td>0.799003</td>\n",
       "      <td>1</td>\n",
       "      <td>1</td>\n",
       "      <td>1.177886</td>\n",
       "      <td>1.0</td>\n",
       "      <td>0.0</td>\n",
       "      <td>1.0</td>\n",
       "    </tr>\n",
       "    <tr>\n",
       "      <th>7304</th>\n",
       "      <td>0.291656</td>\n",
       "      <td>1.809027</td>\n",
       "      <td>1.078541</td>\n",
       "      <td>0.788669</td>\n",
       "      <td>0.799003</td>\n",
       "      <td>1</td>\n",
       "      <td>1</td>\n",
       "      <td>-0.223119</td>\n",
       "      <td>1.0</td>\n",
       "      <td>0.0</td>\n",
       "      <td>1.0</td>\n",
       "    </tr>\n",
       "    <tr>\n",
       "      <th>6900</th>\n",
       "      <td>0.239766</td>\n",
       "      <td>0.192961</td>\n",
       "      <td>-0.009978</td>\n",
       "      <td>0.800763</td>\n",
       "      <td>-0.897394</td>\n",
       "      <td>1</td>\n",
       "      <td>1</td>\n",
       "      <td>1.155759</td>\n",
       "      <td>0.0</td>\n",
       "      <td>1.0</td>\n",
       "      <td>0.0</td>\n",
       "    </tr>\n",
       "    <tr>\n",
       "      <th>884</th>\n",
       "      <td>-1.410344</td>\n",
       "      <td>2.474465</td>\n",
       "      <td>0.715701</td>\n",
       "      <td>0.248009</td>\n",
       "      <td>-0.897394</td>\n",
       "      <td>1</td>\n",
       "      <td>1</td>\n",
       "      <td>0.737933</td>\n",
       "      <td>0.0</td>\n",
       "      <td>0.0</td>\n",
       "      <td>1.0</td>\n",
       "    </tr>\n",
       "  </tbody>\n",
       "</table>\n",
       "</div>"
      ],
      "text/plain": [
       "      credit_score       age    tenure   balance  num_of_products  has_crcard  \\\n",
       "2214      2.066303 -1.232979 -0.372818 -0.224794         0.799003           0   \n",
       "1334     -1.680174 -1.042853 -1.461337  0.045241         0.799003           1   \n",
       "7304      0.291656  1.809027  1.078541  0.788669         0.799003           1   \n",
       "6900      0.239766  0.192961 -0.009978  0.800763        -0.897394           1   \n",
       "884      -1.410344  2.474465  0.715701  0.248009        -0.897394           1   \n",
       "\n",
       "      is_active_member  estimated_salary  geography_Germany  geography_Spain  \\\n",
       "2214                 1          1.375001                0.0              0.0   \n",
       "1334                 1          1.177886                1.0              0.0   \n",
       "7304                 1         -0.223119                1.0              0.0   \n",
       "6900                 1          1.155759                0.0              1.0   \n",
       "884                  1          0.737933                0.0              0.0   \n",
       "\n",
       "      gender_Male  \n",
       "2214          0.0  \n",
       "1334          1.0  \n",
       "7304          1.0  \n",
       "6900          0.0  \n",
       "884           1.0  "
      ]
     },
     "execution_count": 57,
     "metadata": {},
     "output_type": "execute_result"
    }
   ],
   "source": [
    "features_valid[\n",
    "    encoder_ohe.get_feature_names_out()\n",
    "] = encoder_ohe.transform(features_valid[ohe_features])\n",
    "\n",
    "features_valid = features_valid.drop(ohe_features, axis=1)\n",
    "\n",
    "# скелером, который обучен на ТРЕНИРОВОЧНОЙ ВЫБОРКЕ, масштабируем тестовую\n",
    "features_valid[num_features] = scaler.transform(\n",
    "    features_valid[num_features]\n",
    ")\n",
    "\n",
    "# смотрим на результат\n",
    "features_valid.head()"
   ]
  },
  {
   "cell_type": "code",
   "execution_count": 58,
   "metadata": {},
   "outputs": [
    {
     "data": {
      "text/html": [
       "<div>\n",
       "<style scoped>\n",
       "    .dataframe tbody tr th:only-of-type {\n",
       "        vertical-align: middle;\n",
       "    }\n",
       "\n",
       "    .dataframe tbody tr th {\n",
       "        vertical-align: top;\n",
       "    }\n",
       "\n",
       "    .dataframe thead th {\n",
       "        text-align: right;\n",
       "    }\n",
       "</style>\n",
       "<table border=\"1\" class=\"dataframe\">\n",
       "  <thead>\n",
       "    <tr style=\"text-align: right;\">\n",
       "      <th></th>\n",
       "      <th>credit_score</th>\n",
       "      <th>age</th>\n",
       "      <th>tenure</th>\n",
       "      <th>balance</th>\n",
       "      <th>num_of_products</th>\n",
       "      <th>has_crcard</th>\n",
       "      <th>is_active_member</th>\n",
       "      <th>estimated_salary</th>\n",
       "      <th>geography_Germany</th>\n",
       "      <th>geography_Spain</th>\n",
       "      <th>gender_Male</th>\n",
       "    </tr>\n",
       "  </thead>\n",
       "  <tbody>\n",
       "    <tr>\n",
       "      <th>9743</th>\n",
       "      <td>1.049254</td>\n",
       "      <td>-0.662603</td>\n",
       "      <td>1.441381</td>\n",
       "      <td>0.624196</td>\n",
       "      <td>0.799003</td>\n",
       "      <td>0</td>\n",
       "      <td>1</td>\n",
       "      <td>0.030714</td>\n",
       "      <td>1.0</td>\n",
       "      <td>0.0</td>\n",
       "      <td>1.0</td>\n",
       "    </tr>\n",
       "    <tr>\n",
       "      <th>4461</th>\n",
       "      <td>1.018120</td>\n",
       "      <td>-1.042853</td>\n",
       "      <td>-0.735658</td>\n",
       "      <td>-1.228183</td>\n",
       "      <td>-0.897394</td>\n",
       "      <td>1</td>\n",
       "      <td>0</td>\n",
       "      <td>-1.669702</td>\n",
       "      <td>0.0</td>\n",
       "      <td>1.0</td>\n",
       "      <td>0.0</td>\n",
       "    </tr>\n",
       "    <tr>\n",
       "      <th>5983</th>\n",
       "      <td>-0.331027</td>\n",
       "      <td>-1.042853</td>\n",
       "      <td>0.352862</td>\n",
       "      <td>0.360817</td>\n",
       "      <td>0.799003</td>\n",
       "      <td>1</td>\n",
       "      <td>0</td>\n",
       "      <td>-0.889885</td>\n",
       "      <td>1.0</td>\n",
       "      <td>0.0</td>\n",
       "      <td>0.0</td>\n",
       "    </tr>\n",
       "    <tr>\n",
       "      <th>8829</th>\n",
       "      <td>0.333168</td>\n",
       "      <td>0.097899</td>\n",
       "      <td>-1.461337</td>\n",
       "      <td>-1.228183</td>\n",
       "      <td>0.799003</td>\n",
       "      <td>0</td>\n",
       "      <td>0</td>\n",
       "      <td>-0.417720</td>\n",
       "      <td>0.0</td>\n",
       "      <td>0.0</td>\n",
       "      <td>0.0</td>\n",
       "    </tr>\n",
       "    <tr>\n",
       "      <th>1448</th>\n",
       "      <td>-0.995222</td>\n",
       "      <td>0.668275</td>\n",
       "      <td>-0.372818</td>\n",
       "      <td>0.701208</td>\n",
       "      <td>-0.897394</td>\n",
       "      <td>1</td>\n",
       "      <td>0</td>\n",
       "      <td>1.346532</td>\n",
       "      <td>1.0</td>\n",
       "      <td>0.0</td>\n",
       "      <td>0.0</td>\n",
       "    </tr>\n",
       "  </tbody>\n",
       "</table>\n",
       "</div>"
      ],
      "text/plain": [
       "      credit_score       age    tenure   balance  num_of_products  has_crcard  \\\n",
       "9743      1.049254 -0.662603  1.441381  0.624196         0.799003           0   \n",
       "4461      1.018120 -1.042853 -0.735658 -1.228183        -0.897394           1   \n",
       "5983     -0.331027 -1.042853  0.352862  0.360817         0.799003           1   \n",
       "8829      0.333168  0.097899 -1.461337 -1.228183         0.799003           0   \n",
       "1448     -0.995222  0.668275 -0.372818  0.701208        -0.897394           1   \n",
       "\n",
       "      is_active_member  estimated_salary  geography_Germany  geography_Spain  \\\n",
       "9743                 1          0.030714                1.0              0.0   \n",
       "4461                 0         -1.669702                0.0              1.0   \n",
       "5983                 0         -0.889885                1.0              0.0   \n",
       "8829                 0         -0.417720                0.0              0.0   \n",
       "1448                 0          1.346532                1.0              0.0   \n",
       "\n",
       "      gender_Male  \n",
       "9743          1.0  \n",
       "4461          0.0  \n",
       "5983          0.0  \n",
       "8829          0.0  \n",
       "1448          0.0  "
      ]
     },
     "execution_count": 58,
     "metadata": {},
     "output_type": "execute_result"
    }
   ],
   "source": [
    "features_test[\n",
    "    encoder_ohe.get_feature_names_out()\n",
    "] = encoder_ohe.transform(features_test[ohe_features])\n",
    "\n",
    "features_test = features_test.drop(ohe_features, axis=1)\n",
    "\n",
    "# скелером, который обучен на ТРЕНИРОВОЧНОЙ ВЫБОРКЕ, масштабируем тестовую\n",
    "features_test[num_features] = scaler.transform(\n",
    "    features_test[num_features]\n",
    ")\n",
    "\n",
    "# смотрим на результат\n",
    "features_test.head()"
   ]
  },
  {
   "cell_type": "code",
   "execution_count": 59,
   "metadata": {},
   "outputs": [
    {
     "data": {
      "text/plain": [
       "((6000, 11), (2000, 11), (2000, 11))"
      ]
     },
     "execution_count": 59,
     "metadata": {},
     "output_type": "execute_result"
    }
   ],
   "source": [
    "features_train.shape, features_valid.shape , features_test.shape"
   ]
  },
  {
   "cell_type": "markdown",
   "metadata": {},
   "source": [
    "<b>Исследование моделей</b>"
   ]
  },
  {
   "cell_type": "code",
   "execution_count": 60,
   "metadata": {},
   "outputs": [
    {
     "name": "stdout",
     "output_type": "stream",
     "text": [
      "Test score:  0.8\n"
     ]
    }
   ],
   "source": [
    "dummy = DummyClassifier(strategy='most_frequent').fit(features_train, target_train)\n",
    "dummy_pred = dummy.predict(features_valid)\n",
    "print('Test score: ', accuracy_score(target_test, dummy_pred))"
   ]
  },
  {
   "cell_type": "code",
   "execution_count": 61,
   "metadata": {},
   "outputs": [
    {
     "name": "stdout",
     "output_type": "stream",
     "text": [
      "0.204\n"
     ]
    },
    {
     "data": {
      "text/plain": [
       "((7963, 10), (2037, 10))"
      ]
     },
     "execution_count": 61,
     "metadata": {},
     "output_type": "execute_result"
    }
   ],
   "source": [
    "print(data['exited'].mean().round(3))\n",
    "features[target == 0].shape, features[target == 1].shape"
   ]
  },
  {
   "cell_type": "code",
   "execution_count": 160,
   "metadata": {},
   "outputs": [
    {
     "name": "stdout",
     "output_type": "stream",
     "text": [
      "Test score:  0.2\n"
     ]
    }
   ],
   "source": [
    "dummy_model = DummyClassifier(strategy='constant', constant=1).fit(features_train, target_train)\n",
    "dummy_pred = dummy_model.predict(features_valid)\n",
    "print('Test score: ', accuracy_score(target_test, dummy_pred))"
   ]
  },
  {
   "cell_type": "markdown",
   "metadata": {},
   "source": [
    "Наша модель показывает 80% результат  не удивительно ведь если везде поставить 0, то модель угадает в 4 случаях из 5."
   ]
  },
  {
   "cell_type": "markdown",
   "metadata": {},
   "source": [
    "Так как на 1 ушедшего клиента приходится 4 оставшихся, с этим будем разбиратся в пункте три (3. Борьба с дисбалансом)"
   ]
  },
  {
   "cell_type": "markdown",
   "metadata": {},
   "source": [
    "Модели показавшие результат ниже 80% процентов учитывать не будем"
   ]
  },
  {
   "cell_type": "markdown",
   "metadata": {},
   "source": [
    "Поиск наилучших Гипер параметров"
   ]
  },
  {
   "cell_type": "code",
   "execution_count": 63,
   "metadata": {},
   "outputs": [],
   "source": [
    "### Дерево решений"
   ]
  },
  {
   "cell_type": "code",
   "execution_count": 64,
   "metadata": {},
   "outputs": [
    {
     "name": "stdout",
     "output_type": "stream",
     "text": [
      " \n",
      "Лучший результат дерева F1-меры: 0.5476190476190477 Глубина: 7 Roc_auc: 0.7011416850497311\n"
     ]
    }
   ],
   "source": [
    "best_model = None\n",
    "best_result = 0\n",
    "best_depth = 0\n",
    "\n",
    "for depth in range(2,45):\n",
    "    model_tree = DecisionTreeClassifier(random_state = state, max_depth = depth, criterion='entropy')\n",
    "    model_tree.fit(features_train,target_train)\n",
    "    prediction_valid = model_tree.predict(features_valid)\n",
    "    res = model_tree.score(features_valid, target_valid)\n",
    "    F1 = f1_score(target_valid, prediction_valid)\n",
    "    Roc_auc = roc_auc_score(target_valid, prediction_valid)\n",
    "    #print('max_depth =',depth, 'результат = ', res, \"F1:\", F1, 'Roc_auc', Roc_auc)  \n",
    "    if best_result < F1:\n",
    "        Roc_auc_t = Roc_auc\n",
    "        best_model = model_tree\n",
    "        best_result = F1\n",
    "        best_depth = depth\n",
    "        best_tree_res = best_result\n",
    "\n",
    "print(' ')        \n",
    "print('Лучший результат дерева F1-меры:', best_tree_res, 'Глубина:', best_depth, 'Roc_auc:', Roc_auc_t)"
   ]
  },
  {
   "cell_type": "code",
   "execution_count": 65,
   "metadata": {},
   "outputs": [
    {
     "name": "stdout",
     "output_type": "stream",
     "text": [
      "est 10 результат 0.8505 F1: 0.5392912172573189 Roc_auc 0.6944192886721622\n",
      "est 20 результат 0.855 F1: 0.5538461538461538 Roc_auc 0.7018460466736328\n",
      "est 30 результат 0.854 F1: 0.5521472392638037 Roc_auc 0.701219087425984\n",
      "est 40 результат 0.854 F1: 0.5535168195718654 Roc_auc 0.702140175703394\n",
      "est 50 результат 0.855 F1: 0.5524691358024693 Roc_auc 0.7009249583962227\n",
      "est 60 результат 0.855 F1: 0.5552147239263804 Roc_auc 0.702767134951043\n",
      "est 70 результат 0.8535 F1: 0.5485362095531587 Roc_auc 0.6990634312473393\n",
      "est 80 результат 0.856 F1: 0.5569230769230769 Roc_auc 0.7033940941986918\n",
      "est 90 результат 0.86 F1: 0.5679012345679013 Roc_auc 0.7086651960215179\n",
      "est 100 результат 0.86 F1: 0.5679012345679013 Roc_auc 0.7086651960215179\n",
      "est 110 результат 0.86 F1: 0.56656346749226 Roc_auc 0.7077441077441077\n",
      "est 120 результат 0.8575 F1: 0.5608628659476117 Roc_auc 0.7052556213475754\n",
      "est 130 результат 0.8585 F1: 0.563944530046225 Roc_auc 0.7068036688726343\n",
      "est 140 результат 0.859 F1: 0.5648148148148147 Roc_auc 0.7071171484964588\n",
      "est 150 результат 0.858 F1: 0.5644171779141105 Roc_auc 0.70741127752622\n",
      "est 160 результат 0.859 F1: 0.5648148148148147 Roc_auc 0.7071171484964588\n",
      "est 170 результат 0.858 F1: 0.5603715170278638 Roc_auc 0.7046480126939897\n",
      "est 180 результат 0.8575 F1: 0.5595054095826894 Roc_auc 0.7043345330701652\n",
      "est 190 результат 0.8575 F1: 0.5581395348837209 Roc_auc 0.7034134447927551\n",
      "est 200 результат 0.857 F1: 0.5572755417956656 Roc_auc 0.7030999651689307\n",
      "est 210 результат 0.858 F1: 0.5603715170278638 Roc_auc 0.7046480126939897\n",
      "est 220 результат 0.8575 F1: 0.5595054095826894 Roc_auc 0.7043345330701652\n",
      "est 230 результат 0.8575 F1: 0.5595054095826894 Roc_auc 0.7043345330701652\n",
      "est 240 результат 0.858 F1: 0.5617283950617284 Roc_auc 0.7055691009713999\n",
      "est 250 результат 0.857 F1: 0.558641975308642 Roc_auc 0.7040210534463407\n",
      "est 260 результат 0.8575 F1: 0.5595054095826894 Roc_auc 0.7043345330701652\n",
      "est 270 результат 0.858 F1: 0.5617283950617284 Roc_auc 0.7055691009713999\n",
      "est 280 результат 0.857 F1: 0.558641975308642 Roc_auc 0.7040210534463407\n",
      "est 290 результат 0.8595 F1: 0.5670261941448381 Roc_auc 0.7083517163976935\n",
      "est 300 результат 0.8595 F1: 0.5656877897990726 Roc_auc 0.7074306281202832\n",
      "est 310 результат 0.8605 F1: 0.5687789799072643 Roc_auc 0.7089786756453423\n",
      "est 320 результат 0.8605 F1: 0.5701078582434514 Roc_auc 0.7098997639227524\n",
      "est 330 результат 0.86 F1: 0.56656346749226 Roc_auc 0.7077441077441077\n",
      "est 340 результат 0.86 F1: 0.56656346749226 Roc_auc 0.7077441077441077\n",
      "est 350 результат 0.86 F1: 0.56656346749226 Roc_auc 0.7077441077441077\n",
      "est 360 результат 0.8585 F1: 0.562596599690881 Roc_auc 0.7058825805952244\n",
      "est 370 результат 0.8595 F1: 0.5656877897990726 Roc_auc 0.7074306281202832\n",
      "est 380 результат 0.859 F1: 0.5648148148148147 Roc_auc 0.7071171484964588\n",
      "est 390 результат 0.859 F1: 0.5648148148148147 Roc_auc 0.7071171484964588\n",
      "est 400 результат 0.859 F1: 0.5634674922600619 Roc_auc 0.7061960602190488\n",
      "est 410 результат 0.8595 F1: 0.5656877897990726 Roc_auc 0.7074306281202832\n",
      "est 420 результат 0.859 F1: 0.5634674922600619 Roc_auc 0.7061960602190488\n",
      "est 430 результат 0.8585 F1: 0.562596599690881 Roc_auc 0.7058825805952244\n",
      "est 440 результат 0.859 F1: 0.5648148148148147 Roc_auc 0.7071171484964588\n",
      "est 450 результат 0.859 F1: 0.5648148148148147 Roc_auc 0.7071171484964588\n",
      "est 460 результат 0.859 F1: 0.5648148148148147 Roc_auc 0.7071171484964588\n",
      "est 470 результат 0.859 F1: 0.5648148148148147 Roc_auc 0.7071171484964588\n",
      "est 480 результат 0.8585 F1: 0.562596599690881 Roc_auc 0.7058825805952244\n",
      "est 490 результат 0.8595 F1: 0.5670261941448381 Roc_auc 0.7083517163976935\n",
      "est 500 результат 0.8595 F1: 0.5670261941448381 Roc_auc 0.7083517163976935\n",
      "est 510 результат 0.8595 F1: 0.5670261941448381 Roc_auc 0.7083517163976935\n",
      "est 520 результат 0.859 F1: 0.5648148148148147 Roc_auc 0.7071171484964588\n",
      "est 530 результат 0.859 F1: 0.5661538461538461 Roc_auc 0.7080382367738691\n",
      "est 540 результат 0.8585 F1: 0.563944530046225 Roc_auc 0.7068036688726343\n",
      "est 550 результат 0.859 F1: 0.5661538461538461 Roc_auc 0.7080382367738691\n",
      "est 560 результат 0.859 F1: 0.5661538461538461 Roc_auc 0.7080382367738691\n",
      "est 570 результат 0.8595 F1: 0.5683563748079877 Roc_auc 0.7092728046751036\n",
      "est 580 результат 0.86 F1: 0.5692307692307692 Roc_auc 0.709586284298928\n",
      "est 590 результат 0.859 F1: 0.5661538461538461 Roc_auc 0.7080382367738691\n",
      " \n",
      "Лучший результат cлучайного леса F1-меры: 0.5701078582434514 n_estimators 320 Roc_auc: 0.7098997639227524\n"
     ]
    }
   ],
   "source": [
    "### Случайный лес\n",
    "best_model = None\n",
    "best_result = 0\n",
    "best_est = 0\n",
    "\n",
    "for est in range(10,600,10):\n",
    "    model_forest = RandomForestClassifier(random_state = state, n_estimators = est, n_jobs = -1)\n",
    "    model_forest.fit(features_train,target_train)\n",
    "    prediction_valid = model_forest.predict(features_valid)\n",
    "    res = model_forest.score(features_valid, target_valid)\n",
    "    F1 = f1_score(target_valid, prediction_valid)\n",
    "    Roc_auc = roc_auc_score(target_valid, prediction_valid)\n",
    "    print('est',est, 'результат', res, \"F1:\", F1, 'Roc_auc', Roc_auc)  \n",
    "    if best_result < F1:\n",
    "        Roc_auc_f = Roc_auc\n",
    "        best_model = model_forest\n",
    "        best_result = F1\n",
    "        best_forest_res = best_result\n",
    "        n_estimators = est\n",
    "\n",
    "print(' ')        \n",
    "print('Лучший результат cлучайного леса F1-меры:', best_forest_res,'n_estimators', n_estimators,'Roc_auc:', Roc_auc_f)"
   ]
  },
  {
   "cell_type": "code",
   "execution_count": 66,
   "metadata": {},
   "outputs": [
    {
     "name": "stdout",
     "output_type": "stream",
     "text": [
      "depth = 5 est 310 Результат 0.852 F1: 0.46762589928057546 Roc_auc 0.6539107550601804\n",
      "depth = 5 est 311 Результат 0.8525 F1: 0.4684684684684684 Roc_auc 0.6542242346840049\n",
      "depth = 5 est 312 Результат 0.8525 F1: 0.4684684684684684 Roc_auc 0.6542242346840049\n",
      "depth = 5 est 313 Результат 0.8525 F1: 0.4684684684684684 Roc_auc 0.6542242346840049\n",
      "depth = 5 est 314 Результат 0.8525 F1: 0.4684684684684684 Roc_auc 0.6542242346840049\n",
      "depth = 5 est 315 Результат 0.852 F1: 0.46762589928057546 Roc_auc 0.6539107550601804\n",
      "depth = 5 est 316 Результат 0.852 F1: 0.46762589928057546 Roc_auc 0.6539107550601804\n",
      "depth = 5 est 317 Результат 0.852 F1: 0.46762589928057546 Roc_auc 0.6539107550601804\n",
      "depth = 5 est 318 Результат 0.8525 F1: 0.4684684684684684 Roc_auc 0.6542242346840049\n",
      "depth = 5 est 319 Результат 0.8525 F1: 0.4684684684684684 Roc_auc 0.6542242346840049\n",
      "depth = 5 est 320 Результат 0.8525 F1: 0.4684684684684684 Roc_auc 0.6542242346840049\n",
      "depth = 5 est 321 Результат 0.8525 F1: 0.4684684684684684 Roc_auc 0.6542242346840049\n",
      "depth = 5 est 322 Результат 0.8525 F1: 0.4684684684684684 Roc_auc 0.6542242346840049\n",
      "depth = 5 est 323 Результат 0.8525 F1: 0.4684684684684684 Roc_auc 0.6542242346840049\n",
      "depth = 5 est 324 Результат 0.8525 F1: 0.4684684684684684 Roc_auc 0.6542242346840049\n",
      "depth = 5 est 325 Результат 0.8525 F1: 0.4684684684684684 Roc_auc 0.6542242346840049\n",
      "depth = 5 est 326 Результат 0.8525 F1: 0.4684684684684684 Roc_auc 0.6542242346840049\n",
      "depth = 5 est 327 Результат 0.8525 F1: 0.4684684684684684 Roc_auc 0.6542242346840049\n",
      "depth = 5 est 328 Результат 0.8525 F1: 0.4684684684684684 Roc_auc 0.6542242346840049\n",
      "depth = 5 est 329 Результат 0.8525 F1: 0.4684684684684684 Roc_auc 0.6542242346840049\n",
      "depth = 6 est 310 Результат 0.851 F1: 0.48620689655172405 Roc_auc 0.6634157668640427\n",
      "depth = 6 est 311 Результат 0.8505 F1: 0.48537005163511193 Roc_auc 0.6631022872402182\n",
      "depth = 6 est 312 Результат 0.8505 F1: 0.48537005163511193 Roc_auc 0.6631022872402182\n",
      "depth = 6 est 313 Результат 0.8505 F1: 0.48537005163511193 Roc_auc 0.6631022872402182\n",
      "depth = 6 est 314 Результат 0.8505 F1: 0.48537005163511193 Roc_auc 0.6631022872402182\n",
      "depth = 6 est 315 Результат 0.851 F1: 0.4879725085910653 Roc_auc 0.6643368551414529\n",
      "depth = 6 est 316 Результат 0.8505 F1: 0.48537005163511193 Roc_auc 0.6631022872402182\n",
      "depth = 6 est 317 Результат 0.85 F1: 0.48275862068965514 Roc_auc 0.6618677193389837\n",
      "depth = 6 est 318 Результат 0.8505 F1: 0.48537005163511193 Roc_auc 0.6631022872402182\n",
      "depth = 6 est 319 Результат 0.8505 F1: 0.48537005163511193 Roc_auc 0.6631022872402182\n",
      "depth = 6 est 320 Результат 0.85 F1: 0.48275862068965514 Roc_auc 0.6618677193389837\n",
      "depth = 6 est 321 Результат 0.8505 F1: 0.48537005163511193 Roc_auc 0.6631022872402182\n",
      "depth = 6 est 322 Результат 0.851 F1: 0.4879725085910653 Roc_auc 0.6643368551414529\n",
      "depth = 6 est 323 Результат 0.851 F1: 0.4879725085910653 Roc_auc 0.6643368551414529\n",
      "depth = 6 est 324 Результат 0.8505 F1: 0.48537005163511193 Roc_auc 0.6631022872402182\n",
      "depth = 6 est 325 Результат 0.8505 F1: 0.48537005163511193 Roc_auc 0.6631022872402182\n",
      "depth = 6 est 326 Результат 0.8505 F1: 0.48537005163511193 Roc_auc 0.6631022872402182\n",
      "depth = 6 est 327 Результат 0.8505 F1: 0.48537005163511193 Roc_auc 0.6631022872402182\n",
      "depth = 6 est 328 Результат 0.8505 F1: 0.48537005163511193 Roc_auc 0.6631022872402182\n",
      "depth = 6 est 329 Результат 0.85 F1: 0.4845360824742268 Roc_auc 0.6627888076163938\n",
      "depth = 7 est 310 Результат 0.857 F1: 0.5249169435215946 Roc_auc 0.6828360230659081\n",
      "depth = 7 est 311 Результат 0.857 F1: 0.5249169435215946 Roc_auc 0.6828360230659081\n",
      "depth = 7 est 312 Результат 0.8575 F1: 0.5273631840796019 Roc_auc 0.6840705909671426\n",
      "depth = 7 est 313 Результат 0.8575 F1: 0.5273631840796019 Roc_auc 0.6840705909671426\n",
      "depth = 7 est 314 Результат 0.857 F1: 0.5249169435215946 Roc_auc 0.6828360230659081\n",
      "depth = 7 est 315 Результат 0.8575 F1: 0.5273631840796019 Roc_auc 0.6840705909671426\n",
      "depth = 7 est 316 Результат 0.8575 F1: 0.5273631840796019 Roc_auc 0.6840705909671426\n",
      "depth = 7 est 317 Результат 0.8575 F1: 0.5273631840796019 Roc_auc 0.6840705909671426\n",
      "depth = 7 est 318 Результат 0.8575 F1: 0.5273631840796019 Roc_auc 0.6840705909671426\n",
      "depth = 7 est 319 Результат 0.8575 F1: 0.5273631840796019 Roc_auc 0.6840705909671426\n",
      "depth = 7 est 320 Результат 0.8575 F1: 0.5273631840796019 Roc_auc 0.6840705909671426\n",
      "depth = 7 est 321 Результат 0.8575 F1: 0.5273631840796019 Roc_auc 0.6840705909671426\n",
      "depth = 7 est 322 Результат 0.8575 F1: 0.5273631840796019 Roc_auc 0.6840705909671426\n",
      "depth = 7 est 323 Результат 0.8575 F1: 0.5273631840796019 Roc_auc 0.6840705909671426\n",
      "depth = 7 est 324 Результат 0.8575 F1: 0.5273631840796019 Roc_auc 0.6840705909671426\n",
      "depth = 7 est 325 Результат 0.8575 F1: 0.5273631840796019 Roc_auc 0.6840705909671426\n",
      "depth = 7 est 326 Результат 0.8575 F1: 0.5273631840796019 Roc_auc 0.6840705909671426\n",
      "depth = 7 est 327 Результат 0.8575 F1: 0.5273631840796019 Roc_auc 0.6840705909671426\n",
      "depth = 7 est 328 Результат 0.8575 F1: 0.5273631840796019 Roc_auc 0.6840705909671426\n",
      "depth = 7 est 329 Результат 0.8575 F1: 0.5273631840796019 Roc_auc 0.6840705909671426\n",
      "depth = 8 est 310 Результат 0.8575 F1: 0.5365853658536585 Roc_auc 0.6895971206316034\n",
      "depth = 8 est 311 Результат 0.8575 F1: 0.5365853658536585 Roc_auc 0.6895971206316034\n",
      "depth = 8 est 312 Результат 0.8575 F1: 0.5365853658536585 Roc_auc 0.6895971206316034\n",
      "depth = 8 est 313 Результат 0.8575 F1: 0.5365853658536585 Roc_auc 0.6895971206316034\n",
      "depth = 8 est 314 Результат 0.8575 F1: 0.5365853658536585 Roc_auc 0.6895971206316034\n",
      "depth = 8 est 315 Результат 0.8575 F1: 0.5365853658536585 Roc_auc 0.6895971206316034\n",
      "depth = 8 est 316 Результат 0.8575 F1: 0.5365853658536585 Roc_auc 0.6895971206316034\n",
      "depth = 8 est 317 Результат 0.8575 F1: 0.5365853658536585 Roc_auc 0.6895971206316034\n",
      "depth = 8 est 318 Результат 0.8575 F1: 0.5365853658536585 Roc_auc 0.6895971206316034\n",
      "depth = 8 est 319 Результат 0.8575 F1: 0.5365853658536585 Roc_auc 0.6895971206316034\n",
      "depth = 8 est 320 Результат 0.8575 F1: 0.5365853658536585 Roc_auc 0.6895971206316034\n",
      "depth = 8 est 321 Результат 0.8575 F1: 0.5365853658536585 Roc_auc 0.6895971206316034\n",
      "depth = 8 est 322 Результат 0.8575 F1: 0.5365853658536585 Roc_auc 0.6895971206316034\n",
      "depth = 8 est 323 Результат 0.8575 F1: 0.5365853658536585 Roc_auc 0.6895971206316034\n",
      "depth = 8 est 324 Результат 0.8575 F1: 0.5365853658536585 Roc_auc 0.6895971206316034\n",
      "depth = 8 est 325 Результат 0.8575 F1: 0.5365853658536585 Roc_auc 0.6895971206316034\n",
      "depth = 8 est 326 Результат 0.858 F1: 0.537459283387622 Roc_auc 0.6899106002554278\n",
      "depth = 8 est 327 Результат 0.8575 F1: 0.5365853658536585 Roc_auc 0.6895971206316034\n",
      "depth = 8 est 328 Результат 0.8575 F1: 0.5365853658536585 Roc_auc 0.6895971206316034\n",
      "depth = 8 est 329 Результат 0.8575 F1: 0.5365853658536585 Roc_auc 0.6895971206316034\n",
      "depth = 9 est 310 Результат 0.8595 F1: 0.5445705024311184 Roc_auc 0.6936143039591315\n",
      "depth = 9 est 311 Результат 0.8595 F1: 0.5445705024311184 Roc_auc 0.6936143039591315\n",
      "depth = 9 est 312 Результат 0.8595 F1: 0.5445705024311184 Roc_auc 0.6936143039591315\n",
      "depth = 9 est 313 Результат 0.86 F1: 0.5469255663430421 Roc_auc 0.694848871860366\n",
      "depth = 9 est 314 Результат 0.8595 F1: 0.5445705024311184 Roc_auc 0.6936143039591315\n",
      "depth = 9 est 315 Результат 0.86 F1: 0.5469255663430421 Roc_auc 0.694848871860366\n",
      "depth = 9 est 316 Результат 0.859 F1: 0.5436893203883494 Roc_auc 0.693300824335307\n",
      "depth = 9 est 317 Результат 0.859 F1: 0.5436893203883494 Roc_auc 0.693300824335307\n",
      "depth = 9 est 318 Результат 0.859 F1: 0.5436893203883494 Roc_auc 0.693300824335307\n",
      "depth = 9 est 319 Результат 0.859 F1: 0.5436893203883494 Roc_auc 0.693300824335307\n",
      "depth = 9 est 320 Результат 0.859 F1: 0.5436893203883494 Roc_auc 0.693300824335307\n",
      "depth = 9 est 321 Результат 0.859 F1: 0.5436893203883494 Roc_auc 0.693300824335307\n",
      "depth = 9 est 322 Результат 0.859 F1: 0.5436893203883494 Roc_auc 0.693300824335307\n",
      "depth = 9 est 323 Результат 0.859 F1: 0.5436893203883494 Roc_auc 0.693300824335307\n",
      "depth = 9 est 324 Результат 0.859 F1: 0.5436893203883494 Roc_auc 0.693300824335307\n",
      "depth = 9 est 325 Результат 0.859 F1: 0.5436893203883494 Roc_auc 0.693300824335307\n",
      "depth = 9 est 326 Результат 0.8595 F1: 0.5460420032310178 Roc_auc 0.6945353922365416\n",
      "depth = 9 est 327 Результат 0.859 F1: 0.5436893203883494 Roc_auc 0.693300824335307\n",
      "depth = 9 est 328 Результат 0.8595 F1: 0.5445705024311184 Roc_auc 0.6936143039591315\n",
      "depth = 9 est 329 Результат 0.859 F1: 0.5436893203883494 Roc_auc 0.693300824335307\n",
      "depth = 10 est 310 Результат 0.8595 F1: 0.5504 Roc_auc 0.697298657068772\n",
      "depth = 10 est 311 Результат 0.859 F1: 0.548076923076923 Roc_auc 0.6960640891675376\n",
      "depth = 10 est 312 Результат 0.859 F1: 0.548076923076923 Roc_auc 0.6960640891675376\n",
      "depth = 10 est 313 Результат 0.86 F1: 0.5512820512820513 Roc_auc 0.6976121366925965\n",
      "depth = 10 est 314 Результат 0.8585 F1: 0.5472 Roc_auc 0.695750609543713\n",
      "depth = 10 est 315 Результат 0.8585 F1: 0.5472 Roc_auc 0.695750609543713\n",
      "depth = 10 est 316 Результат 0.8585 F1: 0.5472 Roc_auc 0.695750609543713\n",
      "depth = 10 est 317 Результат 0.8595 F1: 0.5504 Roc_auc 0.697298657068772\n",
      "depth = 10 est 318 Результат 0.859 F1: 0.548076923076923 Roc_auc 0.6960640891675376\n",
      "depth = 10 est 319 Результат 0.859 F1: 0.548076923076923 Roc_auc 0.6960640891675376\n",
      "depth = 10 est 320 Результат 0.8595 F1: 0.5504 Roc_auc 0.697298657068772\n",
      "depth = 10 est 321 Результат 0.8595 F1: 0.5504 Roc_auc 0.697298657068772\n",
      "depth = 10 est 322 Результат 0.8595 F1: 0.5504 Roc_auc 0.697298657068772\n",
      "depth = 10 est 323 Результат 0.859 F1: 0.548076923076923 Roc_auc 0.6960640891675376\n",
      "depth = 10 est 324 Результат 0.8595 F1: 0.5504 Roc_auc 0.697298657068772\n",
      "depth = 10 est 325 Результат 0.859 F1: 0.548076923076923 Roc_auc 0.6960640891675376\n",
      "depth = 10 est 326 Результат 0.859 F1: 0.548076923076923 Roc_auc 0.6960640891675376\n",
      "depth = 10 est 327 Результат 0.859 F1: 0.548076923076923 Roc_auc 0.6960640891675376\n",
      "depth = 10 est 328 Результат 0.859 F1: 0.548076923076923 Roc_auc 0.6960640891675376\n",
      "depth = 10 est 329 Результат 0.859 F1: 0.548076923076923 Roc_auc 0.6960640891675376\n",
      "depth = 11 est 310 Результат 0.858 F1: 0.5463258785942492 Roc_auc 0.6954371299198886\n",
      "depth = 11 est 311 Результат 0.8585 F1: 0.5472 Roc_auc 0.695750609543713\n",
      "depth = 11 est 312 Результат 0.8585 F1: 0.5472 Roc_auc 0.695750609543713\n",
      "depth = 11 est 313 Результат 0.8585 F1: 0.5472 Roc_auc 0.695750609543713\n",
      "depth = 11 est 314 Результат 0.8585 F1: 0.5472 Roc_auc 0.695750609543713\n",
      "depth = 11 est 315 Результат 0.859 F1: 0.548076923076923 Roc_auc 0.6960640891675376\n",
      "depth = 11 est 316 Результат 0.8585 F1: 0.5472 Roc_auc 0.695750609543713\n",
      "depth = 11 est 317 Результат 0.859 F1: 0.548076923076923 Roc_auc 0.6960640891675376\n",
      "depth = 11 est 318 Результат 0.859 F1: 0.548076923076923 Roc_auc 0.6960640891675376\n",
      "depth = 11 est 319 Результат 0.859 F1: 0.549520766773163 Roc_auc 0.6969851774449476\n",
      "depth = 11 est 320 Результат 0.859 F1: 0.549520766773163 Roc_auc 0.6969851774449476\n",
      "depth = 11 est 321 Результат 0.859 F1: 0.549520766773163 Roc_auc 0.6969851774449476\n",
      "depth = 11 est 322 Результат 0.859 F1: 0.549520766773163 Roc_auc 0.6969851774449476\n",
      "depth = 11 est 323 Результат 0.859 F1: 0.549520766773163 Roc_auc 0.6969851774449476\n",
      "depth = 11 est 324 Результат 0.859 F1: 0.549520766773163 Roc_auc 0.6969851774449476\n",
      "depth = 11 est 325 Результат 0.859 F1: 0.549520766773163 Roc_auc 0.6969851774449476\n",
      "depth = 11 est 326 Результат 0.859 F1: 0.549520766773163 Roc_auc 0.6969851774449476\n",
      "depth = 11 est 327 Результат 0.8585 F1: 0.5472 Roc_auc 0.695750609543713\n",
      "depth = 11 est 328 Результат 0.859 F1: 0.549520766773163 Roc_auc 0.6969851774449476\n",
      "depth = 11 est 329 Результат 0.859 F1: 0.549520766773163 Roc_auc 0.6969851774449476\n",
      "depth = 12 est 310 Результат 0.8595 F1: 0.5588697017268447 Roc_auc 0.7028251867332327\n",
      "depth = 12 est 311 Результат 0.8595 F1: 0.5588697017268447 Roc_auc 0.7028251867332327\n",
      "depth = 12 est 312 Результат 0.8595 F1: 0.5588697017268447 Roc_auc 0.7028251867332327\n",
      "depth = 12 est 313 Результат 0.8595 F1: 0.5588697017268447 Roc_auc 0.7028251867332327\n",
      "depth = 12 est 314 Результат 0.8595 F1: 0.5588697017268447 Roc_auc 0.7028251867332327\n",
      "depth = 12 est 315 Результат 0.8595 F1: 0.5588697017268447 Roc_auc 0.7028251867332327\n",
      "depth = 12 est 316 Результат 0.8595 F1: 0.5588697017268447 Roc_auc 0.7028251867332327\n",
      "depth = 12 est 317 Результат 0.8595 F1: 0.5588697017268447 Roc_auc 0.7028251867332327\n",
      "depth = 12 est 318 Результат 0.8595 F1: 0.5588697017268447 Roc_auc 0.7028251867332327\n",
      "depth = 12 est 319 Результат 0.8595 F1: 0.5588697017268447 Roc_auc 0.7028251867332327\n",
      "depth = 12 est 320 Результат 0.859 F1: 0.5566037735849056 Roc_auc 0.7015906188319982\n",
      "depth = 12 est 321 Результат 0.8585 F1: 0.5543307086614173 Roc_auc 0.7003560509307635\n",
      "depth = 12 est 322 Результат 0.8595 F1: 0.5588697017268447 Roc_auc 0.7028251867332327\n",
      "depth = 12 est 323 Результат 0.859 F1: 0.5566037735849056 Roc_auc 0.7015906188319982\n",
      "depth = 12 est 324 Результат 0.859 F1: 0.5566037735849056 Roc_auc 0.7015906188319982\n",
      "depth = 12 est 325 Результат 0.859 F1: 0.5566037735849056 Roc_auc 0.7015906188319982\n",
      "depth = 12 est 326 Результат 0.8595 F1: 0.55748031496063 Roc_auc 0.7019040984558226\n",
      "depth = 12 est 327 Результат 0.859 F1: 0.5552050473186121 Roc_auc 0.7006695305545879\n",
      "depth = 12 est 328 Результат 0.859 F1: 0.5552050473186121 Roc_auc 0.7006695305545879\n",
      "depth = 12 est 329 Результат 0.8585 F1: 0.5543307086614173 Roc_auc 0.7003560509307635\n",
      "depth = 13 est 310 Результат 0.859 F1: 0.5566037735849056 Roc_auc 0.7015906188319982\n",
      "depth = 13 est 311 Результат 0.8585 F1: 0.5557299843014128 Roc_auc 0.7012771392081737\n",
      "depth = 13 est 312 Результат 0.859 F1: 0.5566037735849056 Roc_auc 0.7015906188319982\n",
      "depth = 13 est 313 Результат 0.8585 F1: 0.5557299843014128 Roc_auc 0.7012771392081737\n",
      "depth = 13 est 314 Результат 0.859 F1: 0.5566037735849056 Roc_auc 0.7015906188319982\n",
      "depth = 13 est 315 Результат 0.859 F1: 0.5566037735849056 Roc_auc 0.7015906188319982\n",
      "depth = 13 est 316 Результат 0.8585 F1: 0.5557299843014128 Roc_auc 0.7012771392081737\n",
      "depth = 13 est 317 Результат 0.859 F1: 0.5566037735849056 Roc_auc 0.7015906188319982\n",
      "depth = 13 est 318 Результат 0.859 F1: 0.5579937304075235 Roc_auc 0.7025117071094084\n",
      "depth = 13 est 319 Результат 0.8595 F1: 0.5588697017268447 Roc_auc 0.7028251867332327\n",
      "depth = 13 est 320 Результат 0.8595 F1: 0.5588697017268447 Roc_auc 0.7028251867332327\n",
      "depth = 13 est 321 Результат 0.8585 F1: 0.5571205007824725 Roc_auc 0.7021982274855838\n",
      "depth = 13 est 322 Результат 0.8585 F1: 0.5571205007824725 Roc_auc 0.7021982274855838\n",
      "depth = 13 est 323 Результат 0.8585 F1: 0.5571205007824725 Roc_auc 0.7021982274855838\n",
      "depth = 13 est 324 Результат 0.8585 F1: 0.5571205007824725 Roc_auc 0.7021982274855838\n",
      "depth = 13 est 325 Результат 0.8585 F1: 0.5571205007824725 Roc_auc 0.7021982274855838\n",
      "depth = 13 est 326 Результат 0.8585 F1: 0.5571205007824725 Roc_auc 0.7021982274855838\n",
      "depth = 13 est 327 Результат 0.858 F1: 0.5562499999999999 Roc_auc 0.7018847478617594\n",
      "depth = 13 est 328 Результат 0.859 F1: 0.5579937304075235 Roc_auc 0.7025117071094084\n",
      "depth = 13 est 329 Результат 0.859 F1: 0.5566037735849056 Roc_auc 0.7015906188319982\n",
      "depth = 14 est 310 Результат 0.8585 F1: 0.5571205007824725 Roc_auc 0.7021982274855838\n",
      "depth = 14 est 311 Результат 0.859 F1: 0.559375 Roc_auc 0.7034327953868184\n",
      "depth = 14 est 312 Результат 0.8585 F1: 0.5571205007824725 Roc_auc 0.7021982274855838\n",
      "depth = 14 est 313 Результат 0.858 F1: 0.554858934169279 Roc_auc 0.7009636595843493\n",
      "depth = 14 est 314 Результат 0.8585 F1: 0.5571205007824725 Roc_auc 0.7021982274855838\n",
      "depth = 14 est 315 Результат 0.8585 F1: 0.5571205007824725 Roc_auc 0.7021982274855838\n",
      "depth = 14 est 316 Результат 0.8585 F1: 0.5571205007824725 Roc_auc 0.7021982274855838\n",
      "depth = 14 est 317 Результат 0.859 F1: 0.559375 Roc_auc 0.7034327953868184\n",
      "depth = 14 est 318 Результат 0.859 F1: 0.559375 Roc_auc 0.7034327953868184\n",
      "depth = 14 est 319 Результат 0.8585 F1: 0.5571205007824725 Roc_auc 0.7021982274855838\n",
      "depth = 14 est 320 Результат 0.8585 F1: 0.5571205007824725 Roc_auc 0.7021982274855838\n",
      "depth = 14 est 321 Результат 0.8585 F1: 0.5571205007824725 Roc_auc 0.7021982274855838\n",
      "depth = 14 est 322 Результат 0.859 F1: 0.5579937304075235 Roc_auc 0.7025117071094084\n",
      "depth = 14 est 323 Результат 0.8585 F1: 0.5571205007824725 Roc_auc 0.7021982274855838\n",
      "depth = 14 est 324 Результат 0.8585 F1: 0.5571205007824725 Roc_auc 0.7021982274855838\n",
      "depth = 14 est 325 Результат 0.8585 F1: 0.5571205007824725 Roc_auc 0.7021982274855838\n",
      "depth = 14 est 326 Результат 0.8585 F1: 0.5571205007824725 Roc_auc 0.7021982274855838\n",
      "depth = 14 est 327 Результат 0.859 F1: 0.559375 Roc_auc 0.7034327953868184\n",
      "depth = 14 est 328 Результат 0.859 F1: 0.559375 Roc_auc 0.7034327953868184\n",
      "depth = 14 est 329 Результат 0.8595 F1: 0.5602503912363067 Roc_auc 0.7037462750106429\n",
      "depth = 15 est 310 Результат 0.8585 F1: 0.5571205007824725 Roc_auc 0.7021982274855838\n",
      "depth = 15 est 311 Результат 0.8585 F1: 0.5571205007824725 Roc_auc 0.7021982274855838\n",
      "depth = 15 est 312 Результат 0.8585 F1: 0.5571205007824725 Roc_auc 0.7021982274855838\n",
      "depth = 15 est 313 Результат 0.8585 F1: 0.5571205007824725 Roc_auc 0.7021982274855838\n",
      "depth = 15 est 314 Результат 0.859 F1: 0.559375 Roc_auc 0.7034327953868184\n",
      "depth = 15 est 315 Результат 0.8585 F1: 0.5571205007824725 Roc_auc 0.7021982274855838\n",
      "depth = 15 est 316 Результат 0.8585 F1: 0.5571205007824725 Roc_auc 0.7021982274855838\n",
      "depth = 15 est 317 Результат 0.8585 F1: 0.5557299843014128 Roc_auc 0.7012771392081737\n",
      "depth = 15 est 318 Результат 0.859 F1: 0.5579937304075235 Roc_auc 0.7025117071094084\n",
      "depth = 15 est 319 Результат 0.8585 F1: 0.5557299843014128 Roc_auc 0.7012771392081737\n",
      "depth = 15 est 320 Результат 0.859 F1: 0.5579937304075235 Roc_auc 0.7025117071094084\n",
      "depth = 15 est 321 Результат 0.8585 F1: 0.5571205007824725 Roc_auc 0.7021982274855838\n",
      "depth = 15 est 322 Результат 0.8585 F1: 0.5557299843014128 Roc_auc 0.7012771392081737\n",
      "depth = 15 est 323 Результат 0.8585 F1: 0.5557299843014128 Roc_auc 0.7012771392081737\n",
      "depth = 15 est 324 Результат 0.8585 F1: 0.5557299843014128 Roc_auc 0.7012771392081737\n",
      "depth = 15 est 325 Результат 0.8585 F1: 0.5557299843014128 Roc_auc 0.7012771392081737\n",
      "depth = 15 est 326 Результат 0.858 F1: 0.554858934169279 Roc_auc 0.7009636595843493\n",
      "depth = 15 est 327 Результат 0.8585 F1: 0.5571205007824725 Roc_auc 0.7021982274855838\n",
      "depth = 15 est 328 Результат 0.859 F1: 0.559375 Roc_auc 0.7034327953868184\n",
      "depth = 15 est 329 Результат 0.858 F1: 0.554858934169279 Roc_auc 0.7009636595843493\n",
      "depth = 16 est 310 Результат 0.86 F1: 0.5652173913043478 Roc_auc 0.7068230194666977\n",
      "depth = 16 est 311 Результат 0.86 F1: 0.5652173913043478 Roc_auc 0.7068230194666977\n",
      "depth = 16 est 312 Результат 0.86 F1: 0.5652173913043478 Roc_auc 0.7068230194666977\n",
      "depth = 16 est 313 Результат 0.8595 F1: 0.5643410852713178 Roc_auc 0.7065095398428732\n",
      "depth = 16 est 314 Результат 0.8595 F1: 0.5643410852713178 Roc_auc 0.7065095398428732\n",
      "depth = 16 est 315 Результат 0.8595 F1: 0.5643410852713178 Roc_auc 0.7065095398428732\n",
      "depth = 16 est 316 Результат 0.86 F1: 0.5652173913043478 Roc_auc 0.7068230194666977\n",
      "depth = 16 est 317 Результат 0.86 F1: 0.56656346749226 Roc_auc 0.7077441077441077\n",
      "depth = 16 est 318 Результат 0.8595 F1: 0.5643410852713178 Roc_auc 0.7065095398428732\n",
      "depth = 16 est 319 Результат 0.86 F1: 0.56656346749226 Roc_auc 0.7077441077441077\n",
      "depth = 16 est 320 Результат 0.86 F1: 0.56656346749226 Roc_auc 0.7077441077441077\n",
      "depth = 16 est 321 Результат 0.86 F1: 0.56656346749226 Roc_auc 0.7077441077441077\n",
      "depth = 16 est 322 Результат 0.86 F1: 0.56656346749226 Roc_auc 0.7077441077441077\n",
      "depth = 16 est 323 Результат 0.86 F1: 0.56656346749226 Roc_auc 0.7077441077441077\n",
      "depth = 16 est 324 Результат 0.86 F1: 0.56656346749226 Roc_auc 0.7077441077441077\n",
      "depth = 16 est 325 Результат 0.86 F1: 0.56656346749226 Roc_auc 0.7077441077441077\n",
      "depth = 16 est 326 Результат 0.8605 F1: 0.5687789799072643 Roc_auc 0.7089786756453423\n",
      "depth = 16 est 327 Результат 0.8605 F1: 0.5687789799072643 Roc_auc 0.7089786756453423\n",
      "depth = 16 est 328 Результат 0.8605 F1: 0.5687789799072643 Roc_auc 0.7089786756453423\n",
      "depth = 16 est 329 Результат 0.8605 F1: 0.5687789799072643 Roc_auc 0.7089786756453423\n",
      "depth = 17 est 310 Результат 0.8585 F1: 0.5557299843014128 Roc_auc 0.7012771392081737\n",
      "depth = 17 est 311 Результат 0.859 F1: 0.5579937304075235 Roc_auc 0.7025117071094084\n",
      "depth = 17 est 312 Результат 0.8585 F1: 0.5571205007824725 Roc_auc 0.7021982274855838\n",
      "depth = 17 est 313 Результат 0.8585 F1: 0.5571205007824725 Roc_auc 0.7021982274855838\n",
      "depth = 17 est 314 Результат 0.8585 F1: 0.5571205007824725 Roc_auc 0.7021982274855838\n",
      "depth = 17 est 315 Результат 0.859 F1: 0.559375 Roc_auc 0.7034327953868184\n",
      "depth = 17 est 316 Результат 0.858 F1: 0.554858934169279 Roc_auc 0.7009636595843493\n",
      "depth = 17 est 317 Результат 0.8585 F1: 0.5571205007824725 Roc_auc 0.7021982274855838\n",
      "depth = 17 est 318 Результат 0.8575 F1: 0.5525902668759811 Roc_auc 0.6997290916831146\n",
      "depth = 17 est 319 Результат 0.8585 F1: 0.5571205007824725 Roc_auc 0.7021982274855838\n",
      "depth = 17 est 320 Результат 0.858 F1: 0.554858934169279 Roc_auc 0.7009636595843493\n",
      "depth = 17 est 321 Результат 0.8585 F1: 0.5571205007824725 Roc_auc 0.7021982274855838\n",
      "depth = 17 est 322 Результат 0.8575 F1: 0.5525902668759811 Roc_auc 0.6997290916831146\n",
      "depth = 17 est 323 Результат 0.858 F1: 0.554858934169279 Roc_auc 0.7009636595843493\n",
      "depth = 17 est 324 Результат 0.8575 F1: 0.5525902668759811 Roc_auc 0.6997290916831146\n",
      "depth = 17 est 325 Результат 0.858 F1: 0.5534591194968554 Roc_auc 0.7000425713069391\n",
      "depth = 17 est 326 Результат 0.857 F1: 0.550314465408805 Roc_auc 0.69849452378188\n",
      "depth = 17 est 327 Результат 0.8575 F1: 0.5525902668759811 Roc_auc 0.6997290916831146\n",
      "depth = 17 est 328 Результат 0.8575 F1: 0.5525902668759811 Roc_auc 0.6997290916831146\n",
      "depth = 17 est 329 Результат 0.858 F1: 0.554858934169279 Roc_auc 0.7009636595843493\n",
      "depth = 18 est 310 Результат 0.8615 F1: 0.5718701700154559 Roc_auc 0.7105267231704013\n",
      "depth = 18 est 311 Результат 0.861 F1: 0.5709876543209876 Roc_auc 0.7102132435465769\n",
      "depth = 18 est 312 Результат 0.861 F1: 0.5709876543209876 Roc_auc 0.7102132435465769\n",
      "depth = 18 est 313 Результат 0.8605 F1: 0.5687789799072643 Roc_auc 0.7089786756453423\n",
      "depth = 18 est 314 Результат 0.8605 F1: 0.5687789799072643 Roc_auc 0.7089786756453423\n",
      "depth = 18 est 315 Результат 0.86 F1: 0.5679012345679013 Roc_auc 0.7086651960215179\n",
      "depth = 18 est 316 Результат 0.8605 F1: 0.5687789799072643 Roc_auc 0.7089786756453423\n",
      "depth = 18 est 317 Результат 0.86 F1: 0.5679012345679013 Roc_auc 0.7086651960215179\n",
      "depth = 18 est 318 Результат 0.86 F1: 0.5679012345679013 Roc_auc 0.7086651960215179\n",
      "depth = 18 est 319 Результат 0.86 F1: 0.5679012345679013 Roc_auc 0.7086651960215179\n",
      "depth = 18 est 320 Результат 0.86 F1: 0.5679012345679013 Roc_auc 0.7086651960215179\n",
      "depth = 18 est 321 Результат 0.86 F1: 0.5679012345679013 Roc_auc 0.7086651960215179\n",
      "depth = 18 est 322 Результат 0.86 F1: 0.5679012345679013 Roc_auc 0.7086651960215179\n",
      "depth = 18 est 323 Результат 0.86 F1: 0.5679012345679013 Roc_auc 0.7086651960215179\n",
      "depth = 18 est 324 Результат 0.86 F1: 0.5679012345679013 Roc_auc 0.7086651960215179\n",
      "depth = 18 est 325 Результат 0.86 F1: 0.5679012345679013 Roc_auc 0.7086651960215179\n",
      "depth = 18 est 326 Результат 0.86 F1: 0.5679012345679013 Roc_auc 0.7086651960215179\n",
      "depth = 18 est 327 Результат 0.86 F1: 0.5679012345679013 Roc_auc 0.7086651960215179\n",
      "depth = 18 est 328 Результат 0.86 F1: 0.5679012345679013 Roc_auc 0.7086651960215179\n",
      "depth = 18 est 329 Результат 0.86 F1: 0.5679012345679013 Roc_auc 0.7086651960215179\n",
      "depth = 19 est 310 Результат 0.8575 F1: 0.5539906103286385 Roc_auc 0.7006501799605248\n",
      "depth = 19 est 311 Результат 0.857 F1: 0.553125 Roc_auc 0.7003367003367004\n",
      "depth = 19 est 312 Результат 0.857 F1: 0.553125 Roc_auc 0.7003367003367004\n",
      "depth = 19 est 313 Результат 0.8565 F1: 0.5522620904836193 Roc_auc 0.7000232207128759\n",
      "depth = 19 est 314 Результат 0.857 F1: 0.553125 Roc_auc 0.7003367003367004\n",
      "depth = 19 est 315 Результат 0.8565 F1: 0.5522620904836193 Roc_auc 0.7000232207128759\n",
      "depth = 19 est 316 Результат 0.8565 F1: 0.5522620904836193 Roc_auc 0.7000232207128759\n",
      "depth = 19 est 317 Результат 0.856 F1: 0.5499999999999999 Roc_auc 0.6987886528116413\n",
      "depth = 19 est 318 Результат 0.856 F1: 0.5514018691588785 Roc_auc 0.6997097410890515\n",
      "depth = 19 est 319 Результат 0.856 F1: 0.5514018691588785 Roc_auc 0.6997097410890515\n",
      "depth = 19 est 320 Результат 0.856 F1: 0.5514018691588785 Roc_auc 0.6997097410890515\n",
      "depth = 19 est 321 Результат 0.8555 F1: 0.549141965678627 Roc_auc 0.6984751731878168\n",
      "depth = 19 est 322 Результат 0.856 F1: 0.5514018691588785 Roc_auc 0.6997097410890515\n",
      "depth = 19 est 323 Результат 0.8555 F1: 0.549141965678627 Roc_auc 0.6984751731878168\n",
      "depth = 19 est 324 Результат 0.8555 F1: 0.549141965678627 Roc_auc 0.6984751731878168\n",
      "depth = 19 est 325 Результат 0.8555 F1: 0.549141965678627 Roc_auc 0.6984751731878168\n",
      "depth = 19 est 326 Результат 0.8555 F1: 0.549141965678627 Roc_auc 0.6984751731878168\n",
      "depth = 19 est 327 Результат 0.8555 F1: 0.549141965678627 Roc_auc 0.6984751731878168\n",
      "depth = 19 est 328 Результат 0.8565 F1: 0.5522620904836193 Roc_auc 0.7000232207128759\n",
      "depth = 19 est 329 Результат 0.8565 F1: 0.5508607198748044 Roc_auc 0.6991021324354657\n",
      " \n",
      "Лучший результат cлучайного леса F1-меры: 0.5718701700154559 Глубина: 18 n_estimators 310 Roc_auc: 0.7105267231704013\n"
     ]
    }
   ],
   "source": [
    "best_model = None\n",
    "best_result = 0\n",
    "best_est = 0\n",
    "\n",
    "\n",
    "for depth in range(5,20):\n",
    "    for est in range(310,330):\n",
    "        model_forest = RandomForestClassifier(random_state = state , n_estimators = est, n_jobs=-1, max_depth=depth)\n",
    "        model_forest.fit(features_train,target_train)\n",
    "        prediction_valid = model_forest.predict(features_valid)\n",
    "        res = model_forest.score(features_valid, target_valid)\n",
    "        F1 = f1_score(target_valid, prediction_valid)\n",
    "        Roc_auc = roc_auc_score(target_valid, prediction_valid)\n",
    "        print('depth =',depth,'est',est, 'Результат', res, \"F1:\", F1, 'Roc_auc', Roc_auc)  \n",
    "        if best_result < F1:\n",
    "            Roc_auc_f = Roc_auc\n",
    "            best_model = model_forest\n",
    "            best_result = F1\n",
    "            best_depth = depth\n",
    "            best_forest_ress = best_result\n",
    "            n_estimators = est\n",
    "\n",
    "print(' ')        \n",
    "print('Лучший результат cлучайного леса F1-меры:', best_forest_ress, 'Глубина:', best_depth, \n",
    "      'n_estimators', n_estimators, 'Roc_auc:', Roc_auc_f)"
   ]
  },
  {
   "cell_type": "markdown",
   "metadata": {},
   "source": [
    "Лучший результат cлучайного леса F1-меры: 0.5718701700154559 Глубина: 18 n_estimators 310 Roc_auc: 0.7105267231704013"
   ]
  },
  {
   "cell_type": "code",
   "execution_count": null,
   "metadata": {},
   "outputs": [],
   "source": [
    "### Регрессию"
   ]
  },
  {
   "cell_type": "code",
   "execution_count": 68,
   "metadata": {},
   "outputs": [
    {
     "name": "stdout",
     "output_type": "stream",
     "text": [
      "solver = lbfgs Результат 0.8135 F1: 0.3155963302752294 Roc_auc 0.6991021324354657\n",
      "solver = liblinear Результат 0.8135 F1: 0.3155963302752294 Roc_auc 0.6991021324354657\n",
      "solver = newton-cg Результат 0.8135 F1: 0.3155963302752294 Roc_auc 0.6991021324354657\n",
      "solver = sag Результат 0.8135 F1: 0.3155963302752294 Roc_auc 0.6991021324354657\n",
      "solver = saga Результат 0.8135 F1: 0.3155963302752294 Roc_auc 0.6991021324354657\n",
      " \n",
      "Лучший результат логической регрессии F1-меры: 0.3155963302752294 solver lbfgs Roc_auc: 0.5892449398196524\n"
     ]
    }
   ],
   "source": [
    "best_model = None\n",
    "best_result = 0\n",
    "best_est = 0\n",
    "parameters = ['lbfgs', 'liblinear', 'newton-cg', 'sag', 'saga']\n",
    "for p in parameters:\n",
    "    model_reg = LogisticRegression(random_state = state , solver=p)\n",
    "    model_reg.fit(features_train,target_train)\n",
    "    prediction_valid = model_reg.predict(features_valid)\n",
    "    res = model_reg.score(features_valid, target_valid)\n",
    "    F1 = f1_score(target_valid, prediction_valid)\n",
    "    Roc_auc_r = roc_auc_score(target_valid, prediction_valid)\n",
    "    print('solver =',p, 'Результат', res, \"F1:\", F1, 'Roc_auc', Roc_auc)  \n",
    "    if best_result < F1:\n",
    "        Roc_auc_f = Roc_auc\n",
    "        best_model = model_reg\n",
    "        best_result = F1\n",
    "        best_reg_res = best_result\n",
    "        sov = p \n",
    "\n",
    "print(' ')        \n",
    "print('Лучший результат логической регрессии F1-меры:', best_reg_res,'solver', sov, 'Roc_auc:', Roc_auc_r)"
   ]
  },
  {
   "cell_type": "markdown",
   "metadata": {},
   "source": [
    "Выведем на экран результаты f1 трех моделей"
   ]
  },
  {
   "cell_type": "code",
   "execution_count": 69,
   "metadata": {},
   "outputs": [
    {
     "name": "stdout",
     "output_type": "stream",
     "text": [
      "DecisionTreeClassifier 0.5476190476190477\n",
      "RandomForestClassifier 0.5718701700154559\n",
      "LogisticRegression 0.3155963302752294\n"
     ]
    }
   ],
   "source": [
    "print('DecisionTreeClassifier', best_tree_res)\n",
    "print('RandomForestClassifier', best_forest_ress)\n",
    "print('LogisticRegression', best_reg_res)"
   ]
  },
  {
   "cell_type": "markdown",
   "metadata": {},
   "source": [
    "Вычислим accuracy, precision и recall, F1-метрику."
   ]
  },
  {
   "cell_type": "code",
   "execution_count": 75,
   "metadata": {},
   "outputs": [
    {
     "name": "stdout",
     "output_type": "stream",
     "text": [
      "\n",
      "Логистическая регрессия\n",
      "Accuracy 0.8135\n",
      "Precision 0.6142857142857143\n",
      "Recall 0.2123456790123457\n",
      "F1 0.3155963302752294\n",
      "\n",
      "Решающее дерево\n",
      "Accuracy 0.853\n",
      "Precision 0.7402597402597403\n",
      "Recall 0.4222222222222222\n",
      "F1 0.5377358490566039\n",
      "\n",
      "Случайный лес\n",
      "Accuracy 0.8615\n",
      "Precision 0.7644628099173554\n",
      "Recall 0.4567901234567901\n",
      "F1 0.5718701700154559\n",
      "\n"
     ]
    }
   ],
   "source": [
    "model_reg = LogisticRegression(random_state=state, solver='lbfgs')\n",
    "model_reg.fit(features_train, target_train)\n",
    "predicted_valid = model_reg.predict(features_valid)\n",
    "print()\n",
    "print('Логистическая регрессия')\n",
    "print('Accuracy', accuracy_score(target_valid, predicted_valid))\n",
    "print('Precision', precision_score(target_valid, predicted_valid))\n",
    "print('Recall', recall_score(target_valid, predicted_valid))\n",
    "print('F1', f1_score(target_valid, predicted_valid))\n",
    "print()\n",
    "\n",
    "model_tree = DecisionTreeClassifier(random_state=state, max_depth=6, criterion='entropy')\n",
    "model_tree.fit(features_train, target_train)\n",
    "predicted_valid = model_tree.predict(features_valid)\n",
    "print('Решающее дерево')\n",
    "print('Accuracy', accuracy_score(target_valid, predicted_valid))\n",
    "print('Precision', precision_score(target_valid, predicted_valid))\n",
    "print('Recall', recall_score(target_valid, predicted_valid))\n",
    "print('F1', f1_score(target_valid, predicted_valid))\n",
    "print()\n",
    "\n",
    "model_forest = RandomForestClassifier(random_state=state, max_depth=18, n_estimators=310)\n",
    "model_forest.fit(features_train, target_train)\n",
    "predicted_valid = model_forest.predict(features_valid)\n",
    "print('Случайный лес')\n",
    "print('Accuracy', accuracy_score(target_valid, predicted_valid))\n",
    "print('Precision', precision_score(target_valid, predicted_valid))\n",
    "print('Recall', recall_score(target_valid, predicted_valid))\n",
    "print('F1', f1_score(target_valid, predicted_valid))\n",
    "print()"
   ]
  },
  {
   "cell_type": "markdown",
   "metadata": {},
   "source": [
    "Лучший результат у модели cлучайного леса F1-меры: 0.5718701700154559 Глубина: 18 n_estimators 310 Roc_auc: 0.7105267231704013"
   ]
  },
  {
   "cell_type": "markdown",
   "metadata": {},
   "source": [
    "<b>Вывод:</b><br>\n",
    "        В данных сущестует дисбаланс классов в отношении 1:4.<br>\n",
    "        После первого обучения модели показывают результат F1-меры:<br>\n",
    "        DecisionTreeClassifier 0.5377358490566039<br>\n",
    "        RandomForestClassifier 0.5718701700154559<br>\n",
    "        LogisticRegression 0.3155963302752294<br>\n",
    "        \n",
    "Лучшая F1-мера у модели случайного леса с гипер параметрами max_depth=18 и n_estimators = 310\n",
    "Чтобы достичь тебуемое задания F1 - меры требуется еще лучшить наши модели для достичения отметки F1 меры более 0.59\n",
    "У модели два решений близкий к порогу результат 0.573, возможно его сможем лучшить в дальнейшем"
   ]
  },
  {
   "cell_type": "markdown",
   "metadata": {},
   "source": [
    "## Борьба с дисбалансом"
   ]
  },
  {
   "cell_type": "code",
   "execution_count": 76,
   "metadata": {},
   "outputs": [
    {
     "data": {
      "text/plain": [
       "0.204"
      ]
     },
     "execution_count": 76,
     "metadata": {},
     "output_type": "execute_result"
    }
   ],
   "source": [
    "data['exited'].mean().round(3)"
   ]
  },
  {
   "cell_type": "code",
   "execution_count": 77,
   "metadata": {},
   "outputs": [
    {
     "data": {
      "text/plain": [
       "((7963, 10), (2037, 10))"
      ]
     },
     "execution_count": 77,
     "metadata": {},
     "output_type": "execute_result"
    }
   ],
   "source": [
    "features[target == 0].shape, features[target == 1].shape"
   ]
  },
  {
   "cell_type": "code",
   "execution_count": 78,
   "metadata": {},
   "outputs": [
    {
     "data": {
      "text/plain": [
       "3.9091801669121256"
      ]
     },
     "execution_count": 78,
     "metadata": {},
     "output_type": "execute_result"
    }
   ],
   "source": [
    "7963/2037"
   ]
  },
  {
   "cell_type": "markdown",
   "metadata": {},
   "source": [
    "В среднем по нашим данным на одного ушедшего человека четыре остаются.\n",
    "Будем это учитывать при обучнении моделей."
   ]
  },
  {
   "cell_type": "markdown",
   "metadata": {},
   "source": [
    "Применение class_weight для борьбы с дисбалансом"
   ]
  },
  {
   "cell_type": "code",
   "execution_count": 79,
   "metadata": {},
   "outputs": [
    {
     "name": "stdout",
     "output_type": "stream",
     "text": [
      "max_depth = 2 результат =  0.682 F1: 0.4829268292682926 Roc_auc 0.7011494252873562\n",
      "max_depth = 3 результат =  0.7805 F1: 0.5191675794085433 Roc_auc 0.7076396145361662\n",
      "max_depth = 4 результат =  0.711 F1: 0.5159128978224455 Roc_auc 0.7294632145206859\n",
      "max_depth = 5 результат =  0.72 F1: 0.5197255574614066 Roc_auc 0.7305004063624753\n",
      "max_depth = 6 результат =  0.731 F1: 0.5272407732864673 Roc_auc 0.7346336932543829\n",
      "max_depth = 7 результат =  0.7285 F1: 0.5314926660914582 Roc_auc 0.7404350013545415\n",
      "max_depth = 8 результат =  0.7955 F1: 0.5671957671957671 Roc_auc 0.7455977398506134\n",
      "max_depth = 9 результат =  0.789 F1: 0.5539112050739958 Roc_auc 0.7359959750764349\n",
      "max_depth = 10 результат =  0.8 F1: 0.5575221238938052 Roc_auc 0.7336816440264716\n",
      "max_depth = 11 результат =  0.7715 F1: 0.5303186022610483 Roc_auc 0.7213398351329385\n",
      "max_depth = 12 результат =  0.769 F1: 0.5177453027139874 Roc_auc 0.7105615542397152\n",
      "max_depth = 13 результат =  0.7825 F1: 0.5203969128996692 Roc_auc 0.707972444754054\n",
      "max_depth = 14 результат =  0.769 F1: 0.5032258064516129 Roc_auc 0.6976663183559735\n",
      "max_depth = 15 результат =  0.771 F1: 0.48997772828507796 Roc_auc 0.6860250009675297\n",
      "max_depth = 16 результат =  0.7795 F1: 0.4913494809688581 Roc_auc 0.6849065366306746\n",
      "max_depth = 17 результат =  0.782 F1: 0.48705882352941177 Roc_auc 0.6809474050853361\n",
      "max_depth = 18 результат =  0.7825 F1: 0.48028673835125446 Roc_auc 0.6757343550446998\n",
      "max_depth = 19 результат =  0.79 F1: 0.49029126213592233 Roc_auc 0.6813576376794768\n",
      "max_depth = 20 результат =  0.7855 F1: 0.4684014869888476 Roc_auc 0.6665621734587253\n",
      "max_depth = 21 результат =  0.7895 F1: 0.4834355828220859 Roc_auc 0.6764387166686018\n",
      "max_depth = 22 результат =  0.7835 F1: 0.4647713226205191 Roc_auc 0.6643871666860172\n",
      "max_depth = 23 результат =  0.789 F1: 0.47642679900744417 Roc_auc 0.6715197956577267\n",
      "max_depth = 24 результат =  0.7875 F1: 0.4746600741656366 Roc_auc 0.6705793567862534\n",
      "max_depth = 25 результат =  0.7875 F1: 0.4746600741656366 Roc_auc 0.6705793567862534\n",
      "max_depth = 26 результат =  0.7875 F1: 0.4746600741656366 Roc_auc 0.6705793567862534\n",
      "max_depth = 27 результат =  0.7875 F1: 0.4746600741656366 Roc_auc 0.6705793567862534\n",
      "max_depth = 28 результат =  0.7875 F1: 0.4746600741656366 Roc_auc 0.6705793567862534\n",
      "max_depth = 29 результат =  0.7875 F1: 0.4746600741656366 Roc_auc 0.6705793567862534\n",
      "max_depth = 30 результат =  0.7875 F1: 0.4746600741656366 Roc_auc 0.6705793567862534\n",
      "max_depth = 31 результат =  0.7875 F1: 0.4746600741656366 Roc_auc 0.6705793567862534\n",
      "max_depth = 32 результат =  0.7875 F1: 0.4746600741656366 Roc_auc 0.6705793567862534\n",
      "max_depth = 33 результат =  0.7875 F1: 0.4746600741656366 Roc_auc 0.6705793567862534\n",
      "max_depth = 34 результат =  0.7875 F1: 0.4746600741656366 Roc_auc 0.6705793567862534\n",
      "max_depth = 35 результат =  0.7875 F1: 0.4746600741656366 Roc_auc 0.6705793567862534\n",
      "max_depth = 36 результат =  0.7875 F1: 0.4746600741656366 Roc_auc 0.6705793567862534\n",
      "max_depth = 37 результат =  0.7875 F1: 0.4746600741656366 Roc_auc 0.6705793567862534\n",
      "max_depth = 38 результат =  0.7875 F1: 0.4746600741656366 Roc_auc 0.6705793567862534\n",
      "max_depth = 39 результат =  0.7875 F1: 0.4746600741656366 Roc_auc 0.6705793567862534\n",
      " \n",
      "Лучший результат дерева F1-меры: 0.5671957671957671 Глубина: 8 Roc_auc: 0.7455977398506134\n"
     ]
    }
   ],
   "source": [
    "### Дерево решений\n",
    "best_model = None\n",
    "best_result = 0\n",
    "best_depth = 0\n",
    "\n",
    "for depth in range(2,40):\n",
    "    model_tree = DecisionTreeClassifier(random_state = state, max_depth = depth, criterion='entropy', class_weight='balanced')\n",
    "    model_tree.fit(features_train,target_train)\n",
    "    prediction_valid = model_tree.predict(features_valid)\n",
    "    res = model_tree.score(features_valid, target_valid)\n",
    "    F1 = f1_score(target_valid, prediction_valid)\n",
    "    Roc_auc = roc_auc_score(target_valid, prediction_valid)\n",
    "    print('max_depth =',depth, 'результат = ', res, \"F1:\", F1, 'Roc_auc', Roc_auc)  \n",
    "    if best_result < F1:\n",
    "        Roc_auc_t = Roc_auc\n",
    "        best_model = model_tree\n",
    "        best_result = F1\n",
    "        best_depth = depth\n",
    "        best_tree_res_blans = best_result\n",
    "\n",
    "print(' ')        \n",
    "print('Лучший результат дерева F1-меры:', best_tree_res_blans, 'Глубина:', best_depth, 'Roc_auc:', Roc_auc_t)"
   ]
  },
  {
   "cell_type": "code",
   "execution_count": 80,
   "metadata": {},
   "outputs": [
    {
     "name": "stdout",
     "output_type": "stream",
     "text": [
      "est 10 результат 0.8425 F1: 0.48613376835236544 Roc_auc 0.665455319478308\n",
      "est 20 результат 0.8525 F1: 0.5218800648298216 Roc_auc 0.6827779712837184\n",
      "est 30 результат 0.856 F1: 0.5339805825242718 Roc_auc 0.6886566817601301\n",
      "est 40 результат 0.8565 F1: 0.5408000000000001 Roc_auc 0.6926545144935949\n",
      "est 50 результат 0.8595 F1: 0.5489566613162119 Roc_auc 0.6963775687913619\n",
      "est 60 результат 0.8585 F1: 0.5442834138486313 Roc_auc 0.6939084329888928\n",
      "est 70 результат 0.8595 F1: 0.5489566613162119 Roc_auc 0.6963775687913619\n",
      "est 80 результат 0.8615 F1: 0.5568 Roc_auc 0.70039475211889\n",
      "est 90 результат 0.8585 F1: 0.5515055467511886 Roc_auc 0.6985138743759434\n",
      "est 100 результат 0.858 F1: 0.5492063492063491 Roc_auc 0.6972793064747088\n",
      "est 110 результат 0.8605 F1: 0.5578446909667195 Roc_auc 0.7016099694260614\n",
      "est 120 результат 0.861 F1: 0.560126582278481 Roc_auc 0.702844537327296\n",
      "est 130 результат 0.8605 F1: 0.5578446909667195 Roc_auc 0.7016099694260614\n",
      "est 140 результат 0.861 F1: 0.5587301587301587 Roc_auc 0.7019234490498858\n",
      "est 150 результат 0.8595 F1: 0.554675118858954 Roc_auc 0.7000619219010022\n",
      "est 160 результат 0.8595 F1: 0.5560821484992101 Roc_auc 0.7009830101784125\n",
      "est 170 результат 0.859 F1: 0.5537974683544303 Roc_auc 0.6997484422771778\n",
      "est 180 результат 0.859 F1: 0.5537974683544303 Roc_auc 0.6997484422771778\n",
      "est 190 результат 0.8595 F1: 0.554675118858954 Roc_auc 0.7000619219010022\n",
      "est 200 результат 0.86 F1: 0.5569620253164557 Roc_auc 0.7012964898022368\n",
      "est 210 результат 0.86 F1: 0.5583596214511042 Roc_auc 0.702217578079647\n",
      "est 220 результат 0.8605 F1: 0.5578446909667195 Roc_auc 0.7016099694260614\n",
      "est 230 результат 0.86 F1: 0.5569620253164557 Roc_auc 0.7012964898022368\n",
      "est 240 результат 0.861 F1: 0.560126582278481 Roc_auc 0.702844537327296\n",
      "est 250 результат 0.86 F1: 0.5555555555555556 Roc_auc 0.7003754015248268\n",
      "est 260 результат 0.8605 F1: 0.5578446909667195 Roc_auc 0.7016099694260614\n",
      "est 270 результат 0.8605 F1: 0.5578446909667195 Roc_auc 0.7016099694260614\n",
      "est 280 результат 0.8605 F1: 0.5578446909667195 Roc_auc 0.7016099694260614\n",
      "est 290 результат 0.8605 F1: 0.5578446909667195 Roc_auc 0.7016099694260614\n",
      "est 300 результат 0.8605 F1: 0.5578446909667195 Roc_auc 0.7016099694260614\n",
      "est 310 результат 0.861 F1: 0.5587301587301587 Roc_auc 0.7019234490498858\n",
      "est 320 результат 0.861 F1: 0.5587301587301587 Roc_auc 0.7019234490498858\n",
      "est 330 результат 0.861 F1: 0.5587301587301587 Roc_auc 0.7019234490498858\n",
      "est 340 результат 0.8615 F1: 0.5596184419713832 Roc_auc 0.7022369286737102\n",
      "est 350 результат 0.862 F1: 0.5605095541401274 Roc_auc 0.7025504082975347\n",
      "est 360 результат 0.862 F1: 0.5619047619047619 Roc_auc 0.7034714965749449\n",
      "est 370 результат 0.8615 F1: 0.5596184419713832 Roc_auc 0.7022369286737102\n",
      "est 380 результат 0.8615 F1: 0.5596184419713832 Roc_auc 0.7022369286737102\n",
      "est 390 результат 0.86 F1: 0.5555555555555556 Roc_auc 0.7003754015248268\n",
      "est 400 результат 0.86 F1: 0.5555555555555556 Roc_auc 0.7003754015248268\n",
      "est 410 результат 0.861 F1: 0.560126582278481 Roc_auc 0.702844537327296\n",
      "est 420 результат 0.861 F1: 0.560126582278481 Roc_auc 0.702844537327296\n",
      "est 430 результат 0.8605 F1: 0.5578446909667195 Roc_auc 0.7016099694260614\n",
      "est 440 результат 0.8605 F1: 0.5578446909667195 Roc_auc 0.7016099694260614\n",
      "est 450 результат 0.861 F1: 0.5587301587301587 Roc_auc 0.7019234490498858\n",
      "est 460 результат 0.861 F1: 0.5587301587301587 Roc_auc 0.7019234490498858\n",
      "est 470 результат 0.861 F1: 0.5587301587301587 Roc_auc 0.7019234490498858\n",
      "est 480 результат 0.861 F1: 0.560126582278481 Roc_auc 0.702844537327296\n",
      "est 490 результат 0.8605 F1: 0.5592417061611374 Roc_auc 0.7025310577034716\n",
      "est 500 результат 0.861 F1: 0.560126582278481 Roc_auc 0.702844537327296\n",
      "est 510 результат 0.861 F1: 0.560126582278481 Roc_auc 0.702844537327296\n",
      "est 520 результат 0.8605 F1: 0.5578446909667195 Roc_auc 0.7016099694260614\n",
      "est 530 результат 0.86 F1: 0.5555555555555556 Roc_auc 0.7003754015248268\n",
      "est 540 результат 0.8605 F1: 0.5578446909667195 Roc_auc 0.7016099694260614\n",
      "est 550 результат 0.86 F1: 0.5555555555555556 Roc_auc 0.7003754015248268\n",
      "est 560 результат 0.8605 F1: 0.5578446909667195 Roc_auc 0.7016099694260614\n",
      "est 570 результат 0.8605 F1: 0.5578446909667195 Roc_auc 0.7016099694260614\n",
      "est 580 результат 0.8605 F1: 0.5578446909667195 Roc_auc 0.7016099694260614\n",
      "est 590 результат 0.8605 F1: 0.5578446909667195 Roc_auc 0.7016099694260614\n",
      " \n",
      "Лучший результат cлучайного леса F1-меры: 0.5619047619047619 n_estimators 360 Roc_auc: 0.7034714965749449\n"
     ]
    }
   ],
   "source": [
    "### Случайный лес\n",
    "best_model = None\n",
    "best_result = 0\n",
    "best_est = 0\n",
    "\n",
    "for est in range(10,600,10):\n",
    "    model_forest = RandomForestClassifier(random_state = state, n_estimators = est, class_weight='balanced')\n",
    "    model_forest.fit(features_train,target_train)\n",
    "    prediction_valid = model_forest.predict(features_valid)\n",
    "    res = model_forest.score(features_valid, target_valid)\n",
    "    F1 = f1_score(target_valid, prediction_valid)\n",
    "    Roc_auc = roc_auc_score(target_valid, prediction_valid)\n",
    "    print('est',est, 'результат', res, \"F1:\", F1, 'Roc_auc', Roc_auc)  \n",
    "    if best_result < F1:\n",
    "        Roc_auc_f = Roc_auc\n",
    "        best_model = model_forest\n",
    "        best_result = F1\n",
    "        best_forest_res = best_result\n",
    "        n_estimators = est\n",
    "\n",
    "print(' ')        \n",
    "print('Лучший результат cлучайного леса F1-меры:', best_forest_res,'n_estimators', n_estimators,'Roc_auc:', Roc_auc_f)"
   ]
  },
  {
   "cell_type": "code",
   "execution_count": 83,
   "metadata": {},
   "outputs": [
    {
     "name": "stdout",
     "output_type": "stream",
     "text": [
      "est 350 Глубина: 5 результат 0.7955 F1: 0.5787847579814623 Roc_auc 0.757571887456945\n",
      "est 351 Глубина: 5 результат 0.7945 F1: 0.576725025746653 Roc_auc 0.7560238399318858\n",
      "est 352 Глубина: 5 результат 0.7945 F1: 0.576725025746653 Roc_auc 0.7560238399318858\n",
      "est 353 Глубина: 5 результат 0.795 F1: 0.577319587628866 Roc_auc 0.7563373195557104\n",
      "est 354 Глубина: 5 результат 0.7945 F1: 0.576725025746653 Roc_auc 0.7560238399318858\n",
      "est 355 Глубина: 5 результат 0.7945 F1: 0.576725025746653 Roc_auc 0.7560238399318858\n",
      "est 356 Глубина: 5 результат 0.7945 F1: 0.576725025746653 Roc_auc 0.7560238399318858\n",
      "est 357 Глубина: 5 результат 0.794 F1: 0.5761316872427983 Roc_auc 0.7557103603080614\n",
      "est 358 Глубина: 5 результат 0.7945 F1: 0.576725025746653 Roc_auc 0.7560238399318858\n",
      "est 359 Глубина: 5 результат 0.7945 F1: 0.576725025746653 Roc_auc 0.7560238399318858\n",
      "est 360 Глубина: 5 результат 0.7935 F1: 0.5755395683453237 Roc_auc 0.7553968806842369\n",
      "est 361 Глубина: 5 результат 0.794 F1: 0.5770020533880904 Roc_auc 0.7566314485854717\n",
      "est 362 Глубина: 5 результат 0.794 F1: 0.5770020533880904 Roc_auc 0.7566314485854717\n",
      "est 363 Глубина: 5 результат 0.794 F1: 0.5770020533880904 Roc_auc 0.7566314485854717\n",
      "est 364 Глубина: 5 результат 0.794 F1: 0.5770020533880904 Roc_auc 0.7566314485854717\n",
      "est 365 Глубина: 5 результат 0.794 F1: 0.5770020533880904 Roc_auc 0.7566314485854717\n",
      "est 366 Глубина: 5 результат 0.794 F1: 0.5770020533880904 Roc_auc 0.7566314485854717\n",
      "est 367 Глубина: 5 результат 0.794 F1: 0.5770020533880904 Roc_auc 0.7566314485854717\n",
      "est 368 Глубина: 5 результат 0.794 F1: 0.5770020533880904 Roc_auc 0.7566314485854717\n",
      "est 369 Глубина: 5 результат 0.7935 F1: 0.5755395683453237 Roc_auc 0.7553968806842369\n",
      "est 350 Глубина: 6 результат 0.806 F1: 0.5907172995780591 Roc_auc 0.7632338712798482\n",
      "est 351 Глубина: 6 результат 0.806 F1: 0.5907172995780591 Roc_auc 0.7632338712798482\n",
      "est 352 Глубина: 6 результат 0.8055 F1: 0.5892291446673706 Roc_auc 0.7619993033786137\n",
      "est 353 Глубина: 6 результат 0.8055 F1: 0.5892291446673706 Roc_auc 0.7619993033786137\n",
      "est 354 Глубина: 6 результат 0.806 F1: 0.5907172995780591 Roc_auc 0.7632338712798482\n",
      "est 355 Глубина: 6 результат 0.806 F1: 0.5907172995780591 Roc_auc 0.7632338712798482\n",
      "est 356 Глубина: 6 результат 0.8055 F1: 0.5892291446673706 Roc_auc 0.7619993033786137\n",
      "est 357 Глубина: 6 результат 0.805 F1: 0.5886075949367089 Roc_auc 0.7616858237547892\n",
      "est 358 Глубина: 6 результат 0.8055 F1: 0.5892291446673706 Roc_auc 0.7619993033786137\n",
      "est 359 Глубина: 6 результат 0.8055 F1: 0.5892291446673706 Roc_auc 0.7619993033786137\n",
      "est 360 Глубина: 6 результат 0.806 F1: 0.5907172995780591 Roc_auc 0.7632338712798482\n",
      "est 361 Глубина: 6 результат 0.8065 F1: 0.5922023182297155 Roc_auc 0.7644684391810829\n",
      "est 362 Глубина: 6 результат 0.8065 F1: 0.5922023182297155 Roc_auc 0.7644684391810829\n",
      "est 363 Глубина: 6 результат 0.8065 F1: 0.5922023182297155 Roc_auc 0.7644684391810829\n",
      "est 364 Глубина: 6 результат 0.8065 F1: 0.5922023182297155 Roc_auc 0.7644684391810829\n",
      "est 365 Глубина: 6 результат 0.8065 F1: 0.5922023182297155 Roc_auc 0.7644684391810829\n",
      "est 366 Глубина: 6 результат 0.8065 F1: 0.5922023182297155 Roc_auc 0.7644684391810829\n",
      "est 367 Глубина: 6 результат 0.8065 F1: 0.5922023182297155 Roc_auc 0.7644684391810829\n",
      "est 368 Глубина: 6 результат 0.8055 F1: 0.5892291446673706 Roc_auc 0.7619993033786137\n",
      "est 369 Глубина: 6 результат 0.8055 F1: 0.5892291446673706 Roc_auc 0.7619993033786137\n",
      "est 350 Глубина: 7 результат 0.82 F1: 0.6043956043956045 Roc_auc 0.7674058593598824\n",
      "est 351 Глубина: 7 результат 0.82 F1: 0.6043956043956045 Roc_auc 0.7674058593598824\n",
      "est 352 Глубина: 7 результат 0.82 F1: 0.6043956043956045 Roc_auc 0.7674058593598824\n",
      "est 353 Глубина: 7 результат 0.82 F1: 0.6035242290748899 Roc_auc 0.7664847710824723\n",
      "est 354 Глубина: 7 результат 0.82 F1: 0.6035242290748899 Roc_auc 0.7664847710824723\n",
      "est 355 Глубина: 7 результат 0.8205 F1: 0.605060506050605 Roc_auc 0.7677193389837068\n",
      "est 356 Глубина: 7 результат 0.82 F1: 0.6043956043956045 Roc_auc 0.7674058593598824\n",
      "est 357 Глубина: 7 результат 0.8195 F1: 0.6028602860286029 Roc_auc 0.7661712914586478\n",
      "est 358 Глубина: 7 результат 0.8195 F1: 0.6019845644983461 Roc_auc 0.7652502031812376\n",
      "est 359 Глубина: 7 результат 0.82 F1: 0.6026490066225165 Roc_auc 0.765563682805062\n",
      "est 360 Глубина: 7 результат 0.8195 F1: 0.6019845644983461 Roc_auc 0.7652502031812376\n",
      "est 361 Глубина: 7 результат 0.819 F1: 0.6013215859030836 Roc_auc 0.7649367235574132\n",
      "est 362 Глубина: 7 результат 0.8195 F1: 0.6019845644983461 Roc_auc 0.7652502031812376\n",
      "est 363 Глубина: 7 результат 0.8195 F1: 0.6019845644983461 Roc_auc 0.7652502031812376\n",
      "est 364 Глубина: 7 результат 0.8195 F1: 0.6019845644983461 Roc_auc 0.7652502031812376\n",
      "est 365 Глубина: 7 результат 0.82 F1: 0.6026490066225165 Roc_auc 0.765563682805062\n",
      "est 366 Глубина: 7 результат 0.819 F1: 0.6013215859030836 Roc_auc 0.7649367235574132\n",
      "est 367 Глубина: 7 результат 0.819 F1: 0.6013215859030836 Roc_auc 0.7649367235574132\n",
      "est 368 Глубина: 7 результат 0.8185 F1: 0.5997794928335171 Roc_auc 0.7637021556561787\n",
      "est 369 Глубина: 7 результат 0.82 F1: 0.6035242290748899 Roc_auc 0.7664847710824723\n",
      "est 350 Глубина: 8 результат 0.824 F1: 0.5963302752293578 Roc_auc 0.7560973721893263\n",
      "est 351 Глубина: 8 результат 0.824 F1: 0.597254004576659 Roc_auc 0.7570184604667363\n",
      "est 352 Глубина: 8 результат 0.8245 F1: 0.598857142857143 Roc_auc 0.7582530283679709\n",
      "est 353 Глубина: 8 результат 0.8245 F1: 0.598857142857143 Roc_auc 0.7582530283679709\n",
      "est 354 Глубина: 8 результат 0.825 F1: 0.5995423340961098 Roc_auc 0.7585665079917954\n",
      "est 355 Глубина: 8 результат 0.8245 F1: 0.598857142857143 Roc_auc 0.7582530283679709\n",
      "est 356 Глубина: 8 результат 0.824 F1: 0.5981735159817352 Roc_auc 0.7579395487441465\n",
      "est 357 Глубина: 8 результат 0.8245 F1: 0.598857142857143 Roc_auc 0.7582530283679709\n",
      "est 358 Глубина: 8 результат 0.8245 F1: 0.598857142857143 Roc_auc 0.7582530283679709\n",
      "est 359 Глубина: 8 результат 0.824 F1: 0.5981735159817352 Roc_auc 0.7579395487441465\n",
      "est 360 Глубина: 8 результат 0.824 F1: 0.5981735159817352 Roc_auc 0.7579395487441465\n",
      "est 361 Глубина: 8 результат 0.8245 F1: 0.598857142857143 Roc_auc 0.7582530283679709\n",
      "est 362 Глубина: 8 результат 0.8245 F1: 0.598857142857143 Roc_auc 0.7582530283679709\n",
      "est 363 Глубина: 8 результат 0.824 F1: 0.5981735159817352 Roc_auc 0.7579395487441465\n",
      "est 364 Глубина: 8 результат 0.824 F1: 0.5981735159817352 Roc_auc 0.7579395487441465\n",
      "est 365 Глубина: 8 результат 0.8245 F1: 0.5997719498289623 Roc_auc 0.7591741166453809\n",
      "est 366 Глубина: 8 результат 0.825 F1: 0.6004566210045662 Roc_auc 0.7594875962692054\n",
      "est 367 Глубина: 8 результат 0.8255 F1: 0.6020524515393387 Roc_auc 0.7607221641704399\n",
      "est 368 Глубина: 8 результат 0.8245 F1: 0.5997719498289623 Roc_auc 0.7591741166453809\n",
      "est 369 Глубина: 8 результат 0.825 F1: 0.6013667425968109 Roc_auc 0.7604086845466156\n",
      "est 350 Глубина: 9 результат 0.8345 F1: 0.6054827175208581 Roc_auc 0.7571539146251789\n",
      "est 351 Глубина: 9 результат 0.834 F1: 0.6047619047619048 Roc_auc 0.7568404350013545\n",
      "est 352 Глубина: 9 результат 0.834 F1: 0.6047619047619048 Roc_auc 0.7568404350013545\n",
      "est 353 Глубина: 9 результат 0.8345 F1: 0.6064209274673008 Roc_auc 0.7580750029025892\n",
      "est 354 Глубина: 9 результат 0.834 F1: 0.6047619047619048 Roc_auc 0.7568404350013545\n",
      "est 355 Глубина: 9 результат 0.8355 F1: 0.6078665077473183 Roc_auc 0.7587019621502381\n",
      "est 356 Глубина: 9 результат 0.8355 F1: 0.6078665077473183 Roc_auc 0.7587019621502381\n",
      "est 357 Глубина: 9 результат 0.8355 F1: 0.6078665077473183 Roc_auc 0.7587019621502381\n",
      "est 358 Глубина: 9 результат 0.8355 F1: 0.6078665077473183 Roc_auc 0.7587019621502381\n",
      "est 359 Глубина: 9 результат 0.8355 F1: 0.6078665077473183 Roc_auc 0.7587019621502381\n",
      "est 360 Глубина: 9 результат 0.836 F1: 0.6085918854415275 Roc_auc 0.7590154417740625\n",
      "est 361 Глубина: 9 результат 0.8355 F1: 0.6078665077473183 Roc_auc 0.7587019621502381\n",
      "est 362 Глубина: 9 результат 0.8355 F1: 0.6078665077473183 Roc_auc 0.7587019621502381\n",
      "est 363 Глубина: 9 результат 0.835 F1: 0.6071428571428571 Roc_auc 0.7583884825264137\n",
      "est 364 Глубина: 9 результат 0.835 F1: 0.6071428571428571 Roc_auc 0.7583884825264137\n",
      "est 365 Глубина: 9 результат 0.8345 F1: 0.6064209274673008 Roc_auc 0.7580750029025892\n",
      "est 366 Глубина: 9 результат 0.8355 F1: 0.6078665077473183 Roc_auc 0.7587019621502381\n",
      "est 367 Глубина: 9 результат 0.8355 F1: 0.6078665077473183 Roc_auc 0.7587019621502381\n",
      "est 368 Глубина: 9 результат 0.835 F1: 0.6071428571428571 Roc_auc 0.7583884825264137\n",
      "est 369 Глубина: 9 результат 0.836 F1: 0.6085918854415275 Roc_auc 0.7590154417740625\n",
      "est 350 Глубина: 10 результат 0.8445 F1: 0.6117353308364545 Roc_auc 0.755133712604977\n",
      "est 351 Глубина: 10 результат 0.845 F1: 0.6134663341645885 Roc_auc 0.7563682805062115\n",
      "est 352 Глубина: 10 результат 0.8445 F1: 0.6127023661270237 Roc_auc 0.7560548008823871\n",
      "est 353 Глубина: 10 результат 0.8445 F1: 0.6127023661270237 Roc_auc 0.7560548008823871\n",
      "est 354 Глубина: 10 результат 0.8445 F1: 0.6127023661270237 Roc_auc 0.7560548008823871\n",
      "est 355 Глубина: 10 результат 0.8445 F1: 0.6127023661270237 Roc_auc 0.7560548008823871\n",
      "est 356 Глубина: 10 результат 0.8445 F1: 0.6127023661270237 Roc_auc 0.7560548008823871\n",
      "est 357 Глубина: 10 результат 0.845 F1: 0.6134663341645885 Roc_auc 0.7563682805062115\n",
      "est 358 Глубина: 10 результат 0.8445 F1: 0.6127023661270237 Roc_auc 0.7560548008823871\n",
      "est 359 Глубина: 10 результат 0.844 F1: 0.6119402985074627 Roc_auc 0.7557413212585626\n",
      "est 360 Глубина: 10 результат 0.844 F1: 0.6119402985074627 Roc_auc 0.7557413212585626\n",
      "est 361 Глубина: 10 результат 0.8445 F1: 0.6127023661270237 Roc_auc 0.7560548008823871\n",
      "est 362 Глубина: 10 результат 0.8445 F1: 0.6127023661270237 Roc_auc 0.7560548008823871\n",
      "est 363 Глубина: 10 результат 0.8445 F1: 0.6127023661270237 Roc_auc 0.7560548008823871\n",
      "est 364 Глубина: 10 результат 0.845 F1: 0.6134663341645885 Roc_auc 0.7563682805062115\n",
      "est 365 Глубина: 10 результат 0.845 F1: 0.6134663341645885 Roc_auc 0.7563682805062115\n",
      "est 366 Глубина: 10 результат 0.845 F1: 0.6134663341645885 Roc_auc 0.7563682805062115\n",
      "est 367 Глубина: 10 результат 0.8445 F1: 0.6127023661270237 Roc_auc 0.7560548008823871\n",
      "est 368 Глубина: 10 результат 0.8445 F1: 0.6127023661270237 Roc_auc 0.7560548008823871\n",
      "est 369 Глубина: 10 результат 0.8445 F1: 0.6127023661270237 Roc_auc 0.7560548008823871\n",
      "est 350 Глубина: 11 результат 0.845 F1: 0.5942408376963351 Roc_auc 0.7388676032354193\n",
      "est 351 Глубина: 11 результат 0.845 F1: 0.5942408376963351 Roc_auc 0.7388676032354193\n",
      "est 352 Глубина: 11 результат 0.845 F1: 0.5942408376963351 Roc_auc 0.7388676032354193\n",
      "est 353 Глубина: 11 результат 0.845 F1: 0.5942408376963351 Roc_auc 0.7388676032354193\n",
      "est 354 Глубина: 11 результат 0.8455 F1: 0.5950196592398426 Roc_auc 0.7391810828592439\n",
      "est 355 Глубина: 11 результат 0.8445 F1: 0.5934640522875817 Roc_auc 0.7385541236115948\n",
      "est 356 Глубина: 11 результат 0.8445 F1: 0.5934640522875817 Roc_auc 0.7385541236115948\n",
      "est 357 Глубина: 11 результат 0.8445 F1: 0.5934640522875817 Roc_auc 0.7385541236115948\n",
      "est 358 Глубина: 11 результат 0.8445 F1: 0.5934640522875817 Roc_auc 0.7385541236115948\n",
      "est 359 Глубина: 11 результат 0.8445 F1: 0.5934640522875817 Roc_auc 0.7385541236115948\n",
      "est 360 Глубина: 11 результат 0.8445 F1: 0.5934640522875817 Roc_auc 0.7385541236115948\n",
      "est 361 Глубина: 11 результат 0.8445 F1: 0.5934640522875817 Roc_auc 0.7385541236115948\n",
      "est 362 Глубина: 11 результат 0.8455 F1: 0.5950196592398426 Roc_auc 0.7391810828592439\n",
      "est 363 Глубина: 11 результат 0.845 F1: 0.5942408376963351 Roc_auc 0.7388676032354193\n",
      "est 364 Глубина: 11 результат 0.8455 F1: 0.5950196592398426 Roc_auc 0.7391810828592439\n",
      "est 365 Глубина: 11 результат 0.8455 F1: 0.5950196592398426 Roc_auc 0.7391810828592439\n",
      "est 366 Глубина: 11 результат 0.846 F1: 0.5958005249343832 Roc_auc 0.7394945624830682\n",
      "est 367 Глубина: 11 результат 0.8455 F1: 0.5950196592398426 Roc_auc 0.7391810828592439\n",
      "est 368 Глубина: 11 результат 0.8455 F1: 0.5950196592398426 Roc_auc 0.7391810828592439\n",
      "est 369 Глубина: 11 результат 0.8465 F1: 0.5965834428383706 Roc_auc 0.7398080421068927\n",
      "est 350 Глубина: 12 результат 0.8485 F1: 0.585499316005472 Roc_auc 0.729087812995859\n",
      "est 351 Глубина: 12 результат 0.8485 F1: 0.585499316005472 Roc_auc 0.729087812995859\n",
      "est 352 Глубина: 12 результат 0.848 F1: 0.5835616438356165 Roc_auc 0.7278532450946245\n",
      "est 353 Глубина: 12 результат 0.8485 F1: 0.585499316005472 Roc_auc 0.729087812995859\n",
      "est 354 Глубина: 12 результат 0.8475 F1: 0.5827633378932968 Roc_auc 0.7275397654707999\n",
      "est 355 Глубина: 12 результат 0.848 F1: 0.5835616438356165 Roc_auc 0.7278532450946245\n",
      "est 356 Глубина: 12 результат 0.8475 F1: 0.5827633378932968 Roc_auc 0.7275397654707999\n",
      "est 357 Глубина: 12 результат 0.849 F1: 0.5863013698630137 Roc_auc 0.7294012926196835\n",
      "est 358 Глубина: 12 результат 0.8485 F1: 0.585499316005472 Roc_auc 0.729087812995859\n",
      "est 359 Глубина: 12 результат 0.8485 F1: 0.585499316005472 Roc_auc 0.729087812995859\n",
      "est 360 Глубина: 12 результат 0.8475 F1: 0.5827633378932968 Roc_auc 0.7275397654707999\n",
      "est 361 Глубина: 12 результат 0.848 F1: 0.5846994535519126 Roc_auc 0.7287743333720345\n",
      "est 362 Глубина: 12 результат 0.848 F1: 0.5846994535519126 Roc_auc 0.7287743333720345\n",
      "est 363 Глубина: 12 результат 0.848 F1: 0.5846994535519126 Roc_auc 0.7287743333720345\n",
      "est 364 Глубина: 12 результат 0.848 F1: 0.5846994535519126 Roc_auc 0.7287743333720345\n",
      "est 365 Глубина: 12 результат 0.8485 F1: 0.586630286493861 Roc_auc 0.7300089012732691\n",
      "est 366 Глубина: 12 результат 0.848 F1: 0.5846994535519126 Roc_auc 0.7287743333720345\n",
      "est 367 Глубина: 12 результат 0.848 F1: 0.5846994535519126 Roc_auc 0.7287743333720345\n",
      "est 368 Глубина: 12 результат 0.8485 F1: 0.586630286493861 Roc_auc 0.7300089012732691\n",
      "est 369 Глубина: 12 результат 0.848 F1: 0.5858310626702997 Roc_auc 0.7296954216494447\n",
      "est 350 Глубина: 13 результат 0.852 F1: 0.5734870317002883 Roc_auc 0.7174658462014784\n",
      "est 351 Глубина: 13 результат 0.852 F1: 0.5734870317002883 Roc_auc 0.7174658462014784\n",
      "est 352 Глубина: 13 результат 0.852 F1: 0.5734870317002883 Roc_auc 0.7174658462014784\n",
      "est 353 Глубина: 13 результат 0.852 F1: 0.5734870317002883 Roc_auc 0.7174658462014784\n",
      "est 354 Глубина: 13 результат 0.852 F1: 0.5734870317002883 Roc_auc 0.7174658462014784\n",
      "est 355 Глубина: 13 результат 0.852 F1: 0.5734870317002883 Roc_auc 0.7174658462014784\n",
      "est 356 Глубина: 13 результат 0.8515 F1: 0.5714285714285714 Roc_auc 0.7162312783002439\n",
      "est 357 Глубина: 13 результат 0.8515 F1: 0.5714285714285714 Roc_auc 0.7162312783002439\n",
      "est 358 Глубина: 13 результат 0.8525 F1: 0.5743145743145743 Roc_auc 0.7177793258253029\n",
      "est 359 Глубина: 13 результат 0.8515 F1: 0.5714285714285714 Roc_auc 0.7162312783002439\n",
      "est 360 Глубина: 13 результат 0.851 F1: 0.5706051873198847 Roc_auc 0.7159177986764194\n",
      "est 361 Глубина: 13 результат 0.851 F1: 0.5706051873198847 Roc_auc 0.7159177986764194\n",
      "est 362 Глубина: 13 результат 0.851 F1: 0.5693641618497111 Roc_auc 0.7149967103990092\n",
      "est 363 Глубина: 13 результат 0.8515 F1: 0.5714285714285714 Roc_auc 0.7162312783002439\n",
      "est 364 Глубина: 13 результат 0.851 F1: 0.5693641618497111 Roc_auc 0.7149967103990092\n",
      "est 365 Глубина: 13 результат 0.8515 F1: 0.5714285714285714 Roc_auc 0.7162312783002439\n",
      "est 366 Глубина: 13 результат 0.852 F1: 0.5734870317002883 Roc_auc 0.7174658462014784\n",
      "est 367 Глубина: 13 результат 0.852 F1: 0.5734870317002883 Roc_auc 0.7174658462014784\n",
      "est 368 Глубина: 13 результат 0.8515 F1: 0.5714285714285714 Roc_auc 0.7162312783002439\n",
      "est 369 Глубина: 13 результат 0.8515 F1: 0.5714285714285714 Roc_auc 0.7162312783002439\n",
      "est 350 Глубина: 14 результат 0.8535 F1: 0.5659259259259259 Roc_auc 0.7110375788536708\n",
      "est 351 Глубина: 14 результат 0.854 F1: 0.5680473372781065 Roc_auc 0.7122721467549054\n",
      "est 352 Глубина: 14 результат 0.8535 F1: 0.5659259259259259 Roc_auc 0.7110375788536708\n",
      "est 353 Глубина: 14 результат 0.854 F1: 0.5680473372781065 Roc_auc 0.7122721467549054\n",
      "est 354 Глубина: 14 результат 0.8545 F1: 0.568888888888889 Roc_auc 0.7125856263787298\n",
      "est 355 Глубина: 14 результат 0.854 F1: 0.5680473372781065 Roc_auc 0.7122721467549054\n",
      "est 356 Глубина: 14 результат 0.854 F1: 0.5667655786350149 Roc_auc 0.7113510584774954\n",
      "est 357 Глубина: 14 результат 0.853 F1: 0.5637982195845698 Roc_auc 0.7098030109524361\n",
      "est 358 Глубина: 14 результат 0.8535 F1: 0.5646359583952452 Roc_auc 0.7101164905762607\n",
      "est 359 Глубина: 14 результат 0.854 F1: 0.5654761904761906 Roc_auc 0.710429970200085\n",
      "est 360 Глубина: 14 результат 0.855 F1: 0.5671641791044776 Roc_auc 0.711056929447734\n",
      "est 361 Глубина: 14 результат 0.854 F1: 0.5654761904761906 Roc_auc 0.710429970200085\n",
      "est 362 Глубина: 14 результат 0.8545 F1: 0.5663189269746647 Roc_auc 0.7107434498239096\n",
      "est 363 Глубина: 14 результат 0.855 F1: 0.5671641791044776 Roc_auc 0.711056929447734\n",
      "est 364 Глубина: 14 результат 0.8545 F1: 0.5663189269746647 Roc_auc 0.7107434498239096\n",
      "est 365 Глубина: 14 результат 0.8545 F1: 0.5663189269746647 Roc_auc 0.7107434498239096\n",
      "est 366 Глубина: 14 результат 0.854 F1: 0.5654761904761906 Roc_auc 0.710429970200085\n",
      "est 367 Глубина: 14 результат 0.854 F1: 0.5654761904761906 Roc_auc 0.710429970200085\n",
      "est 368 Глубина: 14 результат 0.854 F1: 0.5641791044776119 Roc_auc 0.709508881922675\n",
      "est 369 Глубина: 14 результат 0.8545 F1: 0.5663189269746647 Roc_auc 0.7107434498239096\n",
      "est 350 Глубина: 15 результат 0.8605 F1: 0.5727411944869831 Roc_auc 0.7117419404775727\n",
      "est 351 Глубина: 15 результат 0.86 F1: 0.5705521472392638 Roc_auc 0.7105073725763381\n",
      "est 352 Глубина: 15 результат 0.8595 F1: 0.5683563748079877 Roc_auc 0.7092728046751036\n",
      "est 353 Глубина: 15 результат 0.8595 F1: 0.5683563748079877 Roc_auc 0.7092728046751036\n",
      "est 354 Глубина: 15 результат 0.8595 F1: 0.5683563748079877 Roc_auc 0.7092728046751036\n",
      "est 355 Глубина: 15 результат 0.8595 F1: 0.5696784073506891 Roc_auc 0.7101938929525137\n",
      "est 356 Глубина: 15 результат 0.8605 F1: 0.5727411944869831 Roc_auc 0.7117419404775727\n",
      "est 357 Глубина: 15 результат 0.8595 F1: 0.5709923664122138 Roc_auc 0.7111149812299238\n",
      "est 358 Глубина: 15 результат 0.8595 F1: 0.5709923664122138 Roc_auc 0.7111149812299238\n",
      "est 359 Глубина: 15 результат 0.8595 F1: 0.5709923664122138 Roc_auc 0.7111149812299238\n",
      "est 360 Глубина: 15 результат 0.8595 F1: 0.5709923664122138 Roc_auc 0.7111149812299238\n",
      "est 361 Глубина: 15 результат 0.8595 F1: 0.5709923664122138 Roc_auc 0.7111149812299238\n",
      "est 362 Глубина: 15 результат 0.86 F1: 0.5718654434250765 Roc_auc 0.7114284608537481\n",
      "est 363 Глубина: 15 результат 0.86 F1: 0.5718654434250765 Roc_auc 0.7114284608537481\n",
      "est 364 Глубина: 15 результат 0.86 F1: 0.5718654434250765 Roc_auc 0.7114284608537481\n",
      "est 365 Глубина: 15 результат 0.8595 F1: 0.5709923664122138 Roc_auc 0.7111149812299238\n",
      "est 366 Глубина: 15 результат 0.86 F1: 0.573170731707317 Roc_auc 0.7123495491311582\n",
      "est 367 Глубина: 15 результат 0.86 F1: 0.573170731707317 Roc_auc 0.7123495491311582\n",
      "est 368 Глубина: 15 результат 0.8605 F1: 0.5740458015267176 Roc_auc 0.7126630287549828\n",
      "est 369 Глубина: 15 результат 0.8615 F1: 0.5758039816232772 Roc_auc 0.7132899880026317\n",
      "est 350 Глубина: 16 результат 0.8595 F1: 0.5616224648985959 Roc_auc 0.7046673632880529\n",
      "est 351 Глубина: 16 результат 0.859 F1: 0.5607476635514018 Roc_auc 0.7043538836642285\n",
      "est 352 Глубина: 16 результат 0.859 F1: 0.5607476635514018 Roc_auc 0.7043538836642285\n",
      "est 353 Глубина: 16 результат 0.859 F1: 0.5607476635514018 Roc_auc 0.7043538836642285\n",
      "est 354 Глубина: 16 результат 0.8585 F1: 0.5598755832037324 Roc_auc 0.704040404040404\n",
      "est 355 Глубина: 16 результат 0.858 F1: 0.5576323987538941 Roc_auc 0.7028058361391695\n",
      "est 356 Глубина: 16 результат 0.8575 F1: 0.5567651632970451 Roc_auc 0.702492356515345\n",
      "est 357 Глубина: 16 результат 0.858 F1: 0.5576323987538941 Roc_auc 0.7028058361391695\n",
      "est 358 Глубина: 16 результат 0.8585 F1: 0.5598755832037324 Roc_auc 0.704040404040404\n",
      "est 359 Глубина: 16 результат 0.858 F1: 0.5590062111801243 Roc_auc 0.7037269244165796\n",
      "est 360 Глубина: 16 результат 0.8585 F1: 0.5598755832037324 Roc_auc 0.704040404040404\n",
      "est 361 Глубина: 16 результат 0.858 F1: 0.5576323987538941 Roc_auc 0.7028058361391695\n",
      "est 362 Глубина: 16 результат 0.858 F1: 0.5576323987538941 Roc_auc 0.7028058361391695\n",
      "est 363 Глубина: 16 результат 0.8585 F1: 0.5585023400936038 Roc_auc 0.7031193157629939\n",
      "est 364 Глубина: 16 результат 0.858 F1: 0.5576323987538941 Roc_auc 0.7028058361391695\n",
      "est 365 Глубина: 16 результат 0.8585 F1: 0.5585023400936038 Roc_auc 0.7031193157629939\n",
      "est 366 Глубина: 16 результат 0.858 F1: 0.5576323987538941 Roc_auc 0.7028058361391695\n",
      "est 367 Глубина: 16 результат 0.858 F1: 0.5576323987538941 Roc_auc 0.7028058361391695\n",
      "est 368 Глубина: 16 результат 0.8575 F1: 0.5567651632970451 Roc_auc 0.702492356515345\n",
      "est 369 Глубина: 16 результат 0.858 F1: 0.5576323987538941 Roc_auc 0.7028058361391695\n",
      "est 350 Глубина: 17 результат 0.859 F1: 0.5579937304075235 Roc_auc 0.7025117071094084\n",
      "est 351 Глубина: 17 результат 0.859 F1: 0.5566037735849056 Roc_auc 0.7015906188319982\n",
      "est 352 Глубина: 17 результат 0.8595 F1: 0.5588697017268447 Roc_auc 0.7028251867332327\n",
      "est 353 Глубина: 17 результат 0.86 F1: 0.561128526645768 Roc_auc 0.7040597546344673\n",
      "est 354 Глубина: 17 результат 0.859 F1: 0.5579937304075235 Roc_auc 0.7025117071094084\n",
      "est 355 Глубина: 17 результат 0.859 F1: 0.559375 Roc_auc 0.7034327953868184\n",
      "est 356 Глубина: 17 результат 0.859 F1: 0.5579937304075235 Roc_auc 0.7025117071094084\n",
      "est 357 Глубина: 17 результат 0.8585 F1: 0.5571205007824725 Roc_auc 0.7021982274855838\n",
      "est 358 Глубина: 17 результат 0.8585 F1: 0.5571205007824725 Roc_auc 0.7021982274855838\n",
      "est 359 Глубина: 17 результат 0.8585 F1: 0.5571205007824725 Roc_auc 0.7021982274855838\n",
      "est 360 Глубина: 17 результат 0.859 F1: 0.5566037735849056 Roc_auc 0.7015906188319982\n",
      "est 361 Глубина: 17 результат 0.8585 F1: 0.5557299843014128 Roc_auc 0.7012771392081737\n",
      "est 362 Глубина: 17 результат 0.859 F1: 0.5566037735849056 Roc_auc 0.7015906188319982\n",
      "est 363 Глубина: 17 результат 0.859 F1: 0.5566037735849056 Roc_auc 0.7015906188319982\n",
      "est 364 Глубина: 17 результат 0.8595 F1: 0.5588697017268447 Roc_auc 0.7028251867332327\n",
      "est 365 Глубина: 17 результат 0.8595 F1: 0.5588697017268447 Roc_auc 0.7028251867332327\n",
      "est 366 Глубина: 17 результат 0.8595 F1: 0.5588697017268447 Roc_auc 0.7028251867332327\n",
      "est 367 Глубина: 17 результат 0.8585 F1: 0.5557299843014128 Roc_auc 0.7012771392081737\n",
      "est 368 Глубина: 17 результат 0.8585 F1: 0.5557299843014128 Roc_auc 0.7012771392081737\n",
      "est 369 Глубина: 17 результат 0.8585 F1: 0.5557299843014128 Roc_auc 0.7012771392081737\n",
      "est 350 Глубина: 18 результат 0.8595 F1: 0.55748031496063 Roc_auc 0.7019040984558226\n",
      "est 351 Глубина: 18 результат 0.859 F1: 0.5566037735849056 Roc_auc 0.7015906188319982\n",
      "est 352 Глубина: 18 результат 0.8595 F1: 0.55748031496063 Roc_auc 0.7019040984558226\n",
      "est 353 Глубина: 18 результат 0.859 F1: 0.5566037735849056 Roc_auc 0.7015906188319982\n",
      "est 354 Глубина: 18 результат 0.859 F1: 0.5566037735849056 Roc_auc 0.7015906188319982\n",
      "est 355 Глубина: 18 результат 0.859 F1: 0.5566037735849056 Roc_auc 0.7015906188319982\n",
      "est 356 Глубина: 18 результат 0.859 F1: 0.5566037735849056 Roc_auc 0.7015906188319982\n",
      "est 357 Глубина: 18 результат 0.859 F1: 0.5566037735849056 Roc_auc 0.7015906188319982\n",
      "est 358 Глубина: 18 результат 0.8595 F1: 0.55748031496063 Roc_auc 0.7019040984558226\n",
      "est 359 Глубина: 18 результат 0.859 F1: 0.5566037735849056 Roc_auc 0.7015906188319982\n",
      "est 360 Глубина: 18 результат 0.8595 F1: 0.55748031496063 Roc_auc 0.7019040984558226\n",
      "est 361 Глубина: 18 результат 0.8595 F1: 0.55748031496063 Roc_auc 0.7019040984558226\n",
      "est 362 Глубина: 18 результат 0.86 F1: 0.5583596214511042 Roc_auc 0.702217578079647\n",
      "est 363 Глубина: 18 результат 0.86 F1: 0.5583596214511042 Roc_auc 0.702217578079647\n",
      "est 364 Глубина: 18 результат 0.86 F1: 0.5583596214511042 Roc_auc 0.702217578079647\n",
      "est 365 Глубина: 18 результат 0.86 F1: 0.5583596214511042 Roc_auc 0.702217578079647\n",
      "est 366 Глубина: 18 результат 0.86 F1: 0.5583596214511042 Roc_auc 0.702217578079647\n",
      "est 367 Глубина: 18 результат 0.86 F1: 0.5583596214511042 Roc_auc 0.702217578079647\n",
      "est 368 Глубина: 18 результат 0.86 F1: 0.5583596214511042 Roc_auc 0.702217578079647\n",
      "est 369 Глубина: 18 результат 0.86 F1: 0.5583596214511042 Roc_auc 0.702217578079647\n",
      "est 350 Глубина: 19 результат 0.8615 F1: 0.5610142630744849 Roc_auc 0.7031580169511205\n",
      "est 351 Глубина: 19 результат 0.8605 F1: 0.5592417061611374 Roc_auc 0.7025310577034716\n",
      "est 352 Глубина: 19 результат 0.861 F1: 0.560126582278481 Roc_auc 0.702844537327296\n",
      "est 353 Глубина: 19 результат 0.8605 F1: 0.5592417061611374 Roc_auc 0.7025310577034716\n",
      "est 354 Глубина: 19 результат 0.8605 F1: 0.5592417061611374 Roc_auc 0.7025310577034716\n",
      "est 355 Глубина: 19 результат 0.8605 F1: 0.5592417061611374 Roc_auc 0.7025310577034716\n",
      "est 356 Глубина: 19 результат 0.861 F1: 0.560126582278481 Roc_auc 0.702844537327296\n",
      "est 357 Глубина: 19 результат 0.86 F1: 0.5583596214511042 Roc_auc 0.702217578079647\n",
      "est 358 Глубина: 19 результат 0.8605 F1: 0.5592417061611374 Roc_auc 0.7025310577034716\n",
      "est 359 Глубина: 19 результат 0.8605 F1: 0.5592417061611374 Roc_auc 0.7025310577034716\n",
      "est 360 Глубина: 19 результат 0.8605 F1: 0.5592417061611374 Roc_auc 0.7025310577034716\n",
      "est 361 Глубина: 19 результат 0.86 F1: 0.5583596214511042 Roc_auc 0.702217578079647\n",
      "est 362 Глубина: 19 результат 0.86 F1: 0.5583596214511042 Roc_auc 0.702217578079647\n",
      "est 363 Глубина: 19 результат 0.8595 F1: 0.5560821484992101 Roc_auc 0.7009830101784125\n",
      "est 364 Глубина: 19 результат 0.86 F1: 0.5569620253164557 Roc_auc 0.7012964898022368\n",
      "est 365 Глубина: 19 результат 0.86 F1: 0.5569620253164557 Roc_auc 0.7012964898022368\n",
      "est 366 Глубина: 19 результат 0.8605 F1: 0.5592417061611374 Roc_auc 0.7025310577034716\n",
      "est 367 Глубина: 19 результат 0.8605 F1: 0.5592417061611374 Roc_auc 0.7025310577034716\n",
      "est 368 Глубина: 19 результат 0.8605 F1: 0.5592417061611374 Roc_auc 0.7025310577034716\n",
      "est 369 Глубина: 19 результат 0.86 F1: 0.5569620253164557 Roc_auc 0.7012964898022368\n",
      " \n",
      "Лучший результат cлучайного леса F1-меры: 0.6134663341645885 Глубина: 8 n_estimators 351 Roc_auc: 0.7563682805062115\n"
     ]
    }
   ],
   "source": [
    "best_model = None\n",
    "best_result = 0\n",
    "best_est = 0\n",
    "\n",
    "for depth in range(5,20):\n",
    "    for est in range(350,370):\n",
    "        model_forest = RandomForestClassifier(random_state = state,max_depth = depth, n_estimators = est, class_weight='balanced', n_jobs=-1)\n",
    "        model_forest.fit(features_train,target_train)\n",
    "        prediction_valid = model_forest.predict(features_valid)\n",
    "        res = model_forest.score(features_valid, target_valid)\n",
    "        F1 = f1_score(target_valid, prediction_valid)\n",
    "        Roc_auc = roc_auc_score(target_valid, prediction_valid)\n",
    "        print('est',est,'Глубина:', depth, 'результат', res, \"F1:\", F1, 'Roc_auc', Roc_auc)  \n",
    "        if best_result < F1:\n",
    "            Roc_auc_f = Roc_auc\n",
    "            best_model = model_forest\n",
    "            best_result = F1\n",
    "            best_forest_res_blans = best_result\n",
    "            n_estimators = est\n",
    "\n",
    "print(' ')        \n",
    "print('Лучший результат cлучайного леса F1-меры:', best_forest_res_blans,'Глубина:', best_depth,'n_estimators', n_estimators,'Roc_auc:', Roc_auc_f)"
   ]
  },
  {
   "cell_type": "code",
   "execution_count": 84,
   "metadata": {},
   "outputs": [
    {
     "name": "stdout",
     "output_type": "stream",
     "text": [
      "solver = lbfgs Результат 0.7145 F1: 0.5056277056277056 Roc_auc 0.7012964898022368\n",
      "solver = liblinear Результат 0.715 F1: 0.5069204152249135 Roc_auc 0.7012964898022368\n",
      "solver = newton-cg Результат 0.7145 F1: 0.5056277056277056 Roc_auc 0.7012964898022368\n",
      "solver = sag Результат 0.7145 F1: 0.5056277056277056 Roc_auc 0.7012964898022368\n",
      "solver = saga Результат 0.7145 F1: 0.5056277056277056 Roc_auc 0.7012964898022368\n",
      " \n",
      "Лучший результат логической регрессии F1-меры: 0.5069204152249135 solver liblinear Roc_auc: 0.7169201594488951\n"
     ]
    }
   ],
   "source": [
    "### Регрессия\n",
    "best_model = None\n",
    "best_result = 0\n",
    "best_est = 0\n",
    "parameters = ['lbfgs', 'liblinear', 'newton-cg', 'sag', 'saga']\n",
    "for p in parameters:\n",
    "    model_reg = LogisticRegression(random_state = state , solver=p, class_weight='balanced')\n",
    "    model_reg.fit(features_train,target_train)\n",
    "    prediction_valid = model_reg.predict(features_valid)\n",
    "    res = model_reg.score(features_valid, target_valid)\n",
    "    F1 = f1_score(target_valid, prediction_valid)\n",
    "    Roc_auc_r = roc_auc_score(target_valid, prediction_valid)\n",
    "    print('solver =',p, 'Результат', res, \"F1:\", F1, 'Roc_auc', Roc_auc)  \n",
    "    if best_result < F1:\n",
    "        Roc_auc_f = Roc_auc\n",
    "        best_model = model_reg\n",
    "        best_result = F1\n",
    "        best_reg_res_blans = best_result\n",
    "        sov = p \n",
    "\n",
    "print(' ')        \n",
    "print('Лучший результат логической регрессии F1-меры:', best_reg_res_blans,'solver', sov, 'Roc_auc:', Roc_auc_r)"
   ]
  },
  {
   "cell_type": "markdown",
   "metadata": {},
   "source": [
    "Три прошлых результата на не сбалансированной выборке"
   ]
  },
  {
   "cell_type": "code",
   "execution_count": 87,
   "metadata": {},
   "outputs": [
    {
     "name": "stdout",
     "output_type": "stream",
     "text": [
      "DecisionTreeClassifier 0.5476190476190477\n",
      "RandomForestClassifier 0.5718701700154559\n",
      "LogisticRegression 0.3155963302752294\n"
     ]
    }
   ],
   "source": [
    "print('DecisionTreeClassifier', best_tree_res)\n",
    "print('RandomForestClassifier', best_forest_ress)\n",
    "print('LogisticRegression', best_reg_res)"
   ]
  },
  {
   "cell_type": "markdown",
   "metadata": {},
   "source": [
    "Выведем три результата с балансом классов и подобраными гипер параметрами"
   ]
  },
  {
   "cell_type": "code",
   "execution_count": 85,
   "metadata": {},
   "outputs": [
    {
     "name": "stdout",
     "output_type": "stream",
     "text": [
      "DecisionTreeClassifier 0.5671957671957671\n",
      "RandomForestClassifier 0.6134663341645885\n",
      "LogisticRegression 0.5069204152249135\n"
     ]
    }
   ],
   "source": [
    "print('DecisionTreeClassifier', best_tree_res_blans)\n",
    "print('RandomForestClassifier', best_forest_res_blans)\n",
    "print('LogisticRegression', best_reg_res_blans)"
   ]
  },
  {
   "cell_type": "markdown",
   "metadata": {},
   "source": [
    "Лучшая модель с балансом классов:\n",
    "Модель cлучайного леса F1-меры: 0.6134663341645885 Глубина: 8 n_estimators 351 Roc_auc: 0.7563682805062115"
   ]
  },
  {
   "cell_type": "markdown",
   "metadata": {},
   "source": [
    "Баланс классов лучший показатели всех моделей, мы получили первую модель с гиперпараментрами где F1-мера больше 0,59."
   ]
  },
  {
   "cell_type": "markdown",
   "metadata": {},
   "source": [
    "<b>Увеличение выборки"
   ]
  },
  {
   "cell_type": "code",
   "execution_count": 88,
   "metadata": {},
   "outputs": [],
   "source": [
    "oversample = SMOTE(random_state=state)\n",
    "features_train_up, target_train_up = oversample.fit_resample(features_train, target_train)"
   ]
  },
  {
   "cell_type": "code",
   "execution_count": 89,
   "metadata": {},
   "outputs": [
    {
     "name": "stdout",
     "output_type": "stream",
     "text": [
      "max_depth = 2 результат =  0.7125 F1: 0.49781659388646293 Roc_auc 0.7092186230117264\n",
      "max_depth = 3 результат =  0.8195 F1: 0.5377720870678617 Roc_auc 0.7072216417044004\n",
      "max_depth = 4 результат =  0.7745 F1: 0.5355303810504635 Roc_auc 0.7250628894307055\n",
      "max_depth = 5 результат =  0.7825 F1: 0.5464025026068822 Roc_auc 0.731920739966717\n",
      "max_depth = 6 результат =  0.749 F1: 0.5493716337522442 Roc_auc 0.7514454893765239\n",
      "max_depth = 7 результат =  0.828 F1: 0.5742574257425743 Roc_auc 0.7328147374124385\n",
      "max_depth = 8 результат =  0.8255 F1: 0.5830346475507767 Roc_auc 0.7423003986222377\n",
      "max_depth = 9 результат =  0.8075 F1: 0.5629965947786606 Roc_auc 0.734699485274198\n",
      "max_depth = 10 результат =  0.8075 F1: 0.5559400230680507 Roc_auc 0.7282518673323272\n",
      "max_depth = 11 результат =  0.7995 F1: 0.5549389567147613 Roc_auc 0.7315259878478269\n",
      "max_depth = 12 результат =  0.7895 F1: 0.5337763012181618 Roc_auc 0.7169666008746469\n",
      "max_depth = 13 результат =  0.785 F1: 0.5190156599552572 Roc_auc 0.7058554897635357\n",
      "max_depth = 14 результат =  0.7905 F1: 0.5156069364161849 Roc_auc 0.7010139711289137\n",
      "max_depth = 15 результат =  0.7905 F1: 0.5178365937859609 Roc_auc 0.702856147683734\n",
      "max_depth = 16 результат =  0.7815 F1: 0.4971231300345224 Roc_auc 0.6889237199582027\n",
      "max_depth = 17 результат =  0.7875 F1: 0.5075318655851679 Roc_auc 0.6954487402763265\n",
      "max_depth = 18 результат =  0.7895 F1: 0.5029515938606848 Roc_auc 0.6911761291071636\n",
      "max_depth = 19 результат =  0.7885 F1: 0.5132336018411967 Roc_auc 0.6997600526336157\n",
      "max_depth = 20 результат =  0.7885 F1: 0.5075669383003494 Roc_auc 0.6951546112465653\n",
      "max_depth = 21 результат =  0.788 F1: 0.5103926096997691 Roc_auc 0.6976043964549711\n",
      "max_depth = 22 результат =  0.7835 F1: 0.4899882214369847 Roc_auc 0.6828089322342197\n",
      "max_depth = 23 результат =  0.7835 F1: 0.4899882214369847 Roc_auc 0.6828089322342197\n",
      "max_depth = 24 результат =  0.7835 F1: 0.4899882214369847 Roc_auc 0.6828089322342197\n",
      "max_depth = 25 результат =  0.7835 F1: 0.4899882214369847 Roc_auc 0.6828089322342197\n",
      "max_depth = 26 результат =  0.7835 F1: 0.4899882214369847 Roc_auc 0.6828089322342197\n",
      "max_depth = 27 результат =  0.7835 F1: 0.4899882214369847 Roc_auc 0.6828089322342197\n",
      "max_depth = 28 результат =  0.7835 F1: 0.4899882214369847 Roc_auc 0.6828089322342197\n",
      "max_depth = 29 результат =  0.7835 F1: 0.4899882214369847 Roc_auc 0.6828089322342197\n",
      "max_depth = 30 результат =  0.7835 F1: 0.4899882214369847 Roc_auc 0.6828089322342197\n",
      "max_depth = 31 результат =  0.7835 F1: 0.4899882214369847 Roc_auc 0.6828089322342197\n",
      "max_depth = 32 результат =  0.7835 F1: 0.4899882214369847 Roc_auc 0.6828089322342197\n",
      "max_depth = 33 результат =  0.7835 F1: 0.4899882214369847 Roc_auc 0.6828089322342197\n",
      "max_depth = 34 результат =  0.7835 F1: 0.4899882214369847 Roc_auc 0.6828089322342197\n",
      "max_depth = 35 результат =  0.7835 F1: 0.4899882214369847 Roc_auc 0.6828089322342197\n",
      "max_depth = 36 результат =  0.7835 F1: 0.4899882214369847 Roc_auc 0.6828089322342197\n",
      "max_depth = 37 результат =  0.7835 F1: 0.4899882214369847 Roc_auc 0.6828089322342197\n",
      "max_depth = 38 результат =  0.7835 F1: 0.4899882214369847 Roc_auc 0.6828089322342197\n",
      "max_depth = 39 результат =  0.7835 F1: 0.4899882214369847 Roc_auc 0.6828089322342197\n",
      " \n",
      "Лучший результат дерева F1-меры: 0.5830346475507767 Глубина: 8 Roc_auc: 0.7423003986222377\n"
     ]
    }
   ],
   "source": [
    "### Дерево решений\n",
    "best_model = None\n",
    "best_result = 0\n",
    "best_depth = 0\n",
    "\n",
    "for depth in range(2,40):\n",
    "    model_tree = DecisionTreeClassifier(random_state = state, max_depth = depth, criterion='entropy')\n",
    "    model_tree.fit(features_train_up,target_train_up)\n",
    "    prediction_valid = model_tree.predict(features_valid)\n",
    "    res = model_tree.score(features_valid, target_valid)\n",
    "    F1 = f1_score(target_valid, prediction_valid)\n",
    "    Roc_auc = roc_auc_score(target_valid, prediction_valid)\n",
    "    print('max_depth =',depth, 'результат = ', res, \"F1:\", F1, 'Roc_auc', Roc_auc)  \n",
    "    if best_result < F1:\n",
    "        Roc_auc_t = Roc_auc\n",
    "        best_model = model_tree\n",
    "        best_result = F1\n",
    "        best_depth = depth\n",
    "        best_tree_res_up = best_result\n",
    "\n",
    "print(' ')        \n",
    "print('Лучший результат дерева F1-меры:', best_tree_res_up, 'Глубина:', best_depth, 'Roc_auc:', Roc_auc_t)"
   ]
  },
  {
   "cell_type": "code",
   "execution_count": 90,
   "metadata": {},
   "outputs": [
    {
     "name": "stdout",
     "output_type": "stream",
     "text": [
      "est 10 результат 0.835 F1: 0.5467032967032968 Roc_auc 0.7068075389914471\n",
      "est 15 результат 0.8325 F1: 0.567741935483871 Roc_auc 0.7245829946979372\n",
      "est 20 результат 0.844 F1: 0.5760869565217391 Roc_auc 0.7244243198266187\n",
      "est 25 результат 0.8375 F1: 0.5740498034076016 Roc_auc 0.7267967026587716\n",
      "est 30 результат 0.8415 F1: 0.571041948579161 Roc_auc 0.7219358334300864\n",
      "est 35 результат 0.842 F1: 0.5797872340425532 Roc_auc 0.7286969309957816\n",
      "est 40 результат 0.846 F1: 0.5860215053763441 Roc_auc 0.7312047679863771\n",
      "est 45 результат 0.842 F1: 0.582010582010582 Roc_auc 0.7305391075506019\n",
      "est 50 результат 0.847 F1: 0.5864864864864865 Roc_auc 0.730910638956616\n",
      "est 55 результат 0.8425 F1: 0.583883751651255 Roc_auc 0.7317736754518365\n",
      "est 60 результат 0.847 F1: 0.5898123324396781 Roc_auc 0.7336739037888463\n",
      "est 65 результат 0.8435 F1: 0.5854304635761589 Roc_auc 0.7324006346994852\n",
      "est 70 результат 0.846 F1: 0.588235294117647 Roc_auc 0.7330469445411973\n",
      "est 75 результат 0.8425 F1: 0.5849802371541503 Roc_auc 0.7326947637292466\n",
      "est 80 результат 0.844 F1: 0.5851063829787234 Roc_auc 0.7317930260458996\n",
      "est 85 результат 0.846 F1: 0.5936675461741425 Roc_auc 0.737652385928248\n",
      "est 90 результат 0.8465 F1: 0.5922974767596281 Roc_auc 0.7361236889972521\n",
      "est 95 результат 0.8435 F1: 0.5886990801576873 Roc_auc 0.7351638995317157\n",
      "est 100 результат 0.8465 F1: 0.5901201602136182 Roc_auc 0.7342815124424319\n",
      "est 105 результат 0.846 F1: 0.5947368421052632 Roc_auc 0.7385734742056581\n",
      "est 110 результат 0.8455 F1: 0.5928853754940713 Roc_auc 0.7373389063044236\n",
      "est 115 результат 0.8435 F1: 0.5865257595772787 Roc_auc 0.7333217229768955\n",
      "est 120 результат 0.845 F1: 0.5866666666666667 Roc_auc 0.7324199852935485\n",
      "est 125 результат 0.8455 F1: 0.590728476821192 Roc_auc 0.7354967297496032\n",
      "est 130 результат 0.846 F1: 0.588235294117647 Roc_auc 0.7330469445411973\n",
      "est 135 результат 0.8465 F1: 0.5933774834437086 Roc_auc 0.7370447772746623\n",
      "est 140 результат 0.8475 F1: 0.5938748335552596 Roc_auc 0.7367506482449011\n",
      "est 145 результат 0.848 F1: 0.5957446808510638 Roc_auc 0.7379852161461358\n",
      "est 150 результат 0.8475 F1: 0.5938748335552596 Roc_auc 0.7367506482449011\n",
      "est 155 результат 0.8465 F1: 0.5955204216073782 Roc_auc 0.7388869538294826\n",
      "est 160 результат 0.849 F1: 0.5973333333333333 Roc_auc 0.7386121753937845\n",
      "est 165 результат 0.85 F1: 0.6031746031746031 Roc_auc 0.742923487751074\n",
      "est 170 результат 0.8505 F1: 0.6008010680907877 Roc_auc 0.7404737025426681\n",
      "est 175 результат 0.849 F1: 0.6005291005291006 Roc_auc 0.7413754402260149\n",
      "est 180 результат 0.8505 F1: 0.6039735099337749 Roc_auc 0.7432369673748984\n",
      "est 185 результат 0.8515 F1: 0.6066225165562914 Roc_auc 0.7447850148999574\n",
      "est 190 результат 0.8525 F1: 0.6082337317397079 Roc_auc 0.7454119741476064\n",
      "est 195 результат 0.8495 F1: 0.6023778071334214 Roc_auc 0.7426100081272494\n",
      "est 200 результат 0.8515 F1: 0.6045272969374167 Roc_auc 0.7429428383451372\n",
      "est 205 результат 0.851 F1: 0.6058201058201059 Roc_auc 0.7444715352761331\n",
      "est 210 результат 0.8535 F1: 0.6098535286284953 Roc_auc 0.7460389333952553\n",
      "est 215 результат 0.8515 F1: 0.6066225165562914 Roc_auc 0.7447850148999574\n",
      "est 220 результат 0.851 F1: 0.6037234042553192 Roc_auc 0.7426293587213129\n",
      "est 225 результат 0.852 F1: 0.6063829787234044 Roc_auc 0.7441774062463717\n",
      "est 230 результат 0.8515 F1: 0.6034712950600801 Roc_auc 0.7420217500677271\n",
      "est 235 результат 0.853 F1: 0.608 Roc_auc 0.7448043654940206\n",
      "est 240 результат 0.853 F1: 0.608 Roc_auc 0.7448043654940206\n",
      "est 245 результат 0.8535 F1: 0.6098535286284953 Roc_auc 0.7460389333952553\n",
      "est 250 результат 0.852 F1: 0.6032171581769437 Roc_auc 0.7414141414141414\n",
      "est 255 результат 0.8535 F1: 0.6088117489986649 Roc_auc 0.745117845117845\n",
      "est 260 результат 0.8535 F1: 0.6088117489986649 Roc_auc 0.745117845117845\n",
      "est 265 результат 0.853 F1: 0.6090425531914894 Roc_auc 0.7457254537714308\n",
      "est 270 результат 0.8525 F1: 0.6061415220293724 Roc_auc 0.7435697975927861\n",
      "est 275 результат 0.853 F1: 0.6090425531914894 Roc_auc 0.7457254537714308\n",
      "est 280 результат 0.853 F1: 0.6069518716577541 Roc_auc 0.7438832772166105\n",
      "est 285 результат 0.8515 F1: 0.6045272969374167 Roc_auc 0.7429428383451372\n",
      "est 290 результат 0.8505 F1: 0.6018641810918774 Roc_auc 0.7413947908200783\n",
      "est 295 результат 0.8505 F1: 0.6018641810918774 Roc_auc 0.7413947908200783\n",
      "est 300 результат 0.8515 F1: 0.6045272969374167 Roc_auc 0.7429428383451372\n",
      "est 305 результат 0.8505 F1: 0.6039735099337749 Roc_auc 0.7432369673748984\n",
      "est 310 результат 0.8505 F1: 0.6029216467463479 Roc_auc 0.7423158790974882\n",
      "est 315 результат 0.8515 F1: 0.6066225165562914 Roc_auc 0.7447850148999574\n",
      "est 320 результат 0.8525 F1: 0.6050870147255689 Roc_auc 0.742648709315376\n",
      "est 325 результат 0.852 F1: 0.6053333333333333 Roc_auc 0.7432563179689616\n",
      "est 330 результат 0.8525 F1: 0.6050870147255689 Roc_auc 0.742648709315376\n",
      "est 335 результат 0.8525 F1: 0.6061415220293724 Roc_auc 0.7435697975927861\n",
      "est 340 результат 0.8525 F1: 0.6061415220293724 Roc_auc 0.7435697975927861\n",
      "est 345 результат 0.852 F1: 0.6063829787234044 Roc_auc 0.7441774062463717\n",
      "est 350 результат 0.8515 F1: 0.6045272969374167 Roc_auc 0.7429428383451372\n",
      "est 355 результат 0.8515 F1: 0.6045272969374167 Roc_auc 0.7429428383451372\n",
      "est 360 результат 0.8505 F1: 0.6008010680907877 Roc_auc 0.7404737025426681\n",
      "est 365 результат 0.851 F1: 0.6016042780748663 Roc_auc 0.7407871821664925\n",
      "est 370 результат 0.8515 F1: 0.6013422818791946 Roc_auc 0.7401795735129069\n",
      "est 375 результат 0.8515 F1: 0.6013422818791946 Roc_auc 0.7401795735129069\n",
      "est 380 результат 0.8515 F1: 0.6013422818791946 Roc_auc 0.7401795735129069\n",
      "est 385 результат 0.851 F1: 0.6005361930294906 Roc_auc 0.7398660938890824\n",
      "est 390 результат 0.8525 F1: 0.6040268456375839 Roc_auc 0.7417276210379659\n",
      "est 395 результат 0.8525 F1: 0.6040268456375839 Roc_auc 0.7417276210379659\n",
      "est 400 результат 0.8525 F1: 0.6029609690444145 Roc_auc 0.7408065327605557\n",
      "est 405 результат 0.852 F1: 0.6032171581769437 Roc_auc 0.7414141414141414\n",
      "est 410 результат 0.85 F1: 0.5978552278820375 Roc_auc 0.7383180463640233\n",
      "est 415 результат 0.8505 F1: 0.6008010680907877 Roc_auc 0.7404737025426681\n",
      "est 420 результат 0.8525 F1: 0.6040268456375839 Roc_auc 0.7417276210379659\n",
      "est 425 результат 0.8515 F1: 0.6024096385542169 Roc_auc 0.741100661790317\n",
      "est 430 результат 0.8505 F1: 0.5997322623828647 Roc_auc 0.739552614265258\n",
      "est 435 результат 0.851 F1: 0.6026666666666666 Roc_auc 0.7417082704439026\n",
      "est 440 результат 0.851 F1: 0.6016042780748663 Roc_auc 0.7407871821664925\n",
      "est 445 результат 0.8505 F1: 0.6018641810918774 Roc_auc 0.7413947908200783\n",
      "est 450 результат 0.8505 F1: 0.6018641810918774 Roc_auc 0.7413947908200783\n",
      "est 455 результат 0.851 F1: 0.6047745358090186 Roc_auc 0.7435504469987227\n",
      "est 460 результат 0.8505 F1: 0.6039735099337749 Roc_auc 0.7432369673748984\n",
      "est 465 результат 0.8495 F1: 0.6013245033112582 Roc_auc 0.7416889198498394\n",
      "est 470 результат 0.85 F1: 0.6031746031746031 Roc_auc 0.742923487751074\n",
      "est 475 результат 0.8505 F1: 0.6050198150594451 Roc_auc 0.7441580556523086\n",
      "est 480 результат 0.85 F1: 0.6021220159151194 Roc_auc 0.7420023994736638\n",
      "est 485 результат 0.8495 F1: 0.6023778071334214 Roc_auc 0.7426100081272494\n",
      "est 490 результат 0.8485 F1: 0.5986754966887416 Roc_auc 0.7401408723247803\n",
      "est 495 результат 0.848 F1: 0.5978835978835979 Roc_auc 0.7398273927009559\n",
      "est 500 результат 0.8485 F1: 0.5976095617529881 Roc_auc 0.7392197840473703\n",
      "est 505 результат 0.848 F1: 0.5978835978835979 Roc_auc 0.7398273927009559\n",
      "est 510 результат 0.8485 F1: 0.5976095617529881 Roc_auc 0.7392197840473703\n",
      "est 515 результат 0.849 F1: 0.598404255319149 Roc_auc 0.7395332636711947\n",
      "est 520 результат 0.849 F1: 0.598404255319149 Roc_auc 0.7395332636711947\n",
      "est 525 результат 0.849 F1: 0.598404255319149 Roc_auc 0.7395332636711947\n",
      "est 530 результат 0.8495 F1: 0.5981308411214954 Roc_auc 0.7389256550176091\n",
      "est 535 результат 0.849 F1: 0.5973333333333333 Roc_auc 0.7386121753937845\n",
      "est 540 результат 0.849 F1: 0.5973333333333333 Roc_auc 0.7386121753937845\n",
      "est 545 результат 0.8495 F1: 0.5992010652463382 Roc_auc 0.7398467432950191\n",
      "est 550 результат 0.8495 F1: 0.5992010652463382 Roc_auc 0.7398467432950191\n",
      "est 555 результат 0.8495 F1: 0.5992010652463382 Roc_auc 0.7398467432950191\n",
      "est 560 результат 0.849 F1: 0.5973333333333333 Roc_auc 0.7386121753937845\n",
      "est 565 результат 0.8495 F1: 0.5981308411214954 Roc_auc 0.7389256550176091\n",
      "est 570 результат 0.85 F1: 0.5978552278820375 Roc_auc 0.7383180463640233\n",
      "est 575 результат 0.85 F1: 0.5978552278820375 Roc_auc 0.7383180463640233\n",
      "est 580 результат 0.85 F1: 0.5978552278820375 Roc_auc 0.7383180463640233\n",
      "est 585 результат 0.8495 F1: 0.5970548862115127 Roc_auc 0.7380045667401989\n",
      "est 590 результат 0.8505 F1: 0.5997322623828647 Roc_auc 0.739552614265258\n",
      "est 595 результат 0.8505 F1: 0.5997322623828647 Roc_auc 0.739552614265258\n",
      " \n",
      "Лучший результат cлучайного леса F1-меры: 0.6098535286284953 n_estimators 210 Roc_auc: 0.7460389333952553\n"
     ]
    }
   ],
   "source": [
    "### Случайный лес\n",
    "best_model = None\n",
    "best_result = 0\n",
    "best_est = 0\n",
    "\n",
    "for est in range(10,600,5):\n",
    "    model_forest = RandomForestClassifier(random_state = state, n_estimators = est, n_jobs=-1)\n",
    "    model_forest.fit(features_train_up,target_train_up)\n",
    "    prediction_valid = model_forest.predict(features_valid)\n",
    "    res = model_forest.score(features_valid, target_valid)\n",
    "    F1 = f1_score(target_valid, prediction_valid)\n",
    "    Roc_auc = roc_auc_score(target_valid, prediction_valid)\n",
    "    print('est',est, 'результат', res, \"F1:\", F1, 'Roc_auc', Roc_auc)  \n",
    "    if best_result < F1:\n",
    "        Roc_auc_f = Roc_auc\n",
    "        best_model = model_forest\n",
    "        best_result = F1\n",
    "        best_forest_res_up = best_result\n",
    "        n_estimators = est\n",
    "\n",
    "print(' ')        \n",
    "print('Лучший результат cлучайного леса F1-меры:', best_forest_res_up,'n_estimators', n_estimators,'Roc_auc:', Roc_auc_f)"
   ]
  },
  {
   "cell_type": "code",
   "execution_count": 91,
   "metadata": {},
   "outputs": [
    {
     "name": "stdout",
     "output_type": "stream",
     "text": [
      "est 210 Глубина: 10 результат 0.833 F1: 0.5926829268292683 Roc_auc 0.7460815047021944\n",
      "est 211 Глубина: 10 результат 0.8325 F1: 0.5919610231425091 Roc_auc 0.7457680250783699\n",
      "est 212 Глубина: 10 результат 0.833 F1: 0.5926829268292683 Roc_auc 0.7460815047021944\n",
      "est 213 Глубина: 10 результат 0.833 F1: 0.5926829268292683 Roc_auc 0.7460815047021944\n",
      "est 214 Глубина: 10 результат 0.8335 F1: 0.5943970767356883 Roc_auc 0.747316072603429\n",
      "est 215 Глубина: 10 результат 0.8325 F1: 0.5919610231425091 Roc_auc 0.7457680250783699\n",
      "est 216 Глубина: 10 результат 0.8335 F1: 0.5943970767356883 Roc_auc 0.747316072603429\n",
      "est 217 Глубина: 10 результат 0.8335 F1: 0.5943970767356883 Roc_auc 0.747316072603429\n",
      "est 218 Глубина: 10 результат 0.8325 F1: 0.5919610231425091 Roc_auc 0.7457680250783699\n",
      "est 219 Глубина: 10 результат 0.8325 F1: 0.5919610231425091 Roc_auc 0.7457680250783699\n",
      "est 220 Глубина: 10 результат 0.833 F1: 0.5936739659367396 Roc_auc 0.7470025929796045\n",
      "est 221 Глубина: 10 результат 0.834 F1: 0.5951219512195123 Roc_auc 0.7476295522272535\n",
      "est 222 Глубина: 10 результат 0.834 F1: 0.5951219512195123 Roc_auc 0.7476295522272535\n",
      "est 223 Глубина: 10 результат 0.834 F1: 0.5941320293398533 Roc_auc 0.7467084639498434\n",
      "est 224 Глубина: 10 результат 0.834 F1: 0.5941320293398533 Roc_auc 0.7467084639498434\n",
      "est 225 Глубина: 10 результат 0.834 F1: 0.5941320293398533 Roc_auc 0.7467084639498434\n",
      "est 226 Глубина: 10 результат 0.834 F1: 0.5941320293398533 Roc_auc 0.7467084639498434\n",
      "est 227 Глубина: 10 результат 0.8345 F1: 0.594859241126071 Roc_auc 0.7470219435736678\n",
      "est 228 Глубина: 10 результат 0.834 F1: 0.5941320293398533 Roc_auc 0.7467084639498434\n",
      "est 229 Глубина: 10 результат 0.834 F1: 0.5941320293398533 Roc_auc 0.7467084639498434\n",
      "est 210 Глубина: 11 результат 0.837 F1: 0.5985221674876847 Roc_auc 0.74858934169279\n",
      "est 211 Глубина: 11 результат 0.8375 F1: 0.5992601726263872 Roc_auc 0.7489028213166145\n",
      "est 212 Глубина: 11 результат 0.8385 F1: 0.6007416563658838 Roc_auc 0.7495297805642633\n",
      "est 213 Глубина: 11 результат 0.838 F1: 0.6 Roc_auc 0.7492163009404389\n",
      "est 214 Глубина: 11 результат 0.8375 F1: 0.5992601726263872 Roc_auc 0.7489028213166145\n",
      "est 215 Глубина: 11 результат 0.8375 F1: 0.5992601726263872 Roc_auc 0.7489028213166145\n",
      "est 216 Глубина: 11 результат 0.8385 F1: 0.6007416563658838 Roc_auc 0.7495297805642633\n",
      "est 217 Глубина: 11 результат 0.839 F1: 0.6014851485148516 Roc_auc 0.7498432601880878\n",
      "est 218 Глубина: 11 результат 0.839 F1: 0.6014851485148516 Roc_auc 0.7498432601880878\n",
      "est 219 Глубина: 11 результат 0.839 F1: 0.6014851485148516 Roc_auc 0.7498432601880878\n",
      "est 220 Глубина: 11 результат 0.839 F1: 0.6014851485148516 Roc_auc 0.7498432601880878\n",
      "est 221 Глубина: 11 результат 0.839 F1: 0.6014851485148516 Roc_auc 0.7498432601880878\n",
      "est 222 Глубина: 11 результат 0.8385 F1: 0.6007416563658838 Roc_auc 0.7495297805642633\n",
      "est 223 Глубина: 11 результат 0.839 F1: 0.6014851485148516 Roc_auc 0.7498432601880878\n",
      "est 224 Глубина: 11 результат 0.839 F1: 0.6014851485148516 Roc_auc 0.7498432601880878\n",
      "est 225 Глубина: 11 результат 0.8385 F1: 0.6007416563658838 Roc_auc 0.7495297805642633\n",
      "est 226 Глубина: 11 результат 0.839 F1: 0.6014851485148516 Roc_auc 0.7498432601880878\n",
      "est 227 Глубина: 11 результат 0.839 F1: 0.6014851485148516 Roc_auc 0.7498432601880878\n",
      "est 228 Глубина: 11 результат 0.839 F1: 0.6014851485148516 Roc_auc 0.7498432601880878\n",
      "est 229 Глубина: 11 результат 0.8385 F1: 0.5997521685254028 Roc_auc 0.7486086922868532\n",
      "est 210 Глубина: 12 результат 0.8385 F1: 0.597758405977584 Roc_auc 0.746766515732033\n",
      "est 211 Глубина: 12 результат 0.8395 F1: 0.599250936329588 Roc_auc 0.7473934749796818\n",
      "est 212 Глубина: 12 результат 0.8395 F1: 0.599250936329588 Roc_auc 0.7473934749796818\n",
      "est 213 Глубина: 12 результат 0.8385 F1: 0.5967540574282146 Roc_auc 0.7458454274546229\n",
      "est 214 Глубина: 12 результат 0.8385 F1: 0.597758405977584 Roc_auc 0.746766515732033\n",
      "est 215 Глубина: 12 результат 0.839 F1: 0.5975 Roc_auc 0.7461589070784472\n",
      "est 216 Глубина: 12 результат 0.838 F1: 0.5960099750623441 Roc_auc 0.7455319478307985\n",
      "est 217 Глубина: 12 результат 0.838 F1: 0.595 Roc_auc 0.7446108595533883\n",
      "est 218 Глубина: 12 результат 0.84 F1: 0.598997493734336 Roc_auc 0.7467858663260962\n",
      "est 219 Глубина: 12 результат 0.839 F1: 0.5964912280701755 Roc_auc 0.7452378188010372\n",
      "est 220 Глубина: 12 результат 0.84 F1: 0.6 Roc_auc 0.7477069546035063\n",
      "est 221 Глубина: 12 результат 0.8395 F1: 0.599250936329588 Roc_auc 0.7473934749796818\n",
      "est 222 Глубина: 12 результат 0.839 F1: 0.5975 Roc_auc 0.7461589070784472\n",
      "est 223 Глубина: 12 результат 0.8405 F1: 0.6017478152309613 Roc_auc 0.748941522504741\n",
      "est 224 Глубина: 12 результат 0.8395 F1: 0.5982478097622028 Roc_auc 0.7464723867022718\n",
      "est 225 Глубина: 12 результат 0.84 F1: 0.6 Roc_auc 0.7477069546035063\n",
      "est 226 Глубина: 12 результат 0.8395 F1: 0.5982478097622028 Roc_auc 0.7464723867022718\n",
      "est 227 Глубина: 12 результат 0.8395 F1: 0.5982478097622028 Roc_auc 0.7464723867022718\n",
      "est 228 Глубина: 12 результат 0.8395 F1: 0.5982478097622028 Roc_auc 0.7464723867022718\n",
      "est 229 Глубина: 12 результат 0.8405 F1: 0.6017478152309613 Roc_auc 0.748941522504741\n",
      "est 210 Глубина: 13 результат 0.842 F1: 0.5969387755102041 Roc_auc 0.7434343434343433\n",
      "est 211 Глубина: 13 результат 0.842 F1: 0.5969387755102041 Roc_auc 0.7434343434343433\n",
      "est 212 Глубина: 13 результат 0.8425 F1: 0.5977011494252873 Roc_auc 0.7437478230581679\n",
      "est 213 Глубина: 13 результат 0.842 F1: 0.5969387755102041 Roc_auc 0.7434343434343433\n",
      "est 214 Глубина: 13 результат 0.8425 F1: 0.5977011494252873 Roc_auc 0.7437478230581679\n",
      "est 215 Глубина: 13 результат 0.8425 F1: 0.5987261146496815 Roc_auc 0.744668911335578\n",
      "est 216 Глубина: 13 результат 0.8435 F1: 0.6002554278416348 Roc_auc 0.7452958705832269\n",
      "est 217 Глубина: 13 результат 0.8435 F1: 0.6002554278416348 Roc_auc 0.7452958705832269\n",
      "est 218 Глубина: 13 результат 0.8425 F1: 0.5977011494252873 Roc_auc 0.7437478230581679\n",
      "est 219 Глубина: 13 результат 0.843 F1: 0.59846547314578 Roc_auc 0.7440613026819923\n",
      "est 220 Глубина: 13 результат 0.8425 F1: 0.5977011494252873 Roc_auc 0.7437478230581679\n",
      "est 221 Глубина: 13 результат 0.842 F1: 0.5969387755102041 Roc_auc 0.7434343434343433\n",
      "est 222 Глубина: 13 результат 0.8425 F1: 0.5977011494252873 Roc_auc 0.7437478230581679\n",
      "est 223 Глубина: 13 результат 0.842 F1: 0.5969387755102041 Roc_auc 0.7434343434343433\n",
      "est 224 Глубина: 13 результат 0.842 F1: 0.5969387755102041 Roc_auc 0.7434343434343433\n",
      "est 225 Глубина: 13 результат 0.842 F1: 0.5979643765903309 Roc_auc 0.7443554317117534\n",
      "est 226 Глубина: 13 результат 0.842 F1: 0.5969387755102041 Roc_auc 0.7434343434343433\n",
      "est 227 Глубина: 13 результат 0.8415 F1: 0.5961783439490445 Roc_auc 0.7431208638105189\n",
      "est 228 Глубина: 13 результат 0.843 F1: 0.5994897959183674 Roc_auc 0.7449823909594024\n",
      "est 229 Глубина: 13 результат 0.8425 F1: 0.5977011494252873 Roc_auc 0.7437478230581679\n",
      "est 210 Глубина: 14 результат 0.843 F1: 0.5953608247422679 Roc_auc 0.741298037849762\n",
      "est 211 Глубина: 14 результат 0.8435 F1: 0.5961290322580645 Roc_auc 0.7416115174735864\n",
      "est 212 Глубина: 14 результат 0.843 F1: 0.596401028277635 Roc_auc 0.7422191261271721\n",
      "est 213 Глубина: 14 результат 0.8435 F1: 0.5961290322580645 Roc_auc 0.7416115174735864\n",
      "est 214 Глубина: 14 результат 0.8435 F1: 0.5961290322580645 Roc_auc 0.7416115174735864\n",
      "est 215 Глубина: 14 результат 0.843 F1: 0.5953608247422679 Roc_auc 0.741298037849762\n",
      "est 216 Глубина: 14 результат 0.8435 F1: 0.5961290322580645 Roc_auc 0.7416115174735864\n",
      "est 217 Глубина: 14 результат 0.843 F1: 0.5953608247422679 Roc_auc 0.741298037849762\n",
      "est 218 Глубина: 14 результат 0.8425 F1: 0.5945945945945946 Roc_auc 0.7409845582259376\n",
      "est 219 Глубина: 14 результат 0.8415 F1: 0.5930680359435173 Roc_auc 0.7403575989782887\n",
      "est 220 Глубина: 14 результат 0.8415 F1: 0.5930680359435173 Roc_auc 0.7403575989782887\n",
      "est 221 Глубина: 14 результат 0.842 F1: 0.5938303341902313 Roc_auc 0.7406710786021131\n",
      "est 222 Глубина: 14 результат 0.8405 F1: 0.5905006418485237 Roc_auc 0.7388095514532296\n",
      "est 223 Глубина: 14 результат 0.84 F1: 0.5897435897435898 Roc_auc 0.738496071829405\n",
      "est 224 Глубина: 14 результат 0.8405 F1: 0.5905006418485237 Roc_auc 0.7388095514532296\n",
      "est 225 Глубина: 14 результат 0.842 F1: 0.5938303341902313 Roc_auc 0.7406710786021131\n",
      "est 226 Глубина: 14 результат 0.8425 F1: 0.5945945945945946 Roc_auc 0.7409845582259376\n",
      "est 227 Глубина: 14 результат 0.8425 F1: 0.5935483870967742 Roc_auc 0.7400634699485273\n",
      "est 228 Глубина: 14 результат 0.842 F1: 0.5927835051546392 Roc_auc 0.7397499903247029\n",
      "est 229 Глубина: 14 результат 0.842 F1: 0.5927835051546392 Roc_auc 0.7397499903247029\n",
      "est 210 Глубина: 15 результат 0.8445 F1: 0.5945241199478488 Roc_auc 0.739475211889005\n",
      "est 211 Глубина: 15 результат 0.8445 F1: 0.5945241199478488 Roc_auc 0.739475211889005\n",
      "est 212 Глубина: 15 результат 0.845 F1: 0.5953002610966057 Roc_auc 0.7397886915128293\n",
      "est 213 Глубина: 15 результат 0.845 F1: 0.5953002610966057 Roc_auc 0.7397886915128293\n",
      "est 214 Глубина: 15 результат 0.8455 F1: 0.5971316818774446 Roc_auc 0.741023259414064\n",
      "est 215 Глубина: 15 результат 0.8455 F1: 0.5971316818774446 Roc_auc 0.741023259414064\n",
      "est 216 Глубина: 15 результат 0.845 F1: 0.5953002610966057 Roc_auc 0.7397886915128293\n",
      "est 217 Глубина: 15 результат 0.8455 F1: 0.596078431372549 Roc_auc 0.7401021711366539\n",
      "est 218 Глубина: 15 результат 0.846 F1: 0.597911227154047 Roc_auc 0.7413367390378885\n",
      "est 219 Глубина: 15 результат 0.846 F1: 0.5989583333333334 Roc_auc 0.7422578273152984\n",
      "est 220 Глубина: 15 результат 0.846 F1: 0.597911227154047 Roc_auc 0.7413367390378885\n",
      "est 221 Глубина: 15 результат 0.8465 F1: 0.5997392438070404 Roc_auc 0.742571306939123\n",
      "est 222 Глубина: 15 результат 0.846 F1: 0.5989583333333334 Roc_auc 0.7422578273152984\n",
      "est 223 Глубина: 15 результат 0.846 F1: 0.5989583333333334 Roc_auc 0.7422578273152984\n",
      "est 224 Глубина: 15 результат 0.845 F1: 0.5953002610966057 Roc_auc 0.7397886915128293\n",
      "est 225 Глубина: 15 результат 0.8455 F1: 0.5971316818774446 Roc_auc 0.741023259414064\n",
      "est 226 Глубина: 15 результат 0.845 F1: 0.5953002610966057 Roc_auc 0.7397886915128293\n",
      "est 227 Глубина: 15 результат 0.8455 F1: 0.596078431372549 Roc_auc 0.7401021711366539\n",
      "est 228 Глубина: 15 результат 0.845 F1: 0.5953002610966057 Roc_auc 0.7397886915128293\n",
      "est 229 Глубина: 15 результат 0.8455 F1: 0.596078431372549 Roc_auc 0.7401021711366539\n",
      "est 210 Глубина: 16 результат 0.8435 F1: 0.5929778933680104 Roc_auc 0.738848252641356\n",
      "est 211 Глубина: 16 результат 0.8435 F1: 0.5929778933680104 Roc_auc 0.738848252641356\n",
      "est 212 Глубина: 16 результат 0.844 F1: 0.5926892950391645 Roc_auc 0.7382406439877705\n",
      "est 213 Глубина: 16 результат 0.8435 F1: 0.5919165580182529 Roc_auc 0.7379271643639459\n",
      "est 214 Глубина: 16 результат 0.844 F1: 0.5926892950391645 Roc_auc 0.7382406439877705\n",
      "est 215 Глубина: 16 результат 0.844 F1: 0.5926892950391645 Roc_auc 0.7382406439877705\n",
      "est 216 Глубина: 16 результат 0.8445 F1: 0.5934640522875817 Roc_auc 0.7385541236115948\n",
      "est 217 Глубина: 16 результат 0.8455 F1: 0.596078431372549 Roc_auc 0.7401021711366539\n",
      "est 218 Глубина: 16 результат 0.845 F1: 0.5953002610966057 Roc_auc 0.7397886915128293\n",
      "est 219 Глубина: 16 результат 0.8445 F1: 0.5945241199478488 Roc_auc 0.739475211889005\n",
      "est 220 Глубина: 16 результат 0.844 F1: 0.5926892950391645 Roc_auc 0.7382406439877705\n",
      "est 221 Глубина: 16 результат 0.8445 F1: 0.5945241199478488 Roc_auc 0.739475211889005\n",
      "est 222 Глубина: 16 результат 0.844 F1: 0.5926892950391645 Roc_auc 0.7382406439877705\n",
      "est 223 Глубина: 16 результат 0.844 F1: 0.5926892950391645 Roc_auc 0.7382406439877705\n",
      "est 224 Глубина: 16 результат 0.844 F1: 0.5926892950391645 Roc_auc 0.7382406439877705\n",
      "est 225 Глубина: 16 результат 0.844 F1: 0.5926892950391645 Roc_auc 0.7382406439877705\n",
      "est 226 Глубина: 16 результат 0.8445 F1: 0.5934640522875817 Roc_auc 0.7385541236115948\n",
      "est 227 Глубина: 16 результат 0.845 F1: 0.5942408376963351 Roc_auc 0.7388676032354193\n",
      "est 228 Глубина: 16 результат 0.8445 F1: 0.5934640522875817 Roc_auc 0.7385541236115948\n",
      "est 229 Глубина: 16 результат 0.8445 F1: 0.5934640522875817 Roc_auc 0.7385541236115948\n",
      "est 210 Глубина: 17 результат 0.8465 F1: 0.5997392438070404 Roc_auc 0.742571306939123\n",
      "est 211 Глубина: 17 результат 0.846 F1: 0.5989583333333334 Roc_auc 0.7422578273152984\n",
      "est 212 Глубина: 17 результат 0.845 F1: 0.5953002610966057 Roc_auc 0.7397886915128293\n",
      "est 213 Глубина: 17 результат 0.846 F1: 0.5989583333333334 Roc_auc 0.7422578273152984\n",
      "est 214 Глубина: 17 результат 0.8455 F1: 0.596078431372549 Roc_auc 0.7401021711366539\n",
      "est 215 Глубина: 17 результат 0.8455 F1: 0.5971316818774446 Roc_auc 0.741023259414064\n",
      "est 216 Глубина: 17 результат 0.846 F1: 0.597911227154047 Roc_auc 0.7413367390378885\n",
      "est 217 Глубина: 17 результат 0.8455 F1: 0.5971316818774446 Roc_auc 0.741023259414064\n",
      "est 218 Глубина: 17 результат 0.845 F1: 0.5953002610966057 Roc_auc 0.7397886915128293\n",
      "est 219 Глубина: 17 результат 0.8455 F1: 0.5971316818774446 Roc_auc 0.741023259414064\n",
      "est 220 Глубина: 17 результат 0.845 F1: 0.5953002610966057 Roc_auc 0.7397886915128293\n",
      "est 221 Глубина: 17 результат 0.845 F1: 0.5963541666666666 Roc_auc 0.7407097797902397\n",
      "est 222 Глубина: 17 результат 0.844 F1: 0.59375 Roc_auc 0.7391617322651804\n",
      "est 223 Глубина: 17 результат 0.8455 F1: 0.5971316818774446 Roc_auc 0.741023259414064\n",
      "est 224 Глубина: 17 результат 0.845 F1: 0.5963541666666666 Roc_auc 0.7407097797902397\n",
      "est 225 Глубина: 17 результат 0.846 F1: 0.597911227154047 Roc_auc 0.7413367390378885\n",
      "est 226 Глубина: 17 результат 0.844 F1: 0.5926892950391645 Roc_auc 0.7382406439877705\n",
      "est 227 Глубина: 17 результат 0.845 F1: 0.5953002610966057 Roc_auc 0.7397886915128293\n",
      "est 228 Глубина: 17 результат 0.844 F1: 0.5926892950391645 Roc_auc 0.7382406439877705\n",
      "est 229 Глубина: 17 результат 0.845 F1: 0.5942408376963351 Roc_auc 0.7388676032354193\n",
      "est 210 Глубина: 18 результат 0.851 F1: 0.6016042780748663 Roc_auc 0.7407871821664925\n",
      "est 211 Глубина: 18 результат 0.8525 F1: 0.6050870147255689 Roc_auc 0.742648709315376\n",
      "est 212 Глубина: 18 результат 0.852 F1: 0.6032171581769437 Roc_auc 0.7414141414141414\n",
      "est 213 Глубина: 18 результат 0.8515 F1: 0.6024096385542169 Roc_auc 0.741100661790317\n",
      "est 214 Глубина: 18 результат 0.8515 F1: 0.6024096385542169 Roc_auc 0.741100661790317\n",
      "est 215 Глубина: 18 результат 0.851 F1: 0.6016042780748663 Roc_auc 0.7407871821664925\n",
      "est 216 Глубина: 18 результат 0.8515 F1: 0.6024096385542169 Roc_auc 0.741100661790317\n",
      "est 217 Глубина: 18 результат 0.8515 F1: 0.6024096385542169 Roc_auc 0.741100661790317\n",
      "est 218 Глубина: 18 результат 0.851 F1: 0.6016042780748663 Roc_auc 0.7407871821664925\n",
      "est 219 Глубина: 18 результат 0.8505 F1: 0.5975773889636607 Roc_auc 0.7377104377104378\n",
      "est 220 Глубина: 18 результат 0.851 F1: 0.6005361930294906 Roc_auc 0.7398660938890824\n",
      "est 221 Глубина: 18 результат 0.8515 F1: 0.6013422818791946 Roc_auc 0.7401795735129069\n",
      "est 222 Глубина: 18 результат 0.851 F1: 0.6016042780748663 Roc_auc 0.7407871821664925\n",
      "est 223 Глубина: 18 результат 0.8515 F1: 0.6024096385542169 Roc_auc 0.741100661790317\n",
      "est 224 Глубина: 18 результат 0.8505 F1: 0.6008010680907877 Roc_auc 0.7404737025426681\n",
      "est 225 Глубина: 18 результат 0.8505 F1: 0.5997322623828647 Roc_auc 0.739552614265258\n",
      "est 226 Глубина: 18 результат 0.8505 F1: 0.6008010680907877 Roc_auc 0.7404737025426681\n",
      "est 227 Глубина: 18 результат 0.849 F1: 0.5962566844919786 Roc_auc 0.7376910871163744\n",
      "est 228 Глубина: 18 результат 0.8495 F1: 0.5981308411214954 Roc_auc 0.7389256550176091\n",
      "est 229 Глубина: 18 результат 0.849 F1: 0.5962566844919786 Roc_auc 0.7376910871163744\n",
      "est 210 Глубина: 19 результат 0.8455 F1: 0.5950196592398426 Roc_auc 0.7391810828592439\n",
      "est 211 Глубина: 19 результат 0.845 F1: 0.5942408376963351 Roc_auc 0.7388676032354193\n",
      "est 212 Глубина: 19 результат 0.8455 F1: 0.5950196592398426 Roc_auc 0.7391810828592439\n",
      "est 213 Глубина: 19 результат 0.846 F1: 0.5958005249343832 Roc_auc 0.7394945624830682\n",
      "est 214 Глубина: 19 результат 0.846 F1: 0.5958005249343832 Roc_auc 0.7394945624830682\n",
      "est 215 Глубина: 19 результат 0.846 F1: 0.5958005249343832 Roc_auc 0.7394945624830682\n",
      "est 216 Глубина: 19 результат 0.8455 F1: 0.5939553219448095 Roc_auc 0.7382599945818337\n",
      "est 217 Глубина: 19 результат 0.8455 F1: 0.5939553219448095 Roc_auc 0.7382599945818337\n",
      "est 218 Глубина: 19 результат 0.847 F1: 0.5963060686015831 Roc_auc 0.739200433453307\n",
      "est 219 Глубина: 19 результат 0.846 F1: 0.5947368421052632 Roc_auc 0.7385734742056581\n",
      "est 220 Глубина: 19 результат 0.846 F1: 0.5947368421052632 Roc_auc 0.7385734742056581\n",
      "est 221 Глубина: 19 результат 0.8455 F1: 0.5928853754940713 Roc_auc 0.7373389063044236\n",
      "est 222 Глубина: 19 результат 0.8455 F1: 0.5928853754940713 Roc_auc 0.7373389063044236\n",
      "est 223 Глубина: 19 результат 0.847 F1: 0.5963060686015831 Roc_auc 0.739200433453307\n",
      "est 224 Глубина: 19 результат 0.846 F1: 0.5947368421052632 Roc_auc 0.7385734742056581\n",
      "est 225 Глубина: 19 результат 0.8455 F1: 0.5939553219448095 Roc_auc 0.7382599945818337\n",
      "est 226 Глубина: 19 результат 0.845 F1: 0.5921052631578948 Roc_auc 0.7370254266805991\n",
      "est 227 Глубина: 19 результат 0.845 F1: 0.5921052631578948 Roc_auc 0.7370254266805991\n",
      "est 228 Глубина: 19 результат 0.8455 F1: 0.5928853754940713 Roc_auc 0.7373389063044236\n",
      "est 229 Глубина: 19 результат 0.8455 F1: 0.5939553219448095 Roc_auc 0.7382599945818337\n",
      "est 210 Глубина: 20 результат 0.8485 F1: 0.5976095617529881 Roc_auc 0.7392197840473703\n",
      "est 211 Глубина: 20 результат 0.848 F1: 0.5978835978835979 Roc_auc 0.7398273927009559\n",
      "est 212 Глубина: 20 результат 0.8485 F1: 0.5986754966887416 Roc_auc 0.7401408723247803\n",
      "est 213 Глубина: 20 результат 0.8485 F1: 0.5986754966887416 Roc_auc 0.7401408723247803\n",
      "est 214 Глубина: 20 результат 0.8505 F1: 0.6018641810918774 Roc_auc 0.7413947908200783\n",
      "est 215 Глубина: 20 результат 0.8495 F1: 0.6013245033112582 Roc_auc 0.7416889198498394\n",
      "est 216 Глубина: 20 результат 0.8485 F1: 0.5986754966887416 Roc_auc 0.7401408723247803\n",
      "est 217 Глубина: 20 результат 0.849 F1: 0.6005291005291006 Roc_auc 0.7413754402260149\n",
      "est 218 Глубина: 20 результат 0.849 F1: 0.6005291005291006 Roc_auc 0.7413754402260149\n",
      "est 219 Глубина: 20 результат 0.849 F1: 0.6005291005291006 Roc_auc 0.7413754402260149\n",
      "est 220 Глубина: 20 результат 0.849 F1: 0.5994694960212201 Roc_auc 0.7404543519486049\n",
      "est 221 Глубина: 20 результат 0.8485 F1: 0.5997357992073977 Roc_auc 0.7410619606021904\n",
      "est 222 Глубина: 20 результат 0.8475 F1: 0.5970937912813739 Roc_auc 0.7395139130771314\n",
      "est 223 Глубина: 20 результат 0.848 F1: 0.5978835978835979 Roc_auc 0.7398273927009559\n",
      "est 224 Глубина: 20 результат 0.849 F1: 0.5994694960212201 Roc_auc 0.7404543519486049\n",
      "est 225 Глубина: 20 результат 0.8475 F1: 0.5970937912813739 Roc_auc 0.7395139130771314\n",
      "est 226 Глубина: 20 результат 0.8495 F1: 0.5992010652463382 Roc_auc 0.7398467432950191\n",
      "est 227 Глубина: 20 результат 0.8465 F1: 0.5944517833553501 Roc_auc 0.7379658655520724\n",
      "est 228 Глубина: 20 результат 0.848 F1: 0.596816976127321 Roc_auc 0.7389063044235459\n",
      "est 229 Глубина: 20 результат 0.8475 F1: 0.5960264900662252 Roc_auc 0.7385928247997213\n",
      "est 210 Глубина: 21 результат 0.8465 F1: 0.5933774834437086 Roc_auc 0.7370447772746623\n",
      "est 211 Глубина: 21 результат 0.845 F1: 0.5899470899470899 Roc_auc 0.7351832501257788\n",
      "est 212 Глубина: 21 результат 0.846 F1: 0.5925925925925926 Roc_auc 0.7367312976508379\n",
      "est 213 Глубина: 21 результат 0.845 F1: 0.5899470899470899 Roc_auc 0.7351832501257788\n",
      "est 214 Глубина: 21 результат 0.844 F1: 0.5873015873015872 Roc_auc 0.7336352026007199\n",
      "est 215 Глубина: 21 результат 0.8455 F1: 0.590728476821192 Roc_auc 0.7354967297496032\n",
      "est 216 Глубина: 21 результат 0.8445 F1: 0.5891677675033025 Roc_auc 0.7348697705019543\n",
      "est 217 Глубина: 21 результат 0.8455 F1: 0.590728476821192 Roc_auc 0.7354967297496032\n",
      "est 218 Глубина: 21 результат 0.8445 F1: 0.5880794701986755 Roc_auc 0.7339486822245442\n",
      "est 219 Глубина: 21 результат 0.8455 F1: 0.590728476821192 Roc_auc 0.7354967297496032\n",
      "est 220 Глубина: 21 результат 0.846 F1: 0.5915119363395225 Roc_auc 0.7358102093734277\n",
      "est 221 Глубина: 21 результат 0.8465 F1: 0.5933774834437086 Roc_auc 0.7370447772746623\n",
      "est 222 Глубина: 21 результат 0.8455 F1: 0.5918097754293262 Roc_auc 0.7364178180270134\n",
      "est 223 Глубина: 21 результат 0.8455 F1: 0.5918097754293262 Roc_auc 0.7364178180270134\n",
      "est 224 Глубина: 21 результат 0.8455 F1: 0.5918097754293262 Roc_auc 0.7364178180270134\n",
      "est 225 Глубина: 21 результат 0.8455 F1: 0.5918097754293262 Roc_auc 0.7364178180270134\n",
      "est 226 Глубина: 21 результат 0.8445 F1: 0.5880794701986755 Roc_auc 0.7339486822245442\n",
      "est 227 Глубина: 21 результат 0.8455 F1: 0.590728476821192 Roc_auc 0.7354967297496032\n",
      "est 228 Глубина: 21 результат 0.845 F1: 0.5899470899470899 Roc_auc 0.7351832501257788\n",
      "est 229 Глубина: 21 результат 0.846 F1: 0.5925925925925926 Roc_auc 0.7367312976508379\n",
      "est 210 Глубина: 22 результат 0.8485 F1: 0.5954606141522031 Roc_auc 0.73737760749255\n",
      "est 211 Глубина: 22 результат 0.8485 F1: 0.5954606141522031 Roc_auc 0.73737760749255\n",
      "est 212 Глубина: 22 результат 0.849 F1: 0.5951742627345844 Roc_auc 0.7367699988389644\n",
      "est 213 Глубина: 22 результат 0.85 F1: 0.5989304812834224 Roc_auc 0.7392391346414335\n",
      "est 214 Глубина: 22 результат 0.8495 F1: 0.5970548862115127 Roc_auc 0.7380045667401989\n",
      "est 215 Глубина: 22 результат 0.85 F1: 0.5989304812834224 Roc_auc 0.7392391346414335\n",
      "est 216 Глубина: 22 результат 0.849 F1: 0.5962566844919786 Roc_auc 0.7376910871163744\n",
      "est 217 Глубина: 22 результат 0.8495 F1: 0.5970548862115127 Roc_auc 0.7380045667401989\n",
      "est 218 Глубина: 22 результат 0.849 F1: 0.5951742627345844 Roc_auc 0.7367699988389644\n",
      "est 219 Глубина: 22 результат 0.8495 F1: 0.5970548862115127 Roc_auc 0.7380045667401989\n",
      "est 220 Глубина: 22 результат 0.8495 F1: 0.5959731543624162 Roc_auc 0.7370834784627889\n",
      "est 221 Глубина: 22 результат 0.849 F1: 0.5951742627345844 Roc_auc 0.7367699988389644\n",
      "est 222 Глубина: 22 результат 0.849 F1: 0.5951742627345844 Roc_auc 0.7367699988389644\n",
      "est 223 Глубина: 22 результат 0.8485 F1: 0.5932885906040269 Roc_auc 0.7355354309377298\n",
      "est 224 Глубина: 22 результат 0.8485 F1: 0.5932885906040269 Roc_auc 0.7355354309377298\n",
      "est 225 Глубина: 22 результат 0.8485 F1: 0.5932885906040269 Roc_auc 0.7355354309377298\n",
      "est 226 Глубина: 22 результат 0.8495 F1: 0.5959731543624162 Roc_auc 0.7370834784627889\n",
      "est 227 Глубина: 22 результат 0.8485 F1: 0.5932885906040269 Roc_auc 0.7355354309377298\n",
      "est 228 Глубина: 22 результат 0.849 F1: 0.5940860215053764 Roc_auc 0.7358489105615542\n",
      "est 229 Глубина: 22 результат 0.849 F1: 0.5940860215053764 Roc_auc 0.7358489105615542\n",
      "est 210 Глубина: 23 результат 0.8515 F1: 0.6013422818791946 Roc_auc 0.7401795735129069\n",
      "est 211 Глубина: 23 результат 0.852 F1: 0.6042780748663101 Roc_auc 0.7423352296915515\n",
      "est 212 Глубина: 23 результат 0.852 F1: 0.6021505376344085 Roc_auc 0.7404930531367313\n",
      "est 213 Глубина: 23 результат 0.8505 F1: 0.5997322623828647 Roc_auc 0.739552614265258\n",
      "est 214 Глубина: 23 результат 0.8525 F1: 0.6029609690444145 Roc_auc 0.7408065327605557\n",
      "est 215 Глубина: 23 результат 0.8505 F1: 0.5997322623828647 Roc_auc 0.739552614265258\n",
      "est 216 Глубина: 23 результат 0.852 F1: 0.6021505376344085 Roc_auc 0.7404930531367313\n",
      "est 217 Глубина: 23 результат 0.851 F1: 0.6005361930294906 Roc_auc 0.7398660938890824\n",
      "est 218 Глубина: 23 результат 0.852 F1: 0.6021505376344085 Roc_auc 0.7404930531367313\n",
      "est 219 Глубина: 23 результат 0.851 F1: 0.6016042780748663 Roc_auc 0.7407871821664925\n",
      "est 220 Глубина: 23 результат 0.852 F1: 0.6032171581769437 Roc_auc 0.7414141414141414\n",
      "est 221 Глубина: 23 результат 0.8525 F1: 0.6050870147255689 Roc_auc 0.742648709315376\n",
      "est 222 Глубина: 23 результат 0.8515 F1: 0.6002691790040376 Roc_auc 0.7392584852354966\n",
      "est 223 Глубина: 23 результат 0.851 F1: 0.6005361930294906 Roc_auc 0.7398660938890824\n",
      "est 224 Глубина: 23 результат 0.852 F1: 0.6010781671159029 Roc_auc 0.7395719648593211\n",
      "est 225 Глубина: 23 результат 0.852 F1: 0.6021505376344085 Roc_auc 0.7404930531367313\n",
      "est 226 Глубина: 23 результат 0.8535 F1: 0.6045883940620782 Roc_auc 0.7414334920082046\n",
      "est 227 Глубина: 23 результат 0.8525 F1: 0.6029609690444145 Roc_auc 0.7408065327605557\n",
      "est 228 Глубина: 23 результат 0.8525 F1: 0.6018893387314439 Roc_auc 0.7398854444831456\n",
      "est 229 Глубина: 23 результат 0.851 F1: 0.6005361930294906 Roc_auc 0.7398660938890824\n",
      "est 210 Глубина: 24 результат 0.8515 F1: 0.6055776892430278 Roc_auc 0.7438639266225473\n",
      "est 211 Глубина: 24 результат 0.8515 F1: 0.6066225165562914 Roc_auc 0.7447850148999574\n",
      "est 212 Глубина: 24 результат 0.8515 F1: 0.6045272969374167 Roc_auc 0.7429428383451372\n",
      "est 213 Глубина: 24 результат 0.851 F1: 0.6058201058201059 Roc_auc 0.7444715352761331\n",
      "est 214 Глубина: 24 результат 0.851 F1: 0.6047745358090186 Roc_auc 0.7435504469987227\n",
      "est 215 Глубина: 24 результат 0.8505 F1: 0.6039735099337749 Roc_auc 0.7432369673748984\n",
      "est 216 Глубина: 24 результат 0.8505 F1: 0.6039735099337749 Roc_auc 0.7432369673748984\n",
      "est 217 Глубина: 24 результат 0.8505 F1: 0.6039735099337749 Roc_auc 0.7432369673748984\n",
      "est 218 Глубина: 24 результат 0.8515 F1: 0.6055776892430278 Roc_auc 0.7438639266225473\n",
      "est 219 Глубина: 24 результат 0.8515 F1: 0.6055776892430278 Roc_auc 0.7438639266225473\n",
      "est 220 Глубина: 24 результат 0.852 F1: 0.6053333333333333 Roc_auc 0.7432563179689616\n",
      "est 221 Глубина: 24 результат 0.851 F1: 0.6047745358090186 Roc_auc 0.7435504469987227\n",
      "est 222 Глубина: 24 результат 0.851 F1: 0.6037234042553192 Roc_auc 0.7426293587213129\n",
      "est 223 Глубина: 24 результат 0.8495 F1: 0.6034255599472991 Roc_auc 0.7435310964046596\n",
      "est 224 Глубина: 24 результат 0.8505 F1: 0.6039735099337749 Roc_auc 0.7432369673748984\n",
      "est 225 Глубина: 24 результат 0.85 F1: 0.6031746031746031 Roc_auc 0.742923487751074\n",
      "est 226 Глубина: 24 результат 0.852 F1: 0.6053333333333333 Roc_auc 0.7432563179689616\n",
      "est 227 Глубина: 24 результат 0.851 F1: 0.6037234042553192 Roc_auc 0.7426293587213129\n",
      "est 228 Глубина: 24 результат 0.8515 F1: 0.6045272969374167 Roc_auc 0.7429428383451372\n",
      "est 229 Глубина: 24 результат 0.8505 F1: 0.6029216467463479 Roc_auc 0.7423158790974882\n",
      "est 210 Глубина: 25 результат 0.851 F1: 0.6047745358090186 Roc_auc 0.7435504469987227\n",
      "est 211 Глубина: 25 результат 0.851 F1: 0.6047745358090186 Roc_auc 0.7435504469987227\n",
      "est 212 Глубина: 25 результат 0.8515 F1: 0.6045272969374167 Roc_auc 0.7429428383451372\n",
      "est 213 Глубина: 25 результат 0.8515 F1: 0.6055776892430278 Roc_auc 0.7438639266225473\n",
      "est 214 Глубина: 25 результат 0.851 F1: 0.6037234042553192 Roc_auc 0.7426293587213129\n",
      "est 215 Глубина: 25 результат 0.85 F1: 0.6021220159151194 Roc_auc 0.7420023994736638\n",
      "est 216 Глубина: 25 результат 0.8495 F1: 0.600265604249668 Roc_auc 0.7407678315724292\n",
      "est 217 Глубина: 25 результат 0.8495 F1: 0.6023778071334214 Roc_auc 0.7426100081272494\n",
      "est 218 Глубина: 25 результат 0.8495 F1: 0.6013245033112582 Roc_auc 0.7416889198498394\n",
      "est 219 Глубина: 25 результат 0.8485 F1: 0.5997357992073977 Roc_auc 0.7410619606021904\n",
      "est 220 Глубина: 25 результат 0.8485 F1: 0.5986754966887416 Roc_auc 0.7401408723247803\n",
      "est 221 Глубина: 25 результат 0.8485 F1: 0.5986754966887416 Roc_auc 0.7401408723247803\n",
      "est 222 Глубина: 25 результат 0.849 F1: 0.598404255319149 Roc_auc 0.7395332636711947\n",
      "est 223 Глубина: 25 результат 0.849 F1: 0.598404255319149 Roc_auc 0.7395332636711947\n",
      "est 224 Глубина: 25 результат 0.85 F1: 0.6 Roc_auc 0.7401602229188436\n",
      "est 225 Глубина: 25 результат 0.85 F1: 0.6010638297872342 Roc_auc 0.7410813111962536\n",
      "est 226 Глубина: 25 результат 0.851 F1: 0.6026666666666666 Roc_auc 0.7417082704439026\n",
      "est 227 Глубина: 25 результат 0.851 F1: 0.6026666666666666 Roc_auc 0.7417082704439026\n",
      "est 228 Глубина: 25 результат 0.851 F1: 0.6026666666666666 Roc_auc 0.7417082704439026\n",
      "est 229 Глубина: 25 результат 0.8515 F1: 0.6045272969374167 Roc_auc 0.7429428383451372\n",
      "est 210 Глубина: 26 результат 0.8525 F1: 0.6061415220293724 Roc_auc 0.7435697975927861\n",
      "est 211 Глубина: 26 результат 0.8505 F1: 0.6029216467463479 Roc_auc 0.7423158790974882\n",
      "est 212 Глубина: 26 результат 0.852 F1: 0.6053333333333333 Roc_auc 0.7432563179689616\n",
      "est 213 Глубина: 26 результат 0.8495 F1: 0.6013245033112582 Roc_auc 0.7416889198498394\n",
      "est 214 Глубина: 26 результат 0.851 F1: 0.6037234042553192 Roc_auc 0.7426293587213129\n",
      "est 215 Глубина: 26 результат 0.849 F1: 0.6005291005291006 Roc_auc 0.7413754402260149\n",
      "est 216 Глубина: 26 результат 0.8495 F1: 0.600265604249668 Roc_auc 0.7407678315724292\n",
      "est 217 Глубина: 26 результат 0.85 F1: 0.6031746031746031 Roc_auc 0.742923487751074\n",
      "est 218 Глубина: 26 результат 0.85 F1: 0.6021220159151194 Roc_auc 0.7420023994736638\n",
      "est 219 Глубина: 26 результат 0.8495 F1: 0.6013245033112582 Roc_auc 0.7416889198498394\n",
      "est 220 Глубина: 26 результат 0.8505 F1: 0.6029216467463479 Roc_auc 0.7423158790974882\n",
      "est 221 Глубина: 26 результат 0.8495 F1: 0.6013245033112582 Roc_auc 0.7416889198498394\n",
      "est 222 Глубина: 26 результат 0.85 F1: 0.6010638297872342 Roc_auc 0.7410813111962536\n",
      "est 223 Глубина: 26 результат 0.8495 F1: 0.600265604249668 Roc_auc 0.7407678315724292\n",
      "est 224 Глубина: 26 результат 0.85 F1: 0.6010638297872342 Roc_auc 0.7410813111962536\n",
      "est 225 Глубина: 26 результат 0.8505 F1: 0.6029216467463479 Roc_auc 0.7423158790974882\n",
      "est 226 Глубина: 26 результат 0.852 F1: 0.6053333333333333 Roc_auc 0.7432563179689616\n",
      "est 227 Глубина: 26 результат 0.851 F1: 0.6037234042553192 Roc_auc 0.7426293587213129\n",
      "est 228 Глубина: 26 результат 0.851 F1: 0.6016042780748663 Roc_auc 0.7407871821664925\n",
      "est 229 Глубина: 26 результат 0.851 F1: 0.6037234042553192 Roc_auc 0.7426293587213129\n",
      "est 210 Глубина: 27 результат 0.8535 F1: 0.6098535286284953 Roc_auc 0.7460389333952553\n",
      "est 211 Глубина: 27 результат 0.8525 F1: 0.6082337317397079 Roc_auc 0.7454119741476064\n",
      "est 212 Глубина: 27 результат 0.8525 F1: 0.6061415220293724 Roc_auc 0.7435697975927861\n",
      "est 213 Глубина: 27 результат 0.852 F1: 0.6063829787234044 Roc_auc 0.7441774062463717\n",
      "est 214 Глубина: 27 результат 0.8525 F1: 0.607190412782956 Roc_auc 0.7444908858701962\n",
      "est 215 Глубина: 27 результат 0.8515 F1: 0.6066225165562914 Roc_auc 0.7447850148999574\n",
      "est 216 Глубина: 27 результат 0.852 F1: 0.6074270557029179 Roc_auc 0.745098494523782\n",
      "est 217 Глубина: 27 результат 0.8515 F1: 0.6066225165562914 Roc_auc 0.7447850148999574\n",
      "est 218 Глубина: 27 результат 0.851 F1: 0.6047745358090186 Roc_auc 0.7435504469987227\n",
      "est 219 Глубина: 27 результат 0.851 F1: 0.6047745358090186 Roc_auc 0.7435504469987227\n",
      "est 220 Глубина: 27 результат 0.851 F1: 0.6037234042553192 Roc_auc 0.7426293587213129\n",
      "est 221 Глубина: 27 результат 0.8515 F1: 0.6055776892430278 Roc_auc 0.7438639266225473\n",
      "est 222 Глубина: 27 результат 0.8525 F1: 0.607190412782956 Roc_auc 0.7444908858701962\n",
      "est 223 Глубина: 27 результат 0.851 F1: 0.6047745358090186 Roc_auc 0.7435504469987227\n",
      "est 224 Глубина: 27 результат 0.852 F1: 0.6063829787234044 Roc_auc 0.7441774062463717\n",
      "est 225 Глубина: 27 результат 0.852 F1: 0.6063829787234044 Roc_auc 0.7441774062463717\n",
      "est 226 Глубина: 27 результат 0.852 F1: 0.6042780748663101 Roc_auc 0.7423352296915515\n",
      "est 227 Глубина: 27 результат 0.851 F1: 0.6026666666666666 Roc_auc 0.7417082704439026\n",
      "est 228 Глубина: 27 результат 0.852 F1: 0.6042780748663101 Roc_auc 0.7423352296915515\n",
      "est 229 Глубина: 27 результат 0.851 F1: 0.6026666666666666 Roc_auc 0.7417082704439026\n",
      "est 210 Глубина: 28 результат 0.8535 F1: 0.6098535286284953 Roc_auc 0.7460389333952553\n",
      "est 211 Глубина: 28 результат 0.8525 F1: 0.6082337317397079 Roc_auc 0.7454119741476064\n",
      "est 212 Глубина: 28 результат 0.8525 F1: 0.6061415220293724 Roc_auc 0.7435697975927861\n",
      "est 213 Глубина: 28 результат 0.852 F1: 0.6063829787234044 Roc_auc 0.7441774062463717\n",
      "est 214 Глубина: 28 результат 0.8525 F1: 0.607190412782956 Roc_auc 0.7444908858701962\n",
      "est 215 Глубина: 28 результат 0.8515 F1: 0.6066225165562914 Roc_auc 0.7447850148999574\n",
      "est 216 Глубина: 28 результат 0.852 F1: 0.6074270557029179 Roc_auc 0.745098494523782\n",
      "est 217 Глубина: 28 результат 0.8515 F1: 0.6066225165562914 Roc_auc 0.7447850148999574\n",
      "est 218 Глубина: 28 результат 0.851 F1: 0.6047745358090186 Roc_auc 0.7435504469987227\n",
      "est 219 Глубина: 28 результат 0.851 F1: 0.6047745358090186 Roc_auc 0.7435504469987227\n",
      "est 220 Глубина: 28 результат 0.851 F1: 0.6037234042553192 Roc_auc 0.7426293587213129\n",
      "est 221 Глубина: 28 результат 0.8515 F1: 0.6055776892430278 Roc_auc 0.7438639266225473\n",
      "est 222 Глубина: 28 результат 0.8525 F1: 0.607190412782956 Roc_auc 0.7444908858701962\n",
      "est 223 Глубина: 28 результат 0.851 F1: 0.6047745358090186 Roc_auc 0.7435504469987227\n",
      "est 224 Глубина: 28 результат 0.852 F1: 0.6063829787234044 Roc_auc 0.7441774062463717\n",
      "est 225 Глубина: 28 результат 0.852 F1: 0.6063829787234044 Roc_auc 0.7441774062463717\n",
      "est 226 Глубина: 28 результат 0.852 F1: 0.6042780748663101 Roc_auc 0.7423352296915515\n",
      "est 227 Глубина: 28 результат 0.851 F1: 0.6026666666666666 Roc_auc 0.7417082704439026\n",
      "est 228 Глубина: 28 результат 0.852 F1: 0.6042780748663101 Roc_auc 0.7423352296915515\n",
      "est 229 Глубина: 28 результат 0.851 F1: 0.6026666666666666 Roc_auc 0.7417082704439026\n",
      "est 210 Глубина: 29 результат 0.8535 F1: 0.6098535286284953 Roc_auc 0.7460389333952553\n",
      "est 211 Глубина: 29 результат 0.8525 F1: 0.6082337317397079 Roc_auc 0.7454119741476064\n",
      "est 212 Глубина: 29 результат 0.8525 F1: 0.6061415220293724 Roc_auc 0.7435697975927861\n",
      "est 213 Глубина: 29 результат 0.852 F1: 0.6063829787234044 Roc_auc 0.7441774062463717\n",
      "est 214 Глубина: 29 результат 0.8525 F1: 0.607190412782956 Roc_auc 0.7444908858701962\n",
      "est 215 Глубина: 29 результат 0.8515 F1: 0.6066225165562914 Roc_auc 0.7447850148999574\n",
      "est 216 Глубина: 29 результат 0.852 F1: 0.6074270557029179 Roc_auc 0.745098494523782\n",
      "est 217 Глубина: 29 результат 0.8515 F1: 0.6066225165562914 Roc_auc 0.7447850148999574\n",
      "est 218 Глубина: 29 результат 0.851 F1: 0.6047745358090186 Roc_auc 0.7435504469987227\n",
      "est 219 Глубина: 29 результат 0.851 F1: 0.6047745358090186 Roc_auc 0.7435504469987227\n",
      "est 220 Глубина: 29 результат 0.851 F1: 0.6037234042553192 Roc_auc 0.7426293587213129\n",
      "est 221 Глубина: 29 результат 0.8515 F1: 0.6055776892430278 Roc_auc 0.7438639266225473\n",
      "est 222 Глубина: 29 результат 0.8525 F1: 0.607190412782956 Roc_auc 0.7444908858701962\n",
      "est 223 Глубина: 29 результат 0.851 F1: 0.6047745358090186 Roc_auc 0.7435504469987227\n",
      "est 224 Глубина: 29 результат 0.852 F1: 0.6063829787234044 Roc_auc 0.7441774062463717\n",
      "est 225 Глубина: 29 результат 0.852 F1: 0.6063829787234044 Roc_auc 0.7441774062463717\n",
      "est 226 Глубина: 29 результат 0.852 F1: 0.6042780748663101 Roc_auc 0.7423352296915515\n",
      "est 227 Глубина: 29 результат 0.851 F1: 0.6026666666666666 Roc_auc 0.7417082704439026\n",
      "est 228 Глубина: 29 результат 0.852 F1: 0.6042780748663101 Roc_auc 0.7423352296915515\n",
      "est 229 Глубина: 29 результат 0.851 F1: 0.6026666666666666 Roc_auc 0.7417082704439026\n",
      " \n",
      "Лучший результат cлучайного леса F1-меры: 0.6098535286284953 Глубина: 27 n_estimators 210 Roc_auc: 0.7460389333952553\n"
     ]
    }
   ],
   "source": [
    "best_model = None\n",
    "best_result = 0\n",
    "best_est = 0\n",
    "\n",
    "for depth in range(10,30):\n",
    "    for est in range(210,230):\n",
    "        model_forest = RandomForestClassifier(random_state = state,max_depth = depth, n_estimators = est)\n",
    "        model_forest.fit(features_train_up,target_train_up)\n",
    "        prediction_valid = model_forest.predict(features_valid)\n",
    "        res = model_forest.score(features_valid, target_valid)\n",
    "        F1 = f1_score(target_valid, prediction_valid)\n",
    "        Roc_auc = roc_auc_score(target_valid, prediction_valid)\n",
    "        print('est',est,'Глубина:', depth, 'результат', res, \"F1:\", F1, 'Roc_auc', Roc_auc)  \n",
    "        if best_result < F1:\n",
    "            Roc_auc_f = Roc_auc\n",
    "            best_model = model_forest\n",
    "            best_result = F1\n",
    "            best_depth = depth\n",
    "            best_forest_res_up = best_result\n",
    "            n_estimators = est\n",
    "\n",
    "print(' ')        \n",
    "print('Лучший результат cлучайного леса F1-меры:', best_forest_res_up,'Глубина:', best_depth,'n_estimators', n_estimators,'Roc_auc:', Roc_auc_f)\n"
   ]
  },
  {
   "cell_type": "code",
   "execution_count": 92,
   "metadata": {},
   "outputs": [
    {
     "name": "stdout",
     "output_type": "stream",
     "text": [
      "est 180 Глубина: 7 результат 0.8295 F1: 0.6057803468208092 Roc_auc 0.7613878246062155\n",
      "est 181 Глубина: 7 результат 0.8285 F1: 0.6025492468134415 Roc_auc 0.7589186888037462\n",
      "est 182 Глубина: 7 результат 0.8285 F1: 0.6006984866123399 Roc_auc 0.757076512248926\n",
      "est 183 Глубина: 7 результат 0.828 F1: 0.599067599067599 Roc_auc 0.7558419443476916\n",
      "est 184 Глубина: 7 результат 0.8285 F1: 0.6006984866123399 Roc_auc 0.757076512248926\n",
      "est 185 Глубина: 7 результат 0.829 F1: 0.6023255813953488 Roc_auc 0.7583110801501607\n",
      "est 186 Глубина: 7 результат 0.829 F1: 0.6023255813953488 Roc_auc 0.7583110801501607\n",
      "est 187 Глубина: 7 результат 0.829 F1: 0.6023255813953488 Roc_auc 0.7583110801501607\n",
      "est 188 Глубина: 7 результат 0.8295 F1: 0.6030267753201397 Roc_auc 0.7586245597739851\n",
      "est 189 Глубина: 7 результат 0.829 F1: 0.6013986013986015 Roc_auc 0.7573899918727505\n",
      "est 190 Глубина: 7 результат 0.829 F1: 0.6023255813953488 Roc_auc 0.7583110801501607\n",
      "est 191 Глубина: 7 результат 0.8295 F1: 0.6030267753201397 Roc_auc 0.7586245597739851\n",
      "est 192 Глубина: 7 результат 0.8285 F1: 0.6006984866123399 Roc_auc 0.757076512248926\n",
      "est 193 Глубина: 7 результат 0.8285 F1: 0.6006984866123399 Roc_auc 0.757076512248926\n",
      "est 194 Глубина: 7 результат 0.8285 F1: 0.6016260162601625 Roc_auc 0.7579976005263361\n",
      "est 195 Глубина: 7 результат 0.828 F1: 0.6 Roc_auc 0.7567630326251016\n",
      "est 196 Глубина: 7 результат 0.8275 F1: 0.5983701979045402 Roc_auc 0.755528464723867\n",
      "est 197 Глубина: 7 результат 0.827 F1: 0.5986078886310905 Roc_auc 0.7561360733774527\n",
      "est 198 Глубина: 7 результат 0.8275 F1: 0.6002317497103129 Roc_auc 0.7573706412786873\n",
      "est 199 Глубина: 7 результат 0.8275 F1: 0.6002317497103129 Roc_auc 0.7573706412786873\n",
      "est 200 Глубина: 7 результат 0.828 F1: 0.6009280742459397 Roc_auc 0.7576841209025117\n",
      "est 201 Глубина: 7 результат 0.828 F1: 0.6 Roc_auc 0.7567630326251016\n",
      "est 202 Глубина: 7 результат 0.827 F1: 0.5986078886310905 Roc_auc 0.7561360733774527\n",
      "est 203 Глубина: 7 результат 0.827 F1: 0.5976744186046512 Roc_auc 0.7552149851000426\n",
      "est 204 Глубина: 7 результат 0.826 F1: 0.5953488372093023 Roc_auc 0.7536669375749835\n",
      "est 205 Глубина: 7 результат 0.8275 F1: 0.5974329054842474 Roc_auc 0.7546073764464568\n",
      "est 206 Глубина: 7 результат 0.8265 F1: 0.5960419091967404 Roc_auc 0.7539804171988079\n",
      "est 207 Глубина: 7 результат 0.8275 F1: 0.5974329054842474 Roc_auc 0.7546073764464568\n",
      "est 208 Глубина: 7 результат 0.827 F1: 0.5967365967365966 Roc_auc 0.7542938968226324\n",
      "est 209 Глубина: 7 результат 0.828 F1: 0.599067599067599 Roc_auc 0.7558419443476916\n",
      "est 210 Глубина: 7 результат 0.8285 F1: 0.6006984866123399 Roc_auc 0.757076512248926\n",
      "est 180 Глубина: 8 результат 0.8295 F1: 0.6002344665885111 Roc_auc 0.7558612949417546\n",
      "est 181 Глубина: 8 результат 0.8285 F1: 0.5988304093567252 Roc_auc 0.7552343356941057\n",
      "est 182 Глубина: 8 результат 0.828 F1: 0.5981308411214953 Roc_auc 0.7549208560702813\n",
      "est 183 Глубина: 8 результат 0.828 F1: 0.5981308411214953 Roc_auc 0.7549208560702813\n",
      "est 184 Глубина: 8 результат 0.828 F1: 0.5981308411214953 Roc_auc 0.7549208560702813\n",
      "est 185 Глубина: 8 результат 0.8285 F1: 0.5997666277712952 Roc_auc 0.756155423971516\n",
      "est 186 Глубина: 8 результат 0.8275 F1: 0.5964912280701755 Roc_auc 0.7536862881690469\n",
      "est 187 Глубина: 8 результат 0.828 F1: 0.5971896955503513 Roc_auc 0.7539997677928714\n",
      "est 188 Глубина: 8 результат 0.828 F1: 0.5971896955503513 Roc_auc 0.7539997677928714\n",
      "est 189 Глубина: 8 результат 0.8275 F1: 0.5964912280701755 Roc_auc 0.7536862881690469\n",
      "est 190 Глубина: 8 результат 0.8275 F1: 0.5964912280701755 Roc_auc 0.7536862881690469\n",
      "est 191 Глубина: 8 результат 0.827 F1: 0.594847775175644 Roc_auc 0.7524517202678122\n",
      "est 192 Глубина: 8 результат 0.8275 F1: 0.5955451348182884 Roc_auc 0.7527651998916366\n",
      "est 193 Глубина: 8 результат 0.8285 F1: 0.5978898007033999 Roc_auc 0.7543132474166957\n",
      "est 194 Глубина: 8 результат 0.83 F1: 0.6018735362997658 Roc_auc 0.7570958628429892\n",
      "est 195 Глубина: 8 результат 0.83 F1: 0.6018735362997658 Roc_auc 0.7570958628429892\n",
      "est 196 Глубина: 8 результат 0.83 F1: 0.6018735362997658 Roc_auc 0.7570958628429892\n",
      "est 197 Глубина: 8 результат 0.829 F1: 0.5995316159250585 Roc_auc 0.7555478153179301\n",
      "est 198 Глубина: 8 результат 0.8305 F1: 0.6035087719298246 Roc_auc 0.7583304307442238\n",
      "est 199 Глубина: 8 результат 0.83 F1: 0.6018735362997658 Roc_auc 0.7570958628429892\n",
      "est 200 Глубина: 8 результат 0.83 F1: 0.602803738317757 Roc_auc 0.7580169511203994\n",
      "est 201 Глубина: 8 результат 0.829 F1: 0.5995316159250585 Roc_auc 0.7555478153179301\n",
      "est 202 Глубина: 8 результат 0.8295 F1: 0.6011695906432748 Roc_auc 0.7567823832191649\n",
      "est 203 Глубина: 8 результат 0.8285 F1: 0.5988304093567252 Roc_auc 0.7552343356941057\n",
      "est 204 Глубина: 8 результат 0.828 F1: 0.599067599067599 Roc_auc 0.7558419443476916\n",
      "est 205 Глубина: 8 результат 0.829 F1: 0.5995316159250585 Roc_auc 0.7555478153179301\n",
      "est 206 Глубина: 8 результат 0.83 F1: 0.6018735362997658 Roc_auc 0.7570958628429892\n",
      "est 207 Глубина: 8 результат 0.829 F1: 0.5995316159250585 Roc_auc 0.7555478153179301\n",
      "est 208 Глубина: 8 результат 0.8295 F1: 0.6011695906432748 Roc_auc 0.7567823832191649\n",
      "est 209 Глубина: 8 результат 0.83 F1: 0.6018735362997658 Roc_auc 0.7570958628429892\n",
      "est 210 Глубина: 8 результат 0.8285 F1: 0.5988304093567252 Roc_auc 0.7552343356941057\n",
      "est 180 Глубина: 9 результат 0.8345 F1: 0.6064209274673008 Roc_auc 0.7580750029025892\n",
      "est 181 Глубина: 9 результат 0.8345 F1: 0.6064209274673008 Roc_auc 0.7580750029025892\n",
      "est 182 Глубина: 9 результат 0.8345 F1: 0.6064209274673008 Roc_auc 0.7580750029025892\n",
      "est 183 Глубина: 9 результат 0.8345 F1: 0.6064209274673008 Roc_auc 0.7580750029025892\n",
      "est 184 Глубина: 9 результат 0.8345 F1: 0.6064209274673008 Roc_auc 0.7580750029025892\n",
      "est 185 Глубина: 9 результат 0.8345 F1: 0.6064209274673008 Roc_auc 0.7580750029025892\n",
      "est 186 Глубина: 9 результат 0.834 F1: 0.6047619047619048 Roc_auc 0.7568404350013545\n",
      "est 187 Глубина: 9 результат 0.834 F1: 0.6047619047619048 Roc_auc 0.7568404350013545\n",
      "est 188 Глубина: 9 результат 0.8345 F1: 0.6064209274673008 Roc_auc 0.7580750029025892\n",
      "est 189 Глубина: 9 результат 0.8345 F1: 0.6073546856465006 Roc_auc 0.7589960911799992\n",
      "est 190 Глубина: 9 результат 0.834 F1: 0.6066350710900474 Roc_auc 0.7586826115561748\n",
      "est 191 Глубина: 9 результат 0.834 F1: 0.6057007125890737 Roc_auc 0.7577615232787648\n",
      "est 192 Глубина: 9 результат 0.834 F1: 0.6066350710900474 Roc_auc 0.7586826115561748\n",
      "est 193 Глубина: 9 результат 0.8345 F1: 0.6064209274673008 Roc_auc 0.7580750029025892\n",
      "est 194 Глубина: 9 результат 0.834 F1: 0.6047619047619048 Roc_auc 0.7568404350013545\n",
      "est 195 Глубина: 9 результат 0.8355 F1: 0.6087990487514864 Roc_auc 0.759623050427648\n",
      "est 196 Глубина: 9 результат 0.835 F1: 0.6071428571428571 Roc_auc 0.7583884825264137\n",
      "est 197 Глубина: 9 результат 0.8335 F1: 0.604982206405694 Roc_auc 0.7574480436549402\n",
      "est 198 Глубина: 9 результат 0.833 F1: 0.6042654028436019 Roc_auc 0.7571345640311158\n",
      "est 199 Глубина: 9 результат 0.8335 F1: 0.604982206405694 Roc_auc 0.7574480436549402\n",
      "est 200 Глубина: 9 результат 0.833 F1: 0.6033254156769597 Roc_auc 0.7562134757537056\n",
      "est 201 Глубина: 9 результат 0.833 F1: 0.6033254156769597 Roc_auc 0.7562134757537056\n",
      "est 202 Глубина: 9 результат 0.8335 F1: 0.604982206405694 Roc_auc 0.7574480436549402\n",
      "est 203 Глубина: 9 результат 0.834 F1: 0.6047619047619048 Roc_auc 0.7568404350013545\n",
      "est 204 Глубина: 9 результат 0.834 F1: 0.6057007125890737 Roc_auc 0.7577615232787648\n",
      "est 205 Глубина: 9 результат 0.834 F1: 0.6047619047619048 Roc_auc 0.7568404350013545\n",
      "est 206 Глубина: 9 результат 0.8345 F1: 0.6054827175208581 Roc_auc 0.7571539146251789\n",
      "est 207 Глубина: 9 результат 0.835 F1: 0.6071428571428571 Roc_auc 0.7583884825264137\n",
      "est 208 Глубина: 9 результат 0.835 F1: 0.6071428571428571 Roc_auc 0.7583884825264137\n",
      "est 209 Глубина: 9 результат 0.835 F1: 0.6071428571428571 Roc_auc 0.7583884825264137\n",
      "est 210 Глубина: 9 результат 0.8345 F1: 0.6054827175208581 Roc_auc 0.7571539146251789\n",
      "est 180 Глубина: 10 результат 0.834 F1: 0.5941320293398533 Roc_auc 0.7467084639498434\n",
      "est 181 Глубина: 10 результат 0.8335 F1: 0.5934065934065934 Roc_auc 0.7463949843260189\n",
      "est 182 Глубина: 10 результат 0.8335 F1: 0.5934065934065934 Roc_auc 0.7463949843260189\n",
      "est 183 Глубина: 10 результат 0.8335 F1: 0.5934065934065934 Roc_auc 0.7463949843260189\n",
      "est 184 Глубина: 10 результат 0.8335 F1: 0.5934065934065934 Roc_auc 0.7463949843260189\n",
      "est 185 Глубина: 10 результат 0.8335 F1: 0.5934065934065934 Roc_auc 0.7463949843260189\n",
      "est 186 Глубина: 10 результат 0.834 F1: 0.5951219512195123 Roc_auc 0.7476295522272535\n",
      "est 187 Глубина: 10 результат 0.8335 F1: 0.5934065934065934 Roc_auc 0.7463949843260189\n",
      "est 188 Глубина: 10 результат 0.8335 F1: 0.5934065934065934 Roc_auc 0.7463949843260189\n",
      "est 189 Глубина: 10 результат 0.8335 F1: 0.5934065934065934 Roc_auc 0.7463949843260189\n",
      "est 190 Глубина: 10 результат 0.8335 F1: 0.5934065934065934 Roc_auc 0.7463949843260189\n",
      "est 191 Глубина: 10 результат 0.8335 F1: 0.5943970767356883 Roc_auc 0.747316072603429\n",
      "est 192 Глубина: 10 результат 0.8325 F1: 0.5919610231425091 Roc_auc 0.7457680250783699\n",
      "est 193 Глубина: 10 результат 0.833 F1: 0.5926829268292683 Roc_auc 0.7460815047021944\n",
      "est 194 Глубина: 10 результат 0.8325 F1: 0.590964590964591 Roc_auc 0.7448469368009598\n",
      "est 195 Глубина: 10 результат 0.833 F1: 0.5926829268292683 Roc_auc 0.7460815047021944\n",
      "est 196 Глубина: 10 результат 0.833 F1: 0.5926829268292683 Roc_auc 0.7460815047021944\n",
      "est 197 Глубина: 10 результат 0.833 F1: 0.5926829268292683 Roc_auc 0.7460815047021944\n",
      "est 198 Глубина: 10 результат 0.8335 F1: 0.5943970767356883 Roc_auc 0.747316072603429\n",
      "est 199 Глубина: 10 результат 0.833 F1: 0.5936739659367396 Roc_auc 0.7470025929796045\n",
      "est 200 Глубина: 10 результат 0.8335 F1: 0.5943970767356883 Roc_auc 0.747316072603429\n",
      "est 201 Глубина: 10 результат 0.834 F1: 0.5951219512195123 Roc_auc 0.7476295522272535\n",
      "est 202 Глубина: 10 результат 0.8335 F1: 0.5934065934065934 Roc_auc 0.7463949843260189\n",
      "est 203 Глубина: 10 результат 0.8335 F1: 0.5934065934065934 Roc_auc 0.7463949843260189\n",
      "est 204 Глубина: 10 результат 0.8335 F1: 0.5934065934065934 Roc_auc 0.7463949843260189\n",
      "est 205 Глубина: 10 результат 0.8335 F1: 0.5934065934065934 Roc_auc 0.7463949843260189\n",
      "est 206 Глубина: 10 результат 0.833 F1: 0.5926829268292683 Roc_auc 0.7460815047021944\n",
      "est 207 Глубина: 10 результат 0.833 F1: 0.5926829268292683 Roc_auc 0.7460815047021944\n",
      "est 208 Глубина: 10 результат 0.8325 F1: 0.5919610231425091 Roc_auc 0.7457680250783699\n",
      "est 209 Глубина: 10 результат 0.833 F1: 0.5926829268292683 Roc_auc 0.7460815047021944\n",
      "est 210 Глубина: 10 результат 0.833 F1: 0.5926829268292683 Roc_auc 0.7460815047021944\n",
      "est 180 Глубина: 11 результат 0.8365 F1: 0.5967940813810111 Roc_auc 0.7473547737915553\n",
      "est 181 Глубина: 11 результат 0.8365 F1: 0.5977859778597786 Roc_auc 0.7482758620689656\n",
      "est 182 Глубина: 11 результат 0.836 F1: 0.597051597051597 Roc_auc 0.7479623824451411\n",
      "est 183 Глубина: 11 результат 0.836 F1: 0.597051597051597 Roc_auc 0.7479623824451411\n",
      "est 184 Глубина: 11 результат 0.836 F1: 0.597051597051597 Roc_auc 0.7479623824451411\n",
      "est 185 Глубина: 11 результат 0.837 F1: 0.5985221674876847 Roc_auc 0.74858934169279\n",
      "est 186 Глубина: 11 результат 0.8355 F1: 0.5953259532595326 Roc_auc 0.7467278145439065\n",
      "est 187 Глубина: 11 результат 0.836 F1: 0.5960591133004927 Roc_auc 0.7470412941677309\n",
      "est 188 Глубина: 11 результат 0.835 F1: 0.5945945945945945 Roc_auc 0.746414334920082\n",
      "est 189 Глубина: 11 результат 0.8355 F1: 0.596319018404908 Roc_auc 0.7476489028213167\n",
      "est 190 Глубина: 11 результат 0.8355 F1: 0.596319018404908 Roc_auc 0.7476489028213167\n",
      "est 191 Глубина: 11 результат 0.8355 F1: 0.596319018404908 Roc_auc 0.7476489028213167\n",
      "est 192 Глубина: 11 результат 0.8355 F1: 0.596319018404908 Roc_auc 0.7476489028213167\n",
      "est 193 Глубина: 11 результат 0.835 F1: 0.5945945945945945 Roc_auc 0.746414334920082\n",
      "est 194 Глубина: 11 результат 0.8365 F1: 0.5977859778597786 Roc_auc 0.7482758620689656\n",
      "est 195 Глубина: 11 результат 0.8355 F1: 0.596319018404908 Roc_auc 0.7476489028213167\n",
      "est 196 Глубина: 11 результат 0.837 F1: 0.5985221674876847 Roc_auc 0.74858934169279\n",
      "est 197 Глубина: 11 результат 0.8365 F1: 0.5977859778597786 Roc_auc 0.7482758620689656\n",
      "est 198 Глубина: 11 результат 0.8375 F1: 0.5992601726263872 Roc_auc 0.7489028213166145\n",
      "est 199 Глубина: 11 результат 0.8375 F1: 0.5992601726263872 Roc_auc 0.7489028213166145\n",
      "est 200 Глубина: 11 результат 0.836 F1: 0.597051597051597 Roc_auc 0.7479623824451411\n",
      "est 201 Глубина: 11 результат 0.8365 F1: 0.5967940813810111 Roc_auc 0.7473547737915553\n",
      "est 202 Глубина: 11 результат 0.8365 F1: 0.5977859778597786 Roc_auc 0.7482758620689656\n",
      "est 203 Глубина: 11 результат 0.8365 F1: 0.5977859778597786 Roc_auc 0.7482758620689656\n",
      "est 204 Глубина: 11 результат 0.837 F1: 0.5985221674876847 Roc_auc 0.74858934169279\n",
      "est 205 Глубина: 11 результат 0.8365 F1: 0.5977859778597786 Roc_auc 0.7482758620689656\n",
      "est 206 Глубина: 11 результат 0.838 F1: 0.6 Roc_auc 0.7492163009404389\n",
      "est 207 Глубина: 11 результат 0.8375 F1: 0.5992601726263872 Roc_auc 0.7489028213166145\n",
      "est 208 Глубина: 11 результат 0.837 F1: 0.5985221674876847 Roc_auc 0.74858934169279\n",
      "est 209 Глубина: 11 результат 0.837 F1: 0.5975308641975309 Roc_auc 0.7476682534153798\n",
      "est 210 Глубина: 11 результат 0.837 F1: 0.5985221674876847 Roc_auc 0.74858934169279\n",
      "est 180 Глубина: 12 результат 0.838 F1: 0.593984962406015 Roc_auc 0.7436897712759781\n",
      "est 181 Глубина: 12 результат 0.837 F1: 0.5935162094763092 Roc_auc 0.7439839003057394\n",
      "est 182 Глубина: 12 результат 0.8385 F1: 0.5957446808510639 Roc_auc 0.7449243391772128\n",
      "est 183 Глубина: 12 результат 0.839 F1: 0.5954773869346733 Roc_auc 0.744316730523627\n",
      "est 184 Глубина: 12 результат 0.838 F1: 0.595 Roc_auc 0.7446108595533883\n",
      "est 185 Глубина: 12 результат 0.8375 F1: 0.5932415519399248 Roc_auc 0.7433762916521536\n",
      "est 186 Глубина: 12 результат 0.8375 F1: 0.5932415519399248 Roc_auc 0.7433762916521536\n",
      "est 187 Глубина: 12 результат 0.837 F1: 0.5935162094763092 Roc_auc 0.7439839003057394\n",
      "est 188 Глубина: 12 результат 0.839 F1: 0.5964912280701755 Roc_auc 0.7452378188010372\n",
      "est 189 Глубина: 12 результат 0.838 F1: 0.595 Roc_auc 0.7446108595533883\n",
      "est 190 Глубина: 12 результат 0.839 F1: 0.5964912280701755 Roc_auc 0.7452378188010372\n",
      "est 191 Глубина: 12 результат 0.84 F1: 0.598997493734336 Roc_auc 0.7467858663260962\n",
      "est 192 Глубина: 12 результат 0.839 F1: 0.5964912280701755 Roc_auc 0.7452378188010372\n",
      "est 193 Глубина: 12 результат 0.839 F1: 0.5975 Roc_auc 0.7461589070784472\n",
      "est 194 Глубина: 12 результат 0.8395 F1: 0.5982478097622028 Roc_auc 0.7464723867022718\n",
      "est 195 Глубина: 12 результат 0.8385 F1: 0.597758405977584 Roc_auc 0.746766515732033\n",
      "est 196 Глубина: 12 результат 0.839 F1: 0.5985037406483791 Roc_auc 0.7470799953558573\n",
      "est 197 Глубина: 12 результат 0.839 F1: 0.5985037406483791 Roc_auc 0.7470799953558573\n",
      "est 198 Глубина: 12 результат 0.838 F1: 0.5970149253731343 Roc_auc 0.7464530361082086\n",
      "est 199 Глубина: 12 результат 0.838 F1: 0.5970149253731343 Roc_auc 0.7464530361082086\n",
      "est 200 Глубина: 12 результат 0.8395 F1: 0.599250936329588 Roc_auc 0.7473934749796818\n",
      "est 201 Глубина: 12 результат 0.8375 F1: 0.5962732919254657 Roc_auc 0.746139556484384\n",
      "est 202 Глубина: 12 результат 0.838 F1: 0.598014888337469 Roc_auc 0.7473741243856188\n",
      "est 203 Глубина: 12 результат 0.8385 F1: 0.597758405977584 Roc_auc 0.746766515732033\n",
      "est 204 Глубина: 12 результат 0.8395 F1: 0.6002490660024907 Roc_auc 0.748314563257092\n",
      "est 205 Глубина: 12 результат 0.839 F1: 0.599502487562189 Roc_auc 0.7480010836332676\n",
      "est 206 Глубина: 12 результат 0.8385 F1: 0.597758405977584 Roc_auc 0.746766515732033\n",
      "est 207 Глубина: 12 результат 0.84 F1: 0.6009975062344141 Roc_auc 0.7486280428809164\n",
      "est 208 Глубина: 12 результат 0.8395 F1: 0.599250936329588 Roc_auc 0.7473934749796818\n",
      "est 209 Глубина: 12 результат 0.8395 F1: 0.6002490660024907 Roc_auc 0.748314563257092\n",
      "est 210 Глубина: 12 результат 0.8385 F1: 0.597758405977584 Roc_auc 0.746766515732033\n",
      "est 180 Глубина: 13 результат 0.8415 F1: 0.5972045743329097 Roc_auc 0.744041952087929\n",
      "est 181 Глубина: 13 результат 0.84 F1: 0.5939086294416245 Roc_auc 0.7421804249390457\n",
      "est 182 Глубина: 13 результат 0.8415 F1: 0.5972045743329097 Roc_auc 0.744041952087929\n",
      "est 183 Глубина: 13 результат 0.8405 F1: 0.5956907477820026 Roc_auc 0.7434149928402802\n",
      "est 184 Глубина: 13 результат 0.841 F1: 0.5964467005076142 Roc_auc 0.7437284724641047\n",
      "est 185 Глубина: 13 результат 0.8405 F1: 0.5967130214917825 Roc_auc 0.7443360811176903\n",
      "est 186 Глубина: 13 результат 0.8415 F1: 0.5982256020278833 Roc_auc 0.7449630403653392\n",
      "est 187 Глубина: 13 результат 0.841 F1: 0.5964467005076142 Roc_auc 0.7437284724641047\n",
      "est 188 Глубина: 13 результат 0.8415 F1: 0.5972045743329097 Roc_auc 0.744041952087929\n",
      "est 189 Глубина: 13 результат 0.841 F1: 0.5954198473282443 Roc_auc 0.7428073841866946\n",
      "est 190 Глубина: 13 результат 0.8415 F1: 0.5982256020278833 Roc_auc 0.7449630403653392\n",
      "est 191 Глубина: 13 результат 0.8415 F1: 0.5982256020278833 Roc_auc 0.7449630403653392\n",
      "est 192 Глубина: 13 результат 0.8415 F1: 0.5972045743329097 Roc_auc 0.744041952087929\n",
      "est 193 Глубина: 13 результат 0.841 F1: 0.5964467005076142 Roc_auc 0.7437284724641047\n",
      "est 194 Глубина: 13 результат 0.8405 F1: 0.5956907477820026 Roc_auc 0.7434149928402802\n",
      "est 195 Глубина: 13 результат 0.8415 F1: 0.5982256020278833 Roc_auc 0.7449630403653392\n",
      "est 196 Глубина: 13 результат 0.84 F1: 0.5939086294416245 Roc_auc 0.7421804249390457\n",
      "est 197 Глубина: 13 результат 0.841 F1: 0.5954198473282443 Roc_auc 0.7428073841866946\n",
      "est 198 Глубина: 13 результат 0.8405 F1: 0.5946632782719188 Roc_auc 0.7424939045628701\n",
      "est 199 Глубина: 13 результат 0.8425 F1: 0.5987261146496815 Roc_auc 0.744668911335578\n",
      "est 200 Глубина: 13 результат 0.8425 F1: 0.5987261146496815 Roc_auc 0.744668911335578\n",
      "est 201 Глубина: 13 результат 0.843 F1: 0.5994897959183674 Roc_auc 0.7449823909594024\n",
      "est 202 Глубина: 13 результат 0.842 F1: 0.5969387755102041 Roc_auc 0.7434343434343433\n",
      "est 203 Глубина: 13 результат 0.8425 F1: 0.5987261146496815 Roc_auc 0.744668911335578\n",
      "est 204 Глубина: 13 результат 0.8415 F1: 0.5961783439490445 Roc_auc 0.7431208638105189\n",
      "est 205 Глубина: 13 результат 0.8425 F1: 0.5977011494252873 Roc_auc 0.7437478230581679\n",
      "est 206 Глубина: 13 результат 0.8425 F1: 0.5977011494252873 Roc_auc 0.7437478230581679\n",
      "est 207 Глубина: 13 результат 0.843 F1: 0.59846547314578 Roc_auc 0.7440613026819923\n",
      "est 208 Глубина: 13 результат 0.8425 F1: 0.5977011494252873 Roc_auc 0.7437478230581679\n",
      "est 209 Глубина: 13 результат 0.8425 F1: 0.5977011494252873 Roc_auc 0.7437478230581679\n",
      "est 210 Глубина: 13 результат 0.842 F1: 0.5969387755102041 Roc_auc 0.7434343434343433\n",
      "est 180 Глубина: 14 результат 0.8435 F1: 0.5971685971685972 Roc_auc 0.7425326057509966\n",
      "est 181 Глубина: 14 результат 0.842 F1: 0.5948717948717949 Roc_auc 0.7415921668795232\n",
      "est 182 Глубина: 14 результат 0.843 F1: 0.596401028277635 Roc_auc 0.7422191261271721\n",
      "est 183 Глубина: 14 результат 0.843 F1: 0.596401028277635 Roc_auc 0.7422191261271721\n",
      "est 184 Глубина: 14 результат 0.8435 F1: 0.5971685971685972 Roc_auc 0.7425326057509966\n",
      "est 185 Глубина: 14 результат 0.842 F1: 0.5938303341902313 Roc_auc 0.7406710786021131\n",
      "est 186 Глубина: 14 результат 0.842 F1: 0.5948717948717949 Roc_auc 0.7415921668795232\n",
      "est 187 Глубина: 14 результат 0.842 F1: 0.5948717948717949 Roc_auc 0.7415921668795232\n",
      "est 188 Глубина: 14 результат 0.842 F1: 0.5948717948717949 Roc_auc 0.7415921668795232\n",
      "est 189 Глубина: 14 результат 0.842 F1: 0.5938303341902313 Roc_auc 0.7406710786021131\n",
      "est 190 Глубина: 14 результат 0.843 F1: 0.596401028277635 Roc_auc 0.7422191261271721\n",
      "est 191 Глубина: 14 результат 0.843 F1: 0.596401028277635 Roc_auc 0.7422191261271721\n",
      "est 192 Глубина: 14 результат 0.8425 F1: 0.5956354300385109 Roc_auc 0.7419056465033477\n",
      "est 193 Глубина: 14 результат 0.8425 F1: 0.5956354300385109 Roc_auc 0.7419056465033477\n",
      "est 194 Глубина: 14 результат 0.8425 F1: 0.5956354300385109 Roc_auc 0.7419056465033477\n",
      "est 195 Глубина: 14 результат 0.8425 F1: 0.5956354300385109 Roc_auc 0.7419056465033477\n",
      "est 196 Глубина: 14 результат 0.8425 F1: 0.5956354300385109 Roc_auc 0.7419056465033477\n",
      "est 197 Глубина: 14 результат 0.842 F1: 0.5948717948717949 Roc_auc 0.7415921668795232\n",
      "est 198 Глубина: 14 результат 0.843 F1: 0.596401028277635 Roc_auc 0.7422191261271721\n",
      "est 199 Глубина: 14 результат 0.843 F1: 0.596401028277635 Roc_auc 0.7422191261271721\n",
      "est 200 Глубина: 14 результат 0.8445 F1: 0.5987096774193549 Roc_auc 0.7431595649986454\n",
      "est 201 Глубина: 14 результат 0.844 F1: 0.5979381443298969 Roc_auc 0.742846085374821\n",
      "est 202 Глубина: 14 результат 0.8445 F1: 0.5987096774193549 Roc_auc 0.7431595649986454\n",
      "est 203 Глубина: 14 результат 0.845 F1: 0.599483204134367 Roc_auc 0.7434730446224699\n",
      "est 204 Глубина: 14 результат 0.843 F1: 0.596401028277635 Roc_auc 0.7422191261271721\n",
      "est 205 Глубина: 14 результат 0.8435 F1: 0.5971685971685972 Roc_auc 0.7425326057509966\n",
      "est 206 Глубина: 14 результат 0.843 F1: 0.596401028277635 Roc_auc 0.7422191261271721\n",
      "est 207 Глубина: 14 результат 0.8435 F1: 0.5971685971685972 Roc_auc 0.7425326057509966\n",
      "est 208 Глубина: 14 результат 0.844 F1: 0.5979381443298969 Roc_auc 0.742846085374821\n",
      "est 209 Глубина: 14 результат 0.8435 F1: 0.5971685971685972 Roc_auc 0.7425326057509966\n",
      "est 210 Глубина: 14 результат 0.843 F1: 0.5953608247422679 Roc_auc 0.741298037849762\n",
      "est 180 Глубина: 15 результат 0.845 F1: 0.5963541666666666 Roc_auc 0.7407097797902397\n",
      "est 181 Глубина: 15 результат 0.8425 F1: 0.5893089960886571 Roc_auc 0.7363791168388869\n",
      "est 182 Глубина: 15 результат 0.843 F1: 0.5911458333333333 Roc_auc 0.7376136847401215\n",
      "est 183 Глубина: 15 результат 0.8425 F1: 0.5893089960886571 Roc_auc 0.7363791168388869\n",
      "est 184 Глубина: 15 результат 0.844 F1: 0.59375 Roc_auc 0.7391617322651804\n",
      "est 185 Глубина: 15 результат 0.8435 F1: 0.5919165580182529 Roc_auc 0.7379271643639459\n",
      "est 186 Глубина: 15 результат 0.844 F1: 0.5926892950391645 Roc_auc 0.7382406439877705\n",
      "est 187 Глубина: 15 результат 0.844 F1: 0.59375 Roc_auc 0.7391617322651804\n",
      "est 188 Глубина: 15 результат 0.8445 F1: 0.5955786736020805 Roc_auc 0.7403963001664151\n",
      "est 189 Глубина: 15 результат 0.844 F1: 0.59375 Roc_auc 0.7391617322651804\n",
      "est 190 Глубина: 15 результат 0.844 F1: 0.59375 Roc_auc 0.7391617322651804\n",
      "est 191 Глубина: 15 результат 0.844 F1: 0.59375 Roc_auc 0.7391617322651804\n",
      "est 192 Глубина: 15 результат 0.845 F1: 0.5963541666666666 Roc_auc 0.7407097797902397\n",
      "est 193 Глубина: 15 результат 0.844 F1: 0.59375 Roc_auc 0.7391617322651804\n",
      "est 194 Глубина: 15 результат 0.8445 F1: 0.5955786736020805 Roc_auc 0.7403963001664151\n",
      "est 195 Глубина: 15 результат 0.845 F1: 0.5953002610966057 Roc_auc 0.7397886915128293\n",
      "est 196 Глубина: 15 результат 0.844 F1: 0.59375 Roc_auc 0.7391617322651804\n",
      "est 197 Глубина: 15 результат 0.843 F1: 0.5911458333333333 Roc_auc 0.7376136847401215\n",
      "est 198 Глубина: 15 результат 0.8435 F1: 0.5919165580182529 Roc_auc 0.7379271643639459\n",
      "est 199 Глубина: 15 результат 0.8435 F1: 0.5919165580182529 Roc_auc 0.7379271643639459\n",
      "est 200 Глубина: 15 результат 0.844 F1: 0.59375 Roc_auc 0.7391617322651804\n",
      "est 201 Глубина: 15 результат 0.844 F1: 0.59375 Roc_auc 0.7391617322651804\n",
      "est 202 Глубина: 15 результат 0.845 F1: 0.5953002610966057 Roc_auc 0.7397886915128293\n",
      "est 203 Глубина: 15 результат 0.8455 F1: 0.596078431372549 Roc_auc 0.7401021711366539\n",
      "est 204 Глубина: 15 результат 0.845 F1: 0.5963541666666666 Roc_auc 0.7407097797902397\n",
      "est 205 Глубина: 15 результат 0.845 F1: 0.5963541666666666 Roc_auc 0.7407097797902397\n",
      "est 206 Глубина: 15 результат 0.845 F1: 0.5963541666666666 Roc_auc 0.7407097797902397\n",
      "est 207 Глубина: 15 результат 0.8445 F1: 0.5955786736020805 Roc_auc 0.7403963001664151\n",
      "est 208 Глубина: 15 результат 0.845 F1: 0.5963541666666666 Roc_auc 0.7407097797902397\n",
      "est 209 Глубина: 15 результат 0.8445 F1: 0.5955786736020805 Roc_auc 0.7403963001664151\n",
      "est 210 Глубина: 15 результат 0.8445 F1: 0.5945241199478488 Roc_auc 0.739475211889005\n",
      "est 180 Глубина: 16 результат 0.8415 F1: 0.58777633289987 Roc_auc 0.735752157591238\n",
      "est 181 Глубина: 16 результат 0.843 F1: 0.5911458333333333 Roc_auc 0.7376136847401215\n",
      "est 182 Глубина: 16 результат 0.842 F1: 0.5885416666666667 Roc_auc 0.7360656372150626\n",
      "est 183 Глубина: 16 результат 0.843 F1: 0.5900783289817232 Roc_auc 0.7366925964627113\n",
      "est 184 Глубина: 16 результат 0.8425 F1: 0.5893089960886571 Roc_auc 0.7363791168388869\n",
      "est 185 Глубина: 16 результат 0.8415 F1: 0.58777633289987 Roc_auc 0.735752157591238\n",
      "est 186 Глубина: 16 результат 0.8415 F1: 0.58777633289987 Roc_auc 0.735752157591238\n",
      "est 187 Глубина: 16 результат 0.8425 F1: 0.5893089960886571 Roc_auc 0.7363791168388869\n",
      "est 188 Глубина: 16 результат 0.8405 F1: 0.5862516212710766 Roc_auc 0.7351251983435891\n",
      "est 189 Глубина: 16 результат 0.843 F1: 0.5911458333333333 Roc_auc 0.7376136847401215\n",
      "est 190 Глубина: 16 результат 0.8415 F1: 0.58777633289987 Roc_auc 0.735752157591238\n",
      "est 191 Глубина: 16 результат 0.843 F1: 0.5900783289817232 Roc_auc 0.7366925964627113\n",
      "est 192 Глубина: 16 результат 0.842 F1: 0.5885416666666667 Roc_auc 0.7360656372150626\n",
      "est 193 Глубина: 16 результат 0.8425 F1: 0.5893089960886571 Roc_auc 0.7363791168388869\n",
      "est 194 Глубина: 16 результат 0.8425 F1: 0.5893089960886571 Roc_auc 0.7363791168388869\n",
      "est 195 Глубина: 16 результат 0.8425 F1: 0.5893089960886571 Roc_auc 0.7363791168388869\n",
      "est 196 Глубина: 16 результат 0.842 F1: 0.5885416666666667 Roc_auc 0.7360656372150626\n",
      "est 197 Глубина: 16 результат 0.8435 F1: 0.5919165580182529 Roc_auc 0.7379271643639459\n",
      "est 198 Глубина: 16 результат 0.8435 F1: 0.5929778933680104 Roc_auc 0.738848252641356\n",
      "est 199 Глубина: 16 результат 0.844 F1: 0.59375 Roc_auc 0.7391617322651804\n",
      "est 200 Глубина: 16 результат 0.8435 F1: 0.5929778933680104 Roc_auc 0.738848252641356\n",
      "est 201 Глубина: 16 результат 0.8435 F1: 0.5929778933680104 Roc_auc 0.738848252641356\n",
      "est 202 Глубина: 16 результат 0.8445 F1: 0.5945241199478488 Roc_auc 0.739475211889005\n",
      "est 203 Глубина: 16 результат 0.8435 F1: 0.5929778933680104 Roc_auc 0.738848252641356\n",
      "est 204 Глубина: 16 результат 0.843 F1: 0.5911458333333333 Roc_auc 0.7376136847401215\n",
      "est 205 Глубина: 16 результат 0.8435 F1: 0.5929778933680104 Roc_auc 0.738848252641356\n",
      "est 206 Глубина: 16 результат 0.843 F1: 0.5911458333333333 Roc_auc 0.7376136847401215\n",
      "est 207 Глубина: 16 результат 0.843 F1: 0.5911458333333333 Roc_auc 0.7376136847401215\n",
      "est 208 Глубина: 16 результат 0.842 F1: 0.5896103896103896 Roc_auc 0.7369867254924726\n",
      "est 209 Глубина: 16 результат 0.8435 F1: 0.5929778933680104 Roc_auc 0.738848252641356\n",
      "est 210 Глубина: 16 результат 0.8435 F1: 0.5929778933680104 Roc_auc 0.738848252641356\n",
      "est 180 Глубина: 17 результат 0.846 F1: 0.597911227154047 Roc_auc 0.7413367390378885\n",
      "est 181 Глубина: 17 результат 0.848 F1: 0.6041666666666667 Roc_auc 0.7453539223654168\n",
      "est 182 Глубина: 17 результат 0.8475 F1: 0.6002621231979031 Roc_auc 0.7422771779093619\n",
      "est 183 Глубина: 17 результат 0.848 F1: 0.6031331592689296 Roc_auc 0.7444328340880065\n",
      "est 184 Глубина: 17 результат 0.8475 F1: 0.6013071895424836 Roc_auc 0.7431982661867719\n",
      "est 185 Глубина: 17 результат 0.847 F1: 0.6015625000000001 Roc_auc 0.7438058748403577\n",
      "est 186 Глубина: 17 результат 0.8465 F1: 0.6007802340702211 Roc_auc 0.7434923952165331\n",
      "est 187 Глубина: 17 результат 0.847 F1: 0.6015625000000001 Roc_auc 0.7438058748403577\n",
      "est 188 Глубина: 17 результат 0.8465 F1: 0.5997392438070404 Roc_auc 0.742571306939123\n",
      "est 189 Глубина: 17 результат 0.847 F1: 0.6015625000000001 Roc_auc 0.7438058748403577\n",
      "est 190 Глубина: 17 результат 0.8465 F1: 0.5997392438070404 Roc_auc 0.742571306939123\n",
      "est 191 Глубина: 17 результат 0.8475 F1: 0.6033810143042914 Roc_auc 0.7450404427415922\n",
      "est 192 Глубина: 17 результат 0.847 F1: 0.6015625000000001 Roc_auc 0.7438058748403577\n",
      "est 193 Глубина: 17 результат 0.847 F1: 0.6005221932114883 Roc_auc 0.7428847865629475\n",
      "est 194 Глубина: 17 результат 0.846 F1: 0.597911227154047 Roc_auc 0.7413367390378885\n",
      "est 195 Глубина: 17 результат 0.847 F1: 0.6005221932114883 Roc_auc 0.7428847865629475\n",
      "est 196 Глубина: 17 результат 0.8465 F1: 0.5997392438070404 Roc_auc 0.742571306939123\n",
      "est 197 Глубина: 17 результат 0.846 F1: 0.5968586387434555 Roc_auc 0.7404156507604784\n",
      "est 198 Глубина: 17 результат 0.8465 F1: 0.5997392438070404 Roc_auc 0.742571306939123\n",
      "est 199 Глубина: 17 результат 0.847 F1: 0.599476439790576 Roc_auc 0.7419636982855374\n",
      "est 200 Глубина: 17 результат 0.8465 F1: 0.5986928104575162 Roc_auc 0.7416502186617131\n",
      "est 201 Глубина: 17 результат 0.8465 F1: 0.5986928104575162 Roc_auc 0.7416502186617131\n",
      "est 202 Глубина: 17 результат 0.847 F1: 0.6005221932114883 Roc_auc 0.7428847865629475\n",
      "est 203 Глубина: 17 результат 0.8475 F1: 0.6013071895424836 Roc_auc 0.7431982661867719\n",
      "est 204 Глубина: 17 результат 0.8465 F1: 0.5986928104575162 Roc_auc 0.7416502186617131\n",
      "est 205 Глубина: 17 результат 0.846 F1: 0.597911227154047 Roc_auc 0.7413367390378885\n",
      "est 206 Глубина: 17 результат 0.8465 F1: 0.5986928104575162 Roc_auc 0.7416502186617131\n",
      "est 207 Глубина: 17 результат 0.8465 F1: 0.5997392438070404 Roc_auc 0.742571306939123\n",
      "est 208 Глубина: 17 результат 0.8465 F1: 0.5997392438070404 Roc_auc 0.742571306939123\n",
      "est 209 Глубина: 17 результат 0.847 F1: 0.6015625000000001 Roc_auc 0.7438058748403577\n",
      "est 210 Глубина: 17 результат 0.8465 F1: 0.5997392438070404 Roc_auc 0.742571306939123\n",
      "est 180 Глубина: 18 результат 0.8515 F1: 0.6045272969374167 Roc_auc 0.7429428383451372\n",
      "est 181 Глубина: 18 результат 0.852 F1: 0.6053333333333333 Roc_auc 0.7432563179689616\n",
      "est 182 Глубина: 18 результат 0.8515 F1: 0.6045272969374167 Roc_auc 0.7429428383451372\n",
      "est 183 Глубина: 18 результат 0.8515 F1: 0.6055776892430278 Roc_auc 0.7438639266225473\n",
      "est 184 Глубина: 18 результат 0.8515 F1: 0.6045272969374167 Roc_auc 0.7429428383451372\n",
      "est 185 Глубина: 18 результат 0.852 F1: 0.6074270557029179 Roc_auc 0.745098494523782\n",
      "est 186 Глубина: 18 результат 0.8515 F1: 0.6045272969374167 Roc_auc 0.7429428383451372\n",
      "est 187 Глубина: 18 результат 0.852 F1: 0.6053333333333333 Roc_auc 0.7432563179689616\n",
      "est 188 Глубина: 18 результат 0.8515 F1: 0.6024096385542169 Roc_auc 0.741100661790317\n",
      "est 189 Глубина: 18 результат 0.8525 F1: 0.607190412782956 Roc_auc 0.7444908858701962\n",
      "est 190 Глубина: 18 результат 0.851 F1: 0.6026666666666666 Roc_auc 0.7417082704439026\n",
      "est 191 Глубина: 18 результат 0.852 F1: 0.6053333333333333 Roc_auc 0.7432563179689616\n",
      "est 192 Глубина: 18 результат 0.851 F1: 0.6026666666666666 Roc_auc 0.7417082704439026\n",
      "est 193 Глубина: 18 результат 0.851 F1: 0.6026666666666666 Roc_auc 0.7417082704439026\n",
      "est 194 Глубина: 18 результат 0.8505 F1: 0.6018641810918774 Roc_auc 0.7413947908200783\n",
      "est 195 Глубина: 18 результат 0.8495 F1: 0.5992010652463382 Roc_auc 0.7398467432950191\n",
      "est 196 Глубина: 18 результат 0.85 F1: 0.6 Roc_auc 0.7401602229188436\n",
      "est 197 Глубина: 18 результат 0.8505 F1: 0.6018641810918774 Roc_auc 0.7413947908200783\n",
      "est 198 Глубина: 18 результат 0.85 F1: 0.6 Roc_auc 0.7401602229188436\n",
      "est 199 Глубина: 18 результат 0.85 F1: 0.6 Roc_auc 0.7401602229188436\n",
      "est 200 Глубина: 18 результат 0.851 F1: 0.6016042780748663 Roc_auc 0.7407871821664925\n",
      "est 201 Глубина: 18 результат 0.8505 F1: 0.6008010680907877 Roc_auc 0.7404737025426681\n",
      "est 202 Глубина: 18 результат 0.851 F1: 0.6016042780748663 Roc_auc 0.7407871821664925\n",
      "est 203 Глубина: 18 результат 0.85 F1: 0.5989304812834224 Roc_auc 0.7392391346414335\n",
      "est 204 Глубина: 18 результат 0.85 F1: 0.5989304812834224 Roc_auc 0.7392391346414335\n",
      "est 205 Глубина: 18 результат 0.8495 F1: 0.5970548862115127 Roc_auc 0.7380045667401989\n",
      "est 206 Глубина: 18 результат 0.8505 F1: 0.6018641810918774 Roc_auc 0.7413947908200783\n",
      "est 207 Глубина: 18 результат 0.85 F1: 0.6 Roc_auc 0.7401602229188436\n",
      "est 208 Глубина: 18 результат 0.851 F1: 0.6026666666666666 Roc_auc 0.7417082704439026\n",
      "est 209 Глубина: 18 результат 0.852 F1: 0.6042780748663101 Roc_auc 0.7423352296915515\n",
      "est 210 Глубина: 18 результат 0.851 F1: 0.6016042780748663 Roc_auc 0.7407871821664925\n",
      "est 180 Глубина: 19 результат 0.8445 F1: 0.5902503293807642 Roc_auc 0.7357908587793646\n",
      "est 181 Глубина: 19 результат 0.845 F1: 0.5910290237467019 Roc_auc 0.736104338403189\n",
      "est 182 Глубина: 19 результат 0.844 F1: 0.5894736842105263 Roc_auc 0.7354773791555402\n",
      "est 183 Глубина: 19 результат 0.844 F1: 0.5894736842105263 Roc_auc 0.7354773791555402\n",
      "est 184 Глубина: 19 результат 0.844 F1: 0.5894736842105263 Roc_auc 0.7354773791555402\n",
      "est 185 Глубина: 19 результат 0.844 F1: 0.5894736842105263 Roc_auc 0.7354773791555402\n",
      "est 186 Глубина: 19 результат 0.8455 F1: 0.5928853754940713 Roc_auc 0.7373389063044236\n",
      "est 187 Глубина: 19 результат 0.8455 F1: 0.5928853754940713 Roc_auc 0.7373389063044236\n",
      "est 188 Глубина: 19 результат 0.847 F1: 0.5973684210526315 Roc_auc 0.7401215217307171\n",
      "est 189 Глубина: 19 результат 0.846 F1: 0.5947368421052632 Roc_auc 0.7385734742056581\n",
      "est 190 Глубина: 19 результат 0.846 F1: 0.5947368421052632 Roc_auc 0.7385734742056581\n",
      "est 191 Глубина: 19 результат 0.846 F1: 0.5947368421052632 Roc_auc 0.7385734742056581\n",
      "est 192 Глубина: 19 результат 0.844 F1: 0.5916230366492147 Roc_auc 0.7373195557103602\n",
      "est 193 Глубина: 19 результат 0.845 F1: 0.5942408376963351 Roc_auc 0.7388676032354193\n",
      "est 194 Глубина: 19 результат 0.8455 F1: 0.5950196592398426 Roc_auc 0.7391810828592439\n",
      "est 195 Глубина: 19 результат 0.8455 F1: 0.5950196592398426 Roc_auc 0.7391810828592439\n",
      "est 196 Глубина: 19 результат 0.8465 F1: 0.5965834428383706 Roc_auc 0.7398080421068927\n",
      "est 197 Глубина: 19 результат 0.8465 F1: 0.5965834428383706 Roc_auc 0.7398080421068927\n",
      "est 198 Глубина: 19 результат 0.846 F1: 0.5958005249343832 Roc_auc 0.7394945624830682\n",
      "est 199 Глубина: 19 результат 0.8455 F1: 0.5950196592398426 Roc_auc 0.7391810828592439\n",
      "est 200 Глубина: 19 результат 0.8465 F1: 0.5965834428383706 Roc_auc 0.7398080421068927\n",
      "est 201 Глубина: 19 результат 0.8465 F1: 0.5976408912188729 Roc_auc 0.7407291303843028\n",
      "est 202 Глубина: 19 результат 0.846 F1: 0.5947368421052632 Roc_auc 0.7385734742056581\n",
      "est 203 Глубина: 19 результат 0.846 F1: 0.5958005249343832 Roc_auc 0.7394945624830682\n",
      "est 204 Глубина: 19 результат 0.8455 F1: 0.5950196592398426 Roc_auc 0.7391810828592439\n",
      "est 205 Глубина: 19 результат 0.8455 F1: 0.5950196592398426 Roc_auc 0.7391810828592439\n",
      "est 206 Глубина: 19 результат 0.846 F1: 0.5958005249343832 Roc_auc 0.7394945624830682\n",
      "est 207 Глубина: 19 результат 0.8455 F1: 0.5950196592398426 Roc_auc 0.7391810828592439\n",
      "est 208 Глубина: 19 результат 0.8455 F1: 0.5939553219448095 Roc_auc 0.7382599945818337\n",
      "est 209 Глубина: 19 результат 0.845 F1: 0.5942408376963351 Roc_auc 0.7388676032354193\n",
      "est 210 Глубина: 19 результат 0.8455 F1: 0.5950196592398426 Roc_auc 0.7391810828592439\n",
      "est 180 Глубина: 20 результат 0.848 F1: 0.596816976127321 Roc_auc 0.7389063044235459\n",
      "est 181 Глубина: 20 результат 0.848 F1: 0.5978835978835979 Roc_auc 0.7398273927009559\n",
      "est 182 Глубина: 20 результат 0.8485 F1: 0.5976095617529881 Roc_auc 0.7392197840473703\n",
      "est 183 Глубина: 20 результат 0.8485 F1: 0.5976095617529881 Roc_auc 0.7392197840473703\n",
      "est 184 Глубина: 20 результат 0.848 F1: 0.596816976127321 Roc_auc 0.7389063044235459\n",
      "est 185 Глубина: 20 результат 0.8485 F1: 0.5976095617529881 Roc_auc 0.7392197840473703\n",
      "est 186 Глубина: 20 результат 0.8485 F1: 0.5976095617529881 Roc_auc 0.7392197840473703\n",
      "est 187 Глубина: 20 результат 0.849 F1: 0.598404255319149 Roc_auc 0.7395332636711947\n",
      "est 188 Глубина: 20 результат 0.8495 F1: 0.5992010652463382 Roc_auc 0.7398467432950191\n",
      "est 189 Глубина: 20 результат 0.8495 F1: 0.5981308411214954 Roc_auc 0.7389256550176091\n",
      "est 190 Глубина: 20 результат 0.85 F1: 0.6 Roc_auc 0.7401602229188436\n",
      "est 191 Глубина: 20 результат 0.848 F1: 0.5957446808510638 Roc_auc 0.7379852161461358\n",
      "est 192 Глубина: 20 результат 0.8485 F1: 0.5976095617529881 Roc_auc 0.7392197840473703\n",
      "est 193 Глубина: 20 результат 0.849 F1: 0.598404255319149 Roc_auc 0.7395332636711947\n",
      "est 194 Глубина: 20 результат 0.849 F1: 0.5973333333333333 Roc_auc 0.7386121753937845\n",
      "est 195 Глубина: 20 результат 0.8495 F1: 0.5992010652463382 Roc_auc 0.7398467432950191\n",
      "est 196 Глубина: 20 результат 0.849 F1: 0.598404255319149 Roc_auc 0.7395332636711947\n",
      "est 197 Глубина: 20 результат 0.85 F1: 0.6010638297872342 Roc_auc 0.7410813111962536\n",
      "est 198 Глубина: 20 результат 0.849 F1: 0.5973333333333333 Roc_auc 0.7386121753937845\n",
      "est 199 Глубина: 20 результат 0.849 F1: 0.598404255319149 Roc_auc 0.7395332636711947\n",
      "est 200 Глубина: 20 результат 0.8485 F1: 0.5976095617529881 Roc_auc 0.7392197840473703\n",
      "est 201 Глубина: 20 результат 0.8485 F1: 0.5986754966887416 Roc_auc 0.7401408723247803\n",
      "est 202 Глубина: 20 результат 0.849 F1: 0.5994694960212201 Roc_auc 0.7404543519486049\n",
      "est 203 Глубина: 20 результат 0.848 F1: 0.5978835978835979 Roc_auc 0.7398273927009559\n",
      "est 204 Глубина: 20 результат 0.8495 F1: 0.600265604249668 Roc_auc 0.7407678315724292\n",
      "est 205 Глубина: 20 результат 0.849 F1: 0.6005291005291006 Roc_auc 0.7413754402260149\n",
      "est 206 Глубина: 20 результат 0.8485 F1: 0.5976095617529881 Roc_auc 0.7392197840473703\n",
      "est 207 Глубина: 20 результат 0.8495 F1: 0.6013245033112582 Roc_auc 0.7416889198498394\n",
      "est 208 Глубина: 20 результат 0.85 F1: 0.6010638297872342 Roc_auc 0.7410813111962536\n",
      "est 209 Глубина: 20 результат 0.849 F1: 0.5994694960212201 Roc_auc 0.7404543519486049\n",
      "est 210 Глубина: 20 результат 0.8485 F1: 0.5976095617529881 Roc_auc 0.7392197840473703\n",
      "est 180 Глубина: 21 результат 0.8445 F1: 0.5880794701986755 Roc_auc 0.7339486822245442\n",
      "est 181 Глубина: 21 результат 0.843 F1: 0.5868421052631579 Roc_auc 0.733929331630481\n",
      "est 182 Глубина: 21 результат 0.843 F1: 0.5846560846560848 Roc_auc 0.7320871550756608\n",
      "est 183 Глубина: 21 результат 0.8435 F1: 0.5865257595772787 Roc_auc 0.7333217229768955\n",
      "est 184 Глубина: 21 результат 0.8435 F1: 0.5865257595772787 Roc_auc 0.7333217229768955\n",
      "est 185 Глубина: 21 результат 0.8435 F1: 0.5865257595772787 Roc_auc 0.7333217229768955\n",
      "est 186 Глубина: 21 результат 0.844 F1: 0.5862068965517241 Roc_auc 0.7327141143233097\n",
      "est 187 Глубина: 21 результат 0.844 F1: 0.5862068965517241 Roc_auc 0.7327141143233097\n",
      "est 188 Глубина: 21 результат 0.8445 F1: 0.5869853917662683 Roc_auc 0.7330275939471341\n",
      "est 189 Глубина: 21 результат 0.844 F1: 0.5862068965517241 Roc_auc 0.7327141143233097\n",
      "est 190 Глубина: 21 результат 0.8445 F1: 0.5869853917662683 Roc_auc 0.7330275939471341\n",
      "est 191 Глубина: 21 результат 0.844 F1: 0.5873015873015872 Roc_auc 0.7336352026007199\n",
      "est 192 Глубина: 21 результат 0.8455 F1: 0.5896414342629483 Roc_auc 0.7345756414721932\n",
      "est 193 Глубина: 21 результат 0.8445 F1: 0.5880794701986755 Roc_auc 0.7339486822245442\n",
      "est 194 Глубина: 21 результат 0.8445 F1: 0.5880794701986755 Roc_auc 0.7339486822245442\n",
      "est 195 Глубина: 21 результат 0.8445 F1: 0.5880794701986755 Roc_auc 0.7339486822245442\n",
      "est 196 Глубина: 21 результат 0.845 F1: 0.5888594164456233 Roc_auc 0.7342621618483688\n",
      "est 197 Глубина: 21 результат 0.8445 F1: 0.5880794701986755 Roc_auc 0.7339486822245442\n",
      "est 198 Глубина: 21 результат 0.845 F1: 0.5888594164456233 Roc_auc 0.7342621618483688\n",
      "est 199 Глубина: 21 результат 0.8455 F1: 0.5896414342629483 Roc_auc 0.7345756414721932\n",
      "est 200 Глубина: 21 результат 0.845 F1: 0.5888594164456233 Roc_auc 0.7342621618483688\n",
      "est 201 Глубина: 21 результат 0.8455 F1: 0.590728476821192 Roc_auc 0.7354967297496032\n",
      "est 202 Глубина: 21 результат 0.8455 F1: 0.5896414342629483 Roc_auc 0.7345756414721932\n",
      "est 203 Глубина: 21 результат 0.8455 F1: 0.590728476821192 Roc_auc 0.7354967297496032\n",
      "est 204 Глубина: 21 результат 0.8465 F1: 0.5933774834437086 Roc_auc 0.7370447772746623\n",
      "est 205 Глубина: 21 результат 0.8455 F1: 0.590728476821192 Roc_auc 0.7354967297496032\n",
      "est 206 Глубина: 21 результат 0.8455 F1: 0.590728476821192 Roc_auc 0.7354967297496032\n",
      "est 207 Глубина: 21 результат 0.8465 F1: 0.5933774834437086 Roc_auc 0.7370447772746623\n",
      "est 208 Глубина: 21 результат 0.846 F1: 0.5925925925925926 Roc_auc 0.7367312976508379\n",
      "est 209 Глубина: 21 результат 0.845 F1: 0.5899470899470899 Roc_auc 0.7351832501257788\n",
      "est 210 Глубина: 21 результат 0.8465 F1: 0.5933774834437086 Roc_auc 0.7370447772746623\n",
      "est 180 Глубина: 22 результат 0.849 F1: 0.5951742627345844 Roc_auc 0.7367699988389644\n",
      "est 181 Глубина: 22 результат 0.849 F1: 0.5951742627345844 Roc_auc 0.7367699988389644\n",
      "est 182 Глубина: 22 результат 0.8495 F1: 0.5959731543624162 Roc_auc 0.7370834784627889\n",
      "est 183 Глубина: 22 результат 0.8495 F1: 0.5970548862115127 Roc_auc 0.7380045667401989\n",
      "est 184 Глубина: 22 результат 0.851 F1: 0.5994623655913978 Roc_auc 0.7389450056116722\n",
      "est 185 Глубина: 22 результат 0.85 F1: 0.5978552278820375 Roc_auc 0.7383180463640233\n",
      "est 186 Глубина: 22 результат 0.8495 F1: 0.5959731543624162 Roc_auc 0.7370834784627889\n",
      "est 187 Глубина: 22 результат 0.849 F1: 0.5951742627345844 Roc_auc 0.7367699988389644\n",
      "est 188 Глубина: 22 результат 0.849 F1: 0.5951742627345844 Roc_auc 0.7367699988389644\n",
      "est 189 Глубина: 22 результат 0.8505 F1: 0.5975773889636607 Roc_auc 0.7377104377104378\n",
      "est 190 Глубина: 22 результат 0.85 F1: 0.5967741935483871 Roc_auc 0.7373969580866133\n",
      "est 191 Глубина: 22 результат 0.8495 F1: 0.5959731543624162 Roc_auc 0.7370834784627889\n",
      "est 192 Глубина: 22 результат 0.8495 F1: 0.5959731543624162 Roc_auc 0.7370834784627889\n",
      "est 193 Глубина: 22 результат 0.8485 F1: 0.5943775100401607 Roc_auc 0.73645651921514\n",
      "est 194 Глубина: 22 результат 0.85 F1: 0.5967741935483871 Roc_auc 0.7373969580866133\n",
      "est 195 Глубина: 22 результат 0.848 F1: 0.5935828877005348 Roc_auc 0.7361430395913156\n",
      "est 196 Глубина: 22 результат 0.8495 F1: 0.5959731543624162 Roc_auc 0.7370834784627889\n",
      "est 197 Глубина: 22 результат 0.848 F1: 0.5935828877005348 Roc_auc 0.7361430395913156\n",
      "est 198 Глубина: 22 результат 0.849 F1: 0.5951742627345844 Roc_auc 0.7367699988389644\n",
      "est 199 Глубина: 22 результат 0.848 F1: 0.5935828877005348 Roc_auc 0.7361430395913156\n",
      "est 200 Глубина: 22 результат 0.85 F1: 0.5967741935483871 Roc_auc 0.7373969580866133\n",
      "est 201 Глубина: 22 результат 0.848 F1: 0.5935828877005348 Roc_auc 0.7361430395913156\n",
      "est 202 Глубина: 22 результат 0.849 F1: 0.5951742627345844 Roc_auc 0.7367699988389644\n",
      "est 203 Глубина: 22 результат 0.8485 F1: 0.5943775100401607 Roc_auc 0.73645651921514\n",
      "est 204 Глубина: 22 результат 0.848 F1: 0.5935828877005348 Roc_auc 0.7361430395913156\n",
      "est 205 Глубина: 22 результат 0.8485 F1: 0.5954606141522031 Roc_auc 0.73737760749255\n",
      "est 206 Глубина: 22 результат 0.849 F1: 0.5962566844919786 Roc_auc 0.7376910871163744\n",
      "est 207 Глубина: 22 результат 0.8485 F1: 0.5954606141522031 Roc_auc 0.73737760749255\n",
      "est 208 Глубина: 22 результат 0.849 F1: 0.5962566844919786 Roc_auc 0.7376910871163744\n",
      "est 209 Глубина: 22 результат 0.8485 F1: 0.5954606141522031 Roc_auc 0.73737760749255\n",
      "est 210 Глубина: 22 результат 0.8485 F1: 0.5954606141522031 Roc_auc 0.73737760749255\n",
      "est 180 Глубина: 23 результат 0.8535 F1: 0.607764390896921 Roc_auc 0.744196756840435\n",
      "est 181 Глубина: 23 результат 0.853 F1: 0.6069518716577541 Roc_auc 0.7438832772166105\n",
      "est 182 Глубина: 23 результат 0.8535 F1: 0.607764390896921 Roc_auc 0.744196756840435\n",
      "est 183 Глубина: 23 результат 0.853 F1: 0.608 Roc_auc 0.7448043654940206\n",
      "est 184 Глубина: 23 результат 0.8545 F1: 0.6104417670682731 Roc_auc 0.745744804365494\n",
      "est 185 Глубина: 23 результат 0.854 F1: 0.6096256684491979 Roc_auc 0.7454313247416695\n",
      "est 186 Глубина: 23 результат 0.8535 F1: 0.6067114093959732 Roc_auc 0.7432756685630248\n",
      "est 187 Глубина: 23 результат 0.854 F1: 0.6085790884718498 Roc_auc 0.7445102364642594\n",
      "est 188 Глубина: 23 результат 0.853 F1: 0.6037735849056604 Roc_auc 0.7411200123843803\n",
      "est 189 Глубина: 23 результат 0.854 F1: 0.6085790884718498 Roc_auc 0.7445102364642594\n",
      "est 190 Глубина: 23 результат 0.854 F1: 0.6075268817204301 Roc_auc 0.7435891481868494\n",
      "est 191 Глубина: 23 результат 0.854 F1: 0.6085790884718498 Roc_auc 0.7445102364642594\n",
      "est 192 Глубина: 23 результат 0.8535 F1: 0.6056527590847914 Roc_auc 0.7423545802856149\n",
      "est 193 Глубина: 23 результат 0.854 F1: 0.6085790884718498 Roc_auc 0.7445102364642594\n",
      "est 194 Глубина: 23 результат 0.8535 F1: 0.6067114093959732 Roc_auc 0.7432756685630248\n",
      "est 195 Глубина: 23 результат 0.853 F1: 0.6069518716577541 Roc_auc 0.7438832772166105\n",
      "est 196 Глубина: 23 результат 0.855 F1: 0.611260053619303 Roc_auc 0.7460582839893184\n",
      "est 197 Глубина: 23 результат 0.853 F1: 0.6069518716577541 Roc_auc 0.7438832772166105\n",
      "est 198 Глубина: 23 результат 0.8545 F1: 0.6083445491251682 Roc_auc 0.7439026278106738\n",
      "est 199 Глубина: 23 результат 0.8545 F1: 0.6083445491251682 Roc_auc 0.7439026278106738\n",
      "est 200 Глубина: 23 результат 0.8545 F1: 0.6083445491251682 Roc_auc 0.7439026278106738\n",
      "est 201 Глубина: 23 результат 0.8535 F1: 0.607764390896921 Roc_auc 0.744196756840435\n",
      "est 202 Глубина: 23 результат 0.854 F1: 0.6075268817204301 Roc_auc 0.7435891481868494\n",
      "est 203 Глубина: 23 результат 0.853 F1: 0.6058981233243967 Roc_auc 0.7429621889392004\n",
      "est 204 Глубина: 23 результат 0.8535 F1: 0.6056527590847914 Roc_auc 0.7423545802856149\n",
      "est 205 Глубина: 23 результат 0.854 F1: 0.6075268817204301 Roc_auc 0.7435891481868494\n",
      "est 206 Глубина: 23 результат 0.8535 F1: 0.6056527590847914 Roc_auc 0.7423545802856149\n",
      "est 207 Глубина: 23 результат 0.853 F1: 0.6058981233243967 Roc_auc 0.7429621889392004\n",
      "est 208 Глубина: 23 результат 0.853 F1: 0.6048387096774194 Roc_auc 0.7420411006617902\n",
      "est 209 Глубина: 23 результат 0.8515 F1: 0.6024096385542169 Roc_auc 0.741100661790317\n",
      "est 210 Глубина: 23 результат 0.8515 F1: 0.6013422818791946 Roc_auc 0.7401795735129069\n",
      "est 180 Глубина: 24 результат 0.853 F1: 0.6090425531914894 Roc_auc 0.7457254537714308\n",
      "est 181 Глубина: 24 результат 0.853 F1: 0.6111111111111112 Roc_auc 0.7475676303262511\n",
      "est 182 Глубина: 24 результат 0.852 F1: 0.6063829787234044 Roc_auc 0.7441774062463717\n",
      "est 183 Глубина: 24 результат 0.852 F1: 0.6084656084656085 Roc_auc 0.7460195828011918\n",
      "est 184 Глубина: 24 результат 0.852 F1: 0.6063829787234044 Roc_auc 0.7441774062463717\n",
      "est 185 Глубина: 24 результат 0.853 F1: 0.610079575596817 Roc_auc 0.7466465420488408\n",
      "est 186 Глубина: 24 результат 0.852 F1: 0.6063829787234044 Roc_auc 0.7441774062463717\n",
      "est 187 Глубина: 24 результат 0.8515 F1: 0.6066225165562914 Roc_auc 0.7447850148999574\n",
      "est 188 Глубина: 24 результат 0.852 F1: 0.6074270557029179 Roc_auc 0.745098494523782\n",
      "est 189 Глубина: 24 результат 0.8525 F1: 0.6092715231788078 Roc_auc 0.7463330624250164\n",
      "est 190 Глубина: 24 результат 0.8525 F1: 0.607190412782956 Roc_auc 0.7444908858701962\n",
      "est 191 Глубина: 24 результат 0.8505 F1: 0.6039735099337749 Roc_auc 0.7432369673748984\n",
      "est 192 Глубина: 24 результат 0.8515 F1: 0.6055776892430278 Roc_auc 0.7438639266225473\n",
      "est 193 Глубина: 24 результат 0.852 F1: 0.6084656084656085 Roc_auc 0.7460195828011918\n",
      "est 194 Глубина: 24 результат 0.8515 F1: 0.6055776892430278 Roc_auc 0.7438639266225473\n",
      "est 195 Глубина: 24 результат 0.8525 F1: 0.6092715231788078 Roc_auc 0.7463330624250164\n",
      "est 196 Глубина: 24 результат 0.8515 F1: 0.6045272969374167 Roc_auc 0.7429428383451372\n",
      "est 197 Глубина: 24 результат 0.8505 F1: 0.6039735099337749 Roc_auc 0.7432369673748984\n",
      "est 198 Глубина: 24 результат 0.8525 F1: 0.607190412782956 Roc_auc 0.7444908858701962\n",
      "est 199 Глубина: 24 результат 0.8515 F1: 0.6055776892430278 Roc_auc 0.7438639266225473\n",
      "est 200 Глубина: 24 результат 0.8525 F1: 0.607190412782956 Roc_auc 0.7444908858701962\n",
      "est 201 Глубина: 24 результат 0.851 F1: 0.6058201058201059 Roc_auc 0.7444715352761331\n",
      "est 202 Глубина: 24 результат 0.8525 F1: 0.607190412782956 Roc_auc 0.7444908858701962\n",
      "est 203 Глубина: 24 результат 0.852 F1: 0.6084656084656085 Roc_auc 0.7460195828011918\n",
      "est 204 Глубина: 24 результат 0.853 F1: 0.608 Roc_auc 0.7448043654940206\n",
      "est 205 Глубина: 24 результат 0.852 F1: 0.6084656084656085 Roc_auc 0.7460195828011918\n",
      "est 206 Глубина: 24 результат 0.853 F1: 0.6090425531914894 Roc_auc 0.7457254537714308\n",
      "est 207 Глубина: 24 результат 0.8515 F1: 0.6066225165562914 Roc_auc 0.7447850148999574\n",
      "est 208 Глубина: 24 результат 0.852 F1: 0.6074270557029179 Roc_auc 0.745098494523782\n",
      "est 209 Глубина: 24 результат 0.8515 F1: 0.6066225165562914 Roc_auc 0.7447850148999574\n",
      "est 210 Глубина: 24 результат 0.8515 F1: 0.6055776892430278 Roc_auc 0.7438639266225473\n",
      "est 180 Глубина: 25 результат 0.85 F1: 0.6021220159151194 Roc_auc 0.7420023994736638\n",
      "est 181 Глубина: 25 результат 0.8495 F1: 0.6013245033112582 Roc_auc 0.7416889198498394\n",
      "est 182 Глубина: 25 результат 0.85 F1: 0.6021220159151194 Roc_auc 0.7420023994736638\n",
      "est 183 Глубина: 25 результат 0.8505 F1: 0.6039735099337749 Roc_auc 0.7432369673748984\n",
      "est 184 Глубина: 25 результат 0.85 F1: 0.6021220159151194 Roc_auc 0.7420023994736638\n",
      "est 185 Глубина: 25 результат 0.85 F1: 0.6031746031746031 Roc_auc 0.742923487751074\n",
      "est 186 Глубина: 25 результат 0.851 F1: 0.6037234042553192 Roc_auc 0.7426293587213129\n",
      "est 187 Глубина: 25 результат 0.8505 F1: 0.6039735099337749 Roc_auc 0.7432369673748984\n",
      "est 188 Глубина: 25 результат 0.852 F1: 0.6063829787234044 Roc_auc 0.7441774062463717\n",
      "est 189 Глубина: 25 результат 0.852 F1: 0.6063829787234044 Roc_auc 0.7441774062463717\n",
      "est 190 Глубина: 25 результат 0.852 F1: 0.6063829787234044 Roc_auc 0.7441774062463717\n",
      "est 191 Глубина: 25 результат 0.851 F1: 0.6047745358090186 Roc_auc 0.7435504469987227\n",
      "est 192 Глубина: 25 результат 0.8515 F1: 0.6055776892430278 Roc_auc 0.7438639266225473\n",
      "est 193 Глубина: 25 результат 0.851 F1: 0.6047745358090186 Roc_auc 0.7435504469987227\n",
      "est 194 Глубина: 25 результат 0.8515 F1: 0.6055776892430278 Roc_auc 0.7438639266225473\n",
      "est 195 Глубина: 25 результат 0.851 F1: 0.6058201058201059 Roc_auc 0.7444715352761331\n",
      "est 196 Глубина: 25 результат 0.851 F1: 0.6047745358090186 Roc_auc 0.7435504469987227\n",
      "est 197 Глубина: 25 результат 0.851 F1: 0.6058201058201059 Roc_auc 0.7444715352761331\n",
      "est 198 Глубина: 25 результат 0.851 F1: 0.6047745358090186 Roc_auc 0.7435504469987227\n",
      "est 199 Глубина: 25 результат 0.8515 F1: 0.6066225165562914 Roc_auc 0.7447850148999574\n",
      "est 200 Глубина: 25 результат 0.851 F1: 0.6037234042553192 Roc_auc 0.7426293587213129\n",
      "est 201 Глубина: 25 результат 0.8505 F1: 0.6029216467463479 Roc_auc 0.7423158790974882\n",
      "est 202 Глубина: 25 результат 0.851 F1: 0.6037234042553192 Roc_auc 0.7426293587213129\n",
      "est 203 Глубина: 25 результат 0.8505 F1: 0.6039735099337749 Roc_auc 0.7432369673748984\n",
      "est 204 Глубина: 25 результат 0.8505 F1: 0.6029216467463479 Roc_auc 0.7423158790974882\n",
      "est 205 Глубина: 25 результат 0.85 F1: 0.6031746031746031 Roc_auc 0.742923487751074\n",
      "est 206 Глубина: 25 результат 0.8515 F1: 0.6055776892430278 Roc_auc 0.7438639266225473\n",
      "est 207 Глубина: 25 результат 0.8505 F1: 0.6039735099337749 Roc_auc 0.7432369673748984\n",
      "est 208 Глубина: 25 результат 0.8515 F1: 0.6045272969374167 Roc_auc 0.7429428383451372\n",
      "est 209 Глубина: 25 результат 0.851 F1: 0.6047745358090186 Roc_auc 0.7435504469987227\n",
      "est 210 Глубина: 25 результат 0.851 F1: 0.6047745358090186 Roc_auc 0.7435504469987227\n",
      "est 180 Глубина: 26 результат 0.85 F1: 0.6031746031746031 Roc_auc 0.742923487751074\n",
      "est 181 Глубина: 26 результат 0.8505 F1: 0.6050198150594451 Roc_auc 0.7441580556523086\n",
      "est 182 Глубина: 26 результат 0.85 F1: 0.6031746031746031 Roc_auc 0.742923487751074\n",
      "est 183 Глубина: 26 результат 0.85 F1: 0.6042216358839049 Roc_auc 0.7438445760284841\n",
      "est 184 Глубина: 26 результат 0.851 F1: 0.6058201058201059 Roc_auc 0.7444715352761331\n",
      "est 185 Глубина: 26 результат 0.851 F1: 0.6068601583113455 Roc_auc 0.7453926235535431\n",
      "est 186 Глубина: 26 результат 0.8515 F1: 0.6066225165562914 Roc_auc 0.7447850148999574\n",
      "est 187 Глубина: 26 результат 0.85 F1: 0.6052631578947368 Roc_auc 0.7447656643058942\n",
      "est 188 Глубина: 26 результат 0.852 F1: 0.6074270557029179 Roc_auc 0.745098494523782\n",
      "est 189 Глубина: 26 результат 0.8515 F1: 0.6066225165562914 Roc_auc 0.7447850148999574\n",
      "est 190 Глубина: 26 результат 0.852 F1: 0.6074270557029179 Roc_auc 0.745098494523782\n",
      "est 191 Глубина: 26 результат 0.851 F1: 0.6068601583113455 Roc_auc 0.7453926235535431\n",
      "est 192 Глубина: 26 результат 0.851 F1: 0.6058201058201059 Roc_auc 0.7444715352761331\n",
      "est 193 Глубина: 26 результат 0.8505 F1: 0.6060606060606061 Roc_auc 0.7450791439297185\n",
      "est 194 Глубина: 26 результат 0.85 F1: 0.6042216358839049 Roc_auc 0.7438445760284841\n",
      "est 195 Глубина: 26 результат 0.8495 F1: 0.6034255599472991 Roc_auc 0.7435310964046596\n",
      "est 196 Глубина: 26 результат 0.8495 F1: 0.6023778071334214 Roc_auc 0.7426100081272494\n",
      "est 197 Глубина: 26 результат 0.849 F1: 0.6026315789473683 Roc_auc 0.7432176167808352\n",
      "est 198 Глубина: 26 результат 0.851 F1: 0.6058201058201059 Roc_auc 0.7444715352761331\n",
      "est 199 Глубина: 26 результат 0.8505 F1: 0.6050198150594451 Roc_auc 0.7441580556523086\n",
      "est 200 Глубина: 26 результат 0.851 F1: 0.6047745358090186 Roc_auc 0.7435504469987227\n",
      "est 201 Глубина: 26 результат 0.8495 F1: 0.6023778071334214 Roc_auc 0.7426100081272494\n",
      "est 202 Глубина: 26 результат 0.8505 F1: 0.6039735099337749 Roc_auc 0.7432369673748984\n",
      "est 203 Глубина: 26 результат 0.8505 F1: 0.6050198150594451 Roc_auc 0.7441580556523086\n",
      "est 204 Глубина: 26 результат 0.8505 F1: 0.6029216467463479 Roc_auc 0.7423158790974882\n",
      "est 205 Глубина: 26 результат 0.85 F1: 0.6042216358839049 Roc_auc 0.7438445760284841\n",
      "est 206 Глубина: 26 результат 0.852 F1: 0.6074270557029179 Roc_auc 0.745098494523782\n",
      "est 207 Глубина: 26 результат 0.851 F1: 0.6058201058201059 Roc_auc 0.7444715352761331\n",
      "est 208 Глубина: 26 результат 0.8515 F1: 0.6055776892430278 Roc_auc 0.7438639266225473\n",
      "est 209 Глубина: 26 результат 0.8515 F1: 0.6055776892430278 Roc_auc 0.7438639266225473\n",
      "est 210 Глубина: 26 результат 0.8525 F1: 0.6061415220293724 Roc_auc 0.7435697975927861\n",
      "est 180 Глубина: 27 результат 0.8505 F1: 0.6039735099337749 Roc_auc 0.7432369673748984\n",
      "est 181 Глубина: 27 результат 0.851 F1: 0.6058201058201059 Roc_auc 0.7444715352761331\n",
      "est 182 Глубина: 27 результат 0.851 F1: 0.6047745358090186 Roc_auc 0.7435504469987227\n",
      "est 183 Глубина: 27 результат 0.8505 F1: 0.6050198150594451 Roc_auc 0.7441580556523086\n",
      "est 184 Глубина: 27 результат 0.8515 F1: 0.6066225165562914 Roc_auc 0.7447850148999574\n",
      "est 185 Глубина: 27 результат 0.8515 F1: 0.6066225165562914 Roc_auc 0.7447850148999574\n",
      "est 186 Глубина: 27 результат 0.852 F1: 0.6074270557029179 Roc_auc 0.745098494523782\n",
      "est 187 Глубина: 27 результат 0.851 F1: 0.6058201058201059 Roc_auc 0.7444715352761331\n",
      "est 188 Глубина: 27 результат 0.8525 F1: 0.607190412782956 Roc_auc 0.7444908858701962\n",
      "est 189 Глубина: 27 результат 0.852 F1: 0.6074270557029179 Roc_auc 0.745098494523782\n",
      "est 190 Глубина: 27 результат 0.8525 F1: 0.6082337317397079 Roc_auc 0.7454119741476064\n",
      "est 191 Глубина: 27 результат 0.8515 F1: 0.6066225165562914 Roc_auc 0.7447850148999574\n",
      "est 192 Глубина: 27 результат 0.8505 F1: 0.6029216467463479 Roc_auc 0.7423158790974882\n",
      "est 193 Глубина: 27 результат 0.85 F1: 0.6031746031746031 Roc_auc 0.742923487751074\n",
      "est 194 Глубина: 27 результат 0.85 F1: 0.6021220159151194 Roc_auc 0.7420023994736638\n",
      "est 195 Глубина: 27 результат 0.8495 F1: 0.6023778071334214 Roc_auc 0.7426100081272494\n",
      "est 196 Глубина: 27 результат 0.85 F1: 0.6021220159151194 Roc_auc 0.7420023994736638\n",
      "est 197 Глубина: 27 результат 0.85 F1: 0.6031746031746031 Roc_auc 0.742923487751074\n",
      "est 198 Глубина: 27 результат 0.852 F1: 0.6063829787234044 Roc_auc 0.7441774062463717\n",
      "est 199 Глубина: 27 результат 0.8525 F1: 0.6092715231788078 Roc_auc 0.7463330624250164\n",
      "est 200 Глубина: 27 результат 0.8515 F1: 0.6045272969374167 Roc_auc 0.7429428383451372\n",
      "est 201 Глубина: 27 результат 0.8525 F1: 0.6092715231788078 Roc_auc 0.7463330624250164\n",
      "est 202 Глубина: 27 результат 0.852 F1: 0.6074270557029179 Roc_auc 0.745098494523782\n",
      "est 203 Глубина: 27 результат 0.851 F1: 0.6058201058201059 Roc_auc 0.7444715352761331\n",
      "est 204 Глубина: 27 результат 0.852 F1: 0.6074270557029179 Roc_auc 0.745098494523782\n",
      "est 205 Глубина: 27 результат 0.851 F1: 0.6058201058201059 Roc_auc 0.7444715352761331\n",
      "est 206 Глубина: 27 результат 0.8515 F1: 0.6066225165562914 Roc_auc 0.7447850148999574\n",
      "est 207 Глубина: 27 результат 0.852 F1: 0.6094986807387863 Roc_auc 0.7469406710786022\n",
      "est 208 Глубина: 27 результат 0.853 F1: 0.6090425531914894 Roc_auc 0.7457254537714308\n",
      "est 209 Глубина: 27 результат 0.8535 F1: 0.6108897742363878 Roc_auc 0.7469600216726653\n",
      "est 210 Глубина: 27 результат 0.8535 F1: 0.6098535286284953 Roc_auc 0.7460389333952553\n",
      "est 180 Глубина: 28 результат 0.8505 F1: 0.6039735099337749 Roc_auc 0.7432369673748984\n",
      "est 181 Глубина: 28 результат 0.851 F1: 0.6058201058201059 Roc_auc 0.7444715352761331\n",
      "est 182 Глубина: 28 результат 0.851 F1: 0.6047745358090186 Roc_auc 0.7435504469987227\n",
      "est 183 Глубина: 28 результат 0.8505 F1: 0.6050198150594451 Roc_auc 0.7441580556523086\n",
      "est 184 Глубина: 28 результат 0.8515 F1: 0.6066225165562914 Roc_auc 0.7447850148999574\n",
      "est 185 Глубина: 28 результат 0.8515 F1: 0.6066225165562914 Roc_auc 0.7447850148999574\n",
      "est 186 Глубина: 28 результат 0.852 F1: 0.6074270557029179 Roc_auc 0.745098494523782\n",
      "est 187 Глубина: 28 результат 0.851 F1: 0.6058201058201059 Roc_auc 0.7444715352761331\n",
      "est 188 Глубина: 28 результат 0.8525 F1: 0.607190412782956 Roc_auc 0.7444908858701962\n",
      "est 189 Глубина: 28 результат 0.852 F1: 0.6074270557029179 Roc_auc 0.745098494523782\n",
      "est 190 Глубина: 28 результат 0.8525 F1: 0.6082337317397079 Roc_auc 0.7454119741476064\n",
      "est 191 Глубина: 28 результат 0.8515 F1: 0.6066225165562914 Roc_auc 0.7447850148999574\n",
      "est 192 Глубина: 28 результат 0.8505 F1: 0.6029216467463479 Roc_auc 0.7423158790974882\n",
      "est 193 Глубина: 28 результат 0.85 F1: 0.6031746031746031 Roc_auc 0.742923487751074\n",
      "est 194 Глубина: 28 результат 0.85 F1: 0.6021220159151194 Roc_auc 0.7420023994736638\n",
      "est 195 Глубина: 28 результат 0.8495 F1: 0.6023778071334214 Roc_auc 0.7426100081272494\n",
      "est 196 Глубина: 28 результат 0.85 F1: 0.6021220159151194 Roc_auc 0.7420023994736638\n",
      "est 197 Глубина: 28 результат 0.85 F1: 0.6031746031746031 Roc_auc 0.742923487751074\n",
      "est 198 Глубина: 28 результат 0.852 F1: 0.6063829787234044 Roc_auc 0.7441774062463717\n",
      "est 199 Глубина: 28 результат 0.8525 F1: 0.6092715231788078 Roc_auc 0.7463330624250164\n",
      "est 200 Глубина: 28 результат 0.8515 F1: 0.6045272969374167 Roc_auc 0.7429428383451372\n",
      "est 201 Глубина: 28 результат 0.8525 F1: 0.6092715231788078 Roc_auc 0.7463330624250164\n",
      "est 202 Глубина: 28 результат 0.852 F1: 0.6074270557029179 Roc_auc 0.745098494523782\n",
      "est 203 Глубина: 28 результат 0.851 F1: 0.6058201058201059 Roc_auc 0.7444715352761331\n",
      "est 204 Глубина: 28 результат 0.852 F1: 0.6074270557029179 Roc_auc 0.745098494523782\n",
      "est 205 Глубина: 28 результат 0.851 F1: 0.6058201058201059 Roc_auc 0.7444715352761331\n",
      "est 206 Глубина: 28 результат 0.8515 F1: 0.6066225165562914 Roc_auc 0.7447850148999574\n",
      "est 207 Глубина: 28 результат 0.852 F1: 0.6094986807387863 Roc_auc 0.7469406710786022\n",
      "est 208 Глубина: 28 результат 0.853 F1: 0.6090425531914894 Roc_auc 0.7457254537714308\n",
      "est 209 Глубина: 28 результат 0.8535 F1: 0.6108897742363878 Roc_auc 0.7469600216726653\n",
      "est 210 Глубина: 28 результат 0.8535 F1: 0.6098535286284953 Roc_auc 0.7460389333952553\n",
      "est 180 Глубина: 29 результат 0.8505 F1: 0.6039735099337749 Roc_auc 0.7432369673748984\n",
      "est 181 Глубина: 29 результат 0.851 F1: 0.6058201058201059 Roc_auc 0.7444715352761331\n",
      "est 182 Глубина: 29 результат 0.851 F1: 0.6047745358090186 Roc_auc 0.7435504469987227\n",
      "est 183 Глубина: 29 результат 0.8505 F1: 0.6050198150594451 Roc_auc 0.7441580556523086\n",
      "est 184 Глубина: 29 результат 0.8515 F1: 0.6066225165562914 Roc_auc 0.7447850148999574\n",
      "est 185 Глубина: 29 результат 0.8515 F1: 0.6066225165562914 Roc_auc 0.7447850148999574\n",
      "est 186 Глубина: 29 результат 0.852 F1: 0.6074270557029179 Roc_auc 0.745098494523782\n",
      "est 187 Глубина: 29 результат 0.851 F1: 0.6058201058201059 Roc_auc 0.7444715352761331\n",
      "est 188 Глубина: 29 результат 0.8525 F1: 0.607190412782956 Roc_auc 0.7444908858701962\n",
      "est 189 Глубина: 29 результат 0.852 F1: 0.6074270557029179 Roc_auc 0.745098494523782\n",
      "est 190 Глубина: 29 результат 0.8525 F1: 0.6082337317397079 Roc_auc 0.7454119741476064\n",
      "est 191 Глубина: 29 результат 0.8515 F1: 0.6066225165562914 Roc_auc 0.7447850148999574\n",
      "est 192 Глубина: 29 результат 0.8505 F1: 0.6029216467463479 Roc_auc 0.7423158790974882\n",
      "est 193 Глубина: 29 результат 0.85 F1: 0.6031746031746031 Roc_auc 0.742923487751074\n",
      "est 194 Глубина: 29 результат 0.85 F1: 0.6021220159151194 Roc_auc 0.7420023994736638\n",
      "est 195 Глубина: 29 результат 0.8495 F1: 0.6023778071334214 Roc_auc 0.7426100081272494\n",
      "est 196 Глубина: 29 результат 0.85 F1: 0.6021220159151194 Roc_auc 0.7420023994736638\n",
      "est 197 Глубина: 29 результат 0.85 F1: 0.6031746031746031 Roc_auc 0.742923487751074\n",
      "est 198 Глубина: 29 результат 0.852 F1: 0.6063829787234044 Roc_auc 0.7441774062463717\n",
      "est 199 Глубина: 29 результат 0.8525 F1: 0.6092715231788078 Roc_auc 0.7463330624250164\n",
      "est 200 Глубина: 29 результат 0.8515 F1: 0.6045272969374167 Roc_auc 0.7429428383451372\n",
      "est 201 Глубина: 29 результат 0.8525 F1: 0.6092715231788078 Roc_auc 0.7463330624250164\n",
      "est 202 Глубина: 29 результат 0.852 F1: 0.6074270557029179 Roc_auc 0.745098494523782\n",
      "est 203 Глубина: 29 результат 0.851 F1: 0.6058201058201059 Roc_auc 0.7444715352761331\n",
      "est 204 Глубина: 29 результат 0.852 F1: 0.6074270557029179 Roc_auc 0.745098494523782\n",
      "est 205 Глубина: 29 результат 0.851 F1: 0.6058201058201059 Roc_auc 0.7444715352761331\n",
      "est 206 Глубина: 29 результат 0.8515 F1: 0.6066225165562914 Roc_auc 0.7447850148999574\n",
      "est 207 Глубина: 29 результат 0.852 F1: 0.6094986807387863 Roc_auc 0.7469406710786022\n",
      "est 208 Глубина: 29 результат 0.853 F1: 0.6090425531914894 Roc_auc 0.7457254537714308\n",
      "est 209 Глубина: 29 результат 0.8535 F1: 0.6108897742363878 Roc_auc 0.7469600216726653\n",
      "est 210 Глубина: 29 результат 0.8535 F1: 0.6098535286284953 Roc_auc 0.7460389333952553\n",
      " \n",
      "Лучший результат cлучайного леса F1-меры: 0.611260053619303 Глубина: 23 n_estimators 196 Roc_auc: 0.7460582839893184\n"
     ]
    }
   ],
   "source": [
    "best_model = None\n",
    "best_result = 0\n",
    "best_est = 0\n",
    "\n",
    "for depth in range(7,30):\n",
    "    for est in range(180,211):\n",
    "        model_forest = RandomForestClassifier(random_state = state,max_depth = depth, n_estimators = est)\n",
    "        model_forest.fit(features_train_up,target_train_up)\n",
    "        prediction_valid = model_forest.predict(features_valid)\n",
    "        res = model_forest.score(features_valid, target_valid)\n",
    "        F1 = f1_score(target_valid, prediction_valid)\n",
    "        Roc_auc = roc_auc_score(target_valid, prediction_valid)\n",
    "        print('est',est,'Глубина:', depth, 'результат', res, \"F1:\", F1, 'Roc_auc', Roc_auc)  \n",
    "        if best_result < F1:\n",
    "            Roc_auc_f = Roc_auc\n",
    "            best_model = model_forest\n",
    "            best_result = F1\n",
    "            best_depth = depth\n",
    "            best_forest_res_up = best_result\n",
    "            n_estimators = est\n",
    "\n",
    "print(' ')        \n",
    "print('Лучший результат cлучайного леса F1-меры:', best_forest_res_up,'Глубина:', best_depth,'n_estimators', n_estimators,'Roc_auc:', Roc_auc_f)\n"
   ]
  },
  {
   "cell_type": "code",
   "execution_count": null,
   "metadata": {},
   "outputs": [],
   "source": [
    "Лучший результат cлучайного леса F1-меры: 0.611260053619303 Глубина: 23 n_estimators 196 Roc_auc: 0.7460582839893184"
   ]
  },
  {
   "cell_type": "code",
   "execution_count": 94,
   "metadata": {},
   "outputs": [
    {
     "name": "stdout",
     "output_type": "stream",
     "text": [
      "solver = lbfgs Результат 0.7145 F1: 0.4995617879053462 Roc_auc 0.7432563179689616\n",
      "solver = liblinear Результат 0.714 F1: 0.49824561403508766 Roc_auc 0.7432563179689616\n",
      "solver = newton-cg Результат 0.7145 F1: 0.4995617879053462 Roc_auc 0.7432563179689616\n",
      "solver = sag Результат 0.7145 F1: 0.4995617879053462 Roc_auc 0.7432563179689616\n",
      "solver = saga Результат 0.7145 F1: 0.4995617879053462 Roc_auc 0.7432563179689616\n",
      " \n",
      "Лучший результат логической регрессии F1-меры: 0.4995617879053462 solver lbfgs Roc_auc: 0.7104725415070242\n"
     ]
    }
   ],
   "source": [
    "### Регрессия\n",
    "best_model = None\n",
    "best_result = 0\n",
    "best_est = 0\n",
    "parameters = ['lbfgs', 'liblinear', 'newton-cg', 'sag', 'saga']\n",
    "for p in parameters:\n",
    "    model_reg = LogisticRegression(random_state = state , solver=p)\n",
    "    model_reg.fit(features_train_up,target_train_up)\n",
    "    prediction_valid = model_reg.predict(features_valid)\n",
    "    res = model_reg.score(features_valid, target_valid)\n",
    "    F1 = f1_score(target_valid, prediction_valid)\n",
    "    Roc_auc_r = roc_auc_score(target_valid, prediction_valid)\n",
    "    print('solver =',p, 'Результат', res, \"F1:\", F1, 'Roc_auc', Roc_auc)  \n",
    "    if best_result < F1:\n",
    "        Roc_auc_f = Roc_auc\n",
    "        best_model = model_reg\n",
    "        best_result = F1\n",
    "        best_reg_res_up = best_result\n",
    "        sov = p \n",
    "\n",
    "print(' ')        \n",
    "print('Лучший результат логической регрессии F1-меры:', best_reg_res_up,'solver', sov, 'Roc_auc:', Roc_auc_r)"
   ]
  },
  {
   "cell_type": "markdown",
   "metadata": {},
   "source": [
    "Балансная выборка "
   ]
  },
  {
   "cell_type": "code",
   "execution_count": 95,
   "metadata": {},
   "outputs": [
    {
     "name": "stdout",
     "output_type": "stream",
     "text": [
      "DecisionTreeClassifier 0.5671957671957671\n",
      "RandomForestClassifier 0.6134663341645885\n",
      "LogisticRegression 0.5069204152249135\n"
     ]
    }
   ],
   "source": [
    "print('DecisionTreeClassifier', best_tree_res_blans)\n",
    "print('RandomForestClassifier', best_forest_res_blans)\n",
    "print('LogisticRegression', best_reg_res_blans)"
   ]
  },
  {
   "cell_type": "markdown",
   "metadata": {},
   "source": [
    "Увеличенная выборка"
   ]
  },
  {
   "cell_type": "code",
   "execution_count": 99,
   "metadata": {},
   "outputs": [
    {
     "name": "stdout",
     "output_type": "stream",
     "text": [
      "DecisionTreeClassifier 0.5830346475507767\n",
      "RandomForestClassifier 0.611260053619303\n",
      "LogisticRegression 0.4995617879053462\n"
     ]
    }
   ],
   "source": [
    "print('DecisionTreeClassifier', best_tree_res_up)\n",
    "print('RandomForestClassifier', best_forest_res_up)\n",
    "print('LogisticRegression', best_reg_res_up)"
   ]
  },
  {
   "cell_type": "markdown",
   "metadata": {},
   "source": [
    "Заметно улутшились результаты Древа решений F1-меры на 0.26 на увеличениеной выборке\n",
    "У древа решений показатели сснова превысили 0.59, но результат хуже чем при балансе классов 0.611260053619303\n",
    "У логическуой регрессий результаты не улучшились"
   ]
  },
  {
   "cell_type": "code",
   "execution_count": null,
   "metadata": {},
   "outputs": [],
   "source": []
  },
  {
   "cell_type": "markdown",
   "metadata": {},
   "source": [
    "<b>Уменьшение выборки"
   ]
  },
  {
   "cell_type": "code",
   "execution_count": 101,
   "metadata": {},
   "outputs": [],
   "source": [
    "oversample = RandomUnderSampler(random_state=state)\n",
    "features_train_down, target_train_down = oversample.fit_resample(features_train, target_train)"
   ]
  },
  {
   "cell_type": "code",
   "execution_count": 102,
   "metadata": {},
   "outputs": [
    {
     "name": "stdout",
     "output_type": "stream",
     "text": [
      "max_depth = 2 результат =  0.682 F1: 0.4829268292682926 Roc_auc 0.7011494252873562\n",
      "max_depth = 3 результат =  0.7805 F1: 0.5191675794085433 Roc_auc 0.7076396145361662\n",
      "max_depth = 4 результат =  0.712 F1: 0.5043029259896729 Roc_auc 0.716273849607183\n",
      "max_depth = 5 результат =  0.7675 F1: 0.5391476709613479 Roc_auc 0.7317272340260846\n",
      "max_depth = 6 результат =  0.7355 F1: 0.5371828521434819 Roc_auc 0.7439026278106737\n",
      "max_depth = 7 результат =  0.77 F1: 0.555984555984556 Roc_auc 0.7480320445837689\n",
      "max_depth = 8 результат =  0.7725 F1: 0.5552297165200392 Roc_auc 0.7459150895932506\n",
      "max_depth = 9 результат =  0.7625 F1: 0.5419479267116682 Roc_auc 0.7368822322845311\n",
      "max_depth = 10 результат =  0.742 F1: 0.5104364326375711 Roc_auc 0.7129765083788073\n",
      "max_depth = 11 результат =  0.7425 F1: 0.505283381364073 Roc_auc 0.7077634583381709\n",
      "max_depth = 12 результат =  0.75 F1: 0.5155038759689922 Roc_auc 0.715228917527768\n",
      "max_depth = 13 результат =  0.7345 F1: 0.48195121951219505 Roc_auc 0.6880103719184179\n",
      "max_depth = 14 результат =  0.717 F1: 0.4919210053859965 Roc_auc 0.7019079685746353\n",
      "max_depth = 15 результат =  0.72 F1: 0.4833948339483395 Roc_auc 0.6927357869886606\n",
      "max_depth = 16 результат =  0.721 F1: 0.49087591240875916 Roc_auc 0.6998103641781803\n",
      "max_depth = 17 результат =  0.7165 F1: 0.485947416137806 Roc_auc 0.69606795928635\n",
      "max_depth = 18 результат =  0.707 F1: 0.48324514991181655 Roc_auc 0.6956383760981463\n",
      "max_depth = 19 результат =  0.7085 F1: 0.47992863514719003 Roc_auc 0.691973373582569\n",
      "max_depth = 20 результат =  0.7075 F1: 0.4800000000000001 Roc_auc 0.6922675026123302\n",
      "max_depth = 21 результат =  0.7085 F1: 0.48634361233480167 Roc_auc 0.6984209915244398\n",
      "max_depth = 22 результат =  0.705 F1: 0.476950354609929 Roc_auc 0.6897790162157977\n",
      "max_depth = 23 результат =  0.7015 F1: 0.4786026200873362 Roc_auc 0.6921901002360773\n",
      "max_depth = 24 результат =  0.701 F1: 0.47266313932980597 Roc_auc 0.6863500909477921\n",
      "max_depth = 25 результат =  0.699 F1: 0.4710017574692443 Roc_auc 0.6850961724524942\n",
      "max_depth = 26 результат =  0.699 F1: 0.4710017574692443 Roc_auc 0.6850961724524942\n",
      "max_depth = 27 результат =  0.699 F1: 0.4710017574692443 Roc_auc 0.6850961724524942\n",
      "max_depth = 28 результат =  0.699 F1: 0.4710017574692443 Roc_auc 0.6850961724524942\n",
      "max_depth = 29 результат =  0.699 F1: 0.4710017574692443 Roc_auc 0.6850961724524942\n",
      "max_depth = 30 результат =  0.699 F1: 0.4710017574692443 Roc_auc 0.6850961724524942\n",
      "max_depth = 31 результат =  0.699 F1: 0.4710017574692443 Roc_auc 0.6850961724524942\n",
      "max_depth = 32 результат =  0.699 F1: 0.4710017574692443 Roc_auc 0.6850961724524942\n",
      "max_depth = 33 результат =  0.699 F1: 0.4710017574692443 Roc_auc 0.6850961724524942\n",
      "max_depth = 34 результат =  0.699 F1: 0.4710017574692443 Roc_auc 0.6850961724524942\n",
      "max_depth = 35 результат =  0.699 F1: 0.4710017574692443 Roc_auc 0.6850961724524942\n",
      "max_depth = 36 результат =  0.699 F1: 0.4710017574692443 Roc_auc 0.6850961724524942\n",
      "max_depth = 37 результат =  0.699 F1: 0.4710017574692443 Roc_auc 0.6850961724524942\n",
      "max_depth = 38 результат =  0.699 F1: 0.4710017574692443 Roc_auc 0.6850961724524942\n",
      "max_depth = 39 результат =  0.699 F1: 0.4710017574692443 Roc_auc 0.6850961724524942\n",
      " \n",
      "Лучший результат дерева F1-меры: 0.555984555984556 Глубина: 7 Roc_auc: 0.7480320445837689\n"
     ]
    }
   ],
   "source": [
    "### Дерево решений\n",
    "best_model = None\n",
    "best_result = 0\n",
    "best_depth = 0\n",
    "\n",
    "for depth in range(2,40):\n",
    "    model_tree = DecisionTreeClassifier(random_state = state, max_depth = depth, criterion='entropy')\n",
    "    model_tree.fit(features_train_down,target_train_down)\n",
    "    prediction_valid = model_tree.predict(features_valid)\n",
    "    res = model_tree.score(features_valid, target_valid)\n",
    "    F1 = f1_score(target_valid, prediction_valid)\n",
    "    Roc_auc = roc_auc_score(target_valid, prediction_valid)\n",
    "    print('max_depth =',depth, 'результат = ', res, \"F1:\", F1, 'Roc_auc', Roc_auc)  \n",
    "    if best_result < F1:\n",
    "        Roc_auc_t = Roc_auc\n",
    "        best_model = model_tree\n",
    "        best_result = F1\n",
    "        best_depth = depth\n",
    "        best_tree_res_down = best_result\n",
    "\n",
    "print(' ')        \n",
    "print('Лучший результат дерева F1-меры:', best_tree_res_down, 'Глубина:', best_depth, 'Roc_auc:', Roc_auc_t)"
   ]
  },
  {
   "cell_type": "code",
   "execution_count": 103,
   "metadata": {},
   "outputs": [
    {
     "name": "stdout",
     "output_type": "stream",
     "text": [
      "est 10 результат 0.784 F1: 0.5537190082644629 Roc_auc 0.738387708502651\n",
      "est 20 результат 0.778 F1: 0.5612648221343874 Roc_auc 0.7493633654553196\n",
      "est 30 результат 0.7915 F1: 0.579212916246216 Roc_auc 0.76059058013081\n",
      "est 40 результат 0.791 F1: 0.579476861167002 Roc_auc 0.7611981887843957\n",
      "est 50 результат 0.7865 F1: 0.5725725725725725 Roc_auc 0.7565346956151554\n",
      "est 60 результат 0.785 F1: 0.5725646123260437 Roc_auc 0.7574364332985023\n",
      "est 70 результат 0.7905 F1: 0.5805805805805805 Roc_auc 0.7627268857153915\n",
      "est 80 результат 0.7875 F1: 0.5779543197616683 Roc_auc 0.7617670962498548\n",
      "est 90 результат 0.789 F1: 0.5813492063492063 Roc_auc 0.7645497116761485\n",
      "est 100 результат 0.784 F1: 0.5739644970414202 Roc_auc 0.7595727388830837\n",
      "est 110 результат 0.7845 F1: 0.576204523107178 Roc_auc 0.7617283950617284\n",
      "est 120 результат 0.782 F1: 0.5691699604743082 Roc_auc 0.7555555555555556\n",
      "est 130 результат 0.784 F1: 0.5722772277227722 Roc_auc 0.7577305623282634\n",
      "est 140 результат 0.785 F1: 0.575098814229249 Roc_auc 0.7601996981307326\n",
      "est 150 результат 0.786 F1: 0.5779092702169626 Roc_auc 0.7626688339332017\n",
      "est 160 результат 0.787 F1: 0.5782178217821782 Roc_auc 0.7623747049034405\n",
      "est 170 результат 0.783 F1: 0.5736738703339882 Roc_auc 0.7598668679128449\n",
      "est 180 результат 0.785 F1: 0.5767716535433071 Roc_auc 0.7620418746855528\n",
      "est 190 результат 0.786 F1: 0.5779092702169626 Roc_auc 0.7626688339332017\n",
      "est 200 результат 0.785 F1: 0.5767716535433071 Roc_auc 0.7620418746855528\n",
      "est 210 результат 0.7845 F1: 0.576204523107178 Roc_auc 0.7617283950617284\n",
      "est 220 результат 0.7825 F1: 0.5739471106758081 Roc_auc 0.7604744765664306\n",
      "est 230 результат 0.7815 F1: 0.5728250244379276 Roc_auc 0.7598475173187815\n",
      "est 240 результат 0.7795 F1: 0.5705939629990263 Roc_auc 0.7585935988234839\n",
      "est 250 результат 0.78 F1: 0.5711500974658869 Roc_auc 0.7589070784473083\n",
      "est 260 результат 0.7805 F1: 0.5717073170731707 Roc_auc 0.7592205580711328\n",
      "est 270 результат 0.7805 F1: 0.5717073170731707 Roc_auc 0.7592205580711328\n",
      "est 280 результат 0.7805 F1: 0.5717073170731707 Roc_auc 0.7592205580711328\n",
      "est 290 результат 0.7805 F1: 0.570869990224829 Roc_auc 0.7582994697937226\n",
      "est 300 результат 0.78 F1: 0.5711500974658869 Roc_auc 0.7589070784473083\n",
      "est 310 результат 0.7815 F1: 0.5728250244379276 Roc_auc 0.7598475173187815\n",
      "est 320 результат 0.781 F1: 0.5705882352941176 Roc_auc 0.757691861140137\n",
      "est 330 результат 0.779 F1: 0.5683593750000001 Roc_auc 0.7564379426448392\n",
      "est 340 результат 0.781 F1: 0.5714285714285714 Roc_auc 0.7586129494175471\n",
      "est 350 результат 0.7795 F1: 0.5689149560117303 Roc_auc 0.7567514222686637\n",
      "est 360 результат 0.7795 F1: 0.5697560975609756 Roc_auc 0.7576725105460738\n",
      "est 370 результат 0.781 F1: 0.5705882352941176 Roc_auc 0.757691861140137\n",
      "est 380 результат 0.781 F1: 0.5714285714285714 Roc_auc 0.7586129494175471\n",
      "est 390 результат 0.782 F1: 0.5725490196078431 Roc_auc 0.759239908665196\n",
      "est 400 результат 0.783 F1: 0.5736738703339882 Roc_auc 0.7598668679128449\n",
      "est 410 результат 0.784 F1: 0.5748031496062992 Roc_auc 0.760493827160494\n",
      "est 420 результат 0.783 F1: 0.5745098039215687 Roc_auc 0.7607879561902551\n",
      "est 430 результат 0.78 F1: 0.5694716242661448 Roc_auc 0.7570649018924881\n",
      "est 440 результат 0.7805 F1: 0.570869990224829 Roc_auc 0.7582994697937226\n",
      "est 450 результат 0.782 F1: 0.573385518590998 Roc_auc 0.7601609969426061\n",
      "est 460 результат 0.7815 F1: 0.5719882468168462 Roc_auc 0.7589264290413716\n",
      "est 470 результат 0.781 F1: 0.5697445972495088 Roc_auc 0.7567707728627269\n",
      "est 480 результат 0.7815 F1: 0.5711481844946026 Roc_auc 0.7580053407639614\n",
      "est 490 результат 0.7815 F1: 0.5719882468168462 Roc_auc 0.7589264290413716\n",
      "est 500 результат 0.7805 F1: 0.5691854759568205 Roc_auc 0.7564572932389025\n",
      "est 510 результат 0.7815 F1: 0.5703048180924287 Roc_auc 0.7570842524865513\n",
      "est 520 результат 0.7805 F1: 0.5691854759568205 Roc_auc 0.7564572932389025\n",
      "est 530 результат 0.7805 F1: 0.5700293829578844 Roc_auc 0.7573783815163124\n",
      "est 540 результат 0.781 F1: 0.5714285714285714 Roc_auc 0.7586129494175471\n",
      "est 550 результат 0.7815 F1: 0.5728250244379276 Roc_auc 0.7598475173187815\n",
      "est 560 результат 0.7825 F1: 0.5739471106758081 Roc_auc 0.7604744765664306\n",
      "est 570 результат 0.782 F1: 0.573385518590998 Roc_auc 0.7601609969426061\n",
      "est 580 результат 0.783 F1: 0.5745098039215687 Roc_auc 0.7607879561902551\n",
      "est 590 результат 0.7825 F1: 0.5739471106758081 Roc_auc 0.7604744765664306\n",
      " \n",
      "Лучший результат cлучайного леса F1-меры: 0.5813492063492063 n_estimators 90 Roc_auc: 0.7645497116761485\n"
     ]
    }
   ],
   "source": [
    "### Случайный лес\n",
    "best_model = None\n",
    "best_result = 0\n",
    "best_est = 0\n",
    "\n",
    "for est in range(10,600,10):\n",
    "    model_forest = RandomForestClassifier(random_state = state, n_estimators = est, n_jobs=-1)\n",
    "    model_forest.fit(features_train_down,target_train_down)\n",
    "    prediction_valid = model_forest.predict(features_valid)\n",
    "    res = model_forest.score(features_valid, target_valid)\n",
    "    F1 = f1_score(target_valid, prediction_valid)\n",
    "    Roc_auc = roc_auc_score(target_valid, prediction_valid)\n",
    "    print('est',est, 'результат', res, \"F1:\", F1, 'Roc_auc', Roc_auc)  \n",
    "    if best_result < F1:\n",
    "        Roc_auc_f = Roc_auc\n",
    "        best_model = model_forest\n",
    "        best_result = F1\n",
    "        best_forest_res_down = best_result\n",
    "        n_estimators = est\n",
    "\n",
    "print(' ')        \n",
    "print('Лучший результат cлучайного леса F1-меры:', best_forest_res_down,'n_estimators', n_estimators,'Roc_auc:', Roc_auc_f)"
   ]
  },
  {
   "cell_type": "code",
   "execution_count": 106,
   "metadata": {},
   "outputs": [
    {
     "name": "stdout",
     "output_type": "stream",
     "text": [
      "est 85 Глубина: 10 результат 0.7865 F1: 0.5784797630799605 Roc_auc 0.7629823135570262\n",
      "est 86 Глубина: 10 результат 0.7865 F1: 0.5759682224428997 Roc_auc 0.7602190487247958\n",
      "est 87 Глубина: 10 результат 0.785 F1: 0.5767716535433071 Roc_auc 0.7620418746855528\n",
      "est 88 Глубина: 10 результат 0.79 F1: 0.5825049701789264 Roc_auc 0.7651766709237975\n",
      "est 89 Глубина: 10 результат 0.7865 F1: 0.5784797630799605 Roc_auc 0.7629823135570262\n",
      "est 90 Глубина: 10 результат 0.789 F1: 0.5813492063492063 Roc_auc 0.7645497116761485\n",
      "est 91 Глубина: 10 результат 0.787 F1: 0.5815324165029468 Roc_auc 0.7660590580130809\n",
      "est 92 Глубина: 10 результат 0.791 F1: 0.5853174603174603 Roc_auc 0.7676458067262666\n",
      "est 93 Глубина: 10 результат 0.7875 F1: 0.5829244357212953 Roc_auc 0.7672936259143156\n",
      "est 94 Глубина: 10 результат 0.79 F1: 0.5841584158415841 Roc_auc 0.7670188474786177\n",
      "est 85 Глубина: 11 результат 0.7865 F1: 0.5784797630799605 Roc_auc 0.7629823135570262\n",
      "est 86 Глубина: 11 результат 0.7865 F1: 0.5759682224428997 Roc_auc 0.7602190487247958\n",
      "est 87 Глубина: 11 результат 0.785 F1: 0.5767716535433071 Roc_auc 0.7620418746855528\n",
      "est 88 Глубина: 11 результат 0.79 F1: 0.5825049701789264 Roc_auc 0.7651766709237975\n",
      "est 89 Глубина: 11 результат 0.7865 F1: 0.5784797630799605 Roc_auc 0.7629823135570262\n",
      "est 90 Глубина: 11 результат 0.789 F1: 0.5813492063492063 Roc_auc 0.7645497116761485\n",
      "est 91 Глубина: 11 результат 0.787 F1: 0.5815324165029468 Roc_auc 0.7660590580130809\n",
      "est 92 Глубина: 11 результат 0.791 F1: 0.5853174603174603 Roc_auc 0.7676458067262666\n",
      "est 93 Глубина: 11 результат 0.7875 F1: 0.5829244357212953 Roc_auc 0.7672936259143156\n",
      "est 94 Глубина: 11 результат 0.79 F1: 0.5841584158415841 Roc_auc 0.7670188474786177\n",
      "est 85 Глубина: 12 результат 0.7865 F1: 0.5784797630799605 Roc_auc 0.7629823135570262\n",
      "est 86 Глубина: 12 результат 0.7865 F1: 0.5759682224428997 Roc_auc 0.7602190487247958\n",
      "est 87 Глубина: 12 результат 0.785 F1: 0.5767716535433071 Roc_auc 0.7620418746855528\n",
      "est 88 Глубина: 12 результат 0.79 F1: 0.5825049701789264 Roc_auc 0.7651766709237975\n",
      "est 89 Глубина: 12 результат 0.7865 F1: 0.5784797630799605 Roc_auc 0.7629823135570262\n",
      "est 90 Глубина: 12 результат 0.789 F1: 0.5813492063492063 Roc_auc 0.7645497116761485\n",
      "est 91 Глубина: 12 результат 0.787 F1: 0.5815324165029468 Roc_auc 0.7660590580130809\n",
      "est 92 Глубина: 12 результат 0.791 F1: 0.5853174603174603 Roc_auc 0.7676458067262666\n",
      "est 93 Глубина: 12 результат 0.7875 F1: 0.5829244357212953 Roc_auc 0.7672936259143156\n",
      "est 94 Глубина: 12 результат 0.79 F1: 0.5841584158415841 Roc_auc 0.7670188474786177\n",
      "est 85 Глубина: 13 результат 0.7865 F1: 0.5784797630799605 Roc_auc 0.7629823135570262\n",
      "est 86 Глубина: 13 результат 0.7865 F1: 0.5759682224428997 Roc_auc 0.7602190487247958\n",
      "est 87 Глубина: 13 результат 0.785 F1: 0.5767716535433071 Roc_auc 0.7620418746855528\n",
      "est 88 Глубина: 13 результат 0.79 F1: 0.5825049701789264 Roc_auc 0.7651766709237975\n",
      "est 89 Глубина: 13 результат 0.7865 F1: 0.5784797630799605 Roc_auc 0.7629823135570262\n",
      "est 90 Глубина: 13 результат 0.789 F1: 0.5813492063492063 Roc_auc 0.7645497116761485\n",
      "est 91 Глубина: 13 результат 0.787 F1: 0.5815324165029468 Roc_auc 0.7660590580130809\n",
      "est 92 Глубина: 13 результат 0.791 F1: 0.5853174603174603 Roc_auc 0.7676458067262666\n",
      "est 93 Глубина: 13 результат 0.7875 F1: 0.5829244357212953 Roc_auc 0.7672936259143156\n",
      "est 94 Глубина: 13 результат 0.79 F1: 0.5841584158415841 Roc_auc 0.7670188474786177\n",
      "est 85 Глубина: 14 результат 0.7865 F1: 0.5784797630799605 Roc_auc 0.7629823135570262\n",
      "est 86 Глубина: 14 результат 0.7865 F1: 0.5759682224428997 Roc_auc 0.7602190487247958\n",
      "est 87 Глубина: 14 результат 0.785 F1: 0.5767716535433071 Roc_auc 0.7620418746855528\n",
      "est 88 Глубина: 14 результат 0.79 F1: 0.5825049701789264 Roc_auc 0.7651766709237975\n",
      "est 89 Глубина: 14 результат 0.7865 F1: 0.5784797630799605 Roc_auc 0.7629823135570262\n",
      "est 90 Глубина: 14 результат 0.789 F1: 0.5813492063492063 Roc_auc 0.7645497116761485\n",
      "est 91 Глубина: 14 результат 0.787 F1: 0.5815324165029468 Roc_auc 0.7660590580130809\n",
      "est 92 Глубина: 14 результат 0.791 F1: 0.5853174603174603 Roc_auc 0.7676458067262666\n",
      "est 93 Глубина: 14 результат 0.7875 F1: 0.5829244357212953 Roc_auc 0.7672936259143156\n",
      "est 94 Глубина: 14 результат 0.79 F1: 0.5841584158415841 Roc_auc 0.7670188474786177\n",
      "est 85 Глубина: 15 результат 0.7865 F1: 0.5784797630799605 Roc_auc 0.7629823135570262\n",
      "est 86 Глубина: 15 результат 0.7865 F1: 0.5759682224428997 Roc_auc 0.7602190487247958\n",
      "est 87 Глубина: 15 результат 0.785 F1: 0.5767716535433071 Roc_auc 0.7620418746855528\n",
      "est 88 Глубина: 15 результат 0.79 F1: 0.5825049701789264 Roc_auc 0.7651766709237975\n",
      "est 89 Глубина: 15 результат 0.7865 F1: 0.5784797630799605 Roc_auc 0.7629823135570262\n",
      "est 90 Глубина: 15 результат 0.789 F1: 0.5813492063492063 Roc_auc 0.7645497116761485\n",
      "est 91 Глубина: 15 результат 0.787 F1: 0.5815324165029468 Roc_auc 0.7660590580130809\n",
      "est 92 Глубина: 15 результат 0.791 F1: 0.5853174603174603 Roc_auc 0.7676458067262666\n",
      "est 93 Глубина: 15 результат 0.7875 F1: 0.5829244357212953 Roc_auc 0.7672936259143156\n",
      "est 94 Глубина: 15 результат 0.79 F1: 0.5841584158415841 Roc_auc 0.7670188474786177\n",
      "est 85 Глубина: 16 результат 0.7865 F1: 0.5784797630799605 Roc_auc 0.7629823135570262\n",
      "est 86 Глубина: 16 результат 0.7865 F1: 0.5759682224428997 Roc_auc 0.7602190487247958\n",
      "est 87 Глубина: 16 результат 0.785 F1: 0.5767716535433071 Roc_auc 0.7620418746855528\n",
      "est 88 Глубина: 16 результат 0.79 F1: 0.5825049701789264 Roc_auc 0.7651766709237975\n",
      "est 89 Глубина: 16 результат 0.7865 F1: 0.5784797630799605 Roc_auc 0.7629823135570262\n",
      "est 90 Глубина: 16 результат 0.789 F1: 0.5813492063492063 Roc_auc 0.7645497116761485\n",
      "est 91 Глубина: 16 результат 0.787 F1: 0.5815324165029468 Roc_auc 0.7660590580130809\n",
      "est 92 Глубина: 16 результат 0.791 F1: 0.5853174603174603 Roc_auc 0.7676458067262666\n",
      "est 93 Глубина: 16 результат 0.7875 F1: 0.5829244357212953 Roc_auc 0.7672936259143156\n",
      "est 94 Глубина: 16 результат 0.79 F1: 0.5841584158415841 Roc_auc 0.7670188474786177\n",
      "est 85 Глубина: 17 результат 0.7865 F1: 0.5784797630799605 Roc_auc 0.7629823135570262\n",
      "est 86 Глубина: 17 результат 0.7865 F1: 0.5759682224428997 Roc_auc 0.7602190487247958\n",
      "est 87 Глубина: 17 результат 0.785 F1: 0.5767716535433071 Roc_auc 0.7620418746855528\n",
      "est 88 Глубина: 17 результат 0.79 F1: 0.5825049701789264 Roc_auc 0.7651766709237975\n",
      "est 89 Глубина: 17 результат 0.7865 F1: 0.5784797630799605 Roc_auc 0.7629823135570262\n",
      "est 90 Глубина: 17 результат 0.789 F1: 0.5813492063492063 Roc_auc 0.7645497116761485\n",
      "est 91 Глубина: 17 результат 0.787 F1: 0.5815324165029468 Roc_auc 0.7660590580130809\n",
      "est 92 Глубина: 17 результат 0.791 F1: 0.5853174603174603 Roc_auc 0.7676458067262666\n",
      "est 93 Глубина: 17 результат 0.7875 F1: 0.5829244357212953 Roc_auc 0.7672936259143156\n",
      "est 94 Глубина: 17 результат 0.79 F1: 0.5841584158415841 Roc_auc 0.7670188474786177\n",
      "est 85 Глубина: 18 результат 0.7865 F1: 0.5784797630799605 Roc_auc 0.7629823135570262\n",
      "est 86 Глубина: 18 результат 0.7865 F1: 0.5759682224428997 Roc_auc 0.7602190487247958\n",
      "est 87 Глубина: 18 результат 0.785 F1: 0.5767716535433071 Roc_auc 0.7620418746855528\n",
      "est 88 Глубина: 18 результат 0.79 F1: 0.5825049701789264 Roc_auc 0.7651766709237975\n",
      "est 89 Глубина: 18 результат 0.7865 F1: 0.5784797630799605 Roc_auc 0.7629823135570262\n",
      "est 90 Глубина: 18 результат 0.789 F1: 0.5813492063492063 Roc_auc 0.7645497116761485\n",
      "est 91 Глубина: 18 результат 0.787 F1: 0.5815324165029468 Roc_auc 0.7660590580130809\n",
      "est 92 Глубина: 18 результат 0.791 F1: 0.5853174603174603 Roc_auc 0.7676458067262666\n",
      "est 93 Глубина: 18 результат 0.7875 F1: 0.5829244357212953 Roc_auc 0.7672936259143156\n",
      "est 94 Глубина: 18 результат 0.79 F1: 0.5841584158415841 Roc_auc 0.7670188474786177\n",
      "est 85 Глубина: 19 результат 0.7865 F1: 0.5784797630799605 Roc_auc 0.7629823135570262\n",
      "est 86 Глубина: 19 результат 0.7865 F1: 0.5759682224428997 Roc_auc 0.7602190487247958\n",
      "est 87 Глубина: 19 результат 0.785 F1: 0.5767716535433071 Roc_auc 0.7620418746855528\n",
      "est 88 Глубина: 19 результат 0.79 F1: 0.5825049701789264 Roc_auc 0.7651766709237975\n",
      "est 89 Глубина: 19 результат 0.7865 F1: 0.5784797630799605 Roc_auc 0.7629823135570262\n",
      "est 90 Глубина: 19 результат 0.789 F1: 0.5813492063492063 Roc_auc 0.7645497116761485\n",
      "est 91 Глубина: 19 результат 0.787 F1: 0.5815324165029468 Roc_auc 0.7660590580130809\n",
      "est 92 Глубина: 19 результат 0.791 F1: 0.5853174603174603 Roc_auc 0.7676458067262666\n",
      "est 93 Глубина: 19 результат 0.7875 F1: 0.5829244357212953 Roc_auc 0.7672936259143156\n",
      "est 94 Глубина: 19 результат 0.79 F1: 0.5841584158415841 Roc_auc 0.7670188474786177\n",
      "est 85 Глубина: 20 результат 0.7865 F1: 0.5784797630799605 Roc_auc 0.7629823135570262\n",
      "est 86 Глубина: 20 результат 0.7865 F1: 0.5759682224428997 Roc_auc 0.7602190487247958\n",
      "est 87 Глубина: 20 результат 0.785 F1: 0.5767716535433071 Roc_auc 0.7620418746855528\n",
      "est 88 Глубина: 20 результат 0.79 F1: 0.5825049701789264 Roc_auc 0.7651766709237975\n",
      "est 89 Глубина: 20 результат 0.7865 F1: 0.5784797630799605 Roc_auc 0.7629823135570262\n",
      "est 90 Глубина: 20 результат 0.789 F1: 0.5813492063492063 Roc_auc 0.7645497116761485\n",
      "est 91 Глубина: 20 результат 0.787 F1: 0.5815324165029468 Roc_auc 0.7660590580130809\n",
      "est 92 Глубина: 20 результат 0.791 F1: 0.5853174603174603 Roc_auc 0.7676458067262666\n",
      "est 93 Глубина: 20 результат 0.7875 F1: 0.5829244357212953 Roc_auc 0.7672936259143156\n",
      "est 94 Глубина: 20 результат 0.79 F1: 0.5841584158415841 Roc_auc 0.7670188474786177\n",
      "est 85 Глубина: 21 результат 0.7865 F1: 0.5784797630799605 Roc_auc 0.7629823135570262\n",
      "est 86 Глубина: 21 результат 0.7865 F1: 0.5759682224428997 Roc_auc 0.7602190487247958\n",
      "est 87 Глубина: 21 результат 0.785 F1: 0.5767716535433071 Roc_auc 0.7620418746855528\n",
      "est 88 Глубина: 21 результат 0.79 F1: 0.5825049701789264 Roc_auc 0.7651766709237975\n",
      "est 89 Глубина: 21 результат 0.7865 F1: 0.5784797630799605 Roc_auc 0.7629823135570262\n",
      "est 90 Глубина: 21 результат 0.789 F1: 0.5813492063492063 Roc_auc 0.7645497116761485\n",
      "est 91 Глубина: 21 результат 0.787 F1: 0.5815324165029468 Roc_auc 0.7660590580130809\n",
      "est 92 Глубина: 21 результат 0.791 F1: 0.5853174603174603 Roc_auc 0.7676458067262666\n",
      "est 93 Глубина: 21 результат 0.7875 F1: 0.5829244357212953 Roc_auc 0.7672936259143156\n",
      "est 94 Глубина: 21 результат 0.79 F1: 0.5841584158415841 Roc_auc 0.7670188474786177\n",
      "est 85 Глубина: 22 результат 0.7865 F1: 0.5784797630799605 Roc_auc 0.7629823135570262\n",
      "est 86 Глубина: 22 результат 0.7865 F1: 0.5759682224428997 Roc_auc 0.7602190487247958\n",
      "est 87 Глубина: 22 результат 0.785 F1: 0.5767716535433071 Roc_auc 0.7620418746855528\n",
      "est 88 Глубина: 22 результат 0.79 F1: 0.5825049701789264 Roc_auc 0.7651766709237975\n",
      "est 89 Глубина: 22 результат 0.7865 F1: 0.5784797630799605 Roc_auc 0.7629823135570262\n",
      "est 90 Глубина: 22 результат 0.789 F1: 0.5813492063492063 Roc_auc 0.7645497116761485\n",
      "est 91 Глубина: 22 результат 0.787 F1: 0.5815324165029468 Roc_auc 0.7660590580130809\n",
      "est 92 Глубина: 22 результат 0.791 F1: 0.5853174603174603 Roc_auc 0.7676458067262666\n",
      "est 93 Глубина: 22 результат 0.7875 F1: 0.5829244357212953 Roc_auc 0.7672936259143156\n",
      "est 94 Глубина: 22 результат 0.79 F1: 0.5841584158415841 Roc_auc 0.7670188474786177\n",
      "est 85 Глубина: 23 результат 0.7865 F1: 0.5784797630799605 Roc_auc 0.7629823135570262\n",
      "est 86 Глубина: 23 результат 0.7865 F1: 0.5759682224428997 Roc_auc 0.7602190487247958\n",
      "est 87 Глубина: 23 результат 0.785 F1: 0.5767716535433071 Roc_auc 0.7620418746855528\n",
      "est 88 Глубина: 23 результат 0.79 F1: 0.5825049701789264 Roc_auc 0.7651766709237975\n",
      "est 89 Глубина: 23 результат 0.7865 F1: 0.5784797630799605 Roc_auc 0.7629823135570262\n",
      "est 90 Глубина: 23 результат 0.789 F1: 0.5813492063492063 Roc_auc 0.7645497116761485\n",
      "est 91 Глубина: 23 результат 0.787 F1: 0.5815324165029468 Roc_auc 0.7660590580130809\n",
      "est 92 Глубина: 23 результат 0.791 F1: 0.5853174603174603 Roc_auc 0.7676458067262666\n",
      "est 93 Глубина: 23 результат 0.7875 F1: 0.5829244357212953 Roc_auc 0.7672936259143156\n",
      "est 94 Глубина: 23 результат 0.79 F1: 0.5841584158415841 Roc_auc 0.7670188474786177\n",
      "est 85 Глубина: 24 результат 0.7865 F1: 0.5784797630799605 Roc_auc 0.7629823135570262\n",
      "est 86 Глубина: 24 результат 0.7865 F1: 0.5759682224428997 Roc_auc 0.7602190487247958\n",
      "est 87 Глубина: 24 результат 0.785 F1: 0.5767716535433071 Roc_auc 0.7620418746855528\n",
      "est 88 Глубина: 24 результат 0.79 F1: 0.5825049701789264 Roc_auc 0.7651766709237975\n",
      "est 89 Глубина: 24 результат 0.7865 F1: 0.5784797630799605 Roc_auc 0.7629823135570262\n",
      "est 90 Глубина: 24 результат 0.789 F1: 0.5813492063492063 Roc_auc 0.7645497116761485\n",
      "est 91 Глубина: 24 результат 0.787 F1: 0.5815324165029468 Roc_auc 0.7660590580130809\n",
      "est 92 Глубина: 24 результат 0.791 F1: 0.5853174603174603 Roc_auc 0.7676458067262666\n",
      "est 93 Глубина: 24 результат 0.7875 F1: 0.5829244357212953 Roc_auc 0.7672936259143156\n",
      "est 94 Глубина: 24 результат 0.79 F1: 0.5841584158415841 Roc_auc 0.7670188474786177\n",
      " \n",
      "Лучший результат cлучайного леса F1-меры: 0.5853174603174603 Глубина: 10 n_estimators 92 Roc_auc: 0.7676458067262666\n"
     ]
    }
   ],
   "source": [
    "best_model = None\n",
    "best_result = 0\n",
    "best_est = 0\n",
    "\n",
    "for depth in range(10,25):\n",
    "    for est in range(85,95):\n",
    "        model_forest = RandomForestClassifier(random_state = state, n_estimators = est, n_jobs=-1)\n",
    "        model_forest.fit(features_train_down,target_train_down)\n",
    "        prediction_valid = model_forest.predict(features_valid)\n",
    "        res = model_forest.score(features_valid, target_valid)\n",
    "        F1 = f1_score(target_valid, prediction_valid)\n",
    "        Roc_auc = roc_auc_score(target_valid, prediction_valid)\n",
    "        print('est',est,'Глубина:', depth, 'результат', res, \"F1:\", F1, 'Roc_auc', Roc_auc)  \n",
    "        if best_result < F1:\n",
    "            Roc_auc_f = Roc_auc\n",
    "            best_model = model_forest\n",
    "            best_result = F1\n",
    "            best_depth = depth\n",
    "            best_forest_res_down = best_result\n",
    "            n_estimators = est\n",
    "\n",
    "print(' ')        \n",
    "print('Лучший результат cлучайного леса F1-меры:', best_forest_res_down,'Глубина:', best_depth,'n_estimators', n_estimators,'Roc_auc:', Roc_auc_f)"
   ]
  },
  {
   "cell_type": "code",
   "execution_count": 107,
   "metadata": {},
   "outputs": [
    {
     "name": "stdout",
     "output_type": "stream",
     "text": [
      "solver = lbfgs Результат 0.717 F1: 0.5078260869565216 Roc_auc 0.7670188474786177\n",
      "solver = liblinear Результат 0.717 F1: 0.5069686411149826 Roc_auc 0.7670188474786177\n",
      "solver = newton-cg Результат 0.717 F1: 0.5078260869565216 Roc_auc 0.7670188474786177\n",
      "solver = sag Результат 0.717 F1: 0.5078260869565216 Roc_auc 0.7670188474786177\n",
      "solver = saga Результат 0.717 F1: 0.5078260869565216 Roc_auc 0.7670188474786177\n",
      " \n",
      "Лучший результат логической регрессии F1-меры: 0.5078260869565216 solver lbfgs Roc_auc: 0.7184875575680173\n"
     ]
    }
   ],
   "source": [
    "### Регрессия\n",
    "best_model = None\n",
    "best_result = 0\n",
    "best_est = 0\n",
    "parameters = ['lbfgs', 'liblinear', 'newton-cg', 'sag', 'saga']\n",
    "for p in parameters:\n",
    "    model_reg = LogisticRegression(random_state = state , solver=p)\n",
    "    model_reg.fit(features_train_down,target_train_down)\n",
    "    prediction_valid = model_reg.predict(features_valid)\n",
    "    res = model_reg.score(features_valid, target_valid)\n",
    "    F1 = f1_score(target_valid, prediction_valid)\n",
    "    Roc_auc_r = roc_auc_score(target_valid, prediction_valid)\n",
    "    print('solver =',p, 'Результат', res, \"F1:\", F1, 'Roc_auc', Roc_auc)  \n",
    "    if best_result < F1:\n",
    "        Roc_auc_f = Roc_auc\n",
    "        best_model = model_reg\n",
    "        best_result = F1\n",
    "        best_reg_res_down = best_result\n",
    "        sov = p \n",
    "\n",
    "print(' ')        \n",
    "print('Лучший результат логической регрессии F1-меры:', best_reg_res_down,'solver', sov, 'Roc_auc:', Roc_auc_r)"
   ]
  },
  {
   "cell_type": "markdown",
   "metadata": {},
   "source": [
    "<h>Результаты:"
   ]
  },
  {
   "cell_type": "code",
   "execution_count": null,
   "metadata": {},
   "outputs": [],
   "source": [
    "Балансной выборки"
   ]
  },
  {
   "cell_type": "code",
   "execution_count": 108,
   "metadata": {},
   "outputs": [
    {
     "name": "stdout",
     "output_type": "stream",
     "text": [
      "DecisionTreeClassifier 0.5671957671957671\n",
      "RandomForestClassifier 0.6134663341645885\n",
      "LogisticRegression 0.5069204152249135\n"
     ]
    }
   ],
   "source": [
    "print('DecisionTreeClassifier', best_tree_res_blans)\n",
    "print('RandomForestClassifier', best_forest_res_blans)\n",
    "print('LogisticRegression', best_reg_res_blans)"
   ]
  },
  {
   "cell_type": "markdown",
   "metadata": {},
   "source": [
    "Увеличенной"
   ]
  },
  {
   "cell_type": "code",
   "execution_count": 109,
   "metadata": {},
   "outputs": [
    {
     "name": "stdout",
     "output_type": "stream",
     "text": [
      "DecisionTreeClassifier 0.5830346475507767\n",
      "RandomForestClassifier 0.611260053619303\n",
      "LogisticRegression 0.4995617879053462\n"
     ]
    }
   ],
   "source": [
    "print('DecisionTreeClassifier', best_tree_res_up)\n",
    "print('RandomForestClassifier', best_forest_res_up)\n",
    "print('LogisticRegression', best_reg_res_up)"
   ]
  },
  {
   "cell_type": "markdown",
   "metadata": {},
   "source": [
    "Уменьшеной выборки после подбора гипер параметров."
   ]
  },
  {
   "cell_type": "code",
   "execution_count": 111,
   "metadata": {},
   "outputs": [
    {
     "name": "stdout",
     "output_type": "stream",
     "text": [
      "DecisionTreeClassifier 0.555984555984556\n",
      "RandomForestClassifier 0.5853174603174603\n",
      "LogisticRegression 0.5078260869565216\n"
     ]
    }
   ],
   "source": [
    "print('DecisionTreeClassifier', best_tree_res_down)\n",
    "print('RandomForestClassifier', best_forest_res_down)\n",
    "print('LogisticRegression', best_reg_res_down)"
   ]
  },
  {
   "cell_type": "markdown",
   "metadata": {},
   "source": [
    "При уменьшении выборки результат предсказаний получается даже хуже чем у моделей с не баласными классами, и увеливенной выбокой, только модель логисчтической регрессии показала улучшение и лучший свой результат.\n",
    "Но ниодна модель так и не достигла порога 0.59"
   ]
  },
  {
   "cell_type": "markdown",
   "metadata": {},
   "source": [
    "<b>Изменение порога"
   ]
  },
  {
   "cell_type": "markdown",
   "metadata": {},
   "source": [
    "probabilities_one_valid = probabilities_valid[:, 1]\n",
    "\n",
    "for threshold in np.arange(0, 0.8, 0.02):\n",
    "    predicted_valid = probabilities_one_valid > threshold \n",
    "    precision = precision_score(target_valid, predicted_valid)\n",
    "    recall = recall_score(target_valid, predicted_valid)\n",
    "\n",
    "    print(\"Порог = {:.2f} | Точность = {:.3f}, Полнота = {:.3f}\".format(\n",
    "        threshold, precision, recall))"
   ]
  },
  {
   "cell_type": "code",
   "execution_count": 115,
   "metadata": {},
   "outputs": [
    {
     "name": "stdout",
     "output_type": "stream",
     "text": [
      "Порог = 0.00 | Точность = 0.285, Полнота = 1.000\n",
      "Порог = 0.02 | Точность = 0.285, Полнота = 1.000\n",
      "Порог = 0.04 | Точность = 0.346, Полнота = 0.980\n",
      "Порог = 0.06 | Точность = 0.359, Полнота = 0.975\n",
      "Порог = 0.08 | Точность = 0.386, Полнота = 0.960\n",
      "Порог = 0.10 | Точность = 0.480, Полнота = 0.906\n",
      "Порог = 0.12 | Точность = 0.561, Полнота = 0.869\n",
      "Порог = 0.14 | Точность = 0.613, Полнота = 0.847\n",
      "Порог = 0.16 | Точность = 0.658, Полнота = 0.830\n",
      "Порог = 0.18 | Точность = 0.669, Полнота = 0.825\n",
      "Порог = 0.20 | Точность = 0.669, Полнота = 0.825\n",
      "Порог = 0.22 | Точность = 0.682, Полнота = 0.817\n",
      "Порог = 0.24 | Точность = 0.699, Полнота = 0.807\n",
      "Порог = 0.26 | Точность = 0.729, Полнота = 0.790\n",
      "Порог = 0.28 | Точность = 0.741, Полнота = 0.783\n",
      "Порог = 0.30 | Точность = 0.741, Полнота = 0.783\n",
      "Порог = 0.32 | Точность = 0.741, Полнота = 0.783\n",
      "Порог = 0.34 | Точность = 0.749, Полнота = 0.775\n",
      "Порог = 0.36 | Точность = 0.749, Полнота = 0.775\n",
      "Порог = 0.38 | Точность = 0.798, Полнота = 0.731\n",
      "Порог = 0.40 | Точность = 0.840, Полнота = 0.699\n",
      "Порог = 0.42 | Точность = 0.840, Полнота = 0.699\n",
      "Порог = 0.44 | Точность = 0.867, Полнота = 0.677\n",
      "Порог = 0.46 | Точность = 0.867, Полнота = 0.677\n",
      "Порог = 0.48 | Точность = 0.867, Полнота = 0.677\n",
      "Порог = 0.50 | Точность = 0.895, Полнота = 0.649\n",
      "Порог = 0.52 | Точность = 0.895, Полнота = 0.649\n",
      "Порог = 0.54 | Точность = 0.895, Полнота = 0.649\n",
      "Порог = 0.56 | Точность = 0.895, Полнота = 0.649\n",
      "Порог = 0.58 | Точность = 0.895, Полнота = 0.649\n",
      "Порог = 0.60 | Точность = 0.905, Полнота = 0.635\n",
      "Порог = 0.62 | Точность = 0.905, Полнота = 0.635\n",
      "Порог = 0.64 | Точность = 0.905, Полнота = 0.635\n",
      "Порог = 0.66 | Точность = 0.921, Полнота = 0.607\n",
      "Порог = 0.68 | Точность = 0.954, Полнота = 0.558\n",
      "Порог = 0.70 | Точность = 0.954, Полнота = 0.558\n",
      "Порог = 0.72 | Точность = 0.954, Полнота = 0.558\n",
      "Порог = 0.74 | Точность = 0.954, Полнота = 0.558\n",
      "Порог = 0.76 | Точность = 0.961, Полнота = 0.543\n",
      "Порог = 0.78 | Точность = 0.961, Полнота = 0.543\n",
      "Порог = 0.80 | Точность = 0.972, Полнота = 0.514\n",
      "\n",
      "Дерево решений\n",
      "Accuraty:  0.9135\n",
      "Precision: 0.9719626168224299\n",
      "Recall: 0.5135802469135803\n",
      "F1: 0.5078260869565216\n",
      "ROC_auc: 0.7184875575680173\n"
     ]
    }
   ],
   "source": [
    "### Дерево решений\n",
    "\n",
    "model_tree = DecisionTreeClassifier(random_state = state, max_depth = 8)\n",
    "model_tree.fit(features_valid, target_valid)\n",
    "\n",
    "res_model_tree = model_tree.score(features_valid, target_valid)\n",
    "\n",
    "probabilities_valid = model_tree.predict_proba(features_valid)\n",
    "probabilities_one_valid = probabilities_valid[:, 1]\n",
    "\n",
    "for threshold in np.arange(0, 0.81, 0.02):\n",
    "    predicted_valid = probabilities_one_valid > threshold \n",
    "    precision = precision_score(target_valid, predicted_valid)\n",
    "    recall = recall_score(target_valid, predicted_valid)\n",
    "\n",
    "    print(\"Порог = {:.2f} | Точность = {:.3f}, Полнота = {:.3f}\".format(\n",
    "        threshold, precision, recall))\n",
    "    \n",
    "print('')    \n",
    "print('Дерево решений')\n",
    "print('Accuraty: ', res_model_tree)\n",
    "print('Precision:', precision_score(target_valid, predicted_valid))\n",
    "print('Recall:', recall_score(target_valid, predicted_valid))\n",
    "print(\"F1:\", f1_score(target_valid, prediction_valid))\n",
    "print(\"ROC_auc:\", roc_auc_score(target_valid, prediction_valid))"
   ]
  },
  {
   "cell_type": "code",
   "execution_count": 116,
   "metadata": {
    "scrolled": true
   },
   "outputs": [
    {
     "name": "stdout",
     "output_type": "stream",
     "text": [
      "Порог = 0.00 | Точность = 0.203, Полнота = 1.000\n",
      "Порог = 0.02 | Точность = 0.207, Полнота = 1.000\n",
      "Порог = 0.04 | Точность = 0.228, Полнота = 1.000\n",
      "Порог = 0.06 | Точность = 0.266, Полнота = 1.000\n",
      "Порог = 0.08 | Точность = 0.309, Полнота = 1.000\n",
      "Порог = 0.10 | Точность = 0.356, Полнота = 1.000\n",
      "Порог = 0.12 | Точность = 0.410, Полнота = 1.000\n",
      "Порог = 0.14 | Точность = 0.467, Полнота = 0.993\n",
      "Порог = 0.16 | Точность = 0.518, Полнота = 0.960\n",
      "Порог = 0.18 | Точность = 0.577, Полнота = 0.941\n",
      "Порог = 0.20 | Точность = 0.620, Полнота = 0.916\n",
      "Порог = 0.22 | Точность = 0.660, Полнота = 0.891\n",
      "Порог = 0.24 | Точность = 0.702, Полнота = 0.867\n",
      "Порог = 0.26 | Точность = 0.752, Полнота = 0.844\n",
      "Порог = 0.28 | Точность = 0.781, Полнота = 0.830\n",
      "Порог = 0.30 | Точность = 0.822, Полнота = 0.810\n",
      "Порог = 0.32 | Точность = 0.835, Полнота = 0.785\n",
      "Порог = 0.34 | Точность = 0.882, Полнота = 0.753\n",
      "Порог = 0.36 | Точность = 0.899, Полнота = 0.728\n",
      "Порог = 0.38 | Точность = 0.916, Полнота = 0.696\n",
      "Порог = 0.40 | Точность = 0.934, Полнота = 0.664\n",
      "Порог = 0.42 | Точность = 0.934, Полнота = 0.625\n",
      "Порог = 0.44 | Точность = 0.949, Полнота = 0.595\n",
      "Порог = 0.46 | Точность = 0.963, Полнота = 0.573\n",
      "Порог = 0.48 | Точность = 0.982, Полнота = 0.548\n",
      "Порог = 0.50 | Точность = 0.981, Полнота = 0.523\n",
      "Порог = 0.52 | Точность = 0.980, Полнота = 0.496\n",
      "Порог = 0.54 | Точность = 0.990, Полнота = 0.479\n",
      "Порог = 0.56 | Точность = 0.989, Полнота = 0.457\n",
      "Порог = 0.58 | Точность = 0.988, Полнота = 0.422\n",
      "Порог = 0.60 | Точность = 0.994, Полнота = 0.407\n",
      "Порог = 0.62 | Точность = 0.994, Полнота = 0.395\n",
      "Порог = 0.64 | Точность = 1.000, Полнота = 0.380\n",
      "Порог = 0.66 | Точность = 1.000, Полнота = 0.360\n",
      "Порог = 0.68 | Точность = 1.000, Полнота = 0.341\n",
      "Порог = 0.70 | Точность = 1.000, Полнота = 0.323\n",
      "Порог = 0.72 | Точность = 1.000, Полнота = 0.289\n",
      "Порог = 0.74 | Точность = 1.000, Полнота = 0.267\n",
      "Порог = 0.76 | Точность = 1.000, Полнота = 0.244\n",
      "Порог = 0.78 | Точность = 1.000, Полнота = 0.230\n",
      "Порог = 0.80 | Точность = 1.000, Полнота = 0.195\n",
      "\n",
      "Случайного леса\n",
      "Accuraty:  0.9015\n",
      "Precision: 1.0\n",
      "Recall: 0.19506172839506172\n",
      "F1: 0.5078260869565216\n",
      "ROC_auc: 0.7184875575680173\n"
     ]
    }
   ],
   "source": [
    "### Случайный лес\n",
    "model_forest = RandomForestClassifier(random_state = state , n_estimators = 351, max_depth = 8)\n",
    "model_forest.fit(features_valid, target_valid)\n",
    "\n",
    "res_model_forest = model_forest.score(features_valid, target_valid)\n",
    "\n",
    "probabilities_valid = model_forest.predict_proba(features_valid)\n",
    "probabilities_one_valid = probabilities_valid[:, 1]\n",
    "\n",
    "for threshold in np.arange(0, 0.81, 0.02):\n",
    "    predicted_valid = probabilities_one_valid > threshold \n",
    "    precision = precision_score(target_valid, predicted_valid)\n",
    "    recall = recall_score(target_valid, predicted_valid)\n",
    "\n",
    "    print(\"Порог = {:.2f} | Точность = {:.3f}, Полнота = {:.3f}\".format(\n",
    "        threshold, precision, recall))\n",
    "    \n",
    "print('')    \n",
    "print('Случайного леса')\n",
    "print('Accuraty: ', res_model_forest)\n",
    "print('Precision:', precision_score(target_valid, predicted_valid))\n",
    "print('Recall:', recall_score(target_valid, predicted_valid))\n",
    "print(\"F1:\", f1_score(target_valid, prediction_valid))\n",
    "print(\"ROC_auc:\", roc_auc_score(target_valid, prediction_valid))\n"
   ]
  },
  {
   "cell_type": "code",
   "execution_count": 117,
   "metadata": {},
   "outputs": [
    {
     "name": "stdout",
     "output_type": "stream",
     "text": [
      "Порог = 0.00 | Точность = 0.203, Полнота = 1.000\n",
      "Порог = 0.02 | Точность = 0.205, Полнота = 1.000\n",
      "Порог = 0.04 | Точность = 0.219, Полнота = 0.990\n",
      "Порог = 0.06 | Точность = 0.240, Полнота = 0.963\n",
      "Порог = 0.08 | Точность = 0.260, Полнота = 0.936\n",
      "Порог = 0.10 | Точность = 0.279, Полнота = 0.889\n",
      "Порог = 0.12 | Точность = 0.295, Полнота = 0.842\n",
      "Порог = 0.14 | Точность = 0.314, Полнота = 0.822\n",
      "Порог = 0.16 | Точность = 0.335, Полнота = 0.790\n",
      "Порог = 0.18 | Точность = 0.355, Полнота = 0.760\n",
      "Порог = 0.20 | Точность = 0.380, Полнота = 0.719\n",
      "Порог = 0.22 | Точность = 0.389, Полнота = 0.664\n",
      "Порог = 0.24 | Точность = 0.416, Полнота = 0.632\n",
      "Порог = 0.26 | Точность = 0.446, Полнота = 0.605\n",
      "Порог = 0.28 | Точность = 0.469, Полнота = 0.568\n",
      "Порог = 0.30 | Точность = 0.483, Полнота = 0.528\n",
      "Порог = 0.32 | Точность = 0.505, Полнота = 0.499\n",
      "Порог = 0.34 | Точность = 0.525, Полнота = 0.472\n",
      "Порог = 0.36 | Точность = 0.518, Полнота = 0.425\n",
      "Порог = 0.38 | Точность = 0.538, Полнота = 0.398\n",
      "Порог = 0.40 | Точность = 0.555, Полнота = 0.360\n",
      "Порог = 0.42 | Точность = 0.573, Полнота = 0.338\n",
      "Порог = 0.44 | Точность = 0.576, Полнота = 0.309\n",
      "Порог = 0.46 | Точность = 0.586, Полнота = 0.277\n",
      "Порог = 0.48 | Точность = 0.582, Полнота = 0.244\n",
      "Порог = 0.50 | Точность = 0.588, Полнота = 0.222\n",
      "Порог = 0.52 | Точность = 0.644, Полнота = 0.210\n",
      "Порог = 0.54 | Точность = 0.678, Полнота = 0.193\n",
      "Порог = 0.56 | Точность = 0.693, Полнота = 0.173\n",
      "Порог = 0.58 | Точность = 0.703, Полнота = 0.158\n",
      "Порог = 0.60 | Точность = 0.737, Полнота = 0.138\n",
      "Порог = 0.62 | Точность = 0.730, Полнота = 0.114\n",
      "Порог = 0.64 | Точность = 0.732, Полнота = 0.101\n",
      "Порог = 0.66 | Точность = 0.721, Полнота = 0.077\n",
      "Порог = 0.68 | Точность = 0.769, Полнота = 0.074\n",
      "Порог = 0.70 | Точность = 0.794, Полнота = 0.067\n",
      "Порог = 0.72 | Точность = 0.800, Полнота = 0.059\n",
      "Порог = 0.74 | Точность = 0.840, Полнота = 0.052\n",
      "Порог = 0.76 | Точность = 0.833, Полнота = 0.037\n",
      "Порог = 0.78 | Точность = 0.812, Полнота = 0.032\n",
      "Порог = 0.80 | Точность = 0.800, Полнота = 0.020\n",
      "\n",
      "Логистическая регрессия\n",
      "Accuraty:  0.811\n",
      "Precision: 0.8\n",
      "Recall: 0.019753086419753086\n",
      "F1: 0.5078260869565216\n",
      "ROC_auc: 0.7184875575680173\n"
     ]
    }
   ],
   "source": [
    "### Регрессия\n",
    "\n",
    "model_reg = LogisticRegression(random_state = state, solver='lbfgs')\n",
    "model_reg.fit(features_valid, target_valid)\n",
    "\n",
    "res_model_reg = model_reg.score(features_valid,target_valid)\n",
    "\n",
    "probabilities_valid = model_reg.predict_proba(features_valid)\n",
    "probabilities_one_valid = probabilities_valid[:, 1]\n",
    "\n",
    "for threshold in np.arange(0, 0.81, 0.02):\n",
    "    predicted_valid = probabilities_one_valid > threshold \n",
    "    precision = precision_score(target_valid, predicted_valid)\n",
    "    recall = recall_score(target_valid, predicted_valid)\n",
    "\n",
    "    print(\"Порог = {:.2f} | Точность = {:.3f}, Полнота = {:.3f}\".format(\n",
    "        threshold, precision, recall))\n",
    "    \n",
    "print('')    \n",
    "print('Логистическая регрессия')\n",
    "print('Accuraty: ', res_model_reg)\n",
    "print('Precision:', precision_score(target_valid, predicted_valid))\n",
    "print('Recall:', recall_score(target_valid, predicted_valid))\n",
    "print(\"F1:\", f1_score(target_valid, prediction_valid))\n",
    "print(\"ROC_auc:\", roc_auc_score(target_valid, prediction_valid))"
   ]
  },
  {
   "cell_type": "markdown",
   "metadata": {},
   "source": [
    "При изменении проге результат F1 у всех моделей стал 0.5, Наивысшая точность и полнота у случайного леса равные 1"
   ]
  },
  {
   "cell_type": "code",
   "execution_count": null,
   "metadata": {},
   "outputs": [],
   "source": [
    "Вывод:"
   ]
  },
  {
   "cell_type": "markdown",
   "metadata": {},
   "source": [
    "Лучший результат среди всех показала модель \n",
    "с балансным весом классов случайного  леса со следующими показателями: <br>\n",
    "Лучший результат cлучайного леса F1-меры: 0.6134663341645885 Глубина: 8 n_estimators 351 Roc_auc: 0.7563682805062115\n",
    "на втором месте<br>\n",
    "с cлучайного леса c увеличенной выборкой со следующими показателями: <br>\n",
    "Лучший результат cлучайного леса F1-меры: 0.611260053619303 Глубина: 23 n_estimators 196 Roc_auc: 0.7460582839893184<br>\n",
    "Остальные модели так и не превысили порог в 0.59"
   ]
  },
  {
   "cell_type": "markdown",
   "metadata": {},
   "source": [
    "## Тестирование модели"
   ]
  },
  {
   "cell_type": "markdown",
   "metadata": {},
   "source": [
    "Для работы Будем использовать модель Случайного леса"
   ]
  },
  {
   "cell_type": "markdown",
   "metadata": {},
   "source": [
    "Поэкспериментируем с параметрами на увеличенной выборке,балансной и смешанной.чтобы получить лучший результат F1-меры"
   ]
  },
  {
   "cell_type": "code",
   "execution_count": 126,
   "metadata": {},
   "outputs": [
    {
     "name": "stdout",
     "output_type": "stream",
     "text": [
      "F1 0.611260053619303\n",
      "результат 0.855\n"
     ]
    }
   ],
   "source": [
    "model_forest = RandomForestClassifier(random_state = state,max_depth = 23, n_estimators = 196, n_jobs=-1)\n",
    "model_forest.fit(features_train_up,target_train_up)\n",
    "prediction_valid = model_forest.predict(features_valid)\n",
    "res = model_forest.score(features_valid, target_valid)\n",
    "F1 = f1_score(target_valid, prediction_valid)\n",
    "print('F1', F1)\n",
    "print('результат', res)"
   ]
  },
  {
   "cell_type": "code",
   "execution_count": 129,
   "metadata": {},
   "outputs": [
    {
     "name": "stdout",
     "output_type": "stream",
     "text": [
      "est 120 Глубина: 5 результат 0.792 F1: 0.5772357723577236 Roc_auc 0.7581407949224042\n",
      "est 121 Глубина: 5 результат 0.791 F1: 0.5760649087221096 Roc_auc 0.7575138356747553\n",
      "est 122 Глубина: 5 результат 0.7905 F1: 0.5754812563323202 Roc_auc 0.7572003560509308\n",
      "est 123 Глубина: 5 результат 0.7915 F1: 0.5766497461928933 Roc_auc 0.7578273152985797\n",
      "est 124 Глубина: 5 результат 0.791 F1: 0.5760649087221096 Roc_auc 0.7575138356747553\n",
      "est 125 Глубина: 5 результат 0.7905 F1: 0.5754812563323202 Roc_auc 0.7572003560509308\n",
      "est 126 Глубина: 5 результат 0.7895 F1: 0.5743174924165825 Roc_auc 0.7565733968032818\n",
      "est 127 Глубина: 5 результат 0.789 F1: 0.5745967741935484 Roc_auc 0.7571810054568675\n",
      "est 128 Глубина: 5 результат 0.789 F1: 0.5745967741935484 Roc_auc 0.7571810054568675\n",
      "est 129 Глубина: 5 результат 0.7895 F1: 0.5743174924165825 Roc_auc 0.7565733968032818\n",
      "est 130 Глубина: 5 результат 0.7895 F1: 0.5751765893037336 Roc_auc 0.757494485080692\n",
      "est 131 Глубина: 5 результат 0.789 F1: 0.5745967741935484 Roc_auc 0.7571810054568675\n",
      "est 132 Глубина: 5 результат 0.79 F1: 0.5748987854251012 Roc_auc 0.7568868764271064\n",
      "est 133 Глубина: 5 результат 0.788 F1: 0.5742971887550201 Roc_auc 0.7574751344866288\n",
      "est 134 Глубина: 5 результат 0.789 F1: 0.5754527162977867 Roc_auc 0.7581020937342776\n",
      "est 135 Глубина: 5 результат 0.788 F1: 0.5725806451612904 Roc_auc 0.7556329579318085\n",
      "est 136 Глубина: 5 результат 0.7885 F1: 0.5740181268882176 Roc_auc 0.7568675258330431\n",
      "est 137 Глубина: 5 результат 0.7885 F1: 0.5740181268882176 Roc_auc 0.7568675258330431\n",
      "est 138 Глубина: 5 результат 0.789 F1: 0.5737373737373738 Roc_auc 0.7562599171794574\n",
      "est 139 Глубина: 5 результат 0.7885 F1: 0.5731584258324925 Roc_auc 0.7559464375556328\n",
      "est 140 Глубина: 5 результат 0.7875 F1: 0.570273003033367 Roc_auc 0.7534773017531637\n",
      "est 141 Глубина: 5 результат 0.787 F1: 0.5705645161290323 Roc_auc 0.7540849104067494\n",
      "est 142 Глубина: 5 результат 0.7875 F1: 0.570273003033367 Roc_auc 0.7534773017531637\n",
      "est 143 Глубина: 5 результат 0.788 F1: 0.5708502024291497 Roc_auc 0.7537907813769883\n",
      "est 144 Глубина: 5 результат 0.789 F1: 0.5720081135902636 Roc_auc 0.7544177406246371\n",
      "est 145 Глубина: 5 результат 0.7875 F1: 0.570273003033367 Roc_auc 0.7534773017531637\n",
      "est 146 Глубина: 5 результат 0.787 F1: 0.5696969696969697 Roc_auc 0.7531638221293393\n",
      "est 147 Глубина: 5 результат 0.789 F1: 0.5720081135902636 Roc_auc 0.7544177406246371\n",
      "est 148 Глубина: 5 результат 0.7885 F1: 0.5714285714285714 Roc_auc 0.7541042610008126\n",
      "est 149 Глубина: 5 результат 0.787 F1: 0.5696969696969697 Roc_auc 0.7531638221293393\n",
      "est 150 Глубина: 5 результат 0.787 F1: 0.5696969696969697 Roc_auc 0.7531638221293393\n",
      "est 151 Глубина: 5 результат 0.787 F1: 0.5705645161290323 Roc_auc 0.7540849104067494\n",
      "est 152 Глубина: 5 результат 0.7875 F1: 0.5694022289766971 Roc_auc 0.7525562134757537\n",
      "est 153 Глубина: 5 результат 0.7885 F1: 0.5722952477249746 Roc_auc 0.755025349278223\n",
      "est 154 Глубина: 5 результат 0.789 F1: 0.5728744939271255 Roc_auc 0.7553388289020474\n",
      "est 155 Глубина: 5 результат 0.7885 F1: 0.5714285714285714 Roc_auc 0.7541042610008126\n",
      "est 156 Глубина: 5 результат 0.789 F1: 0.5720081135902636 Roc_auc 0.7544177406246371\n",
      "est 157 Глубина: 5 результат 0.7895 F1: 0.5751765893037336 Roc_auc 0.757494485080692\n",
      "est 158 Глубина: 5 результат 0.79 F1: 0.5757575757575758 Roc_auc 0.7578079647045164\n",
      "est 159 Глубина: 5 результат 0.7895 F1: 0.5725888324873097 Roc_auc 0.7547312202484615\n",
      "est 160 Глубина: 5 результат 0.79 F1: 0.5731707317073171 Roc_auc 0.755044699872286\n",
      "est 161 Глубина: 5 результат 0.7885 F1: 0.5714285714285714 Roc_auc 0.7541042610008126\n",
      "est 162 Глубина: 5 результат 0.789 F1: 0.5720081135902636 Roc_auc 0.7544177406246371\n",
      "est 163 Глубина: 5 результат 0.789 F1: 0.5720081135902636 Roc_auc 0.7544177406246371\n",
      "est 164 Глубина: 5 результат 0.7895 F1: 0.5725888324873097 Roc_auc 0.7547312202484615\n",
      "est 165 Глубина: 5 результат 0.791 F1: 0.5752032520325203 Roc_auc 0.7565927473973452\n",
      "est 166 Глубина: 5 результат 0.791 F1: 0.5752032520325203 Roc_auc 0.7565927473973452\n",
      "est 167 Глубина: 5 результат 0.7915 F1: 0.5749235474006116 Roc_auc 0.7559851387437595\n",
      "est 168 Глубина: 5 результат 0.7905 F1: 0.5728848114169215 Roc_auc 0.7544370912187004\n",
      "est 169 Глубина: 5 результат 0.789 F1: 0.5728744939271255 Roc_auc 0.7553388289020474\n",
      "est 170 Глубина: 5 результат 0.7885 F1: 0.5714285714285714 Roc_auc 0.7541042610008126\n",
      "est 171 Глубина: 5 результат 0.7885 F1: 0.5705583756345177 Roc_auc 0.7531831727234026\n",
      "est 172 Глубина: 5 результат 0.7885 F1: 0.5714285714285714 Roc_auc 0.7541042610008126\n",
      "est 173 Глубина: 5 результат 0.788 F1: 0.5717171717171717 Roc_auc 0.7547118696543984\n",
      "est 174 Глубина: 5 результат 0.7895 F1: 0.5743174924165825 Roc_auc 0.7565733968032818\n",
      "est 175 Глубина: 5 результат 0.7885 F1: 0.5731584258324925 Roc_auc 0.7559464375556328\n",
      "est 176 Глубина: 5 результат 0.789 F1: 0.5737373737373738 Roc_auc 0.7562599171794574\n",
      "est 177 Глубина: 5 результат 0.7895 F1: 0.5751765893037336 Roc_auc 0.757494485080692\n",
      "est 178 Глубина: 5 результат 0.7895 F1: 0.5743174924165825 Roc_auc 0.7565733968032818\n",
      "est 179 Глубина: 5 результат 0.789 F1: 0.5728744939271255 Roc_auc 0.7553388289020474\n",
      "est 180 Глубина: 5 результат 0.791 F1: 0.5760649087221096 Roc_auc 0.7575138356747553\n",
      "est 181 Глубина: 5 результат 0.791 F1: 0.5752032520325203 Roc_auc 0.7565927473973452\n",
      "est 182 Глубина: 5 результат 0.7915 F1: 0.5766497461928933 Roc_auc 0.7578273152985797\n",
      "est 183 Глубина: 5 результат 0.79 F1: 0.5740365111561866 Roc_auc 0.7559657881496962\n",
      "est 184 Глубина: 5 результат 0.792 F1: 0.5763747454175153 Roc_auc 0.757219706644994\n",
      "est 185 Глубина: 5 результат 0.7925 F1: 0.5769622833843018 Roc_auc 0.7575331862688185\n",
      "est 186 Глубина: 5 результат 0.7925 F1: 0.5769622833843018 Roc_auc 0.7575331862688185\n",
      "est 187 Глубина: 5 результат 0.7925 F1: 0.5769622833843018 Roc_auc 0.7575331862688185\n",
      "est 188 Глубина: 5 результат 0.793 F1: 0.5775510204081633 Roc_auc 0.7578466658926428\n",
      "est 189 Глубина: 5 результат 0.7935 F1: 0.5781409601634321 Roc_auc 0.7581601455164673\n",
      "est 190 Глубина: 5 результат 0.793 F1: 0.5775510204081633 Roc_auc 0.7578466658926428\n",
      "est 191 Глубина: 5 результат 0.7935 F1: 0.5781409601634321 Roc_auc 0.7581601455164673\n",
      "est 192 Глубина: 5 результат 0.794 F1: 0.5787321063394683 Roc_auc 0.7584736251402918\n",
      "est 193 Глубина: 5 результат 0.7935 F1: 0.5781409601634321 Roc_auc 0.7581601455164673\n",
      "est 194 Глубина: 5 результат 0.793 F1: 0.5766871165644172 Roc_auc 0.7569255776152327\n",
      "est 195 Глубина: 5 результат 0.793 F1: 0.5766871165644172 Roc_auc 0.7569255776152327\n",
      "est 196 Глубина: 5 результат 0.793 F1: 0.5766871165644172 Roc_auc 0.7569255776152327\n",
      "est 197 Глубина: 5 результат 0.7935 F1: 0.5781409601634321 Roc_auc 0.7581601455164673\n",
      "est 198 Глубина: 5 результат 0.7925 F1: 0.5760980592441266 Roc_auc 0.7566120979914083\n",
      "est 199 Глубина: 5 результат 0.7935 F1: 0.5790010193679919 Roc_auc 0.7590812337938775\n",
      "est 200 Глубина: 5 результат 0.7935 F1: 0.5790010193679919 Roc_auc 0.7590812337938775\n",
      "est 201 Глубина: 5 результат 0.792 F1: 0.5763747454175153 Roc_auc 0.757219706644994\n",
      "est 202 Глубина: 5 результат 0.793 F1: 0.5784114052953158 Roc_auc 0.758767754170053\n",
      "est 203 Глубина: 5 результат 0.792 F1: 0.5763747454175153 Roc_auc 0.757219706644994\n",
      "est 204 Глубина: 5 результат 0.793 F1: 0.5775510204081633 Roc_auc 0.7578466658926428\n",
      "est 205 Глубина: 5 результат 0.791 F1: 0.5743380855397148 Roc_auc 0.755671659119935\n",
      "est 206 Глубина: 5 результат 0.7925 F1: 0.5769622833843018 Roc_auc 0.7575331862688185\n",
      "est 207 Глубина: 5 результат 0.7935 F1: 0.5781409601634321 Roc_auc 0.7581601455164673\n",
      "est 208 Глубина: 5 результат 0.7935 F1: 0.5790010193679919 Roc_auc 0.7590812337938775\n",
      "est 209 Глубина: 5 результат 0.793 F1: 0.5775510204081633 Roc_auc 0.7578466658926428\n",
      "est 210 Глубина: 5 результат 0.7945 F1: 0.5801838610827375 Roc_auc 0.7597081930415264\n",
      "est 211 Глубина: 5 результат 0.7935 F1: 0.5781409601634321 Roc_auc 0.7581601455164673\n",
      "est 212 Глубина: 5 результат 0.794 F1: 0.5787321063394683 Roc_auc 0.7584736251402918\n",
      "est 213 Глубина: 5 результат 0.793 F1: 0.5775510204081633 Roc_auc 0.7578466658926428\n",
      "est 214 Глубина: 5 результат 0.793 F1: 0.5766871165644172 Roc_auc 0.7569255776152327\n",
      "est 215 Глубина: 5 результат 0.7935 F1: 0.5781409601634321 Roc_auc 0.7581601455164673\n",
      "est 216 Глубина: 5 результат 0.794 F1: 0.5787321063394683 Roc_auc 0.7584736251402918\n",
      "est 217 Глубина: 5 результат 0.7935 F1: 0.5781409601634321 Roc_auc 0.7581601455164673\n",
      "est 218 Глубина: 5 результат 0.7935 F1: 0.5772773797338793 Roc_auc 0.7572390572390572\n",
      "est 219 Глубина: 5 результат 0.793 F1: 0.5766871165644172 Roc_auc 0.7569255776152327\n",
      "est 220 Глубина: 5 результат 0.7935 F1: 0.5781409601634321 Roc_auc 0.7581601455164673\n",
      "est 221 Глубина: 5 результат 0.7925 F1: 0.5752302968270214 Roc_auc 0.7556910097139983\n",
      "est 222 Глубина: 5 результат 0.7935 F1: 0.5772773797338793 Roc_auc 0.7572390572390572\n",
      "est 223 Глубина: 5 результат 0.7935 F1: 0.5764102564102563 Roc_auc 0.7563179689616473\n",
      "est 224 Глубина: 5 результат 0.7935 F1: 0.5764102564102563 Roc_auc 0.7563179689616473\n",
      "est 225 Глубина: 5 результат 0.794 F1: 0.5778688524590164 Roc_auc 0.7575525368628817\n",
      "est 226 Глубина: 5 результат 0.794 F1: 0.5778688524590164 Roc_auc 0.7575525368628817\n",
      "est 227 Глубина: 5 результат 0.794 F1: 0.5778688524590164 Roc_auc 0.7575525368628817\n",
      "est 228 Глубина: 5 результат 0.794 F1: 0.5778688524590164 Roc_auc 0.7575525368628817\n",
      "est 229 Глубина: 5 результат 0.794 F1: 0.5778688524590164 Roc_auc 0.7575525368628817\n",
      "est 230 Глубина: 5 результат 0.794 F1: 0.5778688524590164 Roc_auc 0.7575525368628817\n",
      "est 231 Глубина: 5 результат 0.793 F1: 0.5766871165644172 Roc_auc 0.7569255776152327\n",
      "est 232 Глубина: 5 результат 0.793 F1: 0.5758196721311476 Roc_auc 0.7560044893378227\n",
      "est 233 Глубина: 5 результат 0.7925 F1: 0.5743589743589743 Roc_auc 0.7547699214365879\n",
      "est 234 Глубина: 5 результат 0.793 F1: 0.5749486652977412 Roc_auc 0.7550834010604125\n",
      "est 235 Глубина: 5 результат 0.7925 F1: 0.5743589743589743 Roc_auc 0.7547699214365879\n",
      "est 236 Глубина: 5 результат 0.792 F1: 0.5728952772073921 Roc_auc 0.7535353535353534\n",
      "est 237 Глубина: 5 результат 0.7925 F1: 0.5734840698869476 Roc_auc 0.753848833159178\n",
      "est 238 Глубина: 5 результат 0.7935 F1: 0.5755395683453237 Roc_auc 0.7553968806842369\n",
      "est 239 Глубина: 5 результат 0.7925 F1: 0.5734840698869476 Roc_auc 0.753848833159178\n",
      "est 240 Глубина: 5 результат 0.7925 F1: 0.5734840698869476 Roc_auc 0.753848833159178\n",
      "est 241 Глубина: 5 результат 0.7935 F1: 0.5746652935118435 Roc_auc 0.7544757924068268\n",
      "est 242 Глубина: 5 результат 0.7935 F1: 0.5746652935118435 Roc_auc 0.7544757924068268\n",
      "est 243 Глубина: 5 результат 0.7945 F1: 0.5758513931888545 Roc_auc 0.7551027516544758\n",
      "est 244 Глубина: 5 результат 0.794 F1: 0.575257731958763 Roc_auc 0.7547892720306514\n",
      "est 245 Глубина: 5 результат 0.7935 F1: 0.5746652935118435 Roc_auc 0.7544757924068268\n",
      "est 246 Глубина: 5 результат 0.7925 F1: 0.5734840698869476 Roc_auc 0.753848833159178\n",
      "est 247 Глубина: 5 результат 0.793 F1: 0.5740740740740741 Roc_auc 0.7541623127830024\n",
      "est 248 Глубина: 5 результат 0.793 F1: 0.5740740740740741 Roc_auc 0.7541623127830024\n",
      "est 249 Глубина: 5 результат 0.793 F1: 0.5740740740740741 Roc_auc 0.7541623127830024\n",
      "est 250 Глубина: 5 результат 0.7935 F1: 0.5746652935118435 Roc_auc 0.7544757924068268\n",
      "est 251 Глубина: 5 результат 0.793 F1: 0.5740740740740741 Roc_auc 0.7541623127830024\n",
      "est 252 Глубина: 5 результат 0.793 F1: 0.5740740740740741 Roc_auc 0.7541623127830024\n",
      "est 253 Глубина: 5 результат 0.793 F1: 0.5740740740740741 Roc_auc 0.7541623127830024\n",
      "est 254 Глубина: 5 результат 0.793 F1: 0.5740740740740741 Roc_auc 0.7541623127830024\n",
      "est 255 Глубина: 5 результат 0.793 F1: 0.5740740740740741 Roc_auc 0.7541623127830024\n",
      "est 256 Глубина: 5 результат 0.7935 F1: 0.5755395683453237 Roc_auc 0.7553968806842369\n",
      "est 257 Глубина: 5 результат 0.793 F1: 0.5740740740740741 Roc_auc 0.7541623127830024\n",
      "est 258 Глубина: 5 результат 0.7925 F1: 0.5734840698869476 Roc_auc 0.753848833159178\n",
      "est 259 Глубина: 5 результат 0.793 F1: 0.5740740740740741 Roc_auc 0.7541623127830024\n",
      "est 260 Глубина: 5 результат 0.7925 F1: 0.5734840698869476 Roc_auc 0.753848833159178\n",
      "est 261 Глубина: 5 результат 0.7925 F1: 0.5734840698869476 Roc_auc 0.753848833159178\n",
      "est 262 Глубина: 5 результат 0.7925 F1: 0.5734840698869476 Roc_auc 0.753848833159178\n",
      "est 263 Глубина: 5 результат 0.7925 F1: 0.5734840698869476 Roc_auc 0.753848833159178\n",
      "est 264 Глубина: 5 результат 0.7925 F1: 0.5734840698869476 Roc_auc 0.753848833159178\n",
      "est 265 Глубина: 5 результат 0.793 F1: 0.5749486652977412 Roc_auc 0.7550834010604125\n",
      "est 266 Глубина: 5 результат 0.7925 F1: 0.5734840698869476 Roc_auc 0.753848833159178\n",
      "est 267 Глубина: 5 результат 0.792 F1: 0.5720164609053497 Roc_auc 0.7526142652579435\n",
      "est 268 Глубина: 5 результат 0.792 F1: 0.5720164609053497 Roc_auc 0.7526142652579435\n",
      "est 269 Глубина: 5 результат 0.7925 F1: 0.572605561277034 Roc_auc 0.752927744881768\n",
      "est 270 Глубина: 5 результат 0.7925 F1: 0.572605561277034 Roc_auc 0.752927744881768\n",
      "est 271 Глубина: 5 результат 0.7935 F1: 0.5746652935118435 Roc_auc 0.7544757924068268\n",
      "est 272 Глубина: 5 результат 0.7935 F1: 0.5746652935118435 Roc_auc 0.7544757924068268\n",
      "est 273 Глубина: 5 результат 0.793 F1: 0.5731958762886599 Roc_auc 0.7532412245055924\n",
      "est 274 Глубина: 5 результат 0.7935 F1: 0.5746652935118435 Roc_auc 0.7544757924068268\n",
      "est 275 Глубина: 5 результат 0.794 F1: 0.5743801652892563 Roc_auc 0.7538681837532414\n",
      "est 276 Глубина: 5 результат 0.7935 F1: 0.5737874097007223 Roc_auc 0.7535547041294168\n",
      "est 277 Глубина: 5 результат 0.794 F1: 0.575257731958763 Roc_auc 0.7547892720306514\n",
      "est 278 Глубина: 5 результат 0.7935 F1: 0.5746652935118435 Roc_auc 0.7544757924068268\n",
      "est 279 Глубина: 5 результат 0.794 F1: 0.575257731958763 Roc_auc 0.7547892720306514\n",
      "est 280 Глубина: 5 результат 0.795 F1: 0.577319587628866 Roc_auc 0.7563373195557104\n",
      "est 281 Глубина: 5 результат 0.7945 F1: 0.5758513931888545 Roc_auc 0.7551027516544758\n",
      "est 282 Глубина: 5 результат 0.795 F1: 0.5764462809917354 Roc_auc 0.7554162312783004\n",
      "est 283 Глубина: 5 результат 0.7945 F1: 0.5758513931888545 Roc_auc 0.7551027516544758\n",
      "est 284 Глубина: 5 результат 0.795 F1: 0.5764462809917354 Roc_auc 0.7554162312783004\n",
      "est 285 Глубина: 5 результат 0.7945 F1: 0.5758513931888545 Roc_auc 0.7551027516544758\n",
      "est 286 Глубина: 5 результат 0.7945 F1: 0.5758513931888545 Roc_auc 0.7551027516544758\n",
      "est 287 Глубина: 5 результат 0.7945 F1: 0.5758513931888545 Roc_auc 0.7551027516544758\n",
      "est 288 Глубина: 5 результат 0.794 F1: 0.575257731958763 Roc_auc 0.7547892720306514\n",
      "est 289 Глубина: 5 результат 0.794 F1: 0.575257731958763 Roc_auc 0.7547892720306514\n",
      "est 290 Глубина: 5 результат 0.794 F1: 0.575257731958763 Roc_auc 0.7547892720306514\n",
      "est 291 Глубина: 5 результат 0.7935 F1: 0.5737874097007223 Roc_auc 0.7535547041294168\n",
      "est 292 Глубина: 5 результат 0.793 F1: 0.5731958762886599 Roc_auc 0.7532412245055924\n",
      "est 293 Глубина: 5 результат 0.7925 F1: 0.572605561277034 Roc_auc 0.752927744881768\n",
      "est 294 Глубина: 5 результат 0.7945 F1: 0.5758513931888545 Roc_auc 0.7551027516544758\n",
      "est 295 Глубина: 5 результат 0.7945 F1: 0.5758513931888545 Roc_auc 0.7551027516544758\n",
      "est 296 Глубина: 5 результат 0.795 F1: 0.5764462809917354 Roc_auc 0.7554162312783004\n",
      "est 297 Глубина: 5 результат 0.796 F1: 0.5793814432989691 Roc_auc 0.7578853670807695\n",
      "est 298 Глубина: 5 результат 0.796 F1: 0.5785123966942148 Roc_auc 0.7569642788033593\n",
      "est 299 Глубина: 5 результат 0.7955 F1: 0.5779153766769866 Roc_auc 0.7566507991795348\n",
      "est 300 Глубина: 5 результат 0.7955 F1: 0.5779153766769866 Roc_auc 0.7566507991795348\n",
      "est 301 Глубина: 5 результат 0.7945 F1: 0.576725025746653 Roc_auc 0.7560238399318858\n",
      "est 302 Глубина: 5 результат 0.7955 F1: 0.5779153766769866 Roc_auc 0.7566507991795348\n",
      "est 303 Глубина: 5 результат 0.796 F1: 0.5785123966942148 Roc_auc 0.7569642788033593\n",
      "est 304 Глубина: 5 результат 0.796 F1: 0.5785123966942148 Roc_auc 0.7569642788033593\n",
      "est 305 Глубина: 5 результат 0.796 F1: 0.5785123966942148 Roc_auc 0.7569642788033593\n",
      "est 306 Глубина: 5 результат 0.796 F1: 0.5785123966942148 Roc_auc 0.7569642788033593\n",
      "est 307 Глубина: 5 результат 0.7965 F1: 0.579110651499483 Roc_auc 0.7572777584271837\n",
      "est 308 Глубина: 5 результат 0.7955 F1: 0.5770423991726991 Roc_auc 0.7557297109021248\n",
      "est 309 Глубина: 5 результат 0.795 F1: 0.5755693581780538 Roc_auc 0.7544951430008902\n",
      "est 310 Глубина: 5 результат 0.7955 F1: 0.5770423991726991 Roc_auc 0.7557297109021248\n",
      "est 311 Глубина: 5 результат 0.795 F1: 0.5755693581780538 Roc_auc 0.7544951430008902\n",
      "est 312 Глубина: 5 результат 0.795 F1: 0.5755693581780538 Roc_auc 0.7544951430008902\n",
      "est 313 Глубина: 5 результат 0.795 F1: 0.574688796680498 Roc_auc 0.7535740547234799\n",
      "est 314 Глубина: 5 результат 0.795 F1: 0.574688796680498 Roc_auc 0.7535740547234799\n",
      "est 315 Глубина: 5 результат 0.795 F1: 0.5755693581780538 Roc_auc 0.7544951430008902\n",
      "est 316 Глубина: 5 результат 0.795 F1: 0.5755693581780538 Roc_auc 0.7544951430008902\n",
      "est 317 Глубина: 5 результат 0.794 F1: 0.5734989648033126 Roc_auc 0.752947095475831\n",
      "est 318 Глубина: 5 результат 0.7945 F1: 0.5749741468459152 Roc_auc 0.7541816633770657\n",
      "est 319 Глубина: 5 результат 0.7945 F1: 0.5749741468459152 Roc_auc 0.7541816633770657\n",
      "est 320 Глубина: 5 результат 0.7955 F1: 0.5770423991726991 Roc_auc 0.7557297109021248\n",
      "est 321 Глубина: 5 результат 0.7945 F1: 0.5758513931888545 Roc_auc 0.7551027516544758\n",
      "est 322 Глубина: 5 результат 0.7965 F1: 0.5799793601651186 Roc_auc 0.7581988467045939\n",
      "est 323 Глубина: 5 результат 0.795 F1: 0.5755693581780538 Roc_auc 0.7544951430008902\n",
      "est 324 Глубина: 5 результат 0.7965 F1: 0.5799793601651186 Roc_auc 0.7581988467045939\n",
      "est 325 Глубина: 5 результат 0.796 F1: 0.5785123966942148 Roc_auc 0.7569642788033593\n",
      "est 326 Глубина: 5 результат 0.7965 F1: 0.5799793601651186 Roc_auc 0.7581988467045939\n",
      "est 327 Глубина: 5 результат 0.7965 F1: 0.5799793601651186 Roc_auc 0.7581988467045939\n",
      "est 328 Глубина: 5 результат 0.796 F1: 0.5793814432989691 Roc_auc 0.7578853670807695\n",
      "est 329 Глубина: 5 результат 0.795 F1: 0.5764462809917354 Roc_auc 0.7554162312783004\n",
      "est 330 Глубина: 5 результат 0.7955 F1: 0.5779153766769866 Roc_auc 0.7566507991795348\n",
      "est 331 Глубина: 5 результат 0.7955 F1: 0.5779153766769866 Roc_auc 0.7566507991795348\n",
      "est 332 Глубина: 5 результат 0.7955 F1: 0.5779153766769866 Roc_auc 0.7566507991795348\n",
      "est 333 Глубина: 5 результат 0.7955 F1: 0.5779153766769866 Roc_auc 0.7566507991795348\n",
      "est 334 Глубина: 5 результат 0.7965 F1: 0.5799793601651186 Roc_auc 0.7581988467045939\n",
      "est 335 Глубина: 5 результат 0.7955 F1: 0.5779153766769866 Roc_auc 0.7566507991795348\n",
      "est 336 Глубина: 5 результат 0.7955 F1: 0.5779153766769866 Roc_auc 0.7566507991795348\n",
      "est 337 Глубина: 5 результат 0.796 F1: 0.5785123966942148 Roc_auc 0.7569642788033593\n",
      "est 338 Глубина: 5 результат 0.796 F1: 0.5785123966942148 Roc_auc 0.7569642788033593\n",
      "est 339 Глубина: 5 результат 0.796 F1: 0.5785123966942148 Roc_auc 0.7569642788033593\n",
      "est 340 Глубина: 5 результат 0.7955 F1: 0.5770423991726991 Roc_auc 0.7557297109021248\n",
      "est 341 Глубина: 5 результат 0.7955 F1: 0.5770423991726991 Roc_auc 0.7557297109021248\n",
      "est 342 Глубина: 5 результат 0.796 F1: 0.5793814432989691 Roc_auc 0.7578853670807695\n",
      "est 343 Глубина: 5 результат 0.795 F1: 0.5781893004115226 Roc_auc 0.7572584078331205\n",
      "est 344 Глубина: 5 результат 0.7955 F1: 0.5787847579814623 Roc_auc 0.757571887456945\n",
      "est 345 Глубина: 5 результат 0.795 F1: 0.5781893004115226 Roc_auc 0.7572584078331205\n",
      "est 346 Глубина: 5 результат 0.7945 F1: 0.5775950668037 Roc_auc 0.756944928209296\n",
      "est 347 Глубина: 5 результат 0.7945 F1: 0.5775950668037 Roc_auc 0.756944928209296\n",
      "est 348 Глубина: 5 результат 0.795 F1: 0.577319587628866 Roc_auc 0.7563373195557104\n",
      "est 349 Глубина: 5 результат 0.795 F1: 0.5781893004115226 Roc_auc 0.7572584078331205\n",
      "est 350 Глубина: 5 результат 0.7955 F1: 0.5787847579814623 Roc_auc 0.757571887456945\n",
      "est 351 Глубина: 5 результат 0.7945 F1: 0.576725025746653 Roc_auc 0.7560238399318858\n",
      "est 352 Глубина: 5 результат 0.7945 F1: 0.576725025746653 Roc_auc 0.7560238399318858\n",
      "est 353 Глубина: 5 результат 0.795 F1: 0.577319587628866 Roc_auc 0.7563373195557104\n",
      "est 354 Глубина: 5 результат 0.7945 F1: 0.576725025746653 Roc_auc 0.7560238399318858\n",
      "est 355 Глубина: 5 результат 0.7945 F1: 0.576725025746653 Roc_auc 0.7560238399318858\n",
      "est 356 Глубина: 5 результат 0.7945 F1: 0.576725025746653 Roc_auc 0.7560238399318858\n",
      "est 357 Глубина: 5 результат 0.794 F1: 0.5761316872427983 Roc_auc 0.7557103603080614\n",
      "est 358 Глубина: 5 результат 0.7945 F1: 0.576725025746653 Roc_auc 0.7560238399318858\n",
      "est 359 Глубина: 5 результат 0.7945 F1: 0.576725025746653 Roc_auc 0.7560238399318858\n",
      "est 360 Глубина: 5 результат 0.7935 F1: 0.5755395683453237 Roc_auc 0.7553968806842369\n",
      "est 361 Глубина: 5 результат 0.794 F1: 0.5770020533880904 Roc_auc 0.7566314485854717\n",
      "est 362 Глубина: 5 результат 0.794 F1: 0.5770020533880904 Roc_auc 0.7566314485854717\n",
      "est 363 Глубина: 5 результат 0.794 F1: 0.5770020533880904 Roc_auc 0.7566314485854717\n",
      "est 364 Глубина: 5 результат 0.794 F1: 0.5770020533880904 Roc_auc 0.7566314485854717\n",
      "est 365 Глубина: 5 результат 0.794 F1: 0.5770020533880904 Roc_auc 0.7566314485854717\n",
      "est 366 Глубина: 5 результат 0.794 F1: 0.5770020533880904 Roc_auc 0.7566314485854717\n",
      "est 367 Глубина: 5 результат 0.794 F1: 0.5770020533880904 Roc_auc 0.7566314485854717\n",
      "est 368 Глубина: 5 результат 0.794 F1: 0.5770020533880904 Roc_auc 0.7566314485854717\n",
      "est 369 Глубина: 5 результат 0.7935 F1: 0.5755395683453237 Roc_auc 0.7553968806842369\n",
      "est 370 Глубина: 5 результат 0.793 F1: 0.5749486652977412 Roc_auc 0.7550834010604125\n",
      "est 371 Глубина: 5 результат 0.793 F1: 0.5749486652977412 Roc_auc 0.7550834010604125\n",
      "est 372 Глубина: 5 результат 0.793 F1: 0.5749486652977412 Roc_auc 0.7550834010604125\n",
      "est 373 Глубина: 5 результат 0.793 F1: 0.5749486652977412 Roc_auc 0.7550834010604125\n",
      "est 374 Глубина: 5 результат 0.793 F1: 0.5749486652977412 Roc_auc 0.7550834010604125\n",
      "est 375 Глубина: 5 результат 0.7935 F1: 0.5755395683453237 Roc_auc 0.7553968806842369\n",
      "est 376 Глубина: 5 результат 0.7935 F1: 0.5755395683453237 Roc_auc 0.7553968806842369\n",
      "est 377 Глубина: 5 результат 0.7935 F1: 0.5755395683453237 Roc_auc 0.7553968806842369\n",
      "est 378 Глубина: 5 результат 0.7935 F1: 0.5755395683453237 Roc_auc 0.7553968806842369\n",
      "est 379 Глубина: 5 результат 0.7935 F1: 0.5755395683453237 Roc_auc 0.7553968806842369\n",
      "est 380 Глубина: 5 результат 0.7935 F1: 0.5755395683453237 Roc_auc 0.7553968806842369\n",
      "est 381 Глубина: 5 результат 0.7935 F1: 0.5755395683453237 Roc_auc 0.7553968806842369\n",
      "est 382 Глубина: 5 результат 0.7925 F1: 0.5734840698869476 Roc_auc 0.753848833159178\n",
      "est 383 Глубина: 5 результат 0.793 F1: 0.5740740740740741 Roc_auc 0.7541623127830024\n",
      "est 384 Глубина: 5 результат 0.793 F1: 0.5740740740740741 Roc_auc 0.7541623127830024\n",
      "est 385 Глубина: 5 результат 0.793 F1: 0.5740740740740741 Roc_auc 0.7541623127830024\n",
      "est 386 Глубина: 5 результат 0.7935 F1: 0.5746652935118435 Roc_auc 0.7544757924068268\n",
      "est 387 Глубина: 5 результат 0.7935 F1: 0.5746652935118435 Roc_auc 0.7544757924068268\n",
      "est 388 Глубина: 5 результат 0.7935 F1: 0.5746652935118435 Roc_auc 0.7544757924068268\n",
      "est 389 Глубина: 5 результат 0.7935 F1: 0.5746652935118435 Roc_auc 0.7544757924068268\n",
      "est 390 Глубина: 5 результат 0.793 F1: 0.5740740740740741 Roc_auc 0.7541623127830024\n",
      "est 391 Глубина: 5 результат 0.7925 F1: 0.5734840698869476 Roc_auc 0.753848833159178\n",
      "est 392 Глубина: 5 результат 0.7925 F1: 0.5734840698869476 Roc_auc 0.753848833159178\n",
      "est 393 Глубина: 5 результат 0.7935 F1: 0.5755395683453237 Roc_auc 0.7553968806842369\n",
      "est 394 Глубина: 5 результат 0.7935 F1: 0.5755395683453237 Roc_auc 0.7553968806842369\n",
      "est 395 Глубина: 5 результат 0.7925 F1: 0.5743589743589743 Roc_auc 0.7547699214365879\n",
      "est 396 Глубина: 5 результат 0.7925 F1: 0.5743589743589743 Roc_auc 0.7547699214365879\n",
      "est 397 Глубина: 5 результат 0.793 F1: 0.5749486652977412 Roc_auc 0.7550834010604125\n",
      "est 398 Глубина: 5 результат 0.7935 F1: 0.5764102564102563 Roc_auc 0.7563179689616473\n",
      "est 399 Глубина: 5 результат 0.793 F1: 0.5758196721311476 Roc_auc 0.7560044893378227\n",
      "est 400 Глубина: 5 результат 0.793 F1: 0.5758196721311476 Roc_auc 0.7560044893378227\n",
      "est 401 Глубина: 5 результат 0.792 F1: 0.5728952772073921 Roc_auc 0.7535353535353534\n",
      "est 402 Глубина: 5 результат 0.793 F1: 0.5749486652977412 Roc_auc 0.7550834010604125\n",
      "est 403 Глубина: 5 результат 0.793 F1: 0.5740740740740741 Roc_auc 0.7541623127830024\n",
      "est 404 Глубина: 5 результат 0.793 F1: 0.5740740740740741 Roc_auc 0.7541623127830024\n",
      "est 405 Глубина: 5 результат 0.7935 F1: 0.5746652935118435 Roc_auc 0.7544757924068268\n",
      "est 406 Глубина: 5 результат 0.7935 F1: 0.5755395683453237 Roc_auc 0.7553968806842369\n",
      "est 407 Глубина: 5 результат 0.7935 F1: 0.5755395683453237 Roc_auc 0.7553968806842369\n",
      "est 408 Глубина: 5 результат 0.794 F1: 0.5761316872427983 Roc_auc 0.7557103603080614\n",
      "est 409 Глубина: 5 результат 0.7935 F1: 0.5755395683453237 Roc_auc 0.7553968806842369\n",
      "est 410 Глубина: 5 результат 0.794 F1: 0.5761316872427983 Roc_auc 0.7557103603080614\n",
      "est 411 Глубина: 5 результат 0.794 F1: 0.5761316872427983 Roc_auc 0.7557103603080614\n",
      "est 412 Глубина: 5 результат 0.794 F1: 0.5761316872427983 Roc_auc 0.7557103603080614\n",
      "est 413 Глубина: 5 результат 0.794 F1: 0.5761316872427983 Roc_auc 0.7557103603080614\n",
      "est 414 Глубина: 5 результат 0.794 F1: 0.5761316872427983 Roc_auc 0.7557103603080614\n",
      "est 415 Глубина: 5 результат 0.794 F1: 0.5761316872427983 Roc_auc 0.7557103603080614\n",
      "est 416 Глубина: 5 результат 0.7945 F1: 0.5758513931888545 Roc_auc 0.7551027516544758\n",
      "est 417 Глубина: 5 результат 0.7925 F1: 0.5734840698869476 Roc_auc 0.753848833159178\n",
      "est 418 Глубина: 5 результат 0.793 F1: 0.5740740740740741 Roc_auc 0.7541623127830024\n",
      "est 419 Глубина: 5 результат 0.793 F1: 0.5740740740740741 Roc_auc 0.7541623127830024\n",
      "est 420 Глубина: 5 результат 0.7935 F1: 0.5755395683453237 Roc_auc 0.7553968806842369\n",
      "est 421 Глубина: 5 результат 0.793 F1: 0.5749486652977412 Roc_auc 0.7550834010604125\n",
      "est 422 Глубина: 5 результат 0.7945 F1: 0.576725025746653 Roc_auc 0.7560238399318858\n",
      "est 423 Глубина: 5 результат 0.793 F1: 0.5749486652977412 Roc_auc 0.7550834010604125\n",
      "est 424 Глубина: 5 результат 0.7945 F1: 0.576725025746653 Roc_auc 0.7560238399318858\n",
      "est 425 Глубина: 5 результат 0.794 F1: 0.5761316872427983 Roc_auc 0.7557103603080614\n",
      "est 426 Глубина: 5 результат 0.7945 F1: 0.5775950668037 Roc_auc 0.756944928209296\n",
      "est 427 Глубина: 5 результат 0.795 F1: 0.577319587628866 Roc_auc 0.7563373195557104\n",
      "est 428 Глубина: 5 результат 0.7945 F1: 0.576725025746653 Roc_auc 0.7560238399318858\n",
      "est 429 Глубина: 5 результат 0.7945 F1: 0.576725025746653 Roc_auc 0.7560238399318858\n",
      "est 430 Глубина: 5 результат 0.7945 F1: 0.5775950668037 Roc_auc 0.756944928209296\n",
      "est 431 Глубина: 5 результат 0.7935 F1: 0.5764102564102563 Roc_auc 0.7563179689616473\n",
      "est 432 Глубина: 5 результат 0.795 F1: 0.5781893004115226 Roc_auc 0.7572584078331205\n",
      "est 433 Глубина: 5 результат 0.794 F1: 0.5770020533880904 Roc_auc 0.7566314485854717\n",
      "est 434 Глубина: 5 результат 0.7925 F1: 0.5743589743589743 Roc_auc 0.7547699214365879\n",
      "est 435 Глубина: 5 результат 0.7925 F1: 0.5743589743589743 Roc_auc 0.7547699214365879\n",
      "est 436 Глубина: 5 результат 0.792 F1: 0.5737704918032787 Roc_auc 0.7544564418127636\n",
      "est 437 Глубина: 5 результат 0.7925 F1: 0.5743589743589743 Roc_auc 0.7547699214365879\n",
      "est 438 Глубина: 5 результат 0.793 F1: 0.5749486652977412 Roc_auc 0.7550834010604125\n",
      "est 439 Глубина: 5 результат 0.7925 F1: 0.5743589743589743 Roc_auc 0.7547699214365879\n",
      "est 440 Глубина: 5 результат 0.792 F1: 0.5737704918032787 Roc_auc 0.7544564418127636\n",
      "est 441 Глубина: 5 результат 0.7925 F1: 0.5743589743589743 Roc_auc 0.7547699214365879\n",
      "est 442 Глубина: 5 результат 0.7925 F1: 0.5743589743589743 Roc_auc 0.7547699214365879\n",
      "est 443 Глубина: 5 результат 0.7915 F1: 0.5731832139201637 Roc_auc 0.7541429621889392\n",
      "est 444 Глубина: 5 результат 0.7915 F1: 0.5731832139201637 Roc_auc 0.7541429621889392\n",
      "est 445 Глубина: 5 результат 0.792 F1: 0.5737704918032787 Roc_auc 0.7544564418127636\n",
      "est 446 Глубина: 5 результат 0.791 F1: 0.573469387755102 Roc_auc 0.754750570842525\n",
      "est 447 Глубина: 5 результат 0.792 F1: 0.5737704918032787 Roc_auc 0.7544564418127636\n",
      "est 448 Глубина: 5 результат 0.7925 F1: 0.5752302968270214 Roc_auc 0.7556910097139983\n",
      "est 449 Глубина: 5 результат 0.793 F1: 0.5758196721311476 Roc_auc 0.7560044893378227\n",
      "est 450 Глубина: 5 результат 0.7925 F1: 0.5752302968270214 Roc_auc 0.7556910097139983\n",
      "est 451 Глубина: 5 результат 0.793 F1: 0.5758196721311476 Roc_auc 0.7560044893378227\n",
      "est 452 Глубина: 5 результат 0.793 F1: 0.5758196721311476 Roc_auc 0.7560044893378227\n",
      "est 453 Глубина: 5 результат 0.793 F1: 0.5758196721311476 Roc_auc 0.7560044893378227\n",
      "est 454 Глубина: 5 результат 0.7925 F1: 0.5743589743589743 Roc_auc 0.7547699214365879\n",
      "est 455 Глубина: 5 результат 0.792 F1: 0.5737704918032787 Roc_auc 0.7544564418127636\n",
      "est 456 Глубина: 5 результат 0.7925 F1: 0.5743589743589743 Roc_auc 0.7547699214365879\n",
      "est 457 Глубина: 5 результат 0.7915 F1: 0.5731832139201637 Roc_auc 0.7541429621889392\n",
      "est 458 Глубина: 5 результат 0.7915 F1: 0.5731832139201637 Roc_auc 0.7541429621889392\n",
      "est 459 Глубина: 5 результат 0.7915 F1: 0.5731832139201637 Roc_auc 0.7541429621889392\n",
      "est 460 Глубина: 5 результат 0.7915 F1: 0.5731832139201637 Roc_auc 0.7541429621889392\n",
      "est 461 Глубина: 5 результат 0.792 F1: 0.5737704918032787 Roc_auc 0.7544564418127636\n",
      "est 462 Глубина: 5 результат 0.7915 F1: 0.5731832139201637 Roc_auc 0.7541429621889392\n",
      "est 463 Глубина: 5 результат 0.7915 F1: 0.5731832139201637 Roc_auc 0.7541429621889392\n",
      "est 464 Глубина: 5 результат 0.7905 F1: 0.5720122574055158 Roc_auc 0.7535160029412903\n",
      "est 465 Глубина: 5 результат 0.791 F1: 0.5725971370143149 Roc_auc 0.7538294825651147\n",
      "est 466 Глубина: 5 результат 0.791 F1: 0.5725971370143149 Roc_auc 0.7538294825651147\n",
      "est 467 Глубина: 5 результат 0.791 F1: 0.5725971370143149 Roc_auc 0.7538294825651147\n",
      "est 468 Глубина: 5 результат 0.7915 F1: 0.5731832139201637 Roc_auc 0.7541429621889392\n",
      "est 469 Глубина: 5 результат 0.7905 F1: 0.5720122574055158 Roc_auc 0.7535160029412903\n",
      "est 470 Глубина: 5 результат 0.7915 F1: 0.5731832139201637 Roc_auc 0.7541429621889392\n",
      "est 471 Глубина: 5 результат 0.791 F1: 0.5725971370143149 Roc_auc 0.7538294825651147\n",
      "est 472 Глубина: 5 результат 0.791 F1: 0.5725971370143149 Roc_auc 0.7538294825651147\n",
      "est 473 Глубина: 5 результат 0.791 F1: 0.5725971370143149 Roc_auc 0.7538294825651147\n",
      "est 474 Глубина: 5 результат 0.791 F1: 0.5725971370143149 Roc_auc 0.7538294825651147\n",
      "est 475 Глубина: 5 результат 0.791 F1: 0.5725971370143149 Roc_auc 0.7538294825651147\n",
      "est 476 Глубина: 5 результат 0.791 F1: 0.5725971370143149 Roc_auc 0.7538294825651147\n",
      "est 477 Глубина: 5 результат 0.7905 F1: 0.5720122574055158 Roc_auc 0.7535160029412903\n",
      "est 478 Глубина: 5 результат 0.79 F1: 0.5714285714285714 Roc_auc 0.7532025233174658\n",
      "est 479 Глубина: 5 результат 0.7905 F1: 0.5720122574055158 Roc_auc 0.7535160029412903\n",
      "est 480 Глубина: 5 результат 0.791 F1: 0.573469387755102 Roc_auc 0.754750570842525\n",
      "est 481 Глубина: 5 результат 0.792 F1: 0.574642126789366 Roc_auc 0.7553775300901738\n",
      "est 482 Глубина: 5 результат 0.7905 F1: 0.5720122574055158 Roc_auc 0.7535160029412903\n",
      "est 483 Глубина: 5 результат 0.7905 F1: 0.5720122574055158 Roc_auc 0.7535160029412903\n",
      "est 484 Глубина: 5 результат 0.7905 F1: 0.5720122574055158 Roc_auc 0.7535160029412903\n",
      "est 485 Глубина: 5 результат 0.7905 F1: 0.5720122574055158 Roc_auc 0.7535160029412903\n",
      "est 486 Глубина: 5 результат 0.7905 F1: 0.5720122574055158 Roc_auc 0.7535160029412903\n",
      "est 487 Глубина: 5 результат 0.7905 F1: 0.5720122574055158 Roc_auc 0.7535160029412903\n",
      "est 488 Глубина: 5 результат 0.7905 F1: 0.5720122574055158 Roc_auc 0.7535160029412903\n",
      "est 489 Глубина: 5 результат 0.79 F1: 0.5705521472392638 Roc_auc 0.7522814350400557\n",
      "est 490 Глубина: 5 результат 0.7905 F1: 0.5720122574055158 Roc_auc 0.7535160029412903\n",
      "est 491 Глубина: 5 результат 0.7905 F1: 0.5720122574055158 Roc_auc 0.7535160029412903\n",
      "est 492 Глубина: 5 результат 0.79 F1: 0.5705521472392638 Roc_auc 0.7522814350400557\n",
      "est 493 Глубина: 5 результат 0.79 F1: 0.5705521472392638 Roc_auc 0.7522814350400557\n",
      "est 494 Глубина: 5 результат 0.7905 F1: 0.5720122574055158 Roc_auc 0.7535160029412903\n",
      "est 495 Глубина: 5 результат 0.7905 F1: 0.5720122574055158 Roc_auc 0.7535160029412903\n",
      "est 496 Глубина: 5 результат 0.7905 F1: 0.5720122574055158 Roc_auc 0.7535160029412903\n",
      "est 497 Глубина: 5 результат 0.7905 F1: 0.5720122574055158 Roc_auc 0.7535160029412903\n",
      "est 498 Глубина: 5 результат 0.79 F1: 0.5705521472392638 Roc_auc 0.7522814350400557\n",
      "est 499 Глубина: 5 результат 0.7905 F1: 0.5711361310133061 Roc_auc 0.7525949146638802\n",
      " \n",
      "Лучший результат cлучайного леса F1-меры: 0.5801838610827375 n_estimators 210 Roc_auc: 0.7597081930415264\n"
     ]
    }
   ],
   "source": [
    "best_model = None\n",
    "best_result = 0\n",
    "best_est = 0\n",
    "\n",
    "\n",
    "for est in range(120,500):\n",
    "    model_forest = RandomForestClassifier(random_state = state,max_depth = depth, n_estimators = est, class_weight='balanced', n_jobs=-1)\n",
    "    model_forest.fit(features_train,target_train)\n",
    "    prediction_valid = model_forest.predict(features_valid)\n",
    "    res = model_forest.score(features_valid, target_valid)\n",
    "    F1 = f1_score(target_valid, prediction_valid)\n",
    "    Roc_auc = roc_auc_score(target_valid, prediction_valid)\n",
    "    print('est',est,'результат', res, \"F1:\", F1, 'Roc_auc', Roc_auc)  \n",
    "    if best_result < F1:\n",
    "        Roc_auc_f = Roc_auc\n",
    "        best_model = model_forest\n",
    "        best_result = F1\n",
    "        best_forest_res_blans = best_result\n",
    "        n_estimators = est\n",
    "\n",
    "print(' ')        \n",
    "print('Лучший результат cлучайного леса F1-меры:', best_forest_res_blans, 'n_estimators', n_estimators,'Roc_auc:', Roc_auc_f)"
   ]
  },
  {
   "cell_type": "code",
   "execution_count": 130,
   "metadata": {},
   "outputs": [
    {
     "name": "stdout",
     "output_type": "stream",
     "text": [
      "est 120 Глубина: 5 результат 0.8095 F1: 0.5790055248618784 Roc_auc 0.7488486396532374\n",
      "est 121 Глубина: 5 результат 0.81 F1: 0.579646017699115 Roc_auc 0.7491621192770619\n",
      "est 122 Глубина: 5 результат 0.8105 F1: 0.5802879291251384 Roc_auc 0.7494755989008863\n",
      "est 123 Глубина: 5 результат 0.8105 F1: 0.5802879291251384 Roc_auc 0.7494755989008863\n",
      "est 124 Глубина: 5 результат 0.811 F1: 0.5809312638580931 Roc_auc 0.7497890785247108\n",
      "est 125 Глубина: 5 результат 0.8105 F1: 0.5802879291251384 Roc_auc 0.7494755989008863\n",
      "est 126 Глубина: 5 результат 0.8105 F1: 0.5793562708102109 Roc_auc 0.7485545106234761\n",
      "est 127 Глубина: 5 результат 0.8095 F1: 0.5790055248618784 Roc_auc 0.7488486396532374\n",
      "est 128 Глубина: 5 результат 0.81 F1: 0.579646017699115 Roc_auc 0.7491621192770619\n",
      "est 129 Глубина: 5 результат 0.81 F1: 0.579646017699115 Roc_auc 0.7491621192770619\n",
      "est 130 Глубина: 5 результат 0.809 F1: 0.5783664459161147 Roc_auc 0.7485351600294129\n",
      "est 131 Глубина: 5 результат 0.8085 F1: 0.5777287761852259 Roc_auc 0.7482216804055885\n",
      "est 132 Глубина: 5 результат 0.8095 F1: 0.5790055248618784 Roc_auc 0.7488486396532374\n",
      "est 133 Глубина: 5 результат 0.8095 F1: 0.5790055248618784 Roc_auc 0.7488486396532374\n",
      "est 134 Глубина: 5 результат 0.808 F1: 0.5770925110132159 Roc_auc 0.747908200781764\n",
      "est 135 Глубина: 5 результат 0.808 F1: 0.5770925110132159 Roc_auc 0.747908200781764\n",
      "est 136 Глубина: 5 результат 0.8075 F1: 0.5755237045203969 Roc_auc 0.7466736328805293\n",
      "est 137 Глубина: 5 результат 0.8075 F1: 0.5755237045203969 Roc_auc 0.7466736328805293\n",
      "est 138 Глубина: 5 результат 0.8075 F1: 0.5755237045203969 Roc_auc 0.7466736328805293\n",
      "est 139 Глубина: 5 результат 0.808 F1: 0.5770925110132159 Roc_auc 0.747908200781764\n",
      "est 140 Глубина: 5 результат 0.8075 F1: 0.5773874862788145 Roc_auc 0.7485158094353496\n",
      "est 141 Глубина: 5 результат 0.808 F1: 0.5780219780219781 Roc_auc 0.7488292890591741\n",
      "est 142 Глубина: 5 результат 0.808 F1: 0.5780219780219781 Roc_auc 0.7488292890591741\n",
      "est 143 Глубина: 5 результат 0.808 F1: 0.5780219780219781 Roc_auc 0.7488292890591741\n",
      "est 144 Глубина: 5 результат 0.8075 F1: 0.5764576457645765 Roc_auc 0.7475947211579396\n",
      "est 145 Глубина: 5 результат 0.808 F1: 0.5780219780219781 Roc_auc 0.7488292890591741\n",
      "est 146 Глубина: 5 результат 0.8085 F1: 0.579582875960483 Roc_auc 0.7500638569604088\n",
      "est 147 Глубина: 5 результат 0.8085 F1: 0.579582875960483 Roc_auc 0.7500638569604088\n",
      "est 148 Глубина: 5 результат 0.808 F1: 0.5789473684210527 Roc_auc 0.7497503773365842\n",
      "est 149 Глубина: 5 результат 0.8075 F1: 0.5773874862788145 Roc_auc 0.7485158094353496\n",
      "est 150 Глубина: 5 результат 0.8075 F1: 0.5773874862788145 Roc_auc 0.7485158094353496\n",
      "est 151 Глубина: 5 результат 0.8065 F1: 0.5761226725082147 Roc_auc 0.7478888501877007\n",
      "est 152 Глубина: 5 результат 0.8065 F1: 0.5761226725082147 Roc_auc 0.7478888501877007\n",
      "est 153 Глубина: 5 результат 0.8065 F1: 0.5761226725082147 Roc_auc 0.7478888501877007\n",
      "est 154 Глубина: 5 результат 0.8065 F1: 0.5761226725082147 Roc_auc 0.7478888501877007\n",
      "est 155 Глубина: 5 результат 0.807 F1: 0.5767543859649121 Roc_auc 0.7482023298115251\n",
      "est 156 Глубина: 5 результат 0.8065 F1: 0.5761226725082147 Roc_auc 0.7478888501877007\n",
      "est 157 Глубина: 5 результат 0.806 F1: 0.575492341356674 Roc_auc 0.7475753705638762\n",
      "est 158 Глубина: 5 результат 0.8065 F1: 0.5761226725082147 Roc_auc 0.7478888501877007\n",
      "est 159 Глубина: 5 результат 0.8065 F1: 0.5761226725082147 Roc_auc 0.7478888501877007\n",
      "est 160 Глубина: 5 результат 0.807 F1: 0.5767543859649121 Roc_auc 0.7482023298115251\n",
      "est 161 Глубина: 5 результат 0.807 F1: 0.5767543859649121 Roc_auc 0.7482023298115251\n",
      "est 162 Глубина: 5 результат 0.8065 F1: 0.5761226725082147 Roc_auc 0.7478888501877007\n",
      "est 163 Глубина: 5 результат 0.806 F1: 0.575492341356674 Roc_auc 0.7475753705638762\n",
      "est 164 Глубина: 5 результат 0.807 F1: 0.5758241758241758 Roc_auc 0.7472812415341151\n",
      "est 165 Глубина: 5 результат 0.807 F1: 0.5758241758241758 Roc_auc 0.7472812415341151\n",
      "est 166 Глубина: 5 результат 0.807 F1: 0.5758241758241758 Roc_auc 0.7472812415341151\n",
      "est 167 Глубина: 5 результат 0.807 F1: 0.5758241758241758 Roc_auc 0.7472812415341151\n",
      "est 168 Глубина: 5 результат 0.8075 F1: 0.5764576457645765 Roc_auc 0.7475947211579396\n",
      "est 169 Глубина: 5 результат 0.8065 F1: 0.5761226725082147 Roc_auc 0.7478888501877007\n",
      "est 170 Глубина: 5 результат 0.8075 F1: 0.5773874862788145 Roc_auc 0.7485158094353496\n",
      "est 171 Глубина: 5 результат 0.807 F1: 0.5767543859649121 Roc_auc 0.7482023298115251\n",
      "est 172 Глубина: 5 результат 0.8085 F1: 0.579582875960483 Roc_auc 0.7500638569604088\n",
      "est 173 Глубина: 5 результат 0.808 F1: 0.5789473684210527 Roc_auc 0.7497503773365842\n",
      "est 174 Глубина: 5 результат 0.808 F1: 0.5789473684210527 Roc_auc 0.7497503773365842\n",
      "est 175 Глубина: 5 результат 0.808 F1: 0.5780219780219781 Roc_auc 0.7488292890591741\n",
      "est 176 Глубина: 5 результат 0.809 F1: 0.5802197802197803 Roc_auc 0.7503773365842332\n",
      "est 177 Глубина: 5 результат 0.809 F1: 0.5802197802197803 Roc_auc 0.7503773365842332\n",
      "est 178 Глубина: 5 результат 0.8095 F1: 0.580858085808581 Roc_auc 0.7506908162080577\n",
      "est 179 Глубина: 5 результат 0.8095 F1: 0.5826944140197152 Roc_auc 0.7525329927628778\n",
      "est 180 Глубина: 5 результат 0.81 F1: 0.5833333333333334 Roc_auc 0.7528464723867022\n",
      "est 181 Глубина: 5 результат 0.81 F1: 0.5833333333333334 Roc_auc 0.7528464723867022\n",
      "est 182 Глубина: 5 результат 0.8095 F1: 0.5817782656421514 Roc_auc 0.7516119044854677\n",
      "est 183 Глубина: 5 результат 0.81 F1: 0.5833333333333334 Roc_auc 0.7528464723867022\n",
      "est 184 Глубина: 5 результат 0.809 F1: 0.5802197802197803 Roc_auc 0.7503773365842332\n",
      "est 185 Глубина: 5 результат 0.8085 F1: 0.5786578657865786 Roc_auc 0.7491427686829986\n",
      "est 186 Глубина: 5 результат 0.808 F1: 0.5770925110132159 Roc_auc 0.747908200781764\n",
      "est 187 Глубина: 5 результат 0.808 F1: 0.5770925110132159 Roc_auc 0.747908200781764\n",
      "est 188 Глубина: 5 результат 0.808 F1: 0.5770925110132159 Roc_auc 0.747908200781764\n",
      "est 189 Глубина: 5 результат 0.809 F1: 0.579295154185022 Roc_auc 0.749456248306823\n",
      "est 190 Глубина: 5 результат 0.809 F1: 0.579295154185022 Roc_auc 0.749456248306823\n",
      "est 191 Глубина: 5 результат 0.808 F1: 0.5780219780219781 Roc_auc 0.7488292890591741\n",
      "est 192 Глубина: 5 результат 0.8075 F1: 0.5764576457645765 Roc_auc 0.7475947211579396\n",
      "est 193 Глубина: 5 результат 0.8075 F1: 0.5764576457645765 Roc_auc 0.7475947211579396\n",
      "est 194 Глубина: 5 результат 0.808 F1: 0.5780219780219781 Roc_auc 0.7488292890591741\n",
      "est 195 Глубина: 5 результат 0.808 F1: 0.5780219780219781 Roc_auc 0.7488292890591741\n",
      "est 196 Глубина: 5 результат 0.807 F1: 0.5758241758241758 Roc_auc 0.7472812415341151\n",
      "est 197 Глубина: 5 результат 0.806 F1: 0.5736263736263737 Roc_auc 0.745733194009056\n",
      "est 198 Глубина: 5 результат 0.807 F1: 0.5748898678414097 Roc_auc 0.7463601532567049\n",
      "est 199 Глубина: 5 результат 0.8075 F1: 0.5755237045203969 Roc_auc 0.7466736328805293\n",
      "est 200 Глубина: 5 результат 0.8075 F1: 0.5755237045203969 Roc_auc 0.7466736328805293\n",
      "est 201 Глубина: 5 результат 0.807 F1: 0.5739514348785871 Roc_auc 0.7454390649792948\n",
      "est 202 Глубина: 5 результат 0.8075 F1: 0.574585635359116 Roc_auc 0.7457525446031192\n",
      "est 203 Глубина: 5 результат 0.807 F1: 0.5739514348785871 Roc_auc 0.7454390649792948\n",
      "est 204 Глубина: 5 результат 0.808 F1: 0.576158940397351 Roc_auc 0.7469871125043538\n",
      "est 205 Глубина: 5 результат 0.8075 F1: 0.5755237045203969 Roc_auc 0.7466736328805293\n",
      "est 206 Глубина: 5 результат 0.8085 F1: 0.5777287761852259 Roc_auc 0.7482216804055885\n",
      "est 207 Глубина: 5 результат 0.8085 F1: 0.5777287761852259 Roc_auc 0.7482216804055885\n",
      "est 208 Глубина: 5 результат 0.8085 F1: 0.5767955801104973 Roc_auc 0.7473005921281782\n",
      "est 209 Глубина: 5 результат 0.8095 F1: 0.5790055248618784 Roc_auc 0.7488486396532374\n",
      "est 210 Глубина: 5 результат 0.809 F1: 0.5783664459161147 Roc_auc 0.7485351600294129\n",
      "est 211 Глубина: 5 результат 0.809 F1: 0.5783664459161147 Roc_auc 0.7485351600294129\n",
      "est 212 Глубина: 5 результат 0.8085 F1: 0.5767955801104973 Roc_auc 0.7473005921281782\n",
      "est 213 Глубина: 5 результат 0.8095 F1: 0.5780730897009967 Roc_auc 0.7479275513758272\n",
      "est 214 Глубина: 5 результат 0.8095 F1: 0.5790055248618784 Roc_auc 0.7488486396532374\n",
      "est 215 Глубина: 5 результат 0.8085 F1: 0.5777287761852259 Roc_auc 0.7482216804055885\n",
      "est 216 Глубина: 5 результат 0.8105 F1: 0.5812154696132596 Roc_auc 0.7503966871782963\n",
      "est 217 Глубина: 5 результат 0.8105 F1: 0.5812154696132596 Roc_auc 0.7503966871782963\n",
      "est 218 Глубина: 5 результат 0.81 F1: 0.579646017699115 Roc_auc 0.7491621192770619\n",
      "est 219 Глубина: 5 результат 0.8095 F1: 0.5799338478500551 Roc_auc 0.7497697279306474\n",
      "est 220 Глубина: 5 результат 0.809 F1: 0.579295154185022 Roc_auc 0.749456248306823\n",
      "est 221 Глубина: 5 результат 0.8085 F1: 0.5786578657865786 Roc_auc 0.7491427686829986\n",
      "est 222 Глубина: 5 результат 0.8095 F1: 0.5790055248618784 Roc_auc 0.7488486396532374\n",
      "est 223 Глубина: 5 результат 0.809 F1: 0.577433628318584 Roc_auc 0.7476140717520028\n",
      "est 224 Глубина: 5 результат 0.809 F1: 0.577433628318584 Roc_auc 0.7476140717520028\n",
      "est 225 Глубина: 5 результат 0.809 F1: 0.577433628318584 Roc_auc 0.7476140717520028\n",
      "est 226 Глубина: 5 результат 0.8085 F1: 0.5767955801104973 Roc_auc 0.7473005921281782\n",
      "est 227 Глубина: 5 результат 0.809 F1: 0.5764966740576496 Roc_auc 0.7466929834745927\n",
      "est 228 Глубина: 5 результат 0.809 F1: 0.5764966740576496 Roc_auc 0.7466929834745927\n",
      "est 229 Глубина: 5 результат 0.8095 F1: 0.5780730897009967 Roc_auc 0.7479275513758272\n",
      "est 230 Глубина: 5 результат 0.8095 F1: 0.5790055248618784 Roc_auc 0.7488486396532374\n",
      "est 231 Глубина: 5 результат 0.8095 F1: 0.5790055248618784 Roc_auc 0.7488486396532374\n",
      "est 232 Глубина: 5 результат 0.809 F1: 0.5783664459161147 Roc_auc 0.7485351600294129\n",
      "est 233 Глубина: 5 результат 0.8085 F1: 0.5777287761852259 Roc_auc 0.7482216804055885\n",
      "est 234 Глубина: 5 результат 0.809 F1: 0.5783664459161147 Roc_auc 0.7485351600294129\n",
      "est 235 Глубина: 5 результат 0.808 F1: 0.576158940397351 Roc_auc 0.7469871125043538\n",
      "est 236 Глубина: 5 результат 0.8075 F1: 0.5755237045203969 Roc_auc 0.7466736328805293\n",
      "est 237 Глубина: 5 результат 0.809 F1: 0.577433628318584 Roc_auc 0.7476140717520028\n",
      "est 238 Глубина: 5 результат 0.809 F1: 0.577433628318584 Roc_auc 0.7476140717520028\n",
      "est 239 Глубина: 5 результат 0.8095 F1: 0.5790055248618784 Roc_auc 0.7488486396532374\n",
      "est 240 Глубина: 5 результат 0.809 F1: 0.577433628318584 Roc_auc 0.7476140717520028\n",
      "est 241 Глубина: 5 результат 0.809 F1: 0.577433628318584 Roc_auc 0.7476140717520028\n",
      "est 242 Глубина: 5 результат 0.809 F1: 0.577433628318584 Roc_auc 0.7476140717520028\n",
      "est 243 Глубина: 5 результат 0.809 F1: 0.577433628318584 Roc_auc 0.7476140717520028\n",
      "est 244 Глубина: 5 результат 0.8085 F1: 0.5767955801104973 Roc_auc 0.7473005921281782\n",
      "est 245 Глубина: 5 результат 0.8085 F1: 0.5767955801104973 Roc_auc 0.7473005921281782\n",
      "est 246 Глубина: 5 результат 0.808 F1: 0.5752212389380531 Roc_auc 0.7460660242269437\n",
      "est 247 Глубина: 5 результат 0.809 F1: 0.577433628318584 Roc_auc 0.7476140717520028\n",
      "est 248 Глубина: 5 результат 0.809 F1: 0.577433628318584 Roc_auc 0.7476140717520028\n",
      "est 249 Глубина: 5 результат 0.808 F1: 0.576158940397351 Roc_auc 0.7469871125043538\n",
      "est 250 Глубина: 5 результат 0.8095 F1: 0.5790055248618784 Roc_auc 0.7488486396532374\n",
      "est 251 Глубина: 5 результат 0.809 F1: 0.5764966740576496 Roc_auc 0.7466929834745927\n",
      "est 252 Глубина: 5 результат 0.8095 F1: 0.5771365149833517 Roc_auc 0.7470064630984171\n",
      "est 253 Глубина: 5 результат 0.81 F1: 0.5787139689578715 Roc_auc 0.7482410309996517\n",
      "est 254 Глубина: 5 результат 0.809 F1: 0.5764966740576496 Roc_auc 0.7466929834745927\n",
      "est 255 Глубина: 5 результат 0.8095 F1: 0.5780730897009967 Roc_auc 0.7479275513758272\n",
      "est 256 Глубина: 5 результат 0.809 F1: 0.577433628318584 Roc_auc 0.7476140717520028\n",
      "est 257 Глубина: 5 результат 0.808 F1: 0.576158940397351 Roc_auc 0.7469871125043538\n",
      "est 258 Глубина: 5 результат 0.808 F1: 0.576158940397351 Roc_auc 0.7469871125043538\n",
      "est 259 Глубина: 5 результат 0.808 F1: 0.576158940397351 Roc_auc 0.7469871125043538\n",
      "est 260 Глубина: 5 результат 0.808 F1: 0.576158940397351 Roc_auc 0.7469871125043538\n",
      "est 261 Глубина: 5 результат 0.808 F1: 0.576158940397351 Roc_auc 0.7469871125043538\n",
      "est 262 Глубина: 5 результат 0.8075 F1: 0.5755237045203969 Roc_auc 0.7466736328805293\n",
      "est 263 Глубина: 5 результат 0.808 F1: 0.5770925110132159 Roc_auc 0.747908200781764\n",
      "est 264 Глубина: 5 результат 0.8085 F1: 0.5777287761852259 Roc_auc 0.7482216804055885\n",
      "est 265 Глубина: 5 результат 0.808 F1: 0.5770925110132159 Roc_auc 0.747908200781764\n",
      "est 266 Глубина: 5 результат 0.808 F1: 0.576158940397351 Roc_auc 0.7469871125043538\n",
      "est 267 Глубина: 5 результат 0.8095 F1: 0.5790055248618784 Roc_auc 0.7488486396532374\n",
      "est 268 Глубина: 5 результат 0.8095 F1: 0.5790055248618784 Roc_auc 0.7488486396532374\n",
      "est 269 Глубина: 5 результат 0.8095 F1: 0.5790055248618784 Roc_auc 0.7488486396532374\n",
      "est 270 Глубина: 5 результат 0.8095 F1: 0.5780730897009967 Roc_auc 0.7479275513758272\n",
      "est 271 Глубина: 5 результат 0.8095 F1: 0.5780730897009967 Roc_auc 0.7479275513758272\n",
      "est 272 Глубина: 5 результат 0.8095 F1: 0.5780730897009967 Roc_auc 0.7479275513758272\n",
      "est 273 Глубина: 5 результат 0.809 F1: 0.5764966740576496 Roc_auc 0.7466929834745927\n",
      "est 274 Глубина: 5 результат 0.809 F1: 0.5764966740576496 Roc_auc 0.7466929834745927\n",
      "est 275 Глубина: 5 результат 0.8085 F1: 0.5758582502768549 Roc_auc 0.7463795038507682\n",
      "est 276 Глубина: 5 результат 0.809 F1: 0.5764966740576496 Roc_auc 0.7466929834745927\n",
      "est 277 Глубина: 5 результат 0.8085 F1: 0.5758582502768549 Roc_auc 0.7463795038507682\n",
      "est 278 Глубина: 5 результат 0.808 F1: 0.5752212389380531 Roc_auc 0.7460660242269437\n",
      "est 279 Глубина: 5 результат 0.808 F1: 0.5752212389380531 Roc_auc 0.7460660242269437\n",
      "est 280 Глубина: 5 результат 0.808 F1: 0.5742793791574279 Roc_auc 0.7451449359495338\n",
      "est 281 Глубина: 5 результат 0.809 F1: 0.577433628318584 Roc_auc 0.7476140717520028\n",
      "est 282 Глубина: 5 результат 0.808 F1: 0.5742793791574279 Roc_auc 0.7451449359495338\n",
      "est 283 Глубина: 5 результат 0.8085 F1: 0.5758582502768549 Roc_auc 0.7463795038507682\n",
      "est 284 Глубина: 5 результат 0.8085 F1: 0.5749167591564928 Roc_auc 0.7454584155733582\n",
      "est 285 Глубина: 5 результат 0.808 F1: 0.5733333333333334 Roc_auc 0.7442238476721236\n",
      "est 286 Глубина: 5 результат 0.8085 F1: 0.5749167591564928 Roc_auc 0.7454584155733582\n",
      "est 287 Глубина: 5 результат 0.809 F1: 0.5764966740576496 Roc_auc 0.7466929834745927\n",
      "est 288 Глубина: 5 результат 0.809 F1: 0.577433628318584 Roc_auc 0.7476140717520028\n",
      "est 289 Глубина: 5 результат 0.809 F1: 0.577433628318584 Roc_auc 0.7476140717520028\n",
      "est 290 Глубина: 5 результат 0.8085 F1: 0.5758582502768549 Roc_auc 0.7463795038507682\n",
      "est 291 Глубина: 5 результат 0.809 F1: 0.577433628318584 Roc_auc 0.7476140717520028\n",
      "est 292 Глубина: 5 результат 0.8085 F1: 0.5767955801104973 Roc_auc 0.7473005921281782\n",
      "est 293 Глубина: 5 результат 0.808 F1: 0.576158940397351 Roc_auc 0.7469871125043538\n",
      "est 294 Глубина: 5 результат 0.808 F1: 0.5752212389380531 Roc_auc 0.7460660242269437\n",
      "est 295 Глубина: 5 результат 0.809 F1: 0.577433628318584 Roc_auc 0.7476140717520028\n",
      "est 296 Глубина: 5 результат 0.8085 F1: 0.5758582502768549 Roc_auc 0.7463795038507682\n",
      "est 297 Глубина: 5 результат 0.808 F1: 0.576158940397351 Roc_auc 0.7469871125043538\n",
      "est 298 Глубина: 5 результат 0.8085 F1: 0.5758582502768549 Roc_auc 0.7463795038507682\n",
      "est 299 Глубина: 5 результат 0.808 F1: 0.5742793791574279 Roc_auc 0.7451449359495338\n",
      "est 300 Глубина: 5 результат 0.808 F1: 0.5742793791574279 Roc_auc 0.7451449359495338\n",
      "est 301 Глубина: 5 результат 0.8085 F1: 0.5758582502768549 Roc_auc 0.7463795038507682\n",
      "est 302 Глубина: 5 результат 0.8095 F1: 0.5790055248618784 Roc_auc 0.7488486396532374\n",
      "est 303 Глубина: 5 результат 0.8085 F1: 0.5758582502768549 Roc_auc 0.7463795038507682\n",
      "est 304 Глубина: 5 результат 0.8085 F1: 0.5758582502768549 Roc_auc 0.7463795038507682\n",
      "est 305 Глубина: 5 результат 0.8085 F1: 0.5758582502768549 Roc_auc 0.7463795038507682\n",
      "est 306 Глубина: 5 результат 0.8085 F1: 0.5758582502768549 Roc_auc 0.7463795038507682\n",
      "est 307 Глубина: 5 результат 0.808 F1: 0.5752212389380531 Roc_auc 0.7460660242269437\n",
      "est 308 Глубина: 5 результат 0.8085 F1: 0.5758582502768549 Roc_auc 0.7463795038507682\n",
      "est 309 Глубина: 5 результат 0.808 F1: 0.5752212389380531 Roc_auc 0.7460660242269437\n",
      "est 310 Глубина: 5 результат 0.808 F1: 0.5752212389380531 Roc_auc 0.7460660242269437\n",
      "est 311 Глубина: 5 результат 0.809 F1: 0.5783664459161147 Roc_auc 0.7485351600294129\n",
      "est 312 Глубина: 5 результат 0.808 F1: 0.5752212389380531 Roc_auc 0.7460660242269437\n",
      "est 313 Глубина: 5 результат 0.8095 F1: 0.5790055248618784 Roc_auc 0.7488486396532374\n",
      "est 314 Глубина: 5 результат 0.809 F1: 0.577433628318584 Roc_auc 0.7476140717520028\n",
      "est 315 Глубина: 5 результат 0.8095 F1: 0.5780730897009967 Roc_auc 0.7479275513758272\n",
      "est 316 Глубина: 5 результат 0.81 F1: 0.579646017699115 Roc_auc 0.7491621192770619\n",
      "est 317 Глубина: 5 результат 0.809 F1: 0.577433628318584 Roc_auc 0.7476140717520028\n",
      "est 318 Глубина: 5 результат 0.8105 F1: 0.5802879291251384 Roc_auc 0.7494755989008863\n",
      "est 319 Глубина: 5 результат 0.81 F1: 0.579646017699115 Roc_auc 0.7491621192770619\n",
      "est 320 Глубина: 5 результат 0.8105 F1: 0.5802879291251384 Roc_auc 0.7494755989008863\n",
      "est 321 Глубина: 5 результат 0.8105 F1: 0.5802879291251384 Roc_auc 0.7494755989008863\n",
      "est 322 Глубина: 5 результат 0.8105 F1: 0.5802879291251384 Roc_auc 0.7494755989008863\n",
      "est 323 Глубина: 5 результат 0.811 F1: 0.5818584070796461 Roc_auc 0.7507101668021208\n",
      "est 324 Глубина: 5 результат 0.809 F1: 0.577433628318584 Roc_auc 0.7476140717520028\n",
      "est 325 Глубина: 5 результат 0.811 F1: 0.5809312638580931 Roc_auc 0.7497890785247108\n",
      "est 326 Глубина: 5 результат 0.8085 F1: 0.5758582502768549 Roc_auc 0.7463795038507682\n",
      "est 327 Глубина: 5 результат 0.8095 F1: 0.5780730897009967 Roc_auc 0.7479275513758272\n",
      "est 328 Глубина: 5 результат 0.81 F1: 0.579646017699115 Roc_auc 0.7491621192770619\n",
      "est 329 Глубина: 5 результат 0.809 F1: 0.5755555555555556 Roc_auc 0.7457718951971826\n",
      "est 330 Глубина: 5 результат 0.809 F1: 0.5764966740576496 Roc_auc 0.7466929834745927\n",
      "est 331 Глубина: 5 результат 0.8095 F1: 0.5780730897009967 Roc_auc 0.7479275513758272\n",
      "est 332 Глубина: 5 результат 0.81 F1: 0.5787139689578715 Roc_auc 0.7482410309996517\n",
      "est 333 Глубина: 5 результат 0.81 F1: 0.5787139689578715 Roc_auc 0.7482410309996517\n",
      "est 334 Глубина: 5 результат 0.8095 F1: 0.5780730897009967 Roc_auc 0.7479275513758272\n",
      "est 335 Глубина: 5 результат 0.81 F1: 0.5805739514348786 Roc_auc 0.7500832075544719\n",
      "est 336 Глубина: 5 результат 0.8095 F1: 0.5780730897009967 Roc_auc 0.7479275513758272\n",
      "est 337 Глубина: 5 результат 0.8095 F1: 0.5780730897009967 Roc_auc 0.7479275513758272\n",
      "est 338 Глубина: 5 результат 0.8095 F1: 0.5780730897009967 Roc_auc 0.7479275513758272\n",
      "est 339 Глубина: 5 результат 0.809 F1: 0.5764966740576496 Roc_auc 0.7466929834745927\n",
      "est 340 Глубина: 5 результат 0.8095 F1: 0.5780730897009967 Roc_auc 0.7479275513758272\n",
      "est 341 Глубина: 5 результат 0.8085 F1: 0.5758582502768549 Roc_auc 0.7463795038507682\n",
      "est 342 Глубина: 5 результат 0.8095 F1: 0.5780730897009967 Roc_auc 0.7479275513758272\n",
      "est 343 Глубина: 5 результат 0.8095 F1: 0.5780730897009967 Roc_auc 0.7479275513758272\n",
      "est 344 Глубина: 5 результат 0.809 F1: 0.577433628318584 Roc_auc 0.7476140717520028\n",
      "est 345 Глубина: 5 результат 0.81 F1: 0.5805739514348786 Roc_auc 0.7500832075544719\n",
      "est 346 Глубина: 5 результат 0.8095 F1: 0.5790055248618784 Roc_auc 0.7488486396532374\n",
      "est 347 Глубина: 5 результат 0.8095 F1: 0.5790055248618784 Roc_auc 0.7488486396532374\n",
      "est 348 Глубина: 5 результат 0.809 F1: 0.5783664459161147 Roc_auc 0.7485351600294129\n",
      "est 349 Глубина: 5 результат 0.81 F1: 0.5805739514348786 Roc_auc 0.7500832075544719\n",
      "est 350 Глубина: 5 результат 0.8095 F1: 0.5790055248618784 Roc_auc 0.7488486396532374\n",
      "est 351 Глубина: 5 результат 0.8095 F1: 0.5790055248618784 Roc_auc 0.7488486396532374\n",
      "est 352 Глубина: 5 результат 0.8095 F1: 0.5790055248618784 Roc_auc 0.7488486396532374\n",
      "est 353 Глубина: 5 результат 0.8095 F1: 0.5790055248618784 Roc_auc 0.7488486396532374\n",
      "est 354 Глубина: 5 результат 0.8095 F1: 0.5780730897009967 Roc_auc 0.7479275513758272\n",
      "est 355 Глубина: 5 результат 0.809 F1: 0.577433628318584 Roc_auc 0.7476140717520028\n",
      "est 356 Глубина: 5 результат 0.8085 F1: 0.5767955801104973 Roc_auc 0.7473005921281782\n",
      "est 357 Глубина: 5 результат 0.8085 F1: 0.5767955801104973 Roc_auc 0.7473005921281782\n",
      "est 358 Глубина: 5 результат 0.809 F1: 0.5783664459161147 Roc_auc 0.7485351600294129\n",
      "est 359 Глубина: 5 результат 0.809 F1: 0.5783664459161147 Roc_auc 0.7485351600294129\n",
      "est 360 Глубина: 5 результат 0.8085 F1: 0.5777287761852259 Roc_auc 0.7482216804055885\n",
      "est 361 Глубина: 5 результат 0.8085 F1: 0.5777287761852259 Roc_auc 0.7482216804055885\n",
      "est 362 Глубина: 5 результат 0.8095 F1: 0.5790055248618784 Roc_auc 0.7488486396532374\n",
      "est 363 Глубина: 5 результат 0.8085 F1: 0.5777287761852259 Roc_auc 0.7482216804055885\n",
      "est 364 Глубина: 5 результат 0.8085 F1: 0.5777287761852259 Roc_auc 0.7482216804055885\n",
      "est 365 Глубина: 5 результат 0.8085 F1: 0.5777287761852259 Roc_auc 0.7482216804055885\n",
      "est 366 Глубина: 5 результат 0.809 F1: 0.5783664459161147 Roc_auc 0.7485351600294129\n",
      "est 367 Глубина: 5 результат 0.8095 F1: 0.5790055248618784 Roc_auc 0.7488486396532374\n",
      "est 368 Глубина: 5 результат 0.809 F1: 0.5783664459161147 Roc_auc 0.7485351600294129\n",
      "est 369 Глубина: 5 результат 0.809 F1: 0.5783664459161147 Roc_auc 0.7485351600294129\n",
      "est 370 Глубина: 5 результат 0.8095 F1: 0.5790055248618784 Roc_auc 0.7488486396532374\n",
      "est 371 Глубина: 5 результат 0.8095 F1: 0.5790055248618784 Roc_auc 0.7488486396532374\n",
      "est 372 Глубина: 5 результат 0.8095 F1: 0.5790055248618784 Roc_auc 0.7488486396532374\n",
      "est 373 Глубина: 5 результат 0.8095 F1: 0.5790055248618784 Roc_auc 0.7488486396532374\n",
      "est 374 Глубина: 5 результат 0.8095 F1: 0.5790055248618784 Roc_auc 0.7488486396532374\n",
      "est 375 Глубина: 5 результат 0.8095 F1: 0.5790055248618784 Roc_auc 0.7488486396532374\n",
      "est 376 Глубина: 5 результат 0.8095 F1: 0.5790055248618784 Roc_auc 0.7488486396532374\n",
      "est 377 Глубина: 5 результат 0.8095 F1: 0.5790055248618784 Roc_auc 0.7488486396532374\n",
      "est 378 Глубина: 5 результат 0.81 F1: 0.579646017699115 Roc_auc 0.7491621192770619\n",
      "est 379 Глубина: 5 результат 0.8095 F1: 0.5790055248618784 Roc_auc 0.7488486396532374\n",
      "est 380 Глубина: 5 результат 0.8095 F1: 0.5790055248618784 Roc_auc 0.7488486396532374\n",
      "est 381 Глубина: 5 результат 0.809 F1: 0.5783664459161147 Roc_auc 0.7485351600294129\n",
      "est 382 Глубина: 5 результат 0.8085 F1: 0.5777287761852259 Roc_auc 0.7482216804055885\n",
      "est 383 Глубина: 5 результат 0.8085 F1: 0.5777287761852259 Roc_auc 0.7482216804055885\n",
      "est 384 Глубина: 5 результат 0.8085 F1: 0.5777287761852259 Roc_auc 0.7482216804055885\n",
      "est 385 Глубина: 5 результат 0.809 F1: 0.5783664459161147 Roc_auc 0.7485351600294129\n",
      "est 386 Глубина: 5 результат 0.809 F1: 0.5783664459161147 Roc_auc 0.7485351600294129\n",
      "est 387 Глубина: 5 результат 0.8085 F1: 0.5777287761852259 Roc_auc 0.7482216804055885\n",
      "est 388 Глубина: 5 результат 0.809 F1: 0.5783664459161147 Roc_auc 0.7485351600294129\n",
      "est 389 Глубина: 5 результат 0.8085 F1: 0.5777287761852259 Roc_auc 0.7482216804055885\n",
      "est 390 Глубина: 5 результат 0.8085 F1: 0.5777287761852259 Roc_auc 0.7482216804055885\n",
      "est 391 Глубина: 5 результат 0.8085 F1: 0.5777287761852259 Roc_auc 0.7482216804055885\n",
      "est 392 Глубина: 5 результат 0.8085 F1: 0.5777287761852259 Roc_auc 0.7482216804055885\n",
      "est 393 Глубина: 5 результат 0.8085 F1: 0.5777287761852259 Roc_auc 0.7482216804055885\n",
      "est 394 Глубина: 5 результат 0.8085 F1: 0.5777287761852259 Roc_auc 0.7482216804055885\n",
      "est 395 Глубина: 5 результат 0.8085 F1: 0.5777287761852259 Roc_auc 0.7482216804055885\n",
      "est 396 Глубина: 5 результат 0.8085 F1: 0.5777287761852259 Roc_auc 0.7482216804055885\n",
      "est 397 Глубина: 5 результат 0.8085 F1: 0.5777287761852259 Roc_auc 0.7482216804055885\n",
      "est 398 Глубина: 5 результат 0.808 F1: 0.576158940397351 Roc_auc 0.7469871125043538\n",
      "est 399 Глубина: 5 результат 0.8085 F1: 0.5777287761852259 Roc_auc 0.7482216804055885\n",
      "est 400 Глубина: 5 результат 0.8085 F1: 0.5777287761852259 Roc_auc 0.7482216804055885\n",
      "est 401 Глубина: 5 результат 0.808 F1: 0.576158940397351 Roc_auc 0.7469871125043538\n",
      "est 402 Глубина: 5 результат 0.8085 F1: 0.5777287761852259 Roc_auc 0.7482216804055885\n",
      "est 403 Глубина: 5 результат 0.8085 F1: 0.5777287761852259 Roc_auc 0.7482216804055885\n",
      "est 404 Глубина: 5 результат 0.8085 F1: 0.5777287761852259 Roc_auc 0.7482216804055885\n",
      "est 405 Глубина: 5 результат 0.8075 F1: 0.574585635359116 Roc_auc 0.7457525446031192\n",
      "est 406 Глубина: 5 результат 0.808 F1: 0.576158940397351 Roc_auc 0.7469871125043538\n",
      "est 407 Глубина: 5 результат 0.808 F1: 0.576158940397351 Roc_auc 0.7469871125043538\n",
      "est 408 Глубина: 5 результат 0.808 F1: 0.576158940397351 Roc_auc 0.7469871125043538\n",
      "est 409 Глубина: 5 результат 0.8085 F1: 0.5777287761852259 Roc_auc 0.7482216804055885\n",
      "est 410 Глубина: 5 результат 0.8075 F1: 0.5755237045203969 Roc_auc 0.7466736328805293\n",
      "est 411 Глубина: 5 результат 0.8085 F1: 0.5777287761852259 Roc_auc 0.7482216804055885\n",
      "est 412 Глубина: 5 результат 0.8085 F1: 0.5777287761852259 Roc_auc 0.7482216804055885\n",
      "est 413 Глубина: 5 результат 0.8085 F1: 0.5777287761852259 Roc_auc 0.7482216804055885\n",
      "est 414 Глубина: 5 результат 0.809 F1: 0.579295154185022 Roc_auc 0.749456248306823\n",
      "est 415 Глубина: 5 результат 0.809 F1: 0.579295154185022 Roc_auc 0.749456248306823\n",
      "est 416 Глубина: 5 результат 0.8085 F1: 0.5777287761852259 Roc_auc 0.7482216804055885\n",
      "est 417 Глубина: 5 результат 0.809 F1: 0.579295154185022 Roc_auc 0.749456248306823\n",
      "est 418 Глубина: 5 результат 0.809 F1: 0.579295154185022 Roc_auc 0.749456248306823\n",
      "est 419 Глубина: 5 результат 0.809 F1: 0.579295154185022 Roc_auc 0.749456248306823\n",
      "est 420 Глубина: 5 результат 0.809 F1: 0.579295154185022 Roc_auc 0.749456248306823\n",
      "est 421 Глубина: 5 результат 0.808 F1: 0.576158940397351 Roc_auc 0.7469871125043538\n",
      "est 422 Глубина: 5 результат 0.8085 F1: 0.5777287761852259 Roc_auc 0.7482216804055885\n",
      "est 423 Глубина: 5 результат 0.8085 F1: 0.5777287761852259 Roc_auc 0.7482216804055885\n",
      "est 424 Глубина: 5 результат 0.8085 F1: 0.5777287761852259 Roc_auc 0.7482216804055885\n",
      "est 425 Глубина: 5 результат 0.808 F1: 0.576158940397351 Roc_auc 0.7469871125043538\n",
      "est 426 Глубина: 5 результат 0.808 F1: 0.576158940397351 Roc_auc 0.7469871125043538\n",
      "est 427 Глубина: 5 результат 0.809 F1: 0.579295154185022 Roc_auc 0.749456248306823\n",
      "est 428 Глубина: 5 результат 0.808 F1: 0.576158940397351 Roc_auc 0.7469871125043538\n",
      "est 429 Глубина: 5 результат 0.8085 F1: 0.5777287761852259 Roc_auc 0.7482216804055885\n",
      "est 430 Глубина: 5 результат 0.809 F1: 0.579295154185022 Roc_auc 0.749456248306823\n",
      "est 431 Глубина: 5 результат 0.809 F1: 0.579295154185022 Roc_auc 0.749456248306823\n",
      "est 432 Глубина: 5 результат 0.8085 F1: 0.5777287761852259 Roc_auc 0.7482216804055885\n",
      "est 433 Глубина: 5 результат 0.809 F1: 0.579295154185022 Roc_auc 0.749456248306823\n",
      "est 434 Глубина: 5 результат 0.8085 F1: 0.5786578657865786 Roc_auc 0.7491427686829986\n",
      "est 435 Глубина: 5 результат 0.808 F1: 0.5780219780219781 Roc_auc 0.7488292890591741\n",
      "est 436 Глубина: 5 результат 0.8075 F1: 0.5764576457645765 Roc_auc 0.7475947211579396\n",
      "est 437 Глубина: 5 результат 0.808 F1: 0.5770925110132159 Roc_auc 0.747908200781764\n",
      "est 438 Глубина: 5 результат 0.809 F1: 0.5802197802197803 Roc_auc 0.7503773365842332\n",
      "est 439 Глубина: 5 результат 0.808 F1: 0.5789473684210527 Roc_auc 0.7497503773365842\n",
      "est 440 Глубина: 5 результат 0.8085 F1: 0.5777287761852259 Roc_auc 0.7482216804055885\n",
      "est 441 Глубина: 5 результат 0.808 F1: 0.5770925110132159 Roc_auc 0.747908200781764\n",
      "est 442 Глубина: 5 результат 0.8085 F1: 0.5786578657865786 Roc_auc 0.7491427686829986\n",
      "est 443 Глубина: 5 результат 0.8085 F1: 0.5786578657865786 Roc_auc 0.7491427686829986\n",
      "est 444 Глубина: 5 результат 0.8085 F1: 0.5786578657865786 Roc_auc 0.7491427686829986\n",
      "est 445 Глубина: 5 результат 0.809 F1: 0.579295154185022 Roc_auc 0.749456248306823\n",
      "est 446 Глубина: 5 результат 0.809 F1: 0.579295154185022 Roc_auc 0.749456248306823\n",
      "est 447 Глубина: 5 результат 0.8085 F1: 0.5777287761852259 Roc_auc 0.7482216804055885\n",
      "est 448 Глубина: 5 результат 0.8085 F1: 0.5777287761852259 Roc_auc 0.7482216804055885\n",
      "est 449 Глубина: 5 результат 0.8085 F1: 0.5777287761852259 Roc_auc 0.7482216804055885\n",
      "est 450 Глубина: 5 результат 0.8085 F1: 0.5777287761852259 Roc_auc 0.7482216804055885\n",
      "est 451 Глубина: 5 результат 0.8085 F1: 0.5777287761852259 Roc_auc 0.7482216804055885\n",
      "est 452 Глубина: 5 результат 0.8085 F1: 0.5777287761852259 Roc_auc 0.7482216804055885\n",
      "est 453 Глубина: 5 результат 0.809 F1: 0.5783664459161147 Roc_auc 0.7485351600294129\n",
      "est 454 Глубина: 5 результат 0.8085 F1: 0.5777287761852259 Roc_auc 0.7482216804055885\n",
      "est 455 Глубина: 5 результат 0.8085 F1: 0.5777287761852259 Roc_auc 0.7482216804055885\n",
      "est 456 Глубина: 5 результат 0.8095 F1: 0.5799338478500551 Roc_auc 0.7497697279306474\n",
      "est 457 Глубина: 5 результат 0.809 F1: 0.579295154185022 Roc_auc 0.749456248306823\n",
      "est 458 Глубина: 5 результат 0.809 F1: 0.579295154185022 Roc_auc 0.749456248306823\n",
      "est 459 Глубина: 5 результат 0.8085 F1: 0.5786578657865786 Roc_auc 0.7491427686829986\n",
      "est 460 Глубина: 5 результат 0.809 F1: 0.579295154185022 Roc_auc 0.749456248306823\n",
      "est 461 Глубина: 5 результат 0.809 F1: 0.579295154185022 Roc_auc 0.749456248306823\n",
      "est 462 Глубина: 5 результат 0.809 F1: 0.579295154185022 Roc_auc 0.749456248306823\n",
      "est 463 Глубина: 5 результат 0.8085 F1: 0.5786578657865786 Roc_auc 0.7491427686829986\n",
      "est 464 Глубина: 5 результат 0.808 F1: 0.5780219780219781 Roc_auc 0.7488292890591741\n",
      "est 465 Глубина: 5 результат 0.8085 F1: 0.5786578657865786 Roc_auc 0.7491427686829986\n",
      "est 466 Глубина: 5 результат 0.809 F1: 0.579295154185022 Roc_auc 0.749456248306823\n",
      "est 467 Глубина: 5 результат 0.809 F1: 0.579295154185022 Roc_auc 0.749456248306823\n",
      "est 468 Глубина: 5 результат 0.809 F1: 0.579295154185022 Roc_auc 0.749456248306823\n",
      "est 469 Глубина: 5 результат 0.8085 F1: 0.5786578657865786 Roc_auc 0.7491427686829986\n",
      "est 470 Глубина: 5 результат 0.809 F1: 0.579295154185022 Roc_auc 0.749456248306823\n",
      "est 471 Глубина: 5 результат 0.809 F1: 0.579295154185022 Roc_auc 0.749456248306823\n",
      "est 472 Глубина: 5 результат 0.809 F1: 0.579295154185022 Roc_auc 0.749456248306823\n",
      "est 473 Глубина: 5 результат 0.809 F1: 0.579295154185022 Roc_auc 0.749456248306823\n",
      "est 474 Глубина: 5 результат 0.8085 F1: 0.5777287761852259 Roc_auc 0.7482216804055885\n",
      "est 475 Глубина: 5 результат 0.8085 F1: 0.5777287761852259 Roc_auc 0.7482216804055885\n",
      "est 476 Глубина: 5 результат 0.809 F1: 0.579295154185022 Roc_auc 0.749456248306823\n",
      "est 477 Глубина: 5 результат 0.809 F1: 0.579295154185022 Roc_auc 0.749456248306823\n",
      "est 478 Глубина: 5 результат 0.809 F1: 0.579295154185022 Roc_auc 0.749456248306823\n",
      "est 479 Глубина: 5 результат 0.8085 F1: 0.5777287761852259 Roc_auc 0.7482216804055885\n",
      "est 480 Глубина: 5 результат 0.809 F1: 0.579295154185022 Roc_auc 0.749456248306823\n",
      "est 481 Глубина: 5 результат 0.809 F1: 0.579295154185022 Roc_auc 0.749456248306823\n",
      "est 482 Глубина: 5 результат 0.8095 F1: 0.5799338478500551 Roc_auc 0.7497697279306474\n",
      "est 483 Глубина: 5 результат 0.809 F1: 0.5783664459161147 Roc_auc 0.7485351600294129\n",
      "est 484 Глубина: 5 результат 0.81 F1: 0.5805739514348786 Roc_auc 0.7500832075544719\n",
      "est 485 Глубина: 5 результат 0.81 F1: 0.5805739514348786 Roc_auc 0.7500832075544719\n",
      "est 486 Глубина: 5 результат 0.8085 F1: 0.5767955801104973 Roc_auc 0.7473005921281782\n",
      "est 487 Глубина: 5 результат 0.809 F1: 0.577433628318584 Roc_auc 0.7476140717520028\n",
      "est 488 Глубина: 5 результат 0.8085 F1: 0.5758582502768549 Roc_auc 0.7463795038507682\n",
      "est 489 Глубина: 5 результат 0.809 F1: 0.577433628318584 Roc_auc 0.7476140717520028\n",
      "est 490 Глубина: 5 результат 0.809 F1: 0.577433628318584 Roc_auc 0.7476140717520028\n",
      "est 491 Глубина: 5 результат 0.809 F1: 0.577433628318584 Roc_auc 0.7476140717520028\n",
      "est 492 Глубина: 5 результат 0.8085 F1: 0.5767955801104973 Roc_auc 0.7473005921281782\n",
      "est 493 Глубина: 5 результат 0.8085 F1: 0.5767955801104973 Roc_auc 0.7473005921281782\n",
      "est 494 Глубина: 5 результат 0.809 F1: 0.577433628318584 Roc_auc 0.7476140717520028\n",
      "est 495 Глубина: 5 результат 0.809 F1: 0.577433628318584 Roc_auc 0.7476140717520028\n",
      "est 496 Глубина: 5 результат 0.8095 F1: 0.5780730897009967 Roc_auc 0.7479275513758272\n",
      "est 497 Глубина: 5 результат 0.809 F1: 0.5783664459161147 Roc_auc 0.7485351600294129\n",
      "est 498 Глубина: 5 результат 0.8095 F1: 0.5780730897009967 Roc_auc 0.7479275513758272\n",
      "est 499 Глубина: 5 результат 0.8095 F1: 0.5780730897009967 Roc_auc 0.7479275513758272\n",
      " \n",
      "Лучший результат cлучайного леса F1-меры: 0.5833333333333334 n_estimators 180 Roc_auc: 0.7528464723867022\n"
     ]
    }
   ],
   "source": [
    "best_model = None\n",
    "best_result = 0\n",
    "best_est = 0\n",
    "\n",
    "\n",
    "for est in range(120,500):\n",
    "    model_forest = RandomForestClassifier(random_state = state,max_depth = depth, n_estimators = est, n_jobs=-1)\n",
    "    model_forest.fit(features_train_up,target_train_up)\n",
    "    prediction_valid = model_forest.predict(features_valid)\n",
    "    res = model_forest.score(features_valid, target_valid)\n",
    "    F1 = f1_score(target_valid, prediction_valid)\n",
    "    Roc_auc = roc_auc_score(target_valid, prediction_valid)\n",
    "    print('est',est, 'результат', res, \"F1:\", F1, 'Roc_auc', Roc_auc)  \n",
    "    if best_result < F1:\n",
    "        Roc_auc_f = Roc_auc\n",
    "        best_model = model_forest\n",
    "        best_result = F1\n",
    "        best_forest_res_blans = best_result\n",
    "        n_estimators = est\n",
    "\n",
    "print(' ')        \n",
    "print('Лучший результат cлучайного леса F1-меры:', best_forest_res_blans,'n_estimators', n_estimators,'Roc_auc:', Roc_auc_f)"
   ]
  },
  {
   "cell_type": "code",
   "execution_count": 131,
   "metadata": {},
   "outputs": [
    {
     "name": "stdout",
     "output_type": "stream",
     "text": [
      "est 120 Глубина: 5 результат 0.8095 F1: 0.5790055248618784 Roc_auc 0.7488486396532374\n",
      "est 121 Глубина: 5 результат 0.81 F1: 0.579646017699115 Roc_auc 0.7491621192770619\n",
      "est 122 Глубина: 5 результат 0.8105 F1: 0.5802879291251384 Roc_auc 0.7494755989008863\n",
      "est 123 Глубина: 5 результат 0.8105 F1: 0.5802879291251384 Roc_auc 0.7494755989008863\n",
      "est 124 Глубина: 5 результат 0.811 F1: 0.5809312638580931 Roc_auc 0.7497890785247108\n",
      "est 125 Глубина: 5 результат 0.8105 F1: 0.5802879291251384 Roc_auc 0.7494755989008863\n",
      "est 126 Глубина: 5 результат 0.8105 F1: 0.5793562708102109 Roc_auc 0.7485545106234761\n",
      "est 127 Глубина: 5 результат 0.8095 F1: 0.5790055248618784 Roc_auc 0.7488486396532374\n",
      "est 128 Глубина: 5 результат 0.81 F1: 0.579646017699115 Roc_auc 0.7491621192770619\n",
      "est 129 Глубина: 5 результат 0.81 F1: 0.579646017699115 Roc_auc 0.7491621192770619\n",
      "est 130 Глубина: 5 результат 0.809 F1: 0.5783664459161147 Roc_auc 0.7485351600294129\n",
      "est 131 Глубина: 5 результат 0.8085 F1: 0.5777287761852259 Roc_auc 0.7482216804055885\n",
      "est 132 Глубина: 5 результат 0.8095 F1: 0.5790055248618784 Roc_auc 0.7488486396532374\n",
      "est 133 Глубина: 5 результат 0.8095 F1: 0.5790055248618784 Roc_auc 0.7488486396532374\n",
      "est 134 Глубина: 5 результат 0.808 F1: 0.5770925110132159 Roc_auc 0.747908200781764\n",
      "est 135 Глубина: 5 результат 0.808 F1: 0.5770925110132159 Roc_auc 0.747908200781764\n",
      "est 136 Глубина: 5 результат 0.8075 F1: 0.5755237045203969 Roc_auc 0.7466736328805293\n",
      "est 137 Глубина: 5 результат 0.8075 F1: 0.5755237045203969 Roc_auc 0.7466736328805293\n",
      "est 138 Глубина: 5 результат 0.8075 F1: 0.5755237045203969 Roc_auc 0.7466736328805293\n",
      "est 139 Глубина: 5 результат 0.808 F1: 0.5770925110132159 Roc_auc 0.747908200781764\n",
      "est 140 Глубина: 5 результат 0.8075 F1: 0.5773874862788145 Roc_auc 0.7485158094353496\n",
      "est 141 Глубина: 5 результат 0.808 F1: 0.5780219780219781 Roc_auc 0.7488292890591741\n",
      "est 142 Глубина: 5 результат 0.808 F1: 0.5780219780219781 Roc_auc 0.7488292890591741\n",
      "est 143 Глубина: 5 результат 0.808 F1: 0.5780219780219781 Roc_auc 0.7488292890591741\n",
      "est 144 Глубина: 5 результат 0.8075 F1: 0.5764576457645765 Roc_auc 0.7475947211579396\n",
      "est 145 Глубина: 5 результат 0.808 F1: 0.5780219780219781 Roc_auc 0.7488292890591741\n",
      "est 146 Глубина: 5 результат 0.8085 F1: 0.579582875960483 Roc_auc 0.7500638569604088\n",
      "est 147 Глубина: 5 результат 0.8085 F1: 0.579582875960483 Roc_auc 0.7500638569604088\n",
      "est 148 Глубина: 5 результат 0.808 F1: 0.5789473684210527 Roc_auc 0.7497503773365842\n",
      "est 149 Глубина: 5 результат 0.8075 F1: 0.5773874862788145 Roc_auc 0.7485158094353496\n",
      "est 150 Глубина: 5 результат 0.8075 F1: 0.5773874862788145 Roc_auc 0.7485158094353496\n",
      "est 151 Глубина: 5 результат 0.8065 F1: 0.5761226725082147 Roc_auc 0.7478888501877007\n",
      "est 152 Глубина: 5 результат 0.8065 F1: 0.5761226725082147 Roc_auc 0.7478888501877007\n",
      "est 153 Глубина: 5 результат 0.8065 F1: 0.5761226725082147 Roc_auc 0.7478888501877007\n",
      "est 154 Глубина: 5 результат 0.8065 F1: 0.5761226725082147 Roc_auc 0.7478888501877007\n",
      "est 155 Глубина: 5 результат 0.807 F1: 0.5767543859649121 Roc_auc 0.7482023298115251\n",
      "est 156 Глубина: 5 результат 0.8065 F1: 0.5761226725082147 Roc_auc 0.7478888501877007\n",
      "est 157 Глубина: 5 результат 0.806 F1: 0.575492341356674 Roc_auc 0.7475753705638762\n",
      "est 158 Глубина: 5 результат 0.8065 F1: 0.5761226725082147 Roc_auc 0.7478888501877007\n",
      "est 159 Глубина: 5 результат 0.8065 F1: 0.5761226725082147 Roc_auc 0.7478888501877007\n",
      "est 160 Глубина: 5 результат 0.807 F1: 0.5767543859649121 Roc_auc 0.7482023298115251\n",
      "est 161 Глубина: 5 результат 0.807 F1: 0.5767543859649121 Roc_auc 0.7482023298115251\n",
      "est 162 Глубина: 5 результат 0.8065 F1: 0.5761226725082147 Roc_auc 0.7478888501877007\n",
      "est 163 Глубина: 5 результат 0.806 F1: 0.575492341356674 Roc_auc 0.7475753705638762\n",
      "est 164 Глубина: 5 результат 0.807 F1: 0.5758241758241758 Roc_auc 0.7472812415341151\n",
      "est 165 Глубина: 5 результат 0.807 F1: 0.5758241758241758 Roc_auc 0.7472812415341151\n",
      "est 166 Глубина: 5 результат 0.807 F1: 0.5758241758241758 Roc_auc 0.7472812415341151\n",
      "est 167 Глубина: 5 результат 0.807 F1: 0.5758241758241758 Roc_auc 0.7472812415341151\n",
      "est 168 Глубина: 5 результат 0.8075 F1: 0.5764576457645765 Roc_auc 0.7475947211579396\n",
      "est 169 Глубина: 5 результат 0.8065 F1: 0.5761226725082147 Roc_auc 0.7478888501877007\n",
      "est 170 Глубина: 5 результат 0.8075 F1: 0.5773874862788145 Roc_auc 0.7485158094353496\n",
      "est 171 Глубина: 5 результат 0.807 F1: 0.5767543859649121 Roc_auc 0.7482023298115251\n",
      "est 172 Глубина: 5 результат 0.8085 F1: 0.579582875960483 Roc_auc 0.7500638569604088\n",
      "est 173 Глубина: 5 результат 0.808 F1: 0.5789473684210527 Roc_auc 0.7497503773365842\n",
      "est 174 Глубина: 5 результат 0.808 F1: 0.5789473684210527 Roc_auc 0.7497503773365842\n",
      "est 175 Глубина: 5 результат 0.808 F1: 0.5780219780219781 Roc_auc 0.7488292890591741\n",
      "est 176 Глубина: 5 результат 0.809 F1: 0.5802197802197803 Roc_auc 0.7503773365842332\n",
      "est 177 Глубина: 5 результат 0.809 F1: 0.5802197802197803 Roc_auc 0.7503773365842332\n",
      "est 178 Глубина: 5 результат 0.8095 F1: 0.580858085808581 Roc_auc 0.7506908162080577\n",
      "est 179 Глубина: 5 результат 0.8095 F1: 0.5826944140197152 Roc_auc 0.7525329927628778\n",
      "est 180 Глубина: 5 результат 0.81 F1: 0.5833333333333334 Roc_auc 0.7528464723867022\n",
      "est 181 Глубина: 5 результат 0.81 F1: 0.5833333333333334 Roc_auc 0.7528464723867022\n",
      "est 182 Глубина: 5 результат 0.8095 F1: 0.5817782656421514 Roc_auc 0.7516119044854677\n",
      "est 183 Глубина: 5 результат 0.81 F1: 0.5833333333333334 Roc_auc 0.7528464723867022\n",
      "est 184 Глубина: 5 результат 0.809 F1: 0.5802197802197803 Roc_auc 0.7503773365842332\n",
      "est 185 Глубина: 5 результат 0.8085 F1: 0.5786578657865786 Roc_auc 0.7491427686829986\n",
      "est 186 Глубина: 5 результат 0.808 F1: 0.5770925110132159 Roc_auc 0.747908200781764\n",
      "est 187 Глубина: 5 результат 0.808 F1: 0.5770925110132159 Roc_auc 0.747908200781764\n",
      "est 188 Глубина: 5 результат 0.808 F1: 0.5770925110132159 Roc_auc 0.747908200781764\n",
      "est 189 Глубина: 5 результат 0.809 F1: 0.579295154185022 Roc_auc 0.749456248306823\n",
      "est 190 Глубина: 5 результат 0.809 F1: 0.579295154185022 Roc_auc 0.749456248306823\n",
      "est 191 Глубина: 5 результат 0.808 F1: 0.5780219780219781 Roc_auc 0.7488292890591741\n",
      "est 192 Глубина: 5 результат 0.8075 F1: 0.5764576457645765 Roc_auc 0.7475947211579396\n",
      "est 193 Глубина: 5 результат 0.8075 F1: 0.5764576457645765 Roc_auc 0.7475947211579396\n",
      "est 194 Глубина: 5 результат 0.808 F1: 0.5780219780219781 Roc_auc 0.7488292890591741\n",
      "est 195 Глубина: 5 результат 0.808 F1: 0.5780219780219781 Roc_auc 0.7488292890591741\n",
      "est 196 Глубина: 5 результат 0.807 F1: 0.5758241758241758 Roc_auc 0.7472812415341151\n",
      "est 197 Глубина: 5 результат 0.806 F1: 0.5736263736263737 Roc_auc 0.745733194009056\n",
      "est 198 Глубина: 5 результат 0.807 F1: 0.5748898678414097 Roc_auc 0.7463601532567049\n",
      "est 199 Глубина: 5 результат 0.8075 F1: 0.5755237045203969 Roc_auc 0.7466736328805293\n",
      "est 200 Глубина: 5 результат 0.8075 F1: 0.5755237045203969 Roc_auc 0.7466736328805293\n",
      "est 201 Глубина: 5 результат 0.807 F1: 0.5739514348785871 Roc_auc 0.7454390649792948\n",
      "est 202 Глубина: 5 результат 0.8075 F1: 0.574585635359116 Roc_auc 0.7457525446031192\n",
      "est 203 Глубина: 5 результат 0.807 F1: 0.5739514348785871 Roc_auc 0.7454390649792948\n",
      "est 204 Глубина: 5 результат 0.808 F1: 0.576158940397351 Roc_auc 0.7469871125043538\n",
      "est 205 Глубина: 5 результат 0.8075 F1: 0.5755237045203969 Roc_auc 0.7466736328805293\n",
      "est 206 Глубина: 5 результат 0.8085 F1: 0.5777287761852259 Roc_auc 0.7482216804055885\n",
      "est 207 Глубина: 5 результат 0.8085 F1: 0.5777287761852259 Roc_auc 0.7482216804055885\n",
      "est 208 Глубина: 5 результат 0.8085 F1: 0.5767955801104973 Roc_auc 0.7473005921281782\n",
      "est 209 Глубина: 5 результат 0.8095 F1: 0.5790055248618784 Roc_auc 0.7488486396532374\n",
      "est 210 Глубина: 5 результат 0.809 F1: 0.5783664459161147 Roc_auc 0.7485351600294129\n",
      "est 211 Глубина: 5 результат 0.809 F1: 0.5783664459161147 Roc_auc 0.7485351600294129\n",
      "est 212 Глубина: 5 результат 0.8085 F1: 0.5767955801104973 Roc_auc 0.7473005921281782\n",
      "est 213 Глубина: 5 результат 0.8095 F1: 0.5780730897009967 Roc_auc 0.7479275513758272\n",
      "est 214 Глубина: 5 результат 0.8095 F1: 0.5790055248618784 Roc_auc 0.7488486396532374\n",
      "est 215 Глубина: 5 результат 0.8085 F1: 0.5777287761852259 Roc_auc 0.7482216804055885\n",
      "est 216 Глубина: 5 результат 0.8105 F1: 0.5812154696132596 Roc_auc 0.7503966871782963\n",
      "est 217 Глубина: 5 результат 0.8105 F1: 0.5812154696132596 Roc_auc 0.7503966871782963\n",
      "est 218 Глубина: 5 результат 0.81 F1: 0.579646017699115 Roc_auc 0.7491621192770619\n",
      "est 219 Глубина: 5 результат 0.8095 F1: 0.5799338478500551 Roc_auc 0.7497697279306474\n",
      "est 220 Глубина: 5 результат 0.809 F1: 0.579295154185022 Roc_auc 0.749456248306823\n",
      "est 221 Глубина: 5 результат 0.8085 F1: 0.5786578657865786 Roc_auc 0.7491427686829986\n",
      "est 222 Глубина: 5 результат 0.8095 F1: 0.5790055248618784 Roc_auc 0.7488486396532374\n",
      "est 223 Глубина: 5 результат 0.809 F1: 0.577433628318584 Roc_auc 0.7476140717520028\n",
      "est 224 Глубина: 5 результат 0.809 F1: 0.577433628318584 Roc_auc 0.7476140717520028\n",
      "est 225 Глубина: 5 результат 0.809 F1: 0.577433628318584 Roc_auc 0.7476140717520028\n",
      "est 226 Глубина: 5 результат 0.8085 F1: 0.5767955801104973 Roc_auc 0.7473005921281782\n",
      "est 227 Глубина: 5 результат 0.809 F1: 0.5764966740576496 Roc_auc 0.7466929834745927\n",
      "est 228 Глубина: 5 результат 0.809 F1: 0.5764966740576496 Roc_auc 0.7466929834745927\n",
      "est 229 Глубина: 5 результат 0.8095 F1: 0.5780730897009967 Roc_auc 0.7479275513758272\n",
      "est 230 Глубина: 5 результат 0.8095 F1: 0.5790055248618784 Roc_auc 0.7488486396532374\n",
      "est 231 Глубина: 5 результат 0.8095 F1: 0.5790055248618784 Roc_auc 0.7488486396532374\n",
      "est 232 Глубина: 5 результат 0.809 F1: 0.5783664459161147 Roc_auc 0.7485351600294129\n",
      "est 233 Глубина: 5 результат 0.8085 F1: 0.5777287761852259 Roc_auc 0.7482216804055885\n",
      "est 234 Глубина: 5 результат 0.809 F1: 0.5783664459161147 Roc_auc 0.7485351600294129\n",
      "est 235 Глубина: 5 результат 0.808 F1: 0.576158940397351 Roc_auc 0.7469871125043538\n",
      "est 236 Глубина: 5 результат 0.8075 F1: 0.5755237045203969 Roc_auc 0.7466736328805293\n",
      "est 237 Глубина: 5 результат 0.809 F1: 0.577433628318584 Roc_auc 0.7476140717520028\n",
      "est 238 Глубина: 5 результат 0.809 F1: 0.577433628318584 Roc_auc 0.7476140717520028\n",
      "est 239 Глубина: 5 результат 0.8095 F1: 0.5790055248618784 Roc_auc 0.7488486396532374\n",
      "est 240 Глубина: 5 результат 0.809 F1: 0.577433628318584 Roc_auc 0.7476140717520028\n",
      "est 241 Глубина: 5 результат 0.809 F1: 0.577433628318584 Roc_auc 0.7476140717520028\n",
      "est 242 Глубина: 5 результат 0.809 F1: 0.577433628318584 Roc_auc 0.7476140717520028\n",
      "est 243 Глубина: 5 результат 0.809 F1: 0.577433628318584 Roc_auc 0.7476140717520028\n",
      "est 244 Глубина: 5 результат 0.8085 F1: 0.5767955801104973 Roc_auc 0.7473005921281782\n",
      "est 245 Глубина: 5 результат 0.8085 F1: 0.5767955801104973 Roc_auc 0.7473005921281782\n",
      "est 246 Глубина: 5 результат 0.808 F1: 0.5752212389380531 Roc_auc 0.7460660242269437\n",
      "est 247 Глубина: 5 результат 0.809 F1: 0.577433628318584 Roc_auc 0.7476140717520028\n",
      "est 248 Глубина: 5 результат 0.809 F1: 0.577433628318584 Roc_auc 0.7476140717520028\n",
      "est 249 Глубина: 5 результат 0.808 F1: 0.576158940397351 Roc_auc 0.7469871125043538\n",
      "est 250 Глубина: 5 результат 0.8095 F1: 0.5790055248618784 Roc_auc 0.7488486396532374\n",
      "est 251 Глубина: 5 результат 0.809 F1: 0.5764966740576496 Roc_auc 0.7466929834745927\n",
      "est 252 Глубина: 5 результат 0.8095 F1: 0.5771365149833517 Roc_auc 0.7470064630984171\n",
      "est 253 Глубина: 5 результат 0.81 F1: 0.5787139689578715 Roc_auc 0.7482410309996517\n",
      "est 254 Глубина: 5 результат 0.809 F1: 0.5764966740576496 Roc_auc 0.7466929834745927\n",
      "est 255 Глубина: 5 результат 0.8095 F1: 0.5780730897009967 Roc_auc 0.7479275513758272\n",
      "est 256 Глубина: 5 результат 0.809 F1: 0.577433628318584 Roc_auc 0.7476140717520028\n",
      "est 257 Глубина: 5 результат 0.808 F1: 0.576158940397351 Roc_auc 0.7469871125043538\n",
      "est 258 Глубина: 5 результат 0.808 F1: 0.576158940397351 Roc_auc 0.7469871125043538\n",
      "est 259 Глубина: 5 результат 0.808 F1: 0.576158940397351 Roc_auc 0.7469871125043538\n",
      "est 260 Глубина: 5 результат 0.808 F1: 0.576158940397351 Roc_auc 0.7469871125043538\n",
      "est 261 Глубина: 5 результат 0.808 F1: 0.576158940397351 Roc_auc 0.7469871125043538\n",
      "est 262 Глубина: 5 результат 0.8075 F1: 0.5755237045203969 Roc_auc 0.7466736328805293\n",
      "est 263 Глубина: 5 результат 0.808 F1: 0.5770925110132159 Roc_auc 0.747908200781764\n",
      "est 264 Глубина: 5 результат 0.8085 F1: 0.5777287761852259 Roc_auc 0.7482216804055885\n",
      "est 265 Глубина: 5 результат 0.808 F1: 0.5770925110132159 Roc_auc 0.747908200781764\n",
      "est 266 Глубина: 5 результат 0.808 F1: 0.576158940397351 Roc_auc 0.7469871125043538\n",
      "est 267 Глубина: 5 результат 0.8095 F1: 0.5790055248618784 Roc_auc 0.7488486396532374\n",
      "est 268 Глубина: 5 результат 0.8095 F1: 0.5790055248618784 Roc_auc 0.7488486396532374\n",
      "est 269 Глубина: 5 результат 0.8095 F1: 0.5790055248618784 Roc_auc 0.7488486396532374\n",
      "est 270 Глубина: 5 результат 0.8095 F1: 0.5780730897009967 Roc_auc 0.7479275513758272\n",
      "est 271 Глубина: 5 результат 0.8095 F1: 0.5780730897009967 Roc_auc 0.7479275513758272\n",
      "est 272 Глубина: 5 результат 0.8095 F1: 0.5780730897009967 Roc_auc 0.7479275513758272\n",
      "est 273 Глубина: 5 результат 0.809 F1: 0.5764966740576496 Roc_auc 0.7466929834745927\n",
      "est 274 Глубина: 5 результат 0.809 F1: 0.5764966740576496 Roc_auc 0.7466929834745927\n",
      "est 275 Глубина: 5 результат 0.8085 F1: 0.5758582502768549 Roc_auc 0.7463795038507682\n",
      "est 276 Глубина: 5 результат 0.809 F1: 0.5764966740576496 Roc_auc 0.7466929834745927\n",
      "est 277 Глубина: 5 результат 0.8085 F1: 0.5758582502768549 Roc_auc 0.7463795038507682\n",
      "est 278 Глубина: 5 результат 0.808 F1: 0.5752212389380531 Roc_auc 0.7460660242269437\n",
      "est 279 Глубина: 5 результат 0.808 F1: 0.5752212389380531 Roc_auc 0.7460660242269437\n",
      "est 280 Глубина: 5 результат 0.808 F1: 0.5742793791574279 Roc_auc 0.7451449359495338\n",
      "est 281 Глубина: 5 результат 0.809 F1: 0.577433628318584 Roc_auc 0.7476140717520028\n",
      "est 282 Глубина: 5 результат 0.808 F1: 0.5742793791574279 Roc_auc 0.7451449359495338\n",
      "est 283 Глубина: 5 результат 0.8085 F1: 0.5758582502768549 Roc_auc 0.7463795038507682\n",
      "est 284 Глубина: 5 результат 0.8085 F1: 0.5749167591564928 Roc_auc 0.7454584155733582\n",
      "est 285 Глубина: 5 результат 0.808 F1: 0.5733333333333334 Roc_auc 0.7442238476721236\n",
      "est 286 Глубина: 5 результат 0.8085 F1: 0.5749167591564928 Roc_auc 0.7454584155733582\n",
      "est 287 Глубина: 5 результат 0.809 F1: 0.5764966740576496 Roc_auc 0.7466929834745927\n",
      "est 288 Глубина: 5 результат 0.809 F1: 0.577433628318584 Roc_auc 0.7476140717520028\n",
      "est 289 Глубина: 5 результат 0.809 F1: 0.577433628318584 Roc_auc 0.7476140717520028\n",
      "est 290 Глубина: 5 результат 0.8085 F1: 0.5758582502768549 Roc_auc 0.7463795038507682\n",
      "est 291 Глубина: 5 результат 0.809 F1: 0.577433628318584 Roc_auc 0.7476140717520028\n",
      "est 292 Глубина: 5 результат 0.8085 F1: 0.5767955801104973 Roc_auc 0.7473005921281782\n",
      "est 293 Глубина: 5 результат 0.808 F1: 0.576158940397351 Roc_auc 0.7469871125043538\n",
      "est 294 Глубина: 5 результат 0.808 F1: 0.5752212389380531 Roc_auc 0.7460660242269437\n",
      "est 295 Глубина: 5 результат 0.809 F1: 0.577433628318584 Roc_auc 0.7476140717520028\n",
      "est 296 Глубина: 5 результат 0.8085 F1: 0.5758582502768549 Roc_auc 0.7463795038507682\n",
      "est 297 Глубина: 5 результат 0.808 F1: 0.576158940397351 Roc_auc 0.7469871125043538\n",
      "est 298 Глубина: 5 результат 0.8085 F1: 0.5758582502768549 Roc_auc 0.7463795038507682\n",
      "est 299 Глубина: 5 результат 0.808 F1: 0.5742793791574279 Roc_auc 0.7451449359495338\n",
      "est 300 Глубина: 5 результат 0.808 F1: 0.5742793791574279 Roc_auc 0.7451449359495338\n",
      "est 301 Глубина: 5 результат 0.8085 F1: 0.5758582502768549 Roc_auc 0.7463795038507682\n",
      "est 302 Глубина: 5 результат 0.8095 F1: 0.5790055248618784 Roc_auc 0.7488486396532374\n",
      "est 303 Глубина: 5 результат 0.8085 F1: 0.5758582502768549 Roc_auc 0.7463795038507682\n",
      "est 304 Глубина: 5 результат 0.8085 F1: 0.5758582502768549 Roc_auc 0.7463795038507682\n",
      "est 305 Глубина: 5 результат 0.8085 F1: 0.5758582502768549 Roc_auc 0.7463795038507682\n",
      "est 306 Глубина: 5 результат 0.8085 F1: 0.5758582502768549 Roc_auc 0.7463795038507682\n",
      "est 307 Глубина: 5 результат 0.808 F1: 0.5752212389380531 Roc_auc 0.7460660242269437\n",
      "est 308 Глубина: 5 результат 0.8085 F1: 0.5758582502768549 Roc_auc 0.7463795038507682\n",
      "est 309 Глубина: 5 результат 0.808 F1: 0.5752212389380531 Roc_auc 0.7460660242269437\n",
      "est 310 Глубина: 5 результат 0.808 F1: 0.5752212389380531 Roc_auc 0.7460660242269437\n",
      "est 311 Глубина: 5 результат 0.809 F1: 0.5783664459161147 Roc_auc 0.7485351600294129\n",
      "est 312 Глубина: 5 результат 0.808 F1: 0.5752212389380531 Roc_auc 0.7460660242269437\n",
      "est 313 Глубина: 5 результат 0.8095 F1: 0.5790055248618784 Roc_auc 0.7488486396532374\n",
      "est 314 Глубина: 5 результат 0.809 F1: 0.577433628318584 Roc_auc 0.7476140717520028\n",
      "est 315 Глубина: 5 результат 0.8095 F1: 0.5780730897009967 Roc_auc 0.7479275513758272\n",
      "est 316 Глубина: 5 результат 0.81 F1: 0.579646017699115 Roc_auc 0.7491621192770619\n",
      "est 317 Глубина: 5 результат 0.809 F1: 0.577433628318584 Roc_auc 0.7476140717520028\n",
      "est 318 Глубина: 5 результат 0.8105 F1: 0.5802879291251384 Roc_auc 0.7494755989008863\n",
      "est 319 Глубина: 5 результат 0.81 F1: 0.579646017699115 Roc_auc 0.7491621192770619\n",
      "est 320 Глубина: 5 результат 0.8105 F1: 0.5802879291251384 Roc_auc 0.7494755989008863\n",
      "est 321 Глубина: 5 результат 0.8105 F1: 0.5802879291251384 Roc_auc 0.7494755989008863\n",
      "est 322 Глубина: 5 результат 0.8105 F1: 0.5802879291251384 Roc_auc 0.7494755989008863\n",
      "est 323 Глубина: 5 результат 0.811 F1: 0.5818584070796461 Roc_auc 0.7507101668021208\n",
      "est 324 Глубина: 5 результат 0.809 F1: 0.577433628318584 Roc_auc 0.7476140717520028\n",
      "est 325 Глубина: 5 результат 0.811 F1: 0.5809312638580931 Roc_auc 0.7497890785247108\n",
      "est 326 Глубина: 5 результат 0.8085 F1: 0.5758582502768549 Roc_auc 0.7463795038507682\n",
      "est 327 Глубина: 5 результат 0.8095 F1: 0.5780730897009967 Roc_auc 0.7479275513758272\n",
      "est 328 Глубина: 5 результат 0.81 F1: 0.579646017699115 Roc_auc 0.7491621192770619\n",
      "est 329 Глубина: 5 результат 0.809 F1: 0.5755555555555556 Roc_auc 0.7457718951971826\n",
      "est 330 Глубина: 5 результат 0.809 F1: 0.5764966740576496 Roc_auc 0.7466929834745927\n",
      "est 331 Глубина: 5 результат 0.8095 F1: 0.5780730897009967 Roc_auc 0.7479275513758272\n",
      "est 332 Глубина: 5 результат 0.81 F1: 0.5787139689578715 Roc_auc 0.7482410309996517\n",
      "est 333 Глубина: 5 результат 0.81 F1: 0.5787139689578715 Roc_auc 0.7482410309996517\n",
      "est 334 Глубина: 5 результат 0.8095 F1: 0.5780730897009967 Roc_auc 0.7479275513758272\n",
      "est 335 Глубина: 5 результат 0.81 F1: 0.5805739514348786 Roc_auc 0.7500832075544719\n",
      "est 336 Глубина: 5 результат 0.8095 F1: 0.5780730897009967 Roc_auc 0.7479275513758272\n",
      "est 337 Глубина: 5 результат 0.8095 F1: 0.5780730897009967 Roc_auc 0.7479275513758272\n",
      "est 338 Глубина: 5 результат 0.8095 F1: 0.5780730897009967 Roc_auc 0.7479275513758272\n",
      "est 339 Глубина: 5 результат 0.809 F1: 0.5764966740576496 Roc_auc 0.7466929834745927\n",
      "est 340 Глубина: 5 результат 0.8095 F1: 0.5780730897009967 Roc_auc 0.7479275513758272\n",
      "est 341 Глубина: 5 результат 0.8085 F1: 0.5758582502768549 Roc_auc 0.7463795038507682\n",
      "est 342 Глубина: 5 результат 0.8095 F1: 0.5780730897009967 Roc_auc 0.7479275513758272\n",
      "est 343 Глубина: 5 результат 0.8095 F1: 0.5780730897009967 Roc_auc 0.7479275513758272\n",
      "est 344 Глубина: 5 результат 0.809 F1: 0.577433628318584 Roc_auc 0.7476140717520028\n",
      "est 345 Глубина: 5 результат 0.81 F1: 0.5805739514348786 Roc_auc 0.7500832075544719\n",
      "est 346 Глубина: 5 результат 0.8095 F1: 0.5790055248618784 Roc_auc 0.7488486396532374\n",
      "est 347 Глубина: 5 результат 0.8095 F1: 0.5790055248618784 Roc_auc 0.7488486396532374\n",
      "est 348 Глубина: 5 результат 0.809 F1: 0.5783664459161147 Roc_auc 0.7485351600294129\n",
      "est 349 Глубина: 5 результат 0.81 F1: 0.5805739514348786 Roc_auc 0.7500832075544719\n",
      "est 350 Глубина: 5 результат 0.8095 F1: 0.5790055248618784 Roc_auc 0.7488486396532374\n",
      "est 351 Глубина: 5 результат 0.8095 F1: 0.5790055248618784 Roc_auc 0.7488486396532374\n",
      "est 352 Глубина: 5 результат 0.8095 F1: 0.5790055248618784 Roc_auc 0.7488486396532374\n",
      "est 353 Глубина: 5 результат 0.8095 F1: 0.5790055248618784 Roc_auc 0.7488486396532374\n",
      "est 354 Глубина: 5 результат 0.8095 F1: 0.5780730897009967 Roc_auc 0.7479275513758272\n",
      "est 355 Глубина: 5 результат 0.809 F1: 0.577433628318584 Roc_auc 0.7476140717520028\n",
      "est 356 Глубина: 5 результат 0.8085 F1: 0.5767955801104973 Roc_auc 0.7473005921281782\n",
      "est 357 Глубина: 5 результат 0.8085 F1: 0.5767955801104973 Roc_auc 0.7473005921281782\n",
      "est 358 Глубина: 5 результат 0.809 F1: 0.5783664459161147 Roc_auc 0.7485351600294129\n",
      "est 359 Глубина: 5 результат 0.809 F1: 0.5783664459161147 Roc_auc 0.7485351600294129\n",
      "est 360 Глубина: 5 результат 0.8085 F1: 0.5777287761852259 Roc_auc 0.7482216804055885\n",
      "est 361 Глубина: 5 результат 0.8085 F1: 0.5777287761852259 Roc_auc 0.7482216804055885\n",
      "est 362 Глубина: 5 результат 0.8095 F1: 0.5790055248618784 Roc_auc 0.7488486396532374\n",
      "est 363 Глубина: 5 результат 0.8085 F1: 0.5777287761852259 Roc_auc 0.7482216804055885\n",
      "est 364 Глубина: 5 результат 0.8085 F1: 0.5777287761852259 Roc_auc 0.7482216804055885\n",
      "est 365 Глубина: 5 результат 0.8085 F1: 0.5777287761852259 Roc_auc 0.7482216804055885\n",
      "est 366 Глубина: 5 результат 0.809 F1: 0.5783664459161147 Roc_auc 0.7485351600294129\n",
      "est 367 Глубина: 5 результат 0.8095 F1: 0.5790055248618784 Roc_auc 0.7488486396532374\n",
      "est 368 Глубина: 5 результат 0.809 F1: 0.5783664459161147 Roc_auc 0.7485351600294129\n",
      "est 369 Глубина: 5 результат 0.809 F1: 0.5783664459161147 Roc_auc 0.7485351600294129\n",
      "est 370 Глубина: 5 результат 0.8095 F1: 0.5790055248618784 Roc_auc 0.7488486396532374\n",
      "est 371 Глубина: 5 результат 0.8095 F1: 0.5790055248618784 Roc_auc 0.7488486396532374\n",
      "est 372 Глубина: 5 результат 0.8095 F1: 0.5790055248618784 Roc_auc 0.7488486396532374\n",
      "est 373 Глубина: 5 результат 0.8095 F1: 0.5790055248618784 Roc_auc 0.7488486396532374\n",
      "est 374 Глубина: 5 результат 0.8095 F1: 0.5790055248618784 Roc_auc 0.7488486396532374\n",
      "est 375 Глубина: 5 результат 0.8095 F1: 0.5790055248618784 Roc_auc 0.7488486396532374\n",
      "est 376 Глубина: 5 результат 0.8095 F1: 0.5790055248618784 Roc_auc 0.7488486396532374\n",
      "est 377 Глубина: 5 результат 0.8095 F1: 0.5790055248618784 Roc_auc 0.7488486396532374\n",
      "est 378 Глубина: 5 результат 0.81 F1: 0.579646017699115 Roc_auc 0.7491621192770619\n",
      "est 379 Глубина: 5 результат 0.8095 F1: 0.5790055248618784 Roc_auc 0.7488486396532374\n",
      "est 380 Глубина: 5 результат 0.8095 F1: 0.5790055248618784 Roc_auc 0.7488486396532374\n",
      "est 381 Глубина: 5 результат 0.809 F1: 0.5783664459161147 Roc_auc 0.7485351600294129\n",
      "est 382 Глубина: 5 результат 0.8085 F1: 0.5777287761852259 Roc_auc 0.7482216804055885\n",
      "est 383 Глубина: 5 результат 0.8085 F1: 0.5777287761852259 Roc_auc 0.7482216804055885\n",
      "est 384 Глубина: 5 результат 0.8085 F1: 0.5777287761852259 Roc_auc 0.7482216804055885\n",
      "est 385 Глубина: 5 результат 0.809 F1: 0.5783664459161147 Roc_auc 0.7485351600294129\n",
      "est 386 Глубина: 5 результат 0.809 F1: 0.5783664459161147 Roc_auc 0.7485351600294129\n",
      "est 387 Глубина: 5 результат 0.8085 F1: 0.5777287761852259 Roc_auc 0.7482216804055885\n",
      "est 388 Глубина: 5 результат 0.809 F1: 0.5783664459161147 Roc_auc 0.7485351600294129\n",
      "est 389 Глубина: 5 результат 0.8085 F1: 0.5777287761852259 Roc_auc 0.7482216804055885\n",
      "est 390 Глубина: 5 результат 0.8085 F1: 0.5777287761852259 Roc_auc 0.7482216804055885\n",
      "est 391 Глубина: 5 результат 0.8085 F1: 0.5777287761852259 Roc_auc 0.7482216804055885\n",
      "est 392 Глубина: 5 результат 0.8085 F1: 0.5777287761852259 Roc_auc 0.7482216804055885\n",
      "est 393 Глубина: 5 результат 0.8085 F1: 0.5777287761852259 Roc_auc 0.7482216804055885\n",
      "est 394 Глубина: 5 результат 0.8085 F1: 0.5777287761852259 Roc_auc 0.7482216804055885\n",
      "est 395 Глубина: 5 результат 0.8085 F1: 0.5777287761852259 Roc_auc 0.7482216804055885\n",
      "est 396 Глубина: 5 результат 0.8085 F1: 0.5777287761852259 Roc_auc 0.7482216804055885\n",
      "est 397 Глубина: 5 результат 0.8085 F1: 0.5777287761852259 Roc_auc 0.7482216804055885\n",
      "est 398 Глубина: 5 результат 0.808 F1: 0.576158940397351 Roc_auc 0.7469871125043538\n",
      "est 399 Глубина: 5 результат 0.8085 F1: 0.5777287761852259 Roc_auc 0.7482216804055885\n",
      "est 400 Глубина: 5 результат 0.8085 F1: 0.5777287761852259 Roc_auc 0.7482216804055885\n",
      "est 401 Глубина: 5 результат 0.808 F1: 0.576158940397351 Roc_auc 0.7469871125043538\n",
      "est 402 Глубина: 5 результат 0.8085 F1: 0.5777287761852259 Roc_auc 0.7482216804055885\n",
      "est 403 Глубина: 5 результат 0.8085 F1: 0.5777287761852259 Roc_auc 0.7482216804055885\n",
      "est 404 Глубина: 5 результат 0.8085 F1: 0.5777287761852259 Roc_auc 0.7482216804055885\n",
      "est 405 Глубина: 5 результат 0.8075 F1: 0.574585635359116 Roc_auc 0.7457525446031192\n",
      "est 406 Глубина: 5 результат 0.808 F1: 0.576158940397351 Roc_auc 0.7469871125043538\n",
      "est 407 Глубина: 5 результат 0.808 F1: 0.576158940397351 Roc_auc 0.7469871125043538\n",
      "est 408 Глубина: 5 результат 0.808 F1: 0.576158940397351 Roc_auc 0.7469871125043538\n",
      "est 409 Глубина: 5 результат 0.8085 F1: 0.5777287761852259 Roc_auc 0.7482216804055885\n",
      "est 410 Глубина: 5 результат 0.8075 F1: 0.5755237045203969 Roc_auc 0.7466736328805293\n",
      "est 411 Глубина: 5 результат 0.8085 F1: 0.5777287761852259 Roc_auc 0.7482216804055885\n",
      "est 412 Глубина: 5 результат 0.8085 F1: 0.5777287761852259 Roc_auc 0.7482216804055885\n",
      "est 413 Глубина: 5 результат 0.8085 F1: 0.5777287761852259 Roc_auc 0.7482216804055885\n",
      "est 414 Глубина: 5 результат 0.809 F1: 0.579295154185022 Roc_auc 0.749456248306823\n",
      "est 415 Глубина: 5 результат 0.809 F1: 0.579295154185022 Roc_auc 0.749456248306823\n",
      "est 416 Глубина: 5 результат 0.8085 F1: 0.5777287761852259 Roc_auc 0.7482216804055885\n",
      "est 417 Глубина: 5 результат 0.809 F1: 0.579295154185022 Roc_auc 0.749456248306823\n",
      "est 418 Глубина: 5 результат 0.809 F1: 0.579295154185022 Roc_auc 0.749456248306823\n",
      "est 419 Глубина: 5 результат 0.809 F1: 0.579295154185022 Roc_auc 0.749456248306823\n",
      "est 420 Глубина: 5 результат 0.809 F1: 0.579295154185022 Roc_auc 0.749456248306823\n",
      "est 421 Глубина: 5 результат 0.808 F1: 0.576158940397351 Roc_auc 0.7469871125043538\n",
      "est 422 Глубина: 5 результат 0.8085 F1: 0.5777287761852259 Roc_auc 0.7482216804055885\n",
      "est 423 Глубина: 5 результат 0.8085 F1: 0.5777287761852259 Roc_auc 0.7482216804055885\n",
      "est 424 Глубина: 5 результат 0.8085 F1: 0.5777287761852259 Roc_auc 0.7482216804055885\n",
      "est 425 Глубина: 5 результат 0.808 F1: 0.576158940397351 Roc_auc 0.7469871125043538\n",
      "est 426 Глубина: 5 результат 0.808 F1: 0.576158940397351 Roc_auc 0.7469871125043538\n",
      "est 427 Глубина: 5 результат 0.809 F1: 0.579295154185022 Roc_auc 0.749456248306823\n",
      "est 428 Глубина: 5 результат 0.808 F1: 0.576158940397351 Roc_auc 0.7469871125043538\n",
      "est 429 Глубина: 5 результат 0.8085 F1: 0.5777287761852259 Roc_auc 0.7482216804055885\n",
      "est 430 Глубина: 5 результат 0.809 F1: 0.579295154185022 Roc_auc 0.749456248306823\n",
      "est 431 Глубина: 5 результат 0.809 F1: 0.579295154185022 Roc_auc 0.749456248306823\n",
      "est 432 Глубина: 5 результат 0.8085 F1: 0.5777287761852259 Roc_auc 0.7482216804055885\n",
      "est 433 Глубина: 5 результат 0.809 F1: 0.579295154185022 Roc_auc 0.749456248306823\n",
      "est 434 Глубина: 5 результат 0.8085 F1: 0.5786578657865786 Roc_auc 0.7491427686829986\n",
      "est 435 Глубина: 5 результат 0.808 F1: 0.5780219780219781 Roc_auc 0.7488292890591741\n",
      "est 436 Глубина: 5 результат 0.8075 F1: 0.5764576457645765 Roc_auc 0.7475947211579396\n",
      "est 437 Глубина: 5 результат 0.808 F1: 0.5770925110132159 Roc_auc 0.747908200781764\n",
      "est 438 Глубина: 5 результат 0.809 F1: 0.5802197802197803 Roc_auc 0.7503773365842332\n",
      "est 439 Глубина: 5 результат 0.808 F1: 0.5789473684210527 Roc_auc 0.7497503773365842\n",
      "est 440 Глубина: 5 результат 0.8085 F1: 0.5777287761852259 Roc_auc 0.7482216804055885\n",
      "est 441 Глубина: 5 результат 0.808 F1: 0.5770925110132159 Roc_auc 0.747908200781764\n",
      "est 442 Глубина: 5 результат 0.8085 F1: 0.5786578657865786 Roc_auc 0.7491427686829986\n",
      "est 443 Глубина: 5 результат 0.8085 F1: 0.5786578657865786 Roc_auc 0.7491427686829986\n",
      "est 444 Глубина: 5 результат 0.8085 F1: 0.5786578657865786 Roc_auc 0.7491427686829986\n",
      "est 445 Глубина: 5 результат 0.809 F1: 0.579295154185022 Roc_auc 0.749456248306823\n",
      "est 446 Глубина: 5 результат 0.809 F1: 0.579295154185022 Roc_auc 0.749456248306823\n",
      "est 447 Глубина: 5 результат 0.8085 F1: 0.5777287761852259 Roc_auc 0.7482216804055885\n",
      "est 448 Глубина: 5 результат 0.8085 F1: 0.5777287761852259 Roc_auc 0.7482216804055885\n",
      "est 449 Глубина: 5 результат 0.8085 F1: 0.5777287761852259 Roc_auc 0.7482216804055885\n",
      "est 450 Глубина: 5 результат 0.8085 F1: 0.5777287761852259 Roc_auc 0.7482216804055885\n",
      "est 451 Глубина: 5 результат 0.8085 F1: 0.5777287761852259 Roc_auc 0.7482216804055885\n",
      "est 452 Глубина: 5 результат 0.8085 F1: 0.5777287761852259 Roc_auc 0.7482216804055885\n",
      "est 453 Глубина: 5 результат 0.809 F1: 0.5783664459161147 Roc_auc 0.7485351600294129\n",
      "est 454 Глубина: 5 результат 0.8085 F1: 0.5777287761852259 Roc_auc 0.7482216804055885\n",
      "est 455 Глубина: 5 результат 0.8085 F1: 0.5777287761852259 Roc_auc 0.7482216804055885\n",
      "est 456 Глубина: 5 результат 0.8095 F1: 0.5799338478500551 Roc_auc 0.7497697279306474\n",
      "est 457 Глубина: 5 результат 0.809 F1: 0.579295154185022 Roc_auc 0.749456248306823\n",
      "est 458 Глубина: 5 результат 0.809 F1: 0.579295154185022 Roc_auc 0.749456248306823\n",
      "est 459 Глубина: 5 результат 0.8085 F1: 0.5786578657865786 Roc_auc 0.7491427686829986\n",
      "est 460 Глубина: 5 результат 0.809 F1: 0.579295154185022 Roc_auc 0.749456248306823\n",
      "est 461 Глубина: 5 результат 0.809 F1: 0.579295154185022 Roc_auc 0.749456248306823\n",
      "est 462 Глубина: 5 результат 0.809 F1: 0.579295154185022 Roc_auc 0.749456248306823\n",
      "est 463 Глубина: 5 результат 0.8085 F1: 0.5786578657865786 Roc_auc 0.7491427686829986\n",
      "est 464 Глубина: 5 результат 0.808 F1: 0.5780219780219781 Roc_auc 0.7488292890591741\n",
      "est 465 Глубина: 5 результат 0.8085 F1: 0.5786578657865786 Roc_auc 0.7491427686829986\n",
      "est 466 Глубина: 5 результат 0.809 F1: 0.579295154185022 Roc_auc 0.749456248306823\n",
      "est 467 Глубина: 5 результат 0.809 F1: 0.579295154185022 Roc_auc 0.749456248306823\n",
      "est 468 Глубина: 5 результат 0.809 F1: 0.579295154185022 Roc_auc 0.749456248306823\n",
      "est 469 Глубина: 5 результат 0.8085 F1: 0.5786578657865786 Roc_auc 0.7491427686829986\n",
      "est 470 Глубина: 5 результат 0.809 F1: 0.579295154185022 Roc_auc 0.749456248306823\n",
      "est 471 Глубина: 5 результат 0.809 F1: 0.579295154185022 Roc_auc 0.749456248306823\n",
      "est 472 Глубина: 5 результат 0.809 F1: 0.579295154185022 Roc_auc 0.749456248306823\n",
      "est 473 Глубина: 5 результат 0.809 F1: 0.579295154185022 Roc_auc 0.749456248306823\n",
      "est 474 Глубина: 5 результат 0.8085 F1: 0.5777287761852259 Roc_auc 0.7482216804055885\n",
      "est 475 Глубина: 5 результат 0.8085 F1: 0.5777287761852259 Roc_auc 0.7482216804055885\n",
      "est 476 Глубина: 5 результат 0.809 F1: 0.579295154185022 Roc_auc 0.749456248306823\n",
      "est 477 Глубина: 5 результат 0.809 F1: 0.579295154185022 Roc_auc 0.749456248306823\n",
      "est 478 Глубина: 5 результат 0.809 F1: 0.579295154185022 Roc_auc 0.749456248306823\n",
      "est 479 Глубина: 5 результат 0.8085 F1: 0.5777287761852259 Roc_auc 0.7482216804055885\n",
      "est 480 Глубина: 5 результат 0.809 F1: 0.579295154185022 Roc_auc 0.749456248306823\n",
      "est 481 Глубина: 5 результат 0.809 F1: 0.579295154185022 Roc_auc 0.749456248306823\n",
      "est 482 Глубина: 5 результат 0.8095 F1: 0.5799338478500551 Roc_auc 0.7497697279306474\n",
      "est 483 Глубина: 5 результат 0.809 F1: 0.5783664459161147 Roc_auc 0.7485351600294129\n",
      "est 484 Глубина: 5 результат 0.81 F1: 0.5805739514348786 Roc_auc 0.7500832075544719\n",
      "est 485 Глубина: 5 результат 0.81 F1: 0.5805739514348786 Roc_auc 0.7500832075544719\n",
      "est 486 Глубина: 5 результат 0.8085 F1: 0.5767955801104973 Roc_auc 0.7473005921281782\n",
      "est 487 Глубина: 5 результат 0.809 F1: 0.577433628318584 Roc_auc 0.7476140717520028\n",
      "est 488 Глубина: 5 результат 0.8085 F1: 0.5758582502768549 Roc_auc 0.7463795038507682\n",
      "est 489 Глубина: 5 результат 0.809 F1: 0.577433628318584 Roc_auc 0.7476140717520028\n",
      "est 490 Глубина: 5 результат 0.809 F1: 0.577433628318584 Roc_auc 0.7476140717520028\n",
      "est 491 Глубина: 5 результат 0.809 F1: 0.577433628318584 Roc_auc 0.7476140717520028\n",
      "est 492 Глубина: 5 результат 0.8085 F1: 0.5767955801104973 Roc_auc 0.7473005921281782\n",
      "est 493 Глубина: 5 результат 0.8085 F1: 0.5767955801104973 Roc_auc 0.7473005921281782\n",
      "est 494 Глубина: 5 результат 0.809 F1: 0.577433628318584 Roc_auc 0.7476140717520028\n",
      "est 495 Глубина: 5 результат 0.809 F1: 0.577433628318584 Roc_auc 0.7476140717520028\n",
      "est 496 Глубина: 5 результат 0.8095 F1: 0.5780730897009967 Roc_auc 0.7479275513758272\n",
      "est 497 Глубина: 5 результат 0.809 F1: 0.5783664459161147 Roc_auc 0.7485351600294129\n",
      "est 498 Глубина: 5 результат 0.8095 F1: 0.5780730897009967 Roc_auc 0.7479275513758272\n",
      "est 499 Глубина: 5 результат 0.8095 F1: 0.5780730897009967 Roc_auc 0.7479275513758272\n",
      " \n",
      "Лучший результат cлучайного леса F1-меры: 0.5833333333333334 n_estimators 180 Roc_auc: 0.7528464723867022\n"
     ]
    }
   ],
   "source": [
    "best_model = None\n",
    "best_result = 0\n",
    "best_est = 0\n",
    "\n",
    "\n",
    "for est in range(120,500):\n",
    "    model_forest = RandomForestClassifier(random_state = state,max_depth = depth, n_estimators = est, class_weight='balanced', n_jobs=-1)\n",
    "    model_forest.fit(features_train_up,target_train_up)\n",
    "    prediction_valid = model_forest.predict(features_valid)\n",
    "    res = model_forest.score(features_valid, target_valid)\n",
    "    F1 = f1_score(target_valid, prediction_valid)\n",
    "    Roc_auc = roc_auc_score(target_valid, prediction_valid)\n",
    "    print('est',est,'результат', res, \"F1:\", F1, 'Roc_auc', Roc_auc)  \n",
    "    if best_result < F1:\n",
    "        Roc_auc_f = Roc_auc\n",
    "        best_model = model_forest\n",
    "        best_result = F1\n",
    "        best_forest_res_blans = best_result\n",
    "        n_estimators = est\n",
    "\n",
    "print(' ')        \n",
    "print('Лучший результат cлучайного леса F1-меры:', best_forest_res_blans,'n_estimators', n_estimators,'Roc_auc:', Roc_auc_f)"
   ]
  },
  {
   "cell_type": "code",
   "execution_count": 134,
   "metadata": {},
   "outputs": [
    {
     "name": "stdout",
     "output_type": "stream",
     "text": [
      "est 205 Глубина: 5 результат 0.791 F1: 0.5743380855397148 Roc_auc 0.755671659119935\n",
      "est 206 Глубина: 5 результат 0.7925 F1: 0.5769622833843018 Roc_auc 0.7575331862688185\n",
      "est 207 Глубина: 5 результат 0.7935 F1: 0.5781409601634321 Roc_auc 0.7581601455164673\n",
      "est 208 Глубина: 5 результат 0.7935 F1: 0.5790010193679919 Roc_auc 0.7590812337938775\n",
      "est 209 Глубина: 5 результат 0.793 F1: 0.5775510204081633 Roc_auc 0.7578466658926428\n",
      "est 210 Глубина: 5 результат 0.7945 F1: 0.5801838610827375 Roc_auc 0.7597081930415264\n",
      "est 211 Глубина: 5 результат 0.7935 F1: 0.5781409601634321 Roc_auc 0.7581601455164673\n",
      "est 212 Глубина: 5 результат 0.794 F1: 0.5787321063394683 Roc_auc 0.7584736251402918\n",
      "est 213 Глубина: 5 результат 0.793 F1: 0.5775510204081633 Roc_auc 0.7578466658926428\n",
      "est 205 Глубина: 6 результат 0.806 F1: 0.5932914046121592 Roc_auc 0.7659971361120786\n",
      "est 206 Глубина: 6 результат 0.8055 F1: 0.5926701570680628 Roc_auc 0.7656836564882542\n",
      "est 207 Глубина: 6 результат 0.8065 F1: 0.5939139559286463 Roc_auc 0.7663106157359031\n",
      "est 208 Глубина: 6 результат 0.806 F1: 0.5932914046121592 Roc_auc 0.7659971361120786\n",
      "est 209 Глубина: 6 результат 0.806 F1: 0.5932914046121592 Roc_auc 0.7659971361120786\n",
      "est 210 Глубина: 6 результат 0.806 F1: 0.5932914046121592 Roc_auc 0.7659971361120786\n",
      "est 211 Глубина: 6 результат 0.8065 F1: 0.5939139559286463 Roc_auc 0.7663106157359031\n",
      "est 212 Глубина: 6 результат 0.8065 F1: 0.5939139559286463 Roc_auc 0.7663106157359031\n",
      "est 213 Глубина: 6 результат 0.807 F1: 0.5945378151260503 Roc_auc 0.7666240953597275\n",
      "est 205 Глубина: 7 результат 0.8195 F1: 0.6054644808743169 Roc_auc 0.768934556290878\n",
      "est 206 Глубина: 7 результат 0.82 F1: 0.6061269146608314 Roc_auc 0.7692480359147025\n",
      "est 207 Глубина: 7 результат 0.82 F1: 0.6061269146608314 Roc_auc 0.7692480359147025\n",
      "est 208 Глубина: 7 результат 0.8195 F1: 0.6054644808743169 Roc_auc 0.768934556290878\n",
      "est 209 Глубина: 7 результат 0.819 F1: 0.6048034934497817 Roc_auc 0.7686210766670536\n",
      "est 210 Глубина: 7 результат 0.8185 F1: 0.6032786885245901 Roc_auc 0.7673865087658192\n",
      "est 211 Глубина: 7 результат 0.819 F1: 0.6039387308533916 Roc_auc 0.7676999883896436\n",
      "est 212 Глубина: 7 результат 0.819 F1: 0.6039387308533916 Roc_auc 0.7676999883896436\n",
      "est 213 Глубина: 7 результат 0.8195 F1: 0.6054644808743169 Roc_auc 0.768934556290878\n",
      "est 205 Глубина: 8 результат 0.824 F1: 0.5981735159817352 Roc_auc 0.7579395487441465\n",
      "est 206 Глубина: 8 результат 0.8225 F1: 0.5952109464082099 Roc_auc 0.756078021595263\n",
      "est 207 Глубина: 8 результат 0.823 F1: 0.5968109339407744 Roc_auc 0.7573125894964976\n",
      "est 208 Глубина: 8 результат 0.824 F1: 0.6000000000000001 Roc_auc 0.7597817252989667\n",
      "est 209 Глубина: 8 результат 0.8235 F1: 0.5974914481185861 Roc_auc 0.757626069120322\n",
      "est 210 Глубина: 8 результат 0.822 F1: 0.5954545454545455 Roc_auc 0.7566856302488487\n",
      "est 211 Глубина: 8 результат 0.823 F1: 0.5968109339407744 Roc_auc 0.7573125894964976\n",
      "est 212 Глубина: 8 результат 0.8225 F1: 0.5952109464082099 Roc_auc 0.756078021595263\n",
      "est 213 Глубина: 8 результат 0.823 F1: 0.5968109339407744 Roc_auc 0.7573125894964976\n",
      "est 205 Глубина: 9 результат 0.832 F1: 0.6037735849056604 Roc_auc 0.7574286930608769\n",
      "est 206 Глубина: 9 результат 0.8325 F1: 0.6035502958579881 Roc_auc 0.7568210844072912\n",
      "est 207 Глубина: 9 результат 0.8325 F1: 0.6026097271648874 Roc_auc 0.7558999961298812\n",
      "est 208 Глубина: 9 результат 0.8315 F1: 0.6011834319526628 Roc_auc 0.7552730368822322\n",
      "est 209 Глубина: 9 результат 0.832 F1: 0.6028368794326241 Roc_auc 0.7565076047834669\n",
      "est 210 Глубина: 9 результат 0.8315 F1: 0.602125147579693 Roc_auc 0.7561941251596425\n",
      "est 211 Глубина: 9 результат 0.832 F1: 0.6018957345971564 Roc_auc 0.7555865165060567\n",
      "est 212 Глубина: 9 результат 0.833 F1: 0.6042654028436019 Roc_auc 0.7571345640311158\n",
      "est 213 Глубина: 9 результат 0.832 F1: 0.6018957345971564 Roc_auc 0.7555865165060567\n",
      "est 205 Глубина: 10 результат 0.8405 F1: 0.6047087980173483 Roc_auc 0.7517047873369713\n",
      "est 206 Глубина: 10 результат 0.8415 F1: 0.6071871127633209 Roc_auc 0.7532528348620302\n",
      "est 207 Глубина: 10 результат 0.8425 F1: 0.6086956521739131 Roc_auc 0.7538797941096792\n",
      "est 208 Глубина: 10 результат 0.8415 F1: 0.6071871127633209 Roc_auc 0.7532528348620302\n",
      "est 209 Глубина: 10 результат 0.842 F1: 0.6079404466501241 Roc_auc 0.7535663144858546\n",
      "est 210 Глубина: 10 результат 0.842 F1: 0.6079404466501241 Roc_auc 0.7535663144858546\n",
      "est 211 Глубина: 10 результат 0.8415 F1: 0.6071871127633209 Roc_auc 0.7532528348620302\n",
      "est 212 Глубина: 10 результат 0.842 F1: 0.6089108910891089 Roc_auc 0.7544874027632648\n",
      "est 213 Глубина: 10 результат 0.842 F1: 0.6089108910891089 Roc_auc 0.7544874027632648\n",
      "est 205 Глубина: 11 результат 0.8475 F1: 0.5981554677206851 Roc_auc 0.7404350013545415\n",
      "est 206 Глубина: 11 результат 0.848 F1: 0.6000000000000001 Roc_auc 0.7416695692557761\n",
      "est 207 Глубина: 11 результат 0.847 F1: 0.5973684210526315 Roc_auc 0.7401215217307171\n",
      "est 208 Глубина: 11 результат 0.848 F1: 0.6000000000000001 Roc_auc 0.7416695692557761\n",
      "est 209 Глубина: 11 результат 0.847 F1: 0.5984251968503937 Roc_auc 0.7410426100081272\n",
      "est 210 Глубина: 11 результат 0.8485 F1: 0.6007905138339921 Roc_auc 0.7419830488796005\n",
      "est 211 Глубина: 11 результат 0.8475 F1: 0.5981554677206851 Roc_auc 0.7404350013545415\n",
      "est 212 Глубина: 11 результат 0.8485 F1: 0.5997357992073977 Roc_auc 0.7410619606021904\n",
      "est 213 Глубина: 11 результат 0.8485 F1: 0.6028833551769331 Roc_auc 0.7438252254344208\n",
      "est 205 Глубина: 12 результат 0.85 F1: 0.5912806539509535 Roc_auc 0.7327915166995627\n",
      "est 206 Глубина: 12 результат 0.8495 F1: 0.5893587994542975 Roc_auc 0.731556948798328\n",
      "est 207 Глубина: 12 результат 0.851 F1: 0.5917808219178081 Roc_auc 0.7324973876698013\n",
      "est 208 Глубина: 12 результат 0.851 F1: 0.5917808219178081 Roc_auc 0.7324973876698013\n",
      "est 209 Глубина: 12 результат 0.8515 F1: 0.5937072503419972 Roc_auc 0.733731955571036\n",
      "est 210 Глубина: 12 результат 0.8515 F1: 0.5925925925925926 Roc_auc 0.7328108672936259\n",
      "est 211 Глубина: 12 результат 0.8505 F1: 0.5898491083676268 Roc_auc 0.731262819768567\n",
      "est 212 Глубина: 12 результат 0.8515 F1: 0.5925925925925926 Roc_auc 0.7328108672936259\n",
      "est 213 Глубина: 12 результат 0.851 F1: 0.592896174863388 Roc_auc 0.7334184759472117\n",
      "est 205 Глубина: 13 результат 0.854 F1: 0.5780346820809249 Roc_auc 0.7196408529741863\n",
      "est 206 Глубина: 13 результат 0.8545 F1: 0.5788712011577425 Roc_auc 0.7199543325980107\n",
      "est 207 Глубина: 13 результат 0.854 F1: 0.5780346820809249 Roc_auc 0.7196408529741863\n",
      "est 208 Глубина: 13 результат 0.855 F1: 0.5809248554913296 Roc_auc 0.7211889004992453\n",
      "est 209 Глубина: 13 результат 0.855 F1: 0.5821325648414986 Roc_auc 0.7221099887766554\n",
      "est 210 Глубина: 13 результат 0.8555 F1: 0.582972582972583 Roc_auc 0.7224234684004798\n",
      "est 211 Глубина: 13 результат 0.854 F1: 0.5780346820809249 Roc_auc 0.7196408529741863\n",
      "est 212 Глубина: 13 результат 0.8555 F1: 0.582972582972583 Roc_auc 0.7224234684004798\n",
      "est 213 Глубина: 13 результат 0.856 F1: 0.585014409221902 Roc_auc 0.7236580363017144\n",
      "est 205 Глубина: 14 результат 0.8555 F1: 0.5718518518518518 Roc_auc 0.7141336739037888\n",
      "est 206 Глубина: 14 результат 0.855 F1: 0.5710059171597633 Roc_auc 0.7138201942799645\n",
      "est 207 Глубина: 14 результат 0.8555 F1: 0.5718518518518518 Roc_auc 0.7141336739037888\n",
      "est 208 Глубина: 14 результат 0.856 F1: 0.5727002967359051 Roc_auc 0.7144471535276133\n",
      "est 209 Глубина: 14 результат 0.8565 F1: 0.573551263001486 Roc_auc 0.7147606331514377\n",
      "est 210 Глубина: 14 результат 0.855 F1: 0.5710059171597633 Roc_auc 0.7138201942799645\n",
      "est 211 Глубина: 14 результат 0.8545 F1: 0.568888888888889 Roc_auc 0.7125856263787298\n",
      "est 212 Глубина: 14 результат 0.8545 F1: 0.5676077265973254 Roc_auc 0.7116645381013197\n",
      "est 213 Глубина: 14 результат 0.854 F1: 0.5667655786350149 Roc_auc 0.7113510584774954\n",
      "est 205 Глубина: 15 результат 0.858 F1: 0.5670731707317073 Roc_auc 0.7092534540810402\n",
      "est 206 Глубина: 15 результат 0.858 F1: 0.5670731707317073 Roc_auc 0.7092534540810402\n",
      "est 207 Глубина: 15 результат 0.858 F1: 0.5670731707317073 Roc_auc 0.7092534540810402\n",
      "est 208 Глубина: 15 результат 0.8575 F1: 0.5662100456621004 Roc_auc 0.7089399744572159\n",
      "est 209 Глубина: 15 результат 0.8575 F1: 0.564885496183206 Roc_auc 0.7080188861798058\n",
      "est 210 Глубина: 15 результат 0.8575 F1: 0.5662100456621004 Roc_auc 0.7089399744572159\n",
      "est 211 Глубина: 15 результат 0.8575 F1: 0.5662100456621004 Roc_auc 0.7089399744572159\n",
      "est 212 Глубина: 15 результат 0.857 F1: 0.5653495440729484 Roc_auc 0.7086264948333915\n",
      "est 213 Глубина: 15 результат 0.8575 F1: 0.5662100456621004 Roc_auc 0.7089399744572159\n",
      "est 205 Глубина: 16 результат 0.8585 F1: 0.5612403100775194 Roc_auc 0.7049614923178141\n",
      "est 206 Глубина: 16 результат 0.8585 F1: 0.5612403100775194 Roc_auc 0.7049614923178141\n",
      "est 207 Глубина: 16 результат 0.859 F1: 0.562111801242236 Roc_auc 0.7052749719416386\n",
      "est 208 Глубина: 16 результат 0.859 F1: 0.5634674922600619 Roc_auc 0.7061960602190488\n",
      "est 209 Глубина: 16 результат 0.859 F1: 0.5634674922600619 Roc_auc 0.7061960602190488\n",
      "est 210 Глубина: 16 результат 0.859 F1: 0.5634674922600619 Roc_auc 0.7061960602190488\n",
      "est 211 Глубина: 16 результат 0.859 F1: 0.5634674922600619 Roc_auc 0.7061960602190488\n",
      "est 212 Глубина: 16 результат 0.859 F1: 0.5634674922600619 Roc_auc 0.7061960602190488\n",
      "est 213 Глубина: 16 результат 0.859 F1: 0.5634674922600619 Roc_auc 0.7061960602190488\n",
      "est 205 Глубина: 17 результат 0.858 F1: 0.5534591194968554 Roc_auc 0.7000425713069391\n",
      "est 206 Глубина: 17 результат 0.8585 F1: 0.5557299843014128 Roc_auc 0.7012771392081737\n",
      "est 207 Глубина: 17 результат 0.8585 F1: 0.5557299843014128 Roc_auc 0.7012771392081737\n",
      "est 208 Глубина: 17 результат 0.859 F1: 0.5566037735849056 Roc_auc 0.7015906188319982\n",
      "est 209 Глубина: 17 результат 0.8585 F1: 0.5557299843014128 Roc_auc 0.7012771392081737\n",
      "est 210 Глубина: 17 результат 0.859 F1: 0.5566037735849056 Roc_auc 0.7015906188319982\n",
      "est 211 Глубина: 17 результат 0.8585 F1: 0.5557299843014128 Roc_auc 0.7012771392081737\n",
      "est 212 Глубина: 17 результат 0.8585 F1: 0.5543307086614173 Roc_auc 0.7003560509307635\n",
      "est 213 Глубина: 17 результат 0.8575 F1: 0.5525902668759811 Roc_auc 0.6997290916831146\n",
      "est 205 Глубина: 18 результат 0.859 F1: 0.559375 Roc_auc 0.7034327953868184\n",
      "est 206 Глубина: 18 результат 0.859 F1: 0.559375 Roc_auc 0.7034327953868184\n",
      "est 207 Глубина: 18 результат 0.8595 F1: 0.5616224648985959 Roc_auc 0.7046673632880529\n",
      "est 208 Глубина: 18 результат 0.8595 F1: 0.5616224648985959 Roc_auc 0.7046673632880529\n",
      "est 209 Глубина: 18 результат 0.8595 F1: 0.5616224648985959 Roc_auc 0.7046673632880529\n",
      "est 210 Глубина: 18 результат 0.8595 F1: 0.5602503912363067 Roc_auc 0.7037462750106429\n",
      "est 211 Глубина: 18 результат 0.86 F1: 0.561128526645768 Roc_auc 0.7040597546344673\n",
      "est 212 Глубина: 18 результат 0.86 F1: 0.561128526645768 Roc_auc 0.7040597546344673\n",
      "est 213 Глубина: 18 результат 0.8605 F1: 0.5633802816901408 Roc_auc 0.7052943225357019\n",
      "est 205 Глубина: 19 результат 0.858 F1: 0.5520504731861198 Roc_auc 0.699121483029529\n",
      "est 206 Глубина: 19 результат 0.8575 F1: 0.5511811023622047 Roc_auc 0.6988080034057045\n",
      "est 207 Глубина: 19 результат 0.8585 F1: 0.5557299843014128 Roc_auc 0.7012771392081737\n",
      "est 208 Глубина: 19 результат 0.8575 F1: 0.5511811023622047 Roc_auc 0.6988080034057045\n",
      "est 209 Глубина: 19 результат 0.8575 F1: 0.5525902668759811 Roc_auc 0.6997290916831146\n",
      "est 210 Глубина: 19 результат 0.8585 F1: 0.5543307086614173 Roc_auc 0.7003560509307635\n",
      "est 211 Глубина: 19 результат 0.8585 F1: 0.5543307086614173 Roc_auc 0.7003560509307635\n",
      "est 212 Глубина: 19 результат 0.8585 F1: 0.5543307086614173 Roc_auc 0.7003560509307635\n",
      "est 213 Глубина: 19 результат 0.8585 F1: 0.5543307086614173 Roc_auc 0.7003560509307635\n",
      "est 205 Глубина: 20 результат 0.858 F1: 0.5534591194968554 Roc_auc 0.7000425713069391\n",
      "est 206 Глубина: 20 результат 0.858 F1: 0.5534591194968554 Roc_auc 0.7000425713069391\n",
      "est 207 Глубина: 20 результат 0.858 F1: 0.5534591194968554 Roc_auc 0.7000425713069391\n",
      "est 208 Глубина: 20 результат 0.858 F1: 0.5534591194968554 Roc_auc 0.7000425713069391\n",
      "est 209 Глубина: 20 результат 0.858 F1: 0.5534591194968554 Roc_auc 0.7000425713069391\n",
      "est 210 Глубина: 20 результат 0.8585 F1: 0.5543307086614173 Roc_auc 0.7003560509307635\n",
      "est 211 Глубина: 20 результат 0.8585 F1: 0.5543307086614173 Roc_auc 0.7003560509307635\n",
      "est 212 Глубина: 20 результат 0.8585 F1: 0.5543307086614173 Roc_auc 0.7003560509307635\n",
      "est 213 Глубина: 20 результат 0.8585 F1: 0.5543307086614173 Roc_auc 0.7003560509307635\n",
      "est 205 Глубина: 21 результат 0.8625 F1: 0.5655608214849921 Roc_auc 0.7056271527535896\n",
      "est 206 Глубина: 21 результат 0.862 F1: 0.5632911392405063 Roc_auc 0.704392584852355\n",
      "est 207 Глубина: 21 результат 0.862 F1: 0.5632911392405063 Roc_auc 0.704392584852355\n",
      "est 208 Глубина: 21 результат 0.862 F1: 0.5632911392405063 Roc_auc 0.704392584852355\n",
      "est 209 Глубина: 21 результат 0.862 F1: 0.5632911392405063 Roc_auc 0.704392584852355\n",
      "est 210 Глубина: 21 результат 0.8615 F1: 0.5610142630744849 Roc_auc 0.7031580169511205\n",
      "est 211 Глубина: 21 результат 0.862 F1: 0.5632911392405063 Roc_auc 0.704392584852355\n",
      "est 212 Глубина: 21 результат 0.862 F1: 0.5632911392405063 Roc_auc 0.704392584852355\n",
      "est 213 Глубина: 21 результат 0.8625 F1: 0.5655608214849921 Roc_auc 0.7056271527535896\n",
      "est 205 Глубина: 22 результат 0.86 F1: 0.5583596214511042 Roc_auc 0.702217578079647\n",
      "est 206 Глубина: 22 результат 0.8595 F1: 0.5560821484992101 Roc_auc 0.7009830101784125\n",
      "est 207 Глубина: 22 результат 0.8595 F1: 0.5560821484992101 Roc_auc 0.7009830101784125\n",
      "est 208 Глубина: 22 результат 0.8595 F1: 0.5560821484992101 Roc_auc 0.7009830101784125\n",
      "est 209 Глубина: 22 результат 0.86 F1: 0.5583596214511042 Roc_auc 0.702217578079647\n",
      "est 210 Глубина: 22 результат 0.859 F1: 0.5537974683544303 Roc_auc 0.6997484422771778\n",
      "est 211 Глубина: 22 результат 0.8605 F1: 0.5606299212598425 Roc_auc 0.7034521459808817\n",
      "est 212 Глубина: 22 результат 0.86 F1: 0.5569620253164557 Roc_auc 0.7012964898022368\n",
      "est 213 Глубина: 22 результат 0.8605 F1: 0.5592417061611374 Roc_auc 0.7025310577034716\n",
      "est 205 Глубина: 23 результат 0.859 F1: 0.5566037735849056 Roc_auc 0.7015906188319982\n",
      "est 206 Глубина: 23 результат 0.8585 F1: 0.5543307086614173 Roc_auc 0.7003560509307635\n",
      "est 207 Глубина: 23 результат 0.859 F1: 0.5566037735849056 Roc_auc 0.7015906188319982\n",
      "est 208 Глубина: 23 результат 0.8595 F1: 0.55748031496063 Roc_auc 0.7019040984558226\n",
      "est 209 Глубина: 23 результат 0.8595 F1: 0.55748031496063 Roc_auc 0.7019040984558226\n",
      "est 210 Глубина: 23 результат 0.8595 F1: 0.55748031496063 Roc_auc 0.7019040984558226\n",
      "est 211 Глубина: 23 результат 0.8605 F1: 0.5620094191522763 Roc_auc 0.7043732342582917\n",
      "est 212 Глубина: 23 результат 0.8605 F1: 0.5620094191522763 Roc_auc 0.7043732342582917\n",
      "est 213 Глубина: 23 результат 0.8605 F1: 0.5620094191522763 Roc_auc 0.7043732342582917\n",
      "est 205 Глубина: 24 результат 0.859 F1: 0.5537974683544303 Roc_auc 0.6997484422771778\n",
      "est 206 Глубина: 24 результат 0.8585 F1: 0.5515055467511886 Roc_auc 0.6985138743759434\n",
      "est 207 Глубина: 24 результат 0.859 F1: 0.5537974683544303 Roc_auc 0.6997484422771778\n",
      "est 208 Глубина: 24 результат 0.859 F1: 0.5537974683544303 Roc_auc 0.6997484422771778\n",
      "est 209 Глубина: 24 результат 0.859 F1: 0.5537974683544303 Roc_auc 0.6997484422771778\n",
      "est 210 Глубина: 24 результат 0.859 F1: 0.5537974683544303 Roc_auc 0.6997484422771778\n",
      "est 211 Глубина: 24 результат 0.8595 F1: 0.5560821484992101 Roc_auc 0.7009830101784125\n",
      "est 212 Глубина: 24 результат 0.859 F1: 0.5537974683544303 Roc_auc 0.6997484422771778\n",
      "est 213 Глубина: 24 результат 0.86 F1: 0.5583596214511042 Roc_auc 0.702217578079647\n",
      "est 205 Глубина: 25 результат 0.858 F1: 0.5520504731861198 Roc_auc 0.699121483029529\n",
      "est 206 Глубина: 25 результат 0.8585 F1: 0.5529225908372828 Roc_auc 0.6994349626533535\n",
      "est 207 Глубина: 25 результат 0.859 F1: 0.5566037735849056 Roc_auc 0.7015906188319982\n",
      "est 208 Глубина: 25 результат 0.861 F1: 0.560126582278481 Roc_auc 0.702844537327296\n",
      "est 209 Глубина: 25 результат 0.86 F1: 0.5583596214511042 Roc_auc 0.702217578079647\n",
      "est 210 Глубина: 25 результат 0.8605 F1: 0.5578446909667195 Roc_auc 0.7016099694260614\n",
      "est 211 Глубина: 25 результат 0.8605 F1: 0.5578446909667195 Roc_auc 0.7016099694260614\n",
      "est 212 Глубина: 25 результат 0.8605 F1: 0.5578446909667195 Roc_auc 0.7016099694260614\n",
      "est 213 Глубина: 25 результат 0.861 F1: 0.560126582278481 Roc_auc 0.702844537327296\n",
      "est 205 Глубина: 26 результат 0.8585 F1: 0.5529225908372828 Roc_auc 0.6994349626533535\n",
      "est 206 Глубина: 26 результат 0.8585 F1: 0.5529225908372828 Roc_auc 0.6994349626533535\n",
      "est 207 Глубина: 26 результат 0.859 F1: 0.5552050473186121 Roc_auc 0.7006695305545879\n",
      "est 208 Глубина: 26 результат 0.8595 F1: 0.5560821484992101 Roc_auc 0.7009830101784125\n",
      "est 209 Глубина: 26 результат 0.8595 F1: 0.5560821484992101 Roc_auc 0.7009830101784125\n",
      "est 210 Глубина: 26 результат 0.8595 F1: 0.554675118858954 Roc_auc 0.7000619219010022\n",
      "est 211 Глубина: 26 результат 0.8605 F1: 0.5592417061611374 Roc_auc 0.7025310577034716\n",
      "est 212 Глубина: 26 результат 0.8605 F1: 0.5578446909667195 Roc_auc 0.7016099694260614\n",
      "est 213 Глубина: 26 результат 0.861 F1: 0.560126582278481 Roc_auc 0.702844537327296\n",
      "est 205 Глубина: 27 результат 0.8595 F1: 0.5560821484992101 Roc_auc 0.7009830101784125\n",
      "est 206 Глубина: 27 результат 0.8595 F1: 0.5560821484992101 Roc_auc 0.7009830101784125\n",
      "est 207 Глубина: 27 результат 0.8595 F1: 0.5560821484992101 Roc_auc 0.7009830101784125\n",
      "est 208 Глубина: 27 результат 0.8595 F1: 0.5560821484992101 Roc_auc 0.7009830101784125\n",
      "est 209 Глубина: 27 результат 0.8595 F1: 0.5560821484992101 Roc_auc 0.7009830101784125\n",
      "est 210 Глубина: 27 результат 0.86 F1: 0.5569620253164557 Roc_auc 0.7012964898022368\n",
      "est 211 Глубина: 27 результат 0.861 F1: 0.5615141955835962 Roc_auc 0.703765625604706\n",
      "est 212 Глубина: 27 результат 0.861 F1: 0.560126582278481 Roc_auc 0.702844537327296\n",
      "est 213 Глубина: 27 результат 0.861 F1: 0.560126582278481 Roc_auc 0.702844537327296\n",
      "est 205 Глубина: 28 результат 0.8595 F1: 0.5560821484992101 Roc_auc 0.7009830101784125\n",
      "est 206 Глубина: 28 результат 0.8595 F1: 0.5560821484992101 Roc_auc 0.7009830101784125\n",
      "est 207 Глубина: 28 результат 0.86 F1: 0.5583596214511042 Roc_auc 0.702217578079647\n",
      "est 208 Глубина: 28 результат 0.86 F1: 0.5583596214511042 Roc_auc 0.702217578079647\n",
      "est 209 Глубина: 28 результат 0.86 F1: 0.5583596214511042 Roc_auc 0.702217578079647\n",
      "est 210 Глубина: 28 результат 0.86 F1: 0.5583596214511042 Roc_auc 0.702217578079647\n",
      "est 211 Глубина: 28 результат 0.8605 F1: 0.5606299212598425 Roc_auc 0.7034521459808817\n",
      "est 212 Глубина: 28 результат 0.861 F1: 0.5615141955835962 Roc_auc 0.703765625604706\n",
      "est 213 Глубина: 28 результат 0.861 F1: 0.5615141955835962 Roc_auc 0.703765625604706\n",
      "est 205 Глубина: 29 результат 0.8595 F1: 0.5560821484992101 Roc_auc 0.7009830101784125\n",
      "est 206 Глубина: 29 результат 0.8595 F1: 0.5560821484992101 Roc_auc 0.7009830101784125\n",
      "est 207 Глубина: 29 результат 0.86 F1: 0.5583596214511042 Roc_auc 0.702217578079647\n",
      "est 208 Глубина: 29 результат 0.86 F1: 0.5583596214511042 Roc_auc 0.702217578079647\n",
      "est 209 Глубина: 29 результат 0.86 F1: 0.5583596214511042 Roc_auc 0.702217578079647\n",
      "est 210 Глубина: 29 результат 0.86 F1: 0.5583596214511042 Roc_auc 0.702217578079647\n",
      "est 211 Глубина: 29 результат 0.8605 F1: 0.5606299212598425 Roc_auc 0.7034521459808817\n",
      "est 212 Глубина: 29 результат 0.861 F1: 0.5615141955835962 Roc_auc 0.703765625604706\n",
      "est 213 Глубина: 29 результат 0.861 F1: 0.5615141955835962 Roc_auc 0.703765625604706\n",
      " \n",
      "Лучший результат cлучайного леса F1-меры: 0.6089108910891089 Глубина: 10 n_estimators 212 Roc_auc: 0.7544874027632648\n"
     ]
    }
   ],
   "source": [
    "for depth in range(5,30):\n",
    "    for est in range(205,214):\n",
    "        model_forest = RandomForestClassifier(random_state = state, n_estimators = est, max_depth=depth, n_jobs=-1,class_weight='balanced')\n",
    "        model_forest.fit(features_train,target_train)\n",
    "        prediction_valid = model_forest.predict(features_valid)\n",
    "        res = model_forest.score(features_valid, target_valid)\n",
    "        F1 = f1_score(target_valid, prediction_valid)\n",
    "        Roc_auc = roc_auc_score(target_valid, prediction_valid)\n",
    "        print('est',est, 'Глубина:', depth, 'результат', res, \"F1:\", F1, 'Roc_auc', Roc_auc)  \n",
    "        if best_result < F1:\n",
    "            Roc_auc_f = Roc_auc\n",
    "            best_model = model_forest\n",
    "            best_result = F1\n",
    "            best_depth = depth\n",
    "            best_forest_res_down = best_result\n",
    "            n_estimators = est\n",
    "\n",
    "print(' ')        \n",
    "print('Лучший результат cлучайного леса F1-меры:', best_forest_res_down,'Глубина:', best_depth,'n_estimators', n_estimators,'Roc_auc:', Roc_auc_f)"
   ]
  },
  {
   "cell_type": "code",
   "execution_count": 139,
   "metadata": {},
   "outputs": [
    {
     "name": "stdout",
     "output_type": "stream",
     "text": [
      "est 347 Глубина: 5 результат 0.7945 F1: 0.5775950668037 Roc_auc 0.756944928209296\n",
      "est 348 Глубина: 5 результат 0.795 F1: 0.577319587628866 Roc_auc 0.7563373195557104\n",
      "est 349 Глубина: 5 результат 0.795 F1: 0.5781893004115226 Roc_auc 0.7572584078331205\n",
      "est 350 Глубина: 5 результат 0.7955 F1: 0.5787847579814623 Roc_auc 0.757571887456945\n",
      "est 351 Глубина: 5 результат 0.7945 F1: 0.576725025746653 Roc_auc 0.7560238399318858\n",
      "est 352 Глубина: 5 результат 0.7945 F1: 0.576725025746653 Roc_auc 0.7560238399318858\n",
      "est 353 Глубина: 5 результат 0.795 F1: 0.577319587628866 Roc_auc 0.7563373195557104\n",
      "est 354 Глубина: 5 результат 0.7945 F1: 0.576725025746653 Roc_auc 0.7560238399318858\n",
      "est 347 Глубина: 6 результат 0.8045 F1: 0.5879873551106427 Roc_auc 0.7613723441309648\n",
      "est 348 Глубина: 6 результат 0.805 F1: 0.5886075949367089 Roc_auc 0.7616858237547892\n",
      "est 349 Глубина: 6 результат 0.805 F1: 0.5886075949367089 Roc_auc 0.7616858237547892\n",
      "est 350 Глубина: 6 результат 0.806 F1: 0.5907172995780591 Roc_auc 0.7632338712798482\n",
      "est 351 Глубина: 6 результат 0.806 F1: 0.5907172995780591 Roc_auc 0.7632338712798482\n",
      "est 352 Глубина: 6 результат 0.8055 F1: 0.5892291446673706 Roc_auc 0.7619993033786137\n",
      "est 353 Глубина: 6 результат 0.8055 F1: 0.5892291446673706 Roc_auc 0.7619993033786137\n",
      "est 354 Глубина: 6 результат 0.806 F1: 0.5907172995780591 Roc_auc 0.7632338712798482\n",
      "est 347 Глубина: 7 результат 0.8205 F1: 0.6059275521405049 Roc_auc 0.768640427261117\n",
      "est 348 Глубина: 7 результат 0.8205 F1: 0.6059275521405049 Roc_auc 0.768640427261117\n",
      "est 349 Глубина: 7 результат 0.821 F1: 0.6065934065934065 Roc_auc 0.7689539068849414\n",
      "est 350 Глубина: 7 результат 0.82 F1: 0.6043956043956045 Roc_auc 0.7674058593598824\n",
      "est 351 Глубина: 7 результат 0.82 F1: 0.6043956043956045 Roc_auc 0.7674058593598824\n",
      "est 352 Глубина: 7 результат 0.82 F1: 0.6043956043956045 Roc_auc 0.7674058593598824\n",
      "est 353 Глубина: 7 результат 0.82 F1: 0.6035242290748899 Roc_auc 0.7664847710824723\n",
      "est 354 Глубина: 7 результат 0.82 F1: 0.6035242290748899 Roc_auc 0.7664847710824723\n",
      "est 347 Глубина: 8 результат 0.825 F1: 0.5995423340961098 Roc_auc 0.7585665079917954\n",
      "est 348 Глубина: 8 результат 0.825 F1: 0.5995423340961098 Roc_auc 0.7585665079917954\n",
      "est 349 Глубина: 8 результат 0.8245 F1: 0.598857142857143 Roc_auc 0.7582530283679709\n",
      "est 350 Глубина: 8 результат 0.824 F1: 0.5963302752293578 Roc_auc 0.7560973721893263\n",
      "est 351 Глубина: 8 результат 0.824 F1: 0.597254004576659 Roc_auc 0.7570184604667363\n",
      "est 352 Глубина: 8 результат 0.8245 F1: 0.598857142857143 Roc_auc 0.7582530283679709\n",
      "est 353 Глубина: 8 результат 0.8245 F1: 0.598857142857143 Roc_auc 0.7582530283679709\n",
      "est 354 Глубина: 8 результат 0.825 F1: 0.5995423340961098 Roc_auc 0.7585665079917954\n",
      "est 347 Глубина: 9 результат 0.8345 F1: 0.6054827175208581 Roc_auc 0.7571539146251789\n",
      "est 348 Глубина: 9 результат 0.8345 F1: 0.6054827175208581 Roc_auc 0.7571539146251789\n",
      "est 349 Глубина: 9 результат 0.834 F1: 0.6047619047619048 Roc_auc 0.7568404350013545\n",
      "est 350 Глубина: 9 результат 0.8345 F1: 0.6054827175208581 Roc_auc 0.7571539146251789\n",
      "est 351 Глубина: 9 результат 0.834 F1: 0.6047619047619048 Roc_auc 0.7568404350013545\n",
      "est 352 Глубина: 9 результат 0.834 F1: 0.6047619047619048 Roc_auc 0.7568404350013545\n",
      "est 353 Глубина: 9 результат 0.8345 F1: 0.6064209274673008 Roc_auc 0.7580750029025892\n",
      "est 354 Глубина: 9 результат 0.834 F1: 0.6047619047619048 Roc_auc 0.7568404350013545\n",
      " \n",
      "Лучший результат cлучайного леса F1-меры: 0.6065934065934065 Глубина: 7 n_estimators 349 Roc_auc: 0.7689539068849414\n"
     ]
    }
   ],
   "source": [
    "best_result = 0\n",
    "for depth in range(5,10):\n",
    "    for est in range(347, 355):\n",
    "        model_forest = RandomForestClassifier(random_state = state, n_estimators = est, max_depth=depth, n_jobs=-1,class_weight='balanced')\n",
    "        model_forest.fit(features_train,target_train)\n",
    "        prediction_valid = model_forest.predict(features_valid)\n",
    "        res = model_forest.score(features_valid, target_valid)\n",
    "        F1 = f1_score(target_valid, prediction_valid)\n",
    "        Roc_auc = roc_auc_score(target_valid, prediction_valid)\n",
    "        print('est',est, 'Глубина:', depth, 'результат', res, \"F1:\", F1, 'Roc_auc', Roc_auc)  \n",
    "        if best_result < F1:\n",
    "            Roc_auc_f = Roc_auc\n",
    "            best_model = model_forest\n",
    "            best_result = F1\n",
    "            best_depth = depth\n",
    "            best_forest_res_down = best_result\n",
    "            n_estimators = est\n",
    "\n",
    "print(' ')        \n",
    "print('Лучший результат cлучайного леса F1-меры:', best_forest_res_down,'Глубина:', best_depth,'n_estimators', n_estimators,'Roc_auc:', Roc_auc_f)"
   ]
  },
  {
   "cell_type": "code",
   "execution_count": 135,
   "metadata": {},
   "outputs": [
    {
     "name": "stdout",
     "output_type": "stream",
     "text": [
      "est 175 Глубина: 5 результат 0.808 F1: 0.5780219780219781 Roc_auc 0.7488292890591741\n",
      "est 176 Глубина: 5 результат 0.809 F1: 0.5802197802197803 Roc_auc 0.7503773365842332\n",
      "est 177 Глубина: 5 результат 0.809 F1: 0.5802197802197803 Roc_auc 0.7503773365842332\n",
      "est 178 Глубина: 5 результат 0.8095 F1: 0.580858085808581 Roc_auc 0.7506908162080577\n",
      "est 179 Глубина: 5 результат 0.8095 F1: 0.5826944140197152 Roc_auc 0.7525329927628778\n",
      "est 180 Глубина: 5 результат 0.81 F1: 0.5833333333333334 Roc_auc 0.7528464723867022\n",
      "est 181 Глубина: 5 результат 0.81 F1: 0.5833333333333334 Roc_auc 0.7528464723867022\n",
      "est 182 Глубина: 5 результат 0.8095 F1: 0.5817782656421514 Roc_auc 0.7516119044854677\n",
      "est 183 Глубина: 5 результат 0.81 F1: 0.5833333333333334 Roc_auc 0.7528464723867022\n",
      "est 184 Глубина: 5 результат 0.809 F1: 0.5802197802197803 Roc_auc 0.7503773365842332\n",
      "est 185 Глубина: 5 результат 0.8085 F1: 0.5786578657865786 Roc_auc 0.7491427686829986\n",
      "est 186 Глубина: 5 результат 0.808 F1: 0.5770925110132159 Roc_auc 0.747908200781764\n",
      "est 187 Глубина: 5 результат 0.808 F1: 0.5770925110132159 Roc_auc 0.747908200781764\n",
      "est 188 Глубина: 5 результат 0.808 F1: 0.5770925110132159 Roc_auc 0.747908200781764\n",
      "est 189 Глубина: 5 результат 0.809 F1: 0.579295154185022 Roc_auc 0.749456248306823\n",
      "est 175 Глубина: 6 результат 0.819 F1: 0.5848623853211009 Roc_auc 0.7483571345640312\n",
      "est 176 Глубина: 6 результат 0.819 F1: 0.585812356979405 Roc_auc 0.7492782228414412\n",
      "est 177 Глубина: 6 результат 0.8195 F1: 0.586483390607102 Roc_auc 0.7495917024652656\n",
      "est 178 Глубина: 6 результат 0.8185 F1: 0.5851428571428572 Roc_auc 0.7489647432176167\n",
      "est 179 Глубина: 6 результат 0.818 F1: 0.5835240274599544 Roc_auc 0.7477301753163823\n",
      "est 180 Глубина: 6 результат 0.8185 F1: 0.5851428571428572 Roc_auc 0.7489647432176167\n",
      "est 181 Глубина: 6 результат 0.8195 F1: 0.586483390607102 Roc_auc 0.7495917024652656\n",
      "est 182 Глубина: 6 результат 0.8185 F1: 0.5851428571428572 Roc_auc 0.7489647432176167\n",
      "est 183 Глубина: 6 результат 0.818 F1: 0.5835240274599544 Roc_auc 0.7477301753163823\n",
      "est 184 Глубина: 6 результат 0.818 F1: 0.5835240274599544 Roc_auc 0.7477301753163823\n",
      "est 185 Глубина: 6 результат 0.818 F1: 0.5844748858447488 Roc_auc 0.7486512635937922\n",
      "est 186 Глубина: 6 результат 0.8175 F1: 0.5828571428571429 Roc_auc 0.7474166956925579\n",
      "est 187 Глубина: 6 результат 0.818 F1: 0.5835240274599544 Roc_auc 0.7477301753163823\n",
      "est 188 Глубина: 6 результат 0.8195 F1: 0.586483390607102 Roc_auc 0.7495917024652656\n",
      "est 189 Глубина: 6 результат 0.818 F1: 0.5835240274599544 Roc_auc 0.7477301753163823\n",
      "est 175 Глубина: 7 результат 0.8285 F1: 0.6025492468134415 Roc_auc 0.7589186888037462\n",
      "est 176 Глубина: 7 результат 0.8285 F1: 0.6034682080924856 Roc_auc 0.7598397770811564\n",
      "est 177 Глубина: 7 результат 0.8285 F1: 0.6034682080924856 Roc_auc 0.7598397770811564\n",
      "est 178 Глубина: 7 результат 0.829 F1: 0.6041666666666666 Roc_auc 0.7601532567049808\n",
      "est 179 Глубина: 7 результат 0.8285 F1: 0.6025492468134415 Roc_auc 0.7589186888037462\n",
      "est 180 Глубина: 7 результат 0.8295 F1: 0.6057803468208092 Roc_auc 0.7613878246062155\n",
      "est 181 Глубина: 7 результат 0.8285 F1: 0.6025492468134415 Roc_auc 0.7589186888037462\n",
      "est 182 Глубина: 7 результат 0.8285 F1: 0.6006984866123399 Roc_auc 0.757076512248926\n",
      "est 183 Глубина: 7 результат 0.828 F1: 0.599067599067599 Roc_auc 0.7558419443476916\n",
      "est 184 Глубина: 7 результат 0.8285 F1: 0.6006984866123399 Roc_auc 0.757076512248926\n",
      "est 185 Глубина: 7 результат 0.829 F1: 0.6023255813953488 Roc_auc 0.7583110801501607\n",
      "est 186 Глубина: 7 результат 0.829 F1: 0.6023255813953488 Roc_auc 0.7583110801501607\n",
      "est 187 Глубина: 7 результат 0.829 F1: 0.6023255813953488 Roc_auc 0.7583110801501607\n",
      "est 188 Глубина: 7 результат 0.8295 F1: 0.6030267753201397 Roc_auc 0.7586245597739851\n",
      "est 189 Глубина: 7 результат 0.829 F1: 0.6013986013986015 Roc_auc 0.7573899918727505\n",
      "est 175 Глубина: 8 результат 0.828 F1: 0.5971896955503513 Roc_auc 0.7539997677928714\n",
      "est 176 Глубина: 8 результат 0.828 F1: 0.5981308411214953 Roc_auc 0.7549208560702813\n",
      "est 177 Глубина: 8 результат 0.827 F1: 0.5957943925233644 Roc_auc 0.7533728085452225\n",
      "est 178 Глубина: 8 результат 0.8285 F1: 0.5988304093567252 Roc_auc 0.7552343356941057\n",
      "est 179 Глубина: 8 результат 0.829 F1: 0.5995316159250585 Roc_auc 0.7555478153179301\n",
      "est 180 Глубина: 8 результат 0.8295 F1: 0.6002344665885111 Roc_auc 0.7558612949417546\n",
      "est 181 Глубина: 8 результат 0.8285 F1: 0.5988304093567252 Roc_auc 0.7552343356941057\n",
      "est 182 Глубина: 8 результат 0.828 F1: 0.5981308411214953 Roc_auc 0.7549208560702813\n",
      "est 183 Глубина: 8 результат 0.828 F1: 0.5981308411214953 Roc_auc 0.7549208560702813\n",
      "est 184 Глубина: 8 результат 0.828 F1: 0.5981308411214953 Roc_auc 0.7549208560702813\n",
      "est 185 Глубина: 8 результат 0.8285 F1: 0.5997666277712952 Roc_auc 0.756155423971516\n",
      "est 186 Глубина: 8 результат 0.8275 F1: 0.5964912280701755 Roc_auc 0.7536862881690469\n",
      "est 187 Глубина: 8 результат 0.828 F1: 0.5971896955503513 Roc_auc 0.7539997677928714\n",
      "est 188 Глубина: 8 результат 0.828 F1: 0.5971896955503513 Roc_auc 0.7539997677928714\n",
      "est 189 Глубина: 8 результат 0.8275 F1: 0.5964912280701755 Roc_auc 0.7536862881690469\n",
      "est 175 Глубина: 9 результат 0.835 F1: 0.6080760095011877 Roc_auc 0.7593095708038237\n",
      "est 176 Глубина: 9 результат 0.8345 F1: 0.6064209274673008 Roc_auc 0.7580750029025892\n",
      "est 177 Глубина: 9 результат 0.8345 F1: 0.6064209274673008 Roc_auc 0.7580750029025892\n",
      "est 178 Глубина: 9 результат 0.834 F1: 0.6057007125890737 Roc_auc 0.7577615232787648\n",
      "est 179 Глубина: 9 результат 0.834 F1: 0.6057007125890737 Roc_auc 0.7577615232787648\n",
      "est 180 Глубина: 9 результат 0.8345 F1: 0.6064209274673008 Roc_auc 0.7580750029025892\n",
      "est 181 Глубина: 9 результат 0.8345 F1: 0.6064209274673008 Roc_auc 0.7580750029025892\n",
      "est 182 Глубина: 9 результат 0.8345 F1: 0.6064209274673008 Roc_auc 0.7580750029025892\n",
      "est 183 Глубина: 9 результат 0.8345 F1: 0.6064209274673008 Roc_auc 0.7580750029025892\n",
      "est 184 Глубина: 9 результат 0.8345 F1: 0.6064209274673008 Roc_auc 0.7580750029025892\n",
      "est 185 Глубина: 9 результат 0.8345 F1: 0.6064209274673008 Roc_auc 0.7580750029025892\n",
      "est 186 Глубина: 9 результат 0.834 F1: 0.6047619047619048 Roc_auc 0.7568404350013545\n",
      "est 187 Глубина: 9 результат 0.834 F1: 0.6047619047619048 Roc_auc 0.7568404350013545\n",
      "est 188 Глубина: 9 результат 0.8345 F1: 0.6064209274673008 Roc_auc 0.7580750029025892\n",
      "est 189 Глубина: 9 результат 0.8345 F1: 0.6073546856465006 Roc_auc 0.7589960911799992\n",
      "est 175 Глубина: 10 результат 0.8345 F1: 0.594859241126071 Roc_auc 0.7470219435736678\n",
      "est 176 Глубина: 10 результат 0.8335 F1: 0.5934065934065934 Roc_auc 0.7463949843260189\n",
      "est 177 Глубина: 10 результат 0.833 F1: 0.5926829268292683 Roc_auc 0.7460815047021944\n",
      "est 178 Глубина: 10 результат 0.8335 F1: 0.5934065934065934 Roc_auc 0.7463949843260189\n",
      "est 179 Глубина: 10 результат 0.834 F1: 0.5941320293398533 Roc_auc 0.7467084639498434\n",
      "est 180 Глубина: 10 результат 0.834 F1: 0.5941320293398533 Roc_auc 0.7467084639498434\n",
      "est 181 Глубина: 10 результат 0.8335 F1: 0.5934065934065934 Roc_auc 0.7463949843260189\n",
      "est 182 Глубина: 10 результат 0.8335 F1: 0.5934065934065934 Roc_auc 0.7463949843260189\n",
      "est 183 Глубина: 10 результат 0.8335 F1: 0.5934065934065934 Roc_auc 0.7463949843260189\n",
      "est 184 Глубина: 10 результат 0.8335 F1: 0.5934065934065934 Roc_auc 0.7463949843260189\n",
      "est 185 Глубина: 10 результат 0.8335 F1: 0.5934065934065934 Roc_auc 0.7463949843260189\n",
      "est 186 Глубина: 10 результат 0.834 F1: 0.5951219512195123 Roc_auc 0.7476295522272535\n",
      "est 187 Глубина: 10 результат 0.8335 F1: 0.5934065934065934 Roc_auc 0.7463949843260189\n",
      "est 188 Глубина: 10 результат 0.8335 F1: 0.5934065934065934 Roc_auc 0.7463949843260189\n",
      "est 189 Глубина: 10 результат 0.8335 F1: 0.5934065934065934 Roc_auc 0.7463949843260189\n",
      "est 175 Глубина: 11 результат 0.8365 F1: 0.5967940813810111 Roc_auc 0.7473547737915553\n",
      "est 176 Глубина: 11 результат 0.8365 F1: 0.5967940813810111 Roc_auc 0.7473547737915553\n",
      "est 177 Глубина: 11 результат 0.8365 F1: 0.5967940813810111 Roc_auc 0.7473547737915553\n",
      "est 178 Глубина: 11 результат 0.8365 F1: 0.5967940813810111 Roc_auc 0.7473547737915553\n",
      "est 179 Глубина: 11 результат 0.8365 F1: 0.5967940813810111 Roc_auc 0.7473547737915553\n",
      "est 180 Глубина: 11 результат 0.8365 F1: 0.5967940813810111 Roc_auc 0.7473547737915553\n",
      "est 181 Глубина: 11 результат 0.8365 F1: 0.5977859778597786 Roc_auc 0.7482758620689656\n",
      "est 182 Глубина: 11 результат 0.836 F1: 0.597051597051597 Roc_auc 0.7479623824451411\n",
      "est 183 Глубина: 11 результат 0.836 F1: 0.597051597051597 Roc_auc 0.7479623824451411\n",
      "est 184 Глубина: 11 результат 0.836 F1: 0.597051597051597 Roc_auc 0.7479623824451411\n",
      "est 185 Глубина: 11 результат 0.837 F1: 0.5985221674876847 Roc_auc 0.74858934169279\n",
      "est 186 Глубина: 11 результат 0.8355 F1: 0.5953259532595326 Roc_auc 0.7467278145439065\n",
      "est 187 Глубина: 11 результат 0.836 F1: 0.5960591133004927 Roc_auc 0.7470412941677309\n",
      "est 188 Глубина: 11 результат 0.835 F1: 0.5945945945945945 Roc_auc 0.746414334920082\n",
      "est 189 Глубина: 11 результат 0.8355 F1: 0.596319018404908 Roc_auc 0.7476489028213167\n",
      "est 175 Глубина: 12 результат 0.839 F1: 0.5964912280701755 Roc_auc 0.7452378188010372\n",
      "est 176 Глубина: 12 результат 0.8385 F1: 0.5957446808510639 Roc_auc 0.7449243391772128\n",
      "est 177 Глубина: 12 результат 0.839 F1: 0.5964912280701755 Roc_auc 0.7452378188010372\n",
      "est 178 Глубина: 12 результат 0.8385 F1: 0.5957446808510639 Roc_auc 0.7449243391772128\n",
      "est 179 Глубина: 12 результат 0.8385 F1: 0.5957446808510639 Roc_auc 0.7449243391772128\n",
      "est 180 Глубина: 12 результат 0.838 F1: 0.593984962406015 Roc_auc 0.7436897712759781\n",
      "est 181 Глубина: 12 результат 0.837 F1: 0.5935162094763092 Roc_auc 0.7439839003057394\n",
      "est 182 Глубина: 12 результат 0.8385 F1: 0.5957446808510639 Roc_auc 0.7449243391772128\n",
      "est 183 Глубина: 12 результат 0.839 F1: 0.5954773869346733 Roc_auc 0.744316730523627\n",
      "est 184 Глубина: 12 результат 0.838 F1: 0.595 Roc_auc 0.7446108595533883\n",
      "est 185 Глубина: 12 результат 0.8375 F1: 0.5932415519399248 Roc_auc 0.7433762916521536\n",
      "est 186 Глубина: 12 результат 0.8375 F1: 0.5932415519399248 Roc_auc 0.7433762916521536\n",
      "est 187 Глубина: 12 результат 0.837 F1: 0.5935162094763092 Roc_auc 0.7439839003057394\n",
      "est 188 Глубина: 12 результат 0.839 F1: 0.5964912280701755 Roc_auc 0.7452378188010372\n",
      "est 189 Глубина: 12 результат 0.838 F1: 0.595 Roc_auc 0.7446108595533883\n",
      "est 175 Глубина: 13 результат 0.84 F1: 0.5939086294416245 Roc_auc 0.7421804249390457\n",
      "est 176 Глубина: 13 результат 0.839 F1: 0.5924050632911392 Roc_auc 0.7415534656913967\n",
      "est 177 Глубина: 13 результат 0.8405 F1: 0.5946632782719188 Roc_auc 0.7424939045628701\n",
      "est 178 Глубина: 13 результат 0.8385 F1: 0.5916561314791403 Roc_auc 0.7412399860675722\n",
      "est 179 Глубина: 13 результат 0.8395 F1: 0.5931558935361216 Roc_auc 0.7418669453152211\n",
      "est 180 Глубина: 13 результат 0.8415 F1: 0.5972045743329097 Roc_auc 0.744041952087929\n",
      "est 181 Глубина: 13 результат 0.84 F1: 0.5939086294416245 Roc_auc 0.7421804249390457\n",
      "est 182 Глубина: 13 результат 0.8415 F1: 0.5972045743329097 Roc_auc 0.744041952087929\n",
      "est 183 Глубина: 13 результат 0.8405 F1: 0.5956907477820026 Roc_auc 0.7434149928402802\n",
      "est 184 Глубина: 13 результат 0.841 F1: 0.5964467005076142 Roc_auc 0.7437284724641047\n",
      "est 185 Глубина: 13 результат 0.8405 F1: 0.5967130214917825 Roc_auc 0.7443360811176903\n",
      "est 186 Глубина: 13 результат 0.8415 F1: 0.5982256020278833 Roc_auc 0.7449630403653392\n",
      "est 187 Глубина: 13 результат 0.841 F1: 0.5964467005076142 Roc_auc 0.7437284724641047\n",
      "est 188 Глубина: 13 результат 0.8415 F1: 0.5972045743329097 Roc_auc 0.744041952087929\n",
      "est 189 Глубина: 13 результат 0.841 F1: 0.5954198473282443 Roc_auc 0.7428073841866946\n",
      "est 175 Глубина: 14 результат 0.842 F1: 0.5938303341902313 Roc_auc 0.7406710786021131\n",
      "est 176 Глубина: 14 результат 0.8425 F1: 0.5956354300385109 Roc_auc 0.7419056465033477\n",
      "est 177 Глубина: 14 результат 0.843 F1: 0.596401028277635 Roc_auc 0.7422191261271721\n",
      "est 178 Глубина: 14 результат 0.843 F1: 0.596401028277635 Roc_auc 0.7422191261271721\n",
      "est 179 Глубина: 14 результат 0.8435 F1: 0.5971685971685972 Roc_auc 0.7425326057509966\n",
      "est 180 Глубина: 14 результат 0.8435 F1: 0.5971685971685972 Roc_auc 0.7425326057509966\n",
      "est 181 Глубина: 14 результат 0.842 F1: 0.5948717948717949 Roc_auc 0.7415921668795232\n",
      "est 182 Глубина: 14 результат 0.843 F1: 0.596401028277635 Roc_auc 0.7422191261271721\n",
      "est 183 Глубина: 14 результат 0.843 F1: 0.596401028277635 Roc_auc 0.7422191261271721\n",
      "est 184 Глубина: 14 результат 0.8435 F1: 0.5971685971685972 Roc_auc 0.7425326057509966\n",
      "est 185 Глубина: 14 результат 0.842 F1: 0.5938303341902313 Roc_auc 0.7406710786021131\n",
      "est 186 Глубина: 14 результат 0.842 F1: 0.5948717948717949 Roc_auc 0.7415921668795232\n",
      "est 187 Глубина: 14 результат 0.842 F1: 0.5948717948717949 Roc_auc 0.7415921668795232\n",
      "est 188 Глубина: 14 результат 0.842 F1: 0.5948717948717949 Roc_auc 0.7415921668795232\n",
      "est 189 Глубина: 14 результат 0.842 F1: 0.5938303341902313 Roc_auc 0.7406710786021131\n",
      "est 175 Глубина: 15 результат 0.845 F1: 0.5963541666666666 Roc_auc 0.7407097797902397\n",
      "est 176 Глубина: 15 результат 0.8455 F1: 0.5971316818774446 Roc_auc 0.741023259414064\n",
      "est 177 Глубина: 15 результат 0.845 F1: 0.5963541666666666 Roc_auc 0.7407097797902397\n",
      "est 178 Глубина: 15 результат 0.845 F1: 0.5963541666666666 Roc_auc 0.7407097797902397\n",
      "est 179 Глубина: 15 результат 0.843 F1: 0.5911458333333333 Roc_auc 0.7376136847401215\n",
      "est 180 Глубина: 15 результат 0.845 F1: 0.5963541666666666 Roc_auc 0.7407097797902397\n",
      "est 181 Глубина: 15 результат 0.8425 F1: 0.5893089960886571 Roc_auc 0.7363791168388869\n",
      "est 182 Глубина: 15 результат 0.843 F1: 0.5911458333333333 Roc_auc 0.7376136847401215\n",
      "est 183 Глубина: 15 результат 0.8425 F1: 0.5893089960886571 Roc_auc 0.7363791168388869\n",
      "est 184 Глубина: 15 результат 0.844 F1: 0.59375 Roc_auc 0.7391617322651804\n",
      "est 185 Глубина: 15 результат 0.8435 F1: 0.5919165580182529 Roc_auc 0.7379271643639459\n",
      "est 186 Глубина: 15 результат 0.844 F1: 0.5926892950391645 Roc_auc 0.7382406439877705\n",
      "est 187 Глубина: 15 результат 0.844 F1: 0.59375 Roc_auc 0.7391617322651804\n",
      "est 188 Глубина: 15 результат 0.8445 F1: 0.5955786736020805 Roc_auc 0.7403963001664151\n",
      "est 189 Глубина: 15 результат 0.844 F1: 0.59375 Roc_auc 0.7391617322651804\n",
      "est 175 Глубина: 16 результат 0.8425 F1: 0.5903771131339401 Roc_auc 0.7373002051162971\n",
      "est 176 Глубина: 16 результат 0.842 F1: 0.5896103896103896 Roc_auc 0.7369867254924726\n",
      "est 177 Глубина: 16 результат 0.843 F1: 0.5911458333333333 Roc_auc 0.7376136847401215\n",
      "est 178 Глубина: 16 результат 0.8425 F1: 0.5893089960886571 Roc_auc 0.7363791168388869\n",
      "est 179 Глубина: 16 результат 0.8425 F1: 0.5893089960886571 Roc_auc 0.7363791168388869\n",
      "est 180 Глубина: 16 результат 0.8415 F1: 0.58777633289987 Roc_auc 0.735752157591238\n",
      "est 181 Глубина: 16 результат 0.843 F1: 0.5911458333333333 Roc_auc 0.7376136847401215\n",
      "est 182 Глубина: 16 результат 0.842 F1: 0.5885416666666667 Roc_auc 0.7360656372150626\n",
      "est 183 Глубина: 16 результат 0.843 F1: 0.5900783289817232 Roc_auc 0.7366925964627113\n",
      "est 184 Глубина: 16 результат 0.8425 F1: 0.5893089960886571 Roc_auc 0.7363791168388869\n",
      "est 185 Глубина: 16 результат 0.8415 F1: 0.58777633289987 Roc_auc 0.735752157591238\n",
      "est 186 Глубина: 16 результат 0.8415 F1: 0.58777633289987 Roc_auc 0.735752157591238\n",
      "est 187 Глубина: 16 результат 0.8425 F1: 0.5893089960886571 Roc_auc 0.7363791168388869\n",
      "est 188 Глубина: 16 результат 0.8405 F1: 0.5862516212710766 Roc_auc 0.7351251983435891\n",
      "est 189 Глубина: 16 результат 0.843 F1: 0.5911458333333333 Roc_auc 0.7376136847401215\n",
      "est 175 Глубина: 17 результат 0.8465 F1: 0.5997392438070404 Roc_auc 0.742571306939123\n",
      "est 176 Глубина: 17 результат 0.846 F1: 0.597911227154047 Roc_auc 0.7413367390378885\n",
      "est 177 Глубина: 17 результат 0.8465 F1: 0.5997392438070404 Roc_auc 0.742571306939123\n",
      "est 178 Глубина: 17 результат 0.846 F1: 0.597911227154047 Roc_auc 0.7413367390378885\n",
      "est 179 Глубина: 17 результат 0.8475 F1: 0.6023468057366362 Roc_auc 0.7441193544641822\n",
      "est 180 Глубина: 17 результат 0.846 F1: 0.597911227154047 Roc_auc 0.7413367390378885\n",
      "est 181 Глубина: 17 результат 0.848 F1: 0.6041666666666667 Roc_auc 0.7453539223654168\n",
      "est 182 Глубина: 17 результат 0.8475 F1: 0.6002621231979031 Roc_auc 0.7422771779093619\n",
      "est 183 Глубина: 17 результат 0.848 F1: 0.6031331592689296 Roc_auc 0.7444328340880065\n",
      "est 184 Глубина: 17 результат 0.8475 F1: 0.6013071895424836 Roc_auc 0.7431982661867719\n",
      "est 185 Глубина: 17 результат 0.847 F1: 0.6015625000000001 Roc_auc 0.7438058748403577\n",
      "est 186 Глубина: 17 результат 0.8465 F1: 0.6007802340702211 Roc_auc 0.7434923952165331\n",
      "est 187 Глубина: 17 результат 0.847 F1: 0.6015625000000001 Roc_auc 0.7438058748403577\n",
      "est 188 Глубина: 17 результат 0.8465 F1: 0.5997392438070404 Roc_auc 0.742571306939123\n",
      "est 189 Глубина: 17 результат 0.847 F1: 0.6015625000000001 Roc_auc 0.7438058748403577\n",
      "est 175 Глубина: 18 результат 0.851 F1: 0.6026666666666666 Roc_auc 0.7417082704439026\n",
      "est 176 Глубина: 18 результат 0.8515 F1: 0.6045272969374167 Roc_auc 0.7429428383451372\n",
      "est 177 Глубина: 18 результат 0.851 F1: 0.6026666666666666 Roc_auc 0.7417082704439026\n",
      "est 178 Глубина: 18 результат 0.851 F1: 0.6026666666666666 Roc_auc 0.7417082704439026\n",
      "est 179 Глубина: 18 результат 0.8515 F1: 0.6034712950600801 Roc_auc 0.7420217500677271\n",
      "est 180 Глубина: 18 результат 0.8515 F1: 0.6045272969374167 Roc_auc 0.7429428383451372\n",
      "est 181 Глубина: 18 результат 0.852 F1: 0.6053333333333333 Roc_auc 0.7432563179689616\n",
      "est 182 Глубина: 18 результат 0.8515 F1: 0.6045272969374167 Roc_auc 0.7429428383451372\n",
      "est 183 Глубина: 18 результат 0.8515 F1: 0.6055776892430278 Roc_auc 0.7438639266225473\n",
      "est 184 Глубина: 18 результат 0.8515 F1: 0.6045272969374167 Roc_auc 0.7429428383451372\n",
      "est 185 Глубина: 18 результат 0.852 F1: 0.6074270557029179 Roc_auc 0.745098494523782\n",
      "est 186 Глубина: 18 результат 0.8515 F1: 0.6045272969374167 Roc_auc 0.7429428383451372\n",
      "est 187 Глубина: 18 результат 0.852 F1: 0.6053333333333333 Roc_auc 0.7432563179689616\n",
      "est 188 Глубина: 18 результат 0.8515 F1: 0.6024096385542169 Roc_auc 0.741100661790317\n",
      "est 189 Глубина: 18 результат 0.8525 F1: 0.607190412782956 Roc_auc 0.7444908858701962\n",
      "est 175 Глубина: 19 результат 0.843 F1: 0.5868421052631579 Roc_auc 0.733929331630481\n",
      "est 176 Глубина: 19 результат 0.8435 F1: 0.5886990801576873 Roc_auc 0.7351638995317157\n",
      "est 177 Глубина: 19 результат 0.8435 F1: 0.5886990801576873 Roc_auc 0.7351638995317157\n",
      "est 178 Глубина: 19 результат 0.8445 F1: 0.5902503293807642 Roc_auc 0.7357908587793646\n",
      "est 179 Глубина: 19 результат 0.8445 F1: 0.5902503293807642 Roc_auc 0.7357908587793646\n",
      "est 180 Глубина: 19 результат 0.8445 F1: 0.5902503293807642 Roc_auc 0.7357908587793646\n",
      "est 181 Глубина: 19 результат 0.845 F1: 0.5910290237467019 Roc_auc 0.736104338403189\n",
      "est 182 Глубина: 19 результат 0.844 F1: 0.5894736842105263 Roc_auc 0.7354773791555402\n",
      "est 183 Глубина: 19 результат 0.844 F1: 0.5894736842105263 Roc_auc 0.7354773791555402\n",
      "est 184 Глубина: 19 результат 0.844 F1: 0.5894736842105263 Roc_auc 0.7354773791555402\n",
      "est 185 Глубина: 19 результат 0.844 F1: 0.5894736842105263 Roc_auc 0.7354773791555402\n",
      "est 186 Глубина: 19 результат 0.8455 F1: 0.5928853754940713 Roc_auc 0.7373389063044236\n",
      "est 187 Глубина: 19 результат 0.8455 F1: 0.5928853754940713 Roc_auc 0.7373389063044236\n",
      "est 188 Глубина: 19 результат 0.847 F1: 0.5973684210526315 Roc_auc 0.7401215217307171\n",
      "est 189 Глубина: 19 результат 0.846 F1: 0.5947368421052632 Roc_auc 0.7385734742056581\n",
      "est 175 Глубина: 20 результат 0.8485 F1: 0.5986754966887416 Roc_auc 0.7401408723247803\n",
      "est 176 Глубина: 20 результат 0.8485 F1: 0.5976095617529881 Roc_auc 0.7392197840473703\n",
      "est 177 Глубина: 20 результат 0.8475 F1: 0.5960264900662252 Roc_auc 0.7385928247997213\n",
      "est 178 Глубина: 20 результат 0.8475 F1: 0.5960264900662252 Roc_auc 0.7385928247997213\n",
      "est 179 Глубина: 20 результат 0.847 F1: 0.5952380952380952 Roc_auc 0.7382793451758969\n",
      "est 180 Глубина: 20 результат 0.848 F1: 0.596816976127321 Roc_auc 0.7389063044235459\n",
      "est 181 Глубина: 20 результат 0.848 F1: 0.5978835978835979 Roc_auc 0.7398273927009559\n",
      "est 182 Глубина: 20 результат 0.8485 F1: 0.5976095617529881 Roc_auc 0.7392197840473703\n",
      "est 183 Глубина: 20 результат 0.8485 F1: 0.5976095617529881 Roc_auc 0.7392197840473703\n",
      "est 184 Глубина: 20 результат 0.848 F1: 0.596816976127321 Roc_auc 0.7389063044235459\n",
      "est 185 Глубина: 20 результат 0.8485 F1: 0.5976095617529881 Roc_auc 0.7392197840473703\n",
      "est 186 Глубина: 20 результат 0.8485 F1: 0.5976095617529881 Roc_auc 0.7392197840473703\n",
      "est 187 Глубина: 20 результат 0.849 F1: 0.598404255319149 Roc_auc 0.7395332636711947\n",
      "est 188 Глубина: 20 результат 0.8495 F1: 0.5992010652463382 Roc_auc 0.7398467432950191\n",
      "est 189 Глубина: 20 результат 0.8495 F1: 0.5981308411214954 Roc_auc 0.7389256550176091\n",
      "est 175 Глубина: 21 результат 0.8445 F1: 0.5880794701986755 Roc_auc 0.7339486822245442\n",
      "est 176 Глубина: 21 результат 0.8435 F1: 0.5854304635761589 Roc_auc 0.7324006346994852\n",
      "est 177 Глубина: 21 результат 0.8435 F1: 0.5865257595772787 Roc_auc 0.7333217229768955\n",
      "est 178 Глубина: 21 результат 0.845 F1: 0.5888594164456233 Roc_auc 0.7342621618483688\n",
      "est 179 Глубина: 21 результат 0.844 F1: 0.5873015873015872 Roc_auc 0.7336352026007199\n",
      "est 180 Глубина: 21 результат 0.8445 F1: 0.5880794701986755 Roc_auc 0.7339486822245442\n",
      "est 181 Глубина: 21 результат 0.843 F1: 0.5868421052631579 Roc_auc 0.733929331630481\n",
      "est 182 Глубина: 21 результат 0.843 F1: 0.5846560846560848 Roc_auc 0.7320871550756608\n",
      "est 183 Глубина: 21 результат 0.8435 F1: 0.5865257595772787 Roc_auc 0.7333217229768955\n",
      "est 184 Глубина: 21 результат 0.8435 F1: 0.5865257595772787 Roc_auc 0.7333217229768955\n",
      "est 185 Глубина: 21 результат 0.8435 F1: 0.5865257595772787 Roc_auc 0.7333217229768955\n",
      "est 186 Глубина: 21 результат 0.844 F1: 0.5862068965517241 Roc_auc 0.7327141143233097\n",
      "est 187 Глубина: 21 результат 0.844 F1: 0.5862068965517241 Roc_auc 0.7327141143233097\n",
      "est 188 Глубина: 21 результат 0.8445 F1: 0.5869853917662683 Roc_auc 0.7330275939471341\n",
      "est 189 Глубина: 21 результат 0.844 F1: 0.5862068965517241 Roc_auc 0.7327141143233097\n",
      "est 175 Глубина: 22 результат 0.849 F1: 0.5962566844919786 Roc_auc 0.7376910871163744\n",
      "est 176 Глубина: 22 результат 0.849 F1: 0.5962566844919786 Roc_auc 0.7376910871163744\n",
      "est 177 Глубина: 22 результат 0.8475 F1: 0.5938748335552596 Roc_auc 0.7367506482449011\n",
      "est 178 Глубина: 22 результат 0.8485 F1: 0.5943775100401607 Roc_auc 0.73645651921514\n",
      "est 179 Глубина: 22 результат 0.848 F1: 0.5935828877005348 Roc_auc 0.7361430395913156\n",
      "est 180 Глубина: 22 результат 0.849 F1: 0.5951742627345844 Roc_auc 0.7367699988389644\n",
      "est 181 Глубина: 22 результат 0.849 F1: 0.5951742627345844 Roc_auc 0.7367699988389644\n",
      "est 182 Глубина: 22 результат 0.8495 F1: 0.5959731543624162 Roc_auc 0.7370834784627889\n",
      "est 183 Глубина: 22 результат 0.8495 F1: 0.5970548862115127 Roc_auc 0.7380045667401989\n",
      "est 184 Глубина: 22 результат 0.851 F1: 0.5994623655913978 Roc_auc 0.7389450056116722\n",
      "est 185 Глубина: 22 результат 0.85 F1: 0.5978552278820375 Roc_auc 0.7383180463640233\n",
      "est 186 Глубина: 22 результат 0.8495 F1: 0.5959731543624162 Roc_auc 0.7370834784627889\n",
      "est 187 Глубина: 22 результат 0.849 F1: 0.5951742627345844 Roc_auc 0.7367699988389644\n",
      "est 188 Глубина: 22 результат 0.849 F1: 0.5951742627345844 Roc_auc 0.7367699988389644\n",
      "est 189 Глубина: 22 результат 0.8505 F1: 0.5975773889636607 Roc_auc 0.7377104377104378\n",
      "est 175 Глубина: 23 результат 0.853 F1: 0.608 Roc_auc 0.7448043654940206\n",
      "est 176 Глубина: 23 результат 0.8535 F1: 0.6088117489986649 Roc_auc 0.745117845117845\n",
      "est 177 Глубина: 23 результат 0.8515 F1: 0.6055776892430278 Roc_auc 0.7438639266225473\n",
      "est 178 Глубина: 23 результат 0.8535 F1: 0.607764390896921 Roc_auc 0.744196756840435\n",
      "est 179 Глубина: 23 результат 0.8515 F1: 0.6055776892430278 Roc_auc 0.7438639266225473\n",
      "est 180 Глубина: 23 результат 0.8535 F1: 0.607764390896921 Roc_auc 0.744196756840435\n",
      "est 181 Глубина: 23 результат 0.853 F1: 0.6069518716577541 Roc_auc 0.7438832772166105\n",
      "est 182 Глубина: 23 результат 0.8535 F1: 0.607764390896921 Roc_auc 0.744196756840435\n",
      "est 183 Глубина: 23 результат 0.853 F1: 0.608 Roc_auc 0.7448043654940206\n",
      "est 184 Глубина: 23 результат 0.8545 F1: 0.6104417670682731 Roc_auc 0.745744804365494\n",
      "est 185 Глубина: 23 результат 0.854 F1: 0.6096256684491979 Roc_auc 0.7454313247416695\n",
      "est 186 Глубина: 23 результат 0.8535 F1: 0.6067114093959732 Roc_auc 0.7432756685630248\n",
      "est 187 Глубина: 23 результат 0.854 F1: 0.6085790884718498 Roc_auc 0.7445102364642594\n",
      "est 188 Глубина: 23 результат 0.853 F1: 0.6037735849056604 Roc_auc 0.7411200123843803\n",
      "est 189 Глубина: 23 результат 0.854 F1: 0.6085790884718498 Roc_auc 0.7445102364642594\n",
      "est 175 Глубина: 24 результат 0.8525 F1: 0.6103038309114928 Roc_auc 0.7472541507024265\n",
      "est 176 Глубина: 24 результат 0.8515 F1: 0.6055776892430278 Roc_auc 0.7438639266225473\n",
      "est 177 Глубина: 24 результат 0.852 F1: 0.6094986807387863 Roc_auc 0.7469406710786022\n",
      "est 178 Глубина: 24 результат 0.852 F1: 0.6063829787234044 Roc_auc 0.7441774062463717\n",
      "est 179 Глубина: 24 результат 0.852 F1: 0.6084656084656085 Roc_auc 0.7460195828011918\n",
      "est 180 Глубина: 24 результат 0.853 F1: 0.6090425531914894 Roc_auc 0.7457254537714308\n",
      "est 181 Глубина: 24 результат 0.853 F1: 0.6111111111111112 Roc_auc 0.7475676303262511\n",
      "est 182 Глубина: 24 результат 0.852 F1: 0.6063829787234044 Roc_auc 0.7441774062463717\n",
      "est 183 Глубина: 24 результат 0.852 F1: 0.6084656084656085 Roc_auc 0.7460195828011918\n",
      "est 184 Глубина: 24 результат 0.852 F1: 0.6063829787234044 Roc_auc 0.7441774062463717\n",
      "est 185 Глубина: 24 результат 0.853 F1: 0.610079575596817 Roc_auc 0.7466465420488408\n",
      "est 186 Глубина: 24 результат 0.852 F1: 0.6063829787234044 Roc_auc 0.7441774062463717\n",
      "est 187 Глубина: 24 результат 0.8515 F1: 0.6066225165562914 Roc_auc 0.7447850148999574\n",
      "est 188 Глубина: 24 результат 0.852 F1: 0.6074270557029179 Roc_auc 0.745098494523782\n",
      "est 189 Глубина: 24 результат 0.8525 F1: 0.6092715231788078 Roc_auc 0.7463330624250164\n",
      "est 175 Глубина: 25 результат 0.8475 F1: 0.5981554677206851 Roc_auc 0.7404350013545415\n",
      "est 176 Глубина: 25 результат 0.8485 F1: 0.5997357992073977 Roc_auc 0.7410619606021904\n",
      "est 177 Глубина: 25 результат 0.8485 F1: 0.5997357992073977 Roc_auc 0.7410619606021904\n",
      "est 178 Глубина: 25 результат 0.85 F1: 0.6021220159151194 Roc_auc 0.7420023994736638\n",
      "est 179 Глубина: 25 результат 0.8495 F1: 0.6013245033112582 Roc_auc 0.7416889198498394\n",
      "est 180 Глубина: 25 результат 0.85 F1: 0.6021220159151194 Roc_auc 0.7420023994736638\n",
      "est 181 Глубина: 25 результат 0.8495 F1: 0.6013245033112582 Roc_auc 0.7416889198498394\n",
      "est 182 Глубина: 25 результат 0.85 F1: 0.6021220159151194 Roc_auc 0.7420023994736638\n",
      "est 183 Глубина: 25 результат 0.8505 F1: 0.6039735099337749 Roc_auc 0.7432369673748984\n",
      "est 184 Глубина: 25 результат 0.85 F1: 0.6021220159151194 Roc_auc 0.7420023994736638\n",
      "est 185 Глубина: 25 результат 0.85 F1: 0.6031746031746031 Roc_auc 0.742923487751074\n",
      "est 186 Глубина: 25 результат 0.851 F1: 0.6037234042553192 Roc_auc 0.7426293587213129\n",
      "est 187 Глубина: 25 результат 0.8505 F1: 0.6039735099337749 Roc_auc 0.7432369673748984\n",
      "est 188 Глубина: 25 результат 0.852 F1: 0.6063829787234044 Roc_auc 0.7441774062463717\n",
      "est 189 Глубина: 25 результат 0.852 F1: 0.6063829787234044 Roc_auc 0.7441774062463717\n",
      "est 175 Глубина: 26 результат 0.849 F1: 0.6015831134564644 Roc_auc 0.7422965285034251\n",
      "est 176 Глубина: 26 результат 0.8495 F1: 0.6013245033112582 Roc_auc 0.7416889198498394\n",
      "est 177 Глубина: 26 результат 0.8495 F1: 0.6023778071334214 Roc_auc 0.7426100081272494\n",
      "est 178 Глубина: 26 результат 0.85 F1: 0.6021220159151194 Roc_auc 0.7420023994736638\n",
      "est 179 Глубина: 26 результат 0.85 F1: 0.6042216358839049 Roc_auc 0.7438445760284841\n",
      "est 180 Глубина: 26 результат 0.85 F1: 0.6031746031746031 Roc_auc 0.742923487751074\n",
      "est 181 Глубина: 26 результат 0.8505 F1: 0.6050198150594451 Roc_auc 0.7441580556523086\n",
      "est 182 Глубина: 26 результат 0.85 F1: 0.6031746031746031 Roc_auc 0.742923487751074\n",
      "est 183 Глубина: 26 результат 0.85 F1: 0.6042216358839049 Roc_auc 0.7438445760284841\n",
      "est 184 Глубина: 26 результат 0.851 F1: 0.6058201058201059 Roc_auc 0.7444715352761331\n",
      "est 185 Глубина: 26 результат 0.851 F1: 0.6068601583113455 Roc_auc 0.7453926235535431\n",
      "est 186 Глубина: 26 результат 0.8515 F1: 0.6066225165562914 Roc_auc 0.7447850148999574\n",
      "est 187 Глубина: 26 результат 0.85 F1: 0.6052631578947368 Roc_auc 0.7447656643058942\n",
      "est 188 Глубина: 26 результат 0.852 F1: 0.6074270557029179 Roc_auc 0.745098494523782\n",
      "est 189 Глубина: 26 результат 0.8515 F1: 0.6066225165562914 Roc_auc 0.7447850148999574\n",
      "est 175 Глубина: 27 результат 0.849 F1: 0.6005291005291006 Roc_auc 0.7413754402260149\n",
      "est 176 Глубина: 27 результат 0.849 F1: 0.5994694960212201 Roc_auc 0.7404543519486049\n",
      "est 177 Глубина: 27 результат 0.849 F1: 0.6005291005291006 Roc_auc 0.7413754402260149\n",
      "est 178 Глубина: 27 результат 0.8495 F1: 0.600265604249668 Roc_auc 0.7407678315724292\n",
      "est 179 Глубина: 27 результат 0.8505 F1: 0.6050198150594451 Roc_auc 0.7441580556523086\n",
      "est 180 Глубина: 27 результат 0.8505 F1: 0.6039735099337749 Roc_auc 0.7432369673748984\n",
      "est 181 Глубина: 27 результат 0.851 F1: 0.6058201058201059 Roc_auc 0.7444715352761331\n",
      "est 182 Глубина: 27 результат 0.851 F1: 0.6047745358090186 Roc_auc 0.7435504469987227\n",
      "est 183 Глубина: 27 результат 0.8505 F1: 0.6050198150594451 Roc_auc 0.7441580556523086\n",
      "est 184 Глубина: 27 результат 0.8515 F1: 0.6066225165562914 Roc_auc 0.7447850148999574\n",
      "est 185 Глубина: 27 результат 0.8515 F1: 0.6066225165562914 Roc_auc 0.7447850148999574\n",
      "est 186 Глубина: 27 результат 0.852 F1: 0.6074270557029179 Roc_auc 0.745098494523782\n",
      "est 187 Глубина: 27 результат 0.851 F1: 0.6058201058201059 Roc_auc 0.7444715352761331\n",
      "est 188 Глубина: 27 результат 0.8525 F1: 0.607190412782956 Roc_auc 0.7444908858701962\n",
      "est 189 Глубина: 27 результат 0.852 F1: 0.6074270557029179 Roc_auc 0.745098494523782\n",
      "est 175 Глубина: 28 результат 0.849 F1: 0.6005291005291006 Roc_auc 0.7413754402260149\n",
      "est 176 Глубина: 28 результат 0.849 F1: 0.5994694960212201 Roc_auc 0.7404543519486049\n",
      "est 177 Глубина: 28 результат 0.849 F1: 0.6005291005291006 Roc_auc 0.7413754402260149\n",
      "est 178 Глубина: 28 результат 0.8495 F1: 0.600265604249668 Roc_auc 0.7407678315724292\n",
      "est 179 Глубина: 28 результат 0.8505 F1: 0.6050198150594451 Roc_auc 0.7441580556523086\n",
      "est 180 Глубина: 28 результат 0.8505 F1: 0.6039735099337749 Roc_auc 0.7432369673748984\n",
      "est 181 Глубина: 28 результат 0.851 F1: 0.6058201058201059 Roc_auc 0.7444715352761331\n",
      "est 182 Глубина: 28 результат 0.851 F1: 0.6047745358090186 Roc_auc 0.7435504469987227\n",
      "est 183 Глубина: 28 результат 0.8505 F1: 0.6050198150594451 Roc_auc 0.7441580556523086\n",
      "est 184 Глубина: 28 результат 0.8515 F1: 0.6066225165562914 Roc_auc 0.7447850148999574\n",
      "est 185 Глубина: 28 результат 0.8515 F1: 0.6066225165562914 Roc_auc 0.7447850148999574\n",
      "est 186 Глубина: 28 результат 0.852 F1: 0.6074270557029179 Roc_auc 0.745098494523782\n",
      "est 187 Глубина: 28 результат 0.851 F1: 0.6058201058201059 Roc_auc 0.7444715352761331\n",
      "est 188 Глубина: 28 результат 0.8525 F1: 0.607190412782956 Roc_auc 0.7444908858701962\n",
      "est 189 Глубина: 28 результат 0.852 F1: 0.6074270557029179 Roc_auc 0.745098494523782\n",
      "est 175 Глубина: 29 результат 0.849 F1: 0.6005291005291006 Roc_auc 0.7413754402260149\n",
      "est 176 Глубина: 29 результат 0.849 F1: 0.5994694960212201 Roc_auc 0.7404543519486049\n",
      "est 177 Глубина: 29 результат 0.849 F1: 0.6005291005291006 Roc_auc 0.7413754402260149\n",
      "est 178 Глубина: 29 результат 0.8495 F1: 0.600265604249668 Roc_auc 0.7407678315724292\n",
      "est 179 Глубина: 29 результат 0.8505 F1: 0.6050198150594451 Roc_auc 0.7441580556523086\n",
      "est 180 Глубина: 29 результат 0.8505 F1: 0.6039735099337749 Roc_auc 0.7432369673748984\n",
      "est 181 Глубина: 29 результат 0.851 F1: 0.6058201058201059 Roc_auc 0.7444715352761331\n",
      "est 182 Глубина: 29 результат 0.851 F1: 0.6047745358090186 Roc_auc 0.7435504469987227\n",
      "est 183 Глубина: 29 результат 0.8505 F1: 0.6050198150594451 Roc_auc 0.7441580556523086\n",
      "est 184 Глубина: 29 результат 0.8515 F1: 0.6066225165562914 Roc_auc 0.7447850148999574\n",
      "est 185 Глубина: 29 результат 0.8515 F1: 0.6066225165562914 Roc_auc 0.7447850148999574\n",
      "est 186 Глубина: 29 результат 0.852 F1: 0.6074270557029179 Roc_auc 0.745098494523782\n",
      "est 187 Глубина: 29 результат 0.851 F1: 0.6058201058201059 Roc_auc 0.7444715352761331\n",
      "est 188 Глубина: 29 результат 0.8525 F1: 0.607190412782956 Roc_auc 0.7444908858701962\n",
      "est 189 Глубина: 29 результат 0.852 F1: 0.6074270557029179 Roc_auc 0.745098494523782\n",
      " \n",
      "Лучший результат cлучайного леса F1-меры: 0.6111111111111112 Глубина: 24 n_estimators 181 Roc_auc: 0.7475676303262511\n"
     ]
    }
   ],
   "source": [
    "best_result = 0\n",
    "for depth in range(5,30):\n",
    "    for est in range(175,190):\n",
    "        model_forest = RandomForestClassifier(random_state = state, n_estimators = est, max_depth=depth, n_jobs=-1)\n",
    "        model_forest.fit(features_train_up,target_train_up)\n",
    "        prediction_valid = model_forest.predict(features_valid)\n",
    "        res = model_forest.score(features_valid, target_valid)\n",
    "        F1 = f1_score(target_valid, prediction_valid)\n",
    "        Roc_auc = roc_auc_score(target_valid, prediction_valid)\n",
    "        print('est',est,'Глубина:', depth, 'результат', res, \"F1:\", F1, 'Roc_auc', Roc_auc)  \n",
    "        if best_result < F1:\n",
    "            Roc_auc_f = Roc_auc\n",
    "            best_model = model_forest\n",
    "            best_result = F1\n",
    "            best_depth = depth\n",
    "            best_forest_res_down = best_result\n",
    "            n_estimators = est\n",
    "\n",
    "print(' ')        \n",
    "print('Лучший результат cлучайного леса F1-меры:', best_forest_res_down,'Глубина:', best_depth,'n_estimators', n_estimators,'Roc_auc:', Roc_auc_f)"
   ]
  },
  {
   "cell_type": "code",
   "execution_count": 136,
   "metadata": {},
   "outputs": [
    {
     "name": "stdout",
     "output_type": "stream",
     "text": [
      "est 170 Глубина: 10 результат 0.834 F1: 0.5951219512195123 Roc_auc 0.7476295522272535\n",
      "est 171 Глубина: 10 результат 0.8345 F1: 0.5958485958485958 Roc_auc 0.7479430318510778\n",
      "est 172 Глубина: 10 результат 0.8335 F1: 0.5934065934065934 Roc_auc 0.7463949843260189\n",
      "est 173 Глубина: 10 результат 0.833 F1: 0.5926829268292683 Roc_auc 0.7460815047021944\n",
      "est 174 Глубина: 10 результат 0.834 F1: 0.5941320293398533 Roc_auc 0.7467084639498434\n",
      "est 175 Глубина: 10 результат 0.8345 F1: 0.594859241126071 Roc_auc 0.7470219435736678\n",
      "est 176 Глубина: 10 результат 0.8335 F1: 0.5934065934065934 Roc_auc 0.7463949843260189\n",
      "est 177 Глубина: 10 результат 0.833 F1: 0.5926829268292683 Roc_auc 0.7460815047021944\n",
      "est 178 Глубина: 10 результат 0.8335 F1: 0.5934065934065934 Roc_auc 0.7463949843260189\n",
      "est 179 Глубина: 10 результат 0.834 F1: 0.5941320293398533 Roc_auc 0.7467084639498434\n",
      "est 180 Глубина: 10 результат 0.834 F1: 0.5941320293398533 Roc_auc 0.7467084639498434\n",
      "est 181 Глубина: 10 результат 0.8335 F1: 0.5934065934065934 Roc_auc 0.7463949843260189\n",
      "est 182 Глубина: 10 результат 0.8335 F1: 0.5934065934065934 Roc_auc 0.7463949843260189\n",
      "est 183 Глубина: 10 результат 0.8335 F1: 0.5934065934065934 Roc_auc 0.7463949843260189\n",
      "est 184 Глубина: 10 результат 0.8335 F1: 0.5934065934065934 Roc_auc 0.7463949843260189\n",
      "est 185 Глубина: 10 результат 0.8335 F1: 0.5934065934065934 Roc_auc 0.7463949843260189\n",
      "est 186 Глубина: 10 результат 0.834 F1: 0.5951219512195123 Roc_auc 0.7476295522272535\n",
      "est 187 Глубина: 10 результат 0.8335 F1: 0.5934065934065934 Roc_auc 0.7463949843260189\n",
      "est 188 Глубина: 10 результат 0.8335 F1: 0.5934065934065934 Roc_auc 0.7463949843260189\n",
      "est 189 Глубина: 10 результат 0.8335 F1: 0.5934065934065934 Roc_auc 0.7463949843260189\n",
      "est 170 Глубина: 11 результат 0.837 F1: 0.5975308641975309 Roc_auc 0.7476682534153798\n",
      "est 171 Глубина: 11 результат 0.8365 F1: 0.5967940813810111 Roc_auc 0.7473547737915553\n",
      "est 172 Глубина: 11 результат 0.8365 F1: 0.5967940813810111 Roc_auc 0.7473547737915553\n",
      "est 173 Глубина: 11 результат 0.837 F1: 0.5975308641975309 Roc_auc 0.7476682534153798\n",
      "est 174 Глубина: 11 результат 0.837 F1: 0.5975308641975309 Roc_auc 0.7476682534153798\n",
      "est 175 Глубина: 11 результат 0.8365 F1: 0.5967940813810111 Roc_auc 0.7473547737915553\n",
      "est 176 Глубина: 11 результат 0.8365 F1: 0.5967940813810111 Roc_auc 0.7473547737915553\n",
      "est 177 Глубина: 11 результат 0.8365 F1: 0.5967940813810111 Roc_auc 0.7473547737915553\n",
      "est 178 Глубина: 11 результат 0.8365 F1: 0.5967940813810111 Roc_auc 0.7473547737915553\n",
      "est 179 Глубина: 11 результат 0.8365 F1: 0.5967940813810111 Roc_auc 0.7473547737915553\n",
      "est 180 Глубина: 11 результат 0.8365 F1: 0.5967940813810111 Roc_auc 0.7473547737915553\n",
      "est 181 Глубина: 11 результат 0.8365 F1: 0.5977859778597786 Roc_auc 0.7482758620689656\n",
      "est 182 Глубина: 11 результат 0.836 F1: 0.597051597051597 Roc_auc 0.7479623824451411\n",
      "est 183 Глубина: 11 результат 0.836 F1: 0.597051597051597 Roc_auc 0.7479623824451411\n",
      "est 184 Глубина: 11 результат 0.836 F1: 0.597051597051597 Roc_auc 0.7479623824451411\n",
      "est 185 Глубина: 11 результат 0.837 F1: 0.5985221674876847 Roc_auc 0.74858934169279\n",
      "est 186 Глубина: 11 результат 0.8355 F1: 0.5953259532595326 Roc_auc 0.7467278145439065\n",
      "est 187 Глубина: 11 результат 0.836 F1: 0.5960591133004927 Roc_auc 0.7470412941677309\n",
      "est 188 Глубина: 11 результат 0.835 F1: 0.5945945945945945 Roc_auc 0.746414334920082\n",
      "est 189 Глубина: 11 результат 0.8355 F1: 0.596319018404908 Roc_auc 0.7476489028213167\n",
      "est 170 Глубина: 12 результат 0.838 F1: 0.595 Roc_auc 0.7446108595533883\n",
      "est 171 Глубина: 12 результат 0.8385 F1: 0.5957446808510639 Roc_auc 0.7449243391772128\n",
      "est 172 Глубина: 12 результат 0.8385 F1: 0.5957446808510639 Roc_auc 0.7449243391772128\n",
      "est 173 Глубина: 12 результат 0.8385 F1: 0.5957446808510639 Roc_auc 0.7449243391772128\n",
      "est 174 Глубина: 12 результат 0.838 F1: 0.595 Roc_auc 0.7446108595533883\n",
      "est 175 Глубина: 12 результат 0.839 F1: 0.5964912280701755 Roc_auc 0.7452378188010372\n",
      "est 176 Глубина: 12 результат 0.8385 F1: 0.5957446808510639 Roc_auc 0.7449243391772128\n",
      "est 177 Глубина: 12 результат 0.839 F1: 0.5964912280701755 Roc_auc 0.7452378188010372\n",
      "est 178 Глубина: 12 результат 0.8385 F1: 0.5957446808510639 Roc_auc 0.7449243391772128\n",
      "est 179 Глубина: 12 результат 0.8385 F1: 0.5957446808510639 Roc_auc 0.7449243391772128\n",
      "est 180 Глубина: 12 результат 0.838 F1: 0.593984962406015 Roc_auc 0.7436897712759781\n",
      "est 181 Глубина: 12 результат 0.837 F1: 0.5935162094763092 Roc_auc 0.7439839003057394\n",
      "est 182 Глубина: 12 результат 0.8385 F1: 0.5957446808510639 Roc_auc 0.7449243391772128\n",
      "est 183 Глубина: 12 результат 0.839 F1: 0.5954773869346733 Roc_auc 0.744316730523627\n",
      "est 184 Глубина: 12 результат 0.838 F1: 0.595 Roc_auc 0.7446108595533883\n",
      "est 185 Глубина: 12 результат 0.8375 F1: 0.5932415519399248 Roc_auc 0.7433762916521536\n",
      "est 186 Глубина: 12 результат 0.8375 F1: 0.5932415519399248 Roc_auc 0.7433762916521536\n",
      "est 187 Глубина: 12 результат 0.837 F1: 0.5935162094763092 Roc_auc 0.7439839003057394\n",
      "est 188 Глубина: 12 результат 0.839 F1: 0.5964912280701755 Roc_auc 0.7452378188010372\n",
      "est 189 Глубина: 12 результат 0.838 F1: 0.595 Roc_auc 0.7446108595533883\n",
      "est 170 Глубина: 13 результат 0.8395 F1: 0.5921219822109275 Roc_auc 0.740945857037811\n",
      "est 171 Глубина: 13 результат 0.8385 F1: 0.5906210392902408 Roc_auc 0.7403188977901621\n",
      "est 172 Глубина: 13 результат 0.8395 F1: 0.5921219822109275 Roc_auc 0.740945857037811\n",
      "est 173 Глубина: 13 результат 0.84 F1: 0.5928753180661577 Roc_auc 0.7412593366616356\n",
      "est 174 Глубина: 13 результат 0.84 F1: 0.5928753180661577 Roc_auc 0.7412593366616356\n",
      "est 175 Глубина: 13 результат 0.84 F1: 0.5939086294416245 Roc_auc 0.7421804249390457\n",
      "est 176 Глубина: 13 результат 0.839 F1: 0.5924050632911392 Roc_auc 0.7415534656913967\n",
      "est 177 Глубина: 13 результат 0.8405 F1: 0.5946632782719188 Roc_auc 0.7424939045628701\n",
      "est 178 Глубина: 13 результат 0.8385 F1: 0.5916561314791403 Roc_auc 0.7412399860675722\n",
      "est 179 Глубина: 13 результат 0.8395 F1: 0.5931558935361216 Roc_auc 0.7418669453152211\n",
      "est 180 Глубина: 13 результат 0.8415 F1: 0.5972045743329097 Roc_auc 0.744041952087929\n",
      "est 181 Глубина: 13 результат 0.84 F1: 0.5939086294416245 Roc_auc 0.7421804249390457\n",
      "est 182 Глубина: 13 результат 0.8415 F1: 0.5972045743329097 Roc_auc 0.744041952087929\n",
      "est 183 Глубина: 13 результат 0.8405 F1: 0.5956907477820026 Roc_auc 0.7434149928402802\n",
      "est 184 Глубина: 13 результат 0.841 F1: 0.5964467005076142 Roc_auc 0.7437284724641047\n",
      "est 185 Глубина: 13 результат 0.8405 F1: 0.5967130214917825 Roc_auc 0.7443360811176903\n",
      "est 186 Глубина: 13 результат 0.8415 F1: 0.5982256020278833 Roc_auc 0.7449630403653392\n",
      "est 187 Глубина: 13 результат 0.841 F1: 0.5964467005076142 Roc_auc 0.7437284724641047\n",
      "est 188 Глубина: 13 результат 0.8415 F1: 0.5972045743329097 Roc_auc 0.744041952087929\n",
      "est 189 Глубина: 13 результат 0.841 F1: 0.5954198473282443 Roc_auc 0.7428073841866946\n",
      "est 170 Глубина: 14 результат 0.8425 F1: 0.5956354300385109 Roc_auc 0.7419056465033477\n",
      "est 171 Глубина: 14 результат 0.843 F1: 0.596401028277635 Roc_auc 0.7422191261271721\n",
      "est 172 Глубина: 14 результат 0.8425 F1: 0.5956354300385109 Roc_auc 0.7419056465033477\n",
      "est 173 Глубина: 14 результат 0.843 F1: 0.596401028277635 Roc_auc 0.7422191261271721\n",
      "est 174 Глубина: 14 результат 0.8435 F1: 0.5971685971685972 Roc_auc 0.7425326057509966\n",
      "est 175 Глубина: 14 результат 0.842 F1: 0.5938303341902313 Roc_auc 0.7406710786021131\n",
      "est 176 Глубина: 14 результат 0.8425 F1: 0.5956354300385109 Roc_auc 0.7419056465033477\n",
      "est 177 Глубина: 14 результат 0.843 F1: 0.596401028277635 Roc_auc 0.7422191261271721\n",
      "est 178 Глубина: 14 результат 0.843 F1: 0.596401028277635 Roc_auc 0.7422191261271721\n",
      "est 179 Глубина: 14 результат 0.8435 F1: 0.5971685971685972 Roc_auc 0.7425326057509966\n",
      "est 180 Глубина: 14 результат 0.8435 F1: 0.5971685971685972 Roc_auc 0.7425326057509966\n",
      "est 181 Глубина: 14 результат 0.842 F1: 0.5948717948717949 Roc_auc 0.7415921668795232\n",
      "est 182 Глубина: 14 результат 0.843 F1: 0.596401028277635 Roc_auc 0.7422191261271721\n",
      "est 183 Глубина: 14 результат 0.843 F1: 0.596401028277635 Roc_auc 0.7422191261271721\n",
      "est 184 Глубина: 14 результат 0.8435 F1: 0.5971685971685972 Roc_auc 0.7425326057509966\n",
      "est 185 Глубина: 14 результат 0.842 F1: 0.5938303341902313 Roc_auc 0.7406710786021131\n",
      "est 186 Глубина: 14 результат 0.842 F1: 0.5948717948717949 Roc_auc 0.7415921668795232\n",
      "est 187 Глубина: 14 результат 0.842 F1: 0.5948717948717949 Roc_auc 0.7415921668795232\n",
      "est 188 Глубина: 14 результат 0.842 F1: 0.5948717948717949 Roc_auc 0.7415921668795232\n",
      "est 189 Глубина: 14 результат 0.842 F1: 0.5938303341902313 Roc_auc 0.7406710786021131\n",
      "est 170 Глубина: 15 результат 0.8455 F1: 0.5971316818774446 Roc_auc 0.741023259414064\n",
      "est 171 Глубина: 15 результат 0.8465 F1: 0.5997392438070404 Roc_auc 0.742571306939123\n",
      "est 172 Глубина: 15 результат 0.846 F1: 0.597911227154047 Roc_auc 0.7413367390378885\n",
      "est 173 Глубина: 15 результат 0.8455 F1: 0.5971316818774446 Roc_auc 0.741023259414064\n",
      "est 174 Глубина: 15 результат 0.8445 F1: 0.5945241199478488 Roc_auc 0.739475211889005\n",
      "est 175 Глубина: 15 результат 0.845 F1: 0.5963541666666666 Roc_auc 0.7407097797902397\n",
      "est 176 Глубина: 15 результат 0.8455 F1: 0.5971316818774446 Roc_auc 0.741023259414064\n",
      "est 177 Глубина: 15 результат 0.845 F1: 0.5963541666666666 Roc_auc 0.7407097797902397\n",
      "est 178 Глубина: 15 результат 0.845 F1: 0.5963541666666666 Roc_auc 0.7407097797902397\n",
      "est 179 Глубина: 15 результат 0.843 F1: 0.5911458333333333 Roc_auc 0.7376136847401215\n",
      "est 180 Глубина: 15 результат 0.845 F1: 0.5963541666666666 Roc_auc 0.7407097797902397\n",
      "est 181 Глубина: 15 результат 0.8425 F1: 0.5893089960886571 Roc_auc 0.7363791168388869\n",
      "est 182 Глубина: 15 результат 0.843 F1: 0.5911458333333333 Roc_auc 0.7376136847401215\n",
      "est 183 Глубина: 15 результат 0.8425 F1: 0.5893089960886571 Roc_auc 0.7363791168388869\n",
      "est 184 Глубина: 15 результат 0.844 F1: 0.59375 Roc_auc 0.7391617322651804\n",
      "est 185 Глубина: 15 результат 0.8435 F1: 0.5919165580182529 Roc_auc 0.7379271643639459\n",
      "est 186 Глубина: 15 результат 0.844 F1: 0.5926892950391645 Roc_auc 0.7382406439877705\n",
      "est 187 Глубина: 15 результат 0.844 F1: 0.59375 Roc_auc 0.7391617322651804\n",
      "est 188 Глубина: 15 результат 0.8445 F1: 0.5955786736020805 Roc_auc 0.7403963001664151\n",
      "est 189 Глубина: 15 результат 0.844 F1: 0.59375 Roc_auc 0.7391617322651804\n",
      "est 170 Глубина: 16 результат 0.8425 F1: 0.5903771131339401 Roc_auc 0.7373002051162971\n",
      "est 171 Глубина: 16 результат 0.844 F1: 0.59375 Roc_auc 0.7391617322651804\n",
      "est 172 Глубина: 16 результат 0.8435 F1: 0.5929778933680104 Roc_auc 0.738848252641356\n",
      "est 173 Глубина: 16 результат 0.8445 F1: 0.5945241199478488 Roc_auc 0.739475211889005\n",
      "est 174 Глубина: 16 результат 0.843 F1: 0.5922077922077922 Roc_auc 0.7385347730175317\n",
      "est 175 Глубина: 16 результат 0.8425 F1: 0.5903771131339401 Roc_auc 0.7373002051162971\n",
      "est 176 Глубина: 16 результат 0.842 F1: 0.5896103896103896 Roc_auc 0.7369867254924726\n",
      "est 177 Глубина: 16 результат 0.843 F1: 0.5911458333333333 Roc_auc 0.7376136847401215\n",
      "est 178 Глубина: 16 результат 0.8425 F1: 0.5893089960886571 Roc_auc 0.7363791168388869\n",
      "est 179 Глубина: 16 результат 0.8425 F1: 0.5893089960886571 Roc_auc 0.7363791168388869\n",
      "est 180 Глубина: 16 результат 0.8415 F1: 0.58777633289987 Roc_auc 0.735752157591238\n",
      "est 181 Глубина: 16 результат 0.843 F1: 0.5911458333333333 Roc_auc 0.7376136847401215\n",
      "est 182 Глубина: 16 результат 0.842 F1: 0.5885416666666667 Roc_auc 0.7360656372150626\n",
      "est 183 Глубина: 16 результат 0.843 F1: 0.5900783289817232 Roc_auc 0.7366925964627113\n",
      "est 184 Глубина: 16 результат 0.8425 F1: 0.5893089960886571 Roc_auc 0.7363791168388869\n",
      "est 185 Глубина: 16 результат 0.8415 F1: 0.58777633289987 Roc_auc 0.735752157591238\n",
      "est 186 Глубина: 16 результат 0.8415 F1: 0.58777633289987 Roc_auc 0.735752157591238\n",
      "est 187 Глубина: 16 результат 0.8425 F1: 0.5893089960886571 Roc_auc 0.7363791168388869\n",
      "est 188 Глубина: 16 результат 0.8405 F1: 0.5862516212710766 Roc_auc 0.7351251983435891\n",
      "est 189 Глубина: 16 результат 0.843 F1: 0.5911458333333333 Roc_auc 0.7376136847401215\n",
      "est 170 Глубина: 17 результат 0.846 F1: 0.597911227154047 Roc_auc 0.7413367390378885\n",
      "est 171 Глубина: 17 результат 0.846 F1: 0.597911227154047 Roc_auc 0.7413367390378885\n",
      "est 172 Глубина: 17 результат 0.8465 F1: 0.5986928104575162 Roc_auc 0.7416502186617131\n",
      "est 173 Глубина: 17 результат 0.8475 F1: 0.6013071895424836 Roc_auc 0.7431982661867719\n",
      "est 174 Глубина: 17 результат 0.846 F1: 0.597911227154047 Roc_auc 0.7413367390378885\n",
      "est 175 Глубина: 17 результат 0.8465 F1: 0.5997392438070404 Roc_auc 0.742571306939123\n",
      "est 176 Глубина: 17 результат 0.846 F1: 0.597911227154047 Roc_auc 0.7413367390378885\n",
      "est 177 Глубина: 17 результат 0.8465 F1: 0.5997392438070404 Roc_auc 0.742571306939123\n",
      "est 178 Глубина: 17 результат 0.846 F1: 0.597911227154047 Roc_auc 0.7413367390378885\n",
      "est 179 Глубина: 17 результат 0.8475 F1: 0.6023468057366362 Roc_auc 0.7441193544641822\n",
      "est 180 Глубина: 17 результат 0.846 F1: 0.597911227154047 Roc_auc 0.7413367390378885\n",
      "est 181 Глубина: 17 результат 0.848 F1: 0.6041666666666667 Roc_auc 0.7453539223654168\n",
      "est 182 Глубина: 17 результат 0.8475 F1: 0.6002621231979031 Roc_auc 0.7422771779093619\n",
      "est 183 Глубина: 17 результат 0.848 F1: 0.6031331592689296 Roc_auc 0.7444328340880065\n",
      "est 184 Глубина: 17 результат 0.8475 F1: 0.6013071895424836 Roc_auc 0.7431982661867719\n",
      "est 185 Глубина: 17 результат 0.847 F1: 0.6015625000000001 Roc_auc 0.7438058748403577\n",
      "est 186 Глубина: 17 результат 0.8465 F1: 0.6007802340702211 Roc_auc 0.7434923952165331\n",
      "est 187 Глубина: 17 результат 0.847 F1: 0.6015625000000001 Roc_auc 0.7438058748403577\n",
      "est 188 Глубина: 17 результат 0.8465 F1: 0.5997392438070404 Roc_auc 0.742571306939123\n",
      "est 189 Глубина: 17 результат 0.847 F1: 0.6015625000000001 Roc_auc 0.7438058748403577\n",
      "est 170 Глубина: 18 результат 0.8495 F1: 0.5970548862115127 Roc_auc 0.7380045667401989\n",
      "est 171 Глубина: 18 результат 0.8505 F1: 0.5997322623828647 Roc_auc 0.739552614265258\n",
      "est 172 Глубина: 18 результат 0.8505 F1: 0.6008010680907877 Roc_auc 0.7404737025426681\n",
      "est 173 Глубина: 18 результат 0.851 F1: 0.6016042780748663 Roc_auc 0.7407871821664925\n",
      "est 174 Глубина: 18 результат 0.8495 F1: 0.5970548862115127 Roc_auc 0.7380045667401989\n",
      "est 175 Глубина: 18 результат 0.851 F1: 0.6026666666666666 Roc_auc 0.7417082704439026\n",
      "est 176 Глубина: 18 результат 0.8515 F1: 0.6045272969374167 Roc_auc 0.7429428383451372\n",
      "est 177 Глубина: 18 результат 0.851 F1: 0.6026666666666666 Roc_auc 0.7417082704439026\n",
      "est 178 Глубина: 18 результат 0.851 F1: 0.6026666666666666 Roc_auc 0.7417082704439026\n",
      "est 179 Глубина: 18 результат 0.8515 F1: 0.6034712950600801 Roc_auc 0.7420217500677271\n",
      "est 180 Глубина: 18 результат 0.8515 F1: 0.6045272969374167 Roc_auc 0.7429428383451372\n",
      "est 181 Глубина: 18 результат 0.852 F1: 0.6053333333333333 Roc_auc 0.7432563179689616\n",
      "est 182 Глубина: 18 результат 0.8515 F1: 0.6045272969374167 Roc_auc 0.7429428383451372\n",
      "est 183 Глубина: 18 результат 0.8515 F1: 0.6055776892430278 Roc_auc 0.7438639266225473\n",
      "est 184 Глубина: 18 результат 0.8515 F1: 0.6045272969374167 Roc_auc 0.7429428383451372\n",
      "est 185 Глубина: 18 результат 0.852 F1: 0.6074270557029179 Roc_auc 0.745098494523782\n",
      "est 186 Глубина: 18 результат 0.8515 F1: 0.6045272969374167 Roc_auc 0.7429428383451372\n",
      "est 187 Глубина: 18 результат 0.852 F1: 0.6053333333333333 Roc_auc 0.7432563179689616\n",
      "est 188 Глубина: 18 результат 0.8515 F1: 0.6024096385542169 Roc_auc 0.741100661790317\n",
      "est 189 Глубина: 18 результат 0.8525 F1: 0.607190412782956 Roc_auc 0.7444908858701962\n",
      "est 170 Глубина: 19 результат 0.8435 F1: 0.5886990801576873 Roc_auc 0.7351638995317157\n",
      "est 171 Глубина: 19 результат 0.8435 F1: 0.5897771952817825 Roc_auc 0.7360849878091257\n",
      "est 172 Глубина: 19 результат 0.843 F1: 0.5879265091863516 Roc_auc 0.7348504199078911\n",
      "est 173 Глубина: 19 результат 0.843 F1: 0.5879265091863516 Roc_auc 0.7348504199078911\n",
      "est 174 Глубина: 19 результат 0.843 F1: 0.5868421052631579 Roc_auc 0.733929331630481\n",
      "est 175 Глубина: 19 результат 0.843 F1: 0.5868421052631579 Roc_auc 0.733929331630481\n",
      "est 176 Глубина: 19 результат 0.8435 F1: 0.5886990801576873 Roc_auc 0.7351638995317157\n",
      "est 177 Глубина: 19 результат 0.8435 F1: 0.5886990801576873 Roc_auc 0.7351638995317157\n",
      "est 178 Глубина: 19 результат 0.8445 F1: 0.5902503293807642 Roc_auc 0.7357908587793646\n",
      "est 179 Глубина: 19 результат 0.8445 F1: 0.5902503293807642 Roc_auc 0.7357908587793646\n",
      "est 180 Глубина: 19 результат 0.8445 F1: 0.5902503293807642 Roc_auc 0.7357908587793646\n",
      "est 181 Глубина: 19 результат 0.845 F1: 0.5910290237467019 Roc_auc 0.736104338403189\n",
      "est 182 Глубина: 19 результат 0.844 F1: 0.5894736842105263 Roc_auc 0.7354773791555402\n",
      "est 183 Глубина: 19 результат 0.844 F1: 0.5894736842105263 Roc_auc 0.7354773791555402\n",
      "est 184 Глубина: 19 результат 0.844 F1: 0.5894736842105263 Roc_auc 0.7354773791555402\n",
      "est 185 Глубина: 19 результат 0.844 F1: 0.5894736842105263 Roc_auc 0.7354773791555402\n",
      "est 186 Глубина: 19 результат 0.8455 F1: 0.5928853754940713 Roc_auc 0.7373389063044236\n",
      "est 187 Глубина: 19 результат 0.8455 F1: 0.5928853754940713 Roc_auc 0.7373389063044236\n",
      "est 188 Глубина: 19 результат 0.847 F1: 0.5973684210526315 Roc_auc 0.7401215217307171\n",
      "est 189 Глубина: 19 результат 0.846 F1: 0.5947368421052632 Roc_auc 0.7385734742056581\n",
      "est 170 Глубина: 20 результат 0.8465 F1: 0.5933774834437086 Roc_auc 0.7370447772746623\n",
      "est 171 Глубина: 20 результат 0.846 F1: 0.5936675461741425 Roc_auc 0.737652385928248\n",
      "est 172 Глубина: 20 результат 0.848 F1: 0.5978835978835979 Roc_auc 0.7398273927009559\n",
      "est 173 Глубина: 20 результат 0.8485 F1: 0.5986754966887416 Roc_auc 0.7401408723247803\n",
      "est 174 Глубина: 20 результат 0.8485 F1: 0.5976095617529881 Roc_auc 0.7392197840473703\n",
      "est 175 Глубина: 20 результат 0.8485 F1: 0.5986754966887416 Roc_auc 0.7401408723247803\n",
      "est 176 Глубина: 20 результат 0.8485 F1: 0.5976095617529881 Roc_auc 0.7392197840473703\n",
      "est 177 Глубина: 20 результат 0.8475 F1: 0.5960264900662252 Roc_auc 0.7385928247997213\n",
      "est 178 Глубина: 20 результат 0.8475 F1: 0.5960264900662252 Roc_auc 0.7385928247997213\n",
      "est 179 Глубина: 20 результат 0.847 F1: 0.5952380952380952 Roc_auc 0.7382793451758969\n",
      "est 180 Глубина: 20 результат 0.848 F1: 0.596816976127321 Roc_auc 0.7389063044235459\n",
      "est 181 Глубина: 20 результат 0.848 F1: 0.5978835978835979 Roc_auc 0.7398273927009559\n",
      "est 182 Глубина: 20 результат 0.8485 F1: 0.5976095617529881 Roc_auc 0.7392197840473703\n",
      "est 183 Глубина: 20 результат 0.8485 F1: 0.5976095617529881 Roc_auc 0.7392197840473703\n",
      "est 184 Глубина: 20 результат 0.848 F1: 0.596816976127321 Roc_auc 0.7389063044235459\n",
      "est 185 Глубина: 20 результат 0.8485 F1: 0.5976095617529881 Roc_auc 0.7392197840473703\n",
      "est 186 Глубина: 20 результат 0.8485 F1: 0.5976095617529881 Roc_auc 0.7392197840473703\n",
      "est 187 Глубина: 20 результат 0.849 F1: 0.598404255319149 Roc_auc 0.7395332636711947\n",
      "est 188 Глубина: 20 результат 0.8495 F1: 0.5992010652463382 Roc_auc 0.7398467432950191\n",
      "est 189 Глубина: 20 результат 0.8495 F1: 0.5981308411214954 Roc_auc 0.7389256550176091\n",
      "est 170 Глубина: 21 результат 0.8455 F1: 0.5896414342629483 Roc_auc 0.7345756414721932\n",
      "est 171 Глубина: 21 результат 0.8445 F1: 0.5880794701986755 Roc_auc 0.7339486822245442\n",
      "est 172 Глубина: 21 результат 0.8455 F1: 0.5896414342629483 Roc_auc 0.7345756414721932\n",
      "est 173 Глубина: 21 результат 0.845 F1: 0.5888594164456233 Roc_auc 0.7342621618483688\n",
      "est 174 Глубина: 21 результат 0.845 F1: 0.5888594164456233 Roc_auc 0.7342621618483688\n",
      "est 175 Глубина: 21 результат 0.8445 F1: 0.5880794701986755 Roc_auc 0.7339486822245442\n",
      "est 176 Глубина: 21 результат 0.8435 F1: 0.5854304635761589 Roc_auc 0.7324006346994852\n",
      "est 177 Глубина: 21 результат 0.8435 F1: 0.5865257595772787 Roc_auc 0.7333217229768955\n",
      "est 178 Глубина: 21 результат 0.845 F1: 0.5888594164456233 Roc_auc 0.7342621618483688\n",
      "est 179 Глубина: 21 результат 0.844 F1: 0.5873015873015872 Roc_auc 0.7336352026007199\n",
      "est 180 Глубина: 21 результат 0.8445 F1: 0.5880794701986755 Roc_auc 0.7339486822245442\n",
      "est 181 Глубина: 21 результат 0.843 F1: 0.5868421052631579 Roc_auc 0.733929331630481\n",
      "est 182 Глубина: 21 результат 0.843 F1: 0.5846560846560848 Roc_auc 0.7320871550756608\n",
      "est 183 Глубина: 21 результат 0.8435 F1: 0.5865257595772787 Roc_auc 0.7333217229768955\n",
      "est 184 Глубина: 21 результат 0.8435 F1: 0.5865257595772787 Roc_auc 0.7333217229768955\n",
      "est 185 Глубина: 21 результат 0.8435 F1: 0.5865257595772787 Roc_auc 0.7333217229768955\n",
      "est 186 Глубина: 21 результат 0.844 F1: 0.5862068965517241 Roc_auc 0.7327141143233097\n",
      "est 187 Глубина: 21 результат 0.844 F1: 0.5862068965517241 Roc_auc 0.7327141143233097\n",
      "est 188 Глубина: 21 результат 0.8445 F1: 0.5869853917662683 Roc_auc 0.7330275939471341\n",
      "est 189 Глубина: 21 результат 0.844 F1: 0.5862068965517241 Roc_auc 0.7327141143233097\n",
      "est 170 Глубина: 22 результат 0.849 F1: 0.5962566844919786 Roc_auc 0.7376910871163744\n",
      "est 171 Глубина: 22 результат 0.849 F1: 0.5962566844919786 Roc_auc 0.7376910871163744\n",
      "est 172 Глубина: 22 результат 0.851 F1: 0.5994623655913978 Roc_auc 0.7389450056116722\n",
      "est 173 Глубина: 22 результат 0.849 F1: 0.5962566844919786 Roc_auc 0.7376910871163744\n",
      "est 174 Глубина: 22 результат 0.85 F1: 0.5978552278820375 Roc_auc 0.7383180463640233\n",
      "est 175 Глубина: 22 результат 0.849 F1: 0.5962566844919786 Roc_auc 0.7376910871163744\n",
      "est 176 Глубина: 22 результат 0.849 F1: 0.5962566844919786 Roc_auc 0.7376910871163744\n",
      "est 177 Глубина: 22 результат 0.8475 F1: 0.5938748335552596 Roc_auc 0.7367506482449011\n",
      "est 178 Глубина: 22 результат 0.8485 F1: 0.5943775100401607 Roc_auc 0.73645651921514\n",
      "est 179 Глубина: 22 результат 0.848 F1: 0.5935828877005348 Roc_auc 0.7361430395913156\n",
      "est 180 Глубина: 22 результат 0.849 F1: 0.5951742627345844 Roc_auc 0.7367699988389644\n",
      "est 181 Глубина: 22 результат 0.849 F1: 0.5951742627345844 Roc_auc 0.7367699988389644\n",
      "est 182 Глубина: 22 результат 0.8495 F1: 0.5959731543624162 Roc_auc 0.7370834784627889\n",
      "est 183 Глубина: 22 результат 0.8495 F1: 0.5970548862115127 Roc_auc 0.7380045667401989\n",
      "est 184 Глубина: 22 результат 0.851 F1: 0.5994623655913978 Roc_auc 0.7389450056116722\n",
      "est 185 Глубина: 22 результат 0.85 F1: 0.5978552278820375 Roc_auc 0.7383180463640233\n",
      "est 186 Глубина: 22 результат 0.8495 F1: 0.5959731543624162 Roc_auc 0.7370834784627889\n",
      "est 187 Глубина: 22 результат 0.849 F1: 0.5951742627345844 Roc_auc 0.7367699988389644\n",
      "est 188 Глубина: 22 результат 0.849 F1: 0.5951742627345844 Roc_auc 0.7367699988389644\n",
      "est 189 Глубина: 22 результат 0.8505 F1: 0.5975773889636607 Roc_auc 0.7377104377104378\n",
      "est 170 Глубина: 23 результат 0.855 F1: 0.6102150537634409 Roc_auc 0.7451371957119084\n",
      "est 171 Глубина: 23 результат 0.8525 F1: 0.607190412782956 Roc_auc 0.7444908858701962\n",
      "est 172 Глубина: 23 результат 0.853 F1: 0.6058981233243967 Roc_auc 0.7429621889392004\n",
      "est 173 Глубина: 23 результат 0.853 F1: 0.608 Roc_auc 0.7448043654940206\n",
      "est 174 Глубина: 23 результат 0.854 F1: 0.6096256684491979 Roc_auc 0.7454313247416695\n",
      "est 175 Глубина: 23 результат 0.853 F1: 0.608 Roc_auc 0.7448043654940206\n",
      "est 176 Глубина: 23 результат 0.8535 F1: 0.6088117489986649 Roc_auc 0.745117845117845\n",
      "est 177 Глубина: 23 результат 0.8515 F1: 0.6055776892430278 Roc_auc 0.7438639266225473\n",
      "est 178 Глубина: 23 результат 0.8535 F1: 0.607764390896921 Roc_auc 0.744196756840435\n",
      "est 179 Глубина: 23 результат 0.8515 F1: 0.6055776892430278 Roc_auc 0.7438639266225473\n",
      "est 180 Глубина: 23 результат 0.8535 F1: 0.607764390896921 Roc_auc 0.744196756840435\n",
      "est 181 Глубина: 23 результат 0.853 F1: 0.6069518716577541 Roc_auc 0.7438832772166105\n",
      "est 182 Глубина: 23 результат 0.8535 F1: 0.607764390896921 Roc_auc 0.744196756840435\n",
      "est 183 Глубина: 23 результат 0.853 F1: 0.608 Roc_auc 0.7448043654940206\n",
      "est 184 Глубина: 23 результат 0.8545 F1: 0.6104417670682731 Roc_auc 0.745744804365494\n",
      "est 185 Глубина: 23 результат 0.854 F1: 0.6096256684491979 Roc_auc 0.7454313247416695\n",
      "est 186 Глубина: 23 результат 0.8535 F1: 0.6067114093959732 Roc_auc 0.7432756685630248\n",
      "est 187 Глубина: 23 результат 0.854 F1: 0.6085790884718498 Roc_auc 0.7445102364642594\n",
      "est 188 Глубина: 23 результат 0.853 F1: 0.6037735849056604 Roc_auc 0.7411200123843803\n",
      "est 189 Глубина: 23 результат 0.854 F1: 0.6085790884718498 Roc_auc 0.7445102364642594\n",
      "est 170 Глубина: 24 результат 0.8525 F1: 0.6061415220293724 Roc_auc 0.7435697975927861\n",
      "est 171 Глубина: 24 результат 0.852 F1: 0.6074270557029179 Roc_auc 0.745098494523782\n",
      "est 172 Глубина: 24 результат 0.8525 F1: 0.607190412782956 Roc_auc 0.7444908858701962\n",
      "est 173 Глубина: 24 результат 0.8525 F1: 0.6082337317397079 Roc_auc 0.7454119741476064\n",
      "est 174 Глубина: 24 результат 0.852 F1: 0.6063829787234044 Roc_auc 0.7441774062463717\n",
      "est 175 Глубина: 24 результат 0.8525 F1: 0.6103038309114928 Roc_auc 0.7472541507024265\n",
      "est 176 Глубина: 24 результат 0.8515 F1: 0.6055776892430278 Roc_auc 0.7438639266225473\n",
      "est 177 Глубина: 24 результат 0.852 F1: 0.6094986807387863 Roc_auc 0.7469406710786022\n",
      "est 178 Глубина: 24 результат 0.852 F1: 0.6063829787234044 Roc_auc 0.7441774062463717\n",
      "est 179 Глубина: 24 результат 0.852 F1: 0.6084656084656085 Roc_auc 0.7460195828011918\n",
      "est 180 Глубина: 24 результат 0.853 F1: 0.6090425531914894 Roc_auc 0.7457254537714308\n",
      "est 181 Глубина: 24 результат 0.853 F1: 0.6111111111111112 Roc_auc 0.7475676303262511\n",
      "est 182 Глубина: 24 результат 0.852 F1: 0.6063829787234044 Roc_auc 0.7441774062463717\n",
      "est 183 Глубина: 24 результат 0.852 F1: 0.6084656084656085 Roc_auc 0.7460195828011918\n",
      "est 184 Глубина: 24 результат 0.852 F1: 0.6063829787234044 Roc_auc 0.7441774062463717\n",
      "est 185 Глубина: 24 результат 0.853 F1: 0.610079575596817 Roc_auc 0.7466465420488408\n",
      "est 186 Глубина: 24 результат 0.852 F1: 0.6063829787234044 Roc_auc 0.7441774062463717\n",
      "est 187 Глубина: 24 результат 0.8515 F1: 0.6066225165562914 Roc_auc 0.7447850148999574\n",
      "est 188 Глубина: 24 результат 0.852 F1: 0.6074270557029179 Roc_auc 0.745098494523782\n",
      "est 189 Глубина: 24 результат 0.8525 F1: 0.6092715231788078 Roc_auc 0.7463330624250164\n",
      "est 170 Глубина: 25 результат 0.851 F1: 0.6026666666666666 Roc_auc 0.7417082704439026\n",
      "est 171 Глубина: 25 результат 0.85 F1: 0.6021220159151194 Roc_auc 0.7420023994736638\n",
      "est 172 Глубина: 25 результат 0.851 F1: 0.6026666666666666 Roc_auc 0.7417082704439026\n",
      "est 173 Глубина: 25 результат 0.8495 F1: 0.6013245033112582 Roc_auc 0.7416889198498394\n",
      "est 174 Глубина: 25 результат 0.85 F1: 0.6010638297872342 Roc_auc 0.7410813111962536\n",
      "est 175 Глубина: 25 результат 0.8475 F1: 0.5981554677206851 Roc_auc 0.7404350013545415\n",
      "est 176 Глубина: 25 результат 0.8485 F1: 0.5997357992073977 Roc_auc 0.7410619606021904\n",
      "est 177 Глубина: 25 результат 0.8485 F1: 0.5997357992073977 Roc_auc 0.7410619606021904\n",
      "est 178 Глубина: 25 результат 0.85 F1: 0.6021220159151194 Roc_auc 0.7420023994736638\n",
      "est 179 Глубина: 25 результат 0.8495 F1: 0.6013245033112582 Roc_auc 0.7416889198498394\n",
      "est 180 Глубина: 25 результат 0.85 F1: 0.6021220159151194 Roc_auc 0.7420023994736638\n",
      "est 181 Глубина: 25 результат 0.8495 F1: 0.6013245033112582 Roc_auc 0.7416889198498394\n",
      "est 182 Глубина: 25 результат 0.85 F1: 0.6021220159151194 Roc_auc 0.7420023994736638\n",
      "est 183 Глубина: 25 результат 0.8505 F1: 0.6039735099337749 Roc_auc 0.7432369673748984\n",
      "est 184 Глубина: 25 результат 0.85 F1: 0.6021220159151194 Roc_auc 0.7420023994736638\n",
      "est 185 Глубина: 25 результат 0.85 F1: 0.6031746031746031 Roc_auc 0.742923487751074\n",
      "est 186 Глубина: 25 результат 0.851 F1: 0.6037234042553192 Roc_auc 0.7426293587213129\n",
      "est 187 Глубина: 25 результат 0.8505 F1: 0.6039735099337749 Roc_auc 0.7432369673748984\n",
      "est 188 Глубина: 25 результат 0.852 F1: 0.6063829787234044 Roc_auc 0.7441774062463717\n",
      "est 189 Глубина: 25 результат 0.852 F1: 0.6063829787234044 Roc_auc 0.7441774062463717\n",
      "est 170 Глубина: 26 результат 0.8505 F1: 0.6018641810918774 Roc_auc 0.7413947908200783\n",
      "est 171 Глубина: 26 результат 0.849 F1: 0.6005291005291006 Roc_auc 0.7413754402260149\n",
      "est 172 Глубина: 26 результат 0.851 F1: 0.6037234042553192 Roc_auc 0.7426293587213129\n",
      "est 173 Глубина: 26 результат 0.8495 F1: 0.6034255599472991 Roc_auc 0.7435310964046596\n",
      "est 174 Глубина: 26 результат 0.851 F1: 0.6047745358090186 Roc_auc 0.7435504469987227\n",
      "est 175 Глубина: 26 результат 0.849 F1: 0.6015831134564644 Roc_auc 0.7422965285034251\n",
      "est 176 Глубина: 26 результат 0.8495 F1: 0.6013245033112582 Roc_auc 0.7416889198498394\n",
      "est 177 Глубина: 26 результат 0.8495 F1: 0.6023778071334214 Roc_auc 0.7426100081272494\n",
      "est 178 Глубина: 26 результат 0.85 F1: 0.6021220159151194 Roc_auc 0.7420023994736638\n",
      "est 179 Глубина: 26 результат 0.85 F1: 0.6042216358839049 Roc_auc 0.7438445760284841\n",
      "est 180 Глубина: 26 результат 0.85 F1: 0.6031746031746031 Roc_auc 0.742923487751074\n",
      "est 181 Глубина: 26 результат 0.8505 F1: 0.6050198150594451 Roc_auc 0.7441580556523086\n",
      "est 182 Глубина: 26 результат 0.85 F1: 0.6031746031746031 Roc_auc 0.742923487751074\n",
      "est 183 Глубина: 26 результат 0.85 F1: 0.6042216358839049 Roc_auc 0.7438445760284841\n",
      "est 184 Глубина: 26 результат 0.851 F1: 0.6058201058201059 Roc_auc 0.7444715352761331\n",
      "est 185 Глубина: 26 результат 0.851 F1: 0.6068601583113455 Roc_auc 0.7453926235535431\n",
      "est 186 Глубина: 26 результат 0.8515 F1: 0.6066225165562914 Roc_auc 0.7447850148999574\n",
      "est 187 Глубина: 26 результат 0.85 F1: 0.6052631578947368 Roc_auc 0.7447656643058942\n",
      "est 188 Глубина: 26 результат 0.852 F1: 0.6074270557029179 Roc_auc 0.745098494523782\n",
      "est 189 Глубина: 26 результат 0.8515 F1: 0.6066225165562914 Roc_auc 0.7447850148999574\n",
      "est 170 Глубина: 27 результат 0.8505 F1: 0.6008010680907877 Roc_auc 0.7404737025426681\n",
      "est 171 Глубина: 27 результат 0.848 F1: 0.5978835978835979 Roc_auc 0.7398273927009559\n",
      "est 172 Глубина: 27 результат 0.85 F1: 0.6 Roc_auc 0.7401602229188436\n",
      "est 173 Глубина: 27 результат 0.849 F1: 0.6015831134564644 Roc_auc 0.7422965285034251\n",
      "est 174 Глубина: 27 результат 0.8495 F1: 0.6013245033112582 Roc_auc 0.7416889198498394\n",
      "est 175 Глубина: 27 результат 0.849 F1: 0.6005291005291006 Roc_auc 0.7413754402260149\n",
      "est 176 Глубина: 27 результат 0.849 F1: 0.5994694960212201 Roc_auc 0.7404543519486049\n",
      "est 177 Глубина: 27 результат 0.849 F1: 0.6005291005291006 Roc_auc 0.7413754402260149\n",
      "est 178 Глубина: 27 результат 0.8495 F1: 0.600265604249668 Roc_auc 0.7407678315724292\n",
      "est 179 Глубина: 27 результат 0.8505 F1: 0.6050198150594451 Roc_auc 0.7441580556523086\n",
      "est 180 Глубина: 27 результат 0.8505 F1: 0.6039735099337749 Roc_auc 0.7432369673748984\n",
      "est 181 Глубина: 27 результат 0.851 F1: 0.6058201058201059 Roc_auc 0.7444715352761331\n",
      "est 182 Глубина: 27 результат 0.851 F1: 0.6047745358090186 Roc_auc 0.7435504469987227\n",
      "est 183 Глубина: 27 результат 0.8505 F1: 0.6050198150594451 Roc_auc 0.7441580556523086\n",
      "est 184 Глубина: 27 результат 0.8515 F1: 0.6066225165562914 Roc_auc 0.7447850148999574\n",
      "est 185 Глубина: 27 результат 0.8515 F1: 0.6066225165562914 Roc_auc 0.7447850148999574\n",
      "est 186 Глубина: 27 результат 0.852 F1: 0.6074270557029179 Roc_auc 0.745098494523782\n",
      "est 187 Глубина: 27 результат 0.851 F1: 0.6058201058201059 Roc_auc 0.7444715352761331\n",
      "est 188 Глубина: 27 результат 0.8525 F1: 0.607190412782956 Roc_auc 0.7444908858701962\n",
      "est 189 Глубина: 27 результат 0.852 F1: 0.6074270557029179 Roc_auc 0.745098494523782\n",
      "est 170 Глубина: 28 результат 0.8505 F1: 0.6008010680907877 Roc_auc 0.7404737025426681\n",
      "est 171 Глубина: 28 результат 0.848 F1: 0.5978835978835979 Roc_auc 0.7398273927009559\n",
      "est 172 Глубина: 28 результат 0.85 F1: 0.6 Roc_auc 0.7401602229188436\n",
      "est 173 Глубина: 28 результат 0.849 F1: 0.6015831134564644 Roc_auc 0.7422965285034251\n",
      "est 174 Глубина: 28 результат 0.8495 F1: 0.6013245033112582 Roc_auc 0.7416889198498394\n",
      "est 175 Глубина: 28 результат 0.849 F1: 0.6005291005291006 Roc_auc 0.7413754402260149\n",
      "est 176 Глубина: 28 результат 0.849 F1: 0.5994694960212201 Roc_auc 0.7404543519486049\n",
      "est 177 Глубина: 28 результат 0.849 F1: 0.6005291005291006 Roc_auc 0.7413754402260149\n",
      "est 178 Глубина: 28 результат 0.8495 F1: 0.600265604249668 Roc_auc 0.7407678315724292\n",
      "est 179 Глубина: 28 результат 0.8505 F1: 0.6050198150594451 Roc_auc 0.7441580556523086\n",
      "est 180 Глубина: 28 результат 0.8505 F1: 0.6039735099337749 Roc_auc 0.7432369673748984\n",
      "est 181 Глубина: 28 результат 0.851 F1: 0.6058201058201059 Roc_auc 0.7444715352761331\n",
      "est 182 Глубина: 28 результат 0.851 F1: 0.6047745358090186 Roc_auc 0.7435504469987227\n",
      "est 183 Глубина: 28 результат 0.8505 F1: 0.6050198150594451 Roc_auc 0.7441580556523086\n",
      "est 184 Глубина: 28 результат 0.8515 F1: 0.6066225165562914 Roc_auc 0.7447850148999574\n",
      "est 185 Глубина: 28 результат 0.8515 F1: 0.6066225165562914 Roc_auc 0.7447850148999574\n",
      "est 186 Глубина: 28 результат 0.852 F1: 0.6074270557029179 Roc_auc 0.745098494523782\n",
      "est 187 Глубина: 28 результат 0.851 F1: 0.6058201058201059 Roc_auc 0.7444715352761331\n",
      "est 188 Глубина: 28 результат 0.8525 F1: 0.607190412782956 Roc_auc 0.7444908858701962\n",
      "est 189 Глубина: 28 результат 0.852 F1: 0.6074270557029179 Roc_auc 0.745098494523782\n",
      "est 170 Глубина: 29 результат 0.8505 F1: 0.6008010680907877 Roc_auc 0.7404737025426681\n",
      "est 171 Глубина: 29 результат 0.848 F1: 0.5978835978835979 Roc_auc 0.7398273927009559\n",
      "est 172 Глубина: 29 результат 0.85 F1: 0.6 Roc_auc 0.7401602229188436\n",
      "est 173 Глубина: 29 результат 0.849 F1: 0.6015831134564644 Roc_auc 0.7422965285034251\n",
      "est 174 Глубина: 29 результат 0.8495 F1: 0.6013245033112582 Roc_auc 0.7416889198498394\n",
      "est 175 Глубина: 29 результат 0.849 F1: 0.6005291005291006 Roc_auc 0.7413754402260149\n",
      "est 176 Глубина: 29 результат 0.849 F1: 0.5994694960212201 Roc_auc 0.7404543519486049\n",
      "est 177 Глубина: 29 результат 0.849 F1: 0.6005291005291006 Roc_auc 0.7413754402260149\n",
      "est 178 Глубина: 29 результат 0.8495 F1: 0.600265604249668 Roc_auc 0.7407678315724292\n",
      "est 179 Глубина: 29 результат 0.8505 F1: 0.6050198150594451 Roc_auc 0.7441580556523086\n",
      "est 180 Глубина: 29 результат 0.8505 F1: 0.6039735099337749 Roc_auc 0.7432369673748984\n",
      "est 181 Глубина: 29 результат 0.851 F1: 0.6058201058201059 Roc_auc 0.7444715352761331\n",
      "est 182 Глубина: 29 результат 0.851 F1: 0.6047745358090186 Roc_auc 0.7435504469987227\n",
      "est 183 Глубина: 29 результат 0.8505 F1: 0.6050198150594451 Roc_auc 0.7441580556523086\n",
      "est 184 Глубина: 29 результат 0.8515 F1: 0.6066225165562914 Roc_auc 0.7447850148999574\n",
      "est 185 Глубина: 29 результат 0.8515 F1: 0.6066225165562914 Roc_auc 0.7447850148999574\n",
      "est 186 Глубина: 29 результат 0.852 F1: 0.6074270557029179 Roc_auc 0.745098494523782\n",
      "est 187 Глубина: 29 результат 0.851 F1: 0.6058201058201059 Roc_auc 0.7444715352761331\n",
      "est 188 Глубина: 29 результат 0.8525 F1: 0.607190412782956 Roc_auc 0.7444908858701962\n",
      "est 189 Глубина: 29 результат 0.852 F1: 0.6074270557029179 Roc_auc 0.745098494523782\n",
      " \n",
      "Лучший результат cлучайного леса F1-меры: 0.6111111111111112 Глубина: 24 n_estimators 181 Roc_auc: 0.7475676303262511\n"
     ]
    }
   ],
   "source": [
    "best_result = 0\n",
    "for depth in range(10,30):\n",
    "    for est in range(170,190):\n",
    "        model_forest = RandomForestClassifier(random_state = state, n_estimators = est, max_depth=depth, n_jobs=-1, class_weight='balanced')\n",
    "        model_forest.fit(features_train_up,target_train_up)\n",
    "        prediction_valid = model_forest.predict(features_valid)\n",
    "        res = model_forest.score(features_valid, target_valid)\n",
    "        F1 = f1_score(target_valid, prediction_valid)\n",
    "        Roc_auc = roc_auc_score(target_valid, prediction_valid)\n",
    "        print('est',est,'Глубина:', depth, 'результат', res, \"F1:\", F1, 'Roc_auc', Roc_auc)  \n",
    "        if best_result < F1:\n",
    "            Roc_auc_f = Roc_auc\n",
    "            best_model = model_forest\n",
    "            best_result = F1\n",
    "            best_depth = depth\n",
    "            best_forest_res_down = best_result\n",
    "            n_estimators = est\n",
    "\n",
    "print(' ')        \n",
    "print('Лучший результат cлучайного леса F1-меры:', best_forest_res_down,'Глубина:', best_depth,'n_estimators', n_estimators,'Roc_auc:', Roc_auc_f)"
   ]
  },
  {
   "cell_type": "code",
   "execution_count": null,
   "metadata": {},
   "outputs": [],
   "source": [
    "Лучший результат cлучайного леса с ув.выборкой и балансом классов F1-меры: 0.6111111111111112 Глубина: 24 n_estimators 181 Roc_auc: 0.7475676303262511"
   ]
  },
  {
   "cell_type": "code",
   "execution_count": null,
   "metadata": {},
   "outputs": [],
   "source": [
    "Возмем модель Случайного леса с увеличенной выборкой и балансом классов и подберем ей остальные гипер параметры."
   ]
  },
  {
   "cell_type": "code",
   "execution_count": null,
   "metadata": {},
   "outputs": [],
   "source": [
    "Изменим гиперпараметр min_samples_split."
   ]
  },
  {
   "cell_type": "code",
   "execution_count": 145,
   "metadata": {},
   "outputs": [
    {
     "name": "stdout",
     "output_type": "stream",
     "text": [
      "Samples_split 2 accuraty 0.853 f1 0.605296343001261\n",
      "Samples_split 3 accuraty 0.8505 f1 0.605296343001261\n",
      "Samples_split 4 accuraty 0.849 f1 0.605296343001261\n",
      "Samples_split 5 accuraty 0.8485 f1 0.605296343001261\n",
      "Samples_split 6 accuraty 0.8475 f1 0.605296343001261\n",
      "Samples_split 7 accuraty 0.8445 f1 0.605296343001261\n",
      "Samples_split 8 accuraty 0.849 f1 0.605296343001261\n",
      "Samples_split 9 accuraty 0.8465 f1 0.605296343001261\n",
      "Samples_split 10 accuraty 0.8475 f1 0.605296343001261\n",
      "Samples_split 11 accuraty 0.846 f1 0.605296343001261\n",
      "Samples_split 12 accuraty 0.848 f1 0.605296343001261\n",
      "Samples_split 13 accuraty 0.8415 f1 0.605296343001261\n",
      "Samples_split 14 accuraty 0.844 f1 0.605296343001261\n",
      "Samples_split 15 accuraty 0.84 f1 0.605296343001261\n",
      "Samples_split 16 accuraty 0.8445 f1 0.605296343001261\n",
      "Samples_split 17 accuraty 0.842 f1 0.605296343001261\n",
      "Samples_split 18 accuraty 0.8435 f1 0.605296343001261\n",
      "Samples_split 19 accuraty 0.8415 f1 0.605296343001261\n",
      "Samples_split 20 accuraty 0.8435 f1 0.605296343001261\n",
      "Samples_split 21 accuraty 0.8435 f1 0.605296343001261\n",
      "Samples_split 22 accuraty 0.8425 f1 0.605296343001261\n",
      "Samples_split 23 accuraty 0.8395 f1 0.605296343001261\n",
      "Samples_split 24 accuraty 0.8425 f1 0.605296343001261\n",
      "Samples_split 25 accuraty 0.841 f1 0.605296343001261\n",
      "Samples_split 26 accuraty 0.8365 f1 0.605296343001261\n",
      "Samples_split 27 accuraty 0.8395 f1 0.605296343001261\n",
      "Samples_split 28 accuraty 0.841 f1 0.605296343001261\n",
      "Samples_split 29 accuraty 0.843 f1 0.605296343001261\n",
      "\n",
      "Best_samples_split 2 F1 = 0.605296343001261\n"
     ]
    }
   ],
   "source": [
    "best_f1= 0\n",
    "sam_n = 0\n",
    "for samples in range(2, 30):\n",
    "    model_forest =  RandomForestClassifier(random_state = state, n_estimators = 181, max_depth=24, min_samples_split = samples, n_jobs=-1,class_weight='balanced')\n",
    "    model_forest.fit(features_train_up, target_train_up)\n",
    "    prediction_valid = model_forest.predict(features_valid)\n",
    "    res = model_forest.score(features_valid, target_valid)\n",
    "    F1 = f1_score(target_valid, prediction_valid)\n",
    "    print('Samples_split', samples,'accuraty', res, 'f1',f1 )\n",
    "    if best_f1 < f1:\n",
    "        sam_n = samples\n",
    "        best_f1 = f1Best_samples_split\n",
    "print( )\n",
    "print('', sam_n, 'F1 =', best_f1)\n"
   ]
  },
  {
   "cell_type": "code",
   "execution_count": null,
   "metadata": {},
   "outputs": [],
   "source": []
  },
  {
   "cell_type": "code",
   "execution_count": null,
   "metadata": {},
   "outputs": [],
   "source": [
    "Изменим гиперпараметр min_samples_leaf."
   ]
  },
  {
   "cell_type": "code",
   "execution_count": 147,
   "metadata": {},
   "outputs": [
    {
     "name": "stdout",
     "output_type": "stream",
     "text": [
      "samples_leaf 1 accuraty 0.853 f1 0.6111111111111112\n",
      "samples_leaf 2 accuraty 0.845 f1 0.5921052631578948\n",
      "samples_leaf 3 accuraty 0.8415 f1 0.5941101152368758\n",
      "samples_leaf 4 accuraty 0.84 f1 0.5918367346938775\n",
      "samples_leaf 5 accuraty 0.8395 f1 0.5982478097622028\n",
      "samples_leaf 6 accuraty 0.8395 f1 0.6032138442521633\n",
      "samples_leaf 7 accuraty 0.835 f1 0.5965770171149144\n",
      "samples_leaf 8 accuraty 0.8355 f1 0.596319018404908\n",
      "samples_leaf 9 accuraty 0.835 f1 0.5985401459854014\n",
      "samples_leaf 10 accuraty 0.833 f1 0.5966183574879227\n",
      "samples_leaf 11 accuraty 0.8335 f1 0.5992779783393503\n",
      "samples_leaf 12 accuraty 0.837 f1 0.6100478468899523\n",
      "samples_leaf 13 accuraty 0.8325 f1 0.5978391356542616\n",
      "samples_leaf 14 accuraty 0.8355 f1 0.6069295101553166\n",
      "samples_leaf 15 accuraty 0.8315 f1 0.5983313468414779\n",
      "samples_leaf 16 accuraty 0.8265 f1 0.593200468933177\n",
      "samples_leaf 17 accuraty 0.8295 f1 0.5954922894424675\n",
      "samples_leaf 18 accuraty 0.828 f1 0.6\n",
      "samples_leaf 19 accuraty 0.826 f1 0.5925058548009368\n",
      "samples_leaf 20 accuraty 0.83 f1 0.6\n",
      "samples_leaf 21 accuraty 0.83 f1 0.5971563981042655\n",
      "samples_leaf 22 accuraty 0.8295 f1 0.6011695906432748\n",
      "samples_leaf 23 accuraty 0.8325 f1 0.6091015169194866\n",
      "samples_leaf 24 accuraty 0.8315 f1 0.6076833527357393\n",
      "samples_leaf 25 accuraty 0.8265 f1 0.5979142526071842\n",
      "samples_leaf 26 accuraty 0.828 f1 0.6018518518518519\n",
      "samples_leaf 27 accuraty 0.8255 f1 0.6002290950744559\n",
      "samples_leaf 28 accuraty 0.826 f1 0.6\n",
      "samples_leaf 29 accuraty 0.823 f1 0.5949656750572082\n",
      "samples_leaf 30 accuraty 0.826 f1 0.6063348416289593\n",
      "samples_leaf 31 accuraty 0.8225 f1 0.5979614949037374\n",
      "samples_leaf 32 accuraty 0.8245 f1 0.5979381443298969\n",
      "samples_leaf 33 accuraty 0.8275 f1 0.6057142857142858\n",
      "samples_leaf 34 accuraty 0.824 f1 0.6018099547511313\n",
      "samples_leaf 35 accuraty 0.8235 f1 0.5984072810011377\n",
      "samples_leaf 36 accuraty 0.828 f1 0.6099773242630385\n",
      "samples_leaf 37 accuraty 0.8245 f1 0.5997719498289623\n",
      "samples_leaf 38 accuraty 0.822 f1 0.5945330296127562\n",
      "samples_leaf 39 accuraty 0.8205 f1 0.5915813424345847\n",
      "samples_leaf 40 accuraty 0.8215 f1 0.5929304446978335\n",
      "samples_leaf 41 accuraty 0.827 f1 0.6103603603603603\n",
      "samples_leaf 42 accuraty 0.821 f1 0.5968468468468469\n",
      "samples_leaf 43 accuraty 0.8205 f1 0.5961754780652417\n",
      "samples_leaf 44 accuraty 0.8205 f1 0.5988826815642458\n",
      "samples_leaf 45 accuraty 0.8215 f1 0.6002239641657335\n",
      "samples_leaf 46 accuraty 0.8175 f1 0.5921787709497207\n",
      "samples_leaf 47 accuraty 0.8185 f1 0.5988950276243095\n",
      "samples_leaf 48 accuraty 0.8195 f1 0.5966480446927375\n",
      "samples_leaf 49 accuraty 0.8175 f1 0.5957918050941307\n",
      "\n",
      "Best_samples_split 1 F1 = 0.6111111111111112\n"
     ]
    }
   ],
   "source": [
    "best_est = 0\n",
    "best_min_samples_leaf = 0\n",
    "sam_l = 0\n",
    "best_f1 = 0\n",
    "\n",
    "for samples_leaf in range(1, 50):\n",
    "    model =  RandomForestClassifier(random_state = state, n_estimators = 181, max_depth=24,,class_weight='balanced'\n",
    "                                   min_samples_leaf = samples_leaf)\n",
    "    model.fit(features_train_up, target_train_up)\n",
    "    predicted_valid = model.predict(features_valid)\n",
    "    res = model.score(features_valid, target_valid)\n",
    "    f1 = f1_score(target_valid, predicted_valid)\n",
    "    print('samples_leaf', samples_leaf,'accuraty', res, 'f1',f1 )\n",
    "    if best_f1 < f1:\n",
    "        sam_l = samples_leaf\n",
    "        best_f1 = f1\n",
    "print( )\n",
    "print('Best_samples_leaf', sam_l, 'F1 =', best_f1)\n"
   ]
  },
  {
   "cell_type": "code",
   "execution_count": 152,
   "metadata": {},
   "outputs": [
    {
     "name": "stdout",
     "output_type": "stream",
     "text": [
      "Samples_split 2 accuraty 0.853 f1 0.6111111111111112\n",
      "Samples_split 3 accuraty 0.8505 f1 0.5986577181208054\n",
      "Samples_split 4 accuraty 0.849 f1 0.5973333333333333\n",
      "Samples_split 5 accuraty 0.8485 f1 0.596537949400799\n",
      "Samples_split 6 accuraty 0.8475 f1 0.594953519256308\n",
      "Samples_split 7 accuraty 0.8445 f1 0.5913272010512484\n",
      "Samples_split 8 accuraty 0.849 f1 0.6026315789473683\n",
      "Samples_split 9 accuraty 0.8465 f1 0.5986928104575162\n",
      "Samples_split 10 accuraty 0.8475 f1 0.6002621231979031\n",
      "Samples_split 11 accuraty 0.846 f1 0.6\n",
      "Samples_split 12 accuraty 0.848 f1 0.6041666666666667\n",
      "Samples_split 13 accuraty 0.8415 f1 0.5930680359435173\n",
      "Samples_split 14 accuraty 0.844 f1 0.6000000000000001\n",
      "Samples_split 15 accuraty 0.84 f1 0.5907928388746804\n",
      "Samples_split 16 accuraty 0.8445 f1 0.600770218228498\n",
      "Samples_split 17 accuraty 0.842 f1 0.5969387755102041\n",
      "Samples_split 18 accuraty 0.8435 f1 0.602287166454892\n",
      "Samples_split 19 accuraty 0.8415 f1 0.5972045743329097\n",
      "Samples_split 20 accuraty 0.8435 f1 0.6032953105196452\n",
      "Samples_split 21 accuraty 0.8435 f1 0.605296343001261\n",
      "Samples_split 22 accuraty 0.8425 f1 0.6017699115044247\n",
      "Samples_split 23 accuraty 0.8395 f1 0.5941845764854615\n",
      "Samples_split 24 accuraty 0.8425 f1 0.6027742749054225\n",
      "Samples_split 25 accuraty 0.841 f1 0.6044776119402986\n",
      "Samples_split 26 accuraty 0.8365 f1 0.5927770859277709\n",
      "Samples_split 27 accuraty 0.8395 f1 0.6002490660024907\n",
      "Samples_split 28 accuraty 0.841 f1 0.6015037593984962\n",
      "Samples_split 29 accuraty 0.843 f1 0.6045340050377834\n",
      "Samples_split 30 accuraty 0.8415 f1 0.6042446941323347\n",
      "Samples_split 31 accuraty 0.8375 f1 0.5962732919254657\n",
      "Samples_split 32 accuraty 0.838 f1 0.598014888337469\n",
      "Samples_split 33 accuraty 0.8395 f1 0.6061349693251533\n",
      "Samples_split 34 accuraty 0.839 f1 0.599502487562189\n",
      "Samples_split 35 accuraty 0.8405 f1 0.6056860321384426\n",
      "Samples_split 36 accuraty 0.84 f1 0.6009975062344141\n",
      "Samples_split 37 accuraty 0.838 f1 0.6019656019656019\n",
      "Samples_split 38 accuraty 0.837 f1 0.5955334987593053\n",
      "Samples_split 39 accuraty 0.835 f1 0.5935960591133005\n",
      "Samples_split 40 accuraty 0.838 f1 0.6009852216748768\n",
      "Samples_split 41 accuraty 0.837 f1 0.5985221674876847\n",
      "Samples_split 42 accuraty 0.837 f1 0.602439024390244\n",
      "Samples_split 43 accuraty 0.8335 f1 0.5914110429447852\n",
      "Samples_split 44 accuraty 0.839 f1 0.6073170731707317\n",
      "Samples_split 45 accuraty 0.837 f1 0.5995085995085995\n",
      "Samples_split 46 accuraty 0.838 f1 0.6039119804400979\n",
      "Samples_split 47 accuraty 0.836 f1 0.597051597051597\n",
      "Samples_split 48 accuraty 0.834 f1 0.5941320293398533\n",
      "Samples_split 49 accuraty 0.8365 f1 0.6017052375152253\n",
      "\n",
      "Best_samples_split 2 F1 = 0.6111111111111112\n"
     ]
    }
   ],
   "source": [
    "best_est = 0\n",
    "best_min_samples_leaf = 0\n",
    "sam_l = 0\n",
    "best_f1 = 0\n",
    "\n",
    "for samples in range(2, 50):\n",
    "    model =  RandomForestClassifier(random_state = state, n_estimators = 181, max_depth=24, class_weight='balanced', min_samples_split = samples, min_samples_leaf = 1)\n",
    "    model.fit(features_train_up, target_train_up)\n",
    "    predicted_valid = model.predict(features_valid)\n",
    "    res = model.score(features_valid, target_valid)\n",
    "    f1 = f1_score(target_valid, predicted_valid)\n",
    "    print('Samples_split', samples,'accuraty', res, 'f1',f1 )\n",
    "    if best_f1 < f1:\n",
    "        sam_n = samples\n",
    "        best_f1 = f1\n",
    "print( )\n",
    "print('Best_samples_split', sam_n, 'F1 =', best_f1)"
   ]
  },
  {
   "cell_type": "markdown",
   "metadata": {},
   "source": [
    "Протестируем модель."
   ]
  },
  {
   "cell_type": "markdown",
   "metadata": {},
   "source": [
    "Посмотрим как ведет себя модель на тестовой выборке"
   ]
  },
  {
   "cell_type": "code",
   "execution_count": 162,
   "metadata": {},
   "outputs": [
    {
     "name": "stdout",
     "output_type": "stream",
     "text": [
      "F1 0.5974025974025973\n",
      "Roc_auc 0.7437499999999999\n",
      "результат 0.845\n"
     ]
    }
   ],
   "source": [
    "model = RandomForestClassifier(random_state = state, n_estimators = 181, max_depth=25, min_samples_split=2, class_weight='balanced',\n",
    "                                   min_samples_leaf = 1 )\n",
    "model.fit(features_train_up, target_train_up)\n",
    "predicted_valid = model.predict(features_test)\n",
    "res = model.score(features_test, target_test)\n",
    "Roc_auc = roc_auc_score(target_test, predicted_valid)\n",
    "F1 = f1_score(target_test, predicted_valid)\n",
    "dummy_pred = dummy_model.predict(features_valid)\n",
    "print('F1', F1)\n",
    "print('Roc_auc', Roc_auc)\n",
    "print('результат', res)"
   ]
  },
  {
   "cell_type": "markdown",
   "metadata": {
    "scrolled": true
   },
   "source": [
    "Вывод: Результат F1-меры на тестовой выборке больше 0.59 достигнут."
   ]
  },
  {
   "cell_type": "markdown",
   "metadata": {},
   "source": [
    "## Вывод"
   ]
  },
  {
   "cell_type": "markdown",
   "metadata": {},
   "source": [
    "В данном проекте мы избавились от фиктивных признаков не влияющих на обучение моделей,<br>\n",
    "обработали пропуски(пропуски заполнены медианным значениям) и проревели преобразование типов данных,<br>\n",
    "привели категориальные признаки к числовому типу,<br>\n",
    "избежали ловушки фиктивных признаков,<br>\n",
    "провели масштабирование признаков,<br>\n",
    "исследование моделей(Модель логистической регрессии, Модель дерева решений, Модель случайного леса)<br>\n",
    "проверили исследование баланса классов,<br>\n",
    "установлен дисбаланс классов и проведена работа по его устранению,<br>\n",
    "провели подбор гиперпараметров <br>\n",
    "определили лучшею модель,<br>\n",
    "провели тестирование лучшей модели.<br>\n"
   ]
  },
  {
   "cell_type": "markdown",
   "metadata": {},
   "source": [
    "Мы добились решения поставленной задачи, используя методы борьбы с дисбалансом классов. <br>\n",
    "Увеличение выборки и баланс классов помог решить поставленную задачу. <br>\n",
    "Модель со следующими параметрами:<br>\n",
    "RandomForestClassifier (random_state = state, n_estimators = 181, max_depth=25,<br>\n",
    "                                                   min_samples_split=2, class_weight='balanced',min_samples_leaf = 1 )<br>\n",
    "Также мы получили не плохое значите AUC-ROC = 0.74375<br>\n",
    "Результат предсказания случайной модели 0.2, мы добились лучшего результата 0.845<br>\n",
    "Успешно решили поставленную перед нами задачу\n"
   ]
  }
 ],
 "metadata": {
  "ExecuteTimeLog": [
   {
    "duration": 59,
    "start_time": "2023-01-02T15:17:14.853Z"
   },
   {
    "duration": 51,
    "start_time": "2023-01-02T15:23:49.896Z"
   },
   {
    "duration": 45,
    "start_time": "2023-01-02T15:29:57.507Z"
   },
   {
    "duration": 47,
    "start_time": "2023-01-02T15:32:36.991Z"
   },
   {
    "duration": 1526,
    "start_time": "2023-01-02T16:34:21.396Z"
   },
   {
    "duration": 93,
    "start_time": "2023-01-02T16:34:32.114Z"
   },
   {
    "duration": 108,
    "start_time": "2023-01-02T16:35:01.032Z"
   },
   {
    "duration": 49,
    "start_time": "2023-01-02T16:35:04.239Z"
   },
   {
    "duration": 14,
    "start_time": "2023-01-02T16:35:04.535Z"
   },
   {
    "duration": 50,
    "start_time": "2023-01-02T16:36:51.693Z"
   },
   {
    "duration": 12,
    "start_time": "2023-01-02T16:36:53.788Z"
   },
   {
    "duration": 8,
    "start_time": "2023-01-02T16:37:19.324Z"
   },
   {
    "duration": 47,
    "start_time": "2023-01-02T16:40:23.181Z"
   },
   {
    "duration": 48,
    "start_time": "2023-01-02T16:40:29.993Z"
   },
   {
    "duration": 40,
    "start_time": "2023-01-02T16:40:40.347Z"
   },
   {
    "duration": 7,
    "start_time": "2023-01-02T16:40:42.325Z"
   },
   {
    "duration": 13,
    "start_time": "2023-01-02T16:41:23.221Z"
   },
   {
    "duration": 12,
    "start_time": "2023-01-02T16:42:16.805Z"
   },
   {
    "duration": 8,
    "start_time": "2023-01-02T16:45:27.558Z"
   },
   {
    "duration": 13,
    "start_time": "2023-01-02T16:45:56.021Z"
   },
   {
    "duration": 10,
    "start_time": "2023-01-02T16:46:08.634Z"
   },
   {
    "duration": 11,
    "start_time": "2023-01-02T16:46:31.530Z"
   },
   {
    "duration": 36,
    "start_time": "2023-01-02T16:47:26.850Z"
   },
   {
    "duration": 5,
    "start_time": "2023-01-02T16:49:56.931Z"
   },
   {
    "duration": 4,
    "start_time": "2023-01-02T16:50:19.242Z"
   },
   {
    "duration": 47,
    "start_time": "2023-01-02T16:51:52.799Z"
   },
   {
    "duration": 49,
    "start_time": "2023-01-02T16:52:11.487Z"
   },
   {
    "duration": 52,
    "start_time": "2023-01-02T16:54:14.581Z"
   },
   {
    "duration": 45,
    "start_time": "2023-01-02T16:59:02.077Z"
   },
   {
    "duration": 5,
    "start_time": "2023-01-02T16:59:20.492Z"
   },
   {
    "duration": 9,
    "start_time": "2023-01-02T16:59:32.141Z"
   },
   {
    "duration": 9,
    "start_time": "2023-01-02T16:59:36.449Z"
   },
   {
    "duration": 9,
    "start_time": "2023-01-02T16:59:40.913Z"
   },
   {
    "duration": 9,
    "start_time": "2023-01-02T16:59:44.548Z"
   },
   {
    "duration": 9,
    "start_time": "2023-01-02T16:59:52.309Z"
   },
   {
    "duration": 4,
    "start_time": "2023-01-02T16:59:57.993Z"
   },
   {
    "duration": 42,
    "start_time": "2023-01-02T16:59:58.173Z"
   },
   {
    "duration": 12,
    "start_time": "2023-01-02T16:59:58.377Z"
   },
   {
    "duration": 12,
    "start_time": "2023-01-02T16:59:58.585Z"
   },
   {
    "duration": 37,
    "start_time": "2023-01-02T16:59:59.034Z"
   },
   {
    "duration": 5,
    "start_time": "2023-01-02T16:59:59.876Z"
   },
   {
    "duration": 4,
    "start_time": "2023-01-02T17:00:02.925Z"
   },
   {
    "duration": 9,
    "start_time": "2023-01-02T17:00:06.881Z"
   },
   {
    "duration": 3,
    "start_time": "2023-01-02T17:00:22.968Z"
   },
   {
    "duration": 10,
    "start_time": "2023-01-02T17:00:33.976Z"
   },
   {
    "duration": 42,
    "start_time": "2023-01-02T17:00:47.900Z"
   },
   {
    "duration": 12,
    "start_time": "2023-01-02T17:00:48.182Z"
   },
   {
    "duration": 11,
    "start_time": "2023-01-02T17:00:48.490Z"
   },
   {
    "duration": 38,
    "start_time": "2023-01-02T17:00:48.965Z"
   },
   {
    "duration": 4,
    "start_time": "2023-01-02T17:00:49.733Z"
   },
   {
    "duration": 5,
    "start_time": "2023-01-02T17:00:55.849Z"
   },
   {
    "duration": 17,
    "start_time": "2023-01-02T17:00:56.213Z"
   },
   {
    "duration": 47,
    "start_time": "2023-01-02T17:01:24.189Z"
   },
   {
    "duration": 12,
    "start_time": "2023-01-02T17:01:32.373Z"
   },
   {
    "duration": 76,
    "start_time": "2023-01-02T17:01:59.013Z"
   },
   {
    "duration": 10,
    "start_time": "2023-01-02T17:02:12.369Z"
   },
   {
    "duration": 9,
    "start_time": "2023-01-02T17:02:30.125Z"
   },
   {
    "duration": 9,
    "start_time": "2023-01-02T17:02:46.013Z"
   },
   {
    "duration": 7,
    "start_time": "2023-01-02T17:02:52.902Z"
   },
   {
    "duration": 7,
    "start_time": "2023-01-02T17:05:46.014Z"
   },
   {
    "duration": 8,
    "start_time": "2023-01-02T17:06:15.267Z"
   },
   {
    "duration": 6,
    "start_time": "2023-01-02T17:06:19.959Z"
   },
   {
    "duration": 6,
    "start_time": "2023-01-02T17:06:20.214Z"
   },
   {
    "duration": 8,
    "start_time": "2023-01-02T17:06:20.582Z"
   },
   {
    "duration": 3,
    "start_time": "2023-01-02T17:06:29.558Z"
   },
   {
    "duration": 9,
    "start_time": "2023-01-02T17:06:29.978Z"
   },
   {
    "duration": 58,
    "start_time": "2023-01-02T17:14:18.520Z"
   },
   {
    "duration": 10,
    "start_time": "2023-01-02T17:14:26.904Z"
   },
   {
    "duration": 9,
    "start_time": "2023-01-02T17:14:32.832Z"
   },
   {
    "duration": 39,
    "start_time": "2023-01-02T17:14:39.753Z"
   },
   {
    "duration": 9,
    "start_time": "2023-01-02T17:14:55.867Z"
   },
   {
    "duration": 9,
    "start_time": "2023-01-02T17:15:04.560Z"
   },
   {
    "duration": 10,
    "start_time": "2023-01-02T17:15:11.821Z"
   },
   {
    "duration": 61,
    "start_time": "2023-01-02T17:15:22.652Z"
   },
   {
    "duration": 11,
    "start_time": "2023-01-02T17:15:26.108Z"
   },
   {
    "duration": 18,
    "start_time": "2023-01-02T17:17:50.843Z"
   },
   {
    "duration": 12,
    "start_time": "2023-01-02T17:18:18.850Z"
   },
   {
    "duration": 49,
    "start_time": "2023-01-02T17:42:11.954Z"
   },
   {
    "duration": 88,
    "start_time": "2023-01-02T17:47:48.788Z"
   },
   {
    "duration": 20,
    "start_time": "2023-01-02T17:51:43.873Z"
   },
   {
    "duration": 16,
    "start_time": "2023-01-02T17:52:08.730Z"
   },
   {
    "duration": 7,
    "start_time": "2023-01-02T17:52:20.630Z"
   },
   {
    "duration": 11,
    "start_time": "2023-01-02T17:52:32.485Z"
   },
   {
    "duration": 28,
    "start_time": "2023-01-02T17:53:03.994Z"
   },
   {
    "duration": 7,
    "start_time": "2023-01-02T17:53:54.378Z"
   },
   {
    "duration": 40,
    "start_time": "2023-01-02T17:53:56.258Z"
   },
   {
    "duration": 13,
    "start_time": "2023-01-02T17:57:07.512Z"
   },
   {
    "duration": 12,
    "start_time": "2023-01-02T17:57:43.988Z"
   },
   {
    "duration": 11,
    "start_time": "2023-01-02T17:57:52.725Z"
   },
   {
    "duration": 4,
    "start_time": "2023-01-02T18:05:13.891Z"
   },
   {
    "duration": 46,
    "start_time": "2023-01-02T18:06:16.976Z"
   },
   {
    "duration": 10,
    "start_time": "2023-01-02T18:06:50.083Z"
   },
   {
    "duration": 10,
    "start_time": "2023-01-02T18:07:33.440Z"
   },
   {
    "duration": 19,
    "start_time": "2023-01-02T18:07:37.600Z"
   },
   {
    "duration": 22,
    "start_time": "2023-01-02T18:07:41.635Z"
   },
   {
    "duration": 7,
    "start_time": "2023-01-02T18:07:51.284Z"
   },
   {
    "duration": 16,
    "start_time": "2023-01-02T18:07:55.936Z"
   },
   {
    "duration": 8,
    "start_time": "2023-01-02T18:07:59.968Z"
   },
   {
    "duration": 14,
    "start_time": "2023-01-02T18:08:00.380Z"
   },
   {
    "duration": 7,
    "start_time": "2023-01-02T18:08:13.856Z"
   },
   {
    "duration": 7,
    "start_time": "2023-01-02T18:08:18.224Z"
   },
   {
    "duration": 9,
    "start_time": "2023-01-02T18:08:18.540Z"
   },
   {
    "duration": 9,
    "start_time": "2023-01-02T18:08:31.416Z"
   },
   {
    "duration": 9,
    "start_time": "2023-01-02T18:08:44.875Z"
   },
   {
    "duration": 5,
    "start_time": "2023-01-02T18:09:14.984Z"
   },
   {
    "duration": 52,
    "start_time": "2023-01-02T18:09:24.932Z"
   },
   {
    "duration": 17,
    "start_time": "2023-01-02T18:09:25.141Z"
   },
   {
    "duration": 17,
    "start_time": "2023-01-02T18:09:25.357Z"
   },
   {
    "duration": 37,
    "start_time": "2023-01-02T18:09:25.696Z"
   },
   {
    "duration": 4,
    "start_time": "2023-01-02T18:09:26.053Z"
   },
   {
    "duration": 4,
    "start_time": "2023-01-02T18:09:27.721Z"
   },
   {
    "duration": 5,
    "start_time": "2023-01-02T18:09:28.036Z"
   },
   {
    "duration": 13,
    "start_time": "2023-01-02T18:09:33.464Z"
   },
   {
    "duration": 8,
    "start_time": "2023-01-02T18:09:34.152Z"
   },
   {
    "duration": 6,
    "start_time": "2023-01-02T18:09:35.250Z"
   },
   {
    "duration": 8,
    "start_time": "2023-01-02T18:09:35.740Z"
   },
   {
    "duration": 13,
    "start_time": "2023-01-02T18:09:36.516Z"
   },
   {
    "duration": 8,
    "start_time": "2023-01-02T18:09:38.284Z"
   },
   {
    "duration": 7,
    "start_time": "2023-01-02T18:09:38.745Z"
   },
   {
    "duration": 3,
    "start_time": "2023-01-02T18:09:45.041Z"
   },
   {
    "duration": 17,
    "start_time": "2023-01-02T18:09:55.868Z"
   },
   {
    "duration": 814,
    "start_time": "2023-01-02T18:11:08.808Z"
   },
   {
    "duration": 0,
    "start_time": "2023-01-02T18:11:09.624Z"
   },
   {
    "duration": 7,
    "start_time": "2023-01-02T18:11:09.805Z"
   },
   {
    "duration": 4,
    "start_time": "2023-01-02T18:11:10.511Z"
   },
   {
    "duration": 4,
    "start_time": "2023-01-02T18:11:14.678Z"
   },
   {
    "duration": 46,
    "start_time": "2023-01-02T18:11:14.893Z"
   },
   {
    "duration": 11,
    "start_time": "2023-01-02T18:11:15.097Z"
   },
   {
    "duration": 13,
    "start_time": "2023-01-02T18:11:15.289Z"
   },
   {
    "duration": 46,
    "start_time": "2023-01-02T18:11:15.501Z"
   },
   {
    "duration": 5,
    "start_time": "2023-01-02T18:11:15.701Z"
   },
   {
    "duration": 5,
    "start_time": "2023-01-02T18:11:16.537Z"
   },
   {
    "duration": 5,
    "start_time": "2023-01-02T18:11:16.733Z"
   },
   {
    "duration": 10,
    "start_time": "2023-01-02T18:11:17.202Z"
   },
   {
    "duration": 8,
    "start_time": "2023-01-02T18:11:17.585Z"
   },
   {
    "duration": 7,
    "start_time": "2023-01-02T18:11:17.998Z"
   },
   {
    "duration": 11,
    "start_time": "2023-01-02T18:11:18.449Z"
   },
   {
    "duration": 15,
    "start_time": "2023-01-02T18:11:18.718Z"
   },
   {
    "duration": 9,
    "start_time": "2023-01-02T18:11:19.725Z"
   },
   {
    "duration": 7,
    "start_time": "2023-01-02T18:11:20.277Z"
   },
   {
    "duration": 3,
    "start_time": "2023-01-02T18:11:20.953Z"
   },
   {
    "duration": 11,
    "start_time": "2023-01-02T18:11:41.653Z"
   },
   {
    "duration": 51,
    "start_time": "2023-01-02T18:12:55.558Z"
   },
   {
    "duration": 7,
    "start_time": "2023-01-02T18:13:02.930Z"
   },
   {
    "duration": 9,
    "start_time": "2023-01-02T18:13:03.120Z"
   },
   {
    "duration": 5,
    "start_time": "2023-01-02T18:13:03.319Z"
   },
   {
    "duration": 17,
    "start_time": "2023-01-02T18:13:03.927Z"
   },
   {
    "duration": 3,
    "start_time": "2023-01-02T18:13:04.462Z"
   },
   {
    "duration": 38,
    "start_time": "2023-01-02T18:13:46.129Z"
   },
   {
    "duration": 29,
    "start_time": "2023-01-02T18:14:07.818Z"
   },
   {
    "duration": 11,
    "start_time": "2023-01-02T18:14:56.922Z"
   },
   {
    "duration": 10,
    "start_time": "2023-01-02T18:15:01.463Z"
   },
   {
    "duration": 6,
    "start_time": "2023-01-02T18:15:10.863Z"
   },
   {
    "duration": 151,
    "start_time": "2023-01-02T18:19:34.200Z"
   },
   {
    "duration": 64,
    "start_time": "2023-01-02T18:20:31.480Z"
   },
   {
    "duration": 60,
    "start_time": "2023-01-02T18:29:47.265Z"
   },
   {
    "duration": 45,
    "start_time": "2023-01-02T18:29:50.980Z"
   },
   {
    "duration": 5,
    "start_time": "2023-01-02T18:35:02.990Z"
   },
   {
    "duration": 9,
    "start_time": "2023-01-02T18:35:03.198Z"
   },
   {
    "duration": 10,
    "start_time": "2023-01-02T18:35:05.749Z"
   },
   {
    "duration": 8,
    "start_time": "2023-01-02T18:35:12.765Z"
   },
   {
    "duration": 9,
    "start_time": "2023-01-02T18:35:13.441Z"
   },
   {
    "duration": 8,
    "start_time": "2023-01-02T18:35:13.657Z"
   },
   {
    "duration": 4,
    "start_time": "2023-01-02T18:35:13.846Z"
   },
   {
    "duration": 10,
    "start_time": "2023-01-02T18:35:14.174Z"
   },
   {
    "duration": 7,
    "start_time": "2023-01-02T18:35:14.549Z"
   },
   {
    "duration": 27,
    "start_time": "2023-01-02T18:35:16.829Z"
   },
   {
    "duration": 20,
    "start_time": "2023-01-02T18:35:21.797Z"
   },
   {
    "duration": 4,
    "start_time": "2023-01-02T18:37:03.978Z"
   },
   {
    "duration": 30,
    "start_time": "2023-01-02T18:37:42.162Z"
   },
   {
    "duration": 31,
    "start_time": "2023-01-02T18:37:59.330Z"
   },
   {
    "duration": 35,
    "start_time": "2023-01-02T18:38:18.599Z"
   },
   {
    "duration": 4,
    "start_time": "2023-01-02T18:42:34.300Z"
   },
   {
    "duration": 3,
    "start_time": "2023-01-02T18:43:20.952Z"
   },
   {
    "duration": 29,
    "start_time": "2023-01-02T18:43:29.712Z"
   },
   {
    "duration": 48,
    "start_time": "2023-01-05T12:26:30.704Z"
   },
   {
    "duration": 1557,
    "start_time": "2023-01-05T12:26:36.591Z"
   },
   {
    "duration": 144,
    "start_time": "2023-01-05T12:26:38.150Z"
   },
   {
    "duration": 18,
    "start_time": "2023-01-05T12:26:38.295Z"
   },
   {
    "duration": 27,
    "start_time": "2023-01-05T12:26:38.316Z"
   },
   {
    "duration": 42,
    "start_time": "2023-01-05T12:26:38.345Z"
   },
   {
    "duration": 5,
    "start_time": "2023-01-05T12:26:38.390Z"
   },
   {
    "duration": 17,
    "start_time": "2023-01-05T12:26:38.396Z"
   },
   {
    "duration": 18,
    "start_time": "2023-01-05T12:26:38.421Z"
   },
   {
    "duration": 10,
    "start_time": "2023-01-05T12:26:38.763Z"
   },
   {
    "duration": 7,
    "start_time": "2023-01-05T12:26:39.143Z"
   },
   {
    "duration": 6,
    "start_time": "2023-01-05T12:26:39.509Z"
   },
   {
    "duration": 72,
    "start_time": "2023-01-05T12:26:39.705Z"
   },
   {
    "duration": 75,
    "start_time": "2023-01-05T12:26:39.882Z"
   },
   {
    "duration": 8,
    "start_time": "2023-01-05T12:26:40.064Z"
   },
   {
    "duration": 13,
    "start_time": "2023-01-05T12:26:40.247Z"
   },
   {
    "duration": 11,
    "start_time": "2023-01-05T12:26:40.798Z"
   },
   {
    "duration": 10,
    "start_time": "2023-01-05T12:26:40.984Z"
   },
   {
    "duration": 4,
    "start_time": "2023-01-05T12:26:41.143Z"
   },
   {
    "duration": 10,
    "start_time": "2023-01-05T12:26:41.331Z"
   },
   {
    "duration": 7,
    "start_time": "2023-01-05T12:26:41.495Z"
   },
   {
    "duration": 22,
    "start_time": "2023-01-05T12:26:41.857Z"
   },
   {
    "duration": 10,
    "start_time": "2023-01-05T12:26:42.391Z"
   },
   {
    "duration": 55,
    "start_time": "2023-01-05T12:26:42.406Z"
   },
   {
    "duration": 4,
    "start_time": "2023-01-05T12:26:42.775Z"
   },
   {
    "duration": 11,
    "start_time": "2023-01-05T12:27:16.239Z"
   },
   {
    "duration": 9,
    "start_time": "2023-01-05T12:27:21.252Z"
   },
   {
    "duration": 4,
    "start_time": "2023-01-05T12:27:50.431Z"
   },
   {
    "duration": 10,
    "start_time": "2023-01-05T12:27:56.447Z"
   },
   {
    "duration": 10,
    "start_time": "2023-01-05T12:28:00.179Z"
   },
   {
    "duration": 4,
    "start_time": "2023-01-05T12:28:05.023Z"
   },
   {
    "duration": 9,
    "start_time": "2023-01-05T12:29:20.786Z"
   },
   {
    "duration": 4,
    "start_time": "2023-01-05T12:32:53.312Z"
   },
   {
    "duration": 10,
    "start_time": "2023-01-05T12:33:13.181Z"
   },
   {
    "duration": 20,
    "start_time": "2023-01-05T12:33:30.557Z"
   },
   {
    "duration": 4,
    "start_time": "2023-01-05T12:33:51.477Z"
   },
   {
    "duration": 11,
    "start_time": "2023-01-05T12:33:51.764Z"
   },
   {
    "duration": 1080,
    "start_time": "2023-01-05T12:33:52.196Z"
   },
   {
    "duration": 0,
    "start_time": "2023-01-05T12:33:53.277Z"
   },
   {
    "duration": 21,
    "start_time": "2023-01-05T12:33:53.969Z"
   },
   {
    "duration": 1147,
    "start_time": "2023-01-05T12:33:59.202Z"
   },
   {
    "duration": 0,
    "start_time": "2023-01-05T12:34:00.350Z"
   },
   {
    "duration": 4,
    "start_time": "2023-01-05T12:34:03.797Z"
   },
   {
    "duration": 39,
    "start_time": "2023-01-05T12:34:03.945Z"
   },
   {
    "duration": 15,
    "start_time": "2023-01-05T12:34:04.121Z"
   },
   {
    "duration": 12,
    "start_time": "2023-01-05T12:34:04.280Z"
   },
   {
    "duration": 38,
    "start_time": "2023-01-05T12:34:04.445Z"
   },
   {
    "duration": 4,
    "start_time": "2023-01-05T12:34:04.610Z"
   },
   {
    "duration": 4,
    "start_time": "2023-01-05T12:34:05.297Z"
   },
   {
    "duration": 4,
    "start_time": "2023-01-05T12:34:05.495Z"
   },
   {
    "duration": 13,
    "start_time": "2023-01-05T12:34:05.820Z"
   },
   {
    "duration": 7,
    "start_time": "2023-01-05T12:34:06.157Z"
   },
   {
    "duration": 7,
    "start_time": "2023-01-05T12:34:06.513Z"
   },
   {
    "duration": 94,
    "start_time": "2023-01-05T12:34:06.687Z"
   },
   {
    "duration": 13,
    "start_time": "2023-01-05T12:34:06.866Z"
   },
   {
    "duration": 9,
    "start_time": "2023-01-05T12:34:07.073Z"
   },
   {
    "duration": 14,
    "start_time": "2023-01-05T12:34:07.258Z"
   },
   {
    "duration": 7,
    "start_time": "2023-01-05T12:34:07.799Z"
   },
   {
    "duration": 9,
    "start_time": "2023-01-05T12:34:08.002Z"
   },
   {
    "duration": 4,
    "start_time": "2023-01-05T12:34:08.141Z"
   },
   {
    "duration": 16,
    "start_time": "2023-01-05T12:34:08.346Z"
   },
   {
    "duration": 8,
    "start_time": "2023-01-05T12:34:08.658Z"
   },
   {
    "duration": 4,
    "start_time": "2023-01-05T12:34:09.093Z"
   },
   {
    "duration": 17,
    "start_time": "2023-01-05T12:34:09.535Z"
   },
   {
    "duration": 43,
    "start_time": "2023-01-05T12:34:42.199Z"
   },
   {
    "duration": 4,
    "start_time": "2023-01-05T12:34:47.621Z"
   },
   {
    "duration": 5,
    "start_time": "2023-01-05T12:35:08.061Z"
   },
   {
    "duration": 39,
    "start_time": "2023-01-05T12:35:08.349Z"
   },
   {
    "duration": 11,
    "start_time": "2023-01-05T12:35:08.625Z"
   },
   {
    "duration": 11,
    "start_time": "2023-01-05T12:35:08.965Z"
   },
   {
    "duration": 36,
    "start_time": "2023-01-05T12:35:09.253Z"
   },
   {
    "duration": 4,
    "start_time": "2023-01-05T12:35:09.589Z"
   },
   {
    "duration": 4,
    "start_time": "2023-01-05T12:35:11.065Z"
   },
   {
    "duration": 4,
    "start_time": "2023-01-05T12:35:11.413Z"
   },
   {
    "duration": 15,
    "start_time": "2023-01-05T12:35:12.117Z"
   },
   {
    "duration": 9,
    "start_time": "2023-01-05T12:35:12.837Z"
   },
   {
    "duration": 8,
    "start_time": "2023-01-05T12:35:13.578Z"
   },
   {
    "duration": 170,
    "start_time": "2023-01-05T12:35:14.141Z"
   },
   {
    "duration": 16,
    "start_time": "2023-01-05T12:35:24.206Z"
   },
   {
    "duration": 10,
    "start_time": "2023-01-05T12:35:52.225Z"
   },
   {
    "duration": 13,
    "start_time": "2023-01-05T12:35:52.849Z"
   },
   {
    "duration": 14,
    "start_time": "2023-01-05T12:36:19.766Z"
   },
   {
    "duration": 10,
    "start_time": "2023-01-05T12:36:26.059Z"
   },
   {
    "duration": 7,
    "start_time": "2023-01-05T12:36:26.678Z"
   },
   {
    "duration": 11,
    "start_time": "2023-01-05T12:36:27.277Z"
   },
   {
    "duration": 13,
    "start_time": "2023-01-05T12:36:27.593Z"
   },
   {
    "duration": 8,
    "start_time": "2023-01-05T12:36:28.674Z"
   },
   {
    "duration": 7,
    "start_time": "2023-01-05T12:36:28.983Z"
   },
   {
    "duration": 5,
    "start_time": "2023-01-05T12:36:29.482Z"
   },
   {
    "duration": 4,
    "start_time": "2023-01-05T12:36:30.177Z"
   },
   {
    "duration": 11,
    "start_time": "2023-01-05T12:36:30.818Z"
   },
   {
    "duration": 6,
    "start_time": "2023-01-05T12:36:31.298Z"
   },
   {
    "duration": 3,
    "start_time": "2023-01-05T12:36:31.902Z"
   },
   {
    "duration": 17,
    "start_time": "2023-01-05T12:36:32.090Z"
   },
   {
    "duration": 33,
    "start_time": "2023-01-05T12:36:32.662Z"
   },
   {
    "duration": 4,
    "start_time": "2023-01-05T12:36:33.057Z"
   },
   {
    "duration": 1500,
    "start_time": "2023-01-07T13:34:19.414Z"
   },
   {
    "duration": 151,
    "start_time": "2023-01-07T13:34:20.916Z"
   },
   {
    "duration": 14,
    "start_time": "2023-01-07T13:34:21.070Z"
   },
   {
    "duration": 13,
    "start_time": "2023-01-07T13:34:21.087Z"
   },
   {
    "duration": 36,
    "start_time": "2023-01-07T13:34:21.102Z"
   },
   {
    "duration": 5,
    "start_time": "2023-01-07T13:34:21.140Z"
   },
   {
    "duration": 8,
    "start_time": "2023-01-07T13:34:21.146Z"
   },
   {
    "duration": 9,
    "start_time": "2023-01-07T13:34:21.156Z"
   },
   {
    "duration": 39,
    "start_time": "2023-01-07T13:34:21.166Z"
   },
   {
    "duration": 8,
    "start_time": "2023-01-07T13:34:21.207Z"
   },
   {
    "duration": 6,
    "start_time": "2023-01-07T13:34:21.216Z"
   },
   {
    "duration": 11,
    "start_time": "2023-01-07T13:34:21.223Z"
   },
   {
    "duration": 11,
    "start_time": "2023-01-07T13:34:21.235Z"
   },
   {
    "duration": 7,
    "start_time": "2023-01-07T13:34:21.248Z"
   },
   {
    "duration": 8,
    "start_time": "2023-01-07T13:34:21.257Z"
   },
   {
    "duration": 5,
    "start_time": "2023-01-07T13:34:21.304Z"
   },
   {
    "duration": 12,
    "start_time": "2023-01-07T13:34:21.310Z"
   },
   {
    "duration": 12,
    "start_time": "2023-01-07T13:34:21.323Z"
   },
   {
    "duration": 17,
    "start_time": "2023-01-07T13:34:21.337Z"
   },
   {
    "duration": 6,
    "start_time": "2023-01-07T13:34:21.356Z"
   },
   {
    "duration": 48,
    "start_time": "2023-01-07T13:34:21.364Z"
   },
   {
    "duration": 31,
    "start_time": "2023-01-07T13:34:21.413Z"
   },
   {
    "duration": 4,
    "start_time": "2023-01-07T13:34:21.446Z"
   },
   {
    "duration": 6,
    "start_time": "2023-01-07T13:34:21.451Z"
   },
   {
    "duration": 4,
    "start_time": "2023-01-07T13:36:11.615Z"
   },
   {
    "duration": 5,
    "start_time": "2023-01-07T13:36:16.874Z"
   },
   {
    "duration": 4,
    "start_time": "2023-01-07T13:36:20.447Z"
   },
   {
    "duration": 70,
    "start_time": "2023-01-07T13:37:47.643Z"
   },
   {
    "duration": 127,
    "start_time": "2023-01-07T13:40:54.292Z"
   },
   {
    "duration": 12,
    "start_time": "2023-01-07T13:43:45.318Z"
   },
   {
    "duration": 10,
    "start_time": "2023-01-07T13:44:49.723Z"
   },
   {
    "duration": 79,
    "start_time": "2023-01-07T13:44:59.845Z"
   },
   {
    "duration": 5,
    "start_time": "2023-01-07T13:45:07.220Z"
   },
   {
    "duration": 4,
    "start_time": "2023-01-07T14:08:29.542Z"
   },
   {
    "duration": 7,
    "start_time": "2023-01-07T14:08:29.796Z"
   },
   {
    "duration": 4,
    "start_time": "2023-01-07T14:08:42.039Z"
   },
   {
    "duration": 68,
    "start_time": "2023-01-07T14:09:02.201Z"
   },
   {
    "duration": 94,
    "start_time": "2023-01-07T14:10:14.952Z"
   },
   {
    "duration": 13,
    "start_time": "2023-01-07T14:15:56.248Z"
   },
   {
    "duration": 3,
    "start_time": "2023-01-07T14:16:33.174Z"
   },
   {
    "duration": 23,
    "start_time": "2023-01-07T14:16:38.904Z"
   },
   {
    "duration": 30,
    "start_time": "2023-01-07T14:16:54.013Z"
   },
   {
    "duration": 10,
    "start_time": "2023-01-07T14:19:55.205Z"
   },
   {
    "duration": 5,
    "start_time": "2023-01-07T14:19:55.913Z"
   },
   {
    "duration": 25,
    "start_time": "2023-01-07T14:19:56.977Z"
   },
   {
    "duration": 4,
    "start_time": "2023-01-07T14:19:57.861Z"
   },
   {
    "duration": 19,
    "start_time": "2023-01-07T14:19:58.946Z"
   },
   {
    "duration": 6,
    "start_time": "2023-01-07T14:21:06.085Z"
   },
   {
    "duration": 6,
    "start_time": "2023-01-07T14:28:02.352Z"
   },
   {
    "duration": 7,
    "start_time": "2023-01-07T14:28:09.920Z"
   },
   {
    "duration": 72,
    "start_time": "2023-01-07T14:29:27.851Z"
   },
   {
    "duration": 73,
    "start_time": "2023-01-07T14:31:42.800Z"
   },
   {
    "duration": 3,
    "start_time": "2023-01-07T14:32:17.653Z"
   },
   {
    "duration": 640,
    "start_time": "2023-01-07T14:32:29.321Z"
   },
   {
    "duration": 1097,
    "start_time": "2023-01-07T14:33:06.772Z"
   },
   {
    "duration": 3,
    "start_time": "2023-01-07T14:33:22.345Z"
   },
   {
    "duration": 2,
    "start_time": "2023-01-07T14:33:23.549Z"
   },
   {
    "duration": 1053,
    "start_time": "2023-01-07T14:34:21.927Z"
   },
   {
    "duration": 2,
    "start_time": "2023-01-07T14:34:22.982Z"
   },
   {
    "duration": 1429,
    "start_time": "2023-01-07T14:47:03.969Z"
   },
   {
    "duration": 45,
    "start_time": "2023-01-07T14:47:05.400Z"
   },
   {
    "duration": 13,
    "start_time": "2023-01-07T14:47:05.447Z"
   },
   {
    "duration": 17,
    "start_time": "2023-01-07T14:47:05.462Z"
   },
   {
    "duration": 50,
    "start_time": "2023-01-07T14:47:05.480Z"
   },
   {
    "duration": 4,
    "start_time": "2023-01-07T14:47:05.532Z"
   },
   {
    "duration": 4,
    "start_time": "2023-01-07T14:47:05.774Z"
   },
   {
    "duration": 4,
    "start_time": "2023-01-07T14:47:05.965Z"
   },
   {
    "duration": 10,
    "start_time": "2023-01-07T14:47:06.380Z"
   },
   {
    "duration": 8,
    "start_time": "2023-01-07T14:47:06.784Z"
   },
   {
    "duration": 5,
    "start_time": "2023-01-07T14:47:07.172Z"
   },
   {
    "duration": 9,
    "start_time": "2023-01-07T14:47:07.553Z"
   },
   {
    "duration": 12,
    "start_time": "2023-01-07T14:47:07.753Z"
   },
   {
    "duration": 8,
    "start_time": "2023-01-07T14:47:08.644Z"
   },
   {
    "duration": 8,
    "start_time": "2023-01-07T14:47:08.972Z"
   },
   {
    "duration": 4,
    "start_time": "2023-01-07T14:47:09.364Z"
   },
   {
    "duration": 4,
    "start_time": "2023-01-07T14:47:09.732Z"
   },
   {
    "duration": 11,
    "start_time": "2023-01-07T14:47:10.101Z"
   },
   {
    "duration": 6,
    "start_time": "2023-01-07T14:47:10.668Z"
   },
   {
    "duration": 3,
    "start_time": "2023-01-07T14:47:11.272Z"
   },
   {
    "duration": 17,
    "start_time": "2023-01-07T14:47:11.580Z"
   },
   {
    "duration": 13,
    "start_time": "2023-01-07T14:47:14.505Z"
   },
   {
    "duration": 6,
    "start_time": "2023-01-07T14:47:15.408Z"
   },
   {
    "duration": 25,
    "start_time": "2023-01-07T14:47:16.633Z"
   },
   {
    "duration": 3,
    "start_time": "2023-01-07T14:47:16.961Z"
   },
   {
    "duration": 5,
    "start_time": "2023-01-07T14:47:19.672Z"
   },
   {
    "duration": 7,
    "start_time": "2023-01-07T14:47:20.241Z"
   },
   {
    "duration": 3,
    "start_time": "2023-01-07T14:47:22.201Z"
   },
   {
    "duration": 1011,
    "start_time": "2023-01-07T14:47:22.690Z"
   },
   {
    "duration": 27181,
    "start_time": "2023-01-07T14:47:34.530Z"
   },
   {
    "duration": 2896,
    "start_time": "2023-01-07T14:48:48.205Z"
   },
   {
    "duration": 29957,
    "start_time": "2023-01-07T14:48:58.014Z"
   },
   {
    "duration": 1459,
    "start_time": "2023-01-07T14:55:16.640Z"
   },
   {
    "duration": 93,
    "start_time": "2023-01-07T14:55:18.101Z"
   },
   {
    "duration": 16,
    "start_time": "2023-01-07T14:55:18.195Z"
   },
   {
    "duration": 21,
    "start_time": "2023-01-07T14:55:18.213Z"
   },
   {
    "duration": 38,
    "start_time": "2023-01-07T14:55:18.236Z"
   },
   {
    "duration": 4,
    "start_time": "2023-01-07T14:55:18.275Z"
   },
   {
    "duration": 4,
    "start_time": "2023-01-07T14:55:18.297Z"
   },
   {
    "duration": 4,
    "start_time": "2023-01-07T14:55:18.319Z"
   },
   {
    "duration": 13,
    "start_time": "2023-01-07T14:55:18.644Z"
   },
   {
    "duration": 7,
    "start_time": "2023-01-07T14:55:18.980Z"
   },
   {
    "duration": 6,
    "start_time": "2023-01-07T14:55:19.368Z"
   },
   {
    "duration": 8,
    "start_time": "2023-01-07T14:55:19.728Z"
   },
   {
    "duration": 12,
    "start_time": "2023-01-07T14:55:19.904Z"
   },
   {
    "duration": 8,
    "start_time": "2023-01-07T14:55:20.432Z"
   },
   {
    "duration": 7,
    "start_time": "2023-01-07T14:55:20.604Z"
   },
   {
    "duration": 4,
    "start_time": "2023-01-07T14:55:20.775Z"
   },
   {
    "duration": 4,
    "start_time": "2023-01-07T14:55:20.943Z"
   },
   {
    "duration": 10,
    "start_time": "2023-01-07T14:55:21.104Z"
   },
   {
    "duration": 7,
    "start_time": "2023-01-07T14:55:21.268Z"
   },
   {
    "duration": 3,
    "start_time": "2023-01-07T14:55:21.608Z"
   },
   {
    "duration": 18,
    "start_time": "2023-01-07T14:55:21.779Z"
   },
   {
    "duration": 13,
    "start_time": "2023-01-07T14:55:22.668Z"
   },
   {
    "duration": 5,
    "start_time": "2023-01-07T14:55:23.036Z"
   },
   {
    "duration": 26,
    "start_time": "2023-01-07T14:55:23.432Z"
   },
   {
    "duration": 4,
    "start_time": "2023-01-07T14:55:24.011Z"
   },
   {
    "duration": 6,
    "start_time": "2023-01-07T14:55:24.668Z"
   },
   {
    "duration": 8,
    "start_time": "2023-01-07T14:55:25.154Z"
   },
   {
    "duration": 2,
    "start_time": "2023-01-07T14:55:26.596Z"
   },
   {
    "duration": 1037,
    "start_time": "2023-01-07T14:55:27.003Z"
   },
   {
    "duration": 2,
    "start_time": "2023-01-07T14:55:28.158Z"
   },
   {
    "duration": 25383,
    "start_time": "2023-01-07T14:55:31.409Z"
   },
   {
    "duration": 27262,
    "start_time": "2023-01-07T14:55:56.797Z"
   },
   {
    "duration": 2,
    "start_time": "2023-01-07T14:56:24.061Z"
   },
   {
    "duration": 127,
    "start_time": "2023-01-07T15:00:46.100Z"
   },
   {
    "duration": 0,
    "start_time": "2023-01-07T15:00:46.229Z"
   },
   {
    "duration": 0,
    "start_time": "2023-01-07T15:00:46.230Z"
   },
   {
    "duration": 0,
    "start_time": "2023-01-07T15:00:46.231Z"
   },
   {
    "duration": 0,
    "start_time": "2023-01-07T15:00:46.232Z"
   },
   {
    "duration": 0,
    "start_time": "2023-01-07T15:00:46.233Z"
   },
   {
    "duration": 38,
    "start_time": "2023-01-07T15:00:57.209Z"
   },
   {
    "duration": 64781,
    "start_time": "2023-01-07T15:01:40.726Z"
   },
   {
    "duration": 6,
    "start_time": "2023-01-07T15:02:45.598Z"
   },
   {
    "duration": 62526,
    "start_time": "2023-01-07T15:04:13.170Z"
   },
   {
    "duration": 7,
    "start_time": "2023-01-07T15:05:15.700Z"
   },
   {
    "duration": 952,
    "start_time": "2023-01-07T15:34:38.817Z"
   },
   {
    "duration": 23033,
    "start_time": "2023-01-07T15:34:45.317Z"
   },
   {
    "duration": 25617,
    "start_time": "2023-01-07T15:35:19.626Z"
   },
   {
    "duration": 226,
    "start_time": "2023-01-07T15:35:45.245Z"
   },
   {
    "duration": 0,
    "start_time": "2023-01-07T15:37:10.398Z"
   },
   {
    "duration": 0,
    "start_time": "2023-01-07T15:37:10.401Z"
   },
   {
    "duration": 43548,
    "start_time": "2023-01-07T15:39:51.759Z"
   },
   {
    "duration": 1936,
    "start_time": "2023-01-07T15:41:10.571Z"
   },
   {
    "duration": 4,
    "start_time": "2023-01-07T15:41:21.739Z"
   },
   {
    "duration": 39,
    "start_time": "2023-01-07T15:41:21.904Z"
   },
   {
    "duration": 11,
    "start_time": "2023-01-07T15:41:22.063Z"
   },
   {
    "duration": 12,
    "start_time": "2023-01-07T15:41:22.223Z"
   },
   {
    "duration": 39,
    "start_time": "2023-01-07T15:41:22.401Z"
   },
   {
    "duration": 4,
    "start_time": "2023-01-07T15:41:22.560Z"
   },
   {
    "duration": 4,
    "start_time": "2023-01-07T15:41:23.240Z"
   },
   {
    "duration": 4,
    "start_time": "2023-01-07T15:41:23.428Z"
   },
   {
    "duration": 11,
    "start_time": "2023-01-07T15:41:23.771Z"
   },
   {
    "duration": 7,
    "start_time": "2023-01-07T15:41:24.123Z"
   },
   {
    "duration": 5,
    "start_time": "2023-01-07T15:41:24.501Z"
   },
   {
    "duration": 11,
    "start_time": "2023-01-07T15:41:24.856Z"
   },
   {
    "duration": 12,
    "start_time": "2023-01-07T15:41:25.052Z"
   },
   {
    "duration": 7,
    "start_time": "2023-01-07T15:41:25.571Z"
   },
   {
    "duration": 7,
    "start_time": "2023-01-07T15:41:25.773Z"
   },
   {
    "duration": 5,
    "start_time": "2023-01-07T15:41:25.947Z"
   },
   {
    "duration": 3,
    "start_time": "2023-01-07T15:41:26.128Z"
   },
   {
    "duration": 10,
    "start_time": "2023-01-07T15:41:26.308Z"
   },
   {
    "duration": 6,
    "start_time": "2023-01-07T15:41:26.500Z"
   },
   {
    "duration": 4,
    "start_time": "2023-01-07T15:41:26.823Z"
   },
   {
    "duration": 19,
    "start_time": "2023-01-07T15:41:27.003Z"
   },
   {
    "duration": 12,
    "start_time": "2023-01-07T15:41:27.879Z"
   },
   {
    "duration": 3,
    "start_time": "2023-01-07T15:41:28.240Z"
   },
   {
    "duration": 25,
    "start_time": "2023-01-07T15:41:28.601Z"
   },
   {
    "duration": 4,
    "start_time": "2023-01-07T15:41:28.775Z"
   },
   {
    "duration": 6,
    "start_time": "2023-01-07T15:41:29.126Z"
   },
   {
    "duration": 8,
    "start_time": "2023-01-07T15:41:29.303Z"
   },
   {
    "duration": 2,
    "start_time": "2023-01-07T15:41:30.008Z"
   },
   {
    "duration": 998,
    "start_time": "2023-01-07T15:41:30.164Z"
   },
   {
    "duration": 2,
    "start_time": "2023-01-07T15:41:31.164Z"
   },
   {
    "duration": 23373,
    "start_time": "2023-01-07T15:41:31.168Z"
   },
   {
    "duration": 25152,
    "start_time": "2023-01-07T15:41:54.543Z"
   },
   {
    "duration": 2,
    "start_time": "2023-01-07T15:42:19.696Z"
   },
   {
    "duration": 3613,
    "start_time": "2023-01-07T15:42:19.700Z"
   },
   {
    "duration": 5,
    "start_time": "2023-01-07T15:42:23.397Z"
   },
   {
    "duration": 45,
    "start_time": "2023-01-07T16:01:27.995Z"
   },
   {
    "duration": 1034,
    "start_time": "2023-01-07T16:18:46.911Z"
   },
   {
    "duration": 25744,
    "start_time": "2023-01-07T16:18:51.571Z"
   },
   {
    "duration": 1714,
    "start_time": "2023-01-07T16:19:24.287Z"
   },
   {
    "duration": 42,
    "start_time": "2023-01-07T16:22:06.256Z"
   },
   {
    "duration": 12,
    "start_time": "2023-01-07T16:46:28.823Z"
   },
   {
    "duration": 62,
    "start_time": "2023-01-07T16:46:30.014Z"
   },
   {
    "duration": 11,
    "start_time": "2023-01-07T16:47:26.034Z"
   },
   {
    "duration": 6,
    "start_time": "2023-01-07T16:49:20.230Z"
   },
   {
    "duration": 44,
    "start_time": "2023-01-07T16:51:28.703Z"
   },
   {
    "duration": 1097,
    "start_time": "2023-01-07T16:51:29.011Z"
   },
   {
    "duration": 1143,
    "start_time": "2023-01-07T16:51:33.700Z"
   },
   {
    "duration": 26913,
    "start_time": "2023-01-07T16:51:36.964Z"
   },
   {
    "duration": 1676,
    "start_time": "2023-01-07T16:52:34.816Z"
   },
   {
    "duration": 46546,
    "start_time": "2023-01-07T16:52:36.494Z"
   },
   {
    "duration": 17,
    "start_time": "2023-01-07T16:53:23.042Z"
   },
   {
    "duration": 1622,
    "start_time": "2023-01-07T16:54:20.384Z"
   },
   {
    "duration": 47485,
    "start_time": "2023-01-07T16:54:27.140Z"
   },
   {
    "duration": 16,
    "start_time": "2023-01-07T16:55:21.088Z"
   },
   {
    "duration": 16,
    "start_time": "2023-01-07T16:55:23.905Z"
   },
   {
    "duration": 2675,
    "start_time": "2023-01-07T16:55:56.121Z"
   },
   {
    "duration": 3221,
    "start_time": "2023-01-07T16:56:15.981Z"
   },
   {
    "duration": 42,
    "start_time": "2023-01-07T16:58:24.469Z"
   },
   {
    "duration": 11,
    "start_time": "2023-01-07T16:59:51.538Z"
   },
   {
    "duration": 473,
    "start_time": "2023-01-07T17:00:51.517Z"
   },
   {
    "duration": 14753,
    "start_time": "2023-01-07T17:01:08.838Z"
   },
   {
    "duration": 1749,
    "start_time": "2023-01-07T17:01:28.649Z"
   },
   {
    "duration": 41,
    "start_time": "2023-01-07T17:01:48.254Z"
   },
   {
    "duration": 60,
    "start_time": "2023-01-07T17:02:28.662Z"
   },
   {
    "duration": 9,
    "start_time": "2023-01-07T17:23:38.719Z"
   },
   {
    "duration": 18,
    "start_time": "2023-01-07T17:23:39.063Z"
   },
   {
    "duration": 1095,
    "start_time": "2023-01-07T17:24:13.815Z"
   },
   {
    "duration": 49,
    "start_time": "2023-01-07T17:24:14.912Z"
   },
   {
    "duration": 1316,
    "start_time": "2023-01-07T17:24:44.467Z"
   },
   {
    "duration": 1312,
    "start_time": "2023-01-07T17:25:23.624Z"
   },
   {
    "duration": 26,
    "start_time": "2023-01-07T17:26:02.873Z"
   },
   {
    "duration": 1111,
    "start_time": "2023-01-07T17:26:34.937Z"
   },
   {
    "duration": 45,
    "start_time": "2023-01-07T17:26:42.113Z"
   },
   {
    "duration": 1302,
    "start_time": "2023-01-07T17:26:48.436Z"
   },
   {
    "duration": 28716,
    "start_time": "2023-01-07T17:27:30.008Z"
   },
   {
    "duration": 49,
    "start_time": "2023-01-07T17:28:07.797Z"
   },
   {
    "duration": 2086,
    "start_time": "2023-01-07T17:28:18.613Z"
   },
   {
    "duration": 47,
    "start_time": "2023-01-07T17:28:27.311Z"
   },
   {
    "duration": 1058,
    "start_time": "2023-01-07T17:29:30.125Z"
   },
   {
    "duration": 106,
    "start_time": "2023-01-07T17:29:31.209Z"
   },
   {
    "duration": 28565,
    "start_time": "2023-01-07T17:29:31.833Z"
   },
   {
    "duration": 139,
    "start_time": "2023-01-07T17:30:00.400Z"
   },
   {
    "duration": 7164,
    "start_time": "2023-01-07T17:30:00.541Z"
   },
   {
    "duration": 221,
    "start_time": "2023-01-07T17:30:07.707Z"
   },
   {
    "duration": 1124,
    "start_time": "2023-01-07T17:30:07.930Z"
   },
   {
    "duration": 51,
    "start_time": "2023-01-07T17:49:28.301Z"
   },
   {
    "duration": 43,
    "start_time": "2023-01-07T17:51:28.589Z"
   },
   {
    "duration": 3,
    "start_time": "2023-01-07T17:52:08.873Z"
   },
   {
    "duration": 5,
    "start_time": "2023-01-07T17:52:21.457Z"
   },
   {
    "duration": 41,
    "start_time": "2023-01-07T17:52:21.617Z"
   },
   {
    "duration": 12,
    "start_time": "2023-01-07T17:52:21.786Z"
   },
   {
    "duration": 17,
    "start_time": "2023-01-07T17:52:21.954Z"
   },
   {
    "duration": 52,
    "start_time": "2023-01-07T17:52:22.126Z"
   },
   {
    "duration": 5,
    "start_time": "2023-01-07T17:52:22.298Z"
   },
   {
    "duration": 5,
    "start_time": "2023-01-07T17:52:23.021Z"
   },
   {
    "duration": 4,
    "start_time": "2023-01-07T17:52:23.226Z"
   },
   {
    "duration": 12,
    "start_time": "2023-01-07T17:52:23.634Z"
   },
   {
    "duration": 7,
    "start_time": "2023-01-07T17:52:23.985Z"
   },
   {
    "duration": 6,
    "start_time": "2023-01-07T17:52:24.319Z"
   },
   {
    "duration": 12,
    "start_time": "2023-01-07T17:52:24.635Z"
   },
   {
    "duration": 18,
    "start_time": "2023-01-07T17:52:24.809Z"
   },
   {
    "duration": 7,
    "start_time": "2023-01-07T17:52:25.358Z"
   },
   {
    "duration": 8,
    "start_time": "2023-01-07T17:52:25.547Z"
   },
   {
    "duration": 4,
    "start_time": "2023-01-07T17:52:25.710Z"
   },
   {
    "duration": 5,
    "start_time": "2023-01-07T17:52:25.896Z"
   },
   {
    "duration": 12,
    "start_time": "2023-01-07T17:52:26.079Z"
   },
   {
    "duration": 7,
    "start_time": "2023-01-07T17:52:26.238Z"
   },
   {
    "duration": 4,
    "start_time": "2023-01-07T17:52:26.580Z"
   },
   {
    "duration": 23,
    "start_time": "2023-01-07T17:52:26.754Z"
   },
   {
    "duration": 14,
    "start_time": "2023-01-07T17:52:27.666Z"
   },
   {
    "duration": 6,
    "start_time": "2023-01-07T17:52:28.045Z"
   },
   {
    "duration": 28,
    "start_time": "2023-01-07T17:52:28.401Z"
   },
   {
    "duration": 5,
    "start_time": "2023-01-07T17:52:28.586Z"
   },
   {
    "duration": 6,
    "start_time": "2023-01-07T17:52:28.964Z"
   },
   {
    "duration": 9,
    "start_time": "2023-01-07T17:52:29.149Z"
   },
   {
    "duration": 2,
    "start_time": "2023-01-07T17:52:29.894Z"
   },
   {
    "duration": 1005,
    "start_time": "2023-01-07T17:52:30.078Z"
   },
   {
    "duration": 12,
    "start_time": "2023-01-07T17:52:31.085Z"
   },
   {
    "duration": 26196,
    "start_time": "2023-01-07T17:52:31.099Z"
   },
   {
    "duration": 29884,
    "start_time": "2023-01-07T17:52:57.299Z"
   },
   {
    "duration": 13,
    "start_time": "2023-01-07T17:53:27.185Z"
   },
   {
    "duration": 300,
    "start_time": "2023-01-07T17:53:27.199Z"
   },
   {
    "duration": 0,
    "start_time": "2023-01-07T17:53:27.501Z"
   },
   {
    "duration": 0,
    "start_time": "2023-01-07T17:53:27.502Z"
   },
   {
    "duration": 0,
    "start_time": "2023-01-07T17:53:27.503Z"
   },
   {
    "duration": 0,
    "start_time": "2023-01-07T17:53:27.504Z"
   },
   {
    "duration": 0,
    "start_time": "2023-01-07T17:53:27.505Z"
   },
   {
    "duration": 0,
    "start_time": "2023-01-07T17:53:27.506Z"
   },
   {
    "duration": 0,
    "start_time": "2023-01-07T17:53:27.506Z"
   },
   {
    "duration": 0,
    "start_time": "2023-01-07T17:53:27.508Z"
   },
   {
    "duration": 0,
    "start_time": "2023-01-07T17:53:27.508Z"
   },
   {
    "duration": 0,
    "start_time": "2023-01-07T17:53:27.509Z"
   },
   {
    "duration": 0,
    "start_time": "2023-01-07T17:53:27.510Z"
   },
   {
    "duration": 0,
    "start_time": "2023-01-07T17:53:27.511Z"
   },
   {
    "duration": 0,
    "start_time": "2023-01-07T17:53:27.512Z"
   },
   {
    "duration": 0,
    "start_time": "2023-01-07T17:53:27.513Z"
   },
   {
    "duration": 0,
    "start_time": "2023-01-07T17:53:27.514Z"
   },
   {
    "duration": 0,
    "start_time": "2023-01-07T17:53:27.515Z"
   },
   {
    "duration": 0,
    "start_time": "2023-01-07T17:53:27.515Z"
   },
   {
    "duration": 0,
    "start_time": "2023-01-07T17:53:27.516Z"
   },
   {
    "duration": 0,
    "start_time": "2023-01-07T17:53:27.517Z"
   },
   {
    "duration": 0,
    "start_time": "2023-01-07T17:53:27.518Z"
   },
   {
    "duration": 0,
    "start_time": "2023-01-07T17:53:27.520Z"
   },
   {
    "duration": 11,
    "start_time": "2023-01-07T17:54:53.047Z"
   },
   {
    "duration": 4,
    "start_time": "2023-01-07T17:55:19.214Z"
   },
   {
    "duration": 2719,
    "start_time": "2023-01-07T17:55:30.782Z"
   },
   {
    "duration": 29565,
    "start_time": "2023-01-07T17:55:49.998Z"
   },
   {
    "duration": 2310,
    "start_time": "2023-01-07T17:56:53.951Z"
   },
   {
    "duration": 2804,
    "start_time": "2023-01-07T17:59:57.123Z"
   },
   {
    "duration": 2878,
    "start_time": "2023-01-07T18:00:27.991Z"
   },
   {
    "duration": 3844,
    "start_time": "2023-01-07T18:00:46.530Z"
   },
   {
    "duration": 18989,
    "start_time": "2023-01-07T18:01:17.163Z"
   },
   {
    "duration": 189841,
    "start_time": "2023-01-07T18:01:43.524Z"
   },
   {
    "duration": 51,
    "start_time": "2023-01-07T18:04:53.367Z"
   },
   {
    "duration": 47,
    "start_time": "2023-01-07T18:06:22.963Z"
   },
   {
    "duration": 11,
    "start_time": "2023-01-07T18:06:58.026Z"
   },
   {
    "duration": 29003,
    "start_time": "2023-01-07T18:07:12.282Z"
   },
   {
    "duration": 26725,
    "start_time": "2023-01-07T18:08:13.585Z"
   },
   {
    "duration": 1251,
    "start_time": "2023-01-07T18:14:58.731Z"
   },
   {
    "duration": 43,
    "start_time": "2023-01-07T18:14:59.984Z"
   },
   {
    "duration": 20,
    "start_time": "2023-01-07T18:15:00.029Z"
   },
   {
    "duration": 23,
    "start_time": "2023-01-07T18:15:00.053Z"
   },
   {
    "duration": 49,
    "start_time": "2023-01-07T18:15:00.078Z"
   },
   {
    "duration": 4,
    "start_time": "2023-01-07T18:15:00.129Z"
   },
   {
    "duration": 22,
    "start_time": "2023-01-07T18:15:00.134Z"
   },
   {
    "duration": 17,
    "start_time": "2023-01-07T18:15:00.158Z"
   },
   {
    "duration": 21,
    "start_time": "2023-01-07T18:15:00.176Z"
   },
   {
    "duration": 9,
    "start_time": "2023-01-07T18:15:00.200Z"
   },
   {
    "duration": 19,
    "start_time": "2023-01-07T18:15:00.211Z"
   },
   {
    "duration": 15,
    "start_time": "2023-01-07T18:15:00.232Z"
   },
   {
    "duration": 28,
    "start_time": "2023-01-07T18:15:00.248Z"
   },
   {
    "duration": 22,
    "start_time": "2023-01-07T18:15:00.278Z"
   },
   {
    "duration": 23,
    "start_time": "2023-01-07T18:15:00.302Z"
   },
   {
    "duration": 19,
    "start_time": "2023-01-07T18:15:00.326Z"
   },
   {
    "duration": 24,
    "start_time": "2023-01-07T18:15:00.347Z"
   },
   {
    "duration": 44,
    "start_time": "2023-01-07T18:15:00.372Z"
   },
   {
    "duration": 32,
    "start_time": "2023-01-07T18:15:00.418Z"
   },
   {
    "duration": 21,
    "start_time": "2023-01-07T18:15:00.452Z"
   },
   {
    "duration": 43,
    "start_time": "2023-01-07T18:15:00.474Z"
   },
   {
    "duration": 28,
    "start_time": "2023-01-07T18:15:00.519Z"
   },
   {
    "duration": 18,
    "start_time": "2023-01-07T18:15:00.549Z"
   },
   {
    "duration": 52,
    "start_time": "2023-01-07T18:15:00.568Z"
   },
   {
    "duration": 4,
    "start_time": "2023-01-07T18:15:00.623Z"
   },
   {
    "duration": 36,
    "start_time": "2023-01-07T18:15:00.628Z"
   },
   {
    "duration": 38,
    "start_time": "2023-01-07T18:15:00.666Z"
   },
   {
    "duration": 36,
    "start_time": "2023-01-07T18:15:00.708Z"
   },
   {
    "duration": 1014,
    "start_time": "2023-01-07T18:15:00.745Z"
   },
   {
    "duration": 2,
    "start_time": "2023-01-07T18:15:01.762Z"
   },
   {
    "duration": 24744,
    "start_time": "2023-01-07T18:15:01.766Z"
   },
   {
    "duration": 28132,
    "start_time": "2023-01-07T18:15:26.512Z"
   },
   {
    "duration": 3,
    "start_time": "2023-01-07T18:15:54.645Z"
   },
   {
    "duration": 380,
    "start_time": "2023-01-07T18:15:54.650Z"
   },
   {
    "duration": 0,
    "start_time": "2023-01-07T18:15:55.031Z"
   },
   {
    "duration": 0,
    "start_time": "2023-01-07T18:15:55.033Z"
   },
   {
    "duration": 0,
    "start_time": "2023-01-07T18:15:55.034Z"
   },
   {
    "duration": 0,
    "start_time": "2023-01-07T18:15:55.036Z"
   },
   {
    "duration": 0,
    "start_time": "2023-01-07T18:15:55.037Z"
   },
   {
    "duration": 0,
    "start_time": "2023-01-07T18:15:55.038Z"
   },
   {
    "duration": 0,
    "start_time": "2023-01-07T18:15:55.040Z"
   },
   {
    "duration": 0,
    "start_time": "2023-01-07T18:15:55.042Z"
   },
   {
    "duration": 0,
    "start_time": "2023-01-07T18:15:55.043Z"
   },
   {
    "duration": 0,
    "start_time": "2023-01-07T18:15:55.045Z"
   },
   {
    "duration": 0,
    "start_time": "2023-01-07T18:15:55.047Z"
   },
   {
    "duration": 0,
    "start_time": "2023-01-07T18:15:55.048Z"
   },
   {
    "duration": 0,
    "start_time": "2023-01-07T18:15:55.049Z"
   },
   {
    "duration": 0,
    "start_time": "2023-01-07T18:15:55.051Z"
   },
   {
    "duration": 0,
    "start_time": "2023-01-07T18:15:55.052Z"
   },
   {
    "duration": 0,
    "start_time": "2023-01-07T18:15:55.053Z"
   },
   {
    "duration": 0,
    "start_time": "2023-01-07T18:15:55.054Z"
   },
   {
    "duration": 0,
    "start_time": "2023-01-07T18:15:55.056Z"
   },
   {
    "duration": 0,
    "start_time": "2023-01-07T18:15:55.097Z"
   },
   {
    "duration": 0,
    "start_time": "2023-01-07T18:15:55.099Z"
   },
   {
    "duration": 0,
    "start_time": "2023-01-07T18:15:55.100Z"
   },
   {
    "duration": 0,
    "start_time": "2023-01-07T18:15:55.101Z"
   },
   {
    "duration": 0,
    "start_time": "2023-01-07T18:15:55.102Z"
   },
   {
    "duration": 0,
    "start_time": "2023-01-07T18:15:55.103Z"
   },
   {
    "duration": 1126,
    "start_time": "2023-01-07T18:17:54.228Z"
   },
   {
    "duration": 4683,
    "start_time": "2023-01-07T18:18:57.824Z"
   },
   {
    "duration": 27258,
    "start_time": "2023-01-07T18:19:12.387Z"
   },
   {
    "duration": 58,
    "start_time": "2023-01-07T18:19:39.647Z"
   },
   {
    "duration": 1421,
    "start_time": "2023-01-07T18:19:52.377Z"
   },
   {
    "duration": 11,
    "start_time": "2023-01-07T18:19:56.789Z"
   },
   {
    "duration": 1625,
    "start_time": "2023-01-07T18:19:56.992Z"
   },
   {
    "duration": 45815,
    "start_time": "2023-01-07T18:19:58.619Z"
   },
   {
    "duration": 5571,
    "start_time": "2023-01-07T18:20:44.436Z"
   },
   {
    "duration": 99,
    "start_time": "2023-01-07T18:20:50.101Z"
   },
   {
    "duration": 537,
    "start_time": "2023-01-07T18:20:50.201Z"
   },
   {
    "duration": 14586,
    "start_time": "2023-01-07T18:20:50.739Z"
   },
   {
    "duration": 1771,
    "start_time": "2023-01-07T18:21:05.327Z"
   },
   {
    "duration": 1150,
    "start_time": "2023-01-07T18:21:07.101Z"
   },
   {
    "duration": 123,
    "start_time": "2023-01-07T18:21:08.253Z"
   },
   {
    "duration": 9206,
    "start_time": "2023-01-07T18:22:16.684Z"
   },
   {
    "duration": 0,
    "start_time": "2023-01-07T18:22:25.897Z"
   },
   {
    "duration": 0,
    "start_time": "2023-01-07T18:22:25.902Z"
   },
   {
    "duration": 0,
    "start_time": "2023-01-07T18:22:25.906Z"
   },
   {
    "duration": 0,
    "start_time": "2023-01-07T18:22:25.907Z"
   },
   {
    "duration": 0,
    "start_time": "2023-01-07T18:22:25.908Z"
   },
   {
    "duration": 0,
    "start_time": "2023-01-07T18:22:25.909Z"
   },
   {
    "duration": 31266,
    "start_time": "2023-01-07T18:22:28.060Z"
   },
   {
    "duration": 126,
    "start_time": "2023-01-07T18:23:18.535Z"
   },
   {
    "duration": 2999,
    "start_time": "2023-01-07T18:23:22.997Z"
   },
   {
    "duration": 142,
    "start_time": "2023-01-07T18:23:25.999Z"
   },
   {
    "duration": 3,
    "start_time": "2023-01-07T18:45:56.986Z"
   },
   {
    "duration": 6,
    "start_time": "2023-01-07T18:45:57.403Z"
   },
   {
    "duration": 3,
    "start_time": "2023-01-07T18:45:57.778Z"
   },
   {
    "duration": 96174,
    "start_time": "2023-01-07T18:45:58.370Z"
   },
   {
    "duration": 0,
    "start_time": "2023-01-07T18:47:34.546Z"
   },
   {
    "duration": 0,
    "start_time": "2023-01-07T18:47:34.546Z"
   },
   {
    "duration": 3,
    "start_time": "2023-01-07T18:48:02.514Z"
   },
   {
    "duration": 3,
    "start_time": "2023-01-07T18:48:02.926Z"
   },
   {
    "duration": 1230493,
    "start_time": "2023-01-07T18:48:06.174Z"
   },
   {
    "duration": 0,
    "start_time": "2023-01-07T19:08:36.669Z"
   },
   {
    "duration": 3,
    "start_time": "2023-01-07T19:10:27.675Z"
   },
   {
    "duration": 3,
    "start_time": "2023-01-07T19:10:28.043Z"
   },
   {
    "duration": 3,
    "start_time": "2023-01-07T19:10:28.511Z"
   },
   {
    "duration": 363035,
    "start_time": "2023-01-07T19:10:30.511Z"
   },
   {
    "duration": 0,
    "start_time": "2023-01-07T19:16:33.549Z"
   },
   {
    "duration": 4,
    "start_time": "2023-01-07T19:17:06.855Z"
   },
   {
    "duration": 48,
    "start_time": "2023-01-07T19:17:07.010Z"
   },
   {
    "duration": 14,
    "start_time": "2023-01-07T19:17:07.206Z"
   },
   {
    "duration": 15,
    "start_time": "2023-01-07T19:17:07.918Z"
   },
   {
    "duration": 37,
    "start_time": "2023-01-07T19:17:08.358Z"
   },
   {
    "duration": 5,
    "start_time": "2023-01-07T19:17:09.938Z"
   },
   {
    "duration": 4,
    "start_time": "2023-01-07T19:17:10.562Z"
   },
   {
    "duration": 4,
    "start_time": "2023-01-07T19:17:10.729Z"
   },
   {
    "duration": 10,
    "start_time": "2023-01-07T19:17:11.057Z"
   },
   {
    "duration": 8,
    "start_time": "2023-01-07T19:17:11.406Z"
   },
   {
    "duration": 7,
    "start_time": "2023-01-07T19:17:11.754Z"
   },
   {
    "duration": 9,
    "start_time": "2023-01-07T19:17:12.106Z"
   },
   {
    "duration": 15,
    "start_time": "2023-01-07T19:17:12.265Z"
   },
   {
    "duration": 7,
    "start_time": "2023-01-07T19:17:12.769Z"
   },
   {
    "duration": 8,
    "start_time": "2023-01-07T19:17:12.966Z"
   },
   {
    "duration": 5,
    "start_time": "2023-01-07T19:17:13.126Z"
   },
   {
    "duration": 4,
    "start_time": "2023-01-07T19:17:13.295Z"
   },
   {
    "duration": 11,
    "start_time": "2023-01-07T19:17:13.458Z"
   },
   {
    "duration": 8,
    "start_time": "2023-01-07T19:17:13.622Z"
   },
   {
    "duration": 3,
    "start_time": "2023-01-07T19:17:13.981Z"
   },
   {
    "duration": 18,
    "start_time": "2023-01-07T19:17:14.154Z"
   },
   {
    "duration": 11,
    "start_time": "2023-01-07T19:17:14.982Z"
   },
   {
    "duration": 5,
    "start_time": "2023-01-07T19:17:16.229Z"
   },
   {
    "duration": 31,
    "start_time": "2023-01-07T19:17:20.003Z"
   },
   {
    "duration": 4,
    "start_time": "2023-01-07T19:17:20.706Z"
   },
   {
    "duration": 6,
    "start_time": "2023-01-07T19:17:23.193Z"
   },
   {
    "duration": 8,
    "start_time": "2023-01-07T19:17:23.542Z"
   },
   {
    "duration": 3,
    "start_time": "2023-01-07T19:17:32.130Z"
   },
   {
    "duration": 4,
    "start_time": "2023-01-07T19:17:32.730Z"
   },
   {
    "duration": 4,
    "start_time": "2023-01-07T19:17:33.690Z"
   },
   {
    "duration": 1324,
    "start_time": "2023-01-07T19:33:49.769Z"
   },
   {
    "duration": 44,
    "start_time": "2023-01-07T19:33:51.095Z"
   },
   {
    "duration": 21,
    "start_time": "2023-01-07T19:33:51.268Z"
   },
   {
    "duration": 14,
    "start_time": "2023-01-07T19:33:51.917Z"
   },
   {
    "duration": 37,
    "start_time": "2023-01-07T19:33:52.365Z"
   },
   {
    "duration": 5,
    "start_time": "2023-01-07T19:33:52.573Z"
   },
   {
    "duration": 5,
    "start_time": "2023-01-07T19:33:53.299Z"
   },
   {
    "duration": 4,
    "start_time": "2023-01-07T19:33:53.441Z"
   },
   {
    "duration": 15,
    "start_time": "2023-01-07T19:33:53.796Z"
   },
   {
    "duration": 10,
    "start_time": "2023-01-07T19:33:54.153Z"
   },
   {
    "duration": 7,
    "start_time": "2023-01-07T19:33:54.513Z"
   },
   {
    "duration": 8,
    "start_time": "2023-01-07T19:33:54.848Z"
   },
   {
    "duration": 13,
    "start_time": "2023-01-07T19:33:55.038Z"
   },
   {
    "duration": 11,
    "start_time": "2023-01-07T19:33:55.541Z"
   },
   {
    "duration": 9,
    "start_time": "2023-01-07T19:33:55.714Z"
   },
   {
    "duration": 6,
    "start_time": "2023-01-07T19:33:55.896Z"
   },
   {
    "duration": 5,
    "start_time": "2023-01-07T19:33:56.044Z"
   },
   {
    "duration": 11,
    "start_time": "2023-01-07T19:33:56.228Z"
   },
   {
    "duration": 6,
    "start_time": "2023-01-07T19:33:56.406Z"
   },
   {
    "duration": 4,
    "start_time": "2023-01-07T19:33:56.797Z"
   },
   {
    "duration": 18,
    "start_time": "2023-01-07T19:33:56.973Z"
   },
   {
    "duration": 12,
    "start_time": "2023-01-07T19:33:58.224Z"
   },
   {
    "duration": 5,
    "start_time": "2023-01-07T19:34:00.461Z"
   },
   {
    "duration": 25,
    "start_time": "2023-01-07T19:34:01.001Z"
   },
   {
    "duration": 4,
    "start_time": "2023-01-07T19:34:01.295Z"
   },
   {
    "duration": 5,
    "start_time": "2023-01-07T19:34:01.872Z"
   },
   {
    "duration": 8,
    "start_time": "2023-01-07T19:34:12.997Z"
   },
   {
    "duration": 2,
    "start_time": "2023-01-07T19:34:13.833Z"
   },
   {
    "duration": 1080,
    "start_time": "2023-01-07T19:34:14.037Z"
   },
   {
    "duration": 2,
    "start_time": "2023-01-07T19:34:15.119Z"
   },
   {
    "duration": 25718,
    "start_time": "2023-01-07T19:34:15.123Z"
   },
   {
    "duration": 27900,
    "start_time": "2023-01-07T19:34:40.844Z"
   },
   {
    "duration": 3,
    "start_time": "2023-01-07T19:35:08.746Z"
   },
   {
    "duration": 5154,
    "start_time": "2023-01-07T19:35:08.751Z"
   },
   {
    "duration": 6,
    "start_time": "2023-01-07T19:35:13.908Z"
   },
   {
    "duration": 103,
    "start_time": "2023-01-07T19:35:13.917Z"
   },
   {
    "duration": 12,
    "start_time": "2023-01-07T19:35:14.021Z"
   },
   {
    "duration": 16,
    "start_time": "2023-01-07T19:35:14.036Z"
   },
   {
    "duration": 1206,
    "start_time": "2023-01-07T19:35:14.053Z"
   },
   {
    "duration": 27250,
    "start_time": "2023-01-07T19:35:15.261Z"
   },
   {
    "duration": 2111,
    "start_time": "2023-01-07T19:35:42.514Z"
   },
   {
    "duration": 17,
    "start_time": "2023-01-07T19:35:44.700Z"
   },
   {
    "duration": 1706,
    "start_time": "2023-01-07T19:35:44.721Z"
   },
   {
    "duration": 50284,
    "start_time": "2023-01-07T19:35:46.429Z"
   },
   {
    "duration": 4997,
    "start_time": "2023-01-07T19:36:36.715Z"
   },
   {
    "duration": 99,
    "start_time": "2023-01-07T19:36:41.714Z"
   },
   {
    "duration": 568,
    "start_time": "2023-01-07T19:36:41.817Z"
   },
   {
    "duration": 15134,
    "start_time": "2023-01-07T19:36:42.387Z"
   },
   {
    "duration": 3004,
    "start_time": "2023-01-07T19:36:57.523Z"
   },
   {
    "duration": 1348,
    "start_time": "2023-01-07T19:37:00.603Z"
   },
   {
    "duration": 170,
    "start_time": "2023-01-07T19:37:01.953Z"
   },
   {
    "duration": 31408,
    "start_time": "2023-01-07T19:37:02.127Z"
   },
   {
    "duration": 136,
    "start_time": "2023-01-07T19:37:33.537Z"
   },
   {
    "duration": 3146,
    "start_time": "2023-01-07T19:37:33.675Z"
   },
   {
    "duration": 283,
    "start_time": "2023-01-07T19:37:36.827Z"
   },
   {
    "duration": 67459,
    "start_time": "2023-01-07T19:39:05.086Z"
   },
   {
    "duration": 48257,
    "start_time": "2023-01-07T19:42:43.201Z"
   },
   {
    "duration": 26771,
    "start_time": "2023-01-07T19:45:29.131Z"
   },
   {
    "duration": 10611,
    "start_time": "2023-01-07T19:45:58.511Z"
   },
   {
    "duration": 17956,
    "start_time": "2023-01-07T19:46:14.131Z"
   },
   {
    "duration": 92372,
    "start_time": "2023-01-07T19:46:38.132Z"
   },
   {
    "duration": 47287,
    "start_time": "2023-01-07T19:48:19.692Z"
   },
   {
    "duration": 979,
    "start_time": "2023-01-07T19:50:04.037Z"
   },
   {
    "duration": 766,
    "start_time": "2023-01-07T19:50:23.829Z"
   },
   {
    "duration": 787,
    "start_time": "2023-01-07T19:50:37.277Z"
   },
   {
    "duration": 9510,
    "start_time": "2023-01-07T19:51:05.821Z"
   },
   {
    "duration": 29725,
    "start_time": "2023-01-07T19:51:38.748Z"
   },
   {
    "duration": 47545,
    "start_time": "2023-01-07T19:52:15.501Z"
   },
   {
    "duration": 5184,
    "start_time": "2023-01-07T19:53:19.634Z"
   },
   {
    "duration": 5741,
    "start_time": "2023-01-07T19:53:33.261Z"
   },
   {
    "duration": 6241,
    "start_time": "2023-01-07T19:53:43.245Z"
   },
   {
    "duration": 30037,
    "start_time": "2023-01-07T19:53:53.733Z"
   },
   {
    "duration": 1195,
    "start_time": "2023-01-07T19:57:14.953Z"
   },
   {
    "duration": 41,
    "start_time": "2023-01-07T19:57:16.150Z"
   },
   {
    "duration": 14,
    "start_time": "2023-01-07T19:57:16.193Z"
   },
   {
    "duration": 13,
    "start_time": "2023-01-07T19:57:16.209Z"
   },
   {
    "duration": 37,
    "start_time": "2023-01-07T19:57:19.270Z"
   },
   {
    "duration": 4,
    "start_time": "2023-01-07T19:57:19.434Z"
   },
   {
    "duration": 5,
    "start_time": "2023-01-07T19:57:20.086Z"
   },
   {
    "duration": 3,
    "start_time": "2023-01-07T19:57:20.249Z"
   },
   {
    "duration": 10,
    "start_time": "2023-01-07T19:57:20.587Z"
   },
   {
    "duration": 8,
    "start_time": "2023-01-07T19:57:20.906Z"
   },
   {
    "duration": 6,
    "start_time": "2023-01-07T19:57:21.246Z"
   },
   {
    "duration": 9,
    "start_time": "2023-01-07T19:57:21.587Z"
   },
   {
    "duration": 14,
    "start_time": "2023-01-07T19:57:21.754Z"
   },
   {
    "duration": 8,
    "start_time": "2023-01-07T19:57:22.274Z"
   },
   {
    "duration": 8,
    "start_time": "2023-01-07T19:57:22.438Z"
   },
   {
    "duration": 4,
    "start_time": "2023-01-07T19:57:22.606Z"
   },
   {
    "duration": 4,
    "start_time": "2023-01-07T19:57:22.778Z"
   },
   {
    "duration": 10,
    "start_time": "2023-01-07T19:57:22.941Z"
   },
   {
    "duration": 5,
    "start_time": "2023-01-07T19:57:23.103Z"
   },
   {
    "duration": 3,
    "start_time": "2023-01-07T19:57:23.426Z"
   },
   {
    "duration": 16,
    "start_time": "2023-01-07T19:57:23.578Z"
   },
   {
    "duration": 12,
    "start_time": "2023-01-07T19:57:24.950Z"
   },
   {
    "duration": 6,
    "start_time": "2023-01-07T19:57:25.762Z"
   },
   {
    "duration": 28,
    "start_time": "2023-01-07T19:57:26.458Z"
   },
   {
    "duration": 4,
    "start_time": "2023-01-07T19:57:26.626Z"
   },
   {
    "duration": 5,
    "start_time": "2023-01-07T19:57:27.114Z"
   },
   {
    "duration": 7,
    "start_time": "2023-01-07T19:57:27.307Z"
   },
   {
    "duration": 3,
    "start_time": "2023-01-07T19:57:28.454Z"
   },
   {
    "duration": 142,
    "start_time": "2023-01-07T19:57:42.265Z"
   },
   {
    "duration": 24040,
    "start_time": "2023-01-07T19:58:03.166Z"
   },
   {
    "duration": 65660,
    "start_time": "2023-01-07T19:58:31.187Z"
   },
   {
    "duration": 39872,
    "start_time": "2023-01-07T19:59:52.607Z"
   },
   {
    "duration": 49403,
    "start_time": "2023-01-07T20:00:45.511Z"
   },
   {
    "duration": 36709,
    "start_time": "2023-01-07T20:03:19.340Z"
   },
   {
    "duration": 31752,
    "start_time": "2023-01-07T20:04:41.645Z"
   },
   {
    "duration": 13,
    "start_time": "2023-01-07T20:07:23.681Z"
   },
   {
    "duration": 4,
    "start_time": "2023-01-07T20:07:29.549Z"
   },
   {
    "duration": 40,
    "start_time": "2023-01-07T20:07:29.713Z"
   },
   {
    "duration": 12,
    "start_time": "2023-01-07T20:07:29.892Z"
   },
   {
    "duration": 16,
    "start_time": "2023-01-07T20:07:30.046Z"
   },
   {
    "duration": 35,
    "start_time": "2023-01-07T20:07:30.209Z"
   },
   {
    "duration": 4,
    "start_time": "2023-01-07T20:07:30.369Z"
   },
   {
    "duration": 5,
    "start_time": "2023-01-07T20:07:31.021Z"
   },
   {
    "duration": 4,
    "start_time": "2023-01-07T20:07:31.210Z"
   },
   {
    "duration": 13,
    "start_time": "2023-01-07T20:07:31.517Z"
   },
   {
    "duration": 8,
    "start_time": "2023-01-07T20:07:31.833Z"
   },
   {
    "duration": 6,
    "start_time": "2023-01-07T20:07:32.157Z"
   },
   {
    "duration": 8,
    "start_time": "2023-01-07T20:07:32.508Z"
   },
   {
    "duration": 15,
    "start_time": "2023-01-07T20:07:32.668Z"
   },
   {
    "duration": 8,
    "start_time": "2023-01-07T20:07:33.169Z"
   },
   {
    "duration": 6,
    "start_time": "2023-01-07T20:07:33.341Z"
   },
   {
    "duration": 5,
    "start_time": "2023-01-07T20:07:33.508Z"
   },
   {
    "duration": 5,
    "start_time": "2023-01-07T20:07:33.673Z"
   },
   {
    "duration": 15,
    "start_time": "2023-01-07T20:07:33.842Z"
   },
   {
    "duration": 8,
    "start_time": "2023-01-07T20:07:34.013Z"
   },
   {
    "duration": 3,
    "start_time": "2023-01-07T20:07:34.343Z"
   },
   {
    "duration": 16,
    "start_time": "2023-01-07T20:07:34.502Z"
   },
   {
    "duration": 10,
    "start_time": "2023-01-07T20:07:35.377Z"
   },
   {
    "duration": 6,
    "start_time": "2023-01-07T20:07:35.712Z"
   },
   {
    "duration": 26,
    "start_time": "2023-01-07T20:07:36.045Z"
   },
   {
    "duration": 4,
    "start_time": "2023-01-07T20:07:36.209Z"
   },
   {
    "duration": 7,
    "start_time": "2023-01-07T20:07:36.537Z"
   },
   {
    "duration": 9,
    "start_time": "2023-01-07T20:07:36.705Z"
   },
   {
    "duration": 2,
    "start_time": "2023-01-07T20:07:37.369Z"
   },
   {
    "duration": 1031,
    "start_time": "2023-01-07T20:07:37.549Z"
   },
   {
    "duration": 2,
    "start_time": "2023-01-07T20:07:38.583Z"
   },
   {
    "duration": 25076,
    "start_time": "2023-01-07T20:07:38.587Z"
   },
   {
    "duration": 27918,
    "start_time": "2023-01-07T20:08:03.665Z"
   },
   {
    "duration": 2,
    "start_time": "2023-01-07T20:08:31.585Z"
   },
   {
    "duration": 3102,
    "start_time": "2023-01-07T20:08:31.597Z"
   },
   {
    "duration": 6,
    "start_time": "2023-01-07T20:08:34.702Z"
   },
   {
    "duration": 103,
    "start_time": "2023-01-07T20:08:34.710Z"
   },
   {
    "duration": 15,
    "start_time": "2023-01-07T20:08:34.815Z"
   },
   {
    "duration": 4,
    "start_time": "2023-01-07T20:08:34.834Z"
   },
   {
    "duration": 1123,
    "start_time": "2023-01-07T20:08:34.840Z"
   },
   {
    "duration": 27065,
    "start_time": "2023-01-07T20:08:35.965Z"
   },
   {
    "duration": 1975,
    "start_time": "2023-01-07T20:09:03.031Z"
   },
   {
    "duration": 97,
    "start_time": "2023-01-07T20:09:05.008Z"
   },
   {
    "duration": 1692,
    "start_time": "2023-01-07T20:09:05.107Z"
   },
   {
    "duration": 49501,
    "start_time": "2023-01-07T20:09:06.801Z"
   },
   {
    "duration": 2294,
    "start_time": "2023-01-07T20:09:56.304Z"
   },
   {
    "duration": 99,
    "start_time": "2023-01-07T20:09:58.600Z"
   },
   {
    "duration": 501,
    "start_time": "2023-01-07T20:09:58.700Z"
   },
   {
    "duration": 15304,
    "start_time": "2023-01-07T20:09:59.203Z"
   },
   {
    "duration": 1396,
    "start_time": "2023-01-07T20:10:14.509Z"
   },
   {
    "duration": 1248,
    "start_time": "2023-01-07T20:10:15.910Z"
   },
   {
    "duration": 144,
    "start_time": "2023-01-07T20:10:17.160Z"
   },
   {
    "duration": 29859,
    "start_time": "2023-01-07T20:10:17.305Z"
   },
   {
    "duration": 145,
    "start_time": "2023-01-07T20:10:47.166Z"
   },
   {
    "duration": 1898,
    "start_time": "2023-01-07T20:10:47.313Z"
   },
   {
    "duration": 319,
    "start_time": "2023-01-07T20:10:49.213Z"
   },
   {
    "duration": 37069,
    "start_time": "2023-01-07T20:10:49.535Z"
   },
   {
    "duration": 52,
    "start_time": "2023-01-07T20:11:26.606Z"
   },
   {
    "duration": 0,
    "start_time": "2023-01-07T20:11:26.659Z"
   },
   {
    "duration": 1,
    "start_time": "2023-01-07T20:11:26.660Z"
   },
   {
    "duration": 25684,
    "start_time": "2023-01-07T20:12:07.982Z"
   },
   {
    "duration": 25722,
    "start_time": "2023-01-07T20:13:14.366Z"
   },
   {
    "duration": 51626,
    "start_time": "2023-01-07T20:13:58.597Z"
   },
   {
    "duration": 15330,
    "start_time": "2023-01-07T20:15:30.156Z"
   },
   {
    "duration": 58,
    "start_time": "2023-01-07T20:16:07.206Z"
   },
   {
    "duration": 59,
    "start_time": "2023-01-07T20:16:25.413Z"
   },
   {
    "duration": 55240,
    "start_time": "2023-01-07T20:16:36.514Z"
   },
   {
    "duration": 50840,
    "start_time": "2023-01-07T20:17:46.847Z"
   },
   {
    "duration": 0,
    "start_time": "2023-01-07T20:18:59.495Z"
   },
   {
    "duration": 30079,
    "start_time": "2023-01-07T20:19:03.156Z"
   },
   {
    "duration": 101083,
    "start_time": "2023-01-07T20:20:29.008Z"
   },
   {
    "duration": 13032,
    "start_time": "2023-01-07T20:22:59.262Z"
   },
   {
    "duration": 50,
    "start_time": "2023-01-07T20:23:44.831Z"
   },
   {
    "duration": 20374,
    "start_time": "2023-01-07T20:23:57.286Z"
   },
   {
    "duration": 75665,
    "start_time": "2023-01-07T20:24:19.915Z"
   },
   {
    "duration": 34284,
    "start_time": "2023-01-07T20:25:39.152Z"
   },
   {
    "duration": 1997,
    "start_time": "2023-01-07T20:27:00.065Z"
   },
   {
    "duration": 1891,
    "start_time": "2023-01-07T20:27:09.721Z"
   },
   {
    "duration": 1794,
    "start_time": "2023-01-07T20:27:32.506Z"
   },
   {
    "duration": 2059,
    "start_time": "2023-01-07T20:27:44.325Z"
   },
   {
    "duration": 1896,
    "start_time": "2023-01-07T20:28:30.462Z"
   },
   {
    "duration": 55316,
    "start_time": "2023-01-07T20:30:55.855Z"
   },
   {
    "duration": 111341,
    "start_time": "2023-01-07T20:32:15.439Z"
   },
   {
    "duration": 37287,
    "start_time": "2023-01-07T20:34:33.520Z"
   },
   {
    "duration": 1892,
    "start_time": "2023-01-07T20:35:45.628Z"
   },
   {
    "duration": 1699,
    "start_time": "2023-01-07T20:37:08.349Z"
   },
   {
    "duration": 49,
    "start_time": "2023-01-07T20:38:23.818Z"
   },
   {
    "duration": 1775,
    "start_time": "2023-01-07T20:38:36.122Z"
   },
   {
    "duration": 2045,
    "start_time": "2023-01-07T20:39:43.483Z"
   },
   {
    "duration": 1758,
    "start_time": "2023-01-07T20:40:47.221Z"
   },
   {
    "duration": 1880,
    "start_time": "2023-01-07T20:40:54.621Z"
   },
   {
    "duration": 1907,
    "start_time": "2023-01-07T20:41:25.960Z"
   },
   {
    "duration": 1976,
    "start_time": "2023-01-07T20:41:33.075Z"
   },
   {
    "duration": 1899,
    "start_time": "2023-01-07T20:42:02.411Z"
   },
   {
    "duration": 1909,
    "start_time": "2023-01-07T20:42:06.235Z"
   },
   {
    "duration": 16996,
    "start_time": "2023-01-07T20:43:13.640Z"
   },
   {
    "duration": 18373,
    "start_time": "2023-01-07T20:44:17.981Z"
   },
   {
    "duration": 18276,
    "start_time": "2023-01-07T20:45:06.925Z"
   },
   {
    "duration": 17142,
    "start_time": "2023-01-07T20:45:43.577Z"
   },
   {
    "duration": 17128,
    "start_time": "2023-01-07T20:46:41.236Z"
   },
   {
    "duration": 17352,
    "start_time": "2023-01-07T20:47:05.674Z"
   },
   {
    "duration": 45,
    "start_time": "2023-01-07T20:48:05.522Z"
   },
   {
    "duration": 17015,
    "start_time": "2023-01-07T20:48:21.750Z"
   },
   {
    "duration": 46,
    "start_time": "2023-01-07T20:49:29.315Z"
   },
   {
    "duration": 18003,
    "start_time": "2023-01-07T20:49:35.001Z"
   },
   {
    "duration": 17119,
    "start_time": "2023-01-07T20:50:29.226Z"
   },
   {
    "duration": 18755,
    "start_time": "2023-01-07T20:53:29.136Z"
   },
   {
    "duration": 18751,
    "start_time": "2023-01-07T20:54:16.924Z"
   },
   {
    "duration": 2810,
    "start_time": "2023-01-07T21:02:53.420Z"
   },
   {
    "duration": 2604,
    "start_time": "2023-01-07T21:04:16.055Z"
   },
   {
    "duration": 5299,
    "start_time": "2023-01-07T21:04:56.528Z"
   },
   {
    "duration": 4366,
    "start_time": "2023-01-07T21:05:35.680Z"
   },
   {
    "duration": 4653,
    "start_time": "2023-01-07T21:06:09.379Z"
   },
   {
    "duration": 62,
    "start_time": "2023-01-07T21:06:46.827Z"
   },
   {
    "duration": 12,
    "start_time": "2023-01-07T21:07:06.753Z"
   },
   {
    "duration": 4,
    "start_time": "2023-01-07T21:07:12.055Z"
   },
   {
    "duration": 3,
    "start_time": "2023-01-07T21:08:09.533Z"
   },
   {
    "duration": 3,
    "start_time": "2023-01-07T21:08:15.841Z"
   },
   {
    "duration": 11,
    "start_time": "2023-01-07T21:08:24.710Z"
   },
   {
    "duration": 4,
    "start_time": "2023-01-07T21:08:27.554Z"
   },
   {
    "duration": 4,
    "start_time": "2023-01-07T21:08:39.933Z"
   },
   {
    "duration": 4,
    "start_time": "2023-01-07T21:08:50.276Z"
   },
   {
    "duration": 4,
    "start_time": "2023-01-07T21:08:52.877Z"
   },
   {
    "duration": 1344,
    "start_time": "2023-01-07T21:10:06.563Z"
   },
   {
    "duration": 5799,
    "start_time": "2023-01-07T21:11:27.226Z"
   },
   {
    "duration": 6068,
    "start_time": "2023-01-07T21:12:26.461Z"
   },
   {
    "duration": 4560,
    "start_time": "2023-01-07T21:13:12.995Z"
   },
   {
    "duration": 4179,
    "start_time": "2023-01-07T21:14:05.855Z"
   },
   {
    "duration": 1461,
    "start_time": "2023-01-08T13:42:38.752Z"
   },
   {
    "duration": 75,
    "start_time": "2023-01-08T13:42:40.215Z"
   },
   {
    "duration": 13,
    "start_time": "2023-01-08T13:42:40.292Z"
   },
   {
    "duration": 12,
    "start_time": "2023-01-08T13:42:42.556Z"
   },
   {
    "duration": 33,
    "start_time": "2023-01-08T13:42:43.620Z"
   },
   {
    "duration": 4,
    "start_time": "2023-01-08T13:42:44.723Z"
   },
   {
    "duration": 47,
    "start_time": "2023-01-08T13:43:01.208Z"
   },
   {
    "duration": 3,
    "start_time": "2023-01-08T13:43:01.611Z"
   },
   {
    "duration": 4,
    "start_time": "2023-01-08T13:43:05.359Z"
   },
   {
    "duration": 4,
    "start_time": "2023-01-08T13:43:06.052Z"
   },
   {
    "duration": 4,
    "start_time": "2023-01-08T13:43:19.304Z"
   },
   {
    "duration": 4,
    "start_time": "2023-01-08T13:43:19.688Z"
   },
   {
    "duration": 11,
    "start_time": "2023-01-08T13:43:21.200Z"
   },
   {
    "duration": 6,
    "start_time": "2023-01-08T13:43:25.180Z"
   },
   {
    "duration": 6,
    "start_time": "2023-01-08T13:43:26.579Z"
   },
   {
    "duration": 6,
    "start_time": "2023-01-08T13:44:10.383Z"
   },
   {
    "duration": 8,
    "start_time": "2023-01-08T13:44:10.867Z"
   },
   {
    "duration": 46,
    "start_time": "2023-01-08T13:44:58.532Z"
   },
   {
    "duration": 6,
    "start_time": "2023-01-08T13:44:58.920Z"
   },
   {
    "duration": 6,
    "start_time": "2023-01-08T13:45:01.961Z"
   },
   {
    "duration": 6,
    "start_time": "2023-01-08T13:45:02.364Z"
   },
   {
    "duration": 5,
    "start_time": "2023-01-08T13:45:03.179Z"
   },
   {
    "duration": 3,
    "start_time": "2023-01-08T13:45:24.760Z"
   },
   {
    "duration": 3,
    "start_time": "2023-01-08T13:45:25.184Z"
   },
   {
    "duration": 10,
    "start_time": "2023-01-08T13:45:28.660Z"
   },
   {
    "duration": 7,
    "start_time": "2023-01-08T13:45:29.848Z"
   },
   {
    "duration": 4,
    "start_time": "2023-01-08T14:32:31.575Z"
   },
   {
    "duration": 4,
    "start_time": "2023-01-08T14:32:31.806Z"
   },
   {
    "duration": 10,
    "start_time": "2023-01-08T14:32:31.995Z"
   },
   {
    "duration": 6,
    "start_time": "2023-01-08T14:32:32.913Z"
   },
   {
    "duration": 20,
    "start_time": "2023-01-08T14:32:34.012Z"
   },
   {
    "duration": 10,
    "start_time": "2023-01-08T14:47:47.818Z"
   },
   {
    "duration": 6,
    "start_time": "2023-01-08T14:47:48.492Z"
   },
   {
    "duration": 4,
    "start_time": "2023-01-08T14:55:26.755Z"
   },
   {
    "duration": 39,
    "start_time": "2023-01-08T14:55:27.495Z"
   },
   {
    "duration": 4,
    "start_time": "2023-01-08T14:55:28.405Z"
   },
   {
    "duration": 6,
    "start_time": "2023-01-08T14:55:33.690Z"
   },
   {
    "duration": 9,
    "start_time": "2023-01-08T14:55:36.695Z"
   },
   {
    "duration": 1548,
    "start_time": "2023-01-08T15:48:35.291Z"
   },
   {
    "duration": 152,
    "start_time": "2023-01-08T15:48:36.841Z"
   },
   {
    "duration": 19,
    "start_time": "2023-01-08T15:48:36.995Z"
   },
   {
    "duration": 15,
    "start_time": "2023-01-08T15:48:37.016Z"
   },
   {
    "duration": 44,
    "start_time": "2023-01-08T15:48:37.032Z"
   },
   {
    "duration": 3,
    "start_time": "2023-01-08T15:48:37.078Z"
   },
   {
    "duration": 5,
    "start_time": "2023-01-08T15:48:38.674Z"
   },
   {
    "duration": 4,
    "start_time": "2023-01-08T15:48:40.783Z"
   },
   {
    "duration": 4,
    "start_time": "2023-01-08T15:48:40.950Z"
   },
   {
    "duration": 12,
    "start_time": "2023-01-08T15:48:41.307Z"
   },
   {
    "duration": 10,
    "start_time": "2023-01-08T15:48:41.662Z"
   },
   {
    "duration": 8,
    "start_time": "2023-01-08T15:48:41.994Z"
   },
   {
    "duration": 1290,
    "start_time": "2023-01-08T15:48:42.336Z"
   },
   {
    "duration": 0,
    "start_time": "2023-01-08T15:48:43.628Z"
   },
   {
    "duration": 0,
    "start_time": "2023-01-08T15:48:43.630Z"
   },
   {
    "duration": 8,
    "start_time": "2023-01-08T15:48:43.798Z"
   },
   {
    "duration": 10,
    "start_time": "2023-01-08T15:48:50.440Z"
   },
   {
    "duration": 19,
    "start_time": "2023-01-08T15:48:50.842Z"
   },
   {
    "duration": 5,
    "start_time": "2023-01-08T15:48:52.426Z"
   },
   {
    "duration": 8,
    "start_time": "2023-01-08T15:48:52.857Z"
   },
   {
    "duration": 4,
    "start_time": "2023-01-08T15:48:55.590Z"
   },
   {
    "duration": 4,
    "start_time": "2023-01-08T15:48:55.966Z"
   },
   {
    "duration": 12,
    "start_time": "2023-01-08T15:48:56.482Z"
   },
   {
    "duration": 7,
    "start_time": "2023-01-08T15:48:58.681Z"
   },
   {
    "duration": 23,
    "start_time": "2023-01-08T15:48:59.213Z"
   },
   {
    "duration": 11,
    "start_time": "2023-01-08T15:49:02.943Z"
   },
   {
    "duration": 5,
    "start_time": "2023-01-08T15:49:05.062Z"
   },
   {
    "duration": 39,
    "start_time": "2023-01-08T15:49:09.774Z"
   },
   {
    "duration": 5,
    "start_time": "2023-01-08T15:49:10.410Z"
   },
   {
    "duration": 6,
    "start_time": "2023-01-08T15:49:13.038Z"
   },
   {
    "duration": 10,
    "start_time": "2023-01-08T15:49:13.382Z"
   },
   {
    "duration": 3,
    "start_time": "2023-01-08T15:49:21.642Z"
   },
   {
    "duration": 1249,
    "start_time": "2023-01-08T15:50:56.959Z"
   },
   {
    "duration": 1261,
    "start_time": "2023-01-08T15:51:16.606Z"
   },
   {
    "duration": 29817,
    "start_time": "2023-01-08T15:53:04.694Z"
   },
   {
    "duration": 122878,
    "start_time": "2023-01-08T15:55:37.628Z"
   },
   {
    "duration": 118830,
    "start_time": "2023-01-08T16:19:57.985Z"
   },
   {
    "duration": 22524,
    "start_time": "2023-01-08T16:24:50.709Z"
   },
   {
    "duration": 4460,
    "start_time": "2023-01-08T16:29:28.595Z"
   },
   {
    "duration": 2725,
    "start_time": "2023-01-08T16:30:38.031Z"
   },
   {
    "duration": 5,
    "start_time": "2023-01-08T16:30:50.713Z"
   },
   {
    "duration": 897,
    "start_time": "2023-01-08T17:18:02.141Z"
   },
   {
    "duration": 167,
    "start_time": "2023-01-08T17:20:07.853Z"
   },
   {
    "duration": 726,
    "start_time": "2023-01-08T17:20:26.665Z"
   },
   {
    "duration": 836,
    "start_time": "2023-01-08T17:21:06.397Z"
   },
   {
    "duration": 890,
    "start_time": "2023-01-08T17:21:16.334Z"
   },
   {
    "duration": 784,
    "start_time": "2023-01-08T17:21:25.702Z"
   },
   {
    "duration": 786,
    "start_time": "2023-01-08T17:21:36.058Z"
   },
   {
    "duration": 840,
    "start_time": "2023-01-08T17:23:28.877Z"
   },
   {
    "duration": 1133,
    "start_time": "2023-01-08T17:24:41.598Z"
   },
   {
    "duration": 1124,
    "start_time": "2023-01-08T17:28:59.788Z"
   },
   {
    "duration": 1150,
    "start_time": "2023-01-08T17:29:18.792Z"
   },
   {
    "duration": 1126,
    "start_time": "2023-01-08T17:31:50.461Z"
   },
   {
    "duration": 1166,
    "start_time": "2023-01-08T17:33:46.698Z"
   },
   {
    "duration": 1182,
    "start_time": "2023-01-08T17:33:55.937Z"
   },
   {
    "duration": 1112,
    "start_time": "2023-01-08T17:34:08.672Z"
   },
   {
    "duration": 453,
    "start_time": "2023-01-08T17:34:59.989Z"
   },
   {
    "duration": 1139,
    "start_time": "2023-01-08T17:35:04.276Z"
   },
   {
    "duration": 1133,
    "start_time": "2023-01-08T17:35:14.169Z"
   },
   {
    "duration": 1108,
    "start_time": "2023-01-08T17:35:25.489Z"
   },
   {
    "duration": 1171,
    "start_time": "2023-01-08T17:35:41.013Z"
   },
   {
    "duration": 402,
    "start_time": "2023-01-08T17:36:04.665Z"
   },
   {
    "duration": 1128,
    "start_time": "2023-01-08T17:37:47.898Z"
   },
   {
    "duration": 1235,
    "start_time": "2023-01-08T17:38:12.030Z"
   },
   {
    "duration": 862,
    "start_time": "2023-01-08T17:39:38.310Z"
   },
   {
    "duration": 1063,
    "start_time": "2023-01-08T17:40:04.939Z"
   },
   {
    "duration": 713,
    "start_time": "2023-01-08T17:40:26.531Z"
   },
   {
    "duration": 753,
    "start_time": "2023-01-08T17:40:29.995Z"
   },
   {
    "duration": 732,
    "start_time": "2023-01-08T17:41:17.956Z"
   },
   {
    "duration": 756,
    "start_time": "2023-01-08T17:41:26.271Z"
   },
   {
    "duration": 739,
    "start_time": "2023-01-08T17:42:04.683Z"
   },
   {
    "duration": 1124,
    "start_time": "2023-01-08T17:42:21.967Z"
   },
   {
    "duration": 1173,
    "start_time": "2023-01-08T17:43:06.031Z"
   },
   {
    "duration": 72,
    "start_time": "2023-01-08T17:43:19.480Z"
   },
   {
    "duration": 29,
    "start_time": "2023-01-08T17:49:51.542Z"
   },
   {
    "duration": 31,
    "start_time": "2023-01-08T17:50:38.354Z"
   },
   {
    "duration": 29,
    "start_time": "2023-01-08T17:51:16.774Z"
   },
   {
    "duration": 29,
    "start_time": "2023-01-08T17:52:09.531Z"
   },
   {
    "duration": 739,
    "start_time": "2023-01-08T17:52:17.542Z"
   },
   {
    "duration": 692,
    "start_time": "2023-01-08T17:52:34.166Z"
   },
   {
    "duration": 37,
    "start_time": "2023-01-08T17:52:51.523Z"
   },
   {
    "duration": 62,
    "start_time": "2023-01-08T17:53:10.692Z"
   },
   {
    "duration": 39,
    "start_time": "2023-01-08T17:54:25.519Z"
   },
   {
    "duration": 41,
    "start_time": "2023-01-08T17:54:52.412Z"
   },
   {
    "duration": 37,
    "start_time": "2023-01-08T17:55:21.811Z"
   },
   {
    "duration": 34,
    "start_time": "2023-01-08T17:55:35.251Z"
   },
   {
    "duration": 33,
    "start_time": "2023-01-08T17:55:48.707Z"
   },
   {
    "duration": 33,
    "start_time": "2023-01-08T17:56:06.206Z"
   },
   {
    "duration": 36,
    "start_time": "2023-01-08T17:57:23.972Z"
   },
   {
    "duration": 713,
    "start_time": "2023-01-08T17:57:28.701Z"
   },
   {
    "duration": 71,
    "start_time": "2023-01-08T17:57:35.691Z"
   },
   {
    "duration": 380,
    "start_time": "2023-01-08T17:57:46.572Z"
   },
   {
    "duration": 33,
    "start_time": "2023-01-08T17:58:13.740Z"
   },
   {
    "duration": 763,
    "start_time": "2023-01-08T17:58:18.245Z"
   },
   {
    "duration": 154,
    "start_time": "2023-01-08T17:58:19.010Z"
   },
   {
    "duration": 13,
    "start_time": "2023-01-08T18:12:51.649Z"
   },
   {
    "duration": 14,
    "start_time": "2023-01-08T18:13:09.254Z"
   },
   {
    "duration": 14,
    "start_time": "2023-01-08T18:13:47.344Z"
   },
   {
    "duration": 14,
    "start_time": "2023-01-08T18:13:53.760Z"
   },
   {
    "duration": 13,
    "start_time": "2023-01-08T18:14:02.628Z"
   },
   {
    "duration": 13,
    "start_time": "2023-01-08T18:14:07.084Z"
   },
   {
    "duration": 13,
    "start_time": "2023-01-08T18:14:24.592Z"
   },
   {
    "duration": 16,
    "start_time": "2023-01-08T18:14:29.632Z"
   },
   {
    "duration": 16,
    "start_time": "2023-01-08T18:14:35.577Z"
   },
   {
    "duration": 34,
    "start_time": "2023-01-08T18:22:36.275Z"
   },
   {
    "duration": 40,
    "start_time": "2023-01-08T18:23:13.450Z"
   },
   {
    "duration": 900,
    "start_time": "2023-01-08T18:23:13.758Z"
   },
   {
    "duration": 106,
    "start_time": "2023-01-08T18:23:14.660Z"
   },
   {
    "duration": 921,
    "start_time": "2023-01-08T18:23:20.426Z"
   },
   {
    "duration": 208,
    "start_time": "2023-01-08T18:23:21.351Z"
   },
   {
    "duration": 15,
    "start_time": "2023-01-08T18:24:45.106Z"
   },
   {
    "duration": 26,
    "start_time": "2023-01-08T18:24:45.383Z"
   },
   {
    "duration": 428,
    "start_time": "2023-01-08T18:24:46.679Z"
   },
   {
    "duration": 34,
    "start_time": "2023-01-08T18:24:47.819Z"
   },
   {
    "duration": 32,
    "start_time": "2023-01-08T18:26:43.735Z"
   },
   {
    "duration": 152,
    "start_time": "2023-01-08T18:26:47.566Z"
   },
   {
    "duration": 166,
    "start_time": "2023-01-08T18:28:04.475Z"
   },
   {
    "duration": 175,
    "start_time": "2023-01-08T18:28:18.223Z"
   },
   {
    "duration": 168,
    "start_time": "2023-01-08T18:30:08.453Z"
   },
   {
    "duration": 628,
    "start_time": "2023-01-08T18:30:14.212Z"
   },
   {
    "duration": 394,
    "start_time": "2023-01-08T18:30:23.596Z"
   },
   {
    "duration": 154,
    "start_time": "2023-01-08T18:31:46.024Z"
   },
   {
    "duration": 410,
    "start_time": "2023-01-08T18:31:52.072Z"
   },
   {
    "duration": 442,
    "start_time": "2023-01-08T18:35:15.476Z"
   },
   {
    "duration": 578,
    "start_time": "2023-01-08T18:35:37.333Z"
   },
   {
    "duration": 180,
    "start_time": "2023-01-08T18:36:09.770Z"
   },
   {
    "duration": 650,
    "start_time": "2023-01-08T18:37:49.216Z"
   },
   {
    "duration": 807,
    "start_time": "2023-01-08T18:38:14.885Z"
   },
   {
    "duration": 594,
    "start_time": "2023-01-08T18:39:05.654Z"
   },
   {
    "duration": 577,
    "start_time": "2023-01-08T18:40:57.326Z"
   },
   {
    "duration": 583,
    "start_time": "2023-01-08T18:41:35.479Z"
   },
   {
    "duration": 81,
    "start_time": "2023-01-08T18:42:43.426Z"
   },
   {
    "duration": 607,
    "start_time": "2023-01-08T18:45:38.411Z"
   },
   {
    "duration": 374,
    "start_time": "2023-01-08T18:45:43.119Z"
   },
   {
    "duration": 743,
    "start_time": "2023-01-08T18:54:33.618Z"
   },
   {
    "duration": 107137,
    "start_time": "2023-01-08T18:55:16.862Z"
   },
   {
    "duration": 19698,
    "start_time": "2023-01-08T18:58:05.455Z"
   },
   {
    "duration": 1563,
    "start_time": "2023-01-08T18:59:04.348Z"
   },
   {
    "duration": 986,
    "start_time": "2023-01-08T18:59:17.334Z"
   },
   {
    "duration": 19654,
    "start_time": "2023-01-08T19:00:26.480Z"
   },
   {
    "duration": 12,
    "start_time": "2023-01-08T19:03:09.348Z"
   },
   {
    "duration": 8381,
    "start_time": "2023-01-08T19:03:22.793Z"
   },
   {
    "duration": 56,
    "start_time": "2023-01-08T19:03:34.464Z"
   },
   {
    "duration": 16389,
    "start_time": "2023-01-08T19:03:46.584Z"
   },
   {
    "duration": 16500,
    "start_time": "2023-01-08T19:05:58.193Z"
   },
   {
    "duration": 16568,
    "start_time": "2023-01-08T19:07:26.221Z"
   },
   {
    "duration": 16681,
    "start_time": "2023-01-08T19:08:52.525Z"
   },
   {
    "duration": 9989,
    "start_time": "2023-01-08T19:11:28.118Z"
   },
   {
    "duration": 747,
    "start_time": "2023-01-08T19:22:36.041Z"
   },
   {
    "duration": 754,
    "start_time": "2023-01-08T19:23:11.739Z"
   },
   {
    "duration": 1939,
    "start_time": "2023-01-08T19:25:08.465Z"
   },
   {
    "duration": 178,
    "start_time": "2023-01-08T19:28:12.033Z"
   },
   {
    "duration": 2533,
    "start_time": "2023-01-08T19:28:34.903Z"
   },
   {
    "duration": 2459,
    "start_time": "2023-01-08T19:30:36.264Z"
   },
   {
    "duration": 3354,
    "start_time": "2023-01-08T19:32:43.164Z"
   },
   {
    "duration": 1975,
    "start_time": "2023-01-08T19:35:13.154Z"
   },
   {
    "duration": 2715,
    "start_time": "2023-01-08T19:38:50.138Z"
   },
   {
    "duration": 2011,
    "start_time": "2023-01-08T19:41:46.568Z"
   },
   {
    "duration": 11826,
    "start_time": "2023-01-08T19:42:49.319Z"
   },
   {
    "duration": 2273,
    "start_time": "2023-01-08T19:43:29.617Z"
   },
   {
    "duration": 78,
    "start_time": "2023-01-08T19:44:34.707Z"
   },
   {
    "duration": 2580,
    "start_time": "2023-01-08T19:44:45.747Z"
   },
   {
    "duration": 2362,
    "start_time": "2023-01-08T19:46:03.248Z"
   },
   {
    "duration": 2629,
    "start_time": "2023-01-08T19:46:40.785Z"
   },
   {
    "duration": 2163,
    "start_time": "2023-01-08T19:47:02.441Z"
   },
   {
    "duration": 69,
    "start_time": "2023-01-08T19:49:13.496Z"
   },
   {
    "duration": 15684,
    "start_time": "2023-01-08T19:49:25.592Z"
   },
   {
    "duration": 2475,
    "start_time": "2023-01-08T19:50:53.615Z"
   },
   {
    "duration": 2415,
    "start_time": "2023-01-08T19:51:22.799Z"
   },
   {
    "duration": 2544,
    "start_time": "2023-01-08T19:54:28.522Z"
   },
   {
    "duration": 69,
    "start_time": "2023-01-08T19:54:38.822Z"
   },
   {
    "duration": 53,
    "start_time": "2023-01-09T13:38:39.890Z"
   },
   {
    "duration": 1607,
    "start_time": "2023-01-09T13:38:46.757Z"
   },
   {
    "duration": 217,
    "start_time": "2023-01-09T13:38:48.366Z"
   },
   {
    "duration": 19,
    "start_time": "2023-01-09T13:38:48.585Z"
   },
   {
    "duration": 15,
    "start_time": "2023-01-09T13:38:48.607Z"
   },
   {
    "duration": 48,
    "start_time": "2023-01-09T13:38:48.624Z"
   },
   {
    "duration": 50,
    "start_time": "2023-01-09T13:38:48.674Z"
   },
   {
    "duration": 1448,
    "start_time": "2023-01-15T13:10:47.410Z"
   },
   {
    "duration": 368,
    "start_time": "2023-01-15T13:10:48.860Z"
   },
   {
    "duration": 20,
    "start_time": "2023-01-15T13:10:49.230Z"
   },
   {
    "duration": 12,
    "start_time": "2023-01-15T13:10:49.594Z"
   },
   {
    "duration": 38,
    "start_time": "2023-01-15T13:10:54.720Z"
   },
   {
    "duration": 48,
    "start_time": "2023-01-15T13:10:55.987Z"
   },
   {
    "duration": 3,
    "start_time": "2023-01-15T13:10:59.445Z"
   },
   {
    "duration": 4,
    "start_time": "2023-01-15T13:11:00.200Z"
   },
   {
    "duration": 3,
    "start_time": "2023-01-15T13:11:09.221Z"
   },
   {
    "duration": 46,
    "start_time": "2023-01-15T13:11:13.219Z"
   },
   {
    "duration": 4,
    "start_time": "2023-01-15T13:11:25.786Z"
   },
   {
    "duration": 42,
    "start_time": "2023-01-15T13:11:26.161Z"
   },
   {
    "duration": 12,
    "start_time": "2023-01-15T13:11:28.642Z"
   },
   {
    "duration": 12,
    "start_time": "2023-01-15T13:11:29.523Z"
   },
   {
    "duration": 13,
    "start_time": "2023-01-15T13:12:56.315Z"
   },
   {
    "duration": 5,
    "start_time": "2023-01-15T13:13:07.798Z"
   },
   {
    "duration": 4,
    "start_time": "2023-01-15T13:14:11.452Z"
   },
   {
    "duration": 5,
    "start_time": "2023-01-15T13:14:12.658Z"
   },
   {
    "duration": 9,
    "start_time": "2023-01-15T13:14:15.914Z"
   },
   {
    "duration": 8,
    "start_time": "2023-01-15T13:14:17.413Z"
   },
   {
    "duration": 7,
    "start_time": "2023-01-15T13:14:25.276Z"
   },
   {
    "duration": 8,
    "start_time": "2023-01-15T13:14:26.123Z"
   },
   {
    "duration": 16,
    "start_time": "2023-01-15T13:14:47.417Z"
   },
   {
    "duration": 103,
    "start_time": "2023-01-15T13:57:35.428Z"
   },
   {
    "duration": 13,
    "start_time": "2023-01-15T13:57:45.883Z"
   },
   {
    "duration": 8,
    "start_time": "2023-01-15T13:58:02.931Z"
   },
   {
    "duration": 8,
    "start_time": "2023-01-15T13:58:03.299Z"
   },
   {
    "duration": 6,
    "start_time": "2023-01-15T13:58:24.469Z"
   },
   {
    "duration": 7,
    "start_time": "2023-01-15T13:58:25.354Z"
   },
   {
    "duration": 77,
    "start_time": "2023-01-15T13:58:48.269Z"
   },
   {
    "duration": 7,
    "start_time": "2023-01-15T13:58:52.476Z"
   },
   {
    "duration": 4,
    "start_time": "2023-01-15T13:58:58.369Z"
   },
   {
    "duration": 4,
    "start_time": "2023-01-15T13:59:00.122Z"
   },
   {
    "duration": 11,
    "start_time": "2023-01-15T13:59:03.964Z"
   },
   {
    "duration": 6,
    "start_time": "2023-01-15T13:59:11.619Z"
   },
   {
    "duration": 17,
    "start_time": "2023-01-15T13:59:14.475Z"
   },
   {
    "duration": 4,
    "start_time": "2023-01-15T14:37:11.177Z"
   },
   {
    "duration": 7,
    "start_time": "2023-01-15T14:37:13.521Z"
   },
   {
    "duration": 4,
    "start_time": "2023-01-15T14:37:16.122Z"
   },
   {
    "duration": 3,
    "start_time": "2023-01-15T14:37:16.720Z"
   },
   {
    "duration": 11,
    "start_time": "2023-01-15T14:37:20.169Z"
   },
   {
    "duration": 6,
    "start_time": "2023-01-15T14:37:21.755Z"
   },
   {
    "duration": 2,
    "start_time": "2023-01-15T14:37:33.569Z"
   },
   {
    "duration": 6758,
    "start_time": "2023-01-15T14:38:20.173Z"
   },
   {
    "duration": 3,
    "start_time": "2023-01-15T14:38:54.497Z"
   },
   {
    "duration": 1399,
    "start_time": "2023-01-15T14:40:09.930Z"
   },
   {
    "duration": 45,
    "start_time": "2023-01-15T14:40:11.331Z"
   },
   {
    "duration": 16,
    "start_time": "2023-01-15T14:40:11.378Z"
   },
   {
    "duration": 15,
    "start_time": "2023-01-15T14:40:11.397Z"
   },
   {
    "duration": 43,
    "start_time": "2023-01-15T14:40:11.414Z"
   },
   {
    "duration": 65,
    "start_time": "2023-01-15T14:40:11.459Z"
   },
   {
    "duration": 15,
    "start_time": "2023-01-15T14:40:11.526Z"
   },
   {
    "duration": 4,
    "start_time": "2023-01-15T14:40:11.543Z"
   },
   {
    "duration": 30,
    "start_time": "2023-01-15T14:40:11.548Z"
   },
   {
    "duration": 10,
    "start_time": "2023-01-15T14:40:11.581Z"
   },
   {
    "duration": 17,
    "start_time": "2023-01-15T14:40:11.593Z"
   },
   {
    "duration": 7,
    "start_time": "2023-01-15T14:40:11.612Z"
   },
   {
    "duration": 10,
    "start_time": "2023-01-15T14:40:11.620Z"
   },
   {
    "duration": 10,
    "start_time": "2023-01-15T14:40:11.632Z"
   },
   {
    "duration": 13,
    "start_time": "2023-01-15T14:40:11.644Z"
   },
   {
    "duration": 6,
    "start_time": "2023-01-15T14:40:11.678Z"
   },
   {
    "duration": 7,
    "start_time": "2023-01-15T14:40:11.685Z"
   },
   {
    "duration": 9,
    "start_time": "2023-01-15T14:40:11.694Z"
   },
   {
    "duration": 7,
    "start_time": "2023-01-15T14:40:11.704Z"
   },
   {
    "duration": 15,
    "start_time": "2023-01-15T14:40:11.712Z"
   },
   {
    "duration": 10,
    "start_time": "2023-01-15T14:40:11.728Z"
   },
   {
    "duration": 7,
    "start_time": "2023-01-15T14:40:11.740Z"
   },
   {
    "duration": 2808,
    "start_time": "2023-01-15T14:40:11.749Z"
   },
   {
    "duration": 3,
    "start_time": "2023-01-15T14:40:14.559Z"
   },
   {
    "duration": 111,
    "start_time": "2023-01-15T14:40:14.563Z"
   },
   {
    "duration": 0,
    "start_time": "2023-01-15T14:40:14.677Z"
   },
   {
    "duration": 0,
    "start_time": "2023-01-15T14:40:14.679Z"
   },
   {
    "duration": 0,
    "start_time": "2023-01-15T14:40:14.680Z"
   },
   {
    "duration": 0,
    "start_time": "2023-01-15T14:40:14.681Z"
   },
   {
    "duration": 0,
    "start_time": "2023-01-15T14:40:14.682Z"
   },
   {
    "duration": 0,
    "start_time": "2023-01-15T14:40:14.683Z"
   },
   {
    "duration": 0,
    "start_time": "2023-01-15T14:40:14.684Z"
   },
   {
    "duration": 0,
    "start_time": "2023-01-15T14:40:14.685Z"
   },
   {
    "duration": 0,
    "start_time": "2023-01-15T14:40:14.686Z"
   },
   {
    "duration": 0,
    "start_time": "2023-01-15T14:40:14.687Z"
   },
   {
    "duration": 0,
    "start_time": "2023-01-15T14:40:14.688Z"
   },
   {
    "duration": 0,
    "start_time": "2023-01-15T14:40:14.689Z"
   },
   {
    "duration": 0,
    "start_time": "2023-01-15T14:40:14.690Z"
   },
   {
    "duration": 0,
    "start_time": "2023-01-15T14:40:14.691Z"
   },
   {
    "duration": 0,
    "start_time": "2023-01-15T14:40:14.692Z"
   },
   {
    "duration": 0,
    "start_time": "2023-01-15T14:40:14.693Z"
   },
   {
    "duration": 0,
    "start_time": "2023-01-15T14:40:14.694Z"
   },
   {
    "duration": 0,
    "start_time": "2023-01-15T14:40:14.695Z"
   },
   {
    "duration": 0,
    "start_time": "2023-01-15T14:40:14.696Z"
   },
   {
    "duration": 0,
    "start_time": "2023-01-15T14:40:14.697Z"
   },
   {
    "duration": 0,
    "start_time": "2023-01-15T14:40:14.698Z"
   },
   {
    "duration": 0,
    "start_time": "2023-01-15T14:40:14.699Z"
   },
   {
    "duration": 0,
    "start_time": "2023-01-15T14:40:14.700Z"
   },
   {
    "duration": 0,
    "start_time": "2023-01-15T14:40:14.700Z"
   },
   {
    "duration": 0,
    "start_time": "2023-01-15T14:40:14.701Z"
   },
   {
    "duration": 0,
    "start_time": "2023-01-15T14:40:14.702Z"
   },
   {
    "duration": 0,
    "start_time": "2023-01-15T14:40:14.703Z"
   },
   {
    "duration": 0,
    "start_time": "2023-01-15T14:40:14.704Z"
   },
   {
    "duration": 0,
    "start_time": "2023-01-15T14:40:14.705Z"
   },
   {
    "duration": 0,
    "start_time": "2023-01-15T14:40:14.706Z"
   },
   {
    "duration": 0,
    "start_time": "2023-01-15T14:40:14.707Z"
   },
   {
    "duration": 0,
    "start_time": "2023-01-15T14:40:14.708Z"
   },
   {
    "duration": 0,
    "start_time": "2023-01-15T14:40:14.709Z"
   },
   {
    "duration": 0,
    "start_time": "2023-01-15T14:40:14.710Z"
   },
   {
    "duration": 0,
    "start_time": "2023-01-15T14:40:14.711Z"
   },
   {
    "duration": 0,
    "start_time": "2023-01-15T14:40:14.712Z"
   },
   {
    "duration": 0,
    "start_time": "2023-01-15T14:40:14.713Z"
   },
   {
    "duration": 0,
    "start_time": "2023-01-15T14:40:14.714Z"
   },
   {
    "duration": 0,
    "start_time": "2023-01-15T14:40:14.779Z"
   },
   {
    "duration": 0,
    "start_time": "2023-01-15T14:40:14.780Z"
   },
   {
    "duration": 0,
    "start_time": "2023-01-15T14:40:14.781Z"
   },
   {
    "duration": 0,
    "start_time": "2023-01-15T14:40:14.782Z"
   },
   {
    "duration": 0,
    "start_time": "2023-01-15T14:40:14.783Z"
   },
   {
    "duration": 0,
    "start_time": "2023-01-15T14:40:14.785Z"
   },
   {
    "duration": 0,
    "start_time": "2023-01-15T14:40:14.786Z"
   },
   {
    "duration": 9,
    "start_time": "2023-01-15T14:44:26.875Z"
   },
   {
    "duration": 5,
    "start_time": "2023-01-15T14:44:31.701Z"
   },
   {
    "duration": 76,
    "start_time": "2023-01-15T14:45:16.578Z"
   },
   {
    "duration": 5,
    "start_time": "2023-01-15T14:47:06.603Z"
   },
   {
    "duration": 2,
    "start_time": "2023-01-15T15:04:04.308Z"
   },
   {
    "duration": 4,
    "start_time": "2023-01-15T15:04:08.631Z"
   },
   {
    "duration": 4,
    "start_time": "2023-01-15T15:04:09.333Z"
   },
   {
    "duration": 15,
    "start_time": "2023-01-15T15:26:21.816Z"
   },
   {
    "duration": 29,
    "start_time": "2023-01-15T15:26:32.162Z"
   },
   {
    "duration": 32,
    "start_time": "2023-01-15T15:28:18.786Z"
   },
   {
    "duration": 32,
    "start_time": "2023-01-15T15:28:46.361Z"
   },
   {
    "duration": 2,
    "start_time": "2023-01-15T15:29:42.517Z"
   },
   {
    "duration": 12,
    "start_time": "2023-01-15T15:30:20.712Z"
   },
   {
    "duration": 5,
    "start_time": "2023-01-15T15:30:43.725Z"
   },
   {
    "duration": 73,
    "start_time": "2023-01-15T15:32:38.064Z"
   },
   {
    "duration": 74,
    "start_time": "2023-01-15T15:32:41.597Z"
   },
   {
    "duration": 69,
    "start_time": "2023-01-15T15:32:54.910Z"
   },
   {
    "duration": 5,
    "start_time": "2023-01-15T16:09:18.366Z"
   },
   {
    "duration": 9,
    "start_time": "2023-01-15T16:41:49.725Z"
   },
   {
    "duration": 5,
    "start_time": "2023-01-15T16:41:56.098Z"
   },
   {
    "duration": 5,
    "start_time": "2023-01-15T16:42:08.399Z"
   },
   {
    "duration": 16,
    "start_time": "2023-01-15T16:42:53.223Z"
   },
   {
    "duration": 6,
    "start_time": "2023-01-15T16:46:05.040Z"
   },
   {
    "duration": 4,
    "start_time": "2023-01-15T16:46:12.689Z"
   },
   {
    "duration": 5,
    "start_time": "2023-01-15T16:46:31.406Z"
   },
   {
    "duration": 4,
    "start_time": "2023-01-15T16:46:43.724Z"
   },
   {
    "duration": 4,
    "start_time": "2023-01-15T16:46:53.847Z"
   },
   {
    "duration": 4,
    "start_time": "2023-01-15T16:46:54.425Z"
   },
   {
    "duration": 10,
    "start_time": "2023-01-15T16:47:51.206Z"
   },
   {
    "duration": 11,
    "start_time": "2023-01-15T16:49:32.636Z"
   },
   {
    "duration": 3,
    "start_time": "2023-01-15T16:49:32.882Z"
   },
   {
    "duration": 5,
    "start_time": "2023-01-15T16:49:33.517Z"
   },
   {
    "duration": 6,
    "start_time": "2023-01-15T16:49:34.113Z"
   },
   {
    "duration": 9,
    "start_time": "2023-01-15T16:49:35.271Z"
   },
   {
    "duration": 6,
    "start_time": "2023-01-15T16:50:13.721Z"
   },
   {
    "duration": 8,
    "start_time": "2023-01-15T16:54:37.659Z"
   },
   {
    "duration": 3,
    "start_time": "2023-01-15T16:58:23.190Z"
   },
   {
    "duration": 9,
    "start_time": "2023-01-15T16:58:23.662Z"
   },
   {
    "duration": 4,
    "start_time": "2023-01-15T16:59:18.664Z"
   },
   {
    "duration": 11,
    "start_time": "2023-01-15T16:59:19.660Z"
   },
   {
    "duration": 2,
    "start_time": "2023-01-15T16:59:20.169Z"
   },
   {
    "duration": 7,
    "start_time": "2023-01-15T16:59:30.558Z"
   },
   {
    "duration": 3,
    "start_time": "2023-01-15T16:59:31.070Z"
   },
   {
    "duration": 8,
    "start_time": "2023-01-15T16:59:32.014Z"
   },
   {
    "duration": 13,
    "start_time": "2023-01-15T17:00:41.005Z"
   },
   {
    "duration": 6,
    "start_time": "2023-01-15T17:01:04.129Z"
   },
   {
    "duration": 25,
    "start_time": "2023-01-15T17:02:45.689Z"
   },
   {
    "duration": 35,
    "start_time": "2023-01-15T17:09:07.853Z"
   },
   {
    "duration": 34,
    "start_time": "2023-01-15T17:09:15.403Z"
   },
   {
    "duration": 16,
    "start_time": "2023-01-15T17:09:52.834Z"
   },
   {
    "duration": 13,
    "start_time": "2023-01-15T17:10:02.089Z"
   },
   {
    "duration": 12,
    "start_time": "2023-01-15T17:10:14.757Z"
   },
   {
    "duration": 11,
    "start_time": "2023-01-15T17:10:24.291Z"
   },
   {
    "duration": 13,
    "start_time": "2023-01-15T17:11:12.614Z"
   },
   {
    "duration": 12,
    "start_time": "2023-01-15T17:12:22.899Z"
   },
   {
    "duration": 13,
    "start_time": "2023-01-15T17:12:58.589Z"
   },
   {
    "duration": 1180,
    "start_time": "2023-01-15T17:13:25.460Z"
   },
   {
    "duration": 0,
    "start_time": "2023-01-15T17:13:26.642Z"
   },
   {
    "duration": 0,
    "start_time": "2023-01-15T17:13:26.643Z"
   },
   {
    "duration": 10,
    "start_time": "2023-01-15T17:13:27.046Z"
   },
   {
    "duration": 1166,
    "start_time": "2023-01-15T17:14:18.740Z"
   },
   {
    "duration": 12,
    "start_time": "2023-01-15T17:14:41.173Z"
   },
   {
    "duration": 12,
    "start_time": "2023-01-15T17:14:41.999Z"
   },
   {
    "duration": 12,
    "start_time": "2023-01-15T17:14:42.480Z"
   },
   {
    "duration": 4,
    "start_time": "2023-01-15T17:14:43.085Z"
   },
   {
    "duration": 5,
    "start_time": "2023-01-15T17:15:45.610Z"
   },
   {
    "duration": 2115,
    "start_time": "2023-01-15T17:17:22.739Z"
   },
   {
    "duration": 41,
    "start_time": "2023-01-15T17:17:24.856Z"
   },
   {
    "duration": 12,
    "start_time": "2023-01-15T17:17:24.899Z"
   },
   {
    "duration": 15,
    "start_time": "2023-01-15T17:17:24.913Z"
   },
   {
    "duration": 37,
    "start_time": "2023-01-15T17:17:24.929Z"
   },
   {
    "duration": 57,
    "start_time": "2023-01-15T17:17:24.967Z"
   },
   {
    "duration": 12,
    "start_time": "2023-01-15T17:17:25.082Z"
   },
   {
    "duration": 5,
    "start_time": "2023-01-15T17:17:25.671Z"
   },
   {
    "duration": 4,
    "start_time": "2023-01-15T17:17:27.096Z"
   },
   {
    "duration": 4,
    "start_time": "2023-01-15T17:17:27.834Z"
   },
   {
    "duration": 9,
    "start_time": "2023-01-15T17:17:28.500Z"
   },
   {
    "duration": 8,
    "start_time": "2023-01-15T17:17:29.036Z"
   },
   {
    "duration": 7,
    "start_time": "2023-01-15T17:17:29.505Z"
   },
   {
    "duration": 9,
    "start_time": "2023-01-15T17:17:29.976Z"
   },
   {
    "duration": 13,
    "start_time": "2023-01-15T17:17:30.188Z"
   },
   {
    "duration": 4,
    "start_time": "2023-01-15T17:17:32.290Z"
   },
   {
    "duration": 7,
    "start_time": "2023-01-15T17:17:38.510Z"
   },
   {
    "duration": 5,
    "start_time": "2023-01-15T17:17:41.152Z"
   },
   {
    "duration": 3,
    "start_time": "2023-01-15T17:17:41.557Z"
   },
   {
    "duration": 10,
    "start_time": "2023-01-15T17:17:42.613Z"
   },
   {
    "duration": 6,
    "start_time": "2023-01-15T17:17:43.021Z"
   },
   {
    "duration": 2,
    "start_time": "2023-01-15T17:17:44.335Z"
   },
   {
    "duration": 8,
    "start_time": "2023-01-15T17:18:22.510Z"
   },
   {
    "duration": 10,
    "start_time": "2023-01-15T17:18:24.693Z"
   },
   {
    "duration": 4,
    "start_time": "2023-01-15T17:18:30.339Z"
   },
   {
    "duration": 4,
    "start_time": "2023-01-15T17:18:46.241Z"
   },
   {
    "duration": 9,
    "start_time": "2023-01-15T17:18:46.538Z"
   },
   {
    "duration": 2,
    "start_time": "2023-01-15T17:18:47.136Z"
   },
   {
    "duration": 5,
    "start_time": "2023-01-15T17:19:03.134Z"
   },
   {
    "duration": 4,
    "start_time": "2023-01-15T17:19:03.638Z"
   },
   {
    "duration": 6,
    "start_time": "2023-01-15T17:19:04.750Z"
   },
   {
    "duration": 5,
    "start_time": "2023-01-15T17:19:06.741Z"
   },
   {
    "duration": 33,
    "start_time": "2023-01-15T17:19:11.157Z"
   },
   {
    "duration": 4,
    "start_time": "2023-01-15T17:19:55.482Z"
   },
   {
    "duration": 5,
    "start_time": "2023-01-15T17:20:57.657Z"
   },
   {
    "duration": 12,
    "start_time": "2023-01-15T17:21:12.105Z"
   },
   {
    "duration": 4,
    "start_time": "2023-01-15T17:24:23.543Z"
   },
   {
    "duration": 27,
    "start_time": "2023-01-15T17:25:05.818Z"
   },
   {
    "duration": 19,
    "start_time": "2023-01-15T17:26:38.241Z"
   },
   {
    "duration": 20,
    "start_time": "2023-01-15T17:26:40.798Z"
   },
   {
    "duration": 32,
    "start_time": "2023-01-15T17:27:19.067Z"
   },
   {
    "duration": 20,
    "start_time": "2023-01-15T17:27:31.997Z"
   },
   {
    "duration": 19,
    "start_time": "2023-01-15T17:27:36.274Z"
   },
   {
    "duration": 26,
    "start_time": "2023-01-15T17:28:17.088Z"
   },
   {
    "duration": 6355,
    "start_time": "2023-01-15T17:35:51.048Z"
   },
   {
    "duration": 86,
    "start_time": "2023-01-15T17:35:57.406Z"
   },
   {
    "duration": 22,
    "start_time": "2023-01-15T17:35:57.494Z"
   },
   {
    "duration": 70,
    "start_time": "2023-01-15T17:35:57.519Z"
   },
   {
    "duration": 121,
    "start_time": "2023-01-15T17:36:00.870Z"
   },
   {
    "duration": 116,
    "start_time": "2023-01-15T17:36:02.178Z"
   },
   {
    "duration": 17,
    "start_time": "2023-01-15T17:36:03.399Z"
   },
   {
    "duration": 5,
    "start_time": "2023-01-15T17:36:03.859Z"
   },
   {
    "duration": 5,
    "start_time": "2023-01-15T17:36:05.276Z"
   },
   {
    "duration": 4,
    "start_time": "2023-01-15T17:36:06.510Z"
   },
   {
    "duration": 15,
    "start_time": "2023-01-15T17:36:07.573Z"
   },
   {
    "duration": 10,
    "start_time": "2023-01-15T17:36:08.646Z"
   },
   {
    "duration": 8,
    "start_time": "2023-01-15T17:36:09.134Z"
   },
   {
    "duration": 10,
    "start_time": "2023-01-15T17:36:09.897Z"
   },
   {
    "duration": 13,
    "start_time": "2023-01-15T17:36:10.087Z"
   },
   {
    "duration": 6,
    "start_time": "2023-01-15T17:36:13.805Z"
   },
   {
    "duration": 8,
    "start_time": "2023-01-15T17:36:14.238Z"
   },
   {
    "duration": 4,
    "start_time": "2023-01-15T17:36:16.264Z"
   },
   {
    "duration": 5,
    "start_time": "2023-01-15T17:36:16.541Z"
   },
   {
    "duration": 16,
    "start_time": "2023-01-15T17:36:16.794Z"
   },
   {
    "duration": 9,
    "start_time": "2023-01-15T17:36:17.100Z"
   },
   {
    "duration": 2,
    "start_time": "2023-01-15T17:36:20.114Z"
   },
   {
    "duration": 19,
    "start_time": "2023-01-15T17:36:41.967Z"
   },
   {
    "duration": 7,
    "start_time": "2023-01-15T17:36:42.872Z"
   },
   {
    "duration": 6,
    "start_time": "2023-01-15T17:36:58.062Z"
   },
   {
    "duration": 10,
    "start_time": "2023-01-15T17:37:06.309Z"
   },
   {
    "duration": 11,
    "start_time": "2023-01-15T17:37:17.749Z"
   },
   {
    "duration": 5,
    "start_time": "2023-01-15T17:37:24.695Z"
   },
   {
    "duration": 6,
    "start_time": "2023-01-15T17:37:24.997Z"
   },
   {
    "duration": 7,
    "start_time": "2023-01-15T17:37:25.605Z"
   },
   {
    "duration": 7,
    "start_time": "2023-01-15T17:37:36.612Z"
   },
   {
    "duration": 36,
    "start_time": "2023-01-15T17:37:38.193Z"
   },
   {
    "duration": 23,
    "start_time": "2023-01-15T17:37:48.934Z"
   },
   {
    "duration": 22,
    "start_time": "2023-01-15T17:37:56.446Z"
   },
   {
    "duration": 5,
    "start_time": "2023-01-15T17:38:00.203Z"
   },
   {
    "duration": 2,
    "start_time": "2023-01-15T17:39:09.225Z"
   },
   {
    "duration": 72,
    "start_time": "2023-01-15T17:39:39.520Z"
   },
   {
    "duration": 70,
    "start_time": "2023-01-15T17:45:56.361Z"
   },
   {
    "duration": 6,
    "start_time": "2023-01-15T18:04:51.402Z"
   },
   {
    "duration": 114,
    "start_time": "2023-01-15T18:04:52.839Z"
   },
   {
    "duration": 8,
    "start_time": "2023-01-15T18:05:12.937Z"
   },
   {
    "duration": 5,
    "start_time": "2023-01-15T18:06:06.537Z"
   },
   {
    "duration": 74,
    "start_time": "2023-01-15T18:08:00.429Z"
   },
   {
    "duration": 2,
    "start_time": "2023-01-15T18:08:15.866Z"
   },
   {
    "duration": 1574,
    "start_time": "2023-01-15T18:17:47.284Z"
   },
   {
    "duration": 77,
    "start_time": "2023-01-15T18:21:05.437Z"
   },
   {
    "duration": 1744,
    "start_time": "2023-01-15T18:21:49.497Z"
   },
   {
    "duration": 1622,
    "start_time": "2023-01-15T18:22:42.666Z"
   },
   {
    "duration": 1577,
    "start_time": "2023-01-15T18:22:50.154Z"
   },
   {
    "duration": 69,
    "start_time": "2023-01-15T18:23:42.336Z"
   },
   {
    "duration": 1573,
    "start_time": "2023-01-15T18:25:26.331Z"
   },
   {
    "duration": 1623,
    "start_time": "2023-01-15T18:25:47.866Z"
   },
   {
    "duration": 89,
    "start_time": "2023-01-15T18:39:48.600Z"
   },
   {
    "duration": 10,
    "start_time": "2023-01-15T18:39:57.431Z"
   },
   {
    "duration": 225,
    "start_time": "2023-01-15T18:40:09.063Z"
   },
   {
    "duration": 104,
    "start_time": "2023-01-15T18:40:21.585Z"
   },
   {
    "duration": 163,
    "start_time": "2023-01-15T18:40:39.314Z"
   },
   {
    "duration": 164,
    "start_time": "2023-01-15T18:41:10.617Z"
   },
   {
    "duration": 44099,
    "start_time": "2023-01-15T18:55:15.282Z"
   },
   {
    "duration": 6254,
    "start_time": "2023-01-15T18:57:42.031Z"
   },
   {
    "duration": 5943,
    "start_time": "2023-01-15T18:58:29.144Z"
   },
   {
    "duration": 5849,
    "start_time": "2023-01-15T19:01:04.034Z"
   },
   {
    "duration": 2922,
    "start_time": "2023-01-15T19:02:48.857Z"
   },
   {
    "duration": 15,
    "start_time": "2023-01-15T19:09:03.497Z"
   },
   {
    "duration": 13,
    "start_time": "2023-01-15T19:09:28.377Z"
   },
   {
    "duration": 29,
    "start_time": "2023-01-15T19:10:01.610Z"
   },
   {
    "duration": 99,
    "start_time": "2023-01-15T19:10:46.946Z"
   },
   {
    "duration": 1081,
    "start_time": "2023-01-15T19:11:35.555Z"
   },
   {
    "duration": 871,
    "start_time": "2023-01-15T19:12:43.189Z"
   },
   {
    "duration": 9,
    "start_time": "2023-01-15T19:13:48.712Z"
   },
   {
    "duration": 21,
    "start_time": "2023-01-15T19:13:57.409Z"
   },
   {
    "duration": 21,
    "start_time": "2023-01-15T19:14:23.807Z"
   },
   {
    "duration": 23,
    "start_time": "2023-01-15T19:14:47.126Z"
   },
   {
    "duration": 22,
    "start_time": "2023-01-15T19:15:10.252Z"
   },
   {
    "duration": 158,
    "start_time": "2023-01-15T19:15:37.629Z"
   },
   {
    "duration": 155,
    "start_time": "2023-01-15T19:16:00.032Z"
   },
   {
    "duration": 5852,
    "start_time": "2023-01-15T19:16:32.231Z"
   },
   {
    "duration": 33,
    "start_time": "2023-01-15T19:16:47.839Z"
   },
   {
    "duration": 189,
    "start_time": "2023-01-15T19:17:13.591Z"
   },
   {
    "duration": 2650,
    "start_time": "2023-01-15T19:17:58.693Z"
   },
   {
    "duration": 39,
    "start_time": "2023-01-15T19:22:45.169Z"
   },
   {
    "duration": 36,
    "start_time": "2023-01-15T19:23:21.769Z"
   },
   {
    "duration": 36,
    "start_time": "2023-01-15T19:23:45.770Z"
   },
   {
    "duration": 108,
    "start_time": "2023-01-15T19:23:58.770Z"
   },
   {
    "duration": 24,
    "start_time": "2023-01-15T19:23:59.862Z"
   },
   {
    "duration": 823,
    "start_time": "2023-01-15T19:24:38.289Z"
   },
   {
    "duration": 49,
    "start_time": "2023-01-15T19:25:14.139Z"
   },
   {
    "duration": 913,
    "start_time": "2023-01-15T19:26:11.089Z"
   },
   {
    "duration": 14,
    "start_time": "2023-01-15T19:30:19.655Z"
   },
   {
    "duration": 12,
    "start_time": "2023-01-15T19:30:34.539Z"
   },
   {
    "duration": 6101,
    "start_time": "2023-01-15T19:32:57.900Z"
   },
   {
    "duration": 6417,
    "start_time": "2023-01-15T19:33:36.267Z"
   },
   {
    "duration": 6125,
    "start_time": "2023-01-15T19:33:54.557Z"
   },
   {
    "duration": 6200,
    "start_time": "2023-01-15T19:34:18.686Z"
   },
   {
    "duration": 6231,
    "start_time": "2023-01-15T19:34:28.950Z"
   },
   {
    "duration": 5951,
    "start_time": "2023-01-15T19:35:02.132Z"
   },
   {
    "duration": 9,
    "start_time": "2023-01-15T19:35:12.198Z"
   },
   {
    "duration": 3,
    "start_time": "2023-01-15T19:35:20.309Z"
   },
   {
    "duration": 13280,
    "start_time": "2023-01-15T19:47:06.623Z"
   },
   {
    "duration": 72,
    "start_time": "2023-01-15T19:48:17.439Z"
   },
   {
    "duration": 65015,
    "start_time": "2023-01-15T19:48:29.894Z"
   },
   {
    "duration": 3,
    "start_time": "2023-01-15T19:49:53.274Z"
   },
   {
    "duration": 138079,
    "start_time": "2023-01-15T19:51:24.121Z"
   },
   {
    "duration": 145324,
    "start_time": "2023-01-15T19:55:05.122Z"
   },
   {
    "duration": 144809,
    "start_time": "2023-01-15T19:59:31.582Z"
   },
   {
    "duration": 452978,
    "start_time": "2023-01-15T20:02:42.300Z"
   },
   {
    "duration": 264644,
    "start_time": "2023-01-15T20:10:51.314Z"
   },
   {
    "duration": 189386,
    "start_time": "2023-01-15T20:16:38.097Z"
   },
   {
    "duration": 820762,
    "start_time": "2023-01-15T20:20:02.733Z"
   },
   {
    "duration": 249859,
    "start_time": "2023-01-15T20:34:00.449Z"
   },
   {
    "duration": 92105,
    "start_time": "2023-01-15T20:38:38.085Z"
   },
   {
    "duration": 4,
    "start_time": "2023-01-15T20:41:15.383Z"
   },
   {
    "duration": 208,
    "start_time": "2023-01-15T20:42:16.372Z"
   },
   {
    "duration": 2057,
    "start_time": "2023-01-15T20:43:09.831Z"
   },
   {
    "duration": 212,
    "start_time": "2023-01-15T20:43:47.568Z"
   },
   {
    "duration": 166,
    "start_time": "2023-01-15T20:44:23.013Z"
   },
   {
    "duration": 2132,
    "start_time": "2023-01-15T20:44:31.165Z"
   },
   {
    "duration": 1084,
    "start_time": "2023-01-15T20:44:36.971Z"
   },
   {
    "duration": 1411,
    "start_time": "2023-01-15T20:46:51.962Z"
   },
   {
    "duration": 1568,
    "start_time": "2023-01-15T20:47:09.286Z"
   },
   {
    "duration": 86,
    "start_time": "2023-01-15T20:47:49.430Z"
   },
   {
    "duration": 3331,
    "start_time": "2023-01-15T20:47:56.589Z"
   },
   {
    "duration": 16,
    "start_time": "2023-01-15T20:48:21.922Z"
   },
   {
    "duration": 3144,
    "start_time": "2023-01-15T20:48:30.799Z"
   },
   {
    "duration": 396,
    "start_time": "2023-01-15T20:48:46.310Z"
   },
   {
    "duration": 370,
    "start_time": "2023-01-15T20:49:26.638Z"
   },
   {
    "duration": 75,
    "start_time": "2023-01-15T20:50:37.160Z"
   },
   {
    "duration": 527,
    "start_time": "2023-01-15T20:50:46.066Z"
   },
   {
    "duration": 186,
    "start_time": "2023-01-15T20:51:32.192Z"
   },
   {
    "duration": 2081,
    "start_time": "2023-01-15T20:52:11.565Z"
   },
   {
    "duration": 637,
    "start_time": "2023-01-15T20:52:25.583Z"
   },
   {
    "duration": 158,
    "start_time": "2023-01-15T20:52:48.032Z"
   },
   {
    "duration": 858,
    "start_time": "2023-01-15T20:54:34.032Z"
   },
   {
    "duration": 842,
    "start_time": "2023-01-15T20:54:45.585Z"
   },
   {
    "duration": 3542,
    "start_time": "2023-01-15T20:59:17.316Z"
   },
   {
    "duration": 3628,
    "start_time": "2023-01-15T21:00:03.142Z"
   },
   {
    "duration": 3796,
    "start_time": "2023-01-15T21:03:48.382Z"
   },
   {
    "duration": 203,
    "start_time": "2023-01-15T21:05:09.587Z"
   },
   {
    "duration": 3672,
    "start_time": "2023-01-15T21:06:50.335Z"
   },
   {
    "duration": 4062,
    "start_time": "2023-01-15T21:08:02.296Z"
   },
   {
    "duration": 3512,
    "start_time": "2023-01-15T21:08:42.271Z"
   },
   {
    "duration": 3605,
    "start_time": "2023-01-15T21:09:19.782Z"
   },
   {
    "duration": 10042,
    "start_time": "2023-01-15T21:09:30.442Z"
   },
   {
    "duration": 505,
    "start_time": "2023-01-15T21:10:51.894Z"
   },
   {
    "duration": 3236,
    "start_time": "2023-01-15T21:11:34.581Z"
   },
   {
    "duration": 3597,
    "start_time": "2023-01-15T21:12:45.857Z"
   },
   {
    "duration": 43,
    "start_time": "2023-01-15T21:19:27.902Z"
   },
   {
    "duration": 44,
    "start_time": "2023-01-15T21:19:49.626Z"
   },
   {
    "duration": 5796,
    "start_time": "2023-01-15T21:19:53.290Z"
   },
   {
    "duration": 6324,
    "start_time": "2023-01-15T21:20:47.267Z"
   },
   {
    "duration": 77,
    "start_time": "2023-01-15T21:26:44.893Z"
   },
   {
    "duration": 1074,
    "start_time": "2023-01-15T21:27:15.206Z"
   },
   {
    "duration": 2242,
    "start_time": "2023-01-15T21:27:43.647Z"
   },
   {
    "duration": 4,
    "start_time": "2023-01-15T21:27:57.766Z"
   },
   {
    "duration": 8366,
    "start_time": "2023-01-17T19:17:21.132Z"
   },
   {
    "duration": 161,
    "start_time": "2023-01-17T19:17:29.500Z"
   },
   {
    "duration": 16,
    "start_time": "2023-01-17T19:17:29.662Z"
   },
   {
    "duration": 12,
    "start_time": "2023-01-17T19:17:29.680Z"
   },
   {
    "duration": 36,
    "start_time": "2023-01-17T19:17:29.693Z"
   },
   {
    "duration": 56,
    "start_time": "2023-01-17T19:17:29.731Z"
   },
   {
    "duration": 13,
    "start_time": "2023-01-17T19:17:29.788Z"
   },
   {
    "duration": 4,
    "start_time": "2023-01-17T19:17:29.803Z"
   },
   {
    "duration": 5,
    "start_time": "2023-01-17T19:17:35.498Z"
   },
   {
    "duration": 3,
    "start_time": "2023-01-17T19:17:36.473Z"
   },
   {
    "duration": 8,
    "start_time": "2023-01-17T19:17:43.227Z"
   },
   {
    "duration": 6,
    "start_time": "2023-01-17T19:17:44.956Z"
   },
   {
    "duration": 7,
    "start_time": "2023-01-17T19:17:45.468Z"
   },
   {
    "duration": 9,
    "start_time": "2023-01-17T19:17:46.732Z"
   },
   {
    "duration": 14,
    "start_time": "2023-01-17T19:17:47.051Z"
   },
   {
    "duration": 5,
    "start_time": "2023-01-17T19:17:57.359Z"
   },
   {
    "duration": 7,
    "start_time": "2023-01-17T19:18:00.114Z"
   },
   {
    "duration": 4,
    "start_time": "2023-01-17T19:18:01.387Z"
   },
   {
    "duration": 681,
    "start_time": "2023-01-17T19:18:01.794Z"
   },
   {
    "duration": 11,
    "start_time": "2023-01-17T19:18:03.342Z"
   },
   {
    "duration": 6,
    "start_time": "2023-01-17T19:18:03.689Z"
   },
   {
    "duration": 3,
    "start_time": "2023-01-17T19:18:06.380Z"
   },
   {
    "duration": 10,
    "start_time": "2023-01-17T19:18:32.113Z"
   },
   {
    "duration": 4,
    "start_time": "2023-01-17T19:18:34.242Z"
   },
   {
    "duration": 5,
    "start_time": "2023-01-17T19:18:38.445Z"
   },
   {
    "duration": 13,
    "start_time": "2023-01-17T19:18:55.348Z"
   },
   {
    "duration": 4,
    "start_time": "2023-01-17T19:18:56.616Z"
   },
   {
    "duration": 4,
    "start_time": "2023-01-17T19:18:57.228Z"
   },
   {
    "duration": 6,
    "start_time": "2023-01-17T19:18:59.347Z"
   },
   {
    "duration": 5,
    "start_time": "2023-01-17T19:19:00.318Z"
   },
   {
    "duration": 108,
    "start_time": "2023-01-17T19:19:05.170Z"
   },
   {
    "duration": 13,
    "start_time": "2023-01-17T19:19:41.699Z"
   },
   {
    "duration": 6,
    "start_time": "2023-01-17T19:20:46.212Z"
   },
   {
    "duration": 12,
    "start_time": "2023-01-17T19:20:46.566Z"
   },
   {
    "duration": 13,
    "start_time": "2023-01-17T19:20:47.158Z"
   },
   {
    "duration": 12,
    "start_time": "2023-01-17T19:20:47.947Z"
   },
   {
    "duration": 4,
    "start_time": "2023-01-17T19:20:48.723Z"
   },
   {
    "duration": 3077,
    "start_time": "2023-01-17T19:21:20.182Z"
   },
   {
    "duration": 40,
    "start_time": "2023-01-17T19:21:23.263Z"
   },
   {
    "duration": 16,
    "start_time": "2023-01-17T19:21:23.305Z"
   },
   {
    "duration": 14,
    "start_time": "2023-01-17T19:21:23.323Z"
   },
   {
    "duration": 38,
    "start_time": "2023-01-17T19:21:23.338Z"
   },
   {
    "duration": 45,
    "start_time": "2023-01-17T19:21:23.378Z"
   },
   {
    "duration": 23,
    "start_time": "2023-01-17T19:21:23.425Z"
   },
   {
    "duration": 4,
    "start_time": "2023-01-17T19:21:23.449Z"
   },
   {
    "duration": 5,
    "start_time": "2023-01-17T19:21:23.455Z"
   },
   {
    "duration": 5,
    "start_time": "2023-01-17T19:21:23.462Z"
   },
   {
    "duration": 11,
    "start_time": "2023-01-17T19:21:23.468Z"
   },
   {
    "duration": 6,
    "start_time": "2023-01-17T19:21:23.481Z"
   },
   {
    "duration": 5,
    "start_time": "2023-01-17T19:21:23.488Z"
   },
   {
    "duration": 9,
    "start_time": "2023-01-17T19:21:23.495Z"
   },
   {
    "duration": 43,
    "start_time": "2023-01-17T19:21:23.505Z"
   },
   {
    "duration": 4,
    "start_time": "2023-01-17T19:21:23.550Z"
   },
   {
    "duration": 8,
    "start_time": "2023-01-17T19:21:23.555Z"
   },
   {
    "duration": 3,
    "start_time": "2023-01-17T19:21:23.565Z"
   },
   {
    "duration": 5,
    "start_time": "2023-01-17T19:21:23.570Z"
   },
   {
    "duration": 11,
    "start_time": "2023-01-17T19:21:23.577Z"
   },
   {
    "duration": 7,
    "start_time": "2023-01-17T19:21:23.590Z"
   },
   {
    "duration": 5,
    "start_time": "2023-01-17T19:21:23.598Z"
   },
   {
    "duration": 14,
    "start_time": "2023-01-17T19:21:23.604Z"
   },
   {
    "duration": 28,
    "start_time": "2023-01-17T19:21:23.620Z"
   },
   {
    "duration": 5,
    "start_time": "2023-01-17T19:21:23.649Z"
   },
   {
    "duration": 12,
    "start_time": "2023-01-17T19:21:23.655Z"
   },
   {
    "duration": 6,
    "start_time": "2023-01-17T19:21:23.668Z"
   },
   {
    "duration": 4,
    "start_time": "2023-01-17T19:21:23.678Z"
   },
   {
    "duration": 7,
    "start_time": "2023-01-17T19:21:23.683Z"
   },
   {
    "duration": 7,
    "start_time": "2023-01-17T19:21:23.691Z"
   },
   {
    "duration": 70,
    "start_time": "2023-01-17T19:21:23.699Z"
   },
   {
    "duration": 21,
    "start_time": "2023-01-17T19:21:23.771Z"
   },
   {
    "duration": 21,
    "start_time": "2023-01-17T19:21:23.794Z"
   },
   {
    "duration": 4,
    "start_time": "2023-01-17T19:21:23.817Z"
   },
   {
    "duration": 26,
    "start_time": "2023-01-17T19:21:23.823Z"
   },
   {
    "duration": 13,
    "start_time": "2023-01-17T19:21:23.850Z"
   },
   {
    "duration": 5,
    "start_time": "2023-01-17T19:21:23.864Z"
   },
   {
    "duration": 2,
    "start_time": "2023-01-17T19:21:23.871Z"
   },
   {
    "duration": 1603,
    "start_time": "2023-01-17T19:21:23.874Z"
   },
   {
    "duration": 2,
    "start_time": "2023-01-17T19:21:25.479Z"
   },
   {
    "duration": 138661,
    "start_time": "2023-01-17T19:21:25.482Z"
   },
   {
    "duration": 55,
    "start_time": "2023-01-17T19:23:44.147Z"
   },
   {
    "duration": 0,
    "start_time": "2023-01-17T19:23:44.203Z"
   },
   {
    "duration": 0,
    "start_time": "2023-01-17T19:23:44.204Z"
   },
   {
    "duration": 1,
    "start_time": "2023-01-17T19:23:44.205Z"
   },
   {
    "duration": 0,
    "start_time": "2023-01-17T19:23:44.207Z"
   },
   {
    "duration": 0,
    "start_time": "2023-01-17T19:23:44.208Z"
   },
   {
    "duration": 0,
    "start_time": "2023-01-17T19:23:44.210Z"
   },
   {
    "duration": 0,
    "start_time": "2023-01-17T19:23:44.211Z"
   },
   {
    "duration": 0,
    "start_time": "2023-01-17T19:23:44.212Z"
   },
   {
    "duration": 0,
    "start_time": "2023-01-17T19:23:44.213Z"
   },
   {
    "duration": 0,
    "start_time": "2023-01-17T19:23:44.214Z"
   },
   {
    "duration": 0,
    "start_time": "2023-01-17T19:23:44.215Z"
   },
   {
    "duration": 0,
    "start_time": "2023-01-17T19:23:44.216Z"
   },
   {
    "duration": 0,
    "start_time": "2023-01-17T19:23:44.218Z"
   },
   {
    "duration": 0,
    "start_time": "2023-01-17T19:23:44.219Z"
   },
   {
    "duration": 0,
    "start_time": "2023-01-17T19:23:44.220Z"
   },
   {
    "duration": 0,
    "start_time": "2023-01-17T19:23:44.221Z"
   },
   {
    "duration": 0,
    "start_time": "2023-01-17T19:23:44.222Z"
   },
   {
    "duration": 0,
    "start_time": "2023-01-17T19:23:44.223Z"
   },
   {
    "duration": 0,
    "start_time": "2023-01-17T19:23:44.225Z"
   },
   {
    "duration": 0,
    "start_time": "2023-01-17T19:23:44.226Z"
   },
   {
    "duration": 0,
    "start_time": "2023-01-17T19:23:44.227Z"
   },
   {
    "duration": 0,
    "start_time": "2023-01-17T19:23:44.228Z"
   },
   {
    "duration": 0,
    "start_time": "2023-01-17T19:23:44.230Z"
   },
   {
    "duration": 0,
    "start_time": "2023-01-17T19:23:44.230Z"
   },
   {
    "duration": 0,
    "start_time": "2023-01-17T19:23:44.232Z"
   },
   {
    "duration": 0,
    "start_time": "2023-01-17T19:23:44.233Z"
   },
   {
    "duration": 0,
    "start_time": "2023-01-17T19:23:44.234Z"
   },
   {
    "duration": 0,
    "start_time": "2023-01-17T19:23:44.235Z"
   },
   {
    "duration": 0,
    "start_time": "2023-01-17T19:23:44.237Z"
   },
   {
    "duration": 0,
    "start_time": "2023-01-17T19:23:44.247Z"
   },
   {
    "duration": 0,
    "start_time": "2023-01-17T19:23:44.250Z"
   },
   {
    "duration": 0,
    "start_time": "2023-01-17T19:23:44.252Z"
   },
   {
    "duration": 0,
    "start_time": "2023-01-17T19:23:44.253Z"
   },
   {
    "duration": 0,
    "start_time": "2023-01-17T19:23:44.254Z"
   },
   {
    "duration": 0,
    "start_time": "2023-01-17T19:23:44.255Z"
   },
   {
    "duration": 0,
    "start_time": "2023-01-17T19:23:44.256Z"
   },
   {
    "duration": 0,
    "start_time": "2023-01-17T19:23:44.257Z"
   },
   {
    "duration": 0,
    "start_time": "2023-01-17T19:23:44.258Z"
   },
   {
    "duration": 0,
    "start_time": "2023-01-17T19:23:44.260Z"
   },
   {
    "duration": 150473,
    "start_time": "2023-01-17T19:24:13.573Z"
   },
   {
    "duration": 221578,
    "start_time": "2023-01-17T19:28:40.308Z"
   },
   {
    "duration": 244363,
    "start_time": "2023-01-17T19:32:21.888Z"
   },
   {
    "duration": 111,
    "start_time": "2023-01-17T19:36:26.253Z"
   },
   {
    "duration": 0,
    "start_time": "2023-01-17T19:36:26.365Z"
   },
   {
    "duration": 0,
    "start_time": "2023-01-17T19:36:26.366Z"
   },
   {
    "duration": 9,
    "start_time": "2023-01-17T20:39:42.464Z"
   },
   {
    "duration": 6,
    "start_time": "2023-01-17T20:39:42.771Z"
   },
   {
    "duration": 4,
    "start_time": "2023-01-17T20:39:51.756Z"
   },
   {
    "duration": 7,
    "start_time": "2023-01-17T20:39:54.125Z"
   },
   {
    "duration": 4,
    "start_time": "2023-01-17T20:40:28.712Z"
   },
   {
    "duration": 1673,
    "start_time": "2023-01-17T20:40:57.556Z"
   },
   {
    "duration": 1770,
    "start_time": "2023-01-17T20:41:11.331Z"
   },
   {
    "duration": 3375,
    "start_time": "2023-01-17T20:41:32.906Z"
   },
   {
    "duration": 1536,
    "start_time": "2023-01-17T20:41:48.633Z"
   },
   {
    "duration": 137062,
    "start_time": "2023-01-17T20:43:04.068Z"
   },
   {
    "duration": 27599,
    "start_time": "2023-01-17T20:46:08.795Z"
   },
   {
    "duration": 46101,
    "start_time": "2023-01-17T20:49:26.876Z"
   },
   {
    "duration": 1326,
    "start_time": "2023-01-17T21:03:49.725Z"
   },
   {
    "duration": 4,
    "start_time": "2023-01-17T21:04:17.011Z"
   },
   {
    "duration": 1204,
    "start_time": "2023-01-17T21:04:22.444Z"
   },
   {
    "duration": 1375,
    "start_time": "2023-01-17T21:06:25.276Z"
   },
   {
    "duration": 4,
    "start_time": "2023-01-17T21:06:30.275Z"
   },
   {
    "duration": 3,
    "start_time": "2023-01-17T21:07:12.571Z"
   },
   {
    "duration": 1339,
    "start_time": "2023-01-17T21:07:27.409Z"
   },
   {
    "duration": 3,
    "start_time": "2023-01-17T21:07:31.326Z"
   },
   {
    "duration": 1265,
    "start_time": "2023-01-17T21:08:12.282Z"
   },
   {
    "duration": 46,
    "start_time": "2023-01-17T21:08:14.951Z"
   },
   {
    "duration": 3,
    "start_time": "2023-01-17T21:08:19.746Z"
   },
   {
    "duration": 27291,
    "start_time": "2023-01-17T21:08:42.828Z"
   },
   {
    "duration": 1453,
    "start_time": "2023-01-17T21:09:10.635Z"
   },
   {
    "duration": 27509,
    "start_time": "2023-01-17T21:10:03.205Z"
   },
   {
    "duration": 3,
    "start_time": "2023-01-17T21:10:42.364Z"
   },
   {
    "duration": 43,
    "start_time": "2023-01-17T21:12:57.473Z"
   },
   {
    "duration": 4,
    "start_time": "2023-01-17T21:13:19.599Z"
   },
   {
    "duration": 1562,
    "start_time": "2023-01-17T21:13:45.009Z"
   },
   {
    "duration": 3,
    "start_time": "2023-01-17T21:13:53.521Z"
   },
   {
    "duration": 137268,
    "start_time": "2023-01-17T21:14:54.955Z"
   },
   {
    "duration": 1625,
    "start_time": "2023-01-17T21:17:12.226Z"
   },
   {
    "duration": 3840,
    "start_time": "2023-01-17T21:44:15.161Z"
   },
   {
    "duration": 12,
    "start_time": "2023-01-17T21:44:52.700Z"
   },
   {
    "duration": 2201,
    "start_time": "2023-01-17T21:45:03.219Z"
   },
   {
    "duration": 17,
    "start_time": "2023-01-17T21:45:08.781Z"
   },
   {
    "duration": 36,
    "start_time": "2023-01-17T21:45:28.079Z"
   },
   {
    "duration": 4,
    "start_time": "2023-01-17T21:46:08.111Z"
   },
   {
    "duration": 4,
    "start_time": "2023-01-17T21:46:19.343Z"
   },
   {
    "duration": 21,
    "start_time": "2023-01-17T21:46:25.533Z"
   },
   {
    "duration": 45,
    "start_time": "2023-01-17T21:49:17.771Z"
   },
   {
    "duration": 2747,
    "start_time": "2023-01-17T21:52:17.335Z"
   },
   {
    "duration": 247673,
    "start_time": "2023-01-17T21:53:46.631Z"
   },
   {
    "duration": 2951,
    "start_time": "2023-01-17T21:57:54.306Z"
   },
   {
    "duration": 104,
    "start_time": "2023-01-17T21:57:57.259Z"
   },
   {
    "duration": 9,
    "start_time": "2023-01-17T21:58:21.415Z"
   },
   {
    "duration": 4647,
    "start_time": "2023-01-17T21:58:54.067Z"
   },
   {
    "duration": 18,
    "start_time": "2023-01-17T21:59:08.141Z"
   },
   {
    "duration": 11451,
    "start_time": "2023-01-17T22:00:31.621Z"
   },
   {
    "duration": 2621,
    "start_time": "2023-01-17T22:00:50.342Z"
   },
   {
    "duration": 5,
    "start_time": "2023-01-17T22:01:41.463Z"
   },
   {
    "duration": 54,
    "start_time": "2023-01-17T22:01:51.487Z"
   },
   {
    "duration": 9,
    "start_time": "2023-01-17T22:02:23.256Z"
   },
   {
    "duration": 4874,
    "start_time": "2023-01-17T22:02:44.590Z"
   },
   {
    "duration": 1827,
    "start_time": "2023-01-17T22:03:02.421Z"
   },
   {
    "duration": 44,
    "start_time": "2023-01-17T22:05:08.667Z"
   },
   {
    "duration": 13,
    "start_time": "2023-01-17T22:05:47.186Z"
   },
   {
    "duration": 814,
    "start_time": "2023-01-17T22:05:47.589Z"
   },
   {
    "duration": 75438,
    "start_time": "2023-01-17T22:05:58.874Z"
   },
   {
    "duration": 13,
    "start_time": "2023-01-17T22:07:14.314Z"
   },
   {
    "duration": 0,
    "start_time": "2023-01-17T22:07:14.328Z"
   },
   {
    "duration": 22552,
    "start_time": "2023-01-17T22:09:15.915Z"
   },
   {
    "duration": 1947,
    "start_time": "2023-01-17T22:09:42.222Z"
   },
   {
    "duration": 3,
    "start_time": "2023-01-17T22:10:07.941Z"
   },
   {
    "duration": 4,
    "start_time": "2023-01-17T22:10:11.262Z"
   },
   {
    "duration": 120,
    "start_time": "2023-01-17T22:15:25.477Z"
   },
   {
    "duration": 1755,
    "start_time": "2023-01-17T22:17:53.172Z"
   },
   {
    "duration": 511,
    "start_time": "2023-01-17T22:18:07.844Z"
   },
   {
    "duration": 518871,
    "start_time": "2023-01-17T22:21:11.068Z"
   },
   {
    "duration": 1684,
    "start_time": "2023-01-18T18:57:59.736Z"
   },
   {
    "duration": 0,
    "start_time": "2023-01-18T18:58:01.424Z"
   },
   {
    "duration": 0,
    "start_time": "2023-01-18T18:58:01.426Z"
   },
   {
    "duration": 0,
    "start_time": "2023-01-18T18:58:01.427Z"
   },
   {
    "duration": 0,
    "start_time": "2023-01-18T18:58:01.429Z"
   },
   {
    "duration": 0,
    "start_time": "2023-01-18T18:58:01.430Z"
   },
   {
    "duration": 0,
    "start_time": "2023-01-18T18:58:01.431Z"
   },
   {
    "duration": 0,
    "start_time": "2023-01-18T18:58:01.432Z"
   },
   {
    "duration": 0,
    "start_time": "2023-01-18T18:58:01.433Z"
   },
   {
    "duration": 0,
    "start_time": "2023-01-18T18:58:01.434Z"
   },
   {
    "duration": 0,
    "start_time": "2023-01-18T18:58:01.435Z"
   },
   {
    "duration": 0,
    "start_time": "2023-01-18T18:58:01.436Z"
   },
   {
    "duration": 0,
    "start_time": "2023-01-18T18:58:01.437Z"
   },
   {
    "duration": 0,
    "start_time": "2023-01-18T18:58:01.438Z"
   },
   {
    "duration": 0,
    "start_time": "2023-01-18T18:58:01.439Z"
   },
   {
    "duration": 0,
    "start_time": "2023-01-18T18:58:01.441Z"
   },
   {
    "duration": 0,
    "start_time": "2023-01-18T18:58:01.442Z"
   },
   {
    "duration": 0,
    "start_time": "2023-01-18T18:58:01.443Z"
   },
   {
    "duration": 0,
    "start_time": "2023-01-18T18:58:01.444Z"
   },
   {
    "duration": 0,
    "start_time": "2023-01-18T18:58:01.445Z"
   },
   {
    "duration": 0,
    "start_time": "2023-01-18T18:58:01.446Z"
   },
   {
    "duration": 0,
    "start_time": "2023-01-18T18:58:01.447Z"
   },
   {
    "duration": 0,
    "start_time": "2023-01-18T18:58:01.448Z"
   },
   {
    "duration": 0,
    "start_time": "2023-01-18T18:58:01.449Z"
   },
   {
    "duration": 0,
    "start_time": "2023-01-18T18:58:01.450Z"
   },
   {
    "duration": 0,
    "start_time": "2023-01-18T18:58:01.451Z"
   },
   {
    "duration": 0,
    "start_time": "2023-01-18T18:58:01.452Z"
   },
   {
    "duration": 0,
    "start_time": "2023-01-18T18:58:01.453Z"
   },
   {
    "duration": 0,
    "start_time": "2023-01-18T18:58:01.455Z"
   },
   {
    "duration": 0,
    "start_time": "2023-01-18T18:58:01.503Z"
   },
   {
    "duration": 0,
    "start_time": "2023-01-18T18:58:01.504Z"
   },
   {
    "duration": 0,
    "start_time": "2023-01-18T18:58:01.505Z"
   },
   {
    "duration": 0,
    "start_time": "2023-01-18T18:58:01.506Z"
   },
   {
    "duration": 0,
    "start_time": "2023-01-18T18:58:01.507Z"
   },
   {
    "duration": 0,
    "start_time": "2023-01-18T18:58:01.508Z"
   },
   {
    "duration": 0,
    "start_time": "2023-01-18T18:58:01.509Z"
   },
   {
    "duration": 0,
    "start_time": "2023-01-18T18:58:01.510Z"
   },
   {
    "duration": 0,
    "start_time": "2023-01-18T18:58:01.511Z"
   },
   {
    "duration": 0,
    "start_time": "2023-01-18T18:58:01.512Z"
   },
   {
    "duration": 0,
    "start_time": "2023-01-18T18:58:01.513Z"
   },
   {
    "duration": 0,
    "start_time": "2023-01-18T18:58:01.514Z"
   },
   {
    "duration": 0,
    "start_time": "2023-01-18T18:58:01.515Z"
   },
   {
    "duration": 0,
    "start_time": "2023-01-18T18:58:01.516Z"
   },
   {
    "duration": 0,
    "start_time": "2023-01-18T18:58:01.517Z"
   },
   {
    "duration": 0,
    "start_time": "2023-01-18T18:58:01.518Z"
   },
   {
    "duration": 0,
    "start_time": "2023-01-18T18:58:01.519Z"
   },
   {
    "duration": 0,
    "start_time": "2023-01-18T18:58:01.520Z"
   },
   {
    "duration": 0,
    "start_time": "2023-01-18T18:58:01.521Z"
   },
   {
    "duration": 0,
    "start_time": "2023-01-18T18:58:01.523Z"
   },
   {
    "duration": 0,
    "start_time": "2023-01-18T18:58:01.525Z"
   },
   {
    "duration": 0,
    "start_time": "2023-01-18T18:58:01.526Z"
   },
   {
    "duration": 0,
    "start_time": "2023-01-18T18:58:01.527Z"
   },
   {
    "duration": 0,
    "start_time": "2023-01-18T18:58:01.529Z"
   },
   {
    "duration": 0,
    "start_time": "2023-01-18T18:58:01.534Z"
   },
   {
    "duration": 0,
    "start_time": "2023-01-18T18:58:01.535Z"
   },
   {
    "duration": 0,
    "start_time": "2023-01-18T18:58:01.537Z"
   },
   {
    "duration": 0,
    "start_time": "2023-01-18T18:58:01.538Z"
   },
   {
    "duration": 0,
    "start_time": "2023-01-18T18:58:01.539Z"
   },
   {
    "duration": 0,
    "start_time": "2023-01-18T18:58:01.540Z"
   },
   {
    "duration": 0,
    "start_time": "2023-01-18T18:58:01.541Z"
   },
   {
    "duration": 0,
    "start_time": "2023-01-18T18:58:01.603Z"
   },
   {
    "duration": 0,
    "start_time": "2023-01-18T18:58:01.604Z"
   },
   {
    "duration": 0,
    "start_time": "2023-01-18T18:58:01.605Z"
   },
   {
    "duration": 0,
    "start_time": "2023-01-18T18:58:01.606Z"
   },
   {
    "duration": 0,
    "start_time": "2023-01-18T18:58:01.609Z"
   },
   {
    "duration": 0,
    "start_time": "2023-01-18T18:58:01.610Z"
   },
   {
    "duration": 0,
    "start_time": "2023-01-18T18:58:01.611Z"
   },
   {
    "duration": 0,
    "start_time": "2023-01-18T18:58:01.612Z"
   },
   {
    "duration": 0,
    "start_time": "2023-01-18T18:58:01.613Z"
   },
   {
    "duration": 0,
    "start_time": "2023-01-18T18:58:01.614Z"
   },
   {
    "duration": 0,
    "start_time": "2023-01-18T18:58:01.616Z"
   },
   {
    "duration": 0,
    "start_time": "2023-01-18T18:58:01.617Z"
   },
   {
    "duration": 0,
    "start_time": "2023-01-18T18:58:01.617Z"
   },
   {
    "duration": 0,
    "start_time": "2023-01-18T18:58:01.618Z"
   },
   {
    "duration": 0,
    "start_time": "2023-01-18T18:58:01.618Z"
   },
   {
    "duration": 0,
    "start_time": "2023-01-18T18:58:01.619Z"
   },
   {
    "duration": 0,
    "start_time": "2023-01-18T18:58:01.620Z"
   },
   {
    "duration": 0,
    "start_time": "2023-01-18T18:58:01.621Z"
   },
   {
    "duration": 0,
    "start_time": "2023-01-18T18:58:01.622Z"
   },
   {
    "duration": 0,
    "start_time": "2023-01-18T18:58:01.624Z"
   },
   {
    "duration": 0,
    "start_time": "2023-01-18T18:58:01.625Z"
   },
   {
    "duration": 0,
    "start_time": "2023-01-18T18:58:01.626Z"
   },
   {
    "duration": 0,
    "start_time": "2023-01-18T18:58:01.627Z"
   },
   {
    "duration": 0,
    "start_time": "2023-01-18T18:58:01.628Z"
   },
   {
    "duration": 0,
    "start_time": "2023-01-18T18:58:01.629Z"
   },
   {
    "duration": 0,
    "start_time": "2023-01-18T18:58:01.630Z"
   },
   {
    "duration": 0,
    "start_time": "2023-01-18T18:58:01.631Z"
   },
   {
    "duration": 0,
    "start_time": "2023-01-18T18:58:01.632Z"
   },
   {
    "duration": 17,
    "start_time": "2023-01-18T19:27:11.198Z"
   },
   {
    "duration": 1438,
    "start_time": "2023-01-18T19:27:23.978Z"
   },
   {
    "duration": 0,
    "start_time": "2023-01-18T19:27:25.419Z"
   },
   {
    "duration": 0,
    "start_time": "2023-01-18T19:27:25.420Z"
   },
   {
    "duration": 0,
    "start_time": "2023-01-18T19:27:25.421Z"
   },
   {
    "duration": 0,
    "start_time": "2023-01-18T19:27:25.422Z"
   },
   {
    "duration": 0,
    "start_time": "2023-01-18T19:27:25.423Z"
   },
   {
    "duration": 0,
    "start_time": "2023-01-18T19:27:25.424Z"
   },
   {
    "duration": 0,
    "start_time": "2023-01-18T19:27:25.425Z"
   },
   {
    "duration": 0,
    "start_time": "2023-01-18T19:27:25.426Z"
   },
   {
    "duration": 0,
    "start_time": "2023-01-18T19:27:25.428Z"
   },
   {
    "duration": 0,
    "start_time": "2023-01-18T19:27:25.428Z"
   },
   {
    "duration": 0,
    "start_time": "2023-01-18T19:27:25.429Z"
   },
   {
    "duration": 0,
    "start_time": "2023-01-18T19:27:25.430Z"
   },
   {
    "duration": 0,
    "start_time": "2023-01-18T19:27:25.431Z"
   },
   {
    "duration": 0,
    "start_time": "2023-01-18T19:27:25.432Z"
   },
   {
    "duration": 0,
    "start_time": "2023-01-18T19:27:25.433Z"
   },
   {
    "duration": 0,
    "start_time": "2023-01-18T19:27:25.434Z"
   },
   {
    "duration": 0,
    "start_time": "2023-01-18T19:27:25.436Z"
   },
   {
    "duration": 0,
    "start_time": "2023-01-18T19:27:25.437Z"
   },
   {
    "duration": 0,
    "start_time": "2023-01-18T19:27:25.438Z"
   },
   {
    "duration": 0,
    "start_time": "2023-01-18T19:27:25.439Z"
   },
   {
    "duration": 0,
    "start_time": "2023-01-18T19:27:25.439Z"
   },
   {
    "duration": 0,
    "start_time": "2023-01-18T19:27:25.441Z"
   },
   {
    "duration": 0,
    "start_time": "2023-01-18T19:27:25.442Z"
   },
   {
    "duration": 0,
    "start_time": "2023-01-18T19:27:25.443Z"
   },
   {
    "duration": 0,
    "start_time": "2023-01-18T19:27:25.444Z"
   },
   {
    "duration": 0,
    "start_time": "2023-01-18T19:27:25.445Z"
   },
   {
    "duration": 0,
    "start_time": "2023-01-18T19:27:25.446Z"
   },
   {
    "duration": 0,
    "start_time": "2023-01-18T19:27:25.447Z"
   },
   {
    "duration": 0,
    "start_time": "2023-01-18T19:27:25.447Z"
   },
   {
    "duration": 0,
    "start_time": "2023-01-18T19:27:25.448Z"
   },
   {
    "duration": 0,
    "start_time": "2023-01-18T19:27:25.449Z"
   },
   {
    "duration": 0,
    "start_time": "2023-01-18T19:27:25.450Z"
   },
   {
    "duration": 0,
    "start_time": "2023-01-18T19:27:25.451Z"
   },
   {
    "duration": 0,
    "start_time": "2023-01-18T19:27:25.452Z"
   },
   {
    "duration": 0,
    "start_time": "2023-01-18T19:27:25.453Z"
   },
   {
    "duration": 0,
    "start_time": "2023-01-18T19:27:25.504Z"
   },
   {
    "duration": 0,
    "start_time": "2023-01-18T19:27:25.505Z"
   },
   {
    "duration": 0,
    "start_time": "2023-01-18T19:27:25.506Z"
   },
   {
    "duration": 0,
    "start_time": "2023-01-18T19:27:25.508Z"
   },
   {
    "duration": 0,
    "start_time": "2023-01-18T19:27:25.509Z"
   },
   {
    "duration": 0,
    "start_time": "2023-01-18T19:27:25.510Z"
   },
   {
    "duration": 0,
    "start_time": "2023-01-18T19:27:25.511Z"
   },
   {
    "duration": 0,
    "start_time": "2023-01-18T19:27:25.513Z"
   },
   {
    "duration": 0,
    "start_time": "2023-01-18T19:27:25.514Z"
   },
   {
    "duration": 0,
    "start_time": "2023-01-18T19:27:25.515Z"
   },
   {
    "duration": 0,
    "start_time": "2023-01-18T19:27:25.516Z"
   },
   {
    "duration": 0,
    "start_time": "2023-01-18T19:27:25.517Z"
   },
   {
    "duration": 0,
    "start_time": "2023-01-18T19:27:25.518Z"
   },
   {
    "duration": 0,
    "start_time": "2023-01-18T19:27:25.519Z"
   },
   {
    "duration": 0,
    "start_time": "2023-01-18T19:27:25.520Z"
   },
   {
    "duration": 0,
    "start_time": "2023-01-18T19:27:25.521Z"
   },
   {
    "duration": 0,
    "start_time": "2023-01-18T19:27:25.522Z"
   },
   {
    "duration": 0,
    "start_time": "2023-01-18T19:27:25.522Z"
   },
   {
    "duration": 0,
    "start_time": "2023-01-18T19:27:25.524Z"
   },
   {
    "duration": 0,
    "start_time": "2023-01-18T19:27:25.525Z"
   },
   {
    "duration": 0,
    "start_time": "2023-01-18T19:27:25.526Z"
   },
   {
    "duration": 0,
    "start_time": "2023-01-18T19:27:25.526Z"
   },
   {
    "duration": 0,
    "start_time": "2023-01-18T19:27:25.527Z"
   },
   {
    "duration": 0,
    "start_time": "2023-01-18T19:27:25.529Z"
   },
   {
    "duration": 0,
    "start_time": "2023-01-18T19:27:25.530Z"
   },
   {
    "duration": 0,
    "start_time": "2023-01-18T19:27:25.530Z"
   },
   {
    "duration": 0,
    "start_time": "2023-01-18T19:27:25.531Z"
   },
   {
    "duration": 0,
    "start_time": "2023-01-18T19:27:25.532Z"
   },
   {
    "duration": 0,
    "start_time": "2023-01-18T19:27:25.533Z"
   },
   {
    "duration": 0,
    "start_time": "2023-01-18T19:27:25.534Z"
   },
   {
    "duration": 0,
    "start_time": "2023-01-18T19:27:25.535Z"
   },
   {
    "duration": 0,
    "start_time": "2023-01-18T19:27:25.536Z"
   },
   {
    "duration": 0,
    "start_time": "2023-01-18T19:27:25.537Z"
   },
   {
    "duration": 0,
    "start_time": "2023-01-18T19:27:25.538Z"
   },
   {
    "duration": 0,
    "start_time": "2023-01-18T19:27:25.539Z"
   },
   {
    "duration": 0,
    "start_time": "2023-01-18T19:27:25.603Z"
   },
   {
    "duration": 0,
    "start_time": "2023-01-18T19:27:25.604Z"
   },
   {
    "duration": 0,
    "start_time": "2023-01-18T19:27:25.605Z"
   },
   {
    "duration": 0,
    "start_time": "2023-01-18T19:27:25.606Z"
   },
   {
    "duration": 0,
    "start_time": "2023-01-18T19:27:25.607Z"
   },
   {
    "duration": 0,
    "start_time": "2023-01-18T19:27:25.608Z"
   },
   {
    "duration": 0,
    "start_time": "2023-01-18T19:27:25.609Z"
   },
   {
    "duration": 0,
    "start_time": "2023-01-18T19:27:25.611Z"
   },
   {
    "duration": 0,
    "start_time": "2023-01-18T19:27:25.612Z"
   },
   {
    "duration": 0,
    "start_time": "2023-01-18T19:27:25.612Z"
   },
   {
    "duration": 0,
    "start_time": "2023-01-18T19:27:25.613Z"
   },
   {
    "duration": 0,
    "start_time": "2023-01-18T19:27:25.614Z"
   },
   {
    "duration": 0,
    "start_time": "2023-01-18T19:27:25.615Z"
   },
   {
    "duration": 0,
    "start_time": "2023-01-18T19:27:25.616Z"
   },
   {
    "duration": 0,
    "start_time": "2023-01-18T19:27:25.617Z"
   },
   {
    "duration": 0,
    "start_time": "2023-01-18T19:27:25.618Z"
   },
   {
    "duration": 0,
    "start_time": "2023-01-18T19:27:25.619Z"
   },
   {
    "duration": 17511,
    "start_time": "2023-01-18T19:28:38.086Z"
   },
   {
    "duration": 25,
    "start_time": "2023-01-18T19:28:59.543Z"
   },
   {
    "duration": 11798,
    "start_time": "2023-01-18T19:29:16.693Z"
   },
   {
    "duration": 85,
    "start_time": "2023-01-18T19:29:28.493Z"
   },
   {
    "duration": 19,
    "start_time": "2023-01-18T19:29:28.580Z"
   },
   {
    "duration": 32,
    "start_time": "2023-01-18T19:29:28.601Z"
   },
   {
    "duration": 43,
    "start_time": "2023-01-18T19:29:28.635Z"
   },
   {
    "duration": 57,
    "start_time": "2023-01-18T19:29:28.680Z"
   },
   {
    "duration": 13,
    "start_time": "2023-01-18T19:29:28.739Z"
   },
   {
    "duration": 5,
    "start_time": "2023-01-18T19:29:28.754Z"
   },
   {
    "duration": 7,
    "start_time": "2023-01-18T19:29:28.761Z"
   },
   {
    "duration": 7,
    "start_time": "2023-01-18T19:29:28.771Z"
   },
   {
    "duration": 43,
    "start_time": "2023-01-18T19:29:28.780Z"
   },
   {
    "duration": 7,
    "start_time": "2023-01-18T19:29:28.825Z"
   },
   {
    "duration": 11,
    "start_time": "2023-01-18T19:29:28.833Z"
   },
   {
    "duration": 11,
    "start_time": "2023-01-18T19:29:28.845Z"
   },
   {
    "duration": 12,
    "start_time": "2023-01-18T19:29:28.858Z"
   },
   {
    "duration": 6,
    "start_time": "2023-01-18T19:29:28.871Z"
   },
   {
    "duration": 6,
    "start_time": "2023-01-18T19:29:28.878Z"
   },
   {
    "duration": 21,
    "start_time": "2023-01-18T19:29:28.885Z"
   },
   {
    "duration": 19,
    "start_time": "2023-01-18T19:29:28.908Z"
   },
   {
    "duration": 12,
    "start_time": "2023-01-18T19:29:28.929Z"
   },
   {
    "duration": 7,
    "start_time": "2023-01-18T19:29:28.942Z"
   },
   {
    "duration": 4,
    "start_time": "2023-01-18T19:29:28.951Z"
   },
   {
    "duration": 16,
    "start_time": "2023-01-18T19:29:28.956Z"
   },
   {
    "duration": 8,
    "start_time": "2023-01-18T19:29:28.973Z"
   },
   {
    "duration": 10,
    "start_time": "2023-01-18T19:29:28.983Z"
   },
   {
    "duration": 19,
    "start_time": "2023-01-18T19:29:28.994Z"
   },
   {
    "duration": 17,
    "start_time": "2023-01-18T19:29:29.014Z"
   },
   {
    "duration": 5,
    "start_time": "2023-01-18T19:29:29.035Z"
   },
   {
    "duration": 8,
    "start_time": "2023-01-18T19:29:29.041Z"
   },
   {
    "duration": 13,
    "start_time": "2023-01-18T19:29:29.050Z"
   },
   {
    "duration": 53,
    "start_time": "2023-01-18T19:29:29.065Z"
   },
   {
    "duration": 23,
    "start_time": "2023-01-18T19:29:29.120Z"
   },
   {
    "duration": 24,
    "start_time": "2023-01-18T19:29:29.145Z"
   },
   {
    "duration": 4,
    "start_time": "2023-01-18T19:29:29.171Z"
   },
   {
    "duration": 47,
    "start_time": "2023-01-18T19:29:29.177Z"
   },
   {
    "duration": 11,
    "start_time": "2023-01-18T19:29:29.225Z"
   },
   {
    "duration": 6,
    "start_time": "2023-01-18T19:29:29.238Z"
   },
   {
    "duration": 3,
    "start_time": "2023-01-18T19:29:29.245Z"
   },
   {
    "duration": 1725,
    "start_time": "2023-01-18T19:29:29.249Z"
   },
   {
    "duration": 154573,
    "start_time": "2023-01-18T19:29:30.975Z"
   },
   {
    "duration": 169057,
    "start_time": "2023-01-18T19:32:05.550Z"
   },
   {
    "duration": 235304,
    "start_time": "2023-01-18T19:34:54.609Z"
   },
   {
    "duration": 359673,
    "start_time": "2023-01-18T19:38:49.915Z"
   },
   {
    "duration": 269439,
    "start_time": "2023-01-18T19:44:49.589Z"
   },
   {
    "duration": 2,
    "start_time": "2023-01-18T19:49:19.030Z"
   },
   {
    "duration": 1191,
    "start_time": "2023-01-18T19:49:19.033Z"
   },
   {
    "duration": 79,
    "start_time": "2023-01-18T19:49:20.225Z"
   },
   {
    "duration": 3592,
    "start_time": "2023-01-18T19:49:20.306Z"
   },
   {
    "duration": 3983,
    "start_time": "2023-01-18T19:49:23.902Z"
   },
   {
    "duration": 5,
    "start_time": "2023-01-18T19:49:27.886Z"
   },
   {
    "duration": 9,
    "start_time": "2023-01-18T19:49:27.893Z"
   },
   {
    "duration": 5,
    "start_time": "2023-01-18T19:49:27.904Z"
   },
   {
    "duration": 1609,
    "start_time": "2023-01-18T19:49:27.911Z"
   },
   {
    "duration": 144979,
    "start_time": "2023-01-18T19:49:29.522Z"
   },
   {
    "duration": 536237,
    "start_time": "2023-01-18T19:51:54.503Z"
   },
   {
    "duration": 1268,
    "start_time": "2023-01-18T20:00:50.742Z"
   },
   {
    "duration": 5,
    "start_time": "2023-01-18T20:00:52.011Z"
   },
   {
    "duration": 116,
    "start_time": "2023-01-18T20:00:52.017Z"
   },
   {
    "duration": 2133,
    "start_time": "2023-01-18T20:00:52.135Z"
   },
   {
    "duration": 53,
    "start_time": "2023-01-18T20:00:54.270Z"
   },
   {
    "duration": 2803,
    "start_time": "2023-01-18T20:00:54.325Z"
   },
   {
    "duration": 252820,
    "start_time": "2023-01-18T20:00:57.130Z"
   },
   {
    "duration": 124307,
    "start_time": "2023-01-18T20:05:09.952Z"
   },
   {
    "duration": 1453,
    "start_time": "2023-01-18T20:07:14.262Z"
   },
   {
    "duration": 91,
    "start_time": "2023-01-18T20:07:15.716Z"
   },
   {
    "duration": 109,
    "start_time": "2023-01-18T20:07:15.809Z"
   },
   {
    "duration": 41,
    "start_time": "2023-01-18T20:07:15.920Z"
   },
   {
    "duration": 828,
    "start_time": "2023-01-18T20:07:15.963Z"
   },
   {
    "duration": 78124,
    "start_time": "2023-01-18T20:07:16.792Z"
   },
   {
    "duration": 288009,
    "start_time": "2023-01-18T20:08:34.918Z"
   },
   {
    "duration": 883,
    "start_time": "2023-01-18T20:13:22.929Z"
   },
   {
    "duration": 6,
    "start_time": "2023-01-18T20:13:23.904Z"
   },
   {
    "duration": 9,
    "start_time": "2023-01-18T20:13:24.002Z"
   },
   {
    "duration": 179,
    "start_time": "2023-01-18T20:13:24.013Z"
   },
   {
    "duration": 1823,
    "start_time": "2023-01-18T20:13:24.204Z"
   },
   {
    "duration": 289,
    "start_time": "2023-01-18T20:13:26.029Z"
   },
   {
    "duration": 111,
    "start_time": "2023-01-18T20:13:26.322Z"
   },
   {
    "duration": 0,
    "start_time": "2023-01-18T20:13:26.435Z"
   },
   {
    "duration": 0,
    "start_time": "2023-01-18T20:13:26.436Z"
   },
   {
    "duration": 0,
    "start_time": "2023-01-18T20:13:26.437Z"
   },
   {
    "duration": 0,
    "start_time": "2023-01-18T20:13:26.438Z"
   },
   {
    "duration": 0,
    "start_time": "2023-01-18T20:13:26.439Z"
   },
   {
    "duration": 0,
    "start_time": "2023-01-18T20:13:26.440Z"
   },
   {
    "duration": 0,
    "start_time": "2023-01-18T20:13:26.441Z"
   },
   {
    "duration": 0,
    "start_time": "2023-01-18T20:13:26.442Z"
   },
   {
    "duration": 0,
    "start_time": "2023-01-18T20:13:26.443Z"
   },
   {
    "duration": 0,
    "start_time": "2023-01-18T20:13:26.444Z"
   },
   {
    "duration": 0,
    "start_time": "2023-01-18T20:13:26.445Z"
   },
   {
    "duration": 0,
    "start_time": "2023-01-18T20:13:26.446Z"
   },
   {
    "duration": 0,
    "start_time": "2023-01-18T20:13:26.447Z"
   },
   {
    "duration": 199838,
    "start_time": "2023-01-18T20:25:16.623Z"
   },
   {
    "duration": 2293,
    "start_time": "2023-01-18T20:39:06.720Z"
   },
   {
    "duration": 4,
    "start_time": "2023-01-18T20:39:09.986Z"
   },
   {
    "duration": 4,
    "start_time": "2023-01-18T20:39:12.676Z"
   },
   {
    "duration": 322,
    "start_time": "2023-01-18T20:41:09.299Z"
   },
   {
    "duration": 26651,
    "start_time": "2023-01-18T21:01:42.576Z"
   },
   {
    "duration": 97,
    "start_time": "2023-01-18T21:03:24.222Z"
   },
   {
    "duration": 270152,
    "start_time": "2023-01-18T21:03:36.273Z"
   },
   {
    "duration": 13857,
    "start_time": "2023-01-18T21:08:14.647Z"
   },
   {
    "duration": 157732,
    "start_time": "2023-01-18T21:11:17.706Z"
   },
   {
    "duration": 340809,
    "start_time": "2023-01-18T21:15:28.012Z"
   },
   {
    "duration": 2317,
    "start_time": "2023-01-18T21:24:49.162Z"
   },
   {
    "duration": 93,
    "start_time": "2023-01-18T21:25:17.928Z"
   },
   {
    "duration": 6212,
    "start_time": "2023-01-18T21:25:29.502Z"
   },
   {
    "duration": 6247,
    "start_time": "2023-01-18T21:26:15.262Z"
   },
   {
    "duration": 10,
    "start_time": "2023-01-18T21:28:27.830Z"
   },
   {
    "duration": 618,
    "start_time": "2023-01-18T21:28:52.830Z"
   },
   {
    "duration": 78,
    "start_time": "2023-01-18T21:30:36.904Z"
   },
   {
    "duration": 7692,
    "start_time": "2023-01-18T21:30:46.550Z"
   },
   {
    "duration": 20063,
    "start_time": "2023-01-18T21:32:28.186Z"
   },
   {
    "duration": 93789,
    "start_time": "2023-01-18T21:36:05.264Z"
   },
   {
    "duration": 10122,
    "start_time": "2023-01-18T21:37:48.482Z"
   },
   {
    "duration": 10670,
    "start_time": "2023-01-18T21:38:14.293Z"
   },
   {
    "duration": 18385,
    "start_time": "2023-01-18T21:38:30.921Z"
   },
   {
    "duration": 14,
    "start_time": "2023-01-18T21:39:13.708Z"
   },
   {
    "duration": 18491,
    "start_time": "2023-01-18T21:39:23.998Z"
   },
   {
    "duration": 18798,
    "start_time": "2023-01-18T21:40:57.546Z"
   },
   {
    "duration": 12,
    "start_time": "2023-01-18T21:41:44.652Z"
   },
   {
    "duration": 7227,
    "start_time": "2023-01-18T21:41:58.272Z"
   },
   {
    "duration": 7288,
    "start_time": "2023-01-18T21:42:43.156Z"
   },
   {
    "duration": 7237,
    "start_time": "2023-01-18T21:43:57.787Z"
   },
   {
    "duration": 582,
    "start_time": "2023-01-18T21:50:24.646Z"
   },
   {
    "duration": 578,
    "start_time": "2023-01-18T21:54:34.528Z"
   },
   {
    "duration": 595,
    "start_time": "2023-01-18T21:55:55.248Z"
   },
   {
    "duration": 677,
    "start_time": "2023-01-18T21:56:04.865Z"
   },
   {
    "duration": 596,
    "start_time": "2023-01-18T21:57:03.747Z"
   },
   {
    "duration": 577,
    "start_time": "2023-01-18T21:57:22.315Z"
   },
   {
    "duration": 585,
    "start_time": "2023-01-18T21:57:58.827Z"
   },
   {
    "duration": 592,
    "start_time": "2023-01-18T21:58:17.243Z"
   },
   {
    "duration": 647,
    "start_time": "2023-01-18T21:58:53.837Z"
   },
   {
    "duration": 585,
    "start_time": "2023-01-18T21:59:08.649Z"
   },
   {
    "duration": 609,
    "start_time": "2023-01-18T21:59:33.779Z"
   },
   {
    "duration": 1877,
    "start_time": "2023-01-18T22:02:52.076Z"
   },
   {
    "duration": 579,
    "start_time": "2023-01-18T22:03:00.299Z"
   },
   {
    "duration": 593,
    "start_time": "2023-01-18T22:03:07.726Z"
   },
   {
    "duration": 663,
    "start_time": "2023-01-18T22:03:17.134Z"
   },
   {
    "duration": 11240,
    "start_time": "2023-01-18T22:05:25.990Z"
   },
   {
    "duration": 320461,
    "start_time": "2023-01-18T22:05:43.185Z"
   },
   {
    "duration": 12357,
    "start_time": "2023-01-18T22:12:08.408Z"
   },
   {
    "duration": 6689,
    "start_time": "2023-01-18T22:12:38.873Z"
   },
   {
    "duration": 522,
    "start_time": "2023-01-18T22:13:11.134Z"
   },
   {
    "duration": 576,
    "start_time": "2023-01-18T22:13:21.432Z"
   },
   {
    "duration": 521,
    "start_time": "2023-01-18T22:13:31.189Z"
   },
   {
    "duration": 535,
    "start_time": "2023-01-18T22:13:40.072Z"
   },
   {
    "duration": 566,
    "start_time": "2023-01-18T22:14:03.451Z"
   },
   {
    "duration": 567,
    "start_time": "2023-01-18T22:14:14.993Z"
   },
   {
    "duration": 526,
    "start_time": "2023-01-18T22:14:35.897Z"
   },
   {
    "duration": 604,
    "start_time": "2023-01-18T22:14:50.095Z"
   },
   {
    "duration": 565,
    "start_time": "2023-01-18T22:14:57.722Z"
   },
   {
    "duration": 142868,
    "start_time": "2023-01-18T22:15:09.383Z"
   },
   {
    "duration": 8872,
    "start_time": "2023-01-18T22:18:09.059Z"
   },
   {
    "duration": 68344,
    "start_time": "2023-01-18T22:18:30.740Z"
   },
   {
    "duration": 237075,
    "start_time": "2023-01-18T22:19:39.811Z"
   },
   {
    "duration": 14717,
    "start_time": "2023-01-18T22:24:05.773Z"
   },
   {
    "duration": 33509,
    "start_time": "2023-01-18T22:24:34.670Z"
   },
   {
    "duration": 191382,
    "start_time": "2023-01-18T22:25:14.262Z"
   },
   {
    "duration": 583,
    "start_time": "2023-01-18T22:28:25.646Z"
   },
   {
    "duration": 74,
    "start_time": "2023-01-18T22:28:42.751Z"
   },
   {
    "duration": 124048,
    "start_time": "2023-01-18T22:28:55.678Z"
   },
   {
    "duration": 13229,
    "start_time": "2023-01-18T22:32:36.114Z"
   },
   {
    "duration": 25327,
    "start_time": "2023-01-18T22:33:13.617Z"
   },
   {
    "duration": 73,
    "start_time": "2023-01-18T22:34:03.083Z"
   },
   {
    "duration": 21167,
    "start_time": "2023-01-18T22:34:11.457Z"
   },
   {
    "duration": 563,
    "start_time": "2023-01-18T22:34:51.698Z"
   },
   {
    "duration": 75,
    "start_time": "2023-01-18T22:35:49.466Z"
   },
   {
    "duration": 530,
    "start_time": "2023-01-18T22:36:29.394Z"
   },
   {
    "duration": 504,
    "start_time": "2023-01-18T22:36:43.083Z"
   },
   {
    "duration": 610,
    "start_time": "2023-01-18T22:36:51.587Z"
   },
   {
    "duration": 647,
    "start_time": "2023-01-18T22:37:04.954Z"
   },
   {
    "duration": 739,
    "start_time": "2023-01-18T22:37:12.619Z"
   },
   {
    "duration": 736,
    "start_time": "2023-01-18T22:37:19.751Z"
   },
   {
    "duration": 256276,
    "start_time": "2023-01-18T22:38:05.493Z"
   },
   {
    "duration": 857,
    "start_time": "2023-01-18T22:43:39.573Z"
   },
   {
    "duration": 789,
    "start_time": "2023-01-18T22:43:53.798Z"
   },
   {
    "duration": 546,
    "start_time": "2023-01-18T22:45:09.054Z"
   },
   {
    "duration": 740,
    "start_time": "2023-01-18T22:45:17.264Z"
   },
   {
    "duration": 666,
    "start_time": "2023-01-18T22:45:27.956Z"
   },
   {
    "duration": 657,
    "start_time": "2023-01-18T22:45:51.456Z"
   },
   {
    "duration": 556,
    "start_time": "2023-01-18T22:46:08.096Z"
   },
   {
    "duration": 1832,
    "start_time": "2023-01-19T09:18:06.822Z"
   },
   {
    "duration": 0,
    "start_time": "2023-01-19T09:18:08.658Z"
   },
   {
    "duration": 0,
    "start_time": "2023-01-19T09:18:08.659Z"
   },
   {
    "duration": 0,
    "start_time": "2023-01-19T09:18:08.661Z"
   },
   {
    "duration": 0,
    "start_time": "2023-01-19T09:18:08.662Z"
   },
   {
    "duration": 0,
    "start_time": "2023-01-19T09:18:08.663Z"
   },
   {
    "duration": 0,
    "start_time": "2023-01-19T09:18:08.665Z"
   },
   {
    "duration": 0,
    "start_time": "2023-01-19T09:18:08.666Z"
   },
   {
    "duration": 0,
    "start_time": "2023-01-19T09:18:08.667Z"
   },
   {
    "duration": 0,
    "start_time": "2023-01-19T09:18:08.669Z"
   },
   {
    "duration": 0,
    "start_time": "2023-01-19T09:18:08.670Z"
   },
   {
    "duration": 0,
    "start_time": "2023-01-19T09:18:08.694Z"
   },
   {
    "duration": 0,
    "start_time": "2023-01-19T09:18:08.695Z"
   },
   {
    "duration": 0,
    "start_time": "2023-01-19T09:18:08.697Z"
   },
   {
    "duration": 0,
    "start_time": "2023-01-19T09:18:08.698Z"
   },
   {
    "duration": 0,
    "start_time": "2023-01-19T09:18:08.700Z"
   },
   {
    "duration": 0,
    "start_time": "2023-01-19T09:18:08.700Z"
   },
   {
    "duration": 1,
    "start_time": "2023-01-19T09:18:08.701Z"
   },
   {
    "duration": 0,
    "start_time": "2023-01-19T09:18:08.703Z"
   },
   {
    "duration": 0,
    "start_time": "2023-01-19T09:18:08.704Z"
   },
   {
    "duration": 0,
    "start_time": "2023-01-19T09:18:08.705Z"
   },
   {
    "duration": 0,
    "start_time": "2023-01-19T09:18:08.706Z"
   },
   {
    "duration": 0,
    "start_time": "2023-01-19T09:18:08.707Z"
   },
   {
    "duration": 0,
    "start_time": "2023-01-19T09:18:08.708Z"
   },
   {
    "duration": 0,
    "start_time": "2023-01-19T09:18:08.708Z"
   },
   {
    "duration": 0,
    "start_time": "2023-01-19T09:18:08.709Z"
   },
   {
    "duration": 0,
    "start_time": "2023-01-19T09:18:08.710Z"
   },
   {
    "duration": 0,
    "start_time": "2023-01-19T09:18:08.712Z"
   },
   {
    "duration": 0,
    "start_time": "2023-01-19T09:18:08.713Z"
   },
   {
    "duration": 0,
    "start_time": "2023-01-19T09:18:08.714Z"
   },
   {
    "duration": 0,
    "start_time": "2023-01-19T09:18:08.715Z"
   },
   {
    "duration": 0,
    "start_time": "2023-01-19T09:18:08.716Z"
   },
   {
    "duration": 0,
    "start_time": "2023-01-19T09:18:08.717Z"
   },
   {
    "duration": 0,
    "start_time": "2023-01-19T09:18:08.718Z"
   },
   {
    "duration": 0,
    "start_time": "2023-01-19T09:18:08.719Z"
   },
   {
    "duration": 10457,
    "start_time": "2023-01-19T09:18:48.146Z"
   },
   {
    "duration": 27,
    "start_time": "2023-01-19T09:18:58.605Z"
   },
   {
    "duration": 0,
    "start_time": "2023-01-19T09:18:58.635Z"
   },
   {
    "duration": 0,
    "start_time": "2023-01-19T09:18:58.636Z"
   },
   {
    "duration": 0,
    "start_time": "2023-01-19T09:18:58.637Z"
   },
   {
    "duration": 0,
    "start_time": "2023-01-19T09:18:58.639Z"
   },
   {
    "duration": 0,
    "start_time": "2023-01-19T09:18:58.640Z"
   },
   {
    "duration": 0,
    "start_time": "2023-01-19T09:18:58.641Z"
   },
   {
    "duration": 0,
    "start_time": "2023-01-19T09:18:58.642Z"
   },
   {
    "duration": 0,
    "start_time": "2023-01-19T09:18:58.643Z"
   },
   {
    "duration": 0,
    "start_time": "2023-01-19T09:18:58.644Z"
   },
   {
    "duration": 0,
    "start_time": "2023-01-19T09:18:58.645Z"
   },
   {
    "duration": 0,
    "start_time": "2023-01-19T09:18:58.646Z"
   },
   {
    "duration": 0,
    "start_time": "2023-01-19T09:18:58.647Z"
   },
   {
    "duration": 0,
    "start_time": "2023-01-19T09:18:58.648Z"
   },
   {
    "duration": 0,
    "start_time": "2023-01-19T09:18:58.649Z"
   },
   {
    "duration": 0,
    "start_time": "2023-01-19T09:18:58.650Z"
   },
   {
    "duration": 0,
    "start_time": "2023-01-19T09:18:58.652Z"
   },
   {
    "duration": 0,
    "start_time": "2023-01-19T09:18:58.652Z"
   },
   {
    "duration": 0,
    "start_time": "2023-01-19T09:18:58.653Z"
   },
   {
    "duration": 0,
    "start_time": "2023-01-19T09:18:58.655Z"
   },
   {
    "duration": 0,
    "start_time": "2023-01-19T09:18:58.656Z"
   },
   {
    "duration": 0,
    "start_time": "2023-01-19T09:18:58.657Z"
   },
   {
    "duration": 0,
    "start_time": "2023-01-19T09:18:58.658Z"
   },
   {
    "duration": 0,
    "start_time": "2023-01-19T09:18:58.693Z"
   },
   {
    "duration": 0,
    "start_time": "2023-01-19T09:18:58.694Z"
   },
   {
    "duration": 0,
    "start_time": "2023-01-19T09:18:58.695Z"
   },
   {
    "duration": 0,
    "start_time": "2023-01-19T09:18:58.696Z"
   },
   {
    "duration": 0,
    "start_time": "2023-01-19T09:18:58.697Z"
   },
   {
    "duration": 0,
    "start_time": "2023-01-19T09:18:58.698Z"
   },
   {
    "duration": 0,
    "start_time": "2023-01-19T09:18:58.699Z"
   },
   {
    "duration": 0,
    "start_time": "2023-01-19T09:18:58.700Z"
   },
   {
    "duration": 0,
    "start_time": "2023-01-19T09:18:58.701Z"
   },
   {
    "duration": 0,
    "start_time": "2023-01-19T09:18:58.702Z"
   },
   {
    "duration": 0,
    "start_time": "2023-01-19T09:18:58.703Z"
   },
   {
    "duration": 0,
    "start_time": "2023-01-19T09:18:58.704Z"
   },
   {
    "duration": 10,
    "start_time": "2023-01-19T09:19:06.243Z"
   },
   {
    "duration": 18,
    "start_time": "2023-01-19T09:45:18.337Z"
   },
   {
    "duration": 15,
    "start_time": "2023-01-19T09:46:04.357Z"
   },
   {
    "duration": 2190,
    "start_time": "2023-01-19T09:46:53.857Z"
   },
   {
    "duration": 19,
    "start_time": "2023-01-19T09:46:59.286Z"
   },
   {
    "duration": 4289,
    "start_time": "2023-01-19T09:47:33.668Z"
   },
   {
    "duration": 1214,
    "start_time": "2023-01-19T09:47:37.960Z"
   },
   {
    "duration": 4470,
    "start_time": "2023-01-19T09:47:54.560Z"
   },
   {
    "duration": 5,
    "start_time": "2023-01-19T09:47:59.033Z"
   },
   {
    "duration": 100,
    "start_time": "2023-01-19T09:47:59.039Z"
   },
   {
    "duration": 19,
    "start_time": "2023-01-19T09:47:59.140Z"
   },
   {
    "duration": 41,
    "start_time": "2023-01-19T09:47:59.161Z"
   },
   {
    "duration": 57,
    "start_time": "2023-01-19T09:47:59.203Z"
   },
   {
    "duration": 49,
    "start_time": "2023-01-19T09:47:59.261Z"
   },
   {
    "duration": 12,
    "start_time": "2023-01-19T09:47:59.312Z"
   },
   {
    "duration": 19,
    "start_time": "2023-01-19T09:47:59.326Z"
   },
   {
    "duration": 43,
    "start_time": "2023-01-19T09:47:59.347Z"
   },
   {
    "duration": 35,
    "start_time": "2023-01-19T09:47:59.391Z"
   },
   {
    "duration": 17,
    "start_time": "2023-01-19T09:47:59.429Z"
   },
   {
    "duration": 36,
    "start_time": "2023-01-19T09:47:59.447Z"
   },
   {
    "duration": 32,
    "start_time": "2023-01-19T09:47:59.486Z"
   },
   {
    "duration": 31,
    "start_time": "2023-01-19T09:47:59.520Z"
   },
   {
    "duration": 35,
    "start_time": "2023-01-19T09:47:59.553Z"
   },
   {
    "duration": 23,
    "start_time": "2023-01-19T09:47:59.590Z"
   },
   {
    "duration": 35,
    "start_time": "2023-01-19T09:47:59.615Z"
   },
   {
    "duration": 26,
    "start_time": "2023-01-19T09:47:59.651Z"
   },
   {
    "duration": 44,
    "start_time": "2023-01-19T09:47:59.679Z"
   },
   {
    "duration": 57,
    "start_time": "2023-01-19T09:47:59.724Z"
   },
   {
    "duration": 12,
    "start_time": "2023-01-19T09:47:59.783Z"
   },
   {
    "duration": 5,
    "start_time": "2023-01-19T09:47:59.796Z"
   },
   {
    "duration": 14,
    "start_time": "2023-01-19T09:47:59.803Z"
   },
   {
    "duration": 5,
    "start_time": "2023-01-19T09:47:59.819Z"
   },
   {
    "duration": 8,
    "start_time": "2023-01-19T09:47:59.826Z"
   },
   {
    "duration": 13,
    "start_time": "2023-01-19T09:47:59.836Z"
   },
   {
    "duration": 8,
    "start_time": "2023-01-19T09:47:59.851Z"
   },
   {
    "duration": 7,
    "start_time": "2023-01-19T09:47:59.861Z"
   },
   {
    "duration": 7,
    "start_time": "2023-01-19T09:47:59.893Z"
   },
   {
    "duration": 7,
    "start_time": "2023-01-19T09:47:59.902Z"
   },
   {
    "duration": 39,
    "start_time": "2023-01-19T09:47:59.911Z"
   },
   {
    "duration": 49,
    "start_time": "2023-01-19T09:47:59.952Z"
   },
   {
    "duration": 27,
    "start_time": "2023-01-19T09:48:00.003Z"
   },
   {
    "duration": 4,
    "start_time": "2023-01-19T09:48:00.032Z"
   },
   {
    "duration": 30,
    "start_time": "2023-01-19T09:48:00.037Z"
   },
   {
    "duration": 28,
    "start_time": "2023-01-19T09:48:00.070Z"
   },
   {
    "duration": 23,
    "start_time": "2023-01-19T09:48:00.100Z"
   },
   {
    "duration": 46,
    "start_time": "2023-01-19T09:48:13.912Z"
   },
   {
    "duration": 551,
    "start_time": "2023-01-19T09:48:29.576Z"
   },
   {
    "duration": 1175,
    "start_time": "2023-01-19T09:49:03.707Z"
   },
   {
    "duration": 1205,
    "start_time": "2023-01-19T09:49:12.074Z"
   },
   {
    "duration": 1201,
    "start_time": "2023-01-19T09:49:18.562Z"
   },
   {
    "duration": 1059,
    "start_time": "2023-01-19T09:49:28.981Z"
   },
   {
    "duration": 812,
    "start_time": "2023-01-19T09:49:35.866Z"
   },
   {
    "duration": 1068,
    "start_time": "2023-01-19T09:49:41.752Z"
   },
   {
    "duration": 1054,
    "start_time": "2023-01-19T09:50:17.552Z"
   },
   {
    "duration": 1084,
    "start_time": "2023-01-19T09:50:24.509Z"
   },
   {
    "duration": 835,
    "start_time": "2023-01-19T09:50:31.294Z"
   },
   {
    "duration": 1322,
    "start_time": "2023-01-19T09:50:41.416Z"
   },
   {
    "duration": 1228,
    "start_time": "2023-01-19T09:50:47.840Z"
   },
   {
    "duration": 1397,
    "start_time": "2023-01-19T09:50:53.776Z"
   },
   {
    "duration": 1287,
    "start_time": "2023-01-19T09:50:59.630Z"
   },
   {
    "duration": 1626,
    "start_time": "2023-01-19T09:51:05.706Z"
   },
   {
    "duration": 1075,
    "start_time": "2023-01-19T09:51:32.181Z"
   },
   {
    "duration": 1090,
    "start_time": "2023-01-19T09:51:45.787Z"
   },
   {
    "duration": 44,
    "start_time": "2023-01-20T09:13:26.250Z"
   },
   {
    "duration": 4391,
    "start_time": "2023-01-21T15:37:04.087Z"
   },
   {
    "duration": 1319,
    "start_time": "2023-01-21T15:37:08.481Z"
   },
   {
    "duration": 43,
    "start_time": "2023-01-21T15:37:09.802Z"
   },
   {
    "duration": 18,
    "start_time": "2023-01-21T15:37:09.847Z"
   },
   {
    "duration": 29,
    "start_time": "2023-01-21T15:37:09.867Z"
   },
   {
    "duration": 65,
    "start_time": "2023-01-21T15:37:09.898Z"
   },
   {
    "duration": 53,
    "start_time": "2023-01-21T15:37:09.965Z"
   },
   {
    "duration": 29,
    "start_time": "2023-01-21T15:37:10.020Z"
   },
   {
    "duration": 30,
    "start_time": "2023-01-21T15:37:10.051Z"
   },
   {
    "duration": 27,
    "start_time": "2023-01-21T15:37:10.084Z"
   },
   {
    "duration": 32,
    "start_time": "2023-01-21T15:37:10.113Z"
   },
   {
    "duration": 26,
    "start_time": "2023-01-21T15:37:10.146Z"
   },
   {
    "duration": 29,
    "start_time": "2023-01-21T15:37:10.174Z"
   },
   {
    "duration": 29,
    "start_time": "2023-01-21T15:37:10.205Z"
   },
   {
    "duration": 37,
    "start_time": "2023-01-21T15:37:10.236Z"
   },
   {
    "duration": 41,
    "start_time": "2023-01-21T15:37:10.275Z"
   },
   {
    "duration": 25,
    "start_time": "2023-01-21T15:37:10.318Z"
   },
   {
    "duration": 35,
    "start_time": "2023-01-21T15:37:10.346Z"
   },
   {
    "duration": 26,
    "start_time": "2023-01-21T15:37:10.383Z"
   },
   {
    "duration": 30,
    "start_time": "2023-01-21T15:37:10.411Z"
   },
   {
    "duration": 40,
    "start_time": "2023-01-21T15:37:10.444Z"
   },
   {
    "duration": 47,
    "start_time": "2023-01-21T15:37:10.485Z"
   },
   {
    "duration": 35,
    "start_time": "2023-01-21T15:37:10.534Z"
   },
   {
    "duration": 28,
    "start_time": "2023-01-21T15:37:10.571Z"
   },
   {
    "duration": 22,
    "start_time": "2023-01-21T15:37:10.602Z"
   },
   {
    "duration": 33,
    "start_time": "2023-01-21T15:37:10.626Z"
   },
   {
    "duration": 39,
    "start_time": "2023-01-21T15:37:10.661Z"
   },
   {
    "duration": 50,
    "start_time": "2023-01-21T15:37:10.707Z"
   },
   {
    "duration": 36,
    "start_time": "2023-01-21T15:37:10.759Z"
   },
   {
    "duration": 49,
    "start_time": "2023-01-21T15:37:10.798Z"
   },
   {
    "duration": 29,
    "start_time": "2023-01-21T15:37:10.849Z"
   },
   {
    "duration": 85,
    "start_time": "2023-01-21T15:37:10.881Z"
   },
   {
    "duration": 27,
    "start_time": "2023-01-21T15:37:10.969Z"
   },
   {
    "duration": 41,
    "start_time": "2023-01-21T15:37:10.998Z"
   },
   {
    "duration": 22,
    "start_time": "2023-01-21T15:37:11.042Z"
   },
   {
    "duration": 48,
    "start_time": "2023-01-21T15:37:11.066Z"
   },
   {
    "duration": 37,
    "start_time": "2023-01-21T15:37:11.116Z"
   },
   {
    "duration": 34,
    "start_time": "2023-01-21T15:37:11.155Z"
   },
   {
    "duration": 17,
    "start_time": "2023-01-21T15:37:11.191Z"
   },
   {
    "duration": 1840,
    "start_time": "2023-01-21T15:37:11.210Z"
   },
   {
    "duration": 150314,
    "start_time": "2023-01-21T15:37:13.052Z"
   },
   {
    "duration": 163379,
    "start_time": "2023-01-21T15:39:43.368Z"
   },
   {
    "duration": 239315,
    "start_time": "2023-01-21T15:42:26.750Z"
   },
   {
    "duration": 0,
    "start_time": "2023-01-21T15:47:23.290Z"
   },
   {
    "duration": 0,
    "start_time": "2023-01-21T15:47:23.291Z"
   },
   {
    "duration": 0,
    "start_time": "2023-01-21T15:47:23.292Z"
   },
   {
    "duration": 0,
    "start_time": "2023-01-21T15:47:23.293Z"
   },
   {
    "duration": 0,
    "start_time": "2023-01-21T15:47:23.295Z"
   },
   {
    "duration": 0,
    "start_time": "2023-01-21T15:47:23.296Z"
   },
   {
    "duration": 0,
    "start_time": "2023-01-21T15:47:23.297Z"
   },
   {
    "duration": 0,
    "start_time": "2023-01-21T15:47:23.298Z"
   },
   {
    "duration": 0,
    "start_time": "2023-01-21T15:47:23.300Z"
   },
   {
    "duration": 0,
    "start_time": "2023-01-21T15:47:23.301Z"
   },
   {
    "duration": 0,
    "start_time": "2023-01-21T15:47:23.302Z"
   },
   {
    "duration": 0,
    "start_time": "2023-01-21T15:47:23.304Z"
   },
   {
    "duration": 0,
    "start_time": "2023-01-21T15:47:23.305Z"
   },
   {
    "duration": 0,
    "start_time": "2023-01-21T15:47:23.307Z"
   },
   {
    "duration": 0,
    "start_time": "2023-01-21T15:47:23.308Z"
   },
   {
    "duration": 0,
    "start_time": "2023-01-21T15:47:23.309Z"
   },
   {
    "duration": 0,
    "start_time": "2023-01-21T15:47:23.337Z"
   },
   {
    "duration": 0,
    "start_time": "2023-01-21T15:47:23.339Z"
   },
   {
    "duration": 0,
    "start_time": "2023-01-21T15:47:23.341Z"
   },
   {
    "duration": 0,
    "start_time": "2023-01-21T15:47:23.343Z"
   },
   {
    "duration": 0,
    "start_time": "2023-01-21T15:47:23.345Z"
   },
   {
    "duration": 0,
    "start_time": "2023-01-21T15:47:23.346Z"
   },
   {
    "duration": 0,
    "start_time": "2023-01-21T15:47:23.347Z"
   },
   {
    "duration": 0,
    "start_time": "2023-01-21T15:47:23.350Z"
   },
   {
    "duration": 0,
    "start_time": "2023-01-21T15:47:23.351Z"
   },
   {
    "duration": 0,
    "start_time": "2023-01-21T15:47:23.353Z"
   },
   {
    "duration": 0,
    "start_time": "2023-01-21T15:47:23.354Z"
   },
   {
    "duration": 0,
    "start_time": "2023-01-21T15:47:23.356Z"
   },
   {
    "duration": 0,
    "start_time": "2023-01-21T15:47:23.357Z"
   },
   {
    "duration": 0,
    "start_time": "2023-01-21T15:47:23.359Z"
   },
   {
    "duration": 0,
    "start_time": "2023-01-21T15:47:23.361Z"
   },
   {
    "duration": 0,
    "start_time": "2023-01-21T15:47:23.362Z"
   },
   {
    "duration": 0,
    "start_time": "2023-01-21T15:47:23.363Z"
   },
   {
    "duration": 0,
    "start_time": "2023-01-21T15:47:23.365Z"
   },
   {
    "duration": 0,
    "start_time": "2023-01-21T15:47:23.367Z"
   },
   {
    "duration": 0,
    "start_time": "2023-01-21T15:47:23.368Z"
   },
   {
    "duration": 0,
    "start_time": "2023-01-21T15:47:23.369Z"
   },
   {
    "duration": 0,
    "start_time": "2023-01-21T15:47:23.370Z"
   },
   {
    "duration": 0,
    "start_time": "2023-01-21T15:47:23.372Z"
   },
   {
    "duration": 0,
    "start_time": "2023-01-21T15:47:23.373Z"
   },
   {
    "duration": 0,
    "start_time": "2023-01-21T15:47:23.373Z"
   },
   {
    "duration": 0,
    "start_time": "2023-01-21T15:47:23.438Z"
   },
   {
    "duration": 0,
    "start_time": "2023-01-21T15:47:23.440Z"
   },
   {
    "duration": 0,
    "start_time": "2023-01-21T15:47:23.441Z"
   },
   {
    "duration": 0,
    "start_time": "2023-01-21T15:47:23.442Z"
   },
   {
    "duration": 0,
    "start_time": "2023-01-21T15:47:23.443Z"
   },
   {
    "duration": 5,
    "start_time": "2023-01-21T15:50:55.600Z"
   },
   {
    "duration": 9,
    "start_time": "2023-01-21T15:53:44.933Z"
   },
   {
    "duration": 4,
    "start_time": "2023-01-21T15:53:45.814Z"
   },
   {
    "duration": 11,
    "start_time": "2023-01-21T15:53:53.773Z"
   },
   {
    "duration": 5,
    "start_time": "2023-01-21T15:53:55.373Z"
   },
   {
    "duration": 6,
    "start_time": "2023-01-21T15:54:26.646Z"
   },
   {
    "duration": 12,
    "start_time": "2023-01-21T15:54:28.689Z"
   },
   {
    "duration": 5,
    "start_time": "2023-01-21T15:54:30.241Z"
   },
   {
    "duration": 5,
    "start_time": "2023-01-21T15:54:30.676Z"
   },
   {
    "duration": 7,
    "start_time": "2023-01-21T15:54:30.905Z"
   },
   {
    "duration": 7,
    "start_time": "2023-01-21T15:54:31.305Z"
   },
   {
    "duration": 35,
    "start_time": "2023-01-21T15:54:32.437Z"
   },
   {
    "duration": 26,
    "start_time": "2023-01-21T15:54:34.901Z"
   },
   {
    "duration": 28,
    "start_time": "2023-01-21T15:54:36.673Z"
   },
   {
    "duration": 5,
    "start_time": "2023-01-21T15:54:39.473Z"
   },
   {
    "duration": 6,
    "start_time": "2023-01-21T15:55:05.625Z"
   },
   {
    "duration": 8,
    "start_time": "2023-01-21T15:55:06.489Z"
   },
   {
    "duration": 5,
    "start_time": "2023-01-21T15:55:31.705Z"
   },
   {
    "duration": 2,
    "start_time": "2023-01-21T15:55:43.238Z"
   },
   {
    "duration": 1557,
    "start_time": "2023-01-21T15:55:43.802Z"
   },
   {
    "duration": 135033,
    "start_time": "2023-01-21T15:55:55.338Z"
   },
   {
    "duration": 623899,
    "start_time": "2023-01-21T15:59:48.019Z"
   },
   {
    "duration": 47,
    "start_time": "2023-01-21T16:10:30.748Z"
   },
   {
    "duration": 1220,
    "start_time": "2023-01-21T16:11:49.317Z"
   },
   {
    "duration": 4,
    "start_time": "2023-01-21T16:11:55.639Z"
   },
   {
    "duration": 2976,
    "start_time": "2023-01-21T16:12:32.973Z"
   },
   {
    "duration": 3474,
    "start_time": "2023-01-21T16:12:48.793Z"
   },
   {
    "duration": 3432,
    "start_time": "2023-01-21T16:13:40.364Z"
   },
   {
    "duration": 3569,
    "start_time": "2023-01-21T16:14:54.993Z"
   },
   {
    "duration": 4347,
    "start_time": "2023-01-21T16:15:59.410Z"
   },
   {
    "duration": 2685,
    "start_time": "2023-01-21T16:17:07.218Z"
   },
   {
    "duration": 4,
    "start_time": "2023-01-21T16:19:31.283Z"
   },
   {
    "duration": 6,
    "start_time": "2023-01-21T16:19:31.668Z"
   },
   {
    "duration": 3,
    "start_time": "2023-01-21T16:19:32.066Z"
   },
   {
    "duration": 1462,
    "start_time": "2023-01-21T16:19:52.089Z"
   },
   {
    "duration": 132375,
    "start_time": "2023-01-21T16:20:05.062Z"
   },
   {
    "duration": 1124,
    "start_time": "2023-01-21T16:22:17.439Z"
   },
   {
    "duration": 44,
    "start_time": "2023-01-21T16:22:53.683Z"
   },
   {
    "duration": 675255,
    "start_time": "2023-01-21T16:25:21.529Z"
   },
   {
    "duration": 1472,
    "start_time": "2023-01-21T16:36:36.786Z"
   },
   {
    "duration": 4,
    "start_time": "2023-01-21T16:37:19.126Z"
   },
   {
    "duration": 80,
    "start_time": "2023-01-21T16:37:37.970Z"
   },
   {
    "duration": 4,
    "start_time": "2023-01-21T16:38:57.030Z"
   },
   {
    "duration": 35,
    "start_time": "2023-01-21T16:44:34.915Z"
   },
   {
    "duration": 2328,
    "start_time": "2023-01-21T16:44:35.400Z"
   },
   {
    "duration": 434944,
    "start_time": "2023-01-21T16:45:28.764Z"
   },
   {
    "duration": 1021556,
    "start_time": "2023-01-21T16:53:19.155Z"
   },
   {
    "duration": 1572873,
    "start_time": "2023-01-21T17:19:38.457Z"
   },
   {
    "duration": 1390724,
    "start_time": "2023-01-21T17:45:51.336Z"
   },
   {
    "duration": 1297,
    "start_time": "2023-01-21T18:11:04.140Z"
   },
   {
    "duration": 4,
    "start_time": "2023-01-21T18:11:08.884Z"
   },
   {
    "duration": 4,
    "start_time": "2023-01-21T18:11:13.568Z"
   },
   {
    "duration": 2450,
    "start_time": "2023-01-21T18:12:16.608Z"
   },
   {
    "duration": 9441,
    "start_time": "2023-01-21T18:12:36.136Z"
   },
   {
    "duration": 5,
    "start_time": "2023-01-21T18:13:02.592Z"
   },
   {
    "duration": 52,
    "start_time": "2023-01-21T18:15:22.461Z"
   },
   {
    "duration": 11,
    "start_time": "2023-01-21T18:15:43.241Z"
   },
   {
    "duration": 788,
    "start_time": "2023-01-21T18:15:45.786Z"
   },
   {
    "duration": 73246,
    "start_time": "2023-01-21T18:16:03.386Z"
   },
   {
    "duration": 10,
    "start_time": "2023-01-21T18:17:16.640Z"
   },
   {
    "duration": 57602,
    "start_time": "2023-01-21T18:18:02.138Z"
   },
   {
    "duration": 785,
    "start_time": "2023-01-21T18:21:58.852Z"
   },
   {
    "duration": 4,
    "start_time": "2023-01-21T18:22:04.567Z"
   },
   {
    "duration": 5,
    "start_time": "2023-01-21T18:22:06.815Z"
   },
   {
    "duration": 4,
    "start_time": "2023-01-21T18:22:09.277Z"
   },
   {
    "duration": 4,
    "start_time": "2023-01-21T18:23:14.571Z"
   },
   {
    "duration": 139,
    "start_time": "2023-01-21T18:23:21.000Z"
   },
   {
    "duration": 2085,
    "start_time": "2023-01-21T18:23:23.032Z"
   },
   {
    "duration": 346,
    "start_time": "2023-01-21T18:23:25.119Z"
   },
   {
    "duration": 143,
    "start_time": "2023-01-21T18:25:32.580Z"
   },
   {
    "duration": 1183,
    "start_time": "2023-01-21T18:25:32.945Z"
   },
   {
    "duration": 345,
    "start_time": "2023-01-21T18:25:35.500Z"
   },
   {
    "duration": 4313,
    "start_time": "2023-01-21T18:30:53.158Z"
   },
   {
    "duration": 4159,
    "start_time": "2023-01-21T18:31:43.511Z"
   },
   {
    "duration": 3105,
    "start_time": "2023-01-21T18:32:15.218Z"
   },
   {
    "duration": 1916,
    "start_time": "2023-01-21T18:32:37.479Z"
   },
   {
    "duration": 1896,
    "start_time": "2023-01-21T18:34:16.083Z"
   },
   {
    "duration": 1832,
    "start_time": "2023-01-21T18:35:10.695Z"
   },
   {
    "duration": 1750,
    "start_time": "2023-01-21T18:35:17.348Z"
   },
   {
    "duration": 1445,
    "start_time": "2023-01-21T18:37:40.786Z"
   },
   {
    "duration": 2324,
    "start_time": "2023-01-21T18:37:54.858Z"
   },
   {
    "duration": 221520,
    "start_time": "2023-01-21T18:39:28.962Z"
   },
   {
    "duration": 0,
    "start_time": "2023-01-21T18:43:10.484Z"
   },
   {
    "duration": 0,
    "start_time": "2023-01-21T18:43:10.485Z"
   },
   {
    "duration": 4577,
    "start_time": "2023-01-21T18:43:23.175Z"
   },
   {
    "duration": 487695,
    "start_time": "2023-01-21T18:43:43.894Z"
   },
   {
    "duration": 749569,
    "start_time": "2023-01-21T18:51:51.592Z"
   },
   {
    "duration": 770959,
    "start_time": "2023-01-21T19:04:21.163Z"
   },
   {
    "duration": 51,
    "start_time": "2023-01-21T19:17:12.124Z"
   },
   {
    "duration": 0,
    "start_time": "2023-01-21T19:17:12.176Z"
   },
   {
    "duration": 47,
    "start_time": "2023-01-21T19:19:47.803Z"
   },
   {
    "duration": 325683,
    "start_time": "2023-01-21T19:20:14.203Z"
   },
   {
    "duration": 777075,
    "start_time": "2023-01-21T19:25:39.888Z"
   },
   {
    "duration": 865143,
    "start_time": "2023-01-21T19:38:36.965Z"
   },
   {
    "duration": 26547,
    "start_time": "2023-01-21T19:55:37.909Z"
   },
   {
    "duration": 25804,
    "start_time": "2023-01-21T19:57:09.797Z"
   },
   {
    "duration": 70330,
    "start_time": "2023-01-21T19:58:05.274Z"
   },
   {
    "duration": 72,
    "start_time": "2023-01-21T20:01:20.714Z"
   },
   {
    "duration": 43024,
    "start_time": "2023-01-21T20:01:37.204Z"
   },
   {
    "duration": 101307,
    "start_time": "2023-01-21T20:02:21.454Z"
   },
   {
    "duration": 26318,
    "start_time": "2023-01-21T20:04:27.835Z"
   },
   {
    "duration": 20313,
    "start_time": "2023-01-21T20:04:58.094Z"
   },
   {
    "duration": 57665,
    "start_time": "2023-01-21T20:05:26.091Z"
   },
   {
    "duration": 48,
    "start_time": "2023-01-21T20:06:39.447Z"
   },
   {
    "duration": 83409,
    "start_time": "2023-01-21T20:06:49.596Z"
   },
   {
    "duration": 49,
    "start_time": "2023-01-21T20:08:40.272Z"
   },
   {
    "duration": 87,
    "start_time": "2023-01-21T20:08:48.936Z"
   },
   {
    "duration": 72,
    "start_time": "2023-01-21T20:09:05.041Z"
   },
   {
    "duration": 86,
    "start_time": "2023-01-21T20:09:18.880Z"
   },
   {
    "duration": 96473,
    "start_time": "2023-01-21T20:09:27.772Z"
   },
   {
    "duration": 2220,
    "start_time": "2023-01-21T20:11:04.247Z"
   },
   {
    "duration": 50,
    "start_time": "2023-01-21T20:12:23.277Z"
   },
   {
    "duration": 49,
    "start_time": "2023-01-21T20:12:52.333Z"
   },
   {
    "duration": 2346,
    "start_time": "2023-01-21T20:12:58.170Z"
   },
   {
    "duration": 3,
    "start_time": "2023-01-21T20:14:37.561Z"
   },
   {
    "duration": 45,
    "start_time": "2023-01-21T20:43:40.201Z"
   },
   {
    "duration": 58,
    "start_time": "2023-01-21T20:54:52.171Z"
   },
   {
    "duration": 6,
    "start_time": "2023-01-21T20:58:49.355Z"
   },
   {
    "duration": 2280,
    "start_time": "2023-01-21T21:01:03.135Z"
   },
   {
    "duration": 2186,
    "start_time": "2023-01-21T21:01:11.619Z"
   }
  ],
  "celltoolbar": "Необработанный формат ячейки",
  "kernelspec": {
   "display_name": "Python 3 (ipykernel)",
   "language": "python",
   "name": "python3"
  },
  "language_info": {
   "codemirror_mode": {
    "name": "ipython",
    "version": 3
   },
   "file_extension": ".py",
   "mimetype": "text/x-python",
   "name": "python",
   "nbconvert_exporter": "python",
   "pygments_lexer": "ipython3",
   "version": "3.9.5"
  },
  "toc": {
   "base_numbering": 1,
   "nav_menu": {
    "height": "160px",
    "width": "160px"
   },
   "number_sections": true,
   "sideBar": true,
   "skip_h1_title": true,
   "title_cell": "Содержание",
   "title_sidebar": "Contents",
   "toc_cell": true,
   "toc_position": {
    "height": "calc(100% - 180px)",
    "left": "10px",
    "top": "150px",
    "width": "165px"
   },
   "toc_section_display": true,
   "toc_window_display": false
  }
 },
 "nbformat": 4,
 "nbformat_minor": 2
}
