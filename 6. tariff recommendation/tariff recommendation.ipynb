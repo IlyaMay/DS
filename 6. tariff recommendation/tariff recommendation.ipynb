{
 "cells": [
  {
   "cell_type": "markdown",
   "metadata": {},
   "source": [
    "<div style=\"border:solid Chocolate 2px; padding: 40px\">\n",
    "\n",
    "<b>Илья, привет!👋</b>\n",
    "\n",
    "Меня зовут Александр Куимов, я буду ревьюером твоего проекта. Ты можешь обращаться ко мне на \"ты\"😏 Надеюсь, тебя также не смутит, если я буду обращаться к тебе на \"ты\", но если это неудобно, обязательно скажи об этом!\n",
    "\n",
    "Пожалуйста, не удаляй мои комментарии, они будут особенно полезны для нашей работы в случае повторной проверки проекта. \n",
    "\n",
    "Ты также можешь реагировать на мои комментарии своими по шаблону, показанному чуть ниже. Это нужно, чтобы не создавалась путаница😉\n",
    "\n",
    "Ты можешь найти мои комментарии, обозначенные <font color='green'>зеленым</font>, <font color='gold'>желтым</font> и <font color='red'>красным</font> цветами, например:\n",
    "\n",
    "<br/>\n",
    "\n",
    "<div class=\"alert alert-success\">\n",
    "<h2> Комментарий ревьюера <a class=\"tocSkip\"> </h2>\n",
    "\n",
    "<b>Все отлично!👍:</b> В случае, если решение на отдельном шаге является полностью правильным.\n",
    "</div>\n",
    "\n",
    "<br/>\n",
    "\n",
    "<div class=\"alert alert-warning\">\n",
    "    <h2> Комментарий ревьюера <a class=\"tocSkip\"> </h2>\n",
    "    \n",
    "<b>Некоторые замечания и рекомендации💡:</b> В случае, когда решение на отдельном шаге станет еще лучше, если внести небольшие коррективы.\n",
    "</div>\n",
    "\n",
    "\n",
    "<br/>\n",
    "<div class=\"alert alert-block alert-danger\">\n",
    "<h2> Комментарий ревьюера <a class=\"tocSkip\"></h2>\n",
    "\n",
    "    \n",
    "<b>На доработку🤔:</b>\n",
    " В случае, когда решение на отдельном шаге требует существенной переработки и внесения правок. Напоминаю, что проект не может быть принят с первого раза, если ревью содержит комментарии, рекомендующие доработать шаги.\n",
    "</div>\n",
    "    \n",
    "    \n",
    "<br/>    \n",
    "<div class=\"alert alert-info\">\n",
    "<h2> Комментарий студента: <a class=\"tocSkip\"> </h2>\n",
    "\n",
    "<b>👋:</b> В такой цветовой ячейке я прошу тебя оставлять свои комментарии. Если исправляешь проект на второй итерации и выше, не забывай пожалуйста указывать номер итерации, например, \"Комментарий студента v.2\".\n",
    "</div> \n",
    "\n",
    "<br/>    \n",
    "    \n",
    "Увидев у тебя неточность, в первый раз я лишь укажу на ее наличие и дам тебе возможность самому найти и исправить ее. На реальной работе твой руководитель будет поступать также, и я пытаюсь подготовить тебя именно к работе датасаентистом. Но если ты пока не справишься с такой задачей - при следующей проверке я дам более точную подсказку!🤓"
   ]
  },
  {
   "cell_type": "markdown",
   "metadata": {},
   "source": [
    "<a id='h0'></a>\n",
    "## Рекомендация тарифов"
   ]
  },
  {
   "cell_type": "markdown",
   "metadata": {},
   "source": [
    "<h1>Содержание (кликабельное):</h1>\n",
    "<a href='#h0'>1. Название прокта</a><br>\n",
    "<a href='#h1'>2. Описание проекта, импорт библиотек</a><br>\n",
    "&nbsp;&nbsp;&nbsp;<a href='#h2'>2.1. Импорт библиотек</a><br>\n",
    "&nbsp;&nbsp;&nbsp;<a href='#h3'>2.2 Ознакомление с данными</a><br>\n",
    "<a href='#h4'>3. Разбейте данные на выборки</a><br>\n",
    "<a href='#h5'>4. Исследуйте модели</a><br>\n",
    "&nbsp;&nbsp;&nbsp;<a href='#h51'>4.1. Дерево решений,</a><br> \n",
    "&nbsp;&nbsp;&nbsp;<a href='#h52'>4.2  Случайный лес</a><br>\n",
    "&nbsp;&nbsp;&nbsp;<a href='#h53'>4.3. Логистическая регрессия</a><br>\n",
    "&nbsp;&nbsp;&nbsp;<a href='#h54'>4.4. Вывод</a><br>\n",
    "<a href='#h6'>5. Проверьте модель на тестовой выборке</a><br>\n",
    "&nbsp;&nbsp;&nbsp;<a href='#h61'>5.1. Вывод</a><br>\n",
    "<a href='#h7'>6. (бонус) Проверьте модели на адекватность</a><br>\n",
    "<a href='#h8'>7. Чек-лист готовности проекта\n",
    "<a href='#vidod'>8. Вывод</a><br>\n"
   ]
  },
  {
   "cell_type": "markdown",
   "metadata": {},
   "source": [
    "<a id='h1'></a>\n",
    "## Изучим общую информацию."
   ]
  },
  {
   "cell_type": "markdown",
   "metadata": {},
   "source": [
    "Оператор мобильной связи «Мегалайн» выяснил: многие клиенты пользуются архивными тарифами. Они хотят построить систему, способную проанализировать поведение клиентов и предложить пользователям новый тариф: «Смарт» или «Ультра».<br>\n",
    "В вашем распоряжении данные о поведении клиентов, которые уже перешли на эти тарифы (из проекта курса «Статистический анализ данных»). Нужно построить модель для задачи классификации, которая выберет подходящий тариф. Предобработка данных не понадобится — вы её уже сделали.<br>\n",
    "Постройте модель с максимально большим значением accuracy. Чтобы сдать проект успешно, нужно довести долю правильных ответов по крайней мере до 0.75. Проверьте accuracy на тестовой выборке самостоятельно."
   ]
  },
  {
   "cell_type": "markdown",
   "metadata": {},
   "source": [
    "**Описание данных**<br>\n",
    "Каждый объект в наборе данных — это информация о поведении одного пользователя за месяц. Известно:<br>\n",
    "сalls — количество звонков,<br>\n",
    "minutes — суммарная длительность звонков в минутах,<br>\n",
    "messages — количество sms-сообщений,<br>\n",
    "mb_used — израсходованный интернет-трафик в Мб,<br>\n",
    "is_ultra — каким тарифом пользовался в течение месяца («Ультра» — 1, «Смарт» — 0).<br>"
   ]
  },
  {
   "cell_type": "markdown",
   "metadata": {},
   "source": [
    "<div class=\"alert alert-success\">\n",
    "<h2> Комментарий ревьюера <a class=\"tocSkip\"> </h2>\n",
    "\n",
    "<b>Все отлично!👍:</b> \n",
    "    \n",
    "Вижу твое добавленное описание проекта. Молодец! Это поможет тебе расставлять акценты в выводах."
   ]
  },
  {
   "cell_type": "markdown",
   "metadata": {},
   "source": [
    "<a id='h2'></a>\n",
    "### Импорт библиотек"
   ]
  },
  {
   "cell_type": "code",
   "execution_count": 1,
   "metadata": {},
   "outputs": [],
   "source": [
    "import pandas as pd\n",
    "import numpy as np\n",
    "from sklearn.tree import DecisionTreeRegressor\n",
    "from sklearn.tree import DecisionTreeClassifier\n",
    "from sklearn.ensemble import RandomForestClassifier\n",
    "from sklearn.ensemble import RandomForestRegressor\n",
    "from sklearn.linear_model import LinearRegression\n",
    "from sklearn.linear_model import LogisticRegression \n",
    "from sklearn.model_selection import train_test_split\n",
    "from sklearn.metrics import mean_squared_error\n",
    "from sklearn.metrics import accuracy_score\n",
    "from sklearn.dummy import DummyClassifier\n",
    "\n",
    "pd.set_option('display.max_columns', None)\n",
    "import warnings \n",
    "warnings.filterwarnings(\"ignore\")\n"
   ]
  },
  {
   "cell_type": "markdown",
   "metadata": {},
   "source": [
    "<a id='h3'></a>\n",
    "### Ознакомление с данными"
   ]
  },
  {
   "cell_type": "code",
   "execution_count": 2,
   "metadata": {},
   "outputs": [],
   "source": [
    "data = pd.read_csv('/datasets/users_behavior.csv')"
   ]
  },
  {
   "cell_type": "code",
   "execution_count": 3,
   "metadata": {},
   "outputs": [
    {
     "data": {
      "text/html": [
       "<div>\n",
       "<style scoped>\n",
       "    .dataframe tbody tr th:only-of-type {\n",
       "        vertical-align: middle;\n",
       "    }\n",
       "\n",
       "    .dataframe tbody tr th {\n",
       "        vertical-align: top;\n",
       "    }\n",
       "\n",
       "    .dataframe thead th {\n",
       "        text-align: right;\n",
       "    }\n",
       "</style>\n",
       "<table border=\"1\" class=\"dataframe\">\n",
       "  <thead>\n",
       "    <tr style=\"text-align: right;\">\n",
       "      <th></th>\n",
       "      <th>calls</th>\n",
       "      <th>minutes</th>\n",
       "      <th>messages</th>\n",
       "      <th>mb_used</th>\n",
       "      <th>is_ultra</th>\n",
       "    </tr>\n",
       "  </thead>\n",
       "  <tbody>\n",
       "    <tr>\n",
       "      <th>0</th>\n",
       "      <td>40.0</td>\n",
       "      <td>311.90</td>\n",
       "      <td>83.0</td>\n",
       "      <td>19915.42</td>\n",
       "      <td>0</td>\n",
       "    </tr>\n",
       "    <tr>\n",
       "      <th>1</th>\n",
       "      <td>85.0</td>\n",
       "      <td>516.75</td>\n",
       "      <td>56.0</td>\n",
       "      <td>22696.96</td>\n",
       "      <td>0</td>\n",
       "    </tr>\n",
       "    <tr>\n",
       "      <th>2</th>\n",
       "      <td>77.0</td>\n",
       "      <td>467.66</td>\n",
       "      <td>86.0</td>\n",
       "      <td>21060.45</td>\n",
       "      <td>0</td>\n",
       "    </tr>\n",
       "    <tr>\n",
       "      <th>3</th>\n",
       "      <td>106.0</td>\n",
       "      <td>745.53</td>\n",
       "      <td>81.0</td>\n",
       "      <td>8437.39</td>\n",
       "      <td>1</td>\n",
       "    </tr>\n",
       "    <tr>\n",
       "      <th>4</th>\n",
       "      <td>66.0</td>\n",
       "      <td>418.74</td>\n",
       "      <td>1.0</td>\n",
       "      <td>14502.75</td>\n",
       "      <td>0</td>\n",
       "    </tr>\n",
       "  </tbody>\n",
       "</table>\n",
       "</div>"
      ],
      "text/plain": [
       "   calls  minutes  messages   mb_used  is_ultra\n",
       "0   40.0   311.90      83.0  19915.42         0\n",
       "1   85.0   516.75      56.0  22696.96         0\n",
       "2   77.0   467.66      86.0  21060.45         0\n",
       "3  106.0   745.53      81.0   8437.39         1\n",
       "4   66.0   418.74       1.0  14502.75         0"
      ]
     },
     "execution_count": 3,
     "metadata": {},
     "output_type": "execute_result"
    }
   ],
   "source": [
    "data.head()"
   ]
  },
  {
   "cell_type": "code",
   "execution_count": 4,
   "metadata": {},
   "outputs": [
    {
     "data": {
      "text/html": [
       "<div>\n",
       "<style scoped>\n",
       "    .dataframe tbody tr th:only-of-type {\n",
       "        vertical-align: middle;\n",
       "    }\n",
       "\n",
       "    .dataframe tbody tr th {\n",
       "        vertical-align: top;\n",
       "    }\n",
       "\n",
       "    .dataframe thead th {\n",
       "        text-align: right;\n",
       "    }\n",
       "</style>\n",
       "<table border=\"1\" class=\"dataframe\">\n",
       "  <thead>\n",
       "    <tr style=\"text-align: right;\">\n",
       "      <th></th>\n",
       "      <th>calls</th>\n",
       "      <th>minutes</th>\n",
       "      <th>messages</th>\n",
       "      <th>mb_used</th>\n",
       "      <th>is_ultra</th>\n",
       "    </tr>\n",
       "  </thead>\n",
       "  <tbody>\n",
       "    <tr>\n",
       "      <th>count</th>\n",
       "      <td>3214.000000</td>\n",
       "      <td>3214.000000</td>\n",
       "      <td>3214.000000</td>\n",
       "      <td>3214.000000</td>\n",
       "      <td>3214.000000</td>\n",
       "    </tr>\n",
       "    <tr>\n",
       "      <th>mean</th>\n",
       "      <td>63.038892</td>\n",
       "      <td>438.208787</td>\n",
       "      <td>38.281269</td>\n",
       "      <td>17207.673836</td>\n",
       "      <td>0.306472</td>\n",
       "    </tr>\n",
       "    <tr>\n",
       "      <th>std</th>\n",
       "      <td>33.236368</td>\n",
       "      <td>234.569872</td>\n",
       "      <td>36.148326</td>\n",
       "      <td>7570.968246</td>\n",
       "      <td>0.461100</td>\n",
       "    </tr>\n",
       "    <tr>\n",
       "      <th>min</th>\n",
       "      <td>0.000000</td>\n",
       "      <td>0.000000</td>\n",
       "      <td>0.000000</td>\n",
       "      <td>0.000000</td>\n",
       "      <td>0.000000</td>\n",
       "    </tr>\n",
       "    <tr>\n",
       "      <th>25%</th>\n",
       "      <td>40.000000</td>\n",
       "      <td>274.575000</td>\n",
       "      <td>9.000000</td>\n",
       "      <td>12491.902500</td>\n",
       "      <td>0.000000</td>\n",
       "    </tr>\n",
       "    <tr>\n",
       "      <th>50%</th>\n",
       "      <td>62.000000</td>\n",
       "      <td>430.600000</td>\n",
       "      <td>30.000000</td>\n",
       "      <td>16943.235000</td>\n",
       "      <td>0.000000</td>\n",
       "    </tr>\n",
       "    <tr>\n",
       "      <th>75%</th>\n",
       "      <td>82.000000</td>\n",
       "      <td>571.927500</td>\n",
       "      <td>57.000000</td>\n",
       "      <td>21424.700000</td>\n",
       "      <td>1.000000</td>\n",
       "    </tr>\n",
       "    <tr>\n",
       "      <th>max</th>\n",
       "      <td>244.000000</td>\n",
       "      <td>1632.060000</td>\n",
       "      <td>224.000000</td>\n",
       "      <td>49745.730000</td>\n",
       "      <td>1.000000</td>\n",
       "    </tr>\n",
       "  </tbody>\n",
       "</table>\n",
       "</div>"
      ],
      "text/plain": [
       "             calls      minutes     messages       mb_used     is_ultra\n",
       "count  3214.000000  3214.000000  3214.000000   3214.000000  3214.000000\n",
       "mean     63.038892   438.208787    38.281269  17207.673836     0.306472\n",
       "std      33.236368   234.569872    36.148326   7570.968246     0.461100\n",
       "min       0.000000     0.000000     0.000000      0.000000     0.000000\n",
       "25%      40.000000   274.575000     9.000000  12491.902500     0.000000\n",
       "50%      62.000000   430.600000    30.000000  16943.235000     0.000000\n",
       "75%      82.000000   571.927500    57.000000  21424.700000     1.000000\n",
       "max     244.000000  1632.060000   224.000000  49745.730000     1.000000"
      ]
     },
     "execution_count": 4,
     "metadata": {},
     "output_type": "execute_result"
    }
   ],
   "source": [
    "data.describe()"
   ]
  },
  {
   "cell_type": "markdown",
   "metadata": {},
   "source": [
    "Вывод"
   ]
  },
  {
   "cell_type": "markdown",
   "metadata": {},
   "source": [
    "предстаавлена задача классификации. <br>\n",
    "Целевой признак  is_ultra. <br>\n",
    "Остальные признаки помогут искать решения для is_ultra.<br>"
   ]
  },
  {
   "cell_type": "markdown",
   "metadata": {},
   "source": [
    "<div class=\"alert alert-success\">\n",
    "<h2> Комментарий ревьюера <a class=\"tocSkip\"></a></h2>\n",
    "\n",
    "<b>Все отлично!👍:  </b> С данными познакомились, проведен первичный аналитический осмотр!) Полученная информация поможет нам в дальнейшем с предобработкой данных. \n",
    "        \n",
    "- Хочу тут затронуть термин мультиколлениарности, чтобы было представление о нем. В наших данных есть мультиколлинеарность в фичах calls и minutes. Желательно проверить это методом `.corr(method='spearman')`       \n",
    "        \n",
    "    В нашем проекте мы сосредоточены на предсказаниях, поэтому проблема мультиколлинеарности, если она и есть, для нас не страшна, на предсказаниях она не сказывается (она влияет на значения коэффициентов логистической регрессии `.coef_` (это, кстати, <a href=\"https://betterdatascience.com/feature-importance-python/\">о важности признаков</a>), для скоррелированных признаков они смещены, поэтому их интерпретация становится невозможной, но для нас сейчас это не имеет значения). \n",
    "- Рекомендую также тебе посмотреть метод `sns.pairplot` с параметром `hue`, в который мы передаем целевой признак.\n",
    "</div>\n",
    "        "
   ]
  },
  {
   "cell_type": "markdown",
   "metadata": {},
   "source": [
    "<a id='h4'></a>\n",
    "## Разбейте данные на выборки"
   ]
  },
  {
   "cell_type": "markdown",
   "metadata": {},
   "source": [
    "Определим features (признаки) и target (целевой признак)."
   ]
  },
  {
   "cell_type": "code",
   "execution_count": 5,
   "metadata": {},
   "outputs": [],
   "source": [
    "features = data.drop(['is_ultra'], axis=1)\n",
    "target = data[\"is_ultra\"]"
   ]
  },
  {
   "cell_type": "code",
   "execution_count": 6,
   "metadata": {},
   "outputs": [],
   "source": [
    "df_train, df_other = train_test_split(data, test_size=0.4, random_state=12345,stratify = data['is_ultra'])\n",
    "df_test, df_valid = train_test_split(df_other, test_size=0.5, random_state=12345,stratify = df_other['is_ultra'])"
   ]
  },
  {
   "cell_type": "markdown",
   "metadata": {},
   "source": [
    "Определим features (признаки) и target (целевой признак) для выборок"
   ]
  },
  {
   "cell_type": "code",
   "execution_count": 7,
   "metadata": {},
   "outputs": [],
   "source": [
    "#тренировочная\n",
    "features_train = df_train.drop(['is_ultra'], axis=1)\n",
    "target_train = df_train[\"is_ultra\"]\n",
    "#валидная\n",
    "features_valid = df_valid.drop(['is_ultra'], axis=1)\n",
    "target_valid = df_valid[\"is_ultra\"]\n",
    "#тестовая\n",
    "features_test = df_test.drop(['is_ultra'], axis=1)\n",
    "target_test = df_test[\"is_ultra\"]"
   ]
  },
  {
   "cell_type": "markdown",
   "metadata": {},
   "source": [
    "Вывод"
   ]
  },
  {
   "cell_type": "markdown",
   "metadata": {},
   "source": [
    "Данные были разбиты по принципу 60/20/20."
   ]
  },
  {
   "cell_type": "markdown",
   "metadata": {},
   "source": [
    "Обучение train \n",
    "Валидация valid\n",
    "Лучшая модель по валидации будет проверена на данных test"
   ]
  },
  {
   "cell_type": "markdown",
   "metadata": {},
   "source": [
    "<div class=\"alert alert-warning\">\n",
    "    <h2> Комментарий ревьюера <a class=\"tocSkip\"> </h2>\n",
    "    \n",
    "<b>Некоторые замечания и рекомендации💡:</b>\n",
    "    \n",
    "С разбиением все в порядке. Желательно, чтобы размеры полученных наборов были напечатаны. Иногда, это помогает избежать ошибок.\n",
    " </div>"
   ]
  },
  {
   "cell_type": "markdown",
   "metadata": {},
   "source": [
    "<div class=\"alert alert-info\">\n",
    "Что ты имеешь ввиду? под \"Желательно,чтобы размеры полученных наборов были напечатаны\"?\n",
    "</div> "
   ]
  },
  {
   "cell_type": "markdown",
   "metadata": {},
   "source": [
    "<div class=\"alert alert-warning\">\n",
    "    <h2> Комментарий ревьюера v.2 <a class=\"tocSkip\"> </h2>\n",
    "    \n",
    "<b>Некоторые замечания и рекомендации💡:</b> \n",
    "     \n",
    "Можно было вывести размеры полученных наборов, например `features_train.shape`.\n",
    "        "
   ]
  },
  {
   "cell_type": "code",
   "execution_count": 8,
   "metadata": {},
   "outputs": [
    {
     "data": {
      "text/plain": [
       "(1928, 4)"
      ]
     },
     "execution_count": 8,
     "metadata": {},
     "output_type": "execute_result"
    }
   ],
   "source": [
    "features_train.shape"
   ]
  },
  {
   "cell_type": "markdown",
   "metadata": {},
   "source": [
    "<a id='h5'></a>\n",
    "## Исследуйте модели\n"
   ]
  },
  {
   "cell_type": "markdown",
   "metadata": {},
   "source": [
    "Исследуем модели дерево решений, случайный лес и линейную регрессию"
   ]
  },
  {
   "cell_type": "markdown",
   "metadata": {},
   "source": [
    "<a id='h51'></a>\n",
    "### Дерево решений"
   ]
  },
  {
   "cell_type": "code",
   "execution_count": 8,
   "metadata": {},
   "outputs": [
    {
     "name": "stdout",
     "output_type": "stream",
     "text": [
      "Лучший результат дерева:  0.8055987558320373 глубина 5\n"
     ]
    }
   ],
   "source": [
    "best_model = None\n",
    "best_result = 0\n",
    "best_depth = 0\n",
    "\n",
    "for depth in range(1,30):\n",
    "    model_tree = DecisionTreeClassifier(random_state = 11111, max_depth = depth, criterion='entropy')\n",
    "    model_tree.fit(features_train,target_train)\n",
    "    prediction_valid = model_tree.predict(features_valid)\n",
    "    res = model_tree.score(features_valid, target_valid)\n",
    "    #print('max_depth =',depth, 'результат = ',res )    \n",
    "    if best_result < res:\n",
    "        best_model = model_tree\n",
    "        best_result = res\n",
    "        best_depth = depth\n",
    "        best_tree_res = best_result\n",
    "\n",
    "print('Лучший результат дерева: ',best_tree_res, 'глубина',best_depth)"
   ]
  },
  {
   "cell_type": "markdown",
   "metadata": {},
   "source": [
    "<a id='h52'></a>\n",
    "### Случайный лес"
   ]
  },
  {
   "cell_type": "code",
   "execution_count": 9,
   "metadata": {},
   "outputs": [
    {
     "name": "stdout",
     "output_type": "stream",
     "text": [
      "Лучший результат лес:  0.8180404354587869 n_estimators= 30\n"
     ]
    }
   ],
   "source": [
    "best_model = None\n",
    "best_result = 0\n",
    "best_est = 0\n",
    "\n",
    "for est in range(10,70):\n",
    "        model_forest = RandomForestClassifier(random_state = 11111 ,n_estimators = est)\n",
    "        model_forest.fit(features_train,target_train)\n",
    "        prediction_valid = model_forest.predict(features_valid)\n",
    "        res = model_forest.score(features_valid, target_valid)\n",
    "        # print('est =', est, 'результат = ', res )  \n",
    "        if best_result < res:\n",
    "            best_model = model_forest\n",
    "            best_est = est\n",
    "            best_result = res\n",
    "            best_forest_res = best_result\n",
    "\n",
    "print('Лучший результат лес: ', best_forest_res, 'n_estimators=', best_est)            "
   ]
  },
  {
   "cell_type": "markdown",
   "metadata": {},
   "source": [
    "<div class=\"alert alert-info\">\n",
    "Исправил.\n",
    "</div> "
   ]
  },
  {
   "cell_type": "markdown",
   "metadata": {},
   "source": [
    "<div class=\"alert alert-warning\">\n",
    "    <h2> Комментарий ревьюера <a class=\"tocSkip\"> </h2>\n",
    "    \n",
    "<b>Некоторые замечания и рекомендации💡:</b>\n",
    "    \n",
    "\n",
    "Лес из одного дерева - странная штука) Желательно выбирать количество деревьев побольше и больший шаг при переборе.\n",
    "        \n",
    "Советую сделать разбег в 10 деревьев, начинать с 10 штук, максимум 200 - 500. \n",
    "       \n",
    " </div>"
   ]
  },
  {
   "cell_type": "markdown",
   "metadata": {},
   "source": [
    "<a id='h53'></a>\n",
    "### Регрессию"
   ]
  },
  {
   "cell_type": "code",
   "execution_count": 10,
   "metadata": {},
   "outputs": [
    {
     "name": "stdout",
     "output_type": "stream",
     "text": [
      "Accuracy наилучшей модели на валидационной выборке: 0.7573872472783826 Макс кол-во итераций: 77\n"
     ]
    }
   ],
   "source": [
    "best_max_iter = 0\n",
    "best_result = 0\n",
    "best_reg_res = 0\n",
    "\n",
    "for max_iteration in range(1, 1000):\n",
    "    model_reg = LogisticRegression(random_state=11111, solver='lbfgs', max_iter = max_iteration )\n",
    "    # обучим модель перебирая гипер параметр iter\n",
    "    model_reg.fit(features_train, target_train) # обучите модель на тренировочной выборке\n",
    "    result = model_reg.score(features_valid,target_valid)\n",
    "    #print('Результат', result, 'Лучшая итерация = ', max_iteration )    \n",
    "    if result > best_result:\n",
    "        best_max_iter = max_iteration\n",
    "        best_result = result\n",
    "        best_reg_res = best_result\n",
    "\n",
    "print(\"Accuracy наилучшей модели на валидационной выборке:\", best_reg_res, \"Макс кол-во итераций:\", best_max_iter)"
   ]
  },
  {
   "cell_type": "markdown",
   "metadata": {},
   "source": [
    "Выведем на экран результаты трех моделей"
   ]
  },
  {
   "cell_type": "code",
   "execution_count": 11,
   "metadata": {},
   "outputs": [
    {
     "name": "stdout",
     "output_type": "stream",
     "text": [
      "DecisionTreeClassifier 0.8055987558320373\n",
      "RandomForestClassifier 0.8180404354587869\n",
      "LogisticRegression 0.7573872472783826\n"
     ]
    }
   ],
   "source": [
    "print('DecisionTreeClassifier', best_tree_res)\n",
    "print('RandomForestClassifier', best_forest_res)\n",
    "print('LogisticRegression', best_reg_res)"
   ]
  },
  {
   "cell_type": "markdown",
   "metadata": {},
   "source": [
    "<a id='h54'></a>\n",
    "### Вывод"
   ]
  },
  {
   "cell_type": "markdown",
   "metadata": {},
   "source": [
    "Точность модели логистической регресии на валидационной выборке: 0.7573872472783826 Макс кол-во итераций: 77 <br>\n",
    "Точность модели случайный лес на валидационной выборке:  0.8180404354587869 <br>\n",
    "Точность модели Дерево решений на валидационной выборке: 0.8055987558320373 глубина 5 <br>\n",
    "По показателю точности, наиболее качественные результаты прогнозирует модель случайный лес (Random Forest)<br>"
   ]
  },
  {
   "cell_type": "markdown",
   "metadata": {},
   "source": [
    "<div class=\"alert alert-success\">\n",
    "<h2> Комментарий ревьюера <a class=\"tocSkip\"></a></h2>\n",
    "\n",
    "<b>Все отлично!👍:</b>\n",
    "\n",
    "В остальном, имеются корректные шаги в исследовании моделей:\n",
    "    \n",
    " - исследовано более 5 значений гиперпараметра\n",
    " - модели обучены на обучающем наборе\n",
    " - получена оценка качества на валидационном наборе\n",
    " - перебор гиперпараметров осуществляется в цикле \n",
    " - есть выводы     \n",
    "</div>"
   ]
  },
  {
   "cell_type": "markdown",
   "metadata": {},
   "source": [
    "<a id='h6'></a>\n",
    "## Проверьте модель на тестовой выборке"
   ]
  },
  {
   "cell_type": "code",
   "execution_count": 12,
   "metadata": {},
   "outputs": [],
   "source": [
    "prediction_test_reg = model_reg.predict(features_test)\n",
    "prediction_test_forest = model_forest.predict(features_test)\n",
    "prediction_test_tree = model_tree.predict(features_test)"
   ]
  },
  {
   "cell_type": "code",
   "execution_count": 13,
   "metadata": {},
   "outputs": [],
   "source": [
    "accuracy_reg_test = accuracy_score(prediction_test_reg, target_test)\n",
    "accuracy_forest_test = accuracy_score(prediction_test_forest, target_test)\n",
    "accuracy_tree_test = accuracy_score(prediction_test_tree, target_test)"
   ]
  },
  {
   "cell_type": "code",
   "execution_count": 14,
   "metadata": {},
   "outputs": [
    {
     "name": "stdout",
     "output_type": "stream",
     "text": [
      "DecisionTree 0.7262830482115086\n",
      "RandomForest 0.7916018662519441\n",
      "LogisticRegression 0.7387247278382582\n"
     ]
    }
   ],
   "source": [
    "print('DecisionTree', accuracy_tree_test)\n",
    "print('RandomForest', accuracy_forest_test)\n",
    "print('LogisticRegression', accuracy_reg_test)"
   ]
  },
  {
   "cell_type": "markdown",
   "metadata": {},
   "source": [
    "<a id='h61'></a>\n",
    "### Вывод"
   ]
  },
  {
   "cell_type": "markdown",
   "metadata": {},
   "source": [
    "Наиболее верные предсказания делает модель случайного леса Random Forest, это видно по точности предсказания на валидационной и на тестовой выборке. "
   ]
  },
  {
   "cell_type": "markdown",
   "metadata": {},
   "source": [
    "<div class=\"alert alert-warning\">\n",
    "    <h2> Комментарий ревьюера <a class=\"tocSkip\"> </h2>\n",
    "    \n",
    "<b>Некоторые замечания и рекомендации💡:</b>\n",
    "    \n",
    "На тестовой выборке получено хорошее качество (она у нас играет роль отложенной, holdout), но знай, что тестирование положено проводить для одной лучшей модели. На предыдущем шаге мы должны были настроить модели и выбрать одну наилучшую, опираясь на метрики данные заказчиком (это может быть качество, время обучения, скорость предсказания и т.д.). Тестированием мы моделируем работу модели на новых незнакомых ей данных, которые ни разу не использовались ни при тренировке, ни при валидации, и проверяем, не словили ли мы переобучение. А эти данные могут быть смещенными, с выбросами и т.д. То есть по таким данным некорректно заново переопределять модель-победитель.  Советую тебе статью, рассматривающую разные способы валидации моделей машинного обучения: https://towardsdatascience.com/validating-your-machine-learning-model-25b4c8643fb7\n",
    "        \n",
    "Метрики качества на тестовой выборке для всех моделей можно вычислить только с целью исследования их смещения относительно аналогичных метрик на валидационной выборке. Но это не означает, что модель-победитель должна выбираться исходя из сравнения метрик, полученных на тестовой выборке.        "
   ]
  },
  {
   "cell_type": "markdown",
   "metadata": {},
   "source": [
    "<a id='h7'></a>\n",
    "## (бонус) Проверьте модели на адекватность"
   ]
  },
  {
   "cell_type": "code",
   "execution_count": 15,
   "metadata": {},
   "outputs": [],
   "source": [
    "x = data.drop(['is_ultra'], axis=1)\n",
    "y = data[\"is_ultra\"]\n",
    "\n",
    "x_train, x_test, y_train, y_test = train_test_split(x, y, test_size=0.5, random_state=27)\n",
    "\n",
    "dummy = DummyClassifier(strategy='most_frequent').fit(x_train, y_train)\n",
    "dummy_pred = dummy.predict(x_test)"
   ]
  },
  {
   "cell_type": "markdown",
   "metadata": {},
   "source": [
    "<div class=\"alert alert-info\">\n",
    "Исправил.\n",
    "</div> "
   ]
  },
  {
   "cell_type": "markdown",
   "metadata": {},
   "source": [
    "<div class=\"alert alert-success\">\n",
    "<h2> Комментарий ревьюера v.2 <a class=\"tocSkip\"> </h2>\n",
    "\n",
    "<b>Все отлично!👍:</b> Вижу, хорошо"
   ]
  },
  {
   "cell_type": "code",
   "execution_count": 16,
   "metadata": {},
   "outputs": [
    {
     "name": "stdout",
     "output_type": "stream",
     "text": [
      "Test score:  0.6932171748599876\n"
     ]
    }
   ],
   "source": [
    "# checking accuracy\n",
    "print('Test score: ', accuracy_score(y_test, dummy_pred))"
   ]
  },
  {
   "cell_type": "markdown",
   "metadata": {},
   "source": [
    "Мы получили оценку точности 69,3% -  без обучения модели"
   ]
  },
  {
   "cell_type": "markdown",
   "metadata": {},
   "source": [
    "Наши модели показывают результат выше точность модели без обучения значит их можно считать адекватными?\n",
    "\n",
    "DecisionTreeClassifier 0.7262830482115086\n",
    "RandomForestClassifier 0.7900466562986003\n",
    "LogisticRegression 0.7387247278382582"
   ]
  },
  {
   "cell_type": "markdown",
   "metadata": {},
   "source": [
    "Логическая регрессия"
   ]
  },
  {
   "cell_type": "code",
   "execution_count": 17,
   "metadata": {},
   "outputs": [],
   "source": [
    "lr = LogisticRegression(solver='lbfgs').fit(x_train, y_train)\n",
    "lr_pred = lr.predict(x_test)"
   ]
  },
  {
   "cell_type": "code",
   "execution_count": 18,
   "metadata": {},
   "outputs": [
    {
     "data": {
      "text/plain": [
       "0.7498444306160548"
      ]
     },
     "execution_count": 18,
     "metadata": {},
     "output_type": "execute_result"
    }
   ],
   "source": [
    "accuracy_score(y_test, lr_pred)"
   ]
  },
  {
   "cell_type": "code",
   "execution_count": 19,
   "metadata": {},
   "outputs": [
    {
     "data": {
      "text/plain": [
       "0    1476\n",
       "1     131\n",
       "Name: 0, dtype: int64"
      ]
     },
     "execution_count": 19,
     "metadata": {},
     "output_type": "execute_result"
    }
   ],
   "source": [
    "predictions = pd.DataFrame(lr_pred)\n",
    "predictions[0].value_counts()"
   ]
  },
  {
   "cell_type": "markdown",
   "metadata": {},
   "source": [
    "Случайный лес"
   ]
  },
  {
   "cell_type": "code",
   "execution_count": 20,
   "metadata": {},
   "outputs": [],
   "source": [
    "rf = RandomForestClassifier(random_state = 11111 ,n_estimators = est).fit(x_train, y_train)\n",
    "rf_pred = rf.predict(x_test)"
   ]
  },
  {
   "cell_type": "code",
   "execution_count": 21,
   "metadata": {},
   "outputs": [
    {
     "data": {
      "text/plain": [
       "0.7996266334785315"
      ]
     },
     "execution_count": 21,
     "metadata": {},
     "output_type": "execute_result"
    }
   ],
   "source": [
    "accuracy_score(y_test, rf_pred)"
   ]
  },
  {
   "cell_type": "code",
   "execution_count": 22,
   "metadata": {},
   "outputs": [
    {
     "data": {
      "text/plain": [
       "0    1260\n",
       "1     347\n",
       "Name: 0, dtype: int64"
      ]
     },
     "execution_count": 22,
     "metadata": {},
     "output_type": "execute_result"
    }
   ],
   "source": [
    "predictions = pd.DataFrame(rf_pred)\n",
    "predictions[0].value_counts()"
   ]
  },
  {
   "cell_type": "markdown",
   "metadata": {},
   "source": [
    "Дерево решений"
   ]
  },
  {
   "cell_type": "code",
   "execution_count": 23,
   "metadata": {},
   "outputs": [],
   "source": [
    "dt = DecisionTreeClassifier(random_state = 11111, max_depth = depth, criterion='entropy').fit(x_train, y_train)\n",
    "dt_pred = dt.predict(x_test)"
   ]
  },
  {
   "cell_type": "code",
   "execution_count": 24,
   "metadata": {},
   "outputs": [
    {
     "data": {
      "text/plain": [
       "0.7069072806471687"
      ]
     },
     "execution_count": 24,
     "metadata": {},
     "output_type": "execute_result"
    }
   ],
   "source": [
    "accuracy_score(y_test, dt_pred)"
   ]
  },
  {
   "cell_type": "code",
   "execution_count": 25,
   "metadata": {},
   "outputs": [
    {
     "data": {
      "text/plain": [
       "0    1115\n",
       "1     492\n",
       "Name: 0, dtype: int64"
      ]
     },
     "execution_count": 25,
     "metadata": {},
     "output_type": "execute_result"
    }
   ],
   "source": [
    "predictions = pd.DataFrame(dt_pred)\n",
    "predictions[0].value_counts()"
   ]
  },
  {
   "cell_type": "markdown",
   "metadata": {},
   "source": [
    "Вывод: Для дальнейшей работы следует использовать модель Случайный лес, остальные модели показывают не высокую оценку точности."
   ]
  },
  {
   "cell_type": "markdown",
   "metadata": {},
   "source": [
    "<div class=\"alert alert-success\">\n",
    "<h2> Комментарий ревьюера <a class=\"tocSkip\"> </h2>\n",
    "\n",
    "<b>Все отлично!👍:</b> \n",
    "    \n",
    "Этап тестирования рекомендуется дополнять введением в работу baseline модели. Сравнивая результаты более сложных моделей с самой наивной, мы можем делать выводы о том, насколько далеко они вообще продвинулись в качестве предсказаний. Иногда может случиться такое, что константная модель оказывается не сильно хуже по качеству. Это может говорить либо о том, что еще есть смысл продолжить поиски \"той самой\" модели, либо структура данных такова, что ничего лучше константоной в принципе не найти, тогда в использовании более сложных ресурсозатратных моделей нет особого смысла. Создавать константные модели можно либо вручную, либо воспользоваться готовым алгоритмом <a href='https://scikit-learn.org/stable/modules/generated/sklearn.dummy.DummyClassifier.html'>DummyClassifier</a> из пакета `sklearn`. В нашем случае подойдет модель DummyClassifier со стратегией `most_frequent`. Рекомендую также прочитать  <a href='https://progler.ru/blog/ml-klassifikatory-pustyshki-s-ispolzovaniem-sklearn'>статью</a>."
   ]
  },
  {
   "cell_type": "markdown",
   "metadata": {},
   "source": [
    "<a id='h8'></a>\n",
    "## Чек-лист готовности проекта"
   ]
  },
  {
   "cell_type": "markdown",
   "metadata": {},
   "source": [
    "Поставьте 'x' в выполненных пунктах. Далее нажмите Shift+Enter."
   ]
  },
  {
   "cell_type": "markdown",
   "metadata": {},
   "source": [
    "- [x] Jupyter Notebook открыт\n",
    "- [ ] Весь код исполняется без ошибок\n",
    "- [ ] Ячейки с кодом расположены в порядке исполнения\n",
    "- [ ] Выполнено задание 1: данные загружены и изучены\n",
    "- [ ] Выполнено задание 2: данные разбиты на три выборки\n",
    "- [ ] Выполнено задание 3: проведено исследование моделей\n",
    "    - [ ] Рассмотрено больше одной модели\n",
    "    - [ ] Рассмотрено хотя бы 3 значения гипепараметров для какой-нибудь модели\n",
    "    - [ ] Написаны выводы по результатам исследования\n",
    "- [ ] Выполнено задание 3: Проведено тестирование\n",
    "- [ ] Удалось достичь accuracy не меньше 0.75\n"
   ]
  },
  {
   "cell_type": "markdown",
   "metadata": {},
   "source": [
    "<a id='vidod'></a>\n",
    "## Итоговый вывод<b>\n",
    "\n",
    "В ходе  работы было выполнено:<br>\n",
    "Изучен файл с данными.<br>\n",
    "Разбиты данные на три выборки: обучающая, валидационная и тестовая.<br>\n",
    "Исследованы три модели классификации: Решающее дерево, Случайный лес и Логистическая регрессия.<br>\n",
    "Оценена точность обученной модели.<br>\n",
    "Оценена адекватность модели.<br>"
   ]
  },
  {
   "cell_type": "markdown",
   "metadata": {},
   "source": [
    "Была решена задача классификации по целевому признаку  is_ultra. <br>\n",
    "Данные были разбиты по принципу 60/20/20. <br>\n",
    "Точность модели логистической регресии на валидационной выборке: 0.7573872472783826 Макс кол-во итераций: 77 <br>\n",
    "Точность модели случайный лес на валидационной выборке:  0.8180404354587869 <br>\n",
    "Точность модели Дерево решений на валидационной выборке: 0.8055987558320373 глубина 5 <br>\n",
    "По показателю точности, наиболее качественные результаты прогнозирует модель случайный лес (Random Forest)<br>\n",
    "Наиболее верные предсказания делает модель случайного леса Random Forest, это видно по точности предсказания на валидационной и на тестовой выборке.<br>\n",
    "Для дальнейшей работы следует использовать модель Случайный лес, остальные модели показывают не высокую оценку точности, по сравнению со случайной моделью."
   ]
  },
  {
   "cell_type": "markdown",
   "metadata": {},
   "source": [
    "<div style=\"border:solid Chocolate 2px; padding: 40px\">\n",
    "\n",
    "\n",
    "<h2> Итоговый комментарий ревьюера v.1 <a class=\"tocSkip\"> </h2>    \n",
    "    \n",
    "  \n",
    "У меня сложилось хорошее впечатление о проекте. Молодец! Изучены все параметры, построено несколько моделей классификации и оценено их качество. Осмысленная аналитика и дельная модельная работа - многое удалось как надо)\n",
    "    \n",
    "Отмечу отдельные положительные моменты проекта🙂:\n",
    "    \n",
    "- тебе удалось добиться очень хорошего качества, поздравляю!  \n",
    "- при обучении моделей использована валидационная выборка и подбор гиперпараметров.    \n",
    "    \n",
    "Есть несколько моментов всего, на которые стоит ещё раз взглянуть, я указал их в моих комментариях по ходу проекта - моделирование. Предлагаю тебе доработать проект по моим комментариям, чтобы довести его до совершенства.\n",
    "\n",
    "    \n",
    "Если будут вопросы, обращайся, с удовольствием на них отвечу.  \n",
    "</div>"
   ]
  },
  {
   "cell_type": "markdown",
   "metadata": {},
   "source": [
    "<div style=\"border:solid Chocolate 2px; padding: 40px\">\n",
    "\n",
    "\n",
    "<h2> Итоговый комментарий ревьюера v.2 <a class=\"tocSkip\"> </h2>    \n",
    "    \n",
    "     \n",
    "  \n",
    "Теперь почти идеально, молодец! Принимаю твой проект)\n",
    "    \n",
    "Могу посоветовать посмотреть видеоразбор <a href=\"https://www.youtube.com/watch?v=YTLDATQLK6w\">Как обучить модель по шагам в Data Science? Урок для начинающих на примере задачи регрессии</a>\n",
    "    \n",
    "- Рекомендую тебе ознакомиться со статьями по интерпретации предсказания моделей:  <a href=\"https://habr.com/ru/post/428213/\">SHAP</a>,   <a href=\"https://towardsdatascience.com/using-shap-values-to-explain-how-your-machine-learning-model-works-732b3f40e137\">+ еще ссылка</a>.           \n",
    "    \n",
    "    \n",
    "В этом проекте все шаги отработаны. С интересом читал твои размышления, код и выводы. Цель нашего проекта достигнута. Рад был тебе помочь)\n",
    "    \n",
    "\n",
    "  \n",
    "</div>"
   ]
  },
  {
   "cell_type": "code",
   "execution_count": null,
   "metadata": {},
   "outputs": [],
   "source": []
  }
 ],
 "metadata": {
  "ExecuteTimeLog": [
   {
    "duration": 75,
    "start_time": "2022-12-25T18:45:54.701Z"
   },
   {
    "duration": 73,
    "start_time": "2022-12-25T18:47:24.913Z"
   },
   {
    "duration": 110,
    "start_time": "2022-12-25T18:50:46.795Z"
   },
   {
    "duration": 1447,
    "start_time": "2022-12-25T18:51:56.747Z"
   },
   {
    "duration": 79,
    "start_time": "2022-12-25T18:54:07.263Z"
   },
   {
    "duration": 62,
    "start_time": "2022-12-25T18:56:19.733Z"
   },
   {
    "duration": 21,
    "start_time": "2022-12-25T18:56:22.333Z"
   },
   {
    "duration": 107,
    "start_time": "2022-12-25T18:56:55.960Z"
   },
   {
    "duration": 11,
    "start_time": "2022-12-25T18:57:00.092Z"
   },
   {
    "duration": 11,
    "start_time": "2022-12-25T18:57:09.234Z"
   },
   {
    "duration": 21,
    "start_time": "2022-12-25T18:57:21.367Z"
   },
   {
    "duration": 6,
    "start_time": "2022-12-25T18:59:50.441Z"
   },
   {
    "duration": 4,
    "start_time": "2022-12-25T19:11:24.495Z"
   },
   {
    "duration": 101,
    "start_time": "2022-12-25T19:25:09.962Z"
   },
   {
    "duration": 4,
    "start_time": "2022-12-25T19:25:27.358Z"
   },
   {
    "duration": 8,
    "start_time": "2022-12-25T19:29:57.676Z"
   },
   {
    "duration": 6,
    "start_time": "2022-12-25T19:30:09.234Z"
   },
   {
    "duration": 4,
    "start_time": "2022-12-25T19:30:09.716Z"
   },
   {
    "duration": 9,
    "start_time": "2022-12-25T19:30:21.586Z"
   },
   {
    "duration": 4,
    "start_time": "2022-12-25T19:30:21.825Z"
   },
   {
    "duration": 7,
    "start_time": "2022-12-25T19:30:37.954Z"
   },
   {
    "duration": 5,
    "start_time": "2022-12-25T19:30:38.516Z"
   },
   {
    "duration": 5,
    "start_time": "2022-12-25T19:31:09.339Z"
   },
   {
    "duration": 4,
    "start_time": "2022-12-25T19:31:09.796Z"
   },
   {
    "duration": 4,
    "start_time": "2022-12-25T19:31:28.316Z"
   },
   {
    "duration": 7,
    "start_time": "2022-12-25T19:31:36.232Z"
   },
   {
    "duration": 4,
    "start_time": "2022-12-25T19:31:38.133Z"
   },
   {
    "duration": 6,
    "start_time": "2022-12-25T19:34:17.897Z"
   },
   {
    "duration": 88,
    "start_time": "2022-12-25T19:35:03.693Z"
   },
   {
    "duration": 4,
    "start_time": "2022-12-25T19:40:51.595Z"
   },
   {
    "duration": 74,
    "start_time": "2022-12-25T19:43:30.815Z"
   },
   {
    "duration": 71,
    "start_time": "2022-12-25T19:43:31.190Z"
   },
   {
    "duration": 75,
    "start_time": "2022-12-25T19:43:31.595Z"
   },
   {
    "duration": 70,
    "start_time": "2022-12-25T19:44:19.588Z"
   },
   {
    "duration": 11,
    "start_time": "2022-12-25T19:52:09.846Z"
   },
   {
    "duration": 9,
    "start_time": "2022-12-25T20:10:54.271Z"
   },
   {
    "duration": 6,
    "start_time": "2022-12-25T20:11:17.565Z"
   },
   {
    "duration": 10,
    "start_time": "2022-12-25T20:15:48.665Z"
   },
   {
    "duration": 11,
    "start_time": "2022-12-25T20:16:06.767Z"
   },
   {
    "duration": 72,
    "start_time": "2022-12-26T17:44:27.618Z"
   },
   {
    "duration": 1588,
    "start_time": "2022-12-26T17:53:44.995Z"
   },
   {
    "duration": 115,
    "start_time": "2022-12-26T17:53:46.585Z"
   },
   {
    "duration": 13,
    "start_time": "2022-12-26T17:53:46.702Z"
   },
   {
    "duration": 22,
    "start_time": "2022-12-26T17:53:46.717Z"
   },
   {
    "duration": 48,
    "start_time": "2022-12-26T17:53:46.740Z"
   },
   {
    "duration": 0,
    "start_time": "2022-12-26T17:53:46.789Z"
   },
   {
    "duration": 9,
    "start_time": "2022-12-26T17:53:46.950Z"
   },
   {
    "duration": 5,
    "start_time": "2022-12-26T17:59:04.676Z"
   },
   {
    "duration": 75,
    "start_time": "2022-12-26T17:59:22.140Z"
   },
   {
    "duration": 4,
    "start_time": "2022-12-26T17:59:32.372Z"
   },
   {
    "duration": 29,
    "start_time": "2022-12-26T17:59:32.748Z"
   },
   {
    "duration": 4,
    "start_time": "2022-12-26T17:59:39.208Z"
   },
   {
    "duration": 29,
    "start_time": "2022-12-26T17:59:39.600Z"
   },
   {
    "duration": 10,
    "start_time": "2022-12-26T17:59:39.808Z"
   },
   {
    "duration": 22,
    "start_time": "2022-12-26T17:59:40.012Z"
   },
   {
    "duration": 47,
    "start_time": "2022-12-26T17:59:40.211Z"
   },
   {
    "duration": 3,
    "start_time": "2022-12-26T17:59:40.856Z"
   },
   {
    "duration": 8,
    "start_time": "2022-12-26T17:59:41.296Z"
   },
   {
    "duration": 5,
    "start_time": "2022-12-26T17:59:41.744Z"
   },
   {
    "duration": 13,
    "start_time": "2022-12-26T17:59:43.244Z"
   },
   {
    "duration": 13,
    "start_time": "2022-12-26T17:59:44.700Z"
   },
   {
    "duration": 4,
    "start_time": "2022-12-26T18:00:30.296Z"
   },
   {
    "duration": 12,
    "start_time": "2022-12-26T18:00:34.737Z"
   },
   {
    "duration": 15,
    "start_time": "2022-12-26T18:01:49.997Z"
   },
   {
    "duration": 27,
    "start_time": "2022-12-26T18:03:04.141Z"
   },
   {
    "duration": 23,
    "start_time": "2022-12-26T18:04:02.805Z"
   },
   {
    "duration": 28571,
    "start_time": "2022-12-26T18:06:24.549Z"
   },
   {
    "duration": 18,
    "start_time": "2022-12-26T18:07:52.806Z"
   },
   {
    "duration": 28565,
    "start_time": "2022-12-26T18:10:05.293Z"
   },
   {
    "duration": 28713,
    "start_time": "2022-12-26T18:11:12.454Z"
   },
   {
    "duration": 29513,
    "start_time": "2022-12-26T18:12:53.647Z"
   },
   {
    "duration": 16,
    "start_time": "2022-12-26T18:20:05.301Z"
   },
   {
    "duration": 24,
    "start_time": "2022-12-26T18:20:15.299Z"
   },
   {
    "duration": 28603,
    "start_time": "2022-12-26T18:20:20.716Z"
   },
   {
    "duration": 28675,
    "start_time": "2022-12-26T18:22:57.432Z"
   },
   {
    "duration": 12,
    "start_time": "2022-12-26T18:36:32.703Z"
   },
   {
    "duration": 4,
    "start_time": "2022-12-26T18:38:58.332Z"
   },
   {
    "duration": 10,
    "start_time": "2022-12-26T18:39:49.968Z"
   },
   {
    "duration": 11,
    "start_time": "2022-12-26T18:40:21.644Z"
   },
   {
    "duration": 3,
    "start_time": "2022-12-26T18:40:26.537Z"
   },
   {
    "duration": 10,
    "start_time": "2022-12-26T18:40:30.545Z"
   },
   {
    "duration": 491,
    "start_time": "2022-12-26T18:42:44.981Z"
   },
   {
    "duration": 600,
    "start_time": "2022-12-26T18:43:49.201Z"
   },
   {
    "duration": 583,
    "start_time": "2022-12-26T18:44:10.881Z"
   },
   {
    "duration": 665,
    "start_time": "2022-12-26T18:44:59.537Z"
   },
   {
    "duration": 611,
    "start_time": "2022-12-26T18:45:29.866Z"
   },
   {
    "duration": 689,
    "start_time": "2022-12-26T18:45:51.486Z"
   },
   {
    "duration": 641,
    "start_time": "2022-12-26T18:46:10.074Z"
   },
   {
    "duration": 596,
    "start_time": "2022-12-26T18:46:20.278Z"
   },
   {
    "duration": 652,
    "start_time": "2022-12-26T18:47:42.294Z"
   },
   {
    "duration": 371,
    "start_time": "2022-12-26T18:48:01.159Z"
   },
   {
    "duration": 28799,
    "start_time": "2022-12-26T18:48:37.039Z"
   },
   {
    "duration": 389,
    "start_time": "2022-12-26T18:50:11.867Z"
   },
   {
    "duration": 70,
    "start_time": "2022-12-26T18:51:42.079Z"
   },
   {
    "duration": 29590,
    "start_time": "2022-12-26T18:52:59.201Z"
   },
   {
    "duration": 350,
    "start_time": "2022-12-26T18:53:28.793Z"
   },
   {
    "duration": 45,
    "start_time": "2022-12-26T19:13:40.725Z"
   },
   {
    "duration": 11,
    "start_time": "2022-12-26T19:13:50.045Z"
   },
   {
    "duration": 5,
    "start_time": "2022-12-26T19:14:14.395Z"
   },
   {
    "duration": 11,
    "start_time": "2022-12-26T19:14:25.873Z"
   },
   {
    "duration": 17,
    "start_time": "2022-12-26T19:15:32.805Z"
   },
   {
    "duration": 5283,
    "start_time": "2022-12-26T19:15:40.342Z"
   },
   {
    "duration": 5247,
    "start_time": "2022-12-26T19:16:02.836Z"
   },
   {
    "duration": 4,
    "start_time": "2022-12-26T19:17:59.510Z"
   },
   {
    "duration": 50,
    "start_time": "2022-12-26T19:19:05.198Z"
   },
   {
    "duration": 29144,
    "start_time": "2022-12-26T19:20:39.914Z"
   },
   {
    "duration": 4,
    "start_time": "2022-12-26T19:21:09.060Z"
   },
   {
    "duration": 4,
    "start_time": "2022-12-26T19:21:55.214Z"
   },
   {
    "duration": 5,
    "start_time": "2022-12-26T19:26:38.639Z"
   },
   {
    "duration": 6,
    "start_time": "2022-12-26T19:27:38.945Z"
   },
   {
    "duration": 5,
    "start_time": "2022-12-26T19:28:22.284Z"
   },
   {
    "duration": 7,
    "start_time": "2022-12-26T19:28:28.208Z"
   },
   {
    "duration": 8,
    "start_time": "2022-12-26T19:31:14.996Z"
   },
   {
    "duration": 16,
    "start_time": "2022-12-26T19:31:15.484Z"
   },
   {
    "duration": 10,
    "start_time": "2022-12-26T19:31:15.841Z"
   },
   {
    "duration": 13,
    "start_time": "2022-12-26T19:36:48.914Z"
   },
   {
    "duration": 14,
    "start_time": "2022-12-26T19:36:49.687Z"
   },
   {
    "duration": 14,
    "start_time": "2022-12-26T19:42:44.027Z"
   },
   {
    "duration": 17,
    "start_time": "2022-12-26T19:43:40.847Z"
   },
   {
    "duration": 29363,
    "start_time": "2022-12-26T19:44:43.527Z"
   },
   {
    "duration": 4,
    "start_time": "2022-12-26T19:45:12.891Z"
   },
   {
    "duration": 12,
    "start_time": "2022-12-26T19:45:12.905Z"
   },
   {
    "duration": 28914,
    "start_time": "2022-12-26T19:50:08.951Z"
   },
   {
    "duration": 4,
    "start_time": "2022-12-26T19:50:37.867Z"
   },
   {
    "duration": 6,
    "start_time": "2022-12-26T19:50:37.873Z"
   },
   {
    "duration": 4,
    "start_time": "2022-12-26T19:50:54.739Z"
   },
   {
    "duration": 5210,
    "start_time": "2022-12-26T19:51:27.789Z"
   },
   {
    "duration": 342,
    "start_time": "2022-12-26T19:51:54.993Z"
   },
   {
    "duration": 19,
    "start_time": "2022-12-26T19:52:35.522Z"
   },
   {
    "duration": 19,
    "start_time": "2022-12-26T19:54:35.485Z"
   },
   {
    "duration": 9,
    "start_time": "2022-12-26T19:54:50.641Z"
   },
   {
    "duration": 16,
    "start_time": "2022-12-26T19:54:54.277Z"
   },
   {
    "duration": 9,
    "start_time": "2022-12-26T19:54:54.644Z"
   },
   {
    "duration": 13,
    "start_time": "2022-12-26T19:55:15.869Z"
   },
   {
    "duration": 18,
    "start_time": "2022-12-26T19:55:27.981Z"
   },
   {
    "duration": 14,
    "start_time": "2022-12-26T19:55:28.277Z"
   },
   {
    "duration": 4,
    "start_time": "2022-12-26T20:00:18.033Z"
   },
   {
    "duration": 4,
    "start_time": "2022-12-26T20:00:36.173Z"
   },
   {
    "duration": 4,
    "start_time": "2022-12-26T20:00:38.213Z"
   },
   {
    "duration": 4,
    "start_time": "2022-12-26T20:08:18.134Z"
   },
   {
    "duration": 6,
    "start_time": "2022-12-26T20:09:49.634Z"
   },
   {
    "duration": 9,
    "start_time": "2022-12-26T20:23:08.347Z"
   },
   {
    "duration": 9,
    "start_time": "2022-12-26T20:23:10.634Z"
   },
   {
    "duration": 9,
    "start_time": "2022-12-26T20:23:28.181Z"
   },
   {
    "duration": 5,
    "start_time": "2022-12-26T20:23:28.680Z"
   },
   {
    "duration": 9,
    "start_time": "2022-12-26T20:23:57.380Z"
   },
   {
    "duration": 5,
    "start_time": "2022-12-26T20:23:57.904Z"
   },
   {
    "duration": 10,
    "start_time": "2022-12-26T20:24:11.180Z"
   },
   {
    "duration": 4,
    "start_time": "2022-12-26T20:24:11.533Z"
   },
   {
    "duration": 4,
    "start_time": "2022-12-26T20:28:11.841Z"
   },
   {
    "duration": 9,
    "start_time": "2022-12-26T20:28:12.441Z"
   },
   {
    "duration": 5,
    "start_time": "2022-12-26T20:28:12.769Z"
   },
   {
    "duration": 5,
    "start_time": "2022-12-26T20:28:13.244Z"
   },
   {
    "duration": 6,
    "start_time": "2022-12-26T20:28:13.797Z"
   },
   {
    "duration": 30,
    "start_time": "2022-12-26T20:30:01.197Z"
   },
   {
    "duration": 4,
    "start_time": "2022-12-26T20:30:01.433Z"
   },
   {
    "duration": 5,
    "start_time": "2022-12-26T20:30:01.820Z"
   },
   {
    "duration": 6,
    "start_time": "2022-12-26T20:30:02.482Z"
   },
   {
    "duration": 47,
    "start_time": "2022-12-26T20:33:46.450Z"
   },
   {
    "duration": 26,
    "start_time": "2022-12-26T20:34:03.582Z"
   },
   {
    "duration": 208,
    "start_time": "2022-12-26T20:35:36.178Z"
   },
   {
    "duration": 5,
    "start_time": "2022-12-26T20:35:36.634Z"
   },
   {
    "duration": 5,
    "start_time": "2022-12-26T20:35:37.646Z"
   },
   {
    "duration": 61,
    "start_time": "2022-12-26T20:36:08.782Z"
   },
   {
    "duration": 16,
    "start_time": "2022-12-26T20:37:27.842Z"
   },
   {
    "duration": 4,
    "start_time": "2022-12-26T20:37:28.151Z"
   },
   {
    "duration": 6,
    "start_time": "2022-12-26T20:37:28.500Z"
   },
   {
    "duration": 44,
    "start_time": "2022-12-26T20:38:14.098Z"
   },
   {
    "duration": 4,
    "start_time": "2022-12-26T20:43:06.879Z"
   },
   {
    "duration": 3,
    "start_time": "2022-12-26T20:43:39.087Z"
   },
   {
    "duration": 13,
    "start_time": "2022-12-26T20:58:30.319Z"
   },
   {
    "duration": 4,
    "start_time": "2022-12-26T21:00:55.460Z"
   },
   {
    "duration": 8,
    "start_time": "2022-12-26T21:00:55.644Z"
   },
   {
    "duration": 7,
    "start_time": "2022-12-26T21:00:56.033Z"
   },
   {
    "duration": 324,
    "start_time": "2022-12-26T21:00:57.672Z"
   },
   {
    "duration": 5301,
    "start_time": "2022-12-26T21:00:58.056Z"
   },
   {
    "duration": 29418,
    "start_time": "2022-12-26T21:01:03.359Z"
   },
   {
    "duration": 4,
    "start_time": "2022-12-26T21:01:32.778Z"
   },
   {
    "duration": 21,
    "start_time": "2022-12-26T21:01:32.784Z"
   },
   {
    "duration": 5,
    "start_time": "2022-12-26T21:01:32.815Z"
   },
   {
    "duration": 6,
    "start_time": "2022-12-26T21:01:32.822Z"
   },
   {
    "duration": 11,
    "start_time": "2022-12-26T21:01:32.829Z"
   },
   {
    "duration": 5,
    "start_time": "2022-12-26T21:01:32.841Z"
   },
   {
    "duration": 29,
    "start_time": "2022-12-26T21:01:32.847Z"
   },
   {
    "duration": 4,
    "start_time": "2022-12-26T21:01:32.878Z"
   },
   {
    "duration": 6,
    "start_time": "2022-12-26T21:01:32.916Z"
   },
   {
    "duration": 193,
    "start_time": "2022-12-26T21:01:32.923Z"
   },
   {
    "duration": 4,
    "start_time": "2022-12-26T21:01:33.117Z"
   },
   {
    "duration": 17,
    "start_time": "2022-12-26T21:01:33.123Z"
   },
   {
    "duration": 17,
    "start_time": "2022-12-26T21:01:33.141Z"
   },
   {
    "duration": 4,
    "start_time": "2022-12-26T21:01:33.159Z"
   },
   {
    "duration": 22,
    "start_time": "2022-12-26T21:01:33.165Z"
   },
   {
    "duration": 0,
    "start_time": "2022-12-26T21:05:35.717Z"
   },
   {
    "duration": 51,
    "start_time": "2022-12-26T21:05:51.982Z"
   },
   {
    "duration": 45,
    "start_time": "2022-12-28T07:06:53.243Z"
   },
   {
    "duration": 1113,
    "start_time": "2022-12-28T07:07:00.847Z"
   },
   {
    "duration": 68,
    "start_time": "2022-12-28T07:07:01.962Z"
   },
   {
    "duration": 17,
    "start_time": "2022-12-28T07:07:02.032Z"
   },
   {
    "duration": 22,
    "start_time": "2022-12-28T07:07:02.051Z"
   },
   {
    "duration": 4,
    "start_time": "2022-12-28T07:07:02.647Z"
   },
   {
    "duration": 7,
    "start_time": "2022-12-28T07:07:02.816Z"
   },
   {
    "duration": 6,
    "start_time": "2022-12-28T07:07:03.198Z"
   },
   {
    "duration": 75,
    "start_time": "2022-12-28T07:07:04.680Z"
   },
   {
    "duration": 21,
    "start_time": "2022-12-28T07:07:05.072Z"
   },
   {
    "duration": 28325,
    "start_time": "2022-12-28T07:07:05.631Z"
   },
   {
    "duration": 8,
    "start_time": "2022-12-28T07:07:33.958Z"
   },
   {
    "duration": 0,
    "start_time": "2022-12-28T07:07:33.967Z"
   },
   {
    "duration": 0,
    "start_time": "2022-12-28T07:07:33.969Z"
   },
   {
    "duration": 0,
    "start_time": "2022-12-28T07:07:33.970Z"
   },
   {
    "duration": 0,
    "start_time": "2022-12-28T07:07:33.973Z"
   },
   {
    "duration": 0,
    "start_time": "2022-12-28T07:07:33.974Z"
   },
   {
    "duration": 0,
    "start_time": "2022-12-28T07:07:33.974Z"
   },
   {
    "duration": 0,
    "start_time": "2022-12-28T07:07:33.975Z"
   },
   {
    "duration": 0,
    "start_time": "2022-12-28T07:07:33.976Z"
   },
   {
    "duration": 0,
    "start_time": "2022-12-28T07:07:33.977Z"
   },
   {
    "duration": 0,
    "start_time": "2022-12-28T07:07:33.978Z"
   },
   {
    "duration": 0,
    "start_time": "2022-12-28T07:07:33.979Z"
   },
   {
    "duration": 0,
    "start_time": "2022-12-28T07:07:33.980Z"
   },
   {
    "duration": 0,
    "start_time": "2022-12-28T07:07:33.982Z"
   },
   {
    "duration": 0,
    "start_time": "2022-12-28T07:07:33.983Z"
   },
   {
    "duration": 12,
    "start_time": "2022-12-28T07:07:37.452Z"
   },
   {
    "duration": 13,
    "start_time": "2022-12-28T07:08:02.032Z"
   },
   {
    "duration": 1199,
    "start_time": "2022-12-28T07:08:42.801Z"
   },
   {
    "duration": 31,
    "start_time": "2022-12-28T07:08:44.002Z"
   },
   {
    "duration": 21,
    "start_time": "2022-12-28T07:08:44.037Z"
   },
   {
    "duration": 32,
    "start_time": "2022-12-28T07:08:44.060Z"
   },
   {
    "duration": 5,
    "start_time": "2022-12-28T07:08:44.095Z"
   },
   {
    "duration": 28,
    "start_time": "2022-12-28T07:08:44.103Z"
   },
   {
    "duration": 18,
    "start_time": "2022-12-28T07:08:44.134Z"
   },
   {
    "duration": 191,
    "start_time": "2022-12-28T07:08:44.154Z"
   },
   {
    "duration": 0,
    "start_time": "2022-12-28T07:08:44.347Z"
   },
   {
    "duration": 0,
    "start_time": "2022-12-28T07:08:44.348Z"
   },
   {
    "duration": 0,
    "start_time": "2022-12-28T07:08:44.350Z"
   },
   {
    "duration": 0,
    "start_time": "2022-12-28T07:08:44.352Z"
   },
   {
    "duration": 0,
    "start_time": "2022-12-28T07:08:44.353Z"
   },
   {
    "duration": 0,
    "start_time": "2022-12-28T07:08:44.358Z"
   },
   {
    "duration": 0,
    "start_time": "2022-12-28T07:08:44.359Z"
   },
   {
    "duration": 0,
    "start_time": "2022-12-28T07:08:44.360Z"
   },
   {
    "duration": 0,
    "start_time": "2022-12-28T07:08:44.361Z"
   },
   {
    "duration": 0,
    "start_time": "2022-12-28T07:08:44.362Z"
   },
   {
    "duration": 0,
    "start_time": "2022-12-28T07:08:44.368Z"
   },
   {
    "duration": 0,
    "start_time": "2022-12-28T07:08:44.369Z"
   },
   {
    "duration": 0,
    "start_time": "2022-12-28T07:08:44.371Z"
   },
   {
    "duration": 0,
    "start_time": "2022-12-28T07:08:44.372Z"
   },
   {
    "duration": 0,
    "start_time": "2022-12-28T07:08:44.373Z"
   },
   {
    "duration": 0,
    "start_time": "2022-12-28T07:08:44.375Z"
   },
   {
    "duration": 0,
    "start_time": "2022-12-28T07:08:44.375Z"
   },
   {
    "duration": 8,
    "start_time": "2022-12-28T07:09:01.462Z"
   },
   {
    "duration": 4,
    "start_time": "2022-12-28T07:09:10.622Z"
   },
   {
    "duration": 30,
    "start_time": "2022-12-28T07:09:11.022Z"
   },
   {
    "duration": 10,
    "start_time": "2022-12-28T07:09:11.222Z"
   },
   {
    "duration": 22,
    "start_time": "2022-12-28T07:09:11.462Z"
   },
   {
    "duration": 3,
    "start_time": "2022-12-28T07:09:14.455Z"
   },
   {
    "duration": 7,
    "start_time": "2022-12-28T07:09:14.841Z"
   },
   {
    "duration": 6,
    "start_time": "2022-12-28T07:09:15.272Z"
   },
   {
    "duration": 16,
    "start_time": "2022-12-28T07:09:16.920Z"
   },
   {
    "duration": 20,
    "start_time": "2022-12-28T07:09:17.320Z"
   },
   {
    "duration": 29965,
    "start_time": "2022-12-28T07:09:17.959Z"
   },
   {
    "duration": 4,
    "start_time": "2022-12-28T07:10:11.302Z"
   },
   {
    "duration": 30,
    "start_time": "2022-12-28T07:10:11.669Z"
   },
   {
    "duration": 10,
    "start_time": "2022-12-28T07:10:11.877Z"
   },
   {
    "duration": 24,
    "start_time": "2022-12-28T07:10:12.301Z"
   },
   {
    "duration": 4,
    "start_time": "2022-12-28T07:10:14.029Z"
   },
   {
    "duration": 11,
    "start_time": "2022-12-28T07:10:14.236Z"
   },
   {
    "duration": 8,
    "start_time": "2022-12-28T07:10:14.605Z"
   },
   {
    "duration": 346,
    "start_time": "2022-12-28T07:10:16.142Z"
   },
   {
    "duration": 5247,
    "start_time": "2022-12-28T07:10:19.111Z"
   },
   {
    "duration": 5293,
    "start_time": "2022-12-28T07:10:28.297Z"
   },
   {
    "duration": 31931,
    "start_time": "2022-12-28T07:10:33.592Z"
   },
   {
    "duration": 4,
    "start_time": "2022-12-28T07:11:05.524Z"
   },
   {
    "duration": 42,
    "start_time": "2022-12-28T07:11:05.530Z"
   },
   {
    "duration": 26,
    "start_time": "2022-12-28T07:11:05.574Z"
   },
   {
    "duration": 21,
    "start_time": "2022-12-28T07:11:05.602Z"
   },
   {
    "duration": 44,
    "start_time": "2022-12-28T07:11:05.625Z"
   },
   {
    "duration": 0,
    "start_time": "2022-12-28T07:11:05.671Z"
   },
   {
    "duration": 0,
    "start_time": "2022-12-28T07:11:05.673Z"
   },
   {
    "duration": 0,
    "start_time": "2022-12-28T07:11:05.674Z"
   },
   {
    "duration": 0,
    "start_time": "2022-12-28T07:11:05.675Z"
   },
   {
    "duration": 0,
    "start_time": "2022-12-28T07:11:05.676Z"
   },
   {
    "duration": 0,
    "start_time": "2022-12-28T07:11:05.678Z"
   },
   {
    "duration": 0,
    "start_time": "2022-12-28T07:11:05.679Z"
   },
   {
    "duration": 0,
    "start_time": "2022-12-28T07:11:05.681Z"
   },
   {
    "duration": 0,
    "start_time": "2022-12-28T07:11:05.682Z"
   },
   {
    "duration": 0,
    "start_time": "2022-12-28T07:11:05.683Z"
   },
   {
    "duration": 79,
    "start_time": "2022-12-28T07:13:08.411Z"
   },
   {
    "duration": 74,
    "start_time": "2022-12-28T07:13:57.986Z"
   },
   {
    "duration": 17,
    "start_time": "2022-12-28T07:15:34.512Z"
   },
   {
    "duration": 46,
    "start_time": "2022-12-28T07:15:34.530Z"
   },
   {
    "duration": 10,
    "start_time": "2022-12-28T07:15:34.578Z"
   },
   {
    "duration": 36,
    "start_time": "2022-12-28T07:15:34.590Z"
   },
   {
    "duration": 4,
    "start_time": "2022-12-28T07:15:34.635Z"
   },
   {
    "duration": 13,
    "start_time": "2022-12-28T07:15:34.640Z"
   },
   {
    "duration": 7,
    "start_time": "2022-12-28T07:15:34.655Z"
   },
   {
    "duration": 351,
    "start_time": "2022-12-28T07:15:34.664Z"
   },
   {
    "duration": 5,
    "start_time": "2022-12-28T07:18:22.970Z"
   },
   {
    "duration": 0,
    "start_time": "2022-12-28T07:18:22.997Z"
   },
   {
    "duration": 0,
    "start_time": "2022-12-28T07:18:23.024Z"
   },
   {
    "duration": 0,
    "start_time": "2022-12-28T07:18:23.026Z"
   },
   {
    "duration": 0,
    "start_time": "2022-12-28T07:18:23.027Z"
   },
   {
    "duration": 0,
    "start_time": "2022-12-28T07:18:23.029Z"
   },
   {
    "duration": 0,
    "start_time": "2022-12-28T07:18:23.031Z"
   },
   {
    "duration": 0,
    "start_time": "2022-12-28T07:18:23.032Z"
   },
   {
    "duration": 0,
    "start_time": "2022-12-28T07:18:23.034Z"
   },
   {
    "duration": 1102,
    "start_time": "2022-12-28T07:18:51.661Z"
   },
   {
    "duration": 31,
    "start_time": "2022-12-28T07:18:52.765Z"
   },
   {
    "duration": 18,
    "start_time": "2022-12-28T07:18:52.798Z"
   },
   {
    "duration": 23,
    "start_time": "2022-12-28T07:18:53.133Z"
   },
   {
    "duration": 3,
    "start_time": "2022-12-28T07:18:55.757Z"
   },
   {
    "duration": 7,
    "start_time": "2022-12-28T07:18:55.979Z"
   },
   {
    "duration": 6,
    "start_time": "2022-12-28T07:18:57.156Z"
   },
   {
    "duration": 375,
    "start_time": "2022-12-28T07:19:00.715Z"
   },
   {
    "duration": 10191,
    "start_time": "2022-12-28T07:19:06.579Z"
   },
   {
    "duration": 55,
    "start_time": "2022-12-28T07:20:20.586Z"
   },
   {
    "duration": 20,
    "start_time": "2022-12-28T07:20:20.643Z"
   },
   {
    "duration": 35,
    "start_time": "2022-12-28T07:20:20.665Z"
   },
   {
    "duration": 130,
    "start_time": "2022-12-28T07:20:20.701Z"
   },
   {
    "duration": 0,
    "start_time": "2022-12-28T07:20:20.833Z"
   },
   {
    "duration": 0,
    "start_time": "2022-12-28T07:20:20.834Z"
   },
   {
    "duration": 30953,
    "start_time": "2022-12-28T07:20:26.262Z"
   },
   {
    "duration": 10,
    "start_time": "2022-12-28T07:20:57.217Z"
   },
   {
    "duration": 5,
    "start_time": "2022-12-28T07:21:01.682Z"
   },
   {
    "duration": 33,
    "start_time": "2022-12-28T07:21:03.202Z"
   },
   {
    "duration": 4,
    "start_time": "2022-12-28T07:21:03.642Z"
   },
   {
    "duration": 4,
    "start_time": "2022-12-28T07:21:04.042Z"
   },
   {
    "duration": 23,
    "start_time": "2022-12-28T07:21:20.612Z"
   },
   {
    "duration": 12,
    "start_time": "2022-12-28T07:21:29.374Z"
   },
   {
    "duration": 4,
    "start_time": "2022-12-28T07:21:30.069Z"
   },
   {
    "duration": 31,
    "start_time": "2022-12-28T07:21:31.245Z"
   },
   {
    "duration": 6,
    "start_time": "2022-12-28T07:21:31.644Z"
   },
   {
    "duration": 5,
    "start_time": "2022-12-28T07:21:31.846Z"
   },
   {
    "duration": 259,
    "start_time": "2022-12-28T07:21:32.239Z"
   },
   {
    "duration": 4,
    "start_time": "2022-12-28T07:21:32.500Z"
   },
   {
    "duration": 9,
    "start_time": "2022-12-28T07:21:32.621Z"
   },
   {
    "duration": 17,
    "start_time": "2022-12-28T07:21:32.997Z"
   },
   {
    "duration": 7,
    "start_time": "2022-12-28T07:21:33.236Z"
   },
   {
    "duration": 5,
    "start_time": "2022-12-28T07:21:33.559Z"
   },
   {
    "duration": 18,
    "start_time": "2022-12-28T07:21:44.127Z"
   },
   {
    "duration": 17,
    "start_time": "2022-12-28T07:23:37.572Z"
   },
   {
    "duration": 11,
    "start_time": "2022-12-28T07:27:55.123Z"
   },
   {
    "duration": 20,
    "start_time": "2022-12-28T07:31:03.241Z"
   },
   {
    "duration": 8,
    "start_time": "2022-12-28T07:32:13.048Z"
   },
   {
    "duration": 4,
    "start_time": "2022-12-28T07:32:16.751Z"
   },
   {
    "duration": 9,
    "start_time": "2022-12-28T07:32:36.555Z"
   },
   {
    "duration": 18,
    "start_time": "2022-12-28T07:33:50.955Z"
   },
   {
    "duration": 14,
    "start_time": "2022-12-28T07:34:02.909Z"
   },
   {
    "duration": 9,
    "start_time": "2022-12-28T07:34:28.319Z"
   },
   {
    "duration": 8,
    "start_time": "2022-12-28T07:34:59.870Z"
   },
   {
    "duration": 9,
    "start_time": "2022-12-28T07:35:46.776Z"
   },
   {
    "duration": 72,
    "start_time": "2022-12-28T08:09:38.753Z"
   },
   {
    "duration": 7,
    "start_time": "2022-12-28T08:28:12.697Z"
   },
   {
    "duration": 1831,
    "start_time": "2022-12-28T18:52:51.082Z"
   },
   {
    "duration": 63,
    "start_time": "2022-12-28T18:52:52.915Z"
   },
   {
    "duration": 17,
    "start_time": "2022-12-28T18:52:52.980Z"
   },
   {
    "duration": 86,
    "start_time": "2022-12-28T18:52:52.998Z"
   },
   {
    "duration": 4,
    "start_time": "2022-12-28T18:52:53.086Z"
   },
   {
    "duration": 17,
    "start_time": "2022-12-28T18:52:53.091Z"
   },
   {
    "duration": 34,
    "start_time": "2022-12-28T18:52:53.109Z"
   },
   {
    "duration": 435,
    "start_time": "2022-12-28T18:52:53.178Z"
   },
   {
    "duration": 15374,
    "start_time": "2022-12-28T18:52:53.615Z"
   },
   {
    "duration": 30705,
    "start_time": "2022-12-28T18:53:08.990Z"
   },
   {
    "duration": 4,
    "start_time": "2022-12-28T18:53:39.697Z"
   },
   {
    "duration": 29,
    "start_time": "2022-12-28T18:53:39.703Z"
   },
   {
    "duration": 5,
    "start_time": "2022-12-28T18:53:39.733Z"
   },
   {
    "duration": 5,
    "start_time": "2022-12-28T18:53:39.741Z"
   },
   {
    "duration": 31,
    "start_time": "2022-12-28T18:53:39.748Z"
   },
   {
    "duration": 4,
    "start_time": "2022-12-28T18:53:39.781Z"
   },
   {
    "duration": 30,
    "start_time": "2022-12-28T18:53:39.786Z"
   },
   {
    "duration": 4,
    "start_time": "2022-12-28T18:53:39.818Z"
   },
   {
    "duration": 7,
    "start_time": "2022-12-28T18:53:39.824Z"
   },
   {
    "duration": 285,
    "start_time": "2022-12-28T18:53:39.832Z"
   },
   {
    "duration": 6,
    "start_time": "2022-12-28T18:53:40.118Z"
   },
   {
    "duration": 8,
    "start_time": "2022-12-28T18:53:40.125Z"
   },
   {
    "duration": 19,
    "start_time": "2022-12-28T18:53:40.134Z"
   },
   {
    "duration": 23,
    "start_time": "2022-12-28T18:53:40.155Z"
   },
   {
    "duration": 6,
    "start_time": "2022-12-28T18:53:40.180Z"
   },
   {
    "duration": 1092,
    "start_time": "2022-12-28T19:49:09.496Z"
   },
   {
    "duration": 164,
    "start_time": "2022-12-28T19:49:10.590Z"
   },
   {
    "duration": 17,
    "start_time": "2022-12-28T19:49:10.755Z"
   },
   {
    "duration": 22,
    "start_time": "2022-12-28T19:49:10.774Z"
   },
   {
    "duration": 4,
    "start_time": "2022-12-28T19:49:11.504Z"
   },
   {
    "duration": 8,
    "start_time": "2022-12-28T19:49:11.709Z"
   },
   {
    "duration": 6,
    "start_time": "2022-12-28T19:49:12.139Z"
   },
   {
    "duration": 4,
    "start_time": "2022-12-28T19:49:18.006Z"
   }
  ],
  "kernelspec": {
   "display_name": "Python 3 (ipykernel)",
   "language": "python",
   "name": "python3"
  },
  "language_info": {
   "codemirror_mode": {
    "name": "ipython",
    "version": 3
   },
   "file_extension": ".py",
   "mimetype": "text/x-python",
   "name": "python",
   "nbconvert_exporter": "python",
   "pygments_lexer": "ipython3",
   "version": "3.9.5"
  },
  "toc": {
   "base_numbering": 1,
   "nav_menu": {
    "height": "122px",
    "width": "200px"
   },
   "number_sections": true,
   "sideBar": true,
   "skip_h1_title": true,
   "title_cell": "Table of Contents",
   "title_sidebar": "Contents",
   "toc_cell": false,
   "toc_position": {
    "height": "calc(100% - 180px)",
    "left": "10px",
    "top": "150px",
    "width": "165px"
   },
   "toc_section_display": true,
   "toc_window_display": true
  }
 },
 "nbformat": 4,
 "nbformat_minor": 2
}
