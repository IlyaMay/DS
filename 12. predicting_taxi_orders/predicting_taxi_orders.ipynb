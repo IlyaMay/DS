{
 "cells": [
  {
   "cell_type": "markdown",
   "id": "5697fced",
   "metadata": {},
   "source": [
    "<div style=\"border:solid SkyBlue 2px; padding: 40px\">\n",
    "Привет!👋\n",
    "Меня зовут Илья.\n",
    "\n",
    "Свои комментарии, по примеру прошлого проекта, я буду выделять  <font color='SkyBlue'>Голубым цветом</font>.\n",
    "\n",
    "          \n",
    "<div class=\"alert alert-info\">\n",
    "Вот он мой комментарий)\n",
    "</div>    "
   ]
  },
  {
   "cell_type": "markdown",
   "id": "f5638623",
   "metadata": {},
   "source": [
    "Привет, меня зовут Артем Хуршудов. Сегодня я проверю твой проект.\n",
    "<br> Дальнейшее общение будет происходить на \"ты\" если это не вызывает никаких проблем.\n",
    "<br> Желательно реагировать на каждый мой комментарий ('исправил', 'не понятно как исправить ошибку', ...)\n",
    "<br> Пожалуйста, не удаляй комментарии ревьюера, так как они повышают качество повторного ревью.\n",
    "\n",
    "Комментарии будут в <font color='green'>зеленой</font>, <font color='blue'>синей</font> или <font color='red'>красной</font> рамках:\n",
    "\n",
    "<div class=\"alert alert-block alert-success\">\n",
    "<b>Успех:</b> Если все сделано отлично\n",
    "</div>\n",
    "\n",
    "<div class=\"alert alert-block alert-info\">\n",
    "<b>Совет: </b> Если можно немного улучшить\n",
    "</div>\n",
    "\n",
    "<div class=\"alert alert-block alert-danger\">\n",
    "<b>Ошибка:</b> Если требуются исправления. Работа не может быть принята с красными комментариями.\n",
    "</div>\n",
    "\n",
    "-------------------\n",
    "\n",
    "Будет очень хорошо, если ты будешь помечать свои действия следующим образом:\n",
    "<div class=\"alert alert-block alert-warning\">\n",
    "<b>Комментарий студента:</b> ...\n",
    "</div>\n",
    "\n",
    "<div class=\"alert alert-block alert-warning\">\n",
    "<b>Изменения:</b> Были внесены следующие изменения ...\n",
    "</div>"
   ]
  },
  {
   "cell_type": "markdown",
   "id": "c97ae33c",
   "metadata": {},
   "source": [
    "## Проект \"Прогнозирование количества заказов такси\""
   ]
  },
  {
   "cell_type": "markdown",
   "id": "6afb0b0c",
   "metadata": {},
   "source": [
    "<b>Описание проекта</b>\n",
    "\n",
    "Компания «Чётенькое такси» собрала исторические данные о заказах такси в аэропортах. Чтобы привлекать больше водителей в период пиковой нагрузки, нужно спрогнозировать количество заказов такси на следующий час. Постройте модель для такого предсказания.\n",
    "\n",
    "Значение метрики RMSE на тестовой выборке должно быть не больше 48."
   ]
  },
  {
   "cell_type": "markdown",
   "id": "78ac58a6",
   "metadata": {},
   "source": [
    "## Содержание"
   ]
  },
  {
   "cell_type": "markdown",
   "id": "cf220085",
   "metadata": {},
   "source": [
    "<h1>Содержание<span class=\"tocSkip\"></span></h1>\n",
    "<div class=\"toc\"><ul class=\"toc-item\"><li><span><a href=\"#Подготовка\" data-toc-modified-id=\"Подготовка-1\"><span class=\"toc-item-num\">1&nbsp;&nbsp;</span>Подготовка</a></span></li><li><span><a href=\"#Анализ\" data-toc-modified-id=\"Анализ-2\"><span class=\"toc-item-num\">2&nbsp;&nbsp;</span>Анализ</a></span></li><li><span><a href=\"#Обучение\" data-toc-modified-id=\"Обучение-3\"><span class=\"toc-item-num\">3&nbsp;&nbsp;</span>Обучение</a></span></li><li><span><a href=\"#Тестирование\" data-toc-modified-id=\"Тестирование-4\"><span class=\"toc-item-num\">4&nbsp;&nbsp;</span>Тестирование</a></span></li><li><span><a href=\"#Чек-лист-проверки\" data-toc-modified-id=\"Чек-лист-проверки-5\"><span class=\"toc-item-num\">5&nbsp;&nbsp;</span>Чек-лист проверки</a></span></li></ul></div>"
   ]
  },
  {
   "cell_type": "markdown",
   "id": "6d378e15",
   "metadata": {},
   "source": [
    "## Настройки и импорты"
   ]
  },
  {
   "cell_type": "code",
   "execution_count": 2,
   "id": "7a57fc8f",
   "metadata": {},
   "outputs": [],
   "source": [
    "import pandas as pd\n",
    "import matplotlib as plt\n",
    "import seaborn as sns\n",
    "import numpy as np\n",
    "from sklearn.linear_model import LinearRegression\n",
    "from sklearn.tree import DecisionTreeRegressor\n",
    "from sklearn.model_selection import GridSearchCV\n",
    "from sklearn.model_selection import RandomizedSearchCV\n",
    "import matplotlib.pyplot as pl\n",
    "from catboost import CatBoostRegressor\n",
    "from lightgbm import LGBMRegressor\n",
    "import lightgbm as lgb\n",
    "from sklearn.metrics import mean_squared_error as mse\n",
    "from sklearn.model_selection import TimeSeriesSplit, GridSearchCV, train_test_split\n",
    "from statsmodels.tsa.seasonal import seasonal_decompose\n",
    "from sklearn.model_selection import train_test_split\n",
    "from sklearn.metrics import mean_squared_error\n",
    "from catboost import CatBoostRegressor\n",
    "\n",
    "#pip install catboost\n",
    "#pip install lightgbm\n",
    "\n",
    "import warnings\n",
    "warnings.filterwarnings('ignore')"
   ]
  },
  {
   "cell_type": "markdown",
   "id": "2372619e",
   "metadata": {},
   "source": [
    "<div class=\"alert alert-block alert-success\">\n",
    "<b>Успех:</b> Отлично, что все импорты собраны в первой ячейке ноутбука! Если у того, кто будет запускать твой ноутбук будут отсутствовать некоторые библиотеки, то он это увидит сразу, а не в процессе!\n",
    "</div>"
   ]
  },
  {
   "cell_type": "markdown",
   "id": "c821bd10",
   "metadata": {},
   "source": [
    "## Подготовка"
   ]
  },
  {
   "cell_type": "code",
   "execution_count": 3,
   "id": "454207a1",
   "metadata": {},
   "outputs": [],
   "source": [
    "data = pd.read_csv(\"/datasets/taxi.csv\", index_col=[0], parse_dates=[0])"
   ]
  },
  {
   "cell_type": "code",
   "execution_count": 4,
   "id": "f3801a02",
   "metadata": {},
   "outputs": [
    {
     "data": {
      "text/html": [
       "<div>\n",
       "<style scoped>\n",
       "    .dataframe tbody tr th:only-of-type {\n",
       "        vertical-align: middle;\n",
       "    }\n",
       "\n",
       "    .dataframe tbody tr th {\n",
       "        vertical-align: top;\n",
       "    }\n",
       "\n",
       "    .dataframe thead th {\n",
       "        text-align: right;\n",
       "    }\n",
       "</style>\n",
       "<table border=\"1\" class=\"dataframe\">\n",
       "  <thead>\n",
       "    <tr style=\"text-align: right;\">\n",
       "      <th></th>\n",
       "      <th>num_orders</th>\n",
       "    </tr>\n",
       "    <tr>\n",
       "      <th>datetime</th>\n",
       "      <th></th>\n",
       "    </tr>\n",
       "  </thead>\n",
       "  <tbody>\n",
       "    <tr>\n",
       "      <th>2018-03-01 00:00:00</th>\n",
       "      <td>9</td>\n",
       "    </tr>\n",
       "    <tr>\n",
       "      <th>2018-03-01 00:10:00</th>\n",
       "      <td>14</td>\n",
       "    </tr>\n",
       "    <tr>\n",
       "      <th>2018-03-01 00:20:00</th>\n",
       "      <td>28</td>\n",
       "    </tr>\n",
       "    <tr>\n",
       "      <th>2018-03-01 00:30:00</th>\n",
       "      <td>20</td>\n",
       "    </tr>\n",
       "    <tr>\n",
       "      <th>2018-03-01 00:40:00</th>\n",
       "      <td>32</td>\n",
       "    </tr>\n",
       "    <tr>\n",
       "      <th>...</th>\n",
       "      <td>...</td>\n",
       "    </tr>\n",
       "    <tr>\n",
       "      <th>2018-08-31 23:10:00</th>\n",
       "      <td>32</td>\n",
       "    </tr>\n",
       "    <tr>\n",
       "      <th>2018-08-31 23:20:00</th>\n",
       "      <td>24</td>\n",
       "    </tr>\n",
       "    <tr>\n",
       "      <th>2018-08-31 23:30:00</th>\n",
       "      <td>27</td>\n",
       "    </tr>\n",
       "    <tr>\n",
       "      <th>2018-08-31 23:40:00</th>\n",
       "      <td>39</td>\n",
       "    </tr>\n",
       "    <tr>\n",
       "      <th>2018-08-31 23:50:00</th>\n",
       "      <td>53</td>\n",
       "    </tr>\n",
       "  </tbody>\n",
       "</table>\n",
       "<p>26496 rows × 1 columns</p>\n",
       "</div>"
      ],
      "text/plain": [
       "                     num_orders\n",
       "datetime                       \n",
       "2018-03-01 00:00:00           9\n",
       "2018-03-01 00:10:00          14\n",
       "2018-03-01 00:20:00          28\n",
       "2018-03-01 00:30:00          20\n",
       "2018-03-01 00:40:00          32\n",
       "...                         ...\n",
       "2018-08-31 23:10:00          32\n",
       "2018-08-31 23:20:00          24\n",
       "2018-08-31 23:30:00          27\n",
       "2018-08-31 23:40:00          39\n",
       "2018-08-31 23:50:00          53\n",
       "\n",
       "[26496 rows x 1 columns]"
      ]
     },
     "execution_count": 4,
     "metadata": {},
     "output_type": "execute_result"
    }
   ],
   "source": [
    "data"
   ]
  },
  {
   "cell_type": "code",
   "execution_count": 5,
   "id": "e085b150",
   "metadata": {},
   "outputs": [
    {
     "data": {
      "text/html": [
       "<div>\n",
       "<style scoped>\n",
       "    .dataframe tbody tr th:only-of-type {\n",
       "        vertical-align: middle;\n",
       "    }\n",
       "\n",
       "    .dataframe tbody tr th {\n",
       "        vertical-align: top;\n",
       "    }\n",
       "\n",
       "    .dataframe thead th {\n",
       "        text-align: right;\n",
       "    }\n",
       "</style>\n",
       "<table border=\"1\" class=\"dataframe\">\n",
       "  <thead>\n",
       "    <tr style=\"text-align: right;\">\n",
       "      <th></th>\n",
       "      <th>num_orders</th>\n",
       "    </tr>\n",
       "  </thead>\n",
       "  <tbody>\n",
       "    <tr>\n",
       "      <th>count</th>\n",
       "      <td>26496.000000</td>\n",
       "    </tr>\n",
       "    <tr>\n",
       "      <th>mean</th>\n",
       "      <td>14.070463</td>\n",
       "    </tr>\n",
       "    <tr>\n",
       "      <th>std</th>\n",
       "      <td>9.211330</td>\n",
       "    </tr>\n",
       "    <tr>\n",
       "      <th>min</th>\n",
       "      <td>0.000000</td>\n",
       "    </tr>\n",
       "    <tr>\n",
       "      <th>25%</th>\n",
       "      <td>8.000000</td>\n",
       "    </tr>\n",
       "    <tr>\n",
       "      <th>50%</th>\n",
       "      <td>13.000000</td>\n",
       "    </tr>\n",
       "    <tr>\n",
       "      <th>75%</th>\n",
       "      <td>19.000000</td>\n",
       "    </tr>\n",
       "    <tr>\n",
       "      <th>max</th>\n",
       "      <td>119.000000</td>\n",
       "    </tr>\n",
       "  </tbody>\n",
       "</table>\n",
       "</div>"
      ],
      "text/plain": [
       "         num_orders\n",
       "count  26496.000000\n",
       "mean      14.070463\n",
       "std        9.211330\n",
       "min        0.000000\n",
       "25%        8.000000\n",
       "50%       13.000000\n",
       "75%       19.000000\n",
       "max      119.000000"
      ]
     },
     "execution_count": 5,
     "metadata": {},
     "output_type": "execute_result"
    }
   ],
   "source": [
    "data.describe(include='all')"
   ]
  },
  {
   "cell_type": "code",
   "execution_count": 6,
   "id": "263456e2",
   "metadata": {},
   "outputs": [
    {
     "name": "stdout",
     "output_type": "stream",
     "text": [
      "<class 'pandas.core.frame.DataFrame'>\n",
      "DatetimeIndex: 26496 entries, 2018-03-01 00:00:00 to 2018-08-31 23:50:00\n",
      "Data columns (total 1 columns):\n",
      " #   Column      Non-Null Count  Dtype\n",
      "---  ------      --------------  -----\n",
      " 0   num_orders  26496 non-null  int64\n",
      "dtypes: int64(1)\n",
      "memory usage: 414.0 KB\n"
     ]
    }
   ],
   "source": [
    "data.info()"
   ]
  },
  {
   "cell_type": "code",
   "execution_count": 7,
   "id": "63199518",
   "metadata": {},
   "outputs": [
    {
     "data": {
      "text/plain": [
       "num_orders    0\n",
       "dtype: int64"
      ]
     },
     "execution_count": 7,
     "metadata": {},
     "output_type": "execute_result"
    }
   ],
   "source": [
    "data.isna().sum()"
   ]
  },
  {
   "cell_type": "code",
   "execution_count": 8,
   "id": "117bfe79",
   "metadata": {},
   "outputs": [
    {
     "data": {
      "text/plain": [
       "True"
      ]
     },
     "execution_count": 8,
     "metadata": {},
     "output_type": "execute_result"
    }
   ],
   "source": [
    "data.index.is_monotonic"
   ]
  },
  {
   "cell_type": "markdown",
   "id": "72135a1e",
   "metadata": {},
   "source": [
    "Сделаем семплирование по часу, так как предсказываем количество заказов такси на следующий час"
   ]
  },
  {
   "cell_type": "code",
   "execution_count": 9,
   "id": "1a8e7918",
   "metadata": {},
   "outputs": [],
   "source": [
    "data = data.resample('1H').sum()"
   ]
  },
  {
   "cell_type": "code",
   "execution_count": 10,
   "id": "23e0aa0a",
   "metadata": {},
   "outputs": [
    {
     "data": {
      "text/html": [
       "<div>\n",
       "<style scoped>\n",
       "    .dataframe tbody tr th:only-of-type {\n",
       "        vertical-align: middle;\n",
       "    }\n",
       "\n",
       "    .dataframe tbody tr th {\n",
       "        vertical-align: top;\n",
       "    }\n",
       "\n",
       "    .dataframe thead th {\n",
       "        text-align: right;\n",
       "    }\n",
       "</style>\n",
       "<table border=\"1\" class=\"dataframe\">\n",
       "  <thead>\n",
       "    <tr style=\"text-align: right;\">\n",
       "      <th></th>\n",
       "      <th>num_orders</th>\n",
       "    </tr>\n",
       "    <tr>\n",
       "      <th>datetime</th>\n",
       "      <th></th>\n",
       "    </tr>\n",
       "  </thead>\n",
       "  <tbody>\n",
       "    <tr>\n",
       "      <th>2018-03-01 00:00:00</th>\n",
       "      <td>124</td>\n",
       "    </tr>\n",
       "    <tr>\n",
       "      <th>2018-03-01 01:00:00</th>\n",
       "      <td>85</td>\n",
       "    </tr>\n",
       "    <tr>\n",
       "      <th>2018-03-01 02:00:00</th>\n",
       "      <td>71</td>\n",
       "    </tr>\n",
       "    <tr>\n",
       "      <th>2018-03-01 03:00:00</th>\n",
       "      <td>66</td>\n",
       "    </tr>\n",
       "    <tr>\n",
       "      <th>2018-03-01 04:00:00</th>\n",
       "      <td>43</td>\n",
       "    </tr>\n",
       "    <tr>\n",
       "      <th>...</th>\n",
       "      <td>...</td>\n",
       "    </tr>\n",
       "    <tr>\n",
       "      <th>2018-08-31 19:00:00</th>\n",
       "      <td>136</td>\n",
       "    </tr>\n",
       "    <tr>\n",
       "      <th>2018-08-31 20:00:00</th>\n",
       "      <td>154</td>\n",
       "    </tr>\n",
       "    <tr>\n",
       "      <th>2018-08-31 21:00:00</th>\n",
       "      <td>159</td>\n",
       "    </tr>\n",
       "    <tr>\n",
       "      <th>2018-08-31 22:00:00</th>\n",
       "      <td>223</td>\n",
       "    </tr>\n",
       "    <tr>\n",
       "      <th>2018-08-31 23:00:00</th>\n",
       "      <td>205</td>\n",
       "    </tr>\n",
       "  </tbody>\n",
       "</table>\n",
       "<p>4416 rows × 1 columns</p>\n",
       "</div>"
      ],
      "text/plain": [
       "                     num_orders\n",
       "datetime                       \n",
       "2018-03-01 00:00:00         124\n",
       "2018-03-01 01:00:00          85\n",
       "2018-03-01 02:00:00          71\n",
       "2018-03-01 03:00:00          66\n",
       "2018-03-01 04:00:00          43\n",
       "...                         ...\n",
       "2018-08-31 19:00:00         136\n",
       "2018-08-31 20:00:00         154\n",
       "2018-08-31 21:00:00         159\n",
       "2018-08-31 22:00:00         223\n",
       "2018-08-31 23:00:00         205\n",
       "\n",
       "[4416 rows x 1 columns]"
      ]
     },
     "execution_count": 10,
     "metadata": {},
     "output_type": "execute_result"
    }
   ],
   "source": [
    "data"
   ]
  },
  {
   "cell_type": "code",
   "execution_count": 11,
   "id": "84b03796",
   "metadata": {},
   "outputs": [
    {
     "data": {
      "text/plain": [
       "'Временной промежуток данных: 2018-03-01 00:00:00 - 2018-08-31 23:00:00'"
      ]
     },
     "execution_count": 11,
     "metadata": {},
     "output_type": "execute_result"
    }
   ],
   "source": [
    "f\"Временной промежуток данных: {data.index.min()} - {data.index.max()}\""
   ]
  },
  {
   "cell_type": "markdown",
   "id": "bb01f464",
   "metadata": {},
   "source": [
    "### Вывод: \n",
    "В данных нет пропусков, дупликатов\n",
    "Был произведен ресемплинг 1 час"
   ]
  },
  {
   "cell_type": "markdown",
   "id": "fefdb6f5",
   "metadata": {},
   "source": [
    "<div class=\"alert alert-block alert-success\">\n",
    "<b>Успех:</b> Данные загружены корректно, первичный осмотр проведен. Ресемплинг был сделан верно.\n",
    "</div>"
   ]
  },
  {
   "cell_type": "markdown",
   "id": "f037bf96",
   "metadata": {},
   "source": [
    "## Анализ"
   ]
  },
  {
   "cell_type": "markdown",
   "id": "b357a3a3",
   "metadata": {},
   "source": [
    "Построим графики количества заказов по часам, дням, и месяцам."
   ]
  },
  {
   "cell_type": "markdown",
   "id": "21ff174e",
   "metadata": {},
   "source": [
    "Создадим признаки для горизонта прогнозирования в один шаг"
   ]
  },
  {
   "cell_type": "code",
   "execution_count": 12,
   "id": "850b543c",
   "metadata": {},
   "outputs": [],
   "source": [
    "def get_features(data_new):\n",
    "    data_func = data_new.copy()\n",
    "    data_func['month'] = data_func.index.month\n",
    "    data_func['day'] = data_func.index.day\n",
    "    data_func['dayofweek'] = data_func.index.dayofweek\n",
    "    data_func['hour'] = data_func.index.hour\n",
    "    \n",
    "    for lag in range(1, 6):\n",
    "        data_func['lag_{}'.format(lag)] = data_func['num_orders'].shift(lag)\n",
    "    \n",
    "    data_func['rolling_mean'] = data_func['num_orders'].shift().rolling(1).mean()\n",
    "    data_func.dropna(inplace=True)\n",
    "    \n",
    "    return data_func"
   ]
  },
  {
   "cell_type": "markdown",
   "id": "880c568f",
   "metadata": {},
   "source": [
    "<div class=\"alert alert-block alert-info\">\n",
    "\n",
    "<b>Совет: </b> Желательно было написать функцию таким образом, чтобы она возвращала новый датафрейм, а не изменяла глобальную переменную.\n",
    "1. Это хорошая практика (не изменять глобальные переменные внутри функции), которая улучшает читаемость кода.\n",
    "2. В какой-то момент может появиться необходимость подбирать некоторые параметры используемый внутри функции. В этот момент копирование датасета станет обязательным.\n",
    "</div>"
   ]
  },
  {
   "cell_type": "code",
   "execution_count": 17,
   "id": "9ce95622",
   "metadata": {},
   "outputs": [],
   "source": [
    "data_new = get_features(data)"
   ]
  },
  {
   "cell_type": "code",
   "execution_count": 18,
   "id": "de83b8d3",
   "metadata": {},
   "outputs": [
    {
     "data": {
      "text/html": [
       "<div>\n",
       "<style scoped>\n",
       "    .dataframe tbody tr th:only-of-type {\n",
       "        vertical-align: middle;\n",
       "    }\n",
       "\n",
       "    .dataframe tbody tr th {\n",
       "        vertical-align: top;\n",
       "    }\n",
       "\n",
       "    .dataframe thead th {\n",
       "        text-align: right;\n",
       "    }\n",
       "</style>\n",
       "<table border=\"1\" class=\"dataframe\">\n",
       "  <thead>\n",
       "    <tr style=\"text-align: right;\">\n",
       "      <th></th>\n",
       "      <th>num_orders</th>\n",
       "      <th>month</th>\n",
       "      <th>day</th>\n",
       "      <th>dayofweek</th>\n",
       "      <th>hour</th>\n",
       "      <th>lag_1</th>\n",
       "      <th>lag_2</th>\n",
       "      <th>lag_3</th>\n",
       "      <th>lag_4</th>\n",
       "      <th>lag_5</th>\n",
       "      <th>rolling_mean</th>\n",
       "    </tr>\n",
       "    <tr>\n",
       "      <th>datetime</th>\n",
       "      <th></th>\n",
       "      <th></th>\n",
       "      <th></th>\n",
       "      <th></th>\n",
       "      <th></th>\n",
       "      <th></th>\n",
       "      <th></th>\n",
       "      <th></th>\n",
       "      <th></th>\n",
       "      <th></th>\n",
       "      <th></th>\n",
       "    </tr>\n",
       "  </thead>\n",
       "  <tbody>\n",
       "    <tr>\n",
       "      <th>2018-03-01 05:00:00</th>\n",
       "      <td>6</td>\n",
       "      <td>3</td>\n",
       "      <td>1</td>\n",
       "      <td>3</td>\n",
       "      <td>5</td>\n",
       "      <td>43.0</td>\n",
       "      <td>66.0</td>\n",
       "      <td>71.0</td>\n",
       "      <td>85.0</td>\n",
       "      <td>124.0</td>\n",
       "      <td>43.0</td>\n",
       "    </tr>\n",
       "    <tr>\n",
       "      <th>2018-03-01 06:00:00</th>\n",
       "      <td>12</td>\n",
       "      <td>3</td>\n",
       "      <td>1</td>\n",
       "      <td>3</td>\n",
       "      <td>6</td>\n",
       "      <td>6.0</td>\n",
       "      <td>43.0</td>\n",
       "      <td>66.0</td>\n",
       "      <td>71.0</td>\n",
       "      <td>85.0</td>\n",
       "      <td>6.0</td>\n",
       "    </tr>\n",
       "    <tr>\n",
       "      <th>2018-03-01 07:00:00</th>\n",
       "      <td>15</td>\n",
       "      <td>3</td>\n",
       "      <td>1</td>\n",
       "      <td>3</td>\n",
       "      <td>7</td>\n",
       "      <td>12.0</td>\n",
       "      <td>6.0</td>\n",
       "      <td>43.0</td>\n",
       "      <td>66.0</td>\n",
       "      <td>71.0</td>\n",
       "      <td>12.0</td>\n",
       "    </tr>\n",
       "    <tr>\n",
       "      <th>2018-03-01 08:00:00</th>\n",
       "      <td>34</td>\n",
       "      <td>3</td>\n",
       "      <td>1</td>\n",
       "      <td>3</td>\n",
       "      <td>8</td>\n",
       "      <td>15.0</td>\n",
       "      <td>12.0</td>\n",
       "      <td>6.0</td>\n",
       "      <td>43.0</td>\n",
       "      <td>66.0</td>\n",
       "      <td>15.0</td>\n",
       "    </tr>\n",
       "    <tr>\n",
       "      <th>2018-03-01 09:00:00</th>\n",
       "      <td>69</td>\n",
       "      <td>3</td>\n",
       "      <td>1</td>\n",
       "      <td>3</td>\n",
       "      <td>9</td>\n",
       "      <td>34.0</td>\n",
       "      <td>15.0</td>\n",
       "      <td>12.0</td>\n",
       "      <td>6.0</td>\n",
       "      <td>43.0</td>\n",
       "      <td>34.0</td>\n",
       "    </tr>\n",
       "    <tr>\n",
       "      <th>...</th>\n",
       "      <td>...</td>\n",
       "      <td>...</td>\n",
       "      <td>...</td>\n",
       "      <td>...</td>\n",
       "      <td>...</td>\n",
       "      <td>...</td>\n",
       "      <td>...</td>\n",
       "      <td>...</td>\n",
       "      <td>...</td>\n",
       "      <td>...</td>\n",
       "      <td>...</td>\n",
       "    </tr>\n",
       "    <tr>\n",
       "      <th>2018-08-31 19:00:00</th>\n",
       "      <td>136</td>\n",
       "      <td>8</td>\n",
       "      <td>31</td>\n",
       "      <td>4</td>\n",
       "      <td>19</td>\n",
       "      <td>207.0</td>\n",
       "      <td>217.0</td>\n",
       "      <td>197.0</td>\n",
       "      <td>116.0</td>\n",
       "      <td>133.0</td>\n",
       "      <td>207.0</td>\n",
       "    </tr>\n",
       "    <tr>\n",
       "      <th>2018-08-31 20:00:00</th>\n",
       "      <td>154</td>\n",
       "      <td>8</td>\n",
       "      <td>31</td>\n",
       "      <td>4</td>\n",
       "      <td>20</td>\n",
       "      <td>136.0</td>\n",
       "      <td>207.0</td>\n",
       "      <td>217.0</td>\n",
       "      <td>197.0</td>\n",
       "      <td>116.0</td>\n",
       "      <td>136.0</td>\n",
       "    </tr>\n",
       "    <tr>\n",
       "      <th>2018-08-31 21:00:00</th>\n",
       "      <td>159</td>\n",
       "      <td>8</td>\n",
       "      <td>31</td>\n",
       "      <td>4</td>\n",
       "      <td>21</td>\n",
       "      <td>154.0</td>\n",
       "      <td>136.0</td>\n",
       "      <td>207.0</td>\n",
       "      <td>217.0</td>\n",
       "      <td>197.0</td>\n",
       "      <td>154.0</td>\n",
       "    </tr>\n",
       "    <tr>\n",
       "      <th>2018-08-31 22:00:00</th>\n",
       "      <td>223</td>\n",
       "      <td>8</td>\n",
       "      <td>31</td>\n",
       "      <td>4</td>\n",
       "      <td>22</td>\n",
       "      <td>159.0</td>\n",
       "      <td>154.0</td>\n",
       "      <td>136.0</td>\n",
       "      <td>207.0</td>\n",
       "      <td>217.0</td>\n",
       "      <td>159.0</td>\n",
       "    </tr>\n",
       "    <tr>\n",
       "      <th>2018-08-31 23:00:00</th>\n",
       "      <td>205</td>\n",
       "      <td>8</td>\n",
       "      <td>31</td>\n",
       "      <td>4</td>\n",
       "      <td>23</td>\n",
       "      <td>223.0</td>\n",
       "      <td>159.0</td>\n",
       "      <td>154.0</td>\n",
       "      <td>136.0</td>\n",
       "      <td>207.0</td>\n",
       "      <td>223.0</td>\n",
       "    </tr>\n",
       "  </tbody>\n",
       "</table>\n",
       "<p>4411 rows × 11 columns</p>\n",
       "</div>"
      ],
      "text/plain": [
       "                     num_orders  month  day  dayofweek  hour  lag_1  lag_2  \\\n",
       "datetime                                                                     \n",
       "2018-03-01 05:00:00           6      3    1          3     5   43.0   66.0   \n",
       "2018-03-01 06:00:00          12      3    1          3     6    6.0   43.0   \n",
       "2018-03-01 07:00:00          15      3    1          3     7   12.0    6.0   \n",
       "2018-03-01 08:00:00          34      3    1          3     8   15.0   12.0   \n",
       "2018-03-01 09:00:00          69      3    1          3     9   34.0   15.0   \n",
       "...                         ...    ...  ...        ...   ...    ...    ...   \n",
       "2018-08-31 19:00:00         136      8   31          4    19  207.0  217.0   \n",
       "2018-08-31 20:00:00         154      8   31          4    20  136.0  207.0   \n",
       "2018-08-31 21:00:00         159      8   31          4    21  154.0  136.0   \n",
       "2018-08-31 22:00:00         223      8   31          4    22  159.0  154.0   \n",
       "2018-08-31 23:00:00         205      8   31          4    23  223.0  159.0   \n",
       "\n",
       "                     lag_3  lag_4  lag_5  rolling_mean  \n",
       "datetime                                                \n",
       "2018-03-01 05:00:00   71.0   85.0  124.0          43.0  \n",
       "2018-03-01 06:00:00   66.0   71.0   85.0           6.0  \n",
       "2018-03-01 07:00:00   43.0   66.0   71.0          12.0  \n",
       "2018-03-01 08:00:00    6.0   43.0   66.0          15.0  \n",
       "2018-03-01 09:00:00   12.0    6.0   43.0          34.0  \n",
       "...                    ...    ...    ...           ...  \n",
       "2018-08-31 19:00:00  197.0  116.0  133.0         207.0  \n",
       "2018-08-31 20:00:00  217.0  197.0  116.0         136.0  \n",
       "2018-08-31 21:00:00  207.0  217.0  197.0         154.0  \n",
       "2018-08-31 22:00:00  136.0  207.0  217.0         159.0  \n",
       "2018-08-31 23:00:00  154.0  136.0  207.0         223.0  \n",
       "\n",
       "[4411 rows x 11 columns]"
      ]
     },
     "execution_count": 18,
     "metadata": {},
     "output_type": "execute_result"
    }
   ],
   "source": [
    "data_new"
   ]
  },
  {
   "cell_type": "code",
   "execution_count": null,
   "id": "25e300b4",
   "metadata": {},
   "outputs": [],
   "source": []
  },
  {
   "cell_type": "code",
   "execution_count": 19,
   "id": "924d6cce",
   "metadata": {},
   "outputs": [
    {
     "data": {
      "text/plain": [
       "(4416, 1)"
      ]
     },
     "execution_count": 19,
     "metadata": {},
     "output_type": "execute_result"
    }
   ],
   "source": [
    "data.shape"
   ]
  },
  {
   "cell_type": "code",
   "execution_count": 20,
   "id": "5efc2a16",
   "metadata": {},
   "outputs": [
    {
     "data": {
      "text/plain": [
       "(4411, 11)"
      ]
     },
     "execution_count": 20,
     "metadata": {},
     "output_type": "execute_result"
    }
   ],
   "source": [
    "data_new.shape"
   ]
  },
  {
   "cell_type": "code",
   "execution_count": 21,
   "id": "e490a0df",
   "metadata": {},
   "outputs": [
    {
     "data": {
      "text/html": [
       "<div>\n",
       "<style scoped>\n",
       "    .dataframe tbody tr th:only-of-type {\n",
       "        vertical-align: middle;\n",
       "    }\n",
       "\n",
       "    .dataframe tbody tr th {\n",
       "        vertical-align: top;\n",
       "    }\n",
       "\n",
       "    .dataframe thead th {\n",
       "        text-align: right;\n",
       "    }\n",
       "</style>\n",
       "<table border=\"1\" class=\"dataframe\">\n",
       "  <thead>\n",
       "    <tr style=\"text-align: right;\">\n",
       "      <th></th>\n",
       "      <th>num_orders</th>\n",
       "    </tr>\n",
       "    <tr>\n",
       "      <th>datetime</th>\n",
       "      <th></th>\n",
       "    </tr>\n",
       "  </thead>\n",
       "  <tbody>\n",
       "    <tr>\n",
       "      <th>2018-03-01 00:00:00</th>\n",
       "      <td>124</td>\n",
       "    </tr>\n",
       "    <tr>\n",
       "      <th>2018-03-01 01:00:00</th>\n",
       "      <td>85</td>\n",
       "    </tr>\n",
       "    <tr>\n",
       "      <th>2018-03-01 02:00:00</th>\n",
       "      <td>71</td>\n",
       "    </tr>\n",
       "    <tr>\n",
       "      <th>2018-03-01 03:00:00</th>\n",
       "      <td>66</td>\n",
       "    </tr>\n",
       "    <tr>\n",
       "      <th>2018-03-01 04:00:00</th>\n",
       "      <td>43</td>\n",
       "    </tr>\n",
       "    <tr>\n",
       "      <th>...</th>\n",
       "      <td>...</td>\n",
       "    </tr>\n",
       "    <tr>\n",
       "      <th>2018-08-31 19:00:00</th>\n",
       "      <td>136</td>\n",
       "    </tr>\n",
       "    <tr>\n",
       "      <th>2018-08-31 20:00:00</th>\n",
       "      <td>154</td>\n",
       "    </tr>\n",
       "    <tr>\n",
       "      <th>2018-08-31 21:00:00</th>\n",
       "      <td>159</td>\n",
       "    </tr>\n",
       "    <tr>\n",
       "      <th>2018-08-31 22:00:00</th>\n",
       "      <td>223</td>\n",
       "    </tr>\n",
       "    <tr>\n",
       "      <th>2018-08-31 23:00:00</th>\n",
       "      <td>205</td>\n",
       "    </tr>\n",
       "  </tbody>\n",
       "</table>\n",
       "<p>4416 rows × 1 columns</p>\n",
       "</div>"
      ],
      "text/plain": [
       "                     num_orders\n",
       "datetime                       \n",
       "2018-03-01 00:00:00         124\n",
       "2018-03-01 01:00:00          85\n",
       "2018-03-01 02:00:00          71\n",
       "2018-03-01 03:00:00          66\n",
       "2018-03-01 04:00:00          43\n",
       "...                         ...\n",
       "2018-08-31 19:00:00         136\n",
       "2018-08-31 20:00:00         154\n",
       "2018-08-31 21:00:00         159\n",
       "2018-08-31 22:00:00         223\n",
       "2018-08-31 23:00:00         205\n",
       "\n",
       "[4416 rows x 1 columns]"
      ]
     },
     "execution_count": 21,
     "metadata": {},
     "output_type": "execute_result"
    }
   ],
   "source": [
    "data"
   ]
  },
  {
   "cell_type": "code",
   "execution_count": 22,
   "id": "03af6141",
   "metadata": {},
   "outputs": [
    {
     "data": {
      "text/plain": [
       "[Text(0.5, 0, 'Временной промежуток по месяцам')]"
      ]
     },
     "execution_count": 22,
     "metadata": {},
     "output_type": "execute_result"
    },
    {
     "data": {
      "image/png": "[encoded data removed]",
      "text/plain": [
       "<Figure size 432x288 with 1 Axes>"
      ]
     },
     "metadata": {
      "needs_background": "light"
     },
     "output_type": "display_data"
    }
   ],
   "source": [
    "data_new.groupby('month')['num_orders'].sum().plot().set(xlabel='Временной промежуток по месяцам')"
   ]
  },
  {
   "cell_type": "code",
   "execution_count": 23,
   "id": "93d25484",
   "metadata": {},
   "outputs": [
    {
     "data": {
      "text/plain": [
       "[Text(0.5, 0, 'Временной промежуток по дням месяца')]"
      ]
     },
     "execution_count": 23,
     "metadata": {},
     "output_type": "execute_result"
    },
    {
     "data": {
      "image/png": "[encoded data removed]",
      "text/plain": [
       "<Figure size 432x288 with 1 Axes>"
      ]
     },
     "metadata": {
      "needs_background": "light"
     },
     "output_type": "display_data"
    }
   ],
   "source": [
    "data_new.groupby('day')['num_orders'].sum().plot().set(xlabel='Временной промежуток по дням месяца')"
   ]
  },
  {
   "cell_type": "code",
   "execution_count": 24,
   "id": "e5aa0974",
   "metadata": {},
   "outputs": [
    {
     "data": {
      "text/plain": [
       "[Text(0.5, 0, 'Временной промежуток по дню недели')]"
      ]
     },
     "execution_count": 24,
     "metadata": {},
     "output_type": "execute_result"
    },
    {
     "data": {
      "image/png": "[encoded data removed]",
      "text/plain": [
       "<Figure size 432x288 with 1 Axes>"
      ]
     },
     "metadata": {
      "needs_background": "light"
     },
     "output_type": "display_data"
    }
   ],
   "source": [
    "data_new.groupby('dayofweek')['num_orders'].sum().plot().set(xlabel='Временной промежуток по дню недели')\n"
   ]
  },
  {
   "cell_type": "code",
   "execution_count": 25,
   "id": "666d6453",
   "metadata": {},
   "outputs": [
    {
     "data": {
      "text/plain": [
       "[Text(0.5, 0, 'Временной промежуток по часам')]"
      ]
     },
     "execution_count": 25,
     "metadata": {},
     "output_type": "execute_result"
    },
    {
     "data": {
      "image/png": "[encoded data removed]",
      "text/plain": [
       "<Figure size 432x288 with 1 Axes>"
      ]
     },
     "metadata": {
      "needs_background": "light"
     },
     "output_type": "display_data"
    }
   ],
   "source": [
    "data_new.groupby('hour')['num_orders'].sum().plot().set(xlabel='Временной промежуток по часам')"
   ]
  },
  {
   "cell_type": "markdown",
   "id": "64549f0a",
   "metadata": {},
   "source": [
    "По графикам видно,что в пятницу и вечером больше всего заказов."
   ]
  },
  {
   "cell_type": "markdown",
   "id": "b974ad05",
   "metadata": {},
   "source": [
    "Разложим данные на три составляющие: тренд, сезонность и остаток. "
   ]
  },
  {
   "cell_type": "code",
   "execution_count": 26,
   "id": "9c66a4e7",
   "metadata": {},
   "outputs": [],
   "source": [
    "decomposed = seasonal_decompose(data)"
   ]
  },
  {
   "cell_type": "code",
   "execution_count": 27,
   "id": "50dce58d",
   "metadata": {},
   "outputs": [
    {
     "data": {
      "text/plain": [
       "[Text(0.5, 0, 'Временной промежуток'), Text(0, 0.5, 'ср.р Кол-во заказов')]"
      ]
     },
     "execution_count": 27,
     "metadata": {},
     "output_type": "execute_result"
    },
    {
     "data": {
      "image/png": "[encoded data removed]",
      "text/plain": [
       "<Figure size 432x288 with 1 Axes>"
      ]
     },
     "metadata": {
      "needs_background": "light"
     },
     "output_type": "display_data"
    }
   ],
   "source": [
    "decomposed.trend.plot(\n",
    "        title = 'Тренд',\n",
    " ).set(xlabel='Временной промежуток', ylabel='ср.р Кол-во заказов')"
   ]
  },
  {
   "cell_type": "code",
   "execution_count": 28,
   "id": "1d3cea93",
   "metadata": {},
   "outputs": [
    {
     "data": {
      "text/plain": [
       "[Text(0.5, 0, 'Временной промежуток'), Text(0, 0.5, 'ср.р Кол-во заказов')]"
      ]
     },
     "execution_count": 28,
     "metadata": {},
     "output_type": "execute_result"
    },
    {
     "data": {
      "image/png": "[encoded data removed]",
      "text/plain": [
       "<Figure size 432x288 with 1 Axes>"
      ]
     },
     "metadata": {
      "needs_background": "light"
     },
     "output_type": "display_data"
    }
   ],
   "source": [
    "decomposed.seasonal.plot(\n",
    "        title = 'сезонная составляющая',\n",
    " ).set(xlabel='Временной промежуток', ylabel='ср.р Кол-во заказов')"
   ]
  },
  {
   "cell_type": "code",
   "execution_count": 29,
   "id": "779c9bc2",
   "metadata": {},
   "outputs": [
    {
     "data": {
      "text/plain": [
       "[Text(0.5, 0, 'Временной промежуток за сутки'),\n",
       " Text(0, 0.5, 'ср.р Кол-во заказов')]"
      ]
     },
     "execution_count": 29,
     "metadata": {},
     "output_type": "execute_result"
    },
    {
     "data": {
      "image/png": "[encoded data removed]",
      "text/plain": [
       "<Figure size 432x288 with 1 Axes>"
      ]
     },
     "metadata": {
      "needs_background": "light"
     },
     "output_type": "display_data"
    }
   ],
   "source": [
    "decomposed.seasonal.tail(24*7).plot(\n",
    "        title = 'Суточная сезонная составляющая',\n",
    " ).set(xlabel='Временной промежуток за сутки', ylabel='ср.р Кол-во заказов')"
   ]
  },
  {
   "cell_type": "code",
   "execution_count": 30,
   "id": "5e9a6c5b",
   "metadata": {},
   "outputs": [
    {
     "data": {
      "text/plain": [
       "[Text(0.5, 0, 'Временной промежуток'), Text(0, 0.5, 'ср.р Кол-во заказов')]"
      ]
     },
     "execution_count": 30,
     "metadata": {},
     "output_type": "execute_result"
    },
    {
     "data": {
      "image/png": "[encoded data removed]",
      "text/plain": [
       "<Figure size 432x288 with 1 Axes>"
      ]
     },
     "metadata": {
      "needs_background": "light"
     },
     "output_type": "display_data"
    }
   ],
   "source": [
    "decomposed.resid.plot(\n",
    "        title = 'сезонная составляющая',\n",
    " ).set(xlabel='Временной промежуток', ylabel='ср.р Кол-во заказов')"
   ]
  },
  {
   "cell_type": "code",
   "execution_count": 31,
   "id": "5feb1455",
   "metadata": {},
   "outputs": [],
   "source": [
    "#from matplotlib import pyplot\n",
    "#from statsmodels.tsa.seasonal import seasonal_decompose\n",
    "#result = seasonal_decompose(data)\n",
    "#result.plot()\n",
    "#pyplot.show()"
   ]
  },
  {
   "cell_type": "markdown",
   "id": "f0c5bba1",
   "metadata": {},
   "source": [
    "## Вывод:\n",
    "Наблюдается равномерный рост заказов со временем<br>\n",
    "Присутствует законномерности кол-во заказав в течении дня - спад ночью, рост с утра и днем, пик к вечеру<br>\n",
    "Пятница на недели самый загружженый день<br>"
   ]
  },
  {
   "cell_type": "markdown",
   "id": "444e5116",
   "metadata": {},
   "source": [
    "<div class=\"alert alert-block alert-success\">\n",
    "<b>Успех:</b> Декомпозиция была сделана верно. Хорошо, что сезонность была визуализирована на более коротком интервале!\n",
    "</div>"
   ]
  },
  {
   "cell_type": "markdown",
   "id": "ed137c0c",
   "metadata": {},
   "source": [
    "## Обучение"
   ]
  },
  {
   "cell_type": "markdown",
   "id": "137fcc23",
   "metadata": {},
   "source": [
    "Разделим данные на обучающую и тестовую выборки"
   ]
  },
  {
   "cell_type": "code",
   "execution_count": 32,
   "id": "c1e94e8f",
   "metadata": {},
   "outputs": [],
   "source": [
    "features = data_new.drop(['num_orders'], axis=1) \n",
    "target = data_new['num_orders']"
   ]
  },
  {
   "cell_type": "markdown",
   "id": "3811bb15",
   "metadata": {},
   "source": [
    "Обучите разные модели с различными гиперпараметрами. Сделайте тестовую выборку размером 10% от исходных данных."
   ]
  },
  {
   "cell_type": "code",
   "execution_count": 33,
   "id": "6f8d45a2",
   "metadata": {},
   "outputs": [],
   "source": [
    "features_train, features_valid, target_train, target_valid = train_test_split(features, target,  test_size=0.5, shuffle=False,random_state=12345)\n",
    "\n",
    "features_valid, features_test, target_valid, target_test = train_test_split(features_valid, target_valid, test_size=0.2, shuffle=False, random_state=12345) "
   ]
  },
  {
   "cell_type": "code",
   "execution_count": 34,
   "id": "cebbe144",
   "metadata": {},
   "outputs": [],
   "source": [
    "features_train = features_train.dropna()\n",
    "features_test = features_test.dropna()\n",
    "features_valid = features_valid.dropna()\n",
    "target_train = target_train.dropna()\n",
    "target_test = target_test.dropna()\n",
    "target_valid = target_valid.dropna()"
   ]
  },
  {
   "cell_type": "code",
   "execution_count": 35,
   "id": "f3babcbc",
   "metadata": {},
   "outputs": [
    {
     "name": "stdout",
     "output_type": "stream",
     "text": [
      "(2205, 10)\n",
      "(1764, 10)\n",
      "(442, 10)\n",
      "(2205,)\n",
      "(1764,)\n",
      "(442,)\n"
     ]
    }
   ],
   "source": [
    "print(features_train.shape)\n",
    "print(features_valid.shape)\n",
    "print(features_test.shape)\n",
    "print(target_train.shape)\n",
    "print(target_valid.shape)\n",
    "print(target_test.shape)"
   ]
  },
  {
   "cell_type": "code",
   "execution_count": 74,
   "id": "e5c089f3",
   "metadata": {},
   "outputs": [
    {
     "data": {
      "text/plain": [
       "(4416, 1)"
      ]
     },
     "execution_count": 74,
     "metadata": {},
     "output_type": "execute_result"
    }
   ],
   "source": [
    "data.shape"
   ]
  },
  {
   "cell_type": "code",
   "execution_count": 76,
   "id": "c6450520",
   "metadata": {},
   "outputs": [
    {
     "data": {
      "text/plain": [
       "0.10009057971014493"
      ]
     },
     "execution_count": 76,
     "metadata": {},
     "output_type": "execute_result"
    }
   ],
   "source": [
    "442/4416"
   ]
  },
  {
   "cell_type": "markdown",
   "id": "eda425aa",
   "metadata": {},
   "source": [
    "Линейная регрессия"
   ]
  },
  {
   "cell_type": "code",
   "execution_count": 77,
   "id": "c17b9204",
   "metadata": {},
   "outputs": [
    {
     "name": "stdout",
     "output_type": "stream",
     "text": [
      "RMSE обучающей выборки: 27.118902777811353\n",
      "RMSE валидациооной выборки:  35.014538349859045\n"
     ]
    }
   ],
   "source": [
    "model_lr = LinearRegression()\n",
    " \n",
    "model_lr.fit(features_train, target_train)\n",
    " \n",
    "train_pred_lr = model_lr.predict(features_train)\n",
    "test_pred_lr = model_lr.predict(features_valid)\n",
    "\n",
    "RMSE_train_lr  = mean_squared_error(target_train, train_pred_lr, squared=False)\n",
    "RMSE_test_lr = mean_squared_error(target_valid, test_pred_lr, squared=False)\n",
    "\n",
    "print(\"RMSE обучающей выборки:\", RMSE_train_lr)\n",
    "print(\"RMSE валидациооной выборки: \", RMSE_test_lr)"
   ]
  },
  {
   "cell_type": "markdown",
   "id": "9d4e3dbd",
   "metadata": {},
   "source": [
    "Древо решений"
   ]
  },
  {
   "cell_type": "code",
   "execution_count": 78,
   "id": "a3af8f90",
   "metadata": {},
   "outputs": [],
   "source": [
    "param = {\"max_depth\": list(range(4,30,2)),\n",
    "                 \"min_samples_leaf\": list(range(10, 80,10)),\n",
    "                 \"max_leaf_nodes\": list(range(10, 80,10)), }"
   ]
  },
  {
   "cell_type": "code",
   "execution_count": 80,
   "id": "df39376c",
   "metadata": {},
   "outputs": [
    {
     "name": "stdout",
     "output_type": "stream",
     "text": [
      "Лучшие параметры: {'min_samples_leaf': 10, 'max_leaf_nodes': 70, 'max_depth': 20}\n",
      "RMSE обучающей выборки: 17.964418333741502\n",
      "RMSE валидациооной выборки:  37.54961989349251\n"
     ]
    }
   ],
   "source": [
    "DTS = DecisionTreeRegressor() \n",
    "model_dts = RandomizedSearchCV(estimator=DTS,\n",
    "                                      param_distributions= param,  scoring='neg_mean_squared_error', random_state=12345, n_jobs=-1, cv=TimeSeriesSplit())\n",
    "\n",
    "model_dts.fit(features_train, target_train)\n",
    "\n",
    "train_pred_dts = model_dts.predict(features_train)\n",
    "test_pred_dts = model_dts.predict(features_valid)\n",
    "\n",
    "RMSE_train_dts  = mean_squared_error(target_train, train_pred_dts, squared=False)\n",
    "RMSE_test_dts  = mean_squared_error(target_valid, test_pred_dts, squared=False)\n",
    "\n",
    "print('Лучшие параметры:', model_dts.best_params_)\n",
    "print(\"RMSE обучающей выборки:\", RMSE_train_dts)\n",
    "print(\"RMSE валидациооной выборки: \", RMSE_test_dts)"
   ]
  },
  {
   "cell_type": "markdown",
   "id": "cc06395d",
   "metadata": {},
   "source": [
    "<div class=\"alert alert-block alert-success\">\n",
    "<b>Успех:</b> Отлично!\n",
    "</div>"
   ]
  },
  {
   "cell_type": "code",
   "execution_count": 81,
   "id": "5389dfce",
   "metadata": {},
   "outputs": [
    {
     "name": "stdout",
     "output_type": "stream",
     "text": [
      "CPU times: user 2 µs, sys: 0 ns, total: 2 µs\n",
      "Wall time: 5.01 µs\n",
      "Learning rate set to 0.046391\n",
      "0:\tlearn: 32.2732975\ttotal: 49.1ms\tremaining: 49s\n",
      "1:\tlearn: 31.7105150\ttotal: 51.2ms\tremaining: 25.5s\n",
      "2:\tlearn: 31.0860543\ttotal: 53.3ms\tremaining: 17.7s\n",
      "3:\tlearn: 30.6736809\ttotal: 55.3ms\tremaining: 13.8s\n",
      "4:\tlearn: 30.1968153\ttotal: 57.3ms\tremaining: 11.4s\n",
      "5:\tlearn: 29.6701213\ttotal: 59.3ms\tremaining: 9.82s\n",
      "6:\tlearn: 29.1859851\ttotal: 60.7ms\tremaining: 8.61s\n",
      "7:\tlearn: 28.7177179\ttotal: 62ms\tremaining: 7.68s\n",
      "8:\tlearn: 28.3668534\ttotal: 64.3ms\tremaining: 7.08s\n",
      "9:\tlearn: 27.9698975\ttotal: 66.4ms\tremaining: 6.58s\n",
      "10:\tlearn: 27.6363322\ttotal: 68.6ms\tremaining: 6.17s\n",
      "11:\tlearn: 27.3065786\ttotal: 71ms\tremaining: 5.84s\n",
      "12:\tlearn: 26.9849082\ttotal: 72.9ms\tremaining: 5.53s\n",
      "13:\tlearn: 26.6695787\ttotal: 74.4ms\tremaining: 5.24s\n",
      "14:\tlearn: 26.3465975\ttotal: 75.9ms\tremaining: 4.98s\n",
      "15:\tlearn: 26.0589938\ttotal: 77.4ms\tremaining: 4.76s\n",
      "16:\tlearn: 25.8628752\ttotal: 79ms\tremaining: 4.57s\n",
      "17:\tlearn: 25.6491860\ttotal: 80.6ms\tremaining: 4.4s\n",
      "18:\tlearn: 25.4448887\ttotal: 82.2ms\tremaining: 4.24s\n",
      "19:\tlearn: 25.2535642\ttotal: 83.6ms\tremaining: 4.1s\n",
      "20:\tlearn: 25.0573068\ttotal: 85.1ms\tremaining: 3.96s\n",
      "21:\tlearn: 24.9174376\ttotal: 86.6ms\tremaining: 3.85s\n",
      "22:\tlearn: 24.7171460\ttotal: 87.9ms\tremaining: 3.73s\n",
      "23:\tlearn: 24.5621621\ttotal: 89.3ms\tremaining: 3.63s\n",
      "24:\tlearn: 24.4440558\ttotal: 91.6ms\tremaining: 3.57s\n",
      "25:\tlearn: 24.3033907\ttotal: 93.8ms\tremaining: 3.51s\n",
      "26:\tlearn: 24.1068153\ttotal: 96ms\tremaining: 3.46s\n",
      "27:\tlearn: 24.0102862\ttotal: 98.2ms\tremaining: 3.41s\n",
      "28:\tlearn: 23.9276395\ttotal: 100ms\tremaining: 3.36s\n",
      "29:\tlearn: 23.7656134\ttotal: 102ms\tremaining: 3.31s\n",
      "30:\tlearn: 23.6146224\ttotal: 105ms\tremaining: 3.28s\n",
      "31:\tlearn: 23.5032834\ttotal: 107ms\tremaining: 3.24s\n",
      "32:\tlearn: 23.3929571\ttotal: 109ms\tremaining: 3.21s\n",
      "33:\tlearn: 23.3344925\ttotal: 112ms\tremaining: 3.17s\n",
      "34:\tlearn: 23.2364391\ttotal: 114ms\tremaining: 3.14s\n",
      "35:\tlearn: 23.0896859\ttotal: 116ms\tremaining: 3.11s\n",
      "36:\tlearn: 23.0225199\ttotal: 118ms\tremaining: 3.08s\n",
      "37:\tlearn: 22.9143469\ttotal: 120ms\tremaining: 3.03s\n",
      "38:\tlearn: 22.7730174\ttotal: 121ms\tremaining: 2.99s\n",
      "39:\tlearn: 22.6421488\ttotal: 123ms\tremaining: 2.95s\n",
      "40:\tlearn: 22.5467211\ttotal: 125ms\tremaining: 2.92s\n",
      "41:\tlearn: 22.4828266\ttotal: 126ms\tremaining: 2.88s\n",
      "42:\tlearn: 22.3684874\ttotal: 128ms\tremaining: 2.84s\n",
      "43:\tlearn: 22.2441587\ttotal: 129ms\tremaining: 2.8s\n",
      "44:\tlearn: 22.1865213\ttotal: 130ms\tremaining: 2.76s\n",
      "45:\tlearn: 22.0968823\ttotal: 132ms\tremaining: 2.73s\n",
      "46:\tlearn: 22.0099089\ttotal: 133ms\tremaining: 2.7s\n",
      "47:\tlearn: 21.9121703\ttotal: 135ms\tremaining: 2.67s\n",
      "48:\tlearn: 21.8699033\ttotal: 136ms\tremaining: 2.64s\n",
      "49:\tlearn: 21.8263864\ttotal: 138ms\tremaining: 2.61s\n",
      "50:\tlearn: 21.7294302\ttotal: 139ms\tremaining: 2.58s\n",
      "51:\tlearn: 21.6580723\ttotal: 141ms\tremaining: 2.56s\n",
      "52:\tlearn: 21.5761532\ttotal: 142ms\tremaining: 2.54s\n",
      "53:\tlearn: 21.5084019\ttotal: 143ms\tremaining: 2.51s\n",
      "54:\tlearn: 21.4491134\ttotal: 145ms\tremaining: 2.49s\n",
      "55:\tlearn: 21.3596403\ttotal: 146ms\tremaining: 2.46s\n",
      "56:\tlearn: 21.3114892\ttotal: 148ms\tremaining: 2.44s\n",
      "57:\tlearn: 21.2833073\ttotal: 149ms\tremaining: 2.42s\n",
      "58:\tlearn: 21.2358505\ttotal: 150ms\tremaining: 2.4s\n",
      "59:\tlearn: 21.1692421\ttotal: 152ms\tremaining: 2.38s\n",
      "60:\tlearn: 21.1203596\ttotal: 153ms\tremaining: 2.36s\n",
      "61:\tlearn: 21.0590630\ttotal: 155ms\tremaining: 2.34s\n",
      "62:\tlearn: 21.0061110\ttotal: 156ms\tremaining: 2.32s\n",
      "63:\tlearn: 20.9565384\ttotal: 158ms\tremaining: 2.3s\n",
      "64:\tlearn: 20.8959845\ttotal: 159ms\tremaining: 2.29s\n",
      "65:\tlearn: 20.8713526\ttotal: 160ms\tremaining: 2.27s\n",
      "66:\tlearn: 20.8369541\ttotal: 162ms\tremaining: 2.25s\n",
      "67:\tlearn: 20.8036419\ttotal: 163ms\tremaining: 2.24s\n",
      "68:\tlearn: 20.7450774\ttotal: 165ms\tremaining: 2.22s\n",
      "69:\tlearn: 20.6975230\ttotal: 166ms\tremaining: 2.21s\n",
      "70:\tlearn: 20.6290278\ttotal: 168ms\tremaining: 2.19s\n",
      "71:\tlearn: 20.5880981\ttotal: 169ms\tremaining: 2.18s\n",
      "72:\tlearn: 20.5398879\ttotal: 171ms\tremaining: 2.17s\n",
      "73:\tlearn: 20.4764041\ttotal: 172ms\tremaining: 2.15s\n",
      "74:\tlearn: 20.4091763\ttotal: 174ms\tremaining: 2.14s\n",
      "75:\tlearn: 20.3569203\ttotal: 175ms\tremaining: 2.13s\n",
      "76:\tlearn: 20.3163386\ttotal: 176ms\tremaining: 2.11s\n",
      "77:\tlearn: 20.2504672\ttotal: 178ms\tremaining: 2.1s\n",
      "78:\tlearn: 20.2192424\ttotal: 179ms\tremaining: 2.09s\n",
      "79:\tlearn: 20.1937885\ttotal: 181ms\tremaining: 2.08s\n",
      "80:\tlearn: 20.1599679\ttotal: 182ms\tremaining: 2.06s\n",
      "81:\tlearn: 20.0906818\ttotal: 184ms\tremaining: 2.06s\n",
      "82:\tlearn: 20.0683657\ttotal: 185ms\tremaining: 2.04s\n",
      "83:\tlearn: 20.0526915\ttotal: 187ms\tremaining: 2.03s\n",
      "84:\tlearn: 20.0258279\ttotal: 188ms\tremaining: 2.02s\n",
      "85:\tlearn: 20.0114314\ttotal: 189ms\tremaining: 2.01s\n",
      "86:\tlearn: 19.9627308\ttotal: 191ms\tremaining: 2s\n",
      "87:\tlearn: 19.9212394\ttotal: 192ms\tremaining: 1.99s\n",
      "88:\tlearn: 19.8936234\ttotal: 194ms\tremaining: 1.98s\n",
      "89:\tlearn: 19.8796923\ttotal: 195ms\tremaining: 1.97s\n",
      "90:\tlearn: 19.8371562\ttotal: 197ms\tremaining: 1.96s\n",
      "91:\tlearn: 19.7963999\ttotal: 198ms\tremaining: 1.95s\n",
      "92:\tlearn: 19.7384735\ttotal: 200ms\tremaining: 1.95s\n",
      "93:\tlearn: 19.6960755\ttotal: 201ms\tremaining: 1.94s\n",
      "94:\tlearn: 19.6557212\ttotal: 202ms\tremaining: 1.93s\n",
      "95:\tlearn: 19.6408637\ttotal: 204ms\tremaining: 1.92s\n",
      "96:\tlearn: 19.6328843\ttotal: 205ms\tremaining: 1.9s\n",
      "97:\tlearn: 19.6024723\ttotal: 206ms\tremaining: 1.89s\n",
      "98:\tlearn: 19.5756307\ttotal: 208ms\tremaining: 1.89s\n",
      "99:\tlearn: 19.5462219\ttotal: 209ms\tremaining: 1.88s\n",
      "100:\tlearn: 19.5093151\ttotal: 211ms\tremaining: 1.87s\n",
      "101:\tlearn: 19.4823844\ttotal: 213ms\tremaining: 1.88s\n",
      "102:\tlearn: 19.4491440\ttotal: 215ms\tremaining: 1.87s\n",
      "103:\tlearn: 19.4338602\ttotal: 216ms\tremaining: 1.86s\n",
      "104:\tlearn: 19.3946852\ttotal: 218ms\tremaining: 1.86s\n",
      "105:\tlearn: 19.3563148\ttotal: 219ms\tremaining: 1.85s\n",
      "106:\tlearn: 19.3279506\ttotal: 221ms\tremaining: 1.84s\n",
      "107:\tlearn: 19.3089435\ttotal: 222ms\tremaining: 1.83s\n",
      "108:\tlearn: 19.2697407\ttotal: 224ms\tremaining: 1.83s\n",
      "109:\tlearn: 19.2381331\ttotal: 225ms\tremaining: 1.82s\n",
      "110:\tlearn: 19.2018705\ttotal: 226ms\tremaining: 1.81s\n",
      "111:\tlearn: 19.1873732\ttotal: 228ms\tremaining: 1.81s\n",
      "112:\tlearn: 19.1688694\ttotal: 229ms\tremaining: 1.8s\n",
      "113:\tlearn: 19.1055529\ttotal: 231ms\tremaining: 1.79s\n",
      "114:\tlearn: 19.0841336\ttotal: 232ms\tremaining: 1.78s\n",
      "115:\tlearn: 19.0422234\ttotal: 234ms\tremaining: 1.78s\n",
      "116:\tlearn: 19.0150200\ttotal: 236ms\tremaining: 1.78s\n",
      "117:\tlearn: 18.9647960\ttotal: 237ms\tremaining: 1.77s\n",
      "118:\tlearn: 18.9246415\ttotal: 239ms\tremaining: 1.77s\n",
      "119:\tlearn: 18.8974869\ttotal: 241ms\tremaining: 1.76s\n",
      "120:\tlearn: 18.8723049\ttotal: 242ms\tremaining: 1.76s\n",
      "121:\tlearn: 18.8315344\ttotal: 244ms\tremaining: 1.75s\n",
      "122:\tlearn: 18.8176097\ttotal: 245ms\tremaining: 1.75s\n",
      "123:\tlearn: 18.7861793\ttotal: 246ms\tremaining: 1.74s\n",
      "124:\tlearn: 18.7667644\ttotal: 248ms\tremaining: 1.73s\n",
      "125:\tlearn: 18.7325185\ttotal: 249ms\tremaining: 1.73s\n",
      "126:\tlearn: 18.6953973\ttotal: 251ms\tremaining: 1.72s\n",
      "127:\tlearn: 18.6790456\ttotal: 252ms\tremaining: 1.72s\n",
      "128:\tlearn: 18.6333893\ttotal: 254ms\tremaining: 1.71s\n",
      "129:\tlearn: 18.6110687\ttotal: 255ms\tremaining: 1.71s\n",
      "130:\tlearn: 18.5776743\ttotal: 256ms\tremaining: 1.7s\n",
      "131:\tlearn: 18.5678407\ttotal: 258ms\tremaining: 1.69s\n",
      "132:\tlearn: 18.5284079\ttotal: 259ms\tremaining: 1.69s\n",
      "133:\tlearn: 18.5136737\ttotal: 261ms\tremaining: 1.68s\n",
      "134:\tlearn: 18.4703625\ttotal: 262ms\tremaining: 1.68s\n",
      "135:\tlearn: 18.4355921\ttotal: 263ms\tremaining: 1.67s\n",
      "136:\tlearn: 18.4238707\ttotal: 265ms\tremaining: 1.67s\n",
      "137:\tlearn: 18.3996685\ttotal: 266ms\tremaining: 1.66s\n",
      "138:\tlearn: 18.3858618\ttotal: 268ms\tremaining: 1.66s\n",
      "139:\tlearn: 18.3777986\ttotal: 269ms\tremaining: 1.65s\n",
      "140:\tlearn: 18.3394110\ttotal: 271ms\tremaining: 1.65s\n",
      "141:\tlearn: 18.3238315\ttotal: 272ms\tremaining: 1.64s\n",
      "142:\tlearn: 18.3104021\ttotal: 273ms\tremaining: 1.64s\n",
      "143:\tlearn: 18.2847916\ttotal: 275ms\tremaining: 1.63s\n",
      "144:\tlearn: 18.2713773\ttotal: 276ms\tremaining: 1.63s\n",
      "145:\tlearn: 18.2630318\ttotal: 277ms\tremaining: 1.62s\n",
      "146:\tlearn: 18.2165721\ttotal: 279ms\tremaining: 1.62s\n",
      "147:\tlearn: 18.2002988\ttotal: 281ms\tremaining: 1.62s\n",
      "148:\tlearn: 18.1804060\ttotal: 282ms\tremaining: 1.61s\n",
      "149:\tlearn: 18.1624845\ttotal: 284ms\tremaining: 1.61s\n",
      "150:\tlearn: 18.1159564\ttotal: 286ms\tremaining: 1.61s\n",
      "151:\tlearn: 18.0831530\ttotal: 288ms\tremaining: 1.6s\n",
      "152:\tlearn: 18.0688285\ttotal: 289ms\tremaining: 1.6s\n",
      "153:\tlearn: 18.0417929\ttotal: 291ms\tremaining: 1.6s\n",
      "154:\tlearn: 18.0297922\ttotal: 292ms\tremaining: 1.59s\n",
      "155:\tlearn: 18.0059726\ttotal: 294ms\tremaining: 1.59s\n",
      "156:\tlearn: 17.9951201\ttotal: 296ms\tremaining: 1.59s\n",
      "157:\tlearn: 17.9865223\ttotal: 298ms\tremaining: 1.59s\n",
      "158:\tlearn: 17.9738251\ttotal: 301ms\tremaining: 1.59s\n",
      "159:\tlearn: 17.9238916\ttotal: 302ms\tremaining: 1.59s\n",
      "160:\tlearn: 17.9177367\ttotal: 304ms\tremaining: 1.58s\n",
      "161:\tlearn: 17.8953741\ttotal: 306ms\tremaining: 1.58s\n",
      "162:\tlearn: 17.8720230\ttotal: 307ms\tremaining: 1.58s\n",
      "163:\tlearn: 17.8581911\ttotal: 309ms\tremaining: 1.57s\n",
      "164:\tlearn: 17.8426005\ttotal: 310ms\tremaining: 1.57s\n",
      "165:\tlearn: 17.8136665\ttotal: 312ms\tremaining: 1.56s\n",
      "166:\tlearn: 17.7527992\ttotal: 313ms\tremaining: 1.56s\n",
      "167:\tlearn: 17.7177677\ttotal: 314ms\tremaining: 1.56s\n",
      "168:\tlearn: 17.6968761\ttotal: 316ms\tremaining: 1.55s\n",
      "169:\tlearn: 17.6812834\ttotal: 317ms\tremaining: 1.55s\n",
      "170:\tlearn: 17.6525662\ttotal: 319ms\tremaining: 1.54s\n",
      "171:\tlearn: 17.6238520\ttotal: 320ms\tremaining: 1.54s\n",
      "172:\tlearn: 17.6145669\ttotal: 321ms\tremaining: 1.54s\n",
      "173:\tlearn: 17.5959867\ttotal: 323ms\tremaining: 1.53s\n",
      "174:\tlearn: 17.5708510\ttotal: 324ms\tremaining: 1.53s\n",
      "175:\tlearn: 17.5611918\ttotal: 325ms\tremaining: 1.52s\n",
      "176:\tlearn: 17.5337967\ttotal: 327ms\tremaining: 1.52s\n",
      "177:\tlearn: 17.5167538\ttotal: 328ms\tremaining: 1.51s\n",
      "178:\tlearn: 17.4923264\ttotal: 329ms\tremaining: 1.51s\n",
      "179:\tlearn: 17.4726635\ttotal: 331ms\tremaining: 1.51s\n",
      "180:\tlearn: 17.4484781\ttotal: 332ms\tremaining: 1.5s\n",
      "181:\tlearn: 17.4114187\ttotal: 334ms\tremaining: 1.5s\n",
      "182:\tlearn: 17.3782913\ttotal: 335ms\tremaining: 1.5s\n",
      "183:\tlearn: 17.3420454\ttotal: 336ms\tremaining: 1.49s\n",
      "184:\tlearn: 17.3246565\ttotal: 338ms\tremaining: 1.49s\n",
      "185:\tlearn: 17.3002800\ttotal: 339ms\tremaining: 1.48s\n",
      "186:\tlearn: 17.2783103\ttotal: 341ms\tremaining: 1.48s\n",
      "187:\tlearn: 17.2726727\ttotal: 342ms\tremaining: 1.48s\n",
      "188:\tlearn: 17.2683400\ttotal: 344ms\tremaining: 1.47s\n",
      "189:\tlearn: 17.2400939\ttotal: 345ms\tremaining: 1.47s\n",
      "190:\tlearn: 17.2069973\ttotal: 346ms\tremaining: 1.47s\n",
      "191:\tlearn: 17.1959023\ttotal: 348ms\tremaining: 1.46s\n",
      "192:\tlearn: 17.1763043\ttotal: 349ms\tremaining: 1.46s\n",
      "193:\tlearn: 17.1424971\ttotal: 351ms\tremaining: 1.46s\n",
      "194:\tlearn: 17.1110013\ttotal: 353ms\tremaining: 1.46s\n",
      "195:\tlearn: 17.0809433\ttotal: 354ms\tremaining: 1.45s\n",
      "196:\tlearn: 17.0717974\ttotal: 355ms\tremaining: 1.45s\n",
      "197:\tlearn: 17.0554507\ttotal: 357ms\tremaining: 1.45s\n",
      "198:\tlearn: 17.0297057\ttotal: 358ms\tremaining: 1.44s\n",
      "199:\tlearn: 16.9992195\ttotal: 360ms\tremaining: 1.44s\n",
      "200:\tlearn: 16.9931280\ttotal: 361ms\tremaining: 1.44s\n",
      "201:\tlearn: 16.9700339\ttotal: 363ms\tremaining: 1.43s\n",
      "202:\tlearn: 16.9651031\ttotal: 364ms\tremaining: 1.43s\n",
      "203:\tlearn: 16.9324923\ttotal: 365ms\tremaining: 1.43s\n",
      "204:\tlearn: 16.9207434\ttotal: 367ms\tremaining: 1.42s\n",
      "205:\tlearn: 16.9059873\ttotal: 368ms\tremaining: 1.42s\n",
      "206:\tlearn: 16.8949690\ttotal: 369ms\tremaining: 1.42s\n",
      "207:\tlearn: 16.8815207\ttotal: 371ms\tremaining: 1.41s\n",
      "208:\tlearn: 16.8598256\ttotal: 372ms\tremaining: 1.41s\n",
      "209:\tlearn: 16.8434686\ttotal: 373ms\tremaining: 1.4s\n",
      "210:\tlearn: 16.8171305\ttotal: 375ms\tremaining: 1.4s\n",
      "211:\tlearn: 16.7993928\ttotal: 376ms\tremaining: 1.4s\n",
      "212:\tlearn: 16.7728199\ttotal: 378ms\tremaining: 1.4s\n",
      "213:\tlearn: 16.7385390\ttotal: 379ms\tremaining: 1.39s\n",
      "214:\tlearn: 16.7295200\ttotal: 381ms\tremaining: 1.39s\n",
      "215:\tlearn: 16.7227151\ttotal: 382ms\tremaining: 1.39s\n",
      "216:\tlearn: 16.7185490\ttotal: 383ms\tremaining: 1.38s\n",
      "217:\tlearn: 16.7135734\ttotal: 385ms\tremaining: 1.38s\n",
      "218:\tlearn: 16.6918391\ttotal: 386ms\tremaining: 1.38s\n",
      "219:\tlearn: 16.6717878\ttotal: 388ms\tremaining: 1.37s\n",
      "220:\tlearn: 16.6430337\ttotal: 389ms\tremaining: 1.37s\n",
      "221:\tlearn: 16.6386566\ttotal: 390ms\tremaining: 1.37s\n",
      "222:\tlearn: 16.6291561\ttotal: 392ms\tremaining: 1.36s\n",
      "223:\tlearn: 16.6113093\ttotal: 393ms\tremaining: 1.36s\n",
      "224:\tlearn: 16.6017314\ttotal: 394ms\tremaining: 1.36s\n",
      "225:\tlearn: 16.5977747\ttotal: 396ms\tremaining: 1.35s\n",
      "226:\tlearn: 16.5725511\ttotal: 397ms\tremaining: 1.35s\n",
      "227:\tlearn: 16.5675012\ttotal: 398ms\tremaining: 1.35s\n",
      "228:\tlearn: 16.5658834\ttotal: 399ms\tremaining: 1.34s\n",
      "229:\tlearn: 16.5493713\ttotal: 401ms\tremaining: 1.34s\n",
      "230:\tlearn: 16.5200906\ttotal: 402ms\tremaining: 1.34s\n",
      "231:\tlearn: 16.4924961\ttotal: 403ms\tremaining: 1.33s\n",
      "232:\tlearn: 16.4698822\ttotal: 405ms\tremaining: 1.33s\n",
      "233:\tlearn: 16.4477867\ttotal: 406ms\tremaining: 1.33s\n",
      "234:\tlearn: 16.4286435\ttotal: 408ms\tremaining: 1.33s\n",
      "235:\tlearn: 16.4036163\ttotal: 409ms\tremaining: 1.32s\n",
      "236:\tlearn: 16.3988871\ttotal: 410ms\tremaining: 1.32s\n",
      "237:\tlearn: 16.3757867\ttotal: 412ms\tremaining: 1.32s\n",
      "238:\tlearn: 16.3566269\ttotal: 413ms\tremaining: 1.31s\n",
      "239:\tlearn: 16.3393205\ttotal: 414ms\tremaining: 1.31s\n",
      "240:\tlearn: 16.3146500\ttotal: 416ms\tremaining: 1.31s\n",
      "241:\tlearn: 16.2965154\ttotal: 417ms\tremaining: 1.31s\n",
      "242:\tlearn: 16.2737828\ttotal: 419ms\tremaining: 1.3s\n",
      "243:\tlearn: 16.2607576\ttotal: 420ms\tremaining: 1.3s\n",
      "244:\tlearn: 16.2563945\ttotal: 422ms\tremaining: 1.3s\n",
      "245:\tlearn: 16.2379757\ttotal: 423ms\tremaining: 1.3s\n",
      "246:\tlearn: 16.2214644\ttotal: 424ms\tremaining: 1.29s\n",
      "247:\tlearn: 16.2109460\ttotal: 425ms\tremaining: 1.29s\n",
      "248:\tlearn: 16.2048052\ttotal: 427ms\tremaining: 1.29s\n",
      "249:\tlearn: 16.1996482\ttotal: 428ms\tremaining: 1.28s\n",
      "250:\tlearn: 16.1826416\ttotal: 429ms\tremaining: 1.28s\n",
      "251:\tlearn: 16.1617391\ttotal: 431ms\tremaining: 1.28s\n",
      "252:\tlearn: 16.1417707\ttotal: 432ms\tremaining: 1.28s\n",
      "253:\tlearn: 16.1183902\ttotal: 434ms\tremaining: 1.27s\n",
      "254:\tlearn: 16.1023572\ttotal: 435ms\tremaining: 1.27s\n",
      "255:\tlearn: 16.0817094\ttotal: 436ms\tremaining: 1.27s\n",
      "256:\tlearn: 16.0585398\ttotal: 438ms\tremaining: 1.26s\n",
      "257:\tlearn: 16.0308656\ttotal: 439ms\tremaining: 1.26s\n",
      "258:\tlearn: 16.0263368\ttotal: 440ms\tremaining: 1.26s\n",
      "259:\tlearn: 16.0081280\ttotal: 442ms\tremaining: 1.26s\n",
      "260:\tlearn: 15.9958817\ttotal: 443ms\tremaining: 1.25s\n",
      "261:\tlearn: 15.9835842\ttotal: 444ms\tremaining: 1.25s\n",
      "262:\tlearn: 15.9603767\ttotal: 446ms\tremaining: 1.25s\n",
      "263:\tlearn: 15.9346160\ttotal: 447ms\tremaining: 1.25s\n",
      "264:\tlearn: 15.9320913\ttotal: 449ms\tremaining: 1.24s\n",
      "265:\tlearn: 15.9138693\ttotal: 450ms\tremaining: 1.24s\n",
      "266:\tlearn: 15.9009973\ttotal: 451ms\tremaining: 1.24s\n",
      "267:\tlearn: 15.8888178\ttotal: 453ms\tremaining: 1.24s\n",
      "268:\tlearn: 15.8810959\ttotal: 454ms\tremaining: 1.23s\n",
      "269:\tlearn: 15.8745489\ttotal: 456ms\tremaining: 1.23s\n",
      "270:\tlearn: 15.8498945\ttotal: 457ms\tremaining: 1.23s\n",
      "271:\tlearn: 15.8320950\ttotal: 458ms\tremaining: 1.23s\n",
      "272:\tlearn: 15.8286516\ttotal: 460ms\tremaining: 1.22s\n",
      "273:\tlearn: 15.8174548\ttotal: 461ms\tremaining: 1.22s\n",
      "274:\tlearn: 15.8033418\ttotal: 463ms\tremaining: 1.22s\n",
      "275:\tlearn: 15.7865851\ttotal: 464ms\tremaining: 1.22s\n",
      "276:\tlearn: 15.7830022\ttotal: 465ms\tremaining: 1.21s\n",
      "277:\tlearn: 15.7715259\ttotal: 467ms\tremaining: 1.21s\n",
      "278:\tlearn: 15.7413712\ttotal: 468ms\tremaining: 1.21s\n",
      "279:\tlearn: 15.7254233\ttotal: 469ms\tremaining: 1.21s\n",
      "280:\tlearn: 15.7115196\ttotal: 471ms\tremaining: 1.21s\n",
      "281:\tlearn: 15.7108948\ttotal: 472ms\tremaining: 1.2s\n",
      "282:\tlearn: 15.6922438\ttotal: 474ms\tremaining: 1.2s\n",
      "283:\tlearn: 15.6916321\ttotal: 475ms\tremaining: 1.2s\n",
      "284:\tlearn: 15.6757347\ttotal: 476ms\tremaining: 1.19s\n",
      "285:\tlearn: 15.6580642\ttotal: 477ms\tremaining: 1.19s\n",
      "286:\tlearn: 15.6484729\ttotal: 479ms\tremaining: 1.19s\n",
      "287:\tlearn: 15.6132238\ttotal: 480ms\tremaining: 1.19s\n",
      "288:\tlearn: 15.6012697\ttotal: 481ms\tremaining: 1.18s\n",
      "289:\tlearn: 15.5834959\ttotal: 483ms\tremaining: 1.18s\n",
      "290:\tlearn: 15.5769196\ttotal: 484ms\tremaining: 1.18s\n",
      "291:\tlearn: 15.5730705\ttotal: 485ms\tremaining: 1.18s\n",
      "292:\tlearn: 15.5627237\ttotal: 487ms\tremaining: 1.17s\n",
      "293:\tlearn: 15.5398803\ttotal: 489ms\tremaining: 1.17s\n",
      "294:\tlearn: 15.5238455\ttotal: 490ms\tremaining: 1.17s\n",
      "295:\tlearn: 15.5142559\ttotal: 491ms\tremaining: 1.17s\n",
      "296:\tlearn: 15.4884108\ttotal: 493ms\tremaining: 1.17s\n",
      "297:\tlearn: 15.4676878\ttotal: 494ms\tremaining: 1.16s\n",
      "298:\tlearn: 15.4534103\ttotal: 495ms\tremaining: 1.16s\n",
      "299:\tlearn: 15.4383581\ttotal: 497ms\tremaining: 1.16s\n",
      "300:\tlearn: 15.4228296\ttotal: 498ms\tremaining: 1.16s\n",
      "301:\tlearn: 15.4055971\ttotal: 500ms\tremaining: 1.15s\n",
      "302:\tlearn: 15.4050257\ttotal: 501ms\tremaining: 1.15s\n",
      "303:\tlearn: 15.4019998\ttotal: 502ms\tremaining: 1.15s\n",
      "304:\tlearn: 15.3832804\ttotal: 503ms\tremaining: 1.15s\n",
      "305:\tlearn: 15.3691027\ttotal: 505ms\tremaining: 1.14s\n",
      "306:\tlearn: 15.3621661\ttotal: 506ms\tremaining: 1.14s\n",
      "307:\tlearn: 15.3483296\ttotal: 507ms\tremaining: 1.14s\n",
      "308:\tlearn: 15.3348535\ttotal: 509ms\tremaining: 1.14s\n",
      "309:\tlearn: 15.3146089\ttotal: 510ms\tremaining: 1.13s\n",
      "310:\tlearn: 15.2995241\ttotal: 511ms\tremaining: 1.13s\n",
      "311:\tlearn: 15.2950907\ttotal: 512ms\tremaining: 1.13s\n",
      "312:\tlearn: 15.2920263\ttotal: 514ms\tremaining: 1.13s\n",
      "313:\tlearn: 15.2786274\ttotal: 515ms\tremaining: 1.13s\n",
      "314:\tlearn: 15.2781482\ttotal: 516ms\tremaining: 1.12s\n",
      "315:\tlearn: 15.2663286\ttotal: 517ms\tremaining: 1.12s\n",
      "316:\tlearn: 15.2479326\ttotal: 519ms\tremaining: 1.12s\n",
      "317:\tlearn: 15.2283466\ttotal: 520ms\tremaining: 1.11s\n",
      "318:\tlearn: 15.2129556\ttotal: 521ms\tremaining: 1.11s\n",
      "319:\tlearn: 15.2102872\ttotal: 523ms\tremaining: 1.11s\n",
      "320:\tlearn: 15.1937140\ttotal: 524ms\tremaining: 1.11s\n",
      "321:\tlearn: 15.1931855\ttotal: 525ms\tremaining: 1.1s\n",
      "322:\tlearn: 15.1848585\ttotal: 526ms\tremaining: 1.1s\n",
      "323:\tlearn: 15.1723338\ttotal: 528ms\tremaining: 1.1s\n",
      "324:\tlearn: 15.1711655\ttotal: 529ms\tremaining: 1.1s\n",
      "325:\tlearn: 15.1553210\ttotal: 530ms\tremaining: 1.09s\n",
      "326:\tlearn: 15.1366726\ttotal: 531ms\tremaining: 1.09s\n",
      "327:\tlearn: 15.1273428\ttotal: 533ms\tremaining: 1.09s\n",
      "328:\tlearn: 15.1268401\ttotal: 534ms\tremaining: 1.09s\n",
      "329:\tlearn: 15.1130728\ttotal: 535ms\tremaining: 1.09s\n",
      "330:\tlearn: 15.0842868\ttotal: 536ms\tremaining: 1.08s\n",
      "331:\tlearn: 15.0707486\ttotal: 537ms\tremaining: 1.08s\n",
      "332:\tlearn: 15.0510431\ttotal: 539ms\tremaining: 1.08s\n",
      "333:\tlearn: 15.0274576\ttotal: 540ms\tremaining: 1.08s\n",
      "334:\tlearn: 15.0127489\ttotal: 542ms\tremaining: 1.07s\n",
      "335:\tlearn: 15.0079532\ttotal: 543ms\tremaining: 1.07s\n",
      "336:\tlearn: 15.0026465\ttotal: 544ms\tremaining: 1.07s\n",
      "337:\tlearn: 15.0021541\ttotal: 546ms\tremaining: 1.07s\n",
      "338:\tlearn: 14.9921067\ttotal: 547ms\tremaining: 1.07s\n",
      "339:\tlearn: 14.9795317\ttotal: 548ms\tremaining: 1.06s\n",
      "340:\tlearn: 14.9790512\ttotal: 550ms\tremaining: 1.06s\n",
      "341:\tlearn: 14.9587128\ttotal: 551ms\tremaining: 1.06s\n",
      "342:\tlearn: 14.9554732\ttotal: 552ms\tremaining: 1.06s\n",
      "343:\tlearn: 14.9396424\ttotal: 553ms\tremaining: 1.05s\n",
      "344:\tlearn: 14.9289242\ttotal: 555ms\tremaining: 1.05s\n",
      "345:\tlearn: 14.9160107\ttotal: 556ms\tremaining: 1.05s\n",
      "346:\tlearn: 14.8986409\ttotal: 557ms\tremaining: 1.05s\n",
      "347:\tlearn: 14.8731986\ttotal: 558ms\tremaining: 1.05s\n",
      "348:\tlearn: 14.8648473\ttotal: 560ms\tremaining: 1.04s\n",
      "349:\tlearn: 14.8643770\ttotal: 561ms\tremaining: 1.04s\n",
      "350:\tlearn: 14.8394085\ttotal: 562ms\tremaining: 1.04s\n",
      "351:\tlearn: 14.8295717\ttotal: 564ms\tremaining: 1.04s\n",
      "352:\tlearn: 14.8117477\ttotal: 565ms\tremaining: 1.03s\n",
      "353:\tlearn: 14.8089937\ttotal: 566ms\tremaining: 1.03s\n",
      "354:\tlearn: 14.7911036\ttotal: 567ms\tremaining: 1.03s\n",
      "355:\tlearn: 14.7904618\ttotal: 569ms\tremaining: 1.03s\n",
      "356:\tlearn: 14.7802658\ttotal: 570ms\tremaining: 1.03s\n",
      "357:\tlearn: 14.7759192\ttotal: 571ms\tremaining: 1.02s\n",
      "358:\tlearn: 14.7549670\ttotal: 572ms\tremaining: 1.02s\n",
      "359:\tlearn: 14.7387682\ttotal: 574ms\tremaining: 1.02s\n",
      "360:\tlearn: 14.7252535\ttotal: 575ms\tremaining: 1.02s\n",
      "361:\tlearn: 14.7116795\ttotal: 576ms\tremaining: 1.01s\n",
      "362:\tlearn: 14.6980967\ttotal: 578ms\tremaining: 1.01s\n",
      "363:\tlearn: 14.6976513\ttotal: 579ms\tremaining: 1.01s\n",
      "364:\tlearn: 14.6845329\ttotal: 580ms\tremaining: 1.01s\n",
      "365:\tlearn: 14.6699548\ttotal: 581ms\tremaining: 1.01s\n",
      "366:\tlearn: 14.6582662\ttotal: 583ms\tremaining: 1s\n",
      "367:\tlearn: 14.6439355\ttotal: 584ms\tremaining: 1s\n",
      "368:\tlearn: 14.6194939\ttotal: 585ms\tremaining: 1s\n",
      "369:\tlearn: 14.6020513\ttotal: 587ms\tremaining: 999ms\n",
      "370:\tlearn: 14.5896232\ttotal: 588ms\tremaining: 997ms\n",
      "371:\tlearn: 14.5891888\ttotal: 589ms\tremaining: 995ms\n",
      "372:\tlearn: 14.5807842\ttotal: 591ms\tremaining: 993ms\n",
      "373:\tlearn: 14.5804059\ttotal: 592ms\tremaining: 991ms\n",
      "374:\tlearn: 14.5775095\ttotal: 593ms\tremaining: 989ms\n",
      "375:\tlearn: 14.5603653\ttotal: 595ms\tremaining: 987ms\n",
      "376:\tlearn: 14.5396112\ttotal: 596ms\tremaining: 985ms\n",
      "377:\tlearn: 14.5219819\ttotal: 597ms\tremaining: 983ms\n",
      "378:\tlearn: 14.5181231\ttotal: 599ms\tremaining: 981ms\n",
      "379:\tlearn: 14.5073269\ttotal: 600ms\tremaining: 979ms\n",
      "380:\tlearn: 14.4995281\ttotal: 601ms\tremaining: 977ms\n",
      "381:\tlearn: 14.4825996\ttotal: 602ms\tremaining: 975ms\n",
      "382:\tlearn: 14.4672722\ttotal: 604ms\tremaining: 973ms\n",
      "383:\tlearn: 14.4601859\ttotal: 605ms\tremaining: 971ms\n",
      "384:\tlearn: 14.4476659\ttotal: 607ms\tremaining: 969ms\n",
      "385:\tlearn: 14.4307158\ttotal: 608ms\tremaining: 967ms\n",
      "386:\tlearn: 14.4303132\ttotal: 609ms\tremaining: 965ms\n",
      "387:\tlearn: 14.4299199\ttotal: 610ms\tremaining: 963ms\n",
      "388:\tlearn: 14.4296236\ttotal: 612ms\tremaining: 961ms\n",
      "389:\tlearn: 14.4179309\ttotal: 613ms\tremaining: 959ms\n",
      "390:\tlearn: 14.4001483\ttotal: 614ms\tremaining: 957ms\n",
      "391:\tlearn: 14.3937557\ttotal: 615ms\tremaining: 954ms\n",
      "392:\tlearn: 14.3905988\ttotal: 617ms\tremaining: 952ms\n",
      "393:\tlearn: 14.3796405\ttotal: 618ms\tremaining: 950ms\n",
      "394:\tlearn: 14.3792515\ttotal: 619ms\tremaining: 948ms\n",
      "395:\tlearn: 14.3738689\ttotal: 621ms\tremaining: 946ms\n",
      "396:\tlearn: 14.3583743\ttotal: 622ms\tremaining: 945ms\n",
      "397:\tlearn: 14.3469406\ttotal: 623ms\tremaining: 943ms\n",
      "398:\tlearn: 14.3349947\ttotal: 625ms\tremaining: 941ms\n",
      "399:\tlearn: 14.3131116\ttotal: 626ms\tremaining: 939ms\n",
      "400:\tlearn: 14.3023142\ttotal: 628ms\tremaining: 937ms\n",
      "401:\tlearn: 14.3019350\ttotal: 629ms\tremaining: 935ms\n",
      "402:\tlearn: 14.2919690\ttotal: 630ms\tremaining: 934ms\n",
      "403:\tlearn: 14.2701070\ttotal: 632ms\tremaining: 932ms\n",
      "404:\tlearn: 14.2640071\ttotal: 633ms\tremaining: 930ms\n",
      "405:\tlearn: 14.2421237\ttotal: 634ms\tremaining: 928ms\n",
      "406:\tlearn: 14.2417922\ttotal: 636ms\tremaining: 926ms\n",
      "407:\tlearn: 14.2414624\ttotal: 637ms\tremaining: 924ms\n",
      "408:\tlearn: 14.2309869\ttotal: 638ms\tremaining: 922ms\n",
      "409:\tlearn: 14.2307091\ttotal: 640ms\tremaining: 920ms\n",
      "410:\tlearn: 14.2155403\ttotal: 641ms\tremaining: 918ms\n",
      "411:\tlearn: 14.2039514\ttotal: 642ms\tremaining: 917ms\n",
      "412:\tlearn: 14.1797433\ttotal: 644ms\tremaining: 915ms\n",
      "413:\tlearn: 14.1646350\ttotal: 645ms\tremaining: 913ms\n",
      "414:\tlearn: 14.1422509\ttotal: 646ms\tremaining: 911ms\n",
      "415:\tlearn: 14.1314551\ttotal: 647ms\tremaining: 909ms\n",
      "416:\tlearn: 14.1164292\ttotal: 649ms\tremaining: 907ms\n",
      "417:\tlearn: 14.1161092\ttotal: 650ms\tremaining: 905ms\n",
      "418:\tlearn: 14.1050108\ttotal: 652ms\tremaining: 903ms\n",
      "419:\tlearn: 14.0942143\ttotal: 653ms\tremaining: 902ms\n",
      "420:\tlearn: 14.0898561\ttotal: 654ms\tremaining: 900ms\n",
      "421:\tlearn: 14.0807543\ttotal: 656ms\tremaining: 898ms\n",
      "422:\tlearn: 14.0682876\ttotal: 657ms\tremaining: 897ms\n",
      "423:\tlearn: 14.0515319\ttotal: 659ms\tremaining: 895ms\n",
      "424:\tlearn: 14.0414305\ttotal: 660ms\tremaining: 893ms\n",
      "425:\tlearn: 14.0318725\ttotal: 661ms\tremaining: 891ms\n",
      "426:\tlearn: 14.0279169\ttotal: 663ms\tremaining: 889ms\n",
      "427:\tlearn: 14.0160625\ttotal: 665ms\tremaining: 888ms\n",
      "428:\tlearn: 14.0142140\ttotal: 666ms\tremaining: 886ms\n",
      "429:\tlearn: 14.0138722\ttotal: 667ms\tremaining: 884ms\n",
      "430:\tlearn: 14.0063494\ttotal: 669ms\tremaining: 883ms\n",
      "431:\tlearn: 13.9876900\ttotal: 670ms\tremaining: 881ms\n",
      "432:\tlearn: 13.9741471\ttotal: 672ms\tremaining: 879ms\n",
      "433:\tlearn: 13.9568800\ttotal: 673ms\tremaining: 878ms\n",
      "434:\tlearn: 13.9331996\ttotal: 674ms\tremaining: 876ms\n",
      "435:\tlearn: 13.9253149\ttotal: 676ms\tremaining: 874ms\n",
      "436:\tlearn: 13.9140191\ttotal: 678ms\tremaining: 873ms\n",
      "437:\tlearn: 13.8960026\ttotal: 679ms\tremaining: 871ms\n",
      "438:\tlearn: 13.8756731\ttotal: 681ms\tremaining: 870ms\n",
      "439:\tlearn: 13.8724021\ttotal: 682ms\tremaining: 868ms\n",
      "440:\tlearn: 13.8536076\ttotal: 683ms\tremaining: 866ms\n",
      "441:\tlearn: 13.8435185\ttotal: 685ms\tremaining: 864ms\n",
      "442:\tlearn: 13.8331191\ttotal: 686ms\tremaining: 863ms\n",
      "443:\tlearn: 13.8266891\ttotal: 687ms\tremaining: 861ms\n",
      "444:\tlearn: 13.8157538\ttotal: 689ms\tremaining: 859ms\n",
      "445:\tlearn: 13.8078921\ttotal: 690ms\tremaining: 857ms\n",
      "446:\tlearn: 13.8006281\ttotal: 691ms\tremaining: 855ms\n",
      "447:\tlearn: 13.7843948\ttotal: 693ms\tremaining: 853ms\n",
      "448:\tlearn: 13.7701178\ttotal: 694ms\tremaining: 852ms\n",
      "449:\tlearn: 13.7550474\ttotal: 695ms\tremaining: 850ms\n",
      "450:\tlearn: 13.7434389\ttotal: 697ms\tremaining: 848ms\n",
      "451:\tlearn: 13.7340420\ttotal: 698ms\tremaining: 847ms\n",
      "452:\tlearn: 13.7114953\ttotal: 700ms\tremaining: 846ms\n",
      "453:\tlearn: 13.7030159\ttotal: 702ms\tremaining: 844ms\n",
      "454:\tlearn: 13.6996028\ttotal: 703ms\tremaining: 842ms\n",
      "455:\tlearn: 13.6871797\ttotal: 704ms\tremaining: 840ms\n",
      "456:\tlearn: 13.6721294\ttotal: 705ms\tremaining: 838ms\n",
      "457:\tlearn: 13.6603427\ttotal: 707ms\tremaining: 836ms\n",
      "458:\tlearn: 13.6542858\ttotal: 708ms\tremaining: 835ms\n",
      "459:\tlearn: 13.6407595\ttotal: 709ms\tremaining: 833ms\n",
      "460:\tlearn: 13.6271845\ttotal: 711ms\tremaining: 831ms\n",
      "461:\tlearn: 13.6140414\ttotal: 712ms\tremaining: 829ms\n",
      "462:\tlearn: 13.6136951\ttotal: 713ms\tremaining: 827ms\n",
      "463:\tlearn: 13.6006312\ttotal: 714ms\tremaining: 825ms\n",
      "464:\tlearn: 13.5913483\ttotal: 716ms\tremaining: 824ms\n",
      "465:\tlearn: 13.5861385\ttotal: 717ms\tremaining: 822ms\n",
      "466:\tlearn: 13.5762686\ttotal: 718ms\tremaining: 820ms\n",
      "467:\tlearn: 13.5517607\ttotal: 720ms\tremaining: 818ms\n",
      "468:\tlearn: 13.5497911\ttotal: 721ms\tremaining: 816ms\n",
      "469:\tlearn: 13.5494659\ttotal: 723ms\tremaining: 815ms\n",
      "470:\tlearn: 13.5352601\ttotal: 724ms\tremaining: 813ms\n",
      "471:\tlearn: 13.5232141\ttotal: 725ms\tremaining: 811ms\n",
      "472:\tlearn: 13.5012994\ttotal: 726ms\tremaining: 809ms\n",
      "473:\tlearn: 13.4926917\ttotal: 728ms\tremaining: 808ms\n",
      "474:\tlearn: 13.4833175\ttotal: 729ms\tremaining: 806ms\n",
      "475:\tlearn: 13.4717676\ttotal: 730ms\tremaining: 804ms\n",
      "476:\tlearn: 13.4632610\ttotal: 732ms\tremaining: 802ms\n",
      "477:\tlearn: 13.4605712\ttotal: 733ms\tremaining: 801ms\n",
      "478:\tlearn: 13.4502712\ttotal: 735ms\tremaining: 799ms\n",
      "479:\tlearn: 13.4464477\ttotal: 736ms\tremaining: 797ms\n",
      "480:\tlearn: 13.4323716\ttotal: 737ms\tremaining: 795ms\n",
      "481:\tlearn: 13.4316813\ttotal: 738ms\tremaining: 794ms\n",
      "482:\tlearn: 13.4222922\ttotal: 740ms\tremaining: 792ms\n",
      "483:\tlearn: 13.4150850\ttotal: 741ms\tremaining: 790ms\n",
      "484:\tlearn: 13.4147452\ttotal: 742ms\tremaining: 788ms\n",
      "485:\tlearn: 13.4070605\ttotal: 744ms\tremaining: 787ms\n",
      "486:\tlearn: 13.3917195\ttotal: 745ms\tremaining: 785ms\n",
      "487:\tlearn: 13.3774772\ttotal: 747ms\tremaining: 783ms\n",
      "488:\tlearn: 13.3642392\ttotal: 748ms\tremaining: 782ms\n",
      "489:\tlearn: 13.3569088\ttotal: 749ms\tremaining: 780ms\n",
      "490:\tlearn: 13.3358114\ttotal: 751ms\tremaining: 778ms\n",
      "491:\tlearn: 13.3354486\ttotal: 752ms\tremaining: 777ms\n",
      "492:\tlearn: 13.3269443\ttotal: 754ms\tremaining: 775ms\n",
      "493:\tlearn: 13.3177403\ttotal: 755ms\tremaining: 774ms\n",
      "494:\tlearn: 13.3126647\ttotal: 757ms\tremaining: 772ms\n",
      "495:\tlearn: 13.3054797\ttotal: 758ms\tremaining: 770ms\n",
      "496:\tlearn: 13.2955734\ttotal: 760ms\tremaining: 769ms\n",
      "497:\tlearn: 13.2888489\ttotal: 761ms\tremaining: 767ms\n",
      "498:\tlearn: 13.2778026\ttotal: 762ms\tremaining: 765ms\n",
      "499:\tlearn: 13.2668354\ttotal: 764ms\tremaining: 764ms\n",
      "500:\tlearn: 13.2564713\ttotal: 765ms\tremaining: 762ms\n",
      "501:\tlearn: 13.2391855\ttotal: 767ms\tremaining: 761ms\n",
      "502:\tlearn: 13.2297508\ttotal: 768ms\tremaining: 759ms\n",
      "503:\tlearn: 13.2227237\ttotal: 769ms\tremaining: 757ms\n",
      "504:\tlearn: 13.2065444\ttotal: 771ms\tremaining: 756ms\n",
      "505:\tlearn: 13.1977629\ttotal: 772ms\tremaining: 754ms\n",
      "506:\tlearn: 13.1864486\ttotal: 774ms\tremaining: 752ms\n",
      "507:\tlearn: 13.1770846\ttotal: 775ms\tremaining: 751ms\n",
      "508:\tlearn: 13.1700429\ttotal: 777ms\tremaining: 749ms\n",
      "509:\tlearn: 13.1586649\ttotal: 778ms\tremaining: 747ms\n",
      "510:\tlearn: 13.1519949\ttotal: 779ms\tremaining: 746ms\n",
      "511:\tlearn: 13.1455647\ttotal: 780ms\tremaining: 744ms\n",
      "512:\tlearn: 13.1438639\ttotal: 782ms\tremaining: 742ms\n",
      "513:\tlearn: 13.1435746\ttotal: 783ms\tremaining: 740ms\n",
      "514:\tlearn: 13.1259984\ttotal: 784ms\tremaining: 739ms\n",
      "515:\tlearn: 13.1193807\ttotal: 786ms\tremaining: 737ms\n",
      "516:\tlearn: 13.1120404\ttotal: 787ms\tremaining: 735ms\n",
      "517:\tlearn: 13.1002930\ttotal: 788ms\tremaining: 733ms\n",
      "518:\tlearn: 13.0980253\ttotal: 789ms\tremaining: 732ms\n",
      "519:\tlearn: 13.0943823\ttotal: 791ms\tremaining: 730ms\n",
      "520:\tlearn: 13.0850360\ttotal: 792ms\tremaining: 728ms\n",
      "521:\tlearn: 13.0847010\ttotal: 793ms\tremaining: 726ms\n",
      "522:\tlearn: 13.0669416\ttotal: 795ms\tremaining: 725ms\n",
      "523:\tlearn: 13.0551752\ttotal: 796ms\tremaining: 723ms\n",
      "524:\tlearn: 13.0484286\ttotal: 798ms\tremaining: 722ms\n",
      "525:\tlearn: 13.0416118\ttotal: 799ms\tremaining: 720ms\n",
      "526:\tlearn: 13.0205280\ttotal: 800ms\tremaining: 718ms\n",
      "527:\tlearn: 13.0074874\ttotal: 802ms\tremaining: 717ms\n",
      "528:\tlearn: 12.9967802\ttotal: 803ms\tremaining: 715ms\n",
      "529:\tlearn: 12.9798552\ttotal: 805ms\tremaining: 714ms\n",
      "530:\tlearn: 12.9635426\ttotal: 806ms\tremaining: 712ms\n",
      "531:\tlearn: 12.9633216\ttotal: 807ms\tremaining: 710ms\n",
      "532:\tlearn: 12.9489624\ttotal: 809ms\tremaining: 709ms\n",
      "533:\tlearn: 12.9318077\ttotal: 810ms\tremaining: 707ms\n",
      "534:\tlearn: 12.9234540\ttotal: 811ms\tremaining: 705ms\n",
      "535:\tlearn: 12.9172009\ttotal: 813ms\tremaining: 704ms\n",
      "536:\tlearn: 12.9120707\ttotal: 814ms\tremaining: 702ms\n",
      "537:\tlearn: 12.9117483\ttotal: 816ms\tremaining: 701ms\n",
      "538:\tlearn: 12.9068120\ttotal: 817ms\tremaining: 699ms\n",
      "539:\tlearn: 12.8908383\ttotal: 819ms\tremaining: 697ms\n",
      "540:\tlearn: 12.8872241\ttotal: 820ms\tremaining: 696ms\n",
      "541:\tlearn: 12.8714833\ttotal: 822ms\tremaining: 695ms\n",
      "542:\tlearn: 12.8656166\ttotal: 823ms\tremaining: 693ms\n",
      "543:\tlearn: 12.8576373\ttotal: 825ms\tremaining: 692ms\n",
      "544:\tlearn: 12.8489868\ttotal: 826ms\tremaining: 690ms\n",
      "545:\tlearn: 12.8484649\ttotal: 828ms\tremaining: 688ms\n",
      "546:\tlearn: 12.8467083\ttotal: 829ms\tremaining: 687ms\n",
      "547:\tlearn: 12.8426303\ttotal: 830ms\tremaining: 685ms\n",
      "548:\tlearn: 12.8331777\ttotal: 832ms\tremaining: 683ms\n",
      "549:\tlearn: 12.8223563\ttotal: 833ms\tremaining: 682ms\n",
      "550:\tlearn: 12.8130993\ttotal: 835ms\tremaining: 680ms\n",
      "551:\tlearn: 12.8043069\ttotal: 836ms\tremaining: 679ms\n",
      "552:\tlearn: 12.8010486\ttotal: 838ms\tremaining: 677ms\n",
      "553:\tlearn: 12.7960278\ttotal: 839ms\tremaining: 675ms\n",
      "554:\tlearn: 12.7806037\ttotal: 840ms\tremaining: 674ms\n",
      "555:\tlearn: 12.7685939\ttotal: 842ms\tremaining: 672ms\n",
      "556:\tlearn: 12.7628054\ttotal: 843ms\tremaining: 671ms\n",
      "557:\tlearn: 12.7540155\ttotal: 845ms\tremaining: 669ms\n",
      "558:\tlearn: 12.7391657\ttotal: 846ms\tremaining: 668ms\n",
      "559:\tlearn: 12.7331433\ttotal: 848ms\tremaining: 666ms\n",
      "560:\tlearn: 12.7314008\ttotal: 849ms\tremaining: 664ms\n",
      "561:\tlearn: 12.7244509\ttotal: 850ms\tremaining: 663ms\n",
      "562:\tlearn: 12.7147292\ttotal: 852ms\tremaining: 661ms\n",
      "563:\tlearn: 12.7032829\ttotal: 853ms\tremaining: 659ms\n",
      "564:\tlearn: 12.6923962\ttotal: 854ms\tremaining: 658ms\n",
      "565:\tlearn: 12.6835084\ttotal: 856ms\tremaining: 656ms\n",
      "566:\tlearn: 12.6748517\ttotal: 857ms\tremaining: 654ms\n",
      "567:\tlearn: 12.6564074\ttotal: 858ms\tremaining: 653ms\n",
      "568:\tlearn: 12.6433715\ttotal: 860ms\tremaining: 651ms\n",
      "569:\tlearn: 12.6279012\ttotal: 862ms\tremaining: 650ms\n",
      "570:\tlearn: 12.6198319\ttotal: 863ms\tremaining: 648ms\n",
      "571:\tlearn: 12.6140114\ttotal: 865ms\tremaining: 647ms\n",
      "572:\tlearn: 12.6110197\ttotal: 866ms\tremaining: 645ms\n",
      "573:\tlearn: 12.6035468\ttotal: 867ms\tremaining: 644ms\n",
      "574:\tlearn: 12.5969597\ttotal: 869ms\tremaining: 642ms\n",
      "575:\tlearn: 12.5914064\ttotal: 870ms\tremaining: 641ms\n",
      "576:\tlearn: 12.5836964\ttotal: 871ms\tremaining: 639ms\n",
      "577:\tlearn: 12.5834376\ttotal: 873ms\tremaining: 637ms\n",
      "578:\tlearn: 12.5684081\ttotal: 874ms\tremaining: 636ms\n",
      "579:\tlearn: 12.5615346\ttotal: 875ms\tremaining: 634ms\n",
      "580:\tlearn: 12.5522804\ttotal: 877ms\tremaining: 632ms\n",
      "581:\tlearn: 12.5395316\ttotal: 878ms\tremaining: 631ms\n",
      "582:\tlearn: 12.5289010\ttotal: 880ms\tremaining: 629ms\n",
      "583:\tlearn: 12.5286045\ttotal: 881ms\tremaining: 628ms\n",
      "584:\tlearn: 12.5183958\ttotal: 882ms\tremaining: 626ms\n",
      "585:\tlearn: 12.5122193\ttotal: 884ms\tremaining: 624ms\n",
      "586:\tlearn: 12.5062014\ttotal: 885ms\tremaining: 623ms\n",
      "587:\tlearn: 12.5020593\ttotal: 887ms\tremaining: 621ms\n",
      "588:\tlearn: 12.4889806\ttotal: 888ms\tremaining: 620ms\n",
      "589:\tlearn: 12.4772635\ttotal: 889ms\tremaining: 618ms\n",
      "590:\tlearn: 12.4755985\ttotal: 891ms\tremaining: 616ms\n",
      "591:\tlearn: 12.4713242\ttotal: 892ms\tremaining: 615ms\n",
      "592:\tlearn: 12.4626024\ttotal: 894ms\tremaining: 613ms\n",
      "593:\tlearn: 12.4542418\ttotal: 895ms\tremaining: 612ms\n",
      "594:\tlearn: 12.4432343\ttotal: 896ms\tremaining: 610ms\n",
      "595:\tlearn: 12.4388897\ttotal: 898ms\tremaining: 609ms\n",
      "596:\tlearn: 12.4353355\ttotal: 899ms\tremaining: 607ms\n",
      "597:\tlearn: 12.4348358\ttotal: 901ms\tremaining: 605ms\n",
      "598:\tlearn: 12.4252794\ttotal: 902ms\tremaining: 604ms\n",
      "599:\tlearn: 12.4147348\ttotal: 904ms\tremaining: 602ms\n",
      "600:\tlearn: 12.4092598\ttotal: 905ms\tremaining: 601ms\n",
      "601:\tlearn: 12.4068506\ttotal: 906ms\tremaining: 599ms\n",
      "602:\tlearn: 12.4021280\ttotal: 907ms\tremaining: 597ms\n",
      "603:\tlearn: 12.3967368\ttotal: 909ms\tremaining: 596ms\n",
      "604:\tlearn: 12.3908534\ttotal: 910ms\tremaining: 594ms\n",
      "605:\tlearn: 12.3868135\ttotal: 912ms\tremaining: 593ms\n",
      "606:\tlearn: 12.3812720\ttotal: 913ms\tremaining: 591ms\n",
      "607:\tlearn: 12.3715487\ttotal: 914ms\tremaining: 589ms\n",
      "608:\tlearn: 12.3612859\ttotal: 916ms\tremaining: 588ms\n",
      "609:\tlearn: 12.3537083\ttotal: 917ms\tremaining: 586ms\n",
      "610:\tlearn: 12.3404004\ttotal: 918ms\tremaining: 585ms\n",
      "611:\tlearn: 12.3396186\ttotal: 920ms\tremaining: 583ms\n",
      "612:\tlearn: 12.3324247\ttotal: 921ms\tremaining: 582ms\n",
      "613:\tlearn: 12.3241989\ttotal: 923ms\tremaining: 580ms\n",
      "614:\tlearn: 12.3185653\ttotal: 924ms\tremaining: 578ms\n",
      "615:\tlearn: 12.3117576\ttotal: 925ms\tremaining: 577ms\n",
      "616:\tlearn: 12.3103543\ttotal: 926ms\tremaining: 575ms\n",
      "617:\tlearn: 12.3014897\ttotal: 928ms\tremaining: 574ms\n",
      "618:\tlearn: 12.2871813\ttotal: 929ms\tremaining: 572ms\n",
      "619:\tlearn: 12.2839778\ttotal: 931ms\tremaining: 570ms\n",
      "620:\tlearn: 12.2690149\ttotal: 932ms\tremaining: 569ms\n",
      "621:\tlearn: 12.2621233\ttotal: 933ms\tremaining: 567ms\n",
      "622:\tlearn: 12.2613701\ttotal: 935ms\tremaining: 566ms\n",
      "623:\tlearn: 12.2451788\ttotal: 936ms\tremaining: 564ms\n",
      "624:\tlearn: 12.2439616\ttotal: 937ms\tremaining: 562ms\n",
      "625:\tlearn: 12.2328366\ttotal: 939ms\tremaining: 561ms\n",
      "626:\tlearn: 12.2274096\ttotal: 940ms\tremaining: 559ms\n",
      "627:\tlearn: 12.2271422\ttotal: 942ms\tremaining: 558ms\n",
      "628:\tlearn: 12.2219789\ttotal: 943ms\tremaining: 556ms\n",
      "629:\tlearn: 12.2181203\ttotal: 944ms\tremaining: 555ms\n",
      "630:\tlearn: 12.2178903\ttotal: 946ms\tremaining: 553ms\n",
      "631:\tlearn: 12.2112833\ttotal: 947ms\tremaining: 551ms\n",
      "632:\tlearn: 12.1998657\ttotal: 948ms\tremaining: 550ms\n",
      "633:\tlearn: 12.1906082\ttotal: 950ms\tremaining: 548ms\n",
      "634:\tlearn: 12.1865784\ttotal: 951ms\tremaining: 547ms\n",
      "635:\tlearn: 12.1784677\ttotal: 953ms\tremaining: 545ms\n",
      "636:\tlearn: 12.1644005\ttotal: 954ms\tremaining: 544ms\n",
      "637:\tlearn: 12.1640220\ttotal: 955ms\tremaining: 542ms\n",
      "638:\tlearn: 12.1514511\ttotal: 957ms\tremaining: 540ms\n",
      "639:\tlearn: 12.1465555\ttotal: 958ms\tremaining: 539ms\n",
      "640:\tlearn: 12.1311751\ttotal: 959ms\tremaining: 537ms\n",
      "641:\tlearn: 12.1298165\ttotal: 961ms\tremaining: 536ms\n",
      "642:\tlearn: 12.1180348\ttotal: 962ms\tremaining: 534ms\n",
      "643:\tlearn: 12.1044292\ttotal: 964ms\tremaining: 533ms\n",
      "644:\tlearn: 12.1041005\ttotal: 965ms\tremaining: 531ms\n",
      "645:\tlearn: 12.1037712\ttotal: 966ms\tremaining: 530ms\n",
      "646:\tlearn: 12.0967514\ttotal: 968ms\tremaining: 528ms\n",
      "647:\tlearn: 12.0897585\ttotal: 969ms\tremaining: 526ms\n",
      "648:\tlearn: 12.0845514\ttotal: 970ms\tremaining: 525ms\n",
      "649:\tlearn: 12.0790378\ttotal: 972ms\tremaining: 523ms\n",
      "650:\tlearn: 12.0724527\ttotal: 973ms\tremaining: 522ms\n",
      "651:\tlearn: 12.0708896\ttotal: 974ms\tremaining: 520ms\n",
      "652:\tlearn: 12.0578222\ttotal: 976ms\tremaining: 519ms\n",
      "653:\tlearn: 12.0575122\ttotal: 977ms\tremaining: 517ms\n",
      "654:\tlearn: 12.0544753\ttotal: 979ms\tremaining: 515ms\n",
      "655:\tlearn: 12.0542383\ttotal: 980ms\tremaining: 514ms\n",
      "656:\tlearn: 12.0503503\ttotal: 981ms\tremaining: 512ms\n",
      "657:\tlearn: 12.0465409\ttotal: 983ms\tremaining: 511ms\n",
      "658:\tlearn: 12.0342581\ttotal: 984ms\tremaining: 509ms\n",
      "659:\tlearn: 12.0184079\ttotal: 985ms\tremaining: 508ms\n",
      "660:\tlearn: 12.0135250\ttotal: 987ms\tremaining: 506ms\n",
      "661:\tlearn: 12.0060609\ttotal: 988ms\tremaining: 504ms\n",
      "662:\tlearn: 11.9940511\ttotal: 989ms\tremaining: 503ms\n",
      "663:\tlearn: 11.9859241\ttotal: 990ms\tremaining: 501ms\n",
      "664:\tlearn: 11.9816498\ttotal: 992ms\tremaining: 500ms\n",
      "665:\tlearn: 11.9699495\ttotal: 993ms\tremaining: 498ms\n",
      "666:\tlearn: 11.9627865\ttotal: 994ms\tremaining: 497ms\n",
      "667:\tlearn: 11.9518539\ttotal: 996ms\tremaining: 495ms\n",
      "668:\tlearn: 11.9466338\ttotal: 997ms\tremaining: 493ms\n",
      "669:\tlearn: 11.9363103\ttotal: 999ms\tremaining: 492ms\n",
      "670:\tlearn: 11.9305146\ttotal: 1s\tremaining: 490ms\n",
      "671:\tlearn: 11.9192944\ttotal: 1s\tremaining: 489ms\n",
      "672:\tlearn: 11.9111903\ttotal: 1s\tremaining: 487ms\n",
      "673:\tlearn: 11.9108067\ttotal: 1s\tremaining: 486ms\n",
      "674:\tlearn: 11.9003503\ttotal: 1s\tremaining: 484ms\n",
      "675:\tlearn: 11.8931167\ttotal: 1.01s\tremaining: 483ms\n",
      "676:\tlearn: 11.8929255\ttotal: 1.01s\tremaining: 481ms\n",
      "677:\tlearn: 11.8847496\ttotal: 1.01s\tremaining: 480ms\n",
      "678:\tlearn: 11.8727277\ttotal: 1.01s\tremaining: 478ms\n",
      "679:\tlearn: 11.8638863\ttotal: 1.01s\tremaining: 477ms\n",
      "680:\tlearn: 11.8627243\ttotal: 1.01s\tremaining: 475ms\n",
      "681:\tlearn: 11.8571570\ttotal: 1.01s\tremaining: 473ms\n",
      "682:\tlearn: 11.8504864\ttotal: 1.02s\tremaining: 472ms\n",
      "683:\tlearn: 11.8390257\ttotal: 1.02s\tremaining: 470ms\n",
      "684:\tlearn: 11.8345592\ttotal: 1.02s\tremaining: 469ms\n",
      "685:\tlearn: 11.8324280\ttotal: 1.02s\tremaining: 467ms\n",
      "686:\tlearn: 11.8233713\ttotal: 1.02s\tremaining: 466ms\n",
      "687:\tlearn: 11.8139117\ttotal: 1.02s\tremaining: 464ms\n",
      "688:\tlearn: 11.8020241\ttotal: 1.02s\tremaining: 463ms\n",
      "689:\tlearn: 11.7910824\ttotal: 1.03s\tremaining: 461ms\n",
      "690:\tlearn: 11.7843490\ttotal: 1.03s\tremaining: 460ms\n",
      "691:\tlearn: 11.7743653\ttotal: 1.03s\tremaining: 458ms\n",
      "692:\tlearn: 11.7699011\ttotal: 1.03s\tremaining: 457ms\n",
      "693:\tlearn: 11.7608364\ttotal: 1.03s\tremaining: 455ms\n",
      "694:\tlearn: 11.7520387\ttotal: 1.03s\tremaining: 454ms\n",
      "695:\tlearn: 11.7391297\ttotal: 1.03s\tremaining: 452ms\n",
      "696:\tlearn: 11.7321096\ttotal: 1.04s\tremaining: 451ms\n",
      "697:\tlearn: 11.7239049\ttotal: 1.04s\tremaining: 449ms\n",
      "698:\tlearn: 11.7225307\ttotal: 1.04s\tremaining: 448ms\n",
      "699:\tlearn: 11.7153028\ttotal: 1.04s\tremaining: 446ms\n",
      "700:\tlearn: 11.7098651\ttotal: 1.04s\tremaining: 445ms\n",
      "701:\tlearn: 11.7003033\ttotal: 1.04s\tremaining: 443ms\n",
      "702:\tlearn: 11.7001238\ttotal: 1.04s\tremaining: 442ms\n",
      "703:\tlearn: 11.6967767\ttotal: 1.05s\tremaining: 440ms\n",
      "704:\tlearn: 11.6872838\ttotal: 1.05s\tremaining: 438ms\n",
      "705:\tlearn: 11.6823547\ttotal: 1.05s\tremaining: 437ms\n",
      "706:\tlearn: 11.6729130\ttotal: 1.05s\tremaining: 435ms\n",
      "707:\tlearn: 11.6614702\ttotal: 1.05s\tremaining: 434ms\n",
      "708:\tlearn: 11.6469481\ttotal: 1.05s\tremaining: 432ms\n",
      "709:\tlearn: 11.6357392\ttotal: 1.05s\tremaining: 431ms\n",
      "710:\tlearn: 11.6205377\ttotal: 1.06s\tremaining: 429ms\n",
      "711:\tlearn: 11.6196640\ttotal: 1.06s\tremaining: 428ms\n",
      "712:\tlearn: 11.6135295\ttotal: 1.06s\tremaining: 426ms\n",
      "713:\tlearn: 11.6102011\ttotal: 1.06s\tremaining: 425ms\n",
      "714:\tlearn: 11.6038897\ttotal: 1.06s\tremaining: 423ms\n",
      "715:\tlearn: 11.5977344\ttotal: 1.06s\tremaining: 422ms\n",
      "716:\tlearn: 11.5894717\ttotal: 1.06s\tremaining: 420ms\n",
      "717:\tlearn: 11.5863096\ttotal: 1.06s\tremaining: 418ms\n",
      "718:\tlearn: 11.5784549\ttotal: 1.07s\tremaining: 417ms\n",
      "719:\tlearn: 11.5716104\ttotal: 1.07s\tremaining: 415ms\n",
      "720:\tlearn: 11.5631352\ttotal: 1.07s\tremaining: 414ms\n",
      "721:\tlearn: 11.5540905\ttotal: 1.07s\tremaining: 412ms\n",
      "722:\tlearn: 11.5471141\ttotal: 1.07s\tremaining: 411ms\n",
      "723:\tlearn: 11.5469368\ttotal: 1.07s\tremaining: 409ms\n",
      "724:\tlearn: 11.5450453\ttotal: 1.07s\tremaining: 408ms\n",
      "725:\tlearn: 11.5324175\ttotal: 1.08s\tremaining: 406ms\n",
      "726:\tlearn: 11.5234445\ttotal: 1.08s\tremaining: 405ms\n",
      "727:\tlearn: 11.5213817\ttotal: 1.08s\tremaining: 403ms\n",
      "728:\tlearn: 11.5190664\ttotal: 1.08s\tremaining: 402ms\n",
      "729:\tlearn: 11.5142139\ttotal: 1.08s\tremaining: 400ms\n",
      "730:\tlearn: 11.5017451\ttotal: 1.08s\tremaining: 399ms\n",
      "731:\tlearn: 11.4972226\ttotal: 1.08s\tremaining: 397ms\n",
      "732:\tlearn: 11.4933853\ttotal: 1.08s\tremaining: 396ms\n",
      "733:\tlearn: 11.4931716\ttotal: 1.09s\tremaining: 394ms\n",
      "734:\tlearn: 11.4839128\ttotal: 1.09s\tremaining: 392ms\n",
      "735:\tlearn: 11.4788725\ttotal: 1.09s\tremaining: 391ms\n",
      "736:\tlearn: 11.4696648\ttotal: 1.09s\tremaining: 389ms\n",
      "737:\tlearn: 11.4647945\ttotal: 1.09s\tremaining: 388ms\n",
      "738:\tlearn: 11.4583812\ttotal: 1.09s\tremaining: 386ms\n",
      "739:\tlearn: 11.4451330\ttotal: 1.09s\tremaining: 385ms\n",
      "740:\tlearn: 11.4411532\ttotal: 1.1s\tremaining: 383ms\n",
      "741:\tlearn: 11.4326475\ttotal: 1.1s\tremaining: 382ms\n",
      "742:\tlearn: 11.4317463\ttotal: 1.1s\tremaining: 381ms\n",
      "743:\tlearn: 11.4306171\ttotal: 1.1s\tremaining: 379ms\n",
      "744:\tlearn: 11.4247340\ttotal: 1.1s\tremaining: 377ms\n",
      "745:\tlearn: 11.4123889\ttotal: 1.1s\tremaining: 376ms\n",
      "746:\tlearn: 11.4071813\ttotal: 1.1s\tremaining: 374ms\n",
      "747:\tlearn: 11.3975862\ttotal: 1.11s\tremaining: 373ms\n",
      "748:\tlearn: 11.3840311\ttotal: 1.11s\tremaining: 371ms\n",
      "749:\tlearn: 11.3752559\ttotal: 1.11s\tremaining: 370ms\n",
      "750:\tlearn: 11.3655934\ttotal: 1.11s\tremaining: 368ms\n",
      "751:\tlearn: 11.3521146\ttotal: 1.11s\tremaining: 367ms\n",
      "752:\tlearn: 11.3474654\ttotal: 1.11s\tremaining: 365ms\n",
      "753:\tlearn: 11.3432780\ttotal: 1.11s\tremaining: 364ms\n",
      "754:\tlearn: 11.3327234\ttotal: 1.12s\tremaining: 362ms\n",
      "755:\tlearn: 11.3323300\ttotal: 1.12s\tremaining: 361ms\n",
      "756:\tlearn: 11.3183402\ttotal: 1.12s\tremaining: 359ms\n",
      "757:\tlearn: 11.3132471\ttotal: 1.12s\tremaining: 358ms\n",
      "758:\tlearn: 11.3094718\ttotal: 1.12s\tremaining: 356ms\n",
      "759:\tlearn: 11.2985304\ttotal: 1.12s\tremaining: 355ms\n",
      "760:\tlearn: 11.2902246\ttotal: 1.13s\tremaining: 354ms\n",
      "761:\tlearn: 11.2890757\ttotal: 1.13s\tremaining: 352ms\n",
      "762:\tlearn: 11.2818323\ttotal: 1.13s\tremaining: 350ms\n",
      "763:\tlearn: 11.2705202\ttotal: 1.13s\tremaining: 349ms\n",
      "764:\tlearn: 11.2632499\ttotal: 1.13s\tremaining: 347ms\n",
      "765:\tlearn: 11.2563713\ttotal: 1.13s\tremaining: 346ms\n",
      "766:\tlearn: 11.2525599\ttotal: 1.13s\tremaining: 344ms\n",
      "767:\tlearn: 11.2457505\ttotal: 1.14s\tremaining: 343ms\n",
      "768:\tlearn: 11.2454613\ttotal: 1.14s\tremaining: 341ms\n",
      "769:\tlearn: 11.2412287\ttotal: 1.14s\tremaining: 340ms\n",
      "770:\tlearn: 11.2373961\ttotal: 1.14s\tremaining: 338ms\n",
      "771:\tlearn: 11.2335479\ttotal: 1.14s\tremaining: 337ms\n",
      "772:\tlearn: 11.2248500\ttotal: 1.14s\tremaining: 335ms\n",
      "773:\tlearn: 11.2180025\ttotal: 1.14s\tremaining: 334ms\n",
      "774:\tlearn: 11.2061575\ttotal: 1.15s\tremaining: 332ms\n",
      "775:\tlearn: 11.1972377\ttotal: 1.15s\tremaining: 331ms\n",
      "776:\tlearn: 11.1878708\ttotal: 1.15s\tremaining: 329ms\n",
      "777:\tlearn: 11.1863945\ttotal: 1.15s\tremaining: 328ms\n",
      "778:\tlearn: 11.1730964\ttotal: 1.15s\tremaining: 326ms\n",
      "779:\tlearn: 11.1689533\ttotal: 1.15s\tremaining: 325ms\n",
      "780:\tlearn: 11.1656561\ttotal: 1.15s\tremaining: 323ms\n",
      "781:\tlearn: 11.1629666\ttotal: 1.15s\tremaining: 322ms\n",
      "782:\tlearn: 11.1585187\ttotal: 1.16s\tremaining: 320ms\n",
      "783:\tlearn: 11.1525794\ttotal: 1.16s\tremaining: 319ms\n",
      "784:\tlearn: 11.1480468\ttotal: 1.16s\tremaining: 317ms\n",
      "785:\tlearn: 11.1409513\ttotal: 1.16s\tremaining: 316ms\n",
      "786:\tlearn: 11.1408091\ttotal: 1.16s\tremaining: 314ms\n",
      "787:\tlearn: 11.1348367\ttotal: 1.16s\tremaining: 313ms\n",
      "788:\tlearn: 11.1277700\ttotal: 1.16s\tremaining: 311ms\n",
      "789:\tlearn: 11.1216524\ttotal: 1.17s\tremaining: 310ms\n",
      "790:\tlearn: 11.1167867\ttotal: 1.17s\tremaining: 308ms\n",
      "791:\tlearn: 11.1091907\ttotal: 1.17s\tremaining: 307ms\n",
      "792:\tlearn: 11.0954538\ttotal: 1.17s\tremaining: 305ms\n",
      "793:\tlearn: 11.0931139\ttotal: 1.17s\tremaining: 304ms\n",
      "794:\tlearn: 11.0885351\ttotal: 1.17s\tremaining: 302ms\n",
      "795:\tlearn: 11.0852755\ttotal: 1.17s\tremaining: 301ms\n",
      "796:\tlearn: 11.0776468\ttotal: 1.18s\tremaining: 299ms\n",
      "797:\tlearn: 11.0742562\ttotal: 1.18s\tremaining: 298ms\n",
      "798:\tlearn: 11.0711846\ttotal: 1.18s\tremaining: 296ms\n",
      "799:\tlearn: 11.0628950\ttotal: 1.18s\tremaining: 295ms\n",
      "800:\tlearn: 11.0535596\ttotal: 1.18s\tremaining: 293ms\n",
      "801:\tlearn: 11.0433860\ttotal: 1.18s\tremaining: 292ms\n",
      "802:\tlearn: 11.0388521\ttotal: 1.18s\tremaining: 290ms\n",
      "803:\tlearn: 11.0386910\ttotal: 1.19s\tremaining: 289ms\n",
      "804:\tlearn: 11.0282741\ttotal: 1.19s\tremaining: 287ms\n",
      "805:\tlearn: 11.0221231\ttotal: 1.19s\tremaining: 286ms\n",
      "806:\tlearn: 11.0116827\ttotal: 1.19s\tremaining: 285ms\n",
      "807:\tlearn: 10.9988075\ttotal: 1.19s\tremaining: 283ms\n",
      "808:\tlearn: 10.9986284\ttotal: 1.19s\tremaining: 282ms\n",
      "809:\tlearn: 10.9939108\ttotal: 1.19s\tremaining: 280ms\n",
      "810:\tlearn: 10.9846702\ttotal: 1.2s\tremaining: 279ms\n",
      "811:\tlearn: 10.9760196\ttotal: 1.2s\tremaining: 277ms\n",
      "812:\tlearn: 10.9692051\ttotal: 1.2s\tremaining: 275ms\n",
      "813:\tlearn: 10.9603305\ttotal: 1.2s\tremaining: 274ms\n",
      "814:\tlearn: 10.9536570\ttotal: 1.2s\tremaining: 273ms\n",
      "815:\tlearn: 10.9450333\ttotal: 1.2s\tremaining: 271ms\n",
      "816:\tlearn: 10.9422129\ttotal: 1.2s\tremaining: 270ms\n",
      "817:\tlearn: 10.9319714\ttotal: 1.2s\tremaining: 268ms\n",
      "818:\tlearn: 10.9234686\ttotal: 1.21s\tremaining: 267ms\n",
      "819:\tlearn: 10.9142758\ttotal: 1.21s\tremaining: 265ms\n",
      "820:\tlearn: 10.9074124\ttotal: 1.21s\tremaining: 264ms\n",
      "821:\tlearn: 10.9046906\ttotal: 1.21s\tremaining: 262ms\n",
      "822:\tlearn: 10.9002500\ttotal: 1.21s\tremaining: 261ms\n",
      "823:\tlearn: 10.8954441\ttotal: 1.21s\tremaining: 259ms\n",
      "824:\tlearn: 10.8950446\ttotal: 1.21s\tremaining: 258ms\n",
      "825:\tlearn: 10.8940868\ttotal: 1.22s\tremaining: 256ms\n",
      "826:\tlearn: 10.8897664\ttotal: 1.22s\tremaining: 255ms\n",
      "827:\tlearn: 10.8813585\ttotal: 1.22s\tremaining: 253ms\n",
      "828:\tlearn: 10.8760717\ttotal: 1.22s\tremaining: 252ms\n",
      "829:\tlearn: 10.8668410\ttotal: 1.22s\tremaining: 250ms\n",
      "830:\tlearn: 10.8600860\ttotal: 1.22s\tremaining: 249ms\n",
      "831:\tlearn: 10.8599521\ttotal: 1.22s\tremaining: 247ms\n",
      "832:\tlearn: 10.8598213\ttotal: 1.23s\tremaining: 246ms\n",
      "833:\tlearn: 10.8489389\ttotal: 1.23s\tremaining: 244ms\n",
      "834:\tlearn: 10.8435332\ttotal: 1.23s\tremaining: 243ms\n",
      "835:\tlearn: 10.8358168\ttotal: 1.23s\tremaining: 241ms\n",
      "836:\tlearn: 10.8305675\ttotal: 1.23s\tremaining: 240ms\n",
      "837:\tlearn: 10.8223459\ttotal: 1.23s\tremaining: 238ms\n",
      "838:\tlearn: 10.8103401\ttotal: 1.23s\tremaining: 237ms\n",
      "839:\tlearn: 10.8043912\ttotal: 1.24s\tremaining: 235ms\n",
      "840:\tlearn: 10.7947691\ttotal: 1.24s\tremaining: 234ms\n",
      "841:\tlearn: 10.7867834\ttotal: 1.24s\tremaining: 232ms\n",
      "842:\tlearn: 10.7778554\ttotal: 1.24s\tremaining: 231ms\n",
      "843:\tlearn: 10.7679523\ttotal: 1.24s\tremaining: 229ms\n",
      "844:\tlearn: 10.7665093\ttotal: 1.24s\tremaining: 228ms\n",
      "845:\tlearn: 10.7659607\ttotal: 1.24s\tremaining: 226ms\n",
      "846:\tlearn: 10.7582775\ttotal: 1.24s\tremaining: 225ms\n",
      "847:\tlearn: 10.7479861\ttotal: 1.25s\tremaining: 223ms\n",
      "848:\tlearn: 10.7391699\ttotal: 1.25s\tremaining: 222ms\n",
      "849:\tlearn: 10.7285255\ttotal: 1.25s\tremaining: 220ms\n",
      "850:\tlearn: 10.7234420\ttotal: 1.25s\tremaining: 219ms\n",
      "851:\tlearn: 10.7155195\ttotal: 1.25s\tremaining: 217ms\n",
      "852:\tlearn: 10.7071235\ttotal: 1.25s\tremaining: 216ms\n",
      "853:\tlearn: 10.6961889\ttotal: 1.25s\tremaining: 214ms\n",
      "854:\tlearn: 10.6921645\ttotal: 1.25s\tremaining: 213ms\n",
      "855:\tlearn: 10.6823841\ttotal: 1.26s\tremaining: 211ms\n",
      "856:\tlearn: 10.6803262\ttotal: 1.26s\tremaining: 210ms\n",
      "857:\tlearn: 10.6727914\ttotal: 1.26s\tremaining: 208ms\n",
      "858:\tlearn: 10.6725593\ttotal: 1.26s\tremaining: 207ms\n",
      "859:\tlearn: 10.6691430\ttotal: 1.26s\tremaining: 205ms\n",
      "860:\tlearn: 10.6673145\ttotal: 1.26s\tremaining: 204ms\n",
      "861:\tlearn: 10.6605132\ttotal: 1.26s\tremaining: 203ms\n",
      "862:\tlearn: 10.6603535\ttotal: 1.27s\tremaining: 201ms\n",
      "863:\tlearn: 10.6538834\ttotal: 1.27s\tremaining: 200ms\n",
      "864:\tlearn: 10.6453670\ttotal: 1.27s\tremaining: 198ms\n",
      "865:\tlearn: 10.6392522\ttotal: 1.27s\tremaining: 197ms\n",
      "866:\tlearn: 10.6303413\ttotal: 1.27s\tremaining: 195ms\n",
      "867:\tlearn: 10.6250861\ttotal: 1.27s\tremaining: 194ms\n",
      "868:\tlearn: 10.6181271\ttotal: 1.27s\tremaining: 192ms\n",
      "869:\tlearn: 10.6145553\ttotal: 1.28s\tremaining: 191ms\n",
      "870:\tlearn: 10.6097069\ttotal: 1.28s\tremaining: 189ms\n",
      "871:\tlearn: 10.6048284\ttotal: 1.28s\tremaining: 188ms\n",
      "872:\tlearn: 10.6046447\ttotal: 1.28s\tremaining: 186ms\n",
      "873:\tlearn: 10.5980703\ttotal: 1.28s\tremaining: 185ms\n",
      "874:\tlearn: 10.5889452\ttotal: 1.28s\tremaining: 183ms\n",
      "875:\tlearn: 10.5817689\ttotal: 1.28s\tremaining: 182ms\n",
      "876:\tlearn: 10.5716858\ttotal: 1.28s\tremaining: 180ms\n",
      "877:\tlearn: 10.5681503\ttotal: 1.29s\tremaining: 179ms\n",
      "878:\tlearn: 10.5630813\ttotal: 1.29s\tremaining: 177ms\n",
      "879:\tlearn: 10.5531837\ttotal: 1.29s\tremaining: 176ms\n",
      "880:\tlearn: 10.5416772\ttotal: 1.29s\tremaining: 174ms\n",
      "881:\tlearn: 10.5322001\ttotal: 1.29s\tremaining: 173ms\n",
      "882:\tlearn: 10.5268814\ttotal: 1.29s\tremaining: 171ms\n",
      "883:\tlearn: 10.5187512\ttotal: 1.29s\tremaining: 170ms\n",
      "884:\tlearn: 10.5088514\ttotal: 1.3s\tremaining: 168ms\n",
      "885:\tlearn: 10.4984615\ttotal: 1.3s\tremaining: 167ms\n",
      "886:\tlearn: 10.4919821\ttotal: 1.3s\tremaining: 166ms\n",
      "887:\tlearn: 10.4885679\ttotal: 1.3s\tremaining: 164ms\n",
      "888:\tlearn: 10.4842927\ttotal: 1.3s\tremaining: 163ms\n",
      "889:\tlearn: 10.4834528\ttotal: 1.3s\tremaining: 161ms\n",
      "890:\tlearn: 10.4763215\ttotal: 1.3s\tremaining: 160ms\n",
      "891:\tlearn: 10.4726447\ttotal: 1.31s\tremaining: 158ms\n",
      "892:\tlearn: 10.4692798\ttotal: 1.31s\tremaining: 157ms\n",
      "893:\tlearn: 10.4625885\ttotal: 1.31s\tremaining: 155ms\n",
      "894:\tlearn: 10.4554610\ttotal: 1.31s\tremaining: 154ms\n",
      "895:\tlearn: 10.4470470\ttotal: 1.31s\tremaining: 152ms\n",
      "896:\tlearn: 10.4373196\ttotal: 1.31s\tremaining: 151ms\n",
      "897:\tlearn: 10.4274177\ttotal: 1.31s\tremaining: 149ms\n",
      "898:\tlearn: 10.4186722\ttotal: 1.31s\tremaining: 148ms\n",
      "899:\tlearn: 10.4177895\ttotal: 1.32s\tremaining: 146ms\n",
      "900:\tlearn: 10.4129498\ttotal: 1.32s\tremaining: 145ms\n",
      "901:\tlearn: 10.4116772\ttotal: 1.32s\tremaining: 143ms\n",
      "902:\tlearn: 10.4045193\ttotal: 1.32s\tremaining: 142ms\n",
      "903:\tlearn: 10.4039478\ttotal: 1.32s\tremaining: 140ms\n",
      "904:\tlearn: 10.4000798\ttotal: 1.32s\tremaining: 139ms\n",
      "905:\tlearn: 10.3962106\ttotal: 1.32s\tremaining: 137ms\n",
      "906:\tlearn: 10.3869891\ttotal: 1.33s\tremaining: 136ms\n",
      "907:\tlearn: 10.3850866\ttotal: 1.33s\tremaining: 135ms\n",
      "908:\tlearn: 10.3740336\ttotal: 1.33s\tremaining: 133ms\n",
      "909:\tlearn: 10.3665919\ttotal: 1.33s\tremaining: 132ms\n",
      "910:\tlearn: 10.3650546\ttotal: 1.33s\tremaining: 130ms\n",
      "911:\tlearn: 10.3639434\ttotal: 1.33s\tremaining: 129ms\n",
      "912:\tlearn: 10.3596484\ttotal: 1.33s\tremaining: 127ms\n",
      "913:\tlearn: 10.3501278\ttotal: 1.33s\tremaining: 126ms\n",
      "914:\tlearn: 10.3483402\ttotal: 1.34s\tremaining: 124ms\n",
      "915:\tlearn: 10.3475704\ttotal: 1.34s\tremaining: 123ms\n",
      "916:\tlearn: 10.3451358\ttotal: 1.34s\tremaining: 121ms\n",
      "917:\tlearn: 10.3392858\ttotal: 1.34s\tremaining: 120ms\n",
      "918:\tlearn: 10.3310093\ttotal: 1.34s\tremaining: 118ms\n",
      "919:\tlearn: 10.3270977\ttotal: 1.34s\tremaining: 117ms\n",
      "920:\tlearn: 10.3242880\ttotal: 1.34s\tremaining: 115ms\n",
      "921:\tlearn: 10.3178536\ttotal: 1.35s\tremaining: 114ms\n",
      "922:\tlearn: 10.3175893\ttotal: 1.35s\tremaining: 112ms\n",
      "923:\tlearn: 10.3117968\ttotal: 1.35s\tremaining: 111ms\n",
      "924:\tlearn: 10.3116747\ttotal: 1.35s\tremaining: 109ms\n",
      "925:\tlearn: 10.3036022\ttotal: 1.35s\tremaining: 108ms\n",
      "926:\tlearn: 10.3007890\ttotal: 1.35s\tremaining: 107ms\n",
      "927:\tlearn: 10.2992613\ttotal: 1.35s\tremaining: 105ms\n",
      "928:\tlearn: 10.2964897\ttotal: 1.35s\tremaining: 104ms\n",
      "929:\tlearn: 10.2876811\ttotal: 1.36s\tremaining: 102ms\n",
      "930:\tlearn: 10.2851873\ttotal: 1.36s\tremaining: 101ms\n",
      "931:\tlearn: 10.2788751\ttotal: 1.36s\tremaining: 99.2ms\n",
      "932:\tlearn: 10.2747669\ttotal: 1.36s\tremaining: 97.7ms\n",
      "933:\tlearn: 10.2684011\ttotal: 1.36s\tremaining: 96.3ms\n",
      "934:\tlearn: 10.2654745\ttotal: 1.36s\tremaining: 94.8ms\n",
      "935:\tlearn: 10.2653693\ttotal: 1.36s\tremaining: 93.3ms\n",
      "936:\tlearn: 10.2632877\ttotal: 1.37s\tremaining: 91.8ms\n",
      "937:\tlearn: 10.2603731\ttotal: 1.37s\tremaining: 90.4ms\n",
      "938:\tlearn: 10.2498811\ttotal: 1.37s\tremaining: 88.9ms\n",
      "939:\tlearn: 10.2460500\ttotal: 1.37s\tremaining: 87.4ms\n",
      "940:\tlearn: 10.2425375\ttotal: 1.37s\tremaining: 86ms\n",
      "941:\tlearn: 10.2347735\ttotal: 1.37s\tremaining: 84.5ms\n",
      "942:\tlearn: 10.2314207\ttotal: 1.37s\tremaining: 83.1ms\n",
      "943:\tlearn: 10.2217252\ttotal: 1.38s\tremaining: 81.6ms\n",
      "944:\tlearn: 10.2163320\ttotal: 1.38s\tremaining: 80.1ms\n",
      "945:\tlearn: 10.2031572\ttotal: 1.38s\tremaining: 78.7ms\n",
      "946:\tlearn: 10.1933712\ttotal: 1.38s\tremaining: 77.2ms\n",
      "947:\tlearn: 10.1849779\ttotal: 1.38s\tremaining: 75.7ms\n",
      "948:\tlearn: 10.1822798\ttotal: 1.38s\tremaining: 74.3ms\n",
      "949:\tlearn: 10.1733352\ttotal: 1.38s\tremaining: 72.8ms\n",
      "950:\tlearn: 10.1685149\ttotal: 1.38s\tremaining: 71.4ms\n",
      "951:\tlearn: 10.1656885\ttotal: 1.39s\tremaining: 69.9ms\n",
      "952:\tlearn: 10.1654171\ttotal: 1.39s\tremaining: 68.4ms\n",
      "953:\tlearn: 10.1593077\ttotal: 1.39s\tremaining: 67ms\n",
      "954:\tlearn: 10.1546109\ttotal: 1.39s\tremaining: 65.5ms\n",
      "955:\tlearn: 10.1445365\ttotal: 1.39s\tremaining: 64.1ms\n",
      "956:\tlearn: 10.1386195\ttotal: 1.39s\tremaining: 62.6ms\n",
      "957:\tlearn: 10.1337716\ttotal: 1.39s\tremaining: 61.1ms\n",
      "958:\tlearn: 10.1264052\ttotal: 1.4s\tremaining: 59.7ms\n",
      "959:\tlearn: 10.1215726\ttotal: 1.4s\tremaining: 58.2ms\n",
      "960:\tlearn: 10.1185708\ttotal: 1.4s\tremaining: 56.8ms\n",
      "961:\tlearn: 10.1122468\ttotal: 1.4s\tremaining: 55.3ms\n",
      "962:\tlearn: 10.1058646\ttotal: 1.4s\tremaining: 53.8ms\n",
      "963:\tlearn: 10.0999298\ttotal: 1.4s\tremaining: 52.4ms\n",
      "964:\tlearn: 10.0953218\ttotal: 1.4s\tremaining: 50.9ms\n",
      "965:\tlearn: 10.0884294\ttotal: 1.41s\tremaining: 49.5ms\n",
      "966:\tlearn: 10.0811977\ttotal: 1.41s\tremaining: 48ms\n",
      "967:\tlearn: 10.0732623\ttotal: 1.41s\tremaining: 46.6ms\n",
      "968:\tlearn: 10.0642720\ttotal: 1.41s\tremaining: 45.1ms\n",
      "969:\tlearn: 10.0641532\ttotal: 1.41s\tremaining: 43.6ms\n",
      "970:\tlearn: 10.0557522\ttotal: 1.41s\tremaining: 42.2ms\n",
      "971:\tlearn: 10.0451918\ttotal: 1.41s\tremaining: 40.7ms\n",
      "972:\tlearn: 10.0425001\ttotal: 1.42s\tremaining: 39.3ms\n",
      "973:\tlearn: 10.0393819\ttotal: 1.42s\tremaining: 37.8ms\n",
      "974:\tlearn: 10.0309750\ttotal: 1.42s\tremaining: 36.4ms\n",
      "975:\tlearn: 10.0258155\ttotal: 1.42s\tremaining: 34.9ms\n",
      "976:\tlearn: 10.0224678\ttotal: 1.42s\tremaining: 33.4ms\n",
      "977:\tlearn: 10.0139805\ttotal: 1.42s\tremaining: 32ms\n",
      "978:\tlearn: 10.0078535\ttotal: 1.42s\tremaining: 30.5ms\n",
      "979:\tlearn: 10.0013786\ttotal: 1.42s\tremaining: 29.1ms\n",
      "980:\tlearn: 9.9907541\ttotal: 1.43s\tremaining: 27.6ms\n",
      "981:\tlearn: 9.9846306\ttotal: 1.43s\tremaining: 26.2ms\n",
      "982:\tlearn: 9.9785841\ttotal: 1.43s\tremaining: 24.7ms\n",
      "983:\tlearn: 9.9782488\ttotal: 1.43s\tremaining: 23.3ms\n",
      "984:\tlearn: 9.9720475\ttotal: 1.43s\tremaining: 21.8ms\n",
      "985:\tlearn: 9.9719355\ttotal: 1.43s\tremaining: 20.3ms\n",
      "986:\tlearn: 9.9639060\ttotal: 1.43s\tremaining: 18.9ms\n",
      "987:\tlearn: 9.9583871\ttotal: 1.44s\tremaining: 17.4ms\n",
      "988:\tlearn: 9.9533437\ttotal: 1.44s\tremaining: 16ms\n",
      "989:\tlearn: 9.9511661\ttotal: 1.44s\tremaining: 14.5ms\n",
      "990:\tlearn: 9.9498150\ttotal: 1.44s\tremaining: 13.1ms\n",
      "991:\tlearn: 9.9454338\ttotal: 1.44s\tremaining: 11.6ms\n",
      "992:\tlearn: 9.9397183\ttotal: 1.44s\tremaining: 10.2ms\n",
      "993:\tlearn: 9.9302473\ttotal: 1.44s\tremaining: 8.71ms\n",
      "994:\tlearn: 9.9254509\ttotal: 1.45s\tremaining: 7.26ms\n",
      "995:\tlearn: 9.9231130\ttotal: 1.45s\tremaining: 5.81ms\n",
      "996:\tlearn: 9.9222445\ttotal: 1.45s\tremaining: 4.36ms\n",
      "997:\tlearn: 9.9155027\ttotal: 1.45s\tremaining: 2.9ms\n",
      "998:\tlearn: 9.9065607\ttotal: 1.45s\tremaining: 1.45ms\n",
      "999:\tlearn: 9.9015699\ttotal: 1.45s\tremaining: 0us\n",
      "RMSE обучающей выборки: 9.901569932611606\n",
      "RMSE валидациооной выборки:  32.72116732510117\n"
     ]
    }
   ],
   "source": [
    "%time\n",
    "model_cat = CatBoostRegressor()\n",
    "\n",
    "model_cat.fit(features_train, target_train)\n",
    "\n",
    "train_pred_dts = model_cat.predict(features_train)\n",
    "test_pred_dts = model_cat.predict(features_valid)\n",
    "\n",
    "RMSE_train_cat  = mean_squared_error(target_train, train_pred_dts, squared=False)\n",
    "RMSE_test_cat  = mean_squared_error(target_valid, test_pred_dts, squared=False)\n",
    "\n",
    "print(\"RMSE обучающей выборки:\", RMSE_train_cat)\n",
    "print(\"RMSE валидациооной выборки: \", RMSE_test_cat)"
   ]
  },
  {
   "cell_type": "code",
   "execution_count": 82,
   "id": "54e2adb2",
   "metadata": {},
   "outputs": [
    {
     "name": "stdout",
     "output_type": "stream",
     "text": [
      "CPU times: user 2 µs, sys: 0 ns, total: 2 µs\n",
      "Wall time: 5.48 µs\n",
      "RMSE обучающей выборки: 10.909698478696187\n",
      "RMSE валидациооной выборки:  32.33334295413358\n"
     ]
    }
   ],
   "source": [
    "%time\n",
    "\n",
    "model_LGBM = lgb.LGBMRegressor()\n",
    "\n",
    "model_LGBM.fit(features_train, target_train)\n",
    "\n",
    "train_pred_LGBM = model_LGBM.predict(features_train)\n",
    "test_pred_LGBM = model_LGBM.predict(features_valid)\n",
    "\n",
    "RMSE_train_LGBM  = mean_squared_error(target_train, train_pred_LGBM, squared=False)\n",
    "RMSE_test_LGBM  = mean_squared_error(target_valid, test_pred_LGBM, squared=False)\n",
    "\n",
    "print(\"RMSE обучающей выборки:\", RMSE_train_LGBM)\n",
    "print(\"RMSE валидациооной выборки: \", RMSE_test_LGBM)"
   ]
  },
  {
   "cell_type": "code",
   "execution_count": 83,
   "id": "ae8ca1c1",
   "metadata": {},
   "outputs": [
    {
     "data": {
      "text/html": [
       "<div>\n",
       "<style scoped>\n",
       "    .dataframe tbody tr th:only-of-type {\n",
       "        vertical-align: middle;\n",
       "    }\n",
       "\n",
       "    .dataframe tbody tr th {\n",
       "        vertical-align: top;\n",
       "    }\n",
       "\n",
       "    .dataframe thead th {\n",
       "        text-align: right;\n",
       "    }\n",
       "</style>\n",
       "<table border=\"1\" class=\"dataframe\">\n",
       "  <thead>\n",
       "    <tr style=\"text-align: right;\">\n",
       "      <th></th>\n",
       "      <th>RMSE обучающей выборки:.</th>\n",
       "      <th>RMSE валидациооной выборки</th>\n",
       "    </tr>\n",
       "  </thead>\n",
       "  <tbody>\n",
       "    <tr>\n",
       "      <th>LinearRegression</th>\n",
       "      <td>27.118903</td>\n",
       "      <td>35.014538</td>\n",
       "    </tr>\n",
       "    <tr>\n",
       "      <th>DecisionTreeRegressor</th>\n",
       "      <td>17.964418</td>\n",
       "      <td>37.549620</td>\n",
       "    </tr>\n",
       "    <tr>\n",
       "      <th>CatBoostRegressor</th>\n",
       "      <td>9.901570</td>\n",
       "      <td>32.721167</td>\n",
       "    </tr>\n",
       "    <tr>\n",
       "      <th>LGBMRegressor</th>\n",
       "      <td>10.909698</td>\n",
       "      <td>32.333343</td>\n",
       "    </tr>\n",
       "  </tbody>\n",
       "</table>\n",
       "</div>"
      ],
      "text/plain": [
       "                       RMSE обучающей выборки:.  RMSE валидациооной выборки\n",
       "LinearRegression                      27.118903                   35.014538\n",
       "DecisionTreeRegressor                 17.964418                   37.549620\n",
       "CatBoostRegressor                      9.901570                   32.721167\n",
       "LGBMRegressor                         10.909698                   32.333343"
      ]
     },
     "execution_count": 83,
     "metadata": {},
     "output_type": "execute_result"
    }
   ],
   "source": [
    "index = ['LinearRegression', 'DecisionTreeRegressor', 'CatBoostRegressor', 'LGBMRegressor']\n",
    "\n",
    "result_data = [\n",
    "    {'RMSE обучающей выборки:.' : RMSE_train_lr, 'RMSE валидациооной выборки': RMSE_test_lr},\n",
    "    {'RMSE обучающей выборки:.' : RMSE_train_dts, 'RMSE валидациооной выборки': RMSE_test_dts},\n",
    "    {'RMSE обучающей выборки:.' : RMSE_train_cat, 'RMSE валидациооной выборки': RMSE_test_cat},\n",
    "    {'RMSE обучающей выборки:.' : RMSE_train_LGBM, 'RMSE валидациооной выборки': RMSE_test_LGBM},\n",
    "]\n",
    "\n",
    "result_table = pd.DataFrame(result_data, index=index)\n",
    "result_table"
   ]
  },
  {
   "cell_type": "markdown",
   "id": "6c2bb63b",
   "metadata": {},
   "source": [
    "Вывод: Лучшие результаты показывают модели CatBoostRegressor и LGBMRegressor.\n",
    "Модель LGBMRegressor показывает свои предсказания быстрее, поэтому возьмем для тестирования в дальнейшем ее.\n",
    "    "
   ]
  },
  {
   "cell_type": "markdown",
   "id": "f2bf23fc",
   "metadata": {},
   "source": [
    "## Тестирование"
   ]
  },
  {
   "cell_type": "code",
   "execution_count": 84,
   "id": "b95ab244",
   "metadata": {},
   "outputs": [
    {
     "name": "stdout",
     "output_type": "stream",
     "text": [
      "RMSE обычной модели: 60.4339\n"
     ]
    }
   ],
   "source": [
    "gbm = lgb.LGBMRegressor()\n",
    "gbm.fit(features_train, target_train)\n",
    "pred2 = gbm.predict(features_test)\n",
    "rmse =  mean_squared_error(target_test, pred2, squared=False)\n",
    "print('RMSE обычной модели:' ,  '%.4f' % rmse)"
   ]
  },
  {
   "cell_type": "code",
   "execution_count": 54,
   "id": "430f35df",
   "metadata": {},
   "outputs": [],
   "source": [
    "features_train, features_test, target_train, target_test2 = train_test_split(features, target,  test_size=0.1, shuffle=False,random_state=12345)"
   ]
  },
  {
   "cell_type": "code",
   "execution_count": 55,
   "id": "e9d4204a",
   "metadata": {},
   "outputs": [
    {
     "name": "stdout",
     "output_type": "stream",
     "text": [
      "RMSE обычной модели: 44.6955\n"
     ]
    }
   ],
   "source": [
    "gbm = lgb.LGBMRegressor()\n",
    "gbm.fit(features_train, target_train)\n",
    "pred2 = gbm.predict(features_test)\n",
    "rmse =  mean_squared_error(target_test, pred2, squared=False)\n",
    "print('RMSE обычной модели:' ,  '%.4f' % rmse)"
   ]
  },
  {
   "cell_type": "markdown",
   "id": "d495c527",
   "metadata": {},
   "source": [
    "<div class=\"alert alert-block alert-success\">\n",
    "\n",
    "<b>Успех:</b> Так тоже можно. Объединять выборки можно было через `pd.concat()`.\n",
    "</div>"
   ]
  },
  {
   "cell_type": "code",
   "execution_count": 67,
   "id": "da2c46cd",
   "metadata": {},
   "outputs": [
    {
     "data": {
      "image/png": "[encoded data removed]",
      "text/plain": [
       "<Figure size 1440x504 with 1 Axes>"
      ]
     },
     "metadata": {
      "needs_background": "light"
     },
     "output_type": "display_data"
    }
   ],
   "source": [
    "fig, ax = pl.subplots(figsize=(20, 7))\n",
    "ax.plot(pd.Series(pred2, index = target_test.index), label='График предсказанных рядов')\n",
    "ax.plot(target_test, label='График исходного ряда')\n",
    "legend = ax.legend(loc='upper right', fontsize= 10)"
   ]
  },
  {
   "cell_type": "markdown",
   "id": "b67e7756",
   "metadata": {},
   "source": [
    "Добились нужного результата."
   ]
  },
  {
   "cell_type": "markdown",
   "id": "16b34c84",
   "metadata": {},
   "source": [
    "\n",
    "<div class=\"alert alert-block alert-info\">\n",
    "<b>Совет: </b> Финальные предсказания можно было визуализирвоать: графики исходного и предсказанных рядов.\n",
    "</div>"
   ]
  },
  {
   "cell_type": "markdown",
   "id": "4ea776b1",
   "metadata": {},
   "source": [
    "Итоговый вывод:\n",
    "В данном проекте были изученный данные,\n",
    "расмотренны 4 модели провденно их сравнение и выбрана лучшая модель\n",
    "Было достигнуто значение метрики RMSE на тестовой выборке не больше 48."
   ]
  },
  {
   "cell_type": "code",
   "execution_count": null,
   "id": "962469c4",
   "metadata": {},
   "outputs": [],
   "source": []
  }
 ],
 "metadata": {
  "ExecuteTimeLog": [
   {
    "duration": 76,
    "start_time": "2023-03-27T16:40:23.761Z"
   },
   {
    "duration": 47,
    "start_time": "2023-03-27T16:41:49.745Z"
   },
   {
    "duration": 1850,
    "start_time": "2023-03-27T16:41:55.714Z"
   },
   {
    "duration": 179,
    "start_time": "2023-03-27T16:41:57.566Z"
   },
   {
    "duration": 0,
    "start_time": "2023-03-27T16:41:57.751Z"
   },
   {
    "duration": 0,
    "start_time": "2023-03-27T16:41:57.752Z"
   },
   {
    "duration": 0,
    "start_time": "2023-03-27T16:41:57.754Z"
   },
   {
    "duration": 0,
    "start_time": "2023-03-27T16:41:57.755Z"
   },
   {
    "duration": 0,
    "start_time": "2023-03-27T16:41:57.757Z"
   },
   {
    "duration": 0,
    "start_time": "2023-03-27T16:41:57.758Z"
   },
   {
    "duration": 0,
    "start_time": "2023-03-27T16:41:57.759Z"
   },
   {
    "duration": 0,
    "start_time": "2023-03-27T16:41:57.761Z"
   },
   {
    "duration": 0,
    "start_time": "2023-03-27T16:41:57.762Z"
   },
   {
    "duration": 0,
    "start_time": "2023-03-27T16:41:57.764Z"
   },
   {
    "duration": 0,
    "start_time": "2023-03-27T16:41:57.765Z"
   },
   {
    "duration": 0,
    "start_time": "2023-03-27T16:41:57.766Z"
   },
   {
    "duration": 0,
    "start_time": "2023-03-27T16:41:57.767Z"
   },
   {
    "duration": 0,
    "start_time": "2023-03-27T16:41:57.769Z"
   },
   {
    "duration": 0,
    "start_time": "2023-03-27T16:41:57.771Z"
   },
   {
    "duration": 0,
    "start_time": "2023-03-27T16:41:57.803Z"
   },
   {
    "duration": 0,
    "start_time": "2023-03-27T16:41:57.804Z"
   },
   {
    "duration": 0,
    "start_time": "2023-03-27T16:41:57.805Z"
   },
   {
    "duration": 0,
    "start_time": "2023-03-27T16:41:57.807Z"
   },
   {
    "duration": 0,
    "start_time": "2023-03-27T16:41:57.808Z"
   },
   {
    "duration": 0,
    "start_time": "2023-03-27T16:41:57.809Z"
   },
   {
    "duration": 0,
    "start_time": "2023-03-27T16:41:57.812Z"
   },
   {
    "duration": 0,
    "start_time": "2023-03-27T16:41:57.813Z"
   },
   {
    "duration": 0,
    "start_time": "2023-03-27T16:41:57.815Z"
   },
   {
    "duration": 0,
    "start_time": "2023-03-27T16:41:57.816Z"
   },
   {
    "duration": 0,
    "start_time": "2023-03-27T16:41:57.817Z"
   },
   {
    "duration": 0,
    "start_time": "2023-03-27T16:41:57.819Z"
   },
   {
    "duration": 0,
    "start_time": "2023-03-27T16:41:57.820Z"
   },
   {
    "duration": 0,
    "start_time": "2023-03-27T16:41:57.822Z"
   },
   {
    "duration": 0,
    "start_time": "2023-03-27T16:41:57.823Z"
   },
   {
    "duration": 0,
    "start_time": "2023-03-27T16:41:57.825Z"
   },
   {
    "duration": 1756,
    "start_time": "2023-03-27T17:54:21.714Z"
   },
   {
    "duration": 203,
    "start_time": "2023-03-27T17:54:23.472Z"
   },
   {
    "duration": 0,
    "start_time": "2023-03-27T17:54:23.679Z"
   },
   {
    "duration": 0,
    "start_time": "2023-03-27T17:54:23.681Z"
   },
   {
    "duration": 0,
    "start_time": "2023-03-27T17:54:23.683Z"
   },
   {
    "duration": 0,
    "start_time": "2023-03-27T17:54:23.685Z"
   },
   {
    "duration": 0,
    "start_time": "2023-03-27T17:54:23.686Z"
   },
   {
    "duration": 0,
    "start_time": "2023-03-27T17:54:23.687Z"
   },
   {
    "duration": 0,
    "start_time": "2023-03-27T17:54:23.702Z"
   },
   {
    "duration": 1,
    "start_time": "2023-03-27T17:54:23.703Z"
   },
   {
    "duration": 0,
    "start_time": "2023-03-27T17:54:23.705Z"
   },
   {
    "duration": 0,
    "start_time": "2023-03-27T17:54:23.706Z"
   },
   {
    "duration": 0,
    "start_time": "2023-03-27T17:54:23.708Z"
   },
   {
    "duration": 0,
    "start_time": "2023-03-27T17:54:23.709Z"
   },
   {
    "duration": 0,
    "start_time": "2023-03-27T17:54:23.711Z"
   },
   {
    "duration": 0,
    "start_time": "2023-03-27T17:54:23.713Z"
   },
   {
    "duration": 0,
    "start_time": "2023-03-27T17:54:23.715Z"
   },
   {
    "duration": 0,
    "start_time": "2023-03-27T17:54:23.716Z"
   },
   {
    "duration": 0,
    "start_time": "2023-03-27T17:54:23.725Z"
   },
   {
    "duration": 0,
    "start_time": "2023-03-27T17:54:23.727Z"
   },
   {
    "duration": 0,
    "start_time": "2023-03-27T17:54:23.729Z"
   },
   {
    "duration": 0,
    "start_time": "2023-03-27T17:54:23.731Z"
   },
   {
    "duration": 0,
    "start_time": "2023-03-27T17:54:23.732Z"
   },
   {
    "duration": 0,
    "start_time": "2023-03-27T17:54:23.734Z"
   },
   {
    "duration": 0,
    "start_time": "2023-03-27T17:54:23.736Z"
   },
   {
    "duration": 0,
    "start_time": "2023-03-27T17:54:23.737Z"
   },
   {
    "duration": 0,
    "start_time": "2023-03-27T17:54:23.739Z"
   },
   {
    "duration": 0,
    "start_time": "2023-03-27T17:54:23.741Z"
   },
   {
    "duration": 0,
    "start_time": "2023-03-27T17:54:23.742Z"
   },
   {
    "duration": 0,
    "start_time": "2023-03-27T17:54:23.744Z"
   },
   {
    "duration": 0,
    "start_time": "2023-03-27T17:54:23.746Z"
   },
   {
    "duration": 0,
    "start_time": "2023-03-27T17:54:23.747Z"
   },
   {
    "duration": 0,
    "start_time": "2023-03-27T17:54:23.748Z"
   },
   {
    "duration": 1426,
    "start_time": "2023-03-27T18:29:19.533Z"
   },
   {
    "duration": 188,
    "start_time": "2023-03-27T18:29:20.960Z"
   },
   {
    "duration": 0,
    "start_time": "2023-03-27T18:29:21.153Z"
   },
   {
    "duration": 0,
    "start_time": "2023-03-27T18:29:21.155Z"
   },
   {
    "duration": 0,
    "start_time": "2023-03-27T18:29:21.156Z"
   },
   {
    "duration": 0,
    "start_time": "2023-03-27T18:29:21.158Z"
   },
   {
    "duration": 0,
    "start_time": "2023-03-27T18:29:21.159Z"
   },
   {
    "duration": 0,
    "start_time": "2023-03-27T18:29:21.160Z"
   },
   {
    "duration": 0,
    "start_time": "2023-03-27T18:29:21.162Z"
   },
   {
    "duration": 0,
    "start_time": "2023-03-27T18:29:21.164Z"
   },
   {
    "duration": 0,
    "start_time": "2023-03-27T18:29:21.165Z"
   },
   {
    "duration": 0,
    "start_time": "2023-03-27T18:29:21.166Z"
   },
   {
    "duration": 0,
    "start_time": "2023-03-27T18:29:21.167Z"
   },
   {
    "duration": 0,
    "start_time": "2023-03-27T18:29:21.168Z"
   },
   {
    "duration": 0,
    "start_time": "2023-03-27T18:29:21.169Z"
   },
   {
    "duration": 0,
    "start_time": "2023-03-27T18:29:21.170Z"
   },
   {
    "duration": 0,
    "start_time": "2023-03-27T18:29:21.171Z"
   },
   {
    "duration": 0,
    "start_time": "2023-03-27T18:29:21.171Z"
   },
   {
    "duration": 0,
    "start_time": "2023-03-27T18:29:21.172Z"
   },
   {
    "duration": 0,
    "start_time": "2023-03-27T18:29:21.173Z"
   },
   {
    "duration": 0,
    "start_time": "2023-03-27T18:29:21.174Z"
   },
   {
    "duration": 0,
    "start_time": "2023-03-27T18:29:21.175Z"
   },
   {
    "duration": 0,
    "start_time": "2023-03-27T18:29:21.203Z"
   },
   {
    "duration": 0,
    "start_time": "2023-03-27T18:29:21.204Z"
   },
   {
    "duration": 0,
    "start_time": "2023-03-27T18:29:21.206Z"
   },
   {
    "duration": 0,
    "start_time": "2023-03-27T18:29:21.206Z"
   },
   {
    "duration": 0,
    "start_time": "2023-03-27T18:29:21.208Z"
   },
   {
    "duration": 0,
    "start_time": "2023-03-27T18:29:21.209Z"
   },
   {
    "duration": 0,
    "start_time": "2023-03-27T18:29:21.210Z"
   },
   {
    "duration": 0,
    "start_time": "2023-03-27T18:29:21.211Z"
   },
   {
    "duration": 0,
    "start_time": "2023-03-27T18:29:21.213Z"
   },
   {
    "duration": 0,
    "start_time": "2023-03-27T18:29:21.214Z"
   },
   {
    "duration": 0,
    "start_time": "2023-03-27T18:29:21.215Z"
   },
   {
    "duration": 76,
    "start_time": "2023-03-27T18:30:56.753Z"
   },
   {
    "duration": 286,
    "start_time": "2023-03-27T18:31:58.400Z"
   },
   {
    "duration": 1539,
    "start_time": "2023-03-27T18:32:05.018Z"
   },
   {
    "duration": 47,
    "start_time": "2023-03-27T18:32:06.559Z"
   },
   {
    "duration": 12,
    "start_time": "2023-03-27T18:32:06.608Z"
   },
   {
    "duration": 12,
    "start_time": "2023-03-27T18:32:06.622Z"
   },
   {
    "duration": 17,
    "start_time": "2023-03-27T18:32:06.636Z"
   },
   {
    "duration": 6,
    "start_time": "2023-03-27T18:32:06.655Z"
   },
   {
    "duration": 11,
    "start_time": "2023-03-27T18:32:06.662Z"
   },
   {
    "duration": 36,
    "start_time": "2023-03-27T18:32:06.675Z"
   },
   {
    "duration": 10,
    "start_time": "2023-03-27T18:32:06.712Z"
   },
   {
    "duration": 4,
    "start_time": "2023-03-27T18:32:06.724Z"
   },
   {
    "duration": 13,
    "start_time": "2023-03-27T18:32:06.730Z"
   },
   {
    "duration": 18,
    "start_time": "2023-03-27T18:32:06.744Z"
   },
   {
    "duration": 4,
    "start_time": "2023-03-27T18:32:06.763Z"
   },
   {
    "duration": 5,
    "start_time": "2023-03-27T18:32:06.769Z"
   },
   {
    "duration": 158,
    "start_time": "2023-03-27T18:32:06.775Z"
   },
   {
    "duration": 151,
    "start_time": "2023-03-27T18:32:06.935Z"
   },
   {
    "duration": 139,
    "start_time": "2023-03-27T18:32:07.088Z"
   },
   {
    "duration": 200,
    "start_time": "2023-03-27T18:32:07.229Z"
   },
   {
    "duration": 7,
    "start_time": "2023-03-27T18:32:07.430Z"
   },
   {
    "duration": 237,
    "start_time": "2023-03-27T18:32:07.439Z"
   },
   {
    "duration": 231,
    "start_time": "2023-03-27T18:32:07.678Z"
   },
   {
    "duration": 175,
    "start_time": "2023-03-27T18:32:07.911Z"
   },
   {
    "duration": 224,
    "start_time": "2023-03-27T18:32:08.087Z"
   },
   {
    "duration": 3,
    "start_time": "2023-03-27T18:32:08.313Z"
   },
   {
    "duration": 6,
    "start_time": "2023-03-27T18:32:08.318Z"
   },
   {
    "duration": 6,
    "start_time": "2023-03-27T18:32:08.326Z"
   },
   {
    "duration": 8,
    "start_time": "2023-03-27T18:32:08.334Z"
   },
   {
    "duration": 66,
    "start_time": "2023-03-27T18:32:08.346Z"
   },
   {
    "duration": 4,
    "start_time": "2023-03-27T18:32:08.502Z"
   },
   {
    "duration": 646,
    "start_time": "2023-03-27T18:32:08.507Z"
   },
   {
    "duration": 3210,
    "start_time": "2023-03-27T18:32:09.155Z"
   },
   {
    "duration": 21543,
    "start_time": "2023-03-27T18:32:12.367Z"
   },
   {
    "duration": 9,
    "start_time": "2023-03-27T18:32:33.911Z"
   },
   {
    "duration": 10,
    "start_time": "2023-03-27T18:33:11.210Z"
   },
   {
    "duration": 771,
    "start_time": "2023-03-27T18:36:36.232Z"
   },
   {
    "duration": 2915,
    "start_time": "2023-03-27T18:36:43.423Z"
   },
   {
    "duration": 71,
    "start_time": "2023-03-27T18:38:02.547Z"
   },
   {
    "duration": 3,
    "start_time": "2023-03-27T18:39:13.435Z"
   },
   {
    "duration": 127,
    "start_time": "2023-03-27T19:10:52.407Z"
   },
   {
    "duration": 10,
    "start_time": "2023-03-27T19:10:52.765Z"
   },
   {
    "duration": 3,
    "start_time": "2023-03-27T19:11:02.519Z"
   },
   {
    "duration": 12,
    "start_time": "2023-03-27T19:11:03.559Z"
   },
   {
    "duration": 12,
    "start_time": "2023-03-27T19:11:11.291Z"
   },
   {
    "duration": 36125,
    "start_time": "2023-03-27T19:12:03.495Z"
   },
   {
    "duration": 8024,
    "start_time": "2023-03-27T19:13:38.603Z"
   },
   {
    "duration": 35420,
    "start_time": "2023-03-27T19:13:48.090Z"
   },
   {
    "duration": 3,
    "start_time": "2023-03-27T19:16:01.396Z"
   },
   {
    "duration": 407080,
    "start_time": "2023-03-27T19:16:02.053Z"
   },
   {
    "duration": 3,
    "start_time": "2023-03-27T19:23:04.904Z"
   },
   {
    "duration": 338223,
    "start_time": "2023-03-27T19:23:08.486Z"
   },
   {
    "duration": 621,
    "start_time": "2023-03-27T19:31:01.888Z"
   },
   {
    "duration": 611,
    "start_time": "2023-03-27T19:31:10.296Z"
   },
   {
    "duration": 708,
    "start_time": "2023-03-27T19:31:21.095Z"
   },
   {
    "duration": 16418,
    "start_time": "2023-03-27T19:31:34.106Z"
   },
   {
    "duration": 48219,
    "start_time": "2023-03-27T19:31:53.989Z"
   },
   {
    "duration": 701,
    "start_time": "2023-03-27T19:32:42.210Z"
   },
   {
    "duration": 4,
    "start_time": "2023-03-27T19:34:08.345Z"
   },
   {
    "duration": 11,
    "start_time": "2023-03-27T19:36:25.541Z"
   },
   {
    "duration": 20,
    "start_time": "2023-03-27T19:36:39.197Z"
   },
   {
    "duration": 17,
    "start_time": "2023-03-27T19:36:48.446Z"
   },
   {
    "duration": 13,
    "start_time": "2023-03-27T19:40:11.950Z"
   },
   {
    "duration": 17,
    "start_time": "2023-03-27T19:41:11.693Z"
   },
   {
    "duration": 14,
    "start_time": "2023-03-27T19:41:46.206Z"
   },
   {
    "duration": 27,
    "start_time": "2023-03-27T19:42:17.208Z"
   },
   {
    "duration": 16,
    "start_time": "2023-03-27T19:42:24.162Z"
   },
   {
    "duration": 28,
    "start_time": "2023-03-27T19:42:44.500Z"
   },
   {
    "duration": 229925,
    "start_time": "2023-03-27T19:42:58.684Z"
   },
   {
    "duration": 0,
    "start_time": "2023-03-27T19:46:48.611Z"
   },
   {
    "duration": 168915,
    "start_time": "2023-03-27T19:46:55.888Z"
   },
   {
    "duration": 0,
    "start_time": "2023-03-27T19:49:44.805Z"
   },
   {
    "duration": 13,
    "start_time": "2023-03-27T19:49:48.004Z"
   },
   {
    "duration": 3,
    "start_time": "2023-03-27T19:50:39.708Z"
   },
   {
    "duration": 14,
    "start_time": "2023-03-27T19:50:51.225Z"
   },
   {
    "duration": 11,
    "start_time": "2023-03-27T19:51:06.465Z"
   },
   {
    "duration": 68625,
    "start_time": "2023-03-27T19:51:10.192Z"
   },
   {
    "duration": 56738,
    "start_time": "2023-03-27T19:52:24.283Z"
   },
   {
    "duration": 0,
    "start_time": "2023-03-27T19:53:21.022Z"
   },
   {
    "duration": 0,
    "start_time": "2023-03-27T19:53:21.023Z"
   },
   {
    "duration": 0,
    "start_time": "2023-03-27T19:53:21.025Z"
   },
   {
    "duration": 16073,
    "start_time": "2023-03-27T19:53:24.446Z"
   },
   {
    "duration": 3,
    "start_time": "2023-03-27T19:53:41.659Z"
   },
   {
    "duration": 3,
    "start_time": "2023-03-27T19:53:42.125Z"
   },
   {
    "duration": 785508,
    "start_time": "2023-03-27T19:53:42.705Z"
   },
   {
    "duration": 0,
    "start_time": "2023-03-27T20:06:48.216Z"
   },
   {
    "duration": 0,
    "start_time": "2023-03-27T20:06:48.220Z"
   },
   {
    "duration": 456426,
    "start_time": "2023-03-27T20:06:57.492Z"
   },
   {
    "duration": 1476,
    "start_time": "2023-03-27T20:15:38.276Z"
   },
   {
    "duration": 47,
    "start_time": "2023-03-27T20:15:39.755Z"
   },
   {
    "duration": 13,
    "start_time": "2023-03-27T20:15:39.803Z"
   },
   {
    "duration": 12,
    "start_time": "2023-03-27T20:15:39.818Z"
   },
   {
    "duration": 10,
    "start_time": "2023-03-27T20:15:39.832Z"
   },
   {
    "duration": 6,
    "start_time": "2023-03-27T20:15:39.844Z"
   },
   {
    "duration": 11,
    "start_time": "2023-03-27T20:15:39.852Z"
   },
   {
    "duration": 47,
    "start_time": "2023-03-27T20:15:39.865Z"
   },
   {
    "duration": 11,
    "start_time": "2023-03-27T20:15:39.915Z"
   },
   {
    "duration": 5,
    "start_time": "2023-03-27T20:15:39.930Z"
   },
   {
    "duration": 4,
    "start_time": "2023-03-27T20:15:39.937Z"
   },
   {
    "duration": 23,
    "start_time": "2023-03-27T20:15:39.943Z"
   },
   {
    "duration": 4,
    "start_time": "2023-03-27T20:15:39.969Z"
   },
   {
    "duration": 37,
    "start_time": "2023-03-27T20:15:39.974Z"
   },
   {
    "duration": 166,
    "start_time": "2023-03-27T20:15:40.014Z"
   },
   {
    "duration": 152,
    "start_time": "2023-03-27T20:15:40.182Z"
   },
   {
    "duration": 145,
    "start_time": "2023-03-27T20:15:40.336Z"
   },
   {
    "duration": 208,
    "start_time": "2023-03-27T20:15:40.483Z"
   },
   {
    "duration": 15,
    "start_time": "2023-03-27T20:15:40.693Z"
   },
   {
    "duration": 238,
    "start_time": "2023-03-27T20:15:40.710Z"
   },
   {
    "duration": 248,
    "start_time": "2023-03-27T20:15:40.950Z"
   },
   {
    "duration": 171,
    "start_time": "2023-03-27T20:15:41.203Z"
   },
   {
    "duration": 235,
    "start_time": "2023-03-27T20:15:41.376Z"
   },
   {
    "duration": 2,
    "start_time": "2023-03-27T20:15:41.613Z"
   },
   {
    "duration": 11,
    "start_time": "2023-03-27T20:15:41.617Z"
   },
   {
    "duration": 7,
    "start_time": "2023-03-27T20:15:41.630Z"
   },
   {
    "duration": 12,
    "start_time": "2023-03-27T20:15:41.639Z"
   },
   {
    "duration": 51,
    "start_time": "2023-03-27T20:15:41.654Z"
   },
   {
    "duration": 6,
    "start_time": "2023-03-27T20:15:41.707Z"
   },
   {
    "duration": 801,
    "start_time": "2023-03-27T20:15:41.715Z"
   },
   {
    "duration": 126,
    "start_time": "2023-03-27T20:15:42.518Z"
   },
   {
    "duration": 0,
    "start_time": "2023-03-27T20:15:42.646Z"
   },
   {
    "duration": 0,
    "start_time": "2023-03-27T20:15:42.647Z"
   },
   {
    "duration": 0,
    "start_time": "2023-03-27T20:15:42.648Z"
   },
   {
    "duration": 0,
    "start_time": "2023-03-27T20:15:42.649Z"
   },
   {
    "duration": 0,
    "start_time": "2023-03-27T20:15:42.651Z"
   },
   {
    "duration": 0,
    "start_time": "2023-03-27T20:15:42.652Z"
   },
   {
    "duration": 0,
    "start_time": "2023-03-27T20:15:42.653Z"
   },
   {
    "duration": 0,
    "start_time": "2023-03-27T20:15:42.654Z"
   },
   {
    "duration": 0,
    "start_time": "2023-03-27T20:15:42.656Z"
   },
   {
    "duration": 5,
    "start_time": "2023-03-27T20:26:53.307Z"
   },
   {
    "duration": 5,
    "start_time": "2023-03-27T20:26:54.198Z"
   },
   {
    "duration": 8,
    "start_time": "2023-03-27T20:26:54.533Z"
   },
   {
    "duration": 17,
    "start_time": "2023-03-27T20:26:55.545Z"
   },
   {
    "duration": 3,
    "start_time": "2023-03-27T20:27:03.964Z"
   },
   {
    "duration": 619,
    "start_time": "2023-03-27T20:27:04.205Z"
   },
   {
    "duration": 11,
    "start_time": "2023-03-27T20:27:04.826Z"
   },
   {
    "duration": 3122,
    "start_time": "2023-03-27T20:27:53.898Z"
   },
   {
    "duration": 651,
    "start_time": "2023-03-27T20:39:34.167Z"
   },
   {
    "duration": 91,
    "start_time": "2023-03-27T20:39:34.819Z"
   },
   {
    "duration": 3,
    "start_time": "2023-03-27T20:39:37.855Z"
   },
   {
    "duration": 3,
    "start_time": "2023-03-27T20:39:38.348Z"
   },
   {
    "duration": 18288,
    "start_time": "2023-03-27T20:39:39.126Z"
   },
   {
    "duration": 679,
    "start_time": "2023-03-27T20:43:30.529Z"
   },
   {
    "duration": 642,
    "start_time": "2023-03-27T20:43:33.970Z"
   },
   {
    "duration": 11,
    "start_time": "2023-03-27T20:43:48.568Z"
   },
   {
    "duration": 5,
    "start_time": "2023-03-27T20:44:34.644Z"
   },
   {
    "duration": 4,
    "start_time": "2023-03-27T20:44:39.566Z"
   },
   {
    "duration": 259,
    "start_time": "2023-03-27T20:44:51.864Z"
   },
   {
    "duration": 5,
    "start_time": "2023-03-27T20:45:18.264Z"
   },
   {
    "duration": 183,
    "start_time": "2023-03-27T20:45:26.064Z"
   },
   {
    "duration": 337,
    "start_time": "2023-03-27T20:46:19.238Z"
   },
   {
    "duration": 12,
    "start_time": "2023-03-27T20:48:30.854Z"
   },
   {
    "duration": 11,
    "start_time": "2023-03-27T20:48:39.343Z"
   },
   {
    "duration": 14,
    "start_time": "2023-03-27T20:49:01.701Z"
   },
   {
    "duration": 254,
    "start_time": "2023-03-27T20:49:15.963Z"
   },
   {
    "duration": 99,
    "start_time": "2023-03-27T20:51:14.567Z"
   },
   {
    "duration": 1687,
    "start_time": "2023-03-29T13:36:32.702Z"
   },
   {
    "duration": 140,
    "start_time": "2023-03-29T13:36:34.391Z"
   },
   {
    "duration": 11,
    "start_time": "2023-03-29T13:36:34.533Z"
   },
   {
    "duration": 11,
    "start_time": "2023-03-29T13:36:34.546Z"
   },
   {
    "duration": 11,
    "start_time": "2023-03-29T13:36:34.560Z"
   },
   {
    "duration": 17,
    "start_time": "2023-03-29T13:36:34.573Z"
   },
   {
    "duration": 13,
    "start_time": "2023-03-29T13:36:34.591Z"
   },
   {
    "duration": 19,
    "start_time": "2023-03-29T13:36:34.605Z"
   },
   {
    "duration": 8,
    "start_time": "2023-03-29T13:36:34.626Z"
   },
   {
    "duration": 4,
    "start_time": "2023-03-29T13:36:34.636Z"
   },
   {
    "duration": 6,
    "start_time": "2023-03-29T13:36:34.642Z"
   },
   {
    "duration": 19,
    "start_time": "2023-03-29T13:36:34.649Z"
   },
   {
    "duration": 19,
    "start_time": "2023-03-29T13:36:34.670Z"
   },
   {
    "duration": 4,
    "start_time": "2023-03-29T13:36:34.692Z"
   },
   {
    "duration": 154,
    "start_time": "2023-03-29T13:36:34.697Z"
   },
   {
    "duration": 126,
    "start_time": "2023-03-29T13:36:34.852Z"
   },
   {
    "duration": 149,
    "start_time": "2023-03-29T13:36:34.979Z"
   },
   {
    "duration": 206,
    "start_time": "2023-03-29T13:36:35.130Z"
   },
   {
    "duration": 7,
    "start_time": "2023-03-29T13:36:35.337Z"
   },
   {
    "duration": 226,
    "start_time": "2023-03-29T13:36:35.346Z"
   },
   {
    "duration": 233,
    "start_time": "2023-03-29T13:36:35.574Z"
   },
   {
    "duration": 166,
    "start_time": "2023-03-29T13:36:35.809Z"
   },
   {
    "duration": 236,
    "start_time": "2023-03-29T13:36:35.977Z"
   },
   {
    "duration": 3,
    "start_time": "2023-03-29T13:36:36.215Z"
   },
   {
    "duration": 7,
    "start_time": "2023-03-29T13:36:36.219Z"
   },
   {
    "duration": 14,
    "start_time": "2023-03-29T13:36:36.228Z"
   },
   {
    "duration": 13,
    "start_time": "2023-03-29T13:36:36.244Z"
   },
   {
    "duration": 131,
    "start_time": "2023-03-29T13:36:36.259Z"
   },
   {
    "duration": 5,
    "start_time": "2023-03-29T13:36:36.392Z"
   },
   {
    "duration": 746,
    "start_time": "2023-03-29T13:36:36.403Z"
   },
   {
    "duration": 3123,
    "start_time": "2023-03-29T13:36:37.153Z"
   },
   {
    "duration": 1668,
    "start_time": "2023-03-29T13:58:47.362Z"
   },
   {
    "duration": 46,
    "start_time": "2023-03-29T13:58:49.032Z"
   },
   {
    "duration": 13,
    "start_time": "2023-03-29T13:58:49.080Z"
   },
   {
    "duration": 20,
    "start_time": "2023-03-29T13:58:49.094Z"
   },
   {
    "duration": 11,
    "start_time": "2023-03-29T13:58:49.116Z"
   },
   {
    "duration": 13,
    "start_time": "2023-03-29T13:58:49.129Z"
   },
   {
    "duration": 5,
    "start_time": "2023-03-29T13:58:49.145Z"
   },
   {
    "duration": 11,
    "start_time": "2023-03-29T13:58:49.485Z"
   },
   {
    "duration": 9,
    "start_time": "2023-03-29T13:58:49.677Z"
   },
   {
    "duration": 4,
    "start_time": "2023-03-29T13:58:49.877Z"
   },
   {
    "duration": 4,
    "start_time": "2023-03-29T13:58:51.013Z"
   },
   {
    "duration": 21,
    "start_time": "2023-03-29T13:58:51.630Z"
   },
   {
    "duration": 6,
    "start_time": "2023-03-29T13:58:51.813Z"
   },
   {
    "duration": 18,
    "start_time": "2023-03-29T14:01:32.551Z"
   },
   {
    "duration": 17,
    "start_time": "2023-03-29T14:01:44.703Z"
   },
   {
    "duration": 14,
    "start_time": "2023-03-29T14:01:45.641Z"
   },
   {
    "duration": 109,
    "start_time": "2023-03-29T14:01:46.290Z"
   },
   {
    "duration": 10,
    "start_time": "2023-03-29T14:03:34.373Z"
   },
   {
    "duration": 23,
    "start_time": "2023-03-29T14:03:41.158Z"
   },
   {
    "duration": 21,
    "start_time": "2023-03-29T14:03:52.392Z"
   },
   {
    "duration": 28,
    "start_time": "2023-03-29T14:04:06.826Z"
   },
   {
    "duration": 6,
    "start_time": "2023-03-29T14:05:08.386Z"
   },
   {
    "duration": 44,
    "start_time": "2023-03-29T14:05:08.957Z"
   },
   {
    "duration": 9,
    "start_time": "2023-03-29T14:05:09.121Z"
   },
   {
    "duration": 11,
    "start_time": "2023-03-29T14:05:09.304Z"
   },
   {
    "duration": 10,
    "start_time": "2023-03-29T14:05:09.488Z"
   },
   {
    "duration": 6,
    "start_time": "2023-03-29T14:05:09.696Z"
   },
   {
    "duration": 4,
    "start_time": "2023-03-29T14:05:09.912Z"
   },
   {
    "duration": 9,
    "start_time": "2023-03-29T14:05:10.394Z"
   },
   {
    "duration": 13,
    "start_time": "2023-03-29T14:05:10.624Z"
   },
   {
    "duration": 4,
    "start_time": "2023-03-29T14:05:10.848Z"
   },
   {
    "duration": 5,
    "start_time": "2023-03-29T14:06:20.862Z"
   },
   {
    "duration": 20,
    "start_time": "2023-03-29T14:06:22.928Z"
   },
   {
    "duration": 20,
    "start_time": "2023-03-29T14:06:28.887Z"
   },
   {
    "duration": 9,
    "start_time": "2023-03-29T14:06:40.486Z"
   },
   {
    "duration": 4,
    "start_time": "2023-03-29T14:07:41.338Z"
   },
   {
    "duration": 14,
    "start_time": "2023-03-29T14:07:42.122Z"
   },
   {
    "duration": 27,
    "start_time": "2023-03-29T14:07:50.907Z"
   },
   {
    "duration": 5,
    "start_time": "2023-03-29T14:08:04.260Z"
   },
   {
    "duration": 3,
    "start_time": "2023-03-29T14:08:06.404Z"
   },
   {
    "duration": 129,
    "start_time": "2023-03-29T14:08:13.261Z"
   },
   {
    "duration": 125,
    "start_time": "2023-03-29T14:08:13.677Z"
   },
   {
    "duration": 148,
    "start_time": "2023-03-29T14:08:14.340Z"
   },
   {
    "duration": 182,
    "start_time": "2023-03-29T14:08:16.958Z"
   },
   {
    "duration": 10,
    "start_time": "2023-03-29T14:08:19.206Z"
   },
   {
    "duration": 218,
    "start_time": "2023-03-29T14:08:19.731Z"
   },
   {
    "duration": 73,
    "start_time": "2023-03-29T14:09:18.845Z"
   },
   {
    "duration": 122,
    "start_time": "2023-03-29T14:09:30.313Z"
   },
   {
    "duration": 124,
    "start_time": "2023-03-29T14:09:30.679Z"
   },
   {
    "duration": 111,
    "start_time": "2023-03-29T14:09:31.166Z"
   },
   {
    "duration": 6,
    "start_time": "2023-03-29T14:09:32.582Z"
   },
   {
    "duration": 202,
    "start_time": "2023-03-29T14:09:33.174Z"
   },
   {
    "duration": 216,
    "start_time": "2023-03-29T14:09:33.878Z"
   },
   {
    "duration": 163,
    "start_time": "2023-03-29T14:09:37.055Z"
   },
   {
    "duration": 309,
    "start_time": "2023-03-29T14:09:37.929Z"
   },
   {
    "duration": 2,
    "start_time": "2023-03-29T14:09:40.744Z"
   },
   {
    "duration": 4,
    "start_time": "2023-03-29T14:12:40.699Z"
   },
   {
    "duration": 5,
    "start_time": "2023-03-29T14:12:41.419Z"
   },
   {
    "duration": 9,
    "start_time": "2023-03-29T14:12:41.745Z"
   },
   {
    "duration": 134,
    "start_time": "2023-03-29T14:12:42.483Z"
   },
   {
    "duration": 78,
    "start_time": "2023-03-29T14:29:14.164Z"
   },
   {
    "duration": 8,
    "start_time": "2023-03-29T14:35:32.241Z"
   },
   {
    "duration": 10,
    "start_time": "2023-03-29T14:35:56.451Z"
   },
   {
    "duration": 4,
    "start_time": "2023-03-29T14:36:08.811Z"
   },
   {
    "duration": 7,
    "start_time": "2023-03-29T14:37:00.498Z"
   },
   {
    "duration": 12,
    "start_time": "2023-03-29T14:37:00.874Z"
   },
   {
    "duration": 4,
    "start_time": "2023-03-29T14:37:01.316Z"
   },
   {
    "duration": 4,
    "start_time": "2023-03-29T14:37:34.253Z"
   },
   {
    "duration": 7,
    "start_time": "2023-03-29T14:38:16.002Z"
   },
   {
    "duration": 9,
    "start_time": "2023-03-29T14:38:16.290Z"
   },
   {
    "duration": 4,
    "start_time": "2023-03-29T14:38:16.672Z"
   },
   {
    "duration": 17,
    "start_time": "2023-03-29T14:38:23.273Z"
   },
   {
    "duration": 11,
    "start_time": "2023-03-29T14:38:29.940Z"
   },
   {
    "duration": 4,
    "start_time": "2023-03-29T14:38:45.878Z"
   },
   {
    "duration": 5,
    "start_time": "2023-03-29T14:39:16.193Z"
   },
   {
    "duration": 5,
    "start_time": "2023-03-29T14:42:39.852Z"
   },
   {
    "duration": 20,
    "start_time": "2023-03-29T14:42:41.193Z"
   },
   {
    "duration": 3,
    "start_time": "2023-03-29T14:42:48.202Z"
   },
   {
    "duration": 535,
    "start_time": "2023-03-29T14:42:48.609Z"
   },
   {
    "duration": 443,
    "start_time": "2023-03-29T14:43:02.973Z"
   },
   {
    "duration": 2413,
    "start_time": "2023-03-29T14:43:12.285Z"
   },
   {
    "duration": 846,
    "start_time": "2023-03-29T14:47:00.743Z"
   },
   {
    "duration": 10,
    "start_time": "2023-03-29T14:47:05.130Z"
   },
   {
    "duration": 674,
    "start_time": "2023-03-29T14:51:40.326Z"
   },
   {
    "duration": 108,
    "start_time": "2023-03-30T09:22:50.039Z"
   },
   {
    "duration": 1758,
    "start_time": "2023-03-30T10:12:03.095Z"
   },
   {
    "duration": 241,
    "start_time": "2023-03-30T10:12:04.855Z"
   },
   {
    "duration": 12,
    "start_time": "2023-03-30T10:12:05.098Z"
   },
   {
    "duration": 12,
    "start_time": "2023-03-30T10:12:05.113Z"
   },
   {
    "duration": 11,
    "start_time": "2023-03-30T10:12:05.127Z"
   },
   {
    "duration": 6,
    "start_time": "2023-03-30T10:12:05.140Z"
   },
   {
    "duration": 19,
    "start_time": "2023-03-30T10:12:05.149Z"
   },
   {
    "duration": 10,
    "start_time": "2023-03-30T10:12:05.170Z"
   },
   {
    "duration": 11,
    "start_time": "2023-03-30T10:12:05.182Z"
   },
   {
    "duration": 4,
    "start_time": "2023-03-30T10:12:10.460Z"
   },
   {
    "duration": 6,
    "start_time": "2023-03-30T10:12:12.892Z"
   },
   {
    "duration": 137,
    "start_time": "2023-03-30T10:12:15.808Z"
   },
   {
    "duration": 17,
    "start_time": "2023-03-30T10:12:18.491Z"
   },
   {
    "duration": 17,
    "start_time": "2023-03-30T10:12:18.854Z"
   },
   {
    "duration": 14,
    "start_time": "2023-03-30T10:12:19.741Z"
   },
   {
    "duration": 14,
    "start_time": "2023-03-30T10:13:04.322Z"
   },
   {
    "duration": 18,
    "start_time": "2023-03-30T10:13:04.691Z"
   },
   {
    "duration": 4,
    "start_time": "2023-03-30T10:13:07.364Z"
   },
   {
    "duration": 3,
    "start_time": "2023-03-30T10:13:07.515Z"
   },
   {
    "duration": 8,
    "start_time": "2023-03-30T10:13:07.730Z"
   },
   {
    "duration": 124,
    "start_time": "2023-03-30T10:13:09.467Z"
   },
   {
    "duration": 119,
    "start_time": "2023-03-30T10:13:09.794Z"
   },
   {
    "duration": 115,
    "start_time": "2023-03-30T10:13:10.210Z"
   },
   {
    "duration": 179,
    "start_time": "2023-03-30T10:13:10.394Z"
   },
   {
    "duration": 6,
    "start_time": "2023-03-30T10:13:11.117Z"
   },
   {
    "duration": 196,
    "start_time": "2023-03-30T10:13:11.290Z"
   },
   {
    "duration": 218,
    "start_time": "2023-03-30T10:13:13.243Z"
   },
   {
    "duration": 148,
    "start_time": "2023-03-30T10:13:13.463Z"
   },
   {
    "duration": 214,
    "start_time": "2023-03-30T10:13:13.613Z"
   },
   {
    "duration": 11,
    "start_time": "2023-03-30T10:13:13.829Z"
   },
   {
    "duration": 5,
    "start_time": "2023-03-30T10:13:20.347Z"
   },
   {
    "duration": 6,
    "start_time": "2023-03-30T10:13:22.404Z"
   },
   {
    "duration": 12,
    "start_time": "2023-03-30T10:13:23.780Z"
   },
   {
    "duration": 5,
    "start_time": "2023-03-30T10:13:24.279Z"
   },
   {
    "duration": 17,
    "start_time": "2023-03-30T10:18:38.920Z"
   },
   {
    "duration": 18,
    "start_time": "2023-03-30T10:18:55.635Z"
   },
   {
    "duration": 25,
    "start_time": "2023-03-30T10:21:46.190Z"
   },
   {
    "duration": 13,
    "start_time": "2023-03-30T10:22:05.792Z"
   },
   {
    "duration": 16,
    "start_time": "2023-03-30T10:23:16.223Z"
   },
   {
    "duration": 53,
    "start_time": "2023-03-30T10:24:55.012Z"
   },
   {
    "duration": 37,
    "start_time": "2023-03-30T10:25:02.460Z"
   },
   {
    "duration": 19,
    "start_time": "2023-03-30T10:25:27.655Z"
   },
   {
    "duration": 21,
    "start_time": "2023-03-30T10:25:40.578Z"
   },
   {
    "duration": 9,
    "start_time": "2023-03-30T10:25:55.818Z"
   },
   {
    "duration": 32,
    "start_time": "2023-03-30T10:25:57.850Z"
   },
   {
    "duration": 21,
    "start_time": "2023-03-30T10:27:01.067Z"
   },
   {
    "duration": 6,
    "start_time": "2023-03-30T10:27:26.901Z"
   },
   {
    "duration": 22,
    "start_time": "2023-03-30T10:27:27.542Z"
   },
   {
    "duration": 14,
    "start_time": "2023-03-30T10:27:41.350Z"
   },
   {
    "duration": 14,
    "start_time": "2023-03-30T10:27:42.022Z"
   },
   {
    "duration": 5,
    "start_time": "2023-03-30T10:31:05.894Z"
   },
   {
    "duration": 15253,
    "start_time": "2023-03-30T10:31:18.787Z"
   },
   {
    "duration": 5,
    "start_time": "2023-03-30T10:33:42.286Z"
   },
   {
    "duration": 1560,
    "start_time": "2023-03-30T10:33:47.480Z"
   },
   {
    "duration": 10,
    "start_time": "2023-03-30T10:36:22.955Z"
   },
   {
    "duration": 125,
    "start_time": "2023-03-30T10:37:13.122Z"
   },
   {
    "duration": 118,
    "start_time": "2023-03-30T10:37:24.694Z"
   },
   {
    "duration": 380,
    "start_time": "2023-03-30T10:37:33.490Z"
   },
   {
    "duration": 202,
    "start_time": "2023-03-30T10:38:00.727Z"
   },
   {
    "duration": 215,
    "start_time": "2023-03-30T10:38:08.733Z"
   },
   {
    "duration": 277,
    "start_time": "2023-03-30T10:38:31.776Z"
   },
   {
    "duration": 7,
    "start_time": "2023-03-30T10:38:39.921Z"
   },
   {
    "duration": 294,
    "start_time": "2023-03-30T10:38:52.131Z"
   },
   {
    "duration": 158,
    "start_time": "2023-03-30T10:38:56.060Z"
   },
   {
    "duration": 274,
    "start_time": "2023-03-30T10:39:00.307Z"
   },
   {
    "duration": 227,
    "start_time": "2023-03-30T10:39:07.860Z"
   }
  ],
  "kernelspec": {
   "display_name": "Python 3 (ipykernel)",
   "language": "python",
   "name": "python3"
  },
  "language_info": {
   "codemirror_mode": {
    "name": "ipython",
    "version": 3
   },
   "file_extension": ".py",
   "mimetype": "text/x-python",
   "name": "python",
   "nbconvert_exporter": "python",
   "pygments_lexer": "ipython3",
   "version": "3.9.5"
  },
  "toc": {
   "base_numbering": 1,
   "nav_menu": {},
   "number_sections": true,
   "sideBar": true,
   "skip_h1_title": true,
   "title_cell": "Table of Contents",
   "title_sidebar": "Contents",
   "toc_cell": false,
   "toc_position": {},
   "toc_section_display": true,
   "toc_window_display": false
  }
 },
 "nbformat": 4,
 "nbformat_minor": 5
}
